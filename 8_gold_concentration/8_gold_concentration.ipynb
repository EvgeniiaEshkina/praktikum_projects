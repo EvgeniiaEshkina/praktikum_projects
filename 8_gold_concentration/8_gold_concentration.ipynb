{
 "cells": [
  {
   "cell_type": "markdown",
   "metadata": {},
   "source": [
    "# Восстановление золота из руды"
   ]
  },
  {
   "cell_type": "markdown",
   "metadata": {},
   "source": [
    "Необходимо подготовить прототип модели машинного обучения для «Цифры». Компания разрабатывает решения для эффективной работы промышленных предприятий.\n",
    "\n",
    "Модель должна предсказать коэффициент восстановления золота из золотосодержащей руды. Предоставлены данные с параметрами добычи и очистки. \n",
    "\n",
    "Модель поможет оптимизировать производство, чтобы не запускать предприятие с убыточными характеристиками."
   ]
  },
  {
   "cell_type": "markdown",
   "metadata": {},
   "source": [
    "## Подготовка данных"
   ]
  },
  {
   "cell_type": "markdown",
   "metadata": {},
   "source": [
    "Импортируем необходимые библиотеки."
   ]
  },
  {
   "cell_type": "code",
   "execution_count": 1,
   "metadata": {},
   "outputs": [],
   "source": [
    "import pandas as pd\n",
    "import numpy as np\n",
    "\n",
    "from sklearn.linear_model import LinearRegression\n",
    "from sklearn.tree import DecisionTreeRegressor\n",
    "from sklearn.ensemble import RandomForestRegressor\n",
    "from sklearn.metrics import mean_absolute_error\n",
    "from sklearn.model_selection import train_test_split\n",
    "from sklearn.preprocessing import StandardScaler\n",
    "from sklearn.model_selection import cross_val_score\n",
    "from sklearn.metrics import make_scorer\n",
    "from sklearn.model_selection import GridSearchCV\n",
    "from sklearn.model_selection import RandomizedSearchCV\n",
    "from sklearn.dummy import DummyRegressor\n",
    "\n",
    "import matplotlib.pyplot as plt\n",
    "\n",
    "import warnings\n",
    "warnings.filterwarnings('ignore')"
   ]
  },
  {
   "cell_type": "markdown",
   "metadata": {},
   "source": [
    "Импортируем данные."
   ]
  },
  {
   "cell_type": "code",
   "execution_count": 2,
   "metadata": {},
   "outputs": [],
   "source": [
    "data_train = pd.read_csv('/datasets/gold_recovery_train_new.csv')\n",
    "data_test = pd.read_csv('/datasets/gold_recovery_test_new.csv')\n",
    "data_full = pd.read_csv('/datasets/gold_recovery_full_new.csv')"
   ]
  },
  {
   "cell_type": "markdown",
   "metadata": {},
   "source": [
    "Ознакомимся с данными."
   ]
  },
  {
   "cell_type": "code",
   "execution_count": 3,
   "metadata": {
    "scrolled": false
   },
   "outputs": [
    {
     "data": {
      "text/html": [
       "<div>\n",
       "<style scoped>\n",
       "    .dataframe tbody tr th:only-of-type {\n",
       "        vertical-align: middle;\n",
       "    }\n",
       "\n",
       "    .dataframe tbody tr th {\n",
       "        vertical-align: top;\n",
       "    }\n",
       "\n",
       "    .dataframe thead th {\n",
       "        text-align: right;\n",
       "    }\n",
       "</style>\n",
       "<table border=\"1\" class=\"dataframe\">\n",
       "  <thead>\n",
       "    <tr style=\"text-align: right;\">\n",
       "      <th></th>\n",
       "      <th>date</th>\n",
       "      <th>final.output.concentrate_ag</th>\n",
       "      <th>final.output.concentrate_pb</th>\n",
       "      <th>final.output.concentrate_sol</th>\n",
       "      <th>final.output.concentrate_au</th>\n",
       "      <th>final.output.recovery</th>\n",
       "      <th>final.output.tail_ag</th>\n",
       "      <th>final.output.tail_pb</th>\n",
       "      <th>final.output.tail_sol</th>\n",
       "      <th>final.output.tail_au</th>\n",
       "      <th>...</th>\n",
       "      <th>secondary_cleaner.state.floatbank4_a_air</th>\n",
       "      <th>secondary_cleaner.state.floatbank4_a_level</th>\n",
       "      <th>secondary_cleaner.state.floatbank4_b_air</th>\n",
       "      <th>secondary_cleaner.state.floatbank4_b_level</th>\n",
       "      <th>secondary_cleaner.state.floatbank5_a_air</th>\n",
       "      <th>secondary_cleaner.state.floatbank5_a_level</th>\n",
       "      <th>secondary_cleaner.state.floatbank5_b_air</th>\n",
       "      <th>secondary_cleaner.state.floatbank5_b_level</th>\n",
       "      <th>secondary_cleaner.state.floatbank6_a_air</th>\n",
       "      <th>secondary_cleaner.state.floatbank6_a_level</th>\n",
       "    </tr>\n",
       "  </thead>\n",
       "  <tbody>\n",
       "    <tr>\n",
       "      <th>0</th>\n",
       "      <td>2016-01-15 00:00:00</td>\n",
       "      <td>6.055403</td>\n",
       "      <td>9.889648</td>\n",
       "      <td>5.507324</td>\n",
       "      <td>42.192020</td>\n",
       "      <td>70.541216</td>\n",
       "      <td>10.411962</td>\n",
       "      <td>0.895447</td>\n",
       "      <td>16.904297</td>\n",
       "      <td>2.143149</td>\n",
       "      <td>...</td>\n",
       "      <td>14.016835</td>\n",
       "      <td>-502.488007</td>\n",
       "      <td>12.099931</td>\n",
       "      <td>-504.715942</td>\n",
       "      <td>9.925633</td>\n",
       "      <td>-498.310211</td>\n",
       "      <td>8.079666</td>\n",
       "      <td>-500.470978</td>\n",
       "      <td>14.151341</td>\n",
       "      <td>-605.841980</td>\n",
       "    </tr>\n",
       "    <tr>\n",
       "      <th>1</th>\n",
       "      <td>2016-01-15 01:00:00</td>\n",
       "      <td>6.029369</td>\n",
       "      <td>9.968944</td>\n",
       "      <td>5.257781</td>\n",
       "      <td>42.701629</td>\n",
       "      <td>69.266198</td>\n",
       "      <td>10.462676</td>\n",
       "      <td>0.927452</td>\n",
       "      <td>16.634514</td>\n",
       "      <td>2.224930</td>\n",
       "      <td>...</td>\n",
       "      <td>13.992281</td>\n",
       "      <td>-505.503262</td>\n",
       "      <td>11.950531</td>\n",
       "      <td>-501.331529</td>\n",
       "      <td>10.039245</td>\n",
       "      <td>-500.169983</td>\n",
       "      <td>7.984757</td>\n",
       "      <td>-500.582168</td>\n",
       "      <td>13.998353</td>\n",
       "      <td>-599.787184</td>\n",
       "    </tr>\n",
       "    <tr>\n",
       "      <th>2</th>\n",
       "      <td>2016-01-15 02:00:00</td>\n",
       "      <td>6.055926</td>\n",
       "      <td>10.213995</td>\n",
       "      <td>5.383759</td>\n",
       "      <td>42.657501</td>\n",
       "      <td>68.116445</td>\n",
       "      <td>10.507046</td>\n",
       "      <td>0.953716</td>\n",
       "      <td>16.208849</td>\n",
       "      <td>2.257889</td>\n",
       "      <td>...</td>\n",
       "      <td>14.015015</td>\n",
       "      <td>-502.520901</td>\n",
       "      <td>11.912783</td>\n",
       "      <td>-501.133383</td>\n",
       "      <td>10.070913</td>\n",
       "      <td>-500.129135</td>\n",
       "      <td>8.013877</td>\n",
       "      <td>-500.517572</td>\n",
       "      <td>14.028663</td>\n",
       "      <td>-601.427363</td>\n",
       "    </tr>\n",
       "    <tr>\n",
       "      <th>3</th>\n",
       "      <td>2016-01-15 03:00:00</td>\n",
       "      <td>6.047977</td>\n",
       "      <td>9.977019</td>\n",
       "      <td>4.858634</td>\n",
       "      <td>42.689819</td>\n",
       "      <td>68.347543</td>\n",
       "      <td>10.422762</td>\n",
       "      <td>0.883763</td>\n",
       "      <td>16.532835</td>\n",
       "      <td>2.146849</td>\n",
       "      <td>...</td>\n",
       "      <td>14.036510</td>\n",
       "      <td>-500.857308</td>\n",
       "      <td>11.999550</td>\n",
       "      <td>-501.193686</td>\n",
       "      <td>9.970366</td>\n",
       "      <td>-499.201640</td>\n",
       "      <td>7.977324</td>\n",
       "      <td>-500.255908</td>\n",
       "      <td>14.005551</td>\n",
       "      <td>-599.996129</td>\n",
       "    </tr>\n",
       "    <tr>\n",
       "      <th>4</th>\n",
       "      <td>2016-01-15 04:00:00</td>\n",
       "      <td>6.148599</td>\n",
       "      <td>10.142511</td>\n",
       "      <td>4.939416</td>\n",
       "      <td>42.774141</td>\n",
       "      <td>66.927016</td>\n",
       "      <td>10.360302</td>\n",
       "      <td>0.792826</td>\n",
       "      <td>16.525686</td>\n",
       "      <td>2.055292</td>\n",
       "      <td>...</td>\n",
       "      <td>14.027298</td>\n",
       "      <td>-499.838632</td>\n",
       "      <td>11.953070</td>\n",
       "      <td>-501.053894</td>\n",
       "      <td>9.925709</td>\n",
       "      <td>-501.686727</td>\n",
       "      <td>7.894242</td>\n",
       "      <td>-500.356035</td>\n",
       "      <td>13.996647</td>\n",
       "      <td>-601.496691</td>\n",
       "    </tr>\n",
       "  </tbody>\n",
       "</table>\n",
       "<p>5 rows × 87 columns</p>\n",
       "</div>"
      ],
      "text/plain": [
       "                  date  final.output.concentrate_ag  \\\n",
       "0  2016-01-15 00:00:00                     6.055403   \n",
       "1  2016-01-15 01:00:00                     6.029369   \n",
       "2  2016-01-15 02:00:00                     6.055926   \n",
       "3  2016-01-15 03:00:00                     6.047977   \n",
       "4  2016-01-15 04:00:00                     6.148599   \n",
       "\n",
       "   final.output.concentrate_pb  final.output.concentrate_sol  \\\n",
       "0                     9.889648                      5.507324   \n",
       "1                     9.968944                      5.257781   \n",
       "2                    10.213995                      5.383759   \n",
       "3                     9.977019                      4.858634   \n",
       "4                    10.142511                      4.939416   \n",
       "\n",
       "   final.output.concentrate_au  final.output.recovery  final.output.tail_ag  \\\n",
       "0                    42.192020              70.541216             10.411962   \n",
       "1                    42.701629              69.266198             10.462676   \n",
       "2                    42.657501              68.116445             10.507046   \n",
       "3                    42.689819              68.347543             10.422762   \n",
       "4                    42.774141              66.927016             10.360302   \n",
       "\n",
       "   final.output.tail_pb  final.output.tail_sol  final.output.tail_au  ...  \\\n",
       "0              0.895447              16.904297              2.143149  ...   \n",
       "1              0.927452              16.634514              2.224930  ...   \n",
       "2              0.953716              16.208849              2.257889  ...   \n",
       "3              0.883763              16.532835              2.146849  ...   \n",
       "4              0.792826              16.525686              2.055292  ...   \n",
       "\n",
       "   secondary_cleaner.state.floatbank4_a_air  \\\n",
       "0                                 14.016835   \n",
       "1                                 13.992281   \n",
       "2                                 14.015015   \n",
       "3                                 14.036510   \n",
       "4                                 14.027298   \n",
       "\n",
       "   secondary_cleaner.state.floatbank4_a_level  \\\n",
       "0                                 -502.488007   \n",
       "1                                 -505.503262   \n",
       "2                                 -502.520901   \n",
       "3                                 -500.857308   \n",
       "4                                 -499.838632   \n",
       "\n",
       "   secondary_cleaner.state.floatbank4_b_air  \\\n",
       "0                                 12.099931   \n",
       "1                                 11.950531   \n",
       "2                                 11.912783   \n",
       "3                                 11.999550   \n",
       "4                                 11.953070   \n",
       "\n",
       "   secondary_cleaner.state.floatbank4_b_level  \\\n",
       "0                                 -504.715942   \n",
       "1                                 -501.331529   \n",
       "2                                 -501.133383   \n",
       "3                                 -501.193686   \n",
       "4                                 -501.053894   \n",
       "\n",
       "   secondary_cleaner.state.floatbank5_a_air  \\\n",
       "0                                  9.925633   \n",
       "1                                 10.039245   \n",
       "2                                 10.070913   \n",
       "3                                  9.970366   \n",
       "4                                  9.925709   \n",
       "\n",
       "   secondary_cleaner.state.floatbank5_a_level  \\\n",
       "0                                 -498.310211   \n",
       "1                                 -500.169983   \n",
       "2                                 -500.129135   \n",
       "3                                 -499.201640   \n",
       "4                                 -501.686727   \n",
       "\n",
       "   secondary_cleaner.state.floatbank5_b_air  \\\n",
       "0                                  8.079666   \n",
       "1                                  7.984757   \n",
       "2                                  8.013877   \n",
       "3                                  7.977324   \n",
       "4                                  7.894242   \n",
       "\n",
       "   secondary_cleaner.state.floatbank5_b_level  \\\n",
       "0                                 -500.470978   \n",
       "1                                 -500.582168   \n",
       "2                                 -500.517572   \n",
       "3                                 -500.255908   \n",
       "4                                 -500.356035   \n",
       "\n",
       "   secondary_cleaner.state.floatbank6_a_air  \\\n",
       "0                                 14.151341   \n",
       "1                                 13.998353   \n",
       "2                                 14.028663   \n",
       "3                                 14.005551   \n",
       "4                                 13.996647   \n",
       "\n",
       "   secondary_cleaner.state.floatbank6_a_level  \n",
       "0                                 -605.841980  \n",
       "1                                 -599.787184  \n",
       "2                                 -601.427363  \n",
       "3                                 -599.996129  \n",
       "4                                 -601.496691  \n",
       "\n",
       "[5 rows x 87 columns]"
      ]
     },
     "execution_count": 3,
     "metadata": {},
     "output_type": "execute_result"
    }
   ],
   "source": [
    "data_full.head()"
   ]
  },
  {
   "cell_type": "code",
   "execution_count": 4,
   "metadata": {},
   "outputs": [
    {
     "name": "stdout",
     "output_type": "stream",
     "text": [
      "<class 'pandas.core.frame.DataFrame'>\n",
      "RangeIndex: 19439 entries, 0 to 19438\n",
      "Data columns (total 87 columns):\n",
      " #   Column                                              Non-Null Count  Dtype  \n",
      "---  ------                                              --------------  -----  \n",
      " 0   date                                                19439 non-null  object \n",
      " 1   final.output.concentrate_ag                         19438 non-null  float64\n",
      " 2   final.output.concentrate_pb                         19438 non-null  float64\n",
      " 3   final.output.concentrate_sol                        19228 non-null  float64\n",
      " 4   final.output.concentrate_au                         19439 non-null  float64\n",
      " 5   final.output.recovery                               19439 non-null  float64\n",
      " 6   final.output.tail_ag                                19438 non-null  float64\n",
      " 7   final.output.tail_pb                                19338 non-null  float64\n",
      " 8   final.output.tail_sol                               19433 non-null  float64\n",
      " 9   final.output.tail_au                                19439 non-null  float64\n",
      " 10  primary_cleaner.input.sulfate                       19415 non-null  float64\n",
      " 11  primary_cleaner.input.depressant                    19402 non-null  float64\n",
      " 12  primary_cleaner.input.feed_size                     19439 non-null  float64\n",
      " 13  primary_cleaner.input.xanthate                      19335 non-null  float64\n",
      " 14  primary_cleaner.output.concentrate_ag               19439 non-null  float64\n",
      " 15  primary_cleaner.output.concentrate_pb               19323 non-null  float64\n",
      " 16  primary_cleaner.output.concentrate_sol              19069 non-null  float64\n",
      " 17  primary_cleaner.output.concentrate_au               19439 non-null  float64\n",
      " 18  primary_cleaner.output.tail_ag                      19435 non-null  float64\n",
      " 19  primary_cleaner.output.tail_pb                      19418 non-null  float64\n",
      " 20  primary_cleaner.output.tail_sol                     19377 non-null  float64\n",
      " 21  primary_cleaner.output.tail_au                      19439 non-null  float64\n",
      " 22  primary_cleaner.state.floatbank8_a_air              19435 non-null  float64\n",
      " 23  primary_cleaner.state.floatbank8_a_level            19438 non-null  float64\n",
      " 24  primary_cleaner.state.floatbank8_b_air              19435 non-null  float64\n",
      " 25  primary_cleaner.state.floatbank8_b_level            19438 non-null  float64\n",
      " 26  primary_cleaner.state.floatbank8_c_air              19437 non-null  float64\n",
      " 27  primary_cleaner.state.floatbank8_c_level            19438 non-null  float64\n",
      " 28  primary_cleaner.state.floatbank8_d_air              19436 non-null  float64\n",
      " 29  primary_cleaner.state.floatbank8_d_level            19438 non-null  float64\n",
      " 30  rougher.calculation.sulfate_to_au_concentrate       19437 non-null  float64\n",
      " 31  rougher.calculation.floatbank10_sulfate_to_au_feed  19437 non-null  float64\n",
      " 32  rougher.calculation.floatbank11_sulfate_to_au_feed  19437 non-null  float64\n",
      " 33  rougher.calculation.au_pb_ratio                     19439 non-null  float64\n",
      " 34  rougher.input.feed_ag                               19439 non-null  float64\n",
      " 35  rougher.input.feed_pb                               19339 non-null  float64\n",
      " 36  rougher.input.feed_rate                             19428 non-null  float64\n",
      " 37  rougher.input.feed_size                             19294 non-null  float64\n",
      " 38  rougher.input.feed_sol                              19340 non-null  float64\n",
      " 39  rougher.input.feed_au                               19439 non-null  float64\n",
      " 40  rougher.input.floatbank10_sulfate                   19405 non-null  float64\n",
      " 41  rougher.input.floatbank10_xanthate                  19431 non-null  float64\n",
      " 42  rougher.input.floatbank11_sulfate                   19395 non-null  float64\n",
      " 43  rougher.input.floatbank11_xanthate                  18986 non-null  float64\n",
      " 44  rougher.output.concentrate_ag                       19439 non-null  float64\n",
      " 45  rougher.output.concentrate_pb                       19439 non-null  float64\n",
      " 46  rougher.output.concentrate_sol                      19416 non-null  float64\n",
      " 47  rougher.output.concentrate_au                       19439 non-null  float64\n",
      " 48  rougher.output.recovery                             19439 non-null  float64\n",
      " 49  rougher.output.tail_ag                              19438 non-null  float64\n",
      " 50  rougher.output.tail_pb                              19439 non-null  float64\n",
      " 51  rougher.output.tail_sol                             19439 non-null  float64\n",
      " 52  rougher.output.tail_au                              19439 non-null  float64\n",
      " 53  rougher.state.floatbank10_a_air                     19438 non-null  float64\n",
      " 54  rougher.state.floatbank10_a_level                   19438 non-null  float64\n",
      " 55  rougher.state.floatbank10_b_air                     19438 non-null  float64\n",
      " 56  rougher.state.floatbank10_b_level                   19438 non-null  float64\n",
      " 57  rougher.state.floatbank10_c_air                     19438 non-null  float64\n",
      " 58  rougher.state.floatbank10_c_level                   19438 non-null  float64\n",
      " 59  rougher.state.floatbank10_d_air                     19439 non-null  float64\n",
      " 60  rougher.state.floatbank10_d_level                   19439 non-null  float64\n",
      " 61  rougher.state.floatbank10_e_air                     19003 non-null  float64\n",
      " 62  rougher.state.floatbank10_e_level                   19439 non-null  float64\n",
      " 63  rougher.state.floatbank10_f_air                     19439 non-null  float64\n",
      " 64  rougher.state.floatbank10_f_level                   19439 non-null  float64\n",
      " 65  secondary_cleaner.output.tail_ag                    19437 non-null  float64\n",
      " 66  secondary_cleaner.output.tail_pb                    19427 non-null  float64\n",
      " 67  secondary_cleaner.output.tail_sol                   17691 non-null  float64\n",
      " 68  secondary_cleaner.output.tail_au                    19439 non-null  float64\n",
      " 69  secondary_cleaner.state.floatbank2_a_air            19219 non-null  float64\n",
      " 70  secondary_cleaner.state.floatbank2_a_level          19438 non-null  float64\n",
      " 71  secondary_cleaner.state.floatbank2_b_air            19416 non-null  float64\n",
      " 72  secondary_cleaner.state.floatbank2_b_level          19438 non-null  float64\n",
      " 73  secondary_cleaner.state.floatbank3_a_air            19426 non-null  float64\n",
      " 74  secondary_cleaner.state.floatbank3_a_level          19438 non-null  float64\n",
      " 75  secondary_cleaner.state.floatbank3_b_air            19438 non-null  float64\n",
      " 76  secondary_cleaner.state.floatbank3_b_level          19438 non-null  float64\n",
      " 77  secondary_cleaner.state.floatbank4_a_air            19433 non-null  float64\n",
      " 78  secondary_cleaner.state.floatbank4_a_level          19438 non-null  float64\n",
      " 79  secondary_cleaner.state.floatbank4_b_air            19438 non-null  float64\n",
      " 80  secondary_cleaner.state.floatbank4_b_level          19438 non-null  float64\n",
      " 81  secondary_cleaner.state.floatbank5_a_air            19438 non-null  float64\n",
      " 82  secondary_cleaner.state.floatbank5_a_level          19438 non-null  float64\n",
      " 83  secondary_cleaner.state.floatbank5_b_air            19438 non-null  float64\n",
      " 84  secondary_cleaner.state.floatbank5_b_level          19438 non-null  float64\n",
      " 85  secondary_cleaner.state.floatbank6_a_air            19437 non-null  float64\n",
      " 86  secondary_cleaner.state.floatbank6_a_level          19438 non-null  float64\n",
      "dtypes: float64(86), object(1)\n",
      "memory usage: 12.9+ MB\n"
     ]
    }
   ],
   "source": [
    "data_full.info()"
   ]
  },
  {
   "cell_type": "code",
   "execution_count": 5,
   "metadata": {
    "scrolled": false
   },
   "outputs": [
    {
     "data": {
      "text/html": [
       "<div>\n",
       "<style scoped>\n",
       "    .dataframe tbody tr th:only-of-type {\n",
       "        vertical-align: middle;\n",
       "    }\n",
       "\n",
       "    .dataframe tbody tr th {\n",
       "        vertical-align: top;\n",
       "    }\n",
       "\n",
       "    .dataframe thead th {\n",
       "        text-align: right;\n",
       "    }\n",
       "</style>\n",
       "<table border=\"1\" class=\"dataframe\">\n",
       "  <thead>\n",
       "    <tr style=\"text-align: right;\">\n",
       "      <th></th>\n",
       "      <th>final.output.concentrate_ag</th>\n",
       "      <th>final.output.concentrate_pb</th>\n",
       "      <th>final.output.concentrate_sol</th>\n",
       "      <th>final.output.concentrate_au</th>\n",
       "      <th>final.output.recovery</th>\n",
       "      <th>final.output.tail_ag</th>\n",
       "      <th>final.output.tail_pb</th>\n",
       "      <th>final.output.tail_sol</th>\n",
       "      <th>final.output.tail_au</th>\n",
       "      <th>primary_cleaner.input.sulfate</th>\n",
       "      <th>...</th>\n",
       "      <th>secondary_cleaner.state.floatbank4_a_air</th>\n",
       "      <th>secondary_cleaner.state.floatbank4_a_level</th>\n",
       "      <th>secondary_cleaner.state.floatbank4_b_air</th>\n",
       "      <th>secondary_cleaner.state.floatbank4_b_level</th>\n",
       "      <th>secondary_cleaner.state.floatbank5_a_air</th>\n",
       "      <th>secondary_cleaner.state.floatbank5_a_level</th>\n",
       "      <th>secondary_cleaner.state.floatbank5_b_air</th>\n",
       "      <th>secondary_cleaner.state.floatbank5_b_level</th>\n",
       "      <th>secondary_cleaner.state.floatbank6_a_air</th>\n",
       "      <th>secondary_cleaner.state.floatbank6_a_level</th>\n",
       "    </tr>\n",
       "  </thead>\n",
       "  <tbody>\n",
       "    <tr>\n",
       "      <th>count</th>\n",
       "      <td>19438.000000</td>\n",
       "      <td>19438.000000</td>\n",
       "      <td>19228.000000</td>\n",
       "      <td>19439.000000</td>\n",
       "      <td>19439.000000</td>\n",
       "      <td>19438.000000</td>\n",
       "      <td>19338.000000</td>\n",
       "      <td>19433.000000</td>\n",
       "      <td>19439.000000</td>\n",
       "      <td>19415.000000</td>\n",
       "      <td>...</td>\n",
       "      <td>19433.000000</td>\n",
       "      <td>19438.000000</td>\n",
       "      <td>19438.000000</td>\n",
       "      <td>19438.000000</td>\n",
       "      <td>19438.000000</td>\n",
       "      <td>19438.000000</td>\n",
       "      <td>19438.000000</td>\n",
       "      <td>19438.000000</td>\n",
       "      <td>19437.000000</td>\n",
       "      <td>19438.000000</td>\n",
       "    </tr>\n",
       "    <tr>\n",
       "      <th>mean</th>\n",
       "      <td>5.168470</td>\n",
       "      <td>9.978895</td>\n",
       "      <td>9.501224</td>\n",
       "      <td>44.076513</td>\n",
       "      <td>67.050208</td>\n",
       "      <td>9.688589</td>\n",
       "      <td>2.705795</td>\n",
       "      <td>10.583728</td>\n",
       "      <td>3.042467</td>\n",
       "      <td>144.624774</td>\n",
       "      <td>...</td>\n",
       "      <td>18.987674</td>\n",
       "      <td>-485.894516</td>\n",
       "      <td>15.010366</td>\n",
       "      <td>-461.078636</td>\n",
       "      <td>15.694452</td>\n",
       "      <td>-488.684065</td>\n",
       "      <td>12.198224</td>\n",
       "      <td>-487.149827</td>\n",
       "      <td>18.959024</td>\n",
       "      <td>-505.436305</td>\n",
       "    </tr>\n",
       "    <tr>\n",
       "      <th>std</th>\n",
       "      <td>1.372348</td>\n",
       "      <td>1.669240</td>\n",
       "      <td>2.787537</td>\n",
       "      <td>5.129784</td>\n",
       "      <td>10.125840</td>\n",
       "      <td>2.328642</td>\n",
       "      <td>0.949077</td>\n",
       "      <td>2.868782</td>\n",
       "      <td>0.922808</td>\n",
       "      <td>44.464071</td>\n",
       "      <td>...</td>\n",
       "      <td>5.411058</td>\n",
       "      <td>47.758570</td>\n",
       "      <td>4.890228</td>\n",
       "      <td>67.405524</td>\n",
       "      <td>5.510974</td>\n",
       "      <td>34.533396</td>\n",
       "      <td>5.333024</td>\n",
       "      <td>38.347312</td>\n",
       "      <td>5.550498</td>\n",
       "      <td>37.689057</td>\n",
       "    </tr>\n",
       "    <tr>\n",
       "      <th>min</th>\n",
       "      <td>0.000000</td>\n",
       "      <td>0.000000</td>\n",
       "      <td>0.000000</td>\n",
       "      <td>0.000000</td>\n",
       "      <td>0.000000</td>\n",
       "      <td>0.000000</td>\n",
       "      <td>0.000000</td>\n",
       "      <td>0.000000</td>\n",
       "      <td>0.000000</td>\n",
       "      <td>0.003112</td>\n",
       "      <td>...</td>\n",
       "      <td>0.000000</td>\n",
       "      <td>-799.798523</td>\n",
       "      <td>0.000000</td>\n",
       "      <td>-800.836914</td>\n",
       "      <td>-0.372054</td>\n",
       "      <td>-797.323986</td>\n",
       "      <td>0.528083</td>\n",
       "      <td>-800.220337</td>\n",
       "      <td>-0.079426</td>\n",
       "      <td>-809.741464</td>\n",
       "    </tr>\n",
       "    <tr>\n",
       "      <th>25%</th>\n",
       "      <td>4.251240</td>\n",
       "      <td>9.137262</td>\n",
       "      <td>7.722820</td>\n",
       "      <td>43.402215</td>\n",
       "      <td>63.299712</td>\n",
       "      <td>8.062878</td>\n",
       "      <td>2.040119</td>\n",
       "      <td>8.938947</td>\n",
       "      <td>2.461138</td>\n",
       "      <td>114.107029</td>\n",
       "      <td>...</td>\n",
       "      <td>14.975734</td>\n",
       "      <td>-500.704892</td>\n",
       "      <td>11.940294</td>\n",
       "      <td>-500.187742</td>\n",
       "      <td>10.988606</td>\n",
       "      <td>-500.458467</td>\n",
       "      <td>8.971105</td>\n",
       "      <td>-500.129462</td>\n",
       "      <td>14.983037</td>\n",
       "      <td>-500.728067</td>\n",
       "    </tr>\n",
       "    <tr>\n",
       "      <th>50%</th>\n",
       "      <td>5.066094</td>\n",
       "      <td>10.102433</td>\n",
       "      <td>9.218961</td>\n",
       "      <td>45.011244</td>\n",
       "      <td>68.172738</td>\n",
       "      <td>9.743623</td>\n",
       "      <td>2.748730</td>\n",
       "      <td>10.622456</td>\n",
       "      <td>2.984909</td>\n",
       "      <td>143.232103</td>\n",
       "      <td>...</td>\n",
       "      <td>18.017481</td>\n",
       "      <td>-499.837793</td>\n",
       "      <td>14.971014</td>\n",
       "      <td>-499.459786</td>\n",
       "      <td>15.000036</td>\n",
       "      <td>-499.802605</td>\n",
       "      <td>11.019433</td>\n",
       "      <td>-499.935317</td>\n",
       "      <td>19.960541</td>\n",
       "      <td>-500.048400</td>\n",
       "    </tr>\n",
       "    <tr>\n",
       "      <th>75%</th>\n",
       "      <td>5.895527</td>\n",
       "      <td>11.035769</td>\n",
       "      <td>10.947813</td>\n",
       "      <td>46.275313</td>\n",
       "      <td>72.686642</td>\n",
       "      <td>11.134294</td>\n",
       "      <td>3.333216</td>\n",
       "      <td>12.104271</td>\n",
       "      <td>3.571351</td>\n",
       "      <td>175.075656</td>\n",
       "      <td>...</td>\n",
       "      <td>23.012470</td>\n",
       "      <td>-498.249730</td>\n",
       "      <td>19.034162</td>\n",
       "      <td>-400.118106</td>\n",
       "      <td>18.026190</td>\n",
       "      <td>-498.384187</td>\n",
       "      <td>14.019088</td>\n",
       "      <td>-499.436708</td>\n",
       "      <td>24.003170</td>\n",
       "      <td>-499.495378</td>\n",
       "    </tr>\n",
       "    <tr>\n",
       "      <th>max</th>\n",
       "      <td>16.001945</td>\n",
       "      <td>17.031899</td>\n",
       "      <td>19.615720</td>\n",
       "      <td>52.756638</td>\n",
       "      <td>100.000000</td>\n",
       "      <td>19.552149</td>\n",
       "      <td>5.804178</td>\n",
       "      <td>22.317730</td>\n",
       "      <td>8.245022</td>\n",
       "      <td>265.983123</td>\n",
       "      <td>...</td>\n",
       "      <td>30.115735</td>\n",
       "      <td>-245.239184</td>\n",
       "      <td>31.269706</td>\n",
       "      <td>-6.506986</td>\n",
       "      <td>43.709931</td>\n",
       "      <td>-244.483566</td>\n",
       "      <td>27.926001</td>\n",
       "      <td>-137.740004</td>\n",
       "      <td>32.188906</td>\n",
       "      <td>-104.427459</td>\n",
       "    </tr>\n",
       "  </tbody>\n",
       "</table>\n",
       "<p>8 rows × 86 columns</p>\n",
       "</div>"
      ],
      "text/plain": [
       "       final.output.concentrate_ag  final.output.concentrate_pb  \\\n",
       "count                 19438.000000                 19438.000000   \n",
       "mean                      5.168470                     9.978895   \n",
       "std                       1.372348                     1.669240   \n",
       "min                       0.000000                     0.000000   \n",
       "25%                       4.251240                     9.137262   \n",
       "50%                       5.066094                    10.102433   \n",
       "75%                       5.895527                    11.035769   \n",
       "max                      16.001945                    17.031899   \n",
       "\n",
       "       final.output.concentrate_sol  final.output.concentrate_au  \\\n",
       "count                  19228.000000                 19439.000000   \n",
       "mean                       9.501224                    44.076513   \n",
       "std                        2.787537                     5.129784   \n",
       "min                        0.000000                     0.000000   \n",
       "25%                        7.722820                    43.402215   \n",
       "50%                        9.218961                    45.011244   \n",
       "75%                       10.947813                    46.275313   \n",
       "max                       19.615720                    52.756638   \n",
       "\n",
       "       final.output.recovery  final.output.tail_ag  final.output.tail_pb  \\\n",
       "count           19439.000000          19438.000000          19338.000000   \n",
       "mean               67.050208              9.688589              2.705795   \n",
       "std                10.125840              2.328642              0.949077   \n",
       "min                 0.000000              0.000000              0.000000   \n",
       "25%                63.299712              8.062878              2.040119   \n",
       "50%                68.172738              9.743623              2.748730   \n",
       "75%                72.686642             11.134294              3.333216   \n",
       "max               100.000000             19.552149              5.804178   \n",
       "\n",
       "       final.output.tail_sol  final.output.tail_au  \\\n",
       "count           19433.000000          19439.000000   \n",
       "mean               10.583728              3.042467   \n",
       "std                 2.868782              0.922808   \n",
       "min                 0.000000              0.000000   \n",
       "25%                 8.938947              2.461138   \n",
       "50%                10.622456              2.984909   \n",
       "75%                12.104271              3.571351   \n",
       "max                22.317730              8.245022   \n",
       "\n",
       "       primary_cleaner.input.sulfate  ...  \\\n",
       "count                   19415.000000  ...   \n",
       "mean                      144.624774  ...   \n",
       "std                        44.464071  ...   \n",
       "min                         0.003112  ...   \n",
       "25%                       114.107029  ...   \n",
       "50%                       143.232103  ...   \n",
       "75%                       175.075656  ...   \n",
       "max                       265.983123  ...   \n",
       "\n",
       "       secondary_cleaner.state.floatbank4_a_air  \\\n",
       "count                              19433.000000   \n",
       "mean                                  18.987674   \n",
       "std                                    5.411058   \n",
       "min                                    0.000000   \n",
       "25%                                   14.975734   \n",
       "50%                                   18.017481   \n",
       "75%                                   23.012470   \n",
       "max                                   30.115735   \n",
       "\n",
       "       secondary_cleaner.state.floatbank4_a_level  \\\n",
       "count                                19438.000000   \n",
       "mean                                  -485.894516   \n",
       "std                                     47.758570   \n",
       "min                                   -799.798523   \n",
       "25%                                   -500.704892   \n",
       "50%                                   -499.837793   \n",
       "75%                                   -498.249730   \n",
       "max                                   -245.239184   \n",
       "\n",
       "       secondary_cleaner.state.floatbank4_b_air  \\\n",
       "count                              19438.000000   \n",
       "mean                                  15.010366   \n",
       "std                                    4.890228   \n",
       "min                                    0.000000   \n",
       "25%                                   11.940294   \n",
       "50%                                   14.971014   \n",
       "75%                                   19.034162   \n",
       "max                                   31.269706   \n",
       "\n",
       "       secondary_cleaner.state.floatbank4_b_level  \\\n",
       "count                                19438.000000   \n",
       "mean                                  -461.078636   \n",
       "std                                     67.405524   \n",
       "min                                   -800.836914   \n",
       "25%                                   -500.187742   \n",
       "50%                                   -499.459786   \n",
       "75%                                   -400.118106   \n",
       "max                                     -6.506986   \n",
       "\n",
       "       secondary_cleaner.state.floatbank5_a_air  \\\n",
       "count                              19438.000000   \n",
       "mean                                  15.694452   \n",
       "std                                    5.510974   \n",
       "min                                   -0.372054   \n",
       "25%                                   10.988606   \n",
       "50%                                   15.000036   \n",
       "75%                                   18.026190   \n",
       "max                                   43.709931   \n",
       "\n",
       "       secondary_cleaner.state.floatbank5_a_level  \\\n",
       "count                                19438.000000   \n",
       "mean                                  -488.684065   \n",
       "std                                     34.533396   \n",
       "min                                   -797.323986   \n",
       "25%                                   -500.458467   \n",
       "50%                                   -499.802605   \n",
       "75%                                   -498.384187   \n",
       "max                                   -244.483566   \n",
       "\n",
       "       secondary_cleaner.state.floatbank5_b_air  \\\n",
       "count                              19438.000000   \n",
       "mean                                  12.198224   \n",
       "std                                    5.333024   \n",
       "min                                    0.528083   \n",
       "25%                                    8.971105   \n",
       "50%                                   11.019433   \n",
       "75%                                   14.019088   \n",
       "max                                   27.926001   \n",
       "\n",
       "       secondary_cleaner.state.floatbank5_b_level  \\\n",
       "count                                19438.000000   \n",
       "mean                                  -487.149827   \n",
       "std                                     38.347312   \n",
       "min                                   -800.220337   \n",
       "25%                                   -500.129462   \n",
       "50%                                   -499.935317   \n",
       "75%                                   -499.436708   \n",
       "max                                   -137.740004   \n",
       "\n",
       "       secondary_cleaner.state.floatbank6_a_air  \\\n",
       "count                              19437.000000   \n",
       "mean                                  18.959024   \n",
       "std                                    5.550498   \n",
       "min                                   -0.079426   \n",
       "25%                                   14.983037   \n",
       "50%                                   19.960541   \n",
       "75%                                   24.003170   \n",
       "max                                   32.188906   \n",
       "\n",
       "       secondary_cleaner.state.floatbank6_a_level  \n",
       "count                                19438.000000  \n",
       "mean                                  -505.436305  \n",
       "std                                     37.689057  \n",
       "min                                   -809.741464  \n",
       "25%                                   -500.728067  \n",
       "50%                                   -500.048400  \n",
       "75%                                   -499.495378  \n",
       "max                                   -104.427459  \n",
       "\n",
       "[8 rows x 86 columns]"
      ]
     },
     "execution_count": 5,
     "metadata": {},
     "output_type": "execute_result"
    }
   ],
   "source": [
    "data_full.describe()"
   ]
  },
  {
   "cell_type": "code",
   "execution_count": 6,
   "metadata": {},
   "outputs": [
    {
     "name": "stdout",
     "output_type": "stream",
     "text": [
      "14149\n",
      "5290\n"
     ]
    }
   ],
   "source": [
    "print(len(data_train))\n",
    "print(len(data_test))"
   ]
  },
  {
   "cell_type": "code",
   "execution_count": 7,
   "metadata": {},
   "outputs": [
    {
     "name": "stdout",
     "output_type": "stream",
     "text": [
      "<class 'pandas.core.frame.DataFrame'>\n",
      "RangeIndex: 14149 entries, 0 to 14148\n",
      "Data columns (total 87 columns):\n",
      " #   Column                                              Non-Null Count  Dtype  \n",
      "---  ------                                              --------------  -----  \n",
      " 0   date                                                14149 non-null  object \n",
      " 1   final.output.concentrate_ag                         14148 non-null  float64\n",
      " 2   final.output.concentrate_pb                         14148 non-null  float64\n",
      " 3   final.output.concentrate_sol                        13938 non-null  float64\n",
      " 4   final.output.concentrate_au                         14149 non-null  float64\n",
      " 5   final.output.recovery                               14149 non-null  float64\n",
      " 6   final.output.tail_ag                                14149 non-null  float64\n",
      " 7   final.output.tail_pb                                14049 non-null  float64\n",
      " 8   final.output.tail_sol                               14144 non-null  float64\n",
      " 9   final.output.tail_au                                14149 non-null  float64\n",
      " 10  primary_cleaner.input.sulfate                       14129 non-null  float64\n",
      " 11  primary_cleaner.input.depressant                    14117 non-null  float64\n",
      " 12  primary_cleaner.input.feed_size                     14149 non-null  float64\n",
      " 13  primary_cleaner.input.xanthate                      14049 non-null  float64\n",
      " 14  primary_cleaner.output.concentrate_ag               14149 non-null  float64\n",
      " 15  primary_cleaner.output.concentrate_pb               14063 non-null  float64\n",
      " 16  primary_cleaner.output.concentrate_sol              13863 non-null  float64\n",
      " 17  primary_cleaner.output.concentrate_au               14149 non-null  float64\n",
      " 18  primary_cleaner.output.tail_ag                      14148 non-null  float64\n",
      " 19  primary_cleaner.output.tail_pb                      14134 non-null  float64\n",
      " 20  primary_cleaner.output.tail_sol                     14103 non-null  float64\n",
      " 21  primary_cleaner.output.tail_au                      14149 non-null  float64\n",
      " 22  primary_cleaner.state.floatbank8_a_air              14145 non-null  float64\n",
      " 23  primary_cleaner.state.floatbank8_a_level            14148 non-null  float64\n",
      " 24  primary_cleaner.state.floatbank8_b_air              14145 non-null  float64\n",
      " 25  primary_cleaner.state.floatbank8_b_level            14148 non-null  float64\n",
      " 26  primary_cleaner.state.floatbank8_c_air              14147 non-null  float64\n",
      " 27  primary_cleaner.state.floatbank8_c_level            14148 non-null  float64\n",
      " 28  primary_cleaner.state.floatbank8_d_air              14146 non-null  float64\n",
      " 29  primary_cleaner.state.floatbank8_d_level            14148 non-null  float64\n",
      " 30  rougher.calculation.sulfate_to_au_concentrate       14148 non-null  float64\n",
      " 31  rougher.calculation.floatbank10_sulfate_to_au_feed  14148 non-null  float64\n",
      " 32  rougher.calculation.floatbank11_sulfate_to_au_feed  14148 non-null  float64\n",
      " 33  rougher.calculation.au_pb_ratio                     14149 non-null  float64\n",
      " 34  rougher.input.feed_ag                               14149 non-null  float64\n",
      " 35  rougher.input.feed_pb                               14049 non-null  float64\n",
      " 36  rougher.input.feed_rate                             14141 non-null  float64\n",
      " 37  rougher.input.feed_size                             14005 non-null  float64\n",
      " 38  rougher.input.feed_sol                              14071 non-null  float64\n",
      " 39  rougher.input.feed_au                               14149 non-null  float64\n",
      " 40  rougher.input.floatbank10_sulfate                   14120 non-null  float64\n",
      " 41  rougher.input.floatbank10_xanthate                  14141 non-null  float64\n",
      " 42  rougher.input.floatbank11_sulfate                   14113 non-null  float64\n",
      " 43  rougher.input.floatbank11_xanthate                  13721 non-null  float64\n",
      " 44  rougher.output.concentrate_ag                       14149 non-null  float64\n",
      " 45  rougher.output.concentrate_pb                       14149 non-null  float64\n",
      " 46  rougher.output.concentrate_sol                      14127 non-null  float64\n",
      " 47  rougher.output.concentrate_au                       14149 non-null  float64\n",
      " 48  rougher.output.recovery                             14149 non-null  float64\n",
      " 49  rougher.output.tail_ag                              14148 non-null  float64\n",
      " 50  rougher.output.tail_pb                              14149 non-null  float64\n",
      " 51  rougher.output.tail_sol                             14149 non-null  float64\n",
      " 52  rougher.output.tail_au                              14149 non-null  float64\n",
      " 53  rougher.state.floatbank10_a_air                     14148 non-null  float64\n",
      " 54  rougher.state.floatbank10_a_level                   14148 non-null  float64\n",
      " 55  rougher.state.floatbank10_b_air                     14148 non-null  float64\n",
      " 56  rougher.state.floatbank10_b_level                   14148 non-null  float64\n",
      " 57  rougher.state.floatbank10_c_air                     14148 non-null  float64\n",
      " 58  rougher.state.floatbank10_c_level                   14148 non-null  float64\n",
      " 59  rougher.state.floatbank10_d_air                     14149 non-null  float64\n",
      " 60  rougher.state.floatbank10_d_level                   14149 non-null  float64\n",
      " 61  rougher.state.floatbank10_e_air                     13713 non-null  float64\n",
      " 62  rougher.state.floatbank10_e_level                   14149 non-null  float64\n",
      " 63  rougher.state.floatbank10_f_air                     14149 non-null  float64\n",
      " 64  rougher.state.floatbank10_f_level                   14149 non-null  float64\n",
      " 65  secondary_cleaner.output.tail_ag                    14147 non-null  float64\n",
      " 66  secondary_cleaner.output.tail_pb                    14139 non-null  float64\n",
      " 67  secondary_cleaner.output.tail_sol                   12544 non-null  float64\n",
      " 68  secondary_cleaner.output.tail_au                    14149 non-null  float64\n",
      " 69  secondary_cleaner.state.floatbank2_a_air            13932 non-null  float64\n",
      " 70  secondary_cleaner.state.floatbank2_a_level          14148 non-null  float64\n",
      " 71  secondary_cleaner.state.floatbank2_b_air            14128 non-null  float64\n",
      " 72  secondary_cleaner.state.floatbank2_b_level          14148 non-null  float64\n",
      " 73  secondary_cleaner.state.floatbank3_a_air            14145 non-null  float64\n",
      " 74  secondary_cleaner.state.floatbank3_a_level          14148 non-null  float64\n",
      " 75  secondary_cleaner.state.floatbank3_b_air            14148 non-null  float64\n",
      " 76  secondary_cleaner.state.floatbank3_b_level          14148 non-null  float64\n",
      " 77  secondary_cleaner.state.floatbank4_a_air            14143 non-null  float64\n",
      " 78  secondary_cleaner.state.floatbank4_a_level          14148 non-null  float64\n",
      " 79  secondary_cleaner.state.floatbank4_b_air            14148 non-null  float64\n",
      " 80  secondary_cleaner.state.floatbank4_b_level          14148 non-null  float64\n",
      " 81  secondary_cleaner.state.floatbank5_a_air            14148 non-null  float64\n",
      " 82  secondary_cleaner.state.floatbank5_a_level          14148 non-null  float64\n",
      " 83  secondary_cleaner.state.floatbank5_b_air            14148 non-null  float64\n",
      " 84  secondary_cleaner.state.floatbank5_b_level          14148 non-null  float64\n",
      " 85  secondary_cleaner.state.floatbank6_a_air            14147 non-null  float64\n",
      " 86  secondary_cleaner.state.floatbank6_a_level          14148 non-null  float64\n",
      "dtypes: float64(86), object(1)\n",
      "memory usage: 9.4+ MB\n"
     ]
    }
   ],
   "source": [
    "data_train.info()"
   ]
  },
  {
   "cell_type": "code",
   "execution_count": 8,
   "metadata": {},
   "outputs": [
    {
     "name": "stdout",
     "output_type": "stream",
     "text": [
      "<class 'pandas.core.frame.DataFrame'>\n",
      "RangeIndex: 5290 entries, 0 to 5289\n",
      "Data columns (total 53 columns):\n",
      " #   Column                                      Non-Null Count  Dtype  \n",
      "---  ------                                      --------------  -----  \n",
      " 0   date                                        5290 non-null   object \n",
      " 1   primary_cleaner.input.sulfate               5286 non-null   float64\n",
      " 2   primary_cleaner.input.depressant            5285 non-null   float64\n",
      " 3   primary_cleaner.input.feed_size             5290 non-null   float64\n",
      " 4   primary_cleaner.input.xanthate              5286 non-null   float64\n",
      " 5   primary_cleaner.state.floatbank8_a_air      5290 non-null   float64\n",
      " 6   primary_cleaner.state.floatbank8_a_level    5290 non-null   float64\n",
      " 7   primary_cleaner.state.floatbank8_b_air      5290 non-null   float64\n",
      " 8   primary_cleaner.state.floatbank8_b_level    5290 non-null   float64\n",
      " 9   primary_cleaner.state.floatbank8_c_air      5290 non-null   float64\n",
      " 10  primary_cleaner.state.floatbank8_c_level    5290 non-null   float64\n",
      " 11  primary_cleaner.state.floatbank8_d_air      5290 non-null   float64\n",
      " 12  primary_cleaner.state.floatbank8_d_level    5290 non-null   float64\n",
      " 13  rougher.input.feed_ag                       5290 non-null   float64\n",
      " 14  rougher.input.feed_pb                       5290 non-null   float64\n",
      " 15  rougher.input.feed_rate                     5287 non-null   float64\n",
      " 16  rougher.input.feed_size                     5289 non-null   float64\n",
      " 17  rougher.input.feed_sol                      5269 non-null   float64\n",
      " 18  rougher.input.feed_au                       5290 non-null   float64\n",
      " 19  rougher.input.floatbank10_sulfate           5285 non-null   float64\n",
      " 20  rougher.input.floatbank10_xanthate          5290 non-null   float64\n",
      " 21  rougher.input.floatbank11_sulfate           5282 non-null   float64\n",
      " 22  rougher.input.floatbank11_xanthate          5265 non-null   float64\n",
      " 23  rougher.state.floatbank10_a_air             5290 non-null   float64\n",
      " 24  rougher.state.floatbank10_a_level           5290 non-null   float64\n",
      " 25  rougher.state.floatbank10_b_air             5290 non-null   float64\n",
      " 26  rougher.state.floatbank10_b_level           5290 non-null   float64\n",
      " 27  rougher.state.floatbank10_c_air             5290 non-null   float64\n",
      " 28  rougher.state.floatbank10_c_level           5290 non-null   float64\n",
      " 29  rougher.state.floatbank10_d_air             5290 non-null   float64\n",
      " 30  rougher.state.floatbank10_d_level           5290 non-null   float64\n",
      " 31  rougher.state.floatbank10_e_air             5290 non-null   float64\n",
      " 32  rougher.state.floatbank10_e_level           5290 non-null   float64\n",
      " 33  rougher.state.floatbank10_f_air             5290 non-null   float64\n",
      " 34  rougher.state.floatbank10_f_level           5290 non-null   float64\n",
      " 35  secondary_cleaner.state.floatbank2_a_air    5287 non-null   float64\n",
      " 36  secondary_cleaner.state.floatbank2_a_level  5290 non-null   float64\n",
      " 37  secondary_cleaner.state.floatbank2_b_air    5288 non-null   float64\n",
      " 38  secondary_cleaner.state.floatbank2_b_level  5290 non-null   float64\n",
      " 39  secondary_cleaner.state.floatbank3_a_air    5281 non-null   float64\n",
      " 40  secondary_cleaner.state.floatbank3_a_level  5290 non-null   float64\n",
      " 41  secondary_cleaner.state.floatbank3_b_air    5290 non-null   float64\n",
      " 42  secondary_cleaner.state.floatbank3_b_level  5290 non-null   float64\n",
      " 43  secondary_cleaner.state.floatbank4_a_air    5290 non-null   float64\n",
      " 44  secondary_cleaner.state.floatbank4_a_level  5290 non-null   float64\n",
      " 45  secondary_cleaner.state.floatbank4_b_air    5290 non-null   float64\n",
      " 46  secondary_cleaner.state.floatbank4_b_level  5290 non-null   float64\n",
      " 47  secondary_cleaner.state.floatbank5_a_air    5290 non-null   float64\n",
      " 48  secondary_cleaner.state.floatbank5_a_level  5290 non-null   float64\n",
      " 49  secondary_cleaner.state.floatbank5_b_air    5290 non-null   float64\n",
      " 50  secondary_cleaner.state.floatbank5_b_level  5290 non-null   float64\n",
      " 51  secondary_cleaner.state.floatbank6_a_air    5290 non-null   float64\n",
      " 52  secondary_cleaner.state.floatbank6_a_level  5290 non-null   float64\n",
      "dtypes: float64(52), object(1)\n",
      "memory usage: 2.1+ MB\n"
     ]
    }
   ],
   "source": [
    "data_test.info()"
   ]
  },
  {
   "cell_type": "markdown",
   "metadata": {},
   "source": [
    "В тестовых данных отсутствуют колонки, характеризующие результаты обработки сырья."
   ]
  },
  {
   "cell_type": "markdown",
   "metadata": {},
   "source": [
    "Проверим данные на наличие дубликатов и пропущенных значений."
   ]
  },
  {
   "cell_type": "code",
   "execution_count": 9,
   "metadata": {},
   "outputs": [
    {
     "name": "stdout",
     "output_type": "stream",
     "text": [
      "0\n",
      "0\n"
     ]
    }
   ],
   "source": [
    "print(data_train.duplicated().sum())\n",
    "print(data_test.duplicated().sum())"
   ]
  },
  {
   "cell_type": "code",
   "execution_count": 10,
   "metadata": {},
   "outputs": [
    {
     "name": "stdout",
     "output_type": "stream",
     "text": [
      "date                                            0\n",
      "final.output.concentrate_ag                     1\n",
      "final.output.concentrate_pb                     1\n",
      "final.output.concentrate_sol                  211\n",
      "final.output.concentrate_au                     0\n",
      "                                             ... \n",
      "secondary_cleaner.state.floatbank5_a_level      1\n",
      "secondary_cleaner.state.floatbank5_b_air        1\n",
      "secondary_cleaner.state.floatbank5_b_level      1\n",
      "secondary_cleaner.state.floatbank6_a_air        2\n",
      "secondary_cleaner.state.floatbank6_a_level      1\n",
      "Length: 87, dtype: int64\n",
      "---------------------------------\n",
      "date                                           0\n",
      "primary_cleaner.input.sulfate                  4\n",
      "primary_cleaner.input.depressant               5\n",
      "primary_cleaner.input.feed_size                0\n",
      "primary_cleaner.input.xanthate                 4\n",
      "primary_cleaner.state.floatbank8_a_air         0\n",
      "primary_cleaner.state.floatbank8_a_level       0\n",
      "primary_cleaner.state.floatbank8_b_air         0\n",
      "primary_cleaner.state.floatbank8_b_level       0\n",
      "primary_cleaner.state.floatbank8_c_air         0\n",
      "primary_cleaner.state.floatbank8_c_level       0\n",
      "primary_cleaner.state.floatbank8_d_air         0\n",
      "primary_cleaner.state.floatbank8_d_level       0\n",
      "rougher.input.feed_ag                          0\n",
      "rougher.input.feed_pb                          0\n",
      "rougher.input.feed_rate                        3\n",
      "rougher.input.feed_size                        1\n",
      "rougher.input.feed_sol                        21\n",
      "rougher.input.feed_au                          0\n",
      "rougher.input.floatbank10_sulfate              5\n",
      "rougher.input.floatbank10_xanthate             0\n",
      "rougher.input.floatbank11_sulfate              8\n",
      "rougher.input.floatbank11_xanthate            25\n",
      "rougher.state.floatbank10_a_air                0\n",
      "rougher.state.floatbank10_a_level              0\n",
      "rougher.state.floatbank10_b_air                0\n",
      "rougher.state.floatbank10_b_level              0\n",
      "rougher.state.floatbank10_c_air                0\n",
      "rougher.state.floatbank10_c_level              0\n",
      "rougher.state.floatbank10_d_air                0\n",
      "rougher.state.floatbank10_d_level              0\n",
      "rougher.state.floatbank10_e_air                0\n",
      "rougher.state.floatbank10_e_level              0\n",
      "rougher.state.floatbank10_f_air                0\n",
      "rougher.state.floatbank10_f_level              0\n",
      "secondary_cleaner.state.floatbank2_a_air       3\n",
      "secondary_cleaner.state.floatbank2_a_level     0\n",
      "secondary_cleaner.state.floatbank2_b_air       2\n",
      "secondary_cleaner.state.floatbank2_b_level     0\n",
      "secondary_cleaner.state.floatbank3_a_air       9\n",
      "secondary_cleaner.state.floatbank3_a_level     0\n",
      "secondary_cleaner.state.floatbank3_b_air       0\n",
      "secondary_cleaner.state.floatbank3_b_level     0\n",
      "secondary_cleaner.state.floatbank4_a_air       0\n",
      "secondary_cleaner.state.floatbank4_a_level     0\n",
      "secondary_cleaner.state.floatbank4_b_air       0\n",
      "secondary_cleaner.state.floatbank4_b_level     0\n",
      "secondary_cleaner.state.floatbank5_a_air       0\n",
      "secondary_cleaner.state.floatbank5_a_level     0\n",
      "secondary_cleaner.state.floatbank5_b_air       0\n",
      "secondary_cleaner.state.floatbank5_b_level     0\n",
      "secondary_cleaner.state.floatbank6_a_air       0\n",
      "secondary_cleaner.state.floatbank6_a_level     0\n",
      "dtype: int64\n"
     ]
    }
   ],
   "source": [
    "print(data_train.isna().sum())\n",
    "print('---------------------------------')\n",
    "print(data_test.isna().sum())"
   ]
  },
  {
   "cell_type": "markdown",
   "metadata": {},
   "source": [
    "Так как все пропущенные данные - количественные, заполним все пропуски средними значениями."
   ]
  },
  {
   "cell_type": "code",
   "execution_count": 11,
   "metadata": {},
   "outputs": [],
   "source": [
    "# data_train = data_train.fillna(data_train.mean())\n",
    "# data_test = data_test.fillna(data_test.mean())\n",
    "# data_full = data_full.fillna(data_full.mean())\n",
    "data_train = data_train.fillna(method='ffill')\n",
    "data_test = data_test.fillna(method='ffill')\n",
    "data_full = data_full.fillna(method='ffill')"
   ]
  },
  {
   "cell_type": "code",
   "execution_count": 12,
   "metadata": {},
   "outputs": [
    {
     "name": "stdout",
     "output_type": "stream",
     "text": [
      "date                                          0\n",
      "final.output.concentrate_ag                   0\n",
      "final.output.concentrate_pb                   0\n",
      "final.output.concentrate_sol                  0\n",
      "final.output.concentrate_au                   0\n",
      "                                             ..\n",
      "secondary_cleaner.state.floatbank5_a_level    0\n",
      "secondary_cleaner.state.floatbank5_b_air      0\n",
      "secondary_cleaner.state.floatbank5_b_level    0\n",
      "secondary_cleaner.state.floatbank6_a_air      0\n",
      "secondary_cleaner.state.floatbank6_a_level    0\n",
      "Length: 87, dtype: int64\n",
      "---------------------------------\n",
      "date                                          0\n",
      "primary_cleaner.input.sulfate                 0\n",
      "primary_cleaner.input.depressant              0\n",
      "primary_cleaner.input.feed_size               0\n",
      "primary_cleaner.input.xanthate                0\n",
      "primary_cleaner.state.floatbank8_a_air        0\n",
      "primary_cleaner.state.floatbank8_a_level      0\n",
      "primary_cleaner.state.floatbank8_b_air        0\n",
      "primary_cleaner.state.floatbank8_b_level      0\n",
      "primary_cleaner.state.floatbank8_c_air        0\n",
      "primary_cleaner.state.floatbank8_c_level      0\n",
      "primary_cleaner.state.floatbank8_d_air        0\n",
      "primary_cleaner.state.floatbank8_d_level      0\n",
      "rougher.input.feed_ag                         0\n",
      "rougher.input.feed_pb                         0\n",
      "rougher.input.feed_rate                       0\n",
      "rougher.input.feed_size                       0\n",
      "rougher.input.feed_sol                        0\n",
      "rougher.input.feed_au                         0\n",
      "rougher.input.floatbank10_sulfate             0\n",
      "rougher.input.floatbank10_xanthate            0\n",
      "rougher.input.floatbank11_sulfate             0\n",
      "rougher.input.floatbank11_xanthate            0\n",
      "rougher.state.floatbank10_a_air               0\n",
      "rougher.state.floatbank10_a_level             0\n",
      "rougher.state.floatbank10_b_air               0\n",
      "rougher.state.floatbank10_b_level             0\n",
      "rougher.state.floatbank10_c_air               0\n",
      "rougher.state.floatbank10_c_level             0\n",
      "rougher.state.floatbank10_d_air               0\n",
      "rougher.state.floatbank10_d_level             0\n",
      "rougher.state.floatbank10_e_air               0\n",
      "rougher.state.floatbank10_e_level             0\n",
      "rougher.state.floatbank10_f_air               0\n",
      "rougher.state.floatbank10_f_level             0\n",
      "secondary_cleaner.state.floatbank2_a_air      0\n",
      "secondary_cleaner.state.floatbank2_a_level    0\n",
      "secondary_cleaner.state.floatbank2_b_air      0\n",
      "secondary_cleaner.state.floatbank2_b_level    0\n",
      "secondary_cleaner.state.floatbank3_a_air      0\n",
      "secondary_cleaner.state.floatbank3_a_level    0\n",
      "secondary_cleaner.state.floatbank3_b_air      0\n",
      "secondary_cleaner.state.floatbank3_b_level    0\n",
      "secondary_cleaner.state.floatbank4_a_air      0\n",
      "secondary_cleaner.state.floatbank4_a_level    0\n",
      "secondary_cleaner.state.floatbank4_b_air      0\n",
      "secondary_cleaner.state.floatbank4_b_level    0\n",
      "secondary_cleaner.state.floatbank5_a_air      0\n",
      "secondary_cleaner.state.floatbank5_a_level    0\n",
      "secondary_cleaner.state.floatbank5_b_air      0\n",
      "secondary_cleaner.state.floatbank5_b_level    0\n",
      "secondary_cleaner.state.floatbank6_a_air      0\n",
      "secondary_cleaner.state.floatbank6_a_level    0\n",
      "dtype: int64\n"
     ]
    }
   ],
   "source": [
    "print(data_train.isna().sum())\n",
    "print('---------------------------------')\n",
    "print(data_test.isna().sum())"
   ]
  },
  {
   "cell_type": "markdown",
   "metadata": {},
   "source": [
    "Проверим, правильно ли рассчитана эффективность обогащения."
   ]
  },
  {
   "cell_type": "code",
   "execution_count": 13,
   "metadata": {},
   "outputs": [
    {
     "name": "stdout",
     "output_type": "stream",
     "text": [
      "9.73512347450521e-15\n"
     ]
    }
   ],
   "source": [
    "def recovery(input_au, concentrate_au, tail_au):\n",
    "    recovery = (concentrate_au * (input_au - tail_au)) / (input_au * (concentrate_au - tail_au)) * 100\n",
    "    return recovery\n",
    "recovery_predicted = recovery(data_train['rougher.input.feed_au'], data_train['rougher.output.concentrate_au'], data_train['rougher.output.tail_au'])\n",
    "print(mean_absolute_error(data_train['rougher.output.recovery'], recovery_predicted))"
   ]
  },
  {
   "cell_type": "markdown",
   "metadata": {},
   "source": [
    "Значение средней абсолютной ошибки меньше единицы. Можно сделать вывод, что эффективность обогащения в предоставленных данных рассчитана правильно."
   ]
  },
  {
   "cell_type": "markdown",
   "metadata": {},
   "source": [
    "Данные проверены, обработаны и готовы к анализу."
   ]
  },
  {
   "cell_type": "markdown",
   "metadata": {},
   "source": [
    "## Анализ данных"
   ]
  },
  {
   "cell_type": "markdown",
   "metadata": {},
   "source": [
    "Посмотрим, как меняется концентрация металлов (Au, Ag, Pb) на различных этапах очистки."
   ]
  },
  {
   "cell_type": "code",
   "execution_count": 14,
   "metadata": {
    "scrolled": true
   },
   "outputs": [
    {
     "name": "stdout",
     "output_type": "stream",
     "text": [
      "Средняя доля золота в концентрате перед первым этапом очистки: 19.43995785143646\n",
      "Средняя доля золота в концентрате после первого этапа очистки: 32.386835978391346\n",
      "Средняя доля золота в концентрате после второго этапа очистки: 44.00379162105571\n"
     ]
    }
   ],
   "source": [
    "print('Средняя доля золота в концентрате перед первым этапом очистки:', data_train['rougher.output.concentrate_au'].mean())\n",
    "print('Средняя доля золота в концентрате после первого этапа очистки:', data_train['primary_cleaner.output.concentrate_au'].mean())\n",
    "print('Средняя доля золота в концентрате после второго этапа очистки:', data_train['final.output.concentrate_au'].mean())"
   ]
  },
  {
   "cell_type": "code",
   "execution_count": 15,
   "metadata": {},
   "outputs": [
    {
     "name": "stdout",
     "output_type": "stream",
     "text": [
      "Средняя доля серебра в концентрате перед первым этапом очистки: 11.775812314356036\n",
      "Средняя доля серебра в концентрате после первого этапа очистки: 8.200915815165981\n",
      "Средняя доля серебра в концентрате после второго этапа очистки: 5.141920924857091\n"
     ]
    }
   ],
   "source": [
    "print('Средняя доля серебра в концентрате перед первым этапом очистки:', data_train['rougher.output.concentrate_ag'].mean())\n",
    "print('Средняя доля серебра в концентрате после первого этапа очистки:', data_train['primary_cleaner.output.concentrate_ag'].mean())\n",
    "print('Средняя доля серебра в концентрате после второго этапа очистки:', data_train['final.output.concentrate_ag'].mean())"
   ]
  },
  {
   "cell_type": "code",
   "execution_count": 16,
   "metadata": {},
   "outputs": [
    {
     "name": "stdout",
     "output_type": "stream",
     "text": [
      "Средняя доля свинца в концентрате перед первым этапом очистки: 7.664554751481546\n",
      "Средняя доля свинца в концентрате после первого этапа очистки: 9.568544006770484\n",
      "Средняя доля свинца в концентрате после второго этапа очистки: 10.132847758146394\n"
     ]
    }
   ],
   "source": [
    "print('Средняя доля свинца в концентрате перед первым этапом очистки:', data_train['rougher.output.concentrate_pb'].mean())\n",
    "print('Средняя доля свинца в концентрате после первого этапа очистки:', data_train['primary_cleaner.output.concentrate_pb'].mean())\n",
    "print('Средняя доля свинца в концентрате после второго этапа очистки:', data_train['final.output.concentrate_pb'].mean())"
   ]
  },
  {
   "cell_type": "markdown",
   "metadata": {},
   "source": [
    "*По данным рассчетам видно, что доля золота значительно увеличивается после каждого этапа очистки, доля свинца также увеличивается, но незначительно, а доля серебра уменьшается.*"
   ]
  },
  {
   "cell_type": "markdown",
   "metadata": {},
   "source": [
    "Сравним распределения размеров гранул сырья на обучающей и тестовой выборках."
   ]
  },
  {
   "cell_type": "code",
   "execution_count": 17,
   "metadata": {},
   "outputs": [
    {
     "name": "stdout",
     "output_type": "stream",
     "text": [
      "count    14149.000000\n",
      "mean        60.239856\n",
      "std         23.005310\n",
      "min          9.659576\n",
      "25%         48.966751\n",
      "50%         55.269784\n",
      "75%         66.007526\n",
      "max        484.967466\n",
      "Name: rougher.input.feed_size, dtype: float64\n"
     ]
    },
    {
     "data": {
      "text/plain": [
       "<AxesSubplot:>"
      ]
     },
     "execution_count": 17,
     "metadata": {},
     "output_type": "execute_result"
    },
    {
     "data": {
      "image/png": "[encoded data removed]",
      "text/plain": [
       "<Figure size 432x288 with 1 Axes>"
      ]
     },
     "metadata": {
      "needs_background": "light"
     },
     "output_type": "display_data"
    }
   ],
   "source": [
    "print(data_train['rougher.input.feed_size'].describe())\n",
    "data_train.boxplot(column='rougher.input.feed_size')"
   ]
  },
  {
   "cell_type": "code",
   "execution_count": 18,
   "metadata": {},
   "outputs": [
    {
     "name": "stdout",
     "output_type": "stream",
     "text": [
      "count    5290.000000\n",
      "mean       55.952754\n",
      "std        19.080334\n",
      "min         0.046369\n",
      "25%        43.906504\n",
      "50%        50.846843\n",
      "75%        62.451165\n",
      "max       392.494040\n",
      "Name: rougher.input.feed_size, dtype: float64\n"
     ]
    },
    {
     "data": {
      "text/plain": [
       "<AxesSubplot:>"
      ]
     },
     "execution_count": 18,
     "metadata": {},
     "output_type": "execute_result"
    },
    {
     "data": {
      "image/png": "[encoded data removed]",
      "text/plain": [
       "<Figure size 432x288 with 1 Axes>"
      ]
     },
     "metadata": {
      "needs_background": "light"
     },
     "output_type": "display_data"
    }
   ],
   "source": [
    "print(data_test['rougher.input.feed_size'].describe())\n",
    "data_test.boxplot(column='rougher.input.feed_size')"
   ]
  },
  {
   "cell_type": "markdown",
   "metadata": {},
   "source": [
    "По данным графикам видно, что распеределения размеров гранул сырья на тестовой выборке в среднем меньше, чем на обучающей. Однако, нельзя сказать, что эта разница значительна. Средний размер гранул отличается совсем не значительно (60 и 55)."
   ]
  },
  {
   "cell_type": "markdown",
   "metadata": {},
   "source": [
    "Исследуем суммарную концентрацию всех веществ на разных стадиях: в сырье, в черновом и финальном концентратах."
   ]
  },
  {
   "cell_type": "code",
   "execution_count": 19,
   "metadata": {},
   "outputs": [
    {
     "name": "stdout",
     "output_type": "stream",
     "text": [
      "Суммарная концентрация всех веществ в сырье: 56.242169568286315\n",
      "Суммарная концентрация всех веществ в черновом концентрате: 67.17314539700826\n",
      "Суммарная концентрация всех веществ в финальном концентрате: 68.38787174692202\n"
     ]
    }
   ],
   "source": [
    "print('Суммарная концентрация всех веществ в сырье:', data_train['rougher.input.feed_ag'].mean() + data_train['rougher.input.feed_pb'].mean() + data_train['rougher.input.feed_sol'].mean() + data_train['rougher.input.feed_au'].mean())\n",
    "print('Суммарная концентрация всех веществ в черновом концентрате:', data_train['rougher.output.concentrate_ag'].mean() + data_train['rougher.output.concentrate_pb'].mean() + data_train['rougher.output.concentrate_sol'].mean() + data_train['rougher.output.concentrate_au'].mean())\n",
    "print('Суммарная концентрация всех веществ в финальном концентрате:', data_train['final.output.concentrate_ag'].mean() + data_train['final.output.concentrate_pb'].mean() + data_train['final.output.concentrate_sol'].mean() + data_train['final.output.concentrate_au'].mean())"
   ]
  },
  {
   "cell_type": "markdown",
   "metadata": {},
   "source": [
    "Посмотрим на распределение веществ в сырье."
   ]
  },
  {
   "cell_type": "code",
   "execution_count": 20,
   "metadata": {},
   "outputs": [
    {
     "data": {
      "text/plain": [
       "<matplotlib.legend.Legend at 0x7f717e522730>"
      ]
     },
     "execution_count": 20,
     "metadata": {},
     "output_type": "execute_result"
    },
    {
     "data": {
      "image/png": "[encoded data removed]",
      "text/plain": [
       "<Figure size 432x288 with 1 Axes>"
      ]
     },
     "metadata": {
      "needs_background": "light"
     },
     "output_type": "display_data"
    }
   ],
   "source": [
    "plt.hist(data_train['rougher.input.feed_ag'], label='ag')\n",
    "plt.hist(data_train['rougher.input.feed_pb'], label='pb')\n",
    "plt.hist(data_train['rougher.input.feed_sol'], label='sol')\n",
    "plt.hist(data_train['rougher.input.feed_au'], label='au')\n",
    "plt.legend()"
   ]
  },
  {
   "cell_type": "markdown",
   "metadata": {},
   "source": [
    "Посмотрим на распределение веществ в черновом концентрате:"
   ]
  },
  {
   "cell_type": "code",
   "execution_count": 21,
   "metadata": {},
   "outputs": [
    {
     "data": {
      "text/plain": [
       "<matplotlib.legend.Legend at 0x7f717e4e34c0>"
      ]
     },
     "execution_count": 21,
     "metadata": {},
     "output_type": "execute_result"
    },
    {
     "data": {
      "image/png": "[encoded data removed]",
      "text/plain": [
       "<Figure size 432x288 with 1 Axes>"
      ]
     },
     "metadata": {
      "needs_background": "light"
     },
     "output_type": "display_data"
    }
   ],
   "source": [
    "plt.hist(data_train['rougher.output.concentrate_ag'], label='ag')\n",
    "plt.hist(data_train['rougher.output.concentrate_pb'], label='pb')\n",
    "plt.hist(data_train['rougher.output.concentrate_sol'], label='sol')\n",
    "plt.hist(data_train['rougher.output.concentrate_au'], label='au')\n",
    "plt.legend()"
   ]
  },
  {
   "cell_type": "markdown",
   "metadata": {},
   "source": [
    "Посмотрим на распределение веществ в финальном концентрате:"
   ]
  },
  {
   "cell_type": "code",
   "execution_count": 22,
   "metadata": {},
   "outputs": [
    {
     "data": {
      "text/plain": [
       "<matplotlib.legend.Legend at 0x7f717e5170a0>"
      ]
     },
     "execution_count": 22,
     "metadata": {},
     "output_type": "execute_result"
    },
    {
     "data": {
      "image/png": "[encoded data removed]",
      "text/plain": [
       "<Figure size 432x288 with 1 Axes>"
      ]
     },
     "metadata": {
      "needs_background": "light"
     },
     "output_type": "display_data"
    }
   ],
   "source": [
    "plt.hist(data_train['final.output.concentrate_ag'], label='ag')\n",
    "plt.hist(data_train['final.output.concentrate_pb'], label='pb')\n",
    "plt.hist(data_train['final.output.concentrate_sol'], label='sol')\n",
    "plt.hist(data_train['final.output.concentrate_au'], label='au')\n",
    "plt.legend()"
   ]
  },
  {
   "cell_type": "markdown",
   "metadata": {},
   "source": [
    "**По данным графикам видно, как меняется доля всех веществ разных стадиях очистки, и как увеличивается концентрация золота.**"
   ]
  },
  {
   "cell_type": "markdown",
   "metadata": {},
   "source": [
    "## Модель"
   ]
  },
  {
   "cell_type": "code",
   "execution_count": 23,
   "metadata": {},
   "outputs": [
    {
     "data": {
      "text/plain": [
       "Index(['date', 'primary_cleaner.input.sulfate',\n",
       "       'primary_cleaner.input.depressant', 'primary_cleaner.input.feed_size',\n",
       "       'primary_cleaner.input.xanthate',\n",
       "       'primary_cleaner.state.floatbank8_a_air',\n",
       "       'primary_cleaner.state.floatbank8_a_level',\n",
       "       'primary_cleaner.state.floatbank8_b_air',\n",
       "       'primary_cleaner.state.floatbank8_b_level',\n",
       "       'primary_cleaner.state.floatbank8_c_air',\n",
       "       'primary_cleaner.state.floatbank8_c_level',\n",
       "       'primary_cleaner.state.floatbank8_d_air',\n",
       "       'primary_cleaner.state.floatbank8_d_level', 'rougher.input.feed_ag',\n",
       "       'rougher.input.feed_pb', 'rougher.input.feed_rate',\n",
       "       'rougher.input.feed_size', 'rougher.input.feed_sol',\n",
       "       'rougher.input.feed_au', 'rougher.input.floatbank10_sulfate',\n",
       "       'rougher.input.floatbank10_xanthate',\n",
       "       'rougher.input.floatbank11_sulfate',\n",
       "       'rougher.input.floatbank11_xanthate', 'rougher.state.floatbank10_a_air',\n",
       "       'rougher.state.floatbank10_a_level', 'rougher.state.floatbank10_b_air',\n",
       "       'rougher.state.floatbank10_b_level', 'rougher.state.floatbank10_c_air',\n",
       "       'rougher.state.floatbank10_c_level', 'rougher.state.floatbank10_d_air',\n",
       "       'rougher.state.floatbank10_d_level', 'rougher.state.floatbank10_e_air',\n",
       "       'rougher.state.floatbank10_e_level', 'rougher.state.floatbank10_f_air',\n",
       "       'rougher.state.floatbank10_f_level',\n",
       "       'secondary_cleaner.state.floatbank2_a_air',\n",
       "       'secondary_cleaner.state.floatbank2_a_level',\n",
       "       'secondary_cleaner.state.floatbank2_b_air',\n",
       "       'secondary_cleaner.state.floatbank2_b_level',\n",
       "       'secondary_cleaner.state.floatbank3_a_air',\n",
       "       'secondary_cleaner.state.floatbank3_a_level',\n",
       "       'secondary_cleaner.state.floatbank3_b_air',\n",
       "       'secondary_cleaner.state.floatbank3_b_level',\n",
       "       'secondary_cleaner.state.floatbank4_a_air',\n",
       "       'secondary_cleaner.state.floatbank4_a_level',\n",
       "       'secondary_cleaner.state.floatbank4_b_air',\n",
       "       'secondary_cleaner.state.floatbank4_b_level',\n",
       "       'secondary_cleaner.state.floatbank5_a_air',\n",
       "       'secondary_cleaner.state.floatbank5_a_level',\n",
       "       'secondary_cleaner.state.floatbank5_b_air',\n",
       "       'secondary_cleaner.state.floatbank5_b_level',\n",
       "       'secondary_cleaner.state.floatbank6_a_air',\n",
       "       'secondary_cleaner.state.floatbank6_a_level'],\n",
       "      dtype='object')"
      ]
     },
     "execution_count": 23,
     "metadata": {},
     "output_type": "execute_result"
    }
   ],
   "source": [
    "data_test.columns"
   ]
  },
  {
   "cell_type": "markdown",
   "metadata": {},
   "source": [
    "Выделим признаки и целевой признаки, масштабируем признаки. В качестве признаков будем использовать только те данные, которые есть и в обучающей, и в тестовой выборках."
   ]
  },
  {
   "cell_type": "code",
   "execution_count": 24,
   "metadata": {},
   "outputs": [],
   "source": [
    "features_list = ['primary_cleaner.input.sulfate',\n",
    "       'primary_cleaner.input.depressant', 'primary_cleaner.input.feed_size',\n",
    "       'primary_cleaner.input.xanthate',\n",
    "       'primary_cleaner.state.floatbank8_a_air',\n",
    "       'primary_cleaner.state.floatbank8_a_level',\n",
    "       'primary_cleaner.state.floatbank8_b_air',\n",
    "       'primary_cleaner.state.floatbank8_b_level',\n",
    "       'primary_cleaner.state.floatbank8_c_air',\n",
    "       'primary_cleaner.state.floatbank8_c_level',\n",
    "       'primary_cleaner.state.floatbank8_d_air',\n",
    "       'primary_cleaner.state.floatbank8_d_level', 'rougher.input.feed_ag',\n",
    "       'rougher.input.feed_pb', 'rougher.input.feed_rate',\n",
    "       'rougher.input.feed_size', 'rougher.input.feed_sol',\n",
    "       'rougher.input.feed_au', 'rougher.input.floatbank10_sulfate',\n",
    "       'rougher.input.floatbank10_xanthate',\n",
    "       'rougher.input.floatbank11_sulfate',\n",
    "       'rougher.input.floatbank11_xanthate', 'rougher.state.floatbank10_a_air',\n",
    "       'rougher.state.floatbank10_a_level', 'rougher.state.floatbank10_b_air',\n",
    "       'rougher.state.floatbank10_b_level', 'rougher.state.floatbank10_c_air',\n",
    "       'rougher.state.floatbank10_c_level', 'rougher.state.floatbank10_d_air',\n",
    "       'rougher.state.floatbank10_d_level', 'rougher.state.floatbank10_e_air',\n",
    "       'rougher.state.floatbank10_e_level', 'rougher.state.floatbank10_f_air',\n",
    "       'rougher.state.floatbank10_f_level',\n",
    "       'secondary_cleaner.state.floatbank2_a_air',\n",
    "       'secondary_cleaner.state.floatbank2_a_level',\n",
    "       'secondary_cleaner.state.floatbank2_b_air',\n",
    "       'secondary_cleaner.state.floatbank2_b_level',\n",
    "       'secondary_cleaner.state.floatbank3_a_air',\n",
    "       'secondary_cleaner.state.floatbank3_a_level',\n",
    "       'secondary_cleaner.state.floatbank3_b_air',\n",
    "       'secondary_cleaner.state.floatbank3_b_level',\n",
    "       'secondary_cleaner.state.floatbank4_a_air',\n",
    "       'secondary_cleaner.state.floatbank4_a_level',\n",
    "       'secondary_cleaner.state.floatbank4_b_air',\n",
    "       'secondary_cleaner.state.floatbank4_b_level',\n",
    "       'secondary_cleaner.state.floatbank5_a_air',\n",
    "       'secondary_cleaner.state.floatbank5_a_level',\n",
    "       'secondary_cleaner.state.floatbank5_b_air',\n",
    "       'secondary_cleaner.state.floatbank5_b_level',\n",
    "       'secondary_cleaner.state.floatbank6_a_air',\n",
    "       'secondary_cleaner.state.floatbank6_a_level']\n",
    "features_train = data_train[features_list]\n",
    "target_train = data_train[['rougher.output.recovery', 'final.output.recovery']]\n",
    "features_test = data_test[features_list]\n",
    "\n",
    "scaler = StandardScaler()\n",
    "scaler.fit(features_train[features_list])\n",
    "features_train[features_list] = scaler.transform(features_train[features_list])\n",
    "features_test[features_list] = scaler.transform(features_test[features_list])"
   ]
  },
  {
   "cell_type": "markdown",
   "metadata": {},
   "source": [
    "Напишем функцию для вычисления итоговой sMAPE."
   ]
  },
  {
   "cell_type": "code",
   "execution_count": 25,
   "metadata": {},
   "outputs": [],
   "source": [
    "def total_smape(y_true,y_pred):\n",
    "    numerator = np.abs(y_true - y_pred)\n",
    "    denominator = (np.abs(y_true) + np.abs(y_pred))/2\n",
    "    smape = ((numerator/denominator)*100).sum() / len(y_pred)\n",
    "    return 0.25*smape[0] + 0.75*smape[1]\n",
    "\n",
    "smape_scorer = make_scorer(total_smape, greater_is_better=False)"
   ]
  },
  {
   "cell_type": "markdown",
   "metadata": {},
   "source": [
    "Создадим модель линейной регресси и прверим ее качество:"
   ]
  },
  {
   "cell_type": "code",
   "execution_count": 26,
   "metadata": {},
   "outputs": [
    {
     "name": "stdout",
     "output_type": "stream",
     "text": [
      "Средняя оценка качества модели: -12.384596104847187\n"
     ]
    }
   ],
   "source": [
    "model = LinearRegression()\n",
    "score = cross_val_score(model, features_train, target_train, scoring=smape_scorer, cv=5).mean()\n",
    "print('Средняя оценка качества модели:', score)"
   ]
  },
  {
   "cell_type": "code",
   "execution_count": 27,
   "metadata": {},
   "outputs": [],
   "source": [
    "# # ячейка ревьюера\n",
    "\n",
    "# import numpy as np\n",
    "\n",
    "# def total_smape(y_true,y_pred):\n",
    "#     numerator = np.abs(y_true - y_pred)\n",
    "#     denominator = (np.abs(y_true) + np.abs(y_pred))/2\n",
    "#     smape = ((numerator/denominator)*100).sum() / len(y_pred)\n",
    "#     return 0.25*smape[0] + 0.75*smape[1]\n",
    "\n",
    "\n",
    "# smape_scorer_new = make_scorer(total_smape, greater_is_better=False)\n",
    "\n",
    "# model = LinearRegression()\n",
    "# score = abs(cross_val_score(model, features_train, target_train, scoring=smape_scorer_new, cv=5, error_score=\"raise\").mean())\n",
    "\n",
    "\n",
    "# print('Средняя оценка качества модели:', score)\n"
   ]
  },
  {
   "cell_type": "markdown",
   "metadata": {},
   "source": [
    "Посторим модель древа решений и подберем лучшие параметры:"
   ]
  },
  {
   "cell_type": "code",
   "execution_count": 28,
   "metadata": {},
   "outputs": [
    {
     "data": {
      "text/plain": [
       "DecisionTreeRegressor(max_depth=5, random_state=12345)"
      ]
     },
     "execution_count": 28,
     "metadata": {},
     "output_type": "execute_result"
    }
   ],
   "source": [
    "model = DecisionTreeRegressor(random_state=12345)\n",
    "GSCV = GridSearchCV(model, {'max_depth': list(range(1, 50))}, cv=5, scoring=smape_scorer)\n",
    "GSCV.fit(features_train, target_train)\n",
    "GSCV.best_estimator_"
   ]
  },
  {
   "cell_type": "markdown",
   "metadata": {},
   "source": [
    "Лучшая глубина для древа решений - 5. Проверим качество данной модели:"
   ]
  },
  {
   "cell_type": "code",
   "execution_count": 29,
   "metadata": {},
   "outputs": [
    {
     "name": "stdout",
     "output_type": "stream",
     "text": [
      "Средняя оценка качества модели: -10.952668842678056\n"
     ]
    }
   ],
   "source": [
    "model = DecisionTreeRegressor(max_depth=5, random_state=12345)\n",
    "score = cross_val_score(model, features_train, target_train, scoring=smape_scorer, cv=5).mean()\n",
    "print('Средняя оценка качества модели:', score)"
   ]
  },
  {
   "cell_type": "markdown",
   "metadata": {},
   "source": [
    "Построим модель случайного леса и подберем лучшие параметры:"
   ]
  },
  {
   "cell_type": "code",
   "execution_count": 30,
   "metadata": {},
   "outputs": [
    {
     "data": {
      "text/plain": [
       "{'n_estimators': 17, 'max_depth': 6}"
      ]
     },
     "execution_count": 30,
     "metadata": {},
     "output_type": "execute_result"
    }
   ],
   "source": [
    "model = RandomForestRegressor(random_state=12345)\n",
    "RSCV = RandomizedSearchCV(model, {'max_depth': list(range(1, 50)), 'n_estimators': list(range(1, 20))}, cv=5, scoring=smape_scorer)\n",
    "RSCV.fit(features_train, target_train)\n",
    "RSCV.best_params_"
   ]
  },
  {
   "cell_type": "markdown",
   "metadata": {},
   "source": [
    "Лучшее количество деревьев для случайного леса - 3, глубина древа - 7. Проверим качество данной модели."
   ]
  },
  {
   "cell_type": "code",
   "execution_count": 31,
   "metadata": {},
   "outputs": [
    {
     "name": "stdout",
     "output_type": "stream",
     "text": [
      "Средняя оценка качества модели: -11.883776950371168\n"
     ]
    }
   ],
   "source": [
    "model = RandomForestRegressor(random_state=12345, n_estimators=3, max_depth=7)\n",
    "score = cross_val_score(model, features_train, target_train, scoring=smape_scorer, cv=5).mean()\n",
    "print('Средняя оценка качества модели:', score)"
   ]
  },
  {
   "cell_type": "markdown",
   "metadata": {},
   "source": [
    "**Наилучший результат показала модель дерева решений с максимальной глубиной дерева - 5. Проверим данную модель на тестовой выборке.**"
   ]
  },
  {
   "cell_type": "markdown",
   "metadata": {},
   "source": [
    "Выделим целевой признак для тестовой выборки:"
   ]
  },
  {
   "cell_type": "code",
   "execution_count": 32,
   "metadata": {},
   "outputs": [],
   "source": [
    "target_test = data_test.merge(data_full, how='left')\n",
    "target_test = target_test[['rougher.output.recovery', 'final.output.recovery']]"
   ]
  },
  {
   "cell_type": "markdown",
   "metadata": {},
   "source": [
    "Проверим модель:"
   ]
  },
  {
   "cell_type": "code",
   "execution_count": 33,
   "metadata": {},
   "outputs": [
    {
     "name": "stdout",
     "output_type": "stream",
     "text": [
      "SMAPE тестовой выборки: 9.53956632407638\n"
     ]
    }
   ],
   "source": [
    "model = DecisionTreeRegressor(max_depth=5, random_state=12345)\n",
    "model.fit(features_train, target_train)\n",
    "predicted_test = model.predict(features_test)\n",
    "smape = total_smape(target_test, predicted_test)\n",
    "print('SMAPE тестовой выборки:', smape)"
   ]
  },
  {
   "cell_type": "markdown",
   "metadata": {},
   "source": [
    "Результат тестовой выборки почти не отличается от результата тестовой. Модель прошла тестирование. Проверим модель на адекватность:"
   ]
  },
  {
   "cell_type": "code",
   "execution_count": 34,
   "metadata": {},
   "outputs": [
    {
     "name": "stdout",
     "output_type": "stream",
     "text": [
      "10.289630376021034\n"
     ]
    }
   ],
   "source": [
    "dummy = DummyRegressor(strategy='mean')\n",
    "dummy.fit(features_train, target_train)\n",
    "predicted_test = dummy.predict(features_test)\n",
    "smape = total_smape(target_test, predicted_test)\n",
    "print(smape)"
   ]
  },
  {
   "cell_type": "markdown",
   "metadata": {},
   "source": [
    "Результат выбранной модели лучше, чем результат случайной. Модель прошла проверку на адекватность."
   ]
  },
  {
   "cell_type": "markdown",
   "metadata": {},
   "source": [
    "**Финальный вывод**  \n",
    "В рамках исследования были проанализированы данные с параметрами добычи и очистки сырья. Данные были обработаны, заполнены пропуски, проверны аномальные значения. Были построены и оценены несколько моделей для предсказания коэффициента восстановления золота из золотосодержащей руды. Выбрана лучшая модель - дерево решений максимальной глубиной дерева - 5."
   ]
  }
 ],
 "metadata": {
  "ExecuteTimeLog": [
   {
    "duration": 410,
    "start_time": "2022-08-09T12:30:39.809Z"
   },
   {
    "duration": 91,
    "start_time": "2022-08-09T12:31:59.729Z"
   },
   {
    "duration": 799,
    "start_time": "2022-08-09T12:32:29.748Z"
   },
   {
    "duration": 716,
    "start_time": "2022-08-09T12:34:44.676Z"
   },
   {
    "duration": 1988,
    "start_time": "2022-08-09T12:35:00.095Z"
   },
   {
    "duration": 415,
    "start_time": "2022-08-09T12:35:06.088Z"
   },
   {
    "duration": 630,
    "start_time": "2022-08-09T12:35:06.504Z"
   },
   {
    "duration": 25,
    "start_time": "2022-08-09T12:35:28.965Z"
   },
   {
    "duration": 19,
    "start_time": "2022-08-09T12:37:29.028Z"
   },
   {
    "duration": 216,
    "start_time": "2022-08-09T12:38:36.946Z"
   },
   {
    "duration": 137,
    "start_time": "2022-08-09T12:39:15.506Z"
   },
   {
    "duration": 3,
    "start_time": "2022-08-09T12:39:45.146Z"
   },
   {
    "duration": 117,
    "start_time": "2022-08-09T12:43:45.803Z"
   },
   {
    "duration": 130,
    "start_time": "2022-08-09T12:44:20.152Z"
   },
   {
    "duration": 8,
    "start_time": "2022-08-09T12:46:40.861Z"
   },
   {
    "duration": 52,
    "start_time": "2022-08-09T12:47:16.898Z"
   },
   {
    "duration": 10,
    "start_time": "2022-08-09T12:47:33.698Z"
   },
   {
    "duration": 13,
    "start_time": "2022-08-09T12:48:09.095Z"
   },
   {
    "duration": 13,
    "start_time": "2022-08-09T12:48:25.164Z"
   },
   {
    "duration": 49,
    "start_time": "2022-08-09T12:57:44.550Z"
   },
   {
    "duration": 88,
    "start_time": "2022-08-09T12:58:46.914Z"
   },
   {
    "duration": 65,
    "start_time": "2022-08-09T13:01:08.265Z"
   },
   {
    "duration": 6,
    "start_time": "2022-08-09T13:02:02.163Z"
   },
   {
    "duration": 6,
    "start_time": "2022-08-09T13:02:12.323Z"
   },
   {
    "duration": 82,
    "start_time": "2022-08-09T13:03:31.790Z"
   },
   {
    "duration": 96,
    "start_time": "2022-08-09T13:03:48.957Z"
   },
   {
    "duration": 121,
    "start_time": "2022-08-09T13:03:57.181Z"
   },
   {
    "duration": 235,
    "start_time": "2022-08-09T13:04:13.706Z"
   },
   {
    "duration": 227,
    "start_time": "2022-08-09T13:04:23.481Z"
   },
   {
    "duration": 14,
    "start_time": "2022-08-09T13:04:42.399Z"
   },
   {
    "duration": 10,
    "start_time": "2022-08-09T13:04:50.714Z"
   },
   {
    "duration": 10,
    "start_time": "2022-08-09T13:04:57.624Z"
   },
   {
    "duration": 341,
    "start_time": "2022-08-09T13:05:04.161Z"
   },
   {
    "duration": 635,
    "start_time": "2022-08-09T13:05:04.504Z"
   },
   {
    "duration": 23,
    "start_time": "2022-08-09T13:05:05.140Z"
   },
   {
    "duration": 18,
    "start_time": "2022-08-09T13:05:05.164Z"
   },
   {
    "duration": 224,
    "start_time": "2022-08-09T13:05:05.184Z"
   },
   {
    "duration": 3,
    "start_time": "2022-08-09T13:05:05.410Z"
   },
   {
    "duration": 19,
    "start_time": "2022-08-09T13:05:05.414Z"
   },
   {
    "duration": 12,
    "start_time": "2022-08-09T13:05:05.434Z"
   },
   {
    "duration": 155,
    "start_time": "2022-08-09T13:05:05.448Z"
   },
   {
    "duration": 14,
    "start_time": "2022-08-09T13:05:05.604Z"
   },
   {
    "duration": 255,
    "start_time": "2022-08-09T13:05:05.619Z"
   },
   {
    "duration": 22,
    "start_time": "2022-08-09T13:05:05.875Z"
   },
   {
    "duration": 3,
    "start_time": "2022-08-09T14:53:49.867Z"
   },
   {
    "duration": 669,
    "start_time": "2022-08-09T14:54:33.328Z"
   },
   {
    "duration": 31,
    "start_time": "2022-08-09T14:55:12.635Z"
   },
   {
    "duration": 108,
    "start_time": "2022-08-09T14:56:54.124Z"
   },
   {
    "duration": 8,
    "start_time": "2022-08-09T14:57:12.062Z"
   },
   {
    "duration": 8,
    "start_time": "2022-08-09T14:57:31.213Z"
   },
   {
    "duration": 8,
    "start_time": "2022-08-09T14:57:41.794Z"
   },
   {
    "duration": 1045,
    "start_time": "2022-08-09T14:57:47.585Z"
   },
   {
    "duration": 655,
    "start_time": "2022-08-09T14:57:48.632Z"
   },
   {
    "duration": 26,
    "start_time": "2022-08-09T14:57:49.289Z"
   },
   {
    "duration": 20,
    "start_time": "2022-08-09T14:57:49.316Z"
   },
   {
    "duration": 243,
    "start_time": "2022-08-09T14:57:49.338Z"
   },
   {
    "duration": 4,
    "start_time": "2022-08-09T14:57:49.582Z"
   },
   {
    "duration": 51,
    "start_time": "2022-08-09T14:57:49.587Z"
   },
   {
    "duration": 13,
    "start_time": "2022-08-09T14:57:49.640Z"
   },
   {
    "duration": 147,
    "start_time": "2022-08-09T14:57:49.655Z"
   },
   {
    "duration": 15,
    "start_time": "2022-08-09T14:57:49.803Z"
   },
   {
    "duration": 263,
    "start_time": "2022-08-09T14:57:49.819Z"
   },
   {
    "duration": 9,
    "start_time": "2022-08-09T14:57:50.084Z"
   },
   {
    "duration": 17,
    "start_time": "2022-08-09T14:57:50.095Z"
   },
   {
    "duration": 12,
    "start_time": "2022-08-09T14:57:50.114Z"
   },
   {
    "duration": 119,
    "start_time": "2022-08-09T14:58:16.024Z"
   },
   {
    "duration": 7,
    "start_time": "2022-08-09T14:58:21.366Z"
   },
   {
    "duration": 3,
    "start_time": "2022-08-09T14:58:35.681Z"
   },
   {
    "duration": 5,
    "start_time": "2022-08-09T15:01:57.622Z"
   },
   {
    "duration": 7,
    "start_time": "2022-08-09T15:02:28.441Z"
   },
   {
    "duration": 2,
    "start_time": "2022-08-09T15:03:21.032Z"
   },
   {
    "duration": 7,
    "start_time": "2022-08-09T15:04:32.464Z"
   },
   {
    "duration": 9,
    "start_time": "2022-08-09T15:08:02.668Z"
   },
   {
    "duration": 13,
    "start_time": "2022-08-09T15:11:22.786Z"
   },
   {
    "duration": 9,
    "start_time": "2022-08-09T15:11:27.597Z"
   },
   {
    "duration": 9,
    "start_time": "2022-08-09T15:11:42.682Z"
   },
   {
    "duration": 1091,
    "start_time": "2022-08-09T15:23:22.566Z"
   },
   {
    "duration": 656,
    "start_time": "2022-08-09T15:23:23.659Z"
   },
   {
    "duration": 38,
    "start_time": "2022-08-09T15:23:24.316Z"
   },
   {
    "duration": 26,
    "start_time": "2022-08-09T15:23:24.356Z"
   },
   {
    "duration": 261,
    "start_time": "2022-08-09T15:23:24.386Z"
   },
   {
    "duration": 3,
    "start_time": "2022-08-09T15:23:24.649Z"
   },
   {
    "duration": 27,
    "start_time": "2022-08-09T15:23:24.653Z"
   },
   {
    "duration": 28,
    "start_time": "2022-08-09T15:23:24.684Z"
   },
   {
    "duration": 160,
    "start_time": "2022-08-09T15:23:24.714Z"
   },
   {
    "duration": 15,
    "start_time": "2022-08-09T15:23:24.876Z"
   },
   {
    "duration": 308,
    "start_time": "2022-08-09T15:23:24.894Z"
   },
   {
    "duration": 14,
    "start_time": "2022-08-09T15:23:25.204Z"
   },
   {
    "duration": 10,
    "start_time": "2022-08-09T15:23:25.220Z"
   },
   {
    "duration": 5,
    "start_time": "2022-08-09T15:28:32.133Z"
   },
   {
    "duration": 5,
    "start_time": "2022-08-09T15:28:39.151Z"
   },
   {
    "duration": 4,
    "start_time": "2022-08-09T15:29:32.012Z"
   },
   {
    "duration": 5,
    "start_time": "2022-08-09T15:31:20.838Z"
   },
   {
    "duration": 5,
    "start_time": "2022-08-09T15:32:18.001Z"
   },
   {
    "duration": 5,
    "start_time": "2022-08-09T15:33:14.884Z"
   },
   {
    "duration": 5,
    "start_time": "2022-08-09T15:34:54.202Z"
   },
   {
    "duration": 6,
    "start_time": "2022-08-09T15:35:44.436Z"
   },
   {
    "duration": 1060,
    "start_time": "2022-08-09T15:36:52.443Z"
   },
   {
    "duration": 665,
    "start_time": "2022-08-09T15:36:53.506Z"
   },
   {
    "duration": 26,
    "start_time": "2022-08-09T15:36:54.173Z"
   },
   {
    "duration": 25,
    "start_time": "2022-08-09T15:36:54.200Z"
   },
   {
    "duration": 236,
    "start_time": "2022-08-09T15:36:54.228Z"
   },
   {
    "duration": 4,
    "start_time": "2022-08-09T15:36:54.466Z"
   },
   {
    "duration": 21,
    "start_time": "2022-08-09T15:36:54.472Z"
   },
   {
    "duration": 28,
    "start_time": "2022-08-09T15:36:54.494Z"
   },
   {
    "duration": 151,
    "start_time": "2022-08-09T15:36:54.524Z"
   },
   {
    "duration": 10,
    "start_time": "2022-08-09T15:36:54.676Z"
   },
   {
    "duration": 260,
    "start_time": "2022-08-09T15:36:54.687Z"
   },
   {
    "duration": 9,
    "start_time": "2022-08-09T15:36:54.949Z"
   },
   {
    "duration": 7,
    "start_time": "2022-08-09T15:36:54.960Z"
   },
   {
    "duration": 9,
    "start_time": "2022-08-09T15:36:54.970Z"
   },
   {
    "duration": 7,
    "start_time": "2022-08-09T15:36:54.980Z"
   },
   {
    "duration": 26,
    "start_time": "2022-08-09T15:36:54.988Z"
   },
   {
    "duration": 434,
    "start_time": "2022-08-09T15:38:41.015Z"
   },
   {
    "duration": 6,
    "start_time": "2022-08-09T15:39:55.985Z"
   },
   {
    "duration": 5,
    "start_time": "2022-08-09T15:40:09.253Z"
   },
   {
    "duration": 110,
    "start_time": "2022-08-09T15:41:59.065Z"
   },
   {
    "duration": 101,
    "start_time": "2022-08-09T15:42:25.448Z"
   },
   {
    "duration": 102,
    "start_time": "2022-08-09T15:44:07.333Z"
   },
   {
    "duration": 103,
    "start_time": "2022-08-09T15:44:23.044Z"
   },
   {
    "duration": 5,
    "start_time": "2022-08-09T15:51:30.565Z"
   },
   {
    "duration": 7,
    "start_time": "2022-08-09T15:52:39.529Z"
   },
   {
    "duration": 5,
    "start_time": "2022-08-09T15:53:38.058Z"
   },
   {
    "duration": 6,
    "start_time": "2022-08-09T15:55:01.958Z"
   },
   {
    "duration": 7,
    "start_time": "2022-08-09T15:56:03.967Z"
   },
   {
    "duration": 1314,
    "start_time": "2022-08-09T15:56:11.586Z"
   },
   {
    "duration": 679,
    "start_time": "2022-08-09T15:56:12.903Z"
   },
   {
    "duration": 37,
    "start_time": "2022-08-09T15:56:13.583Z"
   },
   {
    "duration": 25,
    "start_time": "2022-08-09T15:56:13.622Z"
   },
   {
    "duration": 230,
    "start_time": "2022-08-09T15:56:13.650Z"
   },
   {
    "duration": 3,
    "start_time": "2022-08-09T15:56:13.882Z"
   },
   {
    "duration": 38,
    "start_time": "2022-08-09T15:56:13.887Z"
   },
   {
    "duration": 16,
    "start_time": "2022-08-09T15:56:13.927Z"
   },
   {
    "duration": 157,
    "start_time": "2022-08-09T15:56:13.945Z"
   },
   {
    "duration": 15,
    "start_time": "2022-08-09T15:56:14.103Z"
   },
   {
    "duration": 253,
    "start_time": "2022-08-09T15:56:14.119Z"
   },
   {
    "duration": 10,
    "start_time": "2022-08-09T15:56:14.374Z"
   },
   {
    "duration": 7,
    "start_time": "2022-08-09T15:56:14.385Z"
   },
   {
    "duration": 20,
    "start_time": "2022-08-09T15:56:14.394Z"
   },
   {
    "duration": 6,
    "start_time": "2022-08-09T15:56:14.415Z"
   },
   {
    "duration": 6,
    "start_time": "2022-08-09T15:56:14.423Z"
   },
   {
    "duration": 143,
    "start_time": "2022-08-09T15:56:14.431Z"
   },
   {
    "duration": 120,
    "start_time": "2022-08-09T15:56:14.576Z"
   },
   {
    "duration": 16,
    "start_time": "2022-08-09T15:56:14.698Z"
   },
   {
    "duration": 3,
    "start_time": "2022-08-09T16:30:59.839Z"
   },
   {
    "duration": 5,
    "start_time": "2022-08-09T16:32:44.720Z"
   },
   {
    "duration": 4,
    "start_time": "2022-08-09T16:33:26.221Z"
   },
   {
    "duration": 6,
    "start_time": "2022-08-09T16:33:51.918Z"
   },
   {
    "duration": 135,
    "start_time": "2022-08-09T16:34:19.484Z"
   },
   {
    "duration": 70,
    "start_time": "2022-08-09T16:34:51.692Z"
   },
   {
    "duration": 7,
    "start_time": "2022-08-09T16:36:39.190Z"
   },
   {
    "duration": 28,
    "start_time": "2022-08-09T16:36:46.989Z"
   },
   {
    "duration": 986,
    "start_time": "2022-08-09T16:37:47.734Z"
   },
   {
    "duration": 9,
    "start_time": "2022-08-09T16:38:00.739Z"
   },
   {
    "duration": 16,
    "start_time": "2022-08-09T16:38:06.601Z"
   },
   {
    "duration": 847,
    "start_time": "2022-08-09T16:38:25.370Z"
   },
   {
    "duration": 8,
    "start_time": "2022-08-09T16:38:35.262Z"
   },
   {
    "duration": 15,
    "start_time": "2022-08-09T16:40:08.507Z"
   },
   {
    "duration": 15,
    "start_time": "2022-08-09T16:40:24.419Z"
   },
   {
    "duration": 20,
    "start_time": "2022-08-09T16:40:52.420Z"
   },
   {
    "duration": 1415,
    "start_time": "2022-08-09T16:41:22.110Z"
   },
   {
    "duration": 654,
    "start_time": "2022-08-09T16:41:23.527Z"
   },
   {
    "duration": 28,
    "start_time": "2022-08-09T16:41:24.183Z"
   },
   {
    "duration": 17,
    "start_time": "2022-08-09T16:41:24.213Z"
   },
   {
    "duration": 249,
    "start_time": "2022-08-09T16:41:24.232Z"
   },
   {
    "duration": 4,
    "start_time": "2022-08-09T16:41:24.483Z"
   },
   {
    "duration": 43,
    "start_time": "2022-08-09T16:41:24.489Z"
   },
   {
    "duration": 14,
    "start_time": "2022-08-09T16:41:24.534Z"
   },
   {
    "duration": 172,
    "start_time": "2022-08-09T16:41:24.550Z"
   },
   {
    "duration": 11,
    "start_time": "2022-08-09T16:41:24.724Z"
   },
   {
    "duration": 250,
    "start_time": "2022-08-09T16:41:24.737Z"
   },
   {
    "duration": 10,
    "start_time": "2022-08-09T16:41:24.988Z"
   },
   {
    "duration": 16,
    "start_time": "2022-08-09T16:41:25.000Z"
   },
   {
    "duration": 23,
    "start_time": "2022-08-09T16:41:25.017Z"
   },
   {
    "duration": 36,
    "start_time": "2022-08-09T16:41:25.042Z"
   },
   {
    "duration": 17,
    "start_time": "2022-08-09T16:41:25.079Z"
   },
   {
    "duration": 135,
    "start_time": "2022-08-09T16:41:25.097Z"
   },
   {
    "duration": 122,
    "start_time": "2022-08-09T16:41:25.234Z"
   },
   {
    "duration": 8,
    "start_time": "2022-08-09T16:41:25.358Z"
   },
   {
    "duration": 24,
    "start_time": "2022-08-09T16:41:25.367Z"
   },
   {
    "duration": 35,
    "start_time": "2022-08-09T16:41:25.393Z"
   },
   {
    "duration": 3,
    "start_time": "2022-08-09T16:44:07.475Z"
   },
   {
    "duration": 39,
    "start_time": "2022-08-09T16:47:46.044Z"
   },
   {
    "duration": 4,
    "start_time": "2022-08-09T16:48:08.420Z"
   },
   {
    "duration": 1305,
    "start_time": "2022-08-09T16:48:12.333Z"
   },
   {
    "duration": 650,
    "start_time": "2022-08-09T16:48:13.640Z"
   },
   {
    "duration": 27,
    "start_time": "2022-08-09T16:48:14.291Z"
   },
   {
    "duration": 18,
    "start_time": "2022-08-09T16:48:14.320Z"
   },
   {
    "duration": 233,
    "start_time": "2022-08-09T16:48:14.341Z"
   },
   {
    "duration": 4,
    "start_time": "2022-08-09T16:48:14.575Z"
   },
   {
    "duration": 17,
    "start_time": "2022-08-09T16:48:14.581Z"
   },
   {
    "duration": 13,
    "start_time": "2022-08-09T16:48:14.611Z"
   },
   {
    "duration": 146,
    "start_time": "2022-08-09T16:48:14.626Z"
   },
   {
    "duration": 10,
    "start_time": "2022-08-09T16:48:14.775Z"
   },
   {
    "duration": 258,
    "start_time": "2022-08-09T16:48:14.787Z"
   },
   {
    "duration": 10,
    "start_time": "2022-08-09T16:48:15.047Z"
   },
   {
    "duration": 7,
    "start_time": "2022-08-09T16:48:15.059Z"
   },
   {
    "duration": 5,
    "start_time": "2022-08-09T16:48:15.068Z"
   },
   {
    "duration": 8,
    "start_time": "2022-08-09T16:48:15.074Z"
   },
   {
    "duration": 28,
    "start_time": "2022-08-09T16:48:15.084Z"
   },
   {
    "duration": 131,
    "start_time": "2022-08-09T16:48:15.114Z"
   },
   {
    "duration": 116,
    "start_time": "2022-08-09T16:48:15.247Z"
   },
   {
    "duration": 7,
    "start_time": "2022-08-09T16:48:15.365Z"
   },
   {
    "duration": 10,
    "start_time": "2022-08-09T16:48:15.374Z"
   },
   {
    "duration": 73,
    "start_time": "2022-08-09T16:48:15.386Z"
   },
   {
    "duration": 37,
    "start_time": "2022-08-09T16:49:18.110Z"
   },
   {
    "duration": 1401,
    "start_time": "2022-08-10T17:14:50.348Z"
   },
   {
    "duration": 3792,
    "start_time": "2022-08-10T17:14:51.753Z"
   },
   {
    "duration": 22,
    "start_time": "2022-08-10T17:14:55.550Z"
   },
   {
    "duration": 48,
    "start_time": "2022-08-10T17:14:55.574Z"
   },
   {
    "duration": 266,
    "start_time": "2022-08-10T17:14:55.624Z"
   },
   {
    "duration": 3,
    "start_time": "2022-08-10T17:14:55.891Z"
   },
   {
    "duration": 19,
    "start_time": "2022-08-10T17:14:55.895Z"
   },
   {
    "duration": 28,
    "start_time": "2022-08-10T17:14:55.915Z"
   },
   {
    "duration": 134,
    "start_time": "2022-08-10T17:14:55.944Z"
   },
   {
    "duration": 11,
    "start_time": "2022-08-10T17:14:56.080Z"
   },
   {
    "duration": 280,
    "start_time": "2022-08-10T17:14:56.092Z"
   },
   {
    "duration": 10,
    "start_time": "2022-08-10T17:14:56.374Z"
   },
   {
    "duration": 7,
    "start_time": "2022-08-10T17:14:56.386Z"
   },
   {
    "duration": 5,
    "start_time": "2022-08-10T17:14:56.396Z"
   },
   {
    "duration": 13,
    "start_time": "2022-08-10T17:14:56.402Z"
   },
   {
    "duration": 25,
    "start_time": "2022-08-10T17:14:56.417Z"
   },
   {
    "duration": 109,
    "start_time": "2022-08-10T17:14:56.451Z"
   },
   {
    "duration": 115,
    "start_time": "2022-08-10T17:14:56.561Z"
   },
   {
    "duration": 7,
    "start_time": "2022-08-10T17:14:56.677Z"
   },
   {
    "duration": 11,
    "start_time": "2022-08-10T17:14:56.685Z"
   },
   {
    "duration": 54,
    "start_time": "2022-08-10T17:14:56.697Z"
   },
   {
    "duration": 3,
    "start_time": "2022-08-10T17:17:41.130Z"
   },
   {
    "duration": 26,
    "start_time": "2022-08-10T17:28:58.198Z"
   },
   {
    "duration": 99,
    "start_time": "2022-08-10T17:30:04.435Z"
   },
   {
    "duration": 14,
    "start_time": "2022-08-10T17:30:34.828Z"
   },
   {
    "duration": 8,
    "start_time": "2022-08-10T17:30:58.112Z"
   },
   {
    "duration": 35,
    "start_time": "2022-08-10T17:31:45.060Z"
   },
   {
    "duration": 13,
    "start_time": "2022-08-10T17:31:51.936Z"
   },
   {
    "duration": 39,
    "start_time": "2022-08-10T17:32:05.531Z"
   },
   {
    "duration": 1391,
    "start_time": "2022-08-10T17:32:14.661Z"
   },
   {
    "duration": 695,
    "start_time": "2022-08-10T17:32:16.054Z"
   },
   {
    "duration": 22,
    "start_time": "2022-08-10T17:32:16.753Z"
   },
   {
    "duration": 16,
    "start_time": "2022-08-10T17:32:16.777Z"
   },
   {
    "duration": 235,
    "start_time": "2022-08-10T17:32:16.795Z"
   },
   {
    "duration": 4,
    "start_time": "2022-08-10T17:32:17.031Z"
   },
   {
    "duration": 23,
    "start_time": "2022-08-10T17:32:17.040Z"
   },
   {
    "duration": 11,
    "start_time": "2022-08-10T17:32:17.065Z"
   },
   {
    "duration": 138,
    "start_time": "2022-08-10T17:32:17.077Z"
   },
   {
    "duration": 9,
    "start_time": "2022-08-10T17:32:17.218Z"
   },
   {
    "duration": 257,
    "start_time": "2022-08-10T17:32:17.228Z"
   },
   {
    "duration": 10,
    "start_time": "2022-08-10T17:32:17.487Z"
   },
   {
    "duration": 6,
    "start_time": "2022-08-10T17:32:17.499Z"
   },
   {
    "duration": 5,
    "start_time": "2022-08-10T17:32:17.506Z"
   },
   {
    "duration": 36,
    "start_time": "2022-08-10T17:32:17.513Z"
   },
   {
    "duration": 11,
    "start_time": "2022-08-10T17:32:17.551Z"
   },
   {
    "duration": 110,
    "start_time": "2022-08-10T17:32:17.564Z"
   },
   {
    "duration": 117,
    "start_time": "2022-08-10T17:32:17.676Z"
   },
   {
    "duration": 7,
    "start_time": "2022-08-10T17:32:17.794Z"
   },
   {
    "duration": 7,
    "start_time": "2022-08-10T17:32:17.802Z"
   },
   {
    "duration": 51,
    "start_time": "2022-08-10T17:32:17.810Z"
   },
   {
    "duration": 4,
    "start_time": "2022-08-10T17:32:17.862Z"
   },
   {
    "duration": 107,
    "start_time": "2022-08-10T17:32:17.867Z"
   },
   {
    "duration": 219,
    "start_time": "2022-08-10T17:34:34.325Z"
   },
   {
    "duration": 4,
    "start_time": "2022-08-10T17:35:39.419Z"
   },
   {
    "duration": 35,
    "start_time": "2022-08-10T17:36:36.034Z"
   },
   {
    "duration": 1229,
    "start_time": "2022-08-10T17:36:41.468Z"
   },
   {
    "duration": 733,
    "start_time": "2022-08-10T17:36:42.699Z"
   },
   {
    "duration": 29,
    "start_time": "2022-08-10T17:36:43.433Z"
   },
   {
    "duration": 18,
    "start_time": "2022-08-10T17:36:43.464Z"
   },
   {
    "duration": 241,
    "start_time": "2022-08-10T17:36:43.484Z"
   },
   {
    "duration": 19,
    "start_time": "2022-08-10T17:36:43.727Z"
   },
   {
    "duration": 21,
    "start_time": "2022-08-10T17:36:43.748Z"
   },
   {
    "duration": 11,
    "start_time": "2022-08-10T17:36:43.770Z"
   },
   {
    "duration": 132,
    "start_time": "2022-08-10T17:36:43.782Z"
   },
   {
    "duration": 9,
    "start_time": "2022-08-10T17:36:43.916Z"
   },
   {
    "duration": 269,
    "start_time": "2022-08-10T17:36:43.927Z"
   },
   {
    "duration": 9,
    "start_time": "2022-08-10T17:36:44.198Z"
   },
   {
    "duration": 7,
    "start_time": "2022-08-10T17:36:44.208Z"
   },
   {
    "duration": 26,
    "start_time": "2022-08-10T17:36:44.217Z"
   },
   {
    "duration": 6,
    "start_time": "2022-08-10T17:36:44.254Z"
   },
   {
    "duration": 16,
    "start_time": "2022-08-10T17:36:44.263Z"
   },
   {
    "duration": 126,
    "start_time": "2022-08-10T17:36:44.281Z"
   },
   {
    "duration": 152,
    "start_time": "2022-08-10T17:36:44.410Z"
   },
   {
    "duration": 8,
    "start_time": "2022-08-10T17:36:44.564Z"
   },
   {
    "duration": 6,
    "start_time": "2022-08-10T17:36:44.574Z"
   },
   {
    "duration": 70,
    "start_time": "2022-08-10T17:36:44.582Z"
   },
   {
    "duration": 3,
    "start_time": "2022-08-10T17:36:44.654Z"
   },
   {
    "duration": 187,
    "start_time": "2022-08-10T17:36:44.658Z"
   },
   {
    "duration": 1257,
    "start_time": "2022-08-10T17:38:40.062Z"
   },
   {
    "duration": 734,
    "start_time": "2022-08-10T17:38:41.321Z"
   },
   {
    "duration": 21,
    "start_time": "2022-08-10T17:38:42.057Z"
   },
   {
    "duration": 32,
    "start_time": "2022-08-10T17:38:42.080Z"
   },
   {
    "duration": 263,
    "start_time": "2022-08-10T17:38:42.113Z"
   },
   {
    "duration": 3,
    "start_time": "2022-08-10T17:38:42.377Z"
   },
   {
    "duration": 27,
    "start_time": "2022-08-10T17:38:42.381Z"
   },
   {
    "duration": 17,
    "start_time": "2022-08-10T17:38:42.410Z"
   },
   {
    "duration": 163,
    "start_time": "2022-08-10T17:38:42.429Z"
   },
   {
    "duration": 9,
    "start_time": "2022-08-10T17:38:42.595Z"
   },
   {
    "duration": 276,
    "start_time": "2022-08-10T17:38:42.605Z"
   },
   {
    "duration": 10,
    "start_time": "2022-08-10T17:38:42.882Z"
   },
   {
    "duration": 22,
    "start_time": "2022-08-10T17:38:42.893Z"
   },
   {
    "duration": 15,
    "start_time": "2022-08-10T17:38:42.916Z"
   },
   {
    "duration": 23,
    "start_time": "2022-08-10T17:38:42.933Z"
   },
   {
    "duration": 9,
    "start_time": "2022-08-10T17:38:42.958Z"
   },
   {
    "duration": 139,
    "start_time": "2022-08-10T17:38:42.968Z"
   },
   {
    "duration": 184,
    "start_time": "2022-08-10T17:38:43.109Z"
   },
   {
    "duration": 6,
    "start_time": "2022-08-10T17:38:43.295Z"
   },
   {
    "duration": 13,
    "start_time": "2022-08-10T17:38:43.303Z"
   },
   {
    "duration": 53,
    "start_time": "2022-08-10T17:38:43.317Z"
   },
   {
    "duration": 23,
    "start_time": "2022-08-10T17:38:43.371Z"
   },
   {
    "duration": 1548,
    "start_time": "2022-08-10T17:38:43.395Z"
   },
   {
    "duration": 1557,
    "start_time": "2022-08-10T17:43:02.985Z"
   },
   {
    "duration": 108,
    "start_time": "2022-08-10T17:45:14.500Z"
   },
   {
    "duration": 12,
    "start_time": "2022-08-10T17:55:49.404Z"
   },
   {
    "duration": 2162,
    "start_time": "2022-08-10T17:58:23.194Z"
   },
   {
    "duration": 10,
    "start_time": "2022-08-10T18:12:13.211Z"
   },
   {
    "duration": 354,
    "start_time": "2022-08-10T18:12:44.472Z"
   },
   {
    "duration": 192355,
    "start_time": "2022-08-10T18:13:01.099Z"
   },
   {
    "duration": 1308,
    "start_time": "2022-08-10T18:36:39.604Z"
   },
   {
    "duration": 718,
    "start_time": "2022-08-10T18:36:40.913Z"
   },
   {
    "duration": 28,
    "start_time": "2022-08-10T18:36:41.632Z"
   },
   {
    "duration": 37,
    "start_time": "2022-08-10T18:36:41.661Z"
   },
   {
    "duration": 252,
    "start_time": "2022-08-10T18:36:41.701Z"
   },
   {
    "duration": 3,
    "start_time": "2022-08-10T18:36:41.955Z"
   },
   {
    "duration": 38,
    "start_time": "2022-08-10T18:36:41.960Z"
   },
   {
    "duration": 11,
    "start_time": "2022-08-10T18:36:42.000Z"
   },
   {
    "duration": 148,
    "start_time": "2022-08-10T18:36:42.012Z"
   },
   {
    "duration": 10,
    "start_time": "2022-08-10T18:36:42.161Z"
   },
   {
    "duration": 293,
    "start_time": "2022-08-10T18:36:42.172Z"
   },
   {
    "duration": 9,
    "start_time": "2022-08-10T18:36:42.466Z"
   },
   {
    "duration": 27,
    "start_time": "2022-08-10T18:36:42.477Z"
   },
   {
    "duration": 16,
    "start_time": "2022-08-10T18:36:42.506Z"
   },
   {
    "duration": 30,
    "start_time": "2022-08-10T18:36:42.523Z"
   },
   {
    "duration": 8,
    "start_time": "2022-08-10T18:36:42.554Z"
   },
   {
    "duration": 135,
    "start_time": "2022-08-10T18:36:42.564Z"
   },
   {
    "duration": 117,
    "start_time": "2022-08-10T18:36:42.700Z"
   },
   {
    "duration": 7,
    "start_time": "2022-08-10T18:36:42.819Z"
   },
   {
    "duration": 9,
    "start_time": "2022-08-10T18:36:42.827Z"
   },
   {
    "duration": 48,
    "start_time": "2022-08-10T18:36:42.837Z"
   },
   {
    "duration": 3,
    "start_time": "2022-08-10T18:36:42.887Z"
   },
   {
    "duration": 2360,
    "start_time": "2022-08-10T18:36:42.891Z"
   },
   {
    "duration": 199974,
    "start_time": "2022-08-10T18:36:45.252Z"
   },
   {
    "duration": 1723,
    "start_time": "2022-08-14T18:51:16.310Z"
   },
   {
    "duration": 1979,
    "start_time": "2022-08-14T18:51:18.036Z"
   },
   {
    "duration": 30,
    "start_time": "2022-08-14T18:51:20.016Z"
   },
   {
    "duration": 21,
    "start_time": "2022-08-14T18:51:20.048Z"
   },
   {
    "duration": 275,
    "start_time": "2022-08-14T18:51:20.072Z"
   },
   {
    "duration": 4,
    "start_time": "2022-08-14T18:51:20.348Z"
   },
   {
    "duration": 28,
    "start_time": "2022-08-14T18:51:20.353Z"
   },
   {
    "duration": 13,
    "start_time": "2022-08-14T18:51:20.384Z"
   },
   {
    "duration": 164,
    "start_time": "2022-08-14T18:51:20.399Z"
   },
   {
    "duration": 11,
    "start_time": "2022-08-14T18:51:20.568Z"
   },
   {
    "duration": 309,
    "start_time": "2022-08-14T18:51:20.581Z"
   },
   {
    "duration": 10,
    "start_time": "2022-08-14T18:51:20.892Z"
   },
   {
    "duration": 8,
    "start_time": "2022-08-14T18:51:20.904Z"
   },
   {
    "duration": 12,
    "start_time": "2022-08-14T18:51:20.915Z"
   },
   {
    "duration": 10,
    "start_time": "2022-08-14T18:51:20.929Z"
   },
   {
    "duration": 31,
    "start_time": "2022-08-14T18:51:20.941Z"
   },
   {
    "duration": 151,
    "start_time": "2022-08-14T18:51:20.974Z"
   },
   {
    "duration": 143,
    "start_time": "2022-08-14T18:51:21.126Z"
   },
   {
    "duration": 8,
    "start_time": "2022-08-14T18:51:21.271Z"
   },
   {
    "duration": 5,
    "start_time": "2022-08-14T18:51:21.281Z"
   },
   {
    "duration": 45,
    "start_time": "2022-08-14T18:51:21.288Z"
   },
   {
    "duration": 3,
    "start_time": "2022-08-14T18:51:21.334Z"
   },
   {
    "duration": 1406,
    "start_time": "2022-08-14T18:51:21.367Z"
   },
   {
    "duration": 216288,
    "start_time": "2022-08-14T18:51:22.775Z"
   },
   {
    "duration": 1386,
    "start_time": "2022-08-14T19:00:12.371Z"
   },
   {
    "duration": 665,
    "start_time": "2022-08-14T19:00:13.759Z"
   },
   {
    "duration": 25,
    "start_time": "2022-08-14T19:00:14.425Z"
   },
   {
    "duration": 31,
    "start_time": "2022-08-14T19:00:14.451Z"
   },
   {
    "duration": 269,
    "start_time": "2022-08-14T19:00:14.485Z"
   },
   {
    "duration": 3,
    "start_time": "2022-08-14T19:00:14.756Z"
   },
   {
    "duration": 24,
    "start_time": "2022-08-14T19:00:14.767Z"
   },
   {
    "duration": 15,
    "start_time": "2022-08-14T19:00:14.793Z"
   },
   {
    "duration": 162,
    "start_time": "2022-08-14T19:00:14.809Z"
   },
   {
    "duration": 12,
    "start_time": "2022-08-14T19:00:14.973Z"
   },
   {
    "duration": 318,
    "start_time": "2022-08-14T19:00:14.988Z"
   },
   {
    "duration": 12,
    "start_time": "2022-08-14T19:00:15.308Z"
   },
   {
    "duration": 8,
    "start_time": "2022-08-14T19:00:15.322Z"
   },
   {
    "duration": 5,
    "start_time": "2022-08-14T19:00:15.334Z"
   },
   {
    "duration": 5,
    "start_time": "2022-08-14T19:00:15.368Z"
   },
   {
    "duration": 9,
    "start_time": "2022-08-14T19:00:15.375Z"
   },
   {
    "duration": 150,
    "start_time": "2022-08-14T19:00:15.386Z"
   },
   {
    "duration": 140,
    "start_time": "2022-08-14T19:00:15.538Z"
   },
   {
    "duration": 10,
    "start_time": "2022-08-14T19:00:15.680Z"
   },
   {
    "duration": 14,
    "start_time": "2022-08-14T19:00:15.692Z"
   },
   {
    "duration": 43,
    "start_time": "2022-08-14T19:00:15.708Z"
   },
   {
    "duration": 16,
    "start_time": "2022-08-14T19:00:15.752Z"
   },
   {
    "duration": 1404,
    "start_time": "2022-08-14T19:00:15.770Z"
   },
   {
    "duration": 92,
    "start_time": "2022-08-14T19:00:17.176Z"
   },
   {
    "duration": 1496,
    "start_time": "2022-08-14T19:02:04.737Z"
   },
   {
    "duration": 743,
    "start_time": "2022-08-14T19:02:06.235Z"
   },
   {
    "duration": 28,
    "start_time": "2022-08-14T19:02:06.980Z"
   },
   {
    "duration": 23,
    "start_time": "2022-08-14T19:02:07.010Z"
   },
   {
    "duration": 306,
    "start_time": "2022-08-14T19:02:07.035Z"
   },
   {
    "duration": 4,
    "start_time": "2022-08-14T19:02:07.343Z"
   },
   {
    "duration": 40,
    "start_time": "2022-08-14T19:02:07.349Z"
   },
   {
    "duration": 15,
    "start_time": "2022-08-14T19:02:07.391Z"
   },
   {
    "duration": 160,
    "start_time": "2022-08-14T19:02:07.408Z"
   },
   {
    "duration": 11,
    "start_time": "2022-08-14T19:02:07.570Z"
   },
   {
    "duration": 299,
    "start_time": "2022-08-14T19:02:07.583Z"
   },
   {
    "duration": 12,
    "start_time": "2022-08-14T19:02:07.884Z"
   },
   {
    "duration": 9,
    "start_time": "2022-08-14T19:02:07.897Z"
   },
   {
    "duration": 6,
    "start_time": "2022-08-14T19:02:07.908Z"
   },
   {
    "duration": 7,
    "start_time": "2022-08-14T19:02:07.916Z"
   },
   {
    "duration": 8,
    "start_time": "2022-08-14T19:02:07.925Z"
   },
   {
    "duration": 157,
    "start_time": "2022-08-14T19:02:07.968Z"
   },
   {
    "duration": 153,
    "start_time": "2022-08-14T19:02:08.127Z"
   },
   {
    "duration": 10,
    "start_time": "2022-08-14T19:02:08.282Z"
   },
   {
    "duration": 5,
    "start_time": "2022-08-14T19:02:08.294Z"
   },
   {
    "duration": 69,
    "start_time": "2022-08-14T19:02:08.301Z"
   },
   {
    "duration": 3,
    "start_time": "2022-08-14T19:02:08.372Z"
   },
   {
    "duration": 1292,
    "start_time": "2022-08-14T19:02:08.377Z"
   },
   {
    "duration": 3,
    "start_time": "2022-08-14T19:02:09.670Z"
   },
   {
    "duration": 69302,
    "start_time": "2022-08-14T19:02:09.675Z"
   },
   {
    "duration": 1433,
    "start_time": "2022-08-14T19:15:03.895Z"
   },
   {
    "duration": 732,
    "start_time": "2022-08-14T19:15:05.330Z"
   },
   {
    "duration": 27,
    "start_time": "2022-08-14T19:15:06.064Z"
   },
   {
    "duration": 19,
    "start_time": "2022-08-14T19:15:06.092Z"
   },
   {
    "duration": 276,
    "start_time": "2022-08-14T19:15:06.113Z"
   },
   {
    "duration": 4,
    "start_time": "2022-08-14T19:15:06.390Z"
   },
   {
    "duration": 22,
    "start_time": "2022-08-14T19:15:06.395Z"
   },
   {
    "duration": 13,
    "start_time": "2022-08-14T19:15:06.419Z"
   },
   {
    "duration": 199,
    "start_time": "2022-08-14T19:15:06.433Z"
   },
   {
    "duration": 13,
    "start_time": "2022-08-14T19:15:06.633Z"
   },
   {
    "duration": 328,
    "start_time": "2022-08-14T19:15:06.649Z"
   },
   {
    "duration": 11,
    "start_time": "2022-08-14T19:15:06.979Z"
   },
   {
    "duration": 8,
    "start_time": "2022-08-14T19:15:06.991Z"
   },
   {
    "duration": 6,
    "start_time": "2022-08-14T19:15:07.001Z"
   },
   {
    "duration": 9,
    "start_time": "2022-08-14T19:15:07.009Z"
   },
   {
    "duration": 5,
    "start_time": "2022-08-14T19:15:07.020Z"
   },
   {
    "duration": 165,
    "start_time": "2022-08-14T19:15:07.027Z"
   },
   {
    "duration": 138,
    "start_time": "2022-08-14T19:15:07.193Z"
   },
   {
    "duration": 8,
    "start_time": "2022-08-14T19:15:07.332Z"
   },
   {
    "duration": 11,
    "start_time": "2022-08-14T19:15:07.341Z"
   },
   {
    "duration": 54,
    "start_time": "2022-08-14T19:15:07.353Z"
   },
   {
    "duration": 3,
    "start_time": "2022-08-14T19:15:07.409Z"
   },
   {
    "duration": 1356,
    "start_time": "2022-08-14T19:15:07.413Z"
   },
   {
    "duration": 214978,
    "start_time": "2022-08-14T19:15:08.867Z"
   },
   {
    "duration": 3,
    "start_time": "2022-08-14T19:18:43.847Z"
   },
   {
    "duration": 3832043,
    "start_time": "2022-08-14T19:19:11.838Z"
   },
   {
    "duration": 76,
    "start_time": "2022-08-14T20:31:40.023Z"
   },
   {
    "duration": 1463,
    "start_time": "2022-08-15T18:23:53.578Z"
   },
   {
    "duration": 3223,
    "start_time": "2022-08-15T18:23:55.043Z"
   },
   {
    "duration": 24,
    "start_time": "2022-08-15T18:23:58.268Z"
   },
   {
    "duration": 17,
    "start_time": "2022-08-15T18:23:58.294Z"
   },
   {
    "duration": 264,
    "start_time": "2022-08-15T18:23:58.312Z"
   },
   {
    "duration": 4,
    "start_time": "2022-08-15T18:23:58.578Z"
   },
   {
    "duration": 27,
    "start_time": "2022-08-15T18:23:58.584Z"
   },
   {
    "duration": 12,
    "start_time": "2022-08-15T18:23:58.613Z"
   },
   {
    "duration": 151,
    "start_time": "2022-08-15T18:23:58.626Z"
   },
   {
    "duration": 11,
    "start_time": "2022-08-15T18:23:58.779Z"
   },
   {
    "duration": 301,
    "start_time": "2022-08-15T18:23:58.792Z"
   },
   {
    "duration": 14,
    "start_time": "2022-08-15T18:23:59.095Z"
   },
   {
    "duration": 8,
    "start_time": "2022-08-15T18:23:59.110Z"
   },
   {
    "duration": 5,
    "start_time": "2022-08-15T18:23:59.119Z"
   },
   {
    "duration": 8,
    "start_time": "2022-08-15T18:23:59.126Z"
   },
   {
    "duration": 7,
    "start_time": "2022-08-15T18:23:59.135Z"
   },
   {
    "duration": 152,
    "start_time": "2022-08-15T18:23:59.144Z"
   },
   {
    "duration": 129,
    "start_time": "2022-08-15T18:23:59.298Z"
   },
   {
    "duration": 8,
    "start_time": "2022-08-15T18:23:59.429Z"
   },
   {
    "duration": 8,
    "start_time": "2022-08-15T18:23:59.439Z"
   },
   {
    "duration": 38,
    "start_time": "2022-08-15T18:23:59.448Z"
   },
   {
    "duration": 22,
    "start_time": "2022-08-15T18:23:59.488Z"
   },
   {
    "duration": 1402,
    "start_time": "2022-08-15T18:23:59.512Z"
   },
   {
    "duration": 199713,
    "start_time": "2022-08-15T18:24:00.917Z"
   },
   {
    "duration": 1337,
    "start_time": "2022-08-15T18:30:04.006Z"
   },
   {
    "duration": 687,
    "start_time": "2022-08-15T18:30:05.344Z"
   },
   {
    "duration": 25,
    "start_time": "2022-08-15T18:30:06.033Z"
   },
   {
    "duration": 18,
    "start_time": "2022-08-15T18:30:06.060Z"
   },
   {
    "duration": 259,
    "start_time": "2022-08-15T18:30:06.080Z"
   },
   {
    "duration": 3,
    "start_time": "2022-08-15T18:30:06.341Z"
   },
   {
    "duration": 20,
    "start_time": "2022-08-15T18:30:06.345Z"
   },
   {
    "duration": 11,
    "start_time": "2022-08-15T18:30:06.367Z"
   },
   {
    "duration": 143,
    "start_time": "2022-08-15T18:30:06.379Z"
   },
   {
    "duration": 9,
    "start_time": "2022-08-15T18:30:06.524Z"
   },
   {
    "duration": 255,
    "start_time": "2022-08-15T18:30:06.535Z"
   },
   {
    "duration": 10,
    "start_time": "2022-08-15T18:30:06.791Z"
   },
   {
    "duration": 7,
    "start_time": "2022-08-15T18:30:06.809Z"
   },
   {
    "duration": 7,
    "start_time": "2022-08-15T18:30:06.818Z"
   },
   {
    "duration": 10,
    "start_time": "2022-08-15T18:30:06.827Z"
   },
   {
    "duration": 7,
    "start_time": "2022-08-15T18:30:06.838Z"
   },
   {
    "duration": 131,
    "start_time": "2022-08-15T18:30:06.847Z"
   },
   {
    "duration": 129,
    "start_time": "2022-08-15T18:30:06.980Z"
   },
   {
    "duration": 7,
    "start_time": "2022-08-15T18:30:07.111Z"
   },
   {
    "duration": 6,
    "start_time": "2022-08-15T18:30:07.119Z"
   },
   {
    "duration": 39,
    "start_time": "2022-08-15T18:30:07.127Z"
   },
   {
    "duration": 4,
    "start_time": "2022-08-15T18:30:07.169Z"
   },
   {
    "duration": 1642,
    "start_time": "2022-08-15T18:30:07.174Z"
   },
   {
    "duration": 3,
    "start_time": "2022-08-15T18:30:08.819Z"
   },
   {
    "duration": 5,
    "start_time": "2022-08-15T18:30:08.909Z"
   },
   {
    "duration": 4,
    "start_time": "2022-08-15T18:31:46.711Z"
   },
   {
    "duration": 4,
    "start_time": "2022-08-15T18:31:57.898Z"
   },
   {
    "duration": 1809,
    "start_time": "2022-08-15T18:32:42.169Z"
   },
   {
    "duration": 1082,
    "start_time": "2022-08-15T18:33:13.536Z"
   },
   {
    "duration": 1492,
    "start_time": "2022-08-15T18:33:40.518Z"
   },
   {
    "duration": 1470,
    "start_time": "2022-08-15T18:36:36.940Z"
   },
   {
    "duration": 1191,
    "start_time": "2022-08-15T18:37:11.332Z"
   },
   {
    "duration": 1718,
    "start_time": "2022-08-15T18:37:22.602Z"
   },
   {
    "duration": 1263,
    "start_time": "2022-08-15T18:37:58.558Z"
   },
   {
    "duration": 651,
    "start_time": "2022-08-15T18:37:59.823Z"
   },
   {
    "duration": 23,
    "start_time": "2022-08-15T18:38:00.475Z"
   },
   {
    "duration": 17,
    "start_time": "2022-08-15T18:38:00.509Z"
   },
   {
    "duration": 246,
    "start_time": "2022-08-15T18:38:00.528Z"
   },
   {
    "duration": 3,
    "start_time": "2022-08-15T18:38:00.775Z"
   },
   {
    "duration": 30,
    "start_time": "2022-08-15T18:38:00.779Z"
   },
   {
    "duration": 15,
    "start_time": "2022-08-15T18:38:00.810Z"
   },
   {
    "duration": 143,
    "start_time": "2022-08-15T18:38:00.826Z"
   },
   {
    "duration": 10,
    "start_time": "2022-08-15T18:38:00.970Z"
   },
   {
    "duration": 288,
    "start_time": "2022-08-15T18:38:00.982Z"
   },
   {
    "duration": 10,
    "start_time": "2022-08-15T18:38:01.272Z"
   },
   {
    "duration": 7,
    "start_time": "2022-08-15T18:38:01.284Z"
   },
   {
    "duration": 5,
    "start_time": "2022-08-15T18:38:01.310Z"
   },
   {
    "duration": 12,
    "start_time": "2022-08-15T18:38:01.317Z"
   },
   {
    "duration": 21,
    "start_time": "2022-08-15T18:38:01.330Z"
   },
   {
    "duration": 140,
    "start_time": "2022-08-15T18:38:01.352Z"
   },
   {
    "duration": 140,
    "start_time": "2022-08-15T18:38:01.493Z"
   },
   {
    "duration": 8,
    "start_time": "2022-08-15T18:38:01.634Z"
   },
   {
    "duration": 14,
    "start_time": "2022-08-15T18:38:01.644Z"
   },
   {
    "duration": 63,
    "start_time": "2022-08-15T18:38:01.659Z"
   },
   {
    "duration": 3,
    "start_time": "2022-08-15T18:38:01.724Z"
   },
   {
    "duration": 1684,
    "start_time": "2022-08-15T18:38:01.729Z"
   },
   {
    "duration": 5,
    "start_time": "2022-08-15T18:38:03.415Z"
   },
   {
    "duration": 87,
    "start_time": "2022-08-15T18:38:03.422Z"
   },
   {
    "duration": 1135,
    "start_time": "2022-08-15T18:38:24.383Z"
   },
   {
    "duration": 58,
    "start_time": "2022-08-15T18:40:06.489Z"
   },
   {
    "duration": 198460,
    "start_time": "2022-08-15T18:40:13.832Z"
   },
   {
    "duration": 1095,
    "start_time": "2022-08-15T18:44:34.516Z"
   },
   {
    "duration": 1252,
    "start_time": "2022-08-15T18:46:00.260Z"
   },
   {
    "duration": 120,
    "start_time": "2022-08-15T18:48:37.448Z"
   },
   {
    "duration": 1125,
    "start_time": "2022-08-15T18:48:50.588Z"
   },
   {
    "duration": 5,
    "start_time": "2022-08-15T18:51:50.809Z"
   },
   {
    "duration": 3,
    "start_time": "2022-08-15T18:54:55.712Z"
   },
   {
    "duration": 1023,
    "start_time": "2022-08-15T18:55:15.490Z"
   },
   {
    "duration": 5082,
    "start_time": "2022-08-15T18:56:12.927Z"
   },
   {
    "duration": 1039,
    "start_time": "2022-08-15T18:57:01.575Z"
   },
   {
    "duration": 1490,
    "start_time": "2022-08-15T19:00:59.121Z"
   },
   {
    "duration": 249093,
    "start_time": "2022-08-15T19:10:03.027Z"
   },
   {
    "duration": 10,
    "start_time": "2022-08-15T19:16:01.750Z"
   },
   {
    "duration": 3,
    "start_time": "2022-08-15T19:16:52.123Z"
   },
   {
    "duration": 4,
    "start_time": "2022-08-15T19:24:43.143Z"
   },
   {
    "duration": 1332,
    "start_time": "2022-08-15T19:24:47.981Z"
   },
   {
    "duration": 1316,
    "start_time": "2022-08-15T19:28:42.810Z"
   },
   {
    "duration": 643,
    "start_time": "2022-08-15T19:28:44.128Z"
   },
   {
    "duration": 21,
    "start_time": "2022-08-15T19:28:44.772Z"
   },
   {
    "duration": 23,
    "start_time": "2022-08-15T19:28:44.795Z"
   },
   {
    "duration": 233,
    "start_time": "2022-08-15T19:28:44.819Z"
   },
   {
    "duration": 3,
    "start_time": "2022-08-15T19:28:45.054Z"
   },
   {
    "duration": 20,
    "start_time": "2022-08-15T19:28:45.058Z"
   },
   {
    "duration": 10,
    "start_time": "2022-08-15T19:28:45.080Z"
   },
   {
    "duration": 138,
    "start_time": "2022-08-15T19:28:45.091Z"
   },
   {
    "duration": 9,
    "start_time": "2022-08-15T19:28:45.232Z"
   },
   {
    "duration": 267,
    "start_time": "2022-08-15T19:28:45.242Z"
   },
   {
    "duration": 10,
    "start_time": "2022-08-15T19:28:45.510Z"
   },
   {
    "duration": 7,
    "start_time": "2022-08-15T19:28:45.521Z"
   },
   {
    "duration": 6,
    "start_time": "2022-08-15T19:28:45.529Z"
   },
   {
    "duration": 11,
    "start_time": "2022-08-15T19:28:45.536Z"
   },
   {
    "duration": 9,
    "start_time": "2022-08-15T19:28:45.548Z"
   },
   {
    "duration": 134,
    "start_time": "2022-08-15T19:28:45.559Z"
   },
   {
    "duration": 125,
    "start_time": "2022-08-15T19:28:45.695Z"
   },
   {
    "duration": 6,
    "start_time": "2022-08-15T19:28:45.822Z"
   },
   {
    "duration": 8,
    "start_time": "2022-08-15T19:28:45.830Z"
   },
   {
    "duration": 34,
    "start_time": "2022-08-15T19:28:45.839Z"
   },
   {
    "duration": 3,
    "start_time": "2022-08-15T19:28:45.876Z"
   },
   {
    "duration": 1031,
    "start_time": "2022-08-15T19:28:45.882Z"
   },
   {
    "duration": 1370,
    "start_time": "2022-08-15T19:29:55.481Z"
   },
   {
    "duration": 713,
    "start_time": "2022-08-15T19:29:56.853Z"
   },
   {
    "duration": 23,
    "start_time": "2022-08-15T19:29:57.567Z"
   },
   {
    "duration": 29,
    "start_time": "2022-08-15T19:29:57.591Z"
   },
   {
    "duration": 247,
    "start_time": "2022-08-15T19:29:57.622Z"
   },
   {
    "duration": 3,
    "start_time": "2022-08-15T19:29:57.870Z"
   },
   {
    "duration": 23,
    "start_time": "2022-08-15T19:29:57.875Z"
   },
   {
    "duration": 11,
    "start_time": "2022-08-15T19:29:57.908Z"
   },
   {
    "duration": 134,
    "start_time": "2022-08-15T19:29:57.921Z"
   },
   {
    "duration": 10,
    "start_time": "2022-08-15T19:29:58.057Z"
   },
   {
    "duration": 289,
    "start_time": "2022-08-15T19:29:58.068Z"
   },
   {
    "duration": 10,
    "start_time": "2022-08-15T19:29:58.359Z"
   },
   {
    "duration": 12,
    "start_time": "2022-08-15T19:29:58.370Z"
   },
   {
    "duration": 9,
    "start_time": "2022-08-15T19:29:58.385Z"
   },
   {
    "duration": 20,
    "start_time": "2022-08-15T19:29:58.395Z"
   },
   {
    "duration": 14,
    "start_time": "2022-08-15T19:29:58.416Z"
   },
   {
    "duration": 114,
    "start_time": "2022-08-15T19:29:58.431Z"
   },
   {
    "duration": 112,
    "start_time": "2022-08-15T19:29:58.546Z"
   },
   {
    "duration": 8,
    "start_time": "2022-08-15T19:29:58.660Z"
   },
   {
    "duration": 5,
    "start_time": "2022-08-15T19:29:58.670Z"
   },
   {
    "duration": 57,
    "start_time": "2022-08-15T19:29:58.676Z"
   },
   {
    "duration": 3,
    "start_time": "2022-08-15T19:29:58.735Z"
   },
   {
    "duration": 108,
    "start_time": "2022-08-15T19:29:58.739Z"
   },
   {
    "duration": 0,
    "start_time": "2022-08-15T19:29:58.849Z"
   },
   {
    "duration": 0,
    "start_time": "2022-08-15T19:29:58.851Z"
   },
   {
    "duration": 1145,
    "start_time": "2022-08-15T19:30:30.673Z"
   },
   {
    "duration": 1487,
    "start_time": "2022-08-15T19:44:34.741Z"
   },
   {
    "duration": 12,
    "start_time": "2022-08-15T19:55:22.840Z"
   },
   {
    "duration": 13,
    "start_time": "2022-08-15T19:55:41.733Z"
   },
   {
    "duration": 7,
    "start_time": "2022-08-15T19:57:24.607Z"
   },
   {
    "duration": 112,
    "start_time": "2022-08-15T19:57:39.129Z"
   },
   {
    "duration": 115,
    "start_time": "2022-08-15T19:59:39.294Z"
   },
   {
    "duration": 9,
    "start_time": "2022-08-15T20:00:01.630Z"
   },
   {
    "duration": 187,
    "start_time": "2022-08-15T20:00:30.575Z"
   },
   {
    "duration": 128,
    "start_time": "2022-08-15T20:00:50.584Z"
   },
   {
    "duration": 139,
    "start_time": "2022-08-15T20:01:19.575Z"
   },
   {
    "duration": 148,
    "start_time": "2022-08-15T20:02:40.051Z"
   },
   {
    "duration": 149,
    "start_time": "2022-08-15T20:02:51.372Z"
   },
   {
    "duration": 145,
    "start_time": "2022-08-15T20:03:12.735Z"
   },
   {
    "duration": 146,
    "start_time": "2022-08-15T20:03:28.828Z"
   },
   {
    "duration": 151,
    "start_time": "2022-08-15T20:03:37.759Z"
   },
   {
    "duration": 146,
    "start_time": "2022-08-15T20:03:54.236Z"
   },
   {
    "duration": 147,
    "start_time": "2022-08-15T20:10:56.848Z"
   },
   {
    "duration": 191,
    "start_time": "2022-08-15T20:11:50.196Z"
   },
   {
    "duration": 295,
    "start_time": "2022-08-15T20:12:04.047Z"
   },
   {
    "duration": 214,
    "start_time": "2022-08-15T20:13:57.719Z"
   },
   {
    "duration": 190,
    "start_time": "2022-08-15T20:15:09.340Z"
   },
   {
    "duration": 1263,
    "start_time": "2022-08-15T20:23:49.272Z"
   },
   {
    "duration": 722,
    "start_time": "2022-08-15T20:23:50.538Z"
   },
   {
    "duration": 24,
    "start_time": "2022-08-15T20:23:51.261Z"
   },
   {
    "duration": 34,
    "start_time": "2022-08-15T20:23:51.287Z"
   },
   {
    "duration": 243,
    "start_time": "2022-08-15T20:23:51.323Z"
   },
   {
    "duration": 4,
    "start_time": "2022-08-15T20:23:51.568Z"
   },
   {
    "duration": 19,
    "start_time": "2022-08-15T20:23:51.574Z"
   },
   {
    "duration": 13,
    "start_time": "2022-08-15T20:23:51.609Z"
   },
   {
    "duration": 154,
    "start_time": "2022-08-15T20:23:51.624Z"
   },
   {
    "duration": 11,
    "start_time": "2022-08-15T20:23:51.781Z"
   },
   {
    "duration": 270,
    "start_time": "2022-08-15T20:23:51.793Z"
   },
   {
    "duration": 11,
    "start_time": "2022-08-15T20:23:52.065Z"
   },
   {
    "duration": 7,
    "start_time": "2022-08-15T20:23:52.078Z"
   },
   {
    "duration": 25,
    "start_time": "2022-08-15T20:23:52.087Z"
   },
   {
    "duration": 6,
    "start_time": "2022-08-15T20:23:52.114Z"
   },
   {
    "duration": 6,
    "start_time": "2022-08-15T20:23:52.121Z"
   },
   {
    "duration": 149,
    "start_time": "2022-08-15T20:23:52.129Z"
   },
   {
    "duration": 133,
    "start_time": "2022-08-15T20:23:52.280Z"
   },
   {
    "duration": 9,
    "start_time": "2022-08-15T20:23:52.415Z"
   },
   {
    "duration": 213,
    "start_time": "2022-08-15T20:23:52.426Z"
   },
   {
    "duration": 230,
    "start_time": "2022-08-15T20:23:52.641Z"
   },
   {
    "duration": 281,
    "start_time": "2022-08-15T20:23:52.873Z"
   },
   {
    "duration": 5,
    "start_time": "2022-08-15T20:23:53.156Z"
   },
   {
    "duration": 59,
    "start_time": "2022-08-15T20:23:53.163Z"
   },
   {
    "duration": 3,
    "start_time": "2022-08-15T20:23:53.224Z"
   },
   {
    "duration": 1584,
    "start_time": "2022-08-15T20:23:53.229Z"
   },
   {
    "duration": 6,
    "start_time": "2022-08-15T20:23:54.815Z"
   },
   {
    "duration": 96,
    "start_time": "2022-08-15T20:23:54.826Z"
   },
   {
    "duration": 1641,
    "start_time": "2022-08-15T22:17:37.001Z"
   },
   {
    "duration": 3575,
    "start_time": "2022-08-15T22:17:38.644Z"
   },
   {
    "duration": 22,
    "start_time": "2022-08-15T22:17:42.221Z"
   },
   {
    "duration": 18,
    "start_time": "2022-08-15T22:17:42.245Z"
   },
   {
    "duration": 228,
    "start_time": "2022-08-15T22:17:42.264Z"
   },
   {
    "duration": 3,
    "start_time": "2022-08-15T22:17:42.494Z"
   },
   {
    "duration": 17,
    "start_time": "2022-08-15T22:17:42.498Z"
   },
   {
    "duration": 25,
    "start_time": "2022-08-15T22:17:42.517Z"
   },
   {
    "duration": 123,
    "start_time": "2022-08-15T22:17:42.543Z"
   },
   {
    "duration": 9,
    "start_time": "2022-08-15T22:17:42.668Z"
   },
   {
    "duration": 256,
    "start_time": "2022-08-15T22:17:42.679Z"
   },
   {
    "duration": 10,
    "start_time": "2022-08-15T22:17:42.937Z"
   },
   {
    "duration": 6,
    "start_time": "2022-08-15T22:17:42.948Z"
   },
   {
    "duration": 4,
    "start_time": "2022-08-15T22:17:42.956Z"
   },
   {
    "duration": 10,
    "start_time": "2022-08-15T22:17:42.961Z"
   },
   {
    "duration": 6,
    "start_time": "2022-08-15T22:17:42.973Z"
   },
   {
    "duration": 133,
    "start_time": "2022-08-15T22:17:42.980Z"
   },
   {
    "duration": 116,
    "start_time": "2022-08-15T22:17:43.115Z"
   },
   {
    "duration": 10,
    "start_time": "2022-08-15T22:17:43.232Z"
   },
   {
    "duration": 195,
    "start_time": "2022-08-15T22:17:43.243Z"
   },
   {
    "duration": 258,
    "start_time": "2022-08-15T22:17:43.440Z"
   },
   {
    "duration": 180,
    "start_time": "2022-08-15T22:17:43.699Z"
   },
   {
    "duration": 4,
    "start_time": "2022-08-15T22:17:43.880Z"
   },
   {
    "duration": 37,
    "start_time": "2022-08-15T22:17:43.885Z"
   },
   {
    "duration": 15,
    "start_time": "2022-08-15T22:17:43.923Z"
   },
   {
    "duration": 1149,
    "start_time": "2022-08-15T22:17:48.190Z"
   },
   {
    "duration": 1233,
    "start_time": "2022-08-15T22:18:19.111Z"
   },
   {
    "duration": 101,
    "start_time": "2022-08-15T22:20:03.664Z"
   },
   {
    "duration": 2855,
    "start_time": "2022-08-15T22:20:08.984Z"
   },
   {
    "duration": 23,
    "start_time": "2022-08-15T22:20:20.695Z"
   },
   {
    "duration": 8,
    "start_time": "2022-08-15T22:20:25.855Z"
   },
   {
    "duration": 2586,
    "start_time": "2022-08-15T22:20:48.755Z"
   },
   {
    "duration": 6,
    "start_time": "2022-08-15T22:21:23.428Z"
   },
   {
    "duration": 7,
    "start_time": "2022-08-15T22:21:28.201Z"
   },
   {
    "duration": 46,
    "start_time": "2022-08-16T07:14:33.180Z"
   },
   {
    "duration": 1676,
    "start_time": "2022-08-16T07:14:39.941Z"
   },
   {
    "duration": 3405,
    "start_time": "2022-08-16T07:14:41.619Z"
   },
   {
    "duration": 25,
    "start_time": "2022-08-16T07:14:45.026Z"
   },
   {
    "duration": 20,
    "start_time": "2022-08-16T07:14:45.053Z"
   },
   {
    "duration": 248,
    "start_time": "2022-08-16T07:14:45.074Z"
   },
   {
    "duration": 4,
    "start_time": "2022-08-16T07:14:45.323Z"
   },
   {
    "duration": 17,
    "start_time": "2022-08-16T07:14:45.328Z"
   },
   {
    "duration": 10,
    "start_time": "2022-08-16T07:14:45.347Z"
   },
   {
    "duration": 159,
    "start_time": "2022-08-16T07:14:45.358Z"
   },
   {
    "duration": 9,
    "start_time": "2022-08-16T07:14:45.518Z"
   },
   {
    "duration": 254,
    "start_time": "2022-08-16T07:14:45.528Z"
   },
   {
    "duration": 9,
    "start_time": "2022-08-16T07:14:45.784Z"
   },
   {
    "duration": 18,
    "start_time": "2022-08-16T07:14:45.795Z"
   },
   {
    "duration": 10,
    "start_time": "2022-08-16T07:14:45.815Z"
   },
   {
    "duration": 7,
    "start_time": "2022-08-16T07:14:45.826Z"
   },
   {
    "duration": 5,
    "start_time": "2022-08-16T07:14:45.835Z"
   },
   {
    "duration": 151,
    "start_time": "2022-08-16T07:14:45.842Z"
   },
   {
    "duration": 138,
    "start_time": "2022-08-16T07:14:45.995Z"
   },
   {
    "duration": 7,
    "start_time": "2022-08-16T07:14:46.134Z"
   },
   {
    "duration": 204,
    "start_time": "2022-08-16T07:14:46.142Z"
   },
   {
    "duration": 273,
    "start_time": "2022-08-16T07:14:46.348Z"
   },
   {
    "duration": 198,
    "start_time": "2022-08-16T07:14:46.622Z"
   },
   {
    "duration": 4,
    "start_time": "2022-08-16T07:14:46.822Z"
   },
   {
    "duration": 52,
    "start_time": "2022-08-16T07:14:46.827Z"
   },
   {
    "duration": 3,
    "start_time": "2022-08-16T07:14:46.880Z"
   },
   {
    "duration": 1725,
    "start_time": "2022-08-16T07:14:46.885Z"
   },
   {
    "duration": 3001,
    "start_time": "2022-08-16T07:16:17.411Z"
   },
   {
    "duration": 24,
    "start_time": "2022-08-16T07:17:14.609Z"
   },
   {
    "duration": 8,
    "start_time": "2022-08-16T07:17:30.678Z"
   },
   {
    "duration": 3,
    "start_time": "2022-08-16T07:21:45.544Z"
   },
   {
    "duration": 4,
    "start_time": "2022-08-16T07:21:54.136Z"
   },
   {
    "duration": 2825,
    "start_time": "2022-08-16T07:22:00.888Z"
   },
   {
    "duration": 2344,
    "start_time": "2022-08-16T07:22:16.068Z"
   },
   {
    "duration": 2862,
    "start_time": "2022-08-16T07:22:22.252Z"
   },
   {
    "duration": 301487,
    "start_time": "2022-08-16T07:22:43.138Z"
   },
   {
    "duration": 1463,
    "start_time": "2022-08-16T07:33:28.974Z"
   },
   {
    "duration": 653,
    "start_time": "2022-08-16T07:33:30.439Z"
   },
   {
    "duration": 25,
    "start_time": "2022-08-16T07:33:31.094Z"
   },
   {
    "duration": 17,
    "start_time": "2022-08-16T07:33:31.120Z"
   },
   {
    "duration": 246,
    "start_time": "2022-08-16T07:33:31.139Z"
   },
   {
    "duration": 3,
    "start_time": "2022-08-16T07:33:31.386Z"
   },
   {
    "duration": 47,
    "start_time": "2022-08-16T07:33:31.391Z"
   },
   {
    "duration": 16,
    "start_time": "2022-08-16T07:33:31.439Z"
   },
   {
    "duration": 125,
    "start_time": "2022-08-16T07:33:31.457Z"
   },
   {
    "duration": 9,
    "start_time": "2022-08-16T07:33:31.584Z"
   },
   {
    "duration": 266,
    "start_time": "2022-08-16T07:33:31.595Z"
   },
   {
    "duration": 9,
    "start_time": "2022-08-16T07:33:31.863Z"
   },
   {
    "duration": 7,
    "start_time": "2022-08-16T07:33:31.874Z"
   },
   {
    "duration": 25,
    "start_time": "2022-08-16T07:33:31.884Z"
   },
   {
    "duration": 5,
    "start_time": "2022-08-16T07:33:31.910Z"
   },
   {
    "duration": 10,
    "start_time": "2022-08-16T07:33:31.916Z"
   },
   {
    "duration": 124,
    "start_time": "2022-08-16T07:33:31.927Z"
   },
   {
    "duration": 115,
    "start_time": "2022-08-16T07:33:32.053Z"
   },
   {
    "duration": 7,
    "start_time": "2022-08-16T07:33:32.170Z"
   },
   {
    "duration": 199,
    "start_time": "2022-08-16T07:33:32.178Z"
   },
   {
    "duration": 206,
    "start_time": "2022-08-16T07:33:32.379Z"
   },
   {
    "duration": 261,
    "start_time": "2022-08-16T07:33:32.586Z"
   },
   {
    "duration": 4,
    "start_time": "2022-08-16T07:33:32.849Z"
   },
   {
    "duration": 13,
    "start_time": "2022-08-16T07:33:32.855Z"
   },
   {
    "duration": 9,
    "start_time": "2022-08-16T07:33:32.870Z"
   },
   {
    "duration": 1335,
    "start_time": "2022-08-16T07:33:32.880Z"
   },
   {
    "duration": 3095,
    "start_time": "2022-08-16T07:33:34.217Z"
   },
   {
    "duration": 33,
    "start_time": "2022-08-16T07:33:50.744Z"
   },
   {
    "duration": 22,
    "start_time": "2022-08-16T07:35:03.352Z"
   },
   {
    "duration": 1552,
    "start_time": "2022-08-16T07:35:19.463Z"
   },
   {
    "duration": 643,
    "start_time": "2022-08-16T07:35:21.017Z"
   },
   {
    "duration": 24,
    "start_time": "2022-08-16T07:35:21.662Z"
   },
   {
    "duration": 34,
    "start_time": "2022-08-16T07:35:21.688Z"
   },
   {
    "duration": 235,
    "start_time": "2022-08-16T07:35:21.725Z"
   },
   {
    "duration": 3,
    "start_time": "2022-08-16T07:35:21.961Z"
   },
   {
    "duration": 20,
    "start_time": "2022-08-16T07:35:21.966Z"
   },
   {
    "duration": 29,
    "start_time": "2022-08-16T07:35:21.987Z"
   },
   {
    "duration": 131,
    "start_time": "2022-08-16T07:35:22.017Z"
   },
   {
    "duration": 10,
    "start_time": "2022-08-16T07:35:22.149Z"
   },
   {
    "duration": 22,
    "start_time": "2022-08-16T07:35:22.161Z"
   },
   {
    "duration": 30,
    "start_time": "2022-08-16T07:35:22.185Z"
   },
   {
    "duration": 7,
    "start_time": "2022-08-16T07:35:22.217Z"
   },
   {
    "duration": 9,
    "start_time": "2022-08-16T07:35:22.227Z"
   },
   {
    "duration": 12,
    "start_time": "2022-08-16T07:35:22.238Z"
   },
   {
    "duration": 29,
    "start_time": "2022-08-16T07:35:22.252Z"
   },
   {
    "duration": 118,
    "start_time": "2022-08-16T07:35:22.282Z"
   },
   {
    "duration": 126,
    "start_time": "2022-08-16T07:35:22.409Z"
   },
   {
    "duration": 8,
    "start_time": "2022-08-16T07:35:22.537Z"
   },
   {
    "duration": 236,
    "start_time": "2022-08-16T07:35:22.547Z"
   },
   {
    "duration": 205,
    "start_time": "2022-08-16T07:35:22.785Z"
   },
   {
    "duration": 263,
    "start_time": "2022-08-16T07:35:22.992Z"
   },
   {
    "duration": 4,
    "start_time": "2022-08-16T07:35:23.257Z"
   },
   {
    "duration": 54,
    "start_time": "2022-08-16T07:35:23.263Z"
   },
   {
    "duration": 3,
    "start_time": "2022-08-16T07:35:23.319Z"
   },
   {
    "duration": 1589,
    "start_time": "2022-08-16T07:35:23.323Z"
   },
   {
    "duration": 3299,
    "start_time": "2022-08-16T07:35:24.913Z"
   },
   {
    "duration": 99,
    "start_time": "2022-08-16T07:59:31.474Z"
   },
   {
    "duration": 1312,
    "start_time": "2022-08-16T08:00:48.898Z"
   },
   {
    "duration": 23,
    "start_time": "2022-08-16T08:01:14.542Z"
   },
   {
    "duration": 1447,
    "start_time": "2022-08-16T08:01:38.866Z"
   },
   {
    "duration": 1460,
    "start_time": "2022-08-16T08:01:56.637Z"
   },
   {
    "duration": 941,
    "start_time": "2022-08-16T08:02:05.371Z"
   },
   {
    "duration": 1808,
    "start_time": "2022-08-16T08:02:32.881Z"
   },
   {
    "duration": 1337,
    "start_time": "2022-08-16T08:02:42.376Z"
   },
   {
    "duration": 5,
    "start_time": "2022-08-16T08:04:46.694Z"
   },
   {
    "duration": 358,
    "start_time": "2022-08-16T08:05:20.628Z"
   },
   {
    "duration": 239,
    "start_time": "2022-08-16T08:05:32.642Z"
   },
   {
    "duration": 6,
    "start_time": "2022-08-16T08:05:52.607Z"
   },
   {
    "duration": 1472,
    "start_time": "2022-08-16T08:06:03.337Z"
   },
   {
    "duration": 1689,
    "start_time": "2022-08-16T08:06:17.126Z"
   },
   {
    "duration": 1771,
    "start_time": "2022-08-16T08:06:29.648Z"
   },
   {
    "duration": 196,
    "start_time": "2022-08-16T08:07:41.143Z"
   },
   {
    "duration": 198,
    "start_time": "2022-08-16T08:08:11.525Z"
   },
   {
    "duration": 521,
    "start_time": "2022-08-16T08:09:15.692Z"
   },
   {
    "duration": 262,
    "start_time": "2022-08-16T08:09:37.159Z"
   },
   {
    "duration": 2124,
    "start_time": "2022-08-16T08:09:56.692Z"
   },
   {
    "duration": 284,
    "start_time": "2022-08-16T08:10:19.843Z"
   },
   {
    "duration": 2031,
    "start_time": "2022-08-16T08:12:35.888Z"
   },
   {
    "duration": 1889,
    "start_time": "2022-08-16T08:12:53.636Z"
   },
   {
    "duration": 2087,
    "start_time": "2022-08-16T08:13:05.725Z"
   },
   {
    "duration": 1587,
    "start_time": "2022-08-16T10:55:07.885Z"
   },
   {
    "duration": 2033,
    "start_time": "2022-08-16T10:55:09.476Z"
   },
   {
    "duration": 35,
    "start_time": "2022-08-16T10:55:11.511Z"
   },
   {
    "duration": 30,
    "start_time": "2022-08-16T10:55:11.549Z"
   },
   {
    "duration": 261,
    "start_time": "2022-08-16T10:55:11.581Z"
   },
   {
    "duration": 4,
    "start_time": "2022-08-16T10:55:11.844Z"
   },
   {
    "duration": 35,
    "start_time": "2022-08-16T10:55:11.849Z"
   },
   {
    "duration": 12,
    "start_time": "2022-08-16T10:55:11.886Z"
   },
   {
    "duration": 143,
    "start_time": "2022-08-16T10:55:11.900Z"
   },
   {
    "duration": 9,
    "start_time": "2022-08-16T10:55:12.046Z"
   },
   {
    "duration": 32,
    "start_time": "2022-08-16T10:55:12.057Z"
   },
   {
    "duration": 11,
    "start_time": "2022-08-16T10:55:12.090Z"
   },
   {
    "duration": 7,
    "start_time": "2022-08-16T10:55:12.102Z"
   },
   {
    "duration": 6,
    "start_time": "2022-08-16T10:55:12.111Z"
   },
   {
    "duration": 9,
    "start_time": "2022-08-16T10:55:12.119Z"
   },
   {
    "duration": 46,
    "start_time": "2022-08-16T10:55:12.129Z"
   },
   {
    "duration": 134,
    "start_time": "2022-08-16T10:55:12.182Z"
   },
   {
    "duration": 129,
    "start_time": "2022-08-16T10:55:12.319Z"
   },
   {
    "duration": 29,
    "start_time": "2022-08-16T10:55:12.450Z"
   },
   {
    "duration": 208,
    "start_time": "2022-08-16T10:55:12.481Z"
   },
   {
    "duration": 301,
    "start_time": "2022-08-16T10:55:12.690Z"
   },
   {
    "duration": 214,
    "start_time": "2022-08-16T10:55:12.993Z"
   },
   {
    "duration": 4,
    "start_time": "2022-08-16T10:55:13.209Z"
   },
   {
    "duration": 62,
    "start_time": "2022-08-16T10:55:13.215Z"
   },
   {
    "duration": 5,
    "start_time": "2022-08-16T10:55:13.279Z"
   },
   {
    "duration": 1885,
    "start_time": "2022-08-16T10:55:13.286Z"
   },
   {
    "duration": 7,
    "start_time": "2022-08-16T10:55:15.173Z"
   },
   {
    "duration": 11,
    "start_time": "2022-08-16T10:55:15.186Z"
   },
   {
    "duration": 72,
    "start_time": "2022-08-16T10:55:15.199Z"
   },
   {
    "duration": 121,
    "start_time": "2022-08-16T11:04:56.938Z"
   },
   {
    "duration": 128,
    "start_time": "2022-08-16T11:05:07.468Z"
   },
   {
    "duration": 1606,
    "start_time": "2022-08-16T11:05:39.215Z"
   },
   {
    "duration": 723,
    "start_time": "2022-08-16T11:05:40.824Z"
   },
   {
    "duration": 38,
    "start_time": "2022-08-16T11:05:41.549Z"
   },
   {
    "duration": 30,
    "start_time": "2022-08-16T11:05:41.592Z"
   },
   {
    "duration": 270,
    "start_time": "2022-08-16T11:05:41.625Z"
   },
   {
    "duration": 4,
    "start_time": "2022-08-16T11:05:41.896Z"
   },
   {
    "duration": 18,
    "start_time": "2022-08-16T11:05:41.901Z"
   },
   {
    "duration": 13,
    "start_time": "2022-08-16T11:05:41.921Z"
   },
   {
    "duration": 168,
    "start_time": "2022-08-16T11:05:41.936Z"
   },
   {
    "duration": 10,
    "start_time": "2022-08-16T11:05:42.107Z"
   },
   {
    "duration": 22,
    "start_time": "2022-08-16T11:05:42.119Z"
   },
   {
    "duration": 39,
    "start_time": "2022-08-16T11:05:42.143Z"
   },
   {
    "duration": 10,
    "start_time": "2022-08-16T11:05:42.185Z"
   },
   {
    "duration": 6,
    "start_time": "2022-08-16T11:05:42.197Z"
   },
   {
    "duration": 8,
    "start_time": "2022-08-16T11:05:42.205Z"
   },
   {
    "duration": 14,
    "start_time": "2022-08-16T11:05:42.215Z"
   },
   {
    "duration": 157,
    "start_time": "2022-08-16T11:05:42.231Z"
   },
   {
    "duration": 141,
    "start_time": "2022-08-16T11:05:42.390Z"
   },
   {
    "duration": 8,
    "start_time": "2022-08-16T11:05:42.533Z"
   },
   {
    "duration": 219,
    "start_time": "2022-08-16T11:05:42.542Z"
   },
   {
    "duration": 248,
    "start_time": "2022-08-16T11:05:42.763Z"
   },
   {
    "duration": 318,
    "start_time": "2022-08-16T11:05:43.013Z"
   },
   {
    "duration": 5,
    "start_time": "2022-08-16T11:05:43.332Z"
   },
   {
    "duration": 52,
    "start_time": "2022-08-16T11:05:43.338Z"
   },
   {
    "duration": 3,
    "start_time": "2022-08-16T11:05:43.392Z"
   },
   {
    "duration": 2081,
    "start_time": "2022-08-16T11:05:43.397Z"
   },
   {
    "duration": 77,
    "start_time": "2022-08-16T11:05:45.493Z"
   },
   {
    "duration": 105,
    "start_time": "2022-08-16T11:05:45.581Z"
   },
   {
    "duration": 11,
    "start_time": "2022-08-16T11:05:45.688Z"
   },
   {
    "duration": 5574,
    "start_time": "2022-08-16T11:06:30.616Z"
   },
   {
    "duration": 5644,
    "start_time": "2022-08-16T11:07:22.840Z"
   },
   {
    "duration": 5727,
    "start_time": "2022-08-16T11:08:45.241Z"
   },
   {
    "duration": 204940,
    "start_time": "2022-08-16T11:15:32.911Z"
   },
   {
    "duration": 211131,
    "start_time": "2022-08-16T11:20:12.112Z"
   },
   {
    "duration": 1574,
    "start_time": "2022-08-16T11:28:38.198Z"
   },
   {
    "duration": 1365,
    "start_time": "2022-08-16T12:39:16.184Z"
   },
   {
    "duration": 653,
    "start_time": "2022-08-16T12:39:17.551Z"
   },
   {
    "duration": 24,
    "start_time": "2022-08-16T12:39:18.206Z"
   },
   {
    "duration": 18,
    "start_time": "2022-08-16T12:39:18.233Z"
   },
   {
    "duration": 251,
    "start_time": "2022-08-16T12:39:18.268Z"
   },
   {
    "duration": 4,
    "start_time": "2022-08-16T12:39:18.522Z"
   },
   {
    "duration": 19,
    "start_time": "2022-08-16T12:39:18.528Z"
   },
   {
    "duration": 30,
    "start_time": "2022-08-16T12:39:18.548Z"
   },
   {
    "duration": 139,
    "start_time": "2022-08-16T12:39:18.579Z"
   },
   {
    "duration": 10,
    "start_time": "2022-08-16T12:39:18.721Z"
   },
   {
    "duration": 39,
    "start_time": "2022-08-16T12:39:18.732Z"
   },
   {
    "duration": 11,
    "start_time": "2022-08-16T12:39:18.773Z"
   },
   {
    "duration": 8,
    "start_time": "2022-08-16T12:39:18.786Z"
   },
   {
    "duration": 8,
    "start_time": "2022-08-16T12:39:18.796Z"
   },
   {
    "duration": 11,
    "start_time": "2022-08-16T12:39:18.806Z"
   },
   {
    "duration": 9,
    "start_time": "2022-08-16T12:39:18.819Z"
   },
   {
    "duration": 149,
    "start_time": "2022-08-16T12:39:18.830Z"
   },
   {
    "duration": 135,
    "start_time": "2022-08-16T12:39:18.981Z"
   },
   {
    "duration": 9,
    "start_time": "2022-08-16T12:39:19.119Z"
   },
   {
    "duration": 225,
    "start_time": "2022-08-16T12:39:19.129Z"
   },
   {
    "duration": 241,
    "start_time": "2022-08-16T12:39:19.356Z"
   },
   {
    "duration": 276,
    "start_time": "2022-08-16T12:39:19.599Z"
   },
   {
    "duration": 4,
    "start_time": "2022-08-16T12:39:19.876Z"
   },
   {
    "duration": 40,
    "start_time": "2022-08-16T12:39:19.882Z"
   },
   {
    "duration": 4,
    "start_time": "2022-08-16T12:39:19.923Z"
   },
   {
    "duration": 1241,
    "start_time": "2022-08-16T12:39:19.928Z"
   },
   {
    "duration": 4,
    "start_time": "2022-08-16T12:39:21.172Z"
   },
   {
    "duration": 196817,
    "start_time": "2022-08-16T12:39:21.180Z"
   },
   {
    "duration": 1488,
    "start_time": "2022-08-16T12:42:37.999Z"
   },
   {
    "duration": 3,
    "start_time": "2022-08-16T12:42:39.489Z"
   },
   {
    "duration": 124,
    "start_time": "2022-08-16T12:53:33.973Z"
   },
   {
    "duration": 22,
    "start_time": "2022-08-16T12:54:07.921Z"
   },
   {
    "duration": 258682,
    "start_time": "2022-08-16T12:54:14.172Z"
   },
   {
    "duration": 3,
    "start_time": "2022-08-16T13:13:19.158Z"
   },
   {
    "duration": 3670,
    "start_time": "2022-08-16T13:13:33.357Z"
   },
   {
    "duration": 2,
    "start_time": "2022-08-16T13:14:11.338Z"
   },
   {
    "duration": 28,
    "start_time": "2022-08-16T13:22:20.957Z"
   },
   {
    "duration": 28,
    "start_time": "2022-08-16T13:22:32.122Z"
   },
   {
    "duration": 85,
    "start_time": "2022-08-16T13:30:26.006Z"
   },
   {
    "duration": 10,
    "start_time": "2022-08-16T13:30:38.717Z"
   },
   {
    "duration": 714,
    "start_time": "2022-08-16T13:30:44.677Z"
   },
   {
    "duration": 10,
    "start_time": "2022-08-16T13:31:29.357Z"
   },
   {
    "duration": 78,
    "start_time": "2022-08-16T13:31:59.437Z"
   },
   {
    "duration": 21,
    "start_time": "2022-08-16T13:32:05.533Z"
   },
   {
    "duration": 12,
    "start_time": "2022-08-16T13:32:30.813Z"
   },
   {
    "duration": 9,
    "start_time": "2022-08-16T13:34:22.733Z"
   },
   {
    "duration": 8,
    "start_time": "2022-08-16T13:34:26.422Z"
   },
   {
    "duration": 10,
    "start_time": "2022-08-16T13:35:25.692Z"
   },
   {
    "duration": 255,
    "start_time": "2022-08-16T13:35:47.748Z"
   },
   {
    "duration": 257,
    "start_time": "2022-08-16T13:35:57.773Z"
   },
   {
    "duration": 266,
    "start_time": "2022-08-16T13:36:05.564Z"
   },
   {
    "duration": 265,
    "start_time": "2022-08-16T13:36:13.418Z"
   },
   {
    "duration": 262,
    "start_time": "2022-08-16T13:36:45.772Z"
   },
   {
    "duration": 80,
    "start_time": "2022-08-16T13:37:39.365Z"
   },
   {
    "duration": 12,
    "start_time": "2022-08-16T13:41:08.052Z"
   },
   {
    "duration": 392,
    "start_time": "2022-08-16T13:41:33.652Z"
   },
   {
    "duration": 1531,
    "start_time": "2022-08-16T13:43:43.365Z"
   },
   {
    "duration": 15,
    "start_time": "2022-08-16T13:44:01.052Z"
   },
   {
    "duration": 52,
    "start_time": "2022-08-16T13:44:26.460Z"
   },
   {
    "duration": 10,
    "start_time": "2022-08-16T13:44:35.458Z"
   },
   {
    "duration": 285,
    "start_time": "2022-08-16T13:44:51.975Z"
   },
   {
    "duration": 283,
    "start_time": "2022-08-16T13:45:02.179Z"
   },
   {
    "duration": 9,
    "start_time": "2022-08-16T13:45:05.021Z"
   },
   {
    "duration": 577,
    "start_time": "2022-08-16T13:45:09.748Z"
   },
   {
    "duration": 399,
    "start_time": "2022-08-16T13:46:39.192Z"
   },
   {
    "duration": 395,
    "start_time": "2022-08-16T13:47:25.340Z"
   },
   {
    "duration": 17,
    "start_time": "2022-08-16T13:51:45.812Z"
   },
   {
    "duration": 5,
    "start_time": "2022-08-16T13:52:47.104Z"
   },
   {
    "duration": 3,
    "start_time": "2022-08-16T13:54:03.028Z"
   },
   {
    "duration": 10,
    "start_time": "2022-08-16T13:54:48.883Z"
   },
   {
    "duration": 9,
    "start_time": "2022-08-16T13:55:00.628Z"
   },
   {
    "duration": 6,
    "start_time": "2022-08-16T13:56:35.292Z"
   },
   {
    "duration": 7,
    "start_time": "2022-08-16T13:56:43.123Z"
   },
   {
    "duration": 398,
    "start_time": "2022-08-16T13:57:21.715Z"
   },
   {
    "duration": 375,
    "start_time": "2022-08-16T13:57:28.235Z"
   },
   {
    "duration": 6,
    "start_time": "2022-08-16T13:57:48.140Z"
   },
   {
    "duration": 9,
    "start_time": "2022-08-16T13:58:27.531Z"
   },
   {
    "duration": 936,
    "start_time": "2022-08-16T13:59:03.844Z"
   },
   {
    "duration": 10,
    "start_time": "2022-08-16T14:00:01.715Z"
   },
   {
    "duration": 162,
    "start_time": "2022-08-16T14:00:10.420Z"
   },
   {
    "duration": 1354,
    "start_time": "2022-08-16T14:14:52.918Z"
   },
   {
    "duration": 661,
    "start_time": "2022-08-16T14:14:54.274Z"
   },
   {
    "duration": 32,
    "start_time": "2022-08-16T14:14:54.937Z"
   },
   {
    "duration": 18,
    "start_time": "2022-08-16T14:14:54.970Z"
   },
   {
    "duration": 264,
    "start_time": "2022-08-16T14:14:54.991Z"
   },
   {
    "duration": 10,
    "start_time": "2022-08-16T14:14:55.257Z"
   },
   {
    "duration": 19,
    "start_time": "2022-08-16T14:14:55.269Z"
   },
   {
    "duration": 11,
    "start_time": "2022-08-16T14:14:55.289Z"
   },
   {
    "duration": 145,
    "start_time": "2022-08-16T14:14:55.302Z"
   },
   {
    "duration": 19,
    "start_time": "2022-08-16T14:14:55.449Z"
   },
   {
    "duration": 25,
    "start_time": "2022-08-16T14:14:55.469Z"
   },
   {
    "duration": 11,
    "start_time": "2022-08-16T14:14:55.496Z"
   },
   {
    "duration": 7,
    "start_time": "2022-08-16T14:14:55.508Z"
   },
   {
    "duration": 9,
    "start_time": "2022-08-16T14:14:55.518Z"
   },
   {
    "duration": 8,
    "start_time": "2022-08-16T14:14:55.529Z"
   },
   {
    "duration": 6,
    "start_time": "2022-08-16T14:14:55.568Z"
   },
   {
    "duration": 128,
    "start_time": "2022-08-16T14:14:55.576Z"
   },
   {
    "duration": 130,
    "start_time": "2022-08-16T14:14:55.706Z"
   },
   {
    "duration": 9,
    "start_time": "2022-08-16T14:14:55.837Z"
   },
   {
    "duration": 221,
    "start_time": "2022-08-16T14:14:55.848Z"
   },
   {
    "duration": 221,
    "start_time": "2022-08-16T14:14:56.072Z"
   },
   {
    "duration": 331,
    "start_time": "2022-08-16T14:14:56.295Z"
   },
   {
    "duration": 5,
    "start_time": "2022-08-16T14:14:56.630Z"
   },
   {
    "duration": 60,
    "start_time": "2022-08-16T14:14:56.637Z"
   },
   {
    "duration": 4,
    "start_time": "2022-08-16T14:14:56.700Z"
   },
   {
    "duration": 1466,
    "start_time": "2022-08-16T14:14:56.707Z"
   },
   {
    "duration": 3,
    "start_time": "2022-08-16T14:14:58.174Z"
   },
   {
    "duration": 195702,
    "start_time": "2022-08-16T14:14:58.179Z"
   },
   {
    "duration": 1474,
    "start_time": "2022-08-16T14:18:13.882Z"
   },
   {
    "duration": 217766,
    "start_time": "2022-08-16T14:18:15.357Z"
   },
   {
    "duration": 3553,
    "start_time": "2022-08-16T14:21:53.124Z"
   },
   {
    "duration": 284,
    "start_time": "2022-08-16T14:21:56.679Z"
   },
   {
    "duration": 365,
    "start_time": "2022-08-16T14:21:56.965Z"
   },
   {
    "duration": 8,
    "start_time": "2022-08-16T14:21:57.331Z"
   }
  ],
  "kernelspec": {
   "display_name": "Python 3 (ipykernel)",
   "language": "python",
   "name": "python3"
  },
  "language_info": {
   "codemirror_mode": {
    "name": "ipython",
    "version": 3
   },
   "file_extension": ".py",
   "mimetype": "text/x-python",
   "name": "python",
   "nbconvert_exporter": "python",
   "pygments_lexer": "ipython3",
   "version": "3.9.12"
  },
  "toc": {
   "base_numbering": 1,
   "nav_menu": {},
   "number_sections": true,
   "sideBar": true,
   "skip_h1_title": true,
   "title_cell": "Содержание",
   "title_sidebar": "Contents",
   "toc_cell": true,
   "toc_position": {
    "height": "calc(100% - 180px)",
    "left": "10px",
    "top": "150px",
    "width": "294px"
   },
   "toc_section_display": true,
   "toc_window_display": true
  }
 },
 "nbformat": 4,
 "nbformat_minor": 2
}
