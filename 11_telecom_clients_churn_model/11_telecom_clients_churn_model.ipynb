{
 "cells": [
  {
   "cell_type": "markdown",
   "metadata": {},
   "source": [
    "**Проект Телеком**"
   ]
  },
  {
   "cell_type": "markdown",
   "metadata": {},
   "source": [
    "### Описание проекта"
   ]
  },
  {
   "cell_type": "markdown",
   "metadata": {},
   "source": [
    "Заказчик проекта - оператор связи."
   ]
  },
  {
   "cell_type": "markdown",
   "metadata": {},
   "source": [
    "**Описание услуг**\n",
    "\n",
    "Оператор предоставляет два основных типа услуг: \n",
    "\n",
    "1. Стационарную телефонную связь. Возможно подключение телефонного аппарата к нескольким линиям одновременно.\n",
    "2. Интернет. Подключение может быть двух типов: через телефонную линию (DSL*,* от англ. *digital subscriber line*, «цифровая абонентская линия») или оптоволоконный кабель (*Fiber optic*).  \n",
    "\n",
    "Также доступны такие услуги:\n",
    "\n",
    "- Интернет-безопасность: антивирус (*DeviceProtection*) и блокировка небезопасных сайтов (*OnlineSecurity*);\n",
    "- Выделенная линия технической поддержки (*TechSupport*);\n",
    "- Облачное хранилище файлов для резервного копирования данных (*OnlineBackup*);\n",
    "- Стриминговое телевидение (*StreamingTV*) и каталог фильмов (*StreamingMovies*).\n",
    "\n",
    "За услуги клиенты могут платить каждый месяц или заключить договор на 1–2 года. Доступны различные способы расчёта и возможность получения электронного чека."
   ]
  },
  {
   "cell_type": "markdown",
   "metadata": {},
   "source": [
    "**Описание данных**\n",
    "\n",
    "Данные состоят из файлов, полученных из разных источников:\n",
    "\n",
    "- `contract.csv` — информация о договоре;\n",
    "- `personal.csv` — персональные данные клиента;\n",
    "- `internet.csv` — информация об интернет-услугах;\n",
    "- `phone.csv` — информация об услугах телефонии.\n",
    "\n",
    "Во всех файлах столбец `customerID` содержит код клиента.\n",
    "\n",
    "Информация о договорах актуальна на 1 февраля 2020."
   ]
  },
  {
   "cell_type": "markdown",
   "metadata": {},
   "source": [
    "**Цель проекта**: Создать модель, которая будет предсказывать отток клиентов, чтобы у оператора появилась возможность его предотвратить.  \n",
    "**Задачи проекта:** Для достижения цели необходимо выполнить предобработку данных, создать модели нескольких типов, подобрать гиперпараметры, оценить модели, выбрать лучшую, провести финальное тестирование."
   ]
  },
  {
   "cell_type": "markdown",
   "metadata": {},
   "source": [
    "Импортируем необходимые для анализа библиотеки:"
   ]
  },
  {
   "cell_type": "code",
   "execution_count": 1,
   "metadata": {},
   "outputs": [],
   "source": [
    "import pandas as pd\n",
    "import numpy as np\n",
    "import matplotlib.pyplot as plt\n",
    "import seaborn as sns\n",
    "import datetime\n",
    "from sklearn.model_selection import train_test_split\n",
    "from sklearn.preprocessing import OneHotEncoder\n",
    "from sklearn.preprocessing import OrdinalEncoder\n",
    "from sklearn.model_selection import cross_val_score\n",
    "from sklearn.metrics import make_scorer\n",
    "from sklearn.metrics import roc_auc_score\n",
    "from sklearn.metrics import roc_curve\n",
    "from sklearn.metrics import accuracy_score\n",
    "from sklearn.preprocessing import StandardScaler\n",
    "from sklearn.tree import DecisionTreeClassifier\n",
    "from sklearn.ensemble import RandomForestClassifier\n",
    "from sklearn.linear_model import LogisticRegression\n",
    "import lightgbm as lgb\n",
    "from catboost import CatBoostClassifier, Pool\n",
    "from sklearn.model_selection import GridSearchCV\n",
    "from sklearn.model_selection import RandomizedSearchCV\n",
    "from sklearn.metrics import confusion_matrix\n",
    "\n",
    "import warnings\n",
    "warnings.filterwarnings('ignore')"
   ]
  },
  {
   "cell_type": "markdown",
   "metadata": {},
   "source": [
    "### Исследовательский анализ данных"
   ]
  },
  {
   "cell_type": "markdown",
   "metadata": {},
   "source": [
    "Импортируем данные:"
   ]
  },
  {
   "cell_type": "code",
   "execution_count": 2,
   "metadata": {},
   "outputs": [],
   "source": [
    "contract = pd.read_csv('/datasets/final_provider/contract.csv')\n",
    "personal = pd.read_csv('/datasets/final_provider/personal.csv')\n",
    "internet = pd.read_csv('/datasets/final_provider/internet.csv')\n",
    "phone = pd.read_csv('/datasets/final_provider/phone.csv')"
   ]
  },
  {
   "cell_type": "markdown",
   "metadata": {},
   "source": [
    "**Ознакомимся с таблицей, содержащей информацию о договорах:**"
   ]
  },
  {
   "cell_type": "code",
   "execution_count": 3,
   "metadata": {},
   "outputs": [
    {
     "name": "stdout",
     "output_type": "stream",
     "text": [
      "<class 'pandas.core.frame.DataFrame'>\n",
      "RangeIndex: 7043 entries, 0 to 7042\n",
      "Data columns (total 8 columns):\n",
      " #   Column            Non-Null Count  Dtype  \n",
      "---  ------            --------------  -----  \n",
      " 0   customerID        7043 non-null   object \n",
      " 1   BeginDate         7043 non-null   object \n",
      " 2   EndDate           7043 non-null   object \n",
      " 3   Type              7043 non-null   object \n",
      " 4   PaperlessBilling  7043 non-null   object \n",
      " 5   PaymentMethod     7043 non-null   object \n",
      " 6   MonthlyCharges    7043 non-null   float64\n",
      " 7   TotalCharges      7043 non-null   object \n",
      "dtypes: float64(1), object(7)\n",
      "memory usage: 440.3+ KB\n",
      "None\n"
     ]
    },
    {
     "data": {
      "text/html": [
       "<div>\n",
       "<style scoped>\n",
       "    .dataframe tbody tr th:only-of-type {\n",
       "        vertical-align: middle;\n",
       "    }\n",
       "\n",
       "    .dataframe tbody tr th {\n",
       "        vertical-align: top;\n",
       "    }\n",
       "\n",
       "    .dataframe thead th {\n",
       "        text-align: right;\n",
       "    }\n",
       "</style>\n",
       "<table border=\"1\" class=\"dataframe\">\n",
       "  <thead>\n",
       "    <tr style=\"text-align: right;\">\n",
       "      <th></th>\n",
       "      <th>customerID</th>\n",
       "      <th>BeginDate</th>\n",
       "      <th>EndDate</th>\n",
       "      <th>Type</th>\n",
       "      <th>PaperlessBilling</th>\n",
       "      <th>PaymentMethod</th>\n",
       "      <th>MonthlyCharges</th>\n",
       "      <th>TotalCharges</th>\n",
       "    </tr>\n",
       "  </thead>\n",
       "  <tbody>\n",
       "    <tr>\n",
       "      <th>0</th>\n",
       "      <td>7590-VHVEG</td>\n",
       "      <td>2020-01-01</td>\n",
       "      <td>No</td>\n",
       "      <td>Month-to-month</td>\n",
       "      <td>Yes</td>\n",
       "      <td>Electronic check</td>\n",
       "      <td>29.85</td>\n",
       "      <td>29.85</td>\n",
       "    </tr>\n",
       "    <tr>\n",
       "      <th>1</th>\n",
       "      <td>5575-GNVDE</td>\n",
       "      <td>2017-04-01</td>\n",
       "      <td>No</td>\n",
       "      <td>One year</td>\n",
       "      <td>No</td>\n",
       "      <td>Mailed check</td>\n",
       "      <td>56.95</td>\n",
       "      <td>1889.5</td>\n",
       "    </tr>\n",
       "    <tr>\n",
       "      <th>2</th>\n",
       "      <td>3668-QPYBK</td>\n",
       "      <td>2019-10-01</td>\n",
       "      <td>2019-12-01 00:00:00</td>\n",
       "      <td>Month-to-month</td>\n",
       "      <td>Yes</td>\n",
       "      <td>Mailed check</td>\n",
       "      <td>53.85</td>\n",
       "      <td>108.15</td>\n",
       "    </tr>\n",
       "    <tr>\n",
       "      <th>3</th>\n",
       "      <td>7795-CFOCW</td>\n",
       "      <td>2016-05-01</td>\n",
       "      <td>No</td>\n",
       "      <td>One year</td>\n",
       "      <td>No</td>\n",
       "      <td>Bank transfer (automatic)</td>\n",
       "      <td>42.30</td>\n",
       "      <td>1840.75</td>\n",
       "    </tr>\n",
       "    <tr>\n",
       "      <th>4</th>\n",
       "      <td>9237-HQITU</td>\n",
       "      <td>2019-09-01</td>\n",
       "      <td>2019-11-01 00:00:00</td>\n",
       "      <td>Month-to-month</td>\n",
       "      <td>Yes</td>\n",
       "      <td>Electronic check</td>\n",
       "      <td>70.70</td>\n",
       "      <td>151.65</td>\n",
       "    </tr>\n",
       "    <tr>\n",
       "      <th>5</th>\n",
       "      <td>9305-CDSKC</td>\n",
       "      <td>2019-03-01</td>\n",
       "      <td>2019-11-01 00:00:00</td>\n",
       "      <td>Month-to-month</td>\n",
       "      <td>Yes</td>\n",
       "      <td>Electronic check</td>\n",
       "      <td>99.65</td>\n",
       "      <td>820.5</td>\n",
       "    </tr>\n",
       "    <tr>\n",
       "      <th>6</th>\n",
       "      <td>1452-KIOVK</td>\n",
       "      <td>2018-04-01</td>\n",
       "      <td>No</td>\n",
       "      <td>Month-to-month</td>\n",
       "      <td>Yes</td>\n",
       "      <td>Credit card (automatic)</td>\n",
       "      <td>89.10</td>\n",
       "      <td>1949.4</td>\n",
       "    </tr>\n",
       "    <tr>\n",
       "      <th>7</th>\n",
       "      <td>6713-OKOMC</td>\n",
       "      <td>2019-04-01</td>\n",
       "      <td>No</td>\n",
       "      <td>Month-to-month</td>\n",
       "      <td>No</td>\n",
       "      <td>Mailed check</td>\n",
       "      <td>29.75</td>\n",
       "      <td>301.9</td>\n",
       "    </tr>\n",
       "    <tr>\n",
       "      <th>8</th>\n",
       "      <td>7892-POOKP</td>\n",
       "      <td>2017-07-01</td>\n",
       "      <td>2019-11-01 00:00:00</td>\n",
       "      <td>Month-to-month</td>\n",
       "      <td>Yes</td>\n",
       "      <td>Electronic check</td>\n",
       "      <td>104.80</td>\n",
       "      <td>3046.05</td>\n",
       "    </tr>\n",
       "    <tr>\n",
       "      <th>9</th>\n",
       "      <td>6388-TABGU</td>\n",
       "      <td>2014-12-01</td>\n",
       "      <td>No</td>\n",
       "      <td>One year</td>\n",
       "      <td>No</td>\n",
       "      <td>Bank transfer (automatic)</td>\n",
       "      <td>56.15</td>\n",
       "      <td>3487.95</td>\n",
       "    </tr>\n",
       "  </tbody>\n",
       "</table>\n",
       "</div>"
      ],
      "text/plain": [
       "   customerID   BeginDate              EndDate            Type  \\\n",
       "0  7590-VHVEG  2020-01-01                   No  Month-to-month   \n",
       "1  5575-GNVDE  2017-04-01                   No        One year   \n",
       "2  3668-QPYBK  2019-10-01  2019-12-01 00:00:00  Month-to-month   \n",
       "3  7795-CFOCW  2016-05-01                   No        One year   \n",
       "4  9237-HQITU  2019-09-01  2019-11-01 00:00:00  Month-to-month   \n",
       "5  9305-CDSKC  2019-03-01  2019-11-01 00:00:00  Month-to-month   \n",
       "6  1452-KIOVK  2018-04-01                   No  Month-to-month   \n",
       "7  6713-OKOMC  2019-04-01                   No  Month-to-month   \n",
       "8  7892-POOKP  2017-07-01  2019-11-01 00:00:00  Month-to-month   \n",
       "9  6388-TABGU  2014-12-01                   No        One year   \n",
       "\n",
       "  PaperlessBilling              PaymentMethod  MonthlyCharges TotalCharges  \n",
       "0              Yes           Electronic check           29.85        29.85  \n",
       "1               No               Mailed check           56.95       1889.5  \n",
       "2              Yes               Mailed check           53.85       108.15  \n",
       "3               No  Bank transfer (automatic)           42.30      1840.75  \n",
       "4              Yes           Electronic check           70.70       151.65  \n",
       "5              Yes           Electronic check           99.65        820.5  \n",
       "6              Yes    Credit card (automatic)           89.10       1949.4  \n",
       "7               No               Mailed check           29.75        301.9  \n",
       "8              Yes           Electronic check          104.80      3046.05  \n",
       "9               No  Bank transfer (automatic)           56.15      3487.95  "
      ]
     },
     "execution_count": 3,
     "metadata": {},
     "output_type": "execute_result"
    }
   ],
   "source": [
    "print(contract.info())\n",
    "contract.head(10)"
   ]
  },
  {
   "cell_type": "markdown",
   "metadata": {},
   "source": [
    "Таблица содержит 7043 записи и 7 столбцов.  \n",
    "По столбцам содержится следующая информация:  \n",
    "- customerID - код клиента  \n",
    "- BeginDate - дата заключения договора  \n",
    "- EndDate - дата окончания договора  \n",
    "- Type - тип оплаты услуг  \n",
    "- PaperlessBilling - информация о предоставлении бумажной квитанции  \n",
    "- PaymentMethod - способ оплаты\n",
    "- MonthlyCharges - стоимость услуг в месяц  \n",
    "- TotalCharges - общая стоимость услуг с момента заключения договора"
   ]
  },
  {
   "cell_type": "markdown",
   "metadata": {},
   "source": [
    "Проверим таблицу на наличие дубликатов:"
   ]
  },
  {
   "cell_type": "code",
   "execution_count": 4,
   "metadata": {
    "scrolled": true
   },
   "outputs": [
    {
     "data": {
      "text/plain": [
       "0"
      ]
     },
     "execution_count": 4,
     "metadata": {},
     "output_type": "execute_result"
    }
   ],
   "source": [
    "contract.duplicated().sum()"
   ]
  },
  {
   "cell_type": "markdown",
   "metadata": {},
   "source": [
    "Дубликатов в таблице нет. Проверим на наличие пропусков:"
   ]
  },
  {
   "cell_type": "code",
   "execution_count": 5,
   "metadata": {},
   "outputs": [
    {
     "data": {
      "text/plain": [
       "customerID          0\n",
       "BeginDate           0\n",
       "EndDate             0\n",
       "Type                0\n",
       "PaperlessBilling    0\n",
       "PaymentMethod       0\n",
       "MonthlyCharges      0\n",
       "TotalCharges        0\n",
       "dtype: int64"
      ]
     },
     "execution_count": 5,
     "metadata": {},
     "output_type": "execute_result"
    }
   ],
   "source": [
    "contract.isna().sum()"
   ]
  },
  {
   "cell_type": "markdown",
   "metadata": {},
   "source": [
    "Пропусков в таблице нет. Приведем данные в столбцах к необходимым типам:"
   ]
  },
  {
   "cell_type": "code",
   "execution_count": 6,
   "metadata": {},
   "outputs": [],
   "source": [
    "contract['BeginDate'] = pd.to_datetime(contract['BeginDate'])\n",
    "contract['TotalCharges'] = pd.to_numeric(contract['TotalCharges'], errors='coerce')"
   ]
  },
  {
   "cell_type": "code",
   "execution_count": 7,
   "metadata": {},
   "outputs": [
    {
     "data": {
      "text/plain": [
       "0.15642775881683732"
      ]
     },
     "execution_count": 7,
     "metadata": {},
     "output_type": "execute_result"
    }
   ],
   "source": [
    "contract['TotalCharges'].isna().sum() / contract['TotalCharges'].count() * 100"
   ]
  },
  {
   "cell_type": "markdown",
   "metadata": {},
   "source": [
    "После приведения данных столбца TotalCharges к числовому типу в столбце образовались пропуски. Доля этих пропусков по отношению ко всему датасету равно 0.15%. Учитывая их малую долю, строки с этими пропусками можно удалить."
   ]
  },
  {
   "cell_type": "code",
   "execution_count": 8,
   "metadata": {},
   "outputs": [],
   "source": [
    "contract = contract.dropna()"
   ]
  },
  {
   "cell_type": "markdown",
   "metadata": {},
   "source": [
    "Создадим столбец с целевым признаком на основе столбца EndDate - перестал клиент пользоваться услугами или нет."
   ]
  },
  {
   "cell_type": "code",
   "execution_count": 9,
   "metadata": {},
   "outputs": [],
   "source": [
    "def left_target(EndDate):\n",
    "    if EndDate == 'No':\n",
    "        return 0\n",
    "    if EndDate != 'No':\n",
    "        return 1\n",
    "    \n",
    "contract['Left'] = contract['EndDate'].apply(left_target)"
   ]
  },
  {
   "cell_type": "markdown",
   "metadata": {},
   "source": [
    "Заменим значения No в столбце на дату выгрузки данных - 2020-02-01. Изменим тип данных в столбце."
   ]
  },
  {
   "cell_type": "code",
   "execution_count": 10,
   "metadata": {},
   "outputs": [],
   "source": [
    "contract['EndDate'] = contract['EndDate'].replace('No', '2020-02-01')\n",
    "contract['EndDate'] = pd.to_datetime(contract['EndDate'])"
   ]
  },
  {
   "cell_type": "markdown",
   "metadata": {},
   "source": [
    "Создадим новый признак - посчитаем, сколько дней клиент пользуется услугами оператора."
   ]
  },
  {
   "cell_type": "code",
   "execution_count": 11,
   "metadata": {},
   "outputs": [],
   "source": [
    "contract['Duration'] = (contract['EndDate'] - contract['BeginDate']).dt.days"
   ]
  },
  {
   "cell_type": "markdown",
   "metadata": {},
   "source": [
    "**Ознакомимся с таблицей, содержащей информацию о персональных данных клиента:**"
   ]
  },
  {
   "cell_type": "code",
   "execution_count": 12,
   "metadata": {},
   "outputs": [
    {
     "name": "stdout",
     "output_type": "stream",
     "text": [
      "<class 'pandas.core.frame.DataFrame'>\n",
      "RangeIndex: 7043 entries, 0 to 7042\n",
      "Data columns (total 5 columns):\n",
      " #   Column         Non-Null Count  Dtype \n",
      "---  ------         --------------  ----- \n",
      " 0   customerID     7043 non-null   object\n",
      " 1   gender         7043 non-null   object\n",
      " 2   SeniorCitizen  7043 non-null   int64 \n",
      " 3   Partner        7043 non-null   object\n",
      " 4   Dependents     7043 non-null   object\n",
      "dtypes: int64(1), object(4)\n",
      "memory usage: 275.2+ KB\n",
      "None\n"
     ]
    },
    {
     "data": {
      "text/html": [
       "<div>\n",
       "<style scoped>\n",
       "    .dataframe tbody tr th:only-of-type {\n",
       "        vertical-align: middle;\n",
       "    }\n",
       "\n",
       "    .dataframe tbody tr th {\n",
       "        vertical-align: top;\n",
       "    }\n",
       "\n",
       "    .dataframe thead th {\n",
       "        text-align: right;\n",
       "    }\n",
       "</style>\n",
       "<table border=\"1\" class=\"dataframe\">\n",
       "  <thead>\n",
       "    <tr style=\"text-align: right;\">\n",
       "      <th></th>\n",
       "      <th>customerID</th>\n",
       "      <th>gender</th>\n",
       "      <th>SeniorCitizen</th>\n",
       "      <th>Partner</th>\n",
       "      <th>Dependents</th>\n",
       "    </tr>\n",
       "  </thead>\n",
       "  <tbody>\n",
       "    <tr>\n",
       "      <th>0</th>\n",
       "      <td>7590-VHVEG</td>\n",
       "      <td>Female</td>\n",
       "      <td>0</td>\n",
       "      <td>Yes</td>\n",
       "      <td>No</td>\n",
       "    </tr>\n",
       "    <tr>\n",
       "      <th>1</th>\n",
       "      <td>5575-GNVDE</td>\n",
       "      <td>Male</td>\n",
       "      <td>0</td>\n",
       "      <td>No</td>\n",
       "      <td>No</td>\n",
       "    </tr>\n",
       "    <tr>\n",
       "      <th>2</th>\n",
       "      <td>3668-QPYBK</td>\n",
       "      <td>Male</td>\n",
       "      <td>0</td>\n",
       "      <td>No</td>\n",
       "      <td>No</td>\n",
       "    </tr>\n",
       "    <tr>\n",
       "      <th>3</th>\n",
       "      <td>7795-CFOCW</td>\n",
       "      <td>Male</td>\n",
       "      <td>0</td>\n",
       "      <td>No</td>\n",
       "      <td>No</td>\n",
       "    </tr>\n",
       "    <tr>\n",
       "      <th>4</th>\n",
       "      <td>9237-HQITU</td>\n",
       "      <td>Female</td>\n",
       "      <td>0</td>\n",
       "      <td>No</td>\n",
       "      <td>No</td>\n",
       "    </tr>\n",
       "    <tr>\n",
       "      <th>5</th>\n",
       "      <td>9305-CDSKC</td>\n",
       "      <td>Female</td>\n",
       "      <td>0</td>\n",
       "      <td>No</td>\n",
       "      <td>No</td>\n",
       "    </tr>\n",
       "    <tr>\n",
       "      <th>6</th>\n",
       "      <td>1452-KIOVK</td>\n",
       "      <td>Male</td>\n",
       "      <td>0</td>\n",
       "      <td>No</td>\n",
       "      <td>Yes</td>\n",
       "    </tr>\n",
       "    <tr>\n",
       "      <th>7</th>\n",
       "      <td>6713-OKOMC</td>\n",
       "      <td>Female</td>\n",
       "      <td>0</td>\n",
       "      <td>No</td>\n",
       "      <td>No</td>\n",
       "    </tr>\n",
       "    <tr>\n",
       "      <th>8</th>\n",
       "      <td>7892-POOKP</td>\n",
       "      <td>Female</td>\n",
       "      <td>0</td>\n",
       "      <td>Yes</td>\n",
       "      <td>No</td>\n",
       "    </tr>\n",
       "    <tr>\n",
       "      <th>9</th>\n",
       "      <td>6388-TABGU</td>\n",
       "      <td>Male</td>\n",
       "      <td>0</td>\n",
       "      <td>No</td>\n",
       "      <td>Yes</td>\n",
       "    </tr>\n",
       "  </tbody>\n",
       "</table>\n",
       "</div>"
      ],
      "text/plain": [
       "   customerID  gender  SeniorCitizen Partner Dependents\n",
       "0  7590-VHVEG  Female              0     Yes         No\n",
       "1  5575-GNVDE    Male              0      No         No\n",
       "2  3668-QPYBK    Male              0      No         No\n",
       "3  7795-CFOCW    Male              0      No         No\n",
       "4  9237-HQITU  Female              0      No         No\n",
       "5  9305-CDSKC  Female              0      No         No\n",
       "6  1452-KIOVK    Male              0      No        Yes\n",
       "7  6713-OKOMC  Female              0      No         No\n",
       "8  7892-POOKP  Female              0     Yes         No\n",
       "9  6388-TABGU    Male              0      No        Yes"
      ]
     },
     "execution_count": 12,
     "metadata": {},
     "output_type": "execute_result"
    }
   ],
   "source": [
    "print(personal.info())\n",
    "personal.head(10)"
   ]
  },
  {
   "cell_type": "markdown",
   "metadata": {},
   "source": [
    "Таблица содержит 7043 записи и 5 столбцов.  \n",
    "По столбцам содержится следующая информация:  \n",
    "- customerID - код клиента  \n",
    "- Gender - пол клиента\n",
    "- SeniorCitizen - информация о том, является ли клиент пенсионером \n",
    "- Partner - информация о том, есть ли у клиента супруг/супруга  \n",
    "- Dependents - информация о том, есть ли на попечении клиента иждивенцы  "
   ]
  },
  {
   "cell_type": "markdown",
   "metadata": {},
   "source": [
    "Проверим таблицу на наличие дубликатов:"
   ]
  },
  {
   "cell_type": "code",
   "execution_count": 13,
   "metadata": {},
   "outputs": [
    {
     "data": {
      "text/plain": [
       "0"
      ]
     },
     "execution_count": 13,
     "metadata": {},
     "output_type": "execute_result"
    }
   ],
   "source": [
    "personal.duplicated().sum()"
   ]
  },
  {
   "cell_type": "markdown",
   "metadata": {},
   "source": [
    "Дубликатов нет. Проверим таблицу на наличие пропусков:"
   ]
  },
  {
   "cell_type": "code",
   "execution_count": 14,
   "metadata": {
    "scrolled": true
   },
   "outputs": [
    {
     "data": {
      "text/plain": [
       "customerID       0\n",
       "gender           0\n",
       "SeniorCitizen    0\n",
       "Partner          0\n",
       "Dependents       0\n",
       "dtype: int64"
      ]
     },
     "execution_count": 14,
     "metadata": {},
     "output_type": "execute_result"
    }
   ],
   "source": [
    "personal.isna().sum()"
   ]
  },
  {
   "cell_type": "markdown",
   "metadata": {},
   "source": [
    "Объединим данные таблицы с таблицей contract:"
   ]
  },
  {
   "cell_type": "code",
   "execution_count": 15,
   "metadata": {},
   "outputs": [],
   "source": [
    "data = contract.merge(personal, how='left', on='customerID')"
   ]
  },
  {
   "cell_type": "markdown",
   "metadata": {},
   "source": [
    "**Ознакомимся с таблицей, содержащей информацию об интернет-услугах, предоставляемых клиенту:**"
   ]
  },
  {
   "cell_type": "code",
   "execution_count": 16,
   "metadata": {},
   "outputs": [
    {
     "name": "stdout",
     "output_type": "stream",
     "text": [
      "<class 'pandas.core.frame.DataFrame'>\n",
      "RangeIndex: 5517 entries, 0 to 5516\n",
      "Data columns (total 8 columns):\n",
      " #   Column            Non-Null Count  Dtype \n",
      "---  ------            --------------  ----- \n",
      " 0   customerID        5517 non-null   object\n",
      " 1   InternetService   5517 non-null   object\n",
      " 2   OnlineSecurity    5517 non-null   object\n",
      " 3   OnlineBackup      5517 non-null   object\n",
      " 4   DeviceProtection  5517 non-null   object\n",
      " 5   TechSupport       5517 non-null   object\n",
      " 6   StreamingTV       5517 non-null   object\n",
      " 7   StreamingMovies   5517 non-null   object\n",
      "dtypes: object(8)\n",
      "memory usage: 344.9+ KB\n",
      "None\n"
     ]
    },
    {
     "data": {
      "text/html": [
       "<div>\n",
       "<style scoped>\n",
       "    .dataframe tbody tr th:only-of-type {\n",
       "        vertical-align: middle;\n",
       "    }\n",
       "\n",
       "    .dataframe tbody tr th {\n",
       "        vertical-align: top;\n",
       "    }\n",
       "\n",
       "    .dataframe thead th {\n",
       "        text-align: right;\n",
       "    }\n",
       "</style>\n",
       "<table border=\"1\" class=\"dataframe\">\n",
       "  <thead>\n",
       "    <tr style=\"text-align: right;\">\n",
       "      <th></th>\n",
       "      <th>customerID</th>\n",
       "      <th>InternetService</th>\n",
       "      <th>OnlineSecurity</th>\n",
       "      <th>OnlineBackup</th>\n",
       "      <th>DeviceProtection</th>\n",
       "      <th>TechSupport</th>\n",
       "      <th>StreamingTV</th>\n",
       "      <th>StreamingMovies</th>\n",
       "    </tr>\n",
       "  </thead>\n",
       "  <tbody>\n",
       "    <tr>\n",
       "      <th>0</th>\n",
       "      <td>7590-VHVEG</td>\n",
       "      <td>DSL</td>\n",
       "      <td>No</td>\n",
       "      <td>Yes</td>\n",
       "      <td>No</td>\n",
       "      <td>No</td>\n",
       "      <td>No</td>\n",
       "      <td>No</td>\n",
       "    </tr>\n",
       "    <tr>\n",
       "      <th>1</th>\n",
       "      <td>5575-GNVDE</td>\n",
       "      <td>DSL</td>\n",
       "      <td>Yes</td>\n",
       "      <td>No</td>\n",
       "      <td>Yes</td>\n",
       "      <td>No</td>\n",
       "      <td>No</td>\n",
       "      <td>No</td>\n",
       "    </tr>\n",
       "    <tr>\n",
       "      <th>2</th>\n",
       "      <td>3668-QPYBK</td>\n",
       "      <td>DSL</td>\n",
       "      <td>Yes</td>\n",
       "      <td>Yes</td>\n",
       "      <td>No</td>\n",
       "      <td>No</td>\n",
       "      <td>No</td>\n",
       "      <td>No</td>\n",
       "    </tr>\n",
       "    <tr>\n",
       "      <th>3</th>\n",
       "      <td>7795-CFOCW</td>\n",
       "      <td>DSL</td>\n",
       "      <td>Yes</td>\n",
       "      <td>No</td>\n",
       "      <td>Yes</td>\n",
       "      <td>Yes</td>\n",
       "      <td>No</td>\n",
       "      <td>No</td>\n",
       "    </tr>\n",
       "    <tr>\n",
       "      <th>4</th>\n",
       "      <td>9237-HQITU</td>\n",
       "      <td>Fiber optic</td>\n",
       "      <td>No</td>\n",
       "      <td>No</td>\n",
       "      <td>No</td>\n",
       "      <td>No</td>\n",
       "      <td>No</td>\n",
       "      <td>No</td>\n",
       "    </tr>\n",
       "    <tr>\n",
       "      <th>5</th>\n",
       "      <td>9305-CDSKC</td>\n",
       "      <td>Fiber optic</td>\n",
       "      <td>No</td>\n",
       "      <td>No</td>\n",
       "      <td>Yes</td>\n",
       "      <td>No</td>\n",
       "      <td>Yes</td>\n",
       "      <td>Yes</td>\n",
       "    </tr>\n",
       "    <tr>\n",
       "      <th>6</th>\n",
       "      <td>1452-KIOVK</td>\n",
       "      <td>Fiber optic</td>\n",
       "      <td>No</td>\n",
       "      <td>Yes</td>\n",
       "      <td>No</td>\n",
       "      <td>No</td>\n",
       "      <td>Yes</td>\n",
       "      <td>No</td>\n",
       "    </tr>\n",
       "    <tr>\n",
       "      <th>7</th>\n",
       "      <td>6713-OKOMC</td>\n",
       "      <td>DSL</td>\n",
       "      <td>Yes</td>\n",
       "      <td>No</td>\n",
       "      <td>No</td>\n",
       "      <td>No</td>\n",
       "      <td>No</td>\n",
       "      <td>No</td>\n",
       "    </tr>\n",
       "    <tr>\n",
       "      <th>8</th>\n",
       "      <td>7892-POOKP</td>\n",
       "      <td>Fiber optic</td>\n",
       "      <td>No</td>\n",
       "      <td>No</td>\n",
       "      <td>Yes</td>\n",
       "      <td>Yes</td>\n",
       "      <td>Yes</td>\n",
       "      <td>Yes</td>\n",
       "    </tr>\n",
       "    <tr>\n",
       "      <th>9</th>\n",
       "      <td>6388-TABGU</td>\n",
       "      <td>DSL</td>\n",
       "      <td>Yes</td>\n",
       "      <td>Yes</td>\n",
       "      <td>No</td>\n",
       "      <td>No</td>\n",
       "      <td>No</td>\n",
       "      <td>No</td>\n",
       "    </tr>\n",
       "  </tbody>\n",
       "</table>\n",
       "</div>"
      ],
      "text/plain": [
       "   customerID InternetService OnlineSecurity OnlineBackup DeviceProtection  \\\n",
       "0  7590-VHVEG             DSL             No          Yes               No   \n",
       "1  5575-GNVDE             DSL            Yes           No              Yes   \n",
       "2  3668-QPYBK             DSL            Yes          Yes               No   \n",
       "3  7795-CFOCW             DSL            Yes           No              Yes   \n",
       "4  9237-HQITU     Fiber optic             No           No               No   \n",
       "5  9305-CDSKC     Fiber optic             No           No              Yes   \n",
       "6  1452-KIOVK     Fiber optic             No          Yes               No   \n",
       "7  6713-OKOMC             DSL            Yes           No               No   \n",
       "8  7892-POOKP     Fiber optic             No           No              Yes   \n",
       "9  6388-TABGU             DSL            Yes          Yes               No   \n",
       "\n",
       "  TechSupport StreamingTV StreamingMovies  \n",
       "0          No          No              No  \n",
       "1          No          No              No  \n",
       "2          No          No              No  \n",
       "3         Yes          No              No  \n",
       "4          No          No              No  \n",
       "5          No         Yes             Yes  \n",
       "6          No         Yes              No  \n",
       "7          No          No              No  \n",
       "8         Yes         Yes             Yes  \n",
       "9          No          No              No  "
      ]
     },
     "execution_count": 16,
     "metadata": {},
     "output_type": "execute_result"
    }
   ],
   "source": [
    "print(internet.info())\n",
    "internet.head(10)"
   ]
  },
  {
   "cell_type": "markdown",
   "metadata": {},
   "source": [
    "Таблица содержит 5517 записей и 8 столбцов.  \n",
    "По столбцам содержится следующая информация:  \n",
    "- customerID - код клиента  \n",
    "- InternetService - информация о том, какой тип подключения к интернету используется клиентом\n",
    "- OnlineSecurity - информация о том, предоставляется ли клиенту услуга блокировки небезопасных сайтов\n",
    "- OnlineBackup - информация о том, предоставляется ли клиенту услуга облачного хранения файлов\n",
    "- DeviceProtection - информация о том, предоставляется ли клиенту услуга антивируса\n",
    "- TechSupport - информация о том, предоставляется ли клиенту услуга выделенной линии технической поддержки\n",
    "- StreamingTV - информация о том, предоставляется ли клиенту услуга стримингового телевидения\n",
    "- StreamingMovies - информация о том, предоставляется ли клиенту услуга каталога фильмов"
   ]
  },
  {
   "cell_type": "markdown",
   "metadata": {},
   "source": [
    "Проверим таблицу на наличие дубликатов:"
   ]
  },
  {
   "cell_type": "code",
   "execution_count": 17,
   "metadata": {},
   "outputs": [
    {
     "data": {
      "text/plain": [
       "0"
      ]
     },
     "execution_count": 17,
     "metadata": {},
     "output_type": "execute_result"
    }
   ],
   "source": [
    "internet.duplicated().sum()"
   ]
  },
  {
   "cell_type": "markdown",
   "metadata": {},
   "source": [
    "Дубликатов нет. Проверим таблицу на наличие пропусков:"
   ]
  },
  {
   "cell_type": "code",
   "execution_count": 18,
   "metadata": {},
   "outputs": [
    {
     "data": {
      "text/plain": [
       "customerID          0\n",
       "InternetService     0\n",
       "OnlineSecurity      0\n",
       "OnlineBackup        0\n",
       "DeviceProtection    0\n",
       "TechSupport         0\n",
       "StreamingTV         0\n",
       "StreamingMovies     0\n",
       "dtype: int64"
      ]
     },
     "execution_count": 18,
     "metadata": {},
     "output_type": "execute_result"
    }
   ],
   "source": [
    "internet.isna().sum()"
   ]
  },
  {
   "cell_type": "markdown",
   "metadata": {},
   "source": [
    "Создадим новый признак - использование услуги интернет:"
   ]
  },
  {
   "cell_type": "code",
   "execution_count": 19,
   "metadata": {},
   "outputs": [],
   "source": [
    "internet['internet'] = 'Yes'"
   ]
  },
  {
   "cell_type": "markdown",
   "metadata": {},
   "source": [
    "Объединим полученную таблицу с общей таблицей для создания модели:"
   ]
  },
  {
   "cell_type": "code",
   "execution_count": 20,
   "metadata": {},
   "outputs": [],
   "source": [
    "data = data.merge(internet, how='left', on='customerID')"
   ]
  },
  {
   "cell_type": "code",
   "execution_count": 21,
   "metadata": {},
   "outputs": [
    {
     "data": {
      "text/plain": [
       "customerID             0\n",
       "BeginDate              0\n",
       "EndDate                0\n",
       "Type                   0\n",
       "PaperlessBilling       0\n",
       "PaymentMethod          0\n",
       "MonthlyCharges         0\n",
       "TotalCharges           0\n",
       "Left                   0\n",
       "Duration               0\n",
       "gender                 0\n",
       "SeniorCitizen          0\n",
       "Partner                0\n",
       "Dependents             0\n",
       "InternetService     1520\n",
       "OnlineSecurity      1520\n",
       "OnlineBackup        1520\n",
       "DeviceProtection    1520\n",
       "TechSupport         1520\n",
       "StreamingTV         1520\n",
       "StreamingMovies     1520\n",
       "internet            1520\n",
       "dtype: int64"
      ]
     },
     "execution_count": 21,
     "metadata": {},
     "output_type": "execute_result"
    }
   ],
   "source": [
    "data.isna().sum()"
   ]
  },
  {
   "cell_type": "markdown",
   "metadata": {},
   "source": [
    "В столбцах образовались пропуски в строках пользователей, которые не пользуются услугами интернета. Заполним пропуски:"
   ]
  },
  {
   "cell_type": "code",
   "execution_count": 22,
   "metadata": {},
   "outputs": [],
   "source": [
    "data = data.fillna('No')"
   ]
  },
  {
   "cell_type": "markdown",
   "metadata": {},
   "source": [
    "**Ознакомимся с таблицей, содержащей информацию об услугах телефонии, предоставляемых клиенту:**"
   ]
  },
  {
   "cell_type": "code",
   "execution_count": 23,
   "metadata": {
    "scrolled": false
   },
   "outputs": [
    {
     "name": "stdout",
     "output_type": "stream",
     "text": [
      "<class 'pandas.core.frame.DataFrame'>\n",
      "RangeIndex: 6361 entries, 0 to 6360\n",
      "Data columns (total 2 columns):\n",
      " #   Column         Non-Null Count  Dtype \n",
      "---  ------         --------------  ----- \n",
      " 0   customerID     6361 non-null   object\n",
      " 1   MultipleLines  6361 non-null   object\n",
      "dtypes: object(2)\n",
      "memory usage: 99.5+ KB\n",
      "None\n"
     ]
    },
    {
     "data": {
      "text/html": [
       "<div>\n",
       "<style scoped>\n",
       "    .dataframe tbody tr th:only-of-type {\n",
       "        vertical-align: middle;\n",
       "    }\n",
       "\n",
       "    .dataframe tbody tr th {\n",
       "        vertical-align: top;\n",
       "    }\n",
       "\n",
       "    .dataframe thead th {\n",
       "        text-align: right;\n",
       "    }\n",
       "</style>\n",
       "<table border=\"1\" class=\"dataframe\">\n",
       "  <thead>\n",
       "    <tr style=\"text-align: right;\">\n",
       "      <th></th>\n",
       "      <th>customerID</th>\n",
       "      <th>MultipleLines</th>\n",
       "    </tr>\n",
       "  </thead>\n",
       "  <tbody>\n",
       "    <tr>\n",
       "      <th>0</th>\n",
       "      <td>5575-GNVDE</td>\n",
       "      <td>No</td>\n",
       "    </tr>\n",
       "    <tr>\n",
       "      <th>1</th>\n",
       "      <td>3668-QPYBK</td>\n",
       "      <td>No</td>\n",
       "    </tr>\n",
       "    <tr>\n",
       "      <th>2</th>\n",
       "      <td>9237-HQITU</td>\n",
       "      <td>No</td>\n",
       "    </tr>\n",
       "    <tr>\n",
       "      <th>3</th>\n",
       "      <td>9305-CDSKC</td>\n",
       "      <td>Yes</td>\n",
       "    </tr>\n",
       "    <tr>\n",
       "      <th>4</th>\n",
       "      <td>1452-KIOVK</td>\n",
       "      <td>Yes</td>\n",
       "    </tr>\n",
       "    <tr>\n",
       "      <th>5</th>\n",
       "      <td>7892-POOKP</td>\n",
       "      <td>Yes</td>\n",
       "    </tr>\n",
       "    <tr>\n",
       "      <th>6</th>\n",
       "      <td>6388-TABGU</td>\n",
       "      <td>No</td>\n",
       "    </tr>\n",
       "    <tr>\n",
       "      <th>7</th>\n",
       "      <td>9763-GRSKD</td>\n",
       "      <td>No</td>\n",
       "    </tr>\n",
       "    <tr>\n",
       "      <th>8</th>\n",
       "      <td>7469-LKBCI</td>\n",
       "      <td>No</td>\n",
       "    </tr>\n",
       "    <tr>\n",
       "      <th>9</th>\n",
       "      <td>8091-TTVAX</td>\n",
       "      <td>Yes</td>\n",
       "    </tr>\n",
       "  </tbody>\n",
       "</table>\n",
       "</div>"
      ],
      "text/plain": [
       "   customerID MultipleLines\n",
       "0  5575-GNVDE            No\n",
       "1  3668-QPYBK            No\n",
       "2  9237-HQITU            No\n",
       "3  9305-CDSKC           Yes\n",
       "4  1452-KIOVK           Yes\n",
       "5  7892-POOKP           Yes\n",
       "6  6388-TABGU            No\n",
       "7  9763-GRSKD            No\n",
       "8  7469-LKBCI            No\n",
       "9  8091-TTVAX           Yes"
      ]
     },
     "execution_count": 23,
     "metadata": {},
     "output_type": "execute_result"
    }
   ],
   "source": [
    "print(phone.info())\n",
    "phone.head(10)"
   ]
  },
  {
   "cell_type": "markdown",
   "metadata": {},
   "source": [
    "Таблица содержит 6361 запись и 2 столбца.  \n",
    "По столбцам содержится следующая информация:  \n",
    "- customerID - код клиента  \n",
    "- MultipleLines - информация о том, предоставляется ли клиенту услуга подключения телефонного аппарата к нескольким линиям одновременно"
   ]
  },
  {
   "cell_type": "markdown",
   "metadata": {},
   "source": [
    "Проверим таблицу на наличие дубликатов:"
   ]
  },
  {
   "cell_type": "code",
   "execution_count": 24,
   "metadata": {},
   "outputs": [
    {
     "data": {
      "text/plain": [
       "0"
      ]
     },
     "execution_count": 24,
     "metadata": {},
     "output_type": "execute_result"
    }
   ],
   "source": [
    "phone.duplicated().sum()"
   ]
  },
  {
   "cell_type": "markdown",
   "metadata": {},
   "source": [
    "Дубликатов нет. Проверим таблицу на наличие пропусков:"
   ]
  },
  {
   "cell_type": "code",
   "execution_count": 25,
   "metadata": {},
   "outputs": [
    {
     "data": {
      "text/plain": [
       "customerID       0\n",
       "MultipleLines    0\n",
       "dtype: int64"
      ]
     },
     "execution_count": 25,
     "metadata": {},
     "output_type": "execute_result"
    }
   ],
   "source": [
    "phone.isna().sum()"
   ]
  },
  {
   "cell_type": "markdown",
   "metadata": {},
   "source": [
    "Добавим новый признак - использование услуг телефонии:"
   ]
  },
  {
   "cell_type": "code",
   "execution_count": 26,
   "metadata": {},
   "outputs": [],
   "source": [
    "phone['phone'] = 'Yes'"
   ]
  },
  {
   "cell_type": "markdown",
   "metadata": {},
   "source": [
    "Объединим полученную таблицу с общей таблицей для создания модели:"
   ]
  },
  {
   "cell_type": "code",
   "execution_count": 27,
   "metadata": {},
   "outputs": [],
   "source": [
    "data = data.merge(phone, how='left', on='customerID')"
   ]
  },
  {
   "cell_type": "code",
   "execution_count": 28,
   "metadata": {},
   "outputs": [
    {
     "data": {
      "text/plain": [
       "customerID            0\n",
       "BeginDate             0\n",
       "EndDate               0\n",
       "Type                  0\n",
       "PaperlessBilling      0\n",
       "PaymentMethod         0\n",
       "MonthlyCharges        0\n",
       "TotalCharges          0\n",
       "Left                  0\n",
       "Duration              0\n",
       "gender                0\n",
       "SeniorCitizen         0\n",
       "Partner               0\n",
       "Dependents            0\n",
       "InternetService       0\n",
       "OnlineSecurity        0\n",
       "OnlineBackup          0\n",
       "DeviceProtection      0\n",
       "TechSupport           0\n",
       "StreamingTV           0\n",
       "StreamingMovies       0\n",
       "internet              0\n",
       "MultipleLines       680\n",
       "phone               680\n",
       "dtype: int64"
      ]
     },
     "execution_count": 28,
     "metadata": {},
     "output_type": "execute_result"
    }
   ],
   "source": [
    "data.isna().sum()"
   ]
  },
  {
   "cell_type": "markdown",
   "metadata": {},
   "source": [
    "В таблице образовались пропуски в строках клиентов, которые не пользуются услугами телефонии. Заполним пропуски:"
   ]
  },
  {
   "cell_type": "code",
   "execution_count": 29,
   "metadata": {},
   "outputs": [],
   "source": [
    "data = data.fillna('No')"
   ]
  },
  {
   "cell_type": "markdown",
   "metadata": {},
   "source": [
    "Составлена сводная таблица для построения модели."
   ]
  },
  {
   "cell_type": "code",
   "execution_count": 30,
   "metadata": {},
   "outputs": [
    {
     "name": "stdout",
     "output_type": "stream",
     "text": [
      "<class 'pandas.core.frame.DataFrame'>\n",
      "Int64Index: 7032 entries, 0 to 7031\n",
      "Data columns (total 24 columns):\n",
      " #   Column            Non-Null Count  Dtype         \n",
      "---  ------            --------------  -----         \n",
      " 0   customerID        7032 non-null   object        \n",
      " 1   BeginDate         7032 non-null   datetime64[ns]\n",
      " 2   EndDate           7032 non-null   datetime64[ns]\n",
      " 3   Type              7032 non-null   object        \n",
      " 4   PaperlessBilling  7032 non-null   object        \n",
      " 5   PaymentMethod     7032 non-null   object        \n",
      " 6   MonthlyCharges    7032 non-null   float64       \n",
      " 7   TotalCharges      7032 non-null   float64       \n",
      " 8   Left              7032 non-null   int64         \n",
      " 9   Duration          7032 non-null   int64         \n",
      " 10  gender            7032 non-null   object        \n",
      " 11  SeniorCitizen     7032 non-null   int64         \n",
      " 12  Partner           7032 non-null   object        \n",
      " 13  Dependents        7032 non-null   object        \n",
      " 14  InternetService   7032 non-null   object        \n",
      " 15  OnlineSecurity    7032 non-null   object        \n",
      " 16  OnlineBackup      7032 non-null   object        \n",
      " 17  DeviceProtection  7032 non-null   object        \n",
      " 18  TechSupport       7032 non-null   object        \n",
      " 19  StreamingTV       7032 non-null   object        \n",
      " 20  StreamingMovies   7032 non-null   object        \n",
      " 21  internet          7032 non-null   object        \n",
      " 22  MultipleLines     7032 non-null   object        \n",
      " 23  phone             7032 non-null   object        \n",
      "dtypes: datetime64[ns](2), float64(2), int64(3), object(17)\n",
      "memory usage: 1.3+ MB\n"
     ]
    }
   ],
   "source": [
    "data.info()"
   ]
  },
  {
   "cell_type": "markdown",
   "metadata": {},
   "source": [
    "Проверим как разные признаки влияют на отток клиентов и какие признаки стоит оставить для обучения модели:"
   ]
  },
  {
   "cell_type": "code",
   "execution_count": 31,
   "metadata": {
    "scrolled": false
   },
   "outputs": [
    {
     "data": {
      "text/plain": [
       "<matplotlib.legend.Legend at 0x7f916e2acc10>"
      ]
     },
     "execution_count": 31,
     "metadata": {},
     "output_type": "execute_result"
    },
    {
     "data": {
      "image/png": "[encoded data removed]",
      "text/plain": [
       "<Figure size 432x288 with 1 Axes>"
      ]
     },
     "metadata": {
      "needs_background": "light"
     },
     "output_type": "display_data"
    }
   ],
   "source": [
    "fig, ax = plt.subplots()\n",
    "ax.hist(data['Type'], label='Все клиенты')\n",
    "ax.hist(data[data['Left']==1]['Type'], label='Ушедшие клиенты')\n",
    "ax.legend()"
   ]
  },
  {
   "cell_type": "markdown",
   "metadata": {},
   "source": [
    "По данному графику видно, что почти все ушедшие клиенты использовали помесячную плату.Среди клиентов, использовавших договоры сроком на 1 и 2 года практически нет ушедших. Таким образом, тип договора - важный фактор, влияющий на отток."
   ]
  },
  {
   "cell_type": "code",
   "execution_count": 32,
   "metadata": {},
   "outputs": [
    {
     "data": {
      "text/plain": [
       "<matplotlib.legend.Legend at 0x7f916e2a3a30>"
      ]
     },
     "execution_count": 32,
     "metadata": {},
     "output_type": "execute_result"
    },
    {
     "data": {
      "image/png": "[encoded data removed]",
      "text/plain": [
       "<Figure size 432x288 with 1 Axes>"
      ]
     },
     "metadata": {
      "needs_background": "light"
     },
     "output_type": "display_data"
    }
   ],
   "source": [
    "fig, ax = plt.subplots()\n",
    "ax.hist(data['PaperlessBilling'], label='Все клиенты')\n",
    "ax.hist(data[data['Left']==1]['PaperlessBilling'], label='Ушедшие клиенты')\n",
    "ax.legend()"
   ]
  },
  {
   "cell_type": "markdown",
   "metadata": {},
   "source": [
    "Доля ушедших клиентов среди клиентов, использовавших электронный чек больше, чем доля ушедших среди тех, кто использовал бумажный. Данный признак тоже важен для модели."
   ]
  },
  {
   "cell_type": "code",
   "execution_count": 33,
   "metadata": {},
   "outputs": [
    {
     "data": {
      "text/plain": [
       "<matplotlib.legend.Legend at 0x7f916e115c10>"
      ]
     },
     "execution_count": 33,
     "metadata": {},
     "output_type": "execute_result"
    },
    {
     "data": {
      "image/png": "[encoded data removed]",
      "text/plain": [
       "<Figure size 432x288 with 1 Axes>"
      ]
     },
     "metadata": {
      "needs_background": "light"
     },
     "output_type": "display_data"
    }
   ],
   "source": [
    "fig, ax = plt.subplots()\n",
    "ax.hist(data['PaymentMethod'], label='Все клиенты')\n",
    "ax.hist(data[data['Left']==1]['PaymentMethod'], label='Ушедшие клиенты')\n",
    "ax.legend()"
   ]
  },
  {
   "cell_type": "markdown",
   "metadata": {},
   "source": [
    "Доля ушедших клиентов среди разных типов оплаты тоже отличается. Оставим данный признак."
   ]
  },
  {
   "cell_type": "code",
   "execution_count": 34,
   "metadata": {},
   "outputs": [
    {
     "data": {
      "text/plain": [
       "<matplotlib.legend.Legend at 0x7f916e080a30>"
      ]
     },
     "execution_count": 34,
     "metadata": {},
     "output_type": "execute_result"
    },
    {
     "data": {
      "image/png": "[encoded data removed]",
      "text/plain": [
       "<Figure size 432x288 with 1 Axes>"
      ]
     },
     "metadata": {
      "needs_background": "light"
     },
     "output_type": "display_data"
    }
   ],
   "source": [
    "fig, ax = plt.subplots()\n",
    "ax.hist(data['MonthlyCharges'], label='Все клиенты')\n",
    "ax.hist(data[data['Left']==1]['MonthlyCharges'], label='Ушедшие клиенты')\n",
    "ax.legend()"
   ]
  },
  {
   "cell_type": "markdown",
   "metadata": {},
   "source": [
    "По данному графику видно, что доля ушедших клиентов меняется с ростом стоимости услуг в месяц.Оставим данный признак."
   ]
  },
  {
   "cell_type": "code",
   "execution_count": 35,
   "metadata": {},
   "outputs": [
    {
     "data": {
      "text/plain": [
       "<matplotlib.legend.Legend at 0x7f916e079ca0>"
      ]
     },
     "execution_count": 35,
     "metadata": {},
     "output_type": "execute_result"
    },
    {
     "data": {
      "image/png": "[encoded data removed]",
      "text/plain": [
       "<Figure size 432x288 with 1 Axes>"
      ]
     },
     "metadata": {
      "needs_background": "light"
     },
     "output_type": "display_data"
    }
   ],
   "source": [
    "fig, ax = plt.subplots()\n",
    "ax.hist(data['TotalCharges'], label='Все клиенты')\n",
    "ax.hist(data[data['Left']==1]['TotalCharges'], label='Ушедшие клиенты')\n",
    "ax.legend()"
   ]
  },
  {
   "cell_type": "markdown",
   "metadata": {},
   "source": [
    "Данный график показывает, что доля ушедших клиенток не меняется с возрастанием стоимости. Данный признак можно не использовать для обучения модели."
   ]
  },
  {
   "cell_type": "code",
   "execution_count": 36,
   "metadata": {},
   "outputs": [
    {
     "data": {
      "text/plain": [
       "<matplotlib.legend.Legend at 0x7f916df456a0>"
      ]
     },
     "execution_count": 36,
     "metadata": {},
     "output_type": "execute_result"
    },
    {
     "data": {
      "image/png": "[encoded data removed]",
      "text/plain": [
       "<Figure size 432x288 with 1 Axes>"
      ]
     },
     "metadata": {
      "needs_background": "light"
     },
     "output_type": "display_data"
    }
   ],
   "source": [
    "fig, ax = plt.subplots()\n",
    "ax.hist(data['Duration'], label='Все клиенты')\n",
    "ax.hist(data[data['Left']==1]['Duration'], label='Ушедшие клиенты')\n",
    "ax.legend()"
   ]
  },
  {
   "cell_type": "markdown",
   "metadata": {},
   "source": [
    "По данному графику видно, что доля ушедших клиентов среди клиентов, использующих услуги оператора долгое время, сильно меньше, чем доля ушедших среди тех, кто недолго пользовался услугами. Это важный признак."
   ]
  },
  {
   "cell_type": "code",
   "execution_count": 37,
   "metadata": {},
   "outputs": [
    {
     "data": {
      "text/plain": [
       "<matplotlib.legend.Legend at 0x7f916de62070>"
      ]
     },
     "execution_count": 37,
     "metadata": {},
     "output_type": "execute_result"
    },
    {
     "data": {
      "image/png": "[encoded data removed]",
      "text/plain": [
       "<Figure size 432x288 with 1 Axes>"
      ]
     },
     "metadata": {
      "needs_background": "light"
     },
     "output_type": "display_data"
    }
   ],
   "source": [
    "fig, ax = plt.subplots()\n",
    "ax.hist(data['gender'], label='Все клиенты')\n",
    "ax.hist(data[data['Left']==1]['gender'], label='Ушедшие клиенты')\n",
    "ax.legend()"
   ]
  },
  {
   "cell_type": "markdown",
   "metadata": {},
   "source": [
    "По данному графику видно, что пол клиента не влияет на отток. Данный признак можно удалить."
   ]
  },
  {
   "cell_type": "code",
   "execution_count": 38,
   "metadata": {},
   "outputs": [
    {
     "data": {
      "text/plain": [
       "<matplotlib.legend.Legend at 0x7f916de5f9d0>"
      ]
     },
     "execution_count": 38,
     "metadata": {},
     "output_type": "execute_result"
    },
    {
     "data": {
      "image/png": "[encoded data removed]",
      "text/plain": [
       "<Figure size 432x288 with 1 Axes>"
      ]
     },
     "metadata": {
      "needs_background": "light"
     },
     "output_type": "display_data"
    }
   ],
   "source": [
    "fig, ax = plt.subplots()\n",
    "ax.hist(data['SeniorCitizen'], label='Все клиенты')\n",
    "ax.hist(data[data['Left']==1]['SeniorCitizen'], label='Ушедшие клиенты')\n",
    "ax.legend()"
   ]
  },
  {
   "cell_type": "markdown",
   "metadata": {},
   "source": [
    "Доля ушедших клиентов среди клиентов, являющихся пенсионерами по возрасту,сильно больше, чем среди клиентов, не являющихся пенсионерами по возрасту. Это важный признак."
   ]
  },
  {
   "cell_type": "code",
   "execution_count": 39,
   "metadata": {},
   "outputs": [
    {
     "data": {
      "text/plain": [
       "<matplotlib.legend.Legend at 0x7f9165cf0d30>"
      ]
     },
     "execution_count": 39,
     "metadata": {},
     "output_type": "execute_result"
    },
    {
     "data": {
      "image/png": "[encoded data removed]",
      "text/plain": [
       "<Figure size 432x288 with 1 Axes>"
      ]
     },
     "metadata": {
      "needs_background": "light"
     },
     "output_type": "display_data"
    }
   ],
   "source": [
    "fig, ax = plt.subplots()\n",
    "ax.hist(data['Partner'], label='Все клиенты')\n",
    "ax.hist(data[data['Left']==1]['Partner'], label='Ушедшие клиенты')\n",
    "ax.legend()"
   ]
  },
  {
   "cell_type": "markdown",
   "metadata": {},
   "source": [
    "Доля ушедших клиентов среди женатых/замужних и холостых отличается. Оставим данный признак."
   ]
  },
  {
   "cell_type": "code",
   "execution_count": 40,
   "metadata": {},
   "outputs": [
    {
     "data": {
      "text/plain": [
       "<matplotlib.legend.Legend at 0x7f9165c75ca0>"
      ]
     },
     "execution_count": 40,
     "metadata": {},
     "output_type": "execute_result"
    },
    {
     "data": {
      "image/png": "[encoded data removed]",
      "text/plain": [
       "<Figure size 432x288 with 1 Axes>"
      ]
     },
     "metadata": {
      "needs_background": "light"
     },
     "output_type": "display_data"
    }
   ],
   "source": [
    "fig, ax = plt.subplots()\n",
    "ax.hist(data['Dependents'], label='Все клиенты')\n",
    "ax.hist(data[data['Left']==1]['Dependents'], label='Ушедшие клиенты')\n",
    "ax.legend()"
   ]
  },
  {
   "cell_type": "markdown",
   "metadata": {},
   "source": [
    "Доля ушедших клиентов среди тех, у кого на попечении имеются иждевенцы и среди тех, у кого нет, отличается. Оставим данный признак."
   ]
  },
  {
   "cell_type": "code",
   "execution_count": 41,
   "metadata": {},
   "outputs": [
    {
     "data": {
      "text/plain": [
       "<matplotlib.legend.Legend at 0x7f9165c15820>"
      ]
     },
     "execution_count": 41,
     "metadata": {},
     "output_type": "execute_result"
    },
    {
     "data": {
      "image/png": "[encoded data removed]",
      "text/plain": [
       "<Figure size 432x288 with 1 Axes>"
      ]
     },
     "metadata": {
      "needs_background": "light"
     },
     "output_type": "display_data"
    }
   ],
   "source": [
    "fig, ax = plt.subplots()\n",
    "ax.hist(data['internet'], label='Все клиенты')\n",
    "ax.hist(data[data['Left']==1]['internet'], label='Ушедшие клиенты')\n",
    "ax.legend()"
   ]
  },
  {
   "cell_type": "markdown",
   "metadata": {},
   "source": [
    "По данному признаку видно, что доля ушедших клиентов среди тех, кто пользуется услугами интернета, сильно больше, чем среди тех, кто использует только услуги телефонии. Это важный признак."
   ]
  },
  {
   "cell_type": "code",
   "execution_count": 42,
   "metadata": {},
   "outputs": [
    {
     "data": {
      "text/plain": [
       "<matplotlib.legend.Legend at 0x7f9165b1eaf0>"
      ]
     },
     "execution_count": 42,
     "metadata": {},
     "output_type": "execute_result"
    },
    {
     "data": {
      "image/png": "[encoded data removed]",
      "text/plain": [
       "<Figure size 432x288 with 1 Axes>"
      ]
     },
     "metadata": {
      "needs_background": "light"
     },
     "output_type": "display_data"
    }
   ],
   "source": [
    "fig, ax = plt.subplots()\n",
    "ax.hist(data['phone'], label='Все клиенты')\n",
    "ax.hist(data[data['Left']==1]['phone'], label='Ушедшие клиенты')\n",
    "ax.legend()"
   ]
  },
  {
   "cell_type": "markdown",
   "metadata": {},
   "source": [
    "Доля ушедших клиентов среди тех, кто использует услуги телефонии и тех, кто не использует, отличается незначительно, данный признак можно удалить."
   ]
  },
  {
   "cell_type": "markdown",
   "metadata": {},
   "source": [
    "Посмотрим детально, использование каких услуг влияет на отток:"
   ]
  },
  {
   "cell_type": "code",
   "execution_count": 43,
   "metadata": {},
   "outputs": [
    {
     "data": {
      "text/plain": [
       "<matplotlib.legend.Legend at 0x7f9165acf190>"
      ]
     },
     "execution_count": 43,
     "metadata": {},
     "output_type": "execute_result"
    },
    {
     "data": {
      "image/png": "[encoded data removed]",
      "text/plain": [
       "<Figure size 432x288 with 1 Axes>"
      ]
     },
     "metadata": {
      "needs_background": "light"
     },
     "output_type": "display_data"
    }
   ],
   "source": [
    "fig, ax = plt.subplots()\n",
    "ax.hist(data['InternetService'], label='Все клиенты')\n",
    "ax.hist(data[data['Left']==1]['InternetService'], label='Ушедшие клиенты')\n",
    "ax.legend()"
   ]
  },
  {
   "cell_type": "code",
   "execution_count": 44,
   "metadata": {},
   "outputs": [
    {
     "data": {
      "text/plain": [
       "<matplotlib.legend.Legend at 0x7f916dfb6a30>"
      ]
     },
     "execution_count": 44,
     "metadata": {},
     "output_type": "execute_result"
    },
    {
     "data": {
      "image/png": "[encoded data removed]",
      "text/plain": [
       "<Figure size 432x288 with 1 Axes>"
      ]
     },
     "metadata": {
      "needs_background": "light"
     },
     "output_type": "display_data"
    }
   ],
   "source": [
    "fig, ax = plt.subplots()\n",
    "ax.hist(data['OnlineSecurity'], label='Все клиенты')\n",
    "ax.hist(data[data['Left']==1]['OnlineSecurity'], label='Ушедшие клиенты')\n",
    "ax.legend()"
   ]
  },
  {
   "cell_type": "code",
   "execution_count": 45,
   "metadata": {},
   "outputs": [
    {
     "data": {
      "text/plain": [
       "<matplotlib.legend.Legend at 0x7f9165d62bb0>"
      ]
     },
     "execution_count": 45,
     "metadata": {},
     "output_type": "execute_result"
    },
    {
     "data": {
      "image/png": "[encoded data removed]",
      "text/plain": [
       "<Figure size 432x288 with 1 Axes>"
      ]
     },
     "metadata": {
      "needs_background": "light"
     },
     "output_type": "display_data"
    }
   ],
   "source": [
    "fig, ax = plt.subplots()\n",
    "ax.hist(data['OnlineBackup'], label='Все клиенты')\n",
    "ax.hist(data[data['Left']==1]['OnlineBackup'], label='Ушедшие клиенты')\n",
    "ax.legend()"
   ]
  },
  {
   "cell_type": "code",
   "execution_count": 46,
   "metadata": {},
   "outputs": [
    {
     "data": {
      "text/plain": [
       "<matplotlib.legend.Legend at 0x7f9165ac8be0>"
      ]
     },
     "execution_count": 46,
     "metadata": {},
     "output_type": "execute_result"
    },
    {
     "data": {
      "image/png": "[encoded data removed]",
      "text/plain": [
       "<Figure size 432x288 with 1 Axes>"
      ]
     },
     "metadata": {
      "needs_background": "light"
     },
     "output_type": "display_data"
    }
   ],
   "source": [
    "fig, ax = plt.subplots()\n",
    "ax.hist(data['DeviceProtection'], label='Все клиенты')\n",
    "ax.hist(data[data['Left']==1]['DeviceProtection'], label='Ушедшие клиенты')\n",
    "ax.legend()"
   ]
  },
  {
   "cell_type": "code",
   "execution_count": 47,
   "metadata": {},
   "outputs": [
    {
     "data": {
      "text/plain": [
       "<matplotlib.legend.Legend at 0x7f91658a89a0>"
      ]
     },
     "execution_count": 47,
     "metadata": {},
     "output_type": "execute_result"
    },
    {
     "data": {
      "image/png": "[encoded data removed]",
      "text/plain": [
       "<Figure size 432x288 with 1 Axes>"
      ]
     },
     "metadata": {
      "needs_background": "light"
     },
     "output_type": "display_data"
    }
   ],
   "source": [
    "fig, ax = plt.subplots()\n",
    "ax.hist(data['TechSupport'], label='Все клиенты')\n",
    "ax.hist(data[data['Left']==1]['TechSupport'], label='Ушедшие клиенты')\n",
    "ax.legend()"
   ]
  },
  {
   "cell_type": "code",
   "execution_count": 48,
   "metadata": {
    "scrolled": true
   },
   "outputs": [
    {
     "data": {
      "text/plain": [
       "<matplotlib.legend.Legend at 0x7f9165832eb0>"
      ]
     },
     "execution_count": 48,
     "metadata": {},
     "output_type": "execute_result"
    },
    {
     "data": {
      "image/png": "[encoded data removed]",
      "text/plain": [
       "<Figure size 432x288 with 1 Axes>"
      ]
     },
     "metadata": {
      "needs_background": "light"
     },
     "output_type": "display_data"
    }
   ],
   "source": [
    "fig, ax = plt.subplots()\n",
    "ax.hist(data['StreamingTV'], label='Все клиенты')\n",
    "ax.hist(data[data['Left']==1]['StreamingTV'], label='Ушедшие клиенты')\n",
    "ax.legend()"
   ]
  },
  {
   "cell_type": "code",
   "execution_count": 49,
   "metadata": {},
   "outputs": [
    {
     "data": {
      "text/plain": [
       "<matplotlib.legend.Legend at 0x7f91657bc970>"
      ]
     },
     "execution_count": 49,
     "metadata": {},
     "output_type": "execute_result"
    },
    {
     "data": {
      "image/png": "[encoded data removed]",
      "text/plain": [
       "<Figure size 432x288 with 1 Axes>"
      ]
     },
     "metadata": {
      "needs_background": "light"
     },
     "output_type": "display_data"
    }
   ],
   "source": [
    "fig, ax = plt.subplots()\n",
    "ax.hist(data['StreamingMovies'], label='Все клиенты')\n",
    "ax.hist(data[data['Left']==1]['StreamingMovies'], label='Ушедшие клиенты')\n",
    "ax.legend()"
   ]
  },
  {
   "cell_type": "code",
   "execution_count": 50,
   "metadata": {
    "scrolled": true
   },
   "outputs": [
    {
     "data": {
      "text/plain": [
       "<matplotlib.legend.Legend at 0x7f9165753190>"
      ]
     },
     "execution_count": 50,
     "metadata": {},
     "output_type": "execute_result"
    },
    {
     "data": {
      "image/png": "[encoded data removed]",
      "text/plain": [
       "<Figure size 432x288 with 1 Axes>"
      ]
     },
     "metadata": {
      "needs_background": "light"
     },
     "output_type": "display_data"
    }
   ],
   "source": [
    "fig, ax = plt.subplots()\n",
    "ax.hist(data['MultipleLines'], label='Все клиенты')\n",
    "ax.hist(data[data['Left']==1]['MultipleLines'], label='Ушедшие клиенты')\n",
    "ax.legend()"
   ]
  },
  {
   "cell_type": "markdown",
   "metadata": {},
   "source": [
    "По данным графикам можно выделить услуги, использование которых влияет на отток: InternetService, OnlineSecurity, StreamingTV, StreamingMovies, MultipleLines. Остальные признаки можно удалить."
   ]
  },
  {
   "cell_type": "markdown",
   "metadata": {},
   "source": [
    "Удалим из таблицы для обучения модели признаки, не влияющие на отток клиентов:"
   ]
  },
  {
   "cell_type": "code",
   "execution_count": 51,
   "metadata": {},
   "outputs": [],
   "source": [
    "data = data.drop(['customerID', 'BeginDate', 'EndDate', 'gender', 'TotalCharges', 'phone', 'OnlineBackup', 'DeviceProtection', \n",
    "                 'TechSupport'], axis=1)"
   ]
  },
  {
   "cell_type": "markdown",
   "metadata": {},
   "source": [
    "Таблица для создания модели готова. "
   ]
  },
  {
   "cell_type": "code",
   "execution_count": 52,
   "metadata": {},
   "outputs": [
    {
     "name": "stdout",
     "output_type": "stream",
     "text": [
      "<class 'pandas.core.frame.DataFrame'>\n",
      "Int64Index: 7032 entries, 0 to 7031\n",
      "Data columns (total 15 columns):\n",
      " #   Column            Non-Null Count  Dtype  \n",
      "---  ------            --------------  -----  \n",
      " 0   Type              7032 non-null   object \n",
      " 1   PaperlessBilling  7032 non-null   object \n",
      " 2   PaymentMethod     7032 non-null   object \n",
      " 3   MonthlyCharges    7032 non-null   float64\n",
      " 4   Left              7032 non-null   int64  \n",
      " 5   Duration          7032 non-null   int64  \n",
      " 6   SeniorCitizen     7032 non-null   int64  \n",
      " 7   Partner           7032 non-null   object \n",
      " 8   Dependents        7032 non-null   object \n",
      " 9   InternetService   7032 non-null   object \n",
      " 10  OnlineSecurity    7032 non-null   object \n",
      " 11  StreamingTV       7032 non-null   object \n",
      " 12  StreamingMovies   7032 non-null   object \n",
      " 13  internet          7032 non-null   object \n",
      " 14  MultipleLines     7032 non-null   object \n",
      "dtypes: float64(1), int64(3), object(11)\n",
      "memory usage: 879.0+ KB\n"
     ]
    }
   ],
   "source": [
    "data.info()"
   ]
  },
  {
   "cell_type": "markdown",
   "metadata": {},
   "source": [
    "Выделим признаки и целевой признак в данных:"
   ]
  },
  {
   "cell_type": "code",
   "execution_count": 53,
   "metadata": {},
   "outputs": [],
   "source": [
    "features = data.drop('Left', axis=1)\n",
    "target = data['Left']"
   ]
  },
  {
   "cell_type": "markdown",
   "metadata": {},
   "source": [
    "Разделим данные на обучающую и тестовую выборки:"
   ]
  },
  {
   "cell_type": "code",
   "execution_count": 54,
   "metadata": {},
   "outputs": [],
   "source": [
    "features_train, features_test, target_train, target_test = train_test_split(features, target,\n",
    "                                                        test_size=0.25, random_state=281122, \n",
    "                                                                           stratify=target)"
   ]
  },
  {
   "cell_type": "code",
   "execution_count": 55,
   "metadata": {},
   "outputs": [
    {
     "name": "stdout",
     "output_type": "stream",
     "text": [
      "<class 'pandas.core.frame.DataFrame'>\n",
      "Int64Index: 5274 entries, 6467 to 4343\n",
      "Data columns (total 14 columns):\n",
      " #   Column            Non-Null Count  Dtype  \n",
      "---  ------            --------------  -----  \n",
      " 0   Type              5274 non-null   object \n",
      " 1   PaperlessBilling  5274 non-null   object \n",
      " 2   PaymentMethod     5274 non-null   object \n",
      " 3   MonthlyCharges    5274 non-null   float64\n",
      " 4   Duration          5274 non-null   int64  \n",
      " 5   SeniorCitizen     5274 non-null   int64  \n",
      " 6   Partner           5274 non-null   object \n",
      " 7   Dependents        5274 non-null   object \n",
      " 8   InternetService   5274 non-null   object \n",
      " 9   OnlineSecurity    5274 non-null   object \n",
      " 10  StreamingTV       5274 non-null   object \n",
      " 11  StreamingMovies   5274 non-null   object \n",
      " 12  internet          5274 non-null   object \n",
      " 13  MultipleLines     5274 non-null   object \n",
      "dtypes: float64(1), int64(2), object(11)\n",
      "memory usage: 618.0+ KB\n"
     ]
    }
   ],
   "source": [
    "features_train.info()"
   ]
  },
  {
   "cell_type": "code",
   "execution_count": 56,
   "metadata": {},
   "outputs": [
    {
     "name": "stdout",
     "output_type": "stream",
     "text": [
      "<class 'pandas.core.frame.DataFrame'>\n",
      "Int64Index: 5274 entries, 6467 to 4343\n",
      "Data columns (total 14 columns):\n",
      " #   Column            Non-Null Count  Dtype  \n",
      "---  ------            --------------  -----  \n",
      " 0   Type              5274 non-null   object \n",
      " 1   PaperlessBilling  5274 non-null   object \n",
      " 2   PaymentMethod     5274 non-null   object \n",
      " 3   MonthlyCharges    5274 non-null   float64\n",
      " 4   Duration          5274 non-null   int64  \n",
      " 5   SeniorCitizen     5274 non-null   int64  \n",
      " 6   Partner           5274 non-null   object \n",
      " 7   Dependents        5274 non-null   object \n",
      " 8   InternetService   5274 non-null   object \n",
      " 9   OnlineSecurity    5274 non-null   object \n",
      " 10  StreamingTV       5274 non-null   object \n",
      " 11  StreamingMovies   5274 non-null   object \n",
      " 12  internet          5274 non-null   object \n",
      " 13  MultipleLines     5274 non-null   object \n",
      "dtypes: float64(1), int64(2), object(11)\n",
      "memory usage: 618.0+ KB\n"
     ]
    }
   ],
   "source": [
    "features_train.info()"
   ]
  },
  {
   "cell_type": "markdown",
   "metadata": {},
   "source": [
    "Закодируем категориальные признаки:"
   ]
  },
  {
   "cell_type": "code",
   "execution_count": 57,
   "metadata": {
    "scrolled": false
   },
   "outputs": [],
   "source": [
    "cat_columns = ['Type', 'PaperlessBilling', 'PaymentMethod', 'Partner', 'Dependents', 'internet']\n",
    "enc = OneHotEncoder(handle_unknown='ignore')\n",
    "\n",
    "features_train_ohe = features_train.copy()\n",
    "features_test_ohe = features_test.copy()\n",
    "\n",
    "features_train_ohe = enc.fit_transform(features_train[cat_columns])\n",
    "features_test_ohe = enc.transform(features_test[cat_columns])"
   ]
  },
  {
   "cell_type": "markdown",
   "metadata": {},
   "source": [
    "### Построение модели"
   ]
  },
  {
   "cell_type": "markdown",
   "metadata": {},
   "source": [
    "Проверим данные на дисбаланс классов:"
   ]
  },
  {
   "cell_type": "code",
   "execution_count": 58,
   "metadata": {},
   "outputs": [
    {
     "name": "stdout",
     "output_type": "stream",
     "text": [
      "1869\n",
      "5163\n"
     ]
    },
    {
     "data": {
      "text/plain": [
       "2.7624398073836276"
      ]
     },
     "execution_count": 58,
     "metadata": {},
     "output_type": "execute_result"
    }
   ],
   "source": [
    "print(data[data['Left'] == 1]['Left'].count())\n",
    "print(data[data['Left'] == 0]['Left'].count())\n",
    "\n",
    "data[data['Left'] == 0]['Left'].count() / data[data['Left'] == 1]['Left'].count()"
   ]
  },
  {
   "cell_type": "markdown",
   "metadata": {},
   "source": [
    "В имеющихся данных сильный дисбаланс классов. Клиентов, которые ушли, почти в 3 раза меньше, чем клиентов, которые остались. Этот дисбаланс необходимо будет учеть при создании моделей."
   ]
  },
  {
   "cell_type": "code",
   "execution_count": 59,
   "metadata": {},
   "outputs": [
    {
     "name": "stdout",
     "output_type": "stream",
     "text": [
      "<class 'pandas.core.frame.DataFrame'>\n",
      "Int64Index: 5274 entries, 6467 to 4343\n",
      "Data columns (total 14 columns):\n",
      " #   Column            Non-Null Count  Dtype  \n",
      "---  ------            --------------  -----  \n",
      " 0   Type              5274 non-null   object \n",
      " 1   PaperlessBilling  5274 non-null   object \n",
      " 2   PaymentMethod     5274 non-null   object \n",
      " 3   MonthlyCharges    5274 non-null   float64\n",
      " 4   Duration          5274 non-null   int64  \n",
      " 5   SeniorCitizen     5274 non-null   int64  \n",
      " 6   Partner           5274 non-null   object \n",
      " 7   Dependents        5274 non-null   object \n",
      " 8   InternetService   5274 non-null   object \n",
      " 9   OnlineSecurity    5274 non-null   object \n",
      " 10  StreamingTV       5274 non-null   object \n",
      " 11  StreamingMovies   5274 non-null   object \n",
      " 12  internet          5274 non-null   object \n",
      " 13  MultipleLines     5274 non-null   object \n",
      "dtypes: float64(1), int64(2), object(11)\n",
      "memory usage: 618.0+ KB\n"
     ]
    }
   ],
   "source": [
    "features_train.info()"
   ]
  },
  {
   "cell_type": "markdown",
   "metadata": {},
   "source": [
    "**Построим модель логистической регрессии и проверим ее качество кросс-валидацией:**"
   ]
  },
  {
   "cell_type": "code",
   "execution_count": 60,
   "metadata": {},
   "outputs": [],
   "source": [
    "random = 281122"
   ]
  },
  {
   "cell_type": "code",
   "execution_count": 61,
   "metadata": {},
   "outputs": [
    {
     "name": "stdout",
     "output_type": "stream",
     "text": [
      "auc_roc модели логистической регрессии: 0.804538298568033\n",
      "accuracy модели логистической регрессии: 0.7645062366790472\n",
      "CPU times: user 271 ms, sys: 7.56 ms, total: 278 ms\n",
      "Wall time: 277 ms\n"
     ]
    }
   ],
   "source": [
    "%%time\n",
    "log_reg = LogisticRegression(random_state=random)\n",
    "roc_auc_log_reg = cross_val_score(log_reg, features_train_ohe, target_train, \n",
    "                                  scoring='roc_auc', cv=5).mean()\n",
    "acc_log_reg = cross_val_score(log_reg, features_train_ohe, target_train, \n",
    "                              scoring='accuracy', cv=5).mean()\n",
    "print('auc_roc модели логистической регрессии:', roc_auc_log_reg)\n",
    "print('accuracy модели логистической регрессии:', acc_log_reg)"
   ]
  },
  {
   "cell_type": "markdown",
   "metadata": {},
   "source": [
    "Модель логистической регрессии показала на кросс-валидации значение auc_roc = 0.8, accuracy = 0.76."
   ]
  },
  {
   "cell_type": "markdown",
   "metadata": {},
   "source": [
    "**Построим модель древа решений и подберем наилучшие параметры, проверим качество модели, измерим время обучения модели:**"
   ]
  },
  {
   "cell_type": "code",
   "execution_count": 62,
   "metadata": {},
   "outputs": [
    {
     "name": "stdout",
     "output_type": "stream",
     "text": [
      "Лучшая глубина древа: DecisionTreeClassifier(max_depth=6, random_state=281122)\n",
      "auc_roc модели: 0.79561921350741\n",
      "CPU times: user 989 ms, sys: 12.7 ms, total: 1 s\n",
      "Wall time: 1.01 s\n"
     ]
    }
   ],
   "source": [
    "%%time\n",
    "DTC = DecisionTreeClassifier(random_state=random)\n",
    "GSCV = GridSearchCV(DTC, {'max_depth': list(range(1, 20))}, cv=5, scoring='roc_auc')\n",
    "GSCV.fit(features_train_ohe, target_train)\n",
    "roc_auc_DTC = GSCV.best_score_\n",
    "\n",
    "print('Лучшая глубина древа:', GSCV.best_estimator_)\n",
    "print('auc_roc модели:', roc_auc_DTC)"
   ]
  },
  {
   "cell_type": "markdown",
   "metadata": {},
   "source": [
    "Лучшая глубина древа - 6. Модель древа решений с такими параметрами показала результат auc_roc = 0.8."
   ]
  },
  {
   "cell_type": "markdown",
   "metadata": {},
   "source": [
    "**Построим модель случайного леса и подберем наилучшие параметры:**"
   ]
  },
  {
   "cell_type": "code",
   "execution_count": 63,
   "metadata": {},
   "outputs": [],
   "source": [
    "# %%time\n",
    "# RFC = RandomForestClassifier(random_state=random)\n",
    "# GSCV = GridSearchCV(RFC, {'max_depth': list(range(1, 20)), 'n_estimators': list(range(1, 20))}, cv=5, \n",
    "#                           scoring='roc_auc')\n",
    "# GSCV.fit(features_train_ohe, target_train)\n",
    "# roc_auc_RFC = GSCV.best_score_\n",
    "# print('Лучшие параметры случайного леса:', GSCV.best_params_)\n",
    "# print('auc_roc модели:', roc_auc_RFC)"
   ]
  },
  {
   "cell_type": "markdown",
   "metadata": {},
   "source": [
    "Лучшая глубина древа для случайного леса - 5, количество деревьев - 16. Модель случайного леса с такими параметрами показала результат auc_roc = 0.80."
   ]
  },
  {
   "cell_type": "markdown",
   "metadata": {},
   "source": [
    "**Построим модель градиентного бустинга:**"
   ]
  },
  {
   "cell_type": "code",
   "execution_count": 64,
   "metadata": {},
   "outputs": [],
   "source": [
    "# %%time\n",
    "# GBM = lgb.LGBMClassifier(random_state=random)\n",
    "# parameters = {\n",
    "#     'learning_rate': [0.01, 0.1, 1],\n",
    "#     'n_estimators': [20, 40]\n",
    "# }\n",
    "# GSCV = GridSearchCV(GBM, parameters, scoring='roc_auc')\n",
    "# GSCV.fit(features_train_ohe, target_train)\n",
    "# roc_auc_GBM = GSCV.best_score_\n",
    "# print('Лучшие параметры градиентного бустинга:', GSCV.best_params_)\n",
    "# print('auc_roc:', roc_auc_GBM)"
   ]
  },
  {
   "cell_type": "markdown",
   "metadata": {},
   "source": [
    "Лучшие параметры градиентного бустинга: learning_rate = 0.1, n_estimators = 20.\n",
    "Модель градиентного бустинга с такими параметрами показала результат auc_roc = 0.8."
   ]
  },
  {
   "cell_type": "markdown",
   "metadata": {},
   "source": [
    "**Построим модель catboost, подберем лучшие гиперпараметры:**"
   ]
  },
  {
   "cell_type": "code",
   "execution_count": 65,
   "metadata": {},
   "outputs": [
    {
     "data": {
      "text/plain": [
       "[0, 1, 2, 6, 7, 8, 9, 10, 11, 12, 13]"
      ]
     },
     "execution_count": 65,
     "metadata": {},
     "output_type": "execute_result"
    }
   ],
   "source": [
    "cat_features = list([0, 1, 2, 6, 7, 8, 9, 10, 11, 12, 13])\n",
    "cat_features"
   ]
  },
  {
   "cell_type": "code",
   "execution_count": 66,
   "metadata": {},
   "outputs": [],
   "source": [
    "# %%time\n",
    "# catboost = CatBoostClassifier(loss_function='Logloss', random_seed=random, silent=True)\n",
    "\n",
    "# catboost_params = {\n",
    "#  'depth': [x for x in range(1,5)],\n",
    "#  'iterations': [x for x in range(100,1100, 100)],\n",
    "#  'learning_rate': [0.5, 0.6, 0.7],\n",
    "#  'l2_leaf_reg':[x for x in range(1,7)],\n",
    "#   'cat_features':[cat_features]\n",
    "#  }\n",
    "\n",
    "\n",
    "\n",
    "# grid_search_catboost = GridSearchCV(catboost,\n",
    "#                                    catboost_params, \n",
    "#                                    cv=5,\n",
    "#                                    n_jobs=-1,\n",
    "#                                    scoring='roc_auc')\n",
    "\n",
    "\n",
    "# grid_search_catboost.fit(features_train, target_train)\n",
    "# grid_search_catboost.best_score_\n",
    "# grid_search_catboost.best_params_"
   ]
  },
  {
   "cell_type": "markdown",
   "metadata": {},
   "source": [
    "Вывод кода:  \n",
    "CPU times: user 1h 39min 29s, sys: 5min 20s, total: 1h 44min 49s  \n",
    "Wall time: 2h 17min 57s  \n",
    "{'cat_features': [0, 1, 2, 6, 7, 8, 9, 10, 11, 12, 13],  \n",
    " 'depth': 2,  \n",
    " 'iterations': 500,  \n",
    " 'l2_leaf_reg': 1,  \n",
    " 'learning_rate': 0.6}  \n",
    " \n"
   ]
  },
  {
   "cell_type": "markdown",
   "metadata": {},
   "source": [
    "Проверим качество модели с выбранными гиперпараметрами:"
   ]
  },
  {
   "cell_type": "code",
   "execution_count": 67,
   "metadata": {
    "scrolled": false
   },
   "outputs": [
    {
     "name": "stdout",
     "output_type": "stream",
     "text": [
      "Fitting 5 folds for each of 1 candidates, totalling 5 fits\n",
      "[CV 1/5] END cat_features=[0, 1, 2, 6, 7, 8, 9, 10, 11, 12, 13], depth=2, iterations=500, l2_leaf_reg=1, learning_rate=0.6; total time=   2.4s\n",
      "[CV 2/5] END cat_features=[0, 1, 2, 6, 7, 8, 9, 10, 11, 12, 13], depth=2, iterations=500, l2_leaf_reg=1, learning_rate=0.6; total time=   2.5s\n",
      "[CV 3/5] END cat_features=[0, 1, 2, 6, 7, 8, 9, 10, 11, 12, 13], depth=2, iterations=500, l2_leaf_reg=1, learning_rate=0.6; total time=   2.3s\n",
      "[CV 4/5] END cat_features=[0, 1, 2, 6, 7, 8, 9, 10, 11, 12, 13], depth=2, iterations=500, l2_leaf_reg=1, learning_rate=0.6; total time=   2.4s\n",
      "[CV 5/5] END cat_features=[0, 1, 2, 6, 7, 8, 9, 10, 11, 12, 13], depth=2, iterations=500, l2_leaf_reg=1, learning_rate=0.6; total time=   2.4s\n"
     ]
    },
    {
     "data": {
      "text/plain": [
       "0.9387744677208957"
      ]
     },
     "execution_count": 67,
     "metadata": {},
     "output_type": "execute_result"
    }
   ],
   "source": [
    "catboost = CatBoostClassifier(loss_function='Logloss', random_seed=random, silent=True)\n",
    "\n",
    "catboost_params = {\n",
    " 'depth': [2],\n",
    " 'iterations': [500],\n",
    " 'l2_leaf_reg':[1],\n",
    " 'learning_rate': [0.6],\n",
    "  'cat_features':[cat_features]\n",
    "    \n",
    "}\n",
    "\n",
    "\n",
    "\n",
    "grid_search_catboost = GridSearchCV(catboost,\n",
    "                                   catboost_params, \n",
    "                                   verbose=3,\n",
    "                                   cv=5,\n",
    "                                   n_jobs=-1,\n",
    "                                   scoring='roc_auc')\n",
    "\n",
    "\n",
    "grid_search_catboost.fit(features_train, target_train)\n",
    "grid_search_catboost.best_score_\n"
   ]
  },
  {
   "cell_type": "markdown",
   "metadata": {},
   "source": [
    "Для модели катбуста были подобраны параметры: cat_features=[0, 1, 2, 6, 7, 8, 9, 10, 11, 12, 13], depth=2, iterations=500, l2_leaf_reg=1, learning_rate=0.6.  \n",
    "Модель с такими параметрами показала результат auc_roc = 0.94."
   ]
  },
  {
   "cell_type": "markdown",
   "metadata": {},
   "source": [
    "### Выбор и тестирование модели"
   ]
  },
  {
   "cell_type": "markdown",
   "metadata": {},
   "source": [
    "Сравним полученные модели:"
   ]
  },
  {
   "cell_type": "code",
   "execution_count": 68,
   "metadata": {},
   "outputs": [],
   "source": [
    "models = pd.DataFrame({'model': ['Logistic Regression', \n",
    "                                 'Decision Tree Classifier (max_depth=6)', \n",
    "                                 'Random Forest Classifier (n_est=16, max_depth=5)', \n",
    "                                'LGBM Classifier (learning_rate=0.1, n_est=20)', \n",
    "                                'CatBoost Classifier (cat_features=[0, 1, 2, 6, 7, 8, 9, 10, 11, 12, 13], depth=2, iterations=500, l2_leaf_reg=1, learning_rate=0.6)'], \n",
    "                       'auc_roc' : [0.8, 0.8, 0.8, 0.8, 0.93]})"
   ]
  },
  {
   "cell_type": "code",
   "execution_count": 69,
   "metadata": {},
   "outputs": [
    {
     "data": {
      "text/html": [
       "<div>\n",
       "<style scoped>\n",
       "    .dataframe tbody tr th:only-of-type {\n",
       "        vertical-align: middle;\n",
       "    }\n",
       "\n",
       "    .dataframe tbody tr th {\n",
       "        vertical-align: top;\n",
       "    }\n",
       "\n",
       "    .dataframe thead th {\n",
       "        text-align: right;\n",
       "    }\n",
       "</style>\n",
       "<table border=\"1\" class=\"dataframe\">\n",
       "  <thead>\n",
       "    <tr style=\"text-align: right;\">\n",
       "      <th></th>\n",
       "      <th>model</th>\n",
       "      <th>auc_roc</th>\n",
       "    </tr>\n",
       "  </thead>\n",
       "  <tbody>\n",
       "    <tr>\n",
       "      <th>0</th>\n",
       "      <td>Logistic Regression</td>\n",
       "      <td>0.80</td>\n",
       "    </tr>\n",
       "    <tr>\n",
       "      <th>1</th>\n",
       "      <td>Decision Tree Classifier (max_depth=6)</td>\n",
       "      <td>0.80</td>\n",
       "    </tr>\n",
       "    <tr>\n",
       "      <th>2</th>\n",
       "      <td>Random Forest Classifier (n_est=16, max_depth=5)</td>\n",
       "      <td>0.80</td>\n",
       "    </tr>\n",
       "    <tr>\n",
       "      <th>3</th>\n",
       "      <td>LGBM Classifier (learning_rate=0.1, n_est=20)</td>\n",
       "      <td>0.80</td>\n",
       "    </tr>\n",
       "    <tr>\n",
       "      <th>4</th>\n",
       "      <td>CatBoost Classifier (cat_features=[0, 1, 2, 6,...</td>\n",
       "      <td>0.93</td>\n",
       "    </tr>\n",
       "  </tbody>\n",
       "</table>\n",
       "</div>"
      ],
      "text/plain": [
       "                                               model  auc_roc\n",
       "0                                Logistic Regression     0.80\n",
       "1             Decision Tree Classifier (max_depth=6)     0.80\n",
       "2   Random Forest Classifier (n_est=16, max_depth=5)     0.80\n",
       "3      LGBM Classifier (learning_rate=0.1, n_est=20)     0.80\n",
       "4  CatBoost Classifier (cat_features=[0, 1, 2, 6,...     0.93"
      ]
     },
     "execution_count": 69,
     "metadata": {},
     "output_type": "execute_result"
    }
   ],
   "source": [
    "models"
   ]
  },
  {
   "cell_type": "markdown",
   "metadata": {},
   "source": [
    "Лучший результат показала модель CatBoost Classifier с параметрами cat_features=[0, 1, 2, 6, 7, 8, 9, 10, 11, 12, 13], depth=2, iterations=500, l2_leaf_reg=1, learning_rate=0.6.  \n",
    "Проверим данную модель на тестовой выборке:"
   ]
  },
  {
   "cell_type": "code",
   "execution_count": 70,
   "metadata": {},
   "outputs": [
    {
     "name": "stdout",
     "output_type": "stream",
     "text": [
      "0.9461923015042369\n"
     ]
    }
   ],
   "source": [
    "model_catboost = CatBoostClassifier(loss_function='Logloss', random_seed=random, silent=True,\n",
    "                                    depth=2, iterations=500, learning_rate=0.6, l2_leaf_reg=1,  \n",
    "                                    cat_features=cat_features)\n",
    "model_catboost.fit(features_train, target_train)\n",
    "roc_auc_test_catboost = roc_auc_score(target_test, model_catboost.predict_proba(features_test)[:, 1])\n",
    "print(roc_auc_test_catboost)"
   ]
  },
  {
   "cell_type": "code",
   "execution_count": 71,
   "metadata": {},
   "outputs": [
    {
     "data": {
      "image/png": "[encoded data removed]",
      "text/plain": [
       "<Figure size 432x288 with 1 Axes>"
      ]
     },
     "metadata": {
      "needs_background": "light"
     },
     "output_type": "display_data"
    }
   ],
   "source": [
    "fpr, tpr, thresholds = roc_curve(target_test, model_catboost.predict_proba(features_test)[:, 1])\n",
    "plt.figure()\n",
    "plt.plot(fpr, tpr)\n",
    "plt.plot([0, 1], [0, 1], linestyle='--')\n",
    "plt.xlim([0.0, 1.0])\n",
    "plt.ylim([0.0, 1.0])\n",
    "plt.xlabel('False Positive Rate')\n",
    "plt.ylabel('True Positive Rate')\n",
    "plt.title('ROC-кривая')\n",
    "plt.show()"
   ]
  },
  {
   "cell_type": "markdown",
   "metadata": {},
   "source": [
    "На тестовой выборке модель также показала отличный результат auc_roc = 0.95."
   ]
  },
  {
   "cell_type": "markdown",
   "metadata": {},
   "source": [
    "Проверим значение accuracy выбранной модели на тестовой выборке:"
   ]
  },
  {
   "cell_type": "code",
   "execution_count": 72,
   "metadata": {},
   "outputs": [
    {
     "name": "stdout",
     "output_type": "stream",
     "text": [
      "0.90386803185438\n"
     ]
    }
   ],
   "source": [
    "score = accuracy_score(target_test, model_catboost.predict(features_test))\n",
    "print(score)"
   ]
  },
  {
   "cell_type": "markdown",
   "metadata": {},
   "source": [
    "Значение accuracy модели на тестовой выборке - 0.9."
   ]
  },
  {
   "cell_type": "markdown",
   "metadata": {},
   "source": [
    "Построим матрицу ошибок:"
   ]
  },
  {
   "cell_type": "code",
   "execution_count": 73,
   "metadata": {},
   "outputs": [
    {
     "name": "stdout",
     "output_type": "stream",
     "text": [
      "[[1247   44]\n",
      " [ 125  342]]\n"
     ]
    }
   ],
   "source": [
    "print(confusion_matrix(target_test, model_catboost.predict(features_test)))"
   ]
  },
  {
   "cell_type": "code",
   "execution_count": 74,
   "metadata": {},
   "outputs": [
    {
     "data": {
      "text/plain": [
       "Text(0.5, 1.05, 'Матрица ошибок')"
      ]
     },
     "execution_count": 74,
     "metadata": {},
     "output_type": "execute_result"
    },
    {
     "data": {
      "image/png": "[encoded data removed]",
      "text/plain": [
       "<Figure size 576x432 with 2 Axes>"
      ]
     },
     "metadata": {
      "needs_background": "light"
     },
     "output_type": "display_data"
    }
   ],
   "source": [
    "plt.figure(figsize=(8, 6))\n",
    "sns.heatmap(confusion_matrix(target_test, model_catboost.predict(features_test)),annot=True, \n",
    "            fmt='3.0f')\n",
    "plt.title('Матрица ошибок', y=1.05, size=15)\n"
   ]
  },
  {
   "cell_type": "markdown",
   "metadata": {},
   "source": [
    "По данной матрице видно, что модель ошибалась редко."
   ]
  },
  {
   "cell_type": "markdown",
   "metadata": {},
   "source": [
    "Посмотрим на важность признаков для выбранной модели:"
   ]
  },
  {
   "cell_type": "code",
   "execution_count": 75,
   "metadata": {},
   "outputs": [
    {
     "data": {
      "text/html": [
       "<div>\n",
       "<style scoped>\n",
       "    .dataframe tbody tr th:only-of-type {\n",
       "        vertical-align: middle;\n",
       "    }\n",
       "\n",
       "    .dataframe tbody tr th {\n",
       "        vertical-align: top;\n",
       "    }\n",
       "\n",
       "    .dataframe thead th {\n",
       "        text-align: right;\n",
       "    }\n",
       "</style>\n",
       "<table border=\"1\" class=\"dataframe\">\n",
       "  <thead>\n",
       "    <tr style=\"text-align: right;\">\n",
       "      <th></th>\n",
       "      <th>Feature importance</th>\n",
       "    </tr>\n",
       "  </thead>\n",
       "  <tbody>\n",
       "    <tr>\n",
       "      <th>Duration</th>\n",
       "      <td>82.607238</td>\n",
       "    </tr>\n",
       "    <tr>\n",
       "      <th>MonthlyCharges</th>\n",
       "      <td>5.360470</td>\n",
       "    </tr>\n",
       "    <tr>\n",
       "      <th>internet</th>\n",
       "      <td>4.117088</td>\n",
       "    </tr>\n",
       "    <tr>\n",
       "      <th>InternetService</th>\n",
       "      <td>2.383816</td>\n",
       "    </tr>\n",
       "    <tr>\n",
       "      <th>Type</th>\n",
       "      <td>2.241780</td>\n",
       "    </tr>\n",
       "    <tr>\n",
       "      <th>PaymentMethod</th>\n",
       "      <td>0.844424</td>\n",
       "    </tr>\n",
       "    <tr>\n",
       "      <th>OnlineSecurity</th>\n",
       "      <td>0.839236</td>\n",
       "    </tr>\n",
       "    <tr>\n",
       "      <th>StreamingMovies</th>\n",
       "      <td>0.392586</td>\n",
       "    </tr>\n",
       "    <tr>\n",
       "      <th>MultipleLines</th>\n",
       "      <td>0.332845</td>\n",
       "    </tr>\n",
       "    <tr>\n",
       "      <th>PaperlessBilling</th>\n",
       "      <td>0.268058</td>\n",
       "    </tr>\n",
       "    <tr>\n",
       "      <th>StreamingTV</th>\n",
       "      <td>0.207079</td>\n",
       "    </tr>\n",
       "    <tr>\n",
       "      <th>SeniorCitizen</th>\n",
       "      <td>0.195884</td>\n",
       "    </tr>\n",
       "    <tr>\n",
       "      <th>Dependents</th>\n",
       "      <td>0.126137</td>\n",
       "    </tr>\n",
       "    <tr>\n",
       "      <th>Partner</th>\n",
       "      <td>0.083358</td>\n",
       "    </tr>\n",
       "  </tbody>\n",
       "</table>\n",
       "</div>"
      ],
      "text/plain": [
       "                  Feature importance\n",
       "Duration                   82.607238\n",
       "MonthlyCharges              5.360470\n",
       "internet                    4.117088\n",
       "InternetService             2.383816\n",
       "Type                        2.241780\n",
       "PaymentMethod               0.844424\n",
       "OnlineSecurity              0.839236\n",
       "StreamingMovies             0.392586\n",
       "MultipleLines               0.332845\n",
       "PaperlessBilling            0.268058\n",
       "StreamingTV                 0.207079\n",
       "SeniorCitizen               0.195884\n",
       "Dependents                  0.126137\n",
       "Partner                     0.083358"
      ]
     },
     "execution_count": 75,
     "metadata": {},
     "output_type": "execute_result"
    }
   ],
   "source": [
    "pd.DataFrame(model_catboost.get_feature_importance(), index=data.drop(['Left'], axis=1).dtypes.index, \n",
    "             columns=['Feature importance'])\\\n",
    ".sort_values(by='Feature importance', ascending = False)"
   ]
  },
  {
   "cell_type": "code",
   "execution_count": 77,
   "metadata": {},
   "outputs": [
    {
     "data": {
      "text/plain": [
       "Text(0.5, 1.0, 'Feature Importance')"
      ]
     },
     "execution_count": 77,
     "metadata": {},
     "output_type": "execute_result"
    },
    {
     "data": {
      "image/png": "[encoded data removed]",
      "text/plain": [
       "<Figure size 864x432 with 1 Axes>"
      ]
     },
     "metadata": {
      "needs_background": "light"
     },
     "output_type": "display_data"
    }
   ],
   "source": [
    "feature_importance = model_catboost.feature_importances_\n",
    "sorted_idx = np.argsort(feature_importance)\n",
    "fig = plt.figure(figsize=(12, 6))\n",
    "plt.barh(range(len(sorted_idx)), feature_importance[sorted_idx], align='center')\n",
    "plt.yticks(range(len(sorted_idx)), np.array(features_test.columns)[sorted_idx])\n",
    "plt.title('Feature Importance')\n"
   ]
  },
  {
   "cell_type": "markdown",
   "metadata": {},
   "source": [
    "Самым важным признаком для модели Catboost стало число дней договора. Также влияние оказали такие признаки, как стоимость услуг в месяц, использование услуг интернета, тип подключения и тип договора. Влияние остальных признаков на модель оказалось минимально."
   ]
  },
  {
   "cell_type": "markdown",
   "metadata": {},
   "source": [
    "### Вывод"
   ]
  },
  {
   "cell_type": "markdown",
   "metadata": {},
   "source": [
    "В ходе исследования были проанализированы данные оператора связи и создана модель, предсказывающая отток клиентов. \n",
    "- Были проанализированы предоставленные компанией данные, выбраны признаки для построения моделей. \n",
    "- Было создано 5 моделей разных типов, подобраны параметры. \n",
    "- Исходя из сравнения модеелй по значению auc-roc была выбрана модель CatBoost со следующими параметрами: cat_features=[0, 1, 2, 6, 7, 8, 9, 10, 11, 12, 13], depth=2, iterations=500, l2_leaf_reg=1, learning_rate=0.6. \n",
    "- На финальном тестировании данная модель показала результат auc_roc = 0.95, accuracy = 0.9. \n",
    "- Были проанализированы признаки, оказывающие большее влияние на данную модель. Главным по важности стал признак Duration - число дней использования услуг клиентом."
   ]
  },
  {
   "cell_type": "markdown",
   "metadata": {},
   "source": [
    "### Отчет"
   ]
  },
  {
   "cell_type": "markdown",
   "metadata": {},
   "source": [
    "**В ходе работы над проектом были выполнены следующие пункты плана:**  \n",
    "  \n",
    "**1. Исследовательский анализ данных:**  \n",
    "  \n",
    "- данные были импортированы, описаны;\n",
    "- все таблицы были проверены на наличие дубликатов и пропусков; \n",
    "- данные были приведены к необходимым типам;\n",
    "- были созданы дополнительные признаки: Left - целевой признак - отказался ли клиент от услуг оператора, Duration - срок действия договора;\n",
    "- предоставленные данные были объединены в сводную таблицу для дальнейшего анализа и создания модели;\n",
    "- при помощи графиков было проанализировано распределение признаков между ушедшими и не ушедшими клиентами;\n",
    "- были определены признаки, влиящие на отток клиентов;\n",
    "- признаки, не влияющие на отток, были удалены из сводной таблицы;\n",
    "- полученная таблица была разделена на признаки и целевой признак;\n",
    "- данные были разделены на обучающую и тестовую выборки;\n",
    "- категориальные признаки были закодированы для создания моделей.\n",
    "  \n",
    "**2. Построение модели:**\n",
    "  \n",
    "- была создана модель логистической регрессии. Кросс-валидацией на тренировочной выборке было получено значение auc_roc = 0.8;\n",
    "- была создана модель древа решений. С помощью GridSearchCV была определена лучшая глубина древа - 6 и получено значение auc_roc = 0.8;\n",
    "- была создана модель случайного леса. С помощью GridSearchCV была определена лучшая глубина древа - 5 и лучшее количество деревьев - 16, получено значение auc_roc = 0.8;\n",
    "- была создана модель LGBM. С помощью GridSearchCV были определены лучшие параметры для такой модели: learning_rate = 0.1, n_estimators = 20 и получено значение auc_roc = 0.8;\n",
    "- была создана модель CatBoost. С помощью GridSearchCV были определены лучшие параметры для такой модели: cat_features=[0, 1, 2, 6, 7, 8, 9, 10, 11, 12, 13], depth=2, iterations=500, l2_leaf_reg=1, learning_rate=0.6 и получено значение auc_roc = 0.93.\n",
    "- было проведено сравнение полученных моделей по значению auc_roc;\n",
    "- в результате сравнения была выбрана лучшая модель - модель CatBoost с параметрами: cat_features=[0, 1, 2, 6, 7, 8, 9, 10, 11, 12, 13], depth=2, iterations=500, l2_leaf_reg=1, learning_rate=0.6.  \n",
    "\n",
    "**3. Финальное тестирование:**\n",
    "  \n",
    "- выбранная модель (CatBoost с параметрами cat_features=[0, 1, 2, 6, 7, 8, 9, 10, 11, 12, 13], depth=2, iterations=500, l2_leaf_reg=1, learning_rate=0.6) была проверена на тестовой выборке;\n",
    "- в ходе тестирования были проверены такие показатели как auc_roc и accuracy;\n",
    "- были получены результаты auc_roc = 0.95, accuracy = 0.9;\n",
    "- была построена матрица ошибок, продемонстрировавшая высокое качество модели;\n",
    "- была проанализирована важность признаков для выбранной модели;\n",
    "- был определен самый важный признак - срок действия договора - 'Duration'.\n",
    "\n",
    "**Таким образом, все пункты плана были выполнены.**"
   ]
  },
  {
   "cell_type": "markdown",
   "metadata": {},
   "source": [
    "***В ходе работы над проектом возникли следующие трудности:***  \n",
    "- выбор момента и способа кодирования категориальных признаков;\n",
    "- выбор способа определения важности признаков для создания модели;\n",
    "- определение признаков, необходимых для создания модели;\n",
    "- кодирование категориальных при помощи OneHotEncoder;\n",
    "- достижение высокой метрики модели CatBoost;\n",
    "- выбор способа получения предсказания при использовании модели CatBoost.\n",
    "\n",
    "***Все возникшие трудности были преодолены с помощью рекомендаций ревьюера и самостоятельного поиска дополнительной информации.***"
   ]
  },
  {
   "cell_type": "markdown",
   "metadata": {},
   "source": [
    "**При решении задачи были выделены следующие ключевые шаги:**\n",
    "1. Предобработка данных\n",
    "2. Создание нескольких моделей разных типов\n",
    "3. Сравнение полученных моделей\n",
    "4. Финальное тестирование выбранной модели\n",
    "5. Выводы по результатам финального тестирования."
   ]
  },
  {
   "cell_type": "markdown",
   "metadata": {},
   "source": [
    "**Итоговая модель**"
   ]
  },
  {
   "attachments": {
    "image-2.png": {
     "image/png": "[encoded data removed]"
    },
    "image-3.png": {
     "image/png": "[encoded data removed]"
    },
    "image.png": {
     "image/png": "[encoded data removed]"
    }
   },
   "cell_type": "markdown",
   "metadata": {},
   "source": [
    "**В ходе прокта была создана модель, предсказывающая отток клиентов.**  \n",
    "Тип модели - CatBoostClassifier.  \n",
    "  \n",
    "Параметры модели:  \n",
    "      - cat_features=[0, 1, 2, 6, 7, 8, 9, 10, 11, 12, 13];  \n",
    "      - depth=2;  \n",
    "      - iterations=500;  \n",
    "      - l2_leaf_reg=1;   \n",
    "      - learning_rate=0.6.  \n",
    "  \n",
    "Значение auc_roc модели на тестовой выборке = 0.95.\n",
    "![image.png](attachment:image.png)\n",
    "  \n",
    "Значение accuracy модели на тестовой выборке = 0.93.\n",
    "  \n",
    "Матрица ошибок модели:  \n",
    "![image-2.png](attachment:image-2.png)  \n",
    "  \n",
    "Степень важности признаков для выбранной модели:  \n",
    "  \n",
    "![image-3.png](attachment:image-3.png)"
   ]
  },
  {
   "cell_type": "markdown",
   "metadata": {},
   "source": [
    "**Таким образом, в ходе работы над проектом была создана модель высокого качества для предсказания оттока клиентов.**"
   ]
  }
 ],
 "metadata": {
  "ExecuteTimeLog": [
   {
    "duration": 1541,
    "start_time": "2022-12-13T09:38:14.435Z"
   },
   {
    "duration": 107,
    "start_time": "2022-12-13T09:38:15.978Z"
   },
   {
    "duration": 36,
    "start_time": "2022-12-13T09:38:16.087Z"
   },
   {
    "duration": 11,
    "start_time": "2022-12-13T09:38:16.126Z"
   },
   {
    "duration": 9,
    "start_time": "2022-12-13T09:38:33.554Z"
   },
   {
    "duration": 12,
    "start_time": "2022-12-13T09:39:01.685Z"
   },
   {
    "duration": 9,
    "start_time": "2022-12-13T09:40:16.246Z"
   },
   {
    "duration": 1401,
    "start_time": "2022-12-13T09:40:27.722Z"
   },
   {
    "duration": 103,
    "start_time": "2022-12-13T09:40:29.125Z"
   },
   {
    "duration": 26,
    "start_time": "2022-12-13T09:40:29.230Z"
   },
   {
    "duration": 12,
    "start_time": "2022-12-13T09:40:29.259Z"
   },
   {
    "duration": 13,
    "start_time": "2022-12-13T09:40:29.273Z"
   },
   {
    "duration": 39,
    "start_time": "2022-12-13T09:40:29.288Z"
   },
   {
    "duration": 5,
    "start_time": "2022-12-13T09:40:29.329Z"
   },
   {
    "duration": 16,
    "start_time": "2022-12-13T09:40:29.335Z"
   },
   {
    "duration": 11,
    "start_time": "2022-12-13T09:40:29.353Z"
   },
   {
    "duration": 18,
    "start_time": "2022-12-13T09:40:29.366Z"
   },
   {
    "duration": 7,
    "start_time": "2022-12-13T09:40:46.829Z"
   },
   {
    "duration": 26,
    "start_time": "2022-12-13T09:42:01.389Z"
   },
   {
    "duration": 7,
    "start_time": "2022-12-13T09:42:24.205Z"
   },
   {
    "duration": 8,
    "start_time": "2022-12-13T09:42:36.389Z"
   },
   {
    "duration": 14,
    "start_time": "2022-12-13T09:42:50.285Z"
   },
   {
    "duration": 31,
    "start_time": "2022-12-13T09:43:18.637Z"
   },
   {
    "duration": 9,
    "start_time": "2022-12-13T09:43:36.885Z"
   },
   {
    "duration": 9,
    "start_time": "2022-12-13T09:43:46.826Z"
   },
   {
    "duration": 5,
    "start_time": "2022-12-13T09:44:03.077Z"
   },
   {
    "duration": 18,
    "start_time": "2022-12-13T09:44:12.693Z"
   },
   {
    "duration": 12,
    "start_time": "2022-12-13T09:44:18.797Z"
   },
   {
    "duration": 17,
    "start_time": "2022-12-13T09:44:30.644Z"
   },
   {
    "duration": 17,
    "start_time": "2022-12-13T09:44:47.648Z"
   },
   {
    "duration": 9,
    "start_time": "2022-12-13T09:45:08.469Z"
   },
   {
    "duration": 7,
    "start_time": "2022-12-13T09:45:18.880Z"
   },
   {
    "duration": 4,
    "start_time": "2022-12-13T09:45:32.790Z"
   },
   {
    "duration": 30,
    "start_time": "2022-12-13T09:45:44.701Z"
   },
   {
    "duration": 15,
    "start_time": "2022-12-13T09:45:50.069Z"
   },
   {
    "duration": 11,
    "start_time": "2022-12-13T09:46:02.117Z"
   },
   {
    "duration": 17,
    "start_time": "2022-12-13T09:46:32.980Z"
   },
   {
    "duration": 275,
    "start_time": "2022-12-13T09:46:54.845Z"
   },
   {
    "duration": 227,
    "start_time": "2022-12-13T09:47:25.566Z"
   },
   {
    "duration": 273,
    "start_time": "2022-12-13T09:47:46.757Z"
   },
   {
    "duration": 203,
    "start_time": "2022-12-13T09:48:00.749Z"
   },
   {
    "duration": 159,
    "start_time": "2022-12-13T09:48:12.221Z"
   },
   {
    "duration": 197,
    "start_time": "2022-12-13T09:48:25.757Z"
   },
   {
    "duration": 170,
    "start_time": "2022-12-13T09:48:38.485Z"
   },
   {
    "duration": 191,
    "start_time": "2022-12-13T09:48:51.965Z"
   },
   {
    "duration": 208,
    "start_time": "2022-12-13T09:49:07.885Z"
   },
   {
    "duration": 175,
    "start_time": "2022-12-13T09:49:28.452Z"
   },
   {
    "duration": 168,
    "start_time": "2022-12-13T09:49:50.229Z"
   },
   {
    "duration": 158,
    "start_time": "2022-12-13T09:50:06.049Z"
   },
   {
    "duration": 177,
    "start_time": "2022-12-13T09:50:26.918Z"
   },
   {
    "duration": 292,
    "start_time": "2022-12-13T09:50:43.709Z"
   },
   {
    "duration": 178,
    "start_time": "2022-12-13T09:50:50.518Z"
   },
   {
    "duration": 133,
    "start_time": "2022-12-13T09:51:02.357Z"
   },
   {
    "duration": 145,
    "start_time": "2022-12-13T09:51:09.869Z"
   },
   {
    "duration": 128,
    "start_time": "2022-12-13T09:51:17.589Z"
   },
   {
    "duration": 138,
    "start_time": "2022-12-13T09:51:26.759Z"
   },
   {
    "duration": 159,
    "start_time": "2022-12-13T09:51:33.327Z"
   },
   {
    "duration": 5,
    "start_time": "2022-12-13T09:51:53.654Z"
   },
   {
    "duration": 22,
    "start_time": "2022-12-13T09:52:04.406Z"
   },
   {
    "duration": 5,
    "start_time": "2022-12-13T09:52:15.765Z"
   },
   {
    "duration": 10,
    "start_time": "2022-12-13T09:52:25.069Z"
   },
   {
    "duration": 20,
    "start_time": "2022-12-13T09:52:29.989Z"
   },
   {
    "duration": 15,
    "start_time": "2022-12-13T09:53:00.814Z"
   },
   {
    "duration": 33,
    "start_time": "2022-12-13T09:53:12.116Z"
   },
   {
    "duration": 14,
    "start_time": "2022-12-13T09:55:03.797Z"
   },
   {
    "duration": 13,
    "start_time": "2022-12-13T09:55:17.294Z"
   },
   {
    "duration": 3,
    "start_time": "2022-12-13T09:55:42.994Z"
   },
   {
    "duration": 265,
    "start_time": "2022-12-13T09:55:48.365Z"
   },
   {
    "duration": 1024,
    "start_time": "2022-12-13T10:02:19.758Z"
   },
   {
    "duration": 3,
    "start_time": "2022-12-13T10:02:46.197Z"
   },
   {
    "duration": 4,
    "start_time": "2022-12-13T10:03:13.085Z"
   },
   {
    "duration": 5,
    "start_time": "2022-12-13T10:03:39.145Z"
   },
   {
    "duration": 6,
    "start_time": "2022-12-13T10:03:45.860Z"
   },
   {
    "duration": 2,
    "start_time": "2022-12-13T10:03:58.145Z"
   },
   {
    "duration": 1483,
    "start_time": "2022-12-13T10:04:04.311Z"
   },
   {
    "duration": 128,
    "start_time": "2022-12-13T10:04:05.796Z"
   },
   {
    "duration": 38,
    "start_time": "2022-12-13T10:04:05.926Z"
   },
   {
    "duration": 15,
    "start_time": "2022-12-13T10:04:05.966Z"
   },
   {
    "duration": 9,
    "start_time": "2022-12-13T10:04:05.983Z"
   },
   {
    "duration": 55,
    "start_time": "2022-12-13T10:04:05.993Z"
   },
   {
    "duration": 6,
    "start_time": "2022-12-13T10:04:06.050Z"
   },
   {
    "duration": 15,
    "start_time": "2022-12-13T10:04:06.058Z"
   },
   {
    "duration": 11,
    "start_time": "2022-12-13T10:04:06.076Z"
   },
   {
    "duration": 9,
    "start_time": "2022-12-13T10:04:06.091Z"
   },
   {
    "duration": 33,
    "start_time": "2022-12-13T10:04:06.102Z"
   },
   {
    "duration": 28,
    "start_time": "2022-12-13T10:04:06.139Z"
   },
   {
    "duration": 23,
    "start_time": "2022-12-13T10:04:06.169Z"
   },
   {
    "duration": 11,
    "start_time": "2022-12-13T10:04:06.193Z"
   },
   {
    "duration": 26,
    "start_time": "2022-12-13T10:04:06.206Z"
   },
   {
    "duration": 31,
    "start_time": "2022-12-13T10:04:06.235Z"
   },
   {
    "duration": 10,
    "start_time": "2022-12-13T10:04:06.268Z"
   },
   {
    "duration": 11,
    "start_time": "2022-12-13T10:04:06.280Z"
   },
   {
    "duration": 45,
    "start_time": "2022-12-13T10:04:06.293Z"
   },
   {
    "duration": 16,
    "start_time": "2022-12-13T10:04:06.344Z"
   },
   {
    "duration": 13,
    "start_time": "2022-12-13T10:04:06.362Z"
   },
   {
    "duration": 17,
    "start_time": "2022-12-13T10:04:06.377Z"
   },
   {
    "duration": 41,
    "start_time": "2022-12-13T10:04:06.397Z"
   },
   {
    "duration": 23,
    "start_time": "2022-12-13T10:04:06.441Z"
   },
   {
    "duration": 7,
    "start_time": "2022-12-13T10:04:06.465Z"
   },
   {
    "duration": 9,
    "start_time": "2022-12-13T10:04:06.474Z"
   },
   {
    "duration": 21,
    "start_time": "2022-12-13T10:04:06.485Z"
   },
   {
    "duration": 35,
    "start_time": "2022-12-13T10:04:06.510Z"
   },
   {
    "duration": 26,
    "start_time": "2022-12-13T10:04:06.547Z"
   },
   {
    "duration": 22,
    "start_time": "2022-12-13T10:04:06.575Z"
   },
   {
    "duration": 201,
    "start_time": "2022-12-13T10:04:06.599Z"
   },
   {
    "duration": 180,
    "start_time": "2022-12-13T10:04:06.801Z"
   },
   {
    "duration": 262,
    "start_time": "2022-12-13T10:04:06.983Z"
   },
   {
    "duration": 190,
    "start_time": "2022-12-13T10:04:07.247Z"
   },
   {
    "duration": 180,
    "start_time": "2022-12-13T10:04:07.440Z"
   },
   {
    "duration": 193,
    "start_time": "2022-12-13T10:04:07.621Z"
   },
   {
    "duration": 173,
    "start_time": "2022-12-13T10:04:07.816Z"
   },
   {
    "duration": 191,
    "start_time": "2022-12-13T10:04:07.990Z"
   },
   {
    "duration": 180,
    "start_time": "2022-12-13T10:04:08.182Z"
   },
   {
    "duration": 151,
    "start_time": "2022-12-13T10:04:08.364Z"
   },
   {
    "duration": 162,
    "start_time": "2022-12-13T10:04:08.517Z"
   },
   {
    "duration": 167,
    "start_time": "2022-12-13T10:04:08.681Z"
   },
   {
    "duration": 213,
    "start_time": "2022-12-13T10:04:08.850Z"
   },
   {
    "duration": 312,
    "start_time": "2022-12-13T10:04:09.066Z"
   },
   {
    "duration": 168,
    "start_time": "2022-12-13T10:04:09.380Z"
   },
   {
    "duration": 146,
    "start_time": "2022-12-13T10:04:09.551Z"
   },
   {
    "duration": 163,
    "start_time": "2022-12-13T10:04:09.699Z"
   },
   {
    "duration": 152,
    "start_time": "2022-12-13T10:04:09.864Z"
   },
   {
    "duration": 161,
    "start_time": "2022-12-13T10:04:10.018Z"
   },
   {
    "duration": 184,
    "start_time": "2022-12-13T10:04:10.181Z"
   },
   {
    "duration": 6,
    "start_time": "2022-12-13T10:04:10.367Z"
   },
   {
    "duration": 49,
    "start_time": "2022-12-13T10:04:10.376Z"
   },
   {
    "duration": 44,
    "start_time": "2022-12-13T10:04:10.430Z"
   },
   {
    "duration": 31,
    "start_time": "2022-12-13T10:04:10.476Z"
   },
   {
    "duration": 33,
    "start_time": "2022-12-13T10:04:10.509Z"
   },
   {
    "duration": 38,
    "start_time": "2022-12-13T10:04:10.544Z"
   },
   {
    "duration": 19,
    "start_time": "2022-12-13T10:04:10.584Z"
   },
   {
    "duration": 34,
    "start_time": "2022-12-13T10:04:10.605Z"
   },
   {
    "duration": 41,
    "start_time": "2022-12-13T10:04:10.642Z"
   },
   {
    "duration": 22,
    "start_time": "2022-12-13T10:04:10.686Z"
   },
   {
    "duration": 302,
    "start_time": "2022-12-13T10:04:10.709Z"
   },
   {
    "duration": 1011,
    "start_time": "2022-12-13T10:04:11.014Z"
   },
   {
    "duration": 8,
    "start_time": "2022-12-13T10:04:12.028Z"
   },
   {
    "duration": 32,
    "start_time": "2022-12-13T10:04:12.038Z"
   },
   {
    "duration": 45,
    "start_time": "2022-12-13T10:04:12.072Z"
   },
   {
    "duration": 42,
    "start_time": "2022-12-13T10:04:12.119Z"
   },
   {
    "duration": 140,
    "start_time": "2022-12-13T10:04:12.164Z"
   },
   {
    "duration": 14433,
    "start_time": "2022-12-13T10:04:33.790Z"
   },
   {
    "duration": 1615,
    "start_time": "2022-12-13T10:05:03.022Z"
   },
   {
    "duration": 122,
    "start_time": "2022-12-13T10:05:04.646Z"
   },
   {
    "duration": 32,
    "start_time": "2022-12-13T10:05:04.770Z"
   },
   {
    "duration": 14,
    "start_time": "2022-12-13T10:05:04.805Z"
   },
   {
    "duration": 32,
    "start_time": "2022-12-13T10:05:04.821Z"
   },
   {
    "duration": 17,
    "start_time": "2022-12-13T10:05:04.855Z"
   },
   {
    "duration": 9,
    "start_time": "2022-12-13T10:05:04.874Z"
   },
   {
    "duration": 16,
    "start_time": "2022-12-13T10:05:04.885Z"
   },
   {
    "duration": 8,
    "start_time": "2022-12-13T10:05:04.903Z"
   },
   {
    "duration": 22,
    "start_time": "2022-12-13T10:05:04.913Z"
   },
   {
    "duration": 18,
    "start_time": "2022-12-13T10:05:04.936Z"
   },
   {
    "duration": 30,
    "start_time": "2022-12-13T10:05:04.956Z"
   },
   {
    "duration": 11,
    "start_time": "2022-12-13T10:05:04.989Z"
   },
   {
    "duration": 7,
    "start_time": "2022-12-13T10:05:05.001Z"
   },
   {
    "duration": 17,
    "start_time": "2022-12-13T10:05:05.043Z"
   },
   {
    "duration": 30,
    "start_time": "2022-12-13T10:05:05.061Z"
   },
   {
    "duration": 22,
    "start_time": "2022-12-13T10:05:05.093Z"
   },
   {
    "duration": 23,
    "start_time": "2022-12-13T10:05:05.116Z"
   },
   {
    "duration": 9,
    "start_time": "2022-12-13T10:05:05.145Z"
   },
   {
    "duration": 21,
    "start_time": "2022-12-13T10:05:05.157Z"
   },
   {
    "duration": 15,
    "start_time": "2022-12-13T10:05:05.180Z"
   },
   {
    "duration": 34,
    "start_time": "2022-12-13T10:05:05.197Z"
   },
   {
    "duration": 21,
    "start_time": "2022-12-13T10:05:05.233Z"
   },
   {
    "duration": 13,
    "start_time": "2022-12-13T10:05:05.255Z"
   },
   {
    "duration": 7,
    "start_time": "2022-12-13T10:05:05.270Z"
   },
   {
    "duration": 11,
    "start_time": "2022-12-13T10:05:05.279Z"
   },
   {
    "duration": 46,
    "start_time": "2022-12-13T10:05:05.291Z"
   },
   {
    "duration": 12,
    "start_time": "2022-12-13T10:05:05.346Z"
   },
   {
    "duration": 17,
    "start_time": "2022-12-13T10:05:05.359Z"
   },
   {
    "duration": 25,
    "start_time": "2022-12-13T10:05:05.378Z"
   },
   {
    "duration": 208,
    "start_time": "2022-12-13T10:05:05.405Z"
   },
   {
    "duration": 175,
    "start_time": "2022-12-13T10:05:05.615Z"
   },
   {
    "duration": 321,
    "start_time": "2022-12-13T10:05:05.792Z"
   },
   {
    "duration": 239,
    "start_time": "2022-12-13T10:05:06.115Z"
   },
   {
    "duration": 176,
    "start_time": "2022-12-13T10:05:06.356Z"
   },
   {
    "duration": 180,
    "start_time": "2022-12-13T10:05:06.536Z"
   },
   {
    "duration": 204,
    "start_time": "2022-12-13T10:05:06.719Z"
   },
   {
    "duration": 185,
    "start_time": "2022-12-13T10:05:06.930Z"
   },
   {
    "duration": 179,
    "start_time": "2022-12-13T10:05:07.117Z"
   },
   {
    "duration": 163,
    "start_time": "2022-12-13T10:05:07.298Z"
   },
   {
    "duration": 149,
    "start_time": "2022-12-13T10:05:07.463Z"
   },
   {
    "duration": 170,
    "start_time": "2022-12-13T10:05:07.614Z"
   },
   {
    "duration": 172,
    "start_time": "2022-12-13T10:05:07.786Z"
   },
   {
    "duration": 296,
    "start_time": "2022-12-13T10:05:07.960Z"
   },
   {
    "duration": 153,
    "start_time": "2022-12-13T10:05:08.259Z"
   },
   {
    "duration": 183,
    "start_time": "2022-12-13T10:05:08.414Z"
   },
   {
    "duration": 167,
    "start_time": "2022-12-13T10:05:08.599Z"
   },
   {
    "duration": 161,
    "start_time": "2022-12-13T10:05:08.768Z"
   },
   {
    "duration": 145,
    "start_time": "2022-12-13T10:05:08.932Z"
   },
   {
    "duration": 170,
    "start_time": "2022-12-13T10:05:09.080Z"
   },
   {
    "duration": 6,
    "start_time": "2022-12-13T10:05:09.252Z"
   },
   {
    "duration": 62,
    "start_time": "2022-12-13T10:05:09.260Z"
   },
   {
    "duration": 37,
    "start_time": "2022-12-13T10:05:09.324Z"
   },
   {
    "duration": 46,
    "start_time": "2022-12-13T10:05:09.363Z"
   },
   {
    "duration": 63,
    "start_time": "2022-12-13T10:05:09.410Z"
   },
   {
    "duration": 16,
    "start_time": "2022-12-13T10:05:09.476Z"
   },
   {
    "duration": 56,
    "start_time": "2022-12-13T10:05:09.493Z"
   },
   {
    "duration": 44,
    "start_time": "2022-12-13T10:05:09.552Z"
   },
   {
    "duration": 32,
    "start_time": "2022-12-13T10:05:09.598Z"
   },
   {
    "duration": 32,
    "start_time": "2022-12-13T10:05:09.632Z"
   },
   {
    "duration": 317,
    "start_time": "2022-12-13T10:05:09.666Z"
   },
   {
    "duration": 1016,
    "start_time": "2022-12-13T10:05:09.985Z"
   },
   {
    "duration": 3,
    "start_time": "2022-12-13T10:05:11.003Z"
   },
   {
    "duration": 45,
    "start_time": "2022-12-13T10:05:11.008Z"
   },
   {
    "duration": 51,
    "start_time": "2022-12-13T10:05:11.055Z"
   },
   {
    "duration": 15,
    "start_time": "2022-12-13T10:05:11.108Z"
   },
   {
    "duration": 14951,
    "start_time": "2022-12-13T10:05:11.126Z"
   },
   {
    "duration": 5,
    "start_time": "2022-12-13T10:06:32.203Z"
   },
   {
    "duration": 11,
    "start_time": "2022-12-13T10:06:40.886Z"
   },
   {
    "duration": 2559,
    "start_time": "2022-12-13T10:07:11.294Z"
   },
   {
    "duration": 127,
    "start_time": "2022-12-13T10:07:19.414Z"
   },
   {
    "duration": 14,
    "start_time": "2022-12-13T10:07:41.190Z"
   },
   {
    "duration": 16,
    "start_time": "2022-12-13T10:08:14.965Z"
   },
   {
    "duration": 272,
    "start_time": "2022-12-13T10:08:21.639Z"
   },
   {
    "duration": 13,
    "start_time": "2022-12-13T10:08:51.848Z"
   },
   {
    "duration": 291,
    "start_time": "2022-12-13T10:17:02.613Z"
   },
   {
    "duration": 205,
    "start_time": "2022-12-13T10:17:09.247Z"
   }
  ],
  "kernelspec": {
   "display_name": "Python 3 (ipykernel)",
   "language": "python",
   "name": "python3"
  },
  "language_info": {
   "codemirror_mode": {
    "name": "ipython",
    "version": 3
   },
   "file_extension": ".py",
   "mimetype": "text/x-python",
   "name": "python",
   "nbconvert_exporter": "python",
   "pygments_lexer": "ipython3",
   "version": "3.9.12"
  },
  "toc": {
   "base_numbering": 1,
   "nav_menu": {},
   "number_sections": true,
   "sideBar": true,
   "skip_h1_title": true,
   "title_cell": "Table of Contents",
   "title_sidebar": "Contents",
   "toc_cell": false,
   "toc_position": {},
   "toc_section_display": true,
   "toc_window_display": false
  }
 },
 "nbformat": 4,
 "nbformat_minor": 2
}
