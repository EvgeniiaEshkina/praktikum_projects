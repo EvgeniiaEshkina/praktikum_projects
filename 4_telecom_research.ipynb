{
 "cells": [
  {
   "cell_type": "markdown",
   "metadata": {},
   "source": [
    "# Определение перспективного тарифа для телеком-компании"
   ]
  },
  {
   "cell_type": "markdown",
   "metadata": {},
   "source": [
    "## Описание проекта"
   ]
  },
  {
   "cell_type": "markdown",
   "metadata": {},
   "source": [
    "\n",
    "У оператора сотовой связи \"Мегалайн\" есть два тарифных плана: \"Смарт\" и \"Ультра\". На основе предоставленных данных о 500 пользователях необходимо определить, какой тариф приносит больше денег, скорректировать рекламный бюджет компании.   \n",
    "  \n",
    "**Описание тарифов:**  \n",
    "\n",
    "- *Тариф «Смарт»:*  \n",
    "Ежемесячная плата: 550 рублей  \n",
    "Включено 500 минут разговора, 50 сообщений и 15 Гб интернет-трафика  \n",
    "Стоимость услуг сверх тарифного пакета:  \n",
    "минута разговора: 3 рубля  \n",
    "сообщение: 3 рубля  \n",
    "1 Гб интернет-трафика: 200 рублей  \n",
    "- *Тариф «Ультра»:*  \n",
    "Ежемесячная плата: 1950 рублей  \n",
    "Включено 3000 минут разговора, 1000 сообщений и 30 Гб интернет-трафика  \n",
    "Стоимость услуг сверх тарифного пакета:  \n",
    "минута разговора: 1 рубль  \n",
    "сообщение: 1 рубль  "
   ]
  },
  {
   "cell_type": "markdown",
   "metadata": {},
   "source": [
    "## Описание данных"
   ]
  },
  {
   "cell_type": "code",
   "execution_count": 1,
   "metadata": {},
   "outputs": [],
   "source": [
    "#Импортируем все необходимые библиотеки.\n",
    "import pandas as pd\n",
    "import numpy as np\n",
    "import matplotlib.pyplot as plt\n",
    "from scipy import stats as st"
   ]
  },
  {
   "cell_type": "code",
   "execution_count": 2,
   "metadata": {},
   "outputs": [],
   "source": [
    "#Импортируем предоставленные данные.\n",
    "calls = pd.read_csv('/datasets/calls.csv')\n",
    "internet = pd.read_csv('/datasets/internet.csv')\n",
    "messages = pd.read_csv('/datasets/messages.csv')\n",
    "tariffs = pd.read_csv('/datasets/tariffs.csv')\n",
    "users = pd.read_csv('/datasets/users.csv')"
   ]
  },
  {
   "cell_type": "markdown",
   "metadata": {},
   "source": [
    "**Таблица users (информация о пользователях):**  \n",
    "user_id — уникальный идентификатор пользователя  \n",
    "first_name — имя пользователя  \n",
    "last_name — фамилия пользователя  \n",
    "age — возраст пользователя (годы)  \n",
    "reg_date — дата подключения тарифа (день, месяц, год)  \n",
    "churn_date — дата прекращения пользования тарифом (если значение пропущено, то тариф ещё действовал на момент выгрузки данных)  \n",
    "city — город проживания пользователя  \n",
    "tariff — название тарифного плана  "
   ]
  },
  {
   "cell_type": "code",
   "execution_count": 3,
   "metadata": {},
   "outputs": [
    {
     "name": "stdout",
     "output_type": "stream",
     "text": [
      "<class 'pandas.core.frame.DataFrame'>\n",
      "RangeIndex: 500 entries, 0 to 499\n",
      "Data columns (total 8 columns):\n",
      " #   Column      Non-Null Count  Dtype \n",
      "---  ------      --------------  ----- \n",
      " 0   user_id     500 non-null    int64 \n",
      " 1   age         500 non-null    int64 \n",
      " 2   churn_date  38 non-null     object\n",
      " 3   city        500 non-null    object\n",
      " 4   first_name  500 non-null    object\n",
      " 5   last_name   500 non-null    object\n",
      " 6   reg_date    500 non-null    object\n",
      " 7   tariff      500 non-null    object\n",
      "dtypes: int64(2), object(6)\n",
      "memory usage: 31.4+ KB\n"
     ]
    },
    {
     "data": {
      "text/html": [
       "<div>\n",
       "<style scoped>\n",
       "    .dataframe tbody tr th:only-of-type {\n",
       "        vertical-align: middle;\n",
       "    }\n",
       "\n",
       "    .dataframe tbody tr th {\n",
       "        vertical-align: top;\n",
       "    }\n",
       "\n",
       "    .dataframe thead th {\n",
       "        text-align: right;\n",
       "    }\n",
       "</style>\n",
       "<table border=\"1\" class=\"dataframe\">\n",
       "  <thead>\n",
       "    <tr style=\"text-align: right;\">\n",
       "      <th></th>\n",
       "      <th>user_id</th>\n",
       "      <th>age</th>\n",
       "      <th>churn_date</th>\n",
       "      <th>city</th>\n",
       "      <th>first_name</th>\n",
       "      <th>last_name</th>\n",
       "      <th>reg_date</th>\n",
       "      <th>tariff</th>\n",
       "    </tr>\n",
       "  </thead>\n",
       "  <tbody>\n",
       "    <tr>\n",
       "      <th>470</th>\n",
       "      <td>1470</td>\n",
       "      <td>23</td>\n",
       "      <td>NaN</td>\n",
       "      <td>Новокузнецк</td>\n",
       "      <td>Эллада</td>\n",
       "      <td>Лосева</td>\n",
       "      <td>2018-10-19</td>\n",
       "      <td>smart</td>\n",
       "    </tr>\n",
       "    <tr>\n",
       "      <th>99</th>\n",
       "      <td>1099</td>\n",
       "      <td>67</td>\n",
       "      <td>NaN</td>\n",
       "      <td>Тольятти</td>\n",
       "      <td>Аюна</td>\n",
       "      <td>Сергеева</td>\n",
       "      <td>2018-03-16</td>\n",
       "      <td>ultra</td>\n",
       "    </tr>\n",
       "    <tr>\n",
       "      <th>104</th>\n",
       "      <td>1104</td>\n",
       "      <td>60</td>\n",
       "      <td>NaN</td>\n",
       "      <td>Нижний Тагил</td>\n",
       "      <td>Габриэль</td>\n",
       "      <td>Поляков</td>\n",
       "      <td>2018-02-21</td>\n",
       "      <td>ultra</td>\n",
       "    </tr>\n",
       "    <tr>\n",
       "      <th>226</th>\n",
       "      <td>1226</td>\n",
       "      <td>19</td>\n",
       "      <td>NaN</td>\n",
       "      <td>Новосибирск</td>\n",
       "      <td>Альбин</td>\n",
       "      <td>Бобылёв</td>\n",
       "      <td>2018-06-01</td>\n",
       "      <td>ultra</td>\n",
       "    </tr>\n",
       "    <tr>\n",
       "      <th>20</th>\n",
       "      <td>1020</td>\n",
       "      <td>59</td>\n",
       "      <td>2018-12-18</td>\n",
       "      <td>Чита</td>\n",
       "      <td>Тала</td>\n",
       "      <td>Костина</td>\n",
       "      <td>2018-10-22</td>\n",
       "      <td>smart</td>\n",
       "    </tr>\n",
       "    <tr>\n",
       "      <th>204</th>\n",
       "      <td>1204</td>\n",
       "      <td>18</td>\n",
       "      <td>NaN</td>\n",
       "      <td>Москва</td>\n",
       "      <td>Мирослава</td>\n",
       "      <td>Лазарева</td>\n",
       "      <td>2018-01-04</td>\n",
       "      <td>smart</td>\n",
       "    </tr>\n",
       "    <tr>\n",
       "      <th>83</th>\n",
       "      <td>1083</td>\n",
       "      <td>24</td>\n",
       "      <td>NaN</td>\n",
       "      <td>Сочи</td>\n",
       "      <td>Рустэм</td>\n",
       "      <td>Галкин</td>\n",
       "      <td>2018-04-24</td>\n",
       "      <td>smart</td>\n",
       "    </tr>\n",
       "    <tr>\n",
       "      <th>230</th>\n",
       "      <td>1230</td>\n",
       "      <td>44</td>\n",
       "      <td>NaN</td>\n",
       "      <td>Томск</td>\n",
       "      <td>Ренальд</td>\n",
       "      <td>Капустин</td>\n",
       "      <td>2018-09-15</td>\n",
       "      <td>smart</td>\n",
       "    </tr>\n",
       "    <tr>\n",
       "      <th>191</th>\n",
       "      <td>1191</td>\n",
       "      <td>64</td>\n",
       "      <td>2018-10-03</td>\n",
       "      <td>Набережные Челны</td>\n",
       "      <td>Александр</td>\n",
       "      <td>Акиндинов</td>\n",
       "      <td>2018-06-30</td>\n",
       "      <td>smart</td>\n",
       "    </tr>\n",
       "    <tr>\n",
       "      <th>60</th>\n",
       "      <td>1060</td>\n",
       "      <td>46</td>\n",
       "      <td>NaN</td>\n",
       "      <td>Калуга</td>\n",
       "      <td>Яков</td>\n",
       "      <td>Рудаков</td>\n",
       "      <td>2018-11-24</td>\n",
       "      <td>ultra</td>\n",
       "    </tr>\n",
       "  </tbody>\n",
       "</table>\n",
       "</div>"
      ],
      "text/plain": [
       "     user_id  age  churn_date              city first_name  last_name  \\\n",
       "470     1470   23         NaN       Новокузнецк     Эллада     Лосева   \n",
       "99      1099   67         NaN          Тольятти       Аюна   Сергеева   \n",
       "104     1104   60         NaN      Нижний Тагил   Габриэль    Поляков   \n",
       "226     1226   19         NaN       Новосибирск     Альбин    Бобылёв   \n",
       "20      1020   59  2018-12-18              Чита       Тала    Костина   \n",
       "204     1204   18         NaN            Москва  Мирослава   Лазарева   \n",
       "83      1083   24         NaN              Сочи     Рустэм     Галкин   \n",
       "230     1230   44         NaN             Томск    Ренальд   Капустин   \n",
       "191     1191   64  2018-10-03  Набережные Челны  Александр  Акиндинов   \n",
       "60      1060   46         NaN            Калуга       Яков    Рудаков   \n",
       "\n",
       "       reg_date tariff  \n",
       "470  2018-10-19  smart  \n",
       "99   2018-03-16  ultra  \n",
       "104  2018-02-21  ultra  \n",
       "226  2018-06-01  ultra  \n",
       "20   2018-10-22  smart  \n",
       "204  2018-01-04  smart  \n",
       "83   2018-04-24  smart  \n",
       "230  2018-09-15  smart  \n",
       "191  2018-06-30  smart  \n",
       "60   2018-11-24  ultra  "
      ]
     },
     "execution_count": 3,
     "metadata": {},
     "output_type": "execute_result"
    }
   ],
   "source": [
    "users.info() #Посмотрим основные характеристики таблицы.\n",
    "users.sample(10)"
   ]
  },
  {
   "cell_type": "markdown",
   "metadata": {},
   "source": [
    "**Таблица calls (информация о звонках):**  \n",
    "id — уникальный номер звонка  \n",
    "call_date — дата звонка  \n",
    "duration — длительность звонка в минутах  \n",
    "user_id — идентификатор пользователя, сделавшего звонок  \n"
   ]
  },
  {
   "cell_type": "code",
   "execution_count": 4,
   "metadata": {},
   "outputs": [
    {
     "name": "stdout",
     "output_type": "stream",
     "text": [
      "<class 'pandas.core.frame.DataFrame'>\n",
      "RangeIndex: 202607 entries, 0 to 202606\n",
      "Data columns (total 4 columns):\n",
      " #   Column     Non-Null Count   Dtype  \n",
      "---  ------     --------------   -----  \n",
      " 0   id         202607 non-null  object \n",
      " 1   call_date  202607 non-null  object \n",
      " 2   duration   202607 non-null  float64\n",
      " 3   user_id    202607 non-null  int64  \n",
      "dtypes: float64(1), int64(1), object(2)\n",
      "memory usage: 6.2+ MB\n"
     ]
    },
    {
     "data": {
      "text/html": [
       "<div>\n",
       "<style scoped>\n",
       "    .dataframe tbody tr th:only-of-type {\n",
       "        vertical-align: middle;\n",
       "    }\n",
       "\n",
       "    .dataframe tbody tr th {\n",
       "        vertical-align: top;\n",
       "    }\n",
       "\n",
       "    .dataframe thead th {\n",
       "        text-align: right;\n",
       "    }\n",
       "</style>\n",
       "<table border=\"1\" class=\"dataframe\">\n",
       "  <thead>\n",
       "    <tr style=\"text-align: right;\">\n",
       "      <th></th>\n",
       "      <th>id</th>\n",
       "      <th>call_date</th>\n",
       "      <th>duration</th>\n",
       "      <th>user_id</th>\n",
       "    </tr>\n",
       "  </thead>\n",
       "  <tbody>\n",
       "    <tr>\n",
       "      <th>71182</th>\n",
       "      <td>1177_362</td>\n",
       "      <td>2018-07-23</td>\n",
       "      <td>4.46</td>\n",
       "      <td>1177</td>\n",
       "    </tr>\n",
       "    <tr>\n",
       "      <th>69531</th>\n",
       "      <td>1174_571</td>\n",
       "      <td>2018-05-29</td>\n",
       "      <td>2.96</td>\n",
       "      <td>1174</td>\n",
       "    </tr>\n",
       "    <tr>\n",
       "      <th>21610</th>\n",
       "      <td>1057_59</td>\n",
       "      <td>2018-09-19</td>\n",
       "      <td>0.00</td>\n",
       "      <td>1057</td>\n",
       "    </tr>\n",
       "    <tr>\n",
       "      <th>24193</th>\n",
       "      <td>1061_273</td>\n",
       "      <td>2018-08-13</td>\n",
       "      <td>13.58</td>\n",
       "      <td>1061</td>\n",
       "    </tr>\n",
       "    <tr>\n",
       "      <th>25655</th>\n",
       "      <td>1064_264</td>\n",
       "      <td>2018-08-20</td>\n",
       "      <td>11.41</td>\n",
       "      <td>1064</td>\n",
       "    </tr>\n",
       "    <tr>\n",
       "      <th>59971</th>\n",
       "      <td>1150_281</td>\n",
       "      <td>2018-11-08</td>\n",
       "      <td>0.00</td>\n",
       "      <td>1150</td>\n",
       "    </tr>\n",
       "    <tr>\n",
       "      <th>30715</th>\n",
       "      <td>1078_59</td>\n",
       "      <td>2018-09-13</td>\n",
       "      <td>18.74</td>\n",
       "      <td>1078</td>\n",
       "    </tr>\n",
       "    <tr>\n",
       "      <th>64228</th>\n",
       "      <td>1164_381</td>\n",
       "      <td>2018-04-14</td>\n",
       "      <td>7.50</td>\n",
       "      <td>1164</td>\n",
       "    </tr>\n",
       "    <tr>\n",
       "      <th>126496</th>\n",
       "      <td>1324_629</td>\n",
       "      <td>2018-11-11</td>\n",
       "      <td>7.40</td>\n",
       "      <td>1324</td>\n",
       "    </tr>\n",
       "    <tr>\n",
       "      <th>52906</th>\n",
       "      <td>1133_171</td>\n",
       "      <td>2018-12-18</td>\n",
       "      <td>8.11</td>\n",
       "      <td>1133</td>\n",
       "    </tr>\n",
       "  </tbody>\n",
       "</table>\n",
       "</div>"
      ],
      "text/plain": [
       "              id   call_date  duration  user_id\n",
       "71182   1177_362  2018-07-23      4.46     1177\n",
       "69531   1174_571  2018-05-29      2.96     1174\n",
       "21610    1057_59  2018-09-19      0.00     1057\n",
       "24193   1061_273  2018-08-13     13.58     1061\n",
       "25655   1064_264  2018-08-20     11.41     1064\n",
       "59971   1150_281  2018-11-08      0.00     1150\n",
       "30715    1078_59  2018-09-13     18.74     1078\n",
       "64228   1164_381  2018-04-14      7.50     1164\n",
       "126496  1324_629  2018-11-11      7.40     1324\n",
       "52906   1133_171  2018-12-18      8.11     1133"
      ]
     },
     "execution_count": 4,
     "metadata": {},
     "output_type": "execute_result"
    }
   ],
   "source": [
    "calls.info() #Посмотрим основные характеристики таблицы.\n",
    "calls.sample(10)"
   ]
  },
  {
   "cell_type": "markdown",
   "metadata": {},
   "source": [
    "**Таблица messages (информация о сообщениях):**  \n",
    "id — уникальный номер сообщения  \n",
    "message_date — дата сообщения  \n",
    "user_id — идентификатор пользователя, отправившего сообщение  "
   ]
  },
  {
   "cell_type": "code",
   "execution_count": 5,
   "metadata": {},
   "outputs": [
    {
     "name": "stdout",
     "output_type": "stream",
     "text": [
      "<class 'pandas.core.frame.DataFrame'>\n",
      "RangeIndex: 123036 entries, 0 to 123035\n",
      "Data columns (total 3 columns):\n",
      " #   Column        Non-Null Count   Dtype \n",
      "---  ------        --------------   ----- \n",
      " 0   id            123036 non-null  object\n",
      " 1   message_date  123036 non-null  object\n",
      " 2   user_id       123036 non-null  int64 \n",
      "dtypes: int64(1), object(2)\n",
      "memory usage: 2.8+ MB\n"
     ]
    },
    {
     "data": {
      "text/html": [
       "<div>\n",
       "<style scoped>\n",
       "    .dataframe tbody tr th:only-of-type {\n",
       "        vertical-align: middle;\n",
       "    }\n",
       "\n",
       "    .dataframe tbody tr th {\n",
       "        vertical-align: top;\n",
       "    }\n",
       "\n",
       "    .dataframe thead th {\n",
       "        text-align: right;\n",
       "    }\n",
       "</style>\n",
       "<table border=\"1\" class=\"dataframe\">\n",
       "  <thead>\n",
       "    <tr style=\"text-align: right;\">\n",
       "      <th></th>\n",
       "      <th>id</th>\n",
       "      <th>message_date</th>\n",
       "      <th>user_id</th>\n",
       "    </tr>\n",
       "  </thead>\n",
       "  <tbody>\n",
       "    <tr>\n",
       "      <th>65729</th>\n",
       "      <td>1282_161</td>\n",
       "      <td>2018-08-27</td>\n",
       "      <td>1282</td>\n",
       "    </tr>\n",
       "    <tr>\n",
       "      <th>48349</th>\n",
       "      <td>1214_148</td>\n",
       "      <td>2018-08-04</td>\n",
       "      <td>1214</td>\n",
       "    </tr>\n",
       "    <tr>\n",
       "      <th>102812</th>\n",
       "      <td>1419_101</td>\n",
       "      <td>2018-11-19</td>\n",
       "      <td>1419</td>\n",
       "    </tr>\n",
       "    <tr>\n",
       "      <th>62963</th>\n",
       "      <td>1274_549</td>\n",
       "      <td>2018-06-10</td>\n",
       "      <td>1274</td>\n",
       "    </tr>\n",
       "    <tr>\n",
       "      <th>87930</th>\n",
       "      <td>1366_189</td>\n",
       "      <td>2018-09-27</td>\n",
       "      <td>1366</td>\n",
       "    </tr>\n",
       "    <tr>\n",
       "      <th>59182</th>\n",
       "      <td>1259_49</td>\n",
       "      <td>2018-11-06</td>\n",
       "      <td>1259</td>\n",
       "    </tr>\n",
       "    <tr>\n",
       "      <th>81415</th>\n",
       "      <td>1341_269</td>\n",
       "      <td>2018-08-02</td>\n",
       "      <td>1341</td>\n",
       "    </tr>\n",
       "    <tr>\n",
       "      <th>63797</th>\n",
       "      <td>1277_474</td>\n",
       "      <td>2018-07-24</td>\n",
       "      <td>1277</td>\n",
       "    </tr>\n",
       "    <tr>\n",
       "      <th>96484</th>\n",
       "      <td>1396_135</td>\n",
       "      <td>2018-08-22</td>\n",
       "      <td>1396</td>\n",
       "    </tr>\n",
       "    <tr>\n",
       "      <th>96757</th>\n",
       "      <td>1396_408</td>\n",
       "      <td>2018-03-05</td>\n",
       "      <td>1396</td>\n",
       "    </tr>\n",
       "  </tbody>\n",
       "</table>\n",
       "</div>"
      ],
      "text/plain": [
       "              id message_date  user_id\n",
       "65729   1282_161   2018-08-27     1282\n",
       "48349   1214_148   2018-08-04     1214\n",
       "102812  1419_101   2018-11-19     1419\n",
       "62963   1274_549   2018-06-10     1274\n",
       "87930   1366_189   2018-09-27     1366\n",
       "59182    1259_49   2018-11-06     1259\n",
       "81415   1341_269   2018-08-02     1341\n",
       "63797   1277_474   2018-07-24     1277\n",
       "96484   1396_135   2018-08-22     1396\n",
       "96757   1396_408   2018-03-05     1396"
      ]
     },
     "execution_count": 5,
     "metadata": {},
     "output_type": "execute_result"
    }
   ],
   "source": [
    "messages.info() #Посмотрим основные характеристики таблицы.\n",
    "messages.sample(10)"
   ]
  },
  {
   "cell_type": "markdown",
   "metadata": {},
   "source": [
    "**Таблица internet (информация об интернет-сессиях):**  \n",
    "id — уникальный номер сессии  \n",
    "mb_used — объём потраченного за сессию интернет-трафика (в мегабайтах)  \n",
    "session_date — дата интернет-сессии  \n",
    "user_id — идентификатор пользователя  "
   ]
  },
  {
   "cell_type": "code",
   "execution_count": 6,
   "metadata": {},
   "outputs": [
    {
     "name": "stdout",
     "output_type": "stream",
     "text": [
      "<class 'pandas.core.frame.DataFrame'>\n",
      "RangeIndex: 149396 entries, 0 to 149395\n",
      "Data columns (total 5 columns):\n",
      " #   Column        Non-Null Count   Dtype  \n",
      "---  ------        --------------   -----  \n",
      " 0   Unnamed: 0    149396 non-null  int64  \n",
      " 1   id            149396 non-null  object \n",
      " 2   mb_used       149396 non-null  float64\n",
      " 3   session_date  149396 non-null  object \n",
      " 4   user_id       149396 non-null  int64  \n",
      "dtypes: float64(1), int64(2), object(2)\n",
      "memory usage: 5.7+ MB\n"
     ]
    },
    {
     "data": {
      "text/html": [
       "<div>\n",
       "<style scoped>\n",
       "    .dataframe tbody tr th:only-of-type {\n",
       "        vertical-align: middle;\n",
       "    }\n",
       "\n",
       "    .dataframe tbody tr th {\n",
       "        vertical-align: top;\n",
       "    }\n",
       "\n",
       "    .dataframe thead th {\n",
       "        text-align: right;\n",
       "    }\n",
       "</style>\n",
       "<table border=\"1\" class=\"dataframe\">\n",
       "  <thead>\n",
       "    <tr style=\"text-align: right;\">\n",
       "      <th></th>\n",
       "      <th>Unnamed: 0</th>\n",
       "      <th>id</th>\n",
       "      <th>mb_used</th>\n",
       "      <th>session_date</th>\n",
       "      <th>user_id</th>\n",
       "    </tr>\n",
       "  </thead>\n",
       "  <tbody>\n",
       "    <tr>\n",
       "      <th>66155</th>\n",
       "      <td>66155</td>\n",
       "      <td>1225_276</td>\n",
       "      <td>634.37</td>\n",
       "      <td>2018-08-31</td>\n",
       "      <td>1225</td>\n",
       "    </tr>\n",
       "    <tr>\n",
       "      <th>138109</th>\n",
       "      <td>138109</td>\n",
       "      <td>1464_333</td>\n",
       "      <td>417.95</td>\n",
       "      <td>2018-10-31</td>\n",
       "      <td>1464</td>\n",
       "    </tr>\n",
       "    <tr>\n",
       "      <th>39822</th>\n",
       "      <td>39822</td>\n",
       "      <td>1140_2</td>\n",
       "      <td>307.81</td>\n",
       "      <td>2018-12-31</td>\n",
       "      <td>1140</td>\n",
       "    </tr>\n",
       "    <tr>\n",
       "      <th>108980</th>\n",
       "      <td>108980</td>\n",
       "      <td>1372_348</td>\n",
       "      <td>604.72</td>\n",
       "      <td>2018-11-27</td>\n",
       "      <td>1372</td>\n",
       "    </tr>\n",
       "    <tr>\n",
       "      <th>38915</th>\n",
       "      <td>38915</td>\n",
       "      <td>1135_395</td>\n",
       "      <td>443.48</td>\n",
       "      <td>2018-06-17</td>\n",
       "      <td>1135</td>\n",
       "    </tr>\n",
       "    <tr>\n",
       "      <th>76431</th>\n",
       "      <td>76431</td>\n",
       "      <td>1256_136</td>\n",
       "      <td>394.60</td>\n",
       "      <td>2018-11-07</td>\n",
       "      <td>1256</td>\n",
       "    </tr>\n",
       "    <tr>\n",
       "      <th>92588</th>\n",
       "      <td>92588</td>\n",
       "      <td>1313_109</td>\n",
       "      <td>325.02</td>\n",
       "      <td>2018-11-06</td>\n",
       "      <td>1313</td>\n",
       "    </tr>\n",
       "    <tr>\n",
       "      <th>65928</th>\n",
       "      <td>65928</td>\n",
       "      <td>1225_49</td>\n",
       "      <td>443.91</td>\n",
       "      <td>2018-06-19</td>\n",
       "      <td>1225</td>\n",
       "    </tr>\n",
       "    <tr>\n",
       "      <th>140651</th>\n",
       "      <td>140651</td>\n",
       "      <td>1472_325</td>\n",
       "      <td>191.95</td>\n",
       "      <td>2018-04-16</td>\n",
       "      <td>1472</td>\n",
       "    </tr>\n",
       "    <tr>\n",
       "      <th>69964</th>\n",
       "      <td>69964</td>\n",
       "      <td>1238_556</td>\n",
       "      <td>405.83</td>\n",
       "      <td>2018-07-28</td>\n",
       "      <td>1238</td>\n",
       "    </tr>\n",
       "  </tbody>\n",
       "</table>\n",
       "</div>"
      ],
      "text/plain": [
       "        Unnamed: 0        id  mb_used session_date  user_id\n",
       "66155        66155  1225_276   634.37   2018-08-31     1225\n",
       "138109      138109  1464_333   417.95   2018-10-31     1464\n",
       "39822        39822    1140_2   307.81   2018-12-31     1140\n",
       "108980      108980  1372_348   604.72   2018-11-27     1372\n",
       "38915        38915  1135_395   443.48   2018-06-17     1135\n",
       "76431        76431  1256_136   394.60   2018-11-07     1256\n",
       "92588        92588  1313_109   325.02   2018-11-06     1313\n",
       "65928        65928   1225_49   443.91   2018-06-19     1225\n",
       "140651      140651  1472_325   191.95   2018-04-16     1472\n",
       "69964        69964  1238_556   405.83   2018-07-28     1238"
      ]
     },
     "execution_count": 6,
     "metadata": {},
     "output_type": "execute_result"
    }
   ],
   "source": [
    "internet.info() #Посмотрим основные характеристики таблицы.\n",
    "internet.sample(10)"
   ]
  },
  {
   "cell_type": "markdown",
   "metadata": {},
   "source": [
    "**Таблица tariffs (информация о тарифах):**  \n",
    "tariff_name — название тарифа  \n",
    "rub_monthly_fee — ежемесячная абонентская плата в рублях  \n",
    "minutes_included — количество минут разговора в месяц, включённых в абонентскую плату  \n",
    "messages_included — количество сообщений в месяц, включённых в абонентскую плату  \n",
    "mb_per_month_included — объём интернет-трафика, включённого в абонентскую плату (в мегабайтах)  \n",
    "rub_per_minute — стоимость минуты разговора сверх тарифного пакета (например, если в тарифе 100 минут разговора в месяц, то со 101 минуты будет взиматься плата)  \n",
    "rub_per_message — стоимость отправки сообщения сверх тарифного пакета  \n",
    "rub_per_gb — стоимость дополнительного гигабайта интернет-трафика сверх тарифного пакета (1 гигабайт = 1024 мегабайта)  "
   ]
  },
  {
   "cell_type": "code",
   "execution_count": 7,
   "metadata": {},
   "outputs": [
    {
     "name": "stdout",
     "output_type": "stream",
     "text": [
      "<class 'pandas.core.frame.DataFrame'>\n",
      "RangeIndex: 2 entries, 0 to 1\n",
      "Data columns (total 8 columns):\n",
      " #   Column                 Non-Null Count  Dtype \n",
      "---  ------                 --------------  ----- \n",
      " 0   messages_included      2 non-null      int64 \n",
      " 1   mb_per_month_included  2 non-null      int64 \n",
      " 2   minutes_included       2 non-null      int64 \n",
      " 3   rub_monthly_fee        2 non-null      int64 \n",
      " 4   rub_per_gb             2 non-null      int64 \n",
      " 5   rub_per_message        2 non-null      int64 \n",
      " 6   rub_per_minute         2 non-null      int64 \n",
      " 7   tariff_name            2 non-null      object\n",
      "dtypes: int64(7), object(1)\n",
      "memory usage: 256.0+ bytes\n"
     ]
    },
    {
     "data": {
      "text/html": [
       "<div>\n",
       "<style scoped>\n",
       "    .dataframe tbody tr th:only-of-type {\n",
       "        vertical-align: middle;\n",
       "    }\n",
       "\n",
       "    .dataframe tbody tr th {\n",
       "        vertical-align: top;\n",
       "    }\n",
       "\n",
       "    .dataframe thead th {\n",
       "        text-align: right;\n",
       "    }\n",
       "</style>\n",
       "<table border=\"1\" class=\"dataframe\">\n",
       "  <thead>\n",
       "    <tr style=\"text-align: right;\">\n",
       "      <th></th>\n",
       "      <th>messages_included</th>\n",
       "      <th>mb_per_month_included</th>\n",
       "      <th>minutes_included</th>\n",
       "      <th>rub_monthly_fee</th>\n",
       "      <th>rub_per_gb</th>\n",
       "      <th>rub_per_message</th>\n",
       "      <th>rub_per_minute</th>\n",
       "      <th>tariff_name</th>\n",
       "    </tr>\n",
       "  </thead>\n",
       "  <tbody>\n",
       "    <tr>\n",
       "      <th>0</th>\n",
       "      <td>50</td>\n",
       "      <td>15360</td>\n",
       "      <td>500</td>\n",
       "      <td>550</td>\n",
       "      <td>200</td>\n",
       "      <td>3</td>\n",
       "      <td>3</td>\n",
       "      <td>smart</td>\n",
       "    </tr>\n",
       "    <tr>\n",
       "      <th>1</th>\n",
       "      <td>1000</td>\n",
       "      <td>30720</td>\n",
       "      <td>3000</td>\n",
       "      <td>1950</td>\n",
       "      <td>150</td>\n",
       "      <td>1</td>\n",
       "      <td>1</td>\n",
       "      <td>ultra</td>\n",
       "    </tr>\n",
       "  </tbody>\n",
       "</table>\n",
       "</div>"
      ],
      "text/plain": [
       "   messages_included  mb_per_month_included  minutes_included  \\\n",
       "0                 50                  15360               500   \n",
       "1               1000                  30720              3000   \n",
       "\n",
       "   rub_monthly_fee  rub_per_gb  rub_per_message  rub_per_minute tariff_name  \n",
       "0              550         200                3               3       smart  \n",
       "1             1950         150                1               1       ultra  "
      ]
     },
     "execution_count": 7,
     "metadata": {},
     "output_type": "execute_result"
    }
   ],
   "source": [
    "tariffs.info() #Посмотрим основные характеристики таблицы.\n",
    "tariffs"
   ]
  },
  {
   "cell_type": "markdown",
   "metadata": {},
   "source": [
    "## Предобработка данных"
   ]
  },
  {
   "cell_type": "markdown",
   "metadata": {},
   "source": [
    "Данные были проверены на наличие пропусков и дубликатов. Пропуски были найдены только в столбце churn_date в таблице users. Данные пропуские не нужно удалять, так как пропуски в данном случае свидетельствуют о том, что клиент еще пользуется тарифом. Так как данные предоставлены только за 2018 год, заменим пропуски в данном столбце последним днем года. Дубликатов в данных нет."
   ]
  },
  {
   "cell_type": "code",
   "execution_count": 8,
   "metadata": {},
   "outputs": [],
   "source": [
    "#Проверяем на наличие пропусков.\n",
    "#users.isna().sum()\n",
    "#calls.isna().sum()\n",
    "#messages.isna().sum()\n",
    "#internet.isna().sum()\n",
    "#tariffs.isna().sum()\n",
    "\n",
    "users['churn_date'] = users['churn_date'].fillna('2018-12-31')\n",
    "\n",
    "#Проверяем на наличие дубликатов.\n",
    "#users.duplicated().sum()\n",
    "#calls.duplicated().sum()\n",
    "#messages.duplicated().sum()\n",
    "#internet.duplicated().sum()\n",
    "#tariffs.duplicated().sum()"
   ]
  },
  {
   "cell_type": "markdown",
   "metadata": {},
   "source": [
    "В таблице internet был обнаружен лишний не заявленный столбец - дополнительный столбец с индексами, данный столбец необходимо удалить."
   ]
  },
  {
   "cell_type": "code",
   "execution_count": 9,
   "metadata": {},
   "outputs": [],
   "source": [
    "internet.columns\n",
    "del internet['Unnamed: 0']"
   ]
  },
  {
   "cell_type": "markdown",
   "metadata": {},
   "source": [
    "Приведем все значения дат в данных к типу datetime."
   ]
  },
  {
   "cell_type": "code",
   "execution_count": 10,
   "metadata": {},
   "outputs": [],
   "source": [
    "users['reg_date'] = pd.to_datetime(users['reg_date'], format='%Y.%m.%d')\n",
    "users['churn_date'] = pd.to_datetime(users['churn_date'], format='%Y.%m.%d')\n",
    "calls['call_date'] = pd.to_datetime(calls['call_date'], format='%Y.%m.%d')\n",
    "messages['message_date'] = pd.to_datetime(messages['message_date'], format='%Y.%m.%d')\n",
    "internet['session_date'] = pd.to_datetime(internet['session_date'], format='%Y.%m.%d')"
   ]
  },
  {
   "cell_type": "markdown",
   "metadata": {},
   "source": [
    "Округлим данные по потраченным минутам."
   ]
  },
  {
   "cell_type": "code",
   "execution_count": 11,
   "metadata": {},
   "outputs": [],
   "source": [
    "calls['duration'] = np.ceil(calls['duration'])"
   ]
  },
  {
   "cell_type": "markdown",
   "metadata": {},
   "source": [
    "Посчитаем, сколько каждым клиентом было сделано звонков и отправлено сообщений, потрачено минут и мегабайт интернет-трафика за каждый месяц. Добавим полученные данные в таблицу users_monthly. Переведем мб, потраченные за месяц, в гб и округлим."
   ]
  },
  {
   "cell_type": "code",
   "execution_count": 12,
   "metadata": {},
   "outputs": [],
   "source": [
    "calls['month'] = calls['call_date'].dt.month\n",
    "messages['month'] = messages['message_date'].dt.month\n",
    "internet['month'] = internet['session_date'].dt.month"
   ]
  },
  {
   "cell_type": "code",
   "execution_count": 13,
   "metadata": {},
   "outputs": [],
   "source": [
    "#Создаем таблицу с количеством минут, потраченных клиентом за год по месяцам.\n",
    "users_duration = calls.pivot_table(index = ['user_id', 'month'], values = 'duration', aggfunc = 'sum')\n",
    "#Создаем таблицу с количеством звонков, сделанных клиентом за год по месяцам.\n",
    "users_calls = calls.pivot_table(index = ['user_id', 'month'], values = 'call_date', aggfunc = 'count')\n",
    "#Создаем таблицу с количеством сообщений, отправленных клиентом за год по месяцам.\n",
    "users_messages = messages.pivot_table(index = ['user_id', 'month'], values = 'message_date', aggfunc = 'count')\n",
    "#Создаем таблицу с объемом интернет-трафика, израсходованного клиентом за год по месяцам.\n",
    "users_internet = internet.pivot_table(index = ['user_id', 'month'], values = 'mb_used', aggfunc = 'sum')\n",
    "#Переводим мб в гб и округляем.\n",
    "users_internet['mb_used'] = np.ceil(users_internet['mb_used'] / 1024)"
   ]
  },
  {
   "cell_type": "code",
   "execution_count": 14,
   "metadata": {},
   "outputs": [],
   "source": [
    "#Создаем общую таблицу.\n",
    "users_monthly = users_duration.merge(users_calls, on=['user_id', 'month'], how='outer')\n",
    "users_monthly = users_monthly.merge(users_messages, on=['user_id', 'month'], how='outer')\n",
    "users_monthly = users_monthly.merge(users_internet, on=['user_id', 'month'], how='outer')\n",
    "users_monthly.rename(columns={'duration': 'minutes', 'call_date': 'calls', 'message_date': 'messages', 'mb_used':'gb_used'}, inplace=True)\n",
    "#Соединим с информацией из таблицы users.\n",
    "users_monthly = users_monthly.reset_index()\n",
    "users_monthly = users_monthly.merge(users, on='user_id', how='outer')\n",
    "#Избавимся от пропусков.\n",
    "users_monthly = users_monthly.fillna(0)"
   ]
  },
  {
   "cell_type": "markdown",
   "metadata": {},
   "source": [
    "\n",
    "Комментарий от студента  \n",
    "Округлила минуты и перевела мб в гб и округлила. Сделала другую таблицу - users_monthly - с помесячными данными. Когда я мерджила таблицы, у меня почему-то пропал столбец месяц, с номером месяца пользования. Понимаю,что в данном проекте это не играет роли, но куда он убежал, и что с этим делать? По-разному пробовала склеивать, всегда убегает."
   ]
  },
  {
   "cell_type": "code",
   "execution_count": 15,
   "metadata": {},
   "outputs": [
    {
     "name": "stdout",
     "output_type": "stream",
     "text": [
      "<class 'pandas.core.frame.DataFrame'>\n",
      "Int64Index: 3216 entries, 0 to 3215\n",
      "Data columns (total 13 columns):\n",
      " #   Column      Non-Null Count  Dtype         \n",
      "---  ------      --------------  -----         \n",
      " 0   user_id     3216 non-null   int64         \n",
      " 1   month       3216 non-null   float64       \n",
      " 2   minutes     3216 non-null   float64       \n",
      " 3   calls       3216 non-null   float64       \n",
      " 4   messages    3216 non-null   float64       \n",
      " 5   gb_used     3216 non-null   float64       \n",
      " 6   age         3216 non-null   int64         \n",
      " 7   churn_date  3216 non-null   datetime64[ns]\n",
      " 8   city        3216 non-null   object        \n",
      " 9   first_name  3216 non-null   object        \n",
      " 10  last_name   3216 non-null   object        \n",
      " 11  reg_date    3216 non-null   datetime64[ns]\n",
      " 12  tariff      3216 non-null   object        \n",
      "dtypes: datetime64[ns](2), float64(5), int64(2), object(4)\n",
      "memory usage: 351.8+ KB\n"
     ]
    }
   ],
   "source": [
    "# check\n",
    "users_monthly.info()"
   ]
  },
  {
   "cell_type": "markdown",
   "metadata": {},
   "source": [
    "Сделаем две новых таблицы: с пользователями тарифа 'smart' и пользователями тарифа 'ultra'."
   ]
  },
  {
   "cell_type": "code",
   "execution_count": 16,
   "metadata": {},
   "outputs": [],
   "source": [
    "users_smart = users_monthly.query('tariff == \"smart\"').copy()\n",
    "users_ultra = users_monthly.query('tariff == \"ultra\"').copy()"
   ]
  },
  {
   "cell_type": "markdown",
   "metadata": {},
   "source": [
    "Посчитаем помесячную выручку с каждого пользователя по тарифам, добавим по столбцу с выручкой в таблицы с пользователям по тарифам."
   ]
  },
  {
   "cell_type": "code",
   "execution_count": 17,
   "metadata": {},
   "outputs": [],
   "source": [
    "def month_profit_smart(row):\n",
    "    month_profit = 550\n",
    "    if row['minutes'] > 500:\n",
    "        month_profit += (row['minutes'] - 500)*3\n",
    "    if row['messages'] > 50:\n",
    "        month_profit += (row['messages'] - 50)*3\n",
    "    if row['gb_used'] > 15360 / 1024:\n",
    "        month_profit += np.ceil((row['gb_used'] - 15360 / 1024))*200\n",
    "    return month_profit\n",
    "users_smart['month_profit'] = users_smart.apply(month_profit_smart, axis=1)\n",
    "def month_profit_ultra(row):\n",
    "    month_profit = 1950\n",
    "    if row['minutes'] > 3000:\n",
    "        month_profit += (row['minutes'] - 3000)*1\n",
    "    if row['messages'] > 1000:\n",
    "        month_profit += (row['messages'] - 1000)*1\n",
    "    if row['gb_used'] > 30720 / 1024:\n",
    "        month_profit += np.ceil((row['gb_used'] - 30720 / 1024))*150\n",
    "    return month_profit\n",
    "users_ultra['month_profit'] = users_ultra.apply(month_profit_ultra, axis=1)"
   ]
  },
  {
   "cell_type": "code",
   "execution_count": 18,
   "metadata": {},
   "outputs": [],
   "source": [
    "# # check\n",
    "# (20480 - 15360)*1.2"
   ]
  },
  {
   "cell_type": "code",
   "execution_count": 19,
   "metadata": {},
   "outputs": [],
   "source": [
    "# # check\n",
    "# np.ceil( (20480 - 15360) / 1024 )*200"
   ]
  },
  {
   "cell_type": "code",
   "execution_count": 20,
   "metadata": {
    "scrolled": true
   },
   "outputs": [
    {
     "data": {
      "text/html": [
       "<div>\n",
       "<style scoped>\n",
       "    .dataframe tbody tr th:only-of-type {\n",
       "        vertical-align: middle;\n",
       "    }\n",
       "\n",
       "    .dataframe tbody tr th {\n",
       "        vertical-align: top;\n",
       "    }\n",
       "\n",
       "    .dataframe thead th {\n",
       "        text-align: right;\n",
       "    }\n",
       "</style>\n",
       "<table border=\"1\" class=\"dataframe\">\n",
       "  <thead>\n",
       "    <tr style=\"text-align: right;\">\n",
       "      <th></th>\n",
       "      <th>messages_included</th>\n",
       "      <th>mb_per_month_included</th>\n",
       "      <th>minutes_included</th>\n",
       "      <th>rub_monthly_fee</th>\n",
       "      <th>rub_per_gb</th>\n",
       "      <th>rub_per_message</th>\n",
       "      <th>rub_per_minute</th>\n",
       "      <th>tariff_name</th>\n",
       "    </tr>\n",
       "  </thead>\n",
       "  <tbody>\n",
       "    <tr>\n",
       "      <th>0</th>\n",
       "      <td>50</td>\n",
       "      <td>15360</td>\n",
       "      <td>500</td>\n",
       "      <td>550</td>\n",
       "      <td>200</td>\n",
       "      <td>3</td>\n",
       "      <td>3</td>\n",
       "      <td>smart</td>\n",
       "    </tr>\n",
       "    <tr>\n",
       "      <th>1</th>\n",
       "      <td>1000</td>\n",
       "      <td>30720</td>\n",
       "      <td>3000</td>\n",
       "      <td>1950</td>\n",
       "      <td>150</td>\n",
       "      <td>1</td>\n",
       "      <td>1</td>\n",
       "      <td>ultra</td>\n",
       "    </tr>\n",
       "  </tbody>\n",
       "</table>\n",
       "</div>"
      ],
      "text/plain": [
       "   messages_included  mb_per_month_included  minutes_included  \\\n",
       "0                 50                  15360               500   \n",
       "1               1000                  30720              3000   \n",
       "\n",
       "   rub_monthly_fee  rub_per_gb  rub_per_message  rub_per_minute tariff_name  \n",
       "0              550         200                3               3       smart  \n",
       "1             1950         150                1               1       ultra  "
      ]
     },
     "execution_count": 20,
     "metadata": {},
     "output_type": "execute_result"
    }
   ],
   "source": [
    "tariffs"
   ]
  },
  {
   "cell_type": "code",
   "execution_count": 21,
   "metadata": {},
   "outputs": [
    {
     "data": {
      "text/plain": [
       "4916951.0"
      ]
     },
     "execution_count": 21,
     "metadata": {},
     "output_type": "execute_result"
    }
   ],
   "source": [
    "# check\n",
    "users_ultra['month_profit'].sum() + users_smart['month_profit'].sum()"
   ]
  },
  {
   "cell_type": "code",
   "execution_count": 22,
   "metadata": {},
   "outputs": [
    {
     "data": {
      "text/html": [
       "<div>\n",
       "<style scoped>\n",
       "    .dataframe tbody tr th:only-of-type {\n",
       "        vertical-align: middle;\n",
       "    }\n",
       "\n",
       "    .dataframe tbody tr th {\n",
       "        vertical-align: top;\n",
       "    }\n",
       "\n",
       "    .dataframe thead th {\n",
       "        text-align: right;\n",
       "    }\n",
       "</style>\n",
       "<table border=\"1\" class=\"dataframe\">\n",
       "  <thead>\n",
       "    <tr style=\"text-align: right;\">\n",
       "      <th></th>\n",
       "      <th>user_id</th>\n",
       "      <th>minutes</th>\n",
       "      <th>calls</th>\n",
       "      <th>messages</th>\n",
       "      <th>gb_used</th>\n",
       "      <th>reg_date</th>\n",
       "      <th>tariff</th>\n",
       "      <th>month_profit</th>\n",
       "    </tr>\n",
       "  </thead>\n",
       "  <tbody>\n",
       "    <tr>\n",
       "      <th>3149</th>\n",
       "      <td>1495</td>\n",
       "      <td>813.0</td>\n",
       "      <td>112.0</td>\n",
       "      <td>82.0</td>\n",
       "      <td>33.0</td>\n",
       "      <td>2018-08-28</td>\n",
       "      <td>ultra</td>\n",
       "      <td>2400.0</td>\n",
       "    </tr>\n",
       "    <tr>\n",
       "      <th>3150</th>\n",
       "      <td>1495</td>\n",
       "      <td>1030.0</td>\n",
       "      <td>152.0</td>\n",
       "      <td>82.0</td>\n",
       "      <td>29.0</td>\n",
       "      <td>2018-08-28</td>\n",
       "      <td>ultra</td>\n",
       "      <td>1950.0</td>\n",
       "    </tr>\n",
       "    <tr>\n",
       "      <th>3151</th>\n",
       "      <td>1495</td>\n",
       "      <td>954.0</td>\n",
       "      <td>129.0</td>\n",
       "      <td>79.0</td>\n",
       "      <td>39.0</td>\n",
       "      <td>2018-08-28</td>\n",
       "      <td>ultra</td>\n",
       "      <td>3300.0</td>\n",
       "    </tr>\n",
       "    <tr>\n",
       "      <th>3152</th>\n",
       "      <td>1495</td>\n",
       "      <td>1031.0</td>\n",
       "      <td>155.0</td>\n",
       "      <td>84.0</td>\n",
       "      <td>23.0</td>\n",
       "      <td>2018-08-28</td>\n",
       "      <td>ultra</td>\n",
       "      <td>1950.0</td>\n",
       "    </tr>\n",
       "  </tbody>\n",
       "</table>\n",
       "</div>"
      ],
      "text/plain": [
       "      user_id  minutes  calls  messages  gb_used   reg_date tariff  \\\n",
       "3149     1495    813.0  112.0      82.0     33.0 2018-08-28  ultra   \n",
       "3150     1495   1030.0  152.0      82.0     29.0 2018-08-28  ultra   \n",
       "3151     1495    954.0  129.0      79.0     39.0 2018-08-28  ultra   \n",
       "3152     1495   1031.0  155.0      84.0     23.0 2018-08-28  ultra   \n",
       "\n",
       "      month_profit  \n",
       "3149        2400.0  \n",
       "3150        1950.0  \n",
       "3151        3300.0  \n",
       "3152        1950.0  "
      ]
     },
     "execution_count": 22,
     "metadata": {},
     "output_type": "execute_result"
    }
   ],
   "source": [
    "# check\n",
    "users_ultra[users_ultra['minutes'] > 500][['user_id', 'minutes', 'calls', 'messages', 'gb_used', 'reg_date', 'tariff',\n",
    "       'month_profit']].tail(4)"
   ]
  },
  {
   "cell_type": "code",
   "execution_count": 23,
   "metadata": {},
   "outputs": [
    {
     "data": {
      "text/html": [
       "<div>\n",
       "<style scoped>\n",
       "    .dataframe tbody tr th:only-of-type {\n",
       "        vertical-align: middle;\n",
       "    }\n",
       "\n",
       "    .dataframe tbody tr th {\n",
       "        vertical-align: top;\n",
       "    }\n",
       "\n",
       "    .dataframe thead th {\n",
       "        text-align: right;\n",
       "    }\n",
       "</style>\n",
       "<table border=\"1\" class=\"dataframe\">\n",
       "  <thead>\n",
       "    <tr style=\"text-align: right;\">\n",
       "      <th></th>\n",
       "      <th>user_id</th>\n",
       "      <th>minutes</th>\n",
       "      <th>calls</th>\n",
       "      <th>messages</th>\n",
       "      <th>gb_used</th>\n",
       "      <th>reg_date</th>\n",
       "      <th>tariff</th>\n",
       "      <th>month_profit</th>\n",
       "    </tr>\n",
       "  </thead>\n",
       "  <tbody>\n",
       "    <tr>\n",
       "      <th>3172</th>\n",
       "      <td>1499</td>\n",
       "      <td>70.0</td>\n",
       "      <td>9.0</td>\n",
       "      <td>11.0</td>\n",
       "      <td>2.0</td>\n",
       "      <td>2018-09-27</td>\n",
       "      <td>smart</td>\n",
       "      <td>550.0</td>\n",
       "    </tr>\n",
       "    <tr>\n",
       "      <th>3173</th>\n",
       "      <td>1499</td>\n",
       "      <td>449.0</td>\n",
       "      <td>68.0</td>\n",
       "      <td>48.0</td>\n",
       "      <td>18.0</td>\n",
       "      <td>2018-09-27</td>\n",
       "      <td>smart</td>\n",
       "      <td>1150.0</td>\n",
       "    </tr>\n",
       "    <tr>\n",
       "      <th>3174</th>\n",
       "      <td>1499</td>\n",
       "      <td>612.0</td>\n",
       "      <td>74.0</td>\n",
       "      <td>59.0</td>\n",
       "      <td>18.0</td>\n",
       "      <td>2018-09-27</td>\n",
       "      <td>smart</td>\n",
       "      <td>1513.0</td>\n",
       "    </tr>\n",
       "    <tr>\n",
       "      <th>3175</th>\n",
       "      <td>1499</td>\n",
       "      <td>492.0</td>\n",
       "      <td>69.0</td>\n",
       "      <td>66.0</td>\n",
       "      <td>13.0</td>\n",
       "      <td>2018-09-27</td>\n",
       "      <td>smart</td>\n",
       "      <td>598.0</td>\n",
       "    </tr>\n",
       "  </tbody>\n",
       "</table>\n",
       "</div>"
      ],
      "text/plain": [
       "      user_id  minutes  calls  messages  gb_used   reg_date tariff  \\\n",
       "3172     1499     70.0    9.0      11.0      2.0 2018-09-27  smart   \n",
       "3173     1499    449.0   68.0      48.0     18.0 2018-09-27  smart   \n",
       "3174     1499    612.0   74.0      59.0     18.0 2018-09-27  smart   \n",
       "3175     1499    492.0   69.0      66.0     13.0 2018-09-27  smart   \n",
       "\n",
       "      month_profit  \n",
       "3172         550.0  \n",
       "3173        1150.0  \n",
       "3174        1513.0  \n",
       "3175         598.0  "
      ]
     },
     "execution_count": 23,
     "metadata": {},
     "output_type": "execute_result"
    }
   ],
   "source": [
    "# check\n",
    "users_smart[users_smart['user_id'] == 1499][['user_id', 'minutes', 'calls', 'messages', 'gb_used', 'reg_date', 'tariff',\n",
    "       'month_profit']].tail(4)"
   ]
  },
  {
   "cell_type": "markdown",
   "metadata": {},
   "source": [
    "## Анализ данных"
   ]
  },
  {
   "cell_type": "markdown",
   "metadata": {},
   "source": [
    "Проанализируем поведение пользователей тарифа smart.  \n",
    "В среднем пользователи тарифа smart используют 200-600 минут в месяц. Распределение ассимтричное, скошено вправо. Это значит, что мало кто тратит больше 600 минут, однако, большое количество пользователей тратит менее 300 минут в месяц."
   ]
  },
  {
   "cell_type": "code",
   "execution_count": 24,
   "metadata": {},
   "outputs": [
    {
     "name": "stdout",
     "output_type": "stream",
     "text": [
      "417.747533632287\n",
      "36265.12415310985\n",
      "190.4340414765959\n"
     ]
    },
    {
     "data": {
      "text/plain": [
       "<AxesSubplot:>"
      ]
     },
     "execution_count": 24,
     "metadata": {},
     "output_type": "execute_result"
    },
    {
     "data": {
      "image/png": "[encoded data removed]",
      "text/plain": [
       "<Figure size 432x288 with 1 Axes>"
      ]
     },
     "metadata": {
      "needs_background": "light"
     },
     "output_type": "display_data"
    }
   ],
   "source": [
    "print(users_smart['minutes'].mean()) #Найдем среднее.\n",
    "print(np.var(users_smart['minutes'])) #Найдем дисперсию.\n",
    "print(np.std(users_smart['minutes'])) #Найдем стандартное отклонение.\n",
    "users_smart['minutes'].hist() #Построим гистограму."
   ]
  },
  {
   "cell_type": "markdown",
   "metadata": {},
   "source": [
    "В среднем пользователи тарифа smart используют от 0 до 40 сообщений в месяц. Распределение ассиметрично и сильно скошено вправо. Много пользователей практически не пользуются сообщениями, и очень малое число пользователей отправляют более 60 сообщений в месяц."
   ]
  },
  {
   "cell_type": "code",
   "execution_count": 25,
   "metadata": {
    "scrolled": true
   },
   "outputs": [
    {
     "name": "stdout",
     "output_type": "stream",
     "text": [
      "33.36905829596412\n",
      "796.5978766916688\n",
      "28.224065559229217\n"
     ]
    },
    {
     "data": {
      "text/plain": [
       "<AxesSubplot:>"
      ]
     },
     "execution_count": 25,
     "metadata": {},
     "output_type": "execute_result"
    },
    {
     "data": {
      "image/png": "[encoded data removed]",
      "text/plain": [
       "<Figure size 432x288 with 1 Axes>"
      ]
     },
     "metadata": {
      "needs_background": "light"
     },
     "output_type": "display_data"
    }
   ],
   "source": [
    "print(users_smart['messages'].mean()) #Найдем среднее.\n",
    "print(np.var(users_smart['messages'])) #Найдем дисперсию.\n",
    "print(np.std(users_smart['messages'])) #Найдем стандартное отклонение.\n",
    "users_smart['messages'].hist() #Построим гистограму."
   ]
  },
  {
   "cell_type": "markdown",
   "metadata": {},
   "source": [
    "В среднем пользователи тарифа smart используют от 10 до 25 гб интернета в месяц. Распределение близко к нормальному."
   ]
  },
  {
   "cell_type": "code",
   "execution_count": 26,
   "metadata": {},
   "outputs": [
    {
     "name": "stdout",
     "output_type": "stream",
     "text": [
      "16.32152466367713\n",
      "33.11859498481772\n",
      "5.754875757548352\n"
     ]
    },
    {
     "data": {
      "text/plain": [
       "<AxesSubplot:>"
      ]
     },
     "execution_count": 26,
     "metadata": {},
     "output_type": "execute_result"
    },
    {
     "data": {
      "image/png": "[encoded data removed]",
      "text/plain": [
       "<Figure size 432x288 with 1 Axes>"
      ]
     },
     "metadata": {
      "needs_background": "light"
     },
     "output_type": "display_data"
    }
   ],
   "source": [
    "print(users_smart['gb_used'].mean()) #Найдем среднее.\n",
    "print(np.var(users_smart['gb_used'])) #Найдем дисперсию.\n",
    "print(np.std(users_smart['gb_used'])) #Найдем стандартное отклонение.\n",
    "users_smart['gb_used'].hist() #Построим гистограму."
   ]
  },
  {
   "cell_type": "markdown",
   "metadata": {},
   "source": [
    "Проанализируем поведение пользователей тарифа ultra.  \n",
    "В среднем пользователи тарифа ultra используют от 0 до 800 минут в месяц. Распределение скошено вправо, очень мало пользователей используют более 1000 минут, в то время как большое число пользователей тратит менее 500 минут."
   ]
  },
  {
   "cell_type": "code",
   "execution_count": 27,
   "metadata": {},
   "outputs": [
    {
     "name": "stdout",
     "output_type": "stream",
     "text": [
      "526.0892494929006\n",
      "100950.00623331097\n",
      "317.72630711559117\n"
     ]
    },
    {
     "data": {
      "text/plain": [
       "<AxesSubplot:>"
      ]
     },
     "execution_count": 27,
     "metadata": {},
     "output_type": "execute_result"
    },
    {
     "data": {
      "image/png": "[encoded data removed]",
      "text/plain": [
       "<Figure size 432x288 with 1 Axes>"
      ]
     },
     "metadata": {
      "needs_background": "light"
     },
     "output_type": "display_data"
    }
   ],
   "source": [
    "print(users_ultra['minutes'].mean()) #Найдем среднее.\n",
    "print(np.var(users_ultra['minutes'])) #Найдем дисперсию.\n",
    "print(np.std(users_ultra['minutes'])) #Найдем стандартное отклонение.\n",
    "users_ultra['minutes'].hist() #Построим гистограму."
   ]
  },
  {
   "cell_type": "markdown",
   "metadata": {},
   "source": [
    "В среднем пользователи тарифа smart используют от 0 до 80 сообщений в месяц. Распределение ассиметрично и сильно скошено вправо. Много пользователей практически не пользуются сообщениями, и очень малое число пользователей отправляют более 80 сообщений в месяц."
   ]
  },
  {
   "cell_type": "code",
   "execution_count": 28,
   "metadata": {},
   "outputs": [
    {
     "name": "stdout",
     "output_type": "stream",
     "text": [
      "49.31338742393509\n",
      "2283.0995570851965\n",
      "47.781791061922284\n"
     ]
    },
    {
     "data": {
      "text/plain": [
       "<AxesSubplot:>"
      ]
     },
     "execution_count": 28,
     "metadata": {},
     "output_type": "execute_result"
    },
    {
     "data": {
      "image/png": "[encoded data removed]",
      "text/plain": [
       "<Figure size 432x288 with 1 Axes>"
      ]
     },
     "metadata": {
      "needs_background": "light"
     },
     "output_type": "display_data"
    }
   ],
   "source": [
    "print(users_ultra['messages'].mean()) #Найдем среднее.\n",
    "print(np.var(users_ultra['messages'])) #Найдем дисперсию.\n",
    "print(np.std(users_ultra['messages'])) #Найдем стандартное отклонение.\n",
    "users_ultra['messages'].hist() #Построим гистограму."
   ]
  },
  {
   "cell_type": "markdown",
   "metadata": {},
   "source": [
    "В среднем пользователи тарифа smart используют от 10 до 30 гб интернета в месяц. Распределение близко к нормальному."
   ]
  },
  {
   "cell_type": "code",
   "execution_count": 29,
   "metadata": {},
   "outputs": [
    {
     "name": "stdout",
     "output_type": "stream",
     "text": [
      "19.474645030425965\n",
      "97.27978308900676\n",
      "9.863051408616238\n"
     ]
    },
    {
     "data": {
      "text/plain": [
       "<AxesSubplot:>"
      ]
     },
     "execution_count": 29,
     "metadata": {},
     "output_type": "execute_result"
    },
    {
     "data": {
      "image/png": "[encoded data removed]",
      "text/plain": [
       "<Figure size 432x288 with 1 Axes>"
      ]
     },
     "metadata": {
      "needs_background": "light"
     },
     "output_type": "display_data"
    }
   ],
   "source": [
    "print(users_ultra['gb_used'].mean()) #Найдем среднее.\n",
    "print(np.var(users_ultra['gb_used'])) #Найдем дисперсию.\n",
    "print(np.std(users_ultra['gb_used'])) #Найдем стандартное отклонение.\n",
    "users_ultra['gb_used'].hist() #Построим гистограму."
   ]
  },
  {
   "cell_type": "markdown",
   "metadata": {},
   "source": [
    "## Проверка гипотез"
   ]
  },
  {
   "cell_type": "markdown",
   "metadata": {},
   "source": [
    "Необходимо проверить гипотезу, что средняя выручка пользователей тарифов \"Ультра\" и \"Смарт\" различаются.  \n",
    "H0 - выручки равны  \n",
    "H1 - выручки не равны  "
   ]
  },
  {
   "cell_type": "code",
   "execution_count": 30,
   "metadata": {},
   "outputs": [
    {
     "name": "stdout",
     "output_type": "stream",
     "text": [
      "p-значение:  1.927011394420941e-250\n",
      "Отвергаем нулевую гипотезу.\n"
     ]
    }
   ],
   "source": [
    "alpha = 0.1 #Задаем порог.\n",
    "results = st.ttest_ind(users_smart['month_profit'], users_ultra['month_profit'], equal_var=False) #Сравниваем выборки.\n",
    "print('p-значение: ', results.pvalue)\n",
    "if results.pvalue > alpha:\n",
    "    print('Не получилось отвергнуть нулевую гипотезу.')\n",
    "else:\n",
    "    print('Отвергаем нулевую гипотезу.')\n"
   ]
  },
  {
   "cell_type": "markdown",
   "metadata": {},
   "source": [
    "Проверка показала, что данная выборка не позволяет сделать вывод, что выручки по тарифам равны. Полученное значение p-value слишком мало, соответсвенно, вероятность того, различие между выручками по тарифам в данной выборке случайно - крайне мала. Средняя вырочку клиента тарифа ultra в данной выборке практически в два раза больше, чем клиента тарифа smart. В то же время по выборке общая выручка за год по тарифу smart почти в полтора раза больше, чем по тарифу ultra. Это связано с тем, что у тарифа smart в 2.3 раза больше пользователей."
   ]
  },
  {
   "cell_type": "code",
   "execution_count": 31,
   "metadata": {
    "scrolled": true
   },
   "outputs": [
    {
     "name": "stdout",
     "output_type": "stream",
     "text": [
      "1289.6417040358745\n",
      "2070.030425963489\n"
     ]
    }
   ],
   "source": [
    "print(users_smart['month_profit'].mean())\n",
    "print(users_ultra['month_profit'].mean())"
   ]
  },
  {
   "cell_type": "markdown",
   "metadata": {},
   "source": [
    "Посчитаем выручку по тарифам за год:"
   ]
  },
  {
   "cell_type": "code",
   "execution_count": 32,
   "metadata": {},
   "outputs": [
    {
     "name": "stdout",
     "output_type": "stream",
     "text": [
      "2875901.0\n",
      "2041050.0\n",
      "1.4090301560471326\n"
     ]
    }
   ],
   "source": [
    "print(users_smart['month_profit'].sum())\n",
    "print(users_ultra['month_profit'].sum())\n",
    "print(users_smart['month_profit'].sum() / users_ultra['month_profit'].sum())"
   ]
  },
  {
   "cell_type": "markdown",
   "metadata": {},
   "source": [
    "Сравним количество клиентов тарифов."
   ]
  },
  {
   "cell_type": "code",
   "execution_count": 33,
   "metadata": {},
   "outputs": [
    {
     "name": "stdout",
     "output_type": "stream",
     "text": [
      "2.3557046979865772\n"
     ]
    }
   ],
   "source": [
    "print(users.query('tariff == \"smart\"')['user_id'].count() / users.query('tariff == \"ultra\"')['user_id'].count())"
   ]
  },
  {
   "cell_type": "markdown",
   "metadata": {},
   "source": [
    "Необходимо проверить гипотезу, что средняя выручка пользователей из Москвы отличается от выручки пользователей из других регионов.   \n",
    "H0 - выручки равны  \n",
    "H1 - выручки не равны  "
   ]
  },
  {
   "cell_type": "code",
   "execution_count": 34,
   "metadata": {},
   "outputs": [
    {
     "name": "stdout",
     "output_type": "stream",
     "text": [
      "p-значение:  0.5216952110000279\n",
      "Не получилось отвергнуть нулевую гипотезу.\n"
     ]
    }
   ],
   "source": [
    "users = users_smart.append(users_ultra, ignore_index=True) #Объединим пользователей всех тарифов с информацией о выручке за месяц.\n",
    "users_moscow = users.query('city == \"Москва\"').copy() #Создаем таблицу с данными о пользователях из Москвы.\n",
    "users_others = users.query('city != \"Москва\"').copy() #Создаем таблицу с данными о пользователях из других регионов.\n",
    "alpha = 0.1 #Задаем порог.\n",
    "results = st.ttest_ind(users_moscow['month_profit'], users_others['month_profit'], equal_var=False) #Сравниваем выборки.\n",
    "print('p-значение: ', results.pvalue)\n",
    "if results.pvalue > alpha:\n",
    "    print('Не получилось отвергнуть нулевую гипотезу.')\n",
    "else:\n",
    "    print('Отвергаем нулевую гипотезу.')"
   ]
  },
  {
   "cell_type": "markdown",
   "metadata": {},
   "source": [
    "Полученное значение p-value говорит о том, что то, что различие выручки в Москве и других регионах может быть получено случайно с вероятностью 11%. Это слишком большое значение для того, чтобы на основе данной выборке отвергать гипотезу о том, что выручки в Москве и остальных регионах различаются."
   ]
  },
  {
   "cell_type": "code",
   "execution_count": 35,
   "metadata": {},
   "outputs": [
    {
     "name": "stdout",
     "output_type": "stream",
     "text": [
      "p-значение: 0.1912450522572209\n",
      "Не получилось отвергнуть нулевую гипотезу\n"
     ]
    }
   ],
   "source": [
    "# Приведены два датасета: сумма покупок, совершённых за месяц посетителями ...\n",
    "\n",
    "sample_1 = [3071, 3636, 3454, 3151, 2185, 3259, 1727, 2263, 2015,\n",
    "2582, 4815, 633, 3186, 887, 2028, 3589, 2564, 1422, 1785,\n",
    "3180, 1770, 2716, 2546, 1848, 4644, 3134, 475, 2686,\n",
    "1838, 3352]\n",
    "sample_2 = [1211, 1228, 2157, 3699, 600, 1898, 1688, 1420, 5048, 3007,\n",
    "509, 3777, 5583, 3949, 121, 1674, 4300, 1338, 3066,\n",
    "3562, 1010, 2311, 462, 863, 2021, 528, 1849, 255,\n",
    "1740, 2596]\n",
    "alpha = .05 # критический уровень статистической значимости\n",
    "# если p-value окажется меньше него - отвергнем гипотезу\n",
    "results = st.ttest_ind(\n",
    "sample_1,\n",
    "sample_2)\n",
    "print('p-значение:', results.pvalue)\n",
    "if (results.pvalue < alpha):\n",
    "    print(\"Отвергаем нулевую гипотезу\")\n",
    "else:\n",
    "\n",
    "    print(\"Не получилось отвергнуть нулевую гипотезу\")"
   ]
  },
  {
   "cell_type": "markdown",
   "metadata": {},
   "source": [
    "## Общий вывод"
   ]
  },
  {
   "cell_type": "markdown",
   "metadata": {},
   "source": [
    "В ходе исследования была проанализирована выборка из 500 пользователей федерального оператора сотовой связи \"Мегалайн\" с целью определения, в рекламу какого тарифа стоит вкладываться компании - \"Смарт\" или \"Ультра\".\n",
    "- Были обработаны данные, удалены пропуски.\n",
    "- Было подсчитано, сколько в среднем за месяц каждый пользователь совершает звонков, тратит минут, сообщений и мегабайт интернета. Также была подсчитана средняя выручка каждого пользователя за месяц.\n",
    "- Были проанализированы полученные результаты. В среднем пользователи тарифа smart используют 200-600 минут в месяц, от 0 до 40 сообщений и от 10 до 25 гигабайт интернета в месяц. А пользователи тарифа ultra используют 0-800 минут в месяц, от 0 до 80 сообщений и от 10 до 30 гигабайт интернета в месяц.\n",
    "- Была проверена гипотеза, что средняя выручка тарифов \"Смарт\" и \"Ультра\" отличается. Предоставленная выборка не позволила отвергнуть данную гипотезу. Средняя выручка по тарифу \"Ультра\" одного клиента из выборки почти в два раза больше, чем по тарифу \"Смарт\". Однако, общая выручка по тарифу \"Смарт\" за год почти в полтора раза превысила выручку по тарифу \"Ультра\", это связано с тем, что клиентов у тарифа \"Смарт\" в 2,3 раза больше. Таким образом, можно порекомендовать компании вкладываться в рекламу тарифа \"Смарт\", так как, несмотря на то, что средняя выручка с одного клиента у данного тарифа меньше, он является более популярным среди клиентов, и, можно предположить, что его реклама принесет компании больше новых клиентов, чем реклама тарифа \"Ультра\".\n",
    "- Также была проверена гипотеза, что выручка отличается в Москве и других регионах. Подтвердить данную гипотезу на основе предоставленной выборки не получилось."
   ]
  }
 ],
 "metadata": {
  "ExecuteTimeLog": [
   {
    "duration": 63,
    "start_time": "2022-06-13T16:50:03.899Z"
   },
   {
    "duration": 635,
    "start_time": "2022-06-13T16:52:30.953Z"
   },
   {
    "duration": 207,
    "start_time": "2022-06-13T16:53:32.474Z"
   },
   {
    "duration": 1422,
    "start_time": "2022-06-13T16:53:35.988Z"
   },
   {
    "duration": 1132,
    "start_time": "2022-06-13T16:54:01.714Z"
   },
   {
    "duration": 1582,
    "start_time": "2022-06-13T16:55:26.098Z"
   },
   {
    "duration": 704,
    "start_time": "2022-06-13T16:55:32.562Z"
   },
   {
    "duration": 895,
    "start_time": "2022-06-13T16:55:33.278Z"
   },
   {
    "duration": 495,
    "start_time": "2022-06-13T16:59:59.401Z"
   },
   {
    "duration": 692,
    "start_time": "2022-06-13T16:59:59.898Z"
   },
   {
    "duration": 18,
    "start_time": "2022-06-13T17:07:00.300Z"
   },
   {
    "duration": 26,
    "start_time": "2022-06-13T17:07:48.593Z"
   },
   {
    "duration": 35,
    "start_time": "2022-06-13T17:08:45.937Z"
   },
   {
    "duration": 37,
    "start_time": "2022-06-13T17:09:25.798Z"
   },
   {
    "duration": 18,
    "start_time": "2022-06-13T17:10:16.782Z"
   },
   {
    "duration": 488,
    "start_time": "2022-06-13T17:11:55.660Z"
   },
   {
    "duration": 593,
    "start_time": "2022-06-13T17:11:56.151Z"
   },
   {
    "duration": 16,
    "start_time": "2022-06-13T17:11:56.746Z"
   },
   {
    "duration": 78,
    "start_time": "2022-06-13T17:11:56.766Z"
   },
   {
    "duration": 38,
    "start_time": "2022-06-13T17:11:56.846Z"
   },
   {
    "duration": 53,
    "start_time": "2022-06-13T17:11:56.886Z"
   },
   {
    "duration": 10,
    "start_time": "2022-06-13T17:11:56.941Z"
   },
   {
    "duration": 12,
    "start_time": "2022-06-13T17:16:17.600Z"
   },
   {
    "duration": 40,
    "start_time": "2022-06-13T17:18:55.275Z"
   },
   {
    "duration": 34,
    "start_time": "2022-06-13T17:19:06.507Z"
   },
   {
    "duration": 73,
    "start_time": "2022-06-13T17:19:18.246Z"
   },
   {
    "duration": 47,
    "start_time": "2022-06-13T17:19:22.499Z"
   },
   {
    "duration": 51,
    "start_time": "2022-06-13T17:19:29.508Z"
   },
   {
    "duration": 12,
    "start_time": "2022-06-13T17:20:20.160Z"
   },
   {
    "duration": 17,
    "start_time": "2022-06-13T17:20:50.058Z"
   },
   {
    "duration": 129,
    "start_time": "2022-06-13T17:20:59.507Z"
   },
   {
    "duration": 194,
    "start_time": "2022-06-13T17:21:09.445Z"
   },
   {
    "duration": 284,
    "start_time": "2022-06-13T17:21:19.149Z"
   },
   {
    "duration": 312,
    "start_time": "2022-06-13T17:21:29.176Z"
   },
   {
    "duration": 3,
    "start_time": "2022-06-13T17:21:43.142Z"
   },
   {
    "duration": 465,
    "start_time": "2022-06-13T17:21:50.173Z"
   },
   {
    "duration": 574,
    "start_time": "2022-06-13T17:21:50.640Z"
   },
   {
    "duration": 12,
    "start_time": "2022-06-13T17:21:51.216Z"
   },
   {
    "duration": 30,
    "start_time": "2022-06-13T17:21:51.230Z"
   },
   {
    "duration": 36,
    "start_time": "2022-06-13T17:21:51.277Z"
   },
   {
    "duration": 24,
    "start_time": "2022-06-13T17:21:51.315Z"
   },
   {
    "duration": 12,
    "start_time": "2022-06-13T17:21:51.341Z"
   },
   {
    "duration": 15,
    "start_time": "2022-06-13T17:21:51.357Z"
   },
   {
    "duration": 95,
    "start_time": "2022-06-13T17:23:08.426Z"
   },
   {
    "duration": 10,
    "start_time": "2022-06-13T17:23:16.708Z"
   },
   {
    "duration": 7,
    "start_time": "2022-06-13T17:23:49.415Z"
   },
   {
    "duration": 9,
    "start_time": "2022-06-13T17:23:52.542Z"
   },
   {
    "duration": 18,
    "start_time": "2022-06-13T17:24:18.874Z"
   },
   {
    "duration": 13,
    "start_time": "2022-06-13T17:26:17.911Z"
   },
   {
    "duration": 34,
    "start_time": "2022-06-13T17:26:38.917Z"
   },
   {
    "duration": 14,
    "start_time": "2022-06-13T17:27:43.599Z"
   },
   {
    "duration": 810,
    "start_time": "2022-06-13T17:28:05.186Z"
   },
   {
    "duration": 12,
    "start_time": "2022-06-13T17:29:08.792Z"
   },
   {
    "duration": 699,
    "start_time": "2022-06-13T17:29:26.306Z"
   },
   {
    "duration": 611,
    "start_time": "2022-06-13T17:29:27.009Z"
   },
   {
    "duration": 16,
    "start_time": "2022-06-13T17:29:27.622Z"
   },
   {
    "duration": 42,
    "start_time": "2022-06-13T17:29:27.640Z"
   },
   {
    "duration": 34,
    "start_time": "2022-06-13T17:29:27.689Z"
   },
   {
    "duration": 25,
    "start_time": "2022-06-13T17:29:27.725Z"
   },
   {
    "duration": 33,
    "start_time": "2022-06-13T17:29:27.758Z"
   },
   {
    "duration": 14,
    "start_time": "2022-06-13T17:29:27.796Z"
   },
   {
    "duration": 14,
    "start_time": "2022-06-13T17:29:44.696Z"
   },
   {
    "duration": 3,
    "start_time": "2022-06-13T17:30:02.638Z"
   },
   {
    "duration": 189,
    "start_time": "2022-06-13T17:30:11.941Z"
   },
   {
    "duration": 447,
    "start_time": "2022-06-13T17:30:31.134Z"
   },
   {
    "duration": 645,
    "start_time": "2022-06-13T17:30:31.584Z"
   },
   {
    "duration": 18,
    "start_time": "2022-06-13T17:30:32.231Z"
   },
   {
    "duration": 57,
    "start_time": "2022-06-13T17:30:32.251Z"
   },
   {
    "duration": 44,
    "start_time": "2022-06-13T17:30:32.310Z"
   },
   {
    "duration": 64,
    "start_time": "2022-06-13T17:30:32.357Z"
   },
   {
    "duration": 13,
    "start_time": "2022-06-13T17:30:32.423Z"
   },
   {
    "duration": 18,
    "start_time": "2022-06-13T17:30:32.438Z"
   },
   {
    "duration": 74,
    "start_time": "2022-06-13T17:30:32.461Z"
   },
   {
    "duration": 9,
    "start_time": "2022-06-13T17:30:40.237Z"
   },
   {
    "duration": 499,
    "start_time": "2022-06-13T17:34:34.634Z"
   },
   {
    "duration": 620,
    "start_time": "2022-06-13T17:34:35.135Z"
   },
   {
    "duration": 43,
    "start_time": "2022-06-13T17:34:35.757Z"
   },
   {
    "duration": 39,
    "start_time": "2022-06-13T17:34:35.812Z"
   },
   {
    "duration": 37,
    "start_time": "2022-06-13T17:34:35.854Z"
   },
   {
    "duration": 59,
    "start_time": "2022-06-13T17:34:35.893Z"
   },
   {
    "duration": 19,
    "start_time": "2022-06-13T17:34:35.954Z"
   },
   {
    "duration": 52,
    "start_time": "2022-06-13T17:34:35.975Z"
   },
   {
    "duration": 8,
    "start_time": "2022-06-13T17:34:36.029Z"
   },
   {
    "duration": 116,
    "start_time": "2022-06-13T17:38:34.574Z"
   },
   {
    "duration": 46,
    "start_time": "2022-06-13T17:41:29.154Z"
   },
   {
    "duration": 63,
    "start_time": "2022-06-13T17:42:14.383Z"
   },
   {
    "duration": 677,
    "start_time": "2022-06-13T17:42:33.642Z"
   },
   {
    "duration": 578,
    "start_time": "2022-06-13T17:42:34.321Z"
   },
   {
    "duration": 29,
    "start_time": "2022-06-13T17:42:34.901Z"
   },
   {
    "duration": 52,
    "start_time": "2022-06-13T17:42:34.932Z"
   },
   {
    "duration": 25,
    "start_time": "2022-06-13T17:42:34.986Z"
   },
   {
    "duration": 26,
    "start_time": "2022-06-13T17:42:35.013Z"
   },
   {
    "duration": 36,
    "start_time": "2022-06-13T17:42:35.041Z"
   },
   {
    "duration": 24,
    "start_time": "2022-06-13T17:42:35.079Z"
   },
   {
    "duration": 9,
    "start_time": "2022-06-13T17:42:35.105Z"
   },
   {
    "duration": 103,
    "start_time": "2022-06-13T17:42:35.116Z"
   },
   {
    "duration": 36,
    "start_time": "2022-06-13T17:42:51.910Z"
   },
   {
    "duration": 57,
    "start_time": "2022-06-13T17:43:17.932Z"
   },
   {
    "duration": 16,
    "start_time": "2022-06-13T17:43:34.542Z"
   },
   {
    "duration": 226,
    "start_time": "2022-06-13T17:43:42.764Z"
   },
   {
    "duration": 19,
    "start_time": "2022-06-13T17:44:00.236Z"
   },
   {
    "duration": 442,
    "start_time": "2022-06-13T17:44:19.912Z"
   },
   {
    "duration": 599,
    "start_time": "2022-06-13T17:44:20.357Z"
   },
   {
    "duration": 52,
    "start_time": "2022-06-13T17:44:20.958Z"
   },
   {
    "duration": 67,
    "start_time": "2022-06-13T17:44:21.014Z"
   },
   {
    "duration": 36,
    "start_time": "2022-06-13T17:44:21.090Z"
   },
   {
    "duration": 42,
    "start_time": "2022-06-13T17:44:21.128Z"
   },
   {
    "duration": 34,
    "start_time": "2022-06-13T17:44:21.172Z"
   },
   {
    "duration": 5,
    "start_time": "2022-06-13T17:44:21.209Z"
   },
   {
    "duration": 6,
    "start_time": "2022-06-13T17:44:21.216Z"
   },
   {
    "duration": 124,
    "start_time": "2022-06-13T17:44:21.225Z"
   },
   {
    "duration": 451,
    "start_time": "2022-06-13T17:45:10.241Z"
   },
   {
    "duration": 559,
    "start_time": "2022-06-13T17:45:10.694Z"
   },
   {
    "duration": 61,
    "start_time": "2022-06-13T17:45:11.255Z"
   },
   {
    "duration": 44,
    "start_time": "2022-06-13T17:45:11.318Z"
   },
   {
    "duration": 42,
    "start_time": "2022-06-13T17:45:11.364Z"
   },
   {
    "duration": 82,
    "start_time": "2022-06-13T17:45:11.407Z"
   },
   {
    "duration": 26,
    "start_time": "2022-06-13T17:45:11.491Z"
   },
   {
    "duration": 17,
    "start_time": "2022-06-13T17:45:11.519Z"
   },
   {
    "duration": 5,
    "start_time": "2022-06-13T17:45:11.538Z"
   },
   {
    "duration": 83,
    "start_time": "2022-06-13T18:16:04.349Z"
   },
   {
    "duration": 8,
    "start_time": "2022-06-13T18:16:09.210Z"
   },
   {
    "duration": 10,
    "start_time": "2022-06-13T18:16:14.127Z"
   },
   {
    "duration": 6,
    "start_time": "2022-06-13T18:16:16.900Z"
   },
   {
    "duration": 425,
    "start_time": "2022-06-13T18:17:41.019Z"
   },
   {
    "duration": 548,
    "start_time": "2022-06-13T18:17:41.447Z"
   },
   {
    "duration": 34,
    "start_time": "2022-06-13T18:17:41.997Z"
   },
   {
    "duration": 79,
    "start_time": "2022-06-13T18:17:42.034Z"
   },
   {
    "duration": 36,
    "start_time": "2022-06-13T18:17:42.115Z"
   },
   {
    "duration": 59,
    "start_time": "2022-06-13T18:17:42.158Z"
   },
   {
    "duration": 52,
    "start_time": "2022-06-13T18:17:42.220Z"
   },
   {
    "duration": 27,
    "start_time": "2022-06-13T18:17:42.275Z"
   },
   {
    "duration": 21,
    "start_time": "2022-06-13T18:17:42.307Z"
   },
   {
    "duration": 7,
    "start_time": "2022-06-13T18:20:30.346Z"
   },
   {
    "duration": 16,
    "start_time": "2022-06-13T18:20:39.386Z"
   },
   {
    "duration": 80,
    "start_time": "2022-06-13T18:21:27.454Z"
   },
   {
    "duration": 102,
    "start_time": "2022-06-13T18:22:08.737Z"
   },
   {
    "duration": 102,
    "start_time": "2022-06-13T18:22:46.111Z"
   },
   {
    "duration": 54,
    "start_time": "2022-06-13T18:23:06.168Z"
   },
   {
    "duration": 17,
    "start_time": "2022-06-13T18:23:14.911Z"
   },
   {
    "duration": 35,
    "start_time": "2022-06-13T18:23:21.743Z"
   },
   {
    "duration": 515,
    "start_time": "2022-06-13T18:23:30.601Z"
   },
   {
    "duration": 622,
    "start_time": "2022-06-13T18:23:31.126Z"
   },
   {
    "duration": 83,
    "start_time": "2022-06-13T18:23:31.750Z"
   },
   {
    "duration": 95,
    "start_time": "2022-06-13T18:23:31.835Z"
   },
   {
    "duration": 46,
    "start_time": "2022-06-13T18:23:31.934Z"
   },
   {
    "duration": 98,
    "start_time": "2022-06-13T18:23:31.982Z"
   },
   {
    "duration": 56,
    "start_time": "2022-06-13T18:23:32.083Z"
   },
   {
    "duration": 61,
    "start_time": "2022-06-13T18:23:32.141Z"
   },
   {
    "duration": 12,
    "start_time": "2022-06-13T18:23:32.210Z"
   },
   {
    "duration": 156,
    "start_time": "2022-06-13T18:23:32.224Z"
   },
   {
    "duration": 4,
    "start_time": "2022-06-13T19:27:27.946Z"
   },
   {
    "duration": 11,
    "start_time": "2022-06-13T19:27:42.487Z"
   },
   {
    "duration": 3,
    "start_time": "2022-06-13T19:27:50.471Z"
   },
   {
    "duration": 88,
    "start_time": "2022-06-13T19:29:05.691Z"
   },
   {
    "duration": 17,
    "start_time": "2022-06-13T19:29:14.591Z"
   },
   {
    "duration": 428,
    "start_time": "2022-06-13T19:29:22.972Z"
   },
   {
    "duration": 1248,
    "start_time": "2022-06-13T19:29:23.402Z"
   },
   {
    "duration": 38,
    "start_time": "2022-06-13T19:29:24.652Z"
   },
   {
    "duration": 40,
    "start_time": "2022-06-13T19:29:24.692Z"
   },
   {
    "duration": 54,
    "start_time": "2022-06-13T19:29:24.734Z"
   },
   {
    "duration": 34,
    "start_time": "2022-06-13T19:29:24.790Z"
   },
   {
    "duration": 45,
    "start_time": "2022-06-13T19:29:24.826Z"
   },
   {
    "duration": 9,
    "start_time": "2022-06-13T19:29:24.877Z"
   },
   {
    "duration": 10,
    "start_time": "2022-06-13T19:29:24.888Z"
   },
   {
    "duration": 101,
    "start_time": "2022-06-13T19:29:24.901Z"
   },
   {
    "duration": 30,
    "start_time": "2022-06-13T19:32:13.892Z"
   },
   {
    "duration": 18,
    "start_time": "2022-06-13T19:32:22.385Z"
   },
   {
    "duration": 10,
    "start_time": "2022-06-13T19:32:38.237Z"
   },
   {
    "duration": 11,
    "start_time": "2022-06-13T19:32:43.277Z"
   },
   {
    "duration": 53,
    "start_time": "2022-06-13T19:44:47.779Z"
   },
   {
    "duration": 428,
    "start_time": "2022-06-13T19:45:00.081Z"
   },
   {
    "duration": 475,
    "start_time": "2022-06-13T19:45:00.511Z"
   },
   {
    "duration": 29,
    "start_time": "2022-06-13T19:45:00.988Z"
   },
   {
    "duration": 154,
    "start_time": "2022-06-13T19:45:01.019Z"
   },
   {
    "duration": 36,
    "start_time": "2022-06-13T19:45:01.179Z"
   },
   {
    "duration": 61,
    "start_time": "2022-06-13T19:45:01.217Z"
   },
   {
    "duration": 20,
    "start_time": "2022-06-13T19:45:01.279Z"
   },
   {
    "duration": 26,
    "start_time": "2022-06-13T19:45:01.300Z"
   },
   {
    "duration": 24,
    "start_time": "2022-06-13T19:45:01.327Z"
   },
   {
    "duration": 129,
    "start_time": "2022-06-13T19:45:01.353Z"
   },
   {
    "duration": 8,
    "start_time": "2022-06-13T19:45:01.484Z"
   },
   {
    "duration": 57,
    "start_time": "2022-06-13T19:49:12.471Z"
   },
   {
    "duration": 119,
    "start_time": "2022-06-13T19:49:25.778Z"
   },
   {
    "duration": 99,
    "start_time": "2022-06-13T19:49:31.787Z"
   },
   {
    "duration": 77,
    "start_time": "2022-06-13T19:50:57.409Z"
   },
   {
    "duration": 73,
    "start_time": "2022-06-13T19:51:20.620Z"
   },
   {
    "duration": 22,
    "start_time": "2022-06-13T19:52:23.308Z"
   },
   {
    "duration": 50,
    "start_time": "2022-06-13T19:52:31.828Z"
   },
   {
    "duration": 27,
    "start_time": "2022-06-13T19:53:40.492Z"
   },
   {
    "duration": 51,
    "start_time": "2022-06-13T19:53:45.643Z"
   },
   {
    "duration": 73,
    "start_time": "2022-06-13T19:53:57.301Z"
   },
   {
    "duration": 37,
    "start_time": "2022-06-13T19:54:57.482Z"
   },
   {
    "duration": 37,
    "start_time": "2022-06-13T19:55:18.949Z"
   },
   {
    "duration": 23,
    "start_time": "2022-06-13T19:56:28.133Z"
   },
   {
    "duration": 28,
    "start_time": "2022-06-13T19:57:06.247Z"
   },
   {
    "duration": 24,
    "start_time": "2022-06-13T19:57:41.748Z"
   },
   {
    "duration": 35,
    "start_time": "2022-06-13T20:00:07.249Z"
   },
   {
    "duration": 43,
    "start_time": "2022-06-13T20:00:19.041Z"
   },
   {
    "duration": 36,
    "start_time": "2022-06-13T20:01:43.189Z"
   },
   {
    "duration": 50,
    "start_time": "2022-06-13T20:01:56.483Z"
   },
   {
    "duration": 41,
    "start_time": "2022-06-13T20:02:32.448Z"
   },
   {
    "duration": 397,
    "start_time": "2022-06-13T20:03:30.203Z"
   },
   {
    "duration": 449,
    "start_time": "2022-06-13T20:03:30.602Z"
   },
   {
    "duration": 37,
    "start_time": "2022-06-13T20:03:31.053Z"
   },
   {
    "duration": 138,
    "start_time": "2022-06-13T20:03:31.091Z"
   },
   {
    "duration": 50,
    "start_time": "2022-06-13T20:03:31.231Z"
   },
   {
    "duration": 59,
    "start_time": "2022-06-13T20:03:31.283Z"
   },
   {
    "duration": 28,
    "start_time": "2022-06-13T20:03:31.344Z"
   },
   {
    "duration": 19,
    "start_time": "2022-06-13T20:03:31.374Z"
   },
   {
    "duration": 42,
    "start_time": "2022-06-13T20:03:31.395Z"
   },
   {
    "duration": 116,
    "start_time": "2022-06-13T20:03:31.439Z"
   },
   {
    "duration": 14,
    "start_time": "2022-06-13T20:03:31.556Z"
   },
   {
    "duration": 76,
    "start_time": "2022-06-13T20:03:31.572Z"
   },
   {
    "duration": 81,
    "start_time": "2022-06-13T20:06:07.109Z"
   },
   {
    "duration": 57,
    "start_time": "2022-06-13T20:06:40.569Z"
   },
   {
    "duration": 74,
    "start_time": "2022-06-13T20:06:47.799Z"
   },
   {
    "duration": 80,
    "start_time": "2022-06-13T20:07:26.320Z"
   },
   {
    "duration": 128,
    "start_time": "2022-06-13T20:08:28.902Z"
   },
   {
    "duration": 99,
    "start_time": "2022-06-13T20:08:46.568Z"
   },
   {
    "duration": 70,
    "start_time": "2022-06-13T20:08:50.672Z"
   },
   {
    "duration": 98,
    "start_time": "2022-06-13T20:09:02.730Z"
   },
   {
    "duration": 100,
    "start_time": "2022-06-13T20:09:10.211Z"
   },
   {
    "duration": 91,
    "start_time": "2022-06-13T20:09:15.403Z"
   },
   {
    "duration": 103,
    "start_time": "2022-06-13T20:09:20.139Z"
   },
   {
    "duration": 99,
    "start_time": "2022-06-13T20:09:27.619Z"
   },
   {
    "duration": 412,
    "start_time": "2022-06-13T20:09:40.511Z"
   },
   {
    "duration": 457,
    "start_time": "2022-06-13T20:09:40.925Z"
   },
   {
    "duration": 31,
    "start_time": "2022-06-13T20:09:41.384Z"
   },
   {
    "duration": 39,
    "start_time": "2022-06-13T20:09:41.417Z"
   },
   {
    "duration": 33,
    "start_time": "2022-06-13T20:09:41.461Z"
   },
   {
    "duration": 37,
    "start_time": "2022-06-13T20:09:41.495Z"
   },
   {
    "duration": 42,
    "start_time": "2022-06-13T20:09:41.534Z"
   },
   {
    "duration": 8,
    "start_time": "2022-06-13T20:09:41.578Z"
   },
   {
    "duration": 6,
    "start_time": "2022-06-13T20:09:41.588Z"
   },
   {
    "duration": 107,
    "start_time": "2022-06-13T20:09:41.595Z"
   },
   {
    "duration": 7,
    "start_time": "2022-06-13T20:09:41.703Z"
   },
   {
    "duration": 89,
    "start_time": "2022-06-13T20:09:41.712Z"
   },
   {
    "duration": 73,
    "start_time": "2022-06-13T20:10:25.309Z"
   },
   {
    "duration": 71,
    "start_time": "2022-06-13T20:10:45.809Z"
   },
   {
    "duration": 71,
    "start_time": "2022-06-13T20:11:05.279Z"
   },
   {
    "duration": 397,
    "start_time": "2022-06-13T20:11:27.926Z"
   },
   {
    "duration": 455,
    "start_time": "2022-06-13T20:11:28.325Z"
   },
   {
    "duration": 27,
    "start_time": "2022-06-13T20:11:28.782Z"
   },
   {
    "duration": 41,
    "start_time": "2022-06-13T20:11:28.810Z"
   },
   {
    "duration": 40,
    "start_time": "2022-06-13T20:11:28.862Z"
   },
   {
    "duration": 36,
    "start_time": "2022-06-13T20:11:28.904Z"
   },
   {
    "duration": 29,
    "start_time": "2022-06-13T20:11:28.958Z"
   },
   {
    "duration": 40,
    "start_time": "2022-06-13T20:11:28.990Z"
   },
   {
    "duration": 39,
    "start_time": "2022-06-13T20:11:29.032Z"
   },
   {
    "duration": 153,
    "start_time": "2022-06-13T20:11:29.073Z"
   },
   {
    "duration": 8,
    "start_time": "2022-06-13T20:11:29.227Z"
   },
   {
    "duration": 86,
    "start_time": "2022-06-13T20:11:29.237Z"
   },
   {
    "duration": 20,
    "start_time": "2022-06-13T20:11:29.325Z"
   },
   {
    "duration": 449,
    "start_time": "2022-06-13T20:12:15.042Z"
   },
   {
    "duration": 451,
    "start_time": "2022-06-13T20:12:15.494Z"
   },
   {
    "duration": 33,
    "start_time": "2022-06-13T20:12:15.947Z"
   },
   {
    "duration": 40,
    "start_time": "2022-06-13T20:12:15.983Z"
   },
   {
    "duration": 51,
    "start_time": "2022-06-13T20:12:16.025Z"
   },
   {
    "duration": 35,
    "start_time": "2022-06-13T20:12:16.078Z"
   },
   {
    "duration": 18,
    "start_time": "2022-06-13T20:12:16.116Z"
   },
   {
    "duration": 12,
    "start_time": "2022-06-13T20:12:16.162Z"
   },
   {
    "duration": 6,
    "start_time": "2022-06-13T20:12:16.176Z"
   },
   {
    "duration": 113,
    "start_time": "2022-06-13T20:12:16.184Z"
   },
   {
    "duration": 8,
    "start_time": "2022-06-13T20:12:16.298Z"
   },
   {
    "duration": 85,
    "start_time": "2022-06-13T20:12:16.308Z"
   },
   {
    "duration": 74,
    "start_time": "2022-06-13T20:13:11.129Z"
   },
   {
    "duration": 6,
    "start_time": "2022-06-13T20:13:45.003Z"
   },
   {
    "duration": 7,
    "start_time": "2022-06-13T20:14:00.298Z"
   },
   {
    "duration": 6,
    "start_time": "2022-06-13T20:14:53.637Z"
   },
   {
    "duration": 7,
    "start_time": "2022-06-13T20:15:16.843Z"
   },
   {
    "duration": 16,
    "start_time": "2022-06-13T20:15:27.004Z"
   },
   {
    "duration": 429,
    "start_time": "2022-06-13T20:16:03.672Z"
   },
   {
    "duration": 496,
    "start_time": "2022-06-13T20:16:04.103Z"
   },
   {
    "duration": 30,
    "start_time": "2022-06-13T20:16:04.601Z"
   },
   {
    "duration": 44,
    "start_time": "2022-06-13T20:16:04.634Z"
   },
   {
    "duration": 29,
    "start_time": "2022-06-13T20:16:04.680Z"
   },
   {
    "duration": 57,
    "start_time": "2022-06-13T20:16:04.710Z"
   },
   {
    "duration": 20,
    "start_time": "2022-06-13T20:16:04.771Z"
   },
   {
    "duration": 15,
    "start_time": "2022-06-13T20:16:04.793Z"
   },
   {
    "duration": 5,
    "start_time": "2022-06-13T20:16:04.810Z"
   },
   {
    "duration": 120,
    "start_time": "2022-06-13T20:16:04.818Z"
   },
   {
    "duration": 8,
    "start_time": "2022-06-13T20:16:04.940Z"
   },
   {
    "duration": 80,
    "start_time": "2022-06-13T20:16:04.950Z"
   },
   {
    "duration": 8,
    "start_time": "2022-06-13T20:16:05.032Z"
   },
   {
    "duration": 18,
    "start_time": "2022-06-13T20:16:56.588Z"
   },
   {
    "duration": 16,
    "start_time": "2022-06-13T20:17:54.948Z"
   },
   {
    "duration": 443,
    "start_time": "2022-06-13T20:18:32.630Z"
   },
   {
    "duration": 479,
    "start_time": "2022-06-13T20:18:33.076Z"
   },
   {
    "duration": 41,
    "start_time": "2022-06-13T20:18:33.557Z"
   },
   {
    "duration": 42,
    "start_time": "2022-06-13T20:18:33.600Z"
   },
   {
    "duration": 53,
    "start_time": "2022-06-13T20:18:33.645Z"
   },
   {
    "duration": 46,
    "start_time": "2022-06-13T20:18:33.701Z"
   },
   {
    "duration": 26,
    "start_time": "2022-06-13T20:18:33.761Z"
   },
   {
    "duration": 13,
    "start_time": "2022-06-13T20:18:33.791Z"
   },
   {
    "duration": 7,
    "start_time": "2022-06-13T20:18:33.806Z"
   },
   {
    "duration": 111,
    "start_time": "2022-06-13T20:18:33.814Z"
   },
   {
    "duration": 6,
    "start_time": "2022-06-13T20:18:33.927Z"
   },
   {
    "duration": 76,
    "start_time": "2022-06-13T20:18:33.935Z"
   },
   {
    "duration": 20,
    "start_time": "2022-06-13T20:18:34.014Z"
   },
   {
    "duration": 41,
    "start_time": "2022-06-13T20:18:34.037Z"
   },
   {
    "duration": 548,
    "start_time": "2022-06-13T20:19:05.098Z"
   },
   {
    "duration": 487,
    "start_time": "2022-06-13T20:19:05.649Z"
   },
   {
    "duration": 49,
    "start_time": "2022-06-13T20:19:06.138Z"
   },
   {
    "duration": 74,
    "start_time": "2022-06-13T20:19:06.190Z"
   },
   {
    "duration": 46,
    "start_time": "2022-06-13T20:19:06.273Z"
   },
   {
    "duration": 62,
    "start_time": "2022-06-13T20:19:06.321Z"
   },
   {
    "duration": 20,
    "start_time": "2022-06-13T20:19:06.385Z"
   },
   {
    "duration": 21,
    "start_time": "2022-06-13T20:19:06.407Z"
   },
   {
    "duration": 7,
    "start_time": "2022-06-13T20:19:06.430Z"
   },
   {
    "duration": 101,
    "start_time": "2022-06-13T20:19:06.439Z"
   },
   {
    "duration": 26,
    "start_time": "2022-06-13T20:19:06.542Z"
   },
   {
    "duration": 79,
    "start_time": "2022-06-13T20:19:06.572Z"
   },
   {
    "duration": 25,
    "start_time": "2022-06-13T20:19:06.652Z"
   },
   {
    "duration": 9,
    "start_time": "2022-06-13T20:19:06.680Z"
   },
   {
    "duration": 11,
    "start_time": "2022-06-13T20:19:35.770Z"
   },
   {
    "duration": 6,
    "start_time": "2022-06-13T20:20:52.126Z"
   },
   {
    "duration": 11,
    "start_time": "2022-06-13T20:21:02.135Z"
   },
   {
    "duration": 6,
    "start_time": "2022-06-13T20:22:02.595Z"
   },
   {
    "duration": 1087,
    "start_time": "2022-06-13T20:22:07.712Z"
   },
   {
    "duration": 1307,
    "start_time": "2022-06-13T20:22:08.802Z"
   },
   {
    "duration": 36,
    "start_time": "2022-06-13T20:22:10.111Z"
   },
   {
    "duration": 65,
    "start_time": "2022-06-13T20:22:10.149Z"
   },
   {
    "duration": 56,
    "start_time": "2022-06-13T20:22:10.216Z"
   },
   {
    "duration": 48,
    "start_time": "2022-06-13T20:22:10.275Z"
   },
   {
    "duration": 25,
    "start_time": "2022-06-13T20:22:10.326Z"
   },
   {
    "duration": 21,
    "start_time": "2022-06-13T20:22:10.353Z"
   },
   {
    "duration": 16,
    "start_time": "2022-06-13T20:22:10.385Z"
   },
   {
    "duration": 111,
    "start_time": "2022-06-13T20:22:10.403Z"
   },
   {
    "duration": 9,
    "start_time": "2022-06-13T20:22:10.516Z"
   },
   {
    "duration": 95,
    "start_time": "2022-06-13T20:22:10.527Z"
   },
   {
    "duration": 19,
    "start_time": "2022-06-13T20:22:10.624Z"
   },
   {
    "duration": 37,
    "start_time": "2022-06-13T20:22:10.646Z"
   },
   {
    "duration": 12,
    "start_time": "2022-06-13T20:22:10.685Z"
   },
   {
    "duration": 473,
    "start_time": "2022-06-13T20:22:33.326Z"
   },
   {
    "duration": 520,
    "start_time": "2022-06-13T20:22:33.802Z"
   },
   {
    "duration": 28,
    "start_time": "2022-06-13T20:22:34.324Z"
   },
   {
    "duration": 65,
    "start_time": "2022-06-13T20:22:34.355Z"
   },
   {
    "duration": 51,
    "start_time": "2022-06-13T20:22:34.422Z"
   },
   {
    "duration": 63,
    "start_time": "2022-06-13T20:22:34.475Z"
   },
   {
    "duration": 36,
    "start_time": "2022-06-13T20:22:34.540Z"
   },
   {
    "duration": 7,
    "start_time": "2022-06-13T20:22:34.578Z"
   },
   {
    "duration": 7,
    "start_time": "2022-06-13T20:22:34.587Z"
   },
   {
    "duration": 121,
    "start_time": "2022-06-13T20:22:34.598Z"
   },
   {
    "duration": 6,
    "start_time": "2022-06-13T20:22:34.721Z"
   },
   {
    "duration": 88,
    "start_time": "2022-06-13T20:22:34.729Z"
   },
   {
    "duration": 21,
    "start_time": "2022-06-13T20:22:34.818Z"
   },
   {
    "duration": 12,
    "start_time": "2022-06-13T20:22:34.841Z"
   },
   {
    "duration": 42,
    "start_time": "2022-06-13T20:22:34.856Z"
   },
   {
    "duration": 87,
    "start_time": "2022-06-13T20:27:44.803Z"
   },
   {
    "duration": 50,
    "start_time": "2022-06-13T20:28:25.633Z"
   },
   {
    "duration": 7,
    "start_time": "2022-06-13T20:28:42.034Z"
   },
   {
    "duration": 16,
    "start_time": "2022-06-13T20:28:51.420Z"
   },
   {
    "duration": 21,
    "start_time": "2022-06-13T20:29:05.970Z"
   },
   {
    "duration": 19,
    "start_time": "2022-06-13T20:29:34.694Z"
   },
   {
    "duration": 21,
    "start_time": "2022-06-13T20:29:42.198Z"
   },
   {
    "duration": 26,
    "start_time": "2022-06-13T20:29:58.475Z"
   },
   {
    "duration": 1074,
    "start_time": "2022-06-13T20:30:14.759Z"
   },
   {
    "duration": 714,
    "start_time": "2022-06-13T20:30:15.835Z"
   },
   {
    "duration": 41,
    "start_time": "2022-06-13T20:30:16.551Z"
   },
   {
    "duration": 59,
    "start_time": "2022-06-13T20:30:16.595Z"
   },
   {
    "duration": 51,
    "start_time": "2022-06-13T20:30:16.657Z"
   },
   {
    "duration": 35,
    "start_time": "2022-06-13T20:30:16.710Z"
   },
   {
    "duration": 31,
    "start_time": "2022-06-13T20:30:16.763Z"
   },
   {
    "duration": 15,
    "start_time": "2022-06-13T20:30:16.796Z"
   },
   {
    "duration": 12,
    "start_time": "2022-06-13T20:30:16.813Z"
   },
   {
    "duration": 124,
    "start_time": "2022-06-13T20:30:16.826Z"
   },
   {
    "duration": 8,
    "start_time": "2022-06-13T20:30:16.952Z"
   },
   {
    "duration": 113,
    "start_time": "2022-06-13T20:30:16.964Z"
   },
   {
    "duration": 9,
    "start_time": "2022-06-13T20:30:17.079Z"
   },
   {
    "duration": 19,
    "start_time": "2022-06-13T20:30:17.091Z"
   },
   {
    "duration": 9,
    "start_time": "2022-06-13T20:30:17.112Z"
   },
   {
    "duration": 11,
    "start_time": "2022-06-13T20:30:17.122Z"
   },
   {
    "duration": 42,
    "start_time": "2022-06-15T18:58:52.905Z"
   },
   {
    "duration": 5,
    "start_time": "2022-06-15T18:58:55.243Z"
   },
   {
    "duration": 387,
    "start_time": "2022-06-15T18:59:00.515Z"
   },
   {
    "duration": 1173,
    "start_time": "2022-06-15T18:59:00.905Z"
   },
   {
    "duration": 32,
    "start_time": "2022-06-15T18:59:02.080Z"
   },
   {
    "duration": 47,
    "start_time": "2022-06-15T18:59:02.114Z"
   },
   {
    "duration": 32,
    "start_time": "2022-06-15T18:59:02.164Z"
   },
   {
    "duration": 28,
    "start_time": "2022-06-15T18:59:02.198Z"
   },
   {
    "duration": 17,
    "start_time": "2022-06-15T18:59:02.227Z"
   },
   {
    "duration": 34,
    "start_time": "2022-06-15T18:59:02.246Z"
   },
   {
    "duration": 13,
    "start_time": "2022-06-15T18:59:02.282Z"
   },
   {
    "duration": 114,
    "start_time": "2022-06-15T18:59:02.297Z"
   },
   {
    "duration": 8,
    "start_time": "2022-06-15T18:59:02.413Z"
   },
   {
    "duration": 76,
    "start_time": "2022-06-15T18:59:02.423Z"
   },
   {
    "duration": 8,
    "start_time": "2022-06-15T18:59:02.501Z"
   },
   {
    "duration": 20,
    "start_time": "2022-06-15T18:59:02.512Z"
   },
   {
    "duration": 9,
    "start_time": "2022-06-15T18:59:02.534Z"
   },
   {
    "duration": 10,
    "start_time": "2022-06-15T18:59:02.544Z"
   },
   {
    "duration": 8,
    "start_time": "2022-06-15T18:59:02.556Z"
   },
   {
    "duration": 0,
    "start_time": "2022-06-15T18:59:02.565Z"
   },
   {
    "duration": 7,
    "start_time": "2022-06-15T18:59:05.939Z"
   },
   {
    "duration": 3,
    "start_time": "2022-06-15T19:05:15.895Z"
   },
   {
    "duration": 57,
    "start_time": "2022-06-15T19:05:56.558Z"
   },
   {
    "duration": 297,
    "start_time": "2022-06-15T19:06:01.142Z"
   },
   {
    "duration": 14,
    "start_time": "2022-06-15T19:06:15.105Z"
   },
   {
    "duration": 17,
    "start_time": "2022-06-15T19:06:39.653Z"
   },
   {
    "duration": 12,
    "start_time": "2022-06-15T19:07:09.785Z"
   },
   {
    "duration": 7,
    "start_time": "2022-06-15T19:07:35.468Z"
   },
   {
    "duration": 11,
    "start_time": "2022-06-15T19:07:38.799Z"
   },
   {
    "duration": 17,
    "start_time": "2022-06-15T19:07:49.486Z"
   },
   {
    "duration": 6,
    "start_time": "2022-06-15T19:08:20.671Z"
   },
   {
    "duration": 18,
    "start_time": "2022-06-15T19:10:29.583Z"
   },
   {
    "duration": 20,
    "start_time": "2022-06-15T19:11:53.894Z"
   },
   {
    "duration": 20,
    "start_time": "2022-06-15T19:12:09.966Z"
   },
   {
    "duration": 14,
    "start_time": "2022-06-15T19:12:46.959Z"
   },
   {
    "duration": 399,
    "start_time": "2022-06-15T19:12:56.555Z"
   },
   {
    "duration": 371,
    "start_time": "2022-06-15T19:12:56.955Z"
   },
   {
    "duration": 26,
    "start_time": "2022-06-15T19:12:57.327Z"
   },
   {
    "duration": 33,
    "start_time": "2022-06-15T19:12:57.354Z"
   },
   {
    "duration": 22,
    "start_time": "2022-06-15T19:12:57.388Z"
   },
   {
    "duration": 25,
    "start_time": "2022-06-15T19:12:57.412Z"
   },
   {
    "duration": 40,
    "start_time": "2022-06-15T19:12:57.438Z"
   },
   {
    "duration": 4,
    "start_time": "2022-06-15T19:12:57.480Z"
   },
   {
    "duration": 5,
    "start_time": "2022-06-15T19:12:57.485Z"
   },
   {
    "duration": 86,
    "start_time": "2022-06-15T19:12:57.492Z"
   },
   {
    "duration": 6,
    "start_time": "2022-06-15T19:12:57.582Z"
   },
   {
    "duration": 67,
    "start_time": "2022-06-15T19:12:57.590Z"
   },
   {
    "duration": 21,
    "start_time": "2022-06-15T19:12:57.659Z"
   },
   {
    "duration": 11,
    "start_time": "2022-06-15T19:12:57.682Z"
   },
   {
    "duration": 17,
    "start_time": "2022-06-15T19:12:57.695Z"
   },
   {
    "duration": 14,
    "start_time": "2022-06-15T19:12:57.714Z"
   },
   {
    "duration": 30,
    "start_time": "2022-06-15T19:12:57.730Z"
   },
   {
    "duration": 7,
    "start_time": "2022-06-15T19:17:56.587Z"
   },
   {
    "duration": 2,
    "start_time": "2022-06-15T19:19:54.354Z"
   },
   {
    "duration": 379,
    "start_time": "2022-06-15T19:20:02.183Z"
   },
   {
    "duration": 375,
    "start_time": "2022-06-15T19:20:02.564Z"
   },
   {
    "duration": 24,
    "start_time": "2022-06-15T19:20:02.941Z"
   },
   {
    "duration": 30,
    "start_time": "2022-06-15T19:20:02.967Z"
   },
   {
    "duration": 23,
    "start_time": "2022-06-15T19:20:02.999Z"
   },
   {
    "duration": 26,
    "start_time": "2022-06-15T19:20:03.024Z"
   },
   {
    "duration": 37,
    "start_time": "2022-06-15T19:20:03.052Z"
   },
   {
    "duration": 10,
    "start_time": "2022-06-15T19:20:03.090Z"
   },
   {
    "duration": 8,
    "start_time": "2022-06-15T19:20:03.102Z"
   },
   {
    "duration": 80,
    "start_time": "2022-06-15T19:20:03.113Z"
   },
   {
    "duration": 6,
    "start_time": "2022-06-15T19:20:03.195Z"
   },
   {
    "duration": 60,
    "start_time": "2022-06-15T19:20:03.202Z"
   },
   {
    "duration": 15,
    "start_time": "2022-06-15T19:20:03.263Z"
   },
   {
    "duration": 3,
    "start_time": "2022-06-15T19:20:03.280Z"
   },
   {
    "duration": 6,
    "start_time": "2022-06-15T19:20:03.285Z"
   },
   {
    "duration": 12,
    "start_time": "2022-06-15T19:20:03.292Z"
   },
   {
    "duration": 25,
    "start_time": "2022-06-15T19:20:03.306Z"
   },
   {
    "duration": 8,
    "start_time": "2022-06-15T19:20:03.333Z"
   },
   {
    "duration": 4,
    "start_time": "2022-06-15T19:22:03.748Z"
   },
   {
    "duration": 9,
    "start_time": "2022-06-15T19:22:13.106Z"
   },
   {
    "duration": 533,
    "start_time": "2022-06-15T19:22:44.558Z"
   },
   {
    "duration": 9,
    "start_time": "2022-06-15T19:22:58.360Z"
   },
   {
    "duration": 4,
    "start_time": "2022-06-15T19:24:58.213Z"
   },
   {
    "duration": 522,
    "start_time": "2022-06-15T19:25:05.540Z"
   },
   {
    "duration": 402,
    "start_time": "2022-06-15T19:25:06.064Z"
   },
   {
    "duration": 21,
    "start_time": "2022-06-15T19:25:06.468Z"
   },
   {
    "duration": 33,
    "start_time": "2022-06-15T19:25:06.490Z"
   },
   {
    "duration": 23,
    "start_time": "2022-06-15T19:25:06.525Z"
   },
   {
    "duration": 44,
    "start_time": "2022-06-15T19:25:06.550Z"
   },
   {
    "duration": 14,
    "start_time": "2022-06-15T19:25:06.595Z"
   },
   {
    "duration": 3,
    "start_time": "2022-06-15T19:25:06.611Z"
   },
   {
    "duration": 12,
    "start_time": "2022-06-15T19:25:06.615Z"
   },
   {
    "duration": 90,
    "start_time": "2022-06-15T19:25:06.629Z"
   },
   {
    "duration": 5,
    "start_time": "2022-06-15T19:25:06.721Z"
   },
   {
    "duration": 61,
    "start_time": "2022-06-15T19:25:06.728Z"
   },
   {
    "duration": 6,
    "start_time": "2022-06-15T19:25:06.790Z"
   },
   {
    "duration": 20,
    "start_time": "2022-06-15T19:25:06.797Z"
   },
   {
    "duration": 20,
    "start_time": "2022-06-15T19:25:06.819Z"
   },
   {
    "duration": 23,
    "start_time": "2022-06-15T19:25:06.840Z"
   },
   {
    "duration": 40,
    "start_time": "2022-06-15T19:25:06.864Z"
   },
   {
    "duration": 16,
    "start_time": "2022-06-15T19:25:06.907Z"
   },
   {
    "duration": 165,
    "start_time": "2022-06-15T19:25:14.415Z"
   },
   {
    "duration": 8,
    "start_time": "2022-06-15T19:25:25.916Z"
   },
   {
    "duration": 4,
    "start_time": "2022-06-15T19:26:56.126Z"
   },
   {
    "duration": 4,
    "start_time": "2022-06-15T19:27:04.742Z"
   },
   {
    "duration": 7,
    "start_time": "2022-06-15T19:27:52.100Z"
   },
   {
    "duration": 12,
    "start_time": "2022-06-15T19:28:00.568Z"
   },
   {
    "duration": 4,
    "start_time": "2022-06-15T19:28:20.433Z"
   },
   {
    "duration": 7,
    "start_time": "2022-06-15T19:29:08.282Z"
   },
   {
    "duration": 5,
    "start_time": "2022-06-15T19:29:22.407Z"
   },
   {
    "duration": 9,
    "start_time": "2022-06-15T19:29:32.645Z"
   },
   {
    "duration": 4,
    "start_time": "2022-06-15T19:29:58.781Z"
   },
   {
    "duration": 6,
    "start_time": "2022-06-15T19:35:47.328Z"
   },
   {
    "duration": 9,
    "start_time": "2022-06-15T19:36:15.853Z"
   },
   {
    "duration": 11,
    "start_time": "2022-06-15T19:36:41.555Z"
   },
   {
    "duration": 7,
    "start_time": "2022-06-15T19:37:24.829Z"
   },
   {
    "duration": 4,
    "start_time": "2022-06-15T19:37:34.854Z"
   },
   {
    "duration": 606,
    "start_time": "2022-06-15T19:38:03.118Z"
   },
   {
    "duration": 413,
    "start_time": "2022-06-15T19:38:03.726Z"
   },
   {
    "duration": 23,
    "start_time": "2022-06-15T19:38:04.140Z"
   },
   {
    "duration": 49,
    "start_time": "2022-06-15T19:38:04.165Z"
   },
   {
    "duration": 24,
    "start_time": "2022-06-15T19:38:04.216Z"
   },
   {
    "duration": 48,
    "start_time": "2022-06-15T19:38:04.242Z"
   },
   {
    "duration": 16,
    "start_time": "2022-06-15T19:38:04.291Z"
   },
   {
    "duration": 3,
    "start_time": "2022-06-15T19:38:04.308Z"
   },
   {
    "duration": 7,
    "start_time": "2022-06-15T19:38:04.313Z"
   },
   {
    "duration": 106,
    "start_time": "2022-06-15T19:38:04.323Z"
   },
   {
    "duration": 7,
    "start_time": "2022-06-15T19:38:04.431Z"
   },
   {
    "duration": 75,
    "start_time": "2022-06-15T19:38:04.441Z"
   },
   {
    "duration": 8,
    "start_time": "2022-06-15T19:38:04.518Z"
   },
   {
    "duration": 10,
    "start_time": "2022-06-15T19:38:04.528Z"
   },
   {
    "duration": 9,
    "start_time": "2022-06-15T19:38:04.539Z"
   },
   {
    "duration": 14,
    "start_time": "2022-06-15T19:38:04.549Z"
   },
   {
    "duration": 27,
    "start_time": "2022-06-15T19:38:04.564Z"
   },
   {
    "duration": 60,
    "start_time": "2022-06-15T19:43:43.374Z"
   },
   {
    "duration": 206,
    "start_time": "2022-06-15T19:43:47.733Z"
   },
   {
    "duration": 105,
    "start_time": "2022-06-15T19:44:04.403Z"
   },
   {
    "duration": 8,
    "start_time": "2022-06-15T19:44:11.268Z"
   },
   {
    "duration": 7,
    "start_time": "2022-06-15T19:46:05.653Z"
   },
   {
    "duration": 636,
    "start_time": "2022-06-15T19:48:23.493Z"
   },
   {
    "duration": 395,
    "start_time": "2022-06-15T19:48:24.131Z"
   },
   {
    "duration": 26,
    "start_time": "2022-06-15T19:48:24.528Z"
   },
   {
    "duration": 31,
    "start_time": "2022-06-15T19:48:24.557Z"
   },
   {
    "duration": 24,
    "start_time": "2022-06-15T19:48:24.590Z"
   },
   {
    "duration": 27,
    "start_time": "2022-06-15T19:48:24.615Z"
   },
   {
    "duration": 36,
    "start_time": "2022-06-15T19:48:24.644Z"
   },
   {
    "duration": 8,
    "start_time": "2022-06-15T19:48:24.681Z"
   },
   {
    "duration": 11,
    "start_time": "2022-06-15T19:48:24.690Z"
   },
   {
    "duration": 91,
    "start_time": "2022-06-15T19:48:24.704Z"
   },
   {
    "duration": 7,
    "start_time": "2022-06-15T19:48:24.798Z"
   },
   {
    "duration": 74,
    "start_time": "2022-06-15T19:48:24.808Z"
   },
   {
    "duration": 8,
    "start_time": "2022-06-15T19:48:24.884Z"
   },
   {
    "duration": 9,
    "start_time": "2022-06-15T19:48:24.893Z"
   },
   {
    "duration": 6,
    "start_time": "2022-06-15T19:48:24.903Z"
   },
   {
    "duration": 80,
    "start_time": "2022-06-15T19:48:24.911Z"
   },
   {
    "duration": 0,
    "start_time": "2022-06-15T19:48:24.993Z"
   },
   {
    "duration": 0,
    "start_time": "2022-06-15T19:48:24.994Z"
   },
   {
    "duration": 525,
    "start_time": "2022-06-15T19:48:32.520Z"
   },
   {
    "duration": 415,
    "start_time": "2022-06-15T19:48:33.047Z"
   },
   {
    "duration": 21,
    "start_time": "2022-06-15T19:48:33.463Z"
   },
   {
    "duration": 32,
    "start_time": "2022-06-15T19:48:33.486Z"
   },
   {
    "duration": 22,
    "start_time": "2022-06-15T19:48:33.519Z"
   },
   {
    "duration": 49,
    "start_time": "2022-06-15T19:48:33.542Z"
   },
   {
    "duration": 13,
    "start_time": "2022-06-15T19:48:33.593Z"
   },
   {
    "duration": 4,
    "start_time": "2022-06-15T19:48:33.608Z"
   },
   {
    "duration": 6,
    "start_time": "2022-06-15T19:48:33.613Z"
   },
   {
    "duration": 112,
    "start_time": "2022-06-15T19:48:33.621Z"
   },
   {
    "duration": 7,
    "start_time": "2022-06-15T19:48:33.735Z"
   },
   {
    "duration": 69,
    "start_time": "2022-06-15T19:48:33.743Z"
   },
   {
    "duration": 6,
    "start_time": "2022-06-15T19:48:33.814Z"
   },
   {
    "duration": 30,
    "start_time": "2022-06-15T19:48:33.821Z"
   },
   {
    "duration": 12,
    "start_time": "2022-06-15T19:48:33.853Z"
   },
   {
    "duration": 10,
    "start_time": "2022-06-15T19:48:33.867Z"
   },
   {
    "duration": 19,
    "start_time": "2022-06-15T19:48:33.878Z"
   },
   {
    "duration": 13,
    "start_time": "2022-06-15T19:48:33.899Z"
   },
   {
    "duration": 4,
    "start_time": "2022-06-15T19:49:30.553Z"
   },
   {
    "duration": 585,
    "start_time": "2022-06-15T19:49:34.766Z"
   },
   {
    "duration": 384,
    "start_time": "2022-06-15T19:49:35.353Z"
   },
   {
    "duration": 22,
    "start_time": "2022-06-15T19:49:35.739Z"
   },
   {
    "duration": 33,
    "start_time": "2022-06-15T19:49:35.762Z"
   },
   {
    "duration": 26,
    "start_time": "2022-06-15T19:49:35.797Z"
   },
   {
    "duration": 36,
    "start_time": "2022-06-15T19:49:35.825Z"
   },
   {
    "duration": 18,
    "start_time": "2022-06-15T19:49:35.878Z"
   },
   {
    "duration": 5,
    "start_time": "2022-06-15T19:49:35.898Z"
   },
   {
    "duration": 15,
    "start_time": "2022-06-15T19:49:35.905Z"
   },
   {
    "duration": 92,
    "start_time": "2022-06-15T19:49:35.921Z"
   },
   {
    "duration": 6,
    "start_time": "2022-06-15T19:49:36.015Z"
   },
   {
    "duration": 70,
    "start_time": "2022-06-15T19:49:36.022Z"
   },
   {
    "duration": 9,
    "start_time": "2022-06-15T19:49:36.094Z"
   },
   {
    "duration": 22,
    "start_time": "2022-06-15T19:49:36.106Z"
   },
   {
    "duration": 17,
    "start_time": "2022-06-15T19:49:36.131Z"
   },
   {
    "duration": 41,
    "start_time": "2022-06-15T19:49:36.150Z"
   },
   {
    "duration": 22,
    "start_time": "2022-06-15T19:49:36.193Z"
   },
   {
    "duration": 18,
    "start_time": "2022-06-15T19:49:36.216Z"
   },
   {
    "duration": 596,
    "start_time": "2022-06-15T19:51:51.889Z"
   },
   {
    "duration": 419,
    "start_time": "2022-06-15T19:51:52.487Z"
   },
   {
    "duration": 22,
    "start_time": "2022-06-15T19:51:52.908Z"
   },
   {
    "duration": 41,
    "start_time": "2022-06-15T19:51:52.931Z"
   },
   {
    "duration": 24,
    "start_time": "2022-06-15T19:51:52.974Z"
   },
   {
    "duration": 28,
    "start_time": "2022-06-15T19:51:53.000Z"
   },
   {
    "duration": 15,
    "start_time": "2022-06-15T19:51:53.030Z"
   },
   {
    "duration": 32,
    "start_time": "2022-06-15T19:51:53.046Z"
   },
   {
    "duration": 8,
    "start_time": "2022-06-15T19:51:53.080Z"
   },
   {
    "duration": 72,
    "start_time": "2022-06-15T19:51:53.089Z"
   },
   {
    "duration": 15,
    "start_time": "2022-06-15T19:51:53.163Z"
   },
   {
    "duration": 68,
    "start_time": "2022-06-15T19:51:53.180Z"
   },
   {
    "duration": 7,
    "start_time": "2022-06-15T19:51:53.250Z"
   },
   {
    "duration": 5,
    "start_time": "2022-06-15T19:51:53.277Z"
   },
   {
    "duration": 11,
    "start_time": "2022-06-15T19:51:53.283Z"
   },
   {
    "duration": 11,
    "start_time": "2022-06-15T19:51:53.295Z"
   },
   {
    "duration": 21,
    "start_time": "2022-06-15T19:51:53.307Z"
   },
   {
    "duration": 8,
    "start_time": "2022-06-15T19:51:53.331Z"
   },
   {
    "duration": 3,
    "start_time": "2022-06-15T19:52:06.795Z"
   },
   {
    "duration": 546,
    "start_time": "2022-06-15T19:52:11.199Z"
   },
   {
    "duration": 422,
    "start_time": "2022-06-15T19:52:11.747Z"
   },
   {
    "duration": 22,
    "start_time": "2022-06-15T19:52:12.171Z"
   },
   {
    "duration": 35,
    "start_time": "2022-06-15T19:52:12.195Z"
   },
   {
    "duration": 48,
    "start_time": "2022-06-15T19:52:12.233Z"
   },
   {
    "duration": 28,
    "start_time": "2022-06-15T19:52:12.283Z"
   },
   {
    "duration": 15,
    "start_time": "2022-06-15T19:52:12.313Z"
   },
   {
    "duration": 5,
    "start_time": "2022-06-15T19:52:12.329Z"
   },
   {
    "duration": 11,
    "start_time": "2022-06-15T19:52:12.336Z"
   },
   {
    "duration": 97,
    "start_time": "2022-06-15T19:52:12.349Z"
   },
   {
    "duration": 6,
    "start_time": "2022-06-15T19:52:12.448Z"
   },
   {
    "duration": 69,
    "start_time": "2022-06-15T19:52:12.455Z"
   },
   {
    "duration": 7,
    "start_time": "2022-06-15T19:52:12.525Z"
   },
   {
    "duration": 10,
    "start_time": "2022-06-15T19:52:12.535Z"
   },
   {
    "duration": 11,
    "start_time": "2022-06-15T19:52:12.548Z"
   },
   {
    "duration": 21,
    "start_time": "2022-06-15T19:52:12.561Z"
   },
   {
    "duration": 19,
    "start_time": "2022-06-15T19:52:12.584Z"
   },
   {
    "duration": 7,
    "start_time": "2022-06-15T19:52:12.605Z"
   },
   {
    "duration": 6,
    "start_time": "2022-06-15T19:54:49.050Z"
   },
   {
    "duration": 8,
    "start_time": "2022-06-15T19:55:15.603Z"
   },
   {
    "duration": 7,
    "start_time": "2022-06-15T19:56:50.645Z"
   },
   {
    "duration": 8,
    "start_time": "2022-06-15T19:57:02.279Z"
   },
   {
    "duration": 498,
    "start_time": "2022-06-15T19:57:10.747Z"
   },
   {
    "duration": 8,
    "start_time": "2022-06-15T19:57:24.831Z"
   },
   {
    "duration": 7,
    "start_time": "2022-06-15T19:58:47.238Z"
   },
   {
    "duration": 3,
    "start_time": "2022-06-15T19:59:11.841Z"
   },
   {
    "duration": 557,
    "start_time": "2022-06-15T19:59:16.276Z"
   },
   {
    "duration": 378,
    "start_time": "2022-06-15T19:59:16.835Z"
   },
   {
    "duration": 23,
    "start_time": "2022-06-15T19:59:17.214Z"
   },
   {
    "duration": 30,
    "start_time": "2022-06-15T19:59:17.239Z"
   },
   {
    "duration": 20,
    "start_time": "2022-06-15T19:59:17.270Z"
   },
   {
    "duration": 25,
    "start_time": "2022-06-15T19:59:17.292Z"
   },
   {
    "duration": 16,
    "start_time": "2022-06-15T19:59:17.318Z"
   },
   {
    "duration": 6,
    "start_time": "2022-06-15T19:59:17.336Z"
   },
   {
    "duration": 13,
    "start_time": "2022-06-15T19:59:17.343Z"
   },
   {
    "duration": 93,
    "start_time": "2022-06-15T19:59:17.359Z"
   },
   {
    "duration": 6,
    "start_time": "2022-06-15T19:59:17.453Z"
   },
   {
    "duration": 69,
    "start_time": "2022-06-15T19:59:17.460Z"
   },
   {
    "duration": 7,
    "start_time": "2022-06-15T19:59:17.530Z"
   },
   {
    "duration": 22,
    "start_time": "2022-06-15T19:59:17.538Z"
   },
   {
    "duration": 13,
    "start_time": "2022-06-15T19:59:17.561Z"
   },
   {
    "duration": 25,
    "start_time": "2022-06-15T19:59:17.576Z"
   },
   {
    "duration": 24,
    "start_time": "2022-06-15T19:59:17.603Z"
   },
   {
    "duration": 13,
    "start_time": "2022-06-15T19:59:17.629Z"
   },
   {
    "duration": 3,
    "start_time": "2022-06-15T19:59:21.581Z"
   },
   {
    "duration": 4,
    "start_time": "2022-06-15T19:59:32.109Z"
   },
   {
    "duration": 4,
    "start_time": "2022-06-15T19:59:45.732Z"
   },
   {
    "duration": 83,
    "start_time": "2022-06-15T20:03:26.434Z"
   },
   {
    "duration": 23,
    "start_time": "2022-06-15T20:03:33.349Z"
   },
   {
    "duration": 3,
    "start_time": "2022-06-15T20:03:51.563Z"
   },
   {
    "duration": 5,
    "start_time": "2022-06-15T20:04:11.838Z"
   },
   {
    "duration": 7,
    "start_time": "2022-06-15T20:05:11.521Z"
   },
   {
    "duration": 141,
    "start_time": "2022-06-15T20:06:31.275Z"
   },
   {
    "duration": 156,
    "start_time": "2022-06-15T20:06:47.622Z"
   },
   {
    "duration": 120,
    "start_time": "2022-06-15T20:06:54.760Z"
   },
   {
    "duration": 130,
    "start_time": "2022-06-15T20:07:06.740Z"
   },
   {
    "duration": 187,
    "start_time": "2022-06-15T20:07:14.758Z"
   },
   {
    "duration": 143,
    "start_time": "2022-06-15T20:07:47.848Z"
   },
   {
    "duration": 130,
    "start_time": "2022-06-15T20:07:57.897Z"
   },
   {
    "duration": 129,
    "start_time": "2022-06-15T20:08:05.383Z"
   },
   {
    "duration": 169,
    "start_time": "2022-06-15T20:08:25.623Z"
   },
   {
    "duration": 171,
    "start_time": "2022-06-15T20:08:33.916Z"
   },
   {
    "duration": 142,
    "start_time": "2022-06-15T20:08:42.841Z"
   },
   {
    "duration": 142,
    "start_time": "2022-06-15T20:08:52.669Z"
   },
   {
    "duration": 142,
    "start_time": "2022-06-15T20:11:12.853Z"
   },
   {
    "duration": 143,
    "start_time": "2022-06-15T20:11:21.887Z"
   },
   {
    "duration": 225,
    "start_time": "2022-06-15T20:11:30.396Z"
   },
   {
    "duration": 144,
    "start_time": "2022-06-15T20:11:40.706Z"
   },
   {
    "duration": 144,
    "start_time": "2022-06-15T20:11:48.904Z"
   },
   {
    "duration": 132,
    "start_time": "2022-06-15T20:12:15.772Z"
   },
   {
    "duration": 153,
    "start_time": "2022-06-15T20:12:34.198Z"
   },
   {
    "duration": 150,
    "start_time": "2022-06-15T20:12:40.399Z"
   },
   {
    "duration": 157,
    "start_time": "2022-06-15T20:12:50.774Z"
   },
   {
    "duration": 124,
    "start_time": "2022-06-15T20:13:15.506Z"
   },
   {
    "duration": 181,
    "start_time": "2022-06-15T20:13:27.682Z"
   },
   {
    "duration": 7,
    "start_time": "2022-06-15T20:35:26.463Z"
   },
   {
    "duration": 7,
    "start_time": "2022-06-15T20:37:03.790Z"
   },
   {
    "duration": 10,
    "start_time": "2022-06-15T20:37:14.855Z"
   },
   {
    "duration": 9,
    "start_time": "2022-06-15T20:43:49.728Z"
   },
   {
    "duration": 4,
    "start_time": "2022-06-15T20:43:54.535Z"
   },
   {
    "duration": 6,
    "start_time": "2022-06-15T21:18:38.970Z"
   },
   {
    "duration": 811,
    "start_time": "2022-06-15T21:20:10.645Z"
   },
   {
    "duration": 6,
    "start_time": "2022-06-15T21:20:40.165Z"
   },
   {
    "duration": 7,
    "start_time": "2022-06-15T21:20:51.874Z"
   },
   {
    "duration": 6,
    "start_time": "2022-06-15T21:20:59.550Z"
   },
   {
    "duration": 5,
    "start_time": "2022-06-15T21:22:37.244Z"
   },
   {
    "duration": 7,
    "start_time": "2022-06-15T21:22:50.836Z"
   },
   {
    "duration": 555,
    "start_time": "2022-06-15T21:23:01.272Z"
   },
   {
    "duration": 429,
    "start_time": "2022-06-15T21:23:01.829Z"
   },
   {
    "duration": 21,
    "start_time": "2022-06-15T21:23:02.259Z"
   },
   {
    "duration": 35,
    "start_time": "2022-06-15T21:23:02.281Z"
   },
   {
    "duration": 22,
    "start_time": "2022-06-15T21:23:02.318Z"
   },
   {
    "duration": 40,
    "start_time": "2022-06-15T21:23:02.342Z"
   },
   {
    "duration": 13,
    "start_time": "2022-06-15T21:23:02.383Z"
   },
   {
    "duration": 8,
    "start_time": "2022-06-15T21:23:02.398Z"
   },
   {
    "duration": 14,
    "start_time": "2022-06-15T21:23:02.407Z"
   },
   {
    "duration": 81,
    "start_time": "2022-06-15T21:23:02.424Z"
   },
   {
    "duration": 7,
    "start_time": "2022-06-15T21:23:02.507Z"
   },
   {
    "duration": 73,
    "start_time": "2022-06-15T21:23:02.515Z"
   },
   {
    "duration": 8,
    "start_time": "2022-06-15T21:23:02.590Z"
   },
   {
    "duration": 17,
    "start_time": "2022-06-15T21:23:02.600Z"
   },
   {
    "duration": 6,
    "start_time": "2022-06-15T21:23:02.619Z"
   },
   {
    "duration": 19,
    "start_time": "2022-06-15T21:23:02.627Z"
   },
   {
    "duration": 20,
    "start_time": "2022-06-15T21:23:02.647Z"
   },
   {
    "duration": 7,
    "start_time": "2022-06-15T21:23:02.669Z"
   },
   {
    "duration": 5,
    "start_time": "2022-06-15T21:23:02.678Z"
   },
   {
    "duration": 125,
    "start_time": "2022-06-15T21:23:56.261Z"
   },
   {
    "duration": 124,
    "start_time": "2022-06-15T21:24:20.534Z"
   },
   {
    "duration": 126,
    "start_time": "2022-06-15T21:24:28.094Z"
   },
   {
    "duration": 115,
    "start_time": "2022-06-15T21:26:45.205Z"
   },
   {
    "duration": 162,
    "start_time": "2022-06-15T21:27:20.419Z"
   },
   {
    "duration": 119,
    "start_time": "2022-06-15T21:27:56.430Z"
   },
   {
    "duration": 128,
    "start_time": "2022-06-15T21:28:02.772Z"
   },
   {
    "duration": 135,
    "start_time": "2022-06-15T21:29:23.914Z"
   },
   {
    "duration": 106,
    "start_time": "2022-06-15T21:29:54.723Z"
   },
   {
    "duration": 498,
    "start_time": "2022-06-15T21:30:27.505Z"
   },
   {
    "duration": 127,
    "start_time": "2022-06-15T21:30:35.953Z"
   },
   {
    "duration": 116,
    "start_time": "2022-06-15T21:31:29.687Z"
   },
   {
    "duration": 118,
    "start_time": "2022-06-15T21:32:00.195Z"
   },
   {
    "duration": 120,
    "start_time": "2022-06-15T21:32:26.885Z"
   },
   {
    "duration": 511,
    "start_time": "2022-06-15T21:32:48.115Z"
   },
   {
    "duration": 374,
    "start_time": "2022-06-15T21:32:48.628Z"
   },
   {
    "duration": 23,
    "start_time": "2022-06-15T21:32:49.003Z"
   },
   {
    "duration": 31,
    "start_time": "2022-06-15T21:32:49.027Z"
   },
   {
    "duration": 21,
    "start_time": "2022-06-15T21:32:49.060Z"
   },
   {
    "duration": 26,
    "start_time": "2022-06-15T21:32:49.082Z"
   },
   {
    "duration": 12,
    "start_time": "2022-06-15T21:32:49.109Z"
   },
   {
    "duration": 5,
    "start_time": "2022-06-15T21:32:49.123Z"
   },
   {
    "duration": 7,
    "start_time": "2022-06-15T21:32:49.130Z"
   },
   {
    "duration": 86,
    "start_time": "2022-06-15T21:32:49.139Z"
   },
   {
    "duration": 5,
    "start_time": "2022-06-15T21:32:49.227Z"
   },
   {
    "duration": 61,
    "start_time": "2022-06-15T21:32:49.234Z"
   },
   {
    "duration": 6,
    "start_time": "2022-06-15T21:32:49.297Z"
   },
   {
    "duration": 7,
    "start_time": "2022-06-15T21:32:49.305Z"
   },
   {
    "duration": 6,
    "start_time": "2022-06-15T21:32:49.313Z"
   },
   {
    "duration": 8,
    "start_time": "2022-06-15T21:32:49.321Z"
   },
   {
    "duration": 17,
    "start_time": "2022-06-15T21:32:49.330Z"
   },
   {
    "duration": 162,
    "start_time": "2022-06-15T21:32:49.348Z"
   },
   {
    "duration": 117,
    "start_time": "2022-06-15T21:32:49.512Z"
   },
   {
    "duration": 124,
    "start_time": "2022-06-15T21:32:49.631Z"
   },
   {
    "duration": 123,
    "start_time": "2022-06-15T21:32:49.756Z"
   },
   {
    "duration": 166,
    "start_time": "2022-06-15T21:32:49.881Z"
   },
   {
    "duration": 134,
    "start_time": "2022-06-15T21:32:50.049Z"
   },
   {
    "duration": 954,
    "start_time": "2022-06-15T21:37:25.258Z"
   },
   {
    "duration": 374,
    "start_time": "2022-06-15T21:37:26.213Z"
   },
   {
    "duration": 21,
    "start_time": "2022-06-15T21:37:26.588Z"
   },
   {
    "duration": 35,
    "start_time": "2022-06-15T21:37:26.612Z"
   },
   {
    "duration": 21,
    "start_time": "2022-06-15T21:37:26.648Z"
   },
   {
    "duration": 31,
    "start_time": "2022-06-15T21:37:26.670Z"
   },
   {
    "duration": 12,
    "start_time": "2022-06-15T21:37:26.702Z"
   },
   {
    "duration": 2,
    "start_time": "2022-06-15T21:37:26.716Z"
   },
   {
    "duration": 7,
    "start_time": "2022-06-15T21:37:26.720Z"
   },
   {
    "duration": 105,
    "start_time": "2022-06-15T21:37:26.728Z"
   },
   {
    "duration": 6,
    "start_time": "2022-06-15T21:37:26.834Z"
   },
   {
    "duration": 59,
    "start_time": "2022-06-15T21:37:26.841Z"
   },
   {
    "duration": 7,
    "start_time": "2022-06-15T21:37:26.901Z"
   },
   {
    "duration": 7,
    "start_time": "2022-06-15T21:37:26.909Z"
   },
   {
    "duration": 6,
    "start_time": "2022-06-15T21:37:26.917Z"
   },
   {
    "duration": 10,
    "start_time": "2022-06-15T21:37:26.924Z"
   },
   {
    "duration": 20,
    "start_time": "2022-06-15T21:37:26.935Z"
   },
   {
    "duration": 152,
    "start_time": "2022-06-15T21:37:26.956Z"
   },
   {
    "duration": 114,
    "start_time": "2022-06-15T21:37:27.109Z"
   },
   {
    "duration": 128,
    "start_time": "2022-06-15T21:37:27.225Z"
   },
   {
    "duration": 125,
    "start_time": "2022-06-15T21:37:27.355Z"
   },
   {
    "duration": 121,
    "start_time": "2022-06-15T21:37:27.481Z"
   },
   {
    "duration": 164,
    "start_time": "2022-06-15T21:37:27.604Z"
   },
   {
    "duration": 3,
    "start_time": "2022-06-15T21:39:30.022Z"
   },
   {
    "duration": 4,
    "start_time": "2022-06-15T21:39:43.077Z"
   },
   {
    "duration": 4,
    "start_time": "2022-06-15T21:43:22.433Z"
   },
   {
    "duration": 4,
    "start_time": "2022-06-15T21:43:52.207Z"
   },
   {
    "duration": 4,
    "start_time": "2022-06-15T21:44:00.474Z"
   },
   {
    "duration": 4,
    "start_time": "2022-06-15T21:44:04.771Z"
   },
   {
    "duration": 4,
    "start_time": "2022-06-15T21:45:31.464Z"
   },
   {
    "duration": 4,
    "start_time": "2022-06-15T21:45:48.731Z"
   },
   {
    "duration": 7,
    "start_time": "2022-06-15T21:47:20.880Z"
   },
   {
    "duration": 18,
    "start_time": "2022-06-15T21:50:21.649Z"
   },
   {
    "duration": 999,
    "start_time": "2022-06-15T21:50:26.843Z"
   },
   {
    "duration": 404,
    "start_time": "2022-06-15T21:50:27.846Z"
   },
   {
    "duration": 22,
    "start_time": "2022-06-15T21:50:28.252Z"
   },
   {
    "duration": 30,
    "start_time": "2022-06-15T21:50:28.275Z"
   },
   {
    "duration": 21,
    "start_time": "2022-06-15T21:50:28.306Z"
   },
   {
    "duration": 26,
    "start_time": "2022-06-15T21:50:28.328Z"
   },
   {
    "duration": 34,
    "start_time": "2022-06-15T21:50:28.355Z"
   },
   {
    "duration": 6,
    "start_time": "2022-06-15T21:50:28.390Z"
   },
   {
    "duration": 11,
    "start_time": "2022-06-15T21:50:28.398Z"
   },
   {
    "duration": 73,
    "start_time": "2022-06-15T21:50:28.410Z"
   },
   {
    "duration": 6,
    "start_time": "2022-06-15T21:50:28.485Z"
   },
   {
    "duration": 53,
    "start_time": "2022-06-15T21:50:28.492Z"
   },
   {
    "duration": 7,
    "start_time": "2022-06-15T21:50:28.546Z"
   },
   {
    "duration": 24,
    "start_time": "2022-06-15T21:50:28.555Z"
   },
   {
    "duration": 4,
    "start_time": "2022-06-15T21:50:28.581Z"
   },
   {
    "duration": 12,
    "start_time": "2022-06-15T21:50:28.586Z"
   },
   {
    "duration": 25,
    "start_time": "2022-06-15T21:50:28.599Z"
   },
   {
    "duration": 16,
    "start_time": "2022-06-15T21:50:28.625Z"
   },
   {
    "duration": 128,
    "start_time": "2022-06-15T21:50:28.643Z"
   },
   {
    "duration": 116,
    "start_time": "2022-06-15T21:50:28.777Z"
   },
   {
    "duration": 131,
    "start_time": "2022-06-15T21:50:28.895Z"
   },
   {
    "duration": 131,
    "start_time": "2022-06-15T21:50:29.028Z"
   },
   {
    "duration": 119,
    "start_time": "2022-06-15T21:50:29.160Z"
   },
   {
    "duration": 128,
    "start_time": "2022-06-15T21:50:29.281Z"
   },
   {
    "duration": 3,
    "start_time": "2022-06-15T21:50:29.411Z"
   },
   {
    "duration": 21,
    "start_time": "2022-06-15T21:52:18.076Z"
   },
   {
    "duration": 914,
    "start_time": "2022-06-15T21:52:22.214Z"
   },
   {
    "duration": 406,
    "start_time": "2022-06-15T21:52:23.130Z"
   },
   {
    "duration": 23,
    "start_time": "2022-06-15T21:52:23.539Z"
   },
   {
    "duration": 35,
    "start_time": "2022-06-15T21:52:23.563Z"
   },
   {
    "duration": 24,
    "start_time": "2022-06-15T21:52:23.600Z"
   },
   {
    "duration": 28,
    "start_time": "2022-06-15T21:52:23.625Z"
   },
   {
    "duration": 36,
    "start_time": "2022-06-15T21:52:23.655Z"
   },
   {
    "duration": 6,
    "start_time": "2022-06-15T21:52:23.693Z"
   },
   {
    "duration": 6,
    "start_time": "2022-06-15T21:52:23.701Z"
   },
   {
    "duration": 90,
    "start_time": "2022-06-15T21:52:23.708Z"
   },
   {
    "duration": 7,
    "start_time": "2022-06-15T21:52:23.799Z"
   },
   {
    "duration": 72,
    "start_time": "2022-06-15T21:52:23.807Z"
   },
   {
    "duration": 7,
    "start_time": "2022-06-15T21:52:23.881Z"
   },
   {
    "duration": 7,
    "start_time": "2022-06-15T21:52:23.890Z"
   },
   {
    "duration": 4,
    "start_time": "2022-06-15T21:52:23.899Z"
   },
   {
    "duration": 12,
    "start_time": "2022-06-15T21:52:23.904Z"
   },
   {
    "duration": 20,
    "start_time": "2022-06-15T21:52:23.917Z"
   },
   {
    "duration": 9,
    "start_time": "2022-06-15T21:52:23.938Z"
   },
   {
    "duration": 186,
    "start_time": "2022-06-15T21:52:23.948Z"
   },
   {
    "duration": 143,
    "start_time": "2022-06-15T21:52:24.136Z"
   },
   {
    "duration": 137,
    "start_time": "2022-06-15T21:52:24.281Z"
   },
   {
    "duration": 131,
    "start_time": "2022-06-15T21:52:24.420Z"
   },
   {
    "duration": 128,
    "start_time": "2022-06-15T21:52:24.552Z"
   },
   {
    "duration": 134,
    "start_time": "2022-06-15T21:52:24.682Z"
   },
   {
    "duration": 4,
    "start_time": "2022-06-15T21:52:24.818Z"
   },
   {
    "duration": 34,
    "start_time": "2022-06-15T21:55:26.041Z"
   },
   {
    "duration": 25,
    "start_time": "2022-06-15T21:55:32.402Z"
   },
   {
    "duration": 5,
    "start_time": "2022-06-15T21:55:37.071Z"
   },
   {
    "duration": 925,
    "start_time": "2022-06-15T21:55:45.472Z"
   },
   {
    "duration": 360,
    "start_time": "2022-06-15T21:55:46.398Z"
   },
   {
    "duration": 21,
    "start_time": "2022-06-15T21:55:46.759Z"
   },
   {
    "duration": 29,
    "start_time": "2022-06-15T21:55:46.781Z"
   },
   {
    "duration": 22,
    "start_time": "2022-06-15T21:55:46.812Z"
   },
   {
    "duration": 45,
    "start_time": "2022-06-15T21:55:46.835Z"
   },
   {
    "duration": 15,
    "start_time": "2022-06-15T21:55:46.882Z"
   },
   {
    "duration": 7,
    "start_time": "2022-06-15T21:55:46.898Z"
   },
   {
    "duration": 5,
    "start_time": "2022-06-15T21:55:46.907Z"
   },
   {
    "duration": 86,
    "start_time": "2022-06-15T21:55:46.914Z"
   },
   {
    "duration": 7,
    "start_time": "2022-06-15T21:55:47.002Z"
   },
   {
    "duration": 68,
    "start_time": "2022-06-15T21:55:47.011Z"
   },
   {
    "duration": 5,
    "start_time": "2022-06-15T21:55:47.081Z"
   },
   {
    "duration": 9,
    "start_time": "2022-06-15T21:55:47.088Z"
   },
   {
    "duration": 7,
    "start_time": "2022-06-15T21:55:47.099Z"
   },
   {
    "duration": 8,
    "start_time": "2022-06-15T21:55:47.107Z"
   },
   {
    "duration": 16,
    "start_time": "2022-06-15T21:55:47.116Z"
   },
   {
    "duration": 7,
    "start_time": "2022-06-15T21:55:47.133Z"
   },
   {
    "duration": 148,
    "start_time": "2022-06-15T21:55:47.141Z"
   },
   {
    "duration": 134,
    "start_time": "2022-06-15T21:55:47.291Z"
   },
   {
    "duration": 166,
    "start_time": "2022-06-15T21:55:47.427Z"
   },
   {
    "duration": 140,
    "start_time": "2022-06-15T21:55:47.594Z"
   },
   {
    "duration": 146,
    "start_time": "2022-06-15T21:55:47.736Z"
   },
   {
    "duration": 119,
    "start_time": "2022-06-15T21:55:47.884Z"
   },
   {
    "duration": 5,
    "start_time": "2022-06-15T21:55:48.005Z"
   },
   {
    "duration": 4,
    "start_time": "2022-06-15T21:58:32.379Z"
   },
   {
    "duration": 4,
    "start_time": "2022-06-15T21:58:52.980Z"
   },
   {
    "duration": 3,
    "start_time": "2022-06-15T21:59:04.403Z"
   },
   {
    "duration": 959,
    "start_time": "2022-06-15T22:00:28.026Z"
   },
   {
    "duration": 355,
    "start_time": "2022-06-15T22:00:28.987Z"
   },
   {
    "duration": 20,
    "start_time": "2022-06-15T22:00:29.344Z"
   },
   {
    "duration": 29,
    "start_time": "2022-06-15T22:00:29.366Z"
   },
   {
    "duration": 20,
    "start_time": "2022-06-15T22:00:29.396Z"
   },
   {
    "duration": 31,
    "start_time": "2022-06-15T22:00:29.418Z"
   },
   {
    "duration": 28,
    "start_time": "2022-06-15T22:00:29.451Z"
   },
   {
    "duration": 3,
    "start_time": "2022-06-15T22:00:29.480Z"
   },
   {
    "duration": 7,
    "start_time": "2022-06-15T22:00:29.485Z"
   },
   {
    "duration": 89,
    "start_time": "2022-06-15T22:00:29.494Z"
   },
   {
    "duration": 6,
    "start_time": "2022-06-15T22:00:29.584Z"
   },
   {
    "duration": 55,
    "start_time": "2022-06-15T22:00:29.592Z"
   },
   {
    "duration": 7,
    "start_time": "2022-06-15T22:00:29.649Z"
   },
   {
    "duration": 22,
    "start_time": "2022-06-15T22:00:29.658Z"
   },
   {
    "duration": 5,
    "start_time": "2022-06-15T22:00:29.681Z"
   },
   {
    "duration": 9,
    "start_time": "2022-06-15T22:00:29.687Z"
   },
   {
    "duration": 18,
    "start_time": "2022-06-15T22:00:29.697Z"
   },
   {
    "duration": 7,
    "start_time": "2022-06-15T22:00:29.716Z"
   },
   {
    "duration": 157,
    "start_time": "2022-06-15T22:00:29.725Z"
   },
   {
    "duration": 119,
    "start_time": "2022-06-15T22:00:29.884Z"
   },
   {
    "duration": 134,
    "start_time": "2022-06-15T22:00:30.005Z"
   },
   {
    "duration": 121,
    "start_time": "2022-06-15T22:00:30.140Z"
   },
   {
    "duration": 126,
    "start_time": "2022-06-15T22:00:30.262Z"
   },
   {
    "duration": 143,
    "start_time": "2022-06-15T22:00:30.389Z"
   },
   {
    "duration": 5,
    "start_time": "2022-06-15T22:00:30.533Z"
   },
   {
    "duration": 10,
    "start_time": "2022-06-15T22:00:30.539Z"
   },
   {
    "duration": 36,
    "start_time": "2022-06-15T22:42:00.092Z"
   },
   {
    "duration": 12,
    "start_time": "2022-06-15T22:42:42.356Z"
   },
   {
    "duration": 42,
    "start_time": "2022-06-15T22:42:51.155Z"
   },
   {
    "duration": 7,
    "start_time": "2022-06-15T22:45:36.448Z"
   },
   {
    "duration": 19,
    "start_time": "2022-06-15T22:45:46.152Z"
   },
   {
    "duration": 14,
    "start_time": "2022-06-15T22:45:57.479Z"
   },
   {
    "duration": 5,
    "start_time": "2022-06-15T22:46:30.323Z"
   },
   {
    "duration": 5,
    "start_time": "2022-06-15T22:46:34.656Z"
   },
   {
    "duration": 14,
    "start_time": "2022-06-15T22:47:24.759Z"
   },
   {
    "duration": 106,
    "start_time": "2022-06-15T22:47:49.101Z"
   },
   {
    "duration": 10,
    "start_time": "2022-06-15T22:48:05.244Z"
   },
   {
    "duration": 11,
    "start_time": "2022-06-15T22:48:23.739Z"
   },
   {
    "duration": 20,
    "start_time": "2022-06-15T22:48:35.205Z"
   },
   {
    "duration": 15,
    "start_time": "2022-06-15T22:48:41.145Z"
   },
   {
    "duration": 20,
    "start_time": "2022-06-15T22:48:44.775Z"
   },
   {
    "duration": 11,
    "start_time": "2022-06-15T22:49:29.079Z"
   },
   {
    "duration": 4,
    "start_time": "2022-06-15T22:49:33.723Z"
   },
   {
    "duration": 13,
    "start_time": "2022-06-15T22:50:02.864Z"
   },
   {
    "duration": 1046,
    "start_time": "2022-06-15T22:51:22.697Z"
   },
   {
    "duration": 383,
    "start_time": "2022-06-15T22:51:23.744Z"
   },
   {
    "duration": 22,
    "start_time": "2022-06-15T22:51:24.128Z"
   },
   {
    "duration": 31,
    "start_time": "2022-06-15T22:51:24.152Z"
   },
   {
    "duration": 22,
    "start_time": "2022-06-15T22:51:24.185Z"
   },
   {
    "duration": 27,
    "start_time": "2022-06-15T22:51:24.209Z"
   },
   {
    "duration": 13,
    "start_time": "2022-06-15T22:51:24.238Z"
   },
   {
    "duration": 4,
    "start_time": "2022-06-15T22:51:24.278Z"
   },
   {
    "duration": 7,
    "start_time": "2022-06-15T22:51:24.283Z"
   },
   {
    "duration": 76,
    "start_time": "2022-06-15T22:51:24.293Z"
   },
   {
    "duration": 6,
    "start_time": "2022-06-15T22:51:24.378Z"
   },
   {
    "duration": 52,
    "start_time": "2022-06-15T22:51:24.385Z"
   },
   {
    "duration": 7,
    "start_time": "2022-06-15T22:51:24.438Z"
   },
   {
    "duration": 7,
    "start_time": "2022-06-15T22:51:24.447Z"
   },
   {
    "duration": 30,
    "start_time": "2022-06-15T22:51:24.455Z"
   },
   {
    "duration": 8,
    "start_time": "2022-06-15T22:51:24.487Z"
   },
   {
    "duration": 17,
    "start_time": "2022-06-15T22:51:24.496Z"
   },
   {
    "duration": 12,
    "start_time": "2022-06-15T22:51:24.514Z"
   },
   {
    "duration": 150,
    "start_time": "2022-06-15T22:51:24.528Z"
   },
   {
    "duration": 123,
    "start_time": "2022-06-15T22:51:24.680Z"
   },
   {
    "duration": 123,
    "start_time": "2022-06-15T22:51:24.804Z"
   },
   {
    "duration": 122,
    "start_time": "2022-06-15T22:51:24.929Z"
   },
   {
    "duration": 119,
    "start_time": "2022-06-15T22:51:25.053Z"
   },
   {
    "duration": 122,
    "start_time": "2022-06-15T22:51:25.178Z"
   },
   {
    "duration": 4,
    "start_time": "2022-06-15T22:51:25.302Z"
   },
   {
    "duration": 6,
    "start_time": "2022-06-15T22:51:25.307Z"
   },
   {
    "duration": 13,
    "start_time": "2022-06-15T22:51:25.315Z"
   },
   {
    "duration": 32,
    "start_time": "2022-06-15T22:55:39.580Z"
   },
   {
    "duration": 933,
    "start_time": "2022-06-15T23:03:15.540Z"
   },
   {
    "duration": 364,
    "start_time": "2022-06-15T23:03:16.475Z"
   },
   {
    "duration": 20,
    "start_time": "2022-06-15T23:03:16.841Z"
   },
   {
    "duration": 30,
    "start_time": "2022-06-15T23:03:16.863Z"
   },
   {
    "duration": 21,
    "start_time": "2022-06-15T23:03:16.894Z"
   },
   {
    "duration": 24,
    "start_time": "2022-06-15T23:03:16.916Z"
   },
   {
    "duration": 13,
    "start_time": "2022-06-15T23:03:16.941Z"
   },
   {
    "duration": 23,
    "start_time": "2022-06-15T23:03:16.955Z"
   },
   {
    "duration": 3,
    "start_time": "2022-06-15T23:03:16.979Z"
   },
   {
    "duration": 75,
    "start_time": "2022-06-15T23:03:16.984Z"
   },
   {
    "duration": 18,
    "start_time": "2022-06-15T23:03:17.060Z"
   },
   {
    "duration": 47,
    "start_time": "2022-06-15T23:03:17.079Z"
   },
   {
    "duration": 6,
    "start_time": "2022-06-15T23:03:17.128Z"
   },
   {
    "duration": 7,
    "start_time": "2022-06-15T23:03:17.135Z"
   },
   {
    "duration": 5,
    "start_time": "2022-06-15T23:03:17.143Z"
   },
   {
    "duration": 10,
    "start_time": "2022-06-15T23:03:17.150Z"
   },
   {
    "duration": 17,
    "start_time": "2022-06-15T23:03:17.177Z"
   },
   {
    "duration": 12,
    "start_time": "2022-06-15T23:03:17.195Z"
   },
   {
    "duration": 141,
    "start_time": "2022-06-15T23:03:17.208Z"
   },
   {
    "duration": 112,
    "start_time": "2022-06-15T23:03:17.351Z"
   },
   {
    "duration": 124,
    "start_time": "2022-06-15T23:03:17.464Z"
   },
   {
    "duration": 144,
    "start_time": "2022-06-15T23:03:17.589Z"
   },
   {
    "duration": 112,
    "start_time": "2022-06-15T23:03:17.735Z"
   },
   {
    "duration": 119,
    "start_time": "2022-06-15T23:03:17.848Z"
   },
   {
    "duration": 11,
    "start_time": "2022-06-15T23:03:17.968Z"
   },
   {
    "duration": 6,
    "start_time": "2022-06-15T23:03:17.980Z"
   },
   {
    "duration": 15,
    "start_time": "2022-06-15T23:03:17.987Z"
   },
   {
    "duration": 1027,
    "start_time": "2022-06-16T09:50:22.705Z"
   },
   {
    "duration": 422,
    "start_time": "2022-06-16T09:50:23.734Z"
   },
   {
    "duration": 23,
    "start_time": "2022-06-16T09:50:24.158Z"
   },
   {
    "duration": 36,
    "start_time": "2022-06-16T09:50:24.183Z"
   },
   {
    "duration": 26,
    "start_time": "2022-06-16T09:50:24.221Z"
   },
   {
    "duration": 48,
    "start_time": "2022-06-16T09:50:24.249Z"
   },
   {
    "duration": 13,
    "start_time": "2022-06-16T09:50:24.299Z"
   },
   {
    "duration": 5,
    "start_time": "2022-06-16T09:50:24.314Z"
   },
   {
    "duration": 10,
    "start_time": "2022-06-16T09:50:24.320Z"
   },
   {
    "duration": 96,
    "start_time": "2022-06-16T09:50:24.332Z"
   },
   {
    "duration": 6,
    "start_time": "2022-06-16T09:50:24.430Z"
   },
   {
    "duration": 92,
    "start_time": "2022-06-16T09:50:24.437Z"
   },
   {
    "duration": 6,
    "start_time": "2022-06-16T09:50:24.530Z"
   },
   {
    "duration": 12,
    "start_time": "2022-06-16T09:50:24.539Z"
   },
   {
    "duration": 6,
    "start_time": "2022-06-16T09:50:24.552Z"
   },
   {
    "duration": 9,
    "start_time": "2022-06-16T09:50:24.559Z"
   },
   {
    "duration": 38,
    "start_time": "2022-06-16T09:50:24.569Z"
   },
   {
    "duration": 8,
    "start_time": "2022-06-16T09:50:24.608Z"
   },
   {
    "duration": 158,
    "start_time": "2022-06-16T09:50:24.617Z"
   },
   {
    "duration": 136,
    "start_time": "2022-06-16T09:50:24.777Z"
   },
   {
    "duration": 138,
    "start_time": "2022-06-16T09:50:24.915Z"
   },
   {
    "duration": 139,
    "start_time": "2022-06-16T09:50:25.055Z"
   },
   {
    "duration": 139,
    "start_time": "2022-06-16T09:50:25.196Z"
   },
   {
    "duration": 142,
    "start_time": "2022-06-16T09:50:25.337Z"
   },
   {
    "duration": 5,
    "start_time": "2022-06-16T09:50:25.480Z"
   },
   {
    "duration": 10,
    "start_time": "2022-06-16T09:50:25.486Z"
   },
   {
    "duration": 18,
    "start_time": "2022-06-16T09:50:25.498Z"
   },
   {
    "duration": 71,
    "start_time": "2022-06-16T09:51:15.877Z"
   },
   {
    "duration": 4,
    "start_time": "2022-06-16T09:56:02.512Z"
   },
   {
    "duration": 4,
    "start_time": "2022-06-16T09:56:11.703Z"
   },
   {
    "duration": 4,
    "start_time": "2022-06-16T09:56:17.056Z"
   },
   {
    "duration": 4,
    "start_time": "2022-06-16T09:56:25.631Z"
   },
   {
    "duration": 4,
    "start_time": "2022-06-16T09:57:11.313Z"
   },
   {
    "duration": 4,
    "start_time": "2022-06-16T09:57:25.738Z"
   },
   {
    "duration": 5,
    "start_time": "2022-06-16T09:59:31.921Z"
   },
   {
    "duration": 9,
    "start_time": "2022-06-16T10:02:02.260Z"
   },
   {
    "duration": 8,
    "start_time": "2022-06-16T10:05:22.165Z"
   },
   {
    "duration": 7,
    "start_time": "2022-06-16T10:06:19.894Z"
   },
   {
    "duration": 6,
    "start_time": "2022-06-16T10:25:06.186Z"
   },
   {
    "duration": 1040,
    "start_time": "2022-06-16T10:27:20.614Z"
   },
   {
    "duration": 413,
    "start_time": "2022-06-16T10:27:21.657Z"
   },
   {
    "duration": 22,
    "start_time": "2022-06-16T10:27:22.072Z"
   },
   {
    "duration": 45,
    "start_time": "2022-06-16T10:27:22.096Z"
   },
   {
    "duration": 27,
    "start_time": "2022-06-16T10:27:22.143Z"
   },
   {
    "duration": 48,
    "start_time": "2022-06-16T10:27:22.172Z"
   },
   {
    "duration": 14,
    "start_time": "2022-06-16T10:27:22.222Z"
   },
   {
    "duration": 11,
    "start_time": "2022-06-16T10:27:22.239Z"
   },
   {
    "duration": 14,
    "start_time": "2022-06-16T10:27:22.252Z"
   },
   {
    "duration": 93,
    "start_time": "2022-06-16T10:27:22.270Z"
   },
   {
    "duration": 7,
    "start_time": "2022-06-16T10:27:22.365Z"
   },
   {
    "duration": 83,
    "start_time": "2022-06-16T10:27:22.373Z"
   },
   {
    "duration": 7,
    "start_time": "2022-06-16T10:27:22.458Z"
   },
   {
    "duration": 29,
    "start_time": "2022-06-16T10:27:22.467Z"
   },
   {
    "duration": 33,
    "start_time": "2022-06-16T10:27:22.499Z"
   },
   {
    "duration": 28,
    "start_time": "2022-06-16T10:27:22.535Z"
   },
   {
    "duration": 45,
    "start_time": "2022-06-16T10:27:22.565Z"
   },
   {
    "duration": 30,
    "start_time": "2022-06-16T10:27:22.612Z"
   },
   {
    "duration": 25,
    "start_time": "2022-06-16T10:27:22.643Z"
   },
   {
    "duration": 26,
    "start_time": "2022-06-16T10:27:22.670Z"
   },
   {
    "duration": 154,
    "start_time": "2022-06-16T10:27:22.698Z"
   },
   {
    "duration": 148,
    "start_time": "2022-06-16T10:27:22.854Z"
   },
   {
    "duration": 157,
    "start_time": "2022-06-16T10:27:23.004Z"
   },
   {
    "duration": 156,
    "start_time": "2022-06-16T10:27:23.163Z"
   },
   {
    "duration": 140,
    "start_time": "2022-06-16T10:27:23.321Z"
   },
   {
    "duration": 144,
    "start_time": "2022-06-16T10:27:23.463Z"
   },
   {
    "duration": 5,
    "start_time": "2022-06-16T10:27:23.608Z"
   },
   {
    "duration": 14,
    "start_time": "2022-06-16T10:27:23.616Z"
   },
   {
    "duration": 17,
    "start_time": "2022-06-16T10:27:23.632Z"
   },
   {
    "duration": 42,
    "start_time": "2022-06-16T12:06:03.838Z"
   },
   {
    "duration": 1050,
    "start_time": "2022-06-16T12:06:14.243Z"
   },
   {
    "duration": 997,
    "start_time": "2022-06-16T12:06:15.295Z"
   },
   {
    "duration": 19,
    "start_time": "2022-06-16T12:06:16.294Z"
   },
   {
    "duration": 27,
    "start_time": "2022-06-16T12:06:16.315Z"
   },
   {
    "duration": 21,
    "start_time": "2022-06-16T12:06:16.345Z"
   },
   {
    "duration": 45,
    "start_time": "2022-06-16T12:06:16.368Z"
   },
   {
    "duration": 12,
    "start_time": "2022-06-16T12:06:16.415Z"
   },
   {
    "duration": 4,
    "start_time": "2022-06-16T12:06:16.429Z"
   },
   {
    "duration": 4,
    "start_time": "2022-06-16T12:06:16.435Z"
   },
   {
    "duration": 95,
    "start_time": "2022-06-16T12:06:16.440Z"
   },
   {
    "duration": 6,
    "start_time": "2022-06-16T12:06:16.537Z"
   },
   {
    "duration": 101,
    "start_time": "2022-06-16T12:06:16.545Z"
   },
   {
    "duration": 0,
    "start_time": "2022-06-16T12:06:16.648Z"
   },
   {
    "duration": 0,
    "start_time": "2022-06-16T12:06:16.649Z"
   },
   {
    "duration": 0,
    "start_time": "2022-06-16T12:06:16.650Z"
   },
   {
    "duration": 0,
    "start_time": "2022-06-16T12:06:16.651Z"
   },
   {
    "duration": 0,
    "start_time": "2022-06-16T12:06:16.651Z"
   },
   {
    "duration": 0,
    "start_time": "2022-06-16T12:06:16.652Z"
   },
   {
    "duration": 0,
    "start_time": "2022-06-16T12:06:16.653Z"
   },
   {
    "duration": 0,
    "start_time": "2022-06-16T12:06:16.654Z"
   },
   {
    "duration": 0,
    "start_time": "2022-06-16T12:06:16.655Z"
   },
   {
    "duration": 0,
    "start_time": "2022-06-16T12:06:16.656Z"
   },
   {
    "duration": 0,
    "start_time": "2022-06-16T12:06:16.657Z"
   },
   {
    "duration": 0,
    "start_time": "2022-06-16T12:06:16.657Z"
   },
   {
    "duration": 0,
    "start_time": "2022-06-16T12:06:16.658Z"
   },
   {
    "duration": 0,
    "start_time": "2022-06-16T12:06:16.659Z"
   },
   {
    "duration": 0,
    "start_time": "2022-06-16T12:06:16.660Z"
   },
   {
    "duration": 0,
    "start_time": "2022-06-16T12:06:16.661Z"
   },
   {
    "duration": 0,
    "start_time": "2022-06-16T12:06:16.662Z"
   },
   {
    "duration": 21,
    "start_time": "2022-06-16T12:13:38.286Z"
   },
   {
    "duration": 21,
    "start_time": "2022-06-16T12:13:43.667Z"
   },
   {
    "duration": 29,
    "start_time": "2022-06-16T12:13:59.253Z"
   },
   {
    "duration": 44,
    "start_time": "2022-06-16T12:15:04.390Z"
   },
   {
    "duration": 386,
    "start_time": "2022-06-16T12:15:09.806Z"
   },
   {
    "duration": 70,
    "start_time": "2022-06-16T12:18:35.966Z"
   },
   {
    "duration": 975,
    "start_time": "2022-06-16T12:51:19.961Z"
   },
   {
    "duration": 353,
    "start_time": "2022-06-16T12:51:20.938Z"
   },
   {
    "duration": 21,
    "start_time": "2022-06-16T12:51:21.292Z"
   },
   {
    "duration": 35,
    "start_time": "2022-06-16T12:51:21.314Z"
   },
   {
    "duration": 25,
    "start_time": "2022-06-16T12:51:21.352Z"
   },
   {
    "duration": 34,
    "start_time": "2022-06-16T12:51:21.379Z"
   },
   {
    "duration": 13,
    "start_time": "2022-06-16T12:51:21.414Z"
   },
   {
    "duration": 25,
    "start_time": "2022-06-16T12:51:21.428Z"
   },
   {
    "duration": 23,
    "start_time": "2022-06-16T12:51:21.454Z"
   },
   {
    "duration": 83,
    "start_time": "2022-06-16T12:51:21.478Z"
   },
   {
    "duration": 6,
    "start_time": "2022-06-16T12:51:21.562Z"
   },
   {
    "duration": 47,
    "start_time": "2022-06-16T12:51:21.569Z"
   },
   {
    "duration": 157,
    "start_time": "2022-06-16T12:51:21.617Z"
   },
   {
    "duration": 0,
    "start_time": "2022-06-16T12:51:21.776Z"
   },
   {
    "duration": 0,
    "start_time": "2022-06-16T12:51:21.777Z"
   },
   {
    "duration": 0,
    "start_time": "2022-06-16T12:51:21.778Z"
   },
   {
    "duration": 0,
    "start_time": "2022-06-16T12:51:21.779Z"
   },
   {
    "duration": 0,
    "start_time": "2022-06-16T12:51:21.791Z"
   },
   {
    "duration": 0,
    "start_time": "2022-06-16T12:51:21.792Z"
   },
   {
    "duration": 0,
    "start_time": "2022-06-16T12:51:21.792Z"
   },
   {
    "duration": 0,
    "start_time": "2022-06-16T12:51:21.793Z"
   },
   {
    "duration": 0,
    "start_time": "2022-06-16T12:51:21.794Z"
   },
   {
    "duration": 0,
    "start_time": "2022-06-16T12:51:21.795Z"
   },
   {
    "duration": 0,
    "start_time": "2022-06-16T12:51:21.796Z"
   },
   {
    "duration": 0,
    "start_time": "2022-06-16T12:51:21.797Z"
   },
   {
    "duration": 0,
    "start_time": "2022-06-16T12:51:21.798Z"
   },
   {
    "duration": 0,
    "start_time": "2022-06-16T12:51:21.799Z"
   },
   {
    "duration": 0,
    "start_time": "2022-06-16T12:51:21.800Z"
   },
   {
    "duration": 0,
    "start_time": "2022-06-16T12:51:21.801Z"
   },
   {
    "duration": 0,
    "start_time": "2022-06-16T12:51:21.802Z"
   },
   {
    "duration": 9,
    "start_time": "2022-06-16T12:52:20.882Z"
   },
   {
    "duration": 7,
    "start_time": "2022-06-16T12:52:32.502Z"
   },
   {
    "duration": 9,
    "start_time": "2022-06-16T12:52:42.293Z"
   },
   {
    "duration": 427,
    "start_time": "2022-06-16T12:53:22.909Z"
   },
   {
    "duration": 6,
    "start_time": "2022-06-16T12:54:25.954Z"
   },
   {
    "duration": 49,
    "start_time": "2022-06-16T12:55:13.495Z"
   },
   {
    "duration": 8,
    "start_time": "2022-06-16T12:55:18.878Z"
   },
   {
    "duration": 957,
    "start_time": "2022-06-16T12:55:45.122Z"
   },
   {
    "duration": 355,
    "start_time": "2022-06-16T12:55:46.081Z"
   },
   {
    "duration": 21,
    "start_time": "2022-06-16T12:55:46.438Z"
   },
   {
    "duration": 29,
    "start_time": "2022-06-16T12:55:46.461Z"
   },
   {
    "duration": 22,
    "start_time": "2022-06-16T12:55:46.491Z"
   },
   {
    "duration": 24,
    "start_time": "2022-06-16T12:55:46.515Z"
   },
   {
    "duration": 12,
    "start_time": "2022-06-16T12:55:46.541Z"
   },
   {
    "duration": 9,
    "start_time": "2022-06-16T12:55:46.554Z"
   },
   {
    "duration": 29,
    "start_time": "2022-06-16T12:55:46.564Z"
   },
   {
    "duration": 73,
    "start_time": "2022-06-16T12:55:46.595Z"
   },
   {
    "duration": 24,
    "start_time": "2022-06-16T12:55:46.669Z"
   },
   {
    "duration": 47,
    "start_time": "2022-06-16T12:55:46.695Z"
   },
   {
    "duration": 79,
    "start_time": "2022-06-16T12:55:46.744Z"
   },
   {
    "duration": 116,
    "start_time": "2022-06-16T12:55:46.825Z"
   },
   {
    "duration": 0,
    "start_time": "2022-06-16T12:55:46.943Z"
   },
   {
    "duration": 0,
    "start_time": "2022-06-16T12:55:46.944Z"
   },
   {
    "duration": 0,
    "start_time": "2022-06-16T12:55:46.946Z"
   },
   {
    "duration": 0,
    "start_time": "2022-06-16T12:55:46.947Z"
   },
   {
    "duration": 0,
    "start_time": "2022-06-16T12:55:46.948Z"
   },
   {
    "duration": 0,
    "start_time": "2022-06-16T12:55:46.950Z"
   },
   {
    "duration": 0,
    "start_time": "2022-06-16T12:55:46.951Z"
   },
   {
    "duration": 0,
    "start_time": "2022-06-16T12:55:46.952Z"
   },
   {
    "duration": 0,
    "start_time": "2022-06-16T12:55:46.954Z"
   },
   {
    "duration": 0,
    "start_time": "2022-06-16T12:55:46.955Z"
   },
   {
    "duration": 0,
    "start_time": "2022-06-16T12:55:46.957Z"
   },
   {
    "duration": 1,
    "start_time": "2022-06-16T12:55:46.959Z"
   },
   {
    "duration": 0,
    "start_time": "2022-06-16T12:55:46.961Z"
   },
   {
    "duration": 0,
    "start_time": "2022-06-16T12:55:46.962Z"
   },
   {
    "duration": 0,
    "start_time": "2022-06-16T12:55:46.963Z"
   },
   {
    "duration": 0,
    "start_time": "2022-06-16T12:55:46.992Z"
   },
   {
    "duration": 61,
    "start_time": "2022-06-16T13:10:05.749Z"
   },
   {
    "duration": 12,
    "start_time": "2022-06-16T13:11:16.233Z"
   },
   {
    "duration": 8,
    "start_time": "2022-06-16T13:11:57.514Z"
   },
   {
    "duration": 6,
    "start_time": "2022-06-16T13:12:56.066Z"
   },
   {
    "duration": 12,
    "start_time": "2022-06-16T13:13:05.828Z"
   },
   {
    "duration": 16,
    "start_time": "2022-06-16T13:13:24.586Z"
   },
   {
    "duration": 29,
    "start_time": "2022-06-16T13:14:18.665Z"
   },
   {
    "duration": 29,
    "start_time": "2022-06-16T13:14:30.234Z"
   },
   {
    "duration": 22,
    "start_time": "2022-06-16T13:16:08.243Z"
   },
   {
    "duration": 33,
    "start_time": "2022-06-16T13:16:27.018Z"
   },
   {
    "duration": 15,
    "start_time": "2022-06-16T13:25:31.999Z"
   },
   {
    "duration": 18,
    "start_time": "2022-06-16T13:26:43.337Z"
   },
   {
    "duration": 3,
    "start_time": "2022-06-16T13:26:49.097Z"
   },
   {
    "duration": 2,
    "start_time": "2022-06-16T13:26:51.449Z"
   },
   {
    "duration": 7,
    "start_time": "2022-06-16T13:26:57.121Z"
   },
   {
    "duration": 17,
    "start_time": "2022-06-16T13:27:07.656Z"
   },
   {
    "duration": 9,
    "start_time": "2022-06-16T13:27:11.041Z"
   },
   {
    "duration": 13,
    "start_time": "2022-06-16T13:27:20.873Z"
   },
   {
    "duration": 913,
    "start_time": "2022-06-16T13:28:23.888Z"
   },
   {
    "duration": 364,
    "start_time": "2022-06-16T13:28:24.803Z"
   },
   {
    "duration": 20,
    "start_time": "2022-06-16T13:28:25.169Z"
   },
   {
    "duration": 29,
    "start_time": "2022-06-16T13:28:25.192Z"
   },
   {
    "duration": 20,
    "start_time": "2022-06-16T13:28:25.223Z"
   },
   {
    "duration": 26,
    "start_time": "2022-06-16T13:28:25.245Z"
   },
   {
    "duration": 27,
    "start_time": "2022-06-16T13:28:25.272Z"
   },
   {
    "duration": 6,
    "start_time": "2022-06-16T13:28:25.301Z"
   },
   {
    "duration": 11,
    "start_time": "2022-06-16T13:28:25.320Z"
   },
   {
    "duration": 74,
    "start_time": "2022-06-16T13:28:25.333Z"
   },
   {
    "duration": 46,
    "start_time": "2022-06-16T13:28:25.408Z"
   },
   {
    "duration": 106,
    "start_time": "2022-06-16T13:28:25.456Z"
   },
   {
    "duration": 28,
    "start_time": "2022-06-16T13:28:25.563Z"
   },
   {
    "duration": 13,
    "start_time": "2022-06-16T13:28:25.592Z"
   },
   {
    "duration": 106,
    "start_time": "2022-06-16T13:28:25.607Z"
   },
   {
    "duration": 0,
    "start_time": "2022-06-16T13:28:25.715Z"
   },
   {
    "duration": 0,
    "start_time": "2022-06-16T13:28:25.716Z"
   },
   {
    "duration": 0,
    "start_time": "2022-06-16T13:28:25.717Z"
   },
   {
    "duration": 0,
    "start_time": "2022-06-16T13:28:25.718Z"
   },
   {
    "duration": 0,
    "start_time": "2022-06-16T13:28:25.719Z"
   },
   {
    "duration": 0,
    "start_time": "2022-06-16T13:28:25.720Z"
   },
   {
    "duration": 0,
    "start_time": "2022-06-16T13:28:25.721Z"
   },
   {
    "duration": 0,
    "start_time": "2022-06-16T13:28:25.722Z"
   },
   {
    "duration": 0,
    "start_time": "2022-06-16T13:28:25.723Z"
   },
   {
    "duration": 0,
    "start_time": "2022-06-16T13:28:25.724Z"
   },
   {
    "duration": 0,
    "start_time": "2022-06-16T13:28:25.725Z"
   },
   {
    "duration": 0,
    "start_time": "2022-06-16T13:28:25.726Z"
   },
   {
    "duration": 0,
    "start_time": "2022-06-16T13:28:25.727Z"
   },
   {
    "duration": 0,
    "start_time": "2022-06-16T13:28:25.728Z"
   },
   {
    "duration": 0,
    "start_time": "2022-06-16T13:28:25.729Z"
   },
   {
    "duration": 0,
    "start_time": "2022-06-16T13:28:25.730Z"
   },
   {
    "duration": 17,
    "start_time": "2022-06-16T13:30:07.288Z"
   },
   {
    "duration": 25,
    "start_time": "2022-06-16T13:32:51.016Z"
   },
   {
    "duration": 19,
    "start_time": "2022-06-16T13:33:22.136Z"
   },
   {
    "duration": 31,
    "start_time": "2022-06-16T13:33:37.065Z"
   },
   {
    "duration": 18,
    "start_time": "2022-06-16T13:33:49.224Z"
   },
   {
    "duration": 21,
    "start_time": "2022-06-16T13:34:00.839Z"
   },
   {
    "duration": 18,
    "start_time": "2022-06-16T13:34:29.335Z"
   },
   {
    "duration": 932,
    "start_time": "2022-06-16T13:34:34.457Z"
   },
   {
    "duration": 372,
    "start_time": "2022-06-16T13:34:35.391Z"
   },
   {
    "duration": 23,
    "start_time": "2022-06-16T13:34:35.765Z"
   },
   {
    "duration": 42,
    "start_time": "2022-06-16T13:34:35.792Z"
   },
   {
    "duration": 25,
    "start_time": "2022-06-16T13:34:35.835Z"
   },
   {
    "duration": 39,
    "start_time": "2022-06-16T13:34:35.862Z"
   },
   {
    "duration": 13,
    "start_time": "2022-06-16T13:34:35.902Z"
   },
   {
    "duration": 4,
    "start_time": "2022-06-16T13:34:35.917Z"
   },
   {
    "duration": 5,
    "start_time": "2022-06-16T13:34:35.922Z"
   },
   {
    "duration": 97,
    "start_time": "2022-06-16T13:34:35.930Z"
   },
   {
    "duration": 48,
    "start_time": "2022-06-16T13:34:36.029Z"
   },
   {
    "duration": 84,
    "start_time": "2022-06-16T13:34:36.079Z"
   },
   {
    "duration": 30,
    "start_time": "2022-06-16T13:34:36.165Z"
   },
   {
    "duration": 112,
    "start_time": "2022-06-16T13:34:36.197Z"
   },
   {
    "duration": 0,
    "start_time": "2022-06-16T13:34:36.310Z"
   },
   {
    "duration": 0,
    "start_time": "2022-06-16T13:34:36.312Z"
   },
   {
    "duration": 0,
    "start_time": "2022-06-16T13:34:36.312Z"
   },
   {
    "duration": 0,
    "start_time": "2022-06-16T13:34:36.313Z"
   },
   {
    "duration": 0,
    "start_time": "2022-06-16T13:34:36.314Z"
   },
   {
    "duration": 0,
    "start_time": "2022-06-16T13:34:36.315Z"
   },
   {
    "duration": 0,
    "start_time": "2022-06-16T13:34:36.316Z"
   },
   {
    "duration": 0,
    "start_time": "2022-06-16T13:34:36.317Z"
   },
   {
    "duration": 0,
    "start_time": "2022-06-16T13:34:36.318Z"
   },
   {
    "duration": 0,
    "start_time": "2022-06-16T13:34:36.318Z"
   },
   {
    "duration": 0,
    "start_time": "2022-06-16T13:34:36.319Z"
   },
   {
    "duration": 0,
    "start_time": "2022-06-16T13:34:36.320Z"
   },
   {
    "duration": 0,
    "start_time": "2022-06-16T13:34:36.321Z"
   },
   {
    "duration": 0,
    "start_time": "2022-06-16T13:34:36.322Z"
   },
   {
    "duration": 0,
    "start_time": "2022-06-16T13:34:36.323Z"
   },
   {
    "duration": 0,
    "start_time": "2022-06-16T13:34:36.324Z"
   },
   {
    "duration": 6,
    "start_time": "2022-06-16T13:46:22.051Z"
   },
   {
    "duration": 29,
    "start_time": "2022-06-16T13:46:30.595Z"
   },
   {
    "duration": 91,
    "start_time": "2022-06-16T13:47:00.484Z"
   },
   {
    "duration": 13,
    "start_time": "2022-06-16T13:47:14.403Z"
   },
   {
    "duration": 12,
    "start_time": "2022-06-16T13:47:28.466Z"
   },
   {
    "duration": 12,
    "start_time": "2022-06-16T13:47:33.357Z"
   },
   {
    "duration": 1036,
    "start_time": "2022-06-16T13:50:42.708Z"
   },
   {
    "duration": 40,
    "start_time": "2022-06-16T13:51:01.368Z"
   },
   {
    "duration": 1153,
    "start_time": "2022-06-16T13:51:11.678Z"
   },
   {
    "duration": 1041,
    "start_time": "2022-06-16T13:51:12.833Z"
   },
   {
    "duration": 20,
    "start_time": "2022-06-16T13:51:13.876Z"
   },
   {
    "duration": 48,
    "start_time": "2022-06-16T13:51:13.898Z"
   },
   {
    "duration": 21,
    "start_time": "2022-06-16T13:51:13.948Z"
   },
   {
    "duration": 31,
    "start_time": "2022-06-16T13:51:13.970Z"
   },
   {
    "duration": 13,
    "start_time": "2022-06-16T13:51:14.003Z"
   },
   {
    "duration": 13,
    "start_time": "2022-06-16T13:51:14.018Z"
   },
   {
    "duration": 24,
    "start_time": "2022-06-16T13:51:14.033Z"
   },
   {
    "duration": 94,
    "start_time": "2022-06-16T13:51:14.060Z"
   },
   {
    "duration": 52,
    "start_time": "2022-06-16T13:51:14.156Z"
   },
   {
    "duration": 68,
    "start_time": "2022-06-16T13:51:14.209Z"
   },
   {
    "duration": 21,
    "start_time": "2022-06-16T13:51:14.279Z"
   },
   {
    "duration": 20,
    "start_time": "2022-06-16T13:51:14.302Z"
   },
   {
    "duration": 110,
    "start_time": "2022-06-16T13:51:14.323Z"
   },
   {
    "duration": 0,
    "start_time": "2022-06-16T13:51:14.434Z"
   },
   {
    "duration": 0,
    "start_time": "2022-06-16T13:51:14.435Z"
   },
   {
    "duration": 0,
    "start_time": "2022-06-16T13:51:14.436Z"
   },
   {
    "duration": 0,
    "start_time": "2022-06-16T13:51:14.437Z"
   },
   {
    "duration": 0,
    "start_time": "2022-06-16T13:51:14.438Z"
   },
   {
    "duration": 0,
    "start_time": "2022-06-16T13:51:14.439Z"
   },
   {
    "duration": 0,
    "start_time": "2022-06-16T13:51:14.440Z"
   },
   {
    "duration": 0,
    "start_time": "2022-06-16T13:51:14.441Z"
   },
   {
    "duration": 0,
    "start_time": "2022-06-16T13:51:14.442Z"
   },
   {
    "duration": 0,
    "start_time": "2022-06-16T13:51:14.443Z"
   },
   {
    "duration": 0,
    "start_time": "2022-06-16T13:51:14.444Z"
   },
   {
    "duration": 0,
    "start_time": "2022-06-16T13:51:14.445Z"
   },
   {
    "duration": 0,
    "start_time": "2022-06-16T13:51:14.446Z"
   },
   {
    "duration": 0,
    "start_time": "2022-06-16T13:51:14.447Z"
   },
   {
    "duration": 0,
    "start_time": "2022-06-16T13:51:14.448Z"
   },
   {
    "duration": 0,
    "start_time": "2022-06-16T13:51:14.448Z"
   },
   {
    "duration": 16,
    "start_time": "2022-06-16T13:51:36.926Z"
   },
   {
    "duration": 12,
    "start_time": "2022-06-16T13:51:55.343Z"
   },
   {
    "duration": 16,
    "start_time": "2022-06-16T13:52:06.749Z"
   },
   {
    "duration": 899,
    "start_time": "2022-06-16T13:53:20.542Z"
   },
   {
    "duration": 370,
    "start_time": "2022-06-16T13:53:21.443Z"
   },
   {
    "duration": 21,
    "start_time": "2022-06-16T13:53:21.814Z"
   },
   {
    "duration": 30,
    "start_time": "2022-06-16T13:53:21.836Z"
   },
   {
    "duration": 20,
    "start_time": "2022-06-16T13:53:21.868Z"
   },
   {
    "duration": 26,
    "start_time": "2022-06-16T13:53:21.890Z"
   },
   {
    "duration": 13,
    "start_time": "2022-06-16T13:53:21.917Z"
   },
   {
    "duration": 7,
    "start_time": "2022-06-16T13:53:21.931Z"
   },
   {
    "duration": 5,
    "start_time": "2022-06-16T13:53:21.939Z"
   },
   {
    "duration": 91,
    "start_time": "2022-06-16T13:53:21.946Z"
   },
   {
    "duration": 60,
    "start_time": "2022-06-16T13:53:22.039Z"
   },
   {
    "duration": 71,
    "start_time": "2022-06-16T13:53:22.100Z"
   },
   {
    "duration": 38,
    "start_time": "2022-06-16T13:53:22.173Z"
   },
   {
    "duration": 107,
    "start_time": "2022-06-16T13:53:22.215Z"
   },
   {
    "duration": 0,
    "start_time": "2022-06-16T13:53:22.324Z"
   },
   {
    "duration": 0,
    "start_time": "2022-06-16T13:53:22.325Z"
   },
   {
    "duration": 0,
    "start_time": "2022-06-16T13:53:22.326Z"
   },
   {
    "duration": 0,
    "start_time": "2022-06-16T13:53:22.327Z"
   },
   {
    "duration": 0,
    "start_time": "2022-06-16T13:53:22.328Z"
   },
   {
    "duration": 0,
    "start_time": "2022-06-16T13:53:22.329Z"
   },
   {
    "duration": 0,
    "start_time": "2022-06-16T13:53:22.330Z"
   },
   {
    "duration": 0,
    "start_time": "2022-06-16T13:53:22.331Z"
   },
   {
    "duration": 0,
    "start_time": "2022-06-16T13:53:22.331Z"
   },
   {
    "duration": 0,
    "start_time": "2022-06-16T13:53:22.332Z"
   },
   {
    "duration": 0,
    "start_time": "2022-06-16T13:53:22.333Z"
   },
   {
    "duration": 0,
    "start_time": "2022-06-16T13:53:22.334Z"
   },
   {
    "duration": 0,
    "start_time": "2022-06-16T13:53:22.335Z"
   },
   {
    "duration": 0,
    "start_time": "2022-06-16T13:53:22.336Z"
   },
   {
    "duration": 0,
    "start_time": "2022-06-16T13:53:22.337Z"
   },
   {
    "duration": 0,
    "start_time": "2022-06-16T13:53:22.338Z"
   },
   {
    "duration": 15,
    "start_time": "2022-06-16T13:57:50.487Z"
   },
   {
    "duration": 19,
    "start_time": "2022-06-16T13:58:39.783Z"
   },
   {
    "duration": 15,
    "start_time": "2022-06-16T13:59:09.942Z"
   },
   {
    "duration": 14,
    "start_time": "2022-06-16T13:59:39.775Z"
   },
   {
    "duration": 10,
    "start_time": "2022-06-16T13:59:50.166Z"
   },
   {
    "duration": 11,
    "start_time": "2022-06-16T14:00:10.286Z"
   },
   {
    "duration": 996,
    "start_time": "2022-06-16T14:00:35.075Z"
   },
   {
    "duration": 365,
    "start_time": "2022-06-16T14:00:36.073Z"
   },
   {
    "duration": 21,
    "start_time": "2022-06-16T14:00:36.440Z"
   },
   {
    "duration": 30,
    "start_time": "2022-06-16T14:00:36.462Z"
   },
   {
    "duration": 22,
    "start_time": "2022-06-16T14:00:36.494Z"
   },
   {
    "duration": 25,
    "start_time": "2022-06-16T14:00:36.517Z"
   },
   {
    "duration": 13,
    "start_time": "2022-06-16T14:00:36.544Z"
   },
   {
    "duration": 33,
    "start_time": "2022-06-16T14:00:36.558Z"
   },
   {
    "duration": 2,
    "start_time": "2022-06-16T14:00:36.593Z"
   },
   {
    "duration": 69,
    "start_time": "2022-06-16T14:00:36.597Z"
   },
   {
    "duration": 56,
    "start_time": "2022-06-16T14:00:36.668Z"
   },
   {
    "duration": 74,
    "start_time": "2022-06-16T14:00:36.725Z"
   },
   {
    "duration": 26,
    "start_time": "2022-06-16T14:00:36.801Z"
   },
   {
    "duration": 131,
    "start_time": "2022-06-16T14:00:36.831Z"
   },
   {
    "duration": 0,
    "start_time": "2022-06-16T14:00:36.964Z"
   },
   {
    "duration": 0,
    "start_time": "2022-06-16T14:00:36.965Z"
   },
   {
    "duration": 0,
    "start_time": "2022-06-16T14:00:36.967Z"
   },
   {
    "duration": 0,
    "start_time": "2022-06-16T14:00:36.968Z"
   },
   {
    "duration": 0,
    "start_time": "2022-06-16T14:00:36.969Z"
   },
   {
    "duration": 0,
    "start_time": "2022-06-16T14:00:36.970Z"
   },
   {
    "duration": 0,
    "start_time": "2022-06-16T14:00:36.972Z"
   },
   {
    "duration": 0,
    "start_time": "2022-06-16T14:00:36.973Z"
   },
   {
    "duration": 0,
    "start_time": "2022-06-16T14:00:36.975Z"
   },
   {
    "duration": 0,
    "start_time": "2022-06-16T14:00:36.976Z"
   },
   {
    "duration": 0,
    "start_time": "2022-06-16T14:00:36.993Z"
   },
   {
    "duration": 0,
    "start_time": "2022-06-16T14:00:36.996Z"
   },
   {
    "duration": 0,
    "start_time": "2022-06-16T14:00:36.997Z"
   },
   {
    "duration": 0,
    "start_time": "2022-06-16T14:00:36.999Z"
   },
   {
    "duration": 0,
    "start_time": "2022-06-16T14:00:37.000Z"
   },
   {
    "duration": 0,
    "start_time": "2022-06-16T14:00:37.001Z"
   },
   {
    "duration": 24,
    "start_time": "2022-06-16T14:38:32.545Z"
   },
   {
    "duration": 23,
    "start_time": "2022-06-16T14:38:39.980Z"
   },
   {
    "duration": 27,
    "start_time": "2022-06-16T14:39:00.773Z"
   },
   {
    "duration": 23,
    "start_time": "2022-06-16T14:40:06.353Z"
   },
   {
    "duration": 19,
    "start_time": "2022-06-16T14:40:14.178Z"
   },
   {
    "duration": 55,
    "start_time": "2022-06-16T14:40:23.667Z"
   },
   {
    "duration": 60,
    "start_time": "2022-06-16T14:41:00.766Z"
   },
   {
    "duration": 48,
    "start_time": "2022-06-16T14:41:12.708Z"
   },
   {
    "duration": 29,
    "start_time": "2022-06-16T14:41:20.045Z"
   },
   {
    "duration": 28,
    "start_time": "2022-06-16T14:41:55.369Z"
   },
   {
    "duration": 27,
    "start_time": "2022-06-16T14:42:02.953Z"
   },
   {
    "duration": 42,
    "start_time": "2022-06-16T14:44:02.584Z"
   },
   {
    "duration": 37,
    "start_time": "2022-06-16T14:44:19.387Z"
   },
   {
    "duration": 37,
    "start_time": "2022-06-16T14:44:58.164Z"
   },
   {
    "duration": 37,
    "start_time": "2022-06-16T14:45:05.286Z"
   },
   {
    "duration": 37,
    "start_time": "2022-06-16T14:45:27.907Z"
   },
   {
    "duration": 29,
    "start_time": "2022-06-16T14:45:50.987Z"
   },
   {
    "duration": 46,
    "start_time": "2022-06-16T14:45:58.449Z"
   },
   {
    "duration": 891,
    "start_time": "2022-06-16T14:46:11.907Z"
   },
   {
    "duration": 343,
    "start_time": "2022-06-16T14:46:12.800Z"
   },
   {
    "duration": 19,
    "start_time": "2022-06-16T14:46:13.144Z"
   },
   {
    "duration": 51,
    "start_time": "2022-06-16T14:46:13.164Z"
   },
   {
    "duration": 20,
    "start_time": "2022-06-16T14:46:13.216Z"
   },
   {
    "duration": 46,
    "start_time": "2022-06-16T14:46:13.237Z"
   },
   {
    "duration": 21,
    "start_time": "2022-06-16T14:46:13.284Z"
   },
   {
    "duration": 19,
    "start_time": "2022-06-16T14:46:13.306Z"
   },
   {
    "duration": 33,
    "start_time": "2022-06-16T14:46:13.326Z"
   },
   {
    "duration": 78,
    "start_time": "2022-06-16T14:46:13.360Z"
   },
   {
    "duration": 44,
    "start_time": "2022-06-16T14:46:13.439Z"
   },
   {
    "duration": 72,
    "start_time": "2022-06-16T14:46:13.485Z"
   },
   {
    "duration": 47,
    "start_time": "2022-06-16T14:46:13.559Z"
   },
   {
    "duration": 98,
    "start_time": "2022-06-16T14:46:13.609Z"
   },
   {
    "duration": 0,
    "start_time": "2022-06-16T14:46:13.708Z"
   },
   {
    "duration": 0,
    "start_time": "2022-06-16T14:46:13.709Z"
   },
   {
    "duration": 0,
    "start_time": "2022-06-16T14:46:13.710Z"
   },
   {
    "duration": 0,
    "start_time": "2022-06-16T14:46:13.711Z"
   },
   {
    "duration": 0,
    "start_time": "2022-06-16T14:46:13.712Z"
   },
   {
    "duration": 0,
    "start_time": "2022-06-16T14:46:13.712Z"
   },
   {
    "duration": 0,
    "start_time": "2022-06-16T14:46:13.713Z"
   },
   {
    "duration": 0,
    "start_time": "2022-06-16T14:46:13.714Z"
   },
   {
    "duration": 0,
    "start_time": "2022-06-16T14:46:13.715Z"
   },
   {
    "duration": 0,
    "start_time": "2022-06-16T14:46:13.716Z"
   },
   {
    "duration": 0,
    "start_time": "2022-06-16T14:46:13.717Z"
   },
   {
    "duration": 0,
    "start_time": "2022-06-16T14:46:13.718Z"
   },
   {
    "duration": 0,
    "start_time": "2022-06-16T14:46:13.719Z"
   },
   {
    "duration": 0,
    "start_time": "2022-06-16T14:46:13.719Z"
   },
   {
    "duration": 1,
    "start_time": "2022-06-16T14:46:13.720Z"
   },
   {
    "duration": 0,
    "start_time": "2022-06-16T14:46:13.722Z"
   },
   {
    "duration": 1252,
    "start_time": "2022-06-16T15:57:05.638Z"
   },
   {
    "duration": 1118,
    "start_time": "2022-06-16T15:57:13.643Z"
   },
   {
    "duration": 1058,
    "start_time": "2022-06-16T15:57:14.763Z"
   },
   {
    "duration": 22,
    "start_time": "2022-06-16T15:57:15.822Z"
   },
   {
    "duration": 35,
    "start_time": "2022-06-16T15:57:15.846Z"
   },
   {
    "duration": 44,
    "start_time": "2022-06-16T15:57:15.883Z"
   },
   {
    "duration": 33,
    "start_time": "2022-06-16T15:57:15.929Z"
   },
   {
    "duration": 15,
    "start_time": "2022-06-16T15:57:15.963Z"
   },
   {
    "duration": 5,
    "start_time": "2022-06-16T15:57:15.980Z"
   },
   {
    "duration": 8,
    "start_time": "2022-06-16T15:57:15.987Z"
   },
   {
    "duration": 108,
    "start_time": "2022-06-16T15:57:15.996Z"
   },
   {
    "duration": 60,
    "start_time": "2022-06-16T15:57:16.106Z"
   },
   {
    "duration": 103,
    "start_time": "2022-06-16T15:57:16.168Z"
   },
   {
    "duration": 45,
    "start_time": "2022-06-16T15:57:16.273Z"
   },
   {
    "duration": 121,
    "start_time": "2022-06-16T15:57:16.328Z"
   },
   {
    "duration": 0,
    "start_time": "2022-06-16T15:57:16.451Z"
   },
   {
    "duration": 0,
    "start_time": "2022-06-16T15:57:16.453Z"
   },
   {
    "duration": 0,
    "start_time": "2022-06-16T15:57:16.454Z"
   },
   {
    "duration": 0,
    "start_time": "2022-06-16T15:57:16.455Z"
   },
   {
    "duration": 0,
    "start_time": "2022-06-16T15:57:16.456Z"
   },
   {
    "duration": 0,
    "start_time": "2022-06-16T15:57:16.457Z"
   },
   {
    "duration": 0,
    "start_time": "2022-06-16T15:57:16.458Z"
   },
   {
    "duration": 0,
    "start_time": "2022-06-16T15:57:16.459Z"
   },
   {
    "duration": 0,
    "start_time": "2022-06-16T15:57:16.460Z"
   },
   {
    "duration": 0,
    "start_time": "2022-06-16T15:57:16.461Z"
   },
   {
    "duration": 0,
    "start_time": "2022-06-16T15:57:16.462Z"
   },
   {
    "duration": 0,
    "start_time": "2022-06-16T15:57:16.463Z"
   },
   {
    "duration": 0,
    "start_time": "2022-06-16T15:57:16.465Z"
   },
   {
    "duration": 0,
    "start_time": "2022-06-16T15:57:16.466Z"
   },
   {
    "duration": 0,
    "start_time": "2022-06-16T15:57:16.468Z"
   },
   {
    "duration": 0,
    "start_time": "2022-06-16T15:57:16.470Z"
   },
   {
    "duration": 48,
    "start_time": "2022-06-16T18:11:12.993Z"
   },
   {
    "duration": 1239,
    "start_time": "2022-06-16T18:11:17.858Z"
   },
   {
    "duration": 942,
    "start_time": "2022-06-16T18:11:19.099Z"
   },
   {
    "duration": 30,
    "start_time": "2022-06-16T18:11:20.047Z"
   },
   {
    "duration": 37,
    "start_time": "2022-06-16T18:11:20.079Z"
   },
   {
    "duration": 25,
    "start_time": "2022-06-16T18:11:20.118Z"
   },
   {
    "duration": 30,
    "start_time": "2022-06-16T18:11:20.145Z"
   },
   {
    "duration": 15,
    "start_time": "2022-06-16T18:11:20.195Z"
   },
   {
    "duration": 6,
    "start_time": "2022-06-16T18:11:20.212Z"
   },
   {
    "duration": 9,
    "start_time": "2022-06-16T18:11:20.221Z"
   },
   {
    "duration": 94,
    "start_time": "2022-06-16T18:11:20.231Z"
   },
   {
    "duration": 48,
    "start_time": "2022-06-16T18:11:20.327Z"
   },
   {
    "duration": 95,
    "start_time": "2022-06-16T18:11:20.377Z"
   },
   {
    "duration": 34,
    "start_time": "2022-06-16T18:11:20.473Z"
   },
   {
    "duration": 109,
    "start_time": "2022-06-16T18:11:20.508Z"
   },
   {
    "duration": 0,
    "start_time": "2022-06-16T18:11:20.619Z"
   },
   {
    "duration": 0,
    "start_time": "2022-06-16T18:11:20.621Z"
   },
   {
    "duration": 1,
    "start_time": "2022-06-16T18:11:20.622Z"
   },
   {
    "duration": 0,
    "start_time": "2022-06-16T18:11:20.624Z"
   },
   {
    "duration": 0,
    "start_time": "2022-06-16T18:11:20.625Z"
   },
   {
    "duration": 0,
    "start_time": "2022-06-16T18:11:20.626Z"
   },
   {
    "duration": 0,
    "start_time": "2022-06-16T18:11:20.627Z"
   },
   {
    "duration": 0,
    "start_time": "2022-06-16T18:11:20.628Z"
   },
   {
    "duration": 0,
    "start_time": "2022-06-16T18:11:20.629Z"
   },
   {
    "duration": 0,
    "start_time": "2022-06-16T18:11:20.630Z"
   },
   {
    "duration": 0,
    "start_time": "2022-06-16T18:11:20.632Z"
   },
   {
    "duration": 0,
    "start_time": "2022-06-16T18:11:20.632Z"
   },
   {
    "duration": 0,
    "start_time": "2022-06-16T18:11:20.634Z"
   },
   {
    "duration": 0,
    "start_time": "2022-06-16T18:11:20.635Z"
   },
   {
    "duration": 0,
    "start_time": "2022-06-16T18:11:20.636Z"
   },
   {
    "duration": 0,
    "start_time": "2022-06-16T18:11:20.637Z"
   },
   {
    "duration": 5,
    "start_time": "2022-06-16T18:13:46.509Z"
   },
   {
    "duration": 4,
    "start_time": "2022-06-16T18:13:51.029Z"
   },
   {
    "duration": 8,
    "start_time": "2022-06-16T18:13:54.230Z"
   },
   {
    "duration": 13,
    "start_time": "2022-06-16T18:15:30.344Z"
   },
   {
    "duration": 10,
    "start_time": "2022-06-16T18:17:59.913Z"
   },
   {
    "duration": 4,
    "start_time": "2022-06-16T18:20:39.717Z"
   },
   {
    "duration": 7,
    "start_time": "2022-06-16T18:20:47.592Z"
   },
   {
    "duration": 6,
    "start_time": "2022-06-16T18:21:09.149Z"
   },
   {
    "duration": 1103,
    "start_time": "2022-06-16T18:21:17.989Z"
   },
   {
    "duration": 415,
    "start_time": "2022-06-16T18:21:19.094Z"
   },
   {
    "duration": 21,
    "start_time": "2022-06-16T18:21:19.511Z"
   },
   {
    "duration": 34,
    "start_time": "2022-06-16T18:21:19.534Z"
   },
   {
    "duration": 32,
    "start_time": "2022-06-16T18:21:19.570Z"
   },
   {
    "duration": 29,
    "start_time": "2022-06-16T18:21:19.604Z"
   },
   {
    "duration": 13,
    "start_time": "2022-06-16T18:21:19.635Z"
   },
   {
    "duration": 3,
    "start_time": "2022-06-16T18:21:19.650Z"
   },
   {
    "duration": 5,
    "start_time": "2022-06-16T18:21:19.655Z"
   },
   {
    "duration": 117,
    "start_time": "2022-06-16T18:21:19.662Z"
   },
   {
    "duration": 17,
    "start_time": "2022-06-16T18:21:19.780Z"
   },
   {
    "duration": 99,
    "start_time": "2022-06-16T18:21:19.799Z"
   },
   {
    "duration": 0,
    "start_time": "2022-06-16T18:21:19.903Z"
   },
   {
    "duration": 0,
    "start_time": "2022-06-16T18:21:19.904Z"
   },
   {
    "duration": 0,
    "start_time": "2022-06-16T18:21:19.906Z"
   },
   {
    "duration": 0,
    "start_time": "2022-06-16T18:21:19.907Z"
   },
   {
    "duration": 0,
    "start_time": "2022-06-16T18:21:19.908Z"
   },
   {
    "duration": 0,
    "start_time": "2022-06-16T18:21:19.910Z"
   },
   {
    "duration": 0,
    "start_time": "2022-06-16T18:21:19.914Z"
   },
   {
    "duration": 0,
    "start_time": "2022-06-16T18:21:19.915Z"
   },
   {
    "duration": 0,
    "start_time": "2022-06-16T18:21:19.916Z"
   },
   {
    "duration": 0,
    "start_time": "2022-06-16T18:21:19.918Z"
   },
   {
    "duration": 0,
    "start_time": "2022-06-16T18:21:19.919Z"
   },
   {
    "duration": 0,
    "start_time": "2022-06-16T18:21:19.921Z"
   },
   {
    "duration": 0,
    "start_time": "2022-06-16T18:21:19.922Z"
   },
   {
    "duration": 0,
    "start_time": "2022-06-16T18:21:19.923Z"
   },
   {
    "duration": 0,
    "start_time": "2022-06-16T18:21:19.924Z"
   },
   {
    "duration": 0,
    "start_time": "2022-06-16T18:21:19.925Z"
   },
   {
    "duration": 0,
    "start_time": "2022-06-16T18:21:19.926Z"
   },
   {
    "duration": 0,
    "start_time": "2022-06-16T18:21:19.927Z"
   },
   {
    "duration": 0,
    "start_time": "2022-06-16T18:21:19.928Z"
   },
   {
    "duration": 0,
    "start_time": "2022-06-16T18:21:19.929Z"
   },
   {
    "duration": 1053,
    "start_time": "2022-06-16T18:22:07.758Z"
   },
   {
    "duration": 459,
    "start_time": "2022-06-16T18:22:08.813Z"
   },
   {
    "duration": 22,
    "start_time": "2022-06-16T18:22:09.274Z"
   },
   {
    "duration": 36,
    "start_time": "2022-06-16T18:22:09.298Z"
   },
   {
    "duration": 25,
    "start_time": "2022-06-16T18:22:09.335Z"
   },
   {
    "duration": 55,
    "start_time": "2022-06-16T18:22:09.361Z"
   },
   {
    "duration": 15,
    "start_time": "2022-06-16T18:22:09.418Z"
   },
   {
    "duration": 8,
    "start_time": "2022-06-16T18:22:09.434Z"
   },
   {
    "duration": 8,
    "start_time": "2022-06-16T18:22:09.444Z"
   },
   {
    "duration": 98,
    "start_time": "2022-06-16T18:22:09.455Z"
   },
   {
    "duration": 98,
    "start_time": "2022-06-16T18:22:09.555Z"
   },
   {
    "duration": 0,
    "start_time": "2022-06-16T18:22:09.654Z"
   },
   {
    "duration": 0,
    "start_time": "2022-06-16T18:22:09.656Z"
   },
   {
    "duration": 0,
    "start_time": "2022-06-16T18:22:09.657Z"
   },
   {
    "duration": 0,
    "start_time": "2022-06-16T18:22:09.657Z"
   },
   {
    "duration": 1,
    "start_time": "2022-06-16T18:22:09.658Z"
   },
   {
    "duration": 0,
    "start_time": "2022-06-16T18:22:09.659Z"
   },
   {
    "duration": 0,
    "start_time": "2022-06-16T18:22:09.660Z"
   },
   {
    "duration": 0,
    "start_time": "2022-06-16T18:22:09.661Z"
   },
   {
    "duration": 0,
    "start_time": "2022-06-16T18:22:09.662Z"
   },
   {
    "duration": 0,
    "start_time": "2022-06-16T18:22:09.663Z"
   },
   {
    "duration": 0,
    "start_time": "2022-06-16T18:22:09.664Z"
   },
   {
    "duration": 0,
    "start_time": "2022-06-16T18:22:09.665Z"
   },
   {
    "duration": 0,
    "start_time": "2022-06-16T18:22:09.665Z"
   },
   {
    "duration": 0,
    "start_time": "2022-06-16T18:22:09.666Z"
   },
   {
    "duration": 0,
    "start_time": "2022-06-16T18:22:09.667Z"
   },
   {
    "duration": 0,
    "start_time": "2022-06-16T18:22:09.668Z"
   },
   {
    "duration": 0,
    "start_time": "2022-06-16T18:22:09.695Z"
   },
   {
    "duration": 0,
    "start_time": "2022-06-16T18:22:09.696Z"
   },
   {
    "duration": 0,
    "start_time": "2022-06-16T18:22:09.697Z"
   },
   {
    "duration": 0,
    "start_time": "2022-06-16T18:22:09.698Z"
   },
   {
    "duration": 1053,
    "start_time": "2022-06-16T18:22:53.305Z"
   },
   {
    "duration": 417,
    "start_time": "2022-06-16T18:22:54.359Z"
   },
   {
    "duration": 21,
    "start_time": "2022-06-16T18:22:54.778Z"
   },
   {
    "duration": 35,
    "start_time": "2022-06-16T18:22:54.800Z"
   },
   {
    "duration": 25,
    "start_time": "2022-06-16T18:22:54.838Z"
   },
   {
    "duration": 50,
    "start_time": "2022-06-16T18:22:54.865Z"
   },
   {
    "duration": 15,
    "start_time": "2022-06-16T18:22:54.917Z"
   },
   {
    "duration": 11,
    "start_time": "2022-06-16T18:22:54.934Z"
   },
   {
    "duration": 16,
    "start_time": "2022-06-16T18:22:54.947Z"
   },
   {
    "duration": 96,
    "start_time": "2022-06-16T18:22:54.965Z"
   },
   {
    "duration": 8,
    "start_time": "2022-06-16T18:22:55.063Z"
   },
   {
    "duration": 69,
    "start_time": "2022-06-16T18:22:55.073Z"
   },
   {
    "duration": 88,
    "start_time": "2022-06-16T18:22:55.143Z"
   },
   {
    "duration": 23,
    "start_time": "2022-06-16T18:22:55.234Z"
   },
   {
    "duration": 121,
    "start_time": "2022-06-16T18:22:55.258Z"
   },
   {
    "duration": 0,
    "start_time": "2022-06-16T18:22:55.380Z"
   },
   {
    "duration": 0,
    "start_time": "2022-06-16T18:22:55.381Z"
   },
   {
    "duration": 0,
    "start_time": "2022-06-16T18:22:55.382Z"
   },
   {
    "duration": 0,
    "start_time": "2022-06-16T18:22:55.383Z"
   },
   {
    "duration": 0,
    "start_time": "2022-06-16T18:22:55.394Z"
   },
   {
    "duration": 0,
    "start_time": "2022-06-16T18:22:55.395Z"
   },
   {
    "duration": 0,
    "start_time": "2022-06-16T18:22:55.396Z"
   },
   {
    "duration": 0,
    "start_time": "2022-06-16T18:22:55.397Z"
   },
   {
    "duration": 0,
    "start_time": "2022-06-16T18:22:55.398Z"
   },
   {
    "duration": 0,
    "start_time": "2022-06-16T18:22:55.398Z"
   },
   {
    "duration": 0,
    "start_time": "2022-06-16T18:22:55.399Z"
   },
   {
    "duration": 0,
    "start_time": "2022-06-16T18:22:55.400Z"
   },
   {
    "duration": 0,
    "start_time": "2022-06-16T18:22:55.401Z"
   },
   {
    "duration": 0,
    "start_time": "2022-06-16T18:22:55.401Z"
   },
   {
    "duration": 0,
    "start_time": "2022-06-16T18:22:55.402Z"
   },
   {
    "duration": 0,
    "start_time": "2022-06-16T18:22:55.403Z"
   },
   {
    "duration": 6,
    "start_time": "2022-06-16T18:24:07.190Z"
   },
   {
    "duration": 9,
    "start_time": "2022-06-16T18:24:18.394Z"
   },
   {
    "duration": 1181,
    "start_time": "2022-06-16T18:24:25.188Z"
   },
   {
    "duration": 408,
    "start_time": "2022-06-16T18:24:26.371Z"
   },
   {
    "duration": 22,
    "start_time": "2022-06-16T18:24:26.781Z"
   },
   {
    "duration": 35,
    "start_time": "2022-06-16T18:24:26.804Z"
   },
   {
    "duration": 25,
    "start_time": "2022-06-16T18:24:26.841Z"
   },
   {
    "duration": 54,
    "start_time": "2022-06-16T18:24:26.867Z"
   },
   {
    "duration": 14,
    "start_time": "2022-06-16T18:24:26.922Z"
   },
   {
    "duration": 8,
    "start_time": "2022-06-16T18:24:26.937Z"
   },
   {
    "duration": 7,
    "start_time": "2022-06-16T18:24:26.947Z"
   },
   {
    "duration": 94,
    "start_time": "2022-06-16T18:24:26.955Z"
   },
   {
    "duration": 11,
    "start_time": "2022-06-16T18:24:27.050Z"
   },
   {
    "duration": 68,
    "start_time": "2022-06-16T18:24:27.062Z"
   },
   {
    "duration": 83,
    "start_time": "2022-06-16T18:24:27.132Z"
   },
   {
    "duration": 27,
    "start_time": "2022-06-16T18:24:27.219Z"
   },
   {
    "duration": 134,
    "start_time": "2022-06-16T18:24:27.248Z"
   },
   {
    "duration": 0,
    "start_time": "2022-06-16T18:24:27.384Z"
   },
   {
    "duration": 0,
    "start_time": "2022-06-16T18:24:27.385Z"
   },
   {
    "duration": 0,
    "start_time": "2022-06-16T18:24:27.386Z"
   },
   {
    "duration": 0,
    "start_time": "2022-06-16T18:24:27.387Z"
   },
   {
    "duration": 0,
    "start_time": "2022-06-16T18:24:27.394Z"
   },
   {
    "duration": 0,
    "start_time": "2022-06-16T18:24:27.394Z"
   },
   {
    "duration": 1,
    "start_time": "2022-06-16T18:24:27.395Z"
   },
   {
    "duration": 1,
    "start_time": "2022-06-16T18:24:27.396Z"
   },
   {
    "duration": 0,
    "start_time": "2022-06-16T18:24:27.398Z"
   },
   {
    "duration": 0,
    "start_time": "2022-06-16T18:24:27.399Z"
   },
   {
    "duration": 0,
    "start_time": "2022-06-16T18:24:27.400Z"
   },
   {
    "duration": 0,
    "start_time": "2022-06-16T18:24:27.401Z"
   },
   {
    "duration": 0,
    "start_time": "2022-06-16T18:24:27.402Z"
   },
   {
    "duration": 0,
    "start_time": "2022-06-16T18:24:27.404Z"
   },
   {
    "duration": 0,
    "start_time": "2022-06-16T18:24:27.405Z"
   },
   {
    "duration": 0,
    "start_time": "2022-06-16T18:24:27.406Z"
   },
   {
    "duration": 22,
    "start_time": "2022-06-16T18:24:49.770Z"
   },
   {
    "duration": 26,
    "start_time": "2022-06-16T18:25:29.468Z"
   },
   {
    "duration": 23,
    "start_time": "2022-06-16T18:25:33.223Z"
   },
   {
    "duration": 1115,
    "start_time": "2022-06-16T18:25:38.772Z"
   },
   {
    "duration": 431,
    "start_time": "2022-06-16T18:25:39.889Z"
   },
   {
    "duration": 27,
    "start_time": "2022-06-16T18:25:40.322Z"
   },
   {
    "duration": 37,
    "start_time": "2022-06-16T18:25:40.352Z"
   },
   {
    "duration": 29,
    "start_time": "2022-06-16T18:25:40.390Z"
   },
   {
    "duration": 35,
    "start_time": "2022-06-16T18:25:40.421Z"
   },
   {
    "duration": 37,
    "start_time": "2022-06-16T18:25:40.458Z"
   },
   {
    "duration": 5,
    "start_time": "2022-06-16T18:25:40.497Z"
   },
   {
    "duration": 12,
    "start_time": "2022-06-16T18:25:40.503Z"
   },
   {
    "duration": 97,
    "start_time": "2022-06-16T18:25:40.518Z"
   },
   {
    "duration": 9,
    "start_time": "2022-06-16T18:25:40.617Z"
   },
   {
    "duration": 71,
    "start_time": "2022-06-16T18:25:40.628Z"
   },
   {
    "duration": 98,
    "start_time": "2022-06-16T18:25:40.701Z"
   },
   {
    "duration": 25,
    "start_time": "2022-06-16T18:25:40.801Z"
   },
   {
    "duration": 26,
    "start_time": "2022-06-16T18:25:40.828Z"
   },
   {
    "duration": 139,
    "start_time": "2022-06-16T18:25:40.856Z"
   },
   {
    "duration": 0,
    "start_time": "2022-06-16T18:25:40.997Z"
   },
   {
    "duration": 1,
    "start_time": "2022-06-16T18:25:40.998Z"
   },
   {
    "duration": 0,
    "start_time": "2022-06-16T18:25:41.001Z"
   },
   {
    "duration": 0,
    "start_time": "2022-06-16T18:25:41.002Z"
   },
   {
    "duration": 0,
    "start_time": "2022-06-16T18:25:41.004Z"
   },
   {
    "duration": 0,
    "start_time": "2022-06-16T18:25:41.005Z"
   },
   {
    "duration": 0,
    "start_time": "2022-06-16T18:25:41.007Z"
   },
   {
    "duration": 0,
    "start_time": "2022-06-16T18:25:41.008Z"
   },
   {
    "duration": 0,
    "start_time": "2022-06-16T18:25:41.009Z"
   },
   {
    "duration": 0,
    "start_time": "2022-06-16T18:25:41.011Z"
   },
   {
    "duration": 0,
    "start_time": "2022-06-16T18:25:41.012Z"
   },
   {
    "duration": 0,
    "start_time": "2022-06-16T18:25:41.013Z"
   },
   {
    "duration": 0,
    "start_time": "2022-06-16T18:25:41.015Z"
   },
   {
    "duration": 0,
    "start_time": "2022-06-16T18:25:41.017Z"
   },
   {
    "duration": 0,
    "start_time": "2022-06-16T18:25:41.018Z"
   },
   {
    "duration": 0,
    "start_time": "2022-06-16T18:25:41.019Z"
   },
   {
    "duration": 15,
    "start_time": "2022-06-16T18:32:53.748Z"
   },
   {
    "duration": 25,
    "start_time": "2022-06-16T18:33:05.695Z"
   },
   {
    "duration": 15,
    "start_time": "2022-06-16T18:33:17.519Z"
   },
   {
    "duration": 17,
    "start_time": "2022-06-16T18:33:26.886Z"
   },
   {
    "duration": 9,
    "start_time": "2022-06-16T18:33:32.495Z"
   },
   {
    "duration": 1054,
    "start_time": "2022-06-16T18:33:36.199Z"
   },
   {
    "duration": 421,
    "start_time": "2022-06-16T18:33:37.255Z"
   },
   {
    "duration": 24,
    "start_time": "2022-06-16T18:33:37.678Z"
   },
   {
    "duration": 36,
    "start_time": "2022-06-16T18:33:37.703Z"
   },
   {
    "duration": 26,
    "start_time": "2022-06-16T18:33:37.741Z"
   },
   {
    "duration": 56,
    "start_time": "2022-06-16T18:33:37.769Z"
   },
   {
    "duration": 14,
    "start_time": "2022-06-16T18:33:37.826Z"
   },
   {
    "duration": 6,
    "start_time": "2022-06-16T18:33:37.842Z"
   },
   {
    "duration": 9,
    "start_time": "2022-06-16T18:33:37.850Z"
   },
   {
    "duration": 100,
    "start_time": "2022-06-16T18:33:37.861Z"
   },
   {
    "duration": 7,
    "start_time": "2022-06-16T18:33:37.963Z"
   },
   {
    "duration": 60,
    "start_time": "2022-06-16T18:33:37.972Z"
   },
   {
    "duration": 91,
    "start_time": "2022-06-16T18:33:38.034Z"
   },
   {
    "duration": 25,
    "start_time": "2022-06-16T18:33:38.126Z"
   },
   {
    "duration": 8,
    "start_time": "2022-06-16T18:33:38.153Z"
   },
   {
    "duration": 148,
    "start_time": "2022-06-16T18:33:38.163Z"
   },
   {
    "duration": 0,
    "start_time": "2022-06-16T18:33:38.314Z"
   },
   {
    "duration": 0,
    "start_time": "2022-06-16T18:33:38.315Z"
   },
   {
    "duration": 0,
    "start_time": "2022-06-16T18:33:38.316Z"
   },
   {
    "duration": 0,
    "start_time": "2022-06-16T18:33:38.317Z"
   },
   {
    "duration": 0,
    "start_time": "2022-06-16T18:33:38.319Z"
   },
   {
    "duration": 0,
    "start_time": "2022-06-16T18:33:38.319Z"
   },
   {
    "duration": 0,
    "start_time": "2022-06-16T18:33:38.321Z"
   },
   {
    "duration": 0,
    "start_time": "2022-06-16T18:33:38.322Z"
   },
   {
    "duration": 0,
    "start_time": "2022-06-16T18:33:38.324Z"
   },
   {
    "duration": 0,
    "start_time": "2022-06-16T18:33:38.325Z"
   },
   {
    "duration": 0,
    "start_time": "2022-06-16T18:33:38.327Z"
   },
   {
    "duration": 0,
    "start_time": "2022-06-16T18:33:38.328Z"
   },
   {
    "duration": 8,
    "start_time": "2022-06-16T18:34:16.193Z"
   },
   {
    "duration": 6,
    "start_time": "2022-06-16T18:34:30.986Z"
   },
   {
    "duration": 746,
    "start_time": "2022-06-16T18:38:13.700Z"
   },
   {
    "duration": 80,
    "start_time": "2022-06-16T18:38:32.671Z"
   },
   {
    "duration": 27,
    "start_time": "2022-06-16T18:38:42.659Z"
   },
   {
    "duration": 25,
    "start_time": "2022-06-16T18:38:53.383Z"
   },
   {
    "duration": 1064,
    "start_time": "2022-06-16T18:41:03.956Z"
   },
   {
    "duration": 432,
    "start_time": "2022-06-16T18:41:05.022Z"
   },
   {
    "duration": 24,
    "start_time": "2022-06-16T18:41:05.455Z"
   },
   {
    "duration": 38,
    "start_time": "2022-06-16T18:41:05.480Z"
   },
   {
    "duration": 29,
    "start_time": "2022-06-16T18:41:05.520Z"
   },
   {
    "duration": 54,
    "start_time": "2022-06-16T18:41:05.552Z"
   },
   {
    "duration": 15,
    "start_time": "2022-06-16T18:41:05.608Z"
   },
   {
    "duration": 7,
    "start_time": "2022-06-16T18:41:05.624Z"
   },
   {
    "duration": 8,
    "start_time": "2022-06-16T18:41:05.632Z"
   },
   {
    "duration": 108,
    "start_time": "2022-06-16T18:41:05.643Z"
   },
   {
    "duration": 9,
    "start_time": "2022-06-16T18:41:05.753Z"
   },
   {
    "duration": 66,
    "start_time": "2022-06-16T18:41:05.763Z"
   },
   {
    "duration": 89,
    "start_time": "2022-06-16T18:41:05.831Z"
   },
   {
    "duration": 24,
    "start_time": "2022-06-16T18:41:05.922Z"
   },
   {
    "duration": 9,
    "start_time": "2022-06-16T18:41:05.948Z"
   },
   {
    "duration": 4,
    "start_time": "2022-06-16T18:41:05.958Z"
   },
   {
    "duration": 32,
    "start_time": "2022-06-16T18:41:05.964Z"
   },
   {
    "duration": 100,
    "start_time": "2022-06-16T18:41:05.998Z"
   },
   {
    "duration": 4,
    "start_time": "2022-06-16T18:41:06.099Z"
   },
   {
    "duration": 11,
    "start_time": "2022-06-16T18:41:06.104Z"
   },
   {
    "duration": 13,
    "start_time": "2022-06-16T18:41:06.117Z"
   },
   {
    "duration": 129,
    "start_time": "2022-06-16T18:41:06.132Z"
   },
   {
    "duration": 0,
    "start_time": "2022-06-16T18:41:06.263Z"
   },
   {
    "duration": 0,
    "start_time": "2022-06-16T18:41:06.264Z"
   },
   {
    "duration": 0,
    "start_time": "2022-06-16T18:41:06.266Z"
   },
   {
    "duration": 0,
    "start_time": "2022-06-16T18:41:06.267Z"
   },
   {
    "duration": 0,
    "start_time": "2022-06-16T18:41:06.269Z"
   },
   {
    "duration": 0,
    "start_time": "2022-06-16T18:41:06.270Z"
   },
   {
    "duration": 0,
    "start_time": "2022-06-16T18:41:06.272Z"
   },
   {
    "duration": 0,
    "start_time": "2022-06-16T18:41:06.273Z"
   },
   {
    "duration": 147,
    "start_time": "2022-06-16T18:43:26.572Z"
   },
   {
    "duration": 145,
    "start_time": "2022-06-16T18:47:00.921Z"
   },
   {
    "duration": 148,
    "start_time": "2022-06-16T18:49:27.570Z"
   },
   {
    "duration": 147,
    "start_time": "2022-06-16T18:51:17.401Z"
   },
   {
    "duration": 135,
    "start_time": "2022-06-16T18:53:42.147Z"
   },
   {
    "duration": 132,
    "start_time": "2022-06-16T18:55:17.229Z"
   },
   {
    "duration": 996,
    "start_time": "2022-06-16T18:56:21.351Z"
   },
   {
    "duration": 429,
    "start_time": "2022-06-16T18:56:22.349Z"
   },
   {
    "duration": 24,
    "start_time": "2022-06-16T18:56:22.780Z"
   },
   {
    "duration": 51,
    "start_time": "2022-06-16T18:56:22.805Z"
   },
   {
    "duration": 27,
    "start_time": "2022-06-16T18:56:22.859Z"
   },
   {
    "duration": 41,
    "start_time": "2022-06-16T18:56:22.894Z"
   },
   {
    "duration": 15,
    "start_time": "2022-06-16T18:56:22.937Z"
   },
   {
    "duration": 17,
    "start_time": "2022-06-16T18:56:22.954Z"
   },
   {
    "duration": 26,
    "start_time": "2022-06-16T18:56:22.973Z"
   },
   {
    "duration": 88,
    "start_time": "2022-06-16T18:56:23.001Z"
   },
   {
    "duration": 8,
    "start_time": "2022-06-16T18:56:23.091Z"
   },
   {
    "duration": 78,
    "start_time": "2022-06-16T18:56:23.100Z"
   },
   {
    "duration": 97,
    "start_time": "2022-06-16T18:56:23.180Z"
   },
   {
    "duration": 26,
    "start_time": "2022-06-16T18:56:23.279Z"
   },
   {
    "duration": 10,
    "start_time": "2022-06-16T18:56:23.307Z"
   },
   {
    "duration": 97,
    "start_time": "2022-06-16T18:56:23.318Z"
   },
   {
    "duration": 3,
    "start_time": "2022-06-16T18:56:23.417Z"
   },
   {
    "duration": 15,
    "start_time": "2022-06-16T18:56:23.422Z"
   },
   {
    "duration": 17,
    "start_time": "2022-06-16T18:56:23.439Z"
   },
   {
    "duration": 156,
    "start_time": "2022-06-16T18:56:23.457Z"
   },
   {
    "duration": 163,
    "start_time": "2022-06-16T18:56:23.615Z"
   },
   {
    "duration": 164,
    "start_time": "2022-06-16T18:56:23.780Z"
   },
   {
    "duration": 172,
    "start_time": "2022-06-16T18:56:23.945Z"
   },
   {
    "duration": 170,
    "start_time": "2022-06-16T18:56:24.119Z"
   },
   {
    "duration": 151,
    "start_time": "2022-06-16T18:56:24.294Z"
   },
   {
    "duration": 5,
    "start_time": "2022-06-16T18:56:24.447Z"
   },
   {
    "duration": 7,
    "start_time": "2022-06-16T18:56:24.454Z"
   },
   {
    "duration": 37,
    "start_time": "2022-06-16T18:56:24.463Z"
   },
   {
    "duration": 1111,
    "start_time": "2022-06-16T18:57:30.231Z"
   },
   {
    "duration": 424,
    "start_time": "2022-06-16T18:57:31.344Z"
   },
   {
    "duration": 23,
    "start_time": "2022-06-16T18:57:31.770Z"
   },
   {
    "duration": 38,
    "start_time": "2022-06-16T18:57:31.796Z"
   },
   {
    "duration": 29,
    "start_time": "2022-06-16T18:57:31.836Z"
   },
   {
    "duration": 55,
    "start_time": "2022-06-16T18:57:31.867Z"
   },
   {
    "duration": 16,
    "start_time": "2022-06-16T18:57:31.924Z"
   },
   {
    "duration": 8,
    "start_time": "2022-06-16T18:57:31.942Z"
   },
   {
    "duration": 17,
    "start_time": "2022-06-16T18:57:31.952Z"
   },
   {
    "duration": 111,
    "start_time": "2022-06-16T18:57:31.972Z"
   },
   {
    "duration": 11,
    "start_time": "2022-06-16T18:57:32.085Z"
   },
   {
    "duration": 80,
    "start_time": "2022-06-16T18:57:32.098Z"
   },
   {
    "duration": 87,
    "start_time": "2022-06-16T18:57:32.180Z"
   },
   {
    "duration": 30,
    "start_time": "2022-06-16T18:57:32.269Z"
   },
   {
    "duration": 9,
    "start_time": "2022-06-16T18:57:32.301Z"
   },
   {
    "duration": 96,
    "start_time": "2022-06-16T18:57:32.312Z"
   },
   {
    "duration": 4,
    "start_time": "2022-06-16T18:57:32.409Z"
   },
   {
    "duration": 24,
    "start_time": "2022-06-16T18:57:32.415Z"
   },
   {
    "duration": 17,
    "start_time": "2022-06-16T18:57:32.441Z"
   },
   {
    "duration": 169,
    "start_time": "2022-06-16T18:57:32.461Z"
   },
   {
    "duration": 164,
    "start_time": "2022-06-16T18:57:32.632Z"
   },
   {
    "duration": 140,
    "start_time": "2022-06-16T18:57:32.798Z"
   },
   {
    "duration": 161,
    "start_time": "2022-06-16T18:57:32.939Z"
   },
   {
    "duration": 155,
    "start_time": "2022-06-16T18:57:33.102Z"
   },
   {
    "duration": 145,
    "start_time": "2022-06-16T18:57:33.259Z"
   },
   {
    "duration": 6,
    "start_time": "2022-06-16T18:57:33.405Z"
   },
   {
    "duration": 14,
    "start_time": "2022-06-16T18:57:33.413Z"
   },
   {
    "duration": 20,
    "start_time": "2022-06-16T18:57:33.430Z"
   },
   {
    "duration": 5,
    "start_time": "2022-06-16T19:42:17.242Z"
   },
   {
    "duration": 6,
    "start_time": "2022-06-16T19:43:43.290Z"
   },
   {
    "duration": 1080,
    "start_time": "2022-06-16T19:44:07.255Z"
   },
   {
    "duration": 435,
    "start_time": "2022-06-16T19:44:08.337Z"
   },
   {
    "duration": 23,
    "start_time": "2022-06-16T19:44:08.774Z"
   },
   {
    "duration": 35,
    "start_time": "2022-06-16T19:44:08.798Z"
   },
   {
    "duration": 36,
    "start_time": "2022-06-16T19:44:08.835Z"
   },
   {
    "duration": 62,
    "start_time": "2022-06-16T19:44:08.873Z"
   },
   {
    "duration": 21,
    "start_time": "2022-06-16T19:44:08.937Z"
   },
   {
    "duration": 14,
    "start_time": "2022-06-16T19:44:08.961Z"
   },
   {
    "duration": 5,
    "start_time": "2022-06-16T19:44:08.995Z"
   },
   {
    "duration": 156,
    "start_time": "2022-06-16T19:44:09.002Z"
   },
   {
    "duration": 9,
    "start_time": "2022-06-16T19:44:09.160Z"
   },
   {
    "duration": 55,
    "start_time": "2022-06-16T19:44:09.172Z"
   },
   {
    "duration": 85,
    "start_time": "2022-06-16T19:44:09.229Z"
   },
   {
    "duration": 24,
    "start_time": "2022-06-16T19:44:09.317Z"
   },
   {
    "duration": 9,
    "start_time": "2022-06-16T19:44:09.343Z"
   },
   {
    "duration": 91,
    "start_time": "2022-06-16T19:44:09.353Z"
   },
   {
    "duration": 4,
    "start_time": "2022-06-16T19:44:09.445Z"
   },
   {
    "duration": 16,
    "start_time": "2022-06-16T19:44:09.451Z"
   },
   {
    "duration": 12,
    "start_time": "2022-06-16T19:44:09.468Z"
   },
   {
    "duration": 154,
    "start_time": "2022-06-16T19:44:09.482Z"
   },
   {
    "duration": 146,
    "start_time": "2022-06-16T19:44:09.637Z"
   },
   {
    "duration": 139,
    "start_time": "2022-06-16T19:44:09.785Z"
   },
   {
    "duration": 165,
    "start_time": "2022-06-16T19:44:09.926Z"
   },
   {
    "duration": 153,
    "start_time": "2022-06-16T19:44:10.093Z"
   },
   {
    "duration": 151,
    "start_time": "2022-06-16T19:44:10.247Z"
   },
   {
    "duration": 5,
    "start_time": "2022-06-16T19:44:10.400Z"
   },
   {
    "duration": 8,
    "start_time": "2022-06-16T19:44:10.406Z"
   },
   {
    "duration": 18,
    "start_time": "2022-06-16T19:44:10.416Z"
   },
   {
    "duration": 6,
    "start_time": "2022-06-16T19:45:42.873Z"
   },
   {
    "duration": 24,
    "start_time": "2022-06-16T19:51:09.607Z"
   },
   {
    "duration": 24,
    "start_time": "2022-06-16T19:51:35.175Z"
   },
   {
    "duration": 90,
    "start_time": "2022-06-16T19:54:28.653Z"
   },
   {
    "duration": 5,
    "start_time": "2022-06-16T19:54:54.955Z"
   },
   {
    "duration": 21,
    "start_time": "2022-06-16T19:55:45.765Z"
   },
   {
    "duration": 31,
    "start_time": "2022-06-16T19:57:51.866Z"
   },
   {
    "duration": 1166,
    "start_time": "2022-06-16T19:58:18.595Z"
   },
   {
    "duration": 461,
    "start_time": "2022-06-16T19:58:19.764Z"
   },
   {
    "duration": 24,
    "start_time": "2022-06-16T19:58:20.231Z"
   },
   {
    "duration": 38,
    "start_time": "2022-06-16T19:58:20.257Z"
   },
   {
    "duration": 26,
    "start_time": "2022-06-16T19:58:20.296Z"
   },
   {
    "duration": 32,
    "start_time": "2022-06-16T19:58:20.324Z"
   },
   {
    "duration": 39,
    "start_time": "2022-06-16T19:58:20.358Z"
   },
   {
    "duration": 20,
    "start_time": "2022-06-16T19:58:20.399Z"
   },
   {
    "duration": 5,
    "start_time": "2022-06-16T19:58:20.422Z"
   },
   {
    "duration": 104,
    "start_time": "2022-06-16T19:58:20.429Z"
   },
   {
    "duration": 8,
    "start_time": "2022-06-16T19:58:20.535Z"
   },
   {
    "duration": 67,
    "start_time": "2022-06-16T19:58:20.545Z"
   },
   {
    "duration": 95,
    "start_time": "2022-06-16T19:58:20.613Z"
   },
   {
    "duration": 28,
    "start_time": "2022-06-16T19:58:20.710Z"
   },
   {
    "duration": 11,
    "start_time": "2022-06-16T19:58:20.740Z"
   },
   {
    "duration": 97,
    "start_time": "2022-06-16T19:58:20.752Z"
   },
   {
    "duration": 4,
    "start_time": "2022-06-16T19:58:20.851Z"
   },
   {
    "duration": 6,
    "start_time": "2022-06-16T19:58:20.857Z"
   },
   {
    "duration": 11,
    "start_time": "2022-06-16T19:58:20.864Z"
   },
   {
    "duration": 165,
    "start_time": "2022-06-16T19:58:20.893Z"
   },
   {
    "duration": 173,
    "start_time": "2022-06-16T19:58:21.060Z"
   },
   {
    "duration": 149,
    "start_time": "2022-06-16T19:58:21.235Z"
   },
   {
    "duration": 165,
    "start_time": "2022-06-16T19:58:21.386Z"
   },
   {
    "duration": 147,
    "start_time": "2022-06-16T19:58:21.553Z"
   },
   {
    "duration": 147,
    "start_time": "2022-06-16T19:58:21.703Z"
   },
   {
    "duration": 5,
    "start_time": "2022-06-16T19:58:21.852Z"
   },
   {
    "duration": 6,
    "start_time": "2022-06-16T19:58:21.860Z"
   },
   {
    "duration": 29,
    "start_time": "2022-06-16T19:58:21.868Z"
   },
   {
    "duration": 4,
    "start_time": "2022-06-16T20:05:17.099Z"
   },
   {
    "duration": 1038,
    "start_time": "2022-06-16T20:18:57.402Z"
   },
   {
    "duration": 421,
    "start_time": "2022-06-16T20:18:58.442Z"
   },
   {
    "duration": 36,
    "start_time": "2022-06-16T20:18:58.865Z"
   },
   {
    "duration": 77,
    "start_time": "2022-06-16T20:18:58.904Z"
   },
   {
    "duration": 49,
    "start_time": "2022-06-16T20:18:58.984Z"
   },
   {
    "duration": 58,
    "start_time": "2022-06-16T20:18:59.036Z"
   },
   {
    "duration": 21,
    "start_time": "2022-06-16T20:18:59.105Z"
   },
   {
    "duration": 23,
    "start_time": "2022-06-16T20:18:59.129Z"
   },
   {
    "duration": 21,
    "start_time": "2022-06-16T20:18:59.155Z"
   },
   {
    "duration": 130,
    "start_time": "2022-06-16T20:18:59.180Z"
   },
   {
    "duration": 8,
    "start_time": "2022-06-16T20:18:59.311Z"
   },
   {
    "duration": 56,
    "start_time": "2022-06-16T20:18:59.321Z"
   },
   {
    "duration": 94,
    "start_time": "2022-06-16T20:18:59.379Z"
   },
   {
    "duration": 35,
    "start_time": "2022-06-16T20:18:59.475Z"
   },
   {
    "duration": 13,
    "start_time": "2022-06-16T20:18:59.512Z"
   },
   {
    "duration": 94,
    "start_time": "2022-06-16T20:18:59.527Z"
   },
   {
    "duration": 4,
    "start_time": "2022-06-16T20:18:59.622Z"
   },
   {
    "duration": 6,
    "start_time": "2022-06-16T20:18:59.628Z"
   },
   {
    "duration": 10,
    "start_time": "2022-06-16T20:18:59.636Z"
   },
   {
    "duration": 169,
    "start_time": "2022-06-16T20:18:59.648Z"
   },
   {
    "duration": 147,
    "start_time": "2022-06-16T20:18:59.818Z"
   },
   {
    "duration": 142,
    "start_time": "2022-06-16T20:18:59.966Z"
   },
   {
    "duration": 161,
    "start_time": "2022-06-16T20:19:00.110Z"
   },
   {
    "duration": 174,
    "start_time": "2022-06-16T20:19:00.273Z"
   },
   {
    "duration": 184,
    "start_time": "2022-06-16T20:19:00.449Z"
   },
   {
    "duration": 6,
    "start_time": "2022-06-16T20:19:00.635Z"
   },
   {
    "duration": 16,
    "start_time": "2022-06-16T20:19:00.642Z"
   },
   {
    "duration": 14,
    "start_time": "2022-06-16T20:19:00.662Z"
   },
   {
    "duration": 26,
    "start_time": "2022-06-16T20:19:00.679Z"
   },
   {
    "duration": 1292,
    "start_time": "2022-06-17T13:33:34.485Z"
   },
   {
    "duration": 920,
    "start_time": "2022-06-17T13:33:35.779Z"
   },
   {
    "duration": 25,
    "start_time": "2022-06-17T13:33:36.701Z"
   },
   {
    "duration": 36,
    "start_time": "2022-06-17T13:33:36.728Z"
   },
   {
    "duration": 40,
    "start_time": "2022-06-17T13:33:36.765Z"
   },
   {
    "duration": 32,
    "start_time": "2022-06-17T13:33:36.806Z"
   },
   {
    "duration": 14,
    "start_time": "2022-06-17T13:33:36.840Z"
   },
   {
    "duration": 8,
    "start_time": "2022-06-17T13:33:36.856Z"
   },
   {
    "duration": 28,
    "start_time": "2022-06-17T13:33:36.866Z"
   },
   {
    "duration": 83,
    "start_time": "2022-06-17T13:33:36.897Z"
   },
   {
    "duration": 18,
    "start_time": "2022-06-17T13:33:36.981Z"
   },
   {
    "duration": 52,
    "start_time": "2022-06-17T13:33:37.001Z"
   },
   {
    "duration": 101,
    "start_time": "2022-06-17T13:33:37.055Z"
   },
   {
    "duration": 24,
    "start_time": "2022-06-17T13:33:37.157Z"
   },
   {
    "duration": 18,
    "start_time": "2022-06-17T13:33:37.182Z"
   },
   {
    "duration": 75,
    "start_time": "2022-06-17T13:33:37.202Z"
   },
   {
    "duration": 16,
    "start_time": "2022-06-17T13:33:37.278Z"
   },
   {
    "duration": 5,
    "start_time": "2022-06-17T13:33:37.296Z"
   },
   {
    "duration": 11,
    "start_time": "2022-06-17T13:33:37.302Z"
   },
   {
    "duration": 197,
    "start_time": "2022-06-17T13:33:37.314Z"
   },
   {
    "duration": 153,
    "start_time": "2022-06-17T13:33:37.513Z"
   },
   {
    "duration": 149,
    "start_time": "2022-06-17T13:33:37.668Z"
   },
   {
    "duration": 157,
    "start_time": "2022-06-17T13:33:37.819Z"
   },
   {
    "duration": 146,
    "start_time": "2022-06-17T13:33:37.978Z"
   },
   {
    "duration": 160,
    "start_time": "2022-06-17T13:33:38.126Z"
   },
   {
    "duration": 6,
    "start_time": "2022-06-17T13:33:38.293Z"
   },
   {
    "duration": 10,
    "start_time": "2022-06-17T13:33:38.301Z"
   },
   {
    "duration": 5,
    "start_time": "2022-06-17T13:33:38.315Z"
   },
   {
    "duration": 18,
    "start_time": "2022-06-17T13:33:38.321Z"
   },
   {
    "duration": 32,
    "start_time": "2022-06-17T13:35:09.985Z"
   },
   {
    "duration": 32,
    "start_time": "2022-06-17T13:35:11.066Z"
   },
   {
    "duration": 53,
    "start_time": "2022-06-17T13:36:07.204Z"
   },
   {
    "duration": 1186,
    "start_time": "2022-06-17T13:54:01.698Z"
   },
   {
    "duration": 464,
    "start_time": "2022-06-17T13:54:02.886Z"
   },
   {
    "duration": 25,
    "start_time": "2022-06-17T13:54:03.352Z"
   },
   {
    "duration": 56,
    "start_time": "2022-06-17T13:54:03.378Z"
   },
   {
    "duration": 28,
    "start_time": "2022-06-17T13:54:03.436Z"
   },
   {
    "duration": 50,
    "start_time": "2022-06-17T13:54:03.466Z"
   },
   {
    "duration": 17,
    "start_time": "2022-06-17T13:54:03.517Z"
   },
   {
    "duration": 29,
    "start_time": "2022-06-17T13:54:03.535Z"
   },
   {
    "duration": 33,
    "start_time": "2022-06-17T13:54:03.565Z"
   },
   {
    "duration": 119,
    "start_time": "2022-06-17T13:54:03.600Z"
   },
   {
    "duration": 9,
    "start_time": "2022-06-17T13:54:03.721Z"
   },
   {
    "duration": 84,
    "start_time": "2022-06-17T13:54:03.732Z"
   },
   {
    "duration": 195,
    "start_time": "2022-06-17T13:54:03.817Z"
   },
   {
    "duration": 115,
    "start_time": "2022-06-17T13:54:04.015Z"
   },
   {
    "duration": 65,
    "start_time": "2022-06-17T13:54:04.132Z"
   },
   {
    "duration": 31,
    "start_time": "2022-06-17T13:54:04.199Z"
   },
   {
    "duration": 184,
    "start_time": "2022-06-17T13:54:04.232Z"
   },
   {
    "duration": 4,
    "start_time": "2022-06-17T13:54:04.419Z"
   },
   {
    "duration": 70,
    "start_time": "2022-06-17T13:54:04.424Z"
   },
   {
    "duration": 9,
    "start_time": "2022-06-17T13:54:04.496Z"
   },
   {
    "duration": 403,
    "start_time": "2022-06-17T13:54:04.508Z"
   },
   {
    "duration": 317,
    "start_time": "2022-06-17T13:54:04.913Z"
   },
   {
    "duration": 302,
    "start_time": "2022-06-17T13:54:05.232Z"
   },
   {
    "duration": 313,
    "start_time": "2022-06-17T13:54:05.536Z"
   },
   {
    "duration": 189,
    "start_time": "2022-06-17T13:54:05.851Z"
   },
   {
    "duration": 171,
    "start_time": "2022-06-17T13:54:06.042Z"
   },
   {
    "duration": 6,
    "start_time": "2022-06-17T13:54:06.215Z"
   },
   {
    "duration": 10,
    "start_time": "2022-06-17T13:54:06.222Z"
   },
   {
    "duration": 8,
    "start_time": "2022-06-17T13:54:06.233Z"
   },
   {
    "duration": 21,
    "start_time": "2022-06-17T13:54:06.243Z"
   },
   {
    "duration": 6,
    "start_time": "2022-06-17T13:55:45.465Z"
   },
   {
    "duration": 5,
    "start_time": "2022-06-17T13:57:36.092Z"
   },
   {
    "duration": 25,
    "start_time": "2022-06-17T13:58:12.888Z"
   },
   {
    "duration": 7,
    "start_time": "2022-06-17T13:58:39.105Z"
   },
   {
    "duration": 1117,
    "start_time": "2022-06-17T14:00:55.150Z"
   },
   {
    "duration": 489,
    "start_time": "2022-06-17T14:00:56.270Z"
   },
   {
    "duration": 26,
    "start_time": "2022-06-17T14:00:56.761Z"
   },
   {
    "duration": 45,
    "start_time": "2022-06-17T14:00:56.790Z"
   },
   {
    "duration": 34,
    "start_time": "2022-06-17T14:00:56.837Z"
   },
   {
    "duration": 50,
    "start_time": "2022-06-17T14:00:56.873Z"
   },
   {
    "duration": 16,
    "start_time": "2022-06-17T14:00:56.925Z"
   },
   {
    "duration": 7,
    "start_time": "2022-06-17T14:00:56.943Z"
   },
   {
    "duration": 9,
    "start_time": "2022-06-17T14:00:56.952Z"
   },
   {
    "duration": 112,
    "start_time": "2022-06-17T14:00:56.964Z"
   },
   {
    "duration": 5,
    "start_time": "2022-06-17T14:00:57.078Z"
   },
   {
    "duration": 59,
    "start_time": "2022-06-17T14:00:57.085Z"
   },
   {
    "duration": 104,
    "start_time": "2022-06-17T14:00:57.146Z"
   },
   {
    "duration": 58,
    "start_time": "2022-06-17T14:00:57.252Z"
   },
   {
    "duration": 9,
    "start_time": "2022-06-17T14:00:57.311Z"
   },
   {
    "duration": 12,
    "start_time": "2022-06-17T14:00:57.322Z"
   },
   {
    "duration": 103,
    "start_time": "2022-06-17T14:00:57.336Z"
   },
   {
    "duration": 4,
    "start_time": "2022-06-17T14:00:57.441Z"
   },
   {
    "duration": 7,
    "start_time": "2022-06-17T14:00:57.447Z"
   },
   {
    "duration": 10,
    "start_time": "2022-06-17T14:00:57.456Z"
   },
   {
    "duration": 30,
    "start_time": "2022-06-17T14:00:57.468Z"
   },
   {
    "duration": 8,
    "start_time": "2022-06-17T14:00:57.500Z"
   },
   {
    "duration": 25,
    "start_time": "2022-06-17T14:00:57.510Z"
   },
   {
    "duration": 187,
    "start_time": "2022-06-17T14:00:57.537Z"
   },
   {
    "duration": 163,
    "start_time": "2022-06-17T14:00:57.725Z"
   },
   {
    "duration": 176,
    "start_time": "2022-06-17T14:00:57.894Z"
   },
   {
    "duration": 233,
    "start_time": "2022-06-17T14:00:58.072Z"
   },
   {
    "duration": 289,
    "start_time": "2022-06-17T14:00:58.308Z"
   },
   {
    "duration": 309,
    "start_time": "2022-06-17T14:00:58.598Z"
   },
   {
    "duration": 6,
    "start_time": "2022-06-17T14:00:58.909Z"
   },
   {
    "duration": 8,
    "start_time": "2022-06-17T14:00:58.916Z"
   },
   {
    "duration": 10,
    "start_time": "2022-06-17T14:00:58.925Z"
   },
   {
    "duration": 69,
    "start_time": "2022-06-17T14:00:58.937Z"
   },
   {
    "duration": 94,
    "start_time": "2022-06-17T14:03:50.662Z"
   },
   {
    "duration": 6,
    "start_time": "2022-06-17T14:03:55.201Z"
   },
   {
    "duration": 87,
    "start_time": "2022-06-17T14:33:50.137Z"
   },
   {
    "duration": 5,
    "start_time": "2022-06-17T14:33:54.417Z"
   },
   {
    "duration": 22,
    "start_time": "2022-06-17T14:34:01.296Z"
   },
   {
    "duration": 14,
    "start_time": "2022-06-17T14:34:15.002Z"
   },
   {
    "duration": 9,
    "start_time": "2022-06-17T14:34:30.965Z"
   },
   {
    "duration": 14,
    "start_time": "2022-06-17T14:34:55.339Z"
   },
   {
    "duration": 12,
    "start_time": "2022-06-17T14:35:19.484Z"
   },
   {
    "duration": 2,
    "start_time": "2022-06-17T14:40:05.447Z"
   },
   {
    "duration": 2,
    "start_time": "2022-06-17T14:40:06.701Z"
   },
   {
    "duration": 6,
    "start_time": "2022-06-17T14:45:12.176Z"
   },
   {
    "duration": 1081,
    "start_time": "2022-06-17T14:55:39.578Z"
   },
   {
    "duration": 444,
    "start_time": "2022-06-17T14:55:40.662Z"
   },
   {
    "duration": 22,
    "start_time": "2022-06-17T14:55:41.107Z"
   },
   {
    "duration": 36,
    "start_time": "2022-06-17T14:55:41.130Z"
   },
   {
    "duration": 40,
    "start_time": "2022-06-17T14:55:41.168Z"
   },
   {
    "duration": 30,
    "start_time": "2022-06-17T14:55:41.209Z"
   },
   {
    "duration": 15,
    "start_time": "2022-06-17T14:55:41.240Z"
   },
   {
    "duration": 10,
    "start_time": "2022-06-17T14:55:41.257Z"
   },
   {
    "duration": 26,
    "start_time": "2022-06-17T14:55:41.268Z"
   },
   {
    "duration": 84,
    "start_time": "2022-06-17T14:55:41.296Z"
   },
   {
    "duration": 12,
    "start_time": "2022-06-17T14:55:41.382Z"
   },
   {
    "duration": 52,
    "start_time": "2022-06-17T14:55:41.396Z"
   },
   {
    "duration": 102,
    "start_time": "2022-06-17T14:55:41.450Z"
   },
   {
    "duration": 55,
    "start_time": "2022-06-17T14:55:41.555Z"
   },
   {
    "duration": 8,
    "start_time": "2022-06-17T14:55:41.611Z"
   },
   {
    "duration": 15,
    "start_time": "2022-06-17T14:55:41.621Z"
   },
   {
    "duration": 9,
    "start_time": "2022-06-17T14:55:41.637Z"
   },
   {
    "duration": 106,
    "start_time": "2022-06-17T14:55:41.648Z"
   },
   {
    "duration": 2,
    "start_time": "2022-06-17T14:55:41.756Z"
   },
   {
    "duration": 5,
    "start_time": "2022-06-17T14:55:41.760Z"
   },
   {
    "duration": 12,
    "start_time": "2022-06-17T14:55:41.766Z"
   },
   {
    "duration": 6,
    "start_time": "2022-06-17T14:55:41.779Z"
   },
   {
    "duration": 14,
    "start_time": "2022-06-17T14:55:41.794Z"
   },
   {
    "duration": 13,
    "start_time": "2022-06-17T14:55:41.809Z"
   },
   {
    "duration": 159,
    "start_time": "2022-06-17T14:55:41.824Z"
   },
   {
    "duration": 157,
    "start_time": "2022-06-17T14:55:41.985Z"
   },
   {
    "duration": 135,
    "start_time": "2022-06-17T14:55:42.144Z"
   },
   {
    "duration": 153,
    "start_time": "2022-06-17T14:55:42.281Z"
   },
   {
    "duration": 158,
    "start_time": "2022-06-17T14:55:42.436Z"
   },
   {
    "duration": 132,
    "start_time": "2022-06-17T14:55:42.596Z"
   },
   {
    "duration": 6,
    "start_time": "2022-06-17T14:55:42.729Z"
   },
   {
    "duration": 13,
    "start_time": "2022-06-17T14:55:42.737Z"
   },
   {
    "duration": 9,
    "start_time": "2022-06-17T14:55:42.752Z"
   },
   {
    "duration": 33,
    "start_time": "2022-06-17T14:55:42.762Z"
   },
   {
    "duration": 6,
    "start_time": "2022-06-17T14:55:42.797Z"
   },
   {
    "duration": 1325,
    "start_time": "2022-06-17T17:59:44.773Z"
   },
   {
    "duration": 923,
    "start_time": "2022-06-17T17:59:46.100Z"
   },
   {
    "duration": 24,
    "start_time": "2022-06-17T17:59:47.025Z"
   },
   {
    "duration": 37,
    "start_time": "2022-06-17T17:59:47.050Z"
   },
   {
    "duration": 48,
    "start_time": "2022-06-17T17:59:47.090Z"
   },
   {
    "duration": 31,
    "start_time": "2022-06-17T17:59:47.140Z"
   },
   {
    "duration": 13,
    "start_time": "2022-06-17T17:59:47.173Z"
   },
   {
    "duration": 12,
    "start_time": "2022-06-17T17:59:47.187Z"
   },
   {
    "duration": 23,
    "start_time": "2022-06-17T17:59:47.200Z"
   },
   {
    "duration": 81,
    "start_time": "2022-06-17T17:59:47.225Z"
   },
   {
    "duration": 19,
    "start_time": "2022-06-17T17:59:47.307Z"
   },
   {
    "duration": 50,
    "start_time": "2022-06-17T17:59:47.327Z"
   },
   {
    "duration": 100,
    "start_time": "2022-06-17T17:59:47.379Z"
   },
   {
    "duration": 70,
    "start_time": "2022-06-17T17:59:47.482Z"
   },
   {
    "duration": 8,
    "start_time": "2022-06-17T17:59:47.554Z"
   },
   {
    "duration": 16,
    "start_time": "2022-06-17T17:59:47.564Z"
   },
   {
    "duration": 8,
    "start_time": "2022-06-17T17:59:47.582Z"
   },
   {
    "duration": 107,
    "start_time": "2022-06-17T17:59:47.592Z"
   },
   {
    "duration": 2,
    "start_time": "2022-06-17T17:59:47.701Z"
   },
   {
    "duration": 5,
    "start_time": "2022-06-17T17:59:47.706Z"
   },
   {
    "duration": 8,
    "start_time": "2022-06-17T17:59:47.722Z"
   },
   {
    "duration": 9,
    "start_time": "2022-06-17T17:59:47.732Z"
   },
   {
    "duration": 16,
    "start_time": "2022-06-17T17:59:47.742Z"
   },
   {
    "duration": 18,
    "start_time": "2022-06-17T17:59:47.760Z"
   },
   {
    "duration": 197,
    "start_time": "2022-06-17T17:59:47.780Z"
   },
   {
    "duration": 150,
    "start_time": "2022-06-17T17:59:47.978Z"
   },
   {
    "duration": 154,
    "start_time": "2022-06-17T17:59:48.130Z"
   },
   {
    "duration": 146,
    "start_time": "2022-06-17T17:59:48.286Z"
   },
   {
    "duration": 132,
    "start_time": "2022-06-17T17:59:48.434Z"
   },
   {
    "duration": 139,
    "start_time": "2022-06-17T17:59:48.567Z"
   },
   {
    "duration": 5,
    "start_time": "2022-06-17T17:59:48.707Z"
   },
   {
    "duration": 4,
    "start_time": "2022-06-17T17:59:48.723Z"
   },
   {
    "duration": 7,
    "start_time": "2022-06-17T17:59:48.728Z"
   },
   {
    "duration": 16,
    "start_time": "2022-06-17T17:59:48.737Z"
   },
   {
    "duration": 6,
    "start_time": "2022-06-17T17:59:48.755Z"
   },
   {
    "duration": 77,
    "start_time": "2022-06-17T18:04:13.444Z"
   },
   {
    "duration": 1006,
    "start_time": "2022-06-17T18:04:19.888Z"
   },
   {
    "duration": 405,
    "start_time": "2022-06-17T18:04:20.896Z"
   },
   {
    "duration": 22,
    "start_time": "2022-06-17T18:04:21.303Z"
   },
   {
    "duration": 33,
    "start_time": "2022-06-17T18:04:21.327Z"
   },
   {
    "duration": 29,
    "start_time": "2022-06-17T18:04:21.361Z"
   },
   {
    "duration": 48,
    "start_time": "2022-06-17T18:04:21.392Z"
   },
   {
    "duration": 14,
    "start_time": "2022-06-17T18:04:21.441Z"
   },
   {
    "duration": 5,
    "start_time": "2022-06-17T18:04:21.457Z"
   },
   {
    "duration": 7,
    "start_time": "2022-06-17T18:04:21.463Z"
   },
   {
    "duration": 98,
    "start_time": "2022-06-17T18:04:21.473Z"
   },
   {
    "duration": 5,
    "start_time": "2022-06-17T18:04:21.572Z"
   },
   {
    "duration": 52,
    "start_time": "2022-06-17T18:04:21.578Z"
   },
   {
    "duration": 77,
    "start_time": "2022-06-17T18:04:21.632Z"
   },
   {
    "duration": 52,
    "start_time": "2022-06-17T18:04:21.711Z"
   },
   {
    "duration": 8,
    "start_time": "2022-06-17T18:04:21.764Z"
   },
   {
    "duration": 15,
    "start_time": "2022-06-17T18:04:21.774Z"
   },
   {
    "duration": 33,
    "start_time": "2022-06-17T18:04:21.790Z"
   },
   {
    "duration": 67,
    "start_time": "2022-06-17T18:04:21.825Z"
   },
   {
    "duration": 2,
    "start_time": "2022-06-17T18:04:21.894Z"
   },
   {
    "duration": 7,
    "start_time": "2022-06-17T18:04:21.898Z"
   },
   {
    "duration": 18,
    "start_time": "2022-06-17T18:04:21.906Z"
   },
   {
    "duration": 13,
    "start_time": "2022-06-17T18:04:21.925Z"
   },
   {
    "duration": 16,
    "start_time": "2022-06-17T18:04:21.939Z"
   },
   {
    "duration": 13,
    "start_time": "2022-06-17T18:04:21.956Z"
   },
   {
    "duration": 174,
    "start_time": "2022-06-17T18:04:21.970Z"
   },
   {
    "duration": 138,
    "start_time": "2022-06-17T18:04:22.146Z"
   },
   {
    "duration": 139,
    "start_time": "2022-06-17T18:04:22.286Z"
   },
   {
    "duration": 165,
    "start_time": "2022-06-17T18:04:22.428Z"
   },
   {
    "duration": 134,
    "start_time": "2022-06-17T18:04:22.596Z"
   },
   {
    "duration": 136,
    "start_time": "2022-06-17T18:04:22.731Z"
   },
   {
    "duration": 4,
    "start_time": "2022-06-17T18:04:22.869Z"
   },
   {
    "duration": 7,
    "start_time": "2022-06-17T18:04:22.875Z"
   },
   {
    "duration": 5,
    "start_time": "2022-06-17T18:04:22.883Z"
   },
   {
    "duration": 36,
    "start_time": "2022-06-17T18:04:22.890Z"
   },
   {
    "duration": 6,
    "start_time": "2022-06-17T18:04:22.928Z"
   },
   {
    "duration": 52,
    "start_time": "2022-06-17T18:07:17.175Z"
   },
   {
    "duration": 63,
    "start_time": "2022-06-17T18:08:25.521Z"
   },
   {
    "duration": 24,
    "start_time": "2022-06-17T18:09:40.256Z"
   },
   {
    "duration": 29,
    "start_time": "2022-06-17T18:09:59.088Z"
   },
   {
    "duration": 45,
    "start_time": "2022-06-17T18:10:16.838Z"
   },
   {
    "duration": 27,
    "start_time": "2022-06-17T18:10:58.401Z"
   },
   {
    "duration": 36,
    "start_time": "2022-06-17T18:12:03.117Z"
   },
   {
    "duration": 41,
    "start_time": "2022-06-17T18:13:36.052Z"
   },
   {
    "duration": 1085,
    "start_time": "2022-06-17T18:13:57.190Z"
   },
   {
    "duration": 441,
    "start_time": "2022-06-17T18:13:58.277Z"
   },
   {
    "duration": 25,
    "start_time": "2022-06-17T18:13:58.720Z"
   },
   {
    "duration": 37,
    "start_time": "2022-06-17T18:13:58.747Z"
   },
   {
    "duration": 48,
    "start_time": "2022-06-17T18:13:58.786Z"
   },
   {
    "duration": 33,
    "start_time": "2022-06-17T18:13:58.836Z"
   },
   {
    "duration": 15,
    "start_time": "2022-06-17T18:13:58.870Z"
   },
   {
    "duration": 8,
    "start_time": "2022-06-17T18:13:58.886Z"
   },
   {
    "duration": 5,
    "start_time": "2022-06-17T18:13:58.922Z"
   },
   {
    "duration": 106,
    "start_time": "2022-06-17T18:13:58.931Z"
   },
   {
    "duration": 5,
    "start_time": "2022-06-17T18:13:59.039Z"
   },
   {
    "duration": 59,
    "start_time": "2022-06-17T18:13:59.046Z"
   },
   {
    "duration": 96,
    "start_time": "2022-06-17T18:13:59.108Z"
   },
   {
    "duration": 62,
    "start_time": "2022-06-17T18:13:59.207Z"
   },
   {
    "duration": 18,
    "start_time": "2022-06-17T18:13:59.271Z"
   },
   {
    "duration": 23,
    "start_time": "2022-06-17T18:13:59.291Z"
   },
   {
    "duration": 65,
    "start_time": "2022-06-17T18:13:59.322Z"
   },
   {
    "duration": 3,
    "start_time": "2022-06-17T18:13:59.389Z"
   },
   {
    "duration": 5,
    "start_time": "2022-06-17T18:13:59.394Z"
   },
   {
    "duration": 24,
    "start_time": "2022-06-17T18:13:59.401Z"
   },
   {
    "duration": 9,
    "start_time": "2022-06-17T18:13:59.427Z"
   },
   {
    "duration": 17,
    "start_time": "2022-06-17T18:13:59.437Z"
   },
   {
    "duration": 22,
    "start_time": "2022-06-17T18:13:59.456Z"
   },
   {
    "duration": 166,
    "start_time": "2022-06-17T18:13:59.480Z"
   },
   {
    "duration": 170,
    "start_time": "2022-06-17T18:13:59.648Z"
   },
   {
    "duration": 162,
    "start_time": "2022-06-17T18:13:59.823Z"
   },
   {
    "duration": 153,
    "start_time": "2022-06-17T18:13:59.987Z"
   },
   {
    "duration": 149,
    "start_time": "2022-06-17T18:14:00.143Z"
   },
   {
    "duration": 165,
    "start_time": "2022-06-17T18:14:00.294Z"
   },
   {
    "duration": 6,
    "start_time": "2022-06-17T18:14:00.461Z"
   },
   {
    "duration": 24,
    "start_time": "2022-06-17T18:14:00.469Z"
   },
   {
    "duration": 23,
    "start_time": "2022-06-17T18:14:00.495Z"
   },
   {
    "duration": 27,
    "start_time": "2022-06-17T18:14:00.520Z"
   },
   {
    "duration": 13,
    "start_time": "2022-06-17T18:14:00.549Z"
   },
   {
    "duration": 31,
    "start_time": "2022-06-17T18:14:45.727Z"
   },
   {
    "duration": 1130,
    "start_time": "2022-06-17T18:14:54.149Z"
   },
   {
    "duration": 423,
    "start_time": "2022-06-17T18:14:55.282Z"
   },
   {
    "duration": 23,
    "start_time": "2022-06-17T18:14:55.707Z"
   },
   {
    "duration": 41,
    "start_time": "2022-06-17T18:14:55.732Z"
   },
   {
    "duration": 25,
    "start_time": "2022-06-17T18:14:55.775Z"
   },
   {
    "duration": 50,
    "start_time": "2022-06-17T18:14:55.801Z"
   },
   {
    "duration": 18,
    "start_time": "2022-06-17T18:14:55.853Z"
   },
   {
    "duration": 13,
    "start_time": "2022-06-17T18:14:55.873Z"
   },
   {
    "duration": 27,
    "start_time": "2022-06-17T18:14:55.888Z"
   },
   {
    "duration": 125,
    "start_time": "2022-06-17T18:14:55.917Z"
   },
   {
    "duration": 5,
    "start_time": "2022-06-17T18:14:56.044Z"
   },
   {
    "duration": 65,
    "start_time": "2022-06-17T18:14:56.051Z"
   },
   {
    "duration": 88,
    "start_time": "2022-06-17T18:14:56.118Z"
   },
   {
    "duration": 35,
    "start_time": "2022-06-17T18:14:56.209Z"
   },
   {
    "duration": 12,
    "start_time": "2022-06-17T18:14:56.245Z"
   },
   {
    "duration": 20,
    "start_time": "2022-06-17T18:14:56.258Z"
   },
   {
    "duration": 114,
    "start_time": "2022-06-17T18:14:56.279Z"
   },
   {
    "duration": 3,
    "start_time": "2022-06-17T18:14:56.396Z"
   },
   {
    "duration": 11,
    "start_time": "2022-06-17T18:14:56.401Z"
   },
   {
    "duration": 18,
    "start_time": "2022-06-17T18:14:56.414Z"
   },
   {
    "duration": 13,
    "start_time": "2022-06-17T18:14:56.434Z"
   },
   {
    "duration": 25,
    "start_time": "2022-06-17T18:14:56.449Z"
   },
   {
    "duration": 14,
    "start_time": "2022-06-17T18:14:56.476Z"
   },
   {
    "duration": 196,
    "start_time": "2022-06-17T18:14:56.493Z"
   },
   {
    "duration": 170,
    "start_time": "2022-06-17T18:14:56.691Z"
   },
   {
    "duration": 218,
    "start_time": "2022-06-17T18:14:56.862Z"
   },
   {
    "duration": 196,
    "start_time": "2022-06-17T18:14:57.082Z"
   },
   {
    "duration": 136,
    "start_time": "2022-06-17T18:14:57.280Z"
   },
   {
    "duration": 166,
    "start_time": "2022-06-17T18:14:57.423Z"
   },
   {
    "duration": 7,
    "start_time": "2022-06-17T18:14:57.591Z"
   },
   {
    "duration": 15,
    "start_time": "2022-06-17T18:14:57.599Z"
   },
   {
    "duration": 9,
    "start_time": "2022-06-17T18:14:57.616Z"
   },
   {
    "duration": 25,
    "start_time": "2022-06-17T18:14:57.627Z"
   },
   {
    "duration": 6,
    "start_time": "2022-06-17T18:14:57.654Z"
   },
   {
    "duration": 1129,
    "start_time": "2022-06-17T18:20:28.635Z"
   },
   {
    "duration": 459,
    "start_time": "2022-06-17T18:20:29.766Z"
   },
   {
    "duration": 39,
    "start_time": "2022-06-17T18:20:30.227Z"
   },
   {
    "duration": 55,
    "start_time": "2022-06-17T18:20:30.268Z"
   },
   {
    "duration": 27,
    "start_time": "2022-06-17T18:20:30.325Z"
   },
   {
    "duration": 38,
    "start_time": "2022-06-17T18:20:30.355Z"
   },
   {
    "duration": 16,
    "start_time": "2022-06-17T18:20:30.424Z"
   },
   {
    "duration": 14,
    "start_time": "2022-06-17T18:20:30.443Z"
   },
   {
    "duration": 16,
    "start_time": "2022-06-17T18:20:30.459Z"
   },
   {
    "duration": 95,
    "start_time": "2022-06-17T18:20:30.477Z"
   },
   {
    "duration": 7,
    "start_time": "2022-06-17T18:20:30.573Z"
   },
   {
    "duration": 60,
    "start_time": "2022-06-17T18:20:30.581Z"
   },
   {
    "duration": 98,
    "start_time": "2022-06-17T18:20:30.644Z"
   },
   {
    "duration": 46,
    "start_time": "2022-06-17T18:20:30.748Z"
   },
   {
    "duration": 28,
    "start_time": "2022-06-17T18:20:30.795Z"
   },
   {
    "duration": 12,
    "start_time": "2022-06-17T18:20:30.825Z"
   },
   {
    "duration": 95,
    "start_time": "2022-06-17T18:20:30.839Z"
   },
   {
    "duration": 2,
    "start_time": "2022-06-17T18:20:30.937Z"
   },
   {
    "duration": 42,
    "start_time": "2022-06-17T18:20:30.942Z"
   },
   {
    "duration": 17,
    "start_time": "2022-06-17T18:20:30.986Z"
   },
   {
    "duration": 17,
    "start_time": "2022-06-17T18:20:31.006Z"
   },
   {
    "duration": 22,
    "start_time": "2022-06-17T18:20:31.025Z"
   },
   {
    "duration": 22,
    "start_time": "2022-06-17T18:20:31.049Z"
   },
   {
    "duration": 171,
    "start_time": "2022-06-17T18:20:31.073Z"
   },
   {
    "duration": 167,
    "start_time": "2022-06-17T18:20:31.245Z"
   },
   {
    "duration": 149,
    "start_time": "2022-06-17T18:20:31.418Z"
   },
   {
    "duration": 162,
    "start_time": "2022-06-17T18:20:31.569Z"
   },
   {
    "duration": 171,
    "start_time": "2022-06-17T18:20:31.733Z"
   },
   {
    "duration": 194,
    "start_time": "2022-06-17T18:20:31.907Z"
   },
   {
    "duration": 8,
    "start_time": "2022-06-17T18:20:32.103Z"
   },
   {
    "duration": 15,
    "start_time": "2022-06-17T18:20:32.122Z"
   },
   {
    "duration": 12,
    "start_time": "2022-06-17T18:20:32.139Z"
   },
   {
    "duration": 24,
    "start_time": "2022-06-17T18:20:32.153Z"
   },
   {
    "duration": 8,
    "start_time": "2022-06-17T18:20:32.179Z"
   },
   {
    "duration": 15,
    "start_time": "2022-06-17T18:22:21.056Z"
   },
   {
    "duration": 1165,
    "start_time": "2022-06-17T18:22:38.641Z"
   },
   {
    "duration": 468,
    "start_time": "2022-06-17T18:22:39.808Z"
   },
   {
    "duration": 28,
    "start_time": "2022-06-17T18:22:40.278Z"
   },
   {
    "duration": 51,
    "start_time": "2022-06-17T18:22:40.308Z"
   },
   {
    "duration": 33,
    "start_time": "2022-06-17T18:22:40.362Z"
   },
   {
    "duration": 53,
    "start_time": "2022-06-17T18:22:40.397Z"
   },
   {
    "duration": 24,
    "start_time": "2022-06-17T18:22:40.455Z"
   },
   {
    "duration": 11,
    "start_time": "2022-06-17T18:22:40.482Z"
   },
   {
    "duration": 10,
    "start_time": "2022-06-17T18:22:40.495Z"
   },
   {
    "duration": 109,
    "start_time": "2022-06-17T18:22:40.507Z"
   },
   {
    "duration": 6,
    "start_time": "2022-06-17T18:22:40.618Z"
   },
   {
    "duration": 51,
    "start_time": "2022-06-17T18:22:40.626Z"
   },
   {
    "duration": 108,
    "start_time": "2022-06-17T18:22:40.679Z"
   },
   {
    "duration": 40,
    "start_time": "2022-06-17T18:22:40.789Z"
   },
   {
    "duration": 15,
    "start_time": "2022-06-17T18:22:40.831Z"
   },
   {
    "duration": 19,
    "start_time": "2022-06-17T18:22:40.849Z"
   },
   {
    "duration": 80,
    "start_time": "2022-06-17T18:22:40.870Z"
   },
   {
    "duration": 3,
    "start_time": "2022-06-17T18:22:40.952Z"
   },
   {
    "duration": 19,
    "start_time": "2022-06-17T18:22:40.957Z"
   },
   {
    "duration": 31,
    "start_time": "2022-06-17T18:22:40.977Z"
   },
   {
    "duration": 14,
    "start_time": "2022-06-17T18:22:41.010Z"
   },
   {
    "duration": 39,
    "start_time": "2022-06-17T18:22:41.025Z"
   },
   {
    "duration": 28,
    "start_time": "2022-06-17T18:22:41.067Z"
   },
   {
    "duration": 188,
    "start_time": "2022-06-17T18:22:41.096Z"
   },
   {
    "duration": 198,
    "start_time": "2022-06-17T18:22:41.285Z"
   },
   {
    "duration": 159,
    "start_time": "2022-06-17T18:22:41.484Z"
   },
   {
    "duration": 166,
    "start_time": "2022-06-17T18:22:41.646Z"
   },
   {
    "duration": 182,
    "start_time": "2022-06-17T18:22:41.814Z"
   },
   {
    "duration": 162,
    "start_time": "2022-06-17T18:22:41.999Z"
   },
   {
    "duration": 6,
    "start_time": "2022-06-17T18:22:42.163Z"
   },
   {
    "duration": 18,
    "start_time": "2022-06-17T18:22:42.170Z"
   },
   {
    "duration": 19,
    "start_time": "2022-06-17T18:22:42.190Z"
   },
   {
    "duration": 25,
    "start_time": "2022-06-17T18:22:42.211Z"
   },
   {
    "duration": 14,
    "start_time": "2022-06-17T18:22:42.239Z"
   },
   {
    "duration": 1299,
    "start_time": "2022-06-17T21:19:34.792Z"
   },
   {
    "duration": 1109,
    "start_time": "2022-06-17T21:19:36.093Z"
   },
   {
    "duration": 24,
    "start_time": "2022-06-17T21:19:37.204Z"
   },
   {
    "duration": 44,
    "start_time": "2022-06-17T21:19:37.230Z"
   },
   {
    "duration": 34,
    "start_time": "2022-06-17T21:19:37.276Z"
   },
   {
    "duration": 48,
    "start_time": "2022-06-17T21:19:37.312Z"
   },
   {
    "duration": 15,
    "start_time": "2022-06-17T21:19:37.362Z"
   },
   {
    "duration": 22,
    "start_time": "2022-06-17T21:19:37.378Z"
   },
   {
    "duration": 20,
    "start_time": "2022-06-17T21:19:37.402Z"
   },
   {
    "duration": 100,
    "start_time": "2022-06-17T21:19:37.424Z"
   },
   {
    "duration": 6,
    "start_time": "2022-06-17T21:19:37.526Z"
   },
   {
    "duration": 72,
    "start_time": "2022-06-17T21:19:37.533Z"
   },
   {
    "duration": 82,
    "start_time": "2022-06-17T21:19:37.607Z"
   },
   {
    "duration": 25,
    "start_time": "2022-06-17T21:19:37.690Z"
   },
   {
    "duration": 19,
    "start_time": "2022-06-17T21:19:37.716Z"
   },
   {
    "duration": 13,
    "start_time": "2022-06-17T21:19:37.736Z"
   },
   {
    "duration": 93,
    "start_time": "2022-06-17T21:19:37.751Z"
   },
   {
    "duration": 2,
    "start_time": "2022-06-17T21:19:37.847Z"
   },
   {
    "duration": 16,
    "start_time": "2022-06-17T21:19:37.851Z"
   },
   {
    "duration": 31,
    "start_time": "2022-06-17T21:19:37.869Z"
   },
   {
    "duration": 29,
    "start_time": "2022-06-17T21:19:37.901Z"
   },
   {
    "duration": 32,
    "start_time": "2022-06-17T21:19:37.932Z"
   },
   {
    "duration": 40,
    "start_time": "2022-06-17T21:19:37.965Z"
   },
   {
    "duration": 166,
    "start_time": "2022-06-17T21:19:38.008Z"
   },
   {
    "duration": 155,
    "start_time": "2022-06-17T21:19:38.176Z"
   },
   {
    "duration": 142,
    "start_time": "2022-06-17T21:19:38.332Z"
   },
   {
    "duration": 176,
    "start_time": "2022-06-17T21:19:38.476Z"
   },
   {
    "duration": 166,
    "start_time": "2022-06-17T21:19:38.655Z"
   },
   {
    "duration": 162,
    "start_time": "2022-06-17T21:19:38.828Z"
   },
   {
    "duration": 7,
    "start_time": "2022-06-17T21:19:38.992Z"
   },
   {
    "duration": 24,
    "start_time": "2022-06-17T21:19:39.000Z"
   },
   {
    "duration": 28,
    "start_time": "2022-06-17T21:19:39.026Z"
   },
   {
    "duration": 29,
    "start_time": "2022-06-17T21:19:39.056Z"
   },
   {
    "duration": 15,
    "start_time": "2022-06-17T21:19:39.088Z"
   },
   {
    "duration": 19,
    "start_time": "2022-06-17T21:24:12.215Z"
   },
   {
    "duration": 5,
    "start_time": "2022-06-17T21:26:42.531Z"
   },
   {
    "duration": 4,
    "start_time": "2022-06-17T21:26:47.954Z"
   },
   {
    "duration": 4,
    "start_time": "2022-06-17T21:28:58.227Z"
   },
   {
    "duration": 15,
    "start_time": "2022-06-17T21:30:37.831Z"
   },
   {
    "duration": 16,
    "start_time": "2022-06-17T21:39:26.227Z"
   },
   {
    "duration": 14,
    "start_time": "2022-06-17T21:40:20.303Z"
   },
   {
    "duration": 14,
    "start_time": "2022-06-17T21:40:32.815Z"
   },
   {
    "duration": 11,
    "start_time": "2022-06-17T21:40:45.922Z"
   },
   {
    "duration": 1247,
    "start_time": "2022-06-17T21:42:11.268Z"
   },
   {
    "duration": 478,
    "start_time": "2022-06-17T21:42:12.520Z"
   },
   {
    "duration": 31,
    "start_time": "2022-06-17T21:42:13.000Z"
   },
   {
    "duration": 58,
    "start_time": "2022-06-17T21:42:13.034Z"
   },
   {
    "duration": 50,
    "start_time": "2022-06-17T21:42:13.094Z"
   },
   {
    "duration": 34,
    "start_time": "2022-06-17T21:42:13.146Z"
   },
   {
    "duration": 46,
    "start_time": "2022-06-17T21:42:13.182Z"
   },
   {
    "duration": 5,
    "start_time": "2022-06-17T21:42:13.229Z"
   },
   {
    "duration": 15,
    "start_time": "2022-06-17T21:42:13.236Z"
   },
   {
    "duration": 106,
    "start_time": "2022-06-17T21:42:13.255Z"
   },
   {
    "duration": 6,
    "start_time": "2022-06-17T21:42:13.363Z"
   },
   {
    "duration": 73,
    "start_time": "2022-06-17T21:42:13.371Z"
   },
   {
    "duration": 98,
    "start_time": "2022-06-17T21:42:13.447Z"
   },
   {
    "duration": 28,
    "start_time": "2022-06-17T21:42:13.547Z"
   },
   {
    "duration": 15,
    "start_time": "2022-06-17T21:42:13.576Z"
   },
   {
    "duration": 36,
    "start_time": "2022-06-17T21:42:13.593Z"
   },
   {
    "duration": 121,
    "start_time": "2022-06-17T21:42:13.632Z"
   },
   {
    "duration": 3,
    "start_time": "2022-06-17T21:42:13.755Z"
   },
   {
    "duration": 17,
    "start_time": "2022-06-17T21:42:13.760Z"
   },
   {
    "duration": 11,
    "start_time": "2022-06-17T21:42:13.779Z"
   },
   {
    "duration": 8,
    "start_time": "2022-06-17T21:42:13.792Z"
   },
   {
    "duration": 35,
    "start_time": "2022-06-17T21:42:13.803Z"
   },
   {
    "duration": 23,
    "start_time": "2022-06-17T21:42:13.840Z"
   },
   {
    "duration": 194,
    "start_time": "2022-06-17T21:42:13.865Z"
   },
   {
    "duration": 196,
    "start_time": "2022-06-17T21:42:14.062Z"
   },
   {
    "duration": 207,
    "start_time": "2022-06-17T21:42:14.260Z"
   },
   {
    "duration": 170,
    "start_time": "2022-06-17T21:42:14.470Z"
   },
   {
    "duration": 201,
    "start_time": "2022-06-17T21:42:14.645Z"
   },
   {
    "duration": 199,
    "start_time": "2022-06-17T21:42:14.848Z"
   },
   {
    "duration": 8,
    "start_time": "2022-06-17T21:42:15.049Z"
   },
   {
    "duration": 7,
    "start_time": "2022-06-17T21:42:15.059Z"
   },
   {
    "duration": 15,
    "start_time": "2022-06-17T21:42:15.068Z"
   },
   {
    "duration": 35,
    "start_time": "2022-06-17T21:42:15.085Z"
   },
   {
    "duration": 24,
    "start_time": "2022-06-17T21:42:15.128Z"
   },
   {
    "duration": 8,
    "start_time": "2022-06-17T21:42:15.154Z"
   },
   {
    "duration": 13,
    "start_time": "2022-06-17T21:42:40.734Z"
   },
   {
    "duration": 10,
    "start_time": "2022-06-17T21:43:06.772Z"
   },
   {
    "duration": 1131,
    "start_time": "2022-06-17T21:43:32.433Z"
   },
   {
    "duration": 418,
    "start_time": "2022-06-17T21:43:33.566Z"
   },
   {
    "duration": 24,
    "start_time": "2022-06-17T21:43:33.986Z"
   },
   {
    "duration": 36,
    "start_time": "2022-06-17T21:43:34.012Z"
   },
   {
    "duration": 24,
    "start_time": "2022-06-17T21:43:34.050Z"
   },
   {
    "duration": 31,
    "start_time": "2022-06-17T21:43:34.076Z"
   },
   {
    "duration": 31,
    "start_time": "2022-06-17T21:43:34.109Z"
   },
   {
    "duration": 4,
    "start_time": "2022-06-17T21:43:34.142Z"
   },
   {
    "duration": 11,
    "start_time": "2022-06-17T21:43:34.149Z"
   },
   {
    "duration": 125,
    "start_time": "2022-06-17T21:43:34.162Z"
   },
   {
    "duration": 5,
    "start_time": "2022-06-17T21:43:34.289Z"
   },
   {
    "duration": 59,
    "start_time": "2022-06-17T21:43:34.296Z"
   },
   {
    "duration": 90,
    "start_time": "2022-06-17T21:43:34.356Z"
   },
   {
    "duration": 24,
    "start_time": "2022-06-17T21:43:34.449Z"
   },
   {
    "duration": 15,
    "start_time": "2022-06-17T21:43:34.475Z"
   },
   {
    "duration": 9,
    "start_time": "2022-06-17T21:43:34.492Z"
   },
   {
    "duration": 82,
    "start_time": "2022-06-17T21:43:34.503Z"
   },
   {
    "duration": 3,
    "start_time": "2022-06-17T21:43:34.586Z"
   },
   {
    "duration": 6,
    "start_time": "2022-06-17T21:43:34.590Z"
   },
   {
    "duration": 30,
    "start_time": "2022-06-17T21:43:34.598Z"
   },
   {
    "duration": 10,
    "start_time": "2022-06-17T21:43:34.630Z"
   },
   {
    "duration": 18,
    "start_time": "2022-06-17T21:43:34.642Z"
   },
   {
    "duration": 12,
    "start_time": "2022-06-17T21:43:34.662Z"
   },
   {
    "duration": 178,
    "start_time": "2022-06-17T21:43:34.675Z"
   },
   {
    "duration": 165,
    "start_time": "2022-06-17T21:43:34.854Z"
   },
   {
    "duration": 148,
    "start_time": "2022-06-17T21:43:35.021Z"
   },
   {
    "duration": 149,
    "start_time": "2022-06-17T21:43:35.171Z"
   },
   {
    "duration": 138,
    "start_time": "2022-06-17T21:43:35.328Z"
   },
   {
    "duration": 144,
    "start_time": "2022-06-17T21:43:35.468Z"
   },
   {
    "duration": 12,
    "start_time": "2022-06-17T21:43:35.615Z"
   },
   {
    "duration": 11,
    "start_time": "2022-06-17T21:43:35.629Z"
   },
   {
    "duration": 13,
    "start_time": "2022-06-17T21:43:35.642Z"
   },
   {
    "duration": 12,
    "start_time": "2022-06-17T21:43:35.656Z"
   },
   {
    "duration": 22,
    "start_time": "2022-06-17T21:43:35.670Z"
   },
   {
    "duration": 8,
    "start_time": "2022-06-17T21:43:35.694Z"
   },
   {
    "duration": 36,
    "start_time": "2022-06-17T21:47:17.425Z"
   },
   {
    "duration": 1043,
    "start_time": "2022-06-17T21:47:29.932Z"
   },
   {
    "duration": 410,
    "start_time": "2022-06-17T21:47:30.977Z"
   },
   {
    "duration": 23,
    "start_time": "2022-06-17T21:47:31.389Z"
   },
   {
    "duration": 35,
    "start_time": "2022-06-17T21:47:31.414Z"
   },
   {
    "duration": 34,
    "start_time": "2022-06-17T21:47:31.451Z"
   },
   {
    "duration": 42,
    "start_time": "2022-06-17T21:47:31.486Z"
   },
   {
    "duration": 19,
    "start_time": "2022-06-17T21:47:31.530Z"
   },
   {
    "duration": 10,
    "start_time": "2022-06-17T21:47:31.551Z"
   },
   {
    "duration": 9,
    "start_time": "2022-06-17T21:47:31.563Z"
   },
   {
    "duration": 89,
    "start_time": "2022-06-17T21:47:31.574Z"
   },
   {
    "duration": 5,
    "start_time": "2022-06-17T21:47:31.665Z"
   },
   {
    "duration": 63,
    "start_time": "2022-06-17T21:47:31.672Z"
   },
   {
    "duration": 79,
    "start_time": "2022-06-17T21:47:31.737Z"
   },
   {
    "duration": 26,
    "start_time": "2022-06-17T21:47:31.826Z"
   },
   {
    "duration": 12,
    "start_time": "2022-06-17T21:47:31.854Z"
   },
   {
    "duration": 8,
    "start_time": "2022-06-17T21:47:31.868Z"
   },
   {
    "duration": 96,
    "start_time": "2022-06-17T21:47:31.878Z"
   },
   {
    "duration": 3,
    "start_time": "2022-06-17T21:47:31.977Z"
   },
   {
    "duration": 7,
    "start_time": "2022-06-17T21:47:31.982Z"
   },
   {
    "duration": 19,
    "start_time": "2022-06-17T21:47:31.990Z"
   },
   {
    "duration": 24,
    "start_time": "2022-06-17T21:47:32.011Z"
   },
   {
    "duration": 20,
    "start_time": "2022-06-17T21:47:32.037Z"
   },
   {
    "duration": 16,
    "start_time": "2022-06-17T21:47:32.059Z"
   },
   {
    "duration": 146,
    "start_time": "2022-06-17T21:47:32.076Z"
   },
   {
    "duration": 153,
    "start_time": "2022-06-17T21:47:32.226Z"
   },
   {
    "duration": 123,
    "start_time": "2022-06-17T21:47:32.381Z"
   },
   {
    "duration": 148,
    "start_time": "2022-06-17T21:47:32.506Z"
   },
   {
    "duration": 142,
    "start_time": "2022-06-17T21:47:32.656Z"
   },
   {
    "duration": 165,
    "start_time": "2022-06-17T21:47:32.799Z"
   },
   {
    "duration": 5,
    "start_time": "2022-06-17T21:47:32.966Z"
   },
   {
    "duration": 19,
    "start_time": "2022-06-17T21:47:32.972Z"
   },
   {
    "duration": 17,
    "start_time": "2022-06-17T21:47:33.002Z"
   },
   {
    "duration": 34,
    "start_time": "2022-06-17T21:47:33.021Z"
   },
   {
    "duration": 19,
    "start_time": "2022-06-17T21:47:33.057Z"
   },
   {
    "duration": 7,
    "start_time": "2022-06-17T21:47:33.078Z"
   },
   {
    "duration": 39,
    "start_time": "2022-06-17T21:54:41.714Z"
   },
   {
    "duration": 1105,
    "start_time": "2022-06-17T21:54:52.165Z"
   },
   {
    "duration": 447,
    "start_time": "2022-06-17T21:54:53.272Z"
   },
   {
    "duration": 31,
    "start_time": "2022-06-17T21:54:53.721Z"
   },
   {
    "duration": 36,
    "start_time": "2022-06-17T21:54:53.754Z"
   },
   {
    "duration": 53,
    "start_time": "2022-06-17T21:54:53.792Z"
   },
   {
    "duration": 33,
    "start_time": "2022-06-17T21:54:53.847Z"
   },
   {
    "duration": 16,
    "start_time": "2022-06-17T21:54:53.881Z"
   },
   {
    "duration": 5,
    "start_time": "2022-06-17T21:54:53.929Z"
   },
   {
    "duration": 22,
    "start_time": "2022-06-17T21:54:53.936Z"
   },
   {
    "duration": 92,
    "start_time": "2022-06-17T21:54:53.960Z"
   },
   {
    "duration": 5,
    "start_time": "2022-06-17T21:54:54.054Z"
   },
   {
    "duration": 56,
    "start_time": "2022-06-17T21:54:54.060Z"
   },
   {
    "duration": 96,
    "start_time": "2022-06-17T21:54:54.117Z"
   },
   {
    "duration": 38,
    "start_time": "2022-06-17T21:54:54.215Z"
   },
   {
    "duration": 12,
    "start_time": "2022-06-17T21:54:54.255Z"
   },
   {
    "duration": 8,
    "start_time": "2022-06-17T21:54:54.269Z"
   },
   {
    "duration": 88,
    "start_time": "2022-06-17T21:54:54.279Z"
   },
   {
    "duration": 2,
    "start_time": "2022-06-17T21:54:54.369Z"
   },
   {
    "duration": 13,
    "start_time": "2022-06-17T21:54:54.372Z"
   },
   {
    "duration": 10,
    "start_time": "2022-06-17T21:54:54.387Z"
   },
   {
    "duration": 8,
    "start_time": "2022-06-17T21:54:54.398Z"
   },
   {
    "duration": 20,
    "start_time": "2022-06-17T21:54:54.408Z"
   },
   {
    "duration": 31,
    "start_time": "2022-06-17T21:54:54.430Z"
   },
   {
    "duration": 160,
    "start_time": "2022-06-17T21:54:54.463Z"
   },
   {
    "duration": 165,
    "start_time": "2022-06-17T21:54:54.624Z"
   },
   {
    "duration": 162,
    "start_time": "2022-06-17T21:54:54.791Z"
   },
   {
    "duration": 154,
    "start_time": "2022-06-17T21:54:54.955Z"
   },
   {
    "duration": 153,
    "start_time": "2022-06-17T21:54:55.112Z"
   },
   {
    "duration": 164,
    "start_time": "2022-06-17T21:54:55.267Z"
   },
   {
    "duration": 9,
    "start_time": "2022-06-17T21:54:55.433Z"
   },
   {
    "duration": 12,
    "start_time": "2022-06-17T21:54:55.444Z"
   },
   {
    "duration": 6,
    "start_time": "2022-06-17T21:54:55.457Z"
   },
   {
    "duration": 11,
    "start_time": "2022-06-17T21:54:55.465Z"
   },
   {
    "duration": 17,
    "start_time": "2022-06-17T21:54:55.478Z"
   },
   {
    "duration": 32,
    "start_time": "2022-06-17T21:54:55.497Z"
   },
   {
    "duration": 1046,
    "start_time": "2022-06-18T16:23:17.044Z"
   },
   {
    "duration": 1143,
    "start_time": "2022-06-18T16:23:18.092Z"
   },
   {
    "duration": 23,
    "start_time": "2022-06-18T16:23:19.236Z"
   },
   {
    "duration": 38,
    "start_time": "2022-06-18T16:23:19.262Z"
   },
   {
    "duration": 23,
    "start_time": "2022-06-18T16:23:19.302Z"
   },
   {
    "duration": 32,
    "start_time": "2022-06-18T16:23:19.342Z"
   },
   {
    "duration": 15,
    "start_time": "2022-06-18T16:23:19.376Z"
   },
   {
    "duration": 7,
    "start_time": "2022-06-18T16:23:19.393Z"
   },
   {
    "duration": 6,
    "start_time": "2022-06-18T16:23:19.401Z"
   },
   {
    "duration": 103,
    "start_time": "2022-06-18T16:23:19.409Z"
   },
   {
    "duration": 6,
    "start_time": "2022-06-18T16:23:19.514Z"
   },
   {
    "duration": 64,
    "start_time": "2022-06-18T16:23:19.521Z"
   },
   {
    "duration": 85,
    "start_time": "2022-06-18T16:23:19.587Z"
   },
   {
    "duration": 25,
    "start_time": "2022-06-18T16:23:19.674Z"
   },
   {
    "duration": 13,
    "start_time": "2022-06-18T16:23:19.701Z"
   },
   {
    "duration": 30,
    "start_time": "2022-06-18T16:23:19.715Z"
   },
   {
    "duration": 67,
    "start_time": "2022-06-18T16:23:19.747Z"
   },
   {
    "duration": 2,
    "start_time": "2022-06-18T16:23:19.816Z"
   },
   {
    "duration": 6,
    "start_time": "2022-06-18T16:23:19.819Z"
   },
   {
    "duration": 22,
    "start_time": "2022-06-18T16:23:19.826Z"
   },
   {
    "duration": 7,
    "start_time": "2022-06-18T16:23:19.850Z"
   },
   {
    "duration": 15,
    "start_time": "2022-06-18T16:23:19.858Z"
   },
   {
    "duration": 18,
    "start_time": "2022-06-18T16:23:19.874Z"
   },
   {
    "duration": 183,
    "start_time": "2022-06-18T16:23:19.893Z"
   },
   {
    "duration": 159,
    "start_time": "2022-06-18T16:23:20.078Z"
   },
   {
    "duration": 136,
    "start_time": "2022-06-18T16:23:20.241Z"
   },
   {
    "duration": 168,
    "start_time": "2022-06-18T16:23:20.379Z"
   },
   {
    "duration": 144,
    "start_time": "2022-06-18T16:23:20.551Z"
   },
   {
    "duration": 151,
    "start_time": "2022-06-18T16:23:20.698Z"
   },
   {
    "duration": 4,
    "start_time": "2022-06-18T16:23:20.851Z"
   },
   {
    "duration": 10,
    "start_time": "2022-06-18T16:23:20.857Z"
   },
   {
    "duration": 10,
    "start_time": "2022-06-18T16:23:20.868Z"
   },
   {
    "duration": 12,
    "start_time": "2022-06-18T16:23:20.879Z"
   },
   {
    "duration": 20,
    "start_time": "2022-06-18T16:23:20.893Z"
   },
   {
    "duration": 5,
    "start_time": "2022-06-18T16:23:20.915Z"
   },
   {
    "duration": 1056,
    "start_time": "2022-06-18T16:28:57.629Z"
   },
   {
    "duration": 408,
    "start_time": "2022-06-18T16:28:58.687Z"
   },
   {
    "duration": 24,
    "start_time": "2022-06-18T16:28:59.097Z"
   },
   {
    "duration": 38,
    "start_time": "2022-06-18T16:28:59.123Z"
   },
   {
    "duration": 24,
    "start_time": "2022-06-18T16:28:59.162Z"
   },
   {
    "duration": 28,
    "start_time": "2022-06-18T16:28:59.187Z"
   },
   {
    "duration": 41,
    "start_time": "2022-06-18T16:28:59.217Z"
   },
   {
    "duration": 7,
    "start_time": "2022-06-18T16:28:59.260Z"
   },
   {
    "duration": 5,
    "start_time": "2022-06-18T16:28:59.269Z"
   },
   {
    "duration": 93,
    "start_time": "2022-06-18T16:28:59.276Z"
   },
   {
    "duration": 4,
    "start_time": "2022-06-18T16:28:59.371Z"
   },
   {
    "duration": 55,
    "start_time": "2022-06-18T16:28:59.377Z"
   },
   {
    "duration": 88,
    "start_time": "2022-06-18T16:28:59.433Z"
   },
   {
    "duration": 41,
    "start_time": "2022-06-18T16:28:59.523Z"
   },
   {
    "duration": 16,
    "start_time": "2022-06-18T16:28:59.566Z"
   },
   {
    "duration": 12,
    "start_time": "2022-06-18T16:28:59.583Z"
   },
   {
    "duration": 99,
    "start_time": "2022-06-18T16:28:59.596Z"
   },
   {
    "duration": 3,
    "start_time": "2022-06-18T16:28:59.697Z"
   },
   {
    "duration": 6,
    "start_time": "2022-06-18T16:28:59.701Z"
   },
   {
    "duration": 12,
    "start_time": "2022-06-18T16:28:59.708Z"
   },
   {
    "duration": 24,
    "start_time": "2022-06-18T16:28:59.722Z"
   },
   {
    "duration": 20,
    "start_time": "2022-06-18T16:28:59.749Z"
   },
   {
    "duration": 17,
    "start_time": "2022-06-18T16:28:59.770Z"
   },
   {
    "duration": 179,
    "start_time": "2022-06-18T16:28:59.789Z"
   },
   {
    "duration": 173,
    "start_time": "2022-06-18T16:28:59.970Z"
   },
   {
    "duration": 167,
    "start_time": "2022-06-18T16:29:00.145Z"
   },
   {
    "duration": 166,
    "start_time": "2022-06-18T16:29:00.313Z"
   },
   {
    "duration": 146,
    "start_time": "2022-06-18T16:29:00.481Z"
   },
   {
    "duration": 155,
    "start_time": "2022-06-18T16:29:00.628Z"
   },
   {
    "duration": 5,
    "start_time": "2022-06-18T16:29:00.785Z"
   },
   {
    "duration": 8,
    "start_time": "2022-06-18T16:29:00.791Z"
   },
   {
    "duration": 11,
    "start_time": "2022-06-18T16:29:00.800Z"
   },
   {
    "duration": 10,
    "start_time": "2022-06-18T16:29:00.813Z"
   },
   {
    "duration": 44,
    "start_time": "2022-06-18T16:29:00.825Z"
   },
   {
    "duration": 6,
    "start_time": "2022-06-18T16:29:00.871Z"
   },
   {
    "duration": 1143,
    "start_time": "2022-06-18T16:40:22.079Z"
   },
   {
    "duration": 440,
    "start_time": "2022-06-18T16:40:23.224Z"
   },
   {
    "duration": 32,
    "start_time": "2022-06-18T16:40:23.666Z"
   },
   {
    "duration": 45,
    "start_time": "2022-06-18T16:40:23.701Z"
   },
   {
    "duration": 27,
    "start_time": "2022-06-18T16:40:23.747Z"
   },
   {
    "duration": 33,
    "start_time": "2022-06-18T16:40:23.775Z"
   },
   {
    "duration": 47,
    "start_time": "2022-06-18T16:40:23.810Z"
   },
   {
    "duration": 5,
    "start_time": "2022-06-18T16:40:23.859Z"
   },
   {
    "duration": 9,
    "start_time": "2022-06-18T16:40:23.866Z"
   },
   {
    "duration": 115,
    "start_time": "2022-06-18T16:40:23.879Z"
   },
   {
    "duration": 6,
    "start_time": "2022-06-18T16:40:23.997Z"
   },
   {
    "duration": 68,
    "start_time": "2022-06-18T16:40:24.005Z"
   },
   {
    "duration": 101,
    "start_time": "2022-06-18T16:40:24.075Z"
   },
   {
    "duration": 28,
    "start_time": "2022-06-18T16:40:24.178Z"
   },
   {
    "duration": 14,
    "start_time": "2022-06-18T16:40:24.207Z"
   },
   {
    "duration": 24,
    "start_time": "2022-06-18T16:40:24.223Z"
   },
   {
    "duration": 71,
    "start_time": "2022-06-18T16:40:24.249Z"
   },
   {
    "duration": 3,
    "start_time": "2022-06-18T16:40:24.322Z"
   },
   {
    "duration": 17,
    "start_time": "2022-06-18T16:40:24.326Z"
   },
   {
    "duration": 15,
    "start_time": "2022-06-18T16:40:24.346Z"
   },
   {
    "duration": 9,
    "start_time": "2022-06-18T16:40:24.363Z"
   },
   {
    "duration": 16,
    "start_time": "2022-06-18T16:40:24.374Z"
   },
   {
    "duration": 18,
    "start_time": "2022-06-18T16:40:24.392Z"
   },
   {
    "duration": 201,
    "start_time": "2022-06-18T16:40:24.411Z"
   },
   {
    "duration": 181,
    "start_time": "2022-06-18T16:40:24.614Z"
   },
   {
    "duration": 150,
    "start_time": "2022-06-18T16:40:24.797Z"
   },
   {
    "duration": 157,
    "start_time": "2022-06-18T16:40:24.949Z"
   },
   {
    "duration": 154,
    "start_time": "2022-06-18T16:40:25.109Z"
   },
   {
    "duration": 156,
    "start_time": "2022-06-18T16:40:25.265Z"
   },
   {
    "duration": 5,
    "start_time": "2022-06-18T16:40:25.422Z"
   },
   {
    "duration": 4,
    "start_time": "2022-06-18T16:40:25.441Z"
   },
   {
    "duration": 12,
    "start_time": "2022-06-18T16:40:25.447Z"
   },
   {
    "duration": 16,
    "start_time": "2022-06-18T16:40:25.461Z"
   },
   {
    "duration": 23,
    "start_time": "2022-06-18T16:40:25.479Z"
   },
   {
    "duration": 6,
    "start_time": "2022-06-18T16:40:25.504Z"
   },
   {
    "duration": 1113,
    "start_time": "2022-06-18T16:45:24.690Z"
   },
   {
    "duration": 428,
    "start_time": "2022-06-18T16:45:25.805Z"
   },
   {
    "duration": 31,
    "start_time": "2022-06-18T16:45:26.235Z"
   },
   {
    "duration": 38,
    "start_time": "2022-06-18T16:45:26.268Z"
   },
   {
    "duration": 50,
    "start_time": "2022-06-18T16:45:26.308Z"
   },
   {
    "duration": 37,
    "start_time": "2022-06-18T16:45:26.359Z"
   },
   {
    "duration": 15,
    "start_time": "2022-06-18T16:45:26.398Z"
   },
   {
    "duration": 7,
    "start_time": "2022-06-18T16:45:26.415Z"
   },
   {
    "duration": 21,
    "start_time": "2022-06-18T16:45:26.423Z"
   },
   {
    "duration": 96,
    "start_time": "2022-06-18T16:45:26.445Z"
   },
   {
    "duration": 8,
    "start_time": "2022-06-18T16:45:26.543Z"
   },
   {
    "duration": 60,
    "start_time": "2022-06-18T16:45:26.552Z"
   },
   {
    "duration": 133,
    "start_time": "2022-06-18T16:45:26.614Z"
   },
   {
    "duration": 36,
    "start_time": "2022-06-18T16:45:26.758Z"
   },
   {
    "duration": 15,
    "start_time": "2022-06-18T16:45:26.796Z"
   },
   {
    "duration": 10,
    "start_time": "2022-06-18T16:45:26.814Z"
   },
   {
    "duration": 97,
    "start_time": "2022-06-18T16:45:26.826Z"
   },
   {
    "duration": 3,
    "start_time": "2022-06-18T16:45:26.925Z"
   },
   {
    "duration": 31,
    "start_time": "2022-06-18T16:45:26.931Z"
   },
   {
    "duration": 19,
    "start_time": "2022-06-18T16:45:26.965Z"
   },
   {
    "duration": 15,
    "start_time": "2022-06-18T16:45:26.986Z"
   },
   {
    "duration": 21,
    "start_time": "2022-06-18T16:45:27.003Z"
   },
   {
    "duration": 30,
    "start_time": "2022-06-18T16:45:27.026Z"
   },
   {
    "duration": 286,
    "start_time": "2022-06-18T16:45:27.059Z"
   },
   {
    "duration": 329,
    "start_time": "2022-06-18T16:45:27.346Z"
   },
   {
    "duration": 403,
    "start_time": "2022-06-18T16:45:27.676Z"
   },
   {
    "duration": 394,
    "start_time": "2022-06-18T16:45:28.081Z"
   },
   {
    "duration": 404,
    "start_time": "2022-06-18T16:45:28.477Z"
   },
   {
    "duration": 365,
    "start_time": "2022-06-18T16:45:28.883Z"
   },
   {
    "duration": 8,
    "start_time": "2022-06-18T16:45:29.251Z"
   },
   {
    "duration": 13,
    "start_time": "2022-06-18T16:45:29.261Z"
   },
   {
    "duration": 7,
    "start_time": "2022-06-18T16:45:29.276Z"
   },
   {
    "duration": 66,
    "start_time": "2022-06-18T16:45:29.285Z"
   },
   {
    "duration": 20,
    "start_time": "2022-06-18T16:45:29.355Z"
   },
   {
    "duration": 7,
    "start_time": "2022-06-18T16:45:29.377Z"
   },
   {
    "duration": 14,
    "start_time": "2022-06-18T16:45:58.453Z"
   },
   {
    "duration": 27,
    "start_time": "2022-06-18T16:46:36.439Z"
   },
   {
    "duration": 27,
    "start_time": "2022-06-18T16:46:43.615Z"
   },
   {
    "duration": 328,
    "start_time": "2022-06-18T16:50:21.246Z"
   },
   {
    "duration": 2,
    "start_time": "2022-06-18T16:50:37.071Z"
   },
   {
    "duration": 4,
    "start_time": "2022-06-18T16:50:59.095Z"
   },
   {
    "duration": 18,
    "start_time": "2022-06-18T16:51:08.063Z"
   },
   {
    "duration": 1491,
    "start_time": "2022-06-18T16:51:46.850Z"
   },
   {
    "duration": 213,
    "start_time": "2022-06-18T16:51:52.778Z"
   },
   {
    "duration": 174,
    "start_time": "2022-06-18T16:52:02.144Z"
   },
   {
    "duration": 183,
    "start_time": "2022-06-18T16:52:08.907Z"
   },
   {
    "duration": 55,
    "start_time": "2022-06-18T16:52:12.794Z"
   },
   {
    "duration": 1065,
    "start_time": "2022-06-18T16:52:59.047Z"
   },
   {
    "duration": 397,
    "start_time": "2022-06-18T16:53:00.114Z"
   },
   {
    "duration": 25,
    "start_time": "2022-06-18T16:53:00.512Z"
   },
   {
    "duration": 40,
    "start_time": "2022-06-18T16:53:00.538Z"
   },
   {
    "duration": 26,
    "start_time": "2022-06-18T16:53:00.580Z"
   },
   {
    "duration": 47,
    "start_time": "2022-06-18T16:53:00.607Z"
   },
   {
    "duration": 15,
    "start_time": "2022-06-18T16:53:00.656Z"
   },
   {
    "duration": 9,
    "start_time": "2022-06-18T16:53:00.673Z"
   },
   {
    "duration": 11,
    "start_time": "2022-06-18T16:53:00.683Z"
   },
   {
    "duration": 99,
    "start_time": "2022-06-18T16:53:00.695Z"
   },
   {
    "duration": 6,
    "start_time": "2022-06-18T16:53:00.795Z"
   },
   {
    "duration": 64,
    "start_time": "2022-06-18T16:53:00.802Z"
   },
   {
    "duration": 93,
    "start_time": "2022-06-18T16:53:00.868Z"
   },
   {
    "duration": 31,
    "start_time": "2022-06-18T16:53:00.965Z"
   },
   {
    "duration": 14,
    "start_time": "2022-06-18T16:53:00.997Z"
   },
   {
    "duration": 18,
    "start_time": "2022-06-18T16:53:01.013Z"
   },
   {
    "duration": 75,
    "start_time": "2022-06-18T16:53:01.033Z"
   },
   {
    "duration": 2,
    "start_time": "2022-06-18T16:53:01.110Z"
   },
   {
    "duration": 11,
    "start_time": "2022-06-18T16:53:01.114Z"
   },
   {
    "duration": 22,
    "start_time": "2022-06-18T16:53:01.126Z"
   },
   {
    "duration": 10,
    "start_time": "2022-06-18T16:53:01.150Z"
   },
   {
    "duration": 21,
    "start_time": "2022-06-18T16:53:01.162Z"
   },
   {
    "duration": 32,
    "start_time": "2022-06-18T16:53:01.185Z"
   },
   {
    "duration": 149,
    "start_time": "2022-06-18T16:53:01.219Z"
   },
   {
    "duration": 162,
    "start_time": "2022-06-18T16:53:01.369Z"
   },
   {
    "duration": 152,
    "start_time": "2022-06-18T16:53:01.533Z"
   },
   {
    "duration": 160,
    "start_time": "2022-06-18T16:53:01.687Z"
   },
   {
    "duration": 151,
    "start_time": "2022-06-18T16:53:01.849Z"
   },
   {
    "duration": 180,
    "start_time": "2022-06-18T16:53:02.002Z"
   },
   {
    "duration": 6,
    "start_time": "2022-06-18T16:53:02.185Z"
   },
   {
    "duration": 6,
    "start_time": "2022-06-18T16:53:02.193Z"
   },
   {
    "duration": 7,
    "start_time": "2022-06-18T16:53:02.201Z"
   },
   {
    "duration": 33,
    "start_time": "2022-06-18T16:53:02.210Z"
   },
   {
    "duration": 23,
    "start_time": "2022-06-18T16:53:02.244Z"
   },
   {
    "duration": 6,
    "start_time": "2022-06-18T16:53:02.269Z"
   },
   {
    "duration": 10,
    "start_time": "2022-06-18T16:53:02.276Z"
   },
   {
    "duration": 61,
    "start_time": "2022-06-18T16:53:02.287Z"
   },
   {
    "duration": 7,
    "start_time": "2022-06-18T16:53:02.350Z"
   },
   {
    "duration": 1460,
    "start_time": "2022-06-18T16:53:02.358Z"
   },
   {
    "duration": 176,
    "start_time": "2022-06-18T16:53:03.819Z"
   },
   {
    "duration": 202,
    "start_time": "2022-06-18T16:53:03.998Z"
   },
   {
    "duration": 166,
    "start_time": "2022-06-18T16:53:04.201Z"
   },
   {
    "duration": 52,
    "start_time": "2022-06-18T16:53:04.369Z"
   },
   {
    "duration": 77,
    "start_time": "2022-06-19T11:45:38.314Z"
   },
   {
    "duration": 1247,
    "start_time": "2022-06-19T11:45:50.572Z"
   },
   {
    "duration": 1612,
    "start_time": "2022-06-19T11:45:51.825Z"
   },
   {
    "duration": 32,
    "start_time": "2022-06-19T11:45:53.441Z"
   },
   {
    "duration": 62,
    "start_time": "2022-06-19T11:45:53.477Z"
   },
   {
    "duration": 41,
    "start_time": "2022-06-19T11:45:53.548Z"
   },
   {
    "duration": 49,
    "start_time": "2022-06-19T11:45:53.591Z"
   },
   {
    "duration": 16,
    "start_time": "2022-06-19T11:45:53.642Z"
   },
   {
    "duration": 5,
    "start_time": "2022-06-19T11:45:53.660Z"
   },
   {
    "duration": 8,
    "start_time": "2022-06-19T11:45:53.667Z"
   },
   {
    "duration": 115,
    "start_time": "2022-06-19T11:45:53.677Z"
   },
   {
    "duration": 5,
    "start_time": "2022-06-19T11:45:53.794Z"
   },
   {
    "duration": 65,
    "start_time": "2022-06-19T11:45:53.801Z"
   },
   {
    "duration": 89,
    "start_time": "2022-06-19T11:45:53.868Z"
   },
   {
    "duration": 38,
    "start_time": "2022-06-19T11:45:53.960Z"
   },
   {
    "duration": 28,
    "start_time": "2022-06-19T11:45:54.000Z"
   },
   {
    "duration": 39,
    "start_time": "2022-06-19T11:45:54.030Z"
   },
   {
    "duration": 85,
    "start_time": "2022-06-19T11:45:54.073Z"
   },
   {
    "duration": 4,
    "start_time": "2022-06-19T11:45:54.160Z"
   },
   {
    "duration": 7,
    "start_time": "2022-06-19T11:45:54.166Z"
   },
   {
    "duration": 15,
    "start_time": "2022-06-19T11:45:54.176Z"
   },
   {
    "duration": 17,
    "start_time": "2022-06-19T11:45:54.194Z"
   },
   {
    "duration": 31,
    "start_time": "2022-06-19T11:45:54.214Z"
   },
   {
    "duration": 20,
    "start_time": "2022-06-19T11:45:54.247Z"
   },
   {
    "duration": 189,
    "start_time": "2022-06-19T11:45:54.270Z"
   },
   {
    "duration": 172,
    "start_time": "2022-06-19T11:45:54.461Z"
   },
   {
    "duration": 172,
    "start_time": "2022-06-19T11:45:54.634Z"
   },
   {
    "duration": 178,
    "start_time": "2022-06-19T11:45:54.808Z"
   },
   {
    "duration": 167,
    "start_time": "2022-06-19T11:45:54.990Z"
   },
   {
    "duration": 165,
    "start_time": "2022-06-19T11:45:55.159Z"
   },
   {
    "duration": 16,
    "start_time": "2022-06-19T11:45:55.328Z"
   },
   {
    "duration": 12,
    "start_time": "2022-06-19T11:45:55.346Z"
   },
   {
    "duration": 9,
    "start_time": "2022-06-19T11:45:55.360Z"
   },
   {
    "duration": 11,
    "start_time": "2022-06-19T11:45:55.371Z"
   },
   {
    "duration": 19,
    "start_time": "2022-06-19T11:45:55.384Z"
   },
   {
    "duration": 32,
    "start_time": "2022-06-19T11:45:55.405Z"
   },
   {
    "duration": 23,
    "start_time": "2022-06-19T11:45:55.438Z"
   },
   {
    "duration": 64,
    "start_time": "2022-06-19T11:45:55.463Z"
   },
   {
    "duration": 13,
    "start_time": "2022-06-19T11:45:55.529Z"
   },
   {
    "duration": 1764,
    "start_time": "2022-06-19T11:45:55.550Z"
   },
   {
    "duration": 237,
    "start_time": "2022-06-19T11:45:57.316Z"
   },
   {
    "duration": 220,
    "start_time": "2022-06-19T11:45:57.555Z"
   },
   {
    "duration": 202,
    "start_time": "2022-06-19T11:45:57.777Z"
   },
   {
    "duration": 62,
    "start_time": "2022-06-19T11:45:57.980Z"
   },
   {
    "duration": 13,
    "start_time": "2022-06-19T11:46:35.981Z"
   },
   {
    "duration": 50,
    "start_time": "2022-06-19T11:47:11.414Z"
   },
   {
    "duration": 995,
    "start_time": "2022-06-19T11:54:45.255Z"
   },
   {
    "duration": 424,
    "start_time": "2022-06-19T11:54:46.252Z"
   },
   {
    "duration": 26,
    "start_time": "2022-06-19T11:54:46.679Z"
   },
   {
    "duration": 54,
    "start_time": "2022-06-19T11:54:46.707Z"
   },
   {
    "duration": 40,
    "start_time": "2022-06-19T11:54:46.763Z"
   },
   {
    "duration": 45,
    "start_time": "2022-06-19T11:54:46.805Z"
   },
   {
    "duration": 17,
    "start_time": "2022-06-19T11:54:46.854Z"
   },
   {
    "duration": 15,
    "start_time": "2022-06-19T11:54:46.873Z"
   },
   {
    "duration": 9,
    "start_time": "2022-06-19T11:54:46.890Z"
   },
   {
    "duration": 88,
    "start_time": "2022-06-19T11:54:46.902Z"
   },
   {
    "duration": 5,
    "start_time": "2022-06-19T11:54:46.992Z"
   },
   {
    "duration": 67,
    "start_time": "2022-06-19T11:54:46.998Z"
   },
   {
    "duration": 85,
    "start_time": "2022-06-19T11:54:47.066Z"
   },
   {
    "duration": 37,
    "start_time": "2022-06-19T11:54:47.152Z"
   },
   {
    "duration": 11,
    "start_time": "2022-06-19T11:54:47.191Z"
   },
   {
    "duration": 33,
    "start_time": "2022-06-19T11:54:47.204Z"
   },
   {
    "duration": 82,
    "start_time": "2022-06-19T11:54:47.238Z"
   },
   {
    "duration": 12,
    "start_time": "2022-06-19T11:54:47.322Z"
   },
   {
    "duration": 6,
    "start_time": "2022-06-19T11:54:47.343Z"
   },
   {
    "duration": 24,
    "start_time": "2022-06-19T11:54:47.351Z"
   },
   {
    "duration": 16,
    "start_time": "2022-06-19T11:54:47.377Z"
   },
   {
    "duration": 18,
    "start_time": "2022-06-19T11:54:47.395Z"
   },
   {
    "duration": 16,
    "start_time": "2022-06-19T11:54:47.415Z"
   },
   {
    "duration": 167,
    "start_time": "2022-06-19T11:54:47.433Z"
   },
   {
    "duration": 154,
    "start_time": "2022-06-19T11:54:47.602Z"
   },
   {
    "duration": 155,
    "start_time": "2022-06-19T11:54:47.758Z"
   },
   {
    "duration": 144,
    "start_time": "2022-06-19T11:54:47.915Z"
   },
   {
    "duration": 146,
    "start_time": "2022-06-19T11:54:48.064Z"
   },
   {
    "duration": 154,
    "start_time": "2022-06-19T11:54:48.212Z"
   },
   {
    "duration": 5,
    "start_time": "2022-06-19T11:54:48.368Z"
   },
   {
    "duration": 8,
    "start_time": "2022-06-19T11:54:48.375Z"
   },
   {
    "duration": 13,
    "start_time": "2022-06-19T11:54:48.384Z"
   },
   {
    "duration": 16,
    "start_time": "2022-06-19T11:54:48.399Z"
   },
   {
    "duration": 22,
    "start_time": "2022-06-19T11:54:48.426Z"
   },
   {
    "duration": 8,
    "start_time": "2022-06-19T11:54:48.450Z"
   },
   {
    "duration": 10,
    "start_time": "2022-06-19T11:54:48.460Z"
   },
   {
    "duration": 68,
    "start_time": "2022-06-19T11:54:48.471Z"
   },
   {
    "duration": 7,
    "start_time": "2022-06-19T11:54:48.542Z"
   },
   {
    "duration": 1593,
    "start_time": "2022-06-19T11:54:48.551Z"
   },
   {
    "duration": 199,
    "start_time": "2022-06-19T11:54:50.146Z"
   },
   {
    "duration": 200,
    "start_time": "2022-06-19T11:54:50.348Z"
   },
   {
    "duration": 207,
    "start_time": "2022-06-19T11:54:50.550Z"
   },
   {
    "duration": 55,
    "start_time": "2022-06-19T11:54:50.760Z"
   },
   {
    "duration": 1069,
    "start_time": "2022-06-20T06:59:08.738Z"
   },
   {
    "duration": 387,
    "start_time": "2022-06-20T06:59:09.809Z"
   },
   {
    "duration": 22,
    "start_time": "2022-06-20T06:59:10.197Z"
   },
   {
    "duration": 48,
    "start_time": "2022-06-20T06:59:10.220Z"
   },
   {
    "duration": 23,
    "start_time": "2022-06-20T06:59:10.270Z"
   },
   {
    "duration": 37,
    "start_time": "2022-06-20T06:59:10.295Z"
   },
   {
    "duration": 26,
    "start_time": "2022-06-20T06:59:10.334Z"
   },
   {
    "duration": 20,
    "start_time": "2022-06-20T06:59:10.362Z"
   },
   {
    "duration": 18,
    "start_time": "2022-06-20T06:59:10.384Z"
   },
   {
    "duration": 91,
    "start_time": "2022-06-20T06:59:10.404Z"
   },
   {
    "duration": 6,
    "start_time": "2022-06-20T06:59:10.497Z"
   },
   {
    "duration": 66,
    "start_time": "2022-06-20T06:59:10.504Z"
   },
   {
    "duration": 74,
    "start_time": "2022-06-20T06:59:10.571Z"
   },
   {
    "duration": 26,
    "start_time": "2022-06-20T06:59:10.648Z"
   },
   {
    "duration": 11,
    "start_time": "2022-06-20T06:59:10.675Z"
   },
   {
    "duration": 16,
    "start_time": "2022-06-20T06:59:10.688Z"
   },
   {
    "duration": 86,
    "start_time": "2022-06-20T06:59:10.706Z"
   },
   {
    "duration": 2,
    "start_time": "2022-06-20T06:59:10.794Z"
   },
   {
    "duration": 6,
    "start_time": "2022-06-20T06:59:10.797Z"
   },
   {
    "duration": 15,
    "start_time": "2022-06-20T06:59:10.804Z"
   },
   {
    "duration": 15,
    "start_time": "2022-06-20T06:59:10.820Z"
   },
   {
    "duration": 18,
    "start_time": "2022-06-20T06:59:10.836Z"
   },
   {
    "duration": 27,
    "start_time": "2022-06-20T06:59:10.856Z"
   },
   {
    "duration": 143,
    "start_time": "2022-06-20T06:59:10.885Z"
   },
   {
    "duration": 154,
    "start_time": "2022-06-20T06:59:11.030Z"
   },
   {
    "duration": 133,
    "start_time": "2022-06-20T06:59:11.186Z"
   },
   {
    "duration": 151,
    "start_time": "2022-06-20T06:59:11.321Z"
   },
   {
    "duration": 142,
    "start_time": "2022-06-20T06:59:11.474Z"
   },
   {
    "duration": 142,
    "start_time": "2022-06-20T06:59:11.618Z"
   },
   {
    "duration": 5,
    "start_time": "2022-06-20T06:59:11.761Z"
   },
   {
    "duration": 6,
    "start_time": "2022-06-20T06:59:11.768Z"
   },
   {
    "duration": 11,
    "start_time": "2022-06-20T06:59:11.776Z"
   },
   {
    "duration": 9,
    "start_time": "2022-06-20T06:59:11.789Z"
   },
   {
    "duration": 16,
    "start_time": "2022-06-20T06:59:11.799Z"
   },
   {
    "duration": 36,
    "start_time": "2022-06-20T06:59:11.816Z"
   },
   {
    "duration": 2,
    "start_time": "2022-06-20T06:59:11.854Z"
   },
   {
    "duration": 55,
    "start_time": "2022-06-20T06:59:11.858Z"
   },
   {
    "duration": 8,
    "start_time": "2022-06-20T06:59:11.914Z"
   },
   {
    "duration": 1482,
    "start_time": "2022-06-20T06:59:11.923Z"
   },
   {
    "duration": 169,
    "start_time": "2022-06-20T06:59:13.407Z"
   },
   {
    "duration": 187,
    "start_time": "2022-06-20T06:59:13.580Z"
   },
   {
    "duration": 172,
    "start_time": "2022-06-20T06:59:13.768Z"
   },
   {
    "duration": 51,
    "start_time": "2022-06-20T06:59:13.941Z"
   }
  ],
  "kernelspec": {
   "display_name": "Python 3 (ipykernel)",
   "language": "python",
   "name": "python3"
  },
  "language_info": {
   "codemirror_mode": {
    "name": "ipython",
    "version": 3
   },
   "file_extension": ".py",
   "mimetype": "text/x-python",
   "name": "python",
   "nbconvert_exporter": "python",
   "pygments_lexer": "ipython3",
   "version": "3.9.12"
  },
  "toc": {
   "base_numbering": 1,
   "nav_menu": {
    "height": "142px",
    "width": "249px"
   },
   "number_sections": true,
   "sideBar": true,
   "skip_h1_title": true,
   "title_cell": "Table of Contents",
   "title_sidebar": "Contents",
   "toc_cell": false,
   "toc_position": {
    "height": "calc(100% - 180px)",
    "left": "10px",
    "top": "150px",
    "width": "265px"
   },
   "toc_section_display": true,
   "toc_window_display": true
  }
 },
 "nbformat": 4,
 "nbformat_minor": 2
}
