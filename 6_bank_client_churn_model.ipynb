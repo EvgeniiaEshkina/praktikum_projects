{
 "cells": [
  {
   "cell_type": "markdown",
   "metadata": {
    "toc": true
   },
   "source": [
    "<h1>Содержание<span class=\"tocSkip\"></span></h1>\n",
    "<div class=\"toc\"><ul class=\"toc-item\"><li><span><a href=\"#Подготовка-данных\" data-toc-modified-id=\"Подготовка-данных-1\"><span class=\"toc-item-num\">1&nbsp;&nbsp;</span>Подготовка данных</a></span></li><li><span><a href=\"#Исследование-задачи\" data-toc-modified-id=\"Исследование-задачи-2\"><span class=\"toc-item-num\">2&nbsp;&nbsp;</span>Исследование задачи</a></span></li><li><span><a href=\"#Борьба-с-дисбалансом\" data-toc-modified-id=\"Борьба-с-дисбалансом-3\"><span class=\"toc-item-num\">3&nbsp;&nbsp;</span>Борьба с дисбалансом</a></span></li><li><span><a href=\"#Тестирование-модели\" data-toc-modified-id=\"Тестирование-модели-4\"><span class=\"toc-item-num\">4&nbsp;&nbsp;</span>Тестирование модели</a></span></li><li><span><a href=\"#Чек-лист-готовности-проекта\" data-toc-modified-id=\"Чек-лист-готовности-проекта-5\"><span class=\"toc-item-num\">5&nbsp;&nbsp;</span>Чек-лист готовности проекта</a></span></li></ul></div>"
   ]
  },
  {
   "cell_type": "markdown",
   "metadata": {},
   "source": [
    "# Отток клиентов"
   ]
  },
  {
   "cell_type": "markdown",
   "metadata": {},
   "source": [
    "Нужно спрогнозировать, уйдёт клиент из банка в ближайшее время или нет. Предоставлены исторические данные о поведении клиентов и расторжении договоров с банком. "
   ]
  },
  {
   "cell_type": "markdown",
   "metadata": {},
   "source": [
    "## Подготовка данных"
   ]
  },
  {
   "cell_type": "markdown",
   "metadata": {},
   "source": [
    "Импортируем необходимые библиотеки."
   ]
  },
  {
   "cell_type": "code",
   "execution_count": 1,
   "metadata": {},
   "outputs": [],
   "source": [
    "import pandas as pd\n",
    "import matplotlib.pyplot as plt\n",
    "\n",
    "from sklearn.model_selection import train_test_split\n",
    "from sklearn.tree import DecisionTreeClassifier\n",
    "from sklearn.ensemble import RandomForestClassifier\n",
    "from sklearn.linear_model import LogisticRegression\n",
    "from sklearn.preprocessing import StandardScaler\n",
    "from sklearn.metrics import confusion_matrix\n",
    "from sklearn.metrics import f1_score\n",
    "from sklearn.metrics import roc_auc_score\n",
    "from sklearn.metrics import roc_curve\n",
    "from sklearn.utils import shuffle \n",
    "\n",
    "import warnings\n",
    "warnings.filterwarnings('ignore')"
   ]
  },
  {
   "cell_type": "markdown",
   "metadata": {},
   "source": [
    "Импортируем данные."
   ]
  },
  {
   "cell_type": "code",
   "execution_count": 2,
   "metadata": {},
   "outputs": [],
   "source": [
    "data = pd.read_csv('/datasets/Churn.csv')"
   ]
  },
  {
   "cell_type": "markdown",
   "metadata": {},
   "source": [
    "Познакомимся с данными.  \n",
    "   \n",
    "**Признаки:**  \n",
    "- RowNumber — индекс строки в данных\n",
    "- CustomerId — уникальный идентификатор клиента\n",
    "- Surname — фамилия\n",
    "- CreditScore — кредитный рейтинг\n",
    "- Geography — страна проживания\n",
    "- Gender — пол\n",
    "- Age — возраст\n",
    "- Tenure — сколько лет человек является клиентом банка\n",
    "- Balance — баланс на счёте\n",
    "- NumOfProducts — количество продуктов банка, используемых клиентом\n",
    "- HasCrCard — наличие кредитной карты\n",
    "- IsActiveMember — активность клиента\n",
    "- EstimatedSalary — предполагаемая зарплата\n",
    "  \n",
    "**Целевой признак:**  \n",
    "- Exited — факт ухода клиента"
   ]
  },
  {
   "cell_type": "code",
   "execution_count": 3,
   "metadata": {
    "scrolled": false
   },
   "outputs": [
    {
     "name": "stdout",
     "output_type": "stream",
     "text": [
      "<class 'pandas.core.frame.DataFrame'>\n",
      "RangeIndex: 10000 entries, 0 to 9999\n",
      "Data columns (total 14 columns):\n",
      " #   Column           Non-Null Count  Dtype  \n",
      "---  ------           --------------  -----  \n",
      " 0   RowNumber        10000 non-null  int64  \n",
      " 1   CustomerId       10000 non-null  int64  \n",
      " 2   Surname          10000 non-null  object \n",
      " 3   CreditScore      10000 non-null  int64  \n",
      " 4   Geography        10000 non-null  object \n",
      " 5   Gender           10000 non-null  object \n",
      " 6   Age              10000 non-null  int64  \n",
      " 7   Tenure           9091 non-null   float64\n",
      " 8   Balance          10000 non-null  float64\n",
      " 9   NumOfProducts    10000 non-null  int64  \n",
      " 10  HasCrCard        10000 non-null  int64  \n",
      " 11  IsActiveMember   10000 non-null  int64  \n",
      " 12  EstimatedSalary  10000 non-null  float64\n",
      " 13  Exited           10000 non-null  int64  \n",
      "dtypes: float64(3), int64(8), object(3)\n",
      "memory usage: 1.1+ MB\n",
      "None\n"
     ]
    },
    {
     "data": {
      "text/html": [
       "<div>\n",
       "<style scoped>\n",
       "    .dataframe tbody tr th:only-of-type {\n",
       "        vertical-align: middle;\n",
       "    }\n",
       "\n",
       "    .dataframe tbody tr th {\n",
       "        vertical-align: top;\n",
       "    }\n",
       "\n",
       "    .dataframe thead th {\n",
       "        text-align: right;\n",
       "    }\n",
       "</style>\n",
       "<table border=\"1\" class=\"dataframe\">\n",
       "  <thead>\n",
       "    <tr style=\"text-align: right;\">\n",
       "      <th></th>\n",
       "      <th>RowNumber</th>\n",
       "      <th>CustomerId</th>\n",
       "      <th>Surname</th>\n",
       "      <th>CreditScore</th>\n",
       "      <th>Geography</th>\n",
       "      <th>Gender</th>\n",
       "      <th>Age</th>\n",
       "      <th>Tenure</th>\n",
       "      <th>Balance</th>\n",
       "      <th>NumOfProducts</th>\n",
       "      <th>HasCrCard</th>\n",
       "      <th>IsActiveMember</th>\n",
       "      <th>EstimatedSalary</th>\n",
       "      <th>Exited</th>\n",
       "    </tr>\n",
       "  </thead>\n",
       "  <tbody>\n",
       "    <tr>\n",
       "      <th>0</th>\n",
       "      <td>1</td>\n",
       "      <td>15634602</td>\n",
       "      <td>Hargrave</td>\n",
       "      <td>619</td>\n",
       "      <td>France</td>\n",
       "      <td>Female</td>\n",
       "      <td>42</td>\n",
       "      <td>2.0</td>\n",
       "      <td>0.00</td>\n",
       "      <td>1</td>\n",
       "      <td>1</td>\n",
       "      <td>1</td>\n",
       "      <td>101348.88</td>\n",
       "      <td>1</td>\n",
       "    </tr>\n",
       "    <tr>\n",
       "      <th>1</th>\n",
       "      <td>2</td>\n",
       "      <td>15647311</td>\n",
       "      <td>Hill</td>\n",
       "      <td>608</td>\n",
       "      <td>Spain</td>\n",
       "      <td>Female</td>\n",
       "      <td>41</td>\n",
       "      <td>1.0</td>\n",
       "      <td>83807.86</td>\n",
       "      <td>1</td>\n",
       "      <td>0</td>\n",
       "      <td>1</td>\n",
       "      <td>112542.58</td>\n",
       "      <td>0</td>\n",
       "    </tr>\n",
       "    <tr>\n",
       "      <th>2</th>\n",
       "      <td>3</td>\n",
       "      <td>15619304</td>\n",
       "      <td>Onio</td>\n",
       "      <td>502</td>\n",
       "      <td>France</td>\n",
       "      <td>Female</td>\n",
       "      <td>42</td>\n",
       "      <td>8.0</td>\n",
       "      <td>159660.80</td>\n",
       "      <td>3</td>\n",
       "      <td>1</td>\n",
       "      <td>0</td>\n",
       "      <td>113931.57</td>\n",
       "      <td>1</td>\n",
       "    </tr>\n",
       "    <tr>\n",
       "      <th>3</th>\n",
       "      <td>4</td>\n",
       "      <td>15701354</td>\n",
       "      <td>Boni</td>\n",
       "      <td>699</td>\n",
       "      <td>France</td>\n",
       "      <td>Female</td>\n",
       "      <td>39</td>\n",
       "      <td>1.0</td>\n",
       "      <td>0.00</td>\n",
       "      <td>2</td>\n",
       "      <td>0</td>\n",
       "      <td>0</td>\n",
       "      <td>93826.63</td>\n",
       "      <td>0</td>\n",
       "    </tr>\n",
       "    <tr>\n",
       "      <th>4</th>\n",
       "      <td>5</td>\n",
       "      <td>15737888</td>\n",
       "      <td>Mitchell</td>\n",
       "      <td>850</td>\n",
       "      <td>Spain</td>\n",
       "      <td>Female</td>\n",
       "      <td>43</td>\n",
       "      <td>2.0</td>\n",
       "      <td>125510.82</td>\n",
       "      <td>1</td>\n",
       "      <td>1</td>\n",
       "      <td>1</td>\n",
       "      <td>79084.10</td>\n",
       "      <td>0</td>\n",
       "    </tr>\n",
       "    <tr>\n",
       "      <th>5</th>\n",
       "      <td>6</td>\n",
       "      <td>15574012</td>\n",
       "      <td>Chu</td>\n",
       "      <td>645</td>\n",
       "      <td>Spain</td>\n",
       "      <td>Male</td>\n",
       "      <td>44</td>\n",
       "      <td>8.0</td>\n",
       "      <td>113755.78</td>\n",
       "      <td>2</td>\n",
       "      <td>1</td>\n",
       "      <td>0</td>\n",
       "      <td>149756.71</td>\n",
       "      <td>1</td>\n",
       "    </tr>\n",
       "    <tr>\n",
       "      <th>6</th>\n",
       "      <td>7</td>\n",
       "      <td>15592531</td>\n",
       "      <td>Bartlett</td>\n",
       "      <td>822</td>\n",
       "      <td>France</td>\n",
       "      <td>Male</td>\n",
       "      <td>50</td>\n",
       "      <td>7.0</td>\n",
       "      <td>0.00</td>\n",
       "      <td>2</td>\n",
       "      <td>1</td>\n",
       "      <td>1</td>\n",
       "      <td>10062.80</td>\n",
       "      <td>0</td>\n",
       "    </tr>\n",
       "    <tr>\n",
       "      <th>7</th>\n",
       "      <td>8</td>\n",
       "      <td>15656148</td>\n",
       "      <td>Obinna</td>\n",
       "      <td>376</td>\n",
       "      <td>Germany</td>\n",
       "      <td>Female</td>\n",
       "      <td>29</td>\n",
       "      <td>4.0</td>\n",
       "      <td>115046.74</td>\n",
       "      <td>4</td>\n",
       "      <td>1</td>\n",
       "      <td>0</td>\n",
       "      <td>119346.88</td>\n",
       "      <td>1</td>\n",
       "    </tr>\n",
       "    <tr>\n",
       "      <th>8</th>\n",
       "      <td>9</td>\n",
       "      <td>15792365</td>\n",
       "      <td>He</td>\n",
       "      <td>501</td>\n",
       "      <td>France</td>\n",
       "      <td>Male</td>\n",
       "      <td>44</td>\n",
       "      <td>4.0</td>\n",
       "      <td>142051.07</td>\n",
       "      <td>2</td>\n",
       "      <td>0</td>\n",
       "      <td>1</td>\n",
       "      <td>74940.50</td>\n",
       "      <td>0</td>\n",
       "    </tr>\n",
       "    <tr>\n",
       "      <th>9</th>\n",
       "      <td>10</td>\n",
       "      <td>15592389</td>\n",
       "      <td>H?</td>\n",
       "      <td>684</td>\n",
       "      <td>France</td>\n",
       "      <td>Male</td>\n",
       "      <td>27</td>\n",
       "      <td>2.0</td>\n",
       "      <td>134603.88</td>\n",
       "      <td>1</td>\n",
       "      <td>1</td>\n",
       "      <td>1</td>\n",
       "      <td>71725.73</td>\n",
       "      <td>0</td>\n",
       "    </tr>\n",
       "  </tbody>\n",
       "</table>\n",
       "</div>"
      ],
      "text/plain": [
       "   RowNumber  CustomerId   Surname  CreditScore Geography  Gender  Age  \\\n",
       "0          1    15634602  Hargrave          619    France  Female   42   \n",
       "1          2    15647311      Hill          608     Spain  Female   41   \n",
       "2          3    15619304      Onio          502    France  Female   42   \n",
       "3          4    15701354      Boni          699    France  Female   39   \n",
       "4          5    15737888  Mitchell          850     Spain  Female   43   \n",
       "5          6    15574012       Chu          645     Spain    Male   44   \n",
       "6          7    15592531  Bartlett          822    France    Male   50   \n",
       "7          8    15656148    Obinna          376   Germany  Female   29   \n",
       "8          9    15792365        He          501    France    Male   44   \n",
       "9         10    15592389        H?          684    France    Male   27   \n",
       "\n",
       "   Tenure    Balance  NumOfProducts  HasCrCard  IsActiveMember  \\\n",
       "0     2.0       0.00              1          1               1   \n",
       "1     1.0   83807.86              1          0               1   \n",
       "2     8.0  159660.80              3          1               0   \n",
       "3     1.0       0.00              2          0               0   \n",
       "4     2.0  125510.82              1          1               1   \n",
       "5     8.0  113755.78              2          1               0   \n",
       "6     7.0       0.00              2          1               1   \n",
       "7     4.0  115046.74              4          1               0   \n",
       "8     4.0  142051.07              2          0               1   \n",
       "9     2.0  134603.88              1          1               1   \n",
       "\n",
       "   EstimatedSalary  Exited  \n",
       "0        101348.88       1  \n",
       "1        112542.58       0  \n",
       "2        113931.57       1  \n",
       "3         93826.63       0  \n",
       "4         79084.10       0  \n",
       "5        149756.71       1  \n",
       "6         10062.80       0  \n",
       "7        119346.88       1  \n",
       "8         74940.50       0  \n",
       "9         71725.73       0  "
      ]
     },
     "execution_count": 3,
     "metadata": {},
     "output_type": "execute_result"
    }
   ],
   "source": [
    "print(data.info())\n",
    "data.head(10)"
   ]
  },
  {
   "cell_type": "markdown",
   "metadata": {},
   "source": [
    "Проверим данные на наличие пропусков. Пропуски есть только в столбце Tenure. Эти пропуски можно заменить средними значениями по столбцу."
   ]
  },
  {
   "cell_type": "code",
   "execution_count": 4,
   "metadata": {},
   "outputs": [],
   "source": [
    "data.isna().sum()\n",
    "data['Tenure'] = data['Tenure'].fillna(data['Tenure'].mean())"
   ]
  },
  {
   "cell_type": "markdown",
   "metadata": {},
   "source": [
    "Проверим данные на наличие дубликатов. Дубликатов нет."
   ]
  },
  {
   "cell_type": "code",
   "execution_count": 5,
   "metadata": {},
   "outputs": [
    {
     "data": {
      "text/plain": [
       "0"
      ]
     },
     "execution_count": 5,
     "metadata": {},
     "output_type": "execute_result"
    }
   ],
   "source": [
    "data.duplicated().sum()"
   ]
  },
  {
   "cell_type": "markdown",
   "metadata": {},
   "source": [
    "Проверим данные на наличие аномальных значений. Аномальные значения не обнаружены."
   ]
  },
  {
   "cell_type": "code",
   "execution_count": 6,
   "metadata": {},
   "outputs": [
    {
     "data": {
      "text/plain": [
       "array([1, 0])"
      ]
     },
     "execution_count": 6,
     "metadata": {},
     "output_type": "execute_result"
    }
   ],
   "source": [
    "data['CreditScore'].unique()\n",
    "data['Gender'].unique()\n",
    "data['Age'].unique()\n",
    "data['Tenure'].unique()\n",
    "data['Balance'].unique()\n",
    "data['NumOfProducts'].unique()\n",
    "data['HasCrCard'].unique()\n",
    "data['IsActiveMember'].unique()\n",
    "data['EstimatedSalary'].unique()\n",
    "data['Exited'].unique()"
   ]
  },
  {
   "cell_type": "markdown",
   "metadata": {},
   "source": [
    "Заменим категориальные значения в столбцах числовыми."
   ]
  },
  {
   "cell_type": "code",
   "execution_count": 7,
   "metadata": {},
   "outputs": [
    {
     "data": {
      "text/html": [
       "<div>\n",
       "<style scoped>\n",
       "    .dataframe tbody tr th:only-of-type {\n",
       "        vertical-align: middle;\n",
       "    }\n",
       "\n",
       "    .dataframe tbody tr th {\n",
       "        vertical-align: top;\n",
       "    }\n",
       "\n",
       "    .dataframe thead th {\n",
       "        text-align: right;\n",
       "    }\n",
       "</style>\n",
       "<table border=\"1\" class=\"dataframe\">\n",
       "  <thead>\n",
       "    <tr style=\"text-align: right;\">\n",
       "      <th></th>\n",
       "      <th>RowNumber</th>\n",
       "      <th>CustomerId</th>\n",
       "      <th>CreditScore</th>\n",
       "      <th>Age</th>\n",
       "      <th>Tenure</th>\n",
       "      <th>Balance</th>\n",
       "      <th>NumOfProducts</th>\n",
       "      <th>HasCrCard</th>\n",
       "      <th>IsActiveMember</th>\n",
       "      <th>EstimatedSalary</th>\n",
       "      <th>...</th>\n",
       "      <th>Surname_Zotova</th>\n",
       "      <th>Surname_Zox</th>\n",
       "      <th>Surname_Zubarev</th>\n",
       "      <th>Surname_Zubareva</th>\n",
       "      <th>Surname_Zuev</th>\n",
       "      <th>Surname_Zuyev</th>\n",
       "      <th>Surname_Zuyeva</th>\n",
       "      <th>Geography_Germany</th>\n",
       "      <th>Geography_Spain</th>\n",
       "      <th>Gender_Male</th>\n",
       "    </tr>\n",
       "  </thead>\n",
       "  <tbody>\n",
       "    <tr>\n",
       "      <th>0</th>\n",
       "      <td>1</td>\n",
       "      <td>15634602</td>\n",
       "      <td>619</td>\n",
       "      <td>42</td>\n",
       "      <td>2.0</td>\n",
       "      <td>0.00</td>\n",
       "      <td>1</td>\n",
       "      <td>1</td>\n",
       "      <td>1</td>\n",
       "      <td>101348.88</td>\n",
       "      <td>...</td>\n",
       "      <td>0</td>\n",
       "      <td>0</td>\n",
       "      <td>0</td>\n",
       "      <td>0</td>\n",
       "      <td>0</td>\n",
       "      <td>0</td>\n",
       "      <td>0</td>\n",
       "      <td>0</td>\n",
       "      <td>0</td>\n",
       "      <td>0</td>\n",
       "    </tr>\n",
       "    <tr>\n",
       "      <th>1</th>\n",
       "      <td>2</td>\n",
       "      <td>15647311</td>\n",
       "      <td>608</td>\n",
       "      <td>41</td>\n",
       "      <td>1.0</td>\n",
       "      <td>83807.86</td>\n",
       "      <td>1</td>\n",
       "      <td>0</td>\n",
       "      <td>1</td>\n",
       "      <td>112542.58</td>\n",
       "      <td>...</td>\n",
       "      <td>0</td>\n",
       "      <td>0</td>\n",
       "      <td>0</td>\n",
       "      <td>0</td>\n",
       "      <td>0</td>\n",
       "      <td>0</td>\n",
       "      <td>0</td>\n",
       "      <td>0</td>\n",
       "      <td>1</td>\n",
       "      <td>0</td>\n",
       "    </tr>\n",
       "    <tr>\n",
       "      <th>2</th>\n",
       "      <td>3</td>\n",
       "      <td>15619304</td>\n",
       "      <td>502</td>\n",
       "      <td>42</td>\n",
       "      <td>8.0</td>\n",
       "      <td>159660.80</td>\n",
       "      <td>3</td>\n",
       "      <td>1</td>\n",
       "      <td>0</td>\n",
       "      <td>113931.57</td>\n",
       "      <td>...</td>\n",
       "      <td>0</td>\n",
       "      <td>0</td>\n",
       "      <td>0</td>\n",
       "      <td>0</td>\n",
       "      <td>0</td>\n",
       "      <td>0</td>\n",
       "      <td>0</td>\n",
       "      <td>0</td>\n",
       "      <td>0</td>\n",
       "      <td>0</td>\n",
       "    </tr>\n",
       "    <tr>\n",
       "      <th>3</th>\n",
       "      <td>4</td>\n",
       "      <td>15701354</td>\n",
       "      <td>699</td>\n",
       "      <td>39</td>\n",
       "      <td>1.0</td>\n",
       "      <td>0.00</td>\n",
       "      <td>2</td>\n",
       "      <td>0</td>\n",
       "      <td>0</td>\n",
       "      <td>93826.63</td>\n",
       "      <td>...</td>\n",
       "      <td>0</td>\n",
       "      <td>0</td>\n",
       "      <td>0</td>\n",
       "      <td>0</td>\n",
       "      <td>0</td>\n",
       "      <td>0</td>\n",
       "      <td>0</td>\n",
       "      <td>0</td>\n",
       "      <td>0</td>\n",
       "      <td>0</td>\n",
       "    </tr>\n",
       "    <tr>\n",
       "      <th>4</th>\n",
       "      <td>5</td>\n",
       "      <td>15737888</td>\n",
       "      <td>850</td>\n",
       "      <td>43</td>\n",
       "      <td>2.0</td>\n",
       "      <td>125510.82</td>\n",
       "      <td>1</td>\n",
       "      <td>1</td>\n",
       "      <td>1</td>\n",
       "      <td>79084.10</td>\n",
       "      <td>...</td>\n",
       "      <td>0</td>\n",
       "      <td>0</td>\n",
       "      <td>0</td>\n",
       "      <td>0</td>\n",
       "      <td>0</td>\n",
       "      <td>0</td>\n",
       "      <td>0</td>\n",
       "      <td>0</td>\n",
       "      <td>1</td>\n",
       "      <td>0</td>\n",
       "    </tr>\n",
       "  </tbody>\n",
       "</table>\n",
       "<p>5 rows × 2945 columns</p>\n",
       "</div>"
      ],
      "text/plain": [
       "   RowNumber  CustomerId  CreditScore  Age  Tenure    Balance  NumOfProducts  \\\n",
       "0          1    15634602          619   42     2.0       0.00              1   \n",
       "1          2    15647311          608   41     1.0   83807.86              1   \n",
       "2          3    15619304          502   42     8.0  159660.80              3   \n",
       "3          4    15701354          699   39     1.0       0.00              2   \n",
       "4          5    15737888          850   43     2.0  125510.82              1   \n",
       "\n",
       "   HasCrCard  IsActiveMember  EstimatedSalary  ...  Surname_Zotova  \\\n",
       "0          1               1        101348.88  ...               0   \n",
       "1          0               1        112542.58  ...               0   \n",
       "2          1               0        113931.57  ...               0   \n",
       "3          0               0         93826.63  ...               0   \n",
       "4          1               1         79084.10  ...               0   \n",
       "\n",
       "   Surname_Zox  Surname_Zubarev  Surname_Zubareva  Surname_Zuev  \\\n",
       "0            0                0                 0             0   \n",
       "1            0                0                 0             0   \n",
       "2            0                0                 0             0   \n",
       "3            0                0                 0             0   \n",
       "4            0                0                 0             0   \n",
       "\n",
       "   Surname_Zuyev  Surname_Zuyeva  Geography_Germany  Geography_Spain  \\\n",
       "0              0               0                  0                0   \n",
       "1              0               0                  0                1   \n",
       "2              0               0                  0                0   \n",
       "3              0               0                  0                0   \n",
       "4              0               0                  0                1   \n",
       "\n",
       "   Gender_Male  \n",
       "0            0  \n",
       "1            0  \n",
       "2            0  \n",
       "3            0  \n",
       "4            0  \n",
       "\n",
       "[5 rows x 2945 columns]"
      ]
     },
     "execution_count": 7,
     "metadata": {},
     "output_type": "execute_result"
    }
   ],
   "source": [
    "data = pd.get_dummies(data,drop_first=True)\n",
    "data.head()"
   ]
  },
  {
   "cell_type": "markdown",
   "metadata": {},
   "source": [
    "Выделим в отдельный датасет данные, которые потребуются для создания модели."
   ]
  },
  {
   "cell_type": "code",
   "execution_count": 8,
   "metadata": {},
   "outputs": [
    {
     "name": "stdout",
     "output_type": "stream",
     "text": [
      "<class 'pandas.core.frame.DataFrame'>\n",
      "RangeIndex: 10000 entries, 0 to 9999\n",
      "Data columns (total 12 columns):\n",
      " #   Column             Non-Null Count  Dtype  \n",
      "---  ------             --------------  -----  \n",
      " 0   CreditScore        10000 non-null  int64  \n",
      " 1   Age                10000 non-null  int64  \n",
      " 2   Tenure             10000 non-null  float64\n",
      " 3   Balance            10000 non-null  float64\n",
      " 4   NumOfProducts      10000 non-null  int64  \n",
      " 5   HasCrCard          10000 non-null  int64  \n",
      " 6   IsActiveMember     10000 non-null  int64  \n",
      " 7   EstimatedSalary    10000 non-null  float64\n",
      " 8   Geography_Germany  10000 non-null  uint8  \n",
      " 9   Geography_Spain    10000 non-null  uint8  \n",
      " 10  Gender_Male        10000 non-null  uint8  \n",
      " 11  Exited             10000 non-null  int64  \n",
      "dtypes: float64(3), int64(6), uint8(3)\n",
      "memory usage: 732.5 KB\n"
     ]
    }
   ],
   "source": [
    "data_for_model = data[['CreditScore', 'Age', 'Tenure', 'Balance', 'NumOfProducts', 'HasCrCard', 'IsActiveMember', 'EstimatedSalary', 'Geography_Germany', 'Geography_Spain', 'Gender_Male', 'Exited']]\n",
    "data_for_model.info()"
   ]
  },
  {
   "cell_type": "markdown",
   "metadata": {},
   "source": [
    "Разделим данные на обучающую, валидационную и тестовую выборки и масштабируем количественные признаки."
   ]
  },
  {
   "cell_type": "code",
   "execution_count": 9,
   "metadata": {},
   "outputs": [
    {
     "name": "stdout",
     "output_type": "stream",
     "text": [
      "6000\n",
      "2000\n",
      "2000\n"
     ]
    }
   ],
   "source": [
    "features = data_for_model.drop('Exited', axis=1)\n",
    "target = data_for_model['Exited']\n",
    "features_train, features_valid, target_train, target_valid = train_test_split(features, target, test_size=0.4, random_state=12345, stratify=target)\n",
    "features_valid, features_test, target_valid, target_test = train_test_split(features_valid, target_valid, test_size=0.5, random_state=12345, stratify=target_valid)\n",
    "\n",
    "numeric = ['CreditScore', 'Age', 'Tenure', 'Balance', 'NumOfProducts', 'EstimatedSalary']\n",
    "scaler = StandardScaler()\n",
    "scaler.fit(features_train[numeric])\n",
    "features_train[numeric] = scaler.transform(features_train[numeric])\n",
    "features_valid[numeric] = scaler.transform(features_valid[numeric])\n",
    "features_test[numeric] = scaler.transform(features_test[numeric])\n",
    "\n",
    "print(len(features_train))\n",
    "print(len(features_valid))\n",
    "print(len(features_test))"
   ]
  },
  {
   "cell_type": "markdown",
   "metadata": {},
   "source": [
    "Данные готовы к работе."
   ]
  },
  {
   "cell_type": "markdown",
   "metadata": {},
   "source": [
    "## Исследование задачи"
   ]
  },
  {
   "cell_type": "markdown",
   "metadata": {},
   "source": [
    "Изучим дисбаланс классов в предоставленных данных."
   ]
  },
  {
   "cell_type": "code",
   "execution_count": 10,
   "metadata": {},
   "outputs": [
    {
     "name": "stdout",
     "output_type": "stream",
     "text": [
      "2037\n",
      "7963\n"
     ]
    }
   ],
   "source": [
    "print(data_for_model[data_for_model['Exited'] == 1]['Exited'].count())\n",
    "print(data_for_model[data_for_model['Exited'] == 0]['Exited'].count())"
   ]
  },
  {
   "cell_type": "markdown",
   "metadata": {},
   "source": [
    "В предоставленных данных очень сильный дисбаланс классов. Клиентов, которые остались, почти в 4 раза больше, чем клиентов, которые ушли."
   ]
  },
  {
   "cell_type": "markdown",
   "metadata": {},
   "source": [
    "Подберем наилучшую модель без учета дисбаланса классов."
   ]
  },
  {
   "cell_type": "code",
   "execution_count": 11,
   "metadata": {},
   "outputs": [
    {
     "name": "stdout",
     "output_type": "stream",
     "text": [
      "Лучшее количество итераций для логистической регрессии: 100\n",
      "F1 лучшей логистической регрессии: 0.3076923076923077\n",
      "AUC-ROC лучшей логистической регресси: 0.5859813774756133\n"
     ]
    }
   ],
   "source": [
    "best_f1_log_reg = 0\n",
    "best_iter = 0\n",
    "best_auc_roc_log_reg = 0\n",
    "for i in range(100, 200):\n",
    "    model = LogisticRegression(solver='liblinear', random_state=12345, max_iter=i)\n",
    "    model.fit(features_train, target_train)\n",
    "    predicted_valid = model.predict(features_valid)\n",
    "    f1 = f1_score(target_valid, predicted_valid)\n",
    "    auc_roc = roc_auc_score(target_valid, predicted_valid)\n",
    "    if f1 > best_f1_log_reg:\n",
    "        best_f1_log_reg = f1\n",
    "        best_iter = i\n",
    "        best_auc_roc_log_reg = auc_roc\n",
    "\n",
    "print('Лучшее количество итераций для логистической регрессии:', best_iter)\n",
    "print('F1 лучшей логистической регрессии:', best_f1_log_reg)\n",
    "print('AUC-ROC лучшей логистической регресси:', best_auc_roc_log_reg)"
   ]
  },
  {
   "cell_type": "code",
   "execution_count": 12,
   "metadata": {},
   "outputs": [
    {
     "name": "stdout",
     "output_type": "stream",
     "text": [
      "Глубина лучшего древа решений: 7\n",
      "F1 лучшего древа решений: 0.5924855491329479\n",
      "AUC-ROC лучшего древа решений: 0.7264139324071337\n"
     ]
    }
   ],
   "source": [
    "best_f1_tree = 0\n",
    "best_auc_roc_tree = 0\n",
    "best_depth = 0\n",
    "for depth in range(1, 50):\n",
    "    model = DecisionTreeClassifier(random_state=12345, max_depth=depth)\n",
    "    model.fit(features_train, target_train)\n",
    "    predicted_valid = model.predict(features_valid)\n",
    "    f1 = f1_score(target_valid, predicted_valid)\n",
    "    auc_roc = roc_auc_score(target_valid, predicted_valid)\n",
    "    if f1 > best_f1_tree:\n",
    "        best_f1_tree = f1\n",
    "        best_auc_roc_tree = auc_roc\n",
    "        best_depth = depth\n",
    "\n",
    "print('Глубина лучшего древа решений:', best_depth)\n",
    "print('F1 лучшего древа решений:', best_f1_tree)\n",
    "print('AUC-ROC лучшего древа решений:', best_auc_roc_tree)"
   ]
  },
  {
   "cell_type": "code",
   "execution_count": 13,
   "metadata": {},
   "outputs": [
    {
     "name": "stdout",
     "output_type": "stream",
     "text": [
      "Лучшее количество деревьев для случайного леса: 43\n",
      "F1 лучшего случайного леса: 0.6153846153846153\n",
      "AUC-ROC лучшего случайного леса: 0.7360577396787861\n"
     ]
    }
   ],
   "source": [
    "best_f1_forest = 0\n",
    "best_auc_roc_forest = 0\n",
    "best_est = 0\n",
    "for est in range(1, 50):\n",
    "    model = RandomForestClassifier(random_state=12345, n_estimators=est)\n",
    "    model.fit(features_train, target_train)\n",
    "    predicted_valid = model.predict(features_valid)\n",
    "    f1 = f1_score(target_valid, predicted_valid)\n",
    "    auc_roc = roc_auc_score(target_valid, predicted_valid)\n",
    "    if f1 > best_f1_forest:\n",
    "        best_f1_forest = f1\n",
    "        best_auc_roc_forest = auc_roc\n",
    "        best_est = est\n",
    "\n",
    "print('Лучшее количество деревьев для случайного леса:', best_est)\n",
    "print('F1 лучшего случайного леса:', best_f1_forest)\n",
    "print('AUC-ROC лучшего случайного леса:', best_auc_roc_forest)"
   ]
  },
  {
   "cell_type": "markdown",
   "metadata": {},
   "source": [
    "Наилучший результат среди моделей без учета дисбаланса классов показала модель случайного леса с количеством деревьев 43. F1 данной модели - 0.62, AUC-ROC - 0.73. "
   ]
  },
  {
   "cell_type": "markdown",
   "metadata": {},
   "source": [
    "## Борьба с дисбалансом"
   ]
  },
  {
   "cell_type": "markdown",
   "metadata": {},
   "source": [
    "Подберем наилучшие параметры для модели логистической регрессии с учетом дисбаланса классов. Оценивать модель будем метриками F1 и AUC-ROC."
   ]
  },
  {
   "cell_type": "code",
   "execution_count": 14,
   "metadata": {},
   "outputs": [
    {
     "name": "stdout",
     "output_type": "stream",
     "text": [
      "Лучшее количество итераций для логистической регрессии: 100\n",
      "F1 лучшей логистической регрессии: 0.5289982425307558\n",
      "AUC-ROC лучшей логистической регресси: 0.7341363681150852\n"
     ]
    }
   ],
   "source": [
    "best_f1_log_reg = 0\n",
    "best_iter = 0\n",
    "best_auc_roc_log_reg = 0\n",
    "for i in range(100, 200):\n",
    "    model = LogisticRegression(solver='liblinear', class_weight='balanced', random_state=12345, max_iter=i)\n",
    "    model.fit(features_train, target_train)\n",
    "    predicted_valid = model.predict(features_valid)\n",
    "    f1 = f1_score(target_valid, predicted_valid)\n",
    "    auc_roc = roc_auc_score(target_valid, predicted_valid)\n",
    "    if f1 > best_f1_log_reg:\n",
    "        best_f1_log_reg = f1\n",
    "        best_iter = i\n",
    "        best_auc_roc_log_reg = auc_roc\n",
    "\n",
    "print('Лучшее количество итераций для логистической регрессии:', best_iter)\n",
    "print('F1 лучшей логистической регрессии:', best_f1_log_reg)\n",
    "print('AUC-ROC лучшей логистической регресси:', best_auc_roc_log_reg)"
   ]
  },
  {
   "cell_type": "markdown",
   "metadata": {},
   "source": [
    "Лучший результат показала модель логистической регрессии с количеством итераций 100."
   ]
  },
  {
   "cell_type": "markdown",
   "metadata": {},
   "source": [
    "Подберем наилучшие параметры для модели древа решений с учетом дисбаланса классов. Оценивать модель будем метриками F1 и AUC-ROC."
   ]
  },
  {
   "cell_type": "code",
   "execution_count": 15,
   "metadata": {
    "scrolled": true
   },
   "outputs": [
    {
     "name": "stdout",
     "output_type": "stream",
     "text": [
      "Глубина лучшего древа решений: 6\n",
      "F1 лучшего древа решений: 0.575925925925926\n",
      "AUC-ROC лучшего древа решений: 0.7677480539954675\n"
     ]
    }
   ],
   "source": [
    "best_f1_tree = 0\n",
    "best_auc_roc_tree = 0\n",
    "best_depth = 0\n",
    "for depth in range(1, 50):\n",
    "    model = DecisionTreeClassifier(class_weight='balanced', random_state=12345, max_depth=depth)\n",
    "    model.fit(features_train, target_train)\n",
    "    predicted_valid = model.predict(features_valid)\n",
    "    f1 = f1_score(target_valid, predicted_valid)\n",
    "    auc_roc = roc_auc_score(target_valid, predicted_valid)\n",
    "    if f1 > best_f1_tree:\n",
    "        best_f1_tree = f1\n",
    "        best_auc_roc_tree = auc_roc\n",
    "        best_depth = depth\n",
    "\n",
    "print('Глубина лучшего древа решений:', best_depth)\n",
    "print('F1 лучшего древа решений:', best_f1_tree)\n",
    "print('AUC-ROC лучшего древа решений:', best_auc_roc_tree)"
   ]
  },
  {
   "cell_type": "markdown",
   "metadata": {},
   "source": [
    "Наилучший результат показала модель древа решений с глубиной 6."
   ]
  },
  {
   "cell_type": "markdown",
   "metadata": {},
   "source": [
    "Подберем наилучшие параметры для модели случайного леса с учетом дисбаланса классов. Оценивать модель будем метриками F1 и AUC-ROC."
   ]
  },
  {
   "cell_type": "code",
   "execution_count": 16,
   "metadata": {},
   "outputs": [
    {
     "name": "stdout",
     "output_type": "stream",
     "text": [
      "Лучшее количество деревьев для случайного леса: 9\n",
      "F1 лучшего случайного леса: 0.6042553191489363\n",
      "AUC-ROC лучшего случайного леса: 0.7346475022169672\n"
     ]
    }
   ],
   "source": [
    "best_f1_forest = 0\n",
    "best_auc_roc_forest = 0\n",
    "best_est = 0\n",
    "for est in range(1, 50):\n",
    "    model = RandomForestClassifier(class_weight='balanced', random_state=12345, n_estimators=est)\n",
    "    model.fit(features_train, target_train)\n",
    "    predicted_valid = model.predict(features_valid)\n",
    "    f1 = f1_score(target_valid, predicted_valid)\n",
    "    auc_roc = roc_auc_score(target_valid, predicted_valid)\n",
    "    if f1 > best_f1_forest:\n",
    "        best_f1_forest = f1\n",
    "        best_auc_roc_forest = auc_roc\n",
    "        best_est = est\n",
    "        best_auc_roc_forest = auc_roc\n",
    "\n",
    "print('Лучшее количество деревьев для случайного леса:', best_est)\n",
    "print('F1 лучшего случайного леса:', best_f1_forest)\n",
    "print('AUC-ROC лучшего случайного леса:', best_auc_roc_forest)"
   ]
  },
  {
   "cell_type": "markdown",
   "metadata": {},
   "source": [
    "Наилучший результат показала модель случайного леса с количеством деревьев 9."
   ]
  },
  {
   "cell_type": "markdown",
   "metadata": {},
   "source": [
    "**Среди всех моделей наилучший результат показала модель случайного леса с количеством деревьев 9. Посмотрим подробнее на результаты ее работы:**"
   ]
  },
  {
   "cell_type": "code",
   "execution_count": 17,
   "metadata": {},
   "outputs": [
    {
     "name": "stdout",
     "output_type": "stream",
     "text": [
      "F1: 0.6042553191489363\n",
      "AUC-ROC: 0.7346475022169672\n"
     ]
    },
    {
     "data": {
      "image/png": "[encoded data removed]",
      "text/plain": [
       "<Figure size 432x288 with 1 Axes>"
      ]
     },
     "metadata": {
      "needs_background": "light"
     },
     "output_type": "display_data"
    }
   ],
   "source": [
    "model = RandomForestClassifier(class_weight='balanced', random_state=12345, n_estimators=9)\n",
    "model.fit(features_train, target_train)\n",
    "predicted_valid = model.predict(features_valid)\n",
    "f1 = f1_score(target_valid, predicted_valid)\n",
    "auc_roc = roc_auc_score(target_valid, predicted_valid)\n",
    "probabilities = model.predict_proba(features_valid)\n",
    "probabilities_one = probabilities[:, 1]\n",
    "\n",
    "print('F1:', f1)\n",
    "print('AUC-ROC:', auc_roc)\n",
    "\n",
    "fpr, tpr, thresholds = roc_curve(target_valid, probabilities_one)\n",
    "plt.figure()\n",
    "plt.plot(fpr, tpr)\n",
    "plt.plot([0, 1], [0, 1], linestyle='--')\n",
    "plt.xlim([0.0, 1.0])\n",
    "plt.ylim([0.0, 1.0])\n",
    "plt.xlabel('False Positive Rate')\n",
    "plt.ylabel('True Positive Rate')\n",
    "plt.title('ROC-кривая')\n",
    "plt.show()"
   ]
  },
  {
   "cell_type": "markdown",
   "metadata": {},
   "source": [
    "Выбранная модель показала качественные результаты на валидационной выборке."
   ]
  },
  {
   "cell_type": "markdown",
   "metadata": {},
   "source": [
    "**Посмотрим, какие результаты будут показывать модели, если использовать для борьбы с дисбалансом классов метод увеличения выборки.**"
   ]
  },
  {
   "cell_type": "code",
   "execution_count": 18,
   "metadata": {},
   "outputs": [],
   "source": [
    "def upsample(features, target, repeat):\n",
    "    features_zeros = features[target == 0]\n",
    "    features_ones = features[target == 1]\n",
    "    target_zeros = target[target == 0]\n",
    "    target_ones = target[target == 1]\n",
    "\n",
    "    features_upsampled = pd.concat([features_zeros] + [features_ones] * repeat)\n",
    "    target_upsampled = pd.concat([target_zeros] + [target_ones] * repeat)\n",
    "    \n",
    "    features_upsampled, target_upsampled = shuffle(\n",
    "        features_upsampled, target_upsampled, random_state=12345)\n",
    "    \n",
    "    return features_upsampled, target_upsampled\n",
    "\n",
    "features_upsampled, target_upsampled = upsample(features_train, target_train, 4)"
   ]
  },
  {
   "cell_type": "code",
   "execution_count": 19,
   "metadata": {},
   "outputs": [
    {
     "name": "stdout",
     "output_type": "stream",
     "text": [
      "Лучшее количество итераций для логистической регрессии: 100\n",
      "F1 лучшей логистической регрессии: 0.5246753246753246\n",
      "AUC-ROC лучшей логистической регресси: 0.7318762932308602\n"
     ]
    }
   ],
   "source": [
    "best_f1_log_reg = 0\n",
    "best_iter = 0\n",
    "best_auc_roc_log_reg = 0\n",
    "for iter in range(100, 200):\n",
    "    model = LogisticRegression(solver='liblinear', random_state=12345, max_iter=iter)\n",
    "    model.fit(features_upsampled, target_upsampled)\n",
    "    predicted_valid = model.predict(features_valid)\n",
    "    f1 = f1_score(target_valid, predicted_valid)\n",
    "    auc_roc = roc_auc_score(target_valid, predicted_valid)\n",
    "    if f1 > best_f1_log_reg:\n",
    "        best_f1_log_reg = f1\n",
    "        best_iter = iter\n",
    "        best_auc_roc_log_reg = auc_roc\n",
    "\n",
    "print('Лучшее количество итераций для логистической регрессии:', best_iter)\n",
    "print('F1 лучшей логистической регрессии:', best_f1_log_reg)\n",
    "print('AUC-ROC лучшей логистической регресси:', best_auc_roc_log_reg)"
   ]
  },
  {
   "cell_type": "code",
   "execution_count": 20,
   "metadata": {},
   "outputs": [
    {
     "name": "stdout",
     "output_type": "stream",
     "text": [
      "Глубина лучшего древа решений: 6\n",
      "F1 лучшего древа решений: 0.575925925925926\n",
      "AUC-ROC лучшего древа решений: 0.7677480539954675\n"
     ]
    }
   ],
   "source": [
    "best_f1_tree = 0\n",
    "best_auc_roc_tree = 0\n",
    "best_depth = 0\n",
    "for depth in range(1, 50):\n",
    "    model = DecisionTreeClassifier(random_state=12345, max_depth=depth)\n",
    "    model.fit(features_upsampled, target_upsampled)\n",
    "    predicted_valid = model.predict(features_valid)\n",
    "    f1 = f1_score(target_valid, predicted_valid)\n",
    "    auc_roc = roc_auc_score(target_valid, predicted_valid)\n",
    "    if f1 > best_f1_tree:\n",
    "        best_f1_tree = f1\n",
    "        best_auc_roc_tree = auc_roc\n",
    "        best_depth = depth\n",
    "\n",
    "print('Глубина лучшего древа решений:', best_depth)\n",
    "print('F1 лучшего древа решений:', best_f1_tree)\n",
    "print('AUC-ROC лучшего древа решений:', best_auc_roc_tree)"
   ]
  },
  {
   "cell_type": "code",
   "execution_count": 21,
   "metadata": {},
   "outputs": [
    {
     "name": "stdout",
     "output_type": "stream",
     "text": [
      "Лучшее количество деревьев для случайного леса: 35\n",
      "F1 лучшего случайного леса: 0.6133682830930538\n",
      "AUC-ROC лучшего случайного леса: 0.7487621933195389\n"
     ]
    }
   ],
   "source": [
    "best_f1_forest = 0\n",
    "best_auc_roc_forest = 0\n",
    "best_est = 0\n",
    "for est in range(1, 50):\n",
    "    model = RandomForestClassifier(random_state=12345, n_estimators=est)\n",
    "    model.fit(features_upsampled, target_upsampled)\n",
    "    predicted_valid = model.predict(features_valid)\n",
    "    f1 = f1_score(target_valid, predicted_valid)\n",
    "    auc_roc = roc_auc_score(target_valid, predicted_valid)\n",
    "    if f1 > best_f1_forest:\n",
    "        best_f1_forest = f1\n",
    "        best_auc_roc_forest = auc_roc\n",
    "        best_est = est\n",
    "\n",
    "print('Лучшее количество деревьев для случайного леса:', best_est)\n",
    "print('F1 лучшего случайного леса:', best_f1_forest)\n",
    "print('AUC-ROC лучшего случайного леса:', best_auc_roc_forest)"
   ]
  },
  {
   "cell_type": "markdown",
   "metadata": {},
   "source": [
    "**Посмотрим, какие результаты будет показывать модель, если использовать для борьбы с дисбалансом классов метод уменьшения выборки.**"
   ]
  },
  {
   "cell_type": "code",
   "execution_count": 22,
   "metadata": {},
   "outputs": [],
   "source": [
    "def downsample(features, target, fraction):\n",
    "    features_zeros = features[target == 0]\n",
    "    features_ones = features[target == 1]\n",
    "    target_zeros = target[target == 0]\n",
    "    target_ones = target[target == 1]\n",
    "    features_downsampled = pd.concat(\n",
    "        [features_zeros.sample(frac=fraction, random_state=12345)] + [features_ones])\n",
    "    target_downsampled = pd.concat(\n",
    "        [target_zeros.sample(frac=fraction, random_state=12345)] + [target_ones])\n",
    "    features_downsampled, target_downsampled = shuffle(\n",
    "        features_downsampled, target_downsampled, random_state=12345)\n",
    "    return features_downsampled, target_downsampled\n",
    "\n",
    "features_downsampled, target_downsampled = downsample(features_train, target_train, 0.25)"
   ]
  },
  {
   "cell_type": "code",
   "execution_count": 23,
   "metadata": {},
   "outputs": [
    {
     "name": "stdout",
     "output_type": "stream",
     "text": [
      "Лучшее количество итераций для логистической регрессии: 100\n",
      "F1 лучшей логистической регрессии: 0.5275862068965517\n",
      "AUC-ROC лучшей логистической регресси: 0.7349246231155779\n"
     ]
    }
   ],
   "source": [
    "best_f1_log_reg = 0\n",
    "best_iter = 0\n",
    "best_auc_roc_log_reg = 0\n",
    "for i in range(100, 200):\n",
    "    model = LogisticRegression(solver='liblinear', random_state=12345, max_iter=i)\n",
    "    model.fit(features_downsampled, target_downsampled)\n",
    "    predicted_valid = model.predict(features_valid)\n",
    "    f1 = f1_score(target_valid, predicted_valid)\n",
    "    auc_roc = roc_auc_score(target_valid, predicted_valid)\n",
    "    if f1 > best_f1_log_reg:\n",
    "        best_f1_log_reg = f1\n",
    "        best_iter = i\n",
    "        best_auc_roc_log_reg = auc_roc\n",
    "\n",
    "print('Лучшее количество итераций для логистической регрессии:', best_iter)\n",
    "print('F1 лучшей логистической регрессии:', best_f1_log_reg)\n",
    "print('AUC-ROC лучшей логистической регресси:', best_auc_roc_log_reg)"
   ]
  },
  {
   "cell_type": "code",
   "execution_count": 24,
   "metadata": {},
   "outputs": [
    {
     "name": "stdout",
     "output_type": "stream",
     "text": [
      "Глубина лучшего древа решений: 6\n",
      "F1 лучшего древа решений: 0.5944919278252612\n",
      "AUC-ROC лучшего древа решений: 0.7793070745886295\n"
     ]
    }
   ],
   "source": [
    "best_f1_tree = 0\n",
    "best_auc_roc_tree = 0\n",
    "best_depth = 0\n",
    "for depth in range(1, 50):\n",
    "    model = DecisionTreeClassifier(random_state=12345, max_depth=depth)\n",
    "    model.fit(features_downsampled, target_downsampled)\n",
    "    predicted_valid = model.predict(features_valid)\n",
    "    f1 = f1_score(target_valid, predicted_valid)\n",
    "    auc_roc = roc_auc_score(target_valid, predicted_valid)\n",
    "    if f1 > best_f1_tree:\n",
    "        best_f1_tree = f1\n",
    "        best_auc_roc_tree = auc_roc\n",
    "        best_depth = depth\n",
    "\n",
    "print('Глубина лучшего древа решений:', best_depth)\n",
    "print('F1 лучшего древа решений:', best_f1_tree)\n",
    "print('AUC-ROC лучшего древа решений:', best_auc_roc_tree)"
   ]
  },
  {
   "cell_type": "code",
   "execution_count": 25,
   "metadata": {},
   "outputs": [
    {
     "name": "stdout",
     "output_type": "stream",
     "text": [
      "Лучшее количество деревьев для случайного леса: 39\n",
      "F1 лучшего случайного леса: 0.6041275797373358\n",
      "AUC-ROC лучшего случайного леса: 0.7890802049463\n"
     ]
    }
   ],
   "source": [
    "best_f1_forest = 0\n",
    "best_auc_roc_forest = 0\n",
    "best_est = 0\n",
    "for est in range(1, 50):\n",
    "    model = RandomForestClassifier(random_state=12345, n_estimators=est)\n",
    "    model.fit(features_downsampled, target_downsampled)\n",
    "    predicted_valid = model.predict(features_valid)\n",
    "    f1 = f1_score(target_valid, predicted_valid)\n",
    "    auc_roc = roc_auc_score(target_valid, predicted_valid)\n",
    "    if f1 > best_f1_forest:\n",
    "        best_f1_forest = f1\n",
    "        best_auc_roc_forest = auc_roc\n",
    "        best_est = est\n",
    "\n",
    "print('Лучшее количество деревьев для случайного леса:', best_est)\n",
    "print('F1 лучшего случайного леса:', best_f1_forest)\n",
    "print('AUC-ROC лучшего случайного леса:', best_auc_roc_forest)"
   ]
  },
  {
   "cell_type": "markdown",
   "metadata": {},
   "source": [
    "Наилучший результат среди всех построенных моделей показала модель случайного леса с количеством деревьев 35 при использовании метода увеличения выборки для борьбы с дисбалансом классов. F1 данной модели на валидационной выборке - 0.61, а AUC-ROC - 0.75. Подберем еще один гиперпараметр - глубину древа, чтобы улучшить данные показатели."
   ]
  },
  {
   "cell_type": "code",
   "execution_count": 26,
   "metadata": {},
   "outputs": [
    {
     "name": "stdout",
     "output_type": "stream",
     "text": [
      "Лучшее количество деревьев для случайного леса: 37\n",
      "Лучшая глубина для случайного леса: 10\n",
      "F1 лучшего случайного леса: 0.6513157894736842\n",
      "AUC-ROC лучшего случайного леса: 0.7989580254212237\n"
     ]
    }
   ],
   "source": [
    "best_f1_forest = 0\n",
    "best_auc_roc_forest = 0\n",
    "best_est = 0\n",
    "best_max_depth = 0\n",
    "\n",
    "for est in range(10, 50):\n",
    "    for depth in range(10, 20):\n",
    "        model = RandomForestClassifier(random_state=12345, n_estimators=est, max_depth=depth)\n",
    "        model.fit(features_upsampled, target_upsampled)\n",
    "        predicted_valid = model.predict(features_valid)\n",
    "        f1 = f1_score(target_valid, predicted_valid)\n",
    "        auc_roc = roc_auc_score(target_valid, predicted_valid)\n",
    "        \n",
    "        if f1 > best_f1_forest:\n",
    "            best_f1_forest = f1\n",
    "            best_auc_roc_forest = auc_roc\n",
    "            best_est = est\n",
    "            best_max_depth = depth\n",
    "\n",
    "print('Лучшее количество деревьев для случайного леса:', best_est)\n",
    "print('Лучшая глубина для случайного леса:', best_max_depth)\n",
    "print('F1 лучшего случайного леса:', best_f1_forest)\n",
    "print('AUC-ROC лучшего случайного леса:', best_auc_roc_forest)"
   ]
  },
  {
   "cell_type": "markdown",
   "metadata": {},
   "source": [
    "Была подобрана лучшая глубина древа для данной модели - 10 лучшее для этой глубины количество деревьев - 37. Посмотрим на работу модели с подобранными гиперпараметрами на валидационной выборке."
   ]
  },
  {
   "cell_type": "code",
   "execution_count": 28,
   "metadata": {},
   "outputs": [
    {
     "name": "stdout",
     "output_type": "stream",
     "text": [
      "F1: 0.6513157894736842\n",
      "AUC-ROC: 0.7989580254212237\n"
     ]
    },
    {
     "data": {
      "text/plain": [
       "Text(0.5, 1.0, 'ROC-кривая')"
      ]
     },
     "execution_count": 28,
     "metadata": {},
     "output_type": "execute_result"
    },
    {
     "data": {
      "image/png": "[encoded data removed]",
      "text/plain": [
       "<Figure size 432x288 with 1 Axes>"
      ]
     },
     "metadata": {
      "needs_background": "light"
     },
     "output_type": "display_data"
    }
   ],
   "source": [
    "model = RandomForestClassifier(random_state=12345, n_estimators=37, max_depth=10)\n",
    "model.fit(features_upsampled, target_upsampled)\n",
    "predicted_valid = model.predict(features_valid)\n",
    "f1 = f1_score(target_valid, predicted_valid)\n",
    "auc_roc = roc_auc_score(target_valid, predicted_valid)\n",
    "probabilities = model.predict_proba(features_valid)\n",
    "probabilities_one = probabilities[:, 1]\n",
    "\n",
    "print('F1:', f1)\n",
    "print('AUC-ROC:', auc_roc)\n",
    "\n",
    "fpr, tpr, thresholds = roc_curve(target_valid, probabilities_one)\n",
    "plt.figure()\n",
    "plt.plot(fpr, tpr)\n",
    "plt.plot([0, 1], [0, 1], linestyle='--')\n",
    "plt.xlim([0.0, 1.0])\n",
    "plt.ylim([0.0, 1.0])\n",
    "plt.xlabel('False Positive Rate')\n",
    "plt.ylabel('True Positive Rate')\n",
    "plt.title('ROC-кривая')"
   ]
  },
  {
   "cell_type": "markdown",
   "metadata": {},
   "source": [
    "Выбранная модель показала качественные результаты: F1 - 0.65, AUC-ROC - 0.8."
   ]
  },
  {
   "cell_type": "markdown",
   "metadata": {},
   "source": [
    "## Тестирование модели"
   ]
  },
  {
   "cell_type": "markdown",
   "metadata": {},
   "source": [
    "Проведем финальное тестирование выбранной модели на тестовой выборке."
   ]
  },
  {
   "cell_type": "code",
   "execution_count": 29,
   "metadata": {},
   "outputs": [
    {
     "name": "stdout",
     "output_type": "stream",
     "text": [
      "F1: 0.5973154362416108\n",
      "AUC-ROC: 0.75895772505942\n"
     ]
    },
    {
     "data": {
      "text/plain": [
       "Text(0.5, 1.0, 'ROC-кривая')"
      ]
     },
     "execution_count": 29,
     "metadata": {},
     "output_type": "execute_result"
    },
    {
     "data": {
      "image/png": "[encoded data removed]",
      "text/plain": [
       "<Figure size 432x288 with 1 Axes>"
      ]
     },
     "metadata": {
      "needs_background": "light"
     },
     "output_type": "display_data"
    }
   ],
   "source": [
    "model = RandomForestClassifier(random_state=12345, n_estimators=37, max_depth=10)\n",
    "model.fit(features_upsampled, target_upsampled)\n",
    "predicted_test = model.predict(features_test)\n",
    "f1 = f1_score(target_test, predicted_test)\n",
    "auc_roc = roc_auc_score(target_test, predicted_test)\n",
    "probabilities = model.predict_proba(features_test)\n",
    "probabilities_one = probabilities[:, 1]\n",
    "\n",
    "print('F1:', f1)\n",
    "print('AUC-ROC:', auc_roc)\n",
    "\n",
    "fpr, tpr, thresholds = roc_curve(target_test, probabilities_one)\n",
    "plt.figure()\n",
    "plt.plot(fpr, tpr)\n",
    "plt.plot([0, 1], [0, 1], linestyle='--')\n",
    "plt.xlim([0.0, 1.0])\n",
    "plt.ylim([0.0, 1.0])\n",
    "plt.xlabel('False Positive Rate')\n",
    "plt.ylabel('True Positive Rate')\n",
    "plt.title('ROC-кривая')"
   ]
  },
  {
   "cell_type": "markdown",
   "metadata": {},
   "source": [
    "Финальное тестирование прошло успешно. На тестовой выборке модель показала F1 - 0.6, AUC-ROC - 0.76."
   ]
  },
  {
   "cell_type": "markdown",
   "metadata": {},
   "source": [
    "**Финальный вывод:**  \n",
    "В ходе работы были исследованы полученные данные, дисбаланс классов. Были построены модели разных типов без учета дисбаланса классов, а также используя три способа работы с лисбалансом классов. В результате была выбрана модель, показавшая наилучший результат - это модель случайного леса с использованием увеличения выборки как метода борьбы с дисбалансом классов, с количеством деревьев 35 и максимальной глубиной 10. На валидационной выборке данная модель показала F1 - 0.65, AUC-ROC - 0.8, а на тестовой F1 - 0.6, AUC-ROC - 0.76."
   ]
  }
 ],
 "metadata": {
  "ExecuteTimeLog": [
   {
    "duration": 397,
    "start_time": "2022-07-24T10:50:44.952Z"
   },
   {
    "duration": 91,
    "start_time": "2022-07-24T10:51:40.006Z"
   },
   {
    "duration": 40,
    "start_time": "2022-07-24T10:52:09.235Z"
   },
   {
    "duration": 13,
    "start_time": "2022-07-24T10:52:18.863Z"
   },
   {
    "duration": 27,
    "start_time": "2022-07-24T10:52:40.723Z"
   },
   {
    "duration": 376,
    "start_time": "2022-07-24T10:56:35.151Z"
   },
   {
    "duration": 42,
    "start_time": "2022-07-24T10:56:35.529Z"
   },
   {
    "duration": 49,
    "start_time": "2022-07-24T10:56:35.574Z"
   },
   {
    "duration": 17,
    "start_time": "2022-07-24T10:57:24.204Z"
   },
   {
    "duration": 1072,
    "start_time": "2022-07-24T10:57:53.406Z"
   },
   {
    "duration": 8,
    "start_time": "2022-07-24T10:58:04.045Z"
   },
   {
    "duration": 20,
    "start_time": "2022-07-24T10:58:43.803Z"
   },
   {
    "duration": 8,
    "start_time": "2022-07-24T10:59:46.039Z"
   },
   {
    "duration": 12,
    "start_time": "2022-07-24T11:00:21.914Z"
   },
   {
    "duration": 11,
    "start_time": "2022-07-24T11:00:31.297Z"
   },
   {
    "duration": 383,
    "start_time": "2022-07-24T11:00:37.660Z"
   },
   {
    "duration": 45,
    "start_time": "2022-07-24T11:00:38.045Z"
   },
   {
    "duration": 48,
    "start_time": "2022-07-24T11:00:38.092Z"
   },
   {
    "duration": 28,
    "start_time": "2022-07-24T11:00:38.142Z"
   },
   {
    "duration": 13,
    "start_time": "2022-07-24T11:01:13.889Z"
   },
   {
    "duration": 61,
    "start_time": "2022-07-24T11:02:10.366Z"
   },
   {
    "duration": 7,
    "start_time": "2022-07-24T11:02:56.284Z"
   },
   {
    "duration": 6,
    "start_time": "2022-07-24T11:03:29.999Z"
   },
   {
    "duration": 9,
    "start_time": "2022-07-24T11:03:36.421Z"
   },
   {
    "duration": 6,
    "start_time": "2022-07-24T11:03:53.625Z"
   },
   {
    "duration": 6,
    "start_time": "2022-07-24T11:04:15.567Z"
   },
   {
    "duration": 7,
    "start_time": "2022-07-24T11:04:44.546Z"
   },
   {
    "duration": 6,
    "start_time": "2022-07-24T11:05:22.782Z"
   },
   {
    "duration": 7,
    "start_time": "2022-07-24T11:05:43.147Z"
   },
   {
    "duration": 7,
    "start_time": "2022-07-24T11:06:03.125Z"
   },
   {
    "duration": 12,
    "start_time": "2022-07-24T11:06:21.910Z"
   },
   {
    "duration": 8,
    "start_time": "2022-07-24T11:06:42.564Z"
   },
   {
    "duration": 371,
    "start_time": "2022-07-24T11:07:13.452Z"
   },
   {
    "duration": 42,
    "start_time": "2022-07-24T11:07:13.825Z"
   },
   {
    "duration": 29,
    "start_time": "2022-07-24T11:07:13.868Z"
   },
   {
    "duration": 6,
    "start_time": "2022-07-24T11:07:13.900Z"
   },
   {
    "duration": 34,
    "start_time": "2022-07-24T11:07:13.908Z"
   },
   {
    "duration": 10,
    "start_time": "2022-07-24T11:07:13.944Z"
   },
   {
    "duration": 77,
    "start_time": "2022-07-24T11:17:15.376Z"
   },
   {
    "duration": 10,
    "start_time": "2022-07-24T11:17:24.842Z"
   },
   {
    "duration": 954,
    "start_time": "2022-07-24T11:17:40.547Z"
   },
   {
    "duration": 399,
    "start_time": "2022-07-24T11:17:52.947Z"
   },
   {
    "duration": 42,
    "start_time": "2022-07-24T11:17:53.348Z"
   },
   {
    "duration": 49,
    "start_time": "2022-07-24T11:17:53.392Z"
   },
   {
    "duration": 6,
    "start_time": "2022-07-24T11:17:53.444Z"
   },
   {
    "duration": 14,
    "start_time": "2022-07-24T11:17:53.452Z"
   },
   {
    "duration": 8,
    "start_time": "2022-07-24T11:17:53.468Z"
   },
   {
    "duration": 1178,
    "start_time": "2022-07-24T11:17:53.478Z"
   },
   {
    "duration": 413,
    "start_time": "2022-07-24T11:18:58.926Z"
   },
   {
    "duration": 42,
    "start_time": "2022-07-24T11:18:59.341Z"
   },
   {
    "duration": 40,
    "start_time": "2022-07-24T11:18:59.384Z"
   },
   {
    "duration": 41,
    "start_time": "2022-07-24T11:18:59.427Z"
   },
   {
    "duration": 36,
    "start_time": "2022-07-24T11:18:59.470Z"
   },
   {
    "duration": 44,
    "start_time": "2022-07-24T11:18:59.507Z"
   },
   {
    "duration": 1204,
    "start_time": "2022-07-24T11:18:59.553Z"
   },
   {
    "duration": 399,
    "start_time": "2022-07-24T11:19:15.745Z"
   },
   {
    "duration": 44,
    "start_time": "2022-07-24T11:19:16.150Z"
   },
   {
    "duration": 42,
    "start_time": "2022-07-24T11:19:16.196Z"
   },
   {
    "duration": 29,
    "start_time": "2022-07-24T11:19:16.242Z"
   },
   {
    "duration": 27,
    "start_time": "2022-07-24T11:19:16.273Z"
   },
   {
    "duration": 50,
    "start_time": "2022-07-24T11:19:16.301Z"
   },
   {
    "duration": 1161,
    "start_time": "2022-07-24T11:19:26.237Z"
   },
   {
    "duration": 436,
    "start_time": "2022-07-24T11:20:05.487Z"
   },
   {
    "duration": 53,
    "start_time": "2022-07-24T11:20:05.925Z"
   },
   {
    "duration": 33,
    "start_time": "2022-07-24T11:20:05.980Z"
   },
   {
    "duration": 8,
    "start_time": "2022-07-24T11:20:06.015Z"
   },
   {
    "duration": 35,
    "start_time": "2022-07-24T11:20:06.025Z"
   },
   {
    "duration": 9,
    "start_time": "2022-07-24T11:20:06.061Z"
   },
   {
    "duration": 16,
    "start_time": "2022-07-24T11:20:06.071Z"
   },
   {
    "duration": 22,
    "start_time": "2022-07-24T11:20:17.191Z"
   },
   {
    "duration": 196,
    "start_time": "2022-07-24T11:23:10.284Z"
   },
   {
    "duration": 96,
    "start_time": "2022-07-24T11:23:21.837Z"
   },
   {
    "duration": 74,
    "start_time": "2022-07-24T11:23:56.603Z"
   },
   {
    "duration": 65,
    "start_time": "2022-07-24T11:24:46.530Z"
   },
   {
    "duration": 8,
    "start_time": "2022-07-24T11:30:45.584Z"
   },
   {
    "duration": 55,
    "start_time": "2022-07-24T11:30:53.247Z"
   },
   {
    "duration": 185,
    "start_time": "2022-07-24T11:31:17.167Z"
   },
   {
    "duration": 47,
    "start_time": "2022-07-24T11:31:31.979Z"
   },
   {
    "duration": 35,
    "start_time": "2022-07-24T11:35:32.402Z"
   },
   {
    "duration": 72,
    "start_time": "2022-07-24T11:35:38.745Z"
   },
   {
    "duration": 52,
    "start_time": "2022-07-24T11:35:46.084Z"
   },
   {
    "duration": 421,
    "start_time": "2022-07-24T11:35:54.452Z"
   },
   {
    "duration": 47,
    "start_time": "2022-07-24T11:35:54.875Z"
   },
   {
    "duration": 35,
    "start_time": "2022-07-24T11:35:54.925Z"
   },
   {
    "duration": 6,
    "start_time": "2022-07-24T11:35:54.962Z"
   },
   {
    "duration": 24,
    "start_time": "2022-07-24T11:35:54.970Z"
   },
   {
    "duration": 32,
    "start_time": "2022-07-24T11:35:54.996Z"
   },
   {
    "duration": 224,
    "start_time": "2022-07-24T11:35:55.030Z"
   },
   {
    "duration": 849,
    "start_time": "2022-07-24T11:35:55.256Z"
   },
   {
    "duration": 91,
    "start_time": "2022-07-24T11:36:24.582Z"
   },
   {
    "duration": 459,
    "start_time": "2022-07-24T11:36:33.102Z"
   },
   {
    "duration": 42,
    "start_time": "2022-07-24T11:36:33.563Z"
   },
   {
    "duration": 38,
    "start_time": "2022-07-24T11:36:33.607Z"
   },
   {
    "duration": 6,
    "start_time": "2022-07-24T11:36:33.647Z"
   },
   {
    "duration": 21,
    "start_time": "2022-07-24T11:36:33.656Z"
   },
   {
    "duration": 9,
    "start_time": "2022-07-24T11:36:33.679Z"
   },
   {
    "duration": 240,
    "start_time": "2022-07-24T11:36:33.690Z"
   },
   {
    "duration": 1170,
    "start_time": "2022-07-24T11:36:33.933Z"
   },
   {
    "duration": 851,
    "start_time": "2022-07-24T11:37:27.070Z"
   },
   {
    "duration": 32,
    "start_time": "2022-07-24T11:48:43.225Z"
   },
   {
    "duration": 13,
    "start_time": "2022-07-24T11:48:58.627Z"
   },
   {
    "duration": 397,
    "start_time": "2022-07-24T11:51:10.926Z"
   },
   {
    "duration": 43,
    "start_time": "2022-07-24T11:51:11.325Z"
   },
   {
    "duration": 31,
    "start_time": "2022-07-24T11:51:11.370Z"
   },
   {
    "duration": 23,
    "start_time": "2022-07-24T11:51:11.403Z"
   },
   {
    "duration": 22,
    "start_time": "2022-07-24T11:51:11.430Z"
   },
   {
    "duration": 14,
    "start_time": "2022-07-24T11:51:11.454Z"
   },
   {
    "duration": 253,
    "start_time": "2022-07-24T11:51:11.471Z"
   },
   {
    "duration": 43,
    "start_time": "2022-07-24T11:51:11.727Z"
   },
   {
    "duration": 856,
    "start_time": "2022-07-24T12:01:24.177Z"
   },
   {
    "duration": 1184,
    "start_time": "2022-07-24T12:01:28.654Z"
   },
   {
    "duration": 43,
    "start_time": "2022-07-24T12:01:29.840Z"
   },
   {
    "duration": 47,
    "start_time": "2022-07-24T12:01:29.884Z"
   },
   {
    "duration": 8,
    "start_time": "2022-07-24T12:01:29.937Z"
   },
   {
    "duration": 20,
    "start_time": "2022-07-24T12:01:29.947Z"
   },
   {
    "duration": 10,
    "start_time": "2022-07-24T12:01:29.969Z"
   },
   {
    "duration": 263,
    "start_time": "2022-07-24T12:01:29.981Z"
   },
   {
    "duration": 41,
    "start_time": "2022-07-24T12:01:30.246Z"
   },
   {
    "duration": 5,
    "start_time": "2022-07-24T12:03:36.329Z"
   },
   {
    "duration": 14,
    "start_time": "2022-07-24T12:05:41.223Z"
   },
   {
    "duration": 1154,
    "start_time": "2022-07-24T12:05:45.752Z"
   },
   {
    "duration": 57,
    "start_time": "2022-07-24T12:05:46.907Z"
   },
   {
    "duration": 32,
    "start_time": "2022-07-24T12:05:46.966Z"
   },
   {
    "duration": 8,
    "start_time": "2022-07-24T12:05:47.000Z"
   },
   {
    "duration": 46,
    "start_time": "2022-07-24T12:05:47.013Z"
   },
   {
    "duration": 8,
    "start_time": "2022-07-24T12:05:47.060Z"
   },
   {
    "duration": 253,
    "start_time": "2022-07-24T12:05:47.070Z"
   },
   {
    "duration": 42,
    "start_time": "2022-07-24T12:05:47.325Z"
   },
   {
    "duration": 13,
    "start_time": "2022-07-24T12:05:47.369Z"
   },
   {
    "duration": 1130,
    "start_time": "2022-07-24T12:06:09.145Z"
   },
   {
    "duration": 49,
    "start_time": "2022-07-24T12:06:10.278Z"
   },
   {
    "duration": 33,
    "start_time": "2022-07-24T12:06:10.329Z"
   },
   {
    "duration": 6,
    "start_time": "2022-07-24T12:06:10.364Z"
   },
   {
    "duration": 20,
    "start_time": "2022-07-24T12:06:10.372Z"
   },
   {
    "duration": 24,
    "start_time": "2022-07-24T12:06:10.394Z"
   },
   {
    "duration": 237,
    "start_time": "2022-07-24T12:06:10.419Z"
   },
   {
    "duration": 40,
    "start_time": "2022-07-24T12:06:10.658Z"
   },
   {
    "duration": 28,
    "start_time": "2022-07-24T12:06:10.700Z"
   },
   {
    "duration": 113,
    "start_time": "2022-07-24T12:12:54.891Z"
   },
   {
    "duration": 1072,
    "start_time": "2022-07-24T12:13:07.981Z"
   },
   {
    "duration": 41,
    "start_time": "2022-07-24T12:13:09.055Z"
   },
   {
    "duration": 36,
    "start_time": "2022-07-24T12:13:09.097Z"
   },
   {
    "duration": 6,
    "start_time": "2022-07-24T12:13:09.135Z"
   },
   {
    "duration": 12,
    "start_time": "2022-07-24T12:13:09.143Z"
   },
   {
    "duration": 7,
    "start_time": "2022-07-24T12:13:09.156Z"
   },
   {
    "duration": 237,
    "start_time": "2022-07-24T12:13:09.164Z"
   },
   {
    "duration": 41,
    "start_time": "2022-07-24T12:13:09.402Z"
   },
   {
    "duration": 125,
    "start_time": "2022-07-24T12:13:09.445Z"
   },
   {
    "duration": 12,
    "start_time": "2022-07-24T12:13:54.741Z"
   },
   {
    "duration": 1082,
    "start_time": "2022-07-24T12:13:58.046Z"
   },
   {
    "duration": 45,
    "start_time": "2022-07-24T12:13:59.130Z"
   },
   {
    "duration": 47,
    "start_time": "2022-07-24T12:13:59.178Z"
   },
   {
    "duration": 6,
    "start_time": "2022-07-24T12:13:59.227Z"
   },
   {
    "duration": 14,
    "start_time": "2022-07-24T12:13:59.236Z"
   },
   {
    "duration": 7,
    "start_time": "2022-07-24T12:13:59.252Z"
   },
   {
    "duration": 232,
    "start_time": "2022-07-24T12:13:59.261Z"
   },
   {
    "duration": 46,
    "start_time": "2022-07-24T12:13:59.495Z"
   },
   {
    "duration": 121,
    "start_time": "2022-07-24T12:13:59.543Z"
   },
   {
    "duration": 18,
    "start_time": "2022-07-24T12:14:17.579Z"
   },
   {
    "duration": 1067,
    "start_time": "2022-07-24T12:14:24.170Z"
   },
   {
    "duration": 44,
    "start_time": "2022-07-24T12:14:25.239Z"
   },
   {
    "duration": 43,
    "start_time": "2022-07-24T12:14:25.285Z"
   },
   {
    "duration": 6,
    "start_time": "2022-07-24T12:14:25.330Z"
   },
   {
    "duration": 14,
    "start_time": "2022-07-24T12:14:25.338Z"
   },
   {
    "duration": 7,
    "start_time": "2022-07-24T12:14:25.354Z"
   },
   {
    "duration": 240,
    "start_time": "2022-07-24T12:14:25.362Z"
   },
   {
    "duration": 46,
    "start_time": "2022-07-24T12:14:25.603Z"
   },
   {
    "duration": 17,
    "start_time": "2022-07-24T12:14:25.651Z"
   },
   {
    "duration": 13,
    "start_time": "2022-07-24T12:14:36.285Z"
   },
   {
    "duration": 1165,
    "start_time": "2022-07-24T12:14:41.290Z"
   },
   {
    "duration": 43,
    "start_time": "2022-07-24T12:14:42.458Z"
   },
   {
    "duration": 40,
    "start_time": "2022-07-24T12:14:42.502Z"
   },
   {
    "duration": 8,
    "start_time": "2022-07-24T12:14:42.544Z"
   },
   {
    "duration": 18,
    "start_time": "2022-07-24T12:14:42.554Z"
   },
   {
    "duration": 11,
    "start_time": "2022-07-24T12:14:42.575Z"
   },
   {
    "duration": 227,
    "start_time": "2022-07-24T12:14:42.610Z"
   },
   {
    "duration": 47,
    "start_time": "2022-07-24T12:14:42.839Z"
   },
   {
    "duration": 36,
    "start_time": "2022-07-24T12:14:42.888Z"
   },
   {
    "duration": 1107,
    "start_time": "2022-07-25T19:50:32.688Z"
   },
   {
    "duration": 77,
    "start_time": "2022-07-25T19:50:33.797Z"
   },
   {
    "duration": 31,
    "start_time": "2022-07-25T19:50:33.875Z"
   },
   {
    "duration": 6,
    "start_time": "2022-07-25T19:50:33.908Z"
   },
   {
    "duration": 15,
    "start_time": "2022-07-25T19:50:33.916Z"
   },
   {
    "duration": 7,
    "start_time": "2022-07-25T19:50:33.932Z"
   },
   {
    "duration": 231,
    "start_time": "2022-07-25T19:50:33.940Z"
   },
   {
    "duration": 39,
    "start_time": "2022-07-25T19:50:34.172Z"
   },
   {
    "duration": 18,
    "start_time": "2022-07-25T19:50:34.213Z"
   },
   {
    "duration": 43,
    "start_time": "2022-07-25T19:54:31.906Z"
   },
   {
    "duration": 1064,
    "start_time": "2022-07-25T19:58:26.423Z"
   },
   {
    "duration": 40,
    "start_time": "2022-07-25T19:58:27.489Z"
   },
   {
    "duration": 31,
    "start_time": "2022-07-25T19:58:27.530Z"
   },
   {
    "duration": 6,
    "start_time": "2022-07-25T19:58:27.562Z"
   },
   {
    "duration": 15,
    "start_time": "2022-07-25T19:58:27.569Z"
   },
   {
    "duration": 7,
    "start_time": "2022-07-25T19:58:27.586Z"
   },
   {
    "duration": 236,
    "start_time": "2022-07-25T19:58:27.595Z"
   },
   {
    "duration": 46,
    "start_time": "2022-07-25T19:58:27.833Z"
   },
   {
    "duration": 19,
    "start_time": "2022-07-25T19:58:27.881Z"
   },
   {
    "duration": 42,
    "start_time": "2022-07-25T19:58:27.902Z"
   },
   {
    "duration": 436,
    "start_time": "2022-07-25T20:11:35.498Z"
   },
   {
    "duration": 21,
    "start_time": "2022-07-25T20:18:48.448Z"
   },
   {
    "duration": 21,
    "start_time": "2022-07-25T20:19:25.588Z"
   },
   {
    "duration": 307,
    "start_time": "2022-07-25T20:20:41.161Z"
   },
   {
    "duration": 3,
    "start_time": "2022-07-25T20:20:58.944Z"
   },
   {
    "duration": 197,
    "start_time": "2022-07-25T20:21:05.768Z"
   },
   {
    "duration": 20,
    "start_time": "2022-07-25T20:21:20.819Z"
   },
   {
    "duration": 43,
    "start_time": "2022-07-25T20:21:29.122Z"
   },
   {
    "duration": 19,
    "start_time": "2022-07-25T20:22:50.668Z"
   },
   {
    "duration": 102797,
    "start_time": "2022-07-25T20:26:35.371Z"
   },
   {
    "duration": 99992,
    "start_time": "2022-07-25T20:28:30.180Z"
   },
   {
    "duration": 51,
    "start_time": "2022-07-25T20:36:20.097Z"
   },
   {
    "duration": 125696,
    "start_time": "2022-07-25T21:05:55.572Z"
   },
   {
    "duration": 106,
    "start_time": "2022-07-25T21:08:01.270Z"
   },
   {
    "duration": 70,
    "start_time": "2022-07-25T21:08:33.557Z"
   },
   {
    "duration": 484,
    "start_time": "2022-07-25T21:11:46.279Z"
   },
   {
    "duration": 53,
    "start_time": "2022-07-25T21:12:19.541Z"
   },
   {
    "duration": 26,
    "start_time": "2022-07-25T21:16:10.358Z"
   },
   {
    "duration": 35,
    "start_time": "2022-07-25T21:17:39.241Z"
   },
   {
    "duration": 25,
    "start_time": "2022-07-25T21:19:52.993Z"
   },
   {
    "duration": 38,
    "start_time": "2022-07-25T21:20:02.555Z"
   },
   {
    "duration": 144,
    "start_time": "2022-07-25T21:21:44.799Z"
   },
   {
    "duration": 20,
    "start_time": "2022-07-25T21:29:41.228Z"
   },
   {
    "duration": 1356,
    "start_time": "2022-07-25T21:29:49.965Z"
   },
   {
    "duration": 39,
    "start_time": "2022-07-25T21:29:51.324Z"
   },
   {
    "duration": 32,
    "start_time": "2022-07-25T21:29:51.365Z"
   },
   {
    "duration": 9,
    "start_time": "2022-07-25T21:29:51.400Z"
   },
   {
    "duration": 23,
    "start_time": "2022-07-25T21:29:51.410Z"
   },
   {
    "duration": 12,
    "start_time": "2022-07-25T21:29:51.435Z"
   },
   {
    "duration": 225,
    "start_time": "2022-07-25T21:29:51.464Z"
   },
   {
    "duration": 40,
    "start_time": "2022-07-25T21:29:51.690Z"
   },
   {
    "duration": 34,
    "start_time": "2022-07-25T21:29:51.732Z"
   },
   {
    "duration": 32,
    "start_time": "2022-07-25T21:29:51.769Z"
   },
   {
    "duration": 107671,
    "start_time": "2022-07-25T21:29:51.803Z"
   },
   {
    "duration": 150,
    "start_time": "2022-07-25T21:31:39.565Z"
   },
   {
    "duration": 433,
    "start_time": "2022-07-25T21:31:39.717Z"
   },
   {
    "duration": 147,
    "start_time": "2022-07-25T21:31:40.152Z"
   },
   {
    "duration": 1887,
    "start_time": "2022-07-26T20:09:03.625Z"
   },
   {
    "duration": 109,
    "start_time": "2022-07-26T20:09:05.514Z"
   },
   {
    "duration": 30,
    "start_time": "2022-07-26T20:09:05.625Z"
   },
   {
    "duration": 53,
    "start_time": "2022-07-26T20:09:05.656Z"
   },
   {
    "duration": 16,
    "start_time": "2022-07-26T20:09:05.712Z"
   },
   {
    "duration": 17,
    "start_time": "2022-07-26T20:09:05.730Z"
   },
   {
    "duration": 249,
    "start_time": "2022-07-26T20:09:05.748Z"
   },
   {
    "duration": 45,
    "start_time": "2022-07-26T20:09:05.999Z"
   },
   {
    "duration": 43,
    "start_time": "2022-07-26T20:09:06.045Z"
   },
   {
    "duration": 44,
    "start_time": "2022-07-26T20:09:06.090Z"
   },
   {
    "duration": 83030,
    "start_time": "2022-07-26T20:09:06.136Z"
   },
   {
    "duration": 151,
    "start_time": "2022-07-26T20:10:29.176Z"
   },
   {
    "duration": 476,
    "start_time": "2022-07-26T20:10:29.329Z"
   },
   {
    "duration": 150,
    "start_time": "2022-07-26T20:10:29.808Z"
   },
   {
    "duration": 213,
    "start_time": "2022-07-26T20:12:59.899Z"
   },
   {
    "duration": 177,
    "start_time": "2022-07-26T20:14:46.023Z"
   },
   {
    "duration": 217,
    "start_time": "2022-07-26T20:15:44.161Z"
   },
   {
    "duration": 161,
    "start_time": "2022-07-26T20:31:45.055Z"
   },
   {
    "duration": 19,
    "start_time": "2022-07-26T20:33:10.960Z"
   },
   {
    "duration": 6,
    "start_time": "2022-07-26T20:45:11.909Z"
   },
   {
    "duration": 20,
    "start_time": "2022-07-26T20:45:45.947Z"
   },
   {
    "duration": 1380,
    "start_time": "2022-07-26T20:46:38.199Z"
   },
   {
    "duration": 46,
    "start_time": "2022-07-26T20:46:39.582Z"
   },
   {
    "duration": 24,
    "start_time": "2022-07-26T20:46:39.630Z"
   },
   {
    "duration": 8,
    "start_time": "2022-07-26T20:46:39.655Z"
   },
   {
    "duration": 32,
    "start_time": "2022-07-26T20:46:39.669Z"
   },
   {
    "duration": 7,
    "start_time": "2022-07-26T20:46:39.703Z"
   },
   {
    "duration": 213,
    "start_time": "2022-07-26T20:46:39.711Z"
   },
   {
    "duration": 53,
    "start_time": "2022-07-26T20:46:39.925Z"
   },
   {
    "duration": 33,
    "start_time": "2022-07-26T20:46:39.981Z"
   },
   {
    "duration": 50,
    "start_time": "2022-07-26T20:46:40.015Z"
   },
   {
    "duration": 10332,
    "start_time": "2022-07-26T20:46:40.066Z"
   },
   {
    "duration": 143,
    "start_time": "2022-07-26T20:46:50.465Z"
   },
   {
    "duration": 502,
    "start_time": "2022-07-26T20:46:50.609Z"
   },
   {
    "duration": 206,
    "start_time": "2022-07-26T20:46:51.114Z"
   },
   {
    "duration": 6,
    "start_time": "2022-07-26T20:46:51.321Z"
   },
   {
    "duration": 142,
    "start_time": "2022-07-26T20:46:51.328Z"
   },
   {
    "duration": 0,
    "start_time": "2022-07-26T20:46:51.473Z"
   },
   {
    "duration": 18,
    "start_time": "2022-07-26T20:49:12.648Z"
   },
   {
    "duration": 10,
    "start_time": "2022-07-26T20:50:11.085Z"
   },
   {
    "duration": 4,
    "start_time": "2022-07-26T20:50:24.945Z"
   },
   {
    "duration": 15,
    "start_time": "2022-07-26T20:52:50.391Z"
   },
   {
    "duration": 4,
    "start_time": "2022-07-26T20:55:47.034Z"
   },
   {
    "duration": 4,
    "start_time": "2022-07-26T20:55:52.046Z"
   },
   {
    "duration": 5,
    "start_time": "2022-07-26T20:56:00.243Z"
   },
   {
    "duration": 26,
    "start_time": "2022-07-26T20:56:42.155Z"
   },
   {
    "duration": 30,
    "start_time": "2022-07-26T21:01:27.651Z"
   },
   {
    "duration": 1569,
    "start_time": "2022-07-26T21:01:35.043Z"
   },
   {
    "duration": 41,
    "start_time": "2022-07-26T21:01:36.614Z"
   },
   {
    "duration": 49,
    "start_time": "2022-07-26T21:01:36.656Z"
   },
   {
    "duration": 7,
    "start_time": "2022-07-26T21:01:36.707Z"
   },
   {
    "duration": 17,
    "start_time": "2022-07-26T21:01:36.715Z"
   },
   {
    "duration": 7,
    "start_time": "2022-07-26T21:01:36.734Z"
   },
   {
    "duration": 274,
    "start_time": "2022-07-26T21:01:36.743Z"
   },
   {
    "duration": 38,
    "start_time": "2022-07-26T21:01:37.019Z"
   },
   {
    "duration": 39,
    "start_time": "2022-07-26T21:01:37.058Z"
   },
   {
    "duration": 31,
    "start_time": "2022-07-26T21:01:37.100Z"
   },
   {
    "duration": 10144,
    "start_time": "2022-07-26T21:01:37.132Z"
   },
   {
    "duration": 236,
    "start_time": "2022-07-26T21:01:47.278Z"
   },
   {
    "duration": 468,
    "start_time": "2022-07-26T21:01:47.516Z"
   },
   {
    "duration": 212,
    "start_time": "2022-07-26T21:01:47.985Z"
   },
   {
    "duration": 16,
    "start_time": "2022-07-26T21:01:48.199Z"
   },
   {
    "duration": 127,
    "start_time": "2022-07-26T21:01:48.217Z"
   },
   {
    "duration": 0,
    "start_time": "2022-07-26T21:01:48.346Z"
   },
   {
    "duration": 4,
    "start_time": "2022-07-26T21:02:28.126Z"
   },
   {
    "duration": 20,
    "start_time": "2022-07-26T21:02:36.288Z"
   },
   {
    "duration": 24,
    "start_time": "2022-07-26T21:03:24.613Z"
   },
   {
    "duration": 1358,
    "start_time": "2022-07-26T21:03:30.126Z"
   },
   {
    "duration": 43,
    "start_time": "2022-07-26T21:03:31.485Z"
   },
   {
    "duration": 27,
    "start_time": "2022-07-26T21:03:31.530Z"
   },
   {
    "duration": 15,
    "start_time": "2022-07-26T21:03:31.559Z"
   },
   {
    "duration": 42,
    "start_time": "2022-07-26T21:03:31.578Z"
   },
   {
    "duration": 13,
    "start_time": "2022-07-26T21:03:31.622Z"
   },
   {
    "duration": 252,
    "start_time": "2022-07-26T21:03:31.636Z"
   },
   {
    "duration": 39,
    "start_time": "2022-07-26T21:03:31.889Z"
   },
   {
    "duration": 20,
    "start_time": "2022-07-26T21:03:31.930Z"
   },
   {
    "duration": 37,
    "start_time": "2022-07-26T21:03:31.963Z"
   },
   {
    "duration": 8886,
    "start_time": "2022-07-26T21:03:32.002Z"
   },
   {
    "duration": 154,
    "start_time": "2022-07-26T21:03:40.974Z"
   },
   {
    "duration": 450,
    "start_time": "2022-07-26T21:03:41.129Z"
   },
   {
    "duration": 214,
    "start_time": "2022-07-26T21:03:41.582Z"
   },
   {
    "duration": 16,
    "start_time": "2022-07-26T21:03:41.798Z"
   },
   {
    "duration": 127,
    "start_time": "2022-07-26T21:03:41.816Z"
   },
   {
    "duration": 0,
    "start_time": "2022-07-26T21:03:41.944Z"
   },
   {
    "duration": 192,
    "start_time": "2022-07-26T21:04:11.409Z"
   },
   {
    "duration": 4,
    "start_time": "2022-07-26T21:07:43.127Z"
   },
   {
    "duration": 1413,
    "start_time": "2022-07-26T21:08:43.801Z"
   },
   {
    "duration": 43,
    "start_time": "2022-07-26T21:08:45.216Z"
   },
   {
    "duration": 36,
    "start_time": "2022-07-26T21:08:45.261Z"
   },
   {
    "duration": 7,
    "start_time": "2022-07-26T21:08:45.299Z"
   },
   {
    "duration": 18,
    "start_time": "2022-07-26T21:08:45.307Z"
   },
   {
    "duration": 9,
    "start_time": "2022-07-26T21:08:45.326Z"
   },
   {
    "duration": 242,
    "start_time": "2022-07-26T21:08:45.336Z"
   },
   {
    "duration": 41,
    "start_time": "2022-07-26T21:08:45.580Z"
   },
   {
    "duration": 12,
    "start_time": "2022-07-26T21:08:45.622Z"
   },
   {
    "duration": 34,
    "start_time": "2022-07-26T21:08:45.636Z"
   },
   {
    "duration": 73,
    "start_time": "2022-07-26T21:08:45.677Z"
   },
   {
    "duration": 19431,
    "start_time": "2022-07-26T21:08:45.752Z"
   },
   {
    "duration": 223,
    "start_time": "2022-07-26T21:09:05.185Z"
   },
   {
    "duration": 492,
    "start_time": "2022-07-26T21:09:05.409Z"
   },
   {
    "duration": 224,
    "start_time": "2022-07-26T21:09:05.903Z"
   },
   {
    "duration": 16,
    "start_time": "2022-07-26T21:09:06.129Z"
   },
   {
    "duration": 172,
    "start_time": "2022-07-26T21:09:06.146Z"
   },
   {
    "duration": 0,
    "start_time": "2022-07-26T21:09:06.321Z"
   },
   {
    "duration": 204,
    "start_time": "2022-07-26T21:09:48.579Z"
   },
   {
    "duration": 3,
    "start_time": "2022-07-26T21:11:07.401Z"
   },
   {
    "duration": 13,
    "start_time": "2022-07-26T21:11:32.411Z"
   },
   {
    "duration": 228,
    "start_time": "2022-07-26T21:12:11.884Z"
   },
   {
    "duration": 227,
    "start_time": "2022-07-26T21:12:31.959Z"
   },
   {
    "duration": 19779,
    "start_time": "2022-07-26T21:14:54.206Z"
   },
   {
    "duration": 18503,
    "start_time": "2022-07-26T21:15:19.795Z"
   },
   {
    "duration": 241,
    "start_time": "2022-07-26T21:18:41.353Z"
   },
   {
    "duration": 266,
    "start_time": "2022-07-26T21:19:21.771Z"
   },
   {
    "duration": 73,
    "start_time": "2022-07-26T21:19:41.553Z"
   },
   {
    "duration": 58,
    "start_time": "2022-07-26T21:22:28.472Z"
   },
   {
    "duration": 22,
    "start_time": "2022-07-26T21:22:33.879Z"
   },
   {
    "duration": 11,
    "start_time": "2022-07-26T21:24:53.941Z"
   },
   {
    "duration": 15,
    "start_time": "2022-07-26T21:27:50.477Z"
   },
   {
    "duration": 166,
    "start_time": "2022-07-26T21:28:30.622Z"
   },
   {
    "duration": 11,
    "start_time": "2022-07-26T21:28:36.896Z"
   },
   {
    "duration": 152,
    "start_time": "2022-07-26T21:28:41.387Z"
   },
   {
    "duration": 16,
    "start_time": "2022-07-26T21:28:50.356Z"
   },
   {
    "duration": 176,
    "start_time": "2022-07-26T21:28:53.315Z"
   },
   {
    "duration": 174,
    "start_time": "2022-07-26T21:30:00.580Z"
   },
   {
    "duration": 13,
    "start_time": "2022-07-26T21:30:12.458Z"
   },
   {
    "duration": 201,
    "start_time": "2022-07-26T21:30:15.130Z"
   },
   {
    "duration": 196,
    "start_time": "2022-07-26T21:30:21.913Z"
   },
   {
    "duration": 11,
    "start_time": "2022-07-26T21:30:27.232Z"
   },
   {
    "duration": 183,
    "start_time": "2022-07-26T21:30:30.716Z"
   },
   {
    "duration": 14,
    "start_time": "2022-07-26T21:30:36.637Z"
   },
   {
    "duration": 186,
    "start_time": "2022-07-26T21:30:39.311Z"
   },
   {
    "duration": 167,
    "start_time": "2022-07-26T21:30:44.785Z"
   },
   {
    "duration": 19447,
    "start_time": "2022-07-26T21:31:39.423Z"
   },
   {
    "duration": 17772,
    "start_time": "2022-07-26T21:32:25.414Z"
   },
   {
    "duration": 83,
    "start_time": "2022-07-26T21:32:51.440Z"
   },
   {
    "duration": 634,
    "start_time": "2022-07-26T21:33:39.688Z"
   },
   {
    "duration": 215,
    "start_time": "2022-07-26T21:35:03.442Z"
   },
   {
    "duration": 1311,
    "start_time": "2022-07-26T21:35:23.610Z"
   },
   {
    "duration": 48,
    "start_time": "2022-07-26T21:35:24.923Z"
   },
   {
    "duration": 30,
    "start_time": "2022-07-26T21:35:24.973Z"
   },
   {
    "duration": 6,
    "start_time": "2022-07-26T21:35:25.005Z"
   },
   {
    "duration": 13,
    "start_time": "2022-07-26T21:35:25.012Z"
   },
   {
    "duration": 8,
    "start_time": "2022-07-26T21:35:25.026Z"
   },
   {
    "duration": 249,
    "start_time": "2022-07-26T21:35:25.036Z"
   },
   {
    "duration": 41,
    "start_time": "2022-07-26T21:35:25.286Z"
   },
   {
    "duration": 14,
    "start_time": "2022-07-26T21:35:25.329Z"
   },
   {
    "duration": 33,
    "start_time": "2022-07-26T21:35:25.345Z"
   },
   {
    "duration": 52,
    "start_time": "2022-07-26T21:35:25.379Z"
   },
   {
    "duration": 18949,
    "start_time": "2022-07-26T21:35:25.433Z"
   },
   {
    "duration": 231,
    "start_time": "2022-07-26T21:35:44.384Z"
   },
   {
    "duration": 478,
    "start_time": "2022-07-26T21:35:44.616Z"
   },
   {
    "duration": 201,
    "start_time": "2022-07-26T21:35:45.096Z"
   },
   {
    "duration": 12,
    "start_time": "2022-07-26T21:35:45.299Z"
   },
   {
    "duration": 17680,
    "start_time": "2022-07-26T21:35:45.312Z"
   },
   {
    "duration": 166,
    "start_time": "2022-07-26T21:36:03.075Z"
   },
   {
    "duration": 666,
    "start_time": "2022-07-26T21:36:03.242Z"
   },
   {
    "duration": 11,
    "start_time": "2022-07-26T21:36:03.909Z"
   },
   {
    "duration": 191,
    "start_time": "2022-07-26T21:36:03.922Z"
   },
   {
    "duration": 218,
    "start_time": "2022-07-26T21:36:04.114Z"
   },
   {
    "duration": 14791,
    "start_time": "2022-07-26T21:36:51.284Z"
   },
   {
    "duration": 98,
    "start_time": "2022-07-26T21:37:12.822Z"
   },
   {
    "duration": 59,
    "start_time": "2022-07-26T21:37:43.732Z"
   },
   {
    "duration": 326,
    "start_time": "2022-07-26T21:38:00.285Z"
   },
   {
    "duration": 168,
    "start_time": "2022-07-26T21:38:30.086Z"
   },
   {
    "duration": 1300,
    "start_time": "2022-07-26T21:38:48.115Z"
   },
   {
    "duration": 40,
    "start_time": "2022-07-26T21:38:49.417Z"
   },
   {
    "duration": 38,
    "start_time": "2022-07-26T21:38:49.459Z"
   },
   {
    "duration": 8,
    "start_time": "2022-07-26T21:38:49.499Z"
   },
   {
    "duration": 11,
    "start_time": "2022-07-26T21:38:49.510Z"
   },
   {
    "duration": 6,
    "start_time": "2022-07-26T21:38:49.523Z"
   },
   {
    "duration": 229,
    "start_time": "2022-07-26T21:38:49.531Z"
   },
   {
    "duration": 47,
    "start_time": "2022-07-26T21:38:49.765Z"
   },
   {
    "duration": 13,
    "start_time": "2022-07-26T21:38:49.814Z"
   },
   {
    "duration": 15,
    "start_time": "2022-07-26T21:38:49.829Z"
   },
   {
    "duration": 78,
    "start_time": "2022-07-26T21:38:49.846Z"
   },
   {
    "duration": 19364,
    "start_time": "2022-07-26T21:38:49.926Z"
   },
   {
    "duration": 237,
    "start_time": "2022-07-26T21:39:09.294Z"
   },
   {
    "duration": 513,
    "start_time": "2022-07-26T21:39:09.534Z"
   },
   {
    "duration": 218,
    "start_time": "2022-07-26T21:39:10.048Z"
   },
   {
    "duration": 18,
    "start_time": "2022-07-26T21:39:10.268Z"
   },
   {
    "duration": 17807,
    "start_time": "2022-07-26T21:39:10.288Z"
   },
   {
    "duration": 230,
    "start_time": "2022-07-26T21:39:28.098Z"
   },
   {
    "duration": 622,
    "start_time": "2022-07-26T21:39:28.329Z"
   },
   {
    "duration": 20,
    "start_time": "2022-07-26T21:39:28.952Z"
   },
   {
    "duration": 14013,
    "start_time": "2022-07-26T21:39:28.978Z"
   },
   {
    "duration": 142,
    "start_time": "2022-07-26T21:39:43.067Z"
   },
   {
    "duration": 337,
    "start_time": "2022-07-26T21:39:43.211Z"
   },
   {
    "duration": 178,
    "start_time": "2022-07-26T21:39:43.549Z"
   },
   {
    "duration": 351,
    "start_time": "2022-07-26T21:40:37.148Z"
   },
   {
    "duration": 363,
    "start_time": "2022-07-26T21:40:46.943Z"
   },
   {
    "duration": 11,
    "start_time": "2022-07-26T21:40:59.330Z"
   },
   {
    "duration": 61,
    "start_time": "2022-07-26T21:41:03.953Z"
   },
   {
    "duration": 354,
    "start_time": "2022-07-26T21:41:10.978Z"
   },
   {
    "duration": 209,
    "start_time": "2022-07-26T21:41:25.127Z"
   },
   {
    "duration": 14,
    "start_time": "2022-07-26T21:41:38.257Z"
   },
   {
    "duration": 47,
    "start_time": "2022-07-26T21:41:43.132Z"
   },
   {
    "duration": 200,
    "start_time": "2022-07-26T21:41:46.906Z"
   },
   {
    "duration": 12,
    "start_time": "2022-07-26T21:41:53.988Z"
   },
   {
    "duration": 1299,
    "start_time": "2022-07-26T21:41:59.108Z"
   },
   {
    "duration": 41,
    "start_time": "2022-07-26T21:42:00.408Z"
   },
   {
    "duration": 32,
    "start_time": "2022-07-26T21:42:00.450Z"
   },
   {
    "duration": 9,
    "start_time": "2022-07-26T21:42:00.488Z"
   },
   {
    "duration": 13,
    "start_time": "2022-07-26T21:42:00.498Z"
   },
   {
    "duration": 8,
    "start_time": "2022-07-26T21:42:00.513Z"
   },
   {
    "duration": 214,
    "start_time": "2022-07-26T21:42:00.523Z"
   },
   {
    "duration": 57,
    "start_time": "2022-07-26T21:42:00.739Z"
   },
   {
    "duration": 13,
    "start_time": "2022-07-26T21:42:00.798Z"
   },
   {
    "duration": 22,
    "start_time": "2022-07-26T21:42:00.814Z"
   },
   {
    "duration": 50,
    "start_time": "2022-07-26T21:42:00.837Z"
   },
   {
    "duration": 19677,
    "start_time": "2022-07-26T21:42:00.888Z"
   },
   {
    "duration": 162,
    "start_time": "2022-07-26T21:42:20.572Z"
   },
   {
    "duration": 471,
    "start_time": "2022-07-26T21:42:20.736Z"
   },
   {
    "duration": 208,
    "start_time": "2022-07-26T21:42:21.209Z"
   },
   {
    "duration": 14,
    "start_time": "2022-07-26T21:42:21.419Z"
   },
   {
    "duration": 17751,
    "start_time": "2022-07-26T21:42:21.435Z"
   },
   {
    "duration": 251,
    "start_time": "2022-07-26T21:42:39.188Z"
   },
   {
    "duration": 595,
    "start_time": "2022-07-26T21:42:39.441Z"
   },
   {
    "duration": 12,
    "start_time": "2022-07-26T21:42:40.038Z"
   },
   {
    "duration": 13108,
    "start_time": "2022-07-26T21:42:40.064Z"
   },
   {
    "duration": 136,
    "start_time": "2022-07-26T21:42:53.180Z"
   },
   {
    "duration": 315,
    "start_time": "2022-07-26T21:42:53.318Z"
   },
   {
    "duration": 178,
    "start_time": "2022-07-26T21:42:53.635Z"
   },
   {
    "duration": 179,
    "start_time": "2022-07-26T21:44:46.938Z"
   },
   {
    "duration": 1420,
    "start_time": "2022-07-26T21:44:59.601Z"
   },
   {
    "duration": 59,
    "start_time": "2022-07-26T21:45:01.023Z"
   },
   {
    "duration": 27,
    "start_time": "2022-07-26T21:45:01.084Z"
   },
   {
    "duration": 6,
    "start_time": "2022-07-26T21:45:01.113Z"
   },
   {
    "duration": 22,
    "start_time": "2022-07-26T21:45:01.121Z"
   },
   {
    "duration": 7,
    "start_time": "2022-07-26T21:45:01.144Z"
   },
   {
    "duration": 245,
    "start_time": "2022-07-26T21:45:01.153Z"
   },
   {
    "duration": 41,
    "start_time": "2022-07-26T21:45:01.400Z"
   },
   {
    "duration": 38,
    "start_time": "2022-07-26T21:45:01.444Z"
   },
   {
    "duration": 19,
    "start_time": "2022-07-26T21:45:01.484Z"
   },
   {
    "duration": 45,
    "start_time": "2022-07-26T21:45:01.505Z"
   },
   {
    "duration": 19816,
    "start_time": "2022-07-26T21:45:01.552Z"
   },
   {
    "duration": 156,
    "start_time": "2022-07-26T21:45:21.370Z"
   },
   {
    "duration": 492,
    "start_time": "2022-07-26T21:45:21.529Z"
   },
   {
    "duration": 217,
    "start_time": "2022-07-26T21:45:22.023Z"
   },
   {
    "duration": 27,
    "start_time": "2022-07-26T21:45:22.242Z"
   },
   {
    "duration": 18823,
    "start_time": "2022-07-26T21:45:22.271Z"
   },
   {
    "duration": 243,
    "start_time": "2022-07-26T21:45:41.097Z"
   },
   {
    "duration": 679,
    "start_time": "2022-07-26T21:45:41.342Z"
   },
   {
    "duration": 11,
    "start_time": "2022-07-26T21:45:42.023Z"
   },
   {
    "duration": 13939,
    "start_time": "2022-07-26T21:45:42.035Z"
   },
   {
    "duration": 147,
    "start_time": "2022-07-26T21:45:55.978Z"
   },
   {
    "duration": 377,
    "start_time": "2022-07-26T21:45:56.127Z"
   },
   {
    "duration": 205,
    "start_time": "2022-07-26T21:45:56.506Z"
   },
   {
    "duration": 1636,
    "start_time": "2022-08-03T10:03:06.376Z"
   },
   {
    "duration": 161,
    "start_time": "2022-08-03T10:03:08.015Z"
   },
   {
    "duration": 31,
    "start_time": "2022-08-03T10:03:08.178Z"
   },
   {
    "duration": 7,
    "start_time": "2022-08-03T10:03:08.211Z"
   },
   {
    "duration": 14,
    "start_time": "2022-08-03T10:03:08.220Z"
   },
   {
    "duration": 8,
    "start_time": "2022-08-03T10:03:08.236Z"
   },
   {
    "duration": 255,
    "start_time": "2022-08-03T10:03:08.246Z"
   },
   {
    "duration": 58,
    "start_time": "2022-08-03T10:03:08.502Z"
   },
   {
    "duration": 30,
    "start_time": "2022-08-03T10:03:08.563Z"
   },
   {
    "duration": 17,
    "start_time": "2022-08-03T10:03:08.595Z"
   },
   {
    "duration": 41,
    "start_time": "2022-08-03T10:03:08.614Z"
   },
   {
    "duration": 19937,
    "start_time": "2022-08-03T10:03:08.657Z"
   },
   {
    "duration": 170,
    "start_time": "2022-08-03T10:03:28.597Z"
   },
   {
    "duration": 510,
    "start_time": "2022-08-03T10:03:28.770Z"
   },
   {
    "duration": 243,
    "start_time": "2022-08-03T10:03:29.282Z"
   },
   {
    "duration": 14,
    "start_time": "2022-08-03T10:03:29.527Z"
   },
   {
    "duration": 19875,
    "start_time": "2022-08-03T10:03:29.543Z"
   },
   {
    "duration": 248,
    "start_time": "2022-08-03T10:03:49.420Z"
   },
   {
    "duration": 670,
    "start_time": "2022-08-03T10:03:49.670Z"
   },
   {
    "duration": 13,
    "start_time": "2022-08-03T10:03:50.341Z"
   },
   {
    "duration": 17840,
    "start_time": "2022-08-03T10:03:50.356Z"
   },
   {
    "duration": 144,
    "start_time": "2022-08-03T10:04:08.200Z"
   },
   {
    "duration": 350,
    "start_time": "2022-08-03T10:04:08.347Z"
   },
   {
    "duration": 211,
    "start_time": "2022-08-03T10:04:08.699Z"
   },
   {
    "duration": 137,
    "start_time": "2022-08-03T10:20:33.173Z"
   },
   {
    "duration": 23,
    "start_time": "2022-08-03T10:21:05.489Z"
   },
   {
    "duration": 1441,
    "start_time": "2022-08-03T10:21:13.098Z"
   },
   {
    "duration": 40,
    "start_time": "2022-08-03T10:21:14.541Z"
   },
   {
    "duration": 30,
    "start_time": "2022-08-03T10:21:14.582Z"
   },
   {
    "duration": 7,
    "start_time": "2022-08-03T10:21:14.614Z"
   },
   {
    "duration": 13,
    "start_time": "2022-08-03T10:21:14.623Z"
   },
   {
    "duration": 13,
    "start_time": "2022-08-03T10:21:14.638Z"
   },
   {
    "duration": 240,
    "start_time": "2022-08-03T10:21:14.652Z"
   },
   {
    "duration": 54,
    "start_time": "2022-08-03T10:21:14.894Z"
   },
   {
    "duration": 23,
    "start_time": "2022-08-03T10:21:14.950Z"
   },
   {
    "duration": 21,
    "start_time": "2022-08-03T10:21:14.974Z"
   },
   {
    "duration": 38,
    "start_time": "2022-08-03T10:21:14.997Z"
   },
   {
    "duration": 12855,
    "start_time": "2022-08-03T10:21:15.037Z"
   },
   {
    "duration": 163,
    "start_time": "2022-08-03T10:21:27.898Z"
   },
   {
    "duration": 487,
    "start_time": "2022-08-03T10:21:28.064Z"
   },
   {
    "duration": 225,
    "start_time": "2022-08-03T10:21:28.553Z"
   },
   {
    "duration": 132,
    "start_time": "2022-08-03T10:21:28.780Z"
   },
   {
    "duration": 0,
    "start_time": "2022-08-03T10:21:28.914Z"
   },
   {
    "duration": 1,
    "start_time": "2022-08-03T10:21:28.915Z"
   },
   {
    "duration": 0,
    "start_time": "2022-08-03T10:21:28.917Z"
   },
   {
    "duration": 0,
    "start_time": "2022-08-03T10:21:28.919Z"
   },
   {
    "duration": 0,
    "start_time": "2022-08-03T10:21:28.920Z"
   },
   {
    "duration": 0,
    "start_time": "2022-08-03T10:21:28.922Z"
   },
   {
    "duration": 0,
    "start_time": "2022-08-03T10:21:28.923Z"
   },
   {
    "duration": 0,
    "start_time": "2022-08-03T10:21:28.925Z"
   },
   {
    "duration": 24,
    "start_time": "2022-08-03T10:24:56.681Z"
   },
   {
    "duration": 1719,
    "start_time": "2022-08-03T10:25:01.345Z"
   },
   {
    "duration": 49,
    "start_time": "2022-08-03T10:25:03.066Z"
   },
   {
    "duration": 29,
    "start_time": "2022-08-03T10:25:03.117Z"
   },
   {
    "duration": 7,
    "start_time": "2022-08-03T10:25:03.148Z"
   },
   {
    "duration": 13,
    "start_time": "2022-08-03T10:25:03.157Z"
   },
   {
    "duration": 8,
    "start_time": "2022-08-03T10:25:03.191Z"
   },
   {
    "duration": 251,
    "start_time": "2022-08-03T10:25:03.201Z"
   },
   {
    "duration": 67,
    "start_time": "2022-08-03T10:25:03.454Z"
   },
   {
    "duration": 24,
    "start_time": "2022-08-03T10:25:03.522Z"
   },
   {
    "duration": 11,
    "start_time": "2022-08-03T10:25:03.548Z"
   },
   {
    "duration": 51,
    "start_time": "2022-08-03T10:25:03.561Z"
   },
   {
    "duration": 13182,
    "start_time": "2022-08-03T10:25:03.614Z"
   },
   {
    "duration": 162,
    "start_time": "2022-08-03T10:25:16.800Z"
   },
   {
    "duration": 497,
    "start_time": "2022-08-03T10:25:16.965Z"
   },
   {
    "duration": 216,
    "start_time": "2022-08-03T10:25:17.464Z"
   },
   {
    "duration": 133,
    "start_time": "2022-08-03T10:25:17.681Z"
   },
   {
    "duration": 0,
    "start_time": "2022-08-03T10:25:17.816Z"
   },
   {
    "duration": 0,
    "start_time": "2022-08-03T10:25:17.818Z"
   },
   {
    "duration": 0,
    "start_time": "2022-08-03T10:25:17.819Z"
   },
   {
    "duration": 0,
    "start_time": "2022-08-03T10:25:17.820Z"
   },
   {
    "duration": 0,
    "start_time": "2022-08-03T10:25:17.821Z"
   },
   {
    "duration": 0,
    "start_time": "2022-08-03T10:25:17.823Z"
   },
   {
    "duration": 0,
    "start_time": "2022-08-03T10:25:17.824Z"
   },
   {
    "duration": 0,
    "start_time": "2022-08-03T10:25:17.825Z"
   },
   {
    "duration": 27,
    "start_time": "2022-08-03T10:37:54.985Z"
   },
   {
    "duration": 5,
    "start_time": "2022-08-03T10:37:58.894Z"
   },
   {
    "duration": 27,
    "start_time": "2022-08-03T10:38:15.126Z"
   },
   {
    "duration": 6,
    "start_time": "2022-08-03T10:38:19.969Z"
   },
   {
    "duration": 1467,
    "start_time": "2022-08-03T10:38:33.324Z"
   },
   {
    "duration": 44,
    "start_time": "2022-08-03T10:38:34.793Z"
   },
   {
    "duration": 30,
    "start_time": "2022-08-03T10:38:34.839Z"
   },
   {
    "duration": 7,
    "start_time": "2022-08-03T10:38:34.871Z"
   },
   {
    "duration": 21,
    "start_time": "2022-08-03T10:38:34.880Z"
   },
   {
    "duration": 8,
    "start_time": "2022-08-03T10:38:34.903Z"
   },
   {
    "duration": 248,
    "start_time": "2022-08-03T10:38:34.912Z"
   },
   {
    "duration": 65,
    "start_time": "2022-08-03T10:38:35.162Z"
   },
   {
    "duration": 27,
    "start_time": "2022-08-03T10:38:35.229Z"
   },
   {
    "duration": 5,
    "start_time": "2022-08-03T10:38:35.258Z"
   },
   {
    "duration": 59,
    "start_time": "2022-08-03T10:38:35.264Z"
   },
   {
    "duration": 11272,
    "start_time": "2022-08-03T10:38:35.324Z"
   },
   {
    "duration": 150,
    "start_time": "2022-08-03T10:38:46.599Z"
   },
   {
    "duration": 508,
    "start_time": "2022-08-03T10:38:46.752Z"
   },
   {
    "duration": 227,
    "start_time": "2022-08-03T10:38:47.261Z"
   },
   {
    "duration": 123,
    "start_time": "2022-08-03T10:38:47.489Z"
   },
   {
    "duration": 0,
    "start_time": "2022-08-03T10:38:47.613Z"
   },
   {
    "duration": 0,
    "start_time": "2022-08-03T10:38:47.615Z"
   },
   {
    "duration": 0,
    "start_time": "2022-08-03T10:38:47.616Z"
   },
   {
    "duration": 0,
    "start_time": "2022-08-03T10:38:47.618Z"
   },
   {
    "duration": 0,
    "start_time": "2022-08-03T10:38:47.619Z"
   },
   {
    "duration": 0,
    "start_time": "2022-08-03T10:38:47.620Z"
   },
   {
    "duration": 0,
    "start_time": "2022-08-03T10:38:47.621Z"
   },
   {
    "duration": 0,
    "start_time": "2022-08-03T10:38:47.622Z"
   },
   {
    "duration": 41,
    "start_time": "2022-08-03T10:39:22.385Z"
   },
   {
    "duration": 18,
    "start_time": "2022-08-03T10:39:26.992Z"
   },
   {
    "duration": 46,
    "start_time": "2022-08-03T10:40:13.098Z"
   },
   {
    "duration": 36,
    "start_time": "2022-08-03T10:40:20.763Z"
   },
   {
    "duration": 20,
    "start_time": "2022-08-03T10:40:24.659Z"
   },
   {
    "duration": 1522,
    "start_time": "2022-08-03T10:40:30.767Z"
   },
   {
    "duration": 42,
    "start_time": "2022-08-03T10:40:32.290Z"
   },
   {
    "duration": 31,
    "start_time": "2022-08-03T10:40:32.333Z"
   },
   {
    "duration": 6,
    "start_time": "2022-08-03T10:40:32.366Z"
   },
   {
    "duration": 13,
    "start_time": "2022-08-03T10:40:32.374Z"
   },
   {
    "duration": 8,
    "start_time": "2022-08-03T10:40:32.392Z"
   },
   {
    "duration": 244,
    "start_time": "2022-08-03T10:40:32.402Z"
   },
   {
    "duration": 46,
    "start_time": "2022-08-03T10:40:32.647Z"
   },
   {
    "duration": 42,
    "start_time": "2022-08-03T10:40:32.694Z"
   },
   {
    "duration": 19,
    "start_time": "2022-08-03T10:40:32.738Z"
   },
   {
    "duration": 62,
    "start_time": "2022-08-03T10:40:32.758Z"
   },
   {
    "duration": 18669,
    "start_time": "2022-08-03T10:40:32.822Z"
   },
   {
    "duration": 166,
    "start_time": "2022-08-03T10:40:51.494Z"
   },
   {
    "duration": 641,
    "start_time": "2022-08-03T10:40:51.662Z"
   },
   {
    "duration": 228,
    "start_time": "2022-08-03T10:40:52.305Z"
   },
   {
    "duration": 14,
    "start_time": "2022-08-03T10:40:52.535Z"
   },
   {
    "duration": 19657,
    "start_time": "2022-08-03T10:40:52.551Z"
   },
   {
    "duration": 263,
    "start_time": "2022-08-03T10:41:12.210Z"
   },
   {
    "duration": 666,
    "start_time": "2022-08-03T10:41:12.474Z"
   },
   {
    "duration": 13,
    "start_time": "2022-08-03T10:41:13.142Z"
   },
   {
    "duration": 14036,
    "start_time": "2022-08-03T10:41:13.157Z"
   },
   {
    "duration": 152,
    "start_time": "2022-08-03T10:41:27.196Z"
   },
   {
    "duration": 359,
    "start_time": "2022-08-03T10:41:27.350Z"
   },
   {
    "duration": 201,
    "start_time": "2022-08-03T10:41:27.711Z"
   },
   {
    "duration": 17308,
    "start_time": "2022-08-03T10:46:13.384Z"
   },
   {
    "duration": 74,
    "start_time": "2022-08-03T10:46:39.089Z"
   },
   {
    "duration": 585,
    "start_time": "2022-08-03T10:46:54.730Z"
   },
   {
    "duration": 18369,
    "start_time": "2022-08-03T10:47:00.835Z"
   },
   {
    "duration": 507,
    "start_time": "2022-08-03T10:47:32.534Z"
   },
   {
    "duration": 1648,
    "start_time": "2022-08-03T10:48:36.646Z"
   },
   {
    "duration": 3518,
    "start_time": "2022-08-03T10:48:46.938Z"
   },
   {
    "duration": 1576,
    "start_time": "2022-08-03T10:48:58.500Z"
   },
   {
    "duration": 515,
    "start_time": "2022-08-03T10:49:19.689Z"
   },
   {
    "duration": 831,
    "start_time": "2022-08-03T10:49:24.792Z"
   },
   {
    "duration": 532,
    "start_time": "2022-08-03T10:49:31.848Z"
   },
   {
    "duration": 496,
    "start_time": "2022-08-03T10:49:43.937Z"
   },
   {
    "duration": 1583,
    "start_time": "2022-08-03T10:49:58.069Z"
   },
   {
    "duration": 603,
    "start_time": "2022-08-03T10:50:30.669Z"
   },
   {
    "duration": 2116,
    "start_time": "2022-08-03T10:50:41.047Z"
   },
   {
    "duration": 313,
    "start_time": "2022-08-03T10:50:55.764Z"
   },
   {
    "duration": 1009,
    "start_time": "2022-08-03T10:51:02.664Z"
   },
   {
    "duration": 2267,
    "start_time": "2022-08-03T10:51:11.544Z"
   },
   {
    "duration": 1039,
    "start_time": "2022-08-03T10:51:17.530Z"
   },
   {
    "duration": 224,
    "start_time": "2022-08-03T10:51:31.039Z"
   },
   {
    "duration": 3742,
    "start_time": "2022-08-03T10:51:43.065Z"
   },
   {
    "duration": 6023,
    "start_time": "2022-08-03T10:51:53.598Z"
   },
   {
    "duration": 378,
    "start_time": "2022-08-03T10:52:09.439Z"
   },
   {
    "duration": 23569,
    "start_time": "2022-08-03T10:52:23.974Z"
   },
   {
    "duration": 488,
    "start_time": "2022-08-03T10:53:00.834Z"
   },
   {
    "duration": 5864,
    "start_time": "2022-08-03T10:53:15.899Z"
   },
   {
    "duration": 359,
    "start_time": "2022-08-03T10:53:25.634Z"
   },
   {
    "duration": 1550,
    "start_time": "2022-08-03T10:54:02.875Z"
   },
   {
    "duration": 9620,
    "start_time": "2022-08-03T10:54:12.889Z"
   },
   {
    "duration": 1512,
    "start_time": "2022-08-03T10:54:56.897Z"
   },
   {
    "duration": 9568,
    "start_time": "2022-08-03T10:55:09.999Z"
   },
   {
    "duration": 1857,
    "start_time": "2022-08-03T10:56:07.138Z"
   },
   {
    "duration": 13131,
    "start_time": "2022-08-03T10:56:16.649Z"
   },
   {
    "duration": 882,
    "start_time": "2022-08-03T10:56:43.548Z"
   },
   {
    "duration": 362,
    "start_time": "2022-08-03T10:59:48.939Z"
   },
   {
    "duration": 1422,
    "start_time": "2022-08-03T11:01:36.004Z"
   },
   {
    "duration": 41,
    "start_time": "2022-08-03T11:01:37.429Z"
   },
   {
    "duration": 31,
    "start_time": "2022-08-03T11:01:37.472Z"
   },
   {
    "duration": 7,
    "start_time": "2022-08-03T11:01:37.505Z"
   },
   {
    "duration": 44,
    "start_time": "2022-08-03T11:01:37.514Z"
   },
   {
    "duration": 24,
    "start_time": "2022-08-03T11:01:37.559Z"
   },
   {
    "duration": 249,
    "start_time": "2022-08-03T11:01:37.584Z"
   },
   {
    "duration": 46,
    "start_time": "2022-08-03T11:01:37.835Z"
   },
   {
    "duration": 42,
    "start_time": "2022-08-03T11:01:37.891Z"
   },
   {
    "duration": 64,
    "start_time": "2022-08-03T11:01:37.934Z"
   },
   {
    "duration": 17796,
    "start_time": "2022-08-03T11:01:38.001Z"
   },
   {
    "duration": 1662,
    "start_time": "2022-08-03T11:01:55.799Z"
   },
   {
    "duration": 9765,
    "start_time": "2022-08-03T11:01:57.462Z"
   },
   {
    "duration": 18477,
    "start_time": "2022-08-03T11:02:07.229Z"
   },
   {
    "duration": 1618,
    "start_time": "2022-08-03T11:02:25.793Z"
   },
   {
    "duration": 9707,
    "start_time": "2022-08-03T11:02:27.413Z"
   },
   {
    "duration": 259,
    "start_time": "2022-08-03T11:02:37.122Z"
   },
   {
    "duration": 13,
    "start_time": "2022-08-03T11:02:37.383Z"
   },
   {
    "duration": 19611,
    "start_time": "2022-08-03T11:02:37.398Z"
   },
   {
    "duration": 1972,
    "start_time": "2022-08-03T11:02:57.094Z"
   },
   {
    "duration": 13129,
    "start_time": "2022-08-03T11:02:59.067Z"
   },
   {
    "duration": 11,
    "start_time": "2022-08-03T11:03:12.198Z"
   },
   {
    "duration": 13483,
    "start_time": "2022-08-03T11:03:12.211Z"
   },
   {
    "duration": 978,
    "start_time": "2022-08-03T11:03:25.696Z"
   },
   {
    "duration": 6244,
    "start_time": "2022-08-03T11:03:26.676Z"
   },
   {
    "duration": 436,
    "start_time": "2022-08-03T11:03:32.922Z"
   },
   {
    "duration": 387,
    "start_time": "2022-08-03T11:03:33.360Z"
   },
   {
    "duration": 2248,
    "start_time": "2022-08-03T14:45:19.243Z"
   },
   {
    "duration": 169,
    "start_time": "2022-08-03T14:45:21.493Z"
   },
   {
    "duration": 34,
    "start_time": "2022-08-03T14:45:21.663Z"
   },
   {
    "duration": 9,
    "start_time": "2022-08-03T14:45:21.698Z"
   },
   {
    "duration": 31,
    "start_time": "2022-08-03T14:45:21.709Z"
   },
   {
    "duration": 10,
    "start_time": "2022-08-03T14:45:21.742Z"
   },
   {
    "duration": 296,
    "start_time": "2022-08-03T14:45:21.754Z"
   },
   {
    "duration": 53,
    "start_time": "2022-08-03T14:45:22.052Z"
   },
   {
    "duration": 58,
    "start_time": "2022-08-03T14:45:22.107Z"
   },
   {
    "duration": 62,
    "start_time": "2022-08-03T14:45:22.167Z"
   },
   {
    "duration": 16371,
    "start_time": "2022-08-03T14:45:22.231Z"
   },
   {
    "duration": 1716,
    "start_time": "2022-08-03T14:45:38.605Z"
   },
   {
    "duration": 12734,
    "start_time": "2022-08-03T14:45:40.323Z"
   },
   {
    "duration": 18736,
    "start_time": "2022-08-03T14:45:53.068Z"
   },
   {
    "duration": 3331,
    "start_time": "2022-08-03T14:46:11.807Z"
   },
   {
    "duration": 9859,
    "start_time": "2022-08-03T15:01:55.362Z"
   },
   {
    "duration": 243,
    "start_time": "2022-08-03T15:02:05.223Z"
   },
   {
    "duration": 25,
    "start_time": "2022-08-03T15:02:05.467Z"
   },
   {
    "duration": 17802,
    "start_time": "2022-08-03T15:02:05.494Z"
   },
   {
    "duration": 2068,
    "start_time": "2022-08-03T15:02:23.298Z"
   },
   {
    "duration": 13891,
    "start_time": "2022-08-03T15:02:25.368Z"
   },
   {
    "duration": 703,
    "start_time": "2022-08-03T15:03:18.091Z"
   },
   {
    "duration": 1366,
    "start_time": "2022-08-04T08:09:49.446Z"
   },
   {
    "duration": 1354,
    "start_time": "2022-08-04T08:10:06.256Z"
   },
   {
    "duration": 159,
    "start_time": "2022-08-04T08:10:07.612Z"
   },
   {
    "duration": 27,
    "start_time": "2022-08-04T08:10:07.773Z"
   },
   {
    "duration": 5,
    "start_time": "2022-08-04T08:10:07.802Z"
   },
   {
    "duration": 12,
    "start_time": "2022-08-04T08:10:07.808Z"
   },
   {
    "duration": 9,
    "start_time": "2022-08-04T08:10:07.822Z"
   },
   {
    "duration": 230,
    "start_time": "2022-08-04T08:10:07.832Z"
   },
   {
    "duration": 37,
    "start_time": "2022-08-04T08:10:08.063Z"
   },
   {
    "duration": 31,
    "start_time": "2022-08-04T08:10:08.101Z"
   },
   {
    "duration": 48,
    "start_time": "2022-08-04T08:10:08.134Z"
   },
   {
    "duration": 11978,
    "start_time": "2022-08-04T08:10:08.183Z"
   },
   {
    "duration": 1331,
    "start_time": "2022-08-04T08:10:20.163Z"
   },
   {
    "duration": 7843,
    "start_time": "2022-08-04T08:10:21.496Z"
   },
   {
    "duration": 12722,
    "start_time": "2022-08-04T08:10:29.341Z"
   },
   {
    "duration": 1389,
    "start_time": "2022-08-04T08:10:42.067Z"
   },
   {
    "duration": 7444,
    "start_time": "2022-08-04T08:10:43.457Z"
   },
   {
    "duration": 182,
    "start_time": "2022-08-04T08:10:50.902Z"
   },
   {
    "duration": 11,
    "start_time": "2022-08-04T08:10:51.086Z"
   },
   {
    "duration": 15567,
    "start_time": "2022-08-04T08:10:51.098Z"
   },
   {
    "duration": 1711,
    "start_time": "2022-08-04T08:11:06.666Z"
   },
   {
    "duration": 10593,
    "start_time": "2022-08-04T08:11:08.378Z"
   },
   {
    "duration": 10,
    "start_time": "2022-08-04T08:11:18.973Z"
   },
   {
    "duration": 9876,
    "start_time": "2022-08-04T08:11:18.985Z"
   },
   {
    "duration": 841,
    "start_time": "2022-08-04T08:11:28.863Z"
   },
   {
    "duration": 4720,
    "start_time": "2022-08-04T08:11:29.706Z"
   },
   {
    "duration": 300,
    "start_time": "2022-08-04T08:11:34.428Z"
   },
   {
    "duration": 316,
    "start_time": "2022-08-04T08:11:34.729Z"
   },
   {
    "duration": 4,
    "start_time": "2022-08-04T08:11:46.269Z"
   },
   {
    "duration": 1257,
    "start_time": "2022-08-04T08:11:51.423Z"
   },
   {
    "duration": 38,
    "start_time": "2022-08-04T08:11:52.682Z"
   },
   {
    "duration": 22,
    "start_time": "2022-08-04T08:11:52.722Z"
   },
   {
    "duration": 5,
    "start_time": "2022-08-04T08:11:52.745Z"
   },
   {
    "duration": 23,
    "start_time": "2022-08-04T08:11:52.752Z"
   },
   {
    "duration": 10,
    "start_time": "2022-08-04T08:11:52.776Z"
   },
   {
    "duration": 199,
    "start_time": "2022-08-04T08:11:52.787Z"
   },
   {
    "duration": 38,
    "start_time": "2022-08-04T08:11:52.988Z"
   },
   {
    "duration": 45,
    "start_time": "2022-08-04T08:11:53.028Z"
   },
   {
    "duration": 34,
    "start_time": "2022-08-04T08:11:53.075Z"
   },
   {
    "duration": 11547,
    "start_time": "2022-08-04T08:11:53.110Z"
   },
   {
    "duration": 1279,
    "start_time": "2022-08-04T08:12:04.661Z"
   },
   {
    "duration": 7579,
    "start_time": "2022-08-04T08:12:05.941Z"
   },
   {
    "duration": 12834,
    "start_time": "2022-08-04T08:12:13.522Z"
   },
   {
    "duration": 1314,
    "start_time": "2022-08-04T08:12:26.357Z"
   },
   {
    "duration": 7403,
    "start_time": "2022-08-04T08:12:27.672Z"
   },
   {
    "duration": 178,
    "start_time": "2022-08-04T08:12:35.076Z"
   },
   {
    "duration": 11,
    "start_time": "2022-08-04T08:12:35.256Z"
   },
   {
    "duration": 15793,
    "start_time": "2022-08-04T08:12:35.268Z"
   },
   {
    "duration": 1644,
    "start_time": "2022-08-04T08:12:51.063Z"
   },
   {
    "duration": 10155,
    "start_time": "2022-08-04T08:12:52.709Z"
   },
   {
    "duration": 10,
    "start_time": "2022-08-04T08:13:02.865Z"
   },
   {
    "duration": 10078,
    "start_time": "2022-08-04T08:13:02.876Z"
   },
   {
    "duration": 830,
    "start_time": "2022-08-04T08:13:12.956Z"
   },
   {
    "duration": 4775,
    "start_time": "2022-08-04T08:13:13.788Z"
   },
   {
    "duration": 314,
    "start_time": "2022-08-04T08:13:18.565Z"
   },
   {
    "duration": 311,
    "start_time": "2022-08-04T08:13:18.881Z"
   },
   {
    "duration": 0,
    "start_time": "2022-08-04T08:13:19.326Z"
   },
   {
    "duration": 40,
    "start_time": "2022-08-04T08:13:45.980Z"
   },
   {
    "duration": 38,
    "start_time": "2022-08-04T08:15:58.722Z"
   },
   {
    "duration": 32,
    "start_time": "2022-08-04T08:16:22.139Z"
   },
   {
    "duration": 1281,
    "start_time": "2022-08-04T08:18:41.029Z"
   },
   {
    "duration": 1218,
    "start_time": "2022-08-04T08:19:06.374Z"
   },
   {
    "duration": 10,
    "start_time": "2022-08-04T08:19:17.537Z"
   },
   {
    "duration": 89,
    "start_time": "2022-08-04T08:19:37.407Z"
   },
   {
    "duration": 10,
    "start_time": "2022-08-04T08:20:03.959Z"
   },
   {
    "duration": 7,
    "start_time": "2022-08-04T08:20:16.569Z"
   },
   {
    "duration": 6,
    "start_time": "2022-08-04T08:20:33.842Z"
   },
   {
    "duration": 6,
    "start_time": "2022-08-04T08:20:51.095Z"
   },
   {
    "duration": 11065,
    "start_time": "2022-08-04T08:22:45.198Z"
   },
   {
    "duration": 12272,
    "start_time": "2022-08-04T08:23:08.488Z"
   },
   {
    "duration": 12403,
    "start_time": "2022-08-04T08:25:53.358Z"
   },
   {
    "duration": 10,
    "start_time": "2022-08-04T08:27:43.622Z"
   },
   {
    "duration": 9485,
    "start_time": "2022-08-04T08:28:03.676Z"
   },
   {
    "duration": 8735,
    "start_time": "2022-08-04T08:28:28.029Z"
   },
   {
    "duration": 643,
    "start_time": "2022-08-04T08:28:46.548Z"
   },
   {
    "duration": 4028,
    "start_time": "2022-08-04T08:29:00.631Z"
   },
   {
    "duration": 86,
    "start_time": "2022-08-04T08:29:58.927Z"
   },
   {
    "duration": 1237,
    "start_time": "2022-08-04T08:30:45.257Z"
   },
   {
    "duration": 38,
    "start_time": "2022-08-04T08:30:46.496Z"
   },
   {
    "duration": 26,
    "start_time": "2022-08-04T08:30:46.535Z"
   },
   {
    "duration": 5,
    "start_time": "2022-08-04T08:30:46.562Z"
   },
   {
    "duration": 13,
    "start_time": "2022-08-04T08:30:46.569Z"
   },
   {
    "duration": 6,
    "start_time": "2022-08-04T08:30:46.584Z"
   },
   {
    "duration": 222,
    "start_time": "2022-08-04T08:30:46.592Z"
   },
   {
    "duration": 40,
    "start_time": "2022-08-04T08:30:46.815Z"
   },
   {
    "duration": 32,
    "start_time": "2022-08-04T08:30:46.856Z"
   },
   {
    "duration": 6,
    "start_time": "2022-08-04T08:30:46.890Z"
   },
   {
    "duration": 11458,
    "start_time": "2022-08-04T08:30:46.897Z"
   },
   {
    "duration": 1295,
    "start_time": "2022-08-04T08:30:58.357Z"
   },
   {
    "duration": 7781,
    "start_time": "2022-08-04T08:30:59.654Z"
   },
   {
    "duration": 10929,
    "start_time": "2022-08-04T08:31:07.437Z"
   },
   {
    "duration": 1437,
    "start_time": "2022-08-04T08:31:18.368Z"
   },
   {
    "duration": 7559,
    "start_time": "2022-08-04T08:31:19.806Z"
   },
   {
    "duration": 208,
    "start_time": "2022-08-04T08:31:27.368Z"
   },
   {
    "duration": 14,
    "start_time": "2022-08-04T08:31:27.578Z"
   },
   {
    "duration": 15081,
    "start_time": "2022-08-04T08:31:27.594Z"
   },
   {
    "duration": 1639,
    "start_time": "2022-08-04T08:31:42.756Z"
   },
   {
    "duration": 10446,
    "start_time": "2022-08-04T08:31:44.397Z"
   },
   {
    "duration": 16,
    "start_time": "2022-08-04T08:31:54.844Z"
   },
   {
    "duration": 6305,
    "start_time": "2022-08-04T08:31:54.861Z"
   },
   {
    "duration": 754,
    "start_time": "2022-08-04T08:32:01.168Z"
   },
   {
    "duration": 4069,
    "start_time": "2022-08-04T08:32:01.923Z"
   },
   {
    "duration": 301,
    "start_time": "2022-08-04T08:32:05.993Z"
   },
   {
    "duration": 287,
    "start_time": "2022-08-04T08:32:06.295Z"
   },
   {
    "duration": 477,
    "start_time": "2022-08-04T08:41:29.104Z"
   },
   {
    "duration": 428,
    "start_time": "2022-08-04T08:41:52.586Z"
   },
   {
    "duration": 8109,
    "start_time": "2022-08-04T08:42:14.138Z"
   },
   {
    "duration": 718,
    "start_time": "2022-08-04T08:42:38.892Z"
   },
   {
    "duration": 4092,
    "start_time": "2022-08-04T08:42:51.364Z"
   },
   {
    "duration": 4099,
    "start_time": "2022-08-04T08:45:48.760Z"
   },
   {
    "duration": 13174,
    "start_time": "2022-08-04T08:50:33.629Z"
   },
   {
    "duration": 354,
    "start_time": "2022-08-04T08:51:20.865Z"
   },
   {
    "duration": 383,
    "start_time": "2022-08-04T08:51:38.529Z"
   },
   {
    "duration": 1208,
    "start_time": "2022-08-04T08:59:41.189Z"
   },
   {
    "duration": 39,
    "start_time": "2022-08-04T08:59:42.399Z"
   },
   {
    "duration": 26,
    "start_time": "2022-08-04T08:59:42.439Z"
   },
   {
    "duration": 6,
    "start_time": "2022-08-04T08:59:42.466Z"
   },
   {
    "duration": 12,
    "start_time": "2022-08-04T08:59:42.473Z"
   },
   {
    "duration": 6,
    "start_time": "2022-08-04T08:59:42.487Z"
   },
   {
    "duration": 208,
    "start_time": "2022-08-04T08:59:42.494Z"
   },
   {
    "duration": 36,
    "start_time": "2022-08-04T08:59:42.703Z"
   },
   {
    "duration": 42,
    "start_time": "2022-08-04T08:59:42.741Z"
   },
   {
    "duration": 7,
    "start_time": "2022-08-04T08:59:42.784Z"
   },
   {
    "duration": 10472,
    "start_time": "2022-08-04T08:59:42.792Z"
   },
   {
    "duration": 1373,
    "start_time": "2022-08-04T08:59:53.265Z"
   },
   {
    "duration": 7793,
    "start_time": "2022-08-04T08:59:54.639Z"
   },
   {
    "duration": 11022,
    "start_time": "2022-08-04T09:00:02.434Z"
   },
   {
    "duration": 1301,
    "start_time": "2022-08-04T09:00:13.461Z"
   },
   {
    "duration": 7470,
    "start_time": "2022-08-04T09:00:14.763Z"
   },
   {
    "duration": 192,
    "start_time": "2022-08-04T09:00:22.234Z"
   },
   {
    "duration": 10,
    "start_time": "2022-08-04T09:00:22.428Z"
   },
   {
    "duration": 15618,
    "start_time": "2022-08-04T09:00:22.439Z"
   },
   {
    "duration": 1639,
    "start_time": "2022-08-04T09:00:38.060Z"
   },
   {
    "duration": 10306,
    "start_time": "2022-08-04T09:00:39.701Z"
   },
   {
    "duration": 10,
    "start_time": "2022-08-04T09:00:50.008Z"
   },
   {
    "duration": 9741,
    "start_time": "2022-08-04T09:00:50.019Z"
   },
   {
    "duration": 766,
    "start_time": "2022-08-04T09:00:59.761Z"
   },
   {
    "duration": 4084,
    "start_time": "2022-08-04T09:01:00.529Z"
   },
   {
    "duration": 13329,
    "start_time": "2022-08-04T09:01:04.615Z"
   },
   {
    "duration": 364,
    "start_time": "2022-08-04T09:01:17.946Z"
   },
   {
    "duration": 365,
    "start_time": "2022-08-04T09:01:18.312Z"
   },
   {
    "duration": 52,
    "start_time": "2022-08-04T15:26:57.392Z"
   },
   {
    "duration": 1466,
    "start_time": "2022-08-04T17:55:24.764Z"
   },
   {
    "duration": 78,
    "start_time": "2022-08-04T17:55:26.232Z"
   },
   {
    "duration": 26,
    "start_time": "2022-08-04T17:55:26.312Z"
   },
   {
    "duration": 5,
    "start_time": "2022-08-04T17:55:26.341Z"
   },
   {
    "duration": 13,
    "start_time": "2022-08-04T17:55:26.348Z"
   },
   {
    "duration": 7,
    "start_time": "2022-08-04T17:55:26.362Z"
   },
   {
    "duration": 227,
    "start_time": "2022-08-04T17:55:26.370Z"
   },
   {
    "duration": 44,
    "start_time": "2022-08-04T17:55:26.599Z"
   },
   {
    "duration": 35,
    "start_time": "2022-08-04T17:55:26.645Z"
   },
   {
    "duration": 7,
    "start_time": "2022-08-04T17:55:26.683Z"
   },
   {
    "duration": 15154,
    "start_time": "2022-08-04T17:55:26.692Z"
   },
   {
    "duration": 1552,
    "start_time": "2022-08-04T17:55:41.848Z"
   },
   {
    "duration": 8476,
    "start_time": "2022-08-04T17:55:43.402Z"
   },
   {
    "duration": 15266,
    "start_time": "2022-08-04T17:55:51.880Z"
   },
   {
    "duration": 1587,
    "start_time": "2022-08-04T17:56:07.147Z"
   },
   {
    "duration": 8410,
    "start_time": "2022-08-04T17:56:08.737Z"
   },
   {
    "duration": 199,
    "start_time": "2022-08-04T17:56:17.149Z"
   },
   {
    "duration": 11,
    "start_time": "2022-08-04T17:56:17.349Z"
   },
   {
    "duration": 18285,
    "start_time": "2022-08-04T17:56:17.361Z"
   },
   {
    "duration": 1822,
    "start_time": "2022-08-04T17:56:35.648Z"
   },
   {
    "duration": 11625,
    "start_time": "2022-08-04T17:56:37.472Z"
   },
   {
    "duration": 12,
    "start_time": "2022-08-04T17:56:49.100Z"
   },
   {
    "duration": 10025,
    "start_time": "2022-08-04T17:56:49.114Z"
   },
   {
    "duration": 744,
    "start_time": "2022-08-04T17:56:59.146Z"
   },
   {
    "duration": 4502,
    "start_time": "2022-08-04T17:56:59.892Z"
   },
   {
    "duration": 14603,
    "start_time": "2022-08-04T17:57:04.396Z"
   },
   {
    "duration": 52,
    "start_time": "2022-08-04T17:57:19.001Z"
   },
   {
    "duration": 0,
    "start_time": "2022-08-04T17:57:19.055Z"
   },
   {
    "duration": 0,
    "start_time": "2022-08-04T17:57:19.057Z"
   },
   {
    "duration": 0,
    "start_time": "2022-08-04T17:57:19.059Z"
   },
   {
    "duration": 1309,
    "start_time": "2022-08-04T18:08:59.721Z"
   },
   {
    "duration": 40,
    "start_time": "2022-08-04T18:09:01.032Z"
   },
   {
    "duration": 26,
    "start_time": "2022-08-04T18:09:01.074Z"
   },
   {
    "duration": 6,
    "start_time": "2022-08-04T18:09:01.102Z"
   },
   {
    "duration": 23,
    "start_time": "2022-08-04T18:09:01.110Z"
   },
   {
    "duration": 7,
    "start_time": "2022-08-04T18:09:01.134Z"
   },
   {
    "duration": 226,
    "start_time": "2022-08-04T18:09:01.142Z"
   },
   {
    "duration": 38,
    "start_time": "2022-08-04T18:09:01.370Z"
   },
   {
    "duration": 51,
    "start_time": "2022-08-04T18:09:01.410Z"
   },
   {
    "duration": 12,
    "start_time": "2022-08-04T18:09:01.462Z"
   },
   {
    "duration": 14870,
    "start_time": "2022-08-04T18:09:01.476Z"
   },
   {
    "duration": 1514,
    "start_time": "2022-08-04T18:09:16.348Z"
   },
   {
    "duration": 8523,
    "start_time": "2022-08-04T18:09:17.864Z"
   },
   {
    "duration": 15450,
    "start_time": "2022-08-04T18:09:26.389Z"
   },
   {
    "duration": 1471,
    "start_time": "2022-08-04T18:09:41.841Z"
   },
   {
    "duration": 8182,
    "start_time": "2022-08-04T18:09:43.314Z"
   },
   {
    "duration": 219,
    "start_time": "2022-08-04T18:09:51.497Z"
   },
   {
    "duration": 25,
    "start_time": "2022-08-04T18:09:51.717Z"
   },
   {
    "duration": 18096,
    "start_time": "2022-08-04T18:09:51.744Z"
   },
   {
    "duration": 1767,
    "start_time": "2022-08-04T18:10:09.842Z"
   },
   {
    "duration": 11522,
    "start_time": "2022-08-04T18:10:11.611Z"
   },
   {
    "duration": 12,
    "start_time": "2022-08-04T18:10:23.134Z"
   },
   {
    "duration": 10000,
    "start_time": "2022-08-04T18:10:23.148Z"
   },
   {
    "duration": 826,
    "start_time": "2022-08-04T18:10:33.149Z"
   },
   {
    "duration": 4475,
    "start_time": "2022-08-04T18:10:33.976Z"
   },
   {
    "duration": 104077,
    "start_time": "2022-08-04T18:10:38.453Z"
   },
   {
    "duration": 48,
    "start_time": "2022-08-04T18:12:22.531Z"
   },
   {
    "duration": 0,
    "start_time": "2022-08-04T18:12:22.581Z"
   },
   {
    "duration": 0,
    "start_time": "2022-08-04T18:12:22.582Z"
   },
   {
    "duration": 428,
    "start_time": "2022-08-04T18:13:20.193Z"
   },
   {
    "duration": 416,
    "start_time": "2022-08-04T18:14:31.696Z"
   }
  ],
  "kernelspec": {
   "display_name": "Python 3 (ipykernel)",
   "language": "python",
   "name": "python3"
  },
  "language_info": {
   "codemirror_mode": {
    "name": "ipython",
    "version": 3
   },
   "file_extension": ".py",
   "mimetype": "text/x-python",
   "name": "python",
   "nbconvert_exporter": "python",
   "pygments_lexer": "ipython3",
   "version": "3.9.12"
  },
  "toc": {
   "base_numbering": 1,
   "nav_menu": {},
   "number_sections": true,
   "sideBar": true,
   "skip_h1_title": true,
   "title_cell": "Содержание",
   "title_sidebar": "Contents",
   "toc_cell": true,
   "toc_position": {},
   "toc_section_display": true,
   "toc_window_display": true
  }
 },
 "nbformat": 4,
 "nbformat_minor": 2
}
