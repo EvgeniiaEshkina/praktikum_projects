{
 "cells": [
  {
   "cell_type": "markdown",
   "metadata": {},
   "source": [
    "## Описание проекта"
   ]
  },
  {
   "cell_type": "markdown",
   "metadata": {},
   "source": [
    "На основе данных за 2016 год о продажах компьютерных игр, оценок пользователей и экспертов, жанров и платформ, необходимо определить закономерности, определяющие успешность игры, чтобы спланировать, на какой продукт делать ставку в 2017 году.   \n",
    "   \n",
    "**План проекта:**\n",
    "- Ознакомиться с имеющимися данными.\n",
    "- Подготовить данные для анализа.\n",
    "- Провести исследовательский анализ данных.\n",
    "- Составить портрет пользователя каждого региона.\n",
    "- Проверить гипотезы.\n",
    "- Сделать общий вывод и дать рекомендации для бизнеса."
   ]
  },
  {
   "cell_type": "markdown",
   "metadata": {},
   "source": [
    "## Описание данных"
   ]
  },
  {
   "cell_type": "markdown",
   "metadata": {},
   "source": [
    "Данные за 2016 год:  \n",
    "   \n",
    "Name — название игры   \n",
    "Platform — платформа  \n",
    "Year_of_Release — год выпуска  \n",
    "Genre — жанр игры  \n",
    "NA_sales — продажи в Северной Америке (миллионы проданных копий)  \n",
    "EU_sales — продажи в Европе (миллионы проданных копий)  \n",
    "JP_sales — продажи в Японии (миллионы проданных копий)  \n",
    "Other_sales — продажи в других странах (миллионы проданных копий)  \n",
    "Critic_Score — оценка критиков (максимум 100)  \n",
    "User_Score — оценка пользователей (максимум 10)  \n",
    "Rating — рейтинг от организации ESRB (англ. Entertainment Software Rating Board). Эта ассоциация определяет рейтинг компьютерных игр и присваивает им подходящую возрастную категорию.\n",
    "   \n",
    "Данные могут быть неполными."
   ]
  },
  {
   "cell_type": "code",
   "execution_count": 1,
   "metadata": {},
   "outputs": [],
   "source": [
    "#Импортируем необходимые библиотеки.\n",
    "import pandas as pd\n",
    "import seaborn as sns\n",
    "import matplotlib.pyplot as plt\n",
    "from scipy import stats as st"
   ]
  },
  {
   "cell_type": "code",
   "execution_count": 2,
   "metadata": {},
   "outputs": [],
   "source": [
    "#Импортируем данные.\n",
    "data = pd.read_csv('/datasets/games.csv')"
   ]
  },
  {
   "cell_type": "code",
   "execution_count": 3,
   "metadata": {},
   "outputs": [
    {
     "name": "stdout",
     "output_type": "stream",
     "text": [
      "<class 'pandas.core.frame.DataFrame'>\n",
      "RangeIndex: 16715 entries, 0 to 16714\n",
      "Data columns (total 11 columns):\n",
      " #   Column           Non-Null Count  Dtype  \n",
      "---  ------           --------------  -----  \n",
      " 0   Name             16713 non-null  object \n",
      " 1   Platform         16715 non-null  object \n",
      " 2   Year_of_Release  16446 non-null  float64\n",
      " 3   Genre            16713 non-null  object \n",
      " 4   NA_sales         16715 non-null  float64\n",
      " 5   EU_sales         16715 non-null  float64\n",
      " 6   JP_sales         16715 non-null  float64\n",
      " 7   Other_sales      16715 non-null  float64\n",
      " 8   Critic_Score     8137 non-null   float64\n",
      " 9   User_Score       10014 non-null  object \n",
      " 10  Rating           9949 non-null   object \n",
      "dtypes: float64(6), object(5)\n",
      "memory usage: 1.4+ MB\n"
     ]
    }
   ],
   "source": [
    "data.info()"
   ]
  },
  {
   "cell_type": "code",
   "execution_count": 4,
   "metadata": {},
   "outputs": [
    {
     "data": {
      "text/html": [
       "<div>\n",
       "<style scoped>\n",
       "    .dataframe tbody tr th:only-of-type {\n",
       "        vertical-align: middle;\n",
       "    }\n",
       "\n",
       "    .dataframe tbody tr th {\n",
       "        vertical-align: top;\n",
       "    }\n",
       "\n",
       "    .dataframe thead th {\n",
       "        text-align: right;\n",
       "    }\n",
       "</style>\n",
       "<table border=\"1\" class=\"dataframe\">\n",
       "  <thead>\n",
       "    <tr style=\"text-align: right;\">\n",
       "      <th></th>\n",
       "      <th>Name</th>\n",
       "      <th>Platform</th>\n",
       "      <th>Year_of_Release</th>\n",
       "      <th>Genre</th>\n",
       "      <th>NA_sales</th>\n",
       "      <th>EU_sales</th>\n",
       "      <th>JP_sales</th>\n",
       "      <th>Other_sales</th>\n",
       "      <th>Critic_Score</th>\n",
       "      <th>User_Score</th>\n",
       "      <th>Rating</th>\n",
       "    </tr>\n",
       "  </thead>\n",
       "  <tbody>\n",
       "    <tr>\n",
       "      <th>0</th>\n",
       "      <td>Wii Sports</td>\n",
       "      <td>Wii</td>\n",
       "      <td>2006.0</td>\n",
       "      <td>Sports</td>\n",
       "      <td>41.36</td>\n",
       "      <td>28.96</td>\n",
       "      <td>3.77</td>\n",
       "      <td>8.45</td>\n",
       "      <td>76.0</td>\n",
       "      <td>8</td>\n",
       "      <td>E</td>\n",
       "    </tr>\n",
       "    <tr>\n",
       "      <th>1</th>\n",
       "      <td>Super Mario Bros.</td>\n",
       "      <td>NES</td>\n",
       "      <td>1985.0</td>\n",
       "      <td>Platform</td>\n",
       "      <td>29.08</td>\n",
       "      <td>3.58</td>\n",
       "      <td>6.81</td>\n",
       "      <td>0.77</td>\n",
       "      <td>NaN</td>\n",
       "      <td>NaN</td>\n",
       "      <td>NaN</td>\n",
       "    </tr>\n",
       "    <tr>\n",
       "      <th>2</th>\n",
       "      <td>Mario Kart Wii</td>\n",
       "      <td>Wii</td>\n",
       "      <td>2008.0</td>\n",
       "      <td>Racing</td>\n",
       "      <td>15.68</td>\n",
       "      <td>12.76</td>\n",
       "      <td>3.79</td>\n",
       "      <td>3.29</td>\n",
       "      <td>82.0</td>\n",
       "      <td>8.3</td>\n",
       "      <td>E</td>\n",
       "    </tr>\n",
       "    <tr>\n",
       "      <th>3</th>\n",
       "      <td>Wii Sports Resort</td>\n",
       "      <td>Wii</td>\n",
       "      <td>2009.0</td>\n",
       "      <td>Sports</td>\n",
       "      <td>15.61</td>\n",
       "      <td>10.93</td>\n",
       "      <td>3.28</td>\n",
       "      <td>2.95</td>\n",
       "      <td>80.0</td>\n",
       "      <td>8</td>\n",
       "      <td>E</td>\n",
       "    </tr>\n",
       "    <tr>\n",
       "      <th>4</th>\n",
       "      <td>Pokemon Red/Pokemon Blue</td>\n",
       "      <td>GB</td>\n",
       "      <td>1996.0</td>\n",
       "      <td>Role-Playing</td>\n",
       "      <td>11.27</td>\n",
       "      <td>8.89</td>\n",
       "      <td>10.22</td>\n",
       "      <td>1.00</td>\n",
       "      <td>NaN</td>\n",
       "      <td>NaN</td>\n",
       "      <td>NaN</td>\n",
       "    </tr>\n",
       "    <tr>\n",
       "      <th>5</th>\n",
       "      <td>Tetris</td>\n",
       "      <td>GB</td>\n",
       "      <td>1989.0</td>\n",
       "      <td>Puzzle</td>\n",
       "      <td>23.20</td>\n",
       "      <td>2.26</td>\n",
       "      <td>4.22</td>\n",
       "      <td>0.58</td>\n",
       "      <td>NaN</td>\n",
       "      <td>NaN</td>\n",
       "      <td>NaN</td>\n",
       "    </tr>\n",
       "    <tr>\n",
       "      <th>6</th>\n",
       "      <td>New Super Mario Bros.</td>\n",
       "      <td>DS</td>\n",
       "      <td>2006.0</td>\n",
       "      <td>Platform</td>\n",
       "      <td>11.28</td>\n",
       "      <td>9.14</td>\n",
       "      <td>6.50</td>\n",
       "      <td>2.88</td>\n",
       "      <td>89.0</td>\n",
       "      <td>8.5</td>\n",
       "      <td>E</td>\n",
       "    </tr>\n",
       "    <tr>\n",
       "      <th>7</th>\n",
       "      <td>Wii Play</td>\n",
       "      <td>Wii</td>\n",
       "      <td>2006.0</td>\n",
       "      <td>Misc</td>\n",
       "      <td>13.96</td>\n",
       "      <td>9.18</td>\n",
       "      <td>2.93</td>\n",
       "      <td>2.84</td>\n",
       "      <td>58.0</td>\n",
       "      <td>6.6</td>\n",
       "      <td>E</td>\n",
       "    </tr>\n",
       "    <tr>\n",
       "      <th>8</th>\n",
       "      <td>New Super Mario Bros. Wii</td>\n",
       "      <td>Wii</td>\n",
       "      <td>2009.0</td>\n",
       "      <td>Platform</td>\n",
       "      <td>14.44</td>\n",
       "      <td>6.94</td>\n",
       "      <td>4.70</td>\n",
       "      <td>2.24</td>\n",
       "      <td>87.0</td>\n",
       "      <td>8.4</td>\n",
       "      <td>E</td>\n",
       "    </tr>\n",
       "    <tr>\n",
       "      <th>9</th>\n",
       "      <td>Duck Hunt</td>\n",
       "      <td>NES</td>\n",
       "      <td>1984.0</td>\n",
       "      <td>Shooter</td>\n",
       "      <td>26.93</td>\n",
       "      <td>0.63</td>\n",
       "      <td>0.28</td>\n",
       "      <td>0.47</td>\n",
       "      <td>NaN</td>\n",
       "      <td>NaN</td>\n",
       "      <td>NaN</td>\n",
       "    </tr>\n",
       "  </tbody>\n",
       "</table>\n",
       "</div>"
      ],
      "text/plain": [
       "                        Name Platform  Year_of_Release         Genre  \\\n",
       "0                 Wii Sports      Wii           2006.0        Sports   \n",
       "1          Super Mario Bros.      NES           1985.0      Platform   \n",
       "2             Mario Kart Wii      Wii           2008.0        Racing   \n",
       "3          Wii Sports Resort      Wii           2009.0        Sports   \n",
       "4   Pokemon Red/Pokemon Blue       GB           1996.0  Role-Playing   \n",
       "5                     Tetris       GB           1989.0        Puzzle   \n",
       "6      New Super Mario Bros.       DS           2006.0      Platform   \n",
       "7                   Wii Play      Wii           2006.0          Misc   \n",
       "8  New Super Mario Bros. Wii      Wii           2009.0      Platform   \n",
       "9                  Duck Hunt      NES           1984.0       Shooter   \n",
       "\n",
       "   NA_sales  EU_sales  JP_sales  Other_sales  Critic_Score User_Score Rating  \n",
       "0     41.36     28.96      3.77         8.45          76.0          8      E  \n",
       "1     29.08      3.58      6.81         0.77           NaN        NaN    NaN  \n",
       "2     15.68     12.76      3.79         3.29          82.0        8.3      E  \n",
       "3     15.61     10.93      3.28         2.95          80.0          8      E  \n",
       "4     11.27      8.89     10.22         1.00           NaN        NaN    NaN  \n",
       "5     23.20      2.26      4.22         0.58           NaN        NaN    NaN  \n",
       "6     11.28      9.14      6.50         2.88          89.0        8.5      E  \n",
       "7     13.96      9.18      2.93         2.84          58.0        6.6      E  \n",
       "8     14.44      6.94      4.70         2.24          87.0        8.4      E  \n",
       "9     26.93      0.63      0.28         0.47           NaN        NaN    NaN  "
      ]
     },
     "execution_count": 4,
     "metadata": {},
     "output_type": "execute_result"
    }
   ],
   "source": [
    "data.head(10)"
   ]
  },
  {
   "cell_type": "markdown",
   "metadata": {},
   "source": [
    "## Предобработка данных"
   ]
  },
  {
   "cell_type": "markdown",
   "metadata": {},
   "source": [
    "Приведем все названия столбцов к единому регистру."
   ]
  },
  {
   "cell_type": "code",
   "execution_count": 5,
   "metadata": {},
   "outputs": [],
   "source": [
    "data = data.rename(columns={'Name':'name', 'Platform':'platform', 'Year_of_Release':'year_of_release', 'Genre':'genre', 'NA_sales':'na_sales', 'EU_sales':'eu_sales', 'JP_sales':'jp_sales', 'Other_sales':'other_sales', 'Critic_Score':'critic_score', 'User_Score':'user_score', 'Rating':'rating'})"
   ]
  },
  {
   "cell_type": "markdown",
   "metadata": {},
   "source": [
    "Строки с пропусками в столбцах name, genre и year_of_release составляют совсем малую часть от всех данных, соответсвенно, строки с пропусками в данных столбцах можно удалить. Строк с пропусками в столбцах critic_score, user_score и rating слишком много, их нельзя удалить. Пропуски в данных столбцах могут быть связаны с тем, что игры не оценивались, соответсвенно, заменить данные пропуски нельзя ни нулями, ни средними или медианными значениями по столбцу. Лучше оставить пропуски. Заменим tbd в столбце user_score на nan."
   ]
  },
  {
   "cell_type": "code",
   "execution_count": 6,
   "metadata": {},
   "outputs": [],
   "source": [
    "#data.isna().sum()\n",
    "data.dropna(subset = ['year_of_release'], inplace=True)\n",
    "data.dropna(subset = ['name'], inplace=True)\n",
    "data.dropna(subset = ['genre'], inplace=True)\n",
    "data.loc[(data['user_score'] == 'tbd'), 'user_score'] = 'nan'"
   ]
  },
  {
   "cell_type": "markdown",
   "metadata": {},
   "source": [
    "Заменим пропуски в стобце rating на \"no_rating\"."
   ]
  },
  {
   "cell_type": "code",
   "execution_count": 7,
   "metadata": {},
   "outputs": [],
   "source": [
    "data['rating'] = data['rating'].fillna(\"no_rating\")"
   ]
  },
  {
   "cell_type": "markdown",
   "metadata": {},
   "source": [
    "Заменим тип данных float на int в столбце year_released, и тип данных object в столбце user_score на float."
   ]
  },
  {
   "cell_type": "code",
   "execution_count": 8,
   "metadata": {},
   "outputs": [],
   "source": [
    "data['year_of_release'] = data['year_of_release'].astype(int)\n",
    "data['user_score'] = data['user_score'].astype(float)"
   ]
  },
  {
   "cell_type": "markdown",
   "metadata": {},
   "source": [
    "Добавим столбец с суммой продаж во всех регионах."
   ]
  },
  {
   "cell_type": "code",
   "execution_count": 9,
   "metadata": {},
   "outputs": [],
   "source": [
    "data['all_sales'] = data['na_sales'] + data['eu_sales'] + data['jp_sales'] + data['other_sales']"
   ]
  },
  {
   "cell_type": "markdown",
   "metadata": {},
   "source": [
    "## Исследовательский анализ данных"
   ]
  },
  {
   "cell_type": "markdown",
   "metadata": {},
   "source": [
    "Посчитаем, сколько игр было выпущено за каждый год. До 1994 года выпускалось совсем мало игр. Соответственно, данные до 1994 года можно отбросить."
   ]
  },
  {
   "cell_type": "code",
   "execution_count": 10,
   "metadata": {},
   "outputs": [
    {
     "data": {
      "text/plain": [
       "year_of_release\n",
       "1980       9\n",
       "1981      46\n",
       "1982      36\n",
       "1983      17\n",
       "1984      14\n",
       "1985      14\n",
       "1986      21\n",
       "1987      16\n",
       "1988      15\n",
       "1989      17\n",
       "1990      16\n",
       "1991      41\n",
       "1992      43\n",
       "1993      60\n",
       "1994     121\n",
       "1995     219\n",
       "1996     263\n",
       "1997     289\n",
       "1998     379\n",
       "1999     338\n",
       "2000     350\n",
       "2001     482\n",
       "2002     829\n",
       "2003     775\n",
       "2004     762\n",
       "2005     939\n",
       "2006    1006\n",
       "2007    1197\n",
       "2008    1427\n",
       "2009    1426\n",
       "2010    1255\n",
       "2011    1136\n",
       "2012     653\n",
       "2013     544\n",
       "2014     581\n",
       "2015     606\n",
       "2016     502\n",
       "Name: name, dtype: int64"
      ]
     },
     "execution_count": 10,
     "metadata": {},
     "output_type": "execute_result"
    }
   ],
   "source": [
    "data.pivot_table(index='year_of_release', aggfunc='count')['name']"
   ]
  },
  {
   "cell_type": "code",
   "execution_count": 11,
   "metadata": {},
   "outputs": [],
   "source": [
    "data = data.query('year_of_release >= 1994').copy()"
   ]
  },
  {
   "cell_type": "markdown",
   "metadata": {},
   "source": [
    "Посмотрим суммарные продажи по платформам."
   ]
  },
  {
   "cell_type": "code",
   "execution_count": 12,
   "metadata": {},
   "outputs": [
    {
     "data": {
      "text/plain": [
       "platform\n",
       "PCFX       0.03\n",
       "3DO        0.10\n",
       "NES        0.11\n",
       "TG16       0.16\n",
       "SCD        0.36\n",
       "NG         1.23\n",
       "WS         1.42\n",
       "GEN        8.13\n",
       "DC        15.95\n",
       "SAT       33.59\n",
       "PSV       53.81\n",
       "WiiU      82.19\n",
       "SNES      84.67\n",
       "GB       152.08\n",
       "XOne     159.32\n",
       "GC       196.73\n",
       "N64      218.01\n",
       "XB       251.57\n",
       "PC       252.66\n",
       "3DS      257.81\n",
       "PSP      289.53\n",
       "GBA      312.88\n",
       "PS4      314.14\n",
       "PS       727.58\n",
       "DS       802.76\n",
       "Wii      891.18\n",
       "PS3      931.34\n",
       "X360     961.24\n",
       "PS2     1233.56\n",
       "Name: all_sales, dtype: float64"
      ]
     },
     "execution_count": 12,
     "metadata": {},
     "output_type": "execute_result"
    }
   ],
   "source": [
    "data.pivot_table(index='platform', values='all_sales', aggfunc='sum')['all_sales'].sort_values()"
   ]
  },
  {
   "cell_type": "markdown",
   "metadata": {},
   "source": [
    "Самые прибыльные платформы: PS, DS, Wii, PS3, X360, PS2."
   ]
  },
  {
   "cell_type": "code",
   "execution_count": 13,
   "metadata": {},
   "outputs": [],
   "source": [
    "best_platforms = data.query('platform == \"PS\" or platform == \"DS\" or platform == \"Wii\" or platform == \"PS3\" or platform == \"X360\" or platform == \"PS2\"')"
   ]
  },
  {
   "cell_type": "code",
   "execution_count": 14,
   "metadata": {},
   "outputs": [
    {
     "data": {
      "text/plain": [
       "<AxesSubplot:xlabel='year_of_release'>"
      ]
     },
     "execution_count": 14,
     "metadata": {},
     "output_type": "execute_result"
    },
    {
     "data": {
      "image/png": "[encoded data removed]",
      "text/plain": [
       "<Figure size 720x288 with 1 Axes>"
      ]
     },
     "metadata": {
      "needs_background": "light"
     },
     "output_type": "display_data"
    }
   ],
   "source": [
    "best_platforms.pivot_table(index='year_of_release', columns='platform', values='all_sales', aggfunc='sum').plot(kind='line', figsize=(10,4),  style = 'o-')"
   ]
  },
  {
   "cell_type": "markdown",
   "metadata": {},
   "source": [
    "По данному графику видно, что в среднем платформа пользуется популярностью около 10 лет, затем она исчезает и ей на смену приходит новая. Таким образом, для построения прогноза на 2017 год, стоит исследовать последние 5 лет, чтобы не учитывать платформы, популярность которых уже почти угасла, и уделить больше внимания новым набирающим популярность платформам. Возьмем данные за 2011 - 2016 гг."
   ]
  },
  {
   "cell_type": "code",
   "execution_count": 15,
   "metadata": {},
   "outputs": [],
   "source": [
    "data_2011_2016 = data.query('2010 < year_of_release < 2017').copy()"
   ]
  },
  {
   "cell_type": "code",
   "execution_count": 16,
   "metadata": {},
   "outputs": [
    {
     "data": {
      "text/plain": [
       "<AxesSubplot:xlabel='platform'>"
      ]
     },
     "execution_count": 16,
     "metadata": {},
     "output_type": "execute_result"
    },
    {
     "data": {
      "image/png": "[encoded data removed]",
      "text/plain": [
       "<Figure size 432x288 with 1 Axes>"
      ]
     },
     "metadata": {
      "needs_background": "light"
     },
     "output_type": "display_data"
    }
   ],
   "source": [
    "data_2011_2016.pivot_table(index='platform', columns='year_of_release', values='all_sales', aggfunc='sum').plot(kind='bar')"
   ]
  },
  {
   "cell_type": "markdown",
   "metadata": {},
   "source": [
    "Несмотря на то, что по данному графику по продажам лидируют платформы PS3 и X360, их популярность очень сило упала за последние пару лет, можно предположить, что их популярность в 2017 году будет еще меньше. Стоит делать упор на платформах, популярность которых растет, а именно PS4 и XOne."
   ]
  },
  {
   "cell_type": "code",
   "execution_count": 17,
   "metadata": {},
   "outputs": [
    {
     "data": {
      "text/plain": [
       "<AxesSubplot:xlabel='all_sales', ylabel='platform'>"
      ]
     },
     "execution_count": 17,
     "metadata": {},
     "output_type": "execute_result"
    },
    {
     "data": {
      "image/png": "[encoded data removed]",
      "text/plain": [
       "<Figure size 432x288 with 1 Axes>"
      ]
     },
     "metadata": {
      "needs_background": "light"
     },
     "output_type": "display_data"
    }
   ],
   "source": [
    "sns.boxplot(data = data_2011_2016, x = 'all_sales', y = 'platform')"
   ]
  },
  {
   "cell_type": "code",
   "execution_count": 18,
   "metadata": {},
   "outputs": [
    {
     "data": {
      "text/plain": [
       "(0.0, 1.5)"
      ]
     },
     "execution_count": 18,
     "metadata": {},
     "output_type": "execute_result"
    },
    {
     "data": {
      "image/png": "[encoded data removed]",
      "text/plain": [
       "<Figure size 432x288 with 1 Axes>"
      ]
     },
     "metadata": {
      "needs_background": "light"
     },
     "output_type": "display_data"
    }
   ],
   "source": [
    "sns.boxplot(data = data_2011_2016, x = 'all_sales', y = 'platform')\n",
    "plt.xlim(0, 1.5)"
   ]
  },
  {
   "cell_type": "markdown",
   "metadata": {},
   "source": [
    "На данных графиках также видны платформы - лидеры продаж: PS3, PS4, X360, XOne."
   ]
  },
  {
   "cell_type": "markdown",
   "metadata": {},
   "source": [
    "Посмотрим, как влияют отзывы на продажи внутри самой потенциально прибыльной платформы - PS4."
   ]
  },
  {
   "cell_type": "code",
   "execution_count": 19,
   "metadata": {},
   "outputs": [
    {
     "data": {
      "text/html": [
       "<div>\n",
       "<style scoped>\n",
       "    .dataframe tbody tr th:only-of-type {\n",
       "        vertical-align: middle;\n",
       "    }\n",
       "\n",
       "    .dataframe tbody tr th {\n",
       "        vertical-align: top;\n",
       "    }\n",
       "\n",
       "    .dataframe thead th {\n",
       "        text-align: right;\n",
       "    }\n",
       "</style>\n",
       "<table border=\"1\" class=\"dataframe\">\n",
       "  <thead>\n",
       "    <tr style=\"text-align: right;\">\n",
       "      <th></th>\n",
       "      <th>year_of_release</th>\n",
       "      <th>na_sales</th>\n",
       "      <th>eu_sales</th>\n",
       "      <th>jp_sales</th>\n",
       "      <th>other_sales</th>\n",
       "      <th>critic_score</th>\n",
       "      <th>user_score</th>\n",
       "      <th>all_sales</th>\n",
       "    </tr>\n",
       "  </thead>\n",
       "  <tbody>\n",
       "    <tr>\n",
       "      <th>year_of_release</th>\n",
       "      <td>1.000000</td>\n",
       "      <td>-0.248961</td>\n",
       "      <td>-0.208306</td>\n",
       "      <td>-0.060993</td>\n",
       "      <td>-0.234796</td>\n",
       "      <td>-0.021142</td>\n",
       "      <td>0.152447</td>\n",
       "      <td>-0.235032</td>\n",
       "    </tr>\n",
       "    <tr>\n",
       "      <th>na_sales</th>\n",
       "      <td>-0.248961</td>\n",
       "      <td>1.000000</td>\n",
       "      <td>0.785362</td>\n",
       "      <td>0.472981</td>\n",
       "      <td>0.944259</td>\n",
       "      <td>0.415008</td>\n",
       "      <td>-0.020933</td>\n",
       "      <td>0.928160</td>\n",
       "    </tr>\n",
       "    <tr>\n",
       "      <th>eu_sales</th>\n",
       "      <td>-0.208306</td>\n",
       "      <td>0.785362</td>\n",
       "      <td>1.000000</td>\n",
       "      <td>0.464563</td>\n",
       "      <td>0.944698</td>\n",
       "      <td>0.346720</td>\n",
       "      <td>-0.048925</td>\n",
       "      <td>0.958157</td>\n",
       "    </tr>\n",
       "    <tr>\n",
       "      <th>jp_sales</th>\n",
       "      <td>-0.060993</td>\n",
       "      <td>0.472981</td>\n",
       "      <td>0.464563</td>\n",
       "      <td>1.000000</td>\n",
       "      <td>0.496467</td>\n",
       "      <td>0.322358</td>\n",
       "      <td>0.171332</td>\n",
       "      <td>0.527129</td>\n",
       "    </tr>\n",
       "    <tr>\n",
       "      <th>other_sales</th>\n",
       "      <td>-0.234796</td>\n",
       "      <td>0.944259</td>\n",
       "      <td>0.944698</td>\n",
       "      <td>0.496467</td>\n",
       "      <td>1.000000</td>\n",
       "      <td>0.409191</td>\n",
       "      <td>-0.035639</td>\n",
       "      <td>0.998051</td>\n",
       "    </tr>\n",
       "    <tr>\n",
       "      <th>critic_score</th>\n",
       "      <td>-0.021142</td>\n",
       "      <td>0.415008</td>\n",
       "      <td>0.346720</td>\n",
       "      <td>0.322358</td>\n",
       "      <td>0.409191</td>\n",
       "      <td>1.000000</td>\n",
       "      <td>0.557654</td>\n",
       "      <td>0.406568</td>\n",
       "    </tr>\n",
       "    <tr>\n",
       "      <th>user_score</th>\n",
       "      <td>0.152447</td>\n",
       "      <td>-0.020933</td>\n",
       "      <td>-0.048925</td>\n",
       "      <td>0.171332</td>\n",
       "      <td>-0.035639</td>\n",
       "      <td>0.557654</td>\n",
       "      <td>1.000000</td>\n",
       "      <td>-0.031957</td>\n",
       "    </tr>\n",
       "    <tr>\n",
       "      <th>all_sales</th>\n",
       "      <td>-0.235032</td>\n",
       "      <td>0.928160</td>\n",
       "      <td>0.958157</td>\n",
       "      <td>0.527129</td>\n",
       "      <td>0.998051</td>\n",
       "      <td>0.406568</td>\n",
       "      <td>-0.031957</td>\n",
       "      <td>1.000000</td>\n",
       "    </tr>\n",
       "  </tbody>\n",
       "</table>\n",
       "</div>"
      ],
      "text/plain": [
       "                 year_of_release  na_sales  eu_sales  jp_sales  other_sales  \\\n",
       "year_of_release         1.000000 -0.248961 -0.208306 -0.060993    -0.234796   \n",
       "na_sales               -0.248961  1.000000  0.785362  0.472981     0.944259   \n",
       "eu_sales               -0.208306  0.785362  1.000000  0.464563     0.944698   \n",
       "jp_sales               -0.060993  0.472981  0.464563  1.000000     0.496467   \n",
       "other_sales            -0.234796  0.944259  0.944698  0.496467     1.000000   \n",
       "critic_score           -0.021142  0.415008  0.346720  0.322358     0.409191   \n",
       "user_score              0.152447 -0.020933 -0.048925  0.171332    -0.035639   \n",
       "all_sales              -0.235032  0.928160  0.958157  0.527129     0.998051   \n",
       "\n",
       "                 critic_score  user_score  all_sales  \n",
       "year_of_release     -0.021142    0.152447  -0.235032  \n",
       "na_sales             0.415008   -0.020933   0.928160  \n",
       "eu_sales             0.346720   -0.048925   0.958157  \n",
       "jp_sales             0.322358    0.171332   0.527129  \n",
       "other_sales          0.409191   -0.035639   0.998051  \n",
       "critic_score         1.000000    0.557654   0.406568  \n",
       "user_score           0.557654    1.000000  -0.031957  \n",
       "all_sales            0.406568   -0.031957   1.000000  "
      ]
     },
     "execution_count": 19,
     "metadata": {},
     "output_type": "execute_result"
    }
   ],
   "source": [
    "data_2011_2016.query('platform == \"PS4\"').corr()"
   ]
  },
  {
   "cell_type": "code",
   "execution_count": 20,
   "metadata": {},
   "outputs": [
    {
     "data": {
      "text/plain": [
       "<AxesSubplot:xlabel='all_sales', ylabel='critic_score'>"
      ]
     },
     "execution_count": 20,
     "metadata": {},
     "output_type": "execute_result"
    },
    {
     "data": {
      "image/png": "[encoded data removed]",
      "text/plain": [
       "<Figure size 432x288 with 1 Axes>"
      ]
     },
     "metadata": {
      "needs_background": "light"
     },
     "output_type": "display_data"
    }
   ],
   "source": [
    "data_2011_2016.query('platform == \"PS4\"').plot(x='all_sales', y='critic_score', kind='scatter')"
   ]
  },
  {
   "cell_type": "code",
   "execution_count": 21,
   "metadata": {},
   "outputs": [
    {
     "data": {
      "text/plain": [
       "<AxesSubplot:xlabel='all_sales', ylabel='user_score'>"
      ]
     },
     "execution_count": 21,
     "metadata": {},
     "output_type": "execute_result"
    },
    {
     "data": {
      "image/png": "[encoded data removed]",
      "text/plain": [
       "<Figure size 432x288 with 1 Axes>"
      ]
     },
     "metadata": {
      "needs_background": "light"
     },
     "output_type": "display_data"
    }
   ],
   "source": [
    "data_2011_2016.query('platform == \"PS4\"').plot(x='all_sales', y='user_score', kind='scatter')"
   ]
  },
  {
   "cell_type": "markdown",
   "metadata": {},
   "source": [
    "Коэффициент корреляции Пирсона и диаграммы рассеяния показывают некоторую взаимосвязь между отзывами критиков и пользователей и продажами. Чем выше отзыв критиков, тем выше продажи. При этом отзывы пользователей практически никак не влияют на продажи. Проверим эти выводы на продажах среди других платформ."
   ]
  },
  {
   "cell_type": "code",
   "execution_count": 22,
   "metadata": {},
   "outputs": [
    {
     "data": {
      "text/html": [
       "<div>\n",
       "<style scoped>\n",
       "    .dataframe tbody tr th:only-of-type {\n",
       "        vertical-align: middle;\n",
       "    }\n",
       "\n",
       "    .dataframe tbody tr th {\n",
       "        vertical-align: top;\n",
       "    }\n",
       "\n",
       "    .dataframe thead th {\n",
       "        text-align: right;\n",
       "    }\n",
       "</style>\n",
       "<table border=\"1\" class=\"dataframe\">\n",
       "  <thead>\n",
       "    <tr style=\"text-align: right;\">\n",
       "      <th></th>\n",
       "      <th>year_of_release</th>\n",
       "      <th>na_sales</th>\n",
       "      <th>eu_sales</th>\n",
       "      <th>jp_sales</th>\n",
       "      <th>other_sales</th>\n",
       "      <th>critic_score</th>\n",
       "      <th>user_score</th>\n",
       "      <th>all_sales</th>\n",
       "    </tr>\n",
       "  </thead>\n",
       "  <tbody>\n",
       "    <tr>\n",
       "      <th>year_of_release</th>\n",
       "      <td>1.000000</td>\n",
       "      <td>-0.068546</td>\n",
       "      <td>-0.055892</td>\n",
       "      <td>0.003222</td>\n",
       "      <td>-0.074233</td>\n",
       "      <td>0.106620</td>\n",
       "      <td>-0.037043</td>\n",
       "      <td>-0.062162</td>\n",
       "    </tr>\n",
       "    <tr>\n",
       "      <th>na_sales</th>\n",
       "      <td>-0.068546</td>\n",
       "      <td>1.000000</td>\n",
       "      <td>0.806934</td>\n",
       "      <td>0.276286</td>\n",
       "      <td>0.799419</td>\n",
       "      <td>0.297275</td>\n",
       "      <td>0.018312</td>\n",
       "      <td>0.934087</td>\n",
       "    </tr>\n",
       "    <tr>\n",
       "      <th>eu_sales</th>\n",
       "      <td>-0.055892</td>\n",
       "      <td>0.806934</td>\n",
       "      <td>1.000000</td>\n",
       "      <td>0.309024</td>\n",
       "      <td>0.942916</td>\n",
       "      <td>0.308023</td>\n",
       "      <td>0.011489</td>\n",
       "      <td>0.934284</td>\n",
       "    </tr>\n",
       "    <tr>\n",
       "      <th>jp_sales</th>\n",
       "      <td>0.003222</td>\n",
       "      <td>0.276286</td>\n",
       "      <td>0.309024</td>\n",
       "      <td>1.000000</td>\n",
       "      <td>0.234275</td>\n",
       "      <td>0.125062</td>\n",
       "      <td>0.168990</td>\n",
       "      <td>0.474154</td>\n",
       "    </tr>\n",
       "    <tr>\n",
       "      <th>other_sales</th>\n",
       "      <td>-0.074233</td>\n",
       "      <td>0.799419</td>\n",
       "      <td>0.942916</td>\n",
       "      <td>0.234275</td>\n",
       "      <td>1.000000</td>\n",
       "      <td>0.284723</td>\n",
       "      <td>0.020969</td>\n",
       "      <td>0.901629</td>\n",
       "    </tr>\n",
       "    <tr>\n",
       "      <th>critic_score</th>\n",
       "      <td>0.106620</td>\n",
       "      <td>0.297275</td>\n",
       "      <td>0.308023</td>\n",
       "      <td>0.125062</td>\n",
       "      <td>0.284723</td>\n",
       "      <td>1.000000</td>\n",
       "      <td>0.531354</td>\n",
       "      <td>0.316886</td>\n",
       "    </tr>\n",
       "    <tr>\n",
       "      <th>user_score</th>\n",
       "      <td>-0.037043</td>\n",
       "      <td>0.018312</td>\n",
       "      <td>0.011489</td>\n",
       "      <td>0.168990</td>\n",
       "      <td>0.020969</td>\n",
       "      <td>0.531354</td>\n",
       "      <td>1.000000</td>\n",
       "      <td>0.039663</td>\n",
       "    </tr>\n",
       "    <tr>\n",
       "      <th>all_sales</th>\n",
       "      <td>-0.062162</td>\n",
       "      <td>0.934087</td>\n",
       "      <td>0.934284</td>\n",
       "      <td>0.474154</td>\n",
       "      <td>0.901629</td>\n",
       "      <td>0.316886</td>\n",
       "      <td>0.039663</td>\n",
       "      <td>1.000000</td>\n",
       "    </tr>\n",
       "  </tbody>\n",
       "</table>\n",
       "</div>"
      ],
      "text/plain": [
       "                 year_of_release  na_sales  eu_sales  jp_sales  other_sales  \\\n",
       "year_of_release         1.000000 -0.068546 -0.055892  0.003222    -0.074233   \n",
       "na_sales               -0.068546  1.000000  0.806934  0.276286     0.799419   \n",
       "eu_sales               -0.055892  0.806934  1.000000  0.309024     0.942916   \n",
       "jp_sales                0.003222  0.276286  0.309024  1.000000     0.234275   \n",
       "other_sales            -0.074233  0.799419  0.942916  0.234275     1.000000   \n",
       "critic_score            0.106620  0.297275  0.308023  0.125062     0.284723   \n",
       "user_score             -0.037043  0.018312  0.011489  0.168990     0.020969   \n",
       "all_sales              -0.062162  0.934087  0.934284  0.474154     0.901629   \n",
       "\n",
       "                 critic_score  user_score  all_sales  \n",
       "year_of_release      0.106620   -0.037043  -0.062162  \n",
       "na_sales             0.297275    0.018312   0.934087  \n",
       "eu_sales             0.308023    0.011489   0.934284  \n",
       "jp_sales             0.125062    0.168990   0.474154  \n",
       "other_sales          0.284723    0.020969   0.901629  \n",
       "critic_score         1.000000    0.531354   0.316886  \n",
       "user_score           0.531354    1.000000   0.039663  \n",
       "all_sales            0.316886    0.039663   1.000000  "
      ]
     },
     "execution_count": 22,
     "metadata": {},
     "output_type": "execute_result"
    }
   ],
   "source": [
    "data_2011_2016.query('platform != \"PS4\"').corr()"
   ]
  },
  {
   "cell_type": "code",
   "execution_count": 23,
   "metadata": {},
   "outputs": [
    {
     "data": {
      "text/plain": [
       "<AxesSubplot:xlabel='all_sales', ylabel='critic_score'>"
      ]
     },
     "execution_count": 23,
     "metadata": {},
     "output_type": "execute_result"
    },
    {
     "data": {
      "image/png": "[encoded data removed]",
      "text/plain": [
       "<Figure size 432x288 with 1 Axes>"
      ]
     },
     "metadata": {
      "needs_background": "light"
     },
     "output_type": "display_data"
    }
   ],
   "source": [
    "data_2011_2016.query('platform != \"PS4\"').plot(x='all_sales', y='critic_score', kind='scatter')"
   ]
  },
  {
   "cell_type": "code",
   "execution_count": 24,
   "metadata": {},
   "outputs": [
    {
     "data": {
      "text/plain": [
       "<AxesSubplot:xlabel='all_sales', ylabel='user_score'>"
      ]
     },
     "execution_count": 24,
     "metadata": {},
     "output_type": "execute_result"
    },
    {
     "data": {
      "image/png": "[encoded data removed]",
      "text/plain": [
       "<Figure size 432x288 with 1 Axes>"
      ]
     },
     "metadata": {
      "needs_background": "light"
     },
     "output_type": "display_data"
    }
   ],
   "source": [
    "data_2011_2016.query('platform != \"PS4\"').plot(x='all_sales', y='user_score', kind='scatter')"
   ]
  },
  {
   "cell_type": "markdown",
   "metadata": {},
   "source": [
    "Анализ по всем платформам подтверждает выводы, сделанные на примере платформы PS4. Чем выше отзыв критиков - тем выше продаже, влияние отзыва пользователя на продажи минимально."
   ]
  },
  {
   "cell_type": "markdown",
   "metadata": {},
   "source": [
    "Посмотрим на влияние жанров игр на продажи."
   ]
  },
  {
   "cell_type": "code",
   "execution_count": 25,
   "metadata": {},
   "outputs": [
    {
     "data": {
      "text/plain": [
       "<AxesSubplot:xlabel='genre'>"
      ]
     },
     "execution_count": 25,
     "metadata": {},
     "output_type": "execute_result"
    },
    {
     "data": {
      "image/png": "[encoded data removed]",
      "text/plain": [
       "<Figure size 432x288 with 1 Axes>"
      ]
     },
     "metadata": {
      "needs_background": "light"
     },
     "output_type": "display_data"
    }
   ],
   "source": [
    "data_2011_2016.pivot_table(index='genre', values='all_sales', aggfunc='median').sort_values(by='all_sales').plot(kind='bar')"
   ]
  },
  {
   "cell_type": "markdown",
   "metadata": {},
   "source": [
    "Наблюдается сильная зависимость объема продаж от жанра игры. Самый популярный жанр - shooter, прибыли с продаж игр в этом жанре сильно выше, чем от остальных жанров. Остальные жанры пользуются гораздо меньшей популярностью и, соотвественно, менее прибыльны. Также можно выделить жанры Sports, Platform и Fighting."
   ]
  },
  {
   "cell_type": "markdown",
   "metadata": {},
   "source": [
    "## Портрет пользователя"
   ]
  },
  {
   "cell_type": "code",
   "execution_count": 26,
   "metadata": {},
   "outputs": [
    {
     "data": {
      "text/html": [
       "<div>\n",
       "<style scoped>\n",
       "    .dataframe tbody tr th:only-of-type {\n",
       "        vertical-align: middle;\n",
       "    }\n",
       "\n",
       "    .dataframe tbody tr th {\n",
       "        vertical-align: top;\n",
       "    }\n",
       "\n",
       "    .dataframe thead th {\n",
       "        text-align: right;\n",
       "    }\n",
       "</style>\n",
       "<table border=\"1\" class=\"dataframe\">\n",
       "  <thead>\n",
       "    <tr style=\"text-align: right;\">\n",
       "      <th></th>\n",
       "      <th>name</th>\n",
       "      <th>platform</th>\n",
       "      <th>year_of_release</th>\n",
       "      <th>genre</th>\n",
       "      <th>na_sales</th>\n",
       "      <th>eu_sales</th>\n",
       "      <th>jp_sales</th>\n",
       "      <th>other_sales</th>\n",
       "      <th>critic_score</th>\n",
       "      <th>user_score</th>\n",
       "      <th>rating</th>\n",
       "      <th>all_sales</th>\n",
       "    </tr>\n",
       "  </thead>\n",
       "  <tbody>\n",
       "    <tr>\n",
       "      <th>16</th>\n",
       "      <td>Grand Theft Auto V</td>\n",
       "      <td>PS3</td>\n",
       "      <td>2013</td>\n",
       "      <td>Action</td>\n",
       "      <td>7.02</td>\n",
       "      <td>9.09</td>\n",
       "      <td>0.98</td>\n",
       "      <td>3.96</td>\n",
       "      <td>97.0</td>\n",
       "      <td>8.2</td>\n",
       "      <td>M</td>\n",
       "      <td>21.05</td>\n",
       "    </tr>\n",
       "    <tr>\n",
       "      <th>23</th>\n",
       "      <td>Grand Theft Auto V</td>\n",
       "      <td>X360</td>\n",
       "      <td>2013</td>\n",
       "      <td>Action</td>\n",
       "      <td>9.66</td>\n",
       "      <td>5.14</td>\n",
       "      <td>0.06</td>\n",
       "      <td>1.41</td>\n",
       "      <td>97.0</td>\n",
       "      <td>8.1</td>\n",
       "      <td>M</td>\n",
       "      <td>16.27</td>\n",
       "    </tr>\n",
       "    <tr>\n",
       "      <th>29</th>\n",
       "      <td>Call of Duty: Modern Warfare 3</td>\n",
       "      <td>X360</td>\n",
       "      <td>2011</td>\n",
       "      <td>Shooter</td>\n",
       "      <td>9.04</td>\n",
       "      <td>4.24</td>\n",
       "      <td>0.13</td>\n",
       "      <td>1.32</td>\n",
       "      <td>88.0</td>\n",
       "      <td>3.4</td>\n",
       "      <td>M</td>\n",
       "      <td>14.73</td>\n",
       "    </tr>\n",
       "    <tr>\n",
       "      <th>31</th>\n",
       "      <td>Call of Duty: Black Ops 3</td>\n",
       "      <td>PS4</td>\n",
       "      <td>2015</td>\n",
       "      <td>Shooter</td>\n",
       "      <td>6.03</td>\n",
       "      <td>5.86</td>\n",
       "      <td>0.36</td>\n",
       "      <td>2.38</td>\n",
       "      <td>NaN</td>\n",
       "      <td>NaN</td>\n",
       "      <td>no_rating</td>\n",
       "      <td>14.63</td>\n",
       "    </tr>\n",
       "    <tr>\n",
       "      <th>33</th>\n",
       "      <td>Pokemon X/Pokemon Y</td>\n",
       "      <td>3DS</td>\n",
       "      <td>2013</td>\n",
       "      <td>Role-Playing</td>\n",
       "      <td>5.28</td>\n",
       "      <td>4.19</td>\n",
       "      <td>4.35</td>\n",
       "      <td>0.78</td>\n",
       "      <td>NaN</td>\n",
       "      <td>NaN</td>\n",
       "      <td>no_rating</td>\n",
       "      <td>14.60</td>\n",
       "    </tr>\n",
       "  </tbody>\n",
       "</table>\n",
       "</div>"
      ],
      "text/plain": [
       "                              name platform  year_of_release         genre  \\\n",
       "16              Grand Theft Auto V      PS3             2013        Action   \n",
       "23              Grand Theft Auto V     X360             2013        Action   \n",
       "29  Call of Duty: Modern Warfare 3     X360             2011       Shooter   \n",
       "31       Call of Duty: Black Ops 3      PS4             2015       Shooter   \n",
       "33             Pokemon X/Pokemon Y      3DS             2013  Role-Playing   \n",
       "\n",
       "    na_sales  eu_sales  jp_sales  other_sales  critic_score  user_score  \\\n",
       "16      7.02      9.09      0.98         3.96          97.0         8.2   \n",
       "23      9.66      5.14      0.06         1.41          97.0         8.1   \n",
       "29      9.04      4.24      0.13         1.32          88.0         3.4   \n",
       "31      6.03      5.86      0.36         2.38           NaN         NaN   \n",
       "33      5.28      4.19      4.35         0.78           NaN         NaN   \n",
       "\n",
       "       rating  all_sales  \n",
       "16          M      21.05  \n",
       "23          M      16.27  \n",
       "29          M      14.73  \n",
       "31  no_rating      14.63  \n",
       "33  no_rating      14.60  "
      ]
     },
     "execution_count": 26,
     "metadata": {},
     "output_type": "execute_result"
    }
   ],
   "source": [
    "data_2011_2016.head()"
   ]
  },
  {
   "cell_type": "markdown",
   "metadata": {},
   "source": [
    "**Составим портрет пользователя из Северной Америки.**"
   ]
  },
  {
   "cell_type": "code",
   "execution_count": 27,
   "metadata": {},
   "outputs": [
    {
     "data": {
      "text/plain": [
       "<AxesSubplot:xlabel='platform'>"
      ]
     },
     "execution_count": 27,
     "metadata": {},
     "output_type": "execute_result"
    },
    {
     "data": {
      "image/png": "[encoded data removed]",
      "text/plain": [
       "<Figure size 432x288 with 1 Axes>"
      ]
     },
     "metadata": {
      "needs_background": "light"
     },
     "output_type": "display_data"
    }
   ],
   "source": [
    "data_2011_2016.pivot_table(index='platform', columns='year_of_release', values='na_sales', aggfunc='sum').plot(kind='bar')"
   ]
  },
  {
   "cell_type": "markdown",
   "metadata": {},
   "source": [
    "Самыми популярными платформами в Северной Америке с 2011 по 2016 год были X360 и PS3. Однако, под конец исследуемого периода они стали сильно терять популярность, в то время как популярность PS4 и XOne стала сильно расти.   \n",
    "Топ-5 самых популярных платформ за 2010-2015 гг.:  X360, PS3, PS4, XOne, Wii."
   ]
  },
  {
   "cell_type": "code",
   "execution_count": 28,
   "metadata": {},
   "outputs": [
    {
     "data": {
      "text/plain": [
       "<AxesSubplot:xlabel='genre'>"
      ]
     },
     "execution_count": 28,
     "metadata": {},
     "output_type": "execute_result"
    },
    {
     "data": {
      "image/png": "[encoded data removed]",
      "text/plain": [
       "<Figure size 432x288 with 1 Axes>"
      ]
     },
     "metadata": {
      "needs_background": "light"
     },
     "output_type": "display_data"
    }
   ],
   "source": [
    "data_2011_2016.pivot_table(index='genre', values='na_sales', aggfunc='median').sort_values(by='na_sales').plot(kind='bar')"
   ]
  },
  {
   "cell_type": "markdown",
   "metadata": {},
   "source": [
    "Топ-5 самых популярных жанров игр в Европе: Shooter, Platform, Sports, Racing и Fighting. При этом количество продаж игр в жанре Shooter сильно больше остальных."
   ]
  },
  {
   "cell_type": "code",
   "execution_count": 29,
   "metadata": {},
   "outputs": [
    {
     "data": {
      "text/plain": [
       "<AxesSubplot:xlabel='rating'>"
      ]
     },
     "execution_count": 29,
     "metadata": {},
     "output_type": "execute_result"
    },
    {
     "data": {
      "image/png": "[encoded data removed]",
      "text/plain": [
       "<Figure size 432x288 with 1 Axes>"
      ]
     },
     "metadata": {
      "needs_background": "light"
     },
     "output_type": "display_data"
    }
   ],
   "source": [
    "data_2011_2016.pivot_table(index='rating', values='na_sales', aggfunc='sum').sort_values(by='na_sales').plot(kind='bar')"
   ]
  },
  {
   "cell_type": "markdown",
   "metadata": {},
   "source": [
    "Данный график показывает, что рейтинг ESRB влияет на количество продаж. Самыми популярными являются игры для взрослых, далее по прибыльности идут игры категории \"для всех\". Средние продажи у игр без рейтинга, категории 10+ и для подростков. Минимальные продажи у игр для детей младшего возраста."
   ]
  },
  {
   "cell_type": "markdown",
   "metadata": {},
   "source": [
    "**Составим портрет пользователя из Европы.**"
   ]
  },
  {
   "cell_type": "code",
   "execution_count": 30,
   "metadata": {},
   "outputs": [
    {
     "data": {
      "text/plain": [
       "<AxesSubplot:xlabel='platform'>"
      ]
     },
     "execution_count": 30,
     "metadata": {},
     "output_type": "execute_result"
    },
    {
     "data": {
      "image/png": "[encoded data removed]",
      "text/plain": [
       "<Figure size 432x288 with 1 Axes>"
      ]
     },
     "metadata": {
      "needs_background": "light"
     },
     "output_type": "display_data"
    }
   ],
   "source": [
    "data_2011_2016.pivot_table(index='platform', columns='year_of_release', values='eu_sales', aggfunc='sum').plot(kind='bar')"
   ]
  },
  {
   "cell_type": "markdown",
   "metadata": {},
   "source": [
    "Топ-5 самых популярных платформ за 2011-2016 гг.:  PS3, PS4, X360, XOne и PC. При этом продажи игр платформ PS3, X360 и PC сильно упали за последние несколько лет выборки, в то время как продажb игр платформ PS4 и XOne сильно возросли."
   ]
  },
  {
   "cell_type": "code",
   "execution_count": 31,
   "metadata": {},
   "outputs": [
    {
     "data": {
      "text/plain": [
       "<AxesSubplot:xlabel='genre'>"
      ]
     },
     "execution_count": 31,
     "metadata": {},
     "output_type": "execute_result"
    },
    {
     "data": {
      "image/png": "[encoded data removed]",
      "text/plain": [
       "<Figure size 432x288 with 1 Axes>"
      ]
     },
     "metadata": {
      "needs_background": "light"
     },
     "output_type": "display_data"
    }
   ],
   "source": [
    "data_2011_2016.pivot_table(index='genre', values='eu_sales', aggfunc='median').sort_values(by='eu_sales').plot(kind='bar')"
   ]
  },
  {
   "cell_type": "markdown",
   "metadata": {},
   "source": [
    "Топ-5 самых популярных жанров игр в Европе: Shooter, Racing, Platform, Sports и Fighting. При этом количество продаж игр в жанре Shooter сильно больше остальных."
   ]
  },
  {
   "cell_type": "code",
   "execution_count": 32,
   "metadata": {},
   "outputs": [
    {
     "data": {
      "text/plain": [
       "<AxesSubplot:xlabel='rating'>"
      ]
     },
     "execution_count": 32,
     "metadata": {},
     "output_type": "execute_result"
    },
    {
     "data": {
      "image/png": "[encoded data removed]",
      "text/plain": [
       "<Figure size 432x288 with 1 Axes>"
      ]
     },
     "metadata": {
      "needs_background": "light"
     },
     "output_type": "display_data"
    }
   ],
   "source": [
    "data_2011_2016.pivot_table(index='rating', values='eu_sales', aggfunc='sum').sort_values(by='eu_sales').plot(kind='bar')"
   ]
  },
  {
   "cell_type": "markdown",
   "metadata": {},
   "source": [
    "В Европе рейтинг ESRB также влияет на количество продаж. Самыми популярными являются игры для взрослых, далее по прибыльности идут игры категории \"для всех\". Средние продажи у игр без рейтинга, категории 10+ и для подростков. Совсем нет продаж у игр для детей младшего возраста."
   ]
  },
  {
   "cell_type": "markdown",
   "metadata": {},
   "source": [
    "**Составим портрет пользователя из Японии.**"
   ]
  },
  {
   "cell_type": "code",
   "execution_count": 33,
   "metadata": {},
   "outputs": [
    {
     "data": {
      "text/plain": [
       "<AxesSubplot:xlabel='platform'>"
      ]
     },
     "execution_count": 33,
     "metadata": {},
     "output_type": "execute_result"
    },
    {
     "data": {
      "image/png": "[encoded data removed]",
      "text/plain": [
       "<Figure size 432x288 with 1 Axes>"
      ]
     },
     "metadata": {
      "needs_background": "light"
     },
     "output_type": "display_data"
    }
   ],
   "source": [
    "data_2011_2016.pivot_table(index='platform', columns='year_of_release', values='jp_sales', aggfunc='sum').plot(kind='bar')"
   ]
  },
  {
   "cell_type": "markdown",
   "metadata": {},
   "source": [
    "Топ-5 самых популярных платформ в Японии за 2011-2016 годы: 3DS, PS3, PSP, PS4 и PSV. В то же время популярность платформ 3DS, PSP, и PS3 сильно сильно упала за последние несколько лет, наблюдается неплохой рост продаж игр PS4 и PSV. Их можно считать потенциально прибыльными платформами."
   ]
  },
  {
   "cell_type": "code",
   "execution_count": 34,
   "metadata": {},
   "outputs": [
    {
     "data": {
      "text/plain": [
       "<AxesSubplot:xlabel='genre'>"
      ]
     },
     "execution_count": 34,
     "metadata": {},
     "output_type": "execute_result"
    },
    {
     "data": {
      "image/png": "[encoded data removed]",
      "text/plain": [
       "<Figure size 432x288 with 1 Axes>"
      ]
     },
     "metadata": {
      "needs_background": "light"
     },
     "output_type": "display_data"
    }
   ],
   "source": [
    "data_2011_2016.pivot_table(index='genre', values='jp_sales', aggfunc='median').sort_values(by='jp_sales').plot(kind='bar')"
   ]
  },
  {
   "cell_type": "markdown",
   "metadata": {},
   "source": [
    "Продажи игр в Японии не отличаются таким разнообразием жанров, как в Европе и Северной Америке. Самым популярным является жанр Role-Playing, его продажи сильно выше продаж всех остальных жанров. Средние продажи у жанров Adventure и Fighting, низкие у жанра Action. Остальные жанры совсем не пользуются спросом."
   ]
  },
  {
   "cell_type": "code",
   "execution_count": 35,
   "metadata": {},
   "outputs": [
    {
     "data": {
      "text/plain": [
       "<AxesSubplot:xlabel='rating'>"
      ]
     },
     "execution_count": 35,
     "metadata": {},
     "output_type": "execute_result"
    },
    {
     "data": {
      "image/png": "[encoded data removed]",
      "text/plain": [
       "<Figure size 432x288 with 1 Axes>"
      ]
     },
     "metadata": {
      "needs_background": "light"
     },
     "output_type": "display_data"
    }
   ],
   "source": [
    "data_2011_2016.pivot_table(index='rating', values='jp_sales', aggfunc='sum').sort_values(by='jp_sales').plot(kind='bar')"
   ]
  },
  {
   "cell_type": "markdown",
   "metadata": {},
   "source": [
    "В Японии рейтинг ESRB также влияет на количество продаж. Самыми прибыльными являтся игры без рейтинга. Дальше по популярности идут игры для подростков и для всех. Не очень большие продажи у игр для взрослых, и совсем низкие продажи у игр для детей младшего возраста."
   ]
  },
  {
   "cell_type": "markdown",
   "metadata": {},
   "source": [
    "## Проверка гипотез"
   ]
  },
  {
   "cell_type": "markdown",
   "metadata": {},
   "source": [
    "**Гипотеза 1**  \n",
    "Небходимо проверить гипотезу, что средние пользовательские рейтинги платформ Xbox One и PC одинаковые.  \n",
    "H0 - средние рейтинги равны;  \n",
    "Н1 - средние рейтинги отличаются."
   ]
  },
  {
   "cell_type": "code",
   "execution_count": 36,
   "metadata": {},
   "outputs": [
    {
     "name": "stdout",
     "output_type": "stream",
     "text": [
      "p-значение:  0.6130712247638477\n",
      "Не получилось отвергнуть нулевую гипотезу.\n"
     ]
    }
   ],
   "source": [
    "alpha = 0.05\n",
    "data_XOne = data_2011_2016.query('platform == \"XOne\"').copy()\n",
    "data_PC = data_2011_2016.query('platform == \"PC\"').copy()\n",
    "data_XOne.dropna(subset = ['user_score'], inplace=True)\n",
    "data_PC.dropna(subset = ['user_score'], inplace=True)\n",
    "results = st.ttest_ind(data_XOne['user_score'], data_PC['user_score'], equal_var=False) #Сравниваем выборки.\n",
    "print('p-значение: ', results.pvalue)\n",
    "if results.pvalue > alpha:\n",
    "    print('Не получилось отвергнуть нулевую гипотезу.')\n",
    "else:\n",
    "    print('Отвергаем нулевую гипотезу.')"
   ]
  },
  {
   "cell_type": "markdown",
   "metadata": {},
   "source": [
    "Полученное значение p-value говорит о том, что вероятность получить различные значения случайно - 61%. Это значение слишком велико. Таким образом, на основе данной выборки нельзя отвергнуть гипотезу о том, что средние пользовательские рейтинги платформ Xbox One и PC одинаковые. Среднее пользовательских рейтингов платформ Xbox One и PC в данной выборке отличается совсем не значительно:"
   ]
  },
  {
   "cell_type": "code",
   "execution_count": 37,
   "metadata": {},
   "outputs": [
    {
     "name": "stdout",
     "output_type": "stream",
     "text": [
      "6.521428571428572\n",
      "6.451791530944625\n"
     ]
    }
   ],
   "source": [
    "print(data_XOne['user_score'].mean())\n",
    "print(data_PC['user_score'].mean())"
   ]
  },
  {
   "cell_type": "markdown",
   "metadata": {},
   "source": [
    "**Гипотеза 2**  \n",
    "Необходимо проверить гипотезу, что средние пользовательские рейтинги жанров Action (англ. «действие», экшен-игры) и Sports (англ. «спортивные соревнования») разные.  \n",
    "Н0 - рейтинги одинаковые;  \n",
    "Н1 - рейтинги отличаются."
   ]
  },
  {
   "cell_type": "code",
   "execution_count": 38,
   "metadata": {},
   "outputs": [
    {
     "name": "stdout",
     "output_type": "stream",
     "text": [
      "p-значение:  8.285648549432565e-19\n",
      "Отвергаем нулевую гипотезу.\n"
     ]
    }
   ],
   "source": [
    "alpha = 0.05\n",
    "data_action = data_2011_2016.query('genre == \"Action\"').copy()\n",
    "data_sports = data_2011_2016.query('genre == \"Sports\"').copy()\n",
    "data_action.dropna(subset = ['user_score'], inplace=True)\n",
    "data_sports.dropna(subset = ['user_score'], inplace=True)\n",
    "results = st.ttest_ind(data_action['user_score'], data_sports['user_score'], equal_var=False) #Сравниваем выборки.\n",
    "print('p-значение: ', results.pvalue)\n",
    "if results.pvalue > alpha:\n",
    "    print('Не получилось отвергнуть нулевую гипотезу.')\n",
    "else:\n",
    "    print('Отвергаем нулевую гипотезу.')"
   ]
  },
  {
   "cell_type": "markdown",
   "metadata": {},
   "source": [
    "Полученное значение p-value говорит о том, что вероятность получить различные значения случайно слишком мала, чтобы на основании данной выборки делать вывод о том, что рейтинги равны. Таким образом, данная выборка не позволяет отвергнуть гипотезу о том, что средние пользовательский рейтинги жанров Action и Sports различаюся.  В данной выборке средний пользовательский рейтинг по играм в жанре action в 1.14 раз больше, чем по играм в жанре sports:"
   ]
  },
  {
   "cell_type": "code",
   "execution_count": 39,
   "metadata": {
    "scrolled": true
   },
   "outputs": [
    {
     "name": "stdout",
     "output_type": "stream",
     "text": [
      "6.775903614457831\n",
      "5.650813008130081\n",
      "1.1991024308730498\n"
     ]
    }
   ],
   "source": [
    "print(data_action['user_score'].mean())\n",
    "print(data_sports['user_score'].mean())\n",
    "print(data_action['user_score'].mean() / data_sports['user_score'].mean())"
   ]
  },
  {
   "cell_type": "markdown",
   "metadata": {},
   "source": [
    "## Общий вывод"
   ]
  },
  {
   "cell_type": "markdown",
   "metadata": {},
   "source": [
    "В рамках исследования был проведен анализ данных о продажах компьютерных игр.  \n",
    "- Были обработаны данные. Удалены пропуски, не влияющие на результаты исследования.\n",
    "- Были подсчитаны общие суммы продаж по играм во всех регионах.\n",
    "- Был определен актуальный период для исследования: 2011 - 2016 гг.\n",
    "- Был определены самые прибыльные платформы за весь период предоставленных данных: PS, DS, Wii, PS3, X360, PS2. Также были определены самые потенциально прибыльные платформы, на которые стоит делать ставку при планировании продаж на 2017 год: PS4 и XOne.\n",
    "- Была проверена зависимость продаж игр от отзывов критиков и пользователей. Исследование показало, что отзывы критиков имеют сильное влияние на продажи. Чем выше отзыв - тем больше прибыль от продажи игры. При этом отзывы пользователей практически никак не влияют на продажи. Таким образом, при планировании продаж на 2017 год стоит учитывать именно отзывы критиков, а не пользователей.\n",
    "- Были определены самые прибыльные жанры, на которые стоит делать упор при планировании продаж на 2017 год: Shooter, Sports, Platform и Fighting. При это жанр Shooter сильно популярнее остальных.\n",
    "- Были составлены портреты пользователей из следующих регионов: Северная Америка, Европа, Япония. Было определено, что запросы средних пользователей из Северной Америки и Европы различаются незначительно, в то время как в Японии популярностью пользутся совсем другие платформы и жанры.\n",
    "- Балы проверена гипотеза о том, что средние пользовательские рейтинги платформ Xbox One и PC одинаковые. Предосталвенная выборка не позволила отвергнуть данную гипотезу.\n",
    "- Была проверена гипотеза о том, что средние пользовательские рейтинги жанров Action и Sports разные. Предоставленная выборка не позволила отвергнуть данную гипотезу.  \n",
    "  \n",
    "Таким образом, можно выделить следующие рекомендации для магазина игр при планировании продаж на 2017 год:\n",
    "- Упор следует делать на таких платформах, как PS4 и XOne.\n",
    "- Следует акцентировать внимание на следующих жанрах игр: Shooter, Sports, Platform и Fighting.\n",
    "- Рекомендуется обращать внимание на те игры, у которых выше рейтинг от критиков."
   ]
  }
 ],
 "metadata": {
  "ExecuteTimeLog": [
   {
    "duration": 369,
    "start_time": "2022-06-20T08:46:58.801Z"
   },
   {
    "duration": 238,
    "start_time": "2022-06-20T08:47:32.218Z"
   },
   {
    "duration": 12,
    "start_time": "2022-06-20T08:47:44.161Z"
   },
   {
    "duration": 20,
    "start_time": "2022-06-20T08:47:53.873Z"
   },
   {
    "duration": 55,
    "start_time": "2022-06-20T09:23:25.825Z"
   },
   {
    "duration": 7,
    "start_time": "2022-06-20T09:24:23.193Z"
   },
   {
    "duration": 70,
    "start_time": "2022-06-20T09:29:56.595Z"
   },
   {
    "duration": 69,
    "start_time": "2022-06-20T09:30:04.683Z"
   },
   {
    "duration": 4,
    "start_time": "2022-06-20T09:32:41.819Z"
   },
   {
    "duration": 6,
    "start_time": "2022-06-20T09:32:52.971Z"
   },
   {
    "duration": 5,
    "start_time": "2022-06-20T09:35:19.047Z"
   },
   {
    "duration": 342,
    "start_time": "2022-06-20T09:35:30.780Z"
   },
   {
    "duration": 54,
    "start_time": "2022-06-20T09:35:31.124Z"
   },
   {
    "duration": 15,
    "start_time": "2022-06-20T09:35:31.180Z"
   },
   {
    "duration": 37,
    "start_time": "2022-06-20T09:35:31.196Z"
   },
   {
    "duration": 13,
    "start_time": "2022-06-20T09:35:31.235Z"
   },
   {
    "duration": 6,
    "start_time": "2022-06-20T09:35:37.642Z"
   },
   {
    "duration": 355,
    "start_time": "2022-06-20T09:35:43.246Z"
   },
   {
    "duration": 60,
    "start_time": "2022-06-20T09:35:43.604Z"
   },
   {
    "duration": 15,
    "start_time": "2022-06-20T09:35:43.665Z"
   },
   {
    "duration": 19,
    "start_time": "2022-06-20T09:35:43.682Z"
   },
   {
    "duration": 4,
    "start_time": "2022-06-20T09:35:43.703Z"
   },
   {
    "duration": 4,
    "start_time": "2022-06-20T10:48:13.683Z"
   },
   {
    "duration": 4,
    "start_time": "2022-06-20T10:48:29.459Z"
   },
   {
    "duration": 1554,
    "start_time": "2022-06-20T10:50:39.552Z"
   },
   {
    "duration": 13,
    "start_time": "2022-06-20T10:50:49.788Z"
   },
   {
    "duration": 10,
    "start_time": "2022-06-20T10:51:41.763Z"
   },
   {
    "duration": 16,
    "start_time": "2022-06-20T11:01:00.834Z"
   },
   {
    "duration": 13,
    "start_time": "2022-06-20T11:01:08.146Z"
   },
   {
    "duration": 13,
    "start_time": "2022-06-20T11:01:15.658Z"
   },
   {
    "duration": 7,
    "start_time": "2022-06-20T11:02:42.026Z"
   },
   {
    "duration": 7,
    "start_time": "2022-06-20T11:02:55.877Z"
   },
   {
    "duration": 8,
    "start_time": "2022-06-20T11:44:03.852Z"
   },
   {
    "duration": 7,
    "start_time": "2022-06-20T11:44:18.360Z"
   },
   {
    "duration": 8,
    "start_time": "2022-06-20T11:44:22.201Z"
   },
   {
    "duration": 12,
    "start_time": "2022-06-20T11:44:59.247Z"
   },
   {
    "duration": 9,
    "start_time": "2022-06-20T11:45:01.807Z"
   },
   {
    "duration": 357,
    "start_time": "2022-06-20T11:45:10.950Z"
   },
   {
    "duration": 50,
    "start_time": "2022-06-20T11:45:11.309Z"
   },
   {
    "duration": 12,
    "start_time": "2022-06-20T11:45:11.360Z"
   },
   {
    "duration": 19,
    "start_time": "2022-06-20T11:45:11.374Z"
   },
   {
    "duration": 4,
    "start_time": "2022-06-20T11:45:11.394Z"
   },
   {
    "duration": 17,
    "start_time": "2022-06-20T11:45:11.399Z"
   },
   {
    "duration": 14,
    "start_time": "2022-06-20T11:45:11.418Z"
   },
   {
    "duration": 5,
    "start_time": "2022-06-20T11:45:11.433Z"
   },
   {
    "duration": 50,
    "start_time": "2022-06-20T13:04:00.447Z"
   },
   {
    "duration": 385,
    "start_time": "2022-06-20T13:04:07.861Z"
   },
   {
    "duration": 179,
    "start_time": "2022-06-20T13:04:08.247Z"
   },
   {
    "duration": 14,
    "start_time": "2022-06-20T13:04:08.428Z"
   },
   {
    "duration": 24,
    "start_time": "2022-06-20T13:04:08.444Z"
   },
   {
    "duration": 4,
    "start_time": "2022-06-20T13:04:08.471Z"
   },
   {
    "duration": 18,
    "start_time": "2022-06-20T13:04:08.476Z"
   },
   {
    "duration": 8,
    "start_time": "2022-06-20T13:04:08.496Z"
   },
   {
    "duration": 3,
    "start_time": "2022-06-20T13:04:08.506Z"
   },
   {
    "duration": 13,
    "start_time": "2022-06-20T13:04:56.245Z"
   },
   {
    "duration": 8,
    "start_time": "2022-06-20T13:04:58.984Z"
   },
   {
    "duration": 5,
    "start_time": "2022-06-20T13:05:49.385Z"
   },
   {
    "duration": 5,
    "start_time": "2022-06-20T13:06:08.525Z"
   },
   {
    "duration": 4,
    "start_time": "2022-06-20T13:06:36.038Z"
   },
   {
    "duration": 61,
    "start_time": "2022-06-20T13:07:24.149Z"
   },
   {
    "duration": 4,
    "start_time": "2022-06-20T13:07:39.102Z"
   },
   {
    "duration": 1471,
    "start_time": "2022-06-20T13:09:23.183Z"
   },
   {
    "duration": 4,
    "start_time": "2022-06-20T13:09:45.620Z"
   },
   {
    "duration": 372,
    "start_time": "2022-06-20T13:13:34.803Z"
   },
   {
    "duration": 51,
    "start_time": "2022-06-20T13:13:35.177Z"
   },
   {
    "duration": 14,
    "start_time": "2022-06-20T13:13:35.230Z"
   },
   {
    "duration": 31,
    "start_time": "2022-06-20T13:13:35.246Z"
   },
   {
    "duration": 4,
    "start_time": "2022-06-20T13:13:35.279Z"
   },
   {
    "duration": 22,
    "start_time": "2022-06-20T13:13:35.285Z"
   },
   {
    "duration": 19,
    "start_time": "2022-06-20T13:13:35.309Z"
   },
   {
    "duration": 6,
    "start_time": "2022-06-20T13:15:08.031Z"
   },
   {
    "duration": 6,
    "start_time": "2022-06-20T13:15:14.559Z"
   },
   {
    "duration": 5,
    "start_time": "2022-06-20T13:15:24.483Z"
   },
   {
    "duration": 1219,
    "start_time": "2022-06-20T13:16:56.424Z"
   },
   {
    "duration": 19,
    "start_time": "2022-06-20T13:17:15.689Z"
   },
   {
    "duration": 5,
    "start_time": "2022-06-20T13:17:21.312Z"
   },
   {
    "duration": 5,
    "start_time": "2022-06-20T13:17:28.118Z"
   },
   {
    "duration": 16,
    "start_time": "2022-06-20T13:17:47.887Z"
   },
   {
    "duration": 5,
    "start_time": "2022-06-20T13:17:50.151Z"
   },
   {
    "duration": 4,
    "start_time": "2022-06-20T13:17:52.511Z"
   },
   {
    "duration": 13,
    "start_time": "2022-06-20T13:17:55.015Z"
   },
   {
    "duration": 5,
    "start_time": "2022-06-20T13:17:57.353Z"
   },
   {
    "duration": 381,
    "start_time": "2022-06-20T13:18:01.089Z"
   },
   {
    "duration": 52,
    "start_time": "2022-06-20T13:18:01.471Z"
   },
   {
    "duration": 15,
    "start_time": "2022-06-20T13:18:01.525Z"
   },
   {
    "duration": 29,
    "start_time": "2022-06-20T13:18:01.542Z"
   },
   {
    "duration": 4,
    "start_time": "2022-06-20T13:18:01.574Z"
   },
   {
    "duration": 23,
    "start_time": "2022-06-20T13:18:01.579Z"
   },
   {
    "duration": 5,
    "start_time": "2022-06-20T13:18:01.608Z"
   },
   {
    "duration": 15,
    "start_time": "2022-06-20T13:18:01.614Z"
   },
   {
    "duration": 23,
    "start_time": "2022-06-20T13:27:28.120Z"
   },
   {
    "duration": 4,
    "start_time": "2022-06-20T13:27:31.044Z"
   },
   {
    "duration": 79,
    "start_time": "2022-06-20T13:27:41.537Z"
   },
   {
    "duration": 22,
    "start_time": "2022-06-20T13:27:56.913Z"
   },
   {
    "duration": 10,
    "start_time": "2022-06-20T13:28:47.734Z"
   },
   {
    "duration": 24,
    "start_time": "2022-06-20T13:28:55.819Z"
   },
   {
    "duration": 29,
    "start_time": "2022-06-20T13:29:08.013Z"
   },
   {
    "duration": 21,
    "start_time": "2022-06-20T13:29:12.288Z"
   },
   {
    "duration": 386,
    "start_time": "2022-06-20T13:30:11.573Z"
   },
   {
    "duration": 62,
    "start_time": "2022-06-20T13:30:11.961Z"
   },
   {
    "duration": 18,
    "start_time": "2022-06-20T13:30:12.027Z"
   },
   {
    "duration": 23,
    "start_time": "2022-06-20T13:30:12.046Z"
   },
   {
    "duration": 4,
    "start_time": "2022-06-20T13:30:12.071Z"
   },
   {
    "duration": 31,
    "start_time": "2022-06-20T13:30:12.076Z"
   },
   {
    "duration": 43,
    "start_time": "2022-06-20T13:30:12.109Z"
   },
   {
    "duration": 5,
    "start_time": "2022-06-20T13:33:41.613Z"
   },
   {
    "duration": 17,
    "start_time": "2022-06-20T13:33:47.205Z"
   },
   {
    "duration": 8,
    "start_time": "2022-06-20T13:49:45.530Z"
   },
   {
    "duration": 7,
    "start_time": "2022-06-20T13:50:11.627Z"
   },
   {
    "duration": 6,
    "start_time": "2022-06-20T13:50:23.524Z"
   },
   {
    "duration": 50,
    "start_time": "2022-06-20T13:51:18.177Z"
   },
   {
    "duration": 95,
    "start_time": "2022-06-20T13:51:46.272Z"
   },
   {
    "duration": 1599,
    "start_time": "2022-06-20T13:51:58.300Z"
   },
   {
    "duration": 30,
    "start_time": "2022-06-20T13:52:15.714Z"
   },
   {
    "duration": 13,
    "start_time": "2022-06-20T13:52:52.473Z"
   },
   {
    "duration": 362,
    "start_time": "2022-06-20T13:53:50.362Z"
   },
   {
    "duration": 50,
    "start_time": "2022-06-20T13:53:50.726Z"
   },
   {
    "duration": 12,
    "start_time": "2022-06-20T13:53:50.778Z"
   },
   {
    "duration": 52,
    "start_time": "2022-06-20T13:53:50.793Z"
   },
   {
    "duration": 3,
    "start_time": "2022-06-20T13:53:50.847Z"
   },
   {
    "duration": 19,
    "start_time": "2022-06-20T13:53:50.851Z"
   },
   {
    "duration": 4,
    "start_time": "2022-06-20T13:53:50.871Z"
   },
   {
    "duration": 7,
    "start_time": "2022-06-20T13:53:50.876Z"
   },
   {
    "duration": 22,
    "start_time": "2022-06-20T13:53:50.884Z"
   },
   {
    "duration": 617,
    "start_time": "2022-06-20T14:06:58.562Z"
   },
   {
    "duration": 85,
    "start_time": "2022-06-20T14:07:13.746Z"
   },
   {
    "duration": 458,
    "start_time": "2022-06-20T14:07:40.412Z"
   },
   {
    "duration": 40,
    "start_time": "2022-06-20T14:07:44.113Z"
   },
   {
    "duration": 2,
    "start_time": "2022-06-20T14:08:26.804Z"
   },
   {
    "duration": 1016,
    "start_time": "2022-06-20T14:08:31.864Z"
   },
   {
    "duration": 57,
    "start_time": "2022-06-20T14:08:32.882Z"
   },
   {
    "duration": 13,
    "start_time": "2022-06-20T14:08:32.941Z"
   },
   {
    "duration": 16,
    "start_time": "2022-06-20T14:08:32.955Z"
   },
   {
    "duration": 5,
    "start_time": "2022-06-20T14:08:32.973Z"
   },
   {
    "duration": 24,
    "start_time": "2022-06-20T14:08:32.979Z"
   },
   {
    "duration": 13,
    "start_time": "2022-06-20T14:08:33.005Z"
   },
   {
    "duration": 4,
    "start_time": "2022-06-20T14:08:33.020Z"
   },
   {
    "duration": 124,
    "start_time": "2022-06-20T14:08:33.025Z"
   },
   {
    "duration": 18,
    "start_time": "2022-06-20T14:09:10.134Z"
   },
   {
    "duration": 31,
    "start_time": "2022-06-20T14:09:24.879Z"
   },
   {
    "duration": 15,
    "start_time": "2022-06-20T14:11:04.164Z"
   },
   {
    "duration": 16,
    "start_time": "2022-06-20T14:11:14.646Z"
   },
   {
    "duration": 16,
    "start_time": "2022-06-20T14:11:43.936Z"
   },
   {
    "duration": 24,
    "start_time": "2022-06-20T14:11:50.646Z"
   },
   {
    "duration": 34,
    "start_time": "2022-06-20T14:12:25.756Z"
   },
   {
    "duration": 13,
    "start_time": "2022-06-20T14:12:36.159Z"
   },
   {
    "duration": 15,
    "start_time": "2022-06-20T14:12:42.223Z"
   },
   {
    "duration": 21,
    "start_time": "2022-06-20T14:12:51.727Z"
   },
   {
    "duration": 14,
    "start_time": "2022-06-20T14:13:03.726Z"
   },
   {
    "duration": 1065,
    "start_time": "2022-06-20T14:13:10.842Z"
   },
   {
    "duration": 51,
    "start_time": "2022-06-20T14:13:11.916Z"
   },
   {
    "duration": 13,
    "start_time": "2022-06-20T14:13:11.969Z"
   },
   {
    "duration": 34,
    "start_time": "2022-06-20T14:13:11.984Z"
   },
   {
    "duration": 5,
    "start_time": "2022-06-20T14:13:12.020Z"
   },
   {
    "duration": 16,
    "start_time": "2022-06-20T14:13:12.027Z"
   },
   {
    "duration": 6,
    "start_time": "2022-06-20T14:13:12.045Z"
   },
   {
    "duration": 5,
    "start_time": "2022-06-20T14:13:12.052Z"
   },
   {
    "duration": 20,
    "start_time": "2022-06-20T14:13:12.058Z"
   },
   {
    "duration": 16,
    "start_time": "2022-06-20T14:13:40.321Z"
   },
   {
    "duration": 1162,
    "start_time": "2022-06-20T14:13:46.045Z"
   },
   {
    "duration": 57,
    "start_time": "2022-06-20T14:13:47.215Z"
   },
   {
    "duration": 17,
    "start_time": "2022-06-20T14:13:47.274Z"
   },
   {
    "duration": 28,
    "start_time": "2022-06-20T14:13:47.297Z"
   },
   {
    "duration": 9,
    "start_time": "2022-06-20T14:13:47.329Z"
   },
   {
    "duration": 14,
    "start_time": "2022-06-20T14:13:47.340Z"
   },
   {
    "duration": 6,
    "start_time": "2022-06-20T14:13:47.355Z"
   },
   {
    "duration": 4,
    "start_time": "2022-06-20T14:13:47.363Z"
   },
   {
    "duration": 39,
    "start_time": "2022-06-20T14:13:47.368Z"
   },
   {
    "duration": 12,
    "start_time": "2022-06-20T14:13:47.411Z"
   },
   {
    "duration": 7,
    "start_time": "2022-06-20T14:18:13.957Z"
   },
   {
    "duration": 152,
    "start_time": "2022-06-20T14:19:34.465Z"
   },
   {
    "duration": 98,
    "start_time": "2022-06-20T14:19:42.217Z"
   },
   {
    "duration": 11,
    "start_time": "2022-06-20T14:20:09.229Z"
   },
   {
    "duration": 16,
    "start_time": "2022-06-20T14:20:18.925Z"
   },
   {
    "duration": 13,
    "start_time": "2022-06-20T14:20:31.919Z"
   },
   {
    "duration": 1026,
    "start_time": "2022-06-20T14:22:00.340Z"
   },
   {
    "duration": 62,
    "start_time": "2022-06-20T14:22:01.368Z"
   },
   {
    "duration": 12,
    "start_time": "2022-06-20T14:22:01.432Z"
   },
   {
    "duration": 18,
    "start_time": "2022-06-20T14:22:01.445Z"
   },
   {
    "duration": 4,
    "start_time": "2022-06-20T14:22:01.464Z"
   },
   {
    "duration": 15,
    "start_time": "2022-06-20T14:22:01.469Z"
   },
   {
    "duration": 5,
    "start_time": "2022-06-20T14:22:01.485Z"
   },
   {
    "duration": 10,
    "start_time": "2022-06-20T14:22:01.496Z"
   },
   {
    "duration": 16,
    "start_time": "2022-06-20T14:22:01.507Z"
   },
   {
    "duration": 7,
    "start_time": "2022-06-20T14:22:01.525Z"
   },
   {
    "duration": 13,
    "start_time": "2022-06-20T14:22:01.533Z"
   },
   {
    "duration": 1860,
    "start_time": "2022-06-20T18:53:31.571Z"
   },
   {
    "duration": 350,
    "start_time": "2022-06-20T18:53:33.438Z"
   },
   {
    "duration": 30,
    "start_time": "2022-06-20T18:53:33.795Z"
   },
   {
    "duration": 69,
    "start_time": "2022-06-20T18:53:33.831Z"
   },
   {
    "duration": 12,
    "start_time": "2022-06-20T18:53:33.904Z"
   },
   {
    "duration": 112,
    "start_time": "2022-06-20T18:53:33.919Z"
   },
   {
    "duration": 19,
    "start_time": "2022-06-20T18:53:34.036Z"
   },
   {
    "duration": 11,
    "start_time": "2022-06-20T18:53:34.057Z"
   },
   {
    "duration": 46,
    "start_time": "2022-06-20T18:53:34.071Z"
   },
   {
    "duration": 27,
    "start_time": "2022-06-20T18:53:34.127Z"
   },
   {
    "duration": 18,
    "start_time": "2022-06-20T18:53:34.156Z"
   },
   {
    "duration": 7,
    "start_time": "2022-06-20T18:56:32.366Z"
   },
   {
    "duration": 1088,
    "start_time": "2022-06-20T19:05:01.546Z"
   },
   {
    "duration": 195,
    "start_time": "2022-06-20T19:05:34.468Z"
   },
   {
    "duration": 301,
    "start_time": "2022-06-20T19:05:54.186Z"
   },
   {
    "duration": 298,
    "start_time": "2022-06-20T19:08:15.216Z"
   },
   {
    "duration": 7720,
    "start_time": "2022-06-20T19:09:06.602Z"
   },
   {
    "duration": 1106,
    "start_time": "2022-06-20T19:09:30.502Z"
   },
   {
    "duration": 806,
    "start_time": "2022-06-20T19:09:52.908Z"
   },
   {
    "duration": 976,
    "start_time": "2022-06-20T19:10:12.701Z"
   },
   {
    "duration": 1319,
    "start_time": "2022-06-20T19:10:34.679Z"
   },
   {
    "duration": 24,
    "start_time": "2022-06-20T19:10:58.743Z"
   },
   {
    "duration": 14,
    "start_time": "2022-06-20T19:11:21.397Z"
   },
   {
    "duration": 1566,
    "start_time": "2022-06-20T19:11:34.465Z"
   },
   {
    "duration": 79,
    "start_time": "2022-06-20T19:11:36.033Z"
   },
   {
    "duration": 32,
    "start_time": "2022-06-20T19:11:36.114Z"
   },
   {
    "duration": 56,
    "start_time": "2022-06-20T19:11:36.152Z"
   },
   {
    "duration": 22,
    "start_time": "2022-06-20T19:11:36.211Z"
   },
   {
    "duration": 59,
    "start_time": "2022-06-20T19:11:36.235Z"
   },
   {
    "duration": 10,
    "start_time": "2022-06-20T19:11:36.296Z"
   },
   {
    "duration": 11,
    "start_time": "2022-06-20T19:11:36.308Z"
   },
   {
    "duration": 53,
    "start_time": "2022-06-20T19:11:36.321Z"
   },
   {
    "duration": 31,
    "start_time": "2022-06-20T19:11:36.376Z"
   },
   {
    "duration": 54,
    "start_time": "2022-06-20T19:11:36.409Z"
   },
   {
    "duration": 1781,
    "start_time": "2022-06-20T19:13:03.511Z"
   },
   {
    "duration": 57,
    "start_time": "2022-06-20T19:13:27.779Z"
   },
   {
    "duration": 19,
    "start_time": "2022-06-20T19:13:35.463Z"
   },
   {
    "duration": 35,
    "start_time": "2022-06-20T19:14:02.975Z"
   },
   {
    "duration": 2109,
    "start_time": "2022-06-20T19:14:25.656Z"
   },
   {
    "duration": 122,
    "start_time": "2022-06-20T19:14:27.773Z"
   },
   {
    "duration": 145,
    "start_time": "2022-06-20T19:14:27.904Z"
   },
   {
    "duration": 147,
    "start_time": "2022-06-20T19:14:28.057Z"
   },
   {
    "duration": 99,
    "start_time": "2022-06-20T19:14:28.212Z"
   },
   {
    "duration": 243,
    "start_time": "2022-06-20T19:14:28.318Z"
   },
   {
    "duration": 68,
    "start_time": "2022-06-20T19:14:28.576Z"
   },
   {
    "duration": 165,
    "start_time": "2022-06-20T19:14:28.652Z"
   },
   {
    "duration": 142,
    "start_time": "2022-06-20T19:14:28.825Z"
   },
   {
    "duration": 136,
    "start_time": "2022-06-20T19:14:28.981Z"
   },
   {
    "duration": 110,
    "start_time": "2022-06-20T19:14:29.124Z"
   },
   {
    "duration": 39,
    "start_time": "2022-06-20T19:14:45.684Z"
   },
   {
    "duration": 2932,
    "start_time": "2022-06-20T19:15:56.488Z"
   },
   {
    "duration": 808,
    "start_time": "2022-06-20T19:16:51.701Z"
   },
   {
    "duration": 1742,
    "start_time": "2022-06-20T19:19:24.051Z"
   },
   {
    "duration": 1319,
    "start_time": "2022-06-20T19:19:47.877Z"
   },
   {
    "duration": 9,
    "start_time": "2022-06-20T19:20:31.617Z"
   },
   {
    "duration": 10,
    "start_time": "2022-06-20T19:20:36.208Z"
   },
   {
    "duration": 40,
    "start_time": "2022-06-20T19:20:44.973Z"
   },
   {
    "duration": 162,
    "start_time": "2022-06-20T19:21:32.090Z"
   },
   {
    "duration": 207,
    "start_time": "2022-06-20T19:21:43.977Z"
   },
   {
    "duration": 233,
    "start_time": "2022-06-20T19:21:53.964Z"
   },
   {
    "duration": 299,
    "start_time": "2022-06-20T19:22:05.319Z"
   },
   {
    "duration": 146,
    "start_time": "2022-06-20T19:22:13.602Z"
   },
   {
    "duration": 1282,
    "start_time": "2022-06-20T21:16:12.509Z"
   },
   {
    "duration": 57,
    "start_time": "2022-06-20T21:16:13.793Z"
   },
   {
    "duration": 14,
    "start_time": "2022-06-20T21:16:13.852Z"
   },
   {
    "duration": 19,
    "start_time": "2022-06-20T21:16:13.867Z"
   },
   {
    "duration": 6,
    "start_time": "2022-06-20T21:16:13.888Z"
   },
   {
    "duration": 54,
    "start_time": "2022-06-20T21:16:13.896Z"
   },
   {
    "duration": 8,
    "start_time": "2022-06-20T21:16:13.952Z"
   },
   {
    "duration": 12,
    "start_time": "2022-06-20T21:16:13.962Z"
   },
   {
    "duration": 20,
    "start_time": "2022-06-20T21:16:13.976Z"
   },
   {
    "duration": 9,
    "start_time": "2022-06-20T21:16:13.999Z"
   },
   {
    "duration": 38,
    "start_time": "2022-06-20T21:16:14.010Z"
   },
   {
    "duration": 924,
    "start_time": "2022-06-20T21:20:53.350Z"
   },
   {
    "duration": 11,
    "start_time": "2022-06-20T21:21:12.604Z"
   },
   {
    "duration": 7,
    "start_time": "2022-06-20T21:21:30.707Z"
   },
   {
    "duration": 26,
    "start_time": "2022-06-20T21:23:59.377Z"
   },
   {
    "duration": 254,
    "start_time": "2022-06-20T21:24:21.209Z"
   },
   {
    "duration": 185,
    "start_time": "2022-06-20T21:25:05.901Z"
   },
   {
    "duration": 319,
    "start_time": "2022-06-20T21:27:04.961Z"
   },
   {
    "duration": 9,
    "start_time": "2022-06-20T21:31:09.093Z"
   },
   {
    "duration": 36,
    "start_time": "2022-06-20T21:31:28.428Z"
   },
   {
    "duration": 353,
    "start_time": "2022-06-20T21:31:37.716Z"
   },
   {
    "duration": 28,
    "start_time": "2022-06-20T21:32:15.451Z"
   },
   {
    "duration": 8,
    "start_time": "2022-06-20T21:32:20.474Z"
   },
   {
    "duration": 330,
    "start_time": "2022-06-20T21:32:23.329Z"
   },
   {
    "duration": 16,
    "start_time": "2022-06-20T21:33:23.179Z"
   },
   {
    "duration": 10,
    "start_time": "2022-06-20T21:33:37.903Z"
   },
   {
    "duration": 197,
    "start_time": "2022-06-20T21:33:40.592Z"
   },
   {
    "duration": 1136,
    "start_time": "2022-06-20T21:33:59.655Z"
   },
   {
    "duration": 57,
    "start_time": "2022-06-20T21:34:00.793Z"
   },
   {
    "duration": 169,
    "start_time": "2022-06-20T21:34:00.851Z"
   },
   {
    "duration": 65,
    "start_time": "2022-06-20T21:34:01.022Z"
   },
   {
    "duration": 100,
    "start_time": "2022-06-20T21:34:01.090Z"
   },
   {
    "duration": 109,
    "start_time": "2022-06-20T21:34:01.192Z"
   },
   {
    "duration": 20,
    "start_time": "2022-06-20T21:34:01.302Z"
   },
   {
    "duration": 15,
    "start_time": "2022-06-20T21:34:01.323Z"
   },
   {
    "duration": 27,
    "start_time": "2022-06-20T21:34:01.340Z"
   },
   {
    "duration": 10,
    "start_time": "2022-06-20T21:34:01.369Z"
   },
   {
    "duration": 43,
    "start_time": "2022-06-20T21:34:01.381Z"
   },
   {
    "duration": 10,
    "start_time": "2022-06-20T21:34:01.426Z"
   },
   {
    "duration": 216,
    "start_time": "2022-06-20T21:34:01.438Z"
   },
   {
    "duration": 6,
    "start_time": "2022-06-20T21:40:44.419Z"
   },
   {
    "duration": 7,
    "start_time": "2022-06-20T21:40:51.935Z"
   },
   {
    "duration": 6,
    "start_time": "2022-06-20T21:41:09.608Z"
   },
   {
    "duration": 14,
    "start_time": "2022-06-20T21:42:34.797Z"
   },
   {
    "duration": 154,
    "start_time": "2022-06-20T21:42:48.824Z"
   },
   {
    "duration": 256,
    "start_time": "2022-06-20T21:43:36.053Z"
   },
   {
    "duration": 335,
    "start_time": "2022-06-20T21:44:39.596Z"
   },
   {
    "duration": 192,
    "start_time": "2022-06-20T21:44:53.372Z"
   },
   {
    "duration": 104,
    "start_time": "2022-06-20T21:45:14.094Z"
   },
   {
    "duration": 184,
    "start_time": "2022-06-20T21:45:25.552Z"
   },
   {
    "duration": 13,
    "start_time": "2022-06-20T21:46:20.640Z"
   },
   {
    "duration": 26,
    "start_time": "2022-06-20T21:46:36.373Z"
   },
   {
    "duration": 358,
    "start_time": "2022-06-20T21:46:50.636Z"
   },
   {
    "duration": 274,
    "start_time": "2022-06-20T21:50:53.356Z"
   },
   {
    "duration": 189,
    "start_time": "2022-06-20T21:51:14.759Z"
   },
   {
    "duration": 144,
    "start_time": "2022-06-20T21:51:39.203Z"
   },
   {
    "duration": 255,
    "start_time": "2022-06-20T21:51:42.934Z"
   },
   {
    "duration": 99,
    "start_time": "2022-06-20T21:54:20.656Z"
   },
   {
    "duration": 1208,
    "start_time": "2022-06-20T21:54:31.281Z"
   },
   {
    "duration": 58,
    "start_time": "2022-06-20T21:54:32.491Z"
   },
   {
    "duration": 17,
    "start_time": "2022-06-20T21:54:32.551Z"
   },
   {
    "duration": 29,
    "start_time": "2022-06-20T21:54:32.570Z"
   },
   {
    "duration": 24,
    "start_time": "2022-06-20T21:54:32.602Z"
   },
   {
    "duration": 26,
    "start_time": "2022-06-20T21:54:32.628Z"
   },
   {
    "duration": 13,
    "start_time": "2022-06-20T21:54:32.656Z"
   },
   {
    "duration": 27,
    "start_time": "2022-06-20T21:54:32.671Z"
   },
   {
    "duration": 26,
    "start_time": "2022-06-20T21:54:32.700Z"
   },
   {
    "duration": 18,
    "start_time": "2022-06-20T21:54:32.728Z"
   },
   {
    "duration": 20,
    "start_time": "2022-06-20T21:54:32.748Z"
   },
   {
    "duration": 12,
    "start_time": "2022-06-20T21:54:32.771Z"
   },
   {
    "duration": 260,
    "start_time": "2022-06-20T21:54:32.785Z"
   },
   {
    "duration": 7,
    "start_time": "2022-06-20T21:54:33.048Z"
   },
   {
    "duration": 351,
    "start_time": "2022-06-20T21:54:33.056Z"
   },
   {
    "duration": 258,
    "start_time": "2022-06-20T21:54:33.409Z"
   },
   {
    "duration": 116,
    "start_time": "2022-06-20T21:57:03.655Z"
   },
   {
    "duration": 242,
    "start_time": "2022-06-20T21:57:24.183Z"
   },
   {
    "duration": 1194,
    "start_time": "2022-06-20T21:58:15.595Z"
   },
   {
    "duration": 51,
    "start_time": "2022-06-20T21:58:16.791Z"
   },
   {
    "duration": 14,
    "start_time": "2022-06-20T21:58:16.844Z"
   },
   {
    "duration": 17,
    "start_time": "2022-06-20T21:58:16.860Z"
   },
   {
    "duration": 5,
    "start_time": "2022-06-20T21:58:16.879Z"
   },
   {
    "duration": 42,
    "start_time": "2022-06-20T21:58:16.886Z"
   },
   {
    "duration": 6,
    "start_time": "2022-06-20T21:58:16.930Z"
   },
   {
    "duration": 6,
    "start_time": "2022-06-20T21:58:16.937Z"
   },
   {
    "duration": 17,
    "start_time": "2022-06-20T21:58:16.945Z"
   },
   {
    "duration": 7,
    "start_time": "2022-06-20T21:58:16.964Z"
   },
   {
    "duration": 12,
    "start_time": "2022-06-20T21:58:16.973Z"
   },
   {
    "duration": 38,
    "start_time": "2022-06-20T21:58:16.987Z"
   },
   {
    "duration": 221,
    "start_time": "2022-06-20T21:58:17.027Z"
   },
   {
    "duration": 7,
    "start_time": "2022-06-20T21:58:17.250Z"
   },
   {
    "duration": 336,
    "start_time": "2022-06-20T21:58:17.258Z"
   },
   {
    "duration": 243,
    "start_time": "2022-06-20T21:58:17.595Z"
   },
   {
    "duration": 18,
    "start_time": "2022-06-20T23:13:30.588Z"
   },
   {
    "duration": 139,
    "start_time": "2022-06-20T23:15:18.796Z"
   },
   {
    "duration": 212,
    "start_time": "2022-06-20T23:15:43.502Z"
   },
   {
    "duration": 162,
    "start_time": "2022-06-20T23:15:58.591Z"
   },
   {
    "duration": 163,
    "start_time": "2022-06-20T23:16:16.723Z"
   },
   {
    "duration": 225,
    "start_time": "2022-06-20T23:16:53.332Z"
   },
   {
    "duration": 141,
    "start_time": "2022-06-20T23:17:56.159Z"
   },
   {
    "duration": 152,
    "start_time": "2022-06-20T23:19:49.928Z"
   },
   {
    "duration": 18,
    "start_time": "2022-06-20T23:21:04.543Z"
   },
   {
    "duration": 148,
    "start_time": "2022-06-20T23:21:32.979Z"
   },
   {
    "duration": 187,
    "start_time": "2022-06-20T23:21:36.604Z"
   },
   {
    "duration": 14,
    "start_time": "2022-06-20T23:23:08.446Z"
   },
   {
    "duration": 127,
    "start_time": "2022-06-20T23:23:29.291Z"
   },
   {
    "duration": 119,
    "start_time": "2022-06-20T23:23:44.132Z"
   },
   {
    "duration": 140,
    "start_time": "2022-06-20T23:27:37.123Z"
   },
   {
    "duration": 10,
    "start_time": "2022-06-20T23:28:01.151Z"
   },
   {
    "duration": 1175,
    "start_time": "2022-06-20T23:30:43.804Z"
   },
   {
    "duration": 55,
    "start_time": "2022-06-20T23:30:44.981Z"
   },
   {
    "duration": 15,
    "start_time": "2022-06-20T23:30:45.038Z"
   },
   {
    "duration": 20,
    "start_time": "2022-06-20T23:30:45.055Z"
   },
   {
    "duration": 5,
    "start_time": "2022-06-20T23:30:45.078Z"
   },
   {
    "duration": 43,
    "start_time": "2022-06-20T23:30:45.085Z"
   },
   {
    "duration": 7,
    "start_time": "2022-06-20T23:30:45.130Z"
   },
   {
    "duration": 5,
    "start_time": "2022-06-20T23:30:45.138Z"
   },
   {
    "duration": 18,
    "start_time": "2022-06-20T23:30:45.145Z"
   },
   {
    "duration": 8,
    "start_time": "2022-06-20T23:30:45.164Z"
   },
   {
    "duration": 13,
    "start_time": "2022-06-20T23:30:45.174Z"
   },
   {
    "duration": 42,
    "start_time": "2022-06-20T23:30:45.189Z"
   },
   {
    "duration": 207,
    "start_time": "2022-06-20T23:30:45.232Z"
   },
   {
    "duration": 7,
    "start_time": "2022-06-20T23:30:45.442Z"
   },
   {
    "duration": 345,
    "start_time": "2022-06-20T23:30:45.451Z"
   },
   {
    "duration": 228,
    "start_time": "2022-06-20T23:30:45.797Z"
   },
   {
    "duration": 19,
    "start_time": "2022-06-20T23:30:46.027Z"
   },
   {
    "duration": 171,
    "start_time": "2022-06-20T23:30:46.048Z"
   },
   {
    "duration": 146,
    "start_time": "2022-06-20T23:30:46.221Z"
   },
   {
    "duration": 14,
    "start_time": "2022-06-20T23:30:46.369Z"
   },
   {
    "duration": 144,
    "start_time": "2022-06-20T23:30:46.384Z"
   },
   {
    "duration": 167,
    "start_time": "2022-06-20T23:30:46.530Z"
   },
   {
    "duration": 1149,
    "start_time": "2022-06-20T23:32:18.487Z"
   },
   {
    "duration": 52,
    "start_time": "2022-06-20T23:32:19.638Z"
   },
   {
    "duration": 18,
    "start_time": "2022-06-20T23:32:19.692Z"
   },
   {
    "duration": 23,
    "start_time": "2022-06-20T23:32:19.712Z"
   },
   {
    "duration": 6,
    "start_time": "2022-06-20T23:32:19.737Z"
   },
   {
    "duration": 18,
    "start_time": "2022-06-20T23:32:19.744Z"
   },
   {
    "duration": 6,
    "start_time": "2022-06-20T23:32:19.764Z"
   },
   {
    "duration": 6,
    "start_time": "2022-06-20T23:32:19.772Z"
   },
   {
    "duration": 15,
    "start_time": "2022-06-20T23:32:19.779Z"
   },
   {
    "duration": 36,
    "start_time": "2022-06-20T23:32:19.796Z"
   },
   {
    "duration": 13,
    "start_time": "2022-06-20T23:32:19.833Z"
   },
   {
    "duration": 10,
    "start_time": "2022-06-20T23:32:19.848Z"
   },
   {
    "duration": 215,
    "start_time": "2022-06-20T23:32:19.860Z"
   },
   {
    "duration": 6,
    "start_time": "2022-06-20T23:32:20.077Z"
   },
   {
    "duration": 310,
    "start_time": "2022-06-20T23:32:20.084Z"
   },
   {
    "duration": 236,
    "start_time": "2022-06-20T23:32:20.396Z"
   },
   {
    "duration": 15,
    "start_time": "2022-06-20T23:32:20.634Z"
   },
   {
    "duration": 172,
    "start_time": "2022-06-20T23:32:20.651Z"
   },
   {
    "duration": 156,
    "start_time": "2022-06-20T23:32:20.824Z"
   },
   {
    "duration": 14,
    "start_time": "2022-06-20T23:32:20.982Z"
   },
   {
    "duration": 142,
    "start_time": "2022-06-20T23:32:20.998Z"
   },
   {
    "duration": 132,
    "start_time": "2022-06-20T23:32:21.142Z"
   },
   {
    "duration": 183,
    "start_time": "2022-06-20T23:32:46.887Z"
   },
   {
    "duration": 1428,
    "start_time": "2022-06-20T23:35:22.565Z"
   },
   {
    "duration": 61,
    "start_time": "2022-06-20T23:35:23.995Z"
   },
   {
    "duration": 16,
    "start_time": "2022-06-20T23:35:24.058Z"
   },
   {
    "duration": 22,
    "start_time": "2022-06-20T23:35:24.076Z"
   },
   {
    "duration": 26,
    "start_time": "2022-06-20T23:35:24.100Z"
   },
   {
    "duration": 19,
    "start_time": "2022-06-20T23:35:24.127Z"
   },
   {
    "duration": 6,
    "start_time": "2022-06-20T23:35:24.148Z"
   },
   {
    "duration": 16,
    "start_time": "2022-06-20T23:35:24.156Z"
   },
   {
    "duration": 22,
    "start_time": "2022-06-20T23:35:24.174Z"
   },
   {
    "duration": 27,
    "start_time": "2022-06-20T23:35:24.198Z"
   },
   {
    "duration": 14,
    "start_time": "2022-06-20T23:35:24.227Z"
   },
   {
    "duration": 13,
    "start_time": "2022-06-20T23:35:24.243Z"
   },
   {
    "duration": 240,
    "start_time": "2022-06-20T23:35:24.258Z"
   },
   {
    "duration": 8,
    "start_time": "2022-06-20T23:35:24.500Z"
   },
   {
    "duration": 346,
    "start_time": "2022-06-20T23:35:24.510Z"
   },
   {
    "duration": 270,
    "start_time": "2022-06-20T23:35:24.858Z"
   },
   {
    "duration": 19,
    "start_time": "2022-06-20T23:35:25.131Z"
   },
   {
    "duration": 184,
    "start_time": "2022-06-20T23:35:25.152Z"
   },
   {
    "duration": 154,
    "start_time": "2022-06-20T23:35:25.338Z"
   },
   {
    "duration": 14,
    "start_time": "2022-06-20T23:35:25.494Z"
   },
   {
    "duration": 133,
    "start_time": "2022-06-20T23:35:25.525Z"
   },
   {
    "duration": 136,
    "start_time": "2022-06-20T23:35:25.661Z"
   },
   {
    "duration": 29,
    "start_time": "2022-06-20T23:35:25.799Z"
   },
   {
    "duration": 258,
    "start_time": "2022-06-20T23:35:39.100Z"
   },
   {
    "duration": 104,
    "start_time": "2022-06-20T23:35:50.050Z"
   },
   {
    "duration": 15,
    "start_time": "2022-06-20T23:35:59.047Z"
   },
   {
    "duration": 184,
    "start_time": "2022-06-20T23:36:09.453Z"
   },
   {
    "duration": 1124,
    "start_time": "2022-06-20T23:38:21.552Z"
   },
   {
    "duration": 55,
    "start_time": "2022-06-20T23:38:22.678Z"
   },
   {
    "duration": 15,
    "start_time": "2022-06-20T23:38:22.735Z"
   },
   {
    "duration": 28,
    "start_time": "2022-06-20T23:38:22.752Z"
   },
   {
    "duration": 6,
    "start_time": "2022-06-20T23:38:22.783Z"
   },
   {
    "duration": 47,
    "start_time": "2022-06-20T23:38:22.791Z"
   },
   {
    "duration": 6,
    "start_time": "2022-06-20T23:38:22.840Z"
   },
   {
    "duration": 17,
    "start_time": "2022-06-20T23:38:22.848Z"
   },
   {
    "duration": 27,
    "start_time": "2022-06-20T23:38:22.867Z"
   },
   {
    "duration": 9,
    "start_time": "2022-06-20T23:38:22.895Z"
   },
   {
    "duration": 25,
    "start_time": "2022-06-20T23:38:22.906Z"
   },
   {
    "duration": 11,
    "start_time": "2022-06-20T23:38:22.933Z"
   },
   {
    "duration": 235,
    "start_time": "2022-06-20T23:38:22.946Z"
   },
   {
    "duration": 7,
    "start_time": "2022-06-20T23:38:23.184Z"
   },
   {
    "duration": 336,
    "start_time": "2022-06-20T23:38:23.193Z"
   },
   {
    "duration": 239,
    "start_time": "2022-06-20T23:38:23.531Z"
   },
   {
    "duration": 16,
    "start_time": "2022-06-20T23:38:23.772Z"
   },
   {
    "duration": 193,
    "start_time": "2022-06-20T23:38:23.790Z"
   },
   {
    "duration": 161,
    "start_time": "2022-06-20T23:38:23.985Z"
   },
   {
    "duration": 15,
    "start_time": "2022-06-20T23:38:24.148Z"
   },
   {
    "duration": 148,
    "start_time": "2022-06-20T23:38:24.164Z"
   },
   {
    "duration": 137,
    "start_time": "2022-06-20T23:38:24.314Z"
   },
   {
    "duration": 264,
    "start_time": "2022-06-20T23:38:24.453Z"
   },
   {
    "duration": 1308,
    "start_time": "2022-06-21T08:03:32.008Z"
   },
   {
    "duration": 94,
    "start_time": "2022-06-21T08:03:33.318Z"
   },
   {
    "duration": 15,
    "start_time": "2022-06-21T08:03:33.414Z"
   },
   {
    "duration": 20,
    "start_time": "2022-06-21T08:03:33.431Z"
   },
   {
    "duration": 4,
    "start_time": "2022-06-21T08:03:33.453Z"
   },
   {
    "duration": 22,
    "start_time": "2022-06-21T08:03:33.458Z"
   },
   {
    "duration": 8,
    "start_time": "2022-06-21T08:03:33.482Z"
   },
   {
    "duration": 6,
    "start_time": "2022-06-21T08:03:33.492Z"
   },
   {
    "duration": 30,
    "start_time": "2022-06-21T08:03:33.499Z"
   },
   {
    "duration": 8,
    "start_time": "2022-06-21T08:03:33.532Z"
   },
   {
    "duration": 13,
    "start_time": "2022-06-21T08:03:33.541Z"
   },
   {
    "duration": 13,
    "start_time": "2022-06-21T08:03:33.555Z"
   },
   {
    "duration": 218,
    "start_time": "2022-06-21T08:03:33.570Z"
   },
   {
    "duration": 5,
    "start_time": "2022-06-21T08:03:33.790Z"
   },
   {
    "duration": 322,
    "start_time": "2022-06-21T08:03:33.797Z"
   },
   {
    "duration": 242,
    "start_time": "2022-06-21T08:03:34.120Z"
   },
   {
    "duration": 17,
    "start_time": "2022-06-21T08:03:34.363Z"
   },
   {
    "duration": 196,
    "start_time": "2022-06-21T08:03:34.382Z"
   },
   {
    "duration": 152,
    "start_time": "2022-06-21T08:03:34.580Z"
   },
   {
    "duration": 14,
    "start_time": "2022-06-21T08:03:34.733Z"
   },
   {
    "duration": 137,
    "start_time": "2022-06-21T08:03:34.748Z"
   },
   {
    "duration": 129,
    "start_time": "2022-06-21T08:03:34.886Z"
   },
   {
    "duration": 249,
    "start_time": "2022-06-21T08:03:35.025Z"
   },
   {
    "duration": 15,
    "start_time": "2022-06-21T08:03:49.218Z"
   },
   {
    "duration": 14,
    "start_time": "2022-06-21T08:07:27.089Z"
   },
   {
    "duration": 110,
    "start_time": "2022-06-21T08:07:38.040Z"
   },
   {
    "duration": 15,
    "start_time": "2022-06-21T08:07:48.577Z"
   },
   {
    "duration": 209,
    "start_time": "2022-06-21T08:08:01.427Z"
   },
   {
    "duration": 52,
    "start_time": "2022-06-21T08:08:44.202Z"
   },
   {
    "duration": 22,
    "start_time": "2022-06-21T08:08:48.449Z"
   },
   {
    "duration": 18,
    "start_time": "2022-06-21T08:08:59.746Z"
   },
   {
    "duration": 17,
    "start_time": "2022-06-21T08:09:09.522Z"
   },
   {
    "duration": 26,
    "start_time": "2022-06-21T08:09:24.553Z"
   },
   {
    "duration": 292,
    "start_time": "2022-06-21T08:09:32.506Z"
   },
   {
    "duration": 38,
    "start_time": "2022-06-21T09:06:37.334Z"
   },
   {
    "duration": 342,
    "start_time": "2022-06-21T09:06:48.919Z"
   },
   {
    "duration": 185,
    "start_time": "2022-06-21T09:07:03.385Z"
   },
   {
    "duration": 167,
    "start_time": "2022-06-21T09:07:27.383Z"
   },
   {
    "duration": 173,
    "start_time": "2022-06-21T09:07:59.477Z"
   },
   {
    "duration": 178,
    "start_time": "2022-06-21T09:08:08.551Z"
   },
   {
    "duration": 18,
    "start_time": "2022-06-21T09:10:24.998Z"
   },
   {
    "duration": 8,
    "start_time": "2022-06-21T09:10:45.791Z"
   },
   {
    "duration": 15,
    "start_time": "2022-06-21T09:10:59.894Z"
   },
   {
    "duration": 165,
    "start_time": "2022-06-21T09:11:12.998Z"
   },
   {
    "duration": 1138,
    "start_time": "2022-06-21T09:11:38.550Z"
   },
   {
    "duration": 54,
    "start_time": "2022-06-21T09:11:39.690Z"
   },
   {
    "duration": 16,
    "start_time": "2022-06-21T09:11:39.745Z"
   },
   {
    "duration": 34,
    "start_time": "2022-06-21T09:11:39.763Z"
   },
   {
    "duration": 6,
    "start_time": "2022-06-21T09:11:39.799Z"
   },
   {
    "duration": 27,
    "start_time": "2022-06-21T09:11:39.806Z"
   },
   {
    "duration": 7,
    "start_time": "2022-06-21T09:11:39.835Z"
   },
   {
    "duration": 5,
    "start_time": "2022-06-21T09:11:39.843Z"
   },
   {
    "duration": 30,
    "start_time": "2022-06-21T09:11:39.850Z"
   },
   {
    "duration": 8,
    "start_time": "2022-06-21T09:11:39.882Z"
   },
   {
    "duration": 17,
    "start_time": "2022-06-21T09:11:39.891Z"
   },
   {
    "duration": 24,
    "start_time": "2022-06-21T09:11:39.910Z"
   },
   {
    "duration": 224,
    "start_time": "2022-06-21T09:11:39.936Z"
   },
   {
    "duration": 7,
    "start_time": "2022-06-21T09:11:40.162Z"
   },
   {
    "duration": 333,
    "start_time": "2022-06-21T09:11:40.171Z"
   },
   {
    "duration": 235,
    "start_time": "2022-06-21T09:11:40.506Z"
   },
   {
    "duration": 16,
    "start_time": "2022-06-21T09:11:40.742Z"
   },
   {
    "duration": 155,
    "start_time": "2022-06-21T09:11:40.759Z"
   },
   {
    "duration": 150,
    "start_time": "2022-06-21T09:11:40.915Z"
   },
   {
    "duration": 13,
    "start_time": "2022-06-21T09:11:41.067Z"
   },
   {
    "duration": 145,
    "start_time": "2022-06-21T09:11:41.082Z"
   },
   {
    "duration": 143,
    "start_time": "2022-06-21T09:11:41.230Z"
   },
   {
    "duration": 285,
    "start_time": "2022-06-21T09:11:41.374Z"
   },
   {
    "duration": 15,
    "start_time": "2022-06-21T09:11:41.661Z"
   },
   {
    "duration": 299,
    "start_time": "2022-06-21T09:11:41.677Z"
   },
   {
    "duration": 198,
    "start_time": "2022-06-21T09:11:41.979Z"
   },
   {
    "duration": 5,
    "start_time": "2022-06-21T09:29:42.342Z"
   },
   {
    "duration": 164,
    "start_time": "2022-06-21T09:31:04.286Z"
   },
   {
    "duration": 310,
    "start_time": "2022-06-21T09:34:49.318Z"
   },
   {
    "duration": 182,
    "start_time": "2022-06-21T09:36:57.694Z"
   },
   {
    "duration": 149,
    "start_time": "2022-06-21T09:38:02.006Z"
   },
   {
    "duration": 1154,
    "start_time": "2022-06-21T09:39:11.509Z"
   },
   {
    "duration": 56,
    "start_time": "2022-06-21T09:39:12.665Z"
   },
   {
    "duration": 15,
    "start_time": "2022-06-21T09:39:12.723Z"
   },
   {
    "duration": 21,
    "start_time": "2022-06-21T09:39:12.739Z"
   },
   {
    "duration": 5,
    "start_time": "2022-06-21T09:39:12.762Z"
   },
   {
    "duration": 18,
    "start_time": "2022-06-21T09:39:12.768Z"
   },
   {
    "duration": 6,
    "start_time": "2022-06-21T09:39:12.787Z"
   },
   {
    "duration": 5,
    "start_time": "2022-06-21T09:39:12.795Z"
   },
   {
    "duration": 15,
    "start_time": "2022-06-21T09:39:12.826Z"
   },
   {
    "duration": 7,
    "start_time": "2022-06-21T09:39:12.842Z"
   },
   {
    "duration": 15,
    "start_time": "2022-06-21T09:39:12.850Z"
   },
   {
    "duration": 11,
    "start_time": "2022-06-21T09:39:12.866Z"
   },
   {
    "duration": 216,
    "start_time": "2022-06-21T09:39:12.879Z"
   },
   {
    "duration": 7,
    "start_time": "2022-06-21T09:39:13.097Z"
   },
   {
    "duration": 318,
    "start_time": "2022-06-21T09:39:13.106Z"
   },
   {
    "duration": 235,
    "start_time": "2022-06-21T09:39:13.426Z"
   },
   {
    "duration": 15,
    "start_time": "2022-06-21T09:39:13.663Z"
   },
   {
    "duration": 166,
    "start_time": "2022-06-21T09:39:13.680Z"
   },
   {
    "duration": 144,
    "start_time": "2022-06-21T09:39:13.847Z"
   },
   {
    "duration": 14,
    "start_time": "2022-06-21T09:39:13.993Z"
   },
   {
    "duration": 130,
    "start_time": "2022-06-21T09:39:14.008Z"
   },
   {
    "duration": 130,
    "start_time": "2022-06-21T09:39:14.140Z"
   },
   {
    "duration": 311,
    "start_time": "2022-06-21T09:39:14.273Z"
   },
   {
    "duration": 18,
    "start_time": "2022-06-21T09:39:14.586Z"
   },
   {
    "duration": 333,
    "start_time": "2022-06-21T09:39:14.606Z"
   },
   {
    "duration": 184,
    "start_time": "2022-06-21T09:39:14.940Z"
   },
   {
    "duration": 155,
    "start_time": "2022-06-21T09:39:15.126Z"
   },
   {
    "duration": 296,
    "start_time": "2022-06-21T09:39:15.283Z"
   },
   {
    "duration": 176,
    "start_time": "2022-06-21T09:39:15.581Z"
   },
   {
    "duration": 151,
    "start_time": "2022-06-21T09:39:15.759Z"
   },
   {
    "duration": 113,
    "start_time": "2022-06-21T10:06:23.134Z"
   },
   {
    "duration": 194,
    "start_time": "2022-06-21T10:06:31.486Z"
   },
   {
    "duration": 18,
    "start_time": "2022-06-21T10:07:25.701Z"
   },
   {
    "duration": 130,
    "start_time": "2022-06-21T10:07:29.776Z"
   },
   {
    "duration": 1081,
    "start_time": "2022-06-21T10:08:19.480Z"
   },
   {
    "duration": 53,
    "start_time": "2022-06-21T10:08:20.563Z"
   },
   {
    "duration": 14,
    "start_time": "2022-06-21T10:08:20.618Z"
   },
   {
    "duration": 22,
    "start_time": "2022-06-21T10:08:20.634Z"
   },
   {
    "duration": 5,
    "start_time": "2022-06-21T10:08:20.657Z"
   },
   {
    "duration": 18,
    "start_time": "2022-06-21T10:08:20.664Z"
   },
   {
    "duration": 6,
    "start_time": "2022-06-21T10:08:20.684Z"
   },
   {
    "duration": 6,
    "start_time": "2022-06-21T10:08:20.692Z"
   },
   {
    "duration": 34,
    "start_time": "2022-06-21T10:08:20.700Z"
   },
   {
    "duration": 7,
    "start_time": "2022-06-21T10:08:20.736Z"
   },
   {
    "duration": 16,
    "start_time": "2022-06-21T10:08:20.744Z"
   },
   {
    "duration": 17,
    "start_time": "2022-06-21T10:08:20.761Z"
   },
   {
    "duration": 228,
    "start_time": "2022-06-21T10:08:20.780Z"
   },
   {
    "duration": 7,
    "start_time": "2022-06-21T10:08:21.011Z"
   },
   {
    "duration": 362,
    "start_time": "2022-06-21T10:08:21.019Z"
   },
   {
    "duration": 269,
    "start_time": "2022-06-21T10:08:21.383Z"
   },
   {
    "duration": 15,
    "start_time": "2022-06-21T10:08:21.654Z"
   },
   {
    "duration": 148,
    "start_time": "2022-06-21T10:08:21.671Z"
   },
   {
    "duration": 161,
    "start_time": "2022-06-21T10:08:21.821Z"
   },
   {
    "duration": 20,
    "start_time": "2022-06-21T10:08:21.984Z"
   },
   {
    "duration": 128,
    "start_time": "2022-06-21T10:08:22.005Z"
   },
   {
    "duration": 123,
    "start_time": "2022-06-21T10:08:22.135Z"
   },
   {
    "duration": 290,
    "start_time": "2022-06-21T10:08:22.260Z"
   },
   {
    "duration": 14,
    "start_time": "2022-06-21T10:08:22.552Z"
   },
   {
    "duration": 305,
    "start_time": "2022-06-21T10:08:22.568Z"
   },
   {
    "duration": 180,
    "start_time": "2022-06-21T10:08:22.875Z"
   },
   {
    "duration": 149,
    "start_time": "2022-06-21T10:08:23.057Z"
   },
   {
    "duration": 306,
    "start_time": "2022-06-21T10:08:23.207Z"
   },
   {
    "duration": 192,
    "start_time": "2022-06-21T10:08:23.514Z"
   },
   {
    "duration": 148,
    "start_time": "2022-06-21T10:08:23.708Z"
   },
   {
    "duration": 303,
    "start_time": "2022-06-21T10:08:33.476Z"
   },
   {
    "duration": 395,
    "start_time": "2022-06-21T10:08:37.593Z"
   },
   {
    "duration": 301,
    "start_time": "2022-06-21T10:08:44.921Z"
   },
   {
    "duration": 173,
    "start_time": "2022-06-21T10:12:12.478Z"
   },
   {
    "duration": 123,
    "start_time": "2022-06-21T10:14:49.177Z"
   },
   {
    "duration": 1255,
    "start_time": "2022-06-21T10:17:33.283Z"
   },
   {
    "duration": 62,
    "start_time": "2022-06-21T10:17:34.541Z"
   },
   {
    "duration": 19,
    "start_time": "2022-06-21T10:17:34.606Z"
   },
   {
    "duration": 44,
    "start_time": "2022-06-21T10:17:34.635Z"
   },
   {
    "duration": 16,
    "start_time": "2022-06-21T10:17:34.681Z"
   },
   {
    "duration": 33,
    "start_time": "2022-06-21T10:17:34.699Z"
   },
   {
    "duration": 13,
    "start_time": "2022-06-21T10:17:34.734Z"
   },
   {
    "duration": 26,
    "start_time": "2022-06-21T10:17:34.749Z"
   },
   {
    "duration": 35,
    "start_time": "2022-06-21T10:17:34.777Z"
   },
   {
    "duration": 10,
    "start_time": "2022-06-21T10:17:34.816Z"
   },
   {
    "duration": 26,
    "start_time": "2022-06-21T10:17:34.829Z"
   },
   {
    "duration": 18,
    "start_time": "2022-06-21T10:17:34.858Z"
   },
   {
    "duration": 257,
    "start_time": "2022-06-21T10:17:34.878Z"
   },
   {
    "duration": 7,
    "start_time": "2022-06-21T10:17:35.137Z"
   },
   {
    "duration": 388,
    "start_time": "2022-06-21T10:17:35.146Z"
   },
   {
    "duration": 243,
    "start_time": "2022-06-21T10:17:35.537Z"
   },
   {
    "duration": 16,
    "start_time": "2022-06-21T10:17:35.781Z"
   },
   {
    "duration": 163,
    "start_time": "2022-06-21T10:17:35.798Z"
   },
   {
    "duration": 158,
    "start_time": "2022-06-21T10:17:35.963Z"
   },
   {
    "duration": 15,
    "start_time": "2022-06-21T10:17:36.125Z"
   },
   {
    "duration": 141,
    "start_time": "2022-06-21T10:17:36.141Z"
   },
   {
    "duration": 128,
    "start_time": "2022-06-21T10:17:36.284Z"
   },
   {
    "duration": 272,
    "start_time": "2022-06-21T10:17:36.414Z"
   },
   {
    "duration": 16,
    "start_time": "2022-06-21T10:17:36.688Z"
   },
   {
    "duration": 331,
    "start_time": "2022-06-21T10:17:36.706Z"
   },
   {
    "duration": 203,
    "start_time": "2022-06-21T10:17:37.038Z"
   },
   {
    "duration": 164,
    "start_time": "2022-06-21T10:17:37.243Z"
   },
   {
    "duration": 329,
    "start_time": "2022-06-21T10:17:37.411Z"
   },
   {
    "duration": 180,
    "start_time": "2022-06-21T10:17:37.741Z"
   },
   {
    "duration": 146,
    "start_time": "2022-06-21T10:17:37.925Z"
   },
   {
    "duration": 307,
    "start_time": "2022-06-21T10:17:38.072Z"
   },
   {
    "duration": 290,
    "start_time": "2022-06-21T10:17:38.381Z"
   },
   {
    "duration": 143,
    "start_time": "2022-06-21T10:17:38.674Z"
   },
   {
    "duration": 104,
    "start_time": "2022-06-21T10:26:18.258Z"
   },
   {
    "duration": 17,
    "start_time": "2022-06-21T10:26:38.551Z"
   },
   {
    "duration": 5,
    "start_time": "2022-06-21T10:27:15.609Z"
   },
   {
    "duration": 12,
    "start_time": "2022-06-21T10:27:37.463Z"
   },
   {
    "duration": 1212,
    "start_time": "2022-06-21T10:27:55.770Z"
   },
   {
    "duration": 54,
    "start_time": "2022-06-21T10:27:56.984Z"
   },
   {
    "duration": 14,
    "start_time": "2022-06-21T10:27:57.040Z"
   },
   {
    "duration": 19,
    "start_time": "2022-06-21T10:27:57.056Z"
   },
   {
    "duration": 5,
    "start_time": "2022-06-21T10:27:57.077Z"
   },
   {
    "duration": 43,
    "start_time": "2022-06-21T10:27:57.083Z"
   },
   {
    "duration": 8,
    "start_time": "2022-06-21T10:27:57.127Z"
   },
   {
    "duration": 10,
    "start_time": "2022-06-21T10:27:57.137Z"
   },
   {
    "duration": 27,
    "start_time": "2022-06-21T10:27:57.148Z"
   },
   {
    "duration": 9,
    "start_time": "2022-06-21T10:27:57.176Z"
   },
   {
    "duration": 19,
    "start_time": "2022-06-21T10:27:57.186Z"
   },
   {
    "duration": 29,
    "start_time": "2022-06-21T10:27:57.207Z"
   },
   {
    "duration": 222,
    "start_time": "2022-06-21T10:27:57.238Z"
   },
   {
    "duration": 7,
    "start_time": "2022-06-21T10:27:57.462Z"
   },
   {
    "duration": 335,
    "start_time": "2022-06-21T10:27:57.471Z"
   },
   {
    "duration": 250,
    "start_time": "2022-06-21T10:27:57.808Z"
   },
   {
    "duration": 16,
    "start_time": "2022-06-21T10:27:58.060Z"
   },
   {
    "duration": 156,
    "start_time": "2022-06-21T10:27:58.077Z"
   },
   {
    "duration": 160,
    "start_time": "2022-06-21T10:27:58.235Z"
   },
   {
    "duration": 14,
    "start_time": "2022-06-21T10:27:58.397Z"
   },
   {
    "duration": 160,
    "start_time": "2022-06-21T10:27:58.413Z"
   },
   {
    "duration": 124,
    "start_time": "2022-06-21T10:27:58.574Z"
   },
   {
    "duration": 269,
    "start_time": "2022-06-21T10:27:58.700Z"
   },
   {
    "duration": 15,
    "start_time": "2022-06-21T10:27:58.971Z"
   },
   {
    "duration": 306,
    "start_time": "2022-06-21T10:27:58.988Z"
   },
   {
    "duration": 179,
    "start_time": "2022-06-21T10:27:59.296Z"
   },
   {
    "duration": 158,
    "start_time": "2022-06-21T10:27:59.477Z"
   },
   {
    "duration": 321,
    "start_time": "2022-06-21T10:27:59.637Z"
   },
   {
    "duration": 213,
    "start_time": "2022-06-21T10:27:59.959Z"
   },
   {
    "duration": 174,
    "start_time": "2022-06-21T10:28:00.173Z"
   },
   {
    "duration": 342,
    "start_time": "2022-06-21T10:28:00.349Z"
   },
   {
    "duration": 279,
    "start_time": "2022-06-21T10:28:00.692Z"
   },
   {
    "duration": 137,
    "start_time": "2022-06-21T10:28:00.972Z"
   },
   {
    "duration": 19,
    "start_time": "2022-06-21T10:28:01.111Z"
   },
   {
    "duration": 103,
    "start_time": "2022-06-21T10:37:12.548Z"
   },
   {
    "duration": 16,
    "start_time": "2022-06-21T10:38:19.643Z"
   },
   {
    "duration": 2,
    "start_time": "2022-06-21T10:38:58.873Z"
   },
   {
    "duration": 741,
    "start_time": "2022-06-21T10:39:05.123Z"
   },
   {
    "duration": 4,
    "start_time": "2022-06-21T10:39:23.340Z"
   },
   {
    "duration": 11,
    "start_time": "2022-06-21T10:39:36.532Z"
   },
   {
    "duration": 1152,
    "start_time": "2022-06-21T10:39:42.313Z"
   },
   {
    "duration": 52,
    "start_time": "2022-06-21T10:39:43.467Z"
   },
   {
    "duration": 16,
    "start_time": "2022-06-21T10:39:43.521Z"
   },
   {
    "duration": 24,
    "start_time": "2022-06-21T10:39:43.539Z"
   },
   {
    "duration": 5,
    "start_time": "2022-06-21T10:39:43.565Z"
   },
   {
    "duration": 17,
    "start_time": "2022-06-21T10:39:43.572Z"
   },
   {
    "duration": 6,
    "start_time": "2022-06-21T10:39:43.591Z"
   },
   {
    "duration": 28,
    "start_time": "2022-06-21T10:39:43.598Z"
   },
   {
    "duration": 17,
    "start_time": "2022-06-21T10:39:43.628Z"
   },
   {
    "duration": 8,
    "start_time": "2022-06-21T10:39:43.647Z"
   },
   {
    "duration": 13,
    "start_time": "2022-06-21T10:39:43.656Z"
   },
   {
    "duration": 10,
    "start_time": "2022-06-21T10:39:43.670Z"
   },
   {
    "duration": 230,
    "start_time": "2022-06-21T10:39:43.681Z"
   },
   {
    "duration": 12,
    "start_time": "2022-06-21T10:39:43.914Z"
   },
   {
    "duration": 330,
    "start_time": "2022-06-21T10:39:43.928Z"
   },
   {
    "duration": 296,
    "start_time": "2022-06-21T10:39:44.260Z"
   },
   {
    "duration": 20,
    "start_time": "2022-06-21T10:39:44.559Z"
   },
   {
    "duration": 168,
    "start_time": "2022-06-21T10:39:44.581Z"
   },
   {
    "duration": 159,
    "start_time": "2022-06-21T10:39:44.751Z"
   },
   {
    "duration": 25,
    "start_time": "2022-06-21T10:39:44.912Z"
   },
   {
    "duration": 135,
    "start_time": "2022-06-21T10:39:44.939Z"
   },
   {
    "duration": 126,
    "start_time": "2022-06-21T10:39:45.075Z"
   },
   {
    "duration": 252,
    "start_time": "2022-06-21T10:39:45.202Z"
   },
   {
    "duration": 14,
    "start_time": "2022-06-21T10:39:45.456Z"
   },
   {
    "duration": 299,
    "start_time": "2022-06-21T10:39:45.471Z"
   },
   {
    "duration": 182,
    "start_time": "2022-06-21T10:39:45.773Z"
   },
   {
    "duration": 152,
    "start_time": "2022-06-21T10:39:45.957Z"
   },
   {
    "duration": 335,
    "start_time": "2022-06-21T10:39:46.111Z"
   },
   {
    "duration": 186,
    "start_time": "2022-06-21T10:39:46.450Z"
   },
   {
    "duration": 161,
    "start_time": "2022-06-21T10:39:46.637Z"
   },
   {
    "duration": 302,
    "start_time": "2022-06-21T10:39:46.800Z"
   },
   {
    "duration": 268,
    "start_time": "2022-06-21T10:39:47.104Z"
   },
   {
    "duration": 135,
    "start_time": "2022-06-21T10:39:47.374Z"
   },
   {
    "duration": 4,
    "start_time": "2022-06-21T10:39:47.510Z"
   },
   {
    "duration": 20,
    "start_time": "2022-06-21T10:39:47.516Z"
   },
   {
    "duration": 1156,
    "start_time": "2022-06-21T11:20:25.218Z"
   },
   {
    "duration": 52,
    "start_time": "2022-06-21T11:20:26.377Z"
   },
   {
    "duration": 15,
    "start_time": "2022-06-21T11:20:26.431Z"
   },
   {
    "duration": 20,
    "start_time": "2022-06-21T11:20:26.448Z"
   },
   {
    "duration": 11,
    "start_time": "2022-06-21T11:20:26.470Z"
   },
   {
    "duration": 20,
    "start_time": "2022-06-21T11:20:26.483Z"
   },
   {
    "duration": 24,
    "start_time": "2022-06-21T11:20:26.505Z"
   },
   {
    "duration": 22,
    "start_time": "2022-06-21T11:20:26.531Z"
   },
   {
    "duration": 25,
    "start_time": "2022-06-21T11:20:26.555Z"
   },
   {
    "duration": 14,
    "start_time": "2022-06-21T11:20:26.581Z"
   },
   {
    "duration": 16,
    "start_time": "2022-06-21T11:20:26.597Z"
   },
   {
    "duration": 25,
    "start_time": "2022-06-21T11:20:26.615Z"
   },
   {
    "duration": 218,
    "start_time": "2022-06-21T11:20:26.642Z"
   },
   {
    "duration": 7,
    "start_time": "2022-06-21T11:20:26.863Z"
   },
   {
    "duration": 329,
    "start_time": "2022-06-21T11:20:26.872Z"
   },
   {
    "duration": 240,
    "start_time": "2022-06-21T11:20:27.203Z"
   },
   {
    "duration": 19,
    "start_time": "2022-06-21T11:20:27.445Z"
   },
   {
    "duration": 167,
    "start_time": "2022-06-21T11:20:27.467Z"
   },
   {
    "duration": 157,
    "start_time": "2022-06-21T11:20:27.636Z"
   },
   {
    "duration": 14,
    "start_time": "2022-06-21T11:20:27.795Z"
   },
   {
    "duration": 152,
    "start_time": "2022-06-21T11:20:27.811Z"
   },
   {
    "duration": 146,
    "start_time": "2022-06-21T11:20:27.964Z"
   },
   {
    "duration": 334,
    "start_time": "2022-06-21T11:20:28.112Z"
   },
   {
    "duration": 15,
    "start_time": "2022-06-21T11:20:28.447Z"
   },
   {
    "duration": 320,
    "start_time": "2022-06-21T11:20:28.464Z"
   },
   {
    "duration": 214,
    "start_time": "2022-06-21T11:20:28.786Z"
   },
   {
    "duration": 165,
    "start_time": "2022-06-21T11:20:29.001Z"
   },
   {
    "duration": 318,
    "start_time": "2022-06-21T11:20:29.168Z"
   },
   {
    "duration": 186,
    "start_time": "2022-06-21T11:20:29.489Z"
   },
   {
    "duration": 142,
    "start_time": "2022-06-21T11:20:29.677Z"
   },
   {
    "duration": 324,
    "start_time": "2022-06-21T11:20:29.827Z"
   },
   {
    "duration": 292,
    "start_time": "2022-06-21T11:20:30.153Z"
   },
   {
    "duration": 141,
    "start_time": "2022-06-21T11:20:30.446Z"
   },
   {
    "duration": 4,
    "start_time": "2022-06-21T11:20:30.589Z"
   },
   {
    "duration": 16,
    "start_time": "2022-06-21T11:20:30.595Z"
   },
   {
    "duration": 10,
    "start_time": "2022-06-21T11:23:12.125Z"
   },
   {
    "duration": 5,
    "start_time": "2022-06-21T11:24:12.820Z"
   },
   {
    "duration": 7,
    "start_time": "2022-06-21T11:24:18.645Z"
   },
   {
    "duration": 12,
    "start_time": "2022-06-21T11:24:33.481Z"
   },
   {
    "duration": 19,
    "start_time": "2022-06-21T11:25:15.238Z"
   },
   {
    "duration": 18,
    "start_time": "2022-06-21T11:25:19.570Z"
   },
   {
    "duration": 7,
    "start_time": "2022-06-21T11:25:35.940Z"
   },
   {
    "duration": 20,
    "start_time": "2022-06-21T11:25:39.486Z"
   },
   {
    "duration": 1146,
    "start_time": "2022-06-21T11:29:01.127Z"
   },
   {
    "duration": 58,
    "start_time": "2022-06-21T11:29:02.275Z"
   },
   {
    "duration": 15,
    "start_time": "2022-06-21T11:29:02.334Z"
   },
   {
    "duration": 29,
    "start_time": "2022-06-21T11:29:02.351Z"
   },
   {
    "duration": 5,
    "start_time": "2022-06-21T11:29:02.381Z"
   },
   {
    "duration": 23,
    "start_time": "2022-06-21T11:29:02.388Z"
   },
   {
    "duration": 17,
    "start_time": "2022-06-21T11:29:02.412Z"
   },
   {
    "duration": 20,
    "start_time": "2022-06-21T11:29:02.430Z"
   },
   {
    "duration": 36,
    "start_time": "2022-06-21T11:29:02.451Z"
   },
   {
    "duration": 8,
    "start_time": "2022-06-21T11:29:02.490Z"
   },
   {
    "duration": 12,
    "start_time": "2022-06-21T11:29:02.500Z"
   },
   {
    "duration": 10,
    "start_time": "2022-06-21T11:29:02.514Z"
   },
   {
    "duration": 221,
    "start_time": "2022-06-21T11:29:02.525Z"
   },
   {
    "duration": 6,
    "start_time": "2022-06-21T11:29:02.748Z"
   },
   {
    "duration": 342,
    "start_time": "2022-06-21T11:29:02.755Z"
   },
   {
    "duration": 242,
    "start_time": "2022-06-21T11:29:03.098Z"
   },
   {
    "duration": 15,
    "start_time": "2022-06-21T11:29:03.342Z"
   },
   {
    "duration": 159,
    "start_time": "2022-06-21T11:29:03.359Z"
   },
   {
    "duration": 153,
    "start_time": "2022-06-21T11:29:03.520Z"
   },
   {
    "duration": 15,
    "start_time": "2022-06-21T11:29:03.675Z"
   },
   {
    "duration": 146,
    "start_time": "2022-06-21T11:29:03.692Z"
   },
   {
    "duration": 130,
    "start_time": "2022-06-21T11:29:03.840Z"
   },
   {
    "duration": 256,
    "start_time": "2022-06-21T11:29:03.972Z"
   },
   {
    "duration": 15,
    "start_time": "2022-06-21T11:29:04.229Z"
   },
   {
    "duration": 365,
    "start_time": "2022-06-21T11:29:04.245Z"
   },
   {
    "duration": 201,
    "start_time": "2022-06-21T11:29:04.613Z"
   },
   {
    "duration": 159,
    "start_time": "2022-06-21T11:29:04.815Z"
   },
   {
    "duration": 311,
    "start_time": "2022-06-21T11:29:04.977Z"
   },
   {
    "duration": 185,
    "start_time": "2022-06-21T11:29:05.290Z"
   },
   {
    "duration": 155,
    "start_time": "2022-06-21T11:29:05.477Z"
   },
   {
    "duration": 312,
    "start_time": "2022-06-21T11:29:05.634Z"
   },
   {
    "duration": 280,
    "start_time": "2022-06-21T11:29:05.948Z"
   },
   {
    "duration": 140,
    "start_time": "2022-06-21T11:29:06.230Z"
   },
   {
    "duration": 13,
    "start_time": "2022-06-21T11:29:06.372Z"
   },
   {
    "duration": 13,
    "start_time": "2022-06-21T11:29:06.386Z"
   },
   {
    "duration": 7,
    "start_time": "2022-06-21T11:29:22.204Z"
   },
   {
    "duration": 17,
    "start_time": "2022-06-21T11:32:54.517Z"
   },
   {
    "duration": 1142,
    "start_time": "2022-06-21T11:37:11.414Z"
   },
   {
    "duration": 53,
    "start_time": "2022-06-21T11:37:12.558Z"
   },
   {
    "duration": 14,
    "start_time": "2022-06-21T11:37:12.612Z"
   },
   {
    "duration": 18,
    "start_time": "2022-06-21T11:37:12.628Z"
   },
   {
    "duration": 5,
    "start_time": "2022-06-21T11:37:12.647Z"
   },
   {
    "duration": 22,
    "start_time": "2022-06-21T11:37:12.653Z"
   },
   {
    "duration": 6,
    "start_time": "2022-06-21T11:37:12.677Z"
   },
   {
    "duration": 22,
    "start_time": "2022-06-21T11:37:12.684Z"
   },
   {
    "duration": 21,
    "start_time": "2022-06-21T11:37:12.708Z"
   },
   {
    "duration": 7,
    "start_time": "2022-06-21T11:37:12.731Z"
   },
   {
    "duration": 20,
    "start_time": "2022-06-21T11:37:12.739Z"
   },
   {
    "duration": 10,
    "start_time": "2022-06-21T11:37:12.761Z"
   },
   {
    "duration": 208,
    "start_time": "2022-06-21T11:37:12.773Z"
   },
   {
    "duration": 6,
    "start_time": "2022-06-21T11:37:12.983Z"
   },
   {
    "duration": 323,
    "start_time": "2022-06-21T11:37:12.991Z"
   },
   {
    "duration": 231,
    "start_time": "2022-06-21T11:37:13.316Z"
   },
   {
    "duration": 14,
    "start_time": "2022-06-21T11:37:13.549Z"
   },
   {
    "duration": 152,
    "start_time": "2022-06-21T11:37:13.565Z"
   },
   {
    "duration": 143,
    "start_time": "2022-06-21T11:37:13.718Z"
   },
   {
    "duration": 13,
    "start_time": "2022-06-21T11:37:13.863Z"
   },
   {
    "duration": 125,
    "start_time": "2022-06-21T11:37:13.877Z"
   },
   {
    "duration": 130,
    "start_time": "2022-06-21T11:37:14.004Z"
   },
   {
    "duration": 278,
    "start_time": "2022-06-21T11:37:14.136Z"
   },
   {
    "duration": 29,
    "start_time": "2022-06-21T11:37:14.417Z"
   },
   {
    "duration": 359,
    "start_time": "2022-06-21T11:37:14.448Z"
   },
   {
    "duration": 182,
    "start_time": "2022-06-21T11:37:14.809Z"
   },
   {
    "duration": 158,
    "start_time": "2022-06-21T11:37:14.992Z"
   },
   {
    "duration": 302,
    "start_time": "2022-06-21T11:37:15.153Z"
   },
   {
    "duration": 170,
    "start_time": "2022-06-21T11:37:15.456Z"
   },
   {
    "duration": 141,
    "start_time": "2022-06-21T11:37:15.627Z"
   },
   {
    "duration": 295,
    "start_time": "2022-06-21T11:37:15.769Z"
   },
   {
    "duration": 280,
    "start_time": "2022-06-21T11:37:16.066Z"
   },
   {
    "duration": 149,
    "start_time": "2022-06-21T11:37:16.348Z"
   },
   {
    "duration": 15,
    "start_time": "2022-06-21T11:37:16.499Z"
   },
   {
    "duration": 1338,
    "start_time": "2022-06-21T14:48:58.308Z"
   },
   {
    "duration": 208,
    "start_time": "2022-06-21T14:48:59.648Z"
   },
   {
    "duration": 15,
    "start_time": "2022-06-21T14:48:59.858Z"
   },
   {
    "duration": 19,
    "start_time": "2022-06-21T14:48:59.875Z"
   },
   {
    "duration": 5,
    "start_time": "2022-06-21T14:48:59.896Z"
   },
   {
    "duration": 29,
    "start_time": "2022-06-21T14:48:59.903Z"
   },
   {
    "duration": 5,
    "start_time": "2022-06-21T14:48:59.933Z"
   },
   {
    "duration": 4,
    "start_time": "2022-06-21T14:48:59.940Z"
   },
   {
    "duration": 19,
    "start_time": "2022-06-21T14:48:59.946Z"
   },
   {
    "duration": 7,
    "start_time": "2022-06-21T14:48:59.967Z"
   },
   {
    "duration": 12,
    "start_time": "2022-06-21T14:48:59.975Z"
   },
   {
    "duration": 9,
    "start_time": "2022-06-21T14:48:59.989Z"
   },
   {
    "duration": 224,
    "start_time": "2022-06-21T14:49:00.025Z"
   },
   {
    "duration": 7,
    "start_time": "2022-06-21T14:49:00.251Z"
   },
   {
    "duration": 339,
    "start_time": "2022-06-21T14:49:00.260Z"
   },
   {
    "duration": 246,
    "start_time": "2022-06-21T14:49:00.601Z"
   },
   {
    "duration": 15,
    "start_time": "2022-06-21T14:49:00.849Z"
   },
   {
    "duration": 176,
    "start_time": "2022-06-21T14:49:00.866Z"
   },
   {
    "duration": 158,
    "start_time": "2022-06-21T14:49:01.044Z"
   },
   {
    "duration": 21,
    "start_time": "2022-06-21T14:49:01.204Z"
   },
   {
    "duration": 131,
    "start_time": "2022-06-21T14:49:01.227Z"
   },
   {
    "duration": 122,
    "start_time": "2022-06-21T14:49:01.359Z"
   },
   {
    "duration": 246,
    "start_time": "2022-06-21T14:49:01.483Z"
   },
   {
    "duration": 12,
    "start_time": "2022-06-21T14:49:01.731Z"
   },
   {
    "duration": 303,
    "start_time": "2022-06-21T14:49:01.745Z"
   },
   {
    "duration": 186,
    "start_time": "2022-06-21T14:49:02.050Z"
   },
   {
    "duration": 148,
    "start_time": "2022-06-21T14:49:02.237Z"
   },
   {
    "duration": 306,
    "start_time": "2022-06-21T14:49:02.388Z"
   },
   {
    "duration": 196,
    "start_time": "2022-06-21T14:49:02.695Z"
   },
   {
    "duration": 146,
    "start_time": "2022-06-21T14:49:02.893Z"
   },
   {
    "duration": 308,
    "start_time": "2022-06-21T14:49:03.042Z"
   },
   {
    "duration": 279,
    "start_time": "2022-06-21T14:49:03.353Z"
   },
   {
    "duration": 145,
    "start_time": "2022-06-21T14:49:03.634Z"
   },
   {
    "duration": 15,
    "start_time": "2022-06-21T14:49:03.781Z"
   },
   {
    "duration": 14,
    "start_time": "2022-06-21T14:53:14.844Z"
   },
   {
    "duration": 1314,
    "start_time": "2022-06-21T14:56:12.311Z"
   },
   {
    "duration": 58,
    "start_time": "2022-06-21T14:56:13.627Z"
   },
   {
    "duration": 17,
    "start_time": "2022-06-21T14:56:13.687Z"
   },
   {
    "duration": 41,
    "start_time": "2022-06-21T14:56:13.706Z"
   },
   {
    "duration": 7,
    "start_time": "2022-06-21T14:56:13.751Z"
   },
   {
    "duration": 29,
    "start_time": "2022-06-21T14:56:13.760Z"
   },
   {
    "duration": 7,
    "start_time": "2022-06-21T14:56:13.791Z"
   },
   {
    "duration": 11,
    "start_time": "2022-06-21T14:56:13.800Z"
   },
   {
    "duration": 39,
    "start_time": "2022-06-21T14:56:13.825Z"
   },
   {
    "duration": 8,
    "start_time": "2022-06-21T14:56:13.866Z"
   },
   {
    "duration": 21,
    "start_time": "2022-06-21T14:56:13.876Z"
   },
   {
    "duration": 31,
    "start_time": "2022-06-21T14:56:13.899Z"
   },
   {
    "duration": 253,
    "start_time": "2022-06-21T14:56:13.932Z"
   },
   {
    "duration": 7,
    "start_time": "2022-06-21T14:56:14.188Z"
   },
   {
    "duration": 379,
    "start_time": "2022-06-21T14:56:14.197Z"
   },
   {
    "duration": 279,
    "start_time": "2022-06-21T14:56:14.578Z"
   },
   {
    "duration": 17,
    "start_time": "2022-06-21T14:56:14.859Z"
   },
   {
    "duration": 197,
    "start_time": "2022-06-21T14:56:14.878Z"
   },
   {
    "duration": 172,
    "start_time": "2022-06-21T14:56:15.077Z"
   },
   {
    "duration": 16,
    "start_time": "2022-06-21T14:56:15.251Z"
   },
   {
    "duration": 160,
    "start_time": "2022-06-21T14:56:15.268Z"
   },
   {
    "duration": 158,
    "start_time": "2022-06-21T14:56:15.431Z"
   },
   {
    "duration": 321,
    "start_time": "2022-06-21T14:56:15.591Z"
   },
   {
    "duration": 22,
    "start_time": "2022-06-21T14:56:15.914Z"
   },
   {
    "duration": 358,
    "start_time": "2022-06-21T14:56:15.938Z"
   },
   {
    "duration": 228,
    "start_time": "2022-06-21T14:56:16.299Z"
   },
   {
    "duration": 218,
    "start_time": "2022-06-21T14:56:16.529Z"
   },
   {
    "duration": 379,
    "start_time": "2022-06-21T14:56:16.749Z"
   },
   {
    "duration": 189,
    "start_time": "2022-06-21T14:56:17.130Z"
   },
   {
    "duration": 155,
    "start_time": "2022-06-21T14:56:17.321Z"
   },
   {
    "duration": 327,
    "start_time": "2022-06-21T14:56:17.477Z"
   },
   {
    "duration": 297,
    "start_time": "2022-06-21T14:56:17.806Z"
   },
   {
    "duration": 167,
    "start_time": "2022-06-21T14:56:18.105Z"
   },
   {
    "duration": 17,
    "start_time": "2022-06-21T14:56:18.274Z"
   },
   {
    "duration": 39,
    "start_time": "2022-06-21T14:56:18.293Z"
   },
   {
    "duration": 5,
    "start_time": "2022-06-21T14:59:26.950Z"
   },
   {
    "duration": 4,
    "start_time": "2022-06-21T14:59:49.431Z"
   },
   {
    "duration": 4,
    "start_time": "2022-06-21T14:59:55.590Z"
   },
   {
    "duration": 4,
    "start_time": "2022-06-21T15:00:43.798Z"
   },
   {
    "duration": 6,
    "start_time": "2022-06-21T15:01:07.286Z"
   },
   {
    "duration": 6,
    "start_time": "2022-06-21T15:01:34.622Z"
   },
   {
    "duration": 1067,
    "start_time": "2022-06-21T15:02:56.679Z"
   },
   {
    "duration": 53,
    "start_time": "2022-06-21T15:02:57.748Z"
   },
   {
    "duration": 14,
    "start_time": "2022-06-21T15:02:57.803Z"
   },
   {
    "duration": 25,
    "start_time": "2022-06-21T15:02:57.819Z"
   },
   {
    "duration": 26,
    "start_time": "2022-06-21T15:02:57.845Z"
   },
   {
    "duration": 29,
    "start_time": "2022-06-21T15:02:57.873Z"
   },
   {
    "duration": 6,
    "start_time": "2022-06-21T15:02:57.904Z"
   },
   {
    "duration": 27,
    "start_time": "2022-06-21T15:02:57.912Z"
   },
   {
    "duration": 37,
    "start_time": "2022-06-21T15:02:57.941Z"
   },
   {
    "duration": 8,
    "start_time": "2022-06-21T15:02:57.980Z"
   },
   {
    "duration": 22,
    "start_time": "2022-06-21T15:02:57.990Z"
   },
   {
    "duration": 39,
    "start_time": "2022-06-21T15:02:58.014Z"
   },
   {
    "duration": 223,
    "start_time": "2022-06-21T15:02:58.055Z"
   },
   {
    "duration": 6,
    "start_time": "2022-06-21T15:02:58.280Z"
   },
   {
    "duration": 354,
    "start_time": "2022-06-21T15:02:58.288Z"
   },
   {
    "duration": 262,
    "start_time": "2022-06-21T15:02:58.643Z"
   },
   {
    "duration": 20,
    "start_time": "2022-06-21T15:02:58.907Z"
   },
   {
    "duration": 158,
    "start_time": "2022-06-21T15:02:58.929Z"
   },
   {
    "duration": 143,
    "start_time": "2022-06-21T15:02:59.089Z"
   },
   {
    "duration": 14,
    "start_time": "2022-06-21T15:02:59.234Z"
   },
   {
    "duration": 142,
    "start_time": "2022-06-21T15:02:59.250Z"
   },
   {
    "duration": 137,
    "start_time": "2022-06-21T15:02:59.394Z"
   },
   {
    "duration": 277,
    "start_time": "2022-06-21T15:02:59.533Z"
   },
   {
    "duration": 24,
    "start_time": "2022-06-21T15:02:59.812Z"
   },
   {
    "duration": 345,
    "start_time": "2022-06-21T15:02:59.838Z"
   },
   {
    "duration": 199,
    "start_time": "2022-06-21T15:03:00.185Z"
   },
   {
    "duration": 182,
    "start_time": "2022-06-21T15:03:00.386Z"
   },
   {
    "duration": 373,
    "start_time": "2022-06-21T15:03:00.572Z"
   },
   {
    "duration": 201,
    "start_time": "2022-06-21T15:03:00.946Z"
   },
   {
    "duration": 155,
    "start_time": "2022-06-21T15:03:01.149Z"
   },
   {
    "duration": 506,
    "start_time": "2022-06-21T15:03:01.306Z"
   },
   {
    "duration": 286,
    "start_time": "2022-06-21T15:03:01.814Z"
   },
   {
    "duration": 153,
    "start_time": "2022-06-21T15:03:02.101Z"
   },
   {
    "duration": 15,
    "start_time": "2022-06-21T15:03:02.256Z"
   },
   {
    "duration": 13,
    "start_time": "2022-06-21T15:03:02.273Z"
   },
   {
    "duration": 19,
    "start_time": "2022-06-21T15:03:02.288Z"
   },
   {
    "duration": 16,
    "start_time": "2022-06-21T15:03:02.309Z"
   },
   {
    "duration": 1166,
    "start_time": "2022-06-21T15:19:48.315Z"
   },
   {
    "duration": 56,
    "start_time": "2022-06-21T15:19:49.483Z"
   },
   {
    "duration": 15,
    "start_time": "2022-06-21T15:19:49.541Z"
   },
   {
    "duration": 22,
    "start_time": "2022-06-21T15:19:49.558Z"
   },
   {
    "duration": 5,
    "start_time": "2022-06-21T15:19:49.581Z"
   },
   {
    "duration": 40,
    "start_time": "2022-06-21T15:19:49.587Z"
   },
   {
    "duration": 6,
    "start_time": "2022-06-21T15:19:49.629Z"
   },
   {
    "duration": 11,
    "start_time": "2022-06-21T15:19:49.637Z"
   },
   {
    "duration": 18,
    "start_time": "2022-06-21T15:19:49.650Z"
   },
   {
    "duration": 8,
    "start_time": "2022-06-21T15:19:49.671Z"
   },
   {
    "duration": 14,
    "start_time": "2022-06-21T15:19:49.680Z"
   },
   {
    "duration": 10,
    "start_time": "2022-06-21T15:19:49.725Z"
   },
   {
    "duration": 223,
    "start_time": "2022-06-21T15:19:49.737Z"
   },
   {
    "duration": 6,
    "start_time": "2022-06-21T15:19:49.962Z"
   },
   {
    "duration": 349,
    "start_time": "2022-06-21T15:19:49.970Z"
   },
   {
    "duration": 253,
    "start_time": "2022-06-21T15:19:50.320Z"
   },
   {
    "duration": 17,
    "start_time": "2022-06-21T15:19:50.575Z"
   },
   {
    "duration": 175,
    "start_time": "2022-06-21T15:19:50.593Z"
   },
   {
    "duration": 150,
    "start_time": "2022-06-21T15:19:50.770Z"
   },
   {
    "duration": 15,
    "start_time": "2022-06-21T15:19:50.926Z"
   },
   {
    "duration": 146,
    "start_time": "2022-06-21T15:19:50.943Z"
   },
   {
    "duration": 138,
    "start_time": "2022-06-21T15:19:51.091Z"
   },
   {
    "duration": 273,
    "start_time": "2022-06-21T15:19:51.231Z"
   },
   {
    "duration": 21,
    "start_time": "2022-06-21T15:19:51.506Z"
   },
   {
    "duration": 312,
    "start_time": "2022-06-21T15:19:51.529Z"
   },
   {
    "duration": 192,
    "start_time": "2022-06-21T15:19:51.843Z"
   },
   {
    "duration": 153,
    "start_time": "2022-06-21T15:19:52.037Z"
   },
   {
    "duration": 335,
    "start_time": "2022-06-21T15:19:52.193Z"
   },
   {
    "duration": 196,
    "start_time": "2022-06-21T15:19:52.530Z"
   },
   {
    "duration": 153,
    "start_time": "2022-06-21T15:19:52.728Z"
   },
   {
    "duration": 320,
    "start_time": "2022-06-21T15:19:52.883Z"
   },
   {
    "duration": 286,
    "start_time": "2022-06-21T15:19:53.205Z"
   },
   {
    "duration": 140,
    "start_time": "2022-06-21T15:19:53.493Z"
   },
   {
    "duration": 15,
    "start_time": "2022-06-21T15:19:53.634Z"
   },
   {
    "duration": 7,
    "start_time": "2022-06-21T15:19:53.651Z"
   },
   {
    "duration": 16,
    "start_time": "2022-06-21T15:19:53.659Z"
   },
   {
    "duration": 4,
    "start_time": "2022-06-21T15:19:53.677Z"
   },
   {
    "duration": 1137,
    "start_time": "2022-06-21T15:40:59.941Z"
   },
   {
    "duration": 52,
    "start_time": "2022-06-21T15:41:01.080Z"
   },
   {
    "duration": 120,
    "start_time": "2022-06-21T15:41:01.135Z"
   },
   {
    "duration": 51,
    "start_time": "2022-06-21T15:41:01.257Z"
   },
   {
    "duration": 8,
    "start_time": "2022-06-21T15:41:01.310Z"
   },
   {
    "duration": 46,
    "start_time": "2022-06-21T15:41:01.319Z"
   },
   {
    "duration": 51,
    "start_time": "2022-06-21T15:41:01.366Z"
   },
   {
    "duration": 7,
    "start_time": "2022-06-21T15:41:01.419Z"
   },
   {
    "duration": 23,
    "start_time": "2022-06-21T15:41:01.427Z"
   },
   {
    "duration": 38,
    "start_time": "2022-06-21T15:41:01.452Z"
   },
   {
    "duration": 27,
    "start_time": "2022-06-21T15:41:01.491Z"
   },
   {
    "duration": 17,
    "start_time": "2022-06-21T15:41:01.520Z"
   },
   {
    "duration": 230,
    "start_time": "2022-06-21T15:41:01.539Z"
   },
   {
    "duration": 7,
    "start_time": "2022-06-21T15:41:01.771Z"
   },
   {
    "duration": 338,
    "start_time": "2022-06-21T15:41:01.780Z"
   },
   {
    "duration": 260,
    "start_time": "2022-06-21T15:41:02.119Z"
   },
   {
    "duration": 17,
    "start_time": "2022-06-21T15:41:02.381Z"
   },
   {
    "duration": 182,
    "start_time": "2022-06-21T15:41:02.400Z"
   },
   {
    "duration": 173,
    "start_time": "2022-06-21T15:41:02.584Z"
   },
   {
    "duration": 16,
    "start_time": "2022-06-21T15:41:02.760Z"
   },
   {
    "duration": 152,
    "start_time": "2022-06-21T15:41:02.777Z"
   },
   {
    "duration": 136,
    "start_time": "2022-06-21T15:41:02.931Z"
   },
   {
    "duration": 281,
    "start_time": "2022-06-21T15:41:03.069Z"
   },
   {
    "duration": 16,
    "start_time": "2022-06-21T15:41:03.352Z"
   },
   {
    "duration": 321,
    "start_time": "2022-06-21T15:41:03.369Z"
   },
   {
    "duration": 194,
    "start_time": "2022-06-21T15:41:03.692Z"
   },
   {
    "duration": 184,
    "start_time": "2022-06-21T15:41:03.888Z"
   },
   {
    "duration": 311,
    "start_time": "2022-06-21T15:41:04.075Z"
   },
   {
    "duration": 181,
    "start_time": "2022-06-21T15:41:04.388Z"
   },
   {
    "duration": 161,
    "start_time": "2022-06-21T15:41:04.572Z"
   },
   {
    "duration": 317,
    "start_time": "2022-06-21T15:41:04.735Z"
   },
   {
    "duration": 275,
    "start_time": "2022-06-21T15:41:05.055Z"
   },
   {
    "duration": 134,
    "start_time": "2022-06-21T15:41:05.332Z"
   },
   {
    "duration": 14,
    "start_time": "2022-06-21T15:41:05.468Z"
   },
   {
    "duration": 12,
    "start_time": "2022-06-21T15:41:05.484Z"
   },
   {
    "duration": 19,
    "start_time": "2022-06-21T15:41:05.497Z"
   },
   {
    "duration": 10,
    "start_time": "2022-06-21T15:41:05.518Z"
   },
   {
    "duration": 1118,
    "start_time": "2022-06-22T11:22:25.282Z"
   },
   {
    "duration": 51,
    "start_time": "2022-06-22T11:22:26.661Z"
   },
   {
    "duration": 5,
    "start_time": "2022-06-22T11:22:33.554Z"
   },
   {
    "duration": 22,
    "start_time": "2022-06-22T11:23:09.936Z"
   },
   {
    "duration": 22,
    "start_time": "2022-06-22T11:23:34.210Z"
   },
   {
    "duration": 8,
    "start_time": "2022-06-22T11:25:04.298Z"
   },
   {
    "duration": 5,
    "start_time": "2022-06-22T11:25:06.492Z"
   },
   {
    "duration": 18,
    "start_time": "2022-06-22T11:25:22.967Z"
   },
   {
    "duration": 9,
    "start_time": "2022-06-22T11:25:27.705Z"
   },
   {
    "duration": 14,
    "start_time": "2022-06-22T11:25:29.910Z"
   },
   {
    "duration": 13,
    "start_time": "2022-06-22T11:25:46.068Z"
   },
   {
    "duration": 8,
    "start_time": "2022-06-22T11:27:37.299Z"
   },
   {
    "duration": 302,
    "start_time": "2022-06-22T11:32:05.614Z"
   },
   {
    "duration": 153,
    "start_time": "2022-06-22T11:32:09.951Z"
   },
   {
    "duration": 348,
    "start_time": "2022-06-22T11:32:12.823Z"
   },
   {
    "duration": 295,
    "start_time": "2022-06-22T11:32:28.989Z"
   },
   {
    "duration": 333,
    "start_time": "2022-06-22T11:32:32.617Z"
   },
   {
    "duration": 349,
    "start_time": "2022-06-22T11:33:36.762Z"
   },
   {
    "duration": 281,
    "start_time": "2022-06-22T11:33:40.501Z"
   },
   {
    "duration": 322,
    "start_time": "2022-06-22T11:36:10.448Z"
   },
   {
    "duration": 298,
    "start_time": "2022-06-22T11:36:17.060Z"
   },
   {
    "duration": 71,
    "start_time": "2022-06-22T21:01:58.114Z"
   },
   {
    "duration": 1274,
    "start_time": "2022-06-22T21:02:09.775Z"
   },
   {
    "duration": 83,
    "start_time": "2022-06-22T21:02:11.052Z"
   },
   {
    "duration": 14,
    "start_time": "2022-06-22T21:02:11.137Z"
   },
   {
    "duration": 18,
    "start_time": "2022-06-22T21:02:11.153Z"
   },
   {
    "duration": 5,
    "start_time": "2022-06-22T21:02:11.174Z"
   },
   {
    "duration": 17,
    "start_time": "2022-06-22T21:02:11.180Z"
   },
   {
    "duration": 7,
    "start_time": "2022-06-22T21:02:11.198Z"
   },
   {
    "duration": 5,
    "start_time": "2022-06-22T21:02:11.206Z"
   },
   {
    "duration": 18,
    "start_time": "2022-06-22T21:02:11.212Z"
   },
   {
    "duration": 39,
    "start_time": "2022-06-22T21:02:11.232Z"
   },
   {
    "duration": 16,
    "start_time": "2022-06-22T21:02:11.272Z"
   },
   {
    "duration": 12,
    "start_time": "2022-06-22T21:02:11.290Z"
   },
   {
    "duration": 229,
    "start_time": "2022-06-22T21:02:11.304Z"
   },
   {
    "duration": 6,
    "start_time": "2022-06-22T21:02:11.536Z"
   },
   {
    "duration": 337,
    "start_time": "2022-06-22T21:02:11.544Z"
   },
   {
    "duration": 237,
    "start_time": "2022-06-22T21:02:11.882Z"
   },
   {
    "duration": 16,
    "start_time": "2022-06-22T21:02:12.121Z"
   },
   {
    "duration": 157,
    "start_time": "2022-06-22T21:02:12.139Z"
   },
   {
    "duration": 138,
    "start_time": "2022-06-22T21:02:12.298Z"
   },
   {
    "duration": 17,
    "start_time": "2022-06-22T21:02:12.438Z"
   },
   {
    "duration": 149,
    "start_time": "2022-06-22T21:02:12.457Z"
   },
   {
    "duration": 132,
    "start_time": "2022-06-22T21:02:12.608Z"
   },
   {
    "duration": 260,
    "start_time": "2022-06-22T21:02:12.742Z"
   },
   {
    "duration": 14,
    "start_time": "2022-06-22T21:02:13.004Z"
   },
   {
    "duration": 315,
    "start_time": "2022-06-22T21:02:13.019Z"
   },
   {
    "duration": 181,
    "start_time": "2022-06-22T21:02:13.335Z"
   },
   {
    "duration": 161,
    "start_time": "2022-06-22T21:02:13.518Z"
   },
   {
    "duration": 291,
    "start_time": "2022-06-22T21:02:13.681Z"
   },
   {
    "duration": 170,
    "start_time": "2022-06-22T21:02:13.974Z"
   },
   {
    "duration": 148,
    "start_time": "2022-06-22T21:02:14.146Z"
   },
   {
    "duration": 288,
    "start_time": "2022-06-22T21:02:14.295Z"
   },
   {
    "duration": 284,
    "start_time": "2022-06-22T21:02:14.585Z"
   },
   {
    "duration": 138,
    "start_time": "2022-06-22T21:02:14.871Z"
   },
   {
    "duration": 14,
    "start_time": "2022-06-22T21:02:15.011Z"
   },
   {
    "duration": 20,
    "start_time": "2022-06-22T21:02:15.027Z"
   },
   {
    "duration": 23,
    "start_time": "2022-06-22T21:02:15.048Z"
   },
   {
    "duration": 6,
    "start_time": "2022-06-22T21:02:15.073Z"
   },
   {
    "duration": 49,
    "start_time": "2022-06-22T21:03:55.691Z"
   },
   {
    "duration": 7,
    "start_time": "2022-06-22T21:04:15.802Z"
   },
   {
    "duration": 324,
    "start_time": "2022-06-22T21:04:27.179Z"
   },
   {
    "duration": 243,
    "start_time": "2022-06-22T21:04:36.998Z"
   },
   {
    "duration": 16,
    "start_time": "2022-06-22T21:04:43.797Z"
   },
   {
    "duration": 134,
    "start_time": "2022-06-22T21:04:51.216Z"
   },
   {
    "duration": 136,
    "start_time": "2022-06-22T21:04:57.339Z"
   },
   {
    "duration": 14,
    "start_time": "2022-06-22T21:05:03.713Z"
   },
   {
    "duration": 113,
    "start_time": "2022-06-22T21:05:10.332Z"
   },
   {
    "duration": 121,
    "start_time": "2022-06-22T21:05:17.952Z"
   },
   {
    "duration": 164,
    "start_time": "2022-06-22T21:05:24.260Z"
   },
   {
    "duration": 14,
    "start_time": "2022-06-22T21:05:31.059Z"
   },
   {
    "duration": 285,
    "start_time": "2022-06-22T21:05:37.534Z"
   },
   {
    "duration": 277,
    "start_time": "2022-06-22T21:05:44.140Z"
   },
   {
    "duration": 125,
    "start_time": "2022-06-22T21:05:50.388Z"
   },
   {
    "duration": 299,
    "start_time": "2022-06-22T21:05:57.090Z"
   },
   {
    "duration": 199,
    "start_time": "2022-06-22T21:06:02.842Z"
   },
   {
    "duration": 139,
    "start_time": "2022-06-22T21:06:09.038Z"
   },
   {
    "duration": 296,
    "start_time": "2022-06-22T21:06:15.658Z"
   },
   {
    "duration": 176,
    "start_time": "2022-06-22T21:06:21.122Z"
   },
   {
    "duration": 130,
    "start_time": "2022-06-22T21:06:27.590Z"
   },
   {
    "duration": 14,
    "start_time": "2022-06-22T21:06:59.427Z"
   },
   {
    "duration": 4,
    "start_time": "2022-06-22T21:07:13.234Z"
   },
   {
    "duration": 15,
    "start_time": "2022-06-22T21:07:28.371Z"
   },
   {
    "duration": 1106,
    "start_time": "2022-06-22T21:07:43.779Z"
   },
   {
    "duration": 49,
    "start_time": "2022-06-22T21:07:44.887Z"
   },
   {
    "duration": 14,
    "start_time": "2022-06-22T21:07:44.938Z"
   },
   {
    "duration": 24,
    "start_time": "2022-06-22T21:07:44.953Z"
   },
   {
    "duration": 4,
    "start_time": "2022-06-22T21:07:44.979Z"
   },
   {
    "duration": 20,
    "start_time": "2022-06-22T21:07:44.985Z"
   },
   {
    "duration": 5,
    "start_time": "2022-06-22T21:07:45.007Z"
   },
   {
    "duration": 15,
    "start_time": "2022-06-22T21:07:45.013Z"
   },
   {
    "duration": 20,
    "start_time": "2022-06-22T21:07:45.029Z"
   },
   {
    "duration": 7,
    "start_time": "2022-06-22T21:07:45.050Z"
   },
   {
    "duration": 14,
    "start_time": "2022-06-22T21:07:45.067Z"
   },
   {
    "duration": 14,
    "start_time": "2022-06-22T21:07:45.083Z"
   },
   {
    "duration": 199,
    "start_time": "2022-06-22T21:07:45.098Z"
   },
   {
    "duration": 7,
    "start_time": "2022-06-22T21:07:45.300Z"
   },
   {
    "duration": 312,
    "start_time": "2022-06-22T21:07:45.308Z"
   },
   {
    "duration": 251,
    "start_time": "2022-06-22T21:07:45.622Z"
   },
   {
    "duration": 14,
    "start_time": "2022-06-22T21:07:45.875Z"
   },
   {
    "duration": 152,
    "start_time": "2022-06-22T21:07:45.890Z"
   },
   {
    "duration": 149,
    "start_time": "2022-06-22T21:07:46.044Z"
   },
   {
    "duration": 14,
    "start_time": "2022-06-22T21:07:46.194Z"
   },
   {
    "duration": 121,
    "start_time": "2022-06-22T21:07:46.210Z"
   },
   {
    "duration": 120,
    "start_time": "2022-06-22T21:07:46.333Z"
   },
   {
    "duration": 264,
    "start_time": "2022-06-22T21:07:46.455Z"
   },
   {
    "duration": 14,
    "start_time": "2022-06-22T21:07:46.720Z"
   },
   {
    "duration": 306,
    "start_time": "2022-06-22T21:07:46.736Z"
   },
   {
    "duration": 168,
    "start_time": "2022-06-22T21:07:47.043Z"
   },
   {
    "duration": 139,
    "start_time": "2022-06-22T21:07:47.213Z"
   },
   {
    "duration": 294,
    "start_time": "2022-06-22T21:07:47.353Z"
   },
   {
    "duration": 191,
    "start_time": "2022-06-22T21:07:47.649Z"
   },
   {
    "duration": 133,
    "start_time": "2022-06-22T21:07:47.841Z"
   },
   {
    "duration": 287,
    "start_time": "2022-06-22T21:07:47.976Z"
   },
   {
    "duration": 280,
    "start_time": "2022-06-22T21:07:48.268Z"
   },
   {
    "duration": 140,
    "start_time": "2022-06-22T21:07:48.549Z"
   },
   {
    "duration": 14,
    "start_time": "2022-06-22T21:07:48.690Z"
   },
   {
    "duration": 7,
    "start_time": "2022-06-22T21:07:48.705Z"
   },
   {
    "duration": 13,
    "start_time": "2022-06-22T21:07:48.713Z"
   },
   {
    "duration": 12,
    "start_time": "2022-06-22T21:07:48.728Z"
   },
   {
    "duration": 114,
    "start_time": "2022-06-22T21:13:07.621Z"
   },
   {
    "duration": 15,
    "start_time": "2022-06-22T21:13:45.315Z"
   },
   {
    "duration": 89,
    "start_time": "2022-06-22T21:14:17.062Z"
   },
   {
    "duration": 231,
    "start_time": "2022-06-22T21:15:34.200Z"
   },
   {
    "duration": 269,
    "start_time": "2022-06-22T21:16:17.782Z"
   },
   {
    "duration": 242,
    "start_time": "2022-06-22T21:17:35.862Z"
   },
   {
    "duration": 125,
    "start_time": "2022-06-22T21:17:59.966Z"
   },
   {
    "duration": 112,
    "start_time": "2022-06-22T21:20:33.755Z"
   },
   {
    "duration": 224,
    "start_time": "2022-06-22T21:20:47.009Z"
   },
   {
    "duration": 365,
    "start_time": "2022-06-22T21:21:49.615Z"
   },
   {
    "duration": 114,
    "start_time": "2022-06-22T21:22:38.478Z"
   },
   {
    "duration": 232,
    "start_time": "2022-06-22T21:24:20.373Z"
   },
   {
    "duration": 233,
    "start_time": "2022-06-22T21:24:41.810Z"
   },
   {
    "duration": 222,
    "start_time": "2022-06-22T21:25:00.239Z"
   },
   {
    "duration": 236,
    "start_time": "2022-06-22T21:25:35.375Z"
   },
   {
    "duration": 240,
    "start_time": "2022-06-22T21:25:41.450Z"
   },
   {
    "duration": 361,
    "start_time": "2022-06-22T21:29:30.429Z"
   },
   {
    "duration": 229,
    "start_time": "2022-06-22T21:29:42.624Z"
   },
   {
    "duration": 292,
    "start_time": "2022-06-22T21:30:08.836Z"
   },
   {
    "duration": 234,
    "start_time": "2022-06-22T21:30:16.459Z"
   },
   {
    "duration": 236,
    "start_time": "2022-06-22T21:30:28.459Z"
   },
   {
    "duration": 227,
    "start_time": "2022-06-22T21:30:35.605Z"
   },
   {
    "duration": 266,
    "start_time": "2022-06-22T21:30:40.723Z"
   },
   {
    "duration": 283,
    "start_time": "2022-06-22T21:30:47.250Z"
   },
   {
    "duration": 406,
    "start_time": "2022-06-22T21:30:53.471Z"
   },
   {
    "duration": 261,
    "start_time": "2022-06-22T21:31:06.913Z"
   },
   {
    "duration": 234,
    "start_time": "2022-06-22T21:31:34.053Z"
   },
   {
    "duration": 276,
    "start_time": "2022-06-22T21:31:41.268Z"
   },
   {
    "duration": 1135,
    "start_time": "2022-06-22T21:34:05.048Z"
   },
   {
    "duration": 51,
    "start_time": "2022-06-22T21:34:06.185Z"
   },
   {
    "duration": 13,
    "start_time": "2022-06-22T21:34:06.237Z"
   },
   {
    "duration": 18,
    "start_time": "2022-06-22T21:34:06.252Z"
   },
   {
    "duration": 5,
    "start_time": "2022-06-22T21:34:06.272Z"
   },
   {
    "duration": 18,
    "start_time": "2022-06-22T21:34:06.278Z"
   },
   {
    "duration": 5,
    "start_time": "2022-06-22T21:34:06.298Z"
   },
   {
    "duration": 14,
    "start_time": "2022-06-22T21:34:06.305Z"
   },
   {
    "duration": 16,
    "start_time": "2022-06-22T21:34:06.321Z"
   },
   {
    "duration": 7,
    "start_time": "2022-06-22T21:34:06.338Z"
   },
   {
    "duration": 30,
    "start_time": "2022-06-22T21:34:06.346Z"
   },
   {
    "duration": 10,
    "start_time": "2022-06-22T21:34:06.377Z"
   },
   {
    "duration": 203,
    "start_time": "2022-06-22T21:34:06.388Z"
   },
   {
    "duration": 7,
    "start_time": "2022-06-22T21:34:06.594Z"
   },
   {
    "duration": 313,
    "start_time": "2022-06-22T21:34:06.602Z"
   },
   {
    "duration": 238,
    "start_time": "2022-06-22T21:34:06.916Z"
   },
   {
    "duration": 252,
    "start_time": "2022-06-22T21:34:07.156Z"
   },
   {
    "duration": 15,
    "start_time": "2022-06-22T21:34:07.410Z"
   },
   {
    "duration": 176,
    "start_time": "2022-06-22T21:34:07.427Z"
   },
   {
    "duration": 153,
    "start_time": "2022-06-22T21:34:07.605Z"
   },
   {
    "duration": 13,
    "start_time": "2022-06-22T21:34:07.767Z"
   },
   {
    "duration": 194,
    "start_time": "2022-06-22T21:34:07.781Z"
   },
   {
    "duration": 129,
    "start_time": "2022-06-22T21:34:07.976Z"
   },
   {
    "duration": 194,
    "start_time": "2022-06-22T21:34:08.106Z"
   },
   {
    "duration": 15,
    "start_time": "2022-06-22T21:34:08.302Z"
   },
   {
    "duration": 322,
    "start_time": "2022-06-22T21:34:08.319Z"
   },
   {
    "duration": 167,
    "start_time": "2022-06-22T21:34:08.642Z"
   },
   {
    "duration": 180,
    "start_time": "2022-06-22T21:34:08.811Z"
   },
   {
    "duration": 301,
    "start_time": "2022-06-22T21:34:08.993Z"
   },
   {
    "duration": 186,
    "start_time": "2022-06-22T21:34:09.296Z"
   },
   {
    "duration": 152,
    "start_time": "2022-06-22T21:34:09.483Z"
   },
   {
    "duration": 367,
    "start_time": "2022-06-22T21:34:09.636Z"
   },
   {
    "duration": 191,
    "start_time": "2022-06-22T21:34:10.004Z"
   },
   {
    "duration": 153,
    "start_time": "2022-06-22T21:34:10.197Z"
   },
   {
    "duration": 22,
    "start_time": "2022-06-22T21:34:10.351Z"
   },
   {
    "duration": 32,
    "start_time": "2022-06-22T21:34:10.374Z"
   },
   {
    "duration": 32,
    "start_time": "2022-06-22T21:34:10.407Z"
   },
   {
    "duration": 14,
    "start_time": "2022-06-22T21:34:10.440Z"
   },
   {
    "duration": 116,
    "start_time": "2022-06-22T21:35:44.037Z"
   },
   {
    "duration": 25,
    "start_time": "2022-06-22T21:36:05.351Z"
   },
   {
    "duration": 154,
    "start_time": "2022-06-22T21:37:02.891Z"
   },
   {
    "duration": 127,
    "start_time": "2022-06-22T21:37:05.960Z"
   },
   {
    "duration": 49,
    "start_time": "2022-06-22T21:38:48.152Z"
   },
   {
    "duration": 1200,
    "start_time": "2022-06-22T21:39:01.942Z"
   },
   {
    "duration": 53,
    "start_time": "2022-06-22T21:39:03.144Z"
   },
   {
    "duration": 16,
    "start_time": "2022-06-22T21:39:03.198Z"
   },
   {
    "duration": 19,
    "start_time": "2022-06-22T21:39:03.216Z"
   },
   {
    "duration": 30,
    "start_time": "2022-06-22T21:39:03.237Z"
   },
   {
    "duration": 18,
    "start_time": "2022-06-22T21:39:03.269Z"
   },
   {
    "duration": 6,
    "start_time": "2022-06-22T21:39:03.289Z"
   },
   {
    "duration": 10,
    "start_time": "2022-06-22T21:39:03.297Z"
   },
   {
    "duration": 21,
    "start_time": "2022-06-22T21:39:03.309Z"
   },
   {
    "duration": 10,
    "start_time": "2022-06-22T21:39:03.331Z"
   },
   {
    "duration": 37,
    "start_time": "2022-06-22T21:39:03.343Z"
   },
   {
    "duration": 14,
    "start_time": "2022-06-22T21:39:03.382Z"
   },
   {
    "duration": 230,
    "start_time": "2022-06-22T21:39:03.398Z"
   },
   {
    "duration": 6,
    "start_time": "2022-06-22T21:39:03.632Z"
   },
   {
    "duration": 330,
    "start_time": "2022-06-22T21:39:03.640Z"
   },
   {
    "duration": 256,
    "start_time": "2022-06-22T21:39:03.972Z"
   },
   {
    "duration": 270,
    "start_time": "2022-06-22T21:39:04.230Z"
   },
   {
    "duration": 16,
    "start_time": "2022-06-22T21:39:04.502Z"
   },
   {
    "duration": 177,
    "start_time": "2022-06-22T21:39:04.519Z"
   },
   {
    "duration": 161,
    "start_time": "2022-06-22T21:39:04.698Z"
   },
   {
    "duration": 24,
    "start_time": "2022-06-22T21:39:04.868Z"
   },
   {
    "duration": 316,
    "start_time": "2022-06-22T21:39:04.894Z"
   },
   {
    "duration": 173,
    "start_time": "2022-06-22T21:39:05.212Z"
   },
   {
    "duration": 208,
    "start_time": "2022-06-22T21:39:05.388Z"
   },
   {
    "duration": 20,
    "start_time": "2022-06-22T21:39:05.599Z"
   },
   {
    "duration": 343,
    "start_time": "2022-06-22T21:39:05.620Z"
   },
   {
    "duration": 186,
    "start_time": "2022-06-22T21:39:05.964Z"
   },
   {
    "duration": 151,
    "start_time": "2022-06-22T21:39:06.153Z"
   },
   {
    "duration": 324,
    "start_time": "2022-06-22T21:39:06.305Z"
   },
   {
    "duration": 201,
    "start_time": "2022-06-22T21:39:06.631Z"
   },
   {
    "duration": 157,
    "start_time": "2022-06-22T21:39:06.834Z"
   },
   {
    "duration": 409,
    "start_time": "2022-06-22T21:39:06.993Z"
   },
   {
    "duration": 297,
    "start_time": "2022-06-22T21:39:07.404Z"
   },
   {
    "duration": 173,
    "start_time": "2022-06-22T21:39:07.703Z"
   },
   {
    "duration": 14,
    "start_time": "2022-06-22T21:39:07.878Z"
   },
   {
    "duration": 13,
    "start_time": "2022-06-22T21:39:07.894Z"
   },
   {
    "duration": 16,
    "start_time": "2022-06-22T21:39:07.909Z"
   },
   {
    "duration": 7,
    "start_time": "2022-06-22T21:39:07.927Z"
   },
   {
    "duration": 229,
    "start_time": "2022-06-22T21:39:44.712Z"
   },
   {
    "duration": 1186,
    "start_time": "2022-06-22T21:42:06.474Z"
   },
   {
    "duration": 52,
    "start_time": "2022-06-22T21:42:07.662Z"
   },
   {
    "duration": 15,
    "start_time": "2022-06-22T21:42:07.715Z"
   },
   {
    "duration": 22,
    "start_time": "2022-06-22T21:42:07.732Z"
   },
   {
    "duration": 5,
    "start_time": "2022-06-22T21:42:07.756Z"
   },
   {
    "duration": 20,
    "start_time": "2022-06-22T21:42:07.762Z"
   },
   {
    "duration": 6,
    "start_time": "2022-06-22T21:42:07.784Z"
   },
   {
    "duration": 10,
    "start_time": "2022-06-22T21:42:07.792Z"
   },
   {
    "duration": 18,
    "start_time": "2022-06-22T21:42:07.804Z"
   },
   {
    "duration": 7,
    "start_time": "2022-06-22T21:42:07.824Z"
   },
   {
    "duration": 49,
    "start_time": "2022-06-22T21:42:07.833Z"
   },
   {
    "duration": 15,
    "start_time": "2022-06-22T21:42:07.885Z"
   },
   {
    "duration": 234,
    "start_time": "2022-06-22T21:42:07.901Z"
   },
   {
    "duration": 7,
    "start_time": "2022-06-22T21:42:08.136Z"
   },
   {
    "duration": 343,
    "start_time": "2022-06-22T21:42:08.144Z"
   },
   {
    "duration": 266,
    "start_time": "2022-06-22T21:42:08.490Z"
   },
   {
    "duration": 336,
    "start_time": "2022-06-22T21:42:08.758Z"
   },
   {
    "duration": 19,
    "start_time": "2022-06-22T21:42:09.096Z"
   },
   {
    "duration": 262,
    "start_time": "2022-06-22T21:42:09.117Z"
   },
   {
    "duration": 168,
    "start_time": "2022-06-22T21:42:09.380Z"
   },
   {
    "duration": 38,
    "start_time": "2022-06-22T21:42:09.550Z"
   },
   {
    "duration": 275,
    "start_time": "2022-06-22T21:42:09.590Z"
   },
   {
    "duration": 148,
    "start_time": "2022-06-22T21:42:09.868Z"
   },
   {
    "duration": 200,
    "start_time": "2022-06-22T21:42:10.017Z"
   },
   {
    "duration": 14,
    "start_time": "2022-06-22T21:42:10.218Z"
   },
   {
    "duration": 312,
    "start_time": "2022-06-22T21:42:10.234Z"
   },
   {
    "duration": 208,
    "start_time": "2022-06-22T21:42:10.548Z"
   },
   {
    "duration": 198,
    "start_time": "2022-06-22T21:42:10.759Z"
   },
   {
    "duration": 349,
    "start_time": "2022-06-22T21:42:10.959Z"
   },
   {
    "duration": 202,
    "start_time": "2022-06-22T21:42:11.309Z"
   },
   {
    "duration": 197,
    "start_time": "2022-06-22T21:42:11.514Z"
   },
   {
    "duration": 421,
    "start_time": "2022-06-22T21:42:11.713Z"
   },
   {
    "duration": 197,
    "start_time": "2022-06-22T21:42:12.136Z"
   },
   {
    "duration": 157,
    "start_time": "2022-06-22T21:42:12.335Z"
   },
   {
    "duration": 16,
    "start_time": "2022-06-22T21:42:12.494Z"
   },
   {
    "duration": 6,
    "start_time": "2022-06-22T21:42:12.512Z"
   },
   {
    "duration": 17,
    "start_time": "2022-06-22T21:42:12.519Z"
   },
   {
    "duration": 32,
    "start_time": "2022-06-22T21:42:12.538Z"
   },
   {
    "duration": 7,
    "start_time": "2022-06-22T21:44:07.685Z"
   },
   {
    "duration": 5,
    "start_time": "2022-06-22T21:44:18.302Z"
   },
   {
    "duration": 8,
    "start_time": "2022-06-22T21:44:28.858Z"
   },
   {
    "duration": 88,
    "start_time": "2022-06-22T21:44:42.349Z"
   },
   {
    "duration": 9,
    "start_time": "2022-06-22T21:44:48.943Z"
   },
   {
    "duration": 1151,
    "start_time": "2022-06-22T21:45:33.542Z"
   },
   {
    "duration": 69,
    "start_time": "2022-06-22T21:45:34.696Z"
   },
   {
    "duration": 15,
    "start_time": "2022-06-22T21:45:34.768Z"
   },
   {
    "duration": 22,
    "start_time": "2022-06-22T21:45:34.786Z"
   },
   {
    "duration": 7,
    "start_time": "2022-06-22T21:45:34.810Z"
   },
   {
    "duration": 25,
    "start_time": "2022-06-22T21:45:34.819Z"
   },
   {
    "duration": 9,
    "start_time": "2022-06-22T21:45:34.868Z"
   },
   {
    "duration": 13,
    "start_time": "2022-06-22T21:45:34.879Z"
   },
   {
    "duration": 6,
    "start_time": "2022-06-22T21:45:34.895Z"
   },
   {
    "duration": 24,
    "start_time": "2022-06-22T21:45:34.904Z"
   },
   {
    "duration": 9,
    "start_time": "2022-06-22T21:45:34.930Z"
   },
   {
    "duration": 40,
    "start_time": "2022-06-22T21:45:34.941Z"
   },
   {
    "duration": 12,
    "start_time": "2022-06-22T21:45:34.984Z"
   },
   {
    "duration": 252,
    "start_time": "2022-06-22T21:45:34.999Z"
   },
   {
    "duration": 14,
    "start_time": "2022-06-22T21:45:35.253Z"
   },
   {
    "duration": 377,
    "start_time": "2022-06-22T21:45:35.269Z"
   },
   {
    "duration": 268,
    "start_time": "2022-06-22T21:45:35.648Z"
   },
   {
    "duration": 285,
    "start_time": "2022-06-22T21:45:35.918Z"
   },
   {
    "duration": 18,
    "start_time": "2022-06-22T21:45:36.205Z"
   },
   {
    "duration": 175,
    "start_time": "2022-06-22T21:45:36.225Z"
   },
   {
    "duration": 155,
    "start_time": "2022-06-22T21:45:36.402Z"
   },
   {
    "duration": 20,
    "start_time": "2022-06-22T21:45:36.559Z"
   },
   {
    "duration": 235,
    "start_time": "2022-06-22T21:45:36.581Z"
   },
   {
    "duration": 153,
    "start_time": "2022-06-22T21:45:36.819Z"
   },
   {
    "duration": 213,
    "start_time": "2022-06-22T21:45:36.974Z"
   },
   {
    "duration": 15,
    "start_time": "2022-06-22T21:45:37.188Z"
   },
   {
    "duration": 356,
    "start_time": "2022-06-22T21:45:37.204Z"
   },
   {
    "duration": 206,
    "start_time": "2022-06-22T21:45:37.566Z"
   },
   {
    "duration": 161,
    "start_time": "2022-06-22T21:45:37.773Z"
   },
   {
    "duration": 351,
    "start_time": "2022-06-22T21:45:37.936Z"
   },
   {
    "duration": 234,
    "start_time": "2022-06-22T21:45:38.289Z"
   },
   {
    "duration": 146,
    "start_time": "2022-06-22T21:45:38.524Z"
   },
   {
    "duration": 464,
    "start_time": "2022-06-22T21:45:38.671Z"
   },
   {
    "duration": 225,
    "start_time": "2022-06-22T21:45:39.137Z"
   },
   {
    "duration": 182,
    "start_time": "2022-06-22T21:45:39.367Z"
   },
   {
    "duration": 22,
    "start_time": "2022-06-22T21:45:39.550Z"
   },
   {
    "duration": 6,
    "start_time": "2022-06-22T21:45:39.575Z"
   },
   {
    "duration": 28,
    "start_time": "2022-06-22T21:45:39.583Z"
   },
   {
    "duration": 5,
    "start_time": "2022-06-22T21:45:39.614Z"
   },
   {
    "duration": 5,
    "start_time": "2022-06-22T21:45:59.290Z"
   },
   {
    "duration": 1102,
    "start_time": "2022-06-22T21:46:03.688Z"
   },
   {
    "duration": 54,
    "start_time": "2022-06-22T21:46:04.792Z"
   },
   {
    "duration": 16,
    "start_time": "2022-06-22T21:46:04.848Z"
   },
   {
    "duration": 23,
    "start_time": "2022-06-22T21:46:04.866Z"
   },
   {
    "duration": 5,
    "start_time": "2022-06-22T21:46:04.891Z"
   },
   {
    "duration": 23,
    "start_time": "2022-06-22T21:46:04.897Z"
   },
   {
    "duration": 6,
    "start_time": "2022-06-22T21:46:04.921Z"
   },
   {
    "duration": 816,
    "start_time": "2022-06-22T21:46:04.929Z"
   },
   {
    "duration": 0,
    "start_time": "2022-06-22T21:46:05.749Z"
   },
   {
    "duration": 0,
    "start_time": "2022-06-22T21:46:05.749Z"
   },
   {
    "duration": 0,
    "start_time": "2022-06-22T21:46:05.751Z"
   },
   {
    "duration": 0,
    "start_time": "2022-06-22T21:46:05.752Z"
   },
   {
    "duration": 0,
    "start_time": "2022-06-22T21:46:05.753Z"
   },
   {
    "duration": 0,
    "start_time": "2022-06-22T21:46:05.754Z"
   },
   {
    "duration": 0,
    "start_time": "2022-06-22T21:46:05.756Z"
   },
   {
    "duration": 0,
    "start_time": "2022-06-22T21:46:05.757Z"
   },
   {
    "duration": 0,
    "start_time": "2022-06-22T21:46:05.758Z"
   },
   {
    "duration": 0,
    "start_time": "2022-06-22T21:46:05.760Z"
   },
   {
    "duration": 0,
    "start_time": "2022-06-22T21:46:05.761Z"
   },
   {
    "duration": 0,
    "start_time": "2022-06-22T21:46:05.762Z"
   },
   {
    "duration": 0,
    "start_time": "2022-06-22T21:46:05.763Z"
   },
   {
    "duration": 0,
    "start_time": "2022-06-22T21:46:05.765Z"
   },
   {
    "duration": 0,
    "start_time": "2022-06-22T21:46:05.766Z"
   },
   {
    "duration": 0,
    "start_time": "2022-06-22T21:46:05.768Z"
   },
   {
    "duration": 0,
    "start_time": "2022-06-22T21:46:05.769Z"
   },
   {
    "duration": 0,
    "start_time": "2022-06-22T21:46:05.770Z"
   },
   {
    "duration": 0,
    "start_time": "2022-06-22T21:46:05.772Z"
   },
   {
    "duration": 0,
    "start_time": "2022-06-22T21:46:05.773Z"
   },
   {
    "duration": 0,
    "start_time": "2022-06-22T21:46:05.774Z"
   },
   {
    "duration": 0,
    "start_time": "2022-06-22T21:46:05.776Z"
   },
   {
    "duration": 0,
    "start_time": "2022-06-22T21:46:05.778Z"
   },
   {
    "duration": 0,
    "start_time": "2022-06-22T21:46:05.779Z"
   },
   {
    "duration": 0,
    "start_time": "2022-06-22T21:46:05.781Z"
   },
   {
    "duration": 0,
    "start_time": "2022-06-22T21:46:05.783Z"
   },
   {
    "duration": 0,
    "start_time": "2022-06-22T21:46:05.784Z"
   },
   {
    "duration": 0,
    "start_time": "2022-06-22T21:46:05.786Z"
   },
   {
    "duration": 0,
    "start_time": "2022-06-22T21:46:05.787Z"
   },
   {
    "duration": 0,
    "start_time": "2022-06-22T21:46:05.789Z"
   },
   {
    "duration": 0,
    "start_time": "2022-06-22T21:46:05.791Z"
   },
   {
    "duration": 618,
    "start_time": "2022-06-22T21:46:44.382Z"
   },
   {
    "duration": 1097,
    "start_time": "2022-06-22T21:46:51.883Z"
   },
   {
    "duration": 52,
    "start_time": "2022-06-22T21:46:52.982Z"
   },
   {
    "duration": 17,
    "start_time": "2022-06-22T21:46:53.036Z"
   },
   {
    "duration": 20,
    "start_time": "2022-06-22T21:46:53.055Z"
   },
   {
    "duration": 5,
    "start_time": "2022-06-22T21:46:53.078Z"
   },
   {
    "duration": 20,
    "start_time": "2022-06-22T21:46:53.085Z"
   },
   {
    "duration": 5,
    "start_time": "2022-06-22T21:46:53.106Z"
   },
   {
    "duration": 11,
    "start_time": "2022-06-22T21:46:53.113Z"
   },
   {
    "duration": 6,
    "start_time": "2022-06-22T21:46:53.126Z"
   },
   {
    "duration": 39,
    "start_time": "2022-06-22T21:46:53.134Z"
   },
   {
    "duration": 9,
    "start_time": "2022-06-22T21:46:53.174Z"
   },
   {
    "duration": 12,
    "start_time": "2022-06-22T21:46:53.185Z"
   },
   {
    "duration": 15,
    "start_time": "2022-06-22T21:46:53.199Z"
   },
   {
    "duration": 235,
    "start_time": "2022-06-22T21:46:53.218Z"
   },
   {
    "duration": 12,
    "start_time": "2022-06-22T21:46:53.455Z"
   },
   {
    "duration": 339,
    "start_time": "2022-06-22T21:46:53.469Z"
   },
   {
    "duration": 320,
    "start_time": "2022-06-22T21:46:53.810Z"
   },
   {
    "duration": 285,
    "start_time": "2022-06-22T21:46:54.132Z"
   },
   {
    "duration": 23,
    "start_time": "2022-06-22T21:46:54.420Z"
   },
   {
    "duration": 171,
    "start_time": "2022-06-22T21:46:54.445Z"
   },
   {
    "duration": 164,
    "start_time": "2022-06-22T21:46:54.618Z"
   },
   {
    "duration": 23,
    "start_time": "2022-06-22T21:46:54.783Z"
   },
   {
    "duration": 216,
    "start_time": "2022-06-22T21:46:54.808Z"
   },
   {
    "duration": 143,
    "start_time": "2022-06-22T21:46:55.026Z"
   },
   {
    "duration": 212,
    "start_time": "2022-06-22T21:46:55.171Z"
   },
   {
    "duration": 22,
    "start_time": "2022-06-22T21:46:55.387Z"
   },
   {
    "duration": 334,
    "start_time": "2022-06-22T21:46:55.410Z"
   },
   {
    "duration": 198,
    "start_time": "2022-06-22T21:46:55.746Z"
   },
   {
    "duration": 155,
    "start_time": "2022-06-22T21:46:55.945Z"
   },
   {
    "duration": 314,
    "start_time": "2022-06-22T21:46:56.102Z"
   },
   {
    "duration": 221,
    "start_time": "2022-06-22T21:46:56.418Z"
   },
   {
    "duration": 159,
    "start_time": "2022-06-22T21:46:56.641Z"
   },
   {
    "duration": 393,
    "start_time": "2022-06-22T21:46:56.802Z"
   },
   {
    "duration": 214,
    "start_time": "2022-06-22T21:46:57.197Z"
   },
   {
    "duration": 156,
    "start_time": "2022-06-22T21:46:57.413Z"
   },
   {
    "duration": 22,
    "start_time": "2022-06-22T21:46:57.571Z"
   },
   {
    "duration": 8,
    "start_time": "2022-06-22T21:46:57.595Z"
   },
   {
    "duration": 22,
    "start_time": "2022-06-22T21:46:57.605Z"
   },
   {
    "duration": 6,
    "start_time": "2022-06-22T21:46:57.629Z"
   },
   {
    "duration": 1078,
    "start_time": "2022-06-22T21:48:30.679Z"
   },
   {
    "duration": 50,
    "start_time": "2022-06-22T21:48:31.759Z"
   },
   {
    "duration": 14,
    "start_time": "2022-06-22T21:48:31.811Z"
   },
   {
    "duration": 20,
    "start_time": "2022-06-22T21:48:31.827Z"
   },
   {
    "duration": 4,
    "start_time": "2022-06-22T21:48:31.849Z"
   },
   {
    "duration": 25,
    "start_time": "2022-06-22T21:48:31.855Z"
   },
   {
    "duration": 4,
    "start_time": "2022-06-22T21:48:31.882Z"
   },
   {
    "duration": 8,
    "start_time": "2022-06-22T21:48:31.888Z"
   },
   {
    "duration": 4,
    "start_time": "2022-06-22T21:48:31.898Z"
   },
   {
    "duration": 18,
    "start_time": "2022-06-22T21:48:31.905Z"
   },
   {
    "duration": 8,
    "start_time": "2022-06-22T21:48:31.925Z"
   },
   {
    "duration": 42,
    "start_time": "2022-06-22T21:48:31.934Z"
   },
   {
    "duration": 11,
    "start_time": "2022-06-22T21:48:31.977Z"
   },
   {
    "duration": 214,
    "start_time": "2022-06-22T21:48:31.989Z"
   },
   {
    "duration": 7,
    "start_time": "2022-06-22T21:48:32.205Z"
   },
   {
    "duration": 319,
    "start_time": "2022-06-22T21:48:32.213Z"
   },
   {
    "duration": 242,
    "start_time": "2022-06-22T21:48:32.533Z"
   },
   {
    "duration": 258,
    "start_time": "2022-06-22T21:48:32.776Z"
   },
   {
    "duration": 16,
    "start_time": "2022-06-22T21:48:33.035Z"
   },
   {
    "duration": 147,
    "start_time": "2022-06-22T21:48:33.053Z"
   },
   {
    "duration": 145,
    "start_time": "2022-06-22T21:48:33.201Z"
   },
   {
    "duration": 23,
    "start_time": "2022-06-22T21:48:33.347Z"
   },
   {
    "duration": 209,
    "start_time": "2022-06-22T21:48:33.372Z"
   },
   {
    "duration": 141,
    "start_time": "2022-06-22T21:48:33.583Z"
   },
   {
    "duration": 198,
    "start_time": "2022-06-22T21:48:33.725Z"
   },
   {
    "duration": 15,
    "start_time": "2022-06-22T21:48:33.926Z"
   },
   {
    "duration": 290,
    "start_time": "2022-06-22T21:48:33.943Z"
   },
   {
    "duration": 171,
    "start_time": "2022-06-22T21:48:34.237Z"
   },
   {
    "duration": 158,
    "start_time": "2022-06-22T21:48:34.409Z"
   },
   {
    "duration": 301,
    "start_time": "2022-06-22T21:48:34.568Z"
   },
   {
    "duration": 191,
    "start_time": "2022-06-22T21:48:34.871Z"
   },
   {
    "duration": 141,
    "start_time": "2022-06-22T21:48:35.064Z"
   },
   {
    "duration": 402,
    "start_time": "2022-06-22T21:48:35.207Z"
   },
   {
    "duration": 197,
    "start_time": "2022-06-22T21:48:35.611Z"
   },
   {
    "duration": 148,
    "start_time": "2022-06-22T21:48:35.810Z"
   },
   {
    "duration": 17,
    "start_time": "2022-06-22T21:48:35.960Z"
   },
   {
    "duration": 11,
    "start_time": "2022-06-22T21:48:35.979Z"
   },
   {
    "duration": 17,
    "start_time": "2022-06-22T21:48:35.992Z"
   },
   {
    "duration": 8,
    "start_time": "2022-06-22T21:48:36.011Z"
   },
   {
    "duration": 190,
    "start_time": "2022-06-22T21:59:03.094Z"
   },
   {
    "duration": 216,
    "start_time": "2022-06-22T22:03:28.761Z"
   },
   {
    "duration": 165,
    "start_time": "2022-06-22T22:06:36.320Z"
   },
   {
    "duration": 1122,
    "start_time": "2022-06-22T22:10:43.625Z"
   },
   {
    "duration": 52,
    "start_time": "2022-06-22T22:10:44.750Z"
   },
   {
    "duration": 15,
    "start_time": "2022-06-22T22:10:44.804Z"
   },
   {
    "duration": 24,
    "start_time": "2022-06-22T22:10:44.821Z"
   },
   {
    "duration": 7,
    "start_time": "2022-06-22T22:10:44.846Z"
   },
   {
    "duration": 25,
    "start_time": "2022-06-22T22:10:44.855Z"
   },
   {
    "duration": 4,
    "start_time": "2022-06-22T22:10:44.882Z"
   },
   {
    "duration": 11,
    "start_time": "2022-06-22T22:10:44.888Z"
   },
   {
    "duration": 7,
    "start_time": "2022-06-22T22:10:44.901Z"
   },
   {
    "duration": 15,
    "start_time": "2022-06-22T22:10:44.911Z"
   },
   {
    "duration": 8,
    "start_time": "2022-06-22T22:10:44.927Z"
   },
   {
    "duration": 38,
    "start_time": "2022-06-22T22:10:44.937Z"
   },
   {
    "duration": 13,
    "start_time": "2022-06-22T22:10:44.977Z"
   },
   {
    "duration": 232,
    "start_time": "2022-06-22T22:10:44.992Z"
   },
   {
    "duration": 6,
    "start_time": "2022-06-22T22:10:45.226Z"
   },
   {
    "duration": 323,
    "start_time": "2022-06-22T22:10:45.233Z"
   },
   {
    "duration": 274,
    "start_time": "2022-06-22T22:10:45.558Z"
   },
   {
    "duration": 276,
    "start_time": "2022-06-22T22:10:45.834Z"
   },
   {
    "duration": 15,
    "start_time": "2022-06-22T22:10:46.112Z"
   },
   {
    "duration": 167,
    "start_time": "2022-06-22T22:10:46.129Z"
   },
   {
    "duration": 158,
    "start_time": "2022-06-22T22:10:46.298Z"
   },
   {
    "duration": 24,
    "start_time": "2022-06-22T22:10:46.458Z"
   },
   {
    "duration": 219,
    "start_time": "2022-06-22T22:10:46.483Z"
   },
   {
    "duration": 138,
    "start_time": "2022-06-22T22:10:46.704Z"
   },
   {
    "duration": 217,
    "start_time": "2022-06-22T22:10:46.843Z"
   },
   {
    "duration": 18,
    "start_time": "2022-06-22T22:10:47.063Z"
   },
   {
    "duration": 321,
    "start_time": "2022-06-22T22:10:47.082Z"
   },
   {
    "duration": 197,
    "start_time": "2022-06-22T22:10:47.408Z"
   },
   {
    "duration": 164,
    "start_time": "2022-06-22T22:10:47.607Z"
   },
   {
    "duration": 322,
    "start_time": "2022-06-22T22:10:47.773Z"
   },
   {
    "duration": 196,
    "start_time": "2022-06-22T22:10:48.097Z"
   },
   {
    "duration": 166,
    "start_time": "2022-06-22T22:10:48.294Z"
   },
   {
    "duration": 407,
    "start_time": "2022-06-22T22:10:48.467Z"
   },
   {
    "duration": 223,
    "start_time": "2022-06-22T22:10:48.876Z"
   },
   {
    "duration": 160,
    "start_time": "2022-06-22T22:10:49.101Z"
   },
   {
    "duration": 14,
    "start_time": "2022-06-22T22:10:49.267Z"
   },
   {
    "duration": 7,
    "start_time": "2022-06-22T22:10:49.282Z"
   },
   {
    "duration": 15,
    "start_time": "2022-06-22T22:10:49.291Z"
   },
   {
    "duration": 4,
    "start_time": "2022-06-22T22:10:49.308Z"
   },
   {
    "duration": 46,
    "start_time": "2022-06-22T22:11:31.164Z"
   },
   {
    "duration": 1118,
    "start_time": "2022-06-22T22:14:39.907Z"
   },
   {
    "duration": 56,
    "start_time": "2022-06-22T22:14:41.027Z"
   },
   {
    "duration": 21,
    "start_time": "2022-06-22T22:14:41.085Z"
   },
   {
    "duration": 34,
    "start_time": "2022-06-22T22:14:41.108Z"
   },
   {
    "duration": 6,
    "start_time": "2022-06-22T22:14:41.145Z"
   },
   {
    "duration": 29,
    "start_time": "2022-06-22T22:14:41.153Z"
   },
   {
    "duration": 4,
    "start_time": "2022-06-22T22:14:41.183Z"
   },
   {
    "duration": 9,
    "start_time": "2022-06-22T22:14:41.189Z"
   },
   {
    "duration": 5,
    "start_time": "2022-06-22T22:14:41.200Z"
   },
   {
    "duration": 21,
    "start_time": "2022-06-22T22:14:41.206Z"
   },
   {
    "duration": 10,
    "start_time": "2022-06-22T22:14:41.229Z"
   },
   {
    "duration": 40,
    "start_time": "2022-06-22T22:14:41.240Z"
   },
   {
    "duration": 11,
    "start_time": "2022-06-22T22:14:41.282Z"
   },
   {
    "duration": 227,
    "start_time": "2022-06-22T22:14:41.296Z"
   },
   {
    "duration": 6,
    "start_time": "2022-06-22T22:14:41.525Z"
   },
   {
    "duration": 335,
    "start_time": "2022-06-22T22:14:41.533Z"
   },
   {
    "duration": 262,
    "start_time": "2022-06-22T22:14:41.870Z"
   },
   {
    "duration": 260,
    "start_time": "2022-06-22T22:14:42.134Z"
   },
   {
    "duration": 15,
    "start_time": "2022-06-22T22:14:42.396Z"
   },
   {
    "duration": 161,
    "start_time": "2022-06-22T22:14:42.412Z"
   },
   {
    "duration": 151,
    "start_time": "2022-06-22T22:14:42.575Z"
   },
   {
    "duration": 16,
    "start_time": "2022-06-22T22:14:42.728Z"
   },
   {
    "duration": 207,
    "start_time": "2022-06-22T22:14:42.746Z"
   },
   {
    "duration": 138,
    "start_time": "2022-06-22T22:14:42.955Z"
   },
   {
    "duration": 212,
    "start_time": "2022-06-22T22:14:43.095Z"
   },
   {
    "duration": 14,
    "start_time": "2022-06-22T22:14:43.308Z"
   },
   {
    "duration": 311,
    "start_time": "2022-06-22T22:14:43.324Z"
   },
   {
    "duration": 205,
    "start_time": "2022-06-22T22:14:43.637Z"
   },
   {
    "duration": 168,
    "start_time": "2022-06-22T22:14:43.844Z"
   },
   {
    "duration": 312,
    "start_time": "2022-06-22T22:14:44.014Z"
   },
   {
    "duration": 193,
    "start_time": "2022-06-22T22:14:44.327Z"
   },
   {
    "duration": 184,
    "start_time": "2022-06-22T22:14:44.522Z"
   },
   {
    "duration": 393,
    "start_time": "2022-06-22T22:14:44.709Z"
   },
   {
    "duration": 209,
    "start_time": "2022-06-22T22:14:45.103Z"
   },
   {
    "duration": 185,
    "start_time": "2022-06-22T22:14:45.314Z"
   },
   {
    "duration": 15,
    "start_time": "2022-06-22T22:14:45.501Z"
   },
   {
    "duration": 11,
    "start_time": "2022-06-22T22:14:45.518Z"
   },
   {
    "duration": 14,
    "start_time": "2022-06-22T22:14:45.531Z"
   },
   {
    "duration": 29,
    "start_time": "2022-06-22T22:14:45.547Z"
   },
   {
    "duration": 1082,
    "start_time": "2022-06-22T22:20:33.008Z"
   },
   {
    "duration": 53,
    "start_time": "2022-06-22T22:20:34.092Z"
   },
   {
    "duration": 15,
    "start_time": "2022-06-22T22:20:34.147Z"
   },
   {
    "duration": 29,
    "start_time": "2022-06-22T22:20:34.163Z"
   },
   {
    "duration": 7,
    "start_time": "2022-06-22T22:20:34.195Z"
   },
   {
    "duration": 26,
    "start_time": "2022-06-22T22:20:34.204Z"
   },
   {
    "duration": 7,
    "start_time": "2022-06-22T22:20:34.232Z"
   },
   {
    "duration": 26,
    "start_time": "2022-06-22T22:20:34.241Z"
   },
   {
    "duration": 7,
    "start_time": "2022-06-22T22:20:34.269Z"
   },
   {
    "duration": 28,
    "start_time": "2022-06-22T22:20:34.278Z"
   },
   {
    "duration": 10,
    "start_time": "2022-06-22T22:20:34.308Z"
   },
   {
    "duration": 18,
    "start_time": "2022-06-22T22:20:34.320Z"
   },
   {
    "duration": 40,
    "start_time": "2022-06-22T22:20:34.341Z"
   },
   {
    "duration": 238,
    "start_time": "2022-06-22T22:20:34.385Z"
   },
   {
    "duration": 10,
    "start_time": "2022-06-22T22:20:34.625Z"
   },
   {
    "duration": 379,
    "start_time": "2022-06-22T22:20:34.638Z"
   },
   {
    "duration": 335,
    "start_time": "2022-06-22T22:20:35.019Z"
   },
   {
    "duration": 265,
    "start_time": "2022-06-22T22:20:35.355Z"
   },
   {
    "duration": 18,
    "start_time": "2022-06-22T22:20:35.623Z"
   },
   {
    "duration": 183,
    "start_time": "2022-06-22T22:20:35.643Z"
   },
   {
    "duration": 157,
    "start_time": "2022-06-22T22:20:35.828Z"
   },
   {
    "duration": 16,
    "start_time": "2022-06-22T22:20:35.987Z"
   },
   {
    "duration": 222,
    "start_time": "2022-06-22T22:20:36.004Z"
   },
   {
    "duration": 160,
    "start_time": "2022-06-22T22:20:36.228Z"
   },
   {
    "duration": 193,
    "start_time": "2022-06-22T22:20:36.390Z"
   },
   {
    "duration": 15,
    "start_time": "2022-06-22T22:20:36.585Z"
   },
   {
    "duration": 325,
    "start_time": "2022-06-22T22:20:36.602Z"
   },
   {
    "duration": 199,
    "start_time": "2022-06-22T22:20:36.929Z"
   },
   {
    "duration": 180,
    "start_time": "2022-06-22T22:20:37.130Z"
   },
   {
    "duration": 329,
    "start_time": "2022-06-22T22:20:37.312Z"
   },
   {
    "duration": 247,
    "start_time": "2022-06-22T22:20:37.643Z"
   },
   {
    "duration": 163,
    "start_time": "2022-06-22T22:20:37.892Z"
   },
   {
    "duration": 404,
    "start_time": "2022-06-22T22:20:38.057Z"
   },
   {
    "duration": 210,
    "start_time": "2022-06-22T22:20:38.468Z"
   },
   {
    "duration": 172,
    "start_time": "2022-06-22T22:20:38.680Z"
   },
   {
    "duration": 22,
    "start_time": "2022-06-22T22:20:38.854Z"
   },
   {
    "duration": 17,
    "start_time": "2022-06-22T22:20:38.878Z"
   },
   {
    "duration": 23,
    "start_time": "2022-06-22T22:20:38.898Z"
   },
   {
    "duration": 16,
    "start_time": "2022-06-22T22:20:38.923Z"
   }
  ],
  "kernelspec": {
   "display_name": "Python 3 (ipykernel)",
   "language": "python",
   "name": "python3"
  },
  "language_info": {
   "codemirror_mode": {
    "name": "ipython",
    "version": 3
   },
   "file_extension": ".py",
   "mimetype": "text/x-python",
   "name": "python",
   "nbconvert_exporter": "python",
   "pygments_lexer": "ipython3",
   "version": "3.9.12"
  },
  "toc": {
   "base_numbering": 1,
   "nav_menu": {},
   "number_sections": true,
   "sideBar": true,
   "skip_h1_title": true,
   "title_cell": "Table of Contents",
   "title_sidebar": "Contents",
   "toc_cell": false,
   "toc_position": {
    "height": "calc(100% - 180px)",
    "left": "10px",
    "top": "150px",
    "width": "165px"
   },
   "toc_section_display": true,
   "toc_window_display": true
  }
 },
 "nbformat": 4,
 "nbformat_minor": 2
}
