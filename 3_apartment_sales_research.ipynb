{
 "cells": [
  {
   "cell_type": "markdown",
   "metadata": {},
   "source": [
    "# Исследование объявлений о продаже квартир\n",
    "\n",
    "В распоряжении данные сервиса Яндекc Недвижимость — архив объявлений о продаже квартир в Санкт-Петербурге и соседних населённых пунктах за несколько лет. Задача — установить параметры. Это позволит построить автоматизированную систему: она отследит аномалии и мошенническую деятельность. \n",
    "\n",
    "По каждой квартире на продажу доступны два вида данных. Первые вписаны пользователем, вторые получены автоматически на основе картографических данных. Например, расстояние до центра, аэропорта, ближайшего парка и водоёма.  \n",
    "•\tairports_nearest — расстояние до ближайшего аэропорта в метрах (м)  \n",
    "•\tbalcony — число балконов  \n",
    "•\tceiling_height — высота потолков (м)  \n",
    "•\tcityCenters_nearest — расстояние до центра города (м)  \n",
    "•\tdays_exposition — сколько дней было размещено объявление (от публикации до снятия)  \n",
    "•\tfirst_day_exposition — дата публикации  \n",
    "•\tfloor — этаж  \n",
    "•\tfloors_total — всего этажей в доме  \n",
    "•\tis_apartment — апартаменты (булев тип)  \n",
    "•\tkitchen_area — площадь кухни в квадратных метрах (м²)  \n",
    "•\tlast_price — цена на момент снятия с публикации  \n",
    "•\tliving_area — жилая площадь в квадратных метрах (м²)  \n",
    "•\tlocality_name — название населённого пункта  \n",
    "•\topen_plan — свободная планировка (булев тип)  \n",
    "•\tparks_around3000 — число парков в радиусе 3 км  \n",
    "•\tparks_nearest — расстояние до ближайшего парка (м)  \n",
    "•\tponds_around3000 — число водоёмов в радиусе 3 км  \n",
    "•\tponds_nearest — расстояние до ближайшего водоёма (м)  \n",
    "•\trooms — число комнат  \n",
    "•\tstudio — квартира-студия (булев тип)  \n",
    "•\ttotal_area — площадь квартиры в квадратных метрах (м²)  \n",
    "•\ttotal_images — число фотографий квартиры в объявлении  \n"
   ]
  },
  {
   "cell_type": "markdown",
   "metadata": {},
   "source": [
    "## Изучение данных из файла\n",
    "Изучим предоставленные данные."
   ]
  },
  {
   "cell_type": "code",
   "execution_count": 1,
   "metadata": {},
   "outputs": [],
   "source": [
    "#Импортируем необходимые библиотеки и файл с данными.\n",
    "import pandas as pd\n",
    "import matplotlib.pyplot as plt\n",
    "import seaborn as sns"
   ]
  },
  {
   "cell_type": "code",
   "execution_count": 2,
   "metadata": {},
   "outputs": [],
   "source": [
    "data = pd.read_csv('/datasets/real_estate_data.csv', sep='\\t') #Импортируем данные."
   ]
  },
  {
   "cell_type": "code",
   "execution_count": 3,
   "metadata": {},
   "outputs": [
    {
     "name": "stdout",
     "output_type": "stream",
     "text": [
      "<class 'pandas.core.frame.DataFrame'>\n",
      "RangeIndex: 23699 entries, 0 to 23698\n",
      "Data columns (total 22 columns):\n",
      " #   Column                Non-Null Count  Dtype  \n",
      "---  ------                --------------  -----  \n",
      " 0   total_images          23699 non-null  int64  \n",
      " 1   last_price            23699 non-null  float64\n",
      " 2   total_area            23699 non-null  float64\n",
      " 3   first_day_exposition  23699 non-null  object \n",
      " 4   rooms                 23699 non-null  int64  \n",
      " 5   ceiling_height        14504 non-null  float64\n",
      " 6   floors_total          23613 non-null  float64\n",
      " 7   living_area           21796 non-null  float64\n",
      " 8   floor                 23699 non-null  int64  \n",
      " 9   is_apartment          2775 non-null   object \n",
      " 10  studio                23699 non-null  bool   \n",
      " 11  open_plan             23699 non-null  bool   \n",
      " 12  kitchen_area          21421 non-null  float64\n",
      " 13  balcony               12180 non-null  float64\n",
      " 14  locality_name         23650 non-null  object \n",
      " 15  airports_nearest      18157 non-null  float64\n",
      " 16  cityCenters_nearest   18180 non-null  float64\n",
      " 17  parks_around3000      18181 non-null  float64\n",
      " 18  parks_nearest         8079 non-null   float64\n",
      " 19  ponds_around3000      18181 non-null  float64\n",
      " 20  ponds_nearest         9110 non-null   float64\n",
      " 21  days_exposition       20518 non-null  float64\n",
      "dtypes: bool(2), float64(14), int64(3), object(3)\n",
      "memory usage: 3.7+ MB\n"
     ]
    }
   ],
   "source": [
    "data.info()"
   ]
  },
  {
   "cell_type": "markdown",
   "metadata": {},
   "source": [
    "### Вывод\n",
    "В предоставленных данных информация о 23699 квартирах, описанных по 22 критериям. Сразу видно, что во многих столбцах присутсвуют пропуски, и не во всех столбцах типы данных соответствуют заявленным. Необходимо обработать и подготовить данные, прежде чем переходить к анализу."
   ]
  },
  {
   "cell_type": "markdown",
   "metadata": {},
   "source": [
    "## Предобработка данных\n",
    "\n",
    "- Дубликатов в данных нет.\n",
    "\n",
    "- Многие столбцы содержат пропуски.    \n",
    "\n",
    "- Заменим пропуски в столбцах 'ceiling_height', 'floors_total', 'living_area' и 'kitchen_area', 'airports_nearest', 'cityCenters_nearest', 'parks_nearest', 'ponds_nearest', 'days_exposition' медианным значением по столбцу, так как отсутсвие таких критериев у квартиры невозможно, наличие пропуска нельзя объяснить никакими другими факторами, кроме как механической ошибкой при заполнении данных. Медианное значение больше всего подходит для заполнение прпоусков в данных столбцах, так как не зависит от сильно выделяющихся значений, например, от слишком больших или очень маленьких квартир так, как от них зависит среднее арифметическое.  \n",
    "\n",
    "- Присутсвует огромное количество пропусков в столбце 'is_apartment'. Подсчет значений False и True в столбце показал, что апартаментов в датасете очень мало. Соответсвенно, можно предположить, что владельцы апартаментов ставили в данной графе True, в то время как большинство владельцев квартир другого типа просто пропускали данную графу. Таким образом, все пропуски в данном столбце можно заменить на False.  \n",
    "\n",
    "- Пропуски в столбцах 'balcony', 'parks_around3000', 'ponds_around3000'  можно объяснить отсутствием балконов в квартире, отсутствием парков и водоемов поблизости. Соответсвенно, пропуски в данных столбцах можно заменить на 0.  \n",
    "\n",
    "- Пропуски в столбце 'locality_name', невозможно заменить каким-то средним значением, изменим пропуски в данном столбце на 'Неизвестно'.  "
   ]
  },
  {
   "cell_type": "code",
   "execution_count": 4,
   "metadata": {},
   "outputs": [
    {
     "data": {
      "text/plain": [
       "0"
      ]
     },
     "execution_count": 4,
     "metadata": {},
     "output_type": "execute_result"
    }
   ],
   "source": [
    "data.duplicated().sum() #Проверяем данные на наличие дубликатов"
   ]
  },
  {
   "cell_type": "code",
   "execution_count": 5,
   "metadata": {},
   "outputs": [
    {
     "name": "stdout",
     "output_type": "stream",
     "text": [
      "total_images                0\n",
      "last_price                  0\n",
      "total_area                  0\n",
      "first_day_exposition        0\n",
      "rooms                       0\n",
      "ceiling_height           9195\n",
      "floors_total               86\n",
      "living_area              1903\n",
      "floor                       0\n",
      "is_apartment            20924\n",
      "studio                      0\n",
      "open_plan                   0\n",
      "kitchen_area             2278\n",
      "balcony                 11519\n",
      "locality_name              49\n",
      "airports_nearest         5542\n",
      "cityCenters_nearest      5519\n",
      "parks_around3000         5518\n",
      "parks_nearest           15620\n",
      "ponds_around3000         5518\n",
      "ponds_nearest           14589\n",
      "days_exposition          3181\n",
      "dtype: int64\n"
     ]
    }
   ],
   "source": [
    "print(data.isna().sum()) #Проверяем, в каких столбцах есть пропуски"
   ]
  },
  {
   "cell_type": "code",
   "execution_count": 6,
   "metadata": {},
   "outputs": [],
   "source": [
    "#Заполняем пропуски в столбцах медианным значением по столбцу.\n",
    "data['ceiling_height'] = data['ceiling_height'].fillna(data['ceiling_height'].median())\n",
    "data['floors_total'] = data['floors_total'].fillna(data['floors_total'].median())\n",
    "data['living_area'] = data['living_area'].fillna(data['living_area'].median())\n",
    "data['kitchen_area'] = data['kitchen_area'].fillna(data['kitchen_area'].median())\n",
    "data['airports_nearest'] = data['airports_nearest'].fillna(data['airports_nearest'].median())\n",
    "data['cityCenters_nearest'] = data['cityCenters_nearest'].fillna(data['cityCenters_nearest'].median())\n",
    "data['parks_nearest'] = data['parks_nearest'].fillna(data['parks_nearest'].median())\n",
    "data['ponds_nearest'] = data['ponds_nearest'].fillna(data['ponds_nearest'].median())\n",
    "data['days_exposition'] = data['days_exposition'].fillna(data['days_exposition'].median())"
   ]
  },
  {
   "cell_type": "code",
   "execution_count": 7,
   "metadata": {},
   "outputs": [],
   "source": [
    "data.groupby('is_apartment')['is_apartment'].count() #Проверяем количество значений в столбце.\n",
    "data['is_apartment'] = data['is_apartment'].fillna(False) #Заполняем пропуски популярным значением.\n",
    "data['balcony'] = data['balcony'].fillna(0) #Заполняем пропуски необходимым значением.\n",
    "data['parks_around3000'] = data['parks_around3000'].fillna(0) #Заполняем пропуски необходимым значением.\n",
    "data['ponds_around3000'] = data['ponds_around3000'].fillna(0) #Заполняем пропуски необходимым значением.\n",
    "data['locality_name'] = data['locality_name'].fillna('Неизвестно') #Заполняем пропуски необходимым значением."
   ]
  },
  {
   "cell_type": "code",
   "execution_count": 8,
   "metadata": {},
   "outputs": [
    {
     "name": "stdout",
     "output_type": "stream",
     "text": [
      "total_images            0\n",
      "last_price              0\n",
      "total_area              0\n",
      "first_day_exposition    0\n",
      "rooms                   0\n",
      "ceiling_height          0\n",
      "floors_total            0\n",
      "living_area             0\n",
      "floor                   0\n",
      "is_apartment            0\n",
      "studio                  0\n",
      "open_plan               0\n",
      "kitchen_area            0\n",
      "balcony                 0\n",
      "locality_name           0\n",
      "airports_nearest        0\n",
      "cityCenters_nearest     0\n",
      "parks_around3000        0\n",
      "parks_nearest           0\n",
      "ponds_around3000        0\n",
      "ponds_nearest           0\n",
      "days_exposition         0\n",
      "dtype: int64\n"
     ]
    }
   ],
   "source": [
    "print(data.isna().sum()) #Проверяем, заполнились ли пропуски."
   ]
  },
  {
   "cell_type": "markdown",
   "metadata": {},
   "source": [
    "Необходимо заменить тип данных float на int в столбцах 'floors_total', 'balcony', 'parks_around3000', 'ponds_around3000', 'days_exposition', так как значения в данных столбцах измеряются целыми числами.   \n",
    "Также для возможности расчетов необходимо привести значения в столбце 'first_day_exposition' к типу данных datetime, так как данный столбец содержит даты."
   ]
  },
  {
   "cell_type": "code",
   "execution_count": 9,
   "metadata": {},
   "outputs": [
    {
     "data": {
      "text/plain": [
       "total_images              int64\n",
       "last_price              float64\n",
       "total_area              float64\n",
       "first_day_exposition     object\n",
       "rooms                     int64\n",
       "ceiling_height          float64\n",
       "floors_total            float64\n",
       "living_area             float64\n",
       "floor                     int64\n",
       "is_apartment               bool\n",
       "studio                     bool\n",
       "open_plan                  bool\n",
       "kitchen_area            float64\n",
       "balcony                 float64\n",
       "locality_name            object\n",
       "airports_nearest        float64\n",
       "cityCenters_nearest     float64\n",
       "parks_around3000        float64\n",
       "parks_nearest           float64\n",
       "ponds_around3000        float64\n",
       "ponds_nearest           float64\n",
       "days_exposition         float64\n",
       "dtype: object"
      ]
     },
     "execution_count": 9,
     "metadata": {},
     "output_type": "execute_result"
    }
   ],
   "source": [
    "data.dtypes #Проверяем типы данных в столбцах."
   ]
  },
  {
   "cell_type": "code",
   "execution_count": 10,
   "metadata": {},
   "outputs": [],
   "source": [
    "#Переводим дробные значения в столбцах в целые и строковый тип данных в дату.\n",
    "data['floors_total'] = data['floors_total'].astype('int')\n",
    "data['balcony'] = data['balcony'].astype('int')\n",
    "data['parks_around3000'] = data['parks_around3000'].astype('int')\n",
    "data['ponds_around3000'] = data['ponds_around3000'].astype('int')\n",
    "data['days_exposition'] = data['days_exposition'].astype('int')\n",
    "data['first_day_exposition'] = pd.to_datetime(data['first_day_exposition'], format='%Y.%m.%dT%H:%M:%S')"
   ]
  },
  {
   "cell_type": "code",
   "execution_count": 11,
   "metadata": {},
   "outputs": [
    {
     "name": "stdout",
     "output_type": "stream",
     "text": [
      "0   2019-03-07\n",
      "1   2018-12-04\n",
      "2   2015-08-20\n",
      "3   2015-07-24\n",
      "4   2018-06-19\n",
      "Name: first_day_exposition, dtype: datetime64[ns]\n"
     ]
    },
    {
     "data": {
      "text/plain": [
       "total_images                     int64\n",
       "last_price                     float64\n",
       "total_area                     float64\n",
       "first_day_exposition    datetime64[ns]\n",
       "rooms                            int64\n",
       "ceiling_height                 float64\n",
       "floors_total                     int64\n",
       "living_area                    float64\n",
       "floor                            int64\n",
       "is_apartment                      bool\n",
       "studio                            bool\n",
       "open_plan                         bool\n",
       "kitchen_area                   float64\n",
       "balcony                          int64\n",
       "locality_name                   object\n",
       "airports_nearest               float64\n",
       "cityCenters_nearest            float64\n",
       "parks_around3000                 int64\n",
       "parks_nearest                  float64\n",
       "ponds_around3000                 int64\n",
       "ponds_nearest                  float64\n",
       "days_exposition                  int64\n",
       "dtype: object"
      ]
     },
     "execution_count": 11,
     "metadata": {},
     "output_type": "execute_result"
    }
   ],
   "source": [
    "print(data['first_day_exposition'].head())\n",
    "data.dtypes"
   ]
  },
  {
   "cell_type": "markdown",
   "metadata": {},
   "source": [
    "## Расчёты и добавление результатов в таблицу"
   ]
  },
  {
   "cell_type": "markdown",
   "metadata": {},
   "source": [
    "Добавим в таблицу столбец со стоимостью одного квадратного метра."
   ]
  },
  {
   "cell_type": "code",
   "execution_count": 12,
   "metadata": {},
   "outputs": [],
   "source": [
    "data['price_per_square_meter'] = data['last_price'] / data['total_area']"
   ]
  },
  {
   "cell_type": "markdown",
   "metadata": {},
   "source": [
    "Добавим в таблицу столбцы с днем недели, месяцем и годом публикации."
   ]
  },
  {
   "cell_type": "code",
   "execution_count": 13,
   "metadata": {},
   "outputs": [],
   "source": [
    "data['month'] = data['first_day_exposition'].dt.month\n",
    "data['year'] = data['first_day_exposition'].dt.year\n",
    "data['weekday'] = data['first_day_exposition'].dt.weekday"
   ]
  },
  {
   "cell_type": "markdown",
   "metadata": {},
   "source": [
    "Добавим столбец с делением этажей на первый, последний и другой."
   ]
  },
  {
   "cell_type": "code",
   "execution_count": 14,
   "metadata": {},
   "outputs": [],
   "source": [
    "def floor_category(row):\n",
    "    if row['floor'] == 1:\n",
    "        return 'первый'\n",
    "    if row['floor'] == row['floors_total']:\n",
    "        return 'последний'\n",
    "    else:\n",
    "        return 'другой'\n",
    "data['floor_category'] = data.apply(floor_category, axis=1)"
   ]
  },
  {
   "cell_type": "markdown",
   "metadata": {},
   "source": [
    "Добавим столбец с соотношением жилой и общей площади и столбец с отношением площади кухни к общей площади."
   ]
  },
  {
   "cell_type": "code",
   "execution_count": 15,
   "metadata": {},
   "outputs": [],
   "source": [
    "data['living_to_total_area'] = data['living_area'] / data['total_area']\n",
    "data['kitchen_to_total_area'] = data['kitchen_area'] / data['total_area']"
   ]
  },
  {
   "cell_type": "markdown",
   "metadata": {},
   "source": [
    "## Исследовательский анализ данных"
   ]
  },
  {
   "cell_type": "markdown",
   "metadata": {},
   "source": [
    "Посмотрим на разброс квартир по площади. Большая часть квартир 40-70 квадратных метров. "
   ]
  },
  {
   "cell_type": "code",
   "execution_count": 16,
   "metadata": {},
   "outputs": [
    {
     "data": {
      "text/plain": [
       "count    23699.000000\n",
       "mean        60.348651\n",
       "std         35.654083\n",
       "min         12.000000\n",
       "25%         40.000000\n",
       "50%         52.000000\n",
       "75%         69.900000\n",
       "max        900.000000\n",
       "Name: total_area, dtype: float64"
      ]
     },
     "execution_count": 16,
     "metadata": {},
     "output_type": "execute_result"
    },
    {
     "data": {
      "image/png": "[encoded data removed]",
      "text/plain": [
       "<Figure size 432x288 with 1 Axes>"
      ]
     },
     "metadata": {
      "needs_background": "light"
     },
     "output_type": "display_data"
    }
   ],
   "source": [
    "data['total_area'].hist(bins=50, range=(0, 300))\n",
    "data['total_area'].describe()"
   ]
  },
  {
   "cell_type": "markdown",
   "metadata": {},
   "source": [
    "Посмотрим на разброс квартир по ценам. Медианная цена сильно отличается от средней. На графике видно большое скопление квартир от 1 до 7 млн, а затем идет небольшое количество дорогих квартир, которые сильно влияют на среднюю цену. Тем не менее цена большинства квартир находится в диапазоне от 3 до 7 млн."
   ]
  },
  {
   "cell_type": "code",
   "execution_count": 17,
   "metadata": {},
   "outputs": [
    {
     "data": {
      "text/plain": [
       "count    2.369900e+04\n",
       "mean     6.541549e+06\n",
       "std      1.088701e+07\n",
       "min      1.219000e+04\n",
       "25%      3.400000e+06\n",
       "50%      4.650000e+06\n",
       "75%      6.800000e+06\n",
       "max      7.630000e+08\n",
       "Name: last_price, dtype: float64"
      ]
     },
     "execution_count": 17,
     "metadata": {},
     "output_type": "execute_result"
    },
    {
     "data": {
      "image/png": "[encoded data removed]",
      "text/plain": [
       "<Figure size 432x288 with 1 Axes>"
      ]
     },
     "metadata": {
      "needs_background": "light"
     },
     "output_type": "display_data"
    }
   ],
   "source": [
    "data['last_price'].hist(bins=50, range=(0, 20000000))\n",
    "data['last_price'].describe()"
   ]
  },
  {
   "cell_type": "markdown",
   "metadata": {},
   "source": [
    "Посмотрим на разброс квартир по числу комнат. В данных по числу комнат присутсвуют аномальные значения - квартиры с 0 комнат. Можно предположить, что это студии или открытые пространства. Заменим 0 в столбце с числом комнат на 1. Среднее число комнат в квартирах 1-3. При этом значений дальше этого диапазона очень мало, и они практически не влияют на статистику."
   ]
  },
  {
   "cell_type": "code",
   "execution_count": 18,
   "metadata": {},
   "outputs": [
    {
     "data": {
      "text/plain": [
       "count    23699.000000\n",
       "mean         2.070636\n",
       "std          1.078405\n",
       "min          0.000000\n",
       "25%          1.000000\n",
       "50%          2.000000\n",
       "75%          3.000000\n",
       "max         19.000000\n",
       "Name: rooms, dtype: float64"
      ]
     },
     "execution_count": 18,
     "metadata": {},
     "output_type": "execute_result"
    },
    {
     "data": {
      "image/png": "[encoded data removed]",
      "text/plain": [
       "<Figure size 432x288 with 1 Axes>"
      ]
     },
     "metadata": {
      "needs_background": "light"
     },
     "output_type": "display_data"
    }
   ],
   "source": [
    "data['rooms'].hist(bins=50, range=(1, 20))\n",
    "data['rooms'].describe()"
   ]
  },
  {
   "cell_type": "markdown",
   "metadata": {},
   "source": [
    "Посмотрим на разброс квартир по числу потолков. У подавляющего числа квартир высота потолков находится в диапазоне от 2,5 до 3 метров. Особого разброса в данных по этому параметру не наблюдается."
   ]
  },
  {
   "cell_type": "code",
   "execution_count": 19,
   "metadata": {},
   "outputs": [
    {
     "data": {
      "text/plain": [
       "count    23699.000000\n",
       "mean         2.724358\n",
       "std          0.988298\n",
       "min          1.000000\n",
       "25%          2.600000\n",
       "50%          2.650000\n",
       "75%          2.700000\n",
       "max        100.000000\n",
       "Name: ceiling_height, dtype: float64"
      ]
     },
     "execution_count": 19,
     "metadata": {},
     "output_type": "execute_result"
    },
    {
     "data": {
      "image/png": "[encoded data removed]",
      "text/plain": [
       "<Figure size 432x288 with 1 Axes>"
      ]
     },
     "metadata": {
      "needs_background": "light"
     },
     "output_type": "display_data"
    }
   ],
   "source": [
    "data['ceiling_height'].hist(bins=50, range=(0, 8))\n",
    "data['ceiling_height'].describe()"
   ]
  },
  {
   "cell_type": "markdown",
   "metadata": {},
   "source": [
    "Посмотрим на данные с точки зрения времени, которое занимает продажа квартиры. В среднем продажа квартиры занимает около трех месяцев, при это достаточно большое количество квартир продается в первый месяц с момента выставления на продажу. А вот если квартира продается дольше полу года, можно уже говорить, что она продается слишком долго."
   ]
  },
  {
   "cell_type": "code",
   "execution_count": 20,
   "metadata": {},
   "outputs": [
    {
     "data": {
      "text/plain": [
       "count    23699.000000\n",
       "mean       169.360226\n",
       "std        206.535633\n",
       "min          1.000000\n",
       "25%         45.000000\n",
       "50%         95.000000\n",
       "75%        199.000000\n",
       "max       1580.000000\n",
       "Name: days_exposition, dtype: float64"
      ]
     },
     "execution_count": 20,
     "metadata": {},
     "output_type": "execute_result"
    },
    {
     "data": {
      "image/png": "[encoded data removed]",
      "text/plain": [
       "<Figure size 432x288 with 1 Axes>"
      ]
     },
     "metadata": {
      "needs_background": "light"
     },
     "output_type": "display_data"
    }
   ],
   "source": [
    "data['days_exposition'].hist(bins=60, range=(0, 1400))\n",
    "data['days_exposition'].describe()"
   ]
  },
  {
   "cell_type": "markdown",
   "metadata": {},
   "source": [
    "При анализе площади квартир, цен, высоты потолков и сроках продажи можно заметить, что наблюдается длинная тонкая полоса в большую сторону. То есть много значений концентрируется на значениях до медианного, и мало после. Соответсвенно, квартир с размером площади, высотой потолков, ценой и долгими сроками продажи мало, но их параметры сильно влияют на расчеты. Таким образом, данные по этим квартирам можно считать выбросами, их можно убрать. Получим новый срез данных без выбросов, куда не войдут квартиры площадью более 150 квадратных метров, стоимостью более 12 млн, числом комнат более 5, высотой потолков более 4, и которые продавались долее 800 дней."
   ]
  },
  {
   "cell_type": "code",
   "execution_count": 21,
   "metadata": {},
   "outputs": [],
   "source": [
    "#Проверяем, что данные, определенные по графикам как выбросы, занимают не более 10% от всех данных.\n",
    "#data.query('total_area > 150').count() / data['total_area'].count()\n",
    "#data.query('last_price > 12000000').count() / data['last_price'].count()\n",
    "#data.query('rooms > 5').count() / data['rooms'].count()\n",
    "#data.query('ceiling_height > 4').count() / data['ceiling_height'].count()\n",
    "#data.query('days_exposition > 800').count() / data['last_price'].count()"
   ]
  },
  {
   "cell_type": "code",
   "execution_count": 22,
   "metadata": {},
   "outputs": [],
   "source": [
    "#Получаем новый датафрейм без выбросов.\n",
    "good_data = data.query('total_area <= 150')\n",
    "good_data = good_data.query('last_price <= 12000000')\n",
    "good_data = good_data.query('rooms <= 5')\n",
    "good_data = good_data.query('ceiling_height <= 4')\n",
    "good_data = good_data.query('days_exposition <= 800')"
   ]
  },
  {
   "cell_type": "markdown",
   "metadata": {},
   "source": [
    "Изучим, какие факторы больше всего влияют на цену. Судя по таблице корреляции, больше всего на цену влияет площадь квартиры и площадь жилой зоны в квартире. Также влияет количество комнат и площадь кухни."
   ]
  },
  {
   "cell_type": "code",
   "execution_count": 23,
   "metadata": {},
   "outputs": [
    {
     "data": {
      "text/html": [
       "<div>\n",
       "<style scoped>\n",
       "    .dataframe tbody tr th:only-of-type {\n",
       "        vertical-align: middle;\n",
       "    }\n",
       "\n",
       "    .dataframe tbody tr th {\n",
       "        vertical-align: top;\n",
       "    }\n",
       "\n",
       "    .dataframe thead th {\n",
       "        text-align: right;\n",
       "    }\n",
       "</style>\n",
       "<table border=\"1\" class=\"dataframe\">\n",
       "  <thead>\n",
       "    <tr style=\"text-align: right;\">\n",
       "      <th></th>\n",
       "      <th>total_images</th>\n",
       "      <th>last_price</th>\n",
       "      <th>total_area</th>\n",
       "      <th>rooms</th>\n",
       "      <th>ceiling_height</th>\n",
       "      <th>floors_total</th>\n",
       "      <th>living_area</th>\n",
       "      <th>floor</th>\n",
       "      <th>is_apartment</th>\n",
       "      <th>studio</th>\n",
       "      <th>...</th>\n",
       "      <th>parks_nearest</th>\n",
       "      <th>ponds_around3000</th>\n",
       "      <th>ponds_nearest</th>\n",
       "      <th>days_exposition</th>\n",
       "      <th>price_per_square_meter</th>\n",
       "      <th>month</th>\n",
       "      <th>year</th>\n",
       "      <th>weekday</th>\n",
       "      <th>living_to_total_area</th>\n",
       "      <th>kitchen_to_total_area</th>\n",
       "    </tr>\n",
       "  </thead>\n",
       "  <tbody>\n",
       "    <tr>\n",
       "      <th>total_images</th>\n",
       "      <td>1.000000</td>\n",
       "      <td>0.163267</td>\n",
       "      <td>0.102406</td>\n",
       "      <td>0.079269</td>\n",
       "      <td>0.017044</td>\n",
       "      <td>0.015396</td>\n",
       "      <td>0.082302</td>\n",
       "      <td>0.031502</td>\n",
       "      <td>0.013069</td>\n",
       "      <td>-0.028289</td>\n",
       "      <td>...</td>\n",
       "      <td>-0.002641</td>\n",
       "      <td>-0.000545</td>\n",
       "      <td>-0.001612</td>\n",
       "      <td>-0.029141</td>\n",
       "      <td>0.121972</td>\n",
       "      <td>0.007354</td>\n",
       "      <td>0.144636</td>\n",
       "      <td>-0.009847</td>\n",
       "      <td>-0.029560</td>\n",
       "      <td>-0.051673</td>\n",
       "    </tr>\n",
       "    <tr>\n",
       "      <th>last_price</th>\n",
       "      <td>0.163267</td>\n",
       "      <td>1.000000</td>\n",
       "      <td>0.706710</td>\n",
       "      <td>0.452603</td>\n",
       "      <td>0.365683</td>\n",
       "      <td>0.187636</td>\n",
       "      <td>0.560678</td>\n",
       "      <td>0.131247</td>\n",
       "      <td>0.022096</td>\n",
       "      <td>-0.069398</td>\n",
       "      <td>...</td>\n",
       "      <td>0.043356</td>\n",
       "      <td>0.289498</td>\n",
       "      <td>-0.005462</td>\n",
       "      <td>0.045399</td>\n",
       "      <td>0.613641</td>\n",
       "      <td>0.002514</td>\n",
       "      <td>0.012947</td>\n",
       "      <td>-0.011511</td>\n",
       "      <td>-0.076078</td>\n",
       "      <td>-0.185609</td>\n",
       "    </tr>\n",
       "    <tr>\n",
       "      <th>total_area</th>\n",
       "      <td>0.102406</td>\n",
       "      <td>0.706710</td>\n",
       "      <td>1.000000</td>\n",
       "      <td>0.803911</td>\n",
       "      <td>0.283422</td>\n",
       "      <td>-0.041870</td>\n",
       "      <td>0.877299</td>\n",
       "      <td>-0.041679</td>\n",
       "      <td>0.016153</td>\n",
       "      <td>-0.114503</td>\n",
       "      <td>...</td>\n",
       "      <td>0.005913</td>\n",
       "      <td>0.122661</td>\n",
       "      <td>-0.007815</td>\n",
       "      <td>0.089356</td>\n",
       "      <td>-0.078895</td>\n",
       "      <td>0.007153</td>\n",
       "      <td>-0.055066</td>\n",
       "      <td>-0.007375</td>\n",
       "      <td>0.061822</td>\n",
       "      <td>-0.481936</td>\n",
       "    </tr>\n",
       "    <tr>\n",
       "      <th>rooms</th>\n",
       "      <td>0.079269</td>\n",
       "      <td>0.452603</td>\n",
       "      <td>0.803911</td>\n",
       "      <td>1.000000</td>\n",
       "      <td>0.104130</td>\n",
       "      <td>-0.238593</td>\n",
       "      <td>0.854505</td>\n",
       "      <td>-0.180624</td>\n",
       "      <td>-0.008691</td>\n",
       "      <td>-0.169249</td>\n",
       "      <td>...</td>\n",
       "      <td>-0.019784</td>\n",
       "      <td>0.047020</td>\n",
       "      <td>0.000081</td>\n",
       "      <td>0.067746</td>\n",
       "      <td>-0.226727</td>\n",
       "      <td>-0.003042</td>\n",
       "      <td>-0.032319</td>\n",
       "      <td>-0.000992</td>\n",
       "      <td>0.337078</td>\n",
       "      <td>-0.671584</td>\n",
       "    </tr>\n",
       "    <tr>\n",
       "      <th>ceiling_height</th>\n",
       "      <td>0.017044</td>\n",
       "      <td>0.365683</td>\n",
       "      <td>0.283422</td>\n",
       "      <td>0.104130</td>\n",
       "      <td>1.000000</td>\n",
       "      <td>-0.029723</td>\n",
       "      <td>0.223275</td>\n",
       "      <td>-0.021861</td>\n",
       "      <td>0.056563</td>\n",
       "      <td>0.016100</td>\n",
       "      <td>...</td>\n",
       "      <td>-0.034611</td>\n",
       "      <td>0.184814</td>\n",
       "      <td>-0.046417</td>\n",
       "      <td>0.050712</td>\n",
       "      <td>0.206003</td>\n",
       "      <td>-0.004653</td>\n",
       "      <td>-0.038785</td>\n",
       "      <td>-0.012415</td>\n",
       "      <td>-0.047924</td>\n",
       "      <td>0.039261</td>\n",
       "    </tr>\n",
       "    <tr>\n",
       "      <th>floors_total</th>\n",
       "      <td>0.015396</td>\n",
       "      <td>0.187636</td>\n",
       "      <td>-0.041870</td>\n",
       "      <td>-0.238593</td>\n",
       "      <td>-0.029723</td>\n",
       "      <td>1.000000</td>\n",
       "      <td>-0.181416</td>\n",
       "      <td>0.672920</td>\n",
       "      <td>-0.019379</td>\n",
       "      <td>0.071937</td>\n",
       "      <td>...</td>\n",
       "      <td>0.045362</td>\n",
       "      <td>-0.028437</td>\n",
       "      <td>0.022941</td>\n",
       "      <td>-0.038991</td>\n",
       "      <td>0.340566</td>\n",
       "      <td>0.017144</td>\n",
       "      <td>0.000246</td>\n",
       "      <td>0.013344</td>\n",
       "      <td>-0.293740</td>\n",
       "      <td>0.361255</td>\n",
       "    </tr>\n",
       "    <tr>\n",
       "      <th>living_area</th>\n",
       "      <td>0.082302</td>\n",
       "      <td>0.560678</td>\n",
       "      <td>0.877299</td>\n",
       "      <td>0.854505</td>\n",
       "      <td>0.223275</td>\n",
       "      <td>-0.181416</td>\n",
       "      <td>1.000000</td>\n",
       "      <td>-0.140150</td>\n",
       "      <td>0.006496</td>\n",
       "      <td>-0.072436</td>\n",
       "      <td>...</td>\n",
       "      <td>-0.017779</td>\n",
       "      <td>0.089477</td>\n",
       "      <td>-0.003528</td>\n",
       "      <td>0.077858</td>\n",
       "      <td>-0.154313</td>\n",
       "      <td>-0.002136</td>\n",
       "      <td>-0.045863</td>\n",
       "      <td>-0.001252</td>\n",
       "      <td>0.490343</td>\n",
       "      <td>-0.604971</td>\n",
       "    </tr>\n",
       "    <tr>\n",
       "      <th>floor</th>\n",
       "      <td>0.031502</td>\n",
       "      <td>0.131247</td>\n",
       "      <td>-0.041679</td>\n",
       "      <td>-0.180624</td>\n",
       "      <td>-0.021861</td>\n",
       "      <td>0.672920</td>\n",
       "      <td>-0.140150</td>\n",
       "      <td>1.000000</td>\n",
       "      <td>-0.011861</td>\n",
       "      <td>0.037762</td>\n",
       "      <td>...</td>\n",
       "      <td>0.035249</td>\n",
       "      <td>-0.019839</td>\n",
       "      <td>0.019300</td>\n",
       "      <td>-0.031216</td>\n",
       "      <td>0.250761</td>\n",
       "      <td>0.020821</td>\n",
       "      <td>0.000337</td>\n",
       "      <td>0.012241</td>\n",
       "      <td>-0.213922</td>\n",
       "      <td>0.255593</td>\n",
       "    </tr>\n",
       "    <tr>\n",
       "      <th>is_apartment</th>\n",
       "      <td>0.013069</td>\n",
       "      <td>0.022096</td>\n",
       "      <td>0.016153</td>\n",
       "      <td>-0.008691</td>\n",
       "      <td>0.056563</td>\n",
       "      <td>-0.019379</td>\n",
       "      <td>0.006496</td>\n",
       "      <td>-0.011861</td>\n",
       "      <td>1.000000</td>\n",
       "      <td>-0.003267</td>\n",
       "      <td>...</td>\n",
       "      <td>-0.012154</td>\n",
       "      <td>0.007986</td>\n",
       "      <td>0.014814</td>\n",
       "      <td>-0.000850</td>\n",
       "      <td>0.014822</td>\n",
       "      <td>-0.011754</td>\n",
       "      <td>0.021735</td>\n",
       "      <td>-0.010706</td>\n",
       "      <td>-0.003368</td>\n",
       "      <td>0.010461</td>\n",
       "    </tr>\n",
       "    <tr>\n",
       "      <th>studio</th>\n",
       "      <td>-0.028289</td>\n",
       "      <td>-0.069398</td>\n",
       "      <td>-0.114503</td>\n",
       "      <td>-0.169249</td>\n",
       "      <td>0.016100</td>\n",
       "      <td>0.071937</td>\n",
       "      <td>-0.072436</td>\n",
       "      <td>0.037762</td>\n",
       "      <td>-0.003267</td>\n",
       "      <td>1.000000</td>\n",
       "      <td>...</td>\n",
       "      <td>0.002383</td>\n",
       "      <td>-0.005686</td>\n",
       "      <td>-0.001185</td>\n",
       "      <td>-0.024418</td>\n",
       "      <td>0.047813</td>\n",
       "      <td>0.000535</td>\n",
       "      <td>0.011513</td>\n",
       "      <td>-0.002618</td>\n",
       "      <td>0.098802</td>\n",
       "      <td>0.174948</td>\n",
       "    </tr>\n",
       "    <tr>\n",
       "      <th>open_plan</th>\n",
       "      <td>-0.023319</td>\n",
       "      <td>-0.044143</td>\n",
       "      <td>-0.067449</td>\n",
       "      <td>-0.103001</td>\n",
       "      <td>0.001742</td>\n",
       "      <td>0.052378</td>\n",
       "      <td>-0.040307</td>\n",
       "      <td>0.036712</td>\n",
       "      <td>-0.002174</td>\n",
       "      <td>-0.004553</td>\n",
       "      <td>...</td>\n",
       "      <td>0.003272</td>\n",
       "      <td>-0.002977</td>\n",
       "      <td>-0.002925</td>\n",
       "      <td>-0.019833</td>\n",
       "      <td>0.019407</td>\n",
       "      <td>0.027714</td>\n",
       "      <td>-0.027185</td>\n",
       "      <td>0.011030</td>\n",
       "      <td>0.063272</td>\n",
       "      <td>0.100802</td>\n",
       "    </tr>\n",
       "    <tr>\n",
       "      <th>kitchen_area</th>\n",
       "      <td>0.060937</td>\n",
       "      <td>0.463862</td>\n",
       "      <td>0.415038</td>\n",
       "      <td>0.051730</td>\n",
       "      <td>0.268017</td>\n",
       "      <td>0.298859</td>\n",
       "      <td>0.150667</td>\n",
       "      <td>0.202970</td>\n",
       "      <td>0.025079</td>\n",
       "      <td>-0.010578</td>\n",
       "      <td>...</td>\n",
       "      <td>0.028224</td>\n",
       "      <td>0.100103</td>\n",
       "      <td>-0.026318</td>\n",
       "      <td>0.041355</td>\n",
       "      <td>0.206108</td>\n",
       "      <td>0.019763</td>\n",
       "      <td>-0.029759</td>\n",
       "      <td>-0.008009</td>\n",
       "      <td>-0.372392</td>\n",
       "      <td>0.529098</td>\n",
       "    </tr>\n",
       "    <tr>\n",
       "      <th>balcony</th>\n",
       "      <td>0.044846</td>\n",
       "      <td>0.064001</td>\n",
       "      <td>0.052958</td>\n",
       "      <td>-0.000479</td>\n",
       "      <td>-0.040242</td>\n",
       "      <td>0.166053</td>\n",
       "      <td>0.014147</td>\n",
       "      <td>0.161534</td>\n",
       "      <td>0.027304</td>\n",
       "      <td>0.030402</td>\n",
       "      <td>...</td>\n",
       "      <td>0.015467</td>\n",
       "      <td>-0.044247</td>\n",
       "      <td>0.010730</td>\n",
       "      <td>-0.018473</td>\n",
       "      <td>0.038568</td>\n",
       "      <td>0.004412</td>\n",
       "      <td>0.000137</td>\n",
       "      <td>-0.003772</td>\n",
       "      <td>-0.076448</td>\n",
       "      <td>0.027917</td>\n",
       "    </tr>\n",
       "    <tr>\n",
       "      <th>airports_nearest</th>\n",
       "      <td>-0.001504</td>\n",
       "      <td>0.008523</td>\n",
       "      <td>-0.009677</td>\n",
       "      <td>-0.034785</td>\n",
       "      <td>-0.062583</td>\n",
       "      <td>0.097020</td>\n",
       "      <td>-0.036085</td>\n",
       "      <td>0.067044</td>\n",
       "      <td>0.023056</td>\n",
       "      <td>-0.019523</td>\n",
       "      <td>...</td>\n",
       "      <td>-0.064063</td>\n",
       "      <td>-0.016982</td>\n",
       "      <td>0.007665</td>\n",
       "      <td>-0.007179</td>\n",
       "      <td>0.021024</td>\n",
       "      <td>0.001947</td>\n",
       "      <td>0.001082</td>\n",
       "      <td>-0.003249</td>\n",
       "      <td>-0.061631</td>\n",
       "      <td>0.020545</td>\n",
       "    </tr>\n",
       "    <tr>\n",
       "      <th>cityCenters_nearest</th>\n",
       "      <td>-0.022597</td>\n",
       "      <td>-0.227452</td>\n",
       "      <td>-0.104510</td>\n",
       "      <td>-0.065292</td>\n",
       "      <td>-0.214413</td>\n",
       "      <td>-0.000188</td>\n",
       "      <td>-0.099832</td>\n",
       "      <td>0.005325</td>\n",
       "      <td>0.016897</td>\n",
       "      <td>-0.012646</td>\n",
       "      <td>...</td>\n",
       "      <td>-0.044969</td>\n",
       "      <td>0.026909</td>\n",
       "      <td>-0.006080</td>\n",
       "      <td>-0.014834</td>\n",
       "      <td>-0.203229</td>\n",
       "      <td>-0.010444</td>\n",
       "      <td>0.005062</td>\n",
       "      <td>0.003740</td>\n",
       "      <td>-0.023536</td>\n",
       "      <td>-0.010763</td>\n",
       "    </tr>\n",
       "    <tr>\n",
       "      <th>parks_around3000</th>\n",
       "      <td>0.016624</td>\n",
       "      <td>0.257755</td>\n",
       "      <td>0.094875</td>\n",
       "      <td>0.072284</td>\n",
       "      <td>0.195615</td>\n",
       "      <td>-0.141811</td>\n",
       "      <td>0.104856</td>\n",
       "      <td>-0.098221</td>\n",
       "      <td>-0.002982</td>\n",
       "      <td>-0.030216</td>\n",
       "      <td>...</td>\n",
       "      <td>-0.047303</td>\n",
       "      <td>0.373515</td>\n",
       "      <td>-0.074642</td>\n",
       "      <td>0.025301</td>\n",
       "      <td>0.265643</td>\n",
       "      <td>-0.002468</td>\n",
       "      <td>-0.031810</td>\n",
       "      <td>-0.007724</td>\n",
       "      <td>0.040146</td>\n",
       "      <td>-0.079132</td>\n",
       "    </tr>\n",
       "    <tr>\n",
       "      <th>parks_nearest</th>\n",
       "      <td>-0.002641</td>\n",
       "      <td>0.043356</td>\n",
       "      <td>0.005913</td>\n",
       "      <td>-0.019784</td>\n",
       "      <td>-0.034611</td>\n",
       "      <td>0.045362</td>\n",
       "      <td>-0.017779</td>\n",
       "      <td>0.035249</td>\n",
       "      <td>-0.012154</td>\n",
       "      <td>0.002383</td>\n",
       "      <td>...</td>\n",
       "      <td>1.000000</td>\n",
       "      <td>0.059934</td>\n",
       "      <td>0.014357</td>\n",
       "      <td>0.008278</td>\n",
       "      <td>0.054021</td>\n",
       "      <td>0.001804</td>\n",
       "      <td>-0.011396</td>\n",
       "      <td>-0.001397</td>\n",
       "      <td>-0.039405</td>\n",
       "      <td>0.020594</td>\n",
       "    </tr>\n",
       "    <tr>\n",
       "      <th>ponds_around3000</th>\n",
       "      <td>-0.000545</td>\n",
       "      <td>0.289498</td>\n",
       "      <td>0.122661</td>\n",
       "      <td>0.047020</td>\n",
       "      <td>0.184814</td>\n",
       "      <td>-0.028437</td>\n",
       "      <td>0.089477</td>\n",
       "      <td>-0.019839</td>\n",
       "      <td>0.007986</td>\n",
       "      <td>-0.005686</td>\n",
       "      <td>...</td>\n",
       "      <td>0.059934</td>\n",
       "      <td>1.000000</td>\n",
       "      <td>-0.089013</td>\n",
       "      <td>0.030166</td>\n",
       "      <td>0.278922</td>\n",
       "      <td>-0.003361</td>\n",
       "      <td>-0.031956</td>\n",
       "      <td>0.001161</td>\n",
       "      <td>-0.029030</td>\n",
       "      <td>-0.009072</td>\n",
       "    </tr>\n",
       "    <tr>\n",
       "      <th>ponds_nearest</th>\n",
       "      <td>-0.001612</td>\n",
       "      <td>-0.005462</td>\n",
       "      <td>-0.007815</td>\n",
       "      <td>0.000081</td>\n",
       "      <td>-0.046417</td>\n",
       "      <td>0.022941</td>\n",
       "      <td>-0.003528</td>\n",
       "      <td>0.019300</td>\n",
       "      <td>0.014814</td>\n",
       "      <td>-0.001185</td>\n",
       "      <td>...</td>\n",
       "      <td>0.014357</td>\n",
       "      <td>-0.089013</td>\n",
       "      <td>1.000000</td>\n",
       "      <td>-0.030313</td>\n",
       "      <td>0.005984</td>\n",
       "      <td>0.004495</td>\n",
       "      <td>0.009425</td>\n",
       "      <td>-0.004430</td>\n",
       "      <td>0.004391</td>\n",
       "      <td>-0.018730</td>\n",
       "    </tr>\n",
       "    <tr>\n",
       "      <th>days_exposition</th>\n",
       "      <td>-0.029141</td>\n",
       "      <td>0.045399</td>\n",
       "      <td>0.089356</td>\n",
       "      <td>0.067746</td>\n",
       "      <td>0.050712</td>\n",
       "      <td>-0.038991</td>\n",
       "      <td>0.077858</td>\n",
       "      <td>-0.031216</td>\n",
       "      <td>-0.000850</td>\n",
       "      <td>-0.024418</td>\n",
       "      <td>...</td>\n",
       "      <td>0.008278</td>\n",
       "      <td>0.030166</td>\n",
       "      <td>-0.030313</td>\n",
       "      <td>1.000000</td>\n",
       "      <td>-0.036600</td>\n",
       "      <td>-0.015681</td>\n",
       "      <td>-0.507107</td>\n",
       "      <td>-0.011797</td>\n",
       "      <td>-0.018757</td>\n",
       "      <td>-0.036192</td>\n",
       "    </tr>\n",
       "    <tr>\n",
       "      <th>price_per_square_meter</th>\n",
       "      <td>0.121972</td>\n",
       "      <td>0.613641</td>\n",
       "      <td>-0.078895</td>\n",
       "      <td>-0.226727</td>\n",
       "      <td>0.206003</td>\n",
       "      <td>0.340566</td>\n",
       "      <td>-0.154313</td>\n",
       "      <td>0.250761</td>\n",
       "      <td>0.014822</td>\n",
       "      <td>0.047813</td>\n",
       "      <td>...</td>\n",
       "      <td>0.054021</td>\n",
       "      <td>0.278922</td>\n",
       "      <td>0.005984</td>\n",
       "      <td>-0.036600</td>\n",
       "      <td>1.000000</td>\n",
       "      <td>-0.005486</td>\n",
       "      <td>0.082089</td>\n",
       "      <td>-0.008351</td>\n",
       "      <td>-0.179560</td>\n",
       "      <td>0.285729</td>\n",
       "    </tr>\n",
       "    <tr>\n",
       "      <th>month</th>\n",
       "      <td>0.007354</td>\n",
       "      <td>0.002514</td>\n",
       "      <td>0.007153</td>\n",
       "      <td>-0.003042</td>\n",
       "      <td>-0.004653</td>\n",
       "      <td>0.017144</td>\n",
       "      <td>-0.002136</td>\n",
       "      <td>0.020821</td>\n",
       "      <td>-0.011754</td>\n",
       "      <td>0.000535</td>\n",
       "      <td>...</td>\n",
       "      <td>0.001804</td>\n",
       "      <td>-0.003361</td>\n",
       "      <td>0.004495</td>\n",
       "      <td>-0.015681</td>\n",
       "      <td>-0.005486</td>\n",
       "      <td>1.000000</td>\n",
       "      <td>-0.281055</td>\n",
       "      <td>0.010598</td>\n",
       "      <td>-0.019758</td>\n",
       "      <td>0.013945</td>\n",
       "    </tr>\n",
       "    <tr>\n",
       "      <th>year</th>\n",
       "      <td>0.144636</td>\n",
       "      <td>0.012947</td>\n",
       "      <td>-0.055066</td>\n",
       "      <td>-0.032319</td>\n",
       "      <td>-0.038785</td>\n",
       "      <td>0.000246</td>\n",
       "      <td>-0.045863</td>\n",
       "      <td>0.000337</td>\n",
       "      <td>0.021735</td>\n",
       "      <td>0.011513</td>\n",
       "      <td>...</td>\n",
       "      <td>-0.011396</td>\n",
       "      <td>-0.031956</td>\n",
       "      <td>0.009425</td>\n",
       "      <td>-0.507107</td>\n",
       "      <td>0.082089</td>\n",
       "      <td>-0.281055</td>\n",
       "      <td>1.000000</td>\n",
       "      <td>-0.008182</td>\n",
       "      <td>0.015825</td>\n",
       "      <td>0.014867</td>\n",
       "    </tr>\n",
       "    <tr>\n",
       "      <th>weekday</th>\n",
       "      <td>-0.009847</td>\n",
       "      <td>-0.011511</td>\n",
       "      <td>-0.007375</td>\n",
       "      <td>-0.000992</td>\n",
       "      <td>-0.012415</td>\n",
       "      <td>0.013344</td>\n",
       "      <td>-0.001252</td>\n",
       "      <td>0.012241</td>\n",
       "      <td>-0.010706</td>\n",
       "      <td>-0.002618</td>\n",
       "      <td>...</td>\n",
       "      <td>-0.001397</td>\n",
       "      <td>0.001161</td>\n",
       "      <td>-0.004430</td>\n",
       "      <td>-0.011797</td>\n",
       "      <td>-0.008351</td>\n",
       "      <td>0.010598</td>\n",
       "      <td>-0.008182</td>\n",
       "      <td>1.000000</td>\n",
       "      <td>0.012557</td>\n",
       "      <td>-0.001320</td>\n",
       "    </tr>\n",
       "    <tr>\n",
       "      <th>living_to_total_area</th>\n",
       "      <td>-0.029560</td>\n",
       "      <td>-0.076078</td>\n",
       "      <td>0.061822</td>\n",
       "      <td>0.337078</td>\n",
       "      <td>-0.047924</td>\n",
       "      <td>-0.293740</td>\n",
       "      <td>0.490343</td>\n",
       "      <td>-0.213922</td>\n",
       "      <td>-0.003368</td>\n",
       "      <td>0.098802</td>\n",
       "      <td>...</td>\n",
       "      <td>-0.039405</td>\n",
       "      <td>-0.029030</td>\n",
       "      <td>0.004391</td>\n",
       "      <td>-0.018757</td>\n",
       "      <td>-0.179560</td>\n",
       "      <td>-0.019758</td>\n",
       "      <td>0.015825</td>\n",
       "      <td>0.012557</td>\n",
       "      <td>1.000000</td>\n",
       "      <td>-0.362093</td>\n",
       "    </tr>\n",
       "    <tr>\n",
       "      <th>kitchen_to_total_area</th>\n",
       "      <td>-0.051673</td>\n",
       "      <td>-0.185609</td>\n",
       "      <td>-0.481936</td>\n",
       "      <td>-0.671584</td>\n",
       "      <td>0.039261</td>\n",
       "      <td>0.361255</td>\n",
       "      <td>-0.604971</td>\n",
       "      <td>0.255593</td>\n",
       "      <td>0.010461</td>\n",
       "      <td>0.174948</td>\n",
       "      <td>...</td>\n",
       "      <td>0.020594</td>\n",
       "      <td>-0.009072</td>\n",
       "      <td>-0.018730</td>\n",
       "      <td>-0.036192</td>\n",
       "      <td>0.285729</td>\n",
       "      <td>0.013945</td>\n",
       "      <td>0.014867</td>\n",
       "      <td>-0.001320</td>\n",
       "      <td>-0.362093</td>\n",
       "      <td>1.000000</td>\n",
       "    </tr>\n",
       "  </tbody>\n",
       "</table>\n",
       "<p>26 rows × 26 columns</p>\n",
       "</div>"
      ],
      "text/plain": [
       "                        total_images  last_price  total_area     rooms  \\\n",
       "total_images                1.000000    0.163267    0.102406  0.079269   \n",
       "last_price                  0.163267    1.000000    0.706710  0.452603   \n",
       "total_area                  0.102406    0.706710    1.000000  0.803911   \n",
       "rooms                       0.079269    0.452603    0.803911  1.000000   \n",
       "ceiling_height              0.017044    0.365683    0.283422  0.104130   \n",
       "floors_total                0.015396    0.187636   -0.041870 -0.238593   \n",
       "living_area                 0.082302    0.560678    0.877299  0.854505   \n",
       "floor                       0.031502    0.131247   -0.041679 -0.180624   \n",
       "is_apartment                0.013069    0.022096    0.016153 -0.008691   \n",
       "studio                     -0.028289   -0.069398   -0.114503 -0.169249   \n",
       "open_plan                  -0.023319   -0.044143   -0.067449 -0.103001   \n",
       "kitchen_area                0.060937    0.463862    0.415038  0.051730   \n",
       "balcony                     0.044846    0.064001    0.052958 -0.000479   \n",
       "airports_nearest           -0.001504    0.008523   -0.009677 -0.034785   \n",
       "cityCenters_nearest        -0.022597   -0.227452   -0.104510 -0.065292   \n",
       "parks_around3000            0.016624    0.257755    0.094875  0.072284   \n",
       "parks_nearest              -0.002641    0.043356    0.005913 -0.019784   \n",
       "ponds_around3000           -0.000545    0.289498    0.122661  0.047020   \n",
       "ponds_nearest              -0.001612   -0.005462   -0.007815  0.000081   \n",
       "days_exposition            -0.029141    0.045399    0.089356  0.067746   \n",
       "price_per_square_meter      0.121972    0.613641   -0.078895 -0.226727   \n",
       "month                       0.007354    0.002514    0.007153 -0.003042   \n",
       "year                        0.144636    0.012947   -0.055066 -0.032319   \n",
       "weekday                    -0.009847   -0.011511   -0.007375 -0.000992   \n",
       "living_to_total_area       -0.029560   -0.076078    0.061822  0.337078   \n",
       "kitchen_to_total_area      -0.051673   -0.185609   -0.481936 -0.671584   \n",
       "\n",
       "                        ceiling_height  floors_total  living_area     floor  \\\n",
       "total_images                  0.017044      0.015396     0.082302  0.031502   \n",
       "last_price                    0.365683      0.187636     0.560678  0.131247   \n",
       "total_area                    0.283422     -0.041870     0.877299 -0.041679   \n",
       "rooms                         0.104130     -0.238593     0.854505 -0.180624   \n",
       "ceiling_height                1.000000     -0.029723     0.223275 -0.021861   \n",
       "floors_total                 -0.029723      1.000000    -0.181416  0.672920   \n",
       "living_area                   0.223275     -0.181416     1.000000 -0.140150   \n",
       "floor                        -0.021861      0.672920    -0.140150  1.000000   \n",
       "is_apartment                  0.056563     -0.019379     0.006496 -0.011861   \n",
       "studio                        0.016100      0.071937    -0.072436  0.037762   \n",
       "open_plan                     0.001742      0.052378    -0.040307  0.036712   \n",
       "kitchen_area                  0.268017      0.298859     0.150667  0.202970   \n",
       "balcony                      -0.040242      0.166053     0.014147  0.161534   \n",
       "airports_nearest             -0.062583      0.097020    -0.036085  0.067044   \n",
       "cityCenters_nearest          -0.214413     -0.000188    -0.099832  0.005325   \n",
       "parks_around3000              0.195615     -0.141811     0.104856 -0.098221   \n",
       "parks_nearest                -0.034611      0.045362    -0.017779  0.035249   \n",
       "ponds_around3000              0.184814     -0.028437     0.089477 -0.019839   \n",
       "ponds_nearest                -0.046417      0.022941    -0.003528  0.019300   \n",
       "days_exposition               0.050712     -0.038991     0.077858 -0.031216   \n",
       "price_per_square_meter        0.206003      0.340566    -0.154313  0.250761   \n",
       "month                        -0.004653      0.017144    -0.002136  0.020821   \n",
       "year                         -0.038785      0.000246    -0.045863  0.000337   \n",
       "weekday                      -0.012415      0.013344    -0.001252  0.012241   \n",
       "living_to_total_area         -0.047924     -0.293740     0.490343 -0.213922   \n",
       "kitchen_to_total_area         0.039261      0.361255    -0.604971  0.255593   \n",
       "\n",
       "                        is_apartment    studio  ...  parks_nearest  \\\n",
       "total_images                0.013069 -0.028289  ...      -0.002641   \n",
       "last_price                  0.022096 -0.069398  ...       0.043356   \n",
       "total_area                  0.016153 -0.114503  ...       0.005913   \n",
       "rooms                      -0.008691 -0.169249  ...      -0.019784   \n",
       "ceiling_height              0.056563  0.016100  ...      -0.034611   \n",
       "floors_total               -0.019379  0.071937  ...       0.045362   \n",
       "living_area                 0.006496 -0.072436  ...      -0.017779   \n",
       "floor                      -0.011861  0.037762  ...       0.035249   \n",
       "is_apartment                1.000000 -0.003267  ...      -0.012154   \n",
       "studio                     -0.003267  1.000000  ...       0.002383   \n",
       "open_plan                  -0.002174 -0.004553  ...       0.003272   \n",
       "kitchen_area                0.025079 -0.010578  ...       0.028224   \n",
       "balcony                     0.027304  0.030402  ...       0.015467   \n",
       "airports_nearest            0.023056 -0.019523  ...      -0.064063   \n",
       "cityCenters_nearest         0.016897 -0.012646  ...      -0.044969   \n",
       "parks_around3000           -0.002982 -0.030216  ...      -0.047303   \n",
       "parks_nearest              -0.012154  0.002383  ...       1.000000   \n",
       "ponds_around3000            0.007986 -0.005686  ...       0.059934   \n",
       "ponds_nearest               0.014814 -0.001185  ...       0.014357   \n",
       "days_exposition            -0.000850 -0.024418  ...       0.008278   \n",
       "price_per_square_meter      0.014822  0.047813  ...       0.054021   \n",
       "month                      -0.011754  0.000535  ...       0.001804   \n",
       "year                        0.021735  0.011513  ...      -0.011396   \n",
       "weekday                    -0.010706 -0.002618  ...      -0.001397   \n",
       "living_to_total_area       -0.003368  0.098802  ...      -0.039405   \n",
       "kitchen_to_total_area       0.010461  0.174948  ...       0.020594   \n",
       "\n",
       "                        ponds_around3000  ponds_nearest  days_exposition  \\\n",
       "total_images                   -0.000545      -0.001612        -0.029141   \n",
       "last_price                      0.289498      -0.005462         0.045399   \n",
       "total_area                      0.122661      -0.007815         0.089356   \n",
       "rooms                           0.047020       0.000081         0.067746   \n",
       "ceiling_height                  0.184814      -0.046417         0.050712   \n",
       "floors_total                   -0.028437       0.022941        -0.038991   \n",
       "living_area                     0.089477      -0.003528         0.077858   \n",
       "floor                          -0.019839       0.019300        -0.031216   \n",
       "is_apartment                    0.007986       0.014814        -0.000850   \n",
       "studio                         -0.005686      -0.001185        -0.024418   \n",
       "open_plan                      -0.002977      -0.002925        -0.019833   \n",
       "kitchen_area                    0.100103      -0.026318         0.041355   \n",
       "balcony                        -0.044247       0.010730        -0.018473   \n",
       "airports_nearest               -0.016982       0.007665        -0.007179   \n",
       "cityCenters_nearest             0.026909      -0.006080        -0.014834   \n",
       "parks_around3000                0.373515      -0.074642         0.025301   \n",
       "parks_nearest                   0.059934       0.014357         0.008278   \n",
       "ponds_around3000                1.000000      -0.089013         0.030166   \n",
       "ponds_nearest                  -0.089013       1.000000        -0.030313   \n",
       "days_exposition                 0.030166      -0.030313         1.000000   \n",
       "price_per_square_meter          0.278922       0.005984        -0.036600   \n",
       "month                          -0.003361       0.004495        -0.015681   \n",
       "year                           -0.031956       0.009425        -0.507107   \n",
       "weekday                         0.001161      -0.004430        -0.011797   \n",
       "living_to_total_area           -0.029030       0.004391        -0.018757   \n",
       "kitchen_to_total_area          -0.009072      -0.018730        -0.036192   \n",
       "\n",
       "                        price_per_square_meter     month      year   weekday  \\\n",
       "total_images                          0.121972  0.007354  0.144636 -0.009847   \n",
       "last_price                            0.613641  0.002514  0.012947 -0.011511   \n",
       "total_area                           -0.078895  0.007153 -0.055066 -0.007375   \n",
       "rooms                                -0.226727 -0.003042 -0.032319 -0.000992   \n",
       "ceiling_height                        0.206003 -0.004653 -0.038785 -0.012415   \n",
       "floors_total                          0.340566  0.017144  0.000246  0.013344   \n",
       "living_area                          -0.154313 -0.002136 -0.045863 -0.001252   \n",
       "floor                                 0.250761  0.020821  0.000337  0.012241   \n",
       "is_apartment                          0.014822 -0.011754  0.021735 -0.010706   \n",
       "studio                                0.047813  0.000535  0.011513 -0.002618   \n",
       "open_plan                             0.019407  0.027714 -0.027185  0.011030   \n",
       "kitchen_area                          0.206108  0.019763 -0.029759 -0.008009   \n",
       "balcony                               0.038568  0.004412  0.000137 -0.003772   \n",
       "airports_nearest                      0.021024  0.001947  0.001082 -0.003249   \n",
       "cityCenters_nearest                  -0.203229 -0.010444  0.005062  0.003740   \n",
       "parks_around3000                      0.265643 -0.002468 -0.031810 -0.007724   \n",
       "parks_nearest                         0.054021  0.001804 -0.011396 -0.001397   \n",
       "ponds_around3000                      0.278922 -0.003361 -0.031956  0.001161   \n",
       "ponds_nearest                         0.005984  0.004495  0.009425 -0.004430   \n",
       "days_exposition                      -0.036600 -0.015681 -0.507107 -0.011797   \n",
       "price_per_square_meter                1.000000 -0.005486  0.082089 -0.008351   \n",
       "month                                -0.005486  1.000000 -0.281055  0.010598   \n",
       "year                                  0.082089 -0.281055  1.000000 -0.008182   \n",
       "weekday                              -0.008351  0.010598 -0.008182  1.000000   \n",
       "living_to_total_area                 -0.179560 -0.019758  0.015825  0.012557   \n",
       "kitchen_to_total_area                 0.285729  0.013945  0.014867 -0.001320   \n",
       "\n",
       "                        living_to_total_area  kitchen_to_total_area  \n",
       "total_images                       -0.029560              -0.051673  \n",
       "last_price                         -0.076078              -0.185609  \n",
       "total_area                          0.061822              -0.481936  \n",
       "rooms                               0.337078              -0.671584  \n",
       "ceiling_height                     -0.047924               0.039261  \n",
       "floors_total                       -0.293740               0.361255  \n",
       "living_area                         0.490343              -0.604971  \n",
       "floor                              -0.213922               0.255593  \n",
       "is_apartment                       -0.003368               0.010461  \n",
       "studio                              0.098802               0.174948  \n",
       "open_plan                           0.063272               0.100802  \n",
       "kitchen_area                       -0.372392               0.529098  \n",
       "balcony                            -0.076448               0.027917  \n",
       "airports_nearest                   -0.061631               0.020545  \n",
       "cityCenters_nearest                -0.023536              -0.010763  \n",
       "parks_around3000                    0.040146              -0.079132  \n",
       "parks_nearest                      -0.039405               0.020594  \n",
       "ponds_around3000                   -0.029030              -0.009072  \n",
       "ponds_nearest                       0.004391              -0.018730  \n",
       "days_exposition                    -0.018757              -0.036192  \n",
       "price_per_square_meter             -0.179560               0.285729  \n",
       "month                              -0.019758               0.013945  \n",
       "year                                0.015825               0.014867  \n",
       "weekday                             0.012557              -0.001320  \n",
       "living_to_total_area                1.000000              -0.362093  \n",
       "kitchen_to_total_area              -0.362093               1.000000  \n",
       "\n",
       "[26 rows x 26 columns]"
      ]
     },
     "execution_count": 23,
     "metadata": {},
     "output_type": "execute_result"
    }
   ],
   "source": [
    "good_data.corr()"
   ]
  },
  {
   "cell_type": "markdown",
   "metadata": {},
   "source": [
    "Посмотрим внимательнее, как площадь квартиры влияет на ее стоимость. Очевидно, что чем больше площадь квартиры, тем дороже она должна стоить. Однако, график демонстрирует достаточно среднюю корреляцию. Таким образом, просто площадь квартиры не является решающим фактором при определении ее цены."
   ]
  },
  {
   "cell_type": "code",
   "execution_count": 24,
   "metadata": {},
   "outputs": [
    {
     "data": {
      "text/plain": [
       "<AxesSubplot:xlabel='total_area', ylabel='last_price'>"
      ]
     },
     "execution_count": 24,
     "metadata": {},
     "output_type": "execute_result"
    },
    {
     "data": {
      "image/png": "[encoded data removed]",
      "text/plain": [
       "<Figure size 432x288 with 1 Axes>"
      ]
     },
     "metadata": {
      "needs_background": "light"
     },
     "output_type": "display_data"
    }
   ],
   "source": [
    "good_data.plot(x='total_area', y='last_price', kind='scatter', alpha=0.3)"
   ]
  },
  {
   "cell_type": "markdown",
   "metadata": {},
   "source": [
    "Посмотрим внимательнее на зависимость цены от количества комнат в квартире. На графике видно, что минимальная цена увеличивается по мере увеличения количества комнат в квартире. Соответсвенно, можно говорить о некоторой положительной корреляции между этими двумя параметрами. Однако, максимальная цена у квартир с разным количеством комнат не отличается, значит, эта корреляция невысокая, и количество комнат не является решающим фактором в определении стоимости квартиры."
   ]
  },
  {
   "cell_type": "code",
   "execution_count": 25,
   "metadata": {},
   "outputs": [
    {
     "data": {
      "text/plain": [
       "<AxesSubplot:xlabel='rooms', ylabel='last_price'>"
      ]
     },
     "execution_count": 25,
     "metadata": {},
     "output_type": "execute_result"
    },
    {
     "data": {
      "image/png": "[encoded data removed]",
      "text/plain": [
       "<Figure size 432x288 with 1 Axes>"
      ]
     },
     "metadata": {
      "needs_background": "light"
     },
     "output_type": "display_data"
    }
   ],
   "source": [
    "good_data.plot(x='rooms', y='last_price', kind='scatter', alpha=0.3)"
   ]
  },
  {
   "cell_type": "markdown",
   "metadata": {},
   "source": [
    "Посмотрим внимательнее на зависимость цены от удаленности квартиры от центра города. Удивительно, но график показывает практически полное отсутствие зависимости между двумя данными параметрами."
   ]
  },
  {
   "cell_type": "code",
   "execution_count": 26,
   "metadata": {},
   "outputs": [
    {
     "data": {
      "text/plain": [
       "<AxesSubplot:xlabel='cityCenters_nearest', ylabel='last_price'>"
      ]
     },
     "execution_count": 26,
     "metadata": {},
     "output_type": "execute_result"
    },
    {
     "data": {
      "image/png": "[encoded data removed]",
      "text/plain": [
       "<Figure size 432x288 with 1 Axes>"
      ]
     },
     "metadata": {
      "needs_background": "light"
     },
     "output_type": "display_data"
    }
   ],
   "source": [
    "good_data.plot(x='cityCenters_nearest', y='last_price', kind='scatter', alpha=0.3)"
   ]
  },
  {
   "cell_type": "markdown",
   "metadata": {},
   "source": [
    "Посмотрим, как цена зависит от этажа, на котором находится квартира. Как видно по графику, то, что квартира находится на первом этаже, значительно уменьшает ее стоимость, как и то, что квартира находится на последнем этаже. Наиболее дорогие квартиры находятся не на первом, и не на последнем этаже."
   ]
  },
  {
   "cell_type": "code",
   "execution_count": 27,
   "metadata": {},
   "outputs": [
    {
     "data": {
      "text/plain": [
       "<AxesSubplot:xlabel='floor_category', ylabel='last_price'>"
      ]
     },
     "execution_count": 27,
     "metadata": {},
     "output_type": "execute_result"
    },
    {
     "data": {
      "image/png": "[encoded data removed]",
      "text/plain": [
       "<Figure size 432x288 with 1 Axes>"
      ]
     },
     "metadata": {
      "needs_background": "light"
     },
     "output_type": "display_data"
    }
   ],
   "source": [
    "sns.barplot(x='floor_category', y='last_price', data=good_data)"
   ]
  },
  {
   "cell_type": "markdown",
   "metadata": {},
   "source": [
    "Посмотрим, как цена зависит от дня недели, месяца и года размещения объявления. По графикам видно, что день недели и месяц размещения объявления о продаже никак не влияет на цену. При этом наблюдается резкое падения стоимости квартир после 2014 года."
   ]
  },
  {
   "cell_type": "code",
   "execution_count": 28,
   "metadata": {
    "scrolled": false
   },
   "outputs": [
    {
     "data": {
      "image/png": "[encoded data removed]",
      "text/plain": [
       "<Figure size 432x288 with 1 Axes>"
      ]
     },
     "metadata": {
      "needs_background": "light"
     },
     "output_type": "display_data"
    },
    {
     "data": {
      "image/png": "[encoded data removed]",
      "text/plain": [
       "<Figure size 432x288 with 1 Axes>"
      ]
     },
     "metadata": {
      "needs_background": "light"
     },
     "output_type": "display_data"
    },
    {
     "data": {
      "image/png": "[encoded data removed]",
      "text/plain": [
       "<Figure size 432x288 with 1 Axes>"
      ]
     },
     "metadata": {
      "needs_background": "light"
     },
     "output_type": "display_data"
    }
   ],
   "source": [
    "sns.barplot(x='weekday', y='last_price', data=good_data)\n",
    "plt.show()\n",
    "sns.barplot(x='month', y='last_price', data=good_data)\n",
    "plt.show()\n",
    "sns.barplot(x='year', y='last_price', data=good_data)\n",
    "plt.show()"
   ]
  },
  {
   "cell_type": "markdown",
   "metadata": {},
   "source": [
    "Выделим населенные пункты с наибольшим числом объявлений. Самые дорогие квартиры в Санкт-Петербурге, Пушкине, Кудрово и Парголово, а самые дешевые в Выборге и Всеволожске."
   ]
  },
  {
   "cell_type": "code",
   "execution_count": 29,
   "metadata": {
    "scrolled": true
   },
   "outputs": [
    {
     "data": {
      "text/plain": [
       "<AxesSubplot:xlabel='price_per_square_meter', ylabel='locality_name'>"
      ]
     },
     "execution_count": 29,
     "metadata": {},
     "output_type": "execute_result"
    },
    {
     "data": {
      "image/png": "[encoded data removed]",
      "text/plain": [
       "<Figure size 432x288 with 1 Axes>"
      ]
     },
     "metadata": {
      "needs_background": "light"
     },
     "output_type": "display_data"
    }
   ],
   "source": [
    "list_top10 = good_data.groupby('locality_name')['locality_name'].count().sort_values(ascending=False).head(10)\n",
    "spb_mean = good_data.query('locality_name == \"Санкт-Петербург\"')['price_per_square_meter'].mean()\n",
    "murino_mean = good_data.query('locality_name == \"посёлок Мурино\"')['price_per_square_meter'].mean()\n",
    "shushary_mean = good_data.query('locality_name == \"посёлок Шушары\"')['price_per_square_meter'].mean()\n",
    "vsevolozhsk_mean = good_data.query('locality_name == \"Всеволожск\"')['price_per_square_meter'].mean()\n",
    "kolpino_mean = good_data.query('locality_name == \"Колпино\"')['price_per_square_meter'].mean()\n",
    "pargolovo_mean = good_data.query('locality_name == \"посёлок Парголово\"')['price_per_square_meter'].mean()\n",
    "gatchina_mean = good_data.query('locality_name == \"Гатчина\"')['price_per_square_meter'].mean()\n",
    "pushkin_mean = good_data.query('locality_name == \"Пушкин\"')['price_per_square_meter'].mean()\n",
    "kudrovo_mean = good_data.query('locality_name == \"деревня Кудрово\"')['price_per_square_meter'].mean()\n",
    "vyborg_mean = good_data.query('locality_name == \"Выборг\"')['price_per_square_meter'].mean()\n",
    "locality_top10 = pd.DataFrame({'locality_name' : ['Санкт-Петербург', 'посёлок Мурино', 'посёлок Шушары', 'Всеволожск', 'Колпино', 'посёлок Парголово', 'Гатчина', 'Пушкин', 'деревня Кудрово', 'Выборг'], 'price_per_square_meter': [spb_mean, murino_mean, shushary_mean, vsevolozhsk_mean, kolpino_mean, pargolovo_mean, gatchina_mean, pushkin_mean, kudrovo_mean, vyborg_mean]})\n",
    "locality_top10 = locality_top10.sort_values('price_per_square_meter', ascending=False)\n",
    "sns.barplot(x='price_per_square_meter', y='locality_name', data=locality_top10)"
   ]
  },
  {
   "cell_type": "markdown",
   "metadata": {},
   "source": [
    "Определим, границы центра в Санкт-Петербурге. По графику видно, что цены становятся резко ниже при удалении квартиры на 5 и более км от центра. Соответсвенно, можно считать, что все квартиры, которые находятся в радиусе 5 км от центра, находятся в центре."
   ]
  },
  {
   "cell_type": "code",
   "execution_count": 30,
   "metadata": {},
   "outputs": [
    {
     "data": {
      "text/plain": [
       "<AxesSubplot:xlabel='cityCenters_nearest', ylabel='price_for_km'>"
      ]
     },
     "execution_count": 30,
     "metadata": {},
     "output_type": "execute_result"
    },
    {
     "data": {
      "image/png": "[encoded data removed]",
      "text/plain": [
       "<Figure size 432x288 with 1 Axes>"
      ]
     },
     "metadata": {
      "needs_background": "light"
     },
     "output_type": "display_data"
    }
   ],
   "source": [
    "data_spb = good_data.query('locality_name == \"Санкт-Петербург\"').copy()\n",
    "data_spb['cityCenters_nearest'] = (data_spb['cityCenters_nearest'] / 1000).round()\n",
    "data_spb['price_for_km'] = data_spb['last_price'] / data_spb['cityCenters_nearest']\n",
    "data_spb.plot(x='cityCenters_nearest', y='price_for_km', kind='scatter', alpha=0.3)"
   ]
  },
  {
   "cell_type": "markdown",
   "metadata": {},
   "source": [
    "Проанализируем квартиры в центре Санкт-Петербурга."
   ]
  },
  {
   "cell_type": "markdown",
   "metadata": {},
   "source": [
    "Площадь большинства квартир в центре находится в диапазоне от 40 до 60 квадратных метров. Цены на квартиры в центре выше, чем в других районах, мло квартир дешевле 5 млн, много квартир по 7 млн. Также график прерывается в верхней точке, из чего можно сделать вывод, что самые дорогие квартиры, которые пошли в выбросы, находятся в центре Санкт-Петербурга. В большинстве квартир 2 или 1 комнаты. Высота потолков в основном находится в диапазоне от 2,5 до 3 метров."
   ]
  },
  {
   "cell_type": "code",
   "execution_count": 31,
   "metadata": {},
   "outputs": [
    {
     "data": {
      "text/plain": [
       "count    1527.000000\n",
       "mean       70.054106\n",
       "std        24.503364\n",
       "min        12.000000\n",
       "25%        51.000000\n",
       "50%        68.000000\n",
       "75%        85.500000\n",
       "max       150.000000\n",
       "Name: total_area, dtype: float64"
      ]
     },
     "execution_count": 31,
     "metadata": {},
     "output_type": "execute_result"
    },
    {
     "data": {
      "image/png": "[encoded data removed]",
      "text/plain": [
       "<Figure size 432x288 with 1 Axes>"
      ]
     },
     "metadata": {
      "needs_background": "light"
     },
     "output_type": "display_data"
    }
   ],
   "source": [
    "spb_center = data_spb.query('cityCenters_nearest <= 5')\n",
    "spb_center['total_area'].hist(bins=50, range=(0, 150))\n",
    "spb_center['total_area'].describe()"
   ]
  },
  {
   "cell_type": "markdown",
   "metadata": {},
   "source": [
    "Посмотрим, какие параметры влияют на стоимость квартир в центре Санкт-Петербурга.  \n",
    "Площадь большинства квартир в центре находится в диапазоне от 40 до 60 квадратных метров. Цены на квартиры в центре выше, чем в других районах, мало квартир дешевле 5 млн, стоимость большинства квартир в центре - от 6 млн. Также график прерывается в верхней точке, из чего можно сделать вывод, что самые дорогие квартиры, которые пошли в выбросы, находятся в центре Санкт-Петербурга. В большинстве квартир 2 или 1 комнаты. Высота потолков в основном находится в диапазоне от 2,5 до 3 метров."
   ]
  },
  {
   "cell_type": "code",
   "execution_count": 32,
   "metadata": {},
   "outputs": [
    {
     "data": {
      "text/html": [
       "<div>\n",
       "<style scoped>\n",
       "    .dataframe tbody tr th:only-of-type {\n",
       "        vertical-align: middle;\n",
       "    }\n",
       "\n",
       "    .dataframe tbody tr th {\n",
       "        vertical-align: top;\n",
       "    }\n",
       "\n",
       "    .dataframe thead th {\n",
       "        text-align: right;\n",
       "    }\n",
       "</style>\n",
       "<table border=\"1\" class=\"dataframe\">\n",
       "  <thead>\n",
       "    <tr style=\"text-align: right;\">\n",
       "      <th></th>\n",
       "      <th>total_images</th>\n",
       "      <th>last_price</th>\n",
       "      <th>total_area</th>\n",
       "      <th>rooms</th>\n",
       "      <th>ceiling_height</th>\n",
       "      <th>floors_total</th>\n",
       "      <th>living_area</th>\n",
       "      <th>floor</th>\n",
       "      <th>is_apartment</th>\n",
       "      <th>studio</th>\n",
       "      <th>...</th>\n",
       "      <th>ponds_around3000</th>\n",
       "      <th>ponds_nearest</th>\n",
       "      <th>days_exposition</th>\n",
       "      <th>price_per_square_meter</th>\n",
       "      <th>month</th>\n",
       "      <th>year</th>\n",
       "      <th>weekday</th>\n",
       "      <th>living_to_total_area</th>\n",
       "      <th>kitchen_to_total_area</th>\n",
       "      <th>price_for_km</th>\n",
       "    </tr>\n",
       "  </thead>\n",
       "  <tbody>\n",
       "    <tr>\n",
       "      <th>total_images</th>\n",
       "      <td>1.000000</td>\n",
       "      <td>0.099788</td>\n",
       "      <td>-0.005203</td>\n",
       "      <td>-0.005231</td>\n",
       "      <td>0.065760</td>\n",
       "      <td>-0.033583</td>\n",
       "      <td>-0.000450</td>\n",
       "      <td>0.019958</td>\n",
       "      <td>0.011378</td>\n",
       "      <td>-0.039055</td>\n",
       "      <td>...</td>\n",
       "      <td>-0.006480</td>\n",
       "      <td>0.019452</td>\n",
       "      <td>-0.043162</td>\n",
       "      <td>0.092984</td>\n",
       "      <td>0.006194</td>\n",
       "      <td>0.170804</td>\n",
       "      <td>0.032763</td>\n",
       "      <td>-0.038001</td>\n",
       "      <td>0.019241</td>\n",
       "      <td>0.010440</td>\n",
       "    </tr>\n",
       "    <tr>\n",
       "      <th>last_price</th>\n",
       "      <td>0.099788</td>\n",
       "      <td>1.000000</td>\n",
       "      <td>0.684094</td>\n",
       "      <td>0.479501</td>\n",
       "      <td>0.161374</td>\n",
       "      <td>0.075860</td>\n",
       "      <td>0.564607</td>\n",
       "      <td>0.128757</td>\n",
       "      <td>-0.024015</td>\n",
       "      <td>-0.116038</td>\n",
       "      <td>...</td>\n",
       "      <td>-0.027527</td>\n",
       "      <td>0.060354</td>\n",
       "      <td>0.070912</td>\n",
       "      <td>0.156783</td>\n",
       "      <td>-0.066907</td>\n",
       "      <td>0.044096</td>\n",
       "      <td>-0.004356</td>\n",
       "      <td>-0.054531</td>\n",
       "      <td>-0.268485</td>\n",
       "      <td>0.443475</td>\n",
       "    </tr>\n",
       "    <tr>\n",
       "      <th>total_area</th>\n",
       "      <td>-0.005203</td>\n",
       "      <td>0.684094</td>\n",
       "      <td>1.000000</td>\n",
       "      <td>0.803953</td>\n",
       "      <td>0.179744</td>\n",
       "      <td>-0.133245</td>\n",
       "      <td>0.877484</td>\n",
       "      <td>-0.054060</td>\n",
       "      <td>-0.006679</td>\n",
       "      <td>-0.117101</td>\n",
       "      <td>...</td>\n",
       "      <td>-0.013820</td>\n",
       "      <td>0.024447</td>\n",
       "      <td>0.129397</td>\n",
       "      <td>-0.555144</td>\n",
       "      <td>-0.053827</td>\n",
       "      <td>-0.090172</td>\n",
       "      <td>-0.025611</td>\n",
       "      <td>0.067644</td>\n",
       "      <td>-0.501974</td>\n",
       "      <td>0.301421</td>\n",
       "    </tr>\n",
       "    <tr>\n",
       "      <th>rooms</th>\n",
       "      <td>-0.005231</td>\n",
       "      <td>0.479501</td>\n",
       "      <td>0.803953</td>\n",
       "      <td>1.000000</td>\n",
       "      <td>0.152478</td>\n",
       "      <td>-0.237513</td>\n",
       "      <td>0.814053</td>\n",
       "      <td>-0.125883</td>\n",
       "      <td>-0.005855</td>\n",
       "      <td>-0.151593</td>\n",
       "      <td>...</td>\n",
       "      <td>-0.030130</td>\n",
       "      <td>-0.014281</td>\n",
       "      <td>0.097252</td>\n",
       "      <td>-0.544512</td>\n",
       "      <td>-0.040787</td>\n",
       "      <td>-0.052569</td>\n",
       "      <td>-0.034842</td>\n",
       "      <td>0.268340</td>\n",
       "      <td>-0.581639</td>\n",
       "      <td>0.247574</td>\n",
       "    </tr>\n",
       "    <tr>\n",
       "      <th>ceiling_height</th>\n",
       "      <td>0.065760</td>\n",
       "      <td>0.161374</td>\n",
       "      <td>0.179744</td>\n",
       "      <td>0.152478</td>\n",
       "      <td>1.000000</td>\n",
       "      <td>-0.225905</td>\n",
       "      <td>0.208973</td>\n",
       "      <td>-0.148791</td>\n",
       "      <td>0.042236</td>\n",
       "      <td>0.002978</td>\n",
       "      <td>...</td>\n",
       "      <td>0.034122</td>\n",
       "      <td>-0.057829</td>\n",
       "      <td>0.000249</td>\n",
       "      <td>-0.067356</td>\n",
       "      <td>-0.043577</td>\n",
       "      <td>0.112559</td>\n",
       "      <td>-0.025703</td>\n",
       "      <td>0.125445</td>\n",
       "      <td>-0.079554</td>\n",
       "      <td>0.117531</td>\n",
       "    </tr>\n",
       "    <tr>\n",
       "      <th>floors_total</th>\n",
       "      <td>-0.033583</td>\n",
       "      <td>0.075860</td>\n",
       "      <td>-0.133245</td>\n",
       "      <td>-0.237513</td>\n",
       "      <td>-0.225905</td>\n",
       "      <td>1.000000</td>\n",
       "      <td>-0.222408</td>\n",
       "      <td>0.597593</td>\n",
       "      <td>0.019312</td>\n",
       "      <td>0.007185</td>\n",
       "      <td>...</td>\n",
       "      <td>-0.131570</td>\n",
       "      <td>0.167660</td>\n",
       "      <td>0.001816</td>\n",
       "      <td>0.286752</td>\n",
       "      <td>0.026028</td>\n",
       "      <td>-0.037792</td>\n",
       "      <td>0.014735</td>\n",
       "      <td>-0.253901</td>\n",
       "      <td>0.199929</td>\n",
       "      <td>-0.182500</td>\n",
       "    </tr>\n",
       "    <tr>\n",
       "      <th>living_area</th>\n",
       "      <td>-0.000450</td>\n",
       "      <td>0.564607</td>\n",
       "      <td>0.877484</td>\n",
       "      <td>0.814053</td>\n",
       "      <td>0.208973</td>\n",
       "      <td>-0.222408</td>\n",
       "      <td>1.000000</td>\n",
       "      <td>-0.100683</td>\n",
       "      <td>0.018895</td>\n",
       "      <td>-0.085455</td>\n",
       "      <td>...</td>\n",
       "      <td>-0.011609</td>\n",
       "      <td>-0.000952</td>\n",
       "      <td>0.119268</td>\n",
       "      <td>-0.524318</td>\n",
       "      <td>-0.026153</td>\n",
       "      <td>-0.076608</td>\n",
       "      <td>-0.027978</td>\n",
       "      <td>0.467394</td>\n",
       "      <td>-0.568605</td>\n",
       "      <td>0.273049</td>\n",
       "    </tr>\n",
       "    <tr>\n",
       "      <th>floor</th>\n",
       "      <td>0.019958</td>\n",
       "      <td>0.128757</td>\n",
       "      <td>-0.054060</td>\n",
       "      <td>-0.125883</td>\n",
       "      <td>-0.148791</td>\n",
       "      <td>0.597593</td>\n",
       "      <td>-0.100683</td>\n",
       "      <td>1.000000</td>\n",
       "      <td>-0.004140</td>\n",
       "      <td>-0.016128</td>\n",
       "      <td>...</td>\n",
       "      <td>-0.094375</td>\n",
       "      <td>0.088309</td>\n",
       "      <td>0.030263</td>\n",
       "      <td>0.231492</td>\n",
       "      <td>0.026600</td>\n",
       "      <td>-0.039795</td>\n",
       "      <td>0.035012</td>\n",
       "      <td>-0.159435</td>\n",
       "      <td>0.092852</td>\n",
       "      <td>-0.073471</td>\n",
       "    </tr>\n",
       "    <tr>\n",
       "      <th>is_apartment</th>\n",
       "      <td>0.011378</td>\n",
       "      <td>-0.024015</td>\n",
       "      <td>-0.006679</td>\n",
       "      <td>-0.005855</td>\n",
       "      <td>0.042236</td>\n",
       "      <td>0.019312</td>\n",
       "      <td>0.018895</td>\n",
       "      <td>-0.004140</td>\n",
       "      <td>1.000000</td>\n",
       "      <td>-0.003011</td>\n",
       "      <td>...</td>\n",
       "      <td>0.014250</td>\n",
       "      <td>0.006289</td>\n",
       "      <td>-0.036624</td>\n",
       "      <td>-0.026663</td>\n",
       "      <td>-0.041500</td>\n",
       "      <td>0.032343</td>\n",
       "      <td>-0.055495</td>\n",
       "      <td>0.037520</td>\n",
       "      <td>0.001807</td>\n",
       "      <td>-0.017714</td>\n",
       "    </tr>\n",
       "    <tr>\n",
       "      <th>studio</th>\n",
       "      <td>-0.039055</td>\n",
       "      <td>-0.116038</td>\n",
       "      <td>-0.117101</td>\n",
       "      <td>-0.151593</td>\n",
       "      <td>0.002978</td>\n",
       "      <td>0.007185</td>\n",
       "      <td>-0.085455</td>\n",
       "      <td>-0.016128</td>\n",
       "      <td>-0.003011</td>\n",
       "      <td>1.000000</td>\n",
       "      <td>...</td>\n",
       "      <td>-0.001511</td>\n",
       "      <td>0.020622</td>\n",
       "      <td>-0.053540</td>\n",
       "      <td>0.053422</td>\n",
       "      <td>0.006002</td>\n",
       "      <td>0.011638</td>\n",
       "      <td>0.002706</td>\n",
       "      <td>0.048366</td>\n",
       "      <td>0.143170</td>\n",
       "      <td>-0.054104</td>\n",
       "    </tr>\n",
       "    <tr>\n",
       "      <th>open_plan</th>\n",
       "      <td>-0.025161</td>\n",
       "      <td>-0.023874</td>\n",
       "      <td>-0.019599</td>\n",
       "      <td>-0.005855</td>\n",
       "      <td>0.010188</td>\n",
       "      <td>-0.011823</td>\n",
       "      <td>0.007664</td>\n",
       "      <td>-0.036163</td>\n",
       "      <td>-0.001969</td>\n",
       "      <td>-0.003011</td>\n",
       "      <td>...</td>\n",
       "      <td>0.014250</td>\n",
       "      <td>-0.040497</td>\n",
       "      <td>-0.017751</td>\n",
       "      <td>-0.004240</td>\n",
       "      <td>0.031547</td>\n",
       "      <td>-0.054226</td>\n",
       "      <td>0.029791</td>\n",
       "      <td>0.057442</td>\n",
       "      <td>0.045536</td>\n",
       "      <td>-0.017949</td>\n",
       "    </tr>\n",
       "    <tr>\n",
       "      <th>kitchen_area</th>\n",
       "      <td>0.081466</td>\n",
       "      <td>0.353669</td>\n",
       "      <td>0.310899</td>\n",
       "      <td>0.044935</td>\n",
       "      <td>0.072050</td>\n",
       "      <td>0.092664</td>\n",
       "      <td>0.092853</td>\n",
       "      <td>0.067742</td>\n",
       "      <td>-0.001339</td>\n",
       "      <td>-0.034348</td>\n",
       "      <td>...</td>\n",
       "      <td>0.010916</td>\n",
       "      <td>0.023303</td>\n",
       "      <td>0.089106</td>\n",
       "      <td>-0.028297</td>\n",
       "      <td>-0.029689</td>\n",
       "      <td>-0.049579</td>\n",
       "      <td>0.020227</td>\n",
       "      <td>-0.318775</td>\n",
       "      <td>0.554366</td>\n",
       "      <td>0.121096</td>\n",
       "    </tr>\n",
       "    <tr>\n",
       "      <th>balcony</th>\n",
       "      <td>0.006103</td>\n",
       "      <td>0.079759</td>\n",
       "      <td>-0.091872</td>\n",
       "      <td>-0.178007</td>\n",
       "      <td>-0.100626</td>\n",
       "      <td>0.463491</td>\n",
       "      <td>-0.137566</td>\n",
       "      <td>0.328828</td>\n",
       "      <td>0.033972</td>\n",
       "      <td>0.073461</td>\n",
       "      <td>...</td>\n",
       "      <td>-0.038079</td>\n",
       "      <td>0.072131</td>\n",
       "      <td>-0.010995</td>\n",
       "      <td>0.225119</td>\n",
       "      <td>-0.032628</td>\n",
       "      <td>-0.021918</td>\n",
       "      <td>0.028754</td>\n",
       "      <td>-0.164815</td>\n",
       "      <td>0.128700</td>\n",
       "      <td>-0.074094</td>\n",
       "    </tr>\n",
       "    <tr>\n",
       "      <th>airports_nearest</th>\n",
       "      <td>-0.003192</td>\n",
       "      <td>0.026564</td>\n",
       "      <td>-0.045172</td>\n",
       "      <td>-0.031240</td>\n",
       "      <td>0.004952</td>\n",
       "      <td>-0.025529</td>\n",
       "      <td>-0.049080</td>\n",
       "      <td>-0.003309</td>\n",
       "      <td>0.041997</td>\n",
       "      <td>0.012919</td>\n",
       "      <td>...</td>\n",
       "      <td>-0.150059</td>\n",
       "      <td>0.193959</td>\n",
       "      <td>-0.011487</td>\n",
       "      <td>0.091764</td>\n",
       "      <td>-0.032206</td>\n",
       "      <td>0.017841</td>\n",
       "      <td>-0.051680</td>\n",
       "      <td>-0.038753</td>\n",
       "      <td>0.040137</td>\n",
       "      <td>-0.255222</td>\n",
       "    </tr>\n",
       "    <tr>\n",
       "      <th>cityCenters_nearest</th>\n",
       "      <td>0.001223</td>\n",
       "      <td>-0.061184</td>\n",
       "      <td>-0.072966</td>\n",
       "      <td>-0.085687</td>\n",
       "      <td>-0.088324</td>\n",
       "      <td>0.296727</td>\n",
       "      <td>-0.089882</td>\n",
       "      <td>0.191334</td>\n",
       "      <td>0.008527</td>\n",
       "      <td>0.020691</td>\n",
       "      <td>...</td>\n",
       "      <td>-0.451575</td>\n",
       "      <td>0.413925</td>\n",
       "      <td>-0.040746</td>\n",
       "      <td>0.035521</td>\n",
       "      <td>-0.005312</td>\n",
       "      <td>0.036308</td>\n",
       "      <td>-0.060228</td>\n",
       "      <td>-0.082558</td>\n",
       "      <td>0.044478</td>\n",
       "      <td>-0.782443</td>\n",
       "    </tr>\n",
       "    <tr>\n",
       "      <th>parks_around3000</th>\n",
       "      <td>0.024589</td>\n",
       "      <td>0.029316</td>\n",
       "      <td>0.046806</td>\n",
       "      <td>0.068901</td>\n",
       "      <td>0.127838</td>\n",
       "      <td>-0.267442</td>\n",
       "      <td>0.054910</td>\n",
       "      <td>-0.178162</td>\n",
       "      <td>0.016384</td>\n",
       "      <td>-0.051009</td>\n",
       "      <td>...</td>\n",
       "      <td>0.186722</td>\n",
       "      <td>-0.215525</td>\n",
       "      <td>-0.024804</td>\n",
       "      <td>-0.022665</td>\n",
       "      <td>-0.028105</td>\n",
       "      <td>0.006528</td>\n",
       "      <td>0.015776</td>\n",
       "      <td>0.051085</td>\n",
       "      <td>-0.039116</td>\n",
       "      <td>0.233850</td>\n",
       "    </tr>\n",
       "    <tr>\n",
       "      <th>parks_nearest</th>\n",
       "      <td>-0.064551</td>\n",
       "      <td>0.030371</td>\n",
       "      <td>-0.019431</td>\n",
       "      <td>-0.082482</td>\n",
       "      <td>-0.101163</td>\n",
       "      <td>0.163006</td>\n",
       "      <td>-0.072519</td>\n",
       "      <td>0.128349</td>\n",
       "      <td>-0.025748</td>\n",
       "      <td>-0.012273</td>\n",
       "      <td>...</td>\n",
       "      <td>-0.064607</td>\n",
       "      <td>0.083137</td>\n",
       "      <td>0.023997</td>\n",
       "      <td>0.061953</td>\n",
       "      <td>0.028384</td>\n",
       "      <td>-0.030256</td>\n",
       "      <td>-0.009790</td>\n",
       "      <td>-0.114765</td>\n",
       "      <td>0.082936</td>\n",
       "      <td>-0.054613</td>\n",
       "    </tr>\n",
       "    <tr>\n",
       "      <th>ponds_around3000</th>\n",
       "      <td>-0.006480</td>\n",
       "      <td>-0.027527</td>\n",
       "      <td>-0.013820</td>\n",
       "      <td>-0.030130</td>\n",
       "      <td>0.034122</td>\n",
       "      <td>-0.131570</td>\n",
       "      <td>-0.011609</td>\n",
       "      <td>-0.094375</td>\n",
       "      <td>0.014250</td>\n",
       "      <td>-0.001511</td>\n",
       "      <td>...</td>\n",
       "      <td>1.000000</td>\n",
       "      <td>-0.358849</td>\n",
       "      <td>0.016560</td>\n",
       "      <td>-0.019658</td>\n",
       "      <td>-0.005315</td>\n",
       "      <td>-0.033878</td>\n",
       "      <td>0.061934</td>\n",
       "      <td>0.003155</td>\n",
       "      <td>0.010574</td>\n",
       "      <td>0.363278</td>\n",
       "    </tr>\n",
       "    <tr>\n",
       "      <th>ponds_nearest</th>\n",
       "      <td>0.019452</td>\n",
       "      <td>0.060354</td>\n",
       "      <td>0.024447</td>\n",
       "      <td>-0.014281</td>\n",
       "      <td>-0.057829</td>\n",
       "      <td>0.167660</td>\n",
       "      <td>-0.000952</td>\n",
       "      <td>0.088309</td>\n",
       "      <td>0.006289</td>\n",
       "      <td>0.020622</td>\n",
       "      <td>...</td>\n",
       "      <td>-0.358849</td>\n",
       "      <td>1.000000</td>\n",
       "      <td>-0.051174</td>\n",
       "      <td>0.039958</td>\n",
       "      <td>0.052954</td>\n",
       "      <td>0.013016</td>\n",
       "      <td>-0.049318</td>\n",
       "      <td>-0.049465</td>\n",
       "      <td>0.017773</td>\n",
       "      <td>-0.347798</td>\n",
       "    </tr>\n",
       "    <tr>\n",
       "      <th>days_exposition</th>\n",
       "      <td>-0.043162</td>\n",
       "      <td>0.070912</td>\n",
       "      <td>0.129397</td>\n",
       "      <td>0.097252</td>\n",
       "      <td>0.000249</td>\n",
       "      <td>0.001816</td>\n",
       "      <td>0.119268</td>\n",
       "      <td>0.030263</td>\n",
       "      <td>-0.036624</td>\n",
       "      <td>-0.053540</td>\n",
       "      <td>...</td>\n",
       "      <td>0.016560</td>\n",
       "      <td>-0.051174</td>\n",
       "      <td>1.000000</td>\n",
       "      <td>-0.092629</td>\n",
       "      <td>-0.006357</td>\n",
       "      <td>-0.548311</td>\n",
       "      <td>0.002379</td>\n",
       "      <td>-0.022213</td>\n",
       "      <td>-0.036752</td>\n",
       "      <td>0.094171</td>\n",
       "    </tr>\n",
       "    <tr>\n",
       "      <th>price_per_square_meter</th>\n",
       "      <td>0.092984</td>\n",
       "      <td>0.156783</td>\n",
       "      <td>-0.555144</td>\n",
       "      <td>-0.544512</td>\n",
       "      <td>-0.067356</td>\n",
       "      <td>0.286752</td>\n",
       "      <td>-0.524318</td>\n",
       "      <td>0.231492</td>\n",
       "      <td>-0.026663</td>\n",
       "      <td>0.053422</td>\n",
       "      <td>...</td>\n",
       "      <td>-0.019658</td>\n",
       "      <td>0.039958</td>\n",
       "      <td>-0.092629</td>\n",
       "      <td>1.000000</td>\n",
       "      <td>-0.010619</td>\n",
       "      <td>0.160805</td>\n",
       "      <td>0.042219</td>\n",
       "      <td>-0.138219</td>\n",
       "      <td>0.442496</td>\n",
       "      <td>0.067155</td>\n",
       "    </tr>\n",
       "    <tr>\n",
       "      <th>month</th>\n",
       "      <td>0.006194</td>\n",
       "      <td>-0.066907</td>\n",
       "      <td>-0.053827</td>\n",
       "      <td>-0.040787</td>\n",
       "      <td>-0.043577</td>\n",
       "      <td>0.026028</td>\n",
       "      <td>-0.026153</td>\n",
       "      <td>0.026600</td>\n",
       "      <td>-0.041500</td>\n",
       "      <td>0.006002</td>\n",
       "      <td>...</td>\n",
       "      <td>-0.005315</td>\n",
       "      <td>0.052954</td>\n",
       "      <td>-0.006357</td>\n",
       "      <td>-0.010619</td>\n",
       "      <td>1.000000</td>\n",
       "      <td>-0.250839</td>\n",
       "      <td>0.058709</td>\n",
       "      <td>0.042136</td>\n",
       "      <td>0.017978</td>\n",
       "      <td>-0.013156</td>\n",
       "    </tr>\n",
       "    <tr>\n",
       "      <th>year</th>\n",
       "      <td>0.170804</td>\n",
       "      <td>0.044096</td>\n",
       "      <td>-0.090172</td>\n",
       "      <td>-0.052569</td>\n",
       "      <td>0.112559</td>\n",
       "      <td>-0.037792</td>\n",
       "      <td>-0.076608</td>\n",
       "      <td>-0.039795</td>\n",
       "      <td>0.032343</td>\n",
       "      <td>0.011638</td>\n",
       "      <td>...</td>\n",
       "      <td>-0.033878</td>\n",
       "      <td>0.013016</td>\n",
       "      <td>-0.548311</td>\n",
       "      <td>0.160805</td>\n",
       "      <td>-0.250839</td>\n",
       "      <td>1.000000</td>\n",
       "      <td>-0.014695</td>\n",
       "      <td>0.045842</td>\n",
       "      <td>0.034811</td>\n",
       "      <td>-0.047100</td>\n",
       "    </tr>\n",
       "    <tr>\n",
       "      <th>weekday</th>\n",
       "      <td>0.032763</td>\n",
       "      <td>-0.004356</td>\n",
       "      <td>-0.025611</td>\n",
       "      <td>-0.034842</td>\n",
       "      <td>-0.025703</td>\n",
       "      <td>0.014735</td>\n",
       "      <td>-0.027978</td>\n",
       "      <td>0.035012</td>\n",
       "      <td>-0.055495</td>\n",
       "      <td>0.002706</td>\n",
       "      <td>...</td>\n",
       "      <td>0.061934</td>\n",
       "      <td>-0.049318</td>\n",
       "      <td>0.002379</td>\n",
       "      <td>0.042219</td>\n",
       "      <td>0.058709</td>\n",
       "      <td>-0.014695</td>\n",
       "      <td>1.000000</td>\n",
       "      <td>-0.039661</td>\n",
       "      <td>0.028346</td>\n",
       "      <td>0.029355</td>\n",
       "    </tr>\n",
       "    <tr>\n",
       "      <th>living_to_total_area</th>\n",
       "      <td>-0.038001</td>\n",
       "      <td>-0.054531</td>\n",
       "      <td>0.067644</td>\n",
       "      <td>0.268340</td>\n",
       "      <td>0.125445</td>\n",
       "      <td>-0.253901</td>\n",
       "      <td>0.467394</td>\n",
       "      <td>-0.159435</td>\n",
       "      <td>0.037520</td>\n",
       "      <td>0.048366</td>\n",
       "      <td>...</td>\n",
       "      <td>0.003155</td>\n",
       "      <td>-0.049465</td>\n",
       "      <td>-0.022213</td>\n",
       "      <td>-0.138219</td>\n",
       "      <td>0.042136</td>\n",
       "      <td>0.045842</td>\n",
       "      <td>-0.039661</td>\n",
       "      <td>1.000000</td>\n",
       "      <td>-0.215460</td>\n",
       "      <td>0.037758</td>\n",
       "    </tr>\n",
       "    <tr>\n",
       "      <th>kitchen_to_total_area</th>\n",
       "      <td>0.019241</td>\n",
       "      <td>-0.268485</td>\n",
       "      <td>-0.501974</td>\n",
       "      <td>-0.581639</td>\n",
       "      <td>-0.079554</td>\n",
       "      <td>0.199929</td>\n",
       "      <td>-0.568605</td>\n",
       "      <td>0.092852</td>\n",
       "      <td>0.001807</td>\n",
       "      <td>0.143170</td>\n",
       "      <td>...</td>\n",
       "      <td>0.010574</td>\n",
       "      <td>0.017773</td>\n",
       "      <td>-0.036752</td>\n",
       "      <td>0.442496</td>\n",
       "      <td>0.017978</td>\n",
       "      <td>0.034811</td>\n",
       "      <td>0.028346</td>\n",
       "      <td>-0.215460</td>\n",
       "      <td>1.000000</td>\n",
       "      <td>-0.145024</td>\n",
       "    </tr>\n",
       "    <tr>\n",
       "      <th>price_for_km</th>\n",
       "      <td>0.010440</td>\n",
       "      <td>0.443475</td>\n",
       "      <td>0.301421</td>\n",
       "      <td>0.247574</td>\n",
       "      <td>0.117531</td>\n",
       "      <td>-0.182500</td>\n",
       "      <td>0.273049</td>\n",
       "      <td>-0.073471</td>\n",
       "      <td>-0.017714</td>\n",
       "      <td>-0.054104</td>\n",
       "      <td>...</td>\n",
       "      <td>0.363278</td>\n",
       "      <td>-0.347798</td>\n",
       "      <td>0.094171</td>\n",
       "      <td>0.067155</td>\n",
       "      <td>-0.013156</td>\n",
       "      <td>-0.047100</td>\n",
       "      <td>0.029355</td>\n",
       "      <td>0.037758</td>\n",
       "      <td>-0.145024</td>\n",
       "      <td>1.000000</td>\n",
       "    </tr>\n",
       "  </tbody>\n",
       "</table>\n",
       "<p>27 rows × 27 columns</p>\n",
       "</div>"
      ],
      "text/plain": [
       "                        total_images  last_price  total_area     rooms  \\\n",
       "total_images                1.000000    0.099788   -0.005203 -0.005231   \n",
       "last_price                  0.099788    1.000000    0.684094  0.479501   \n",
       "total_area                 -0.005203    0.684094    1.000000  0.803953   \n",
       "rooms                      -0.005231    0.479501    0.803953  1.000000   \n",
       "ceiling_height              0.065760    0.161374    0.179744  0.152478   \n",
       "floors_total               -0.033583    0.075860   -0.133245 -0.237513   \n",
       "living_area                -0.000450    0.564607    0.877484  0.814053   \n",
       "floor                       0.019958    0.128757   -0.054060 -0.125883   \n",
       "is_apartment                0.011378   -0.024015   -0.006679 -0.005855   \n",
       "studio                     -0.039055   -0.116038   -0.117101 -0.151593   \n",
       "open_plan                  -0.025161   -0.023874   -0.019599 -0.005855   \n",
       "kitchen_area                0.081466    0.353669    0.310899  0.044935   \n",
       "balcony                     0.006103    0.079759   -0.091872 -0.178007   \n",
       "airports_nearest           -0.003192    0.026564   -0.045172 -0.031240   \n",
       "cityCenters_nearest         0.001223   -0.061184   -0.072966 -0.085687   \n",
       "parks_around3000            0.024589    0.029316    0.046806  0.068901   \n",
       "parks_nearest              -0.064551    0.030371   -0.019431 -0.082482   \n",
       "ponds_around3000           -0.006480   -0.027527   -0.013820 -0.030130   \n",
       "ponds_nearest               0.019452    0.060354    0.024447 -0.014281   \n",
       "days_exposition            -0.043162    0.070912    0.129397  0.097252   \n",
       "price_per_square_meter      0.092984    0.156783   -0.555144 -0.544512   \n",
       "month                       0.006194   -0.066907   -0.053827 -0.040787   \n",
       "year                        0.170804    0.044096   -0.090172 -0.052569   \n",
       "weekday                     0.032763   -0.004356   -0.025611 -0.034842   \n",
       "living_to_total_area       -0.038001   -0.054531    0.067644  0.268340   \n",
       "kitchen_to_total_area       0.019241   -0.268485   -0.501974 -0.581639   \n",
       "price_for_km                0.010440    0.443475    0.301421  0.247574   \n",
       "\n",
       "                        ceiling_height  floors_total  living_area     floor  \\\n",
       "total_images                  0.065760     -0.033583    -0.000450  0.019958   \n",
       "last_price                    0.161374      0.075860     0.564607  0.128757   \n",
       "total_area                    0.179744     -0.133245     0.877484 -0.054060   \n",
       "rooms                         0.152478     -0.237513     0.814053 -0.125883   \n",
       "ceiling_height                1.000000     -0.225905     0.208973 -0.148791   \n",
       "floors_total                 -0.225905      1.000000    -0.222408  0.597593   \n",
       "living_area                   0.208973     -0.222408     1.000000 -0.100683   \n",
       "floor                        -0.148791      0.597593    -0.100683  1.000000   \n",
       "is_apartment                  0.042236      0.019312     0.018895 -0.004140   \n",
       "studio                        0.002978      0.007185    -0.085455 -0.016128   \n",
       "open_plan                     0.010188     -0.011823     0.007664 -0.036163   \n",
       "kitchen_area                  0.072050      0.092664     0.092853  0.067742   \n",
       "balcony                      -0.100626      0.463491    -0.137566  0.328828   \n",
       "airports_nearest              0.004952     -0.025529    -0.049080 -0.003309   \n",
       "cityCenters_nearest          -0.088324      0.296727    -0.089882  0.191334   \n",
       "parks_around3000              0.127838     -0.267442     0.054910 -0.178162   \n",
       "parks_nearest                -0.101163      0.163006    -0.072519  0.128349   \n",
       "ponds_around3000              0.034122     -0.131570    -0.011609 -0.094375   \n",
       "ponds_nearest                -0.057829      0.167660    -0.000952  0.088309   \n",
       "days_exposition               0.000249      0.001816     0.119268  0.030263   \n",
       "price_per_square_meter       -0.067356      0.286752    -0.524318  0.231492   \n",
       "month                        -0.043577      0.026028    -0.026153  0.026600   \n",
       "year                          0.112559     -0.037792    -0.076608 -0.039795   \n",
       "weekday                      -0.025703      0.014735    -0.027978  0.035012   \n",
       "living_to_total_area          0.125445     -0.253901     0.467394 -0.159435   \n",
       "kitchen_to_total_area        -0.079554      0.199929    -0.568605  0.092852   \n",
       "price_for_km                  0.117531     -0.182500     0.273049 -0.073471   \n",
       "\n",
       "                        is_apartment    studio  ...  ponds_around3000  \\\n",
       "total_images                0.011378 -0.039055  ...         -0.006480   \n",
       "last_price                 -0.024015 -0.116038  ...         -0.027527   \n",
       "total_area                 -0.006679 -0.117101  ...         -0.013820   \n",
       "rooms                      -0.005855 -0.151593  ...         -0.030130   \n",
       "ceiling_height              0.042236  0.002978  ...          0.034122   \n",
       "floors_total                0.019312  0.007185  ...         -0.131570   \n",
       "living_area                 0.018895 -0.085455  ...         -0.011609   \n",
       "floor                      -0.004140 -0.016128  ...         -0.094375   \n",
       "is_apartment                1.000000 -0.003011  ...          0.014250   \n",
       "studio                     -0.003011  1.000000  ...         -0.001511   \n",
       "open_plan                  -0.001969 -0.003011  ...          0.014250   \n",
       "kitchen_area               -0.001339 -0.034348  ...          0.010916   \n",
       "balcony                     0.033972  0.073461  ...         -0.038079   \n",
       "airports_nearest            0.041997  0.012919  ...         -0.150059   \n",
       "cityCenters_nearest         0.008527  0.020691  ...         -0.451575   \n",
       "parks_around3000            0.016384 -0.051009  ...          0.186722   \n",
       "parks_nearest              -0.025748 -0.012273  ...         -0.064607   \n",
       "ponds_around3000            0.014250 -0.001511  ...          1.000000   \n",
       "ponds_nearest               0.006289  0.020622  ...         -0.358849   \n",
       "days_exposition            -0.036624 -0.053540  ...          0.016560   \n",
       "price_per_square_meter     -0.026663  0.053422  ...         -0.019658   \n",
       "month                      -0.041500  0.006002  ...         -0.005315   \n",
       "year                        0.032343  0.011638  ...         -0.033878   \n",
       "weekday                    -0.055495  0.002706  ...          0.061934   \n",
       "living_to_total_area        0.037520  0.048366  ...          0.003155   \n",
       "kitchen_to_total_area       0.001807  0.143170  ...          0.010574   \n",
       "price_for_km               -0.017714 -0.054104  ...          0.363278   \n",
       "\n",
       "                        ponds_nearest  days_exposition  \\\n",
       "total_images                 0.019452        -0.043162   \n",
       "last_price                   0.060354         0.070912   \n",
       "total_area                   0.024447         0.129397   \n",
       "rooms                       -0.014281         0.097252   \n",
       "ceiling_height              -0.057829         0.000249   \n",
       "floors_total                 0.167660         0.001816   \n",
       "living_area                 -0.000952         0.119268   \n",
       "floor                        0.088309         0.030263   \n",
       "is_apartment                 0.006289        -0.036624   \n",
       "studio                       0.020622        -0.053540   \n",
       "open_plan                   -0.040497        -0.017751   \n",
       "kitchen_area                 0.023303         0.089106   \n",
       "balcony                      0.072131        -0.010995   \n",
       "airports_nearest             0.193959        -0.011487   \n",
       "cityCenters_nearest          0.413925        -0.040746   \n",
       "parks_around3000            -0.215525        -0.024804   \n",
       "parks_nearest                0.083137         0.023997   \n",
       "ponds_around3000            -0.358849         0.016560   \n",
       "ponds_nearest                1.000000        -0.051174   \n",
       "days_exposition             -0.051174         1.000000   \n",
       "price_per_square_meter       0.039958        -0.092629   \n",
       "month                        0.052954        -0.006357   \n",
       "year                         0.013016        -0.548311   \n",
       "weekday                     -0.049318         0.002379   \n",
       "living_to_total_area        -0.049465        -0.022213   \n",
       "kitchen_to_total_area        0.017773        -0.036752   \n",
       "price_for_km                -0.347798         0.094171   \n",
       "\n",
       "                        price_per_square_meter     month      year   weekday  \\\n",
       "total_images                          0.092984  0.006194  0.170804  0.032763   \n",
       "last_price                            0.156783 -0.066907  0.044096 -0.004356   \n",
       "total_area                           -0.555144 -0.053827 -0.090172 -0.025611   \n",
       "rooms                                -0.544512 -0.040787 -0.052569 -0.034842   \n",
       "ceiling_height                       -0.067356 -0.043577  0.112559 -0.025703   \n",
       "floors_total                          0.286752  0.026028 -0.037792  0.014735   \n",
       "living_area                          -0.524318 -0.026153 -0.076608 -0.027978   \n",
       "floor                                 0.231492  0.026600 -0.039795  0.035012   \n",
       "is_apartment                         -0.026663 -0.041500  0.032343 -0.055495   \n",
       "studio                                0.053422  0.006002  0.011638  0.002706   \n",
       "open_plan                            -0.004240  0.031547 -0.054226  0.029791   \n",
       "kitchen_area                         -0.028297 -0.029689 -0.049579  0.020227   \n",
       "balcony                               0.225119 -0.032628 -0.021918  0.028754   \n",
       "airports_nearest                      0.091764 -0.032206  0.017841 -0.051680   \n",
       "cityCenters_nearest                   0.035521 -0.005312  0.036308 -0.060228   \n",
       "parks_around3000                     -0.022665 -0.028105  0.006528  0.015776   \n",
       "parks_nearest                         0.061953  0.028384 -0.030256 -0.009790   \n",
       "ponds_around3000                     -0.019658 -0.005315 -0.033878  0.061934   \n",
       "ponds_nearest                         0.039958  0.052954  0.013016 -0.049318   \n",
       "days_exposition                      -0.092629 -0.006357 -0.548311  0.002379   \n",
       "price_per_square_meter                1.000000 -0.010619  0.160805  0.042219   \n",
       "month                                -0.010619  1.000000 -0.250839  0.058709   \n",
       "year                                  0.160805 -0.250839  1.000000 -0.014695   \n",
       "weekday                               0.042219  0.058709 -0.014695  1.000000   \n",
       "living_to_total_area                 -0.138219  0.042136  0.045842 -0.039661   \n",
       "kitchen_to_total_area                 0.442496  0.017978  0.034811  0.028346   \n",
       "price_for_km                          0.067155 -0.013156 -0.047100  0.029355   \n",
       "\n",
       "                        living_to_total_area  kitchen_to_total_area  \\\n",
       "total_images                       -0.038001               0.019241   \n",
       "last_price                         -0.054531              -0.268485   \n",
       "total_area                          0.067644              -0.501974   \n",
       "rooms                               0.268340              -0.581639   \n",
       "ceiling_height                      0.125445              -0.079554   \n",
       "floors_total                       -0.253901               0.199929   \n",
       "living_area                         0.467394              -0.568605   \n",
       "floor                              -0.159435               0.092852   \n",
       "is_apartment                        0.037520               0.001807   \n",
       "studio                              0.048366               0.143170   \n",
       "open_plan                           0.057442               0.045536   \n",
       "kitchen_area                       -0.318775               0.554366   \n",
       "balcony                            -0.164815               0.128700   \n",
       "airports_nearest                   -0.038753               0.040137   \n",
       "cityCenters_nearest                -0.082558               0.044478   \n",
       "parks_around3000                    0.051085              -0.039116   \n",
       "parks_nearest                      -0.114765               0.082936   \n",
       "ponds_around3000                    0.003155               0.010574   \n",
       "ponds_nearest                      -0.049465               0.017773   \n",
       "days_exposition                    -0.022213              -0.036752   \n",
       "price_per_square_meter             -0.138219               0.442496   \n",
       "month                               0.042136               0.017978   \n",
       "year                                0.045842               0.034811   \n",
       "weekday                            -0.039661               0.028346   \n",
       "living_to_total_area                1.000000              -0.215460   \n",
       "kitchen_to_total_area              -0.215460               1.000000   \n",
       "price_for_km                        0.037758              -0.145024   \n",
       "\n",
       "                        price_for_km  \n",
       "total_images                0.010440  \n",
       "last_price                  0.443475  \n",
       "total_area                  0.301421  \n",
       "rooms                       0.247574  \n",
       "ceiling_height              0.117531  \n",
       "floors_total               -0.182500  \n",
       "living_area                 0.273049  \n",
       "floor                      -0.073471  \n",
       "is_apartment               -0.017714  \n",
       "studio                     -0.054104  \n",
       "open_plan                  -0.017949  \n",
       "kitchen_area                0.121096  \n",
       "balcony                    -0.074094  \n",
       "airports_nearest           -0.255222  \n",
       "cityCenters_nearest        -0.782443  \n",
       "parks_around3000            0.233850  \n",
       "parks_nearest              -0.054613  \n",
       "ponds_around3000            0.363278  \n",
       "ponds_nearest              -0.347798  \n",
       "days_exposition             0.094171  \n",
       "price_per_square_meter      0.067155  \n",
       "month                      -0.013156  \n",
       "year                       -0.047100  \n",
       "weekday                     0.029355  \n",
       "living_to_total_area        0.037758  \n",
       "kitchen_to_total_area      -0.145024  \n",
       "price_for_km                1.000000  \n",
       "\n",
       "[27 rows x 27 columns]"
      ]
     },
     "execution_count": 32,
     "metadata": {},
     "output_type": "execute_result"
    }
   ],
   "source": [
    "spb_center.corr()"
   ]
  },
  {
   "cell_type": "code",
   "execution_count": 33,
   "metadata": {},
   "outputs": [
    {
     "data": {
      "text/plain": [
       "count    1.527000e+03\n",
       "mean     7.723158e+06\n",
       "std      2.211880e+06\n",
       "min      1.600000e+06\n",
       "25%      6.100000e+06\n",
       "50%      7.600000e+06\n",
       "75%      9.393000e+06\n",
       "max      1.200000e+07\n",
       "Name: last_price, dtype: float64"
      ]
     },
     "execution_count": 33,
     "metadata": {},
     "output_type": "execute_result"
    },
    {
     "data": {
      "image/png": "[encoded data removed]",
      "text/plain": [
       "<Figure size 432x288 with 1 Axes>"
      ]
     },
     "metadata": {
      "needs_background": "light"
     },
     "output_type": "display_data"
    }
   ],
   "source": [
    "spb_center['last_price'].hist(bins=50, range=(0, 10000000))\n",
    "spb_center['last_price'].describe()"
   ]
  },
  {
   "cell_type": "code",
   "execution_count": 34,
   "metadata": {},
   "outputs": [
    {
     "data": {
      "text/plain": [
       "count    1527.000000\n",
       "mean        2.470858\n",
       "std         1.042496\n",
       "min         0.000000\n",
       "25%         2.000000\n",
       "50%         2.000000\n",
       "75%         3.000000\n",
       "max         5.000000\n",
       "Name: rooms, dtype: float64"
      ]
     },
     "execution_count": 34,
     "metadata": {},
     "output_type": "execute_result"
    },
    {
     "data": {
      "image/png": "[encoded data removed]",
      "text/plain": [
       "<Figure size 432x288 with 1 Axes>"
      ]
     },
     "metadata": {
      "needs_background": "light"
     },
     "output_type": "display_data"
    }
   ],
   "source": [
    "spb_center['rooms'].hist(bins=50, range=(1, 6))\n",
    "spb_center['rooms'].describe()"
   ]
  },
  {
   "cell_type": "code",
   "execution_count": 35,
   "metadata": {},
   "outputs": [
    {
     "data": {
      "text/plain": [
       "count    1527.000000\n",
       "mean        2.925822\n",
       "std         0.323140\n",
       "min         2.400000\n",
       "25%         2.650000\n",
       "50%         2.800000\n",
       "75%         3.150000\n",
       "max         4.000000\n",
       "Name: ceiling_height, dtype: float64"
      ]
     },
     "execution_count": 35,
     "metadata": {},
     "output_type": "execute_result"
    },
    {
     "data": {
      "image/png": "[encoded data removed]",
      "text/plain": [
       "<Figure size 432x288 with 1 Axes>"
      ]
     },
     "metadata": {
      "needs_background": "light"
     },
     "output_type": "display_data"
    }
   ],
   "source": [
    "spb_center['ceiling_height'].hist(bins=50, range=(1, 5))\n",
    "spb_center['ceiling_height'].describe()"
   ]
  },
  {
   "cell_type": "markdown",
   "metadata": {},
   "source": [
    "Проанализируем, что влияет на цены квартир в центре. Цена резко растет при увеличении количества комнат в квартире. Корреляция между двумя данными параметрами у квартир в центре выше, чем по всей базе. Цена квартир уменьшается по мере удаления от центра даже в рамках самого центра, определенного радиусом в 5 км. Цена на квартиру не зависит от времени размещения объявления ни в центре, ни в общей базе."
   ]
  },
  {
   "cell_type": "code",
   "execution_count": 36,
   "metadata": {},
   "outputs": [
    {
     "data": {
      "image/png": "[encoded data removed]",
      "text/plain": [
       "<Figure size 432x288 with 1 Axes>"
      ]
     },
     "metadata": {
      "needs_background": "light"
     },
     "output_type": "display_data"
    },
    {
     "data": {
      "image/png": "[encoded data removed]",
      "text/plain": [
       "<Figure size 432x288 with 1 Axes>"
      ]
     },
     "metadata": {
      "needs_background": "light"
     },
     "output_type": "display_data"
    },
    {
     "data": {
      "image/png": "[encoded data removed]",
      "text/plain": [
       "<Figure size 432x288 with 1 Axes>"
      ]
     },
     "metadata": {
      "needs_background": "light"
     },
     "output_type": "display_data"
    },
    {
     "data": {
      "image/png": "[encoded data removed]",
      "text/plain": [
       "<Figure size 432x288 with 1 Axes>"
      ]
     },
     "metadata": {
      "needs_background": "light"
     },
     "output_type": "display_data"
    },
    {
     "data": {
      "image/png": "[encoded data removed]",
      "text/plain": [
       "<Figure size 432x288 with 1 Axes>"
      ]
     },
     "metadata": {
      "needs_background": "light"
     },
     "output_type": "display_data"
    },
    {
     "data": {
      "image/png": "[encoded data removed]",
      "text/plain": [
       "<Figure size 432x288 with 1 Axes>"
      ]
     },
     "metadata": {
      "needs_background": "light"
     },
     "output_type": "display_data"
    }
   ],
   "source": [
    "spb_center.plot(x='rooms', y='last_price', kind='scatter', alpha=0.3)\n",
    "plt.show()\n",
    "sns.barplot(x='floor_category', y='last_price', data=data_spb)\n",
    "plt.show()\n",
    "spb_center.plot(x='cityCenters_nearest', y='last_price', kind='scatter', alpha=0.3)\n",
    "plt.show()\n",
    "sns.barplot(x='weekday', y='last_price', data=spb_center)\n",
    "plt.show()\n",
    "sns.barplot(x='month', y='last_price', data=spb_center)\n",
    "plt.show()\n",
    "sns.barplot(x='year', y='last_price', data=spb_center)\n",
    "plt.show()"
   ]
  },
  {
   "cell_type": "markdown",
   "metadata": {},
   "source": [
    "## Общий вывод"
   ]
  },
  {
   "cell_type": "markdown",
   "metadata": {},
   "source": [
    "С целью создания системы автоматического определения рыночной стоимости квартир, были проанализированы данные о продаже квартир в Санкт-Петербурге и соседних населённых пунктах за несколько лет. \n",
    "- Из данных были удалены все пропуски и аномальные значения, откинуты выбросы.\n",
    "- Были определены основные параметры, влияющие на цену квартиры: площадь квартиры, количество комнат в квартире и этаж, на котором расположена квартира (самые дорогие квартиры не на первом и не на последнем этажах). При этом ни один из этих параметров не коррелирует с ценой достаточно сильно, чтобы можно было говорить, что параметр решающий, важно смотреть на совокупность показателей по нескольким параметрам.\n",
    "- Рынок квартир был проанализирован по основным параметрам: площадь, цена, количество комнат, высота потолков. Выявлены средние показатели: площадь - 40-70 квадратных метров, цена - 3-7 млн, количество комнат - 1-3 и высота потолков от 2,5 до 3 метров.\n",
    "- Было выявлено среднее время продажи квартиры - 3 месяца.\n",
    "- Основными параметрами, влияющими на цену, являются: площадь квартиры, количество комнат и этаж, на котором находится квартир.\n",
    "- Также цена зависит от того, в каком населенном пункте находится квартира. Самые дорогие квартиры в Санкт-Петербурге, Пушкине, Кудрово и Парголово, а самые дешевые в Выборге и Всеволожске.\n",
    "- Важным наблюдением является то, что по всем населенным пунктам удаленность от центра никак не влияет на цену, однако, если смотреть на квартиры только в Санкт-Петербурге, удаленность квартиры от центра города является определяющим параметром при определении ее цены. Был определен радиус центра Санкт-Петербурга - 5 км."
   ]
  }
 ],
 "metadata": {
  "ExecuteTimeLog": [
   {
    "duration": 658,
    "start_time": "2022-05-27T19:42:49.566Z"
   },
   {
    "duration": 150,
    "start_time": "2022-05-27T19:43:11.920Z"
   },
   {
    "duration": 14,
    "start_time": "2022-05-27T19:43:21.931Z"
   },
   {
    "duration": 6,
    "start_time": "2022-05-27T19:43:38.794Z"
   },
   {
    "duration": 116,
    "start_time": "2022-05-27T19:45:11.315Z"
   },
   {
    "duration": 38,
    "start_time": "2022-05-27T19:45:20.079Z"
   },
   {
    "duration": 28,
    "start_time": "2022-05-27T19:47:17.247Z"
   },
   {
    "duration": 1057,
    "start_time": "2022-05-27T19:47:24.567Z"
   },
   {
    "duration": 20,
    "start_time": "2022-05-27T19:48:22.110Z"
   },
   {
    "duration": 797,
    "start_time": "2022-05-27T19:56:48.731Z"
   },
   {
    "duration": 24,
    "start_time": "2022-05-27T19:56:49.530Z"
   },
   {
    "duration": 10,
    "start_time": "2022-05-27T19:59:12.825Z"
   },
   {
    "duration": 15,
    "start_time": "2022-05-27T20:01:21.122Z"
   },
   {
    "duration": 21,
    "start_time": "2022-05-27T20:03:16.314Z"
   },
   {
    "duration": 11,
    "start_time": "2022-05-27T20:03:30.951Z"
   },
   {
    "duration": 10,
    "start_time": "2022-05-27T20:03:56.315Z"
   },
   {
    "duration": 6,
    "start_time": "2022-05-27T20:05:21.145Z"
   },
   {
    "duration": 5,
    "start_time": "2022-05-27T20:06:35.753Z"
   },
   {
    "duration": 6,
    "start_time": "2022-05-27T20:08:15.031Z"
   },
   {
    "duration": 8,
    "start_time": "2022-05-27T20:08:24.159Z"
   },
   {
    "duration": 7,
    "start_time": "2022-05-27T20:08:30.318Z"
   },
   {
    "duration": 25,
    "start_time": "2022-05-27T20:09:18.660Z"
   },
   {
    "duration": 8,
    "start_time": "2022-05-27T20:09:55.835Z"
   },
   {
    "duration": 6,
    "start_time": "2022-05-27T20:11:50.782Z"
   },
   {
    "duration": 6,
    "start_time": "2022-05-27T20:12:52.352Z"
   },
   {
    "duration": 4,
    "start_time": "2022-05-27T20:14:10.016Z"
   },
   {
    "duration": 8,
    "start_time": "2022-05-27T20:14:37.798Z"
   },
   {
    "duration": 26,
    "start_time": "2022-05-27T20:17:34.319Z"
   },
   {
    "duration": 24,
    "start_time": "2022-05-27T20:17:38.672Z"
   },
   {
    "duration": 23,
    "start_time": "2022-05-27T20:18:12.664Z"
   },
   {
    "duration": 532,
    "start_time": "2022-05-27T20:34:23.421Z"
   },
   {
    "duration": 5,
    "start_time": "2022-05-27T20:34:32.865Z"
   },
   {
    "duration": 5,
    "start_time": "2022-05-27T20:36:06.778Z"
   },
   {
    "duration": 9,
    "start_time": "2022-05-27T20:36:10.905Z"
   },
   {
    "duration": 11,
    "start_time": "2022-05-27T20:39:25.698Z"
   },
   {
    "duration": 10,
    "start_time": "2022-05-27T20:39:29.198Z"
   },
   {
    "duration": 7,
    "start_time": "2022-05-27T20:39:55.826Z"
   },
   {
    "duration": 757,
    "start_time": "2022-05-27T20:40:05.612Z"
   },
   {
    "duration": 16,
    "start_time": "2022-05-27T20:40:06.371Z"
   },
   {
    "duration": 34,
    "start_time": "2022-05-27T20:40:06.389Z"
   },
   {
    "duration": 7,
    "start_time": "2022-05-27T20:40:06.425Z"
   },
   {
    "duration": 17,
    "start_time": "2022-05-27T20:40:06.434Z"
   },
   {
    "duration": 14,
    "start_time": "2022-05-27T20:40:06.452Z"
   },
   {
    "duration": 9,
    "start_time": "2022-05-27T20:41:47.420Z"
   },
   {
    "duration": 9,
    "start_time": "2022-05-27T20:41:58.801Z"
   },
   {
    "duration": 8,
    "start_time": "2022-05-27T20:42:06.511Z"
   },
   {
    "duration": 7,
    "start_time": "2022-05-27T20:42:55.378Z"
   },
   {
    "duration": 5,
    "start_time": "2022-05-27T20:43:17.324Z"
   },
   {
    "duration": 8,
    "start_time": "2022-05-27T20:43:42.896Z"
   },
   {
    "duration": 736,
    "start_time": "2022-05-27T20:43:53.053Z"
   },
   {
    "duration": 16,
    "start_time": "2022-05-27T20:43:53.791Z"
   },
   {
    "duration": 28,
    "start_time": "2022-05-27T20:43:53.808Z"
   },
   {
    "duration": 11,
    "start_time": "2022-05-27T20:43:53.838Z"
   },
   {
    "duration": 13,
    "start_time": "2022-05-27T20:43:53.851Z"
   },
   {
    "duration": 8,
    "start_time": "2022-05-27T20:43:53.866Z"
   },
   {
    "duration": 29,
    "start_time": "2022-05-27T20:43:53.876Z"
   },
   {
    "duration": 9,
    "start_time": "2022-05-27T20:45:47.586Z"
   },
   {
    "duration": 8,
    "start_time": "2022-05-27T20:45:52.236Z"
   },
   {
    "duration": 836,
    "start_time": "2022-05-27T20:45:57.566Z"
   },
   {
    "duration": 16,
    "start_time": "2022-05-27T20:45:58.404Z"
   },
   {
    "duration": 25,
    "start_time": "2022-05-27T20:45:58.422Z"
   },
   {
    "duration": 11,
    "start_time": "2022-05-27T20:45:58.449Z"
   },
   {
    "duration": 42,
    "start_time": "2022-05-27T20:45:58.464Z"
   },
   {
    "duration": 12,
    "start_time": "2022-05-27T20:45:58.508Z"
   },
   {
    "duration": 20,
    "start_time": "2022-05-27T20:45:58.522Z"
   },
   {
    "duration": 9,
    "start_time": "2022-05-27T20:46:45.550Z"
   },
   {
    "duration": 774,
    "start_time": "2022-05-27T20:47:15.464Z"
   },
   {
    "duration": 15,
    "start_time": "2022-05-27T20:47:16.240Z"
   },
   {
    "duration": 25,
    "start_time": "2022-05-27T20:47:16.256Z"
   },
   {
    "duration": 20,
    "start_time": "2022-05-27T20:47:16.282Z"
   },
   {
    "duration": 14,
    "start_time": "2022-05-27T20:47:16.304Z"
   },
   {
    "duration": 9,
    "start_time": "2022-05-27T20:47:16.320Z"
   },
   {
    "duration": 9,
    "start_time": "2022-05-27T20:47:16.331Z"
   },
   {
    "duration": 74,
    "start_time": "2022-05-27T21:24:55.390Z"
   },
   {
    "duration": 5,
    "start_time": "2022-05-27T21:25:13.899Z"
   },
   {
    "duration": 6,
    "start_time": "2022-05-27T21:26:43.169Z"
   },
   {
    "duration": 5,
    "start_time": "2022-05-27T21:26:53.492Z"
   },
   {
    "duration": 5,
    "start_time": "2022-05-27T21:27:07.792Z"
   },
   {
    "duration": 26,
    "start_time": "2022-05-27T21:28:28.244Z"
   },
   {
    "duration": 6,
    "start_time": "2022-05-27T21:31:35.395Z"
   },
   {
    "duration": 5,
    "start_time": "2022-05-27T21:35:51.060Z"
   },
   {
    "duration": 755,
    "start_time": "2022-05-27T21:35:58.499Z"
   },
   {
    "duration": 14,
    "start_time": "2022-05-27T21:35:59.255Z"
   },
   {
    "duration": 32,
    "start_time": "2022-05-27T21:35:59.271Z"
   },
   {
    "duration": 8,
    "start_time": "2022-05-27T21:35:59.304Z"
   },
   {
    "duration": 8,
    "start_time": "2022-05-27T21:35:59.314Z"
   },
   {
    "duration": 11,
    "start_time": "2022-05-27T21:35:59.325Z"
   },
   {
    "duration": 10,
    "start_time": "2022-05-27T21:35:59.338Z"
   },
   {
    "duration": 6,
    "start_time": "2022-05-27T21:35:59.349Z"
   },
   {
    "duration": 103,
    "start_time": "2022-05-27T21:39:58.028Z"
   },
   {
    "duration": 15,
    "start_time": "2022-05-27T21:40:24.833Z"
   },
   {
    "duration": 4,
    "start_time": "2022-05-27T21:41:11.665Z"
   },
   {
    "duration": 5,
    "start_time": "2022-05-27T21:41:29.643Z"
   },
   {
    "duration": 1436,
    "start_time": "2022-05-29T19:32:14.626Z"
   },
   {
    "duration": 17,
    "start_time": "2022-05-29T19:32:16.064Z"
   },
   {
    "duration": 35,
    "start_time": "2022-05-29T19:32:16.082Z"
   },
   {
    "duration": 13,
    "start_time": "2022-05-29T19:32:16.119Z"
   },
   {
    "duration": 116,
    "start_time": "2022-05-29T19:32:16.135Z"
   },
   {
    "duration": 0,
    "start_time": "2022-05-29T19:32:16.252Z"
   },
   {
    "duration": 0,
    "start_time": "2022-05-29T19:32:16.254Z"
   },
   {
    "duration": 0,
    "start_time": "2022-05-29T19:32:16.255Z"
   },
   {
    "duration": 0,
    "start_time": "2022-05-29T19:32:16.256Z"
   },
   {
    "duration": 0,
    "start_time": "2022-05-29T19:32:16.257Z"
   },
   {
    "duration": 14,
    "start_time": "2022-05-29T19:32:53.597Z"
   },
   {
    "duration": 8,
    "start_time": "2022-05-29T19:33:01.403Z"
   },
   {
    "duration": 771,
    "start_time": "2022-05-29T19:33:18.243Z"
   },
   {
    "duration": 19,
    "start_time": "2022-05-29T19:33:19.017Z"
   },
   {
    "duration": 28,
    "start_time": "2022-05-29T19:33:19.038Z"
   },
   {
    "duration": 26,
    "start_time": "2022-05-29T19:33:19.069Z"
   },
   {
    "duration": 15,
    "start_time": "2022-05-29T19:33:19.097Z"
   },
   {
    "duration": 11,
    "start_time": "2022-05-29T19:33:19.113Z"
   },
   {
    "duration": 7,
    "start_time": "2022-05-29T19:33:19.125Z"
   },
   {
    "duration": 5,
    "start_time": "2022-05-29T19:33:19.134Z"
   },
   {
    "duration": 8,
    "start_time": "2022-05-29T19:33:19.141Z"
   },
   {
    "duration": 10,
    "start_time": "2022-05-29T19:33:19.151Z"
   },
   {
    "duration": 8,
    "start_time": "2022-05-29T19:36:24.750Z"
   },
   {
    "duration": 6,
    "start_time": "2022-05-29T19:36:30.287Z"
   },
   {
    "duration": 6,
    "start_time": "2022-05-29T19:42:09.511Z"
   },
   {
    "duration": 308,
    "start_time": "2022-05-29T19:46:34.594Z"
   },
   {
    "duration": 10,
    "start_time": "2022-05-29T19:46:49.599Z"
   },
   {
    "duration": 6,
    "start_time": "2022-05-29T19:46:55.423Z"
   },
   {
    "duration": 14,
    "start_time": "2022-05-29T19:47:41.184Z"
   },
   {
    "duration": 825,
    "start_time": "2022-05-29T19:47:48.475Z"
   },
   {
    "duration": 15,
    "start_time": "2022-05-29T19:47:49.302Z"
   },
   {
    "duration": 24,
    "start_time": "2022-05-29T19:47:49.318Z"
   },
   {
    "duration": 7,
    "start_time": "2022-05-29T19:47:49.344Z"
   },
   {
    "duration": 15,
    "start_time": "2022-05-29T19:47:49.353Z"
   },
   {
    "duration": 32,
    "start_time": "2022-05-29T19:47:49.369Z"
   },
   {
    "duration": 8,
    "start_time": "2022-05-29T19:47:49.403Z"
   },
   {
    "duration": 5,
    "start_time": "2022-05-29T19:47:49.413Z"
   },
   {
    "duration": 15,
    "start_time": "2022-05-29T19:47:49.419Z"
   },
   {
    "duration": 6,
    "start_time": "2022-05-29T19:47:49.436Z"
   },
   {
    "duration": 212,
    "start_time": "2022-05-29T19:54:14.415Z"
   },
   {
    "duration": 16,
    "start_time": "2022-05-29T19:54:34.008Z"
   },
   {
    "duration": 710,
    "start_time": "2022-05-29T19:54:51.248Z"
   },
   {
    "duration": 15,
    "start_time": "2022-05-29T19:54:51.960Z"
   },
   {
    "duration": 35,
    "start_time": "2022-05-29T19:54:51.976Z"
   },
   {
    "duration": 7,
    "start_time": "2022-05-29T19:54:52.013Z"
   },
   {
    "duration": 23,
    "start_time": "2022-05-29T19:54:52.022Z"
   },
   {
    "duration": 11,
    "start_time": "2022-05-29T19:54:52.047Z"
   },
   {
    "duration": 7,
    "start_time": "2022-05-29T19:54:52.060Z"
   },
   {
    "duration": 28,
    "start_time": "2022-05-29T19:54:52.068Z"
   },
   {
    "duration": 17,
    "start_time": "2022-05-29T19:54:52.097Z"
   },
   {
    "duration": 6,
    "start_time": "2022-05-29T19:54:52.116Z"
   },
   {
    "duration": 5,
    "start_time": "2022-05-29T19:54:52.124Z"
   },
   {
    "duration": 77,
    "start_time": "2022-05-29T20:06:01.255Z"
   },
   {
    "duration": 8,
    "start_time": "2022-05-29T20:06:46.369Z"
   },
   {
    "duration": 95,
    "start_time": "2022-05-29T20:07:01.853Z"
   },
   {
    "duration": 8,
    "start_time": "2022-05-29T20:07:14.135Z"
   },
   {
    "duration": 367,
    "start_time": "2022-05-29T20:07:44.097Z"
   },
   {
    "duration": 83,
    "start_time": "2022-05-29T20:07:50.726Z"
   },
   {
    "duration": 7,
    "start_time": "2022-05-29T20:08:09.182Z"
   },
   {
    "duration": 87,
    "start_time": "2022-05-29T20:10:06.636Z"
   },
   {
    "duration": 3,
    "start_time": "2022-05-29T20:13:59.133Z"
   },
   {
    "duration": 3,
    "start_time": "2022-05-29T20:14:11.195Z"
   },
   {
    "duration": 9,
    "start_time": "2022-05-29T20:15:24.816Z"
   },
   {
    "duration": 9,
    "start_time": "2022-05-29T20:16:10.328Z"
   },
   {
    "duration": 8,
    "start_time": "2022-05-29T20:17:34.068Z"
   },
   {
    "duration": 8,
    "start_time": "2022-05-29T20:17:50.168Z"
   },
   {
    "duration": 8,
    "start_time": "2022-05-29T20:18:34.609Z"
   },
   {
    "duration": 38,
    "start_time": "2022-05-29T20:18:49.800Z"
   },
   {
    "duration": 10,
    "start_time": "2022-05-29T20:18:57.406Z"
   },
   {
    "duration": 9,
    "start_time": "2022-05-29T20:23:54.666Z"
   },
   {
    "duration": 12,
    "start_time": "2022-05-29T20:26:20.254Z"
   },
   {
    "duration": 10,
    "start_time": "2022-05-29T20:26:38.028Z"
   },
   {
    "duration": 11,
    "start_time": "2022-05-29T20:26:43.908Z"
   },
   {
    "duration": 13,
    "start_time": "2022-05-29T20:28:52.402Z"
   },
   {
    "duration": 8,
    "start_time": "2022-05-29T20:33:48.495Z"
   },
   {
    "duration": 11,
    "start_time": "2022-05-29T20:34:08.093Z"
   },
   {
    "duration": 17,
    "start_time": "2022-05-29T20:36:04.195Z"
   },
   {
    "duration": 11,
    "start_time": "2022-05-29T20:36:21.648Z"
   },
   {
    "duration": 8,
    "start_time": "2022-05-29T20:36:31.539Z"
   },
   {
    "duration": 747,
    "start_time": "2022-05-29T20:36:46.316Z"
   },
   {
    "duration": 17,
    "start_time": "2022-05-29T20:36:47.065Z"
   },
   {
    "duration": 31,
    "start_time": "2022-05-29T20:36:47.083Z"
   },
   {
    "duration": 9,
    "start_time": "2022-05-29T20:36:47.115Z"
   },
   {
    "duration": 18,
    "start_time": "2022-05-29T20:36:47.125Z"
   },
   {
    "duration": 13,
    "start_time": "2022-05-29T20:36:47.144Z"
   },
   {
    "duration": 16,
    "start_time": "2022-05-29T20:36:47.158Z"
   },
   {
    "duration": 6,
    "start_time": "2022-05-29T20:36:47.195Z"
   },
   {
    "duration": 15,
    "start_time": "2022-05-29T20:36:47.202Z"
   },
   {
    "duration": 6,
    "start_time": "2022-05-29T20:36:47.219Z"
   },
   {
    "duration": 6,
    "start_time": "2022-05-29T20:36:47.227Z"
   },
   {
    "duration": 809,
    "start_time": "2022-05-29T20:38:27.896Z"
   },
   {
    "duration": 15,
    "start_time": "2022-05-29T20:38:28.707Z"
   },
   {
    "duration": 32,
    "start_time": "2022-05-29T20:38:28.723Z"
   },
   {
    "duration": 8,
    "start_time": "2022-05-29T20:38:28.757Z"
   },
   {
    "duration": 17,
    "start_time": "2022-05-29T20:38:28.794Z"
   },
   {
    "duration": 18,
    "start_time": "2022-05-29T20:38:28.813Z"
   },
   {
    "duration": 8,
    "start_time": "2022-05-29T20:38:28.833Z"
   },
   {
    "duration": 7,
    "start_time": "2022-05-29T20:38:28.842Z"
   },
   {
    "duration": 61,
    "start_time": "2022-05-29T20:38:28.851Z"
   },
   {
    "duration": 10,
    "start_time": "2022-05-29T20:38:28.915Z"
   },
   {
    "duration": 16,
    "start_time": "2022-05-29T20:38:28.927Z"
   },
   {
    "duration": 1162,
    "start_time": "2022-05-29T22:08:15.664Z"
   },
   {
    "duration": 15,
    "start_time": "2022-05-29T22:08:16.828Z"
   },
   {
    "duration": 24,
    "start_time": "2022-05-29T22:08:16.845Z"
   },
   {
    "duration": 8,
    "start_time": "2022-05-29T22:08:16.870Z"
   },
   {
    "duration": 14,
    "start_time": "2022-05-29T22:08:16.880Z"
   },
   {
    "duration": 37,
    "start_time": "2022-05-29T22:08:16.895Z"
   },
   {
    "duration": 7,
    "start_time": "2022-05-29T22:08:16.934Z"
   },
   {
    "duration": 5,
    "start_time": "2022-05-29T22:08:16.942Z"
   },
   {
    "duration": 14,
    "start_time": "2022-05-29T22:08:16.949Z"
   },
   {
    "duration": 6,
    "start_time": "2022-05-29T22:08:16.964Z"
   },
   {
    "duration": 6,
    "start_time": "2022-05-29T22:08:16.971Z"
   },
   {
    "duration": 75,
    "start_time": "2022-05-29T22:09:45.654Z"
   },
   {
    "duration": 8,
    "start_time": "2022-05-29T22:09:58.974Z"
   },
   {
    "duration": 8,
    "start_time": "2022-05-29T22:10:11.910Z"
   },
   {
    "duration": 8,
    "start_time": "2022-05-29T22:10:21.288Z"
   },
   {
    "duration": 6,
    "start_time": "2022-05-29T22:11:25.251Z"
   },
   {
    "duration": 5,
    "start_time": "2022-05-29T22:11:28.725Z"
   },
   {
    "duration": 7,
    "start_time": "2022-05-29T22:11:48.203Z"
   },
   {
    "duration": 8,
    "start_time": "2022-05-29T22:12:25.100Z"
   },
   {
    "duration": 9,
    "start_time": "2022-05-29T22:12:37.271Z"
   },
   {
    "duration": 15,
    "start_time": "2022-05-29T22:13:16.880Z"
   },
   {
    "duration": 10,
    "start_time": "2022-05-29T22:13:24.168Z"
   },
   {
    "duration": 13,
    "start_time": "2022-05-29T22:13:38.076Z"
   },
   {
    "duration": 10,
    "start_time": "2022-05-29T22:13:48.642Z"
   },
   {
    "duration": 13,
    "start_time": "2022-05-29T22:13:57.067Z"
   },
   {
    "duration": 13,
    "start_time": "2022-05-29T22:14:02.906Z"
   },
   {
    "duration": 13,
    "start_time": "2022-05-29T22:14:16.087Z"
   },
   {
    "duration": 14,
    "start_time": "2022-05-29T22:14:23.859Z"
   },
   {
    "duration": 72,
    "start_time": "2022-05-29T22:19:34.530Z"
   },
   {
    "duration": 25,
    "start_time": "2022-05-29T22:19:34.604Z"
   },
   {
    "duration": 21,
    "start_time": "2022-05-29T22:19:34.631Z"
   },
   {
    "duration": 8,
    "start_time": "2022-05-29T22:19:34.654Z"
   },
   {
    "duration": 32,
    "start_time": "2022-05-29T22:19:34.664Z"
   },
   {
    "duration": 11,
    "start_time": "2022-05-29T22:19:34.698Z"
   },
   {
    "duration": 33,
    "start_time": "2022-05-29T22:19:34.710Z"
   },
   {
    "duration": 26,
    "start_time": "2022-05-29T22:19:34.745Z"
   },
   {
    "duration": 27,
    "start_time": "2022-05-29T22:19:34.773Z"
   },
   {
    "duration": 23,
    "start_time": "2022-05-29T22:19:34.802Z"
   },
   {
    "duration": 50,
    "start_time": "2022-05-29T22:19:34.827Z"
   },
   {
    "duration": 28,
    "start_time": "2022-05-29T22:19:34.879Z"
   },
   {
    "duration": 776,
    "start_time": "2022-05-29T22:19:46.096Z"
   },
   {
    "duration": 14,
    "start_time": "2022-05-29T22:19:46.874Z"
   },
   {
    "duration": 38,
    "start_time": "2022-05-29T22:19:46.889Z"
   },
   {
    "duration": 8,
    "start_time": "2022-05-29T22:19:46.929Z"
   },
   {
    "duration": 16,
    "start_time": "2022-05-29T22:19:46.939Z"
   },
   {
    "duration": 13,
    "start_time": "2022-05-29T22:19:46.956Z"
   },
   {
    "duration": 7,
    "start_time": "2022-05-29T22:19:46.970Z"
   },
   {
    "duration": 5,
    "start_time": "2022-05-29T22:19:46.979Z"
   },
   {
    "duration": 55,
    "start_time": "2022-05-29T22:19:46.985Z"
   },
   {
    "duration": 6,
    "start_time": "2022-05-29T22:19:47.041Z"
   },
   {
    "duration": 7,
    "start_time": "2022-05-29T22:19:47.048Z"
   },
   {
    "duration": 13,
    "start_time": "2022-05-29T22:19:47.056Z"
   },
   {
    "duration": 5,
    "start_time": "2022-05-29T22:24:02.277Z"
   },
   {
    "duration": 26,
    "start_time": "2022-05-29T22:27:09.895Z"
   },
   {
    "duration": 18,
    "start_time": "2022-05-29T22:27:25.732Z"
   },
   {
    "duration": 194,
    "start_time": "2022-05-29T22:27:45.087Z"
   },
   {
    "duration": 95,
    "start_time": "2022-05-29T22:29:54.650Z"
   },
   {
    "duration": 99,
    "start_time": "2022-05-29T22:32:36.590Z"
   },
   {
    "duration": 112,
    "start_time": "2022-05-29T22:32:44.656Z"
   },
   {
    "duration": 44,
    "start_time": "2022-05-29T22:36:06.220Z"
   },
   {
    "duration": 4,
    "start_time": "2022-05-29T22:36:13.020Z"
   },
   {
    "duration": 364,
    "start_time": "2022-05-29T22:36:55.094Z"
   },
   {
    "duration": 340,
    "start_time": "2022-05-29T22:37:12.030Z"
   },
   {
    "duration": 302,
    "start_time": "2022-05-29T22:38:02.914Z"
   },
   {
    "duration": 768,
    "start_time": "2022-05-29T22:38:07.998Z"
   },
   {
    "duration": 16,
    "start_time": "2022-05-29T22:38:08.768Z"
   },
   {
    "duration": 25,
    "start_time": "2022-05-29T22:38:08.785Z"
   },
   {
    "duration": 23,
    "start_time": "2022-05-29T22:38:08.812Z"
   },
   {
    "duration": 16,
    "start_time": "2022-05-29T22:38:08.836Z"
   },
   {
    "duration": 11,
    "start_time": "2022-05-29T22:38:08.853Z"
   },
   {
    "duration": 7,
    "start_time": "2022-05-29T22:38:08.866Z"
   },
   {
    "duration": 5,
    "start_time": "2022-05-29T22:38:08.875Z"
   },
   {
    "duration": 50,
    "start_time": "2022-05-29T22:38:08.882Z"
   },
   {
    "duration": 8,
    "start_time": "2022-05-29T22:38:08.934Z"
   },
   {
    "duration": 7,
    "start_time": "2022-05-29T22:38:08.944Z"
   },
   {
    "duration": 14,
    "start_time": "2022-05-29T22:38:08.952Z"
   },
   {
    "duration": 333,
    "start_time": "2022-05-29T22:38:08.967Z"
   },
   {
    "duration": 4,
    "start_time": "2022-05-29T22:42:46.176Z"
   },
   {
    "duration": 6,
    "start_time": "2022-05-29T22:43:06.025Z"
   },
   {
    "duration": 5,
    "start_time": "2022-05-29T22:43:09.143Z"
   },
   {
    "duration": 4,
    "start_time": "2022-05-29T22:44:24.927Z"
   },
   {
    "duration": 6,
    "start_time": "2022-05-29T22:44:42.712Z"
   },
   {
    "duration": 5,
    "start_time": "2022-05-29T22:44:49.888Z"
   },
   {
    "duration": 728,
    "start_time": "2022-05-29T22:44:53.733Z"
   },
   {
    "duration": 15,
    "start_time": "2022-05-29T22:44:54.463Z"
   },
   {
    "duration": 30,
    "start_time": "2022-05-29T22:44:54.480Z"
   },
   {
    "duration": 8,
    "start_time": "2022-05-29T22:44:54.511Z"
   },
   {
    "duration": 23,
    "start_time": "2022-05-29T22:44:54.526Z"
   },
   {
    "duration": 19,
    "start_time": "2022-05-29T22:44:54.551Z"
   },
   {
    "duration": 20,
    "start_time": "2022-05-29T22:44:54.571Z"
   },
   {
    "duration": 19,
    "start_time": "2022-05-29T22:44:54.593Z"
   },
   {
    "duration": 29,
    "start_time": "2022-05-29T22:44:54.614Z"
   },
   {
    "duration": 13,
    "start_time": "2022-05-29T22:44:54.644Z"
   },
   {
    "duration": 22,
    "start_time": "2022-05-29T22:44:54.658Z"
   },
   {
    "duration": 30,
    "start_time": "2022-05-29T22:44:54.682Z"
   },
   {
    "duration": 304,
    "start_time": "2022-05-29T22:44:54.714Z"
   },
   {
    "duration": 4,
    "start_time": "2022-05-29T22:44:55.020Z"
   },
   {
    "duration": 1477,
    "start_time": "2022-05-30T18:25:10.538Z"
   },
   {
    "duration": 24,
    "start_time": "2022-05-30T18:25:12.018Z"
   },
   {
    "duration": 92,
    "start_time": "2022-05-30T18:25:12.043Z"
   },
   {
    "duration": 8,
    "start_time": "2022-05-30T18:25:12.136Z"
   },
   {
    "duration": 30,
    "start_time": "2022-05-30T18:25:12.147Z"
   },
   {
    "duration": 23,
    "start_time": "2022-05-30T18:25:12.184Z"
   },
   {
    "duration": 12,
    "start_time": "2022-05-30T18:25:12.209Z"
   },
   {
    "duration": 6,
    "start_time": "2022-05-30T18:25:12.223Z"
   },
   {
    "duration": 27,
    "start_time": "2022-05-30T18:25:12.231Z"
   },
   {
    "duration": 27,
    "start_time": "2022-05-30T18:25:12.266Z"
   },
   {
    "duration": 20,
    "start_time": "2022-05-30T18:25:12.297Z"
   },
   {
    "duration": 17,
    "start_time": "2022-05-30T18:25:12.319Z"
   },
   {
    "duration": 497,
    "start_time": "2022-05-30T18:25:12.338Z"
   },
   {
    "duration": 6,
    "start_time": "2022-05-30T18:25:12.838Z"
   },
   {
    "duration": 194,
    "start_time": "2022-05-30T18:26:45.326Z"
   },
   {
    "duration": 173,
    "start_time": "2022-05-30T18:26:57.231Z"
   },
   {
    "duration": 244,
    "start_time": "2022-05-30T18:27:05.079Z"
   },
   {
    "duration": 184,
    "start_time": "2022-05-30T18:27:13.341Z"
   },
   {
    "duration": 1416,
    "start_time": "2022-05-30T18:27:18.838Z"
   },
   {
    "duration": 173,
    "start_time": "2022-05-30T18:27:39.997Z"
   },
   {
    "duration": 245,
    "start_time": "2022-05-30T18:27:59.697Z"
   },
   {
    "duration": 243,
    "start_time": "2022-05-30T18:28:07.534Z"
   },
   {
    "duration": 159,
    "start_time": "2022-05-30T18:28:24.121Z"
   },
   {
    "duration": 322,
    "start_time": "2022-05-30T18:28:28.972Z"
   },
   {
    "duration": 251,
    "start_time": "2022-05-30T18:28:37.628Z"
   },
   {
    "duration": 207,
    "start_time": "2022-05-30T18:29:09.995Z"
   },
   {
    "duration": 287,
    "start_time": "2022-05-30T18:29:24.689Z"
   },
   {
    "duration": 366,
    "start_time": "2022-05-30T18:29:44.187Z"
   },
   {
    "duration": 780,
    "start_time": "2022-05-30T18:31:58.889Z"
   },
   {
    "duration": 25,
    "start_time": "2022-05-30T18:31:59.672Z"
   },
   {
    "duration": 36,
    "start_time": "2022-05-30T18:31:59.698Z"
   },
   {
    "duration": 25,
    "start_time": "2022-05-30T18:31:59.736Z"
   },
   {
    "duration": 25,
    "start_time": "2022-05-30T18:31:59.768Z"
   },
   {
    "duration": 17,
    "start_time": "2022-05-30T18:31:59.794Z"
   },
   {
    "duration": 8,
    "start_time": "2022-05-30T18:31:59.812Z"
   },
   {
    "duration": 5,
    "start_time": "2022-05-30T18:31:59.822Z"
   },
   {
    "duration": 17,
    "start_time": "2022-05-30T18:31:59.828Z"
   },
   {
    "duration": 6,
    "start_time": "2022-05-30T18:31:59.846Z"
   },
   {
    "duration": 38,
    "start_time": "2022-05-30T18:31:59.854Z"
   },
   {
    "duration": 13,
    "start_time": "2022-05-30T18:31:59.893Z"
   },
   {
    "duration": 346,
    "start_time": "2022-05-30T18:31:59.908Z"
   },
   {
    "duration": 13,
    "start_time": "2022-05-30T18:32:00.256Z"
   },
   {
    "duration": 238,
    "start_time": "2022-05-30T18:32:00.276Z"
   },
   {
    "duration": 145,
    "start_time": "2022-05-30T18:33:50.567Z"
   },
   {
    "duration": 7,
    "start_time": "2022-05-30T18:34:27.806Z"
   },
   {
    "duration": 144,
    "start_time": "2022-05-30T18:34:37.710Z"
   },
   {
    "duration": 140,
    "start_time": "2022-05-30T18:34:52.289Z"
   },
   {
    "duration": 131,
    "start_time": "2022-05-30T18:35:00.118Z"
   },
   {
    "duration": 236,
    "start_time": "2022-05-30T18:35:06.932Z"
   },
   {
    "duration": 285,
    "start_time": "2022-05-30T18:35:15.898Z"
   },
   {
    "duration": 192,
    "start_time": "2022-05-30T18:35:23.606Z"
   },
   {
    "duration": 188,
    "start_time": "2022-05-30T18:35:45.788Z"
   },
   {
    "duration": 197,
    "start_time": "2022-05-30T18:35:51.658Z"
   },
   {
    "duration": 200,
    "start_time": "2022-05-30T18:36:18.643Z"
   },
   {
    "duration": 218,
    "start_time": "2022-05-30T18:36:39.089Z"
   },
   {
    "duration": 228,
    "start_time": "2022-05-30T18:36:57.045Z"
   },
   {
    "duration": 226,
    "start_time": "2022-05-30T18:37:02.847Z"
   },
   {
    "duration": 200,
    "start_time": "2022-05-30T18:37:09.054Z"
   },
   {
    "duration": 285,
    "start_time": "2022-05-30T18:37:13.608Z"
   },
   {
    "duration": 288,
    "start_time": "2022-05-30T18:37:19.102Z"
   },
   {
    "duration": 204,
    "start_time": "2022-05-30T18:37:23.791Z"
   },
   {
    "duration": 215,
    "start_time": "2022-05-30T18:37:29.888Z"
   },
   {
    "duration": 209,
    "start_time": "2022-05-30T18:37:39.644Z"
   },
   {
    "duration": 321,
    "start_time": "2022-05-30T18:37:44.661Z"
   },
   {
    "duration": 231,
    "start_time": "2022-05-30T18:37:50.890Z"
   },
   {
    "duration": 246,
    "start_time": "2022-05-30T18:37:55.527Z"
   },
   {
    "duration": 236,
    "start_time": "2022-05-30T18:38:11.796Z"
   },
   {
    "duration": 847,
    "start_time": "2022-05-30T18:42:14.191Z"
   },
   {
    "duration": 30,
    "start_time": "2022-05-30T18:42:15.041Z"
   },
   {
    "duration": 31,
    "start_time": "2022-05-30T18:42:15.073Z"
   },
   {
    "duration": 11,
    "start_time": "2022-05-30T18:42:15.106Z"
   },
   {
    "duration": 15,
    "start_time": "2022-05-30T18:42:15.119Z"
   },
   {
    "duration": 27,
    "start_time": "2022-05-30T18:42:15.136Z"
   },
   {
    "duration": 18,
    "start_time": "2022-05-30T18:42:15.171Z"
   },
   {
    "duration": 14,
    "start_time": "2022-05-30T18:42:15.191Z"
   },
   {
    "duration": 21,
    "start_time": "2022-05-30T18:42:15.207Z"
   },
   {
    "duration": 7,
    "start_time": "2022-05-30T18:42:15.230Z"
   },
   {
    "duration": 10,
    "start_time": "2022-05-30T18:42:15.238Z"
   },
   {
    "duration": 18,
    "start_time": "2022-05-30T18:42:15.250Z"
   },
   {
    "duration": 361,
    "start_time": "2022-05-30T18:42:15.272Z"
   },
   {
    "duration": 5,
    "start_time": "2022-05-30T18:42:15.636Z"
   },
   {
    "duration": 251,
    "start_time": "2022-05-30T18:42:15.642Z"
   },
   {
    "duration": 225,
    "start_time": "2022-05-30T18:42:15.895Z"
   },
   {
    "duration": 7,
    "start_time": "2022-05-30T18:43:13.172Z"
   },
   {
    "duration": 145,
    "start_time": "2022-05-30T18:43:23.381Z"
   },
   {
    "duration": 187,
    "start_time": "2022-05-30T18:43:33.389Z"
   },
   {
    "duration": 314,
    "start_time": "2022-05-30T18:43:37.688Z"
   },
   {
    "duration": 311,
    "start_time": "2022-05-30T18:43:50.819Z"
   },
   {
    "duration": 147,
    "start_time": "2022-05-30T18:43:56.026Z"
   },
   {
    "duration": 171,
    "start_time": "2022-05-30T18:44:02.105Z"
   },
   {
    "duration": 173,
    "start_time": "2022-05-30T18:44:30.122Z"
   },
   {
    "duration": 182,
    "start_time": "2022-05-30T18:46:34.914Z"
   },
   {
    "duration": 247,
    "start_time": "2022-05-30T18:46:58.069Z"
   },
   {
    "duration": 206,
    "start_time": "2022-05-30T18:47:06.646Z"
   },
   {
    "duration": 263,
    "start_time": "2022-05-30T18:47:23.597Z"
   },
   {
    "duration": 212,
    "start_time": "2022-05-30T18:47:43.996Z"
   },
   {
    "duration": 220,
    "start_time": "2022-05-30T18:47:48.348Z"
   },
   {
    "duration": 208,
    "start_time": "2022-05-30T18:47:59.489Z"
   },
   {
    "duration": 268,
    "start_time": "2022-05-30T18:48:07.954Z"
   },
   {
    "duration": 801,
    "start_time": "2022-05-30T18:49:29.223Z"
   },
   {
    "duration": 18,
    "start_time": "2022-05-30T18:49:30.026Z"
   },
   {
    "duration": 35,
    "start_time": "2022-05-30T18:49:30.045Z"
   },
   {
    "duration": 11,
    "start_time": "2022-05-30T18:49:30.086Z"
   },
   {
    "duration": 19,
    "start_time": "2022-05-30T18:49:30.098Z"
   },
   {
    "duration": 15,
    "start_time": "2022-05-30T18:49:30.118Z"
   },
   {
    "duration": 34,
    "start_time": "2022-05-30T18:49:30.135Z"
   },
   {
    "duration": 10,
    "start_time": "2022-05-30T18:49:30.173Z"
   },
   {
    "duration": 30,
    "start_time": "2022-05-30T18:49:30.185Z"
   },
   {
    "duration": 12,
    "start_time": "2022-05-30T18:49:30.217Z"
   },
   {
    "duration": 16,
    "start_time": "2022-05-30T18:49:30.230Z"
   },
   {
    "duration": 27,
    "start_time": "2022-05-30T18:49:30.247Z"
   },
   {
    "duration": 368,
    "start_time": "2022-05-30T18:49:30.283Z"
   },
   {
    "duration": 9,
    "start_time": "2022-05-30T18:49:30.653Z"
   },
   {
    "duration": 245,
    "start_time": "2022-05-30T18:49:30.671Z"
   },
   {
    "duration": 267,
    "start_time": "2022-05-30T18:49:30.918Z"
   },
   {
    "duration": 369,
    "start_time": "2022-05-30T18:49:31.191Z"
   },
   {
    "duration": 5,
    "start_time": "2022-05-30T18:50:08.087Z"
   },
   {
    "duration": 5,
    "start_time": "2022-05-30T18:50:44.549Z"
   },
   {
    "duration": 128,
    "start_time": "2022-05-30T18:51:05.177Z"
   },
   {
    "duration": 151,
    "start_time": "2022-05-30T18:51:19.928Z"
   },
   {
    "duration": 152,
    "start_time": "2022-05-30T18:51:26.104Z"
   },
   {
    "duration": 166,
    "start_time": "2022-05-30T18:51:30.738Z"
   },
   {
    "duration": 193,
    "start_time": "2022-05-30T18:51:40.533Z"
   },
   {
    "duration": 202,
    "start_time": "2022-05-30T18:51:53.402Z"
   },
   {
    "duration": 208,
    "start_time": "2022-05-30T18:52:15.193Z"
   },
   {
    "duration": 202,
    "start_time": "2022-05-30T18:53:21.588Z"
   },
   {
    "duration": 932,
    "start_time": "2022-05-30T18:53:26.758Z"
   },
   {
    "duration": 16,
    "start_time": "2022-05-30T18:53:27.692Z"
   },
   {
    "duration": 28,
    "start_time": "2022-05-30T18:53:27.709Z"
   },
   {
    "duration": 8,
    "start_time": "2022-05-30T18:53:27.739Z"
   },
   {
    "duration": 48,
    "start_time": "2022-05-30T18:53:27.748Z"
   },
   {
    "duration": 21,
    "start_time": "2022-05-30T18:53:27.797Z"
   },
   {
    "duration": 23,
    "start_time": "2022-05-30T18:53:27.820Z"
   },
   {
    "duration": 5,
    "start_time": "2022-05-30T18:53:27.845Z"
   },
   {
    "duration": 52,
    "start_time": "2022-05-30T18:53:27.852Z"
   },
   {
    "duration": 13,
    "start_time": "2022-05-30T18:53:27.907Z"
   },
   {
    "duration": 16,
    "start_time": "2022-05-30T18:53:27.923Z"
   },
   {
    "duration": 57,
    "start_time": "2022-05-30T18:53:27.941Z"
   },
   {
    "duration": 400,
    "start_time": "2022-05-30T18:53:28.000Z"
   },
   {
    "duration": 5,
    "start_time": "2022-05-30T18:53:28.402Z"
   },
   {
    "duration": 231,
    "start_time": "2022-05-30T18:53:28.409Z"
   },
   {
    "duration": 247,
    "start_time": "2022-05-30T18:53:28.641Z"
   },
   {
    "duration": 330,
    "start_time": "2022-05-30T18:53:28.890Z"
   },
   {
    "duration": 216,
    "start_time": "2022-05-30T18:53:29.222Z"
   },
   {
    "duration": 4,
    "start_time": "2022-05-30T18:55:15.946Z"
   },
   {
    "duration": 175,
    "start_time": "2022-05-30T18:55:23.342Z"
   },
   {
    "duration": 230,
    "start_time": "2022-05-30T18:55:44.640Z"
   },
   {
    "duration": 254,
    "start_time": "2022-05-30T18:55:57.956Z"
   },
   {
    "duration": 340,
    "start_time": "2022-05-30T18:56:02.955Z"
   },
   {
    "duration": 247,
    "start_time": "2022-05-30T18:56:08.642Z"
   },
   {
    "duration": 445,
    "start_time": "2022-05-30T18:56:28.504Z"
   },
   {
    "duration": 201,
    "start_time": "2022-05-30T18:56:54.761Z"
   },
   {
    "duration": 860,
    "start_time": "2022-05-30T18:59:25.212Z"
   },
   {
    "duration": 21,
    "start_time": "2022-05-30T18:59:26.074Z"
   },
   {
    "duration": 28,
    "start_time": "2022-05-30T18:59:26.097Z"
   },
   {
    "duration": 10,
    "start_time": "2022-05-30T18:59:26.127Z"
   },
   {
    "duration": 38,
    "start_time": "2022-05-30T18:59:26.140Z"
   },
   {
    "duration": 31,
    "start_time": "2022-05-30T18:59:26.179Z"
   },
   {
    "duration": 9,
    "start_time": "2022-05-30T18:59:26.211Z"
   },
   {
    "duration": 8,
    "start_time": "2022-05-30T18:59:26.221Z"
   },
   {
    "duration": 18,
    "start_time": "2022-05-30T18:59:26.231Z"
   },
   {
    "duration": 22,
    "start_time": "2022-05-30T18:59:26.251Z"
   },
   {
    "duration": 25,
    "start_time": "2022-05-30T18:59:26.278Z"
   },
   {
    "duration": 14,
    "start_time": "2022-05-30T18:59:26.305Z"
   },
   {
    "duration": 378,
    "start_time": "2022-05-30T18:59:26.321Z"
   },
   {
    "duration": 5,
    "start_time": "2022-05-30T18:59:26.705Z"
   },
   {
    "duration": 230,
    "start_time": "2022-05-30T18:59:26.712Z"
   },
   {
    "duration": 274,
    "start_time": "2022-05-30T18:59:26.944Z"
   },
   {
    "duration": 458,
    "start_time": "2022-05-30T18:59:27.220Z"
   },
   {
    "duration": 227,
    "start_time": "2022-05-30T18:59:27.687Z"
   },
   {
    "duration": 248,
    "start_time": "2022-05-30T18:59:27.917Z"
   },
   {
    "duration": 207,
    "start_time": "2022-05-30T19:06:25.286Z"
   },
   {
    "duration": 89,
    "start_time": "2022-05-30T19:16:38.237Z"
   },
   {
    "duration": 7,
    "start_time": "2022-05-30T19:18:14.632Z"
   },
   {
    "duration": 13,
    "start_time": "2022-05-30T19:18:28.029Z"
   },
   {
    "duration": 11,
    "start_time": "2022-05-30T19:18:53.421Z"
   },
   {
    "duration": 15,
    "start_time": "2022-05-30T19:19:31.621Z"
   },
   {
    "duration": 24,
    "start_time": "2022-05-30T19:19:49.268Z"
   },
   {
    "duration": 14,
    "start_time": "2022-05-30T19:20:37.190Z"
   },
   {
    "duration": 21,
    "start_time": "2022-05-30T19:20:55.112Z"
   },
   {
    "duration": 17,
    "start_time": "2022-05-30T19:21:33.303Z"
   },
   {
    "duration": 45,
    "start_time": "2022-05-30T19:21:52.959Z"
   },
   {
    "duration": 12,
    "start_time": "2022-05-30T19:22:09.093Z"
   },
   {
    "duration": 24,
    "start_time": "2022-05-30T19:22:30.125Z"
   },
   {
    "duration": 22,
    "start_time": "2022-05-30T19:23:21.750Z"
   },
   {
    "duration": 30,
    "start_time": "2022-05-30T19:23:37.166Z"
   },
   {
    "duration": 23,
    "start_time": "2022-05-30T19:24:20.530Z"
   },
   {
    "duration": 37,
    "start_time": "2022-05-30T19:24:45.175Z"
   },
   {
    "duration": 28,
    "start_time": "2022-05-30T19:25:19.341Z"
   },
   {
    "duration": 464,
    "start_time": "2022-05-30T19:25:37.635Z"
   },
   {
    "duration": 34,
    "start_time": "2022-05-30T19:25:43.894Z"
   },
   {
    "duration": 39,
    "start_time": "2022-05-30T19:26:00.577Z"
   },
   {
    "duration": 47,
    "start_time": "2022-05-30T19:27:27.169Z"
   },
   {
    "duration": 28,
    "start_time": "2022-05-30T19:27:40.206Z"
   },
   {
    "duration": 748,
    "start_time": "2022-05-30T19:27:48.303Z"
   },
   {
    "duration": 18,
    "start_time": "2022-05-30T19:27:49.053Z"
   },
   {
    "duration": 30,
    "start_time": "2022-05-30T19:27:49.073Z"
   },
   {
    "duration": 9,
    "start_time": "2022-05-30T19:27:49.106Z"
   },
   {
    "duration": 15,
    "start_time": "2022-05-30T19:27:49.118Z"
   },
   {
    "duration": 38,
    "start_time": "2022-05-30T19:27:49.135Z"
   },
   {
    "duration": 9,
    "start_time": "2022-05-30T19:27:49.174Z"
   },
   {
    "duration": 5,
    "start_time": "2022-05-30T19:27:49.184Z"
   },
   {
    "duration": 17,
    "start_time": "2022-05-30T19:27:49.191Z"
   },
   {
    "duration": 6,
    "start_time": "2022-05-30T19:27:49.210Z"
   },
   {
    "duration": 5,
    "start_time": "2022-05-30T19:27:49.218Z"
   },
   {
    "duration": 46,
    "start_time": "2022-05-30T19:27:49.225Z"
   },
   {
    "duration": 335,
    "start_time": "2022-05-30T19:27:49.273Z"
   },
   {
    "duration": 6,
    "start_time": "2022-05-30T19:27:49.610Z"
   },
   {
    "duration": 211,
    "start_time": "2022-05-30T19:27:49.617Z"
   },
   {
    "duration": 212,
    "start_time": "2022-05-30T19:27:49.830Z"
   },
   {
    "duration": 333,
    "start_time": "2022-05-30T19:27:50.044Z"
   },
   {
    "duration": 211,
    "start_time": "2022-05-30T19:27:50.379Z"
   },
   {
    "duration": 219,
    "start_time": "2022-05-30T19:27:50.592Z"
   },
   {
    "duration": 34,
    "start_time": "2022-05-30T19:27:50.812Z"
   },
   {
    "duration": 64,
    "start_time": "2022-05-30T19:30:10.256Z"
   },
   {
    "duration": 85,
    "start_time": "2022-05-30T19:31:08.192Z"
   },
   {
    "duration": 17,
    "start_time": "2022-05-30T19:31:25.456Z"
   },
   {
    "duration": 11,
    "start_time": "2022-05-30T19:31:33.929Z"
   },
   {
    "duration": 8,
    "start_time": "2022-05-30T19:31:39.973Z"
   },
   {
    "duration": 62,
    "start_time": "2022-05-30T19:31:47.088Z"
   },
   {
    "duration": 6,
    "start_time": "2022-05-30T19:37:11.728Z"
   },
   {
    "duration": 4,
    "start_time": "2022-05-30T19:37:18.850Z"
   },
   {
    "duration": 11,
    "start_time": "2022-05-30T19:37:52.068Z"
   },
   {
    "duration": 983,
    "start_time": "2022-05-30T19:38:04.142Z"
   },
   {
    "duration": 27,
    "start_time": "2022-05-30T19:38:05.127Z"
   },
   {
    "duration": 74,
    "start_time": "2022-05-30T19:38:05.161Z"
   },
   {
    "duration": 12,
    "start_time": "2022-05-30T19:38:05.237Z"
   },
   {
    "duration": 55,
    "start_time": "2022-05-30T19:38:05.251Z"
   },
   {
    "duration": 31,
    "start_time": "2022-05-30T19:38:05.308Z"
   },
   {
    "duration": 79,
    "start_time": "2022-05-30T19:38:05.341Z"
   },
   {
    "duration": 79,
    "start_time": "2022-05-30T19:38:05.422Z"
   },
   {
    "duration": 46,
    "start_time": "2022-05-30T19:38:05.503Z"
   },
   {
    "duration": 24,
    "start_time": "2022-05-30T19:38:05.551Z"
   },
   {
    "duration": 47,
    "start_time": "2022-05-30T19:38:05.578Z"
   },
   {
    "duration": 25,
    "start_time": "2022-05-30T19:38:05.627Z"
   },
   {
    "duration": 486,
    "start_time": "2022-05-30T19:38:05.655Z"
   },
   {
    "duration": 5,
    "start_time": "2022-05-30T19:38:06.144Z"
   },
   {
    "duration": 366,
    "start_time": "2022-05-30T19:38:06.150Z"
   },
   {
    "duration": 333,
    "start_time": "2022-05-30T19:38:06.518Z"
   },
   {
    "duration": 531,
    "start_time": "2022-05-30T19:38:06.853Z"
   },
   {
    "duration": 346,
    "start_time": "2022-05-30T19:38:07.387Z"
   },
   {
    "duration": 332,
    "start_time": "2022-05-30T19:38:07.735Z"
   },
   {
    "duration": 45,
    "start_time": "2022-05-30T19:38:08.069Z"
   },
   {
    "duration": 108,
    "start_time": "2022-05-30T19:38:08.116Z"
   },
   {
    "duration": 512,
    "start_time": "2022-05-30T19:39:59.237Z"
   },
   {
    "duration": 218,
    "start_time": "2022-05-30T19:40:14.954Z"
   },
   {
    "duration": 280,
    "start_time": "2022-05-30T19:41:45.429Z"
   },
   {
    "duration": 189,
    "start_time": "2022-05-30T19:42:13.237Z"
   },
   {
    "duration": 204,
    "start_time": "2022-05-30T19:42:20.873Z"
   },
   {
    "duration": 26,
    "start_time": "2022-05-30T19:42:25.197Z"
   },
   {
    "duration": 30,
    "start_time": "2022-05-30T19:42:29.551Z"
   },
   {
    "duration": 304,
    "start_time": "2022-05-30T19:42:34.899Z"
   },
   {
    "duration": 253,
    "start_time": "2022-05-30T19:42:47.277Z"
   },
   {
    "duration": 197,
    "start_time": "2022-05-30T19:42:53.294Z"
   },
   {
    "duration": 863,
    "start_time": "2022-05-30T19:45:07.574Z"
   },
   {
    "duration": 34,
    "start_time": "2022-05-30T19:45:08.439Z"
   },
   {
    "duration": 31,
    "start_time": "2022-05-30T19:45:08.475Z"
   },
   {
    "duration": 9,
    "start_time": "2022-05-30T19:45:08.508Z"
   },
   {
    "duration": 23,
    "start_time": "2022-05-30T19:45:08.519Z"
   },
   {
    "duration": 28,
    "start_time": "2022-05-30T19:45:08.543Z"
   },
   {
    "duration": 31,
    "start_time": "2022-05-30T19:45:08.573Z"
   },
   {
    "duration": 6,
    "start_time": "2022-05-30T19:45:08.606Z"
   },
   {
    "duration": 16,
    "start_time": "2022-05-30T19:45:08.614Z"
   },
   {
    "duration": 6,
    "start_time": "2022-05-30T19:45:08.632Z"
   },
   {
    "duration": 7,
    "start_time": "2022-05-30T19:45:08.639Z"
   },
   {
    "duration": 34,
    "start_time": "2022-05-30T19:45:08.647Z"
   },
   {
    "duration": 412,
    "start_time": "2022-05-30T19:45:08.684Z"
   },
   {
    "duration": 5,
    "start_time": "2022-05-30T19:45:09.098Z"
   },
   {
    "duration": 225,
    "start_time": "2022-05-30T19:45:09.105Z"
   },
   {
    "duration": 231,
    "start_time": "2022-05-30T19:45:09.331Z"
   },
   {
    "duration": 370,
    "start_time": "2022-05-30T19:45:09.568Z"
   },
   {
    "duration": 230,
    "start_time": "2022-05-30T19:45:09.940Z"
   },
   {
    "duration": 232,
    "start_time": "2022-05-30T19:45:10.172Z"
   },
   {
    "duration": 34,
    "start_time": "2022-05-30T19:45:10.406Z"
   },
   {
    "duration": 73,
    "start_time": "2022-05-30T19:45:10.442Z"
   },
   {
    "duration": 233,
    "start_time": "2022-05-30T19:45:10.517Z"
   },
   {
    "duration": 222,
    "start_time": "2022-05-30T19:47:46.881Z"
   },
   {
    "duration": 1432,
    "start_time": "2022-05-30T19:48:07.110Z"
   },
   {
    "duration": 12,
    "start_time": "2022-05-30T19:48:13.811Z"
   },
   {
    "duration": 783,
    "start_time": "2022-05-30T19:51:22.105Z"
   },
   {
    "duration": 19,
    "start_time": "2022-05-30T19:51:22.891Z"
   },
   {
    "duration": 61,
    "start_time": "2022-05-30T19:51:22.911Z"
   },
   {
    "duration": 12,
    "start_time": "2022-05-30T19:51:22.976Z"
   },
   {
    "duration": 22,
    "start_time": "2022-05-30T19:51:22.990Z"
   },
   {
    "duration": 18,
    "start_time": "2022-05-30T19:51:23.015Z"
   },
   {
    "duration": 24,
    "start_time": "2022-05-30T19:51:23.035Z"
   },
   {
    "duration": 7,
    "start_time": "2022-05-30T19:51:23.066Z"
   },
   {
    "duration": 27,
    "start_time": "2022-05-30T19:51:23.075Z"
   },
   {
    "duration": 10,
    "start_time": "2022-05-30T19:51:23.104Z"
   },
   {
    "duration": 16,
    "start_time": "2022-05-30T19:51:23.117Z"
   },
   {
    "duration": 16,
    "start_time": "2022-05-30T19:51:23.135Z"
   },
   {
    "duration": 362,
    "start_time": "2022-05-30T19:51:23.153Z"
   },
   {
    "duration": 6,
    "start_time": "2022-05-30T19:51:23.518Z"
   },
   {
    "duration": 222,
    "start_time": "2022-05-30T19:51:23.526Z"
   },
   {
    "duration": 241,
    "start_time": "2022-05-30T19:51:23.749Z"
   },
   {
    "duration": 343,
    "start_time": "2022-05-30T19:51:23.992Z"
   },
   {
    "duration": 280,
    "start_time": "2022-05-30T19:51:24.336Z"
   },
   {
    "duration": 226,
    "start_time": "2022-05-30T19:51:24.618Z"
   },
   {
    "duration": 48,
    "start_time": "2022-05-30T19:51:24.845Z"
   },
   {
    "duration": 74,
    "start_time": "2022-05-30T19:51:24.895Z"
   },
   {
    "duration": 234,
    "start_time": "2022-05-30T19:51:24.979Z"
   },
   {
    "duration": 1043,
    "start_time": "2022-05-30T20:24:54.619Z"
   },
   {
    "duration": 26,
    "start_time": "2022-05-30T20:24:55.665Z"
   },
   {
    "duration": 35,
    "start_time": "2022-05-30T20:24:55.693Z"
   },
   {
    "duration": 14,
    "start_time": "2022-05-30T20:24:55.731Z"
   },
   {
    "duration": 24,
    "start_time": "2022-05-30T20:24:55.763Z"
   },
   {
    "duration": 30,
    "start_time": "2022-05-30T20:24:55.789Z"
   },
   {
    "duration": 9,
    "start_time": "2022-05-30T20:24:55.823Z"
   },
   {
    "duration": 12,
    "start_time": "2022-05-30T20:24:55.834Z"
   },
   {
    "duration": 68,
    "start_time": "2022-05-30T20:24:55.848Z"
   },
   {
    "duration": 9,
    "start_time": "2022-05-30T20:24:55.918Z"
   },
   {
    "duration": 8,
    "start_time": "2022-05-30T20:24:55.929Z"
   },
   {
    "duration": 25,
    "start_time": "2022-05-30T20:24:55.939Z"
   },
   {
    "duration": 367,
    "start_time": "2022-05-30T20:24:55.972Z"
   },
   {
    "duration": 6,
    "start_time": "2022-05-30T20:24:56.345Z"
   },
   {
    "duration": 249,
    "start_time": "2022-05-30T20:24:56.359Z"
   },
   {
    "duration": 318,
    "start_time": "2022-05-30T20:24:56.610Z"
   },
   {
    "duration": 483,
    "start_time": "2022-05-30T20:24:56.930Z"
   },
   {
    "duration": 269,
    "start_time": "2022-05-30T20:24:57.415Z"
   },
   {
    "duration": 300,
    "start_time": "2022-05-30T20:24:57.688Z"
   },
   {
    "duration": 55,
    "start_time": "2022-05-30T20:24:57.993Z"
   },
   {
    "duration": 92,
    "start_time": "2022-05-30T20:24:58.050Z"
   },
   {
    "duration": 272,
    "start_time": "2022-05-30T20:24:58.144Z"
   },
   {
    "duration": 844,
    "start_time": "2022-05-30T20:26:19.048Z"
   },
   {
    "duration": 18,
    "start_time": "2022-05-30T20:26:19.894Z"
   },
   {
    "duration": 62,
    "start_time": "2022-05-30T20:26:19.914Z"
   },
   {
    "duration": 13,
    "start_time": "2022-05-30T20:26:19.978Z"
   },
   {
    "duration": 22,
    "start_time": "2022-05-30T20:26:19.994Z"
   },
   {
    "duration": 13,
    "start_time": "2022-05-30T20:26:20.018Z"
   },
   {
    "duration": 28,
    "start_time": "2022-05-30T20:26:20.033Z"
   },
   {
    "duration": 13,
    "start_time": "2022-05-30T20:26:20.067Z"
   },
   {
    "duration": 17,
    "start_time": "2022-05-30T20:26:20.081Z"
   },
   {
    "duration": 6,
    "start_time": "2022-05-30T20:26:20.099Z"
   },
   {
    "duration": 6,
    "start_time": "2022-05-30T20:26:20.107Z"
   },
   {
    "duration": 26,
    "start_time": "2022-05-30T20:26:20.114Z"
   },
   {
    "duration": 373,
    "start_time": "2022-05-30T20:26:20.141Z"
   },
   {
    "duration": 6,
    "start_time": "2022-05-30T20:26:20.517Z"
   },
   {
    "duration": 229,
    "start_time": "2022-05-30T20:26:20.525Z"
   },
   {
    "duration": 242,
    "start_time": "2022-05-30T20:26:20.759Z"
   },
   {
    "duration": 359,
    "start_time": "2022-05-30T20:26:21.003Z"
   },
   {
    "duration": 213,
    "start_time": "2022-05-30T20:26:21.369Z"
   },
   {
    "duration": 229,
    "start_time": "2022-05-30T20:26:21.584Z"
   },
   {
    "duration": 54,
    "start_time": "2022-05-30T20:26:21.815Z"
   },
   {
    "duration": 58,
    "start_time": "2022-05-30T20:26:21.873Z"
   },
   {
    "duration": 221,
    "start_time": "2022-05-30T20:26:21.933Z"
   },
   {
    "duration": 40,
    "start_time": "2022-05-30T20:26:22.161Z"
   },
   {
    "duration": 235,
    "start_time": "2022-05-30T20:26:42.464Z"
   },
   {
    "duration": 209,
    "start_time": "2022-05-30T20:26:55.584Z"
   },
   {
    "duration": 845,
    "start_time": "2022-05-30T20:29:17.639Z"
   },
   {
    "duration": 18,
    "start_time": "2022-05-30T20:29:18.487Z"
   },
   {
    "duration": 27,
    "start_time": "2022-05-30T20:29:18.507Z"
   },
   {
    "duration": 30,
    "start_time": "2022-05-30T20:29:18.536Z"
   },
   {
    "duration": 38,
    "start_time": "2022-05-30T20:29:18.570Z"
   },
   {
    "duration": 13,
    "start_time": "2022-05-30T20:29:18.610Z"
   },
   {
    "duration": 9,
    "start_time": "2022-05-30T20:29:18.625Z"
   },
   {
    "duration": 12,
    "start_time": "2022-05-30T20:29:18.636Z"
   },
   {
    "duration": 43,
    "start_time": "2022-05-30T20:29:18.650Z"
   },
   {
    "duration": 38,
    "start_time": "2022-05-30T20:29:18.695Z"
   },
   {
    "duration": 25,
    "start_time": "2022-05-30T20:29:18.735Z"
   },
   {
    "duration": 47,
    "start_time": "2022-05-30T20:29:18.763Z"
   },
   {
    "duration": 386,
    "start_time": "2022-05-30T20:29:18.812Z"
   },
   {
    "duration": 6,
    "start_time": "2022-05-30T20:29:19.202Z"
   },
   {
    "duration": 265,
    "start_time": "2022-05-30T20:29:19.209Z"
   },
   {
    "duration": 243,
    "start_time": "2022-05-30T20:29:19.481Z"
   },
   {
    "duration": 382,
    "start_time": "2022-05-30T20:29:19.726Z"
   },
   {
    "duration": 268,
    "start_time": "2022-05-30T20:29:20.110Z"
   },
   {
    "duration": 301,
    "start_time": "2022-05-30T20:29:20.380Z"
   },
   {
    "duration": 33,
    "start_time": "2022-05-30T20:29:20.683Z"
   },
   {
    "duration": 79,
    "start_time": "2022-05-30T20:29:20.718Z"
   },
   {
    "duration": 229,
    "start_time": "2022-05-30T20:29:20.799Z"
   },
   {
    "duration": 224,
    "start_time": "2022-05-30T20:29:21.030Z"
   },
   {
    "duration": 273,
    "start_time": "2022-05-30T20:31:11.303Z"
   },
   {
    "duration": 258,
    "start_time": "2022-05-30T20:32:00.954Z"
   },
   {
    "duration": 238,
    "start_time": "2022-05-30T20:32:15.765Z"
   },
   {
    "duration": 859,
    "start_time": "2022-05-30T20:33:37.089Z"
   },
   {
    "duration": 21,
    "start_time": "2022-05-30T20:33:37.951Z"
   },
   {
    "duration": 37,
    "start_time": "2022-05-30T20:33:37.976Z"
   },
   {
    "duration": 9,
    "start_time": "2022-05-30T20:33:38.015Z"
   },
   {
    "duration": 18,
    "start_time": "2022-05-30T20:33:38.027Z"
   },
   {
    "duration": 18,
    "start_time": "2022-05-30T20:33:38.060Z"
   },
   {
    "duration": 12,
    "start_time": "2022-05-30T20:33:38.080Z"
   },
   {
    "duration": 6,
    "start_time": "2022-05-30T20:33:38.094Z"
   },
   {
    "duration": 21,
    "start_time": "2022-05-30T20:33:38.102Z"
   },
   {
    "duration": 7,
    "start_time": "2022-05-30T20:33:38.124Z"
   },
   {
    "duration": 12,
    "start_time": "2022-05-30T20:33:38.162Z"
   },
   {
    "duration": 20,
    "start_time": "2022-05-30T20:33:38.178Z"
   },
   {
    "duration": 354,
    "start_time": "2022-05-30T20:33:38.199Z"
   },
   {
    "duration": 8,
    "start_time": "2022-05-30T20:33:38.556Z"
   },
   {
    "duration": 256,
    "start_time": "2022-05-30T20:33:38.565Z"
   },
   {
    "duration": 281,
    "start_time": "2022-05-30T20:33:38.824Z"
   },
   {
    "duration": 373,
    "start_time": "2022-05-30T20:33:39.108Z"
   },
   {
    "duration": 219,
    "start_time": "2022-05-30T20:33:39.483Z"
   },
   {
    "duration": 239,
    "start_time": "2022-05-30T20:33:39.703Z"
   },
   {
    "duration": 51,
    "start_time": "2022-05-30T20:33:39.944Z"
   },
   {
    "duration": 76,
    "start_time": "2022-05-30T20:33:39.998Z"
   },
   {
    "duration": 241,
    "start_time": "2022-05-30T20:33:40.076Z"
   },
   {
    "duration": 266,
    "start_time": "2022-05-30T20:33:40.320Z"
   },
   {
    "duration": 289,
    "start_time": "2022-05-30T20:33:40.588Z"
   },
   {
    "duration": 610,
    "start_time": "2022-05-30T20:36:47.789Z"
   },
   {
    "duration": 166,
    "start_time": "2022-05-30T20:37:18.502Z"
   },
   {
    "duration": 18,
    "start_time": "2022-05-30T20:44:52.900Z"
   },
   {
    "duration": 927,
    "start_time": "2022-05-30T20:53:15.068Z"
   },
   {
    "duration": 289,
    "start_time": "2022-05-30T20:53:51.859Z"
   },
   {
    "duration": 1366,
    "start_time": "2022-05-30T20:56:05.407Z"
   },
   {
    "duration": 22,
    "start_time": "2022-05-30T20:56:06.777Z"
   },
   {
    "duration": 25,
    "start_time": "2022-05-30T20:56:06.800Z"
   },
   {
    "duration": 8,
    "start_time": "2022-05-30T20:56:06.827Z"
   },
   {
    "duration": 48,
    "start_time": "2022-05-30T20:56:06.836Z"
   },
   {
    "duration": 12,
    "start_time": "2022-05-30T20:56:06.886Z"
   },
   {
    "duration": 10,
    "start_time": "2022-05-30T20:56:06.900Z"
   },
   {
    "duration": 5,
    "start_time": "2022-05-30T20:56:06.912Z"
   },
   {
    "duration": 21,
    "start_time": "2022-05-30T20:56:06.919Z"
   },
   {
    "duration": 8,
    "start_time": "2022-05-30T20:56:06.959Z"
   },
   {
    "duration": 10,
    "start_time": "2022-05-30T20:56:06.969Z"
   },
   {
    "duration": 17,
    "start_time": "2022-05-30T20:56:06.981Z"
   },
   {
    "duration": 511,
    "start_time": "2022-05-30T20:56:07.001Z"
   },
   {
    "duration": 9,
    "start_time": "2022-05-30T20:56:07.514Z"
   },
   {
    "duration": 242,
    "start_time": "2022-05-30T20:56:07.525Z"
   },
   {
    "duration": 242,
    "start_time": "2022-05-30T20:56:07.768Z"
   },
   {
    "duration": 273,
    "start_time": "2022-05-30T20:56:08.011Z"
   },
   {
    "duration": 221,
    "start_time": "2022-05-30T20:56:08.287Z"
   },
   {
    "duration": 350,
    "start_time": "2022-05-30T20:56:08.510Z"
   },
   {
    "duration": 37,
    "start_time": "2022-05-30T20:56:08.862Z"
   },
   {
    "duration": 73,
    "start_time": "2022-05-30T20:56:08.900Z"
   },
   {
    "duration": 275,
    "start_time": "2022-05-30T20:56:08.975Z"
   },
   {
    "duration": 211,
    "start_time": "2022-05-30T20:56:09.259Z"
   },
   {
    "duration": 232,
    "start_time": "2022-05-30T20:56:09.472Z"
   },
   {
    "duration": 276,
    "start_time": "2022-05-30T20:56:09.706Z"
   },
   {
    "duration": 7,
    "start_time": "2022-05-30T20:57:20.901Z"
   },
   {
    "duration": 350,
    "start_time": "2022-05-30T20:58:43.969Z"
   },
   {
    "duration": 714,
    "start_time": "2022-05-30T20:59:00.522Z"
   },
   {
    "duration": 903,
    "start_time": "2022-05-30T20:59:27.399Z"
   },
   {
    "duration": 912,
    "start_time": "2022-05-30T20:59:52.783Z"
   },
   {
    "duration": 1305,
    "start_time": "2022-05-30T21:00:06.891Z"
   },
   {
    "duration": 18,
    "start_time": "2022-05-30T21:00:08.198Z"
   },
   {
    "duration": 42,
    "start_time": "2022-05-30T21:00:08.218Z"
   },
   {
    "duration": 19,
    "start_time": "2022-05-30T21:00:08.261Z"
   },
   {
    "duration": 28,
    "start_time": "2022-05-30T21:00:08.282Z"
   },
   {
    "duration": 34,
    "start_time": "2022-05-30T21:00:08.312Z"
   },
   {
    "duration": 35,
    "start_time": "2022-05-30T21:00:08.347Z"
   },
   {
    "duration": 18,
    "start_time": "2022-05-30T21:00:08.384Z"
   },
   {
    "duration": 35,
    "start_time": "2022-05-30T21:00:08.404Z"
   },
   {
    "duration": 90,
    "start_time": "2022-05-30T21:00:08.441Z"
   },
   {
    "duration": 15,
    "start_time": "2022-05-30T21:00:08.532Z"
   },
   {
    "duration": 38,
    "start_time": "2022-05-30T21:00:08.549Z"
   },
   {
    "duration": 408,
    "start_time": "2022-05-30T21:00:08.589Z"
   },
   {
    "duration": 5,
    "start_time": "2022-05-30T21:00:08.999Z"
   },
   {
    "duration": 218,
    "start_time": "2022-05-30T21:00:09.006Z"
   },
   {
    "duration": 226,
    "start_time": "2022-05-30T21:00:09.226Z"
   },
   {
    "duration": 250,
    "start_time": "2022-05-30T21:00:09.458Z"
   },
   {
    "duration": 208,
    "start_time": "2022-05-30T21:00:09.710Z"
   },
   {
    "duration": 300,
    "start_time": "2022-05-30T21:00:09.920Z"
   },
   {
    "duration": 44,
    "start_time": "2022-05-30T21:00:10.221Z"
   },
   {
    "duration": 83,
    "start_time": "2022-05-30T21:00:10.267Z"
   },
   {
    "duration": 208,
    "start_time": "2022-05-30T21:00:10.351Z"
   },
   {
    "duration": 212,
    "start_time": "2022-05-30T21:00:10.560Z"
   },
   {
    "duration": 253,
    "start_time": "2022-05-30T21:00:10.775Z"
   },
   {
    "duration": 287,
    "start_time": "2022-05-30T21:00:11.031Z"
   },
   {
    "duration": 950,
    "start_time": "2022-05-30T21:00:11.320Z"
   },
   {
    "duration": 918,
    "start_time": "2022-05-30T21:00:46.242Z"
   },
   {
    "duration": 1277,
    "start_time": "2022-05-30T21:01:07.881Z"
   },
   {
    "duration": 1411,
    "start_time": "2022-05-30T21:04:16.657Z"
   },
   {
    "duration": 181,
    "start_time": "2022-05-30T21:06:05.222Z"
   },
   {
    "duration": 42,
    "start_time": "2022-05-30T21:06:20.057Z"
   },
   {
    "duration": 10,
    "start_time": "2022-05-30T21:06:54.589Z"
   },
   {
    "duration": 15,
    "start_time": "2022-05-30T21:07:11.207Z"
   },
   {
    "duration": 8,
    "start_time": "2022-05-30T21:07:19.668Z"
   },
   {
    "duration": 9,
    "start_time": "2022-05-30T21:07:31.506Z"
   },
   {
    "duration": 10,
    "start_time": "2022-05-30T21:07:37.864Z"
   },
   {
    "duration": 9,
    "start_time": "2022-05-30T21:07:50.216Z"
   },
   {
    "duration": 7,
    "start_time": "2022-05-30T21:08:04.390Z"
   },
   {
    "duration": 8,
    "start_time": "2022-05-30T21:08:21.554Z"
   },
   {
    "duration": 12,
    "start_time": "2022-05-30T21:08:28.206Z"
   },
   {
    "duration": 10,
    "start_time": "2022-05-30T21:08:58.386Z"
   },
   {
    "duration": 13,
    "start_time": "2022-05-30T21:09:19.663Z"
   },
   {
    "duration": 10,
    "start_time": "2022-05-30T21:09:45.183Z"
   },
   {
    "duration": 15,
    "start_time": "2022-05-30T21:12:31.420Z"
   },
   {
    "duration": 37,
    "start_time": "2022-05-30T21:14:08.750Z"
   },
   {
    "duration": 20,
    "start_time": "2022-05-30T21:14:46.511Z"
   },
   {
    "duration": 22,
    "start_time": "2022-05-30T21:14:52.644Z"
   },
   {
    "duration": 19,
    "start_time": "2022-05-30T21:14:58.098Z"
   },
   {
    "duration": 9,
    "start_time": "2022-05-30T21:15:09.971Z"
   },
   {
    "duration": 8,
    "start_time": "2022-05-30T21:15:23.922Z"
   },
   {
    "duration": 8,
    "start_time": "2022-05-30T21:17:39.074Z"
   },
   {
    "duration": 11,
    "start_time": "2022-05-30T21:17:49.957Z"
   },
   {
    "duration": 17,
    "start_time": "2022-05-30T21:18:27.045Z"
   },
   {
    "duration": 14,
    "start_time": "2022-05-30T21:18:35.209Z"
   },
   {
    "duration": 14,
    "start_time": "2022-05-30T21:18:56.953Z"
   },
   {
    "duration": 497,
    "start_time": "2022-05-30T21:19:09.586Z"
   },
   {
    "duration": 610,
    "start_time": "2022-05-30T21:19:33.283Z"
   },
   {
    "duration": 1294,
    "start_time": "2022-05-30T21:22:15.622Z"
   },
   {
    "duration": 16,
    "start_time": "2022-05-30T21:22:16.918Z"
   },
   {
    "duration": 32,
    "start_time": "2022-05-30T21:22:16.936Z"
   },
   {
    "duration": 9,
    "start_time": "2022-05-30T21:22:16.970Z"
   },
   {
    "duration": 19,
    "start_time": "2022-05-30T21:22:16.981Z"
   },
   {
    "duration": 13,
    "start_time": "2022-05-30T21:22:17.002Z"
   },
   {
    "duration": 10,
    "start_time": "2022-05-30T21:22:17.016Z"
   },
   {
    "duration": 32,
    "start_time": "2022-05-30T21:22:17.028Z"
   },
   {
    "duration": 16,
    "start_time": "2022-05-30T21:22:17.062Z"
   },
   {
    "duration": 7,
    "start_time": "2022-05-30T21:22:17.080Z"
   },
   {
    "duration": 7,
    "start_time": "2022-05-30T21:22:17.089Z"
   },
   {
    "duration": 14,
    "start_time": "2022-05-30T21:22:17.098Z"
   },
   {
    "duration": 465,
    "start_time": "2022-05-30T21:22:17.113Z"
   },
   {
    "duration": 5,
    "start_time": "2022-05-30T21:22:17.583Z"
   },
   {
    "duration": 211,
    "start_time": "2022-05-30T21:22:17.590Z"
   },
   {
    "duration": 263,
    "start_time": "2022-05-30T21:22:17.803Z"
   },
   {
    "duration": 275,
    "start_time": "2022-05-30T21:22:18.070Z"
   },
   {
    "duration": 225,
    "start_time": "2022-05-30T21:22:18.346Z"
   },
   {
    "duration": 300,
    "start_time": "2022-05-30T21:22:18.573Z"
   },
   {
    "duration": 33,
    "start_time": "2022-05-30T21:22:18.875Z"
   },
   {
    "duration": 67,
    "start_time": "2022-05-30T21:22:18.910Z"
   },
   {
    "duration": 203,
    "start_time": "2022-05-30T21:22:18.979Z"
   },
   {
    "duration": 198,
    "start_time": "2022-05-30T21:22:19.184Z"
   },
   {
    "duration": 232,
    "start_time": "2022-05-30T21:22:19.384Z"
   },
   {
    "duration": 264,
    "start_time": "2022-05-30T21:22:19.618Z"
   },
   {
    "duration": 1154,
    "start_time": "2022-05-30T21:22:19.883Z"
   },
   {
    "duration": 116,
    "start_time": "2022-05-30T21:25:46.586Z"
   },
   {
    "duration": 30,
    "start_time": "2022-05-30T21:26:20.212Z"
   },
   {
    "duration": 31,
    "start_time": "2022-05-30T21:26:37.483Z"
   },
   {
    "duration": 19,
    "start_time": "2022-05-30T21:26:46.380Z"
   },
   {
    "duration": 27,
    "start_time": "2022-05-30T21:27:09.003Z"
   },
   {
    "duration": 20,
    "start_time": "2022-05-30T21:27:41.010Z"
   },
   {
    "duration": 9,
    "start_time": "2022-05-30T21:29:15.243Z"
   },
   {
    "duration": 8,
    "start_time": "2022-05-30T21:29:21.661Z"
   },
   {
    "duration": 7,
    "start_time": "2022-05-30T21:29:33.047Z"
   },
   {
    "duration": 8,
    "start_time": "2022-05-30T21:29:42.208Z"
   },
   {
    "duration": 13,
    "start_time": "2022-05-30T21:31:05.199Z"
   },
   {
    "duration": 11,
    "start_time": "2022-05-30T21:31:09.666Z"
   },
   {
    "duration": 21,
    "start_time": "2022-05-30T21:31:16.564Z"
   },
   {
    "duration": 42,
    "start_time": "2022-05-30T21:31:32.477Z"
   },
   {
    "duration": 33,
    "start_time": "2022-05-30T21:31:40.866Z"
   },
   {
    "duration": 46,
    "start_time": "2022-05-30T21:31:54.384Z"
   },
   {
    "duration": 15,
    "start_time": "2022-05-30T21:32:39.007Z"
   },
   {
    "duration": 15,
    "start_time": "2022-05-30T21:33:34.864Z"
   },
   {
    "duration": 13,
    "start_time": "2022-05-30T21:33:48.363Z"
   },
   {
    "duration": 49,
    "start_time": "2022-05-30T21:33:52.939Z"
   },
   {
    "duration": 14,
    "start_time": "2022-05-30T21:34:13.388Z"
   },
   {
    "duration": 46,
    "start_time": "2022-05-30T21:34:18.081Z"
   },
   {
    "duration": 9,
    "start_time": "2022-05-30T21:35:59.458Z"
   },
   {
    "duration": 1241,
    "start_time": "2022-05-30T21:36:05.058Z"
   },
   {
    "duration": 14,
    "start_time": "2022-05-30T21:36:06.301Z"
   },
   {
    "duration": 49,
    "start_time": "2022-05-30T21:36:06.317Z"
   },
   {
    "duration": 11,
    "start_time": "2022-05-30T21:36:06.368Z"
   },
   {
    "duration": 22,
    "start_time": "2022-05-30T21:36:06.381Z"
   },
   {
    "duration": 17,
    "start_time": "2022-05-30T21:36:06.405Z"
   },
   {
    "duration": 36,
    "start_time": "2022-05-30T21:36:06.424Z"
   },
   {
    "duration": 7,
    "start_time": "2022-05-30T21:36:06.462Z"
   },
   {
    "duration": 26,
    "start_time": "2022-05-30T21:36:06.470Z"
   },
   {
    "duration": 8,
    "start_time": "2022-05-30T21:36:06.499Z"
   },
   {
    "duration": 25,
    "start_time": "2022-05-30T21:36:06.509Z"
   },
   {
    "duration": 23,
    "start_time": "2022-05-30T21:36:06.536Z"
   },
   {
    "duration": 401,
    "start_time": "2022-05-30T21:36:06.560Z"
   },
   {
    "duration": 5,
    "start_time": "2022-05-30T21:36:06.963Z"
   },
   {
    "duration": 231,
    "start_time": "2022-05-30T21:36:06.969Z"
   },
   {
    "duration": 248,
    "start_time": "2022-05-30T21:36:07.202Z"
   },
   {
    "duration": 272,
    "start_time": "2022-05-30T21:36:07.452Z"
   },
   {
    "duration": 204,
    "start_time": "2022-05-30T21:36:07.726Z"
   },
   {
    "duration": 284,
    "start_time": "2022-05-30T21:36:07.932Z"
   },
   {
    "duration": 50,
    "start_time": "2022-05-30T21:36:08.217Z"
   },
   {
    "duration": 55,
    "start_time": "2022-05-30T21:36:08.269Z"
   },
   {
    "duration": 221,
    "start_time": "2022-05-30T21:36:08.326Z"
   },
   {
    "duration": 199,
    "start_time": "2022-05-30T21:36:08.549Z"
   },
   {
    "duration": 262,
    "start_time": "2022-05-30T21:36:08.750Z"
   },
   {
    "duration": 270,
    "start_time": "2022-05-30T21:36:09.014Z"
   },
   {
    "duration": 1150,
    "start_time": "2022-05-30T21:36:09.286Z"
   },
   {
    "duration": 7,
    "start_time": "2022-05-30T21:36:10.437Z"
   },
   {
    "duration": 19,
    "start_time": "2022-05-30T22:37:50.653Z"
   },
   {
    "duration": 7,
    "start_time": "2022-05-30T22:38:03.695Z"
   },
   {
    "duration": 7,
    "start_time": "2022-05-30T22:38:13.787Z"
   },
   {
    "duration": 654,
    "start_time": "2022-05-30T22:38:27.878Z"
   },
   {
    "duration": 375,
    "start_time": "2022-05-30T22:38:37.601Z"
   },
   {
    "duration": 11,
    "start_time": "2022-05-30T22:38:45.623Z"
   },
   {
    "duration": 7,
    "start_time": "2022-05-30T22:38:51.189Z"
   },
   {
    "duration": 12,
    "start_time": "2022-05-30T22:40:48.451Z"
   },
   {
    "duration": 8,
    "start_time": "2022-05-30T22:43:03.792Z"
   },
   {
    "duration": 34,
    "start_time": "2022-05-30T22:44:17.307Z"
   },
   {
    "duration": 20,
    "start_time": "2022-05-30T22:44:23.731Z"
   },
   {
    "duration": 19,
    "start_time": "2022-05-30T22:44:36.591Z"
   },
   {
    "duration": 18,
    "start_time": "2022-05-30T22:44:50.506Z"
   },
   {
    "duration": 41,
    "start_time": "2022-05-30T22:45:54.973Z"
   },
   {
    "duration": 21,
    "start_time": "2022-05-30T22:46:01.355Z"
   },
   {
    "duration": 19,
    "start_time": "2022-05-30T22:46:45.436Z"
   },
   {
    "duration": 23,
    "start_time": "2022-05-30T22:46:52.987Z"
   },
   {
    "duration": 14,
    "start_time": "2022-05-30T22:47:39.274Z"
   },
   {
    "duration": 475,
    "start_time": "2022-05-30T22:48:14.761Z"
   },
   {
    "duration": 15,
    "start_time": "2022-05-30T22:48:43.990Z"
   },
   {
    "duration": 20,
    "start_time": "2022-05-30T22:48:51.542Z"
   },
   {
    "duration": 12,
    "start_time": "2022-05-30T22:49:00.752Z"
   },
   {
    "duration": 12,
    "start_time": "2022-05-30T22:49:58.769Z"
   },
   {
    "duration": 12,
    "start_time": "2022-05-30T22:50:10.701Z"
   },
   {
    "duration": 48,
    "start_time": "2022-05-30T22:50:30.742Z"
   },
   {
    "duration": 12,
    "start_time": "2022-05-30T22:50:57.896Z"
   },
   {
    "duration": 34,
    "start_time": "2022-05-30T22:55:27.340Z"
   },
   {
    "duration": 8,
    "start_time": "2022-05-30T22:55:33.044Z"
   },
   {
    "duration": 23,
    "start_time": "2022-05-30T22:56:08.619Z"
   },
   {
    "duration": 14,
    "start_time": "2022-05-30T22:58:06.247Z"
   },
   {
    "duration": 12,
    "start_time": "2022-05-30T22:58:26.326Z"
   },
   {
    "duration": 12,
    "start_time": "2022-05-30T22:58:37.025Z"
   },
   {
    "duration": 13,
    "start_time": "2022-05-30T22:58:48.954Z"
   },
   {
    "duration": 1182,
    "start_time": "2022-05-30T23:00:44.618Z"
   },
   {
    "duration": 15,
    "start_time": "2022-05-30T23:00:45.802Z"
   },
   {
    "duration": 65,
    "start_time": "2022-05-30T23:00:45.819Z"
   },
   {
    "duration": 9,
    "start_time": "2022-05-30T23:00:45.886Z"
   },
   {
    "duration": 41,
    "start_time": "2022-05-30T23:00:45.897Z"
   },
   {
    "duration": 19,
    "start_time": "2022-05-30T23:00:45.939Z"
   },
   {
    "duration": 13,
    "start_time": "2022-05-30T23:00:45.959Z"
   },
   {
    "duration": 15,
    "start_time": "2022-05-30T23:00:45.974Z"
   },
   {
    "duration": 33,
    "start_time": "2022-05-30T23:00:45.991Z"
   },
   {
    "duration": 7,
    "start_time": "2022-05-30T23:00:46.025Z"
   },
   {
    "duration": 21,
    "start_time": "2022-05-30T23:00:46.033Z"
   },
   {
    "duration": 23,
    "start_time": "2022-05-30T23:00:46.056Z"
   },
   {
    "duration": 377,
    "start_time": "2022-05-30T23:00:46.081Z"
   },
   {
    "duration": 5,
    "start_time": "2022-05-30T23:00:46.461Z"
   },
   {
    "duration": 205,
    "start_time": "2022-05-30T23:00:46.467Z"
   },
   {
    "duration": 209,
    "start_time": "2022-05-30T23:00:46.674Z"
   },
   {
    "duration": 256,
    "start_time": "2022-05-30T23:00:46.884Z"
   },
   {
    "duration": 216,
    "start_time": "2022-05-30T23:00:47.142Z"
   },
   {
    "duration": 269,
    "start_time": "2022-05-30T23:00:47.359Z"
   },
   {
    "duration": 44,
    "start_time": "2022-05-30T23:00:47.629Z"
   },
   {
    "duration": 50,
    "start_time": "2022-05-30T23:00:47.675Z"
   },
   {
    "duration": 218,
    "start_time": "2022-05-30T23:00:47.726Z"
   },
   {
    "duration": 200,
    "start_time": "2022-05-30T23:00:47.946Z"
   },
   {
    "duration": 220,
    "start_time": "2022-05-30T23:00:48.148Z"
   },
   {
    "duration": 247,
    "start_time": "2022-05-30T23:00:48.369Z"
   },
   {
    "duration": 1047,
    "start_time": "2022-05-30T23:00:48.617Z"
   },
   {
    "duration": 16,
    "start_time": "2022-05-30T23:00:49.666Z"
   },
   {
    "duration": 18,
    "start_time": "2022-05-30T23:01:20.465Z"
   },
   {
    "duration": 20,
    "start_time": "2022-05-30T23:01:43.189Z"
   },
   {
    "duration": 23,
    "start_time": "2022-05-30T23:02:03.997Z"
   },
   {
    "duration": 38,
    "start_time": "2022-05-30T23:04:13.115Z"
   },
   {
    "duration": 36,
    "start_time": "2022-05-30T23:04:58.419Z"
   },
   {
    "duration": 40,
    "start_time": "2022-05-30T23:06:48.072Z"
   },
   {
    "duration": 1174,
    "start_time": "2022-05-30T23:07:39.197Z"
   },
   {
    "duration": 14,
    "start_time": "2022-05-30T23:07:40.373Z"
   },
   {
    "duration": 22,
    "start_time": "2022-05-30T23:07:40.389Z"
   },
   {
    "duration": 8,
    "start_time": "2022-05-30T23:07:40.412Z"
   },
   {
    "duration": 42,
    "start_time": "2022-05-30T23:07:40.422Z"
   },
   {
    "duration": 11,
    "start_time": "2022-05-30T23:07:40.466Z"
   },
   {
    "duration": 7,
    "start_time": "2022-05-30T23:07:40.479Z"
   },
   {
    "duration": 5,
    "start_time": "2022-05-30T23:07:40.487Z"
   },
   {
    "duration": 16,
    "start_time": "2022-05-30T23:07:40.493Z"
   },
   {
    "duration": 5,
    "start_time": "2022-05-30T23:07:40.511Z"
   },
   {
    "duration": 8,
    "start_time": "2022-05-30T23:07:40.517Z"
   },
   {
    "duration": 40,
    "start_time": "2022-05-30T23:07:40.526Z"
   },
   {
    "duration": 376,
    "start_time": "2022-05-30T23:07:40.567Z"
   },
   {
    "duration": 5,
    "start_time": "2022-05-30T23:07:40.945Z"
   },
   {
    "duration": 184,
    "start_time": "2022-05-30T23:07:40.951Z"
   },
   {
    "duration": 191,
    "start_time": "2022-05-30T23:07:41.136Z"
   },
   {
    "duration": 236,
    "start_time": "2022-05-30T23:07:41.329Z"
   },
   {
    "duration": 193,
    "start_time": "2022-05-30T23:07:41.567Z"
   },
   {
    "duration": 258,
    "start_time": "2022-05-30T23:07:41.761Z"
   },
   {
    "duration": 40,
    "start_time": "2022-05-30T23:07:42.021Z"
   },
   {
    "duration": 49,
    "start_time": "2022-05-30T23:07:42.062Z"
   },
   {
    "duration": 194,
    "start_time": "2022-05-30T23:07:42.112Z"
   },
   {
    "duration": 190,
    "start_time": "2022-05-30T23:07:42.307Z"
   },
   {
    "duration": 221,
    "start_time": "2022-05-30T23:07:42.499Z"
   },
   {
    "duration": 249,
    "start_time": "2022-05-30T23:07:42.721Z"
   },
   {
    "duration": 1032,
    "start_time": "2022-05-30T23:07:42.971Z"
   },
   {
    "duration": 40,
    "start_time": "2022-05-30T23:07:44.004Z"
   },
   {
    "duration": 92,
    "start_time": "2022-05-31T07:07:40.140Z"
   },
   {
    "duration": 1764,
    "start_time": "2022-05-31T07:07:46.844Z"
   },
   {
    "duration": 16,
    "start_time": "2022-05-31T07:07:48.610Z"
   },
   {
    "duration": 24,
    "start_time": "2022-05-31T07:07:48.628Z"
   },
   {
    "duration": 9,
    "start_time": "2022-05-31T07:07:48.654Z"
   },
   {
    "duration": 42,
    "start_time": "2022-05-31T07:07:48.664Z"
   },
   {
    "duration": 18,
    "start_time": "2022-05-31T07:07:48.707Z"
   },
   {
    "duration": 12,
    "start_time": "2022-05-31T07:07:48.726Z"
   },
   {
    "duration": 10,
    "start_time": "2022-05-31T07:07:48.740Z"
   },
   {
    "duration": 39,
    "start_time": "2022-05-31T07:07:48.752Z"
   },
   {
    "duration": 6,
    "start_time": "2022-05-31T07:07:48.794Z"
   },
   {
    "duration": 8,
    "start_time": "2022-05-31T07:07:48.802Z"
   },
   {
    "duration": 26,
    "start_time": "2022-05-31T07:07:48.812Z"
   },
   {
    "duration": 424,
    "start_time": "2022-05-31T07:07:48.840Z"
   },
   {
    "duration": 5,
    "start_time": "2022-05-31T07:07:49.266Z"
   },
   {
    "duration": 222,
    "start_time": "2022-05-31T07:07:49.273Z"
   },
   {
    "duration": 236,
    "start_time": "2022-05-31T07:07:49.497Z"
   },
   {
    "duration": 390,
    "start_time": "2022-05-31T07:07:49.735Z"
   },
   {
    "duration": 218,
    "start_time": "2022-05-31T07:07:50.129Z"
   },
   {
    "duration": 305,
    "start_time": "2022-05-31T07:07:50.348Z"
   },
   {
    "duration": 43,
    "start_time": "2022-05-31T07:07:50.655Z"
   },
   {
    "duration": 101,
    "start_time": "2022-05-31T07:07:50.700Z"
   },
   {
    "duration": 264,
    "start_time": "2022-05-31T07:07:50.802Z"
   },
   {
    "duration": 250,
    "start_time": "2022-05-31T07:07:51.068Z"
   },
   {
    "duration": 239,
    "start_time": "2022-05-31T07:07:51.320Z"
   },
   {
    "duration": 282,
    "start_time": "2022-05-31T07:07:51.561Z"
   },
   {
    "duration": 1349,
    "start_time": "2022-05-31T07:07:51.845Z"
   },
   {
    "duration": 65,
    "start_time": "2022-05-31T07:07:53.197Z"
   },
   {
    "duration": 152,
    "start_time": "2022-05-31T07:14:15.740Z"
   },
   {
    "duration": 54,
    "start_time": "2022-05-31T07:14:34.241Z"
   },
   {
    "duration": 51,
    "start_time": "2022-05-31T07:14:46.205Z"
   },
   {
    "duration": 53,
    "start_time": "2022-05-31T07:15:01.764Z"
   },
   {
    "duration": 69,
    "start_time": "2022-05-31T07:28:43.898Z"
   },
   {
    "duration": 1262,
    "start_time": "2022-05-31T07:34:55.519Z"
   },
   {
    "duration": 16,
    "start_time": "2022-05-31T07:34:56.783Z"
   },
   {
    "duration": 37,
    "start_time": "2022-05-31T07:34:56.803Z"
   },
   {
    "duration": 9,
    "start_time": "2022-05-31T07:34:56.842Z"
   },
   {
    "duration": 18,
    "start_time": "2022-05-31T07:34:56.853Z"
   },
   {
    "duration": 14,
    "start_time": "2022-05-31T07:34:56.873Z"
   },
   {
    "duration": 7,
    "start_time": "2022-05-31T07:34:56.889Z"
   },
   {
    "duration": 7,
    "start_time": "2022-05-31T07:34:56.924Z"
   },
   {
    "duration": 20,
    "start_time": "2022-05-31T07:34:56.934Z"
   },
   {
    "duration": 6,
    "start_time": "2022-05-31T07:34:56.956Z"
   },
   {
    "duration": 13,
    "start_time": "2022-05-31T07:34:56.964Z"
   },
   {
    "duration": 12,
    "start_time": "2022-05-31T07:34:56.979Z"
   },
   {
    "duration": 461,
    "start_time": "2022-05-31T07:34:56.992Z"
   },
   {
    "duration": 5,
    "start_time": "2022-05-31T07:34:57.455Z"
   },
   {
    "duration": 213,
    "start_time": "2022-05-31T07:34:57.461Z"
   },
   {
    "duration": 219,
    "start_time": "2022-05-31T07:34:57.676Z"
   },
   {
    "duration": 274,
    "start_time": "2022-05-31T07:34:57.896Z"
   },
   {
    "duration": 221,
    "start_time": "2022-05-31T07:34:58.171Z"
   },
   {
    "duration": 309,
    "start_time": "2022-05-31T07:34:58.393Z"
   },
   {
    "duration": 48,
    "start_time": "2022-05-31T07:34:58.704Z"
   },
   {
    "duration": 57,
    "start_time": "2022-05-31T07:34:58.754Z"
   },
   {
    "duration": 249,
    "start_time": "2022-05-31T07:34:58.813Z"
   },
   {
    "duration": 233,
    "start_time": "2022-05-31T07:34:59.063Z"
   },
   {
    "duration": 262,
    "start_time": "2022-05-31T07:34:59.297Z"
   },
   {
    "duration": 264,
    "start_time": "2022-05-31T07:34:59.561Z"
   },
   {
    "duration": 1151,
    "start_time": "2022-05-31T07:34:59.827Z"
   },
   {
    "duration": 60,
    "start_time": "2022-05-31T07:35:00.981Z"
   },
   {
    "duration": 78,
    "start_time": "2022-05-31T07:36:10.228Z"
   },
   {
    "duration": 49,
    "start_time": "2022-05-31T07:36:31.332Z"
   },
   {
    "duration": 45,
    "start_time": "2022-05-31T07:37:44.940Z"
   },
   {
    "duration": 1245,
    "start_time": "2022-05-31T07:37:51.301Z"
   },
   {
    "duration": 15,
    "start_time": "2022-05-31T07:37:52.548Z"
   },
   {
    "duration": 24,
    "start_time": "2022-05-31T07:37:52.565Z"
   },
   {
    "duration": 10,
    "start_time": "2022-05-31T07:37:52.591Z"
   },
   {
    "duration": 18,
    "start_time": "2022-05-31T07:37:52.625Z"
   },
   {
    "duration": 16,
    "start_time": "2022-05-31T07:37:52.646Z"
   },
   {
    "duration": 10,
    "start_time": "2022-05-31T07:37:52.664Z"
   },
   {
    "duration": 17,
    "start_time": "2022-05-31T07:37:52.676Z"
   },
   {
    "duration": 39,
    "start_time": "2022-05-31T07:37:52.695Z"
   },
   {
    "duration": 9,
    "start_time": "2022-05-31T07:37:52.736Z"
   },
   {
    "duration": 31,
    "start_time": "2022-05-31T07:37:52.747Z"
   },
   {
    "duration": 26,
    "start_time": "2022-05-31T07:37:52.780Z"
   },
   {
    "duration": 415,
    "start_time": "2022-05-31T07:37:52.809Z"
   },
   {
    "duration": 6,
    "start_time": "2022-05-31T07:37:53.227Z"
   },
   {
    "duration": 206,
    "start_time": "2022-05-31T07:37:53.234Z"
   },
   {
    "duration": 224,
    "start_time": "2022-05-31T07:37:53.442Z"
   },
   {
    "duration": 273,
    "start_time": "2022-05-31T07:37:53.668Z"
   },
   {
    "duration": 227,
    "start_time": "2022-05-31T07:37:53.942Z"
   },
   {
    "duration": 342,
    "start_time": "2022-05-31T07:37:54.171Z"
   },
   {
    "duration": 41,
    "start_time": "2022-05-31T07:37:54.523Z"
   },
   {
    "duration": 74,
    "start_time": "2022-05-31T07:37:54.566Z"
   },
   {
    "duration": 229,
    "start_time": "2022-05-31T07:37:54.642Z"
   },
   {
    "duration": 213,
    "start_time": "2022-05-31T07:37:54.872Z"
   },
   {
    "duration": 256,
    "start_time": "2022-05-31T07:37:55.087Z"
   },
   {
    "duration": 253,
    "start_time": "2022-05-31T07:37:55.345Z"
   },
   {
    "duration": 1132,
    "start_time": "2022-05-31T07:37:55.600Z"
   },
   {
    "duration": 45,
    "start_time": "2022-05-31T07:37:56.733Z"
   },
   {
    "duration": 232,
    "start_time": "2022-05-31T07:54:46.149Z"
   },
   {
    "duration": 308,
    "start_time": "2022-05-31T07:55:08.971Z"
   },
   {
    "duration": 217,
    "start_time": "2022-05-31T07:55:18.891Z"
   },
   {
    "duration": 274,
    "start_time": "2022-05-31T08:08:11.290Z"
   },
   {
    "duration": 200,
    "start_time": "2022-05-31T08:08:44.779Z"
   },
   {
    "duration": 196,
    "start_time": "2022-05-31T08:09:55.498Z"
   },
   {
    "duration": 225,
    "start_time": "2022-05-31T08:10:11.090Z"
   },
   {
    "duration": 1240,
    "start_time": "2022-05-31T08:11:07.978Z"
   },
   {
    "duration": 26,
    "start_time": "2022-05-31T08:11:09.220Z"
   },
   {
    "duration": 38,
    "start_time": "2022-05-31T08:11:09.249Z"
   },
   {
    "duration": 12,
    "start_time": "2022-05-31T08:11:09.289Z"
   },
   {
    "duration": 46,
    "start_time": "2022-05-31T08:11:09.303Z"
   },
   {
    "duration": 17,
    "start_time": "2022-05-31T08:11:09.351Z"
   },
   {
    "duration": 7,
    "start_time": "2022-05-31T08:11:09.369Z"
   },
   {
    "duration": 6,
    "start_time": "2022-05-31T08:11:09.378Z"
   },
   {
    "duration": 16,
    "start_time": "2022-05-31T08:11:09.386Z"
   },
   {
    "duration": 10,
    "start_time": "2022-05-31T08:11:09.426Z"
   },
   {
    "duration": 13,
    "start_time": "2022-05-31T08:11:09.438Z"
   },
   {
    "duration": 18,
    "start_time": "2022-05-31T08:11:09.453Z"
   },
   {
    "duration": 414,
    "start_time": "2022-05-31T08:11:09.472Z"
   },
   {
    "duration": 5,
    "start_time": "2022-05-31T08:11:09.889Z"
   },
   {
    "duration": 257,
    "start_time": "2022-05-31T08:11:09.896Z"
   },
   {
    "duration": 235,
    "start_time": "2022-05-31T08:11:10.155Z"
   },
   {
    "duration": 293,
    "start_time": "2022-05-31T08:11:10.392Z"
   },
   {
    "duration": 250,
    "start_time": "2022-05-31T08:11:10.687Z"
   },
   {
    "duration": 312,
    "start_time": "2022-05-31T08:11:10.940Z"
   },
   {
    "duration": 34,
    "start_time": "2022-05-31T08:11:11.253Z"
   },
   {
    "duration": 76,
    "start_time": "2022-05-31T08:11:11.288Z"
   },
   {
    "duration": 217,
    "start_time": "2022-05-31T08:11:11.366Z"
   },
   {
    "duration": 222,
    "start_time": "2022-05-31T08:11:11.585Z"
   },
   {
    "duration": 278,
    "start_time": "2022-05-31T08:11:11.809Z"
   },
   {
    "duration": 299,
    "start_time": "2022-05-31T08:11:12.089Z"
   },
   {
    "duration": 1410,
    "start_time": "2022-05-31T08:11:12.390Z"
   },
   {
    "duration": 254,
    "start_time": "2022-05-31T08:11:13.802Z"
   },
   {
    "duration": 8,
    "start_time": "2022-05-31T08:27:11.376Z"
   },
   {
    "duration": 16,
    "start_time": "2022-05-31T08:29:06.424Z"
   },
   {
    "duration": 9,
    "start_time": "2022-05-31T08:29:42.488Z"
   },
   {
    "duration": 8,
    "start_time": "2022-05-31T08:29:46.008Z"
   },
   {
    "duration": 11,
    "start_time": "2022-05-31T08:32:04.352Z"
   },
   {
    "duration": 15,
    "start_time": "2022-05-31T08:32:28.344Z"
   },
   {
    "duration": 41,
    "start_time": "2022-05-31T08:33:24.263Z"
   },
   {
    "duration": 13,
    "start_time": "2022-05-31T08:33:31.895Z"
   },
   {
    "duration": 1214,
    "start_time": "2022-05-31T08:33:44.050Z"
   },
   {
    "duration": 13,
    "start_time": "2022-05-31T08:33:45.266Z"
   },
   {
    "duration": 22,
    "start_time": "2022-05-31T08:33:45.281Z"
   },
   {
    "duration": 21,
    "start_time": "2022-05-31T08:33:45.305Z"
   },
   {
    "duration": 23,
    "start_time": "2022-05-31T08:33:45.328Z"
   },
   {
    "duration": 11,
    "start_time": "2022-05-31T08:33:45.353Z"
   },
   {
    "duration": 7,
    "start_time": "2022-05-31T08:33:45.365Z"
   },
   {
    "duration": 8,
    "start_time": "2022-05-31T08:33:45.373Z"
   },
   {
    "duration": 20,
    "start_time": "2022-05-31T08:33:45.382Z"
   },
   {
    "duration": 24,
    "start_time": "2022-05-31T08:33:45.404Z"
   },
   {
    "duration": 17,
    "start_time": "2022-05-31T08:33:45.429Z"
   },
   {
    "duration": 12,
    "start_time": "2022-05-31T08:33:45.447Z"
   },
   {
    "duration": 414,
    "start_time": "2022-05-31T08:33:45.460Z"
   },
   {
    "duration": 5,
    "start_time": "2022-05-31T08:33:45.875Z"
   },
   {
    "duration": 217,
    "start_time": "2022-05-31T08:33:45.882Z"
   },
   {
    "duration": 220,
    "start_time": "2022-05-31T08:33:46.100Z"
   },
   {
    "duration": 268,
    "start_time": "2022-05-31T08:33:46.323Z"
   },
   {
    "duration": 208,
    "start_time": "2022-05-31T08:33:46.592Z"
   },
   {
    "duration": 304,
    "start_time": "2022-05-31T08:33:46.802Z"
   },
   {
    "duration": 43,
    "start_time": "2022-05-31T08:33:47.108Z"
   },
   {
    "duration": 51,
    "start_time": "2022-05-31T08:33:47.152Z"
   },
   {
    "duration": 224,
    "start_time": "2022-05-31T08:33:47.204Z"
   },
   {
    "duration": 213,
    "start_time": "2022-05-31T08:33:47.431Z"
   },
   {
    "duration": 246,
    "start_time": "2022-05-31T08:33:47.645Z"
   },
   {
    "duration": 319,
    "start_time": "2022-05-31T08:33:47.893Z"
   },
   {
    "duration": 1231,
    "start_time": "2022-05-31T08:33:48.213Z"
   },
   {
    "duration": 204,
    "start_time": "2022-05-31T08:33:49.445Z"
   },
   {
    "duration": 10,
    "start_time": "2022-05-31T08:33:49.652Z"
   },
   {
    "duration": 15,
    "start_time": "2022-05-31T08:55:12.118Z"
   },
   {
    "duration": 13,
    "start_time": "2022-05-31T08:55:29.351Z"
   },
   {
    "duration": 10,
    "start_time": "2022-05-31T08:55:44.367Z"
   },
   {
    "duration": 1275,
    "start_time": "2022-05-31T08:55:49.507Z"
   },
   {
    "duration": 16,
    "start_time": "2022-05-31T08:55:50.784Z"
   },
   {
    "duration": 34,
    "start_time": "2022-05-31T08:55:50.801Z"
   },
   {
    "duration": 15,
    "start_time": "2022-05-31T08:55:50.837Z"
   },
   {
    "duration": 16,
    "start_time": "2022-05-31T08:55:50.855Z"
   },
   {
    "duration": 11,
    "start_time": "2022-05-31T08:55:50.872Z"
   },
   {
    "duration": 7,
    "start_time": "2022-05-31T08:55:50.884Z"
   },
   {
    "duration": 35,
    "start_time": "2022-05-31T08:55:50.893Z"
   },
   {
    "duration": 34,
    "start_time": "2022-05-31T08:55:50.930Z"
   },
   {
    "duration": 12,
    "start_time": "2022-05-31T08:55:50.966Z"
   },
   {
    "duration": 6,
    "start_time": "2022-05-31T08:55:50.980Z"
   },
   {
    "duration": 14,
    "start_time": "2022-05-31T08:55:50.988Z"
   },
   {
    "duration": 418,
    "start_time": "2022-05-31T08:55:51.003Z"
   },
   {
    "duration": 15,
    "start_time": "2022-05-31T08:55:51.424Z"
   },
   {
    "duration": 228,
    "start_time": "2022-05-31T08:55:51.441Z"
   },
   {
    "duration": 232,
    "start_time": "2022-05-31T08:55:51.671Z"
   },
   {
    "duration": 290,
    "start_time": "2022-05-31T08:55:51.905Z"
   },
   {
    "duration": 211,
    "start_time": "2022-05-31T08:55:52.197Z"
   },
   {
    "duration": 345,
    "start_time": "2022-05-31T08:55:52.410Z"
   },
   {
    "duration": 41,
    "start_time": "2022-05-31T08:55:52.758Z"
   },
   {
    "duration": 83,
    "start_time": "2022-05-31T08:55:52.802Z"
   },
   {
    "duration": 275,
    "start_time": "2022-05-31T08:55:52.887Z"
   },
   {
    "duration": 224,
    "start_time": "2022-05-31T08:55:53.164Z"
   },
   {
    "duration": 273,
    "start_time": "2022-05-31T08:55:53.390Z"
   },
   {
    "duration": 302,
    "start_time": "2022-05-31T08:55:53.665Z"
   },
   {
    "duration": 1280,
    "start_time": "2022-05-31T08:55:53.969Z"
   },
   {
    "duration": 212,
    "start_time": "2022-05-31T08:55:55.252Z"
   },
   {
    "duration": 12,
    "start_time": "2022-05-31T08:55:55.465Z"
   },
   {
    "duration": 188,
    "start_time": "2022-05-31T09:03:36.396Z"
   },
   {
    "duration": 1414,
    "start_time": "2022-05-31T09:43:11.805Z"
   },
   {
    "duration": 22,
    "start_time": "2022-05-31T09:43:13.220Z"
   },
   {
    "duration": 36,
    "start_time": "2022-05-31T09:43:13.244Z"
   },
   {
    "duration": 22,
    "start_time": "2022-05-31T09:43:13.282Z"
   },
   {
    "duration": 39,
    "start_time": "2022-05-31T09:43:13.306Z"
   },
   {
    "duration": 12,
    "start_time": "2022-05-31T09:43:13.347Z"
   },
   {
    "duration": 23,
    "start_time": "2022-05-31T09:43:13.361Z"
   },
   {
    "duration": 19,
    "start_time": "2022-05-31T09:43:13.385Z"
   },
   {
    "duration": 26,
    "start_time": "2022-05-31T09:43:13.405Z"
   },
   {
    "duration": 20,
    "start_time": "2022-05-31T09:43:13.433Z"
   },
   {
    "duration": 14,
    "start_time": "2022-05-31T09:43:13.454Z"
   },
   {
    "duration": 14,
    "start_time": "2022-05-31T09:43:13.470Z"
   },
   {
    "duration": 384,
    "start_time": "2022-05-31T09:43:13.485Z"
   },
   {
    "duration": 5,
    "start_time": "2022-05-31T09:43:13.872Z"
   },
   {
    "duration": 226,
    "start_time": "2022-05-31T09:43:13.879Z"
   },
   {
    "duration": 208,
    "start_time": "2022-05-31T09:43:14.107Z"
   },
   {
    "duration": 259,
    "start_time": "2022-05-31T09:43:14.317Z"
   },
   {
    "duration": 198,
    "start_time": "2022-05-31T09:43:14.578Z"
   },
   {
    "duration": 278,
    "start_time": "2022-05-31T09:43:14.778Z"
   },
   {
    "duration": 34,
    "start_time": "2022-05-31T09:43:15.058Z"
   },
   {
    "duration": 71,
    "start_time": "2022-05-31T09:43:15.094Z"
   },
   {
    "duration": 217,
    "start_time": "2022-05-31T09:43:15.167Z"
   },
   {
    "duration": 206,
    "start_time": "2022-05-31T09:43:15.385Z"
   },
   {
    "duration": 254,
    "start_time": "2022-05-31T09:43:15.592Z"
   },
   {
    "duration": 300,
    "start_time": "2022-05-31T09:43:15.848Z"
   },
   {
    "duration": 1148,
    "start_time": "2022-05-31T09:43:16.150Z"
   },
   {
    "duration": 205,
    "start_time": "2022-05-31T09:43:17.300Z"
   },
   {
    "duration": 179,
    "start_time": "2022-05-31T09:43:17.507Z"
   },
   {
    "duration": 35,
    "start_time": "2022-05-31T10:08:01.329Z"
   },
   {
    "duration": 9,
    "start_time": "2022-05-31T10:09:25.722Z"
   },
   {
    "duration": 12,
    "start_time": "2022-05-31T10:15:13.801Z"
   },
   {
    "duration": 184,
    "start_time": "2022-05-31T10:31:24.672Z"
   },
   {
    "duration": 301,
    "start_time": "2022-05-31T10:31:37.992Z"
   },
   {
    "duration": 191,
    "start_time": "2022-05-31T10:31:44.664Z"
   },
   {
    "duration": 181,
    "start_time": "2022-05-31T10:32:25.265Z"
   },
   {
    "duration": 212,
    "start_time": "2022-05-31T10:32:54.176Z"
   },
   {
    "duration": 180,
    "start_time": "2022-05-31T10:33:00.200Z"
   },
   {
    "duration": 211,
    "start_time": "2022-05-31T10:34:30.941Z"
   },
   {
    "duration": 218,
    "start_time": "2022-05-31T10:34:36.691Z"
   },
   {
    "duration": 167,
    "start_time": "2022-05-31T10:35:00.464Z"
   },
   {
    "duration": 183,
    "start_time": "2022-05-31T10:35:58.311Z"
   },
   {
    "duration": 171,
    "start_time": "2022-05-31T10:36:07.192Z"
   },
   {
    "duration": 346,
    "start_time": "2022-05-31T10:36:52.656Z"
   },
   {
    "duration": 170,
    "start_time": "2022-05-31T10:36:58.216Z"
   },
   {
    "duration": 187,
    "start_time": "2022-05-31T10:37:03.312Z"
   },
   {
    "duration": 177,
    "start_time": "2022-05-31T10:37:07.255Z"
   },
   {
    "duration": 1450,
    "start_time": "2022-05-31T10:49:39.114Z"
   },
   {
    "duration": 14,
    "start_time": "2022-05-31T10:49:40.566Z"
   },
   {
    "duration": 22,
    "start_time": "2022-05-31T10:49:40.582Z"
   },
   {
    "duration": 9,
    "start_time": "2022-05-31T10:49:40.606Z"
   },
   {
    "duration": 17,
    "start_time": "2022-05-31T10:49:40.622Z"
   },
   {
    "duration": 13,
    "start_time": "2022-05-31T10:49:40.640Z"
   },
   {
    "duration": 9,
    "start_time": "2022-05-31T10:49:40.655Z"
   },
   {
    "duration": 5,
    "start_time": "2022-05-31T10:49:40.666Z"
   },
   {
    "duration": 13,
    "start_time": "2022-05-31T10:49:40.672Z"
   },
   {
    "duration": 18,
    "start_time": "2022-05-31T10:49:40.688Z"
   },
   {
    "duration": 6,
    "start_time": "2022-05-31T10:49:40.723Z"
   },
   {
    "duration": 21,
    "start_time": "2022-05-31T10:49:40.730Z"
   },
   {
    "duration": 389,
    "start_time": "2022-05-31T10:49:40.752Z"
   },
   {
    "duration": 5,
    "start_time": "2022-05-31T10:49:41.143Z"
   },
   {
    "duration": 198,
    "start_time": "2022-05-31T10:49:41.149Z"
   },
   {
    "duration": 198,
    "start_time": "2022-05-31T10:49:41.349Z"
   },
   {
    "duration": 247,
    "start_time": "2022-05-31T10:49:41.549Z"
   },
   {
    "duration": 201,
    "start_time": "2022-05-31T10:49:41.798Z"
   },
   {
    "duration": 273,
    "start_time": "2022-05-31T10:49:42.001Z"
   },
   {
    "duration": 32,
    "start_time": "2022-05-31T10:49:42.276Z"
   },
   {
    "duration": 73,
    "start_time": "2022-05-31T10:49:42.310Z"
   },
   {
    "duration": 207,
    "start_time": "2022-05-31T10:49:42.386Z"
   },
   {
    "duration": 268,
    "start_time": "2022-05-31T10:49:42.595Z"
   },
   {
    "duration": 254,
    "start_time": "2022-05-31T10:49:42.865Z"
   },
   {
    "duration": 272,
    "start_time": "2022-05-31T10:49:43.121Z"
   },
   {
    "duration": 1212,
    "start_time": "2022-05-31T10:49:43.394Z"
   },
   {
    "duration": 210,
    "start_time": "2022-05-31T10:49:44.608Z"
   },
   {
    "duration": 194,
    "start_time": "2022-05-31T10:49:44.822Z"
   },
   {
    "duration": 200,
    "start_time": "2022-05-31T10:49:45.018Z"
   },
   {
    "duration": 310,
    "start_time": "2022-05-31T10:49:45.223Z"
   },
   {
    "duration": 182,
    "start_time": "2022-05-31T10:49:45.536Z"
   },
   {
    "duration": 188,
    "start_time": "2022-05-31T10:49:45.722Z"
   },
   {
    "duration": 217,
    "start_time": "2022-05-31T11:01:31.213Z"
   },
   {
    "duration": 456,
    "start_time": "2022-05-31T11:04:13.551Z"
   },
   {
    "duration": 395,
    "start_time": "2022-05-31T11:04:33.250Z"
   },
   {
    "duration": 536,
    "start_time": "2022-05-31T11:05:23.667Z"
   },
   {
    "duration": 1652,
    "start_time": "2022-05-31T11:06:31.981Z"
   },
   {
    "duration": 1189,
    "start_time": "2022-05-31T11:06:50.373Z"
   },
   {
    "duration": 15,
    "start_time": "2022-05-31T11:06:51.563Z"
   },
   {
    "duration": 25,
    "start_time": "2022-05-31T11:06:51.579Z"
   },
   {
    "duration": 30,
    "start_time": "2022-05-31T11:06:51.606Z"
   },
   {
    "duration": 27,
    "start_time": "2022-05-31T11:06:51.638Z"
   },
   {
    "duration": 17,
    "start_time": "2022-05-31T11:06:51.667Z"
   },
   {
    "duration": 15,
    "start_time": "2022-05-31T11:06:51.685Z"
   },
   {
    "duration": 6,
    "start_time": "2022-05-31T11:06:51.702Z"
   },
   {
    "duration": 27,
    "start_time": "2022-05-31T11:06:51.710Z"
   },
   {
    "duration": 7,
    "start_time": "2022-05-31T11:06:51.741Z"
   },
   {
    "duration": 7,
    "start_time": "2022-05-31T11:06:51.749Z"
   },
   {
    "duration": 21,
    "start_time": "2022-05-31T11:06:51.758Z"
   },
   {
    "duration": 425,
    "start_time": "2022-05-31T11:06:51.781Z"
   },
   {
    "duration": 5,
    "start_time": "2022-05-31T11:06:52.207Z"
   },
   {
    "duration": 212,
    "start_time": "2022-05-31T11:06:52.226Z"
   },
   {
    "duration": 246,
    "start_time": "2022-05-31T11:06:52.442Z"
   },
   {
    "duration": 330,
    "start_time": "2022-05-31T11:06:52.690Z"
   },
   {
    "duration": 279,
    "start_time": "2022-05-31T11:06:53.023Z"
   },
   {
    "duration": 317,
    "start_time": "2022-05-31T11:06:53.304Z"
   },
   {
    "duration": 42,
    "start_time": "2022-05-31T11:06:53.628Z"
   },
   {
    "duration": 88,
    "start_time": "2022-05-31T11:06:53.671Z"
   },
   {
    "duration": 286,
    "start_time": "2022-05-31T11:06:53.761Z"
   },
   {
    "duration": 229,
    "start_time": "2022-05-31T11:06:54.049Z"
   },
   {
    "duration": 295,
    "start_time": "2022-05-31T11:06:54.280Z"
   },
   {
    "duration": 342,
    "start_time": "2022-05-31T11:06:54.578Z"
   },
   {
    "duration": 1384,
    "start_time": "2022-05-31T11:06:54.923Z"
   },
   {
    "duration": 241,
    "start_time": "2022-05-31T11:06:56.309Z"
   },
   {
    "duration": 201,
    "start_time": "2022-05-31T11:06:56.554Z"
   },
   {
    "duration": 228,
    "start_time": "2022-05-31T11:06:56.756Z"
   },
   {
    "duration": 390,
    "start_time": "2022-05-31T11:06:56.986Z"
   },
   {
    "duration": 192,
    "start_time": "2022-05-31T11:06:57.383Z"
   },
   {
    "duration": 196,
    "start_time": "2022-05-31T11:06:57.576Z"
   },
   {
    "duration": 1603,
    "start_time": "2022-05-31T11:06:57.774Z"
   },
   {
    "duration": 1562,
    "start_time": "2022-05-31T11:42:15.708Z"
   },
   {
    "duration": 18,
    "start_time": "2022-05-31T11:42:17.272Z"
   },
   {
    "duration": 28,
    "start_time": "2022-05-31T11:42:17.292Z"
   },
   {
    "duration": 15,
    "start_time": "2022-05-31T11:42:17.323Z"
   },
   {
    "duration": 36,
    "start_time": "2022-05-31T11:42:17.342Z"
   },
   {
    "duration": 16,
    "start_time": "2022-05-31T11:42:17.380Z"
   },
   {
    "duration": 12,
    "start_time": "2022-05-31T11:42:17.397Z"
   },
   {
    "duration": 29,
    "start_time": "2022-05-31T11:42:17.411Z"
   },
   {
    "duration": 16,
    "start_time": "2022-05-31T11:42:17.444Z"
   },
   {
    "duration": 18,
    "start_time": "2022-05-31T11:42:17.463Z"
   },
   {
    "duration": 8,
    "start_time": "2022-05-31T11:42:17.483Z"
   },
   {
    "duration": 24,
    "start_time": "2022-05-31T11:42:17.493Z"
   },
   {
    "duration": 567,
    "start_time": "2022-05-31T11:42:17.519Z"
   },
   {
    "duration": 7,
    "start_time": "2022-05-31T11:42:18.089Z"
   },
   {
    "duration": 276,
    "start_time": "2022-05-31T11:42:18.098Z"
   },
   {
    "duration": 232,
    "start_time": "2022-05-31T11:42:18.377Z"
   },
   {
    "duration": 295,
    "start_time": "2022-05-31T11:42:18.611Z"
   },
   {
    "duration": 275,
    "start_time": "2022-05-31T11:42:18.907Z"
   },
   {
    "duration": 380,
    "start_time": "2022-05-31T11:42:19.184Z"
   },
   {
    "duration": 57,
    "start_time": "2022-05-31T11:42:19.566Z"
   },
   {
    "duration": 69,
    "start_time": "2022-05-31T11:42:19.625Z"
   },
   {
    "duration": 248,
    "start_time": "2022-05-31T11:42:19.697Z"
   },
   {
    "duration": 230,
    "start_time": "2022-05-31T11:42:19.948Z"
   },
   {
    "duration": 260,
    "start_time": "2022-05-31T11:42:20.179Z"
   },
   {
    "duration": 288,
    "start_time": "2022-05-31T11:42:20.441Z"
   },
   {
    "duration": 1412,
    "start_time": "2022-05-31T11:42:20.734Z"
   },
   {
    "duration": 231,
    "start_time": "2022-05-31T11:42:22.150Z"
   },
   {
    "duration": 243,
    "start_time": "2022-05-31T11:42:22.386Z"
   },
   {
    "duration": 269,
    "start_time": "2022-05-31T11:42:22.633Z"
   },
   {
    "duration": 445,
    "start_time": "2022-05-31T11:42:22.904Z"
   },
   {
    "duration": 255,
    "start_time": "2022-05-31T11:42:23.351Z"
   },
   {
    "duration": 273,
    "start_time": "2022-05-31T11:42:23.608Z"
   },
   {
    "duration": 1618,
    "start_time": "2022-05-31T11:42:23.883Z"
   },
   {
    "duration": 1246,
    "start_time": "2022-05-31T12:07:30.650Z"
   },
   {
    "duration": 17,
    "start_time": "2022-05-31T12:07:31.898Z"
   },
   {
    "duration": 42,
    "start_time": "2022-05-31T12:07:31.917Z"
   },
   {
    "duration": 11,
    "start_time": "2022-05-31T12:07:31.961Z"
   },
   {
    "duration": 19,
    "start_time": "2022-05-31T12:07:31.975Z"
   },
   {
    "duration": 38,
    "start_time": "2022-05-31T12:07:31.996Z"
   },
   {
    "duration": 27,
    "start_time": "2022-05-31T12:07:32.037Z"
   },
   {
    "duration": 18,
    "start_time": "2022-05-31T12:07:32.066Z"
   },
   {
    "duration": 17,
    "start_time": "2022-05-31T12:07:32.086Z"
   },
   {
    "duration": 8,
    "start_time": "2022-05-31T12:07:32.104Z"
   },
   {
    "duration": 5,
    "start_time": "2022-05-31T12:07:32.113Z"
   },
   {
    "duration": 19,
    "start_time": "2022-05-31T12:07:32.120Z"
   },
   {
    "duration": 440,
    "start_time": "2022-05-31T12:07:32.142Z"
   },
   {
    "duration": 9,
    "start_time": "2022-05-31T12:07:32.585Z"
   },
   {
    "duration": 270,
    "start_time": "2022-05-31T12:07:32.595Z"
   },
   {
    "duration": 232,
    "start_time": "2022-05-31T12:07:32.867Z"
   },
   {
    "duration": 318,
    "start_time": "2022-05-31T12:07:33.102Z"
   },
   {
    "duration": 234,
    "start_time": "2022-05-31T12:07:33.421Z"
   },
   {
    "duration": 343,
    "start_time": "2022-05-31T12:07:33.657Z"
   },
   {
    "duration": 52,
    "start_time": "2022-05-31T12:07:34.002Z"
   },
   {
    "duration": 69,
    "start_time": "2022-05-31T12:07:34.056Z"
   },
   {
    "duration": 237,
    "start_time": "2022-05-31T12:07:34.129Z"
   },
   {
    "duration": 260,
    "start_time": "2022-05-31T12:07:34.368Z"
   },
   {
    "duration": 321,
    "start_time": "2022-05-31T12:07:34.630Z"
   },
   {
    "duration": 313,
    "start_time": "2022-05-31T12:07:34.954Z"
   },
   {
    "duration": 1290,
    "start_time": "2022-05-31T12:07:35.269Z"
   },
   {
    "duration": 231,
    "start_time": "2022-05-31T12:07:36.561Z"
   },
   {
    "duration": 206,
    "start_time": "2022-05-31T12:07:36.794Z"
   },
   {
    "duration": 224,
    "start_time": "2022-05-31T12:07:37.002Z"
   },
   {
    "duration": 324,
    "start_time": "2022-05-31T12:07:37.229Z"
   },
   {
    "duration": 224,
    "start_time": "2022-05-31T12:07:37.555Z"
   },
   {
    "duration": 206,
    "start_time": "2022-05-31T12:07:37.781Z"
   },
   {
    "duration": 1478,
    "start_time": "2022-05-31T12:07:37.989Z"
   },
   {
    "duration": 74,
    "start_time": "2022-05-31T13:02:21.797Z"
   },
   {
    "duration": 1479,
    "start_time": "2022-05-31T13:02:27.872Z"
   },
   {
    "duration": 21,
    "start_time": "2022-05-31T13:02:29.353Z"
   },
   {
    "duration": 27,
    "start_time": "2022-05-31T13:02:29.375Z"
   },
   {
    "duration": 9,
    "start_time": "2022-05-31T13:02:29.404Z"
   },
   {
    "duration": 18,
    "start_time": "2022-05-31T13:02:29.415Z"
   },
   {
    "duration": 41,
    "start_time": "2022-05-31T13:02:29.434Z"
   },
   {
    "duration": 8,
    "start_time": "2022-05-31T13:02:29.476Z"
   },
   {
    "duration": 6,
    "start_time": "2022-05-31T13:02:29.486Z"
   },
   {
    "duration": 17,
    "start_time": "2022-05-31T13:02:29.493Z"
   },
   {
    "duration": 8,
    "start_time": "2022-05-31T13:02:29.513Z"
   },
   {
    "duration": 44,
    "start_time": "2022-05-31T13:02:29.523Z"
   },
   {
    "duration": 14,
    "start_time": "2022-05-31T13:02:29.569Z"
   },
   {
    "duration": 458,
    "start_time": "2022-05-31T13:02:29.585Z"
   },
   {
    "duration": 6,
    "start_time": "2022-05-31T13:02:30.045Z"
   },
   {
    "duration": 235,
    "start_time": "2022-05-31T13:02:30.053Z"
   },
   {
    "duration": 239,
    "start_time": "2022-05-31T13:02:30.290Z"
   },
   {
    "duration": 636,
    "start_time": "2022-05-31T13:02:30.531Z"
   },
   {
    "duration": 443,
    "start_time": "2022-05-31T13:02:31.169Z"
   },
   {
    "duration": 735,
    "start_time": "2022-05-31T13:02:31.665Z"
   },
   {
    "duration": 103,
    "start_time": "2022-05-31T13:02:32.402Z"
   },
   {
    "duration": 175,
    "start_time": "2022-05-31T13:02:32.508Z"
   },
   {
    "duration": 328,
    "start_time": "2022-05-31T13:02:32.685Z"
   },
   {
    "duration": 235,
    "start_time": "2022-05-31T13:02:33.015Z"
   },
   {
    "duration": 260,
    "start_time": "2022-05-31T13:02:33.252Z"
   },
   {
    "duration": 353,
    "start_time": "2022-05-31T13:02:33.514Z"
   },
   {
    "duration": 5,
    "start_time": "2022-05-31T13:02:33.869Z"
   },
   {
    "duration": 1295,
    "start_time": "2022-05-31T13:02:33.876Z"
   },
   {
    "duration": 241,
    "start_time": "2022-05-31T13:02:35.175Z"
   },
   {
    "duration": 218,
    "start_time": "2022-05-31T13:02:35.418Z"
   },
   {
    "duration": 218,
    "start_time": "2022-05-31T13:02:35.638Z"
   },
   {
    "duration": 350,
    "start_time": "2022-05-31T13:02:35.858Z"
   },
   {
    "duration": 217,
    "start_time": "2022-05-31T13:02:36.210Z"
   },
   {
    "duration": 229,
    "start_time": "2022-05-31T13:02:36.428Z"
   },
   {
    "duration": 1478,
    "start_time": "2022-05-31T13:02:36.659Z"
   },
   {
    "duration": 1746,
    "start_time": "2022-05-31T13:03:00.867Z"
   },
   {
    "duration": 18,
    "start_time": "2022-05-31T13:03:02.667Z"
   },
   {
    "duration": 93,
    "start_time": "2022-05-31T13:03:02.686Z"
   },
   {
    "duration": 13,
    "start_time": "2022-05-31T13:03:02.781Z"
   },
   {
    "duration": 78,
    "start_time": "2022-05-31T13:03:02.796Z"
   },
   {
    "duration": 20,
    "start_time": "2022-05-31T13:03:02.876Z"
   },
   {
    "duration": 73,
    "start_time": "2022-05-31T13:03:02.899Z"
   },
   {
    "duration": 6,
    "start_time": "2022-05-31T13:03:02.974Z"
   },
   {
    "duration": 19,
    "start_time": "2022-05-31T13:03:02.982Z"
   },
   {
    "duration": 62,
    "start_time": "2022-05-31T13:03:03.003Z"
   },
   {
    "duration": 7,
    "start_time": "2022-05-31T13:03:03.067Z"
   },
   {
    "duration": 14,
    "start_time": "2022-05-31T13:03:03.076Z"
   },
   {
    "duration": 882,
    "start_time": "2022-05-31T13:03:03.092Z"
   },
   {
    "duration": 160,
    "start_time": "2022-05-31T13:03:03.976Z"
   },
   {
    "duration": 0,
    "start_time": "2022-05-31T13:03:04.138Z"
   },
   {
    "duration": 0,
    "start_time": "2022-05-31T13:03:04.140Z"
   },
   {
    "duration": 0,
    "start_time": "2022-05-31T13:03:04.141Z"
   },
   {
    "duration": 0,
    "start_time": "2022-05-31T13:03:04.142Z"
   },
   {
    "duration": 0,
    "start_time": "2022-05-31T13:03:04.144Z"
   },
   {
    "duration": 0,
    "start_time": "2022-05-31T13:03:04.145Z"
   },
   {
    "duration": 0,
    "start_time": "2022-05-31T13:03:04.146Z"
   },
   {
    "duration": 0,
    "start_time": "2022-05-31T13:03:04.147Z"
   },
   {
    "duration": 0,
    "start_time": "2022-05-31T13:03:04.165Z"
   },
   {
    "duration": 0,
    "start_time": "2022-05-31T13:03:04.166Z"
   },
   {
    "duration": 0,
    "start_time": "2022-05-31T13:03:04.167Z"
   },
   {
    "duration": 0,
    "start_time": "2022-05-31T13:03:04.168Z"
   },
   {
    "duration": 0,
    "start_time": "2022-05-31T13:03:04.170Z"
   },
   {
    "duration": 0,
    "start_time": "2022-05-31T13:03:04.172Z"
   },
   {
    "duration": 0,
    "start_time": "2022-05-31T13:03:04.173Z"
   },
   {
    "duration": 0,
    "start_time": "2022-05-31T13:03:04.174Z"
   },
   {
    "duration": 0,
    "start_time": "2022-05-31T13:03:04.175Z"
   },
   {
    "duration": 0,
    "start_time": "2022-05-31T13:03:04.176Z"
   },
   {
    "duration": 0,
    "start_time": "2022-05-31T13:03:04.177Z"
   },
   {
    "duration": 0,
    "start_time": "2022-05-31T13:03:04.179Z"
   },
   {
    "duration": 6,
    "start_time": "2022-05-31T13:03:09.192Z"
   },
   {
    "duration": 1325,
    "start_time": "2022-05-31T13:04:27.788Z"
   },
   {
    "duration": 22,
    "start_time": "2022-05-31T13:04:29.117Z"
   },
   {
    "duration": 48,
    "start_time": "2022-05-31T13:04:29.142Z"
   },
   {
    "duration": 13,
    "start_time": "2022-05-31T13:04:29.192Z"
   },
   {
    "duration": 22,
    "start_time": "2022-05-31T13:04:29.207Z"
   },
   {
    "duration": 37,
    "start_time": "2022-05-31T13:04:29.232Z"
   },
   {
    "duration": 8,
    "start_time": "2022-05-31T13:04:29.271Z"
   },
   {
    "duration": 6,
    "start_time": "2022-05-31T13:04:29.281Z"
   },
   {
    "duration": 19,
    "start_time": "2022-05-31T13:04:29.288Z"
   },
   {
    "duration": 7,
    "start_time": "2022-05-31T13:04:29.310Z"
   },
   {
    "duration": 7,
    "start_time": "2022-05-31T13:04:29.318Z"
   },
   {
    "duration": 47,
    "start_time": "2022-05-31T13:04:29.326Z"
   },
   {
    "duration": 446,
    "start_time": "2022-05-31T13:04:29.375Z"
   },
   {
    "duration": 6,
    "start_time": "2022-05-31T13:04:29.823Z"
   },
   {
    "duration": 252,
    "start_time": "2022-05-31T13:04:29.831Z"
   },
   {
    "duration": 505,
    "start_time": "2022-05-31T13:04:30.085Z"
   },
   {
    "duration": 604,
    "start_time": "2022-05-31T13:04:30.592Z"
   },
   {
    "duration": 476,
    "start_time": "2022-05-31T13:04:31.198Z"
   },
   {
    "duration": 590,
    "start_time": "2022-05-31T13:04:31.676Z"
   },
   {
    "duration": 6,
    "start_time": "2022-05-31T13:04:32.268Z"
   },
   {
    "duration": 50,
    "start_time": "2022-05-31T13:04:32.275Z"
   },
   {
    "duration": 6,
    "start_time": "2022-05-31T13:04:32.327Z"
   },
   {
    "duration": 99,
    "start_time": "2022-05-31T13:04:32.335Z"
   },
   {
    "duration": 265,
    "start_time": "2022-05-31T13:04:32.436Z"
   },
   {
    "duration": 231,
    "start_time": "2022-05-31T13:04:32.702Z"
   },
   {
    "duration": 234,
    "start_time": "2022-05-31T13:04:32.936Z"
   },
   {
    "duration": 321,
    "start_time": "2022-05-31T13:04:33.172Z"
   },
   {
    "duration": 1282,
    "start_time": "2022-05-31T13:04:33.497Z"
   },
   {
    "duration": 225,
    "start_time": "2022-05-31T13:04:34.781Z"
   },
   {
    "duration": 207,
    "start_time": "2022-05-31T13:04:35.008Z"
   },
   {
    "duration": 214,
    "start_time": "2022-05-31T13:04:35.217Z"
   },
   {
    "duration": 315,
    "start_time": "2022-05-31T13:04:35.433Z"
   },
   {
    "duration": 196,
    "start_time": "2022-05-31T13:04:35.749Z"
   },
   {
    "duration": 221,
    "start_time": "2022-05-31T13:04:35.947Z"
   },
   {
    "duration": 1488,
    "start_time": "2022-05-31T13:04:36.170Z"
   },
   {
    "duration": 1742,
    "start_time": "2022-05-31T13:05:00.352Z"
   },
   {
    "duration": 71,
    "start_time": "2022-05-31T13:05:02.097Z"
   },
   {
    "duration": 31,
    "start_time": "2022-05-31T13:05:02.169Z"
   },
   {
    "duration": 68,
    "start_time": "2022-05-31T13:05:02.202Z"
   },
   {
    "duration": 23,
    "start_time": "2022-05-31T13:05:02.274Z"
   },
   {
    "duration": 75,
    "start_time": "2022-05-31T13:05:02.300Z"
   },
   {
    "duration": 12,
    "start_time": "2022-05-31T13:05:02.377Z"
   },
   {
    "duration": 7,
    "start_time": "2022-05-31T13:05:02.391Z"
   },
   {
    "duration": 70,
    "start_time": "2022-05-31T13:05:02.400Z"
   },
   {
    "duration": 8,
    "start_time": "2022-05-31T13:05:02.472Z"
   },
   {
    "duration": 10,
    "start_time": "2022-05-31T13:05:02.481Z"
   },
   {
    "duration": 16,
    "start_time": "2022-05-31T13:05:02.493Z"
   },
   {
    "duration": 890,
    "start_time": "2022-05-31T13:05:02.511Z"
   },
   {
    "duration": 6,
    "start_time": "2022-05-31T13:05:03.404Z"
   },
   {
    "duration": 314,
    "start_time": "2022-05-31T13:05:03.466Z"
   },
   {
    "duration": 236,
    "start_time": "2022-05-31T13:05:03.783Z"
   },
   {
    "duration": 5,
    "start_time": "2022-05-31T13:05:04.021Z"
   },
   {
    "duration": 299,
    "start_time": "2022-05-31T13:05:04.028Z"
   },
   {
    "duration": 5,
    "start_time": "2022-05-31T13:05:04.329Z"
   },
   {
    "duration": 252,
    "start_time": "2022-05-31T13:05:04.336Z"
   },
   {
    "duration": 328,
    "start_time": "2022-05-31T13:05:04.590Z"
   },
   {
    "duration": 53,
    "start_time": "2022-05-31T13:05:04.920Z"
   },
   {
    "duration": 69,
    "start_time": "2022-05-31T13:05:04.975Z"
   },
   {
    "duration": 238,
    "start_time": "2022-05-31T13:05:05.045Z"
   },
   {
    "duration": 225,
    "start_time": "2022-05-31T13:05:05.285Z"
   },
   {
    "duration": 235,
    "start_time": "2022-05-31T13:05:05.512Z"
   },
   {
    "duration": 331,
    "start_time": "2022-05-31T13:05:05.749Z"
   },
   {
    "duration": 1584,
    "start_time": "2022-05-31T13:05:06.082Z"
   },
   {
    "duration": 247,
    "start_time": "2022-05-31T13:05:07.669Z"
   },
   {
    "duration": 210,
    "start_time": "2022-05-31T13:05:07.918Z"
   },
   {
    "duration": 219,
    "start_time": "2022-05-31T13:05:08.130Z"
   },
   {
    "duration": 334,
    "start_time": "2022-05-31T13:05:08.351Z"
   },
   {
    "duration": 261,
    "start_time": "2022-05-31T13:05:08.687Z"
   },
   {
    "duration": 306,
    "start_time": "2022-05-31T13:05:08.950Z"
   },
   {
    "duration": 1450,
    "start_time": "2022-05-31T13:05:09.259Z"
   },
   {
    "duration": 44,
    "start_time": "2022-05-31T13:06:18.608Z"
   },
   {
    "duration": 43,
    "start_time": "2022-05-31T13:06:42.146Z"
   },
   {
    "duration": 1399,
    "start_time": "2022-05-31T13:08:05.055Z"
   },
   {
    "duration": 17,
    "start_time": "2022-05-31T13:08:06.456Z"
   },
   {
    "duration": 29,
    "start_time": "2022-05-31T13:08:06.475Z"
   },
   {
    "duration": 11,
    "start_time": "2022-05-31T13:08:06.506Z"
   },
   {
    "duration": 46,
    "start_time": "2022-05-31T13:08:06.521Z"
   },
   {
    "duration": 30,
    "start_time": "2022-05-31T13:08:06.569Z"
   },
   {
    "duration": 13,
    "start_time": "2022-05-31T13:08:06.601Z"
   },
   {
    "duration": 7,
    "start_time": "2022-05-31T13:08:06.616Z"
   },
   {
    "duration": 41,
    "start_time": "2022-05-31T13:08:06.625Z"
   },
   {
    "duration": 8,
    "start_time": "2022-05-31T13:08:06.669Z"
   },
   {
    "duration": 8,
    "start_time": "2022-05-31T13:08:06.678Z"
   },
   {
    "duration": 14,
    "start_time": "2022-05-31T13:08:06.687Z"
   },
   {
    "duration": 493,
    "start_time": "2022-05-31T13:08:06.703Z"
   },
   {
    "duration": 5,
    "start_time": "2022-05-31T13:08:07.200Z"
   },
   {
    "duration": 467,
    "start_time": "2022-05-31T13:08:07.207Z"
   },
   {
    "duration": 490,
    "start_time": "2022-05-31T13:08:07.676Z"
   },
   {
    "duration": 633,
    "start_time": "2022-05-31T13:08:08.168Z"
   },
   {
    "duration": 576,
    "start_time": "2022-05-31T13:08:08.803Z"
   },
   {
    "duration": 387,
    "start_time": "2022-05-31T13:08:09.381Z"
   },
   {
    "duration": 39,
    "start_time": "2022-05-31T13:08:09.770Z"
   },
   {
    "duration": 73,
    "start_time": "2022-05-31T13:08:09.811Z"
   },
   {
    "duration": 227,
    "start_time": "2022-05-31T13:08:09.886Z"
   },
   {
    "duration": 236,
    "start_time": "2022-05-31T13:08:10.116Z"
   },
   {
    "duration": 246,
    "start_time": "2022-05-31T13:08:10.354Z"
   },
   {
    "duration": 342,
    "start_time": "2022-05-31T13:08:10.605Z"
   },
   {
    "duration": 1283,
    "start_time": "2022-05-31T13:08:10.949Z"
   },
   {
    "duration": 233,
    "start_time": "2022-05-31T13:08:12.233Z"
   },
   {
    "duration": 215,
    "start_time": "2022-05-31T13:08:12.468Z"
   },
   {
    "duration": 210,
    "start_time": "2022-05-31T13:08:12.685Z"
   },
   {
    "duration": 320,
    "start_time": "2022-05-31T13:08:12.896Z"
   },
   {
    "duration": 204,
    "start_time": "2022-05-31T13:08:13.218Z"
   },
   {
    "duration": 219,
    "start_time": "2022-05-31T13:08:13.424Z"
   },
   {
    "duration": 1448,
    "start_time": "2022-05-31T13:08:13.645Z"
   },
   {
    "duration": 1294,
    "start_time": "2022-05-31T13:11:51.012Z"
   },
   {
    "duration": 17,
    "start_time": "2022-05-31T13:11:52.308Z"
   },
   {
    "duration": 37,
    "start_time": "2022-05-31T13:11:52.327Z"
   },
   {
    "duration": 11,
    "start_time": "2022-05-31T13:11:52.376Z"
   },
   {
    "duration": 18,
    "start_time": "2022-05-31T13:11:52.389Z"
   },
   {
    "duration": 17,
    "start_time": "2022-05-31T13:11:52.409Z"
   },
   {
    "duration": 10,
    "start_time": "2022-05-31T13:11:52.428Z"
   },
   {
    "duration": 32,
    "start_time": "2022-05-31T13:11:52.440Z"
   },
   {
    "duration": 20,
    "start_time": "2022-05-31T13:11:52.473Z"
   },
   {
    "duration": 8,
    "start_time": "2022-05-31T13:11:52.495Z"
   },
   {
    "duration": 6,
    "start_time": "2022-05-31T13:11:52.504Z"
   },
   {
    "duration": 17,
    "start_time": "2022-05-31T13:11:52.512Z"
   },
   {
    "duration": 460,
    "start_time": "2022-05-31T13:11:52.531Z"
   },
   {
    "duration": 5,
    "start_time": "2022-05-31T13:11:52.993Z"
   },
   {
    "duration": 233,
    "start_time": "2022-05-31T13:11:53.000Z"
   },
   {
    "duration": 473,
    "start_time": "2022-05-31T13:11:53.234Z"
   },
   {
    "duration": 600,
    "start_time": "2022-05-31T13:11:53.710Z"
   },
   {
    "duration": 428,
    "start_time": "2022-05-31T13:11:54.365Z"
   },
   {
    "duration": 575,
    "start_time": "2022-05-31T13:11:54.795Z"
   },
   {
    "duration": 39,
    "start_time": "2022-05-31T13:11:55.371Z"
   },
   {
    "duration": 72,
    "start_time": "2022-05-31T13:11:55.412Z"
   },
   {
    "duration": 230,
    "start_time": "2022-05-31T13:11:55.486Z"
   },
   {
    "duration": 227,
    "start_time": "2022-05-31T13:11:55.717Z"
   },
   {
    "duration": 241,
    "start_time": "2022-05-31T13:11:55.946Z"
   },
   {
    "duration": 304,
    "start_time": "2022-05-31T13:11:56.189Z"
   },
   {
    "duration": 1296,
    "start_time": "2022-05-31T13:11:56.495Z"
   },
   {
    "duration": 227,
    "start_time": "2022-05-31T13:11:57.793Z"
   },
   {
    "duration": 214,
    "start_time": "2022-05-31T13:11:58.025Z"
   },
   {
    "duration": 211,
    "start_time": "2022-05-31T13:11:58.241Z"
   },
   {
    "duration": 359,
    "start_time": "2022-05-31T13:11:58.454Z"
   },
   {
    "duration": 277,
    "start_time": "2022-05-31T13:11:58.815Z"
   },
   {
    "duration": 237,
    "start_time": "2022-05-31T13:11:59.094Z"
   },
   {
    "duration": 1475,
    "start_time": "2022-05-31T13:11:59.333Z"
   },
   {
    "duration": 51,
    "start_time": "2022-06-01T21:38:59.793Z"
   },
   {
    "duration": 1348,
    "start_time": "2022-06-01T21:39:05.636Z"
   },
   {
    "duration": 353,
    "start_time": "2022-06-01T21:39:06.986Z"
   },
   {
    "duration": 22,
    "start_time": "2022-06-01T21:39:07.341Z"
   },
   {
    "duration": 25,
    "start_time": "2022-06-01T21:39:07.366Z"
   },
   {
    "duration": 9,
    "start_time": "2022-06-01T21:39:07.393Z"
   },
   {
    "duration": 28,
    "start_time": "2022-06-01T21:39:07.404Z"
   },
   {
    "duration": 11,
    "start_time": "2022-06-01T21:39:07.434Z"
   },
   {
    "duration": 11,
    "start_time": "2022-06-01T21:39:07.447Z"
   },
   {
    "duration": 5,
    "start_time": "2022-06-01T21:39:07.460Z"
   },
   {
    "duration": 15,
    "start_time": "2022-06-01T21:39:07.467Z"
   },
   {
    "duration": 6,
    "start_time": "2022-06-01T21:39:07.483Z"
   },
   {
    "duration": 36,
    "start_time": "2022-06-01T21:39:07.491Z"
   },
   {
    "duration": 13,
    "start_time": "2022-06-01T21:39:07.529Z"
   },
   {
    "duration": 372,
    "start_time": "2022-06-01T21:39:07.543Z"
   },
   {
    "duration": 5,
    "start_time": "2022-06-01T21:39:07.917Z"
   },
   {
    "duration": 188,
    "start_time": "2022-06-01T21:39:07.927Z"
   },
   {
    "duration": 193,
    "start_time": "2022-06-01T21:39:08.116Z"
   },
   {
    "duration": 251,
    "start_time": "2022-06-01T21:39:08.311Z"
   },
   {
    "duration": 206,
    "start_time": "2022-06-01T21:39:08.564Z"
   },
   {
    "duration": 259,
    "start_time": "2022-06-01T21:39:08.771Z"
   },
   {
    "duration": 32,
    "start_time": "2022-06-01T21:39:09.031Z"
   },
   {
    "duration": 62,
    "start_time": "2022-06-01T21:39:09.065Z"
   },
   {
    "duration": 191,
    "start_time": "2022-06-01T21:39:09.129Z"
   },
   {
    "duration": 184,
    "start_time": "2022-06-01T21:39:09.327Z"
   },
   {
    "duration": 214,
    "start_time": "2022-06-01T21:39:09.513Z"
   },
   {
    "duration": 254,
    "start_time": "2022-06-01T21:39:09.729Z"
   },
   {
    "duration": 1061,
    "start_time": "2022-06-01T21:39:09.985Z"
   },
   {
    "duration": 194,
    "start_time": "2022-06-01T21:39:11.049Z"
   },
   {
    "duration": 183,
    "start_time": "2022-06-01T21:39:11.245Z"
   },
   {
    "duration": 177,
    "start_time": "2022-06-01T21:39:11.430Z"
   },
   {
    "duration": 266,
    "start_time": "2022-06-01T21:39:11.608Z"
   },
   {
    "duration": 159,
    "start_time": "2022-06-01T21:39:11.875Z"
   },
   {
    "duration": 178,
    "start_time": "2022-06-01T21:39:12.036Z"
   },
   {
    "duration": 1208,
    "start_time": "2022-06-01T21:39:12.216Z"
   },
   {
    "duration": 89,
    "start_time": "2022-06-01T21:40:45.595Z"
   },
   {
    "duration": 36,
    "start_time": "2022-06-01T21:41:35.356Z"
   },
   {
    "duration": 40,
    "start_time": "2022-06-01T21:41:41.060Z"
   },
   {
    "duration": 180,
    "start_time": "2022-06-01T21:43:06.003Z"
   },
   {
    "duration": 32,
    "start_time": "2022-06-01T21:43:46.887Z"
   },
   {
    "duration": 1140,
    "start_time": "2022-06-01T21:44:32.515Z"
   },
   {
    "duration": 89,
    "start_time": "2022-06-01T21:44:33.657Z"
   },
   {
    "duration": 14,
    "start_time": "2022-06-01T21:44:33.747Z"
   },
   {
    "duration": 21,
    "start_time": "2022-06-01T21:44:33.762Z"
   },
   {
    "duration": 6,
    "start_time": "2022-06-01T21:44:33.786Z"
   },
   {
    "duration": 33,
    "start_time": "2022-06-01T21:44:33.794Z"
   },
   {
    "duration": 13,
    "start_time": "2022-06-01T21:44:33.828Z"
   },
   {
    "duration": 13,
    "start_time": "2022-06-01T21:44:33.843Z"
   },
   {
    "duration": 6,
    "start_time": "2022-06-01T21:44:33.857Z"
   },
   {
    "duration": 17,
    "start_time": "2022-06-01T21:44:33.865Z"
   },
   {
    "duration": 7,
    "start_time": "2022-06-01T21:44:33.884Z"
   },
   {
    "duration": 8,
    "start_time": "2022-06-01T21:44:33.893Z"
   },
   {
    "duration": 32,
    "start_time": "2022-06-01T21:44:33.903Z"
   },
   {
    "duration": 388,
    "start_time": "2022-06-01T21:44:33.937Z"
   },
   {
    "duration": 5,
    "start_time": "2022-06-01T21:44:34.327Z"
   },
   {
    "duration": 199,
    "start_time": "2022-06-01T21:44:34.334Z"
   },
   {
    "duration": 195,
    "start_time": "2022-06-01T21:44:34.534Z"
   },
   {
    "duration": 190,
    "start_time": "2022-06-01T21:44:34.730Z"
   },
   {
    "duration": 179,
    "start_time": "2022-06-01T21:44:34.922Z"
   },
   {
    "duration": 185,
    "start_time": "2022-06-01T21:44:35.103Z"
   },
   {
    "duration": 119,
    "start_time": "2022-06-01T21:44:35.290Z"
   },
   {
    "duration": 58,
    "start_time": "2022-06-01T21:44:35.411Z"
   },
   {
    "duration": 168,
    "start_time": "2022-06-01T21:44:35.471Z"
   },
   {
    "duration": 163,
    "start_time": "2022-06-01T21:44:35.641Z"
   },
   {
    "duration": 200,
    "start_time": "2022-06-01T21:44:35.806Z"
   },
   {
    "duration": 247,
    "start_time": "2022-06-01T21:44:36.008Z"
   },
   {
    "duration": 1074,
    "start_time": "2022-06-01T21:44:36.257Z"
   },
   {
    "duration": 177,
    "start_time": "2022-06-01T21:44:37.333Z"
   },
   {
    "duration": 161,
    "start_time": "2022-06-01T21:44:37.511Z"
   },
   {
    "duration": 170,
    "start_time": "2022-06-01T21:44:37.674Z"
   },
   {
    "duration": 171,
    "start_time": "2022-06-01T21:44:37.846Z"
   },
   {
    "duration": 240,
    "start_time": "2022-06-01T21:44:38.018Z"
   },
   {
    "duration": 177,
    "start_time": "2022-06-01T21:44:38.260Z"
   },
   {
    "duration": 1179,
    "start_time": "2022-06-01T21:44:38.439Z"
   },
   {
    "duration": 17,
    "start_time": "2022-06-01T21:52:22.328Z"
   },
   {
    "duration": 14,
    "start_time": "2022-06-01T21:52:33.177Z"
   },
   {
    "duration": 13,
    "start_time": "2022-06-01T21:53:14.147Z"
   },
   {
    "duration": 135,
    "start_time": "2022-06-01T21:54:26.632Z"
   },
   {
    "duration": 11,
    "start_time": "2022-06-01T21:54:38.611Z"
   },
   {
    "duration": 12,
    "start_time": "2022-06-01T21:55:15.647Z"
   },
   {
    "duration": 16,
    "start_time": "2022-06-01T21:56:08.576Z"
   },
   {
    "duration": 11,
    "start_time": "2022-06-01T21:56:26.765Z"
   },
   {
    "duration": 18,
    "start_time": "2022-06-01T21:57:19.662Z"
   },
   {
    "duration": 18,
    "start_time": "2022-06-01T21:57:23.881Z"
   },
   {
    "duration": 16,
    "start_time": "2022-06-01T21:57:30.112Z"
   },
   {
    "duration": 16,
    "start_time": "2022-06-01T21:57:34.638Z"
   },
   {
    "duration": 16,
    "start_time": "2022-06-01T21:57:38.599Z"
   },
   {
    "duration": 28,
    "start_time": "2022-06-01T21:58:13.021Z"
   },
   {
    "duration": 20,
    "start_time": "2022-06-01T21:58:51.994Z"
   },
   {
    "duration": 23,
    "start_time": "2022-06-01T21:59:25.516Z"
   },
   {
    "duration": 35,
    "start_time": "2022-06-01T21:59:47.816Z"
   },
   {
    "duration": 3,
    "start_time": "2022-06-01T22:00:10.210Z"
   },
   {
    "duration": 2,
    "start_time": "2022-06-01T22:00:54.442Z"
   },
   {
    "duration": 63,
    "start_time": "2022-06-01T22:02:28.862Z"
   },
   {
    "duration": 29,
    "start_time": "2022-06-01T22:05:28.252Z"
   },
   {
    "duration": 1099,
    "start_time": "2022-06-01T22:10:29.466Z"
   },
   {
    "duration": 93,
    "start_time": "2022-06-01T22:10:30.567Z"
   },
   {
    "duration": 14,
    "start_time": "2022-06-01T22:10:30.662Z"
   },
   {
    "duration": 26,
    "start_time": "2022-06-01T22:10:30.678Z"
   },
   {
    "duration": 10,
    "start_time": "2022-06-01T22:10:30.706Z"
   },
   {
    "duration": 35,
    "start_time": "2022-06-01T22:10:30.717Z"
   },
   {
    "duration": 17,
    "start_time": "2022-06-01T22:10:30.753Z"
   },
   {
    "duration": 14,
    "start_time": "2022-06-01T22:10:30.771Z"
   },
   {
    "duration": 6,
    "start_time": "2022-06-01T22:10:30.787Z"
   },
   {
    "duration": 17,
    "start_time": "2022-06-01T22:10:30.795Z"
   },
   {
    "duration": 6,
    "start_time": "2022-06-01T22:10:30.814Z"
   },
   {
    "duration": 6,
    "start_time": "2022-06-01T22:10:30.827Z"
   },
   {
    "duration": 22,
    "start_time": "2022-06-01T22:10:30.834Z"
   },
   {
    "duration": 383,
    "start_time": "2022-06-01T22:10:30.858Z"
   },
   {
    "duration": 5,
    "start_time": "2022-06-01T22:10:31.243Z"
   },
   {
    "duration": 206,
    "start_time": "2022-06-01T22:10:31.249Z"
   },
   {
    "duration": 195,
    "start_time": "2022-06-01T22:10:31.456Z"
   },
   {
    "duration": 195,
    "start_time": "2022-06-01T22:10:31.652Z"
   },
   {
    "duration": 220,
    "start_time": "2022-06-01T22:10:31.849Z"
   },
   {
    "duration": 183,
    "start_time": "2022-06-01T22:10:32.071Z"
   },
   {
    "duration": 3,
    "start_time": "2022-06-01T22:10:32.255Z"
   },
   {
    "duration": 127,
    "start_time": "2022-06-01T22:10:32.259Z"
   },
   {
    "duration": 73,
    "start_time": "2022-06-01T22:10:32.388Z"
   },
   {
    "duration": 192,
    "start_time": "2022-06-01T22:10:32.462Z"
   },
   {
    "duration": 155,
    "start_time": "2022-06-01T22:10:32.656Z"
   },
   {
    "duration": 180,
    "start_time": "2022-06-01T22:10:32.813Z"
   },
   {
    "duration": 253,
    "start_time": "2022-06-01T22:10:32.994Z"
   },
   {
    "duration": 1073,
    "start_time": "2022-06-01T22:10:33.248Z"
   },
   {
    "duration": 189,
    "start_time": "2022-06-01T22:10:34.323Z"
   },
   {
    "duration": 172,
    "start_time": "2022-06-01T22:10:34.513Z"
   },
   {
    "duration": 183,
    "start_time": "2022-06-01T22:10:34.686Z"
   },
   {
    "duration": 30,
    "start_time": "2022-06-01T22:10:34.871Z"
   },
   {
    "duration": 180,
    "start_time": "2022-06-01T22:10:34.902Z"
   },
   {
    "duration": 245,
    "start_time": "2022-06-01T22:10:35.083Z"
   },
   {
    "duration": 170,
    "start_time": "2022-06-01T22:10:35.330Z"
   },
   {
    "duration": 1302,
    "start_time": "2022-06-01T22:10:35.502Z"
   },
   {
    "duration": 35,
    "start_time": "2022-06-01T22:17:54.780Z"
   },
   {
    "duration": 26,
    "start_time": "2022-06-01T22:18:57.983Z"
   },
   {
    "duration": 1077,
    "start_time": "2022-06-01T22:23:40.287Z"
   },
   {
    "duration": 90,
    "start_time": "2022-06-01T22:23:41.366Z"
   },
   {
    "duration": 13,
    "start_time": "2022-06-01T22:23:41.458Z"
   },
   {
    "duration": 22,
    "start_time": "2022-06-01T22:23:41.473Z"
   },
   {
    "duration": 8,
    "start_time": "2022-06-01T22:23:41.497Z"
   },
   {
    "duration": 30,
    "start_time": "2022-06-01T22:23:41.506Z"
   },
   {
    "duration": 10,
    "start_time": "2022-06-01T22:23:41.538Z"
   },
   {
    "duration": 10,
    "start_time": "2022-06-01T22:23:41.550Z"
   },
   {
    "duration": 4,
    "start_time": "2022-06-01T22:23:41.562Z"
   },
   {
    "duration": 18,
    "start_time": "2022-06-01T22:23:41.568Z"
   },
   {
    "duration": 7,
    "start_time": "2022-06-01T22:23:41.587Z"
   },
   {
    "duration": 32,
    "start_time": "2022-06-01T22:23:41.595Z"
   },
   {
    "duration": 13,
    "start_time": "2022-06-01T22:23:41.629Z"
   },
   {
    "duration": 367,
    "start_time": "2022-06-01T22:23:41.644Z"
   },
   {
    "duration": 6,
    "start_time": "2022-06-01T22:23:42.012Z"
   },
   {
    "duration": 187,
    "start_time": "2022-06-01T22:23:42.019Z"
   },
   {
    "duration": 196,
    "start_time": "2022-06-01T22:23:42.207Z"
   },
   {
    "duration": 181,
    "start_time": "2022-06-01T22:23:42.404Z"
   },
   {
    "duration": 184,
    "start_time": "2022-06-01T22:23:42.586Z"
   },
   {
    "duration": 167,
    "start_time": "2022-06-01T22:23:42.771Z"
   },
   {
    "duration": 2,
    "start_time": "2022-06-01T22:23:42.940Z"
   },
   {
    "duration": 121,
    "start_time": "2022-06-01T22:23:42.943Z"
   },
   {
    "duration": 63,
    "start_time": "2022-06-01T22:23:43.066Z"
   },
   {
    "duration": 221,
    "start_time": "2022-06-01T22:23:43.130Z"
   },
   {
    "duration": 154,
    "start_time": "2022-06-01T22:23:43.352Z"
   },
   {
    "duration": 169,
    "start_time": "2022-06-01T22:23:43.507Z"
   },
   {
    "duration": 266,
    "start_time": "2022-06-01T22:23:43.678Z"
   },
   {
    "duration": 1077,
    "start_time": "2022-06-01T22:23:43.946Z"
   },
   {
    "duration": 183,
    "start_time": "2022-06-01T22:23:45.026Z"
   },
   {
    "duration": 169,
    "start_time": "2022-06-01T22:23:45.210Z"
   },
   {
    "duration": 176,
    "start_time": "2022-06-01T22:23:45.380Z"
   },
   {
    "duration": 31,
    "start_time": "2022-06-01T22:23:45.557Z"
   },
   {
    "duration": 180,
    "start_time": "2022-06-01T22:23:45.590Z"
   },
   {
    "duration": 261,
    "start_time": "2022-06-01T22:23:45.772Z"
   },
   {
    "duration": 175,
    "start_time": "2022-06-01T22:23:46.035Z"
   },
   {
    "duration": 1546,
    "start_time": "2022-06-01T22:23:46.211Z"
   },
   {
    "duration": 1501,
    "start_time": "2022-06-06T21:14:24.016Z"
   },
   {
    "duration": 162,
    "start_time": "2022-06-06T21:14:25.519Z"
   },
   {
    "duration": 22,
    "start_time": "2022-06-06T21:14:25.683Z"
   },
   {
    "duration": 36,
    "start_time": "2022-06-06T21:14:25.707Z"
   },
   {
    "duration": 10,
    "start_time": "2022-06-06T21:14:25.746Z"
   },
   {
    "duration": 18,
    "start_time": "2022-06-06T21:14:25.758Z"
   },
   {
    "duration": 14,
    "start_time": "2022-06-06T21:14:25.779Z"
   },
   {
    "duration": 13,
    "start_time": "2022-06-06T21:14:25.795Z"
   },
   {
    "duration": 11,
    "start_time": "2022-06-06T21:14:25.830Z"
   },
   {
    "duration": 24,
    "start_time": "2022-06-06T21:14:25.843Z"
   },
   {
    "duration": 7,
    "start_time": "2022-06-06T21:14:25.868Z"
   },
   {
    "duration": 7,
    "start_time": "2022-06-06T21:14:25.877Z"
   },
   {
    "duration": 18,
    "start_time": "2022-06-06T21:14:25.886Z"
   },
   {
    "duration": 443,
    "start_time": "2022-06-06T21:14:25.907Z"
   },
   {
    "duration": 6,
    "start_time": "2022-06-06T21:14:26.351Z"
   },
   {
    "duration": 240,
    "start_time": "2022-06-06T21:14:26.359Z"
   },
   {
    "duration": 253,
    "start_time": "2022-06-06T21:14:26.600Z"
   },
   {
    "duration": 241,
    "start_time": "2022-06-06T21:14:26.854Z"
   },
   {
    "duration": 226,
    "start_time": "2022-06-06T21:14:27.097Z"
   },
   {
    "duration": 217,
    "start_time": "2022-06-06T21:14:27.328Z"
   },
   {
    "duration": 2,
    "start_time": "2022-06-06T21:14:27.547Z"
   },
   {
    "duration": 138,
    "start_time": "2022-06-06T21:14:27.551Z"
   },
   {
    "duration": 85,
    "start_time": "2022-06-06T21:14:27.692Z"
   },
   {
    "duration": 240,
    "start_time": "2022-06-06T21:14:27.779Z"
   },
   {
    "duration": 185,
    "start_time": "2022-06-06T21:14:28.020Z"
   },
   {
    "duration": 223,
    "start_time": "2022-06-06T21:14:28.207Z"
   },
   {
    "duration": 311,
    "start_time": "2022-06-06T21:14:28.432Z"
   },
   {
    "duration": 1259,
    "start_time": "2022-06-06T21:14:28.745Z"
   },
   {
    "duration": 241,
    "start_time": "2022-06-06T21:14:30.006Z"
   },
   {
    "duration": 202,
    "start_time": "2022-06-06T21:14:30.248Z"
   },
   {
    "duration": 208,
    "start_time": "2022-06-06T21:14:30.451Z"
   },
   {
    "duration": 37,
    "start_time": "2022-06-06T21:14:30.661Z"
   },
   {
    "duration": 252,
    "start_time": "2022-06-06T21:14:30.700Z"
   },
   {
    "duration": 344,
    "start_time": "2022-06-06T21:14:30.953Z"
   },
   {
    "duration": 257,
    "start_time": "2022-06-06T21:14:31.299Z"
   },
   {
    "duration": 1660,
    "start_time": "2022-06-06T21:14:31.560Z"
   },
   {
    "duration": 1204,
    "start_time": "2022-06-06T21:24:59.192Z"
   },
   {
    "duration": 99,
    "start_time": "2022-06-06T21:25:00.399Z"
   },
   {
    "duration": 17,
    "start_time": "2022-06-06T21:25:00.500Z"
   },
   {
    "duration": 36,
    "start_time": "2022-06-06T21:25:00.519Z"
   },
   {
    "duration": 13,
    "start_time": "2022-06-06T21:25:00.559Z"
   },
   {
    "duration": 25,
    "start_time": "2022-06-06T21:25:00.574Z"
   },
   {
    "duration": 50,
    "start_time": "2022-06-06T21:25:00.601Z"
   },
   {
    "duration": 16,
    "start_time": "2022-06-06T21:25:00.654Z"
   },
   {
    "duration": 28,
    "start_time": "2022-06-06T21:25:00.672Z"
   },
   {
    "duration": 36,
    "start_time": "2022-06-06T21:25:00.702Z"
   },
   {
    "duration": 22,
    "start_time": "2022-06-06T21:25:00.740Z"
   },
   {
    "duration": 25,
    "start_time": "2022-06-06T21:25:00.764Z"
   },
   {
    "duration": 31,
    "start_time": "2022-06-06T21:25:00.792Z"
   },
   {
    "duration": 430,
    "start_time": "2022-06-06T21:25:00.827Z"
   },
   {
    "duration": 5,
    "start_time": "2022-06-06T21:25:01.259Z"
   },
   {
    "duration": 267,
    "start_time": "2022-06-06T21:25:01.266Z"
   },
   {
    "duration": 236,
    "start_time": "2022-06-06T21:25:01.535Z"
   },
   {
    "duration": 261,
    "start_time": "2022-06-06T21:25:01.773Z"
   },
   {
    "duration": 226,
    "start_time": "2022-06-06T21:25:02.036Z"
   },
   {
    "duration": 214,
    "start_time": "2022-06-06T21:25:02.264Z"
   },
   {
    "duration": 2,
    "start_time": "2022-06-06T21:25:02.480Z"
   },
   {
    "duration": 248,
    "start_time": "2022-06-06T21:25:02.484Z"
   },
   {
    "duration": 70,
    "start_time": "2022-06-06T21:25:02.734Z"
   },
   {
    "duration": 250,
    "start_time": "2022-06-06T21:25:02.805Z"
   },
   {
    "duration": 188,
    "start_time": "2022-06-06T21:25:03.056Z"
   },
   {
    "duration": 212,
    "start_time": "2022-06-06T21:25:03.245Z"
   },
   {
    "duration": 312,
    "start_time": "2022-06-06T21:25:03.458Z"
   },
   {
    "duration": 1364,
    "start_time": "2022-06-06T21:25:03.772Z"
   },
   {
    "duration": 245,
    "start_time": "2022-06-06T21:25:05.138Z"
   },
   {
    "duration": 234,
    "start_time": "2022-06-06T21:25:05.386Z"
   },
   {
    "duration": 217,
    "start_time": "2022-06-06T21:25:05.623Z"
   },
   {
    "duration": 36,
    "start_time": "2022-06-06T21:25:05.842Z"
   },
   {
    "duration": 229,
    "start_time": "2022-06-06T21:25:05.880Z"
   },
   {
    "duration": 301,
    "start_time": "2022-06-06T21:25:06.111Z"
   },
   {
    "duration": 217,
    "start_time": "2022-06-06T21:25:06.414Z"
   },
   {
    "duration": 1505,
    "start_time": "2022-06-06T21:25:06.633Z"
   },
   {
    "duration": 1136,
    "start_time": "2022-06-06T23:01:00.638Z"
   },
   {
    "duration": 96,
    "start_time": "2022-06-06T23:01:01.776Z"
   },
   {
    "duration": 16,
    "start_time": "2022-06-06T23:01:01.874Z"
   },
   {
    "duration": 41,
    "start_time": "2022-06-06T23:01:01.893Z"
   },
   {
    "duration": 9,
    "start_time": "2022-06-06T23:01:01.936Z"
   },
   {
    "duration": 32,
    "start_time": "2022-06-06T23:01:01.947Z"
   },
   {
    "duration": 13,
    "start_time": "2022-06-06T23:01:01.981Z"
   },
   {
    "duration": 15,
    "start_time": "2022-06-06T23:01:01.996Z"
   },
   {
    "duration": 13,
    "start_time": "2022-06-06T23:01:02.013Z"
   },
   {
    "duration": 18,
    "start_time": "2022-06-06T23:01:02.029Z"
   },
   {
    "duration": 6,
    "start_time": "2022-06-06T23:01:02.049Z"
   },
   {
    "duration": 6,
    "start_time": "2022-06-06T23:01:02.057Z"
   },
   {
    "duration": 19,
    "start_time": "2022-06-06T23:01:02.064Z"
   },
   {
    "duration": 379,
    "start_time": "2022-06-06T23:01:02.085Z"
   },
   {
    "duration": 5,
    "start_time": "2022-06-06T23:01:02.465Z"
   },
   {
    "duration": 179,
    "start_time": "2022-06-06T23:01:02.471Z"
   },
   {
    "duration": 191,
    "start_time": "2022-06-06T23:01:02.652Z"
   },
   {
    "duration": 188,
    "start_time": "2022-06-06T23:01:02.845Z"
   },
   {
    "duration": 182,
    "start_time": "2022-06-06T23:01:03.035Z"
   },
   {
    "duration": 190,
    "start_time": "2022-06-06T23:01:03.218Z"
   },
   {
    "duration": 3,
    "start_time": "2022-06-06T23:01:03.409Z"
   },
   {
    "duration": 119,
    "start_time": "2022-06-06T23:01:03.414Z"
   },
   {
    "duration": 62,
    "start_time": "2022-06-06T23:01:03.534Z"
   },
   {
    "duration": 208,
    "start_time": "2022-06-06T23:01:03.598Z"
   },
   {
    "duration": 172,
    "start_time": "2022-06-06T23:01:03.808Z"
   },
   {
    "duration": 181,
    "start_time": "2022-06-06T23:01:03.982Z"
   },
   {
    "duration": 244,
    "start_time": "2022-06-06T23:01:04.164Z"
   },
   {
    "duration": 1062,
    "start_time": "2022-06-06T23:01:04.412Z"
   },
   {
    "duration": 191,
    "start_time": "2022-06-06T23:01:05.475Z"
   },
   {
    "duration": 169,
    "start_time": "2022-06-06T23:01:05.668Z"
   },
   {
    "duration": 171,
    "start_time": "2022-06-06T23:01:05.839Z"
   },
   {
    "duration": 36,
    "start_time": "2022-06-06T23:01:06.012Z"
   },
   {
    "duration": 190,
    "start_time": "2022-06-06T23:01:06.050Z"
   },
   {
    "duration": 265,
    "start_time": "2022-06-06T23:01:06.242Z"
   },
   {
    "duration": 170,
    "start_time": "2022-06-06T23:01:06.509Z"
   },
   {
    "duration": 1214,
    "start_time": "2022-06-06T23:01:06.680Z"
   }
  ],
  "kernelspec": {
   "display_name": "Python 3 (ipykernel)",
   "language": "python",
   "name": "python3"
  },
  "language_info": {
   "codemirror_mode": {
    "name": "ipython",
    "version": 3
   },
   "file_extension": ".py",
   "mimetype": "text/x-python",
   "name": "python",
   "nbconvert_exporter": "python",
   "pygments_lexer": "ipython3",
   "version": "3.9.12"
  },
  "toc": {
   "base_numbering": 1,
   "nav_menu": {},
   "number_sections": true,
   "sideBar": true,
   "skip_h1_title": true,
   "title_cell": "Содержание",
   "title_sidebar": "Contents",
   "toc_cell": true,
   "toc_position": {},
   "toc_section_display": true,
   "toc_window_display": true
  }
 },
 "nbformat": 4,
 "nbformat_minor": 4
}
