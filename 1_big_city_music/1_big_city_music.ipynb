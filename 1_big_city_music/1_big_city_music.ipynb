{
 "cells": [
  {
   "cell_type": "markdown",
   "metadata": {
    "id": "E0vqbgi9ay0H"
   },
   "source": [
    "# Яндекс.Музыка"
   ]
  },
  {
   "cell_type": "markdown",
   "metadata": {
    "id": "VUC88oWjTJw2"
   },
   "source": [
    "Сравнение Москвы и Петербурга окружено мифами. Например:\n",
    " * Москва — мегаполис, подчинённый жёсткому ритму рабочей недели;\n",
    " * Петербург — культурная столица, со своими вкусами.\n",
    "\n",
    "На данных Яндекс.Музыки вы сравните поведение пользователей двух столиц.\n",
    "\n",
    "**Цель исследования** — проверьте три гипотезы:\n",
    "1. Активность пользователей зависит от дня недели. Причём в Москве и Петербурге это проявляется по-разному.\n",
    "2. В понедельник утром в Москве преобладают одни жанры, а в Петербурге — другие. Так же и вечером пятницы преобладают разные жанры — в зависимости от города. \n",
    "3. Москва и Петербург предпочитают разные жанры музыки. В Москве чаще слушают поп-музыку, в Петербурге — русский рэп.\n",
    "\n",
    "**Ход исследования**\n",
    "\n",
    "Данные о поведении пользователей вы получите из файла `yandex_music_project.csv`. О качестве данных ничего не известно. Поэтому перед проверкой гипотез понадобится обзор данных. \n",
    "\n",
    "Вы проверите данные на ошибки и оцените их влияние на исследование. Затем, на этапе предобработки вы поищете возможность исправить самые критичные ошибки данных.\n",
    " \n",
    "Таким образом, исследование пройдёт в три этапа:\n",
    " 1. Обзор данных.\n",
    " 2. Предобработка данных.\n",
    " 3. Проверка гипотез.\n",
    "\n"
   ]
  },
  {
   "cell_type": "markdown",
   "metadata": {
    "id": "Ml1hmfXC_Zcs"
   },
   "source": [
    "## Обзор данных\n",
    "\n",
    "Составьте первое представление о данных Яндекс.Музыки.\n",
    "\n",
    "\n"
   ]
  },
  {
   "cell_type": "markdown",
   "metadata": {
    "id": "57eAOGIz_Zcs"
   },
   "source": [
    "Импортируем необходимые библиотеки."
   ]
  },
  {
   "cell_type": "code",
   "execution_count": 1,
   "metadata": {
    "id": "AXN7PHPN_Zcs"
   },
   "outputs": [],
   "source": [
    "import pandas as pd# импорт библиотеки pandas"
   ]
  },
  {
   "cell_type": "markdown",
   "metadata": {
    "id": "SG23P8tt_Zcs"
   },
   "source": [
    "Имопртируем данные."
   ]
  },
  {
   "cell_type": "code",
   "execution_count": 2,
   "metadata": {
    "id": "fFVu7vqh_Zct"
   },
   "outputs": [],
   "source": [
    "df = pd.read_csv('/datasets/yandex_music_project.csv')# чтение файла с данными и сохранение в df"
   ]
  },
  {
   "cell_type": "markdown",
   "metadata": {
    "id": "rDoOMd3uTqnZ"
   },
   "source": [
    "Ознакомимся с данными."
   ]
  },
  {
   "cell_type": "code",
   "execution_count": 3,
   "metadata": {
    "id": "oWTVX3gW_Zct"
   },
   "outputs": [
    {
     "data": {
      "text/html": [
       "<div>\n",
       "<style scoped>\n",
       "    .dataframe tbody tr th:only-of-type {\n",
       "        vertical-align: middle;\n",
       "    }\n",
       "\n",
       "    .dataframe tbody tr th {\n",
       "        vertical-align: top;\n",
       "    }\n",
       "\n",
       "    .dataframe thead th {\n",
       "        text-align: right;\n",
       "    }\n",
       "</style>\n",
       "<table border=\"1\" class=\"dataframe\">\n",
       "  <thead>\n",
       "    <tr style=\"text-align: right;\">\n",
       "      <th></th>\n",
       "      <th>userID</th>\n",
       "      <th>Track</th>\n",
       "      <th>artist</th>\n",
       "      <th>genre</th>\n",
       "      <th>City</th>\n",
       "      <th>time</th>\n",
       "      <th>Day</th>\n",
       "    </tr>\n",
       "  </thead>\n",
       "  <tbody>\n",
       "    <tr>\n",
       "      <th>0</th>\n",
       "      <td>FFB692EC</td>\n",
       "      <td>Kamigata To Boots</td>\n",
       "      <td>The Mass Missile</td>\n",
       "      <td>rock</td>\n",
       "      <td>Saint-Petersburg</td>\n",
       "      <td>20:28:33</td>\n",
       "      <td>Wednesday</td>\n",
       "    </tr>\n",
       "    <tr>\n",
       "      <th>1</th>\n",
       "      <td>55204538</td>\n",
       "      <td>Delayed Because of Accident</td>\n",
       "      <td>Andreas Rönnberg</td>\n",
       "      <td>rock</td>\n",
       "      <td>Moscow</td>\n",
       "      <td>14:07:09</td>\n",
       "      <td>Friday</td>\n",
       "    </tr>\n",
       "    <tr>\n",
       "      <th>2</th>\n",
       "      <td>20EC38</td>\n",
       "      <td>Funiculì funiculà</td>\n",
       "      <td>Mario Lanza</td>\n",
       "      <td>pop</td>\n",
       "      <td>Saint-Petersburg</td>\n",
       "      <td>20:58:07</td>\n",
       "      <td>Wednesday</td>\n",
       "    </tr>\n",
       "    <tr>\n",
       "      <th>3</th>\n",
       "      <td>A3DD03C9</td>\n",
       "      <td>Dragons in the Sunset</td>\n",
       "      <td>Fire + Ice</td>\n",
       "      <td>folk</td>\n",
       "      <td>Saint-Petersburg</td>\n",
       "      <td>08:37:09</td>\n",
       "      <td>Monday</td>\n",
       "    </tr>\n",
       "    <tr>\n",
       "      <th>4</th>\n",
       "      <td>E2DC1FAE</td>\n",
       "      <td>Soul People</td>\n",
       "      <td>Space Echo</td>\n",
       "      <td>dance</td>\n",
       "      <td>Moscow</td>\n",
       "      <td>08:34:34</td>\n",
       "      <td>Monday</td>\n",
       "    </tr>\n",
       "    <tr>\n",
       "      <th>5</th>\n",
       "      <td>842029A1</td>\n",
       "      <td>Преданная</td>\n",
       "      <td>IMPERVTOR</td>\n",
       "      <td>rusrap</td>\n",
       "      <td>Saint-Petersburg</td>\n",
       "      <td>13:09:41</td>\n",
       "      <td>Friday</td>\n",
       "    </tr>\n",
       "    <tr>\n",
       "      <th>6</th>\n",
       "      <td>4CB90AA5</td>\n",
       "      <td>True</td>\n",
       "      <td>Roman Messer</td>\n",
       "      <td>dance</td>\n",
       "      <td>Moscow</td>\n",
       "      <td>13:00:07</td>\n",
       "      <td>Wednesday</td>\n",
       "    </tr>\n",
       "    <tr>\n",
       "      <th>7</th>\n",
       "      <td>F03E1C1F</td>\n",
       "      <td>Feeling This Way</td>\n",
       "      <td>Polina Griffith</td>\n",
       "      <td>dance</td>\n",
       "      <td>Moscow</td>\n",
       "      <td>20:47:49</td>\n",
       "      <td>Wednesday</td>\n",
       "    </tr>\n",
       "    <tr>\n",
       "      <th>8</th>\n",
       "      <td>8FA1D3BE</td>\n",
       "      <td>И вновь продолжается бой</td>\n",
       "      <td>NaN</td>\n",
       "      <td>ruspop</td>\n",
       "      <td>Moscow</td>\n",
       "      <td>09:17:40</td>\n",
       "      <td>Friday</td>\n",
       "    </tr>\n",
       "    <tr>\n",
       "      <th>9</th>\n",
       "      <td>E772D5C0</td>\n",
       "      <td>Pessimist</td>\n",
       "      <td>NaN</td>\n",
       "      <td>dance</td>\n",
       "      <td>Saint-Petersburg</td>\n",
       "      <td>21:20:49</td>\n",
       "      <td>Wednesday</td>\n",
       "    </tr>\n",
       "  </tbody>\n",
       "</table>\n",
       "</div>"
      ],
      "text/plain": [
       "     userID                        Track            artist   genre  \\\n",
       "0  FFB692EC            Kamigata To Boots  The Mass Missile    rock   \n",
       "1  55204538  Delayed Because of Accident  Andreas Rönnberg    rock   \n",
       "2    20EC38            Funiculì funiculà       Mario Lanza     pop   \n",
       "3  A3DD03C9        Dragons in the Sunset        Fire + Ice    folk   \n",
       "4  E2DC1FAE                  Soul People        Space Echo   dance   \n",
       "5  842029A1                    Преданная         IMPERVTOR  rusrap   \n",
       "6  4CB90AA5                         True      Roman Messer   dance   \n",
       "7  F03E1C1F             Feeling This Way   Polina Griffith   dance   \n",
       "8  8FA1D3BE     И вновь продолжается бой               NaN  ruspop   \n",
       "9  E772D5C0                    Pessimist               NaN   dance   \n",
       "\n",
       "             City        time        Day  \n",
       "0  Saint-Petersburg  20:28:33  Wednesday  \n",
       "1            Moscow  14:07:09     Friday  \n",
       "2  Saint-Petersburg  20:58:07  Wednesday  \n",
       "3  Saint-Petersburg  08:37:09     Monday  \n",
       "4            Moscow  08:34:34     Monday  \n",
       "5  Saint-Petersburg  13:09:41     Friday  \n",
       "6            Moscow  13:00:07  Wednesday  \n",
       "7            Moscow  20:47:49  Wednesday  \n",
       "8            Moscow  09:17:40     Friday  \n",
       "9  Saint-Petersburg  21:20:49  Wednesday  "
      ]
     },
     "execution_count": 3,
     "metadata": {},
     "output_type": "execute_result"
    }
   ],
   "source": [
    "df.head(10)# получение первых 10 строк таблицы df"
   ]
  },
  {
   "cell_type": "code",
   "execution_count": 4,
   "metadata": {
    "id": "DSf2kIb-_Zct"
   },
   "outputs": [
    {
     "name": "stdout",
     "output_type": "stream",
     "text": [
      "<class 'pandas.core.frame.DataFrame'>\n",
      "RangeIndex: 65079 entries, 0 to 65078\n",
      "Data columns (total 7 columns):\n",
      " #   Column    Non-Null Count  Dtype \n",
      "---  ------    --------------  ----- \n",
      " 0     userID  65079 non-null  object\n",
      " 1   Track     63848 non-null  object\n",
      " 2   artist    57876 non-null  object\n",
      " 3   genre     63881 non-null  object\n",
      " 4     City    65079 non-null  object\n",
      " 5   time      65079 non-null  object\n",
      " 6   Day       65079 non-null  object\n",
      "dtypes: object(7)\n",
      "memory usage: 3.5+ MB\n"
     ]
    }
   ],
   "source": [
    "df.info()# получение общей информации о данных в таблице df"
   ]
  },
  {
   "cell_type": "markdown",
   "metadata": {
    "id": "TaQ2Iwbr_Zct"
   },
   "source": [
    "Итак, в таблице семь столбцов. Тип данных во всех столбцах — `object`.\n",
    "\n",
    "Согласно документации к данным:\n",
    "* `userID` — идентификатор пользователя;\n",
    "* `Track` — название трека;  \n",
    "* `artist` — имя исполнителя;\n",
    "* `genre` — название жанра;\n",
    "* `City` — город пользователя;\n",
    "* `time` — время начала прослушивания;\n",
    "* `Day` — день недели.\n",
    "\n",
    "В названиях колонок видны три нарушения стиля:\n",
    "1. Строчные буквы сочетаются с прописными.\n",
    "2. Встречаются пробелы.\n",
    "3. Слитное написание слов.\n",
    "\n",
    "\n",
    "\n",
    "Количество значений в столбцах различается. Значит, в данных есть пропущенные значения.\n"
   ]
  },
  {
   "cell_type": "markdown",
   "metadata": {
    "id": "MCB6-dXG_Zct"
   },
   "source": [
    "**Выводы**\n",
    "\n",
    "В каждой строке таблицы — данные о прослушанном треке. Часть колонок описывает саму композицию: название, исполнителя и жанр. Остальные данные рассказывают о пользователе: из какого он города, когда он слушал музыку. \n",
    "\n",
    "Предварительно можно утверждать, что, данных достаточно для проверки гипотез. Но встречаются пропуски в данных, а в названиях колонок — расхождения с хорошим стилем.\n",
    "\n",
    "Чтобы двигаться дальше, нужно устранить проблемы в данных."
   ]
  },
  {
   "cell_type": "markdown",
   "metadata": {
    "id": "SjYF6Ub9_Zct"
   },
   "source": [
    "## Предобработка данных\n",
    "Исправим стиль в заголовках столбцов, исключим пропуски. Затем проверим данные на дубликаты."
   ]
  },
  {
   "cell_type": "markdown",
   "metadata": {
    "id": "dIaKXr29_Zct"
   },
   "source": [
    "Выведием на экран названия столбцов:"
   ]
  },
  {
   "cell_type": "code",
   "execution_count": 5,
   "metadata": {
    "id": "oKOTdF_Q_Zct"
   },
   "outputs": [
    {
     "data": {
      "text/plain": [
       "Index(['  userID', 'Track', 'artist', 'genre', '  City  ', 'time', 'Day'], dtype='object')"
      ]
     },
     "execution_count": 5,
     "metadata": {},
     "output_type": "execute_result"
    }
   ],
   "source": [
    "df.columns# перечень названий столбцов таблицы df"
   ]
  },
  {
   "cell_type": "markdown",
   "metadata": {
    "id": "zj5534cv_Zct"
   },
   "source": [
    "Приведем названия в соответствие с хорошим стилем:"
   ]
  },
  {
   "cell_type": "code",
   "execution_count": 6,
   "metadata": {
    "id": "ISlFqs5y_Zct"
   },
   "outputs": [],
   "source": [
    "df = df.rename(columns={'  userID':'user_id', 'Track':'track', '  City  ':'city', 'Day':'day'})# переименование столбцов"
   ]
  },
  {
   "cell_type": "markdown",
   "metadata": {
    "id": "1dqbh00J_Zct"
   },
   "source": [
    "Проверим результат."
   ]
  },
  {
   "cell_type": "code",
   "execution_count": 7,
   "metadata": {
    "id": "d4NOAmTW_Zct"
   },
   "outputs": [
    {
     "data": {
      "text/plain": [
       "Index(['user_id', 'track', 'artist', 'genre', 'city', 'time', 'day'], dtype='object')"
      ]
     },
     "execution_count": 7,
     "metadata": {},
     "output_type": "execute_result"
    }
   ],
   "source": [
    "df.columns# проверка результатов - перечень названий столбцов"
   ]
  },
  {
   "cell_type": "markdown",
   "metadata": {
    "id": "5ISfbcfY_Zct"
   },
   "source": [
    "Посчитаем, сколько в таблице пропущенных значений."
   ]
  },
  {
   "cell_type": "code",
   "execution_count": 8,
   "metadata": {
    "id": "RskX29qr_Zct"
   },
   "outputs": [
    {
     "data": {
      "text/plain": [
       "user_id       0\n",
       "track      1231\n",
       "artist     7203\n",
       "genre      1198\n",
       "city          0\n",
       "time          0\n",
       "day           0\n",
       "dtype: int64"
      ]
     },
     "execution_count": 8,
     "metadata": {},
     "output_type": "execute_result"
    }
   ],
   "source": [
    "df.isna().sum()# подсчёт пропусков"
   ]
  },
  {
   "cell_type": "markdown",
   "metadata": {
    "id": "fSv2laPA_Zct"
   },
   "source": [
    "Заменим пропущенные значения в столбцах `track`, `artist` и `genre` на строку `'unknown'`."
   ]
  },
  {
   "cell_type": "code",
   "execution_count": 9,
   "metadata": {
    "id": "KplB5qWs_Zct"
   },
   "outputs": [],
   "source": [
    "columns_to_replace = ['track', 'artist','genre']\n",
    "for column in columns_to_replace:\n",
    "    df[column] = df[column].fillna('unknown')# перебор названий столбцов в цикле и замена пропущенных значений на 'unknown'"
   ]
  },
  {
   "cell_type": "markdown",
   "metadata": {
    "id": "Ilsm-MZo_Zct"
   },
   "source": [
    "Убедимся, что в таблице не осталось пропусков."
   ]
  },
  {
   "cell_type": "code",
   "execution_count": 10,
   "metadata": {
    "id": "Tq4nYRX4_Zct"
   },
   "outputs": [
    {
     "data": {
      "text/plain": [
       "user_id    0\n",
       "track      0\n",
       "artist     0\n",
       "genre      0\n",
       "city       0\n",
       "time       0\n",
       "day        0\n",
       "dtype: int64"
      ]
     },
     "execution_count": 10,
     "metadata": {},
     "output_type": "execute_result"
    }
   ],
   "source": [
    "df.isna().sum()# подсчёт пропусков"
   ]
  },
  {
   "cell_type": "markdown",
   "metadata": {
    "id": "BWKRtBJ3_Zct"
   },
   "source": [
    "### Дубликаты\n",
    "Посчитаем явные дубликаты в таблице одной командой:"
   ]
  },
  {
   "cell_type": "code",
   "execution_count": 11,
   "metadata": {
    "id": "36eES_S0_Zct"
   },
   "outputs": [
    {
     "data": {
      "text/plain": [
       "3826"
      ]
     },
     "execution_count": 11,
     "metadata": {},
     "output_type": "execute_result"
    }
   ],
   "source": [
    "df.duplicated().sum()# подсчёт явных дубликатов"
   ]
  },
  {
   "cell_type": "markdown",
   "metadata": {
    "id": "Ot25h6XR_Zct"
   },
   "source": [
    "Удалим явные дубликаты:"
   ]
  },
  {
   "cell_type": "code",
   "execution_count": 12,
   "metadata": {
    "id": "exFHq6tt_Zct"
   },
   "outputs": [],
   "source": [
    "df = df.drop_duplicates().reset_index(drop=True)# удаление явных дубликатов (с удалением старых индексов и формированием новых)"
   ]
  },
  {
   "cell_type": "markdown",
   "metadata": {
    "id": "QlFBsxAr_Zct"
   },
   "source": [
    "Избавимся от неявных дубликатов в колонке `genre`. "
   ]
  },
  {
   "cell_type": "code",
   "execution_count": 14,
   "metadata": {
    "id": "JIUcqzZN_Zct"
   },
   "outputs": [
    {
     "data": {
      "text/plain": [
       "array(['acid', 'acoustic', 'action', 'adult', 'africa', 'afrikaans',\n",
       "       'alternative', 'alternativepunk', 'ambient', 'americana',\n",
       "       'animated', 'anime', 'arabesk', 'arabic', 'arena',\n",
       "       'argentinetango', 'art', 'audiobook', 'author', 'avantgarde',\n",
       "       'axé', 'baile', 'balkan', 'beats', 'bigroom', 'black', 'bluegrass',\n",
       "       'blues', 'bollywood', 'bossa', 'brazilian', 'breakbeat', 'breaks',\n",
       "       'broadway', 'cantautori', 'cantopop', 'canzone', 'caribbean',\n",
       "       'caucasian', 'celtic', 'chamber', 'chanson', 'children', 'chill',\n",
       "       'chinese', 'choral', 'christian', 'christmas', 'classical',\n",
       "       'classicmetal', 'club', 'colombian', 'comedy', 'conjazz',\n",
       "       'contemporary', 'country', 'cuban', 'dance', 'dancehall',\n",
       "       'dancepop', 'dark', 'death', 'deep', 'deutschrock', 'deutschspr',\n",
       "       'dirty', 'disco', 'dnb', 'documentary', 'downbeat', 'downtempo',\n",
       "       'drum', 'dub', 'dubstep', 'eastern', 'easy', 'electronic',\n",
       "       'electropop', 'emo', 'entehno', 'epicmetal', 'estrada', 'ethnic',\n",
       "       'eurofolk', 'european', 'experimental', 'extrememetal', 'fado',\n",
       "       'fairytail', 'film', 'fitness', 'flamenco', 'folk', 'folklore',\n",
       "       'folkmetal', 'folkrock', 'folktronica', 'forró', 'frankreich',\n",
       "       'französisch', 'french', 'funk', 'future', 'gangsta', 'garage',\n",
       "       'german', 'ghazal', 'gitarre', 'glitch', 'gospel', 'gothic',\n",
       "       'grime', 'grunge', 'gypsy', 'handsup', \"hard'n'heavy\", 'hardcore',\n",
       "       'hardstyle', 'hardtechno', 'hip', 'hip-hop', 'hiphop',\n",
       "       'historisch', 'holiday', 'hop', 'horror', 'house', 'hymn', 'idm',\n",
       "       'independent', 'indian', 'indie', 'indipop', 'industrial',\n",
       "       'inspirational', 'instrumental', 'international', 'irish', 'jam',\n",
       "       'japanese', 'jazz', 'jewish', 'jpop', 'jungle', 'k-pop',\n",
       "       'karadeniz', 'karaoke', 'kayokyoku', 'korean', 'laiko', 'latin',\n",
       "       'latino', 'leftfield', 'local', 'lounge', 'loungeelectronic',\n",
       "       'lovers', 'malaysian', 'mandopop', 'marschmusik', 'meditative',\n",
       "       'mediterranean', 'melodic', 'metal', 'metalcore', 'mexican',\n",
       "       'middle', 'minimal', 'miscellaneous', 'modern', 'mood', 'mpb',\n",
       "       'muslim', 'native', 'neoklassik', 'neue', 'new', 'newage',\n",
       "       'newwave', 'nu', 'nujazz', 'numetal', 'oceania', 'old', 'opera',\n",
       "       'orchestral', 'other', 'piano', 'podcasts', 'pop', 'popdance',\n",
       "       'popelectronic', 'popeurodance', 'poprussian', 'post',\n",
       "       'posthardcore', 'postrock', 'power', 'progmetal', 'progressive',\n",
       "       'psychedelic', 'punjabi', 'punk', 'quebecois', 'ragga', 'ram',\n",
       "       'rancheras', 'rap', 'rave', 'reggae', 'reggaeton', 'regional',\n",
       "       'relax', 'religious', 'retro', 'rhythm', 'rnb', 'rnr', 'rock',\n",
       "       'rockabilly', 'rockalternative', 'rockindie', 'rockother',\n",
       "       'romance', 'roots', 'ruspop', 'rusrap', 'rusrock', 'russian',\n",
       "       'salsa', 'samba', 'scenic', 'schlager', 'self', 'sertanejo',\n",
       "       'shanson', 'shoegazing', 'showtunes', 'singer', 'ska', 'skarock',\n",
       "       'slow', 'smooth', 'soft', 'soul', 'soulful', 'sound', 'soundtrack',\n",
       "       'southern', 'specialty', 'speech', 'spiritual', 'sport',\n",
       "       'stonerrock', 'surf', 'swing', 'synthpop', 'synthrock',\n",
       "       'sängerportrait', 'tango', 'tanzorchester', 'taraftar', 'tatar',\n",
       "       'tech', 'techno', 'teen', 'thrash', 'top', 'traditional',\n",
       "       'tradjazz', 'trance', 'tribal', 'trip', 'triphop', 'tropical',\n",
       "       'türk', 'türkçe', 'ukrrock', 'unknown', 'urban', 'uzbek',\n",
       "       'variété', 'vi', 'videogame', 'vocal', 'western', 'world',\n",
       "       'worldbeat', 'ïîï', 'электроника'], dtype=object)"
      ]
     },
     "execution_count": 14,
     "metadata": {},
     "output_type": "execute_result"
    }
   ],
   "source": [
    "df['genre'].sort_values().unique()# Просмотр уникальных названий жанров"
   ]
  },
  {
   "cell_type": "code",
   "execution_count": 15,
   "metadata": {
    "id": "ErNDkmns_Zct"
   },
   "outputs": [],
   "source": [
    "def replace_wrong_genres(wrong_genre, correct_genre):\n",
    "    for wrong_genre in wrong_genres:\n",
    "        df['genre'] = df['genre'].replace(wrong_genres, correct_genre)# Функция для замены неявных дубликатов"
   ]
  },
  {
   "cell_type": "code",
   "execution_count": 16,
   "metadata": {
    "id": "YN5i2hpmSo09"
   },
   "outputs": [],
   "source": [
    "wrong_genres = ['hip', 'hop', 'hip-hop']\n",
    "replace_wrong_genres(wrong_genres, 'hiphop')# Устранение неявных дубликатов"
   ]
  },
  {
   "cell_type": "code",
   "execution_count": 17,
   "metadata": {
    "id": "wvixALnFG15m"
   },
   "outputs": [
    {
     "data": {
      "text/plain": [
       "array(['acid', 'acoustic', 'action', 'adult', 'africa', 'afrikaans',\n",
       "       'alternative', 'alternativepunk', 'ambient', 'americana',\n",
       "       'animated', 'anime', 'arabesk', 'arabic', 'arena',\n",
       "       'argentinetango', 'art', 'audiobook', 'author', 'avantgarde',\n",
       "       'axé', 'baile', 'balkan', 'beats', 'bigroom', 'black', 'bluegrass',\n",
       "       'blues', 'bollywood', 'bossa', 'brazilian', 'breakbeat', 'breaks',\n",
       "       'broadway', 'cantautori', 'cantopop', 'canzone', 'caribbean',\n",
       "       'caucasian', 'celtic', 'chamber', 'chanson', 'children', 'chill',\n",
       "       'chinese', 'choral', 'christian', 'christmas', 'classical',\n",
       "       'classicmetal', 'club', 'colombian', 'comedy', 'conjazz',\n",
       "       'contemporary', 'country', 'cuban', 'dance', 'dancehall',\n",
       "       'dancepop', 'dark', 'death', 'deep', 'deutschrock', 'deutschspr',\n",
       "       'dirty', 'disco', 'dnb', 'documentary', 'downbeat', 'downtempo',\n",
       "       'drum', 'dub', 'dubstep', 'eastern', 'easy', 'electronic',\n",
       "       'electropop', 'emo', 'entehno', 'epicmetal', 'estrada', 'ethnic',\n",
       "       'eurofolk', 'european', 'experimental', 'extrememetal', 'fado',\n",
       "       'fairytail', 'film', 'fitness', 'flamenco', 'folk', 'folklore',\n",
       "       'folkmetal', 'folkrock', 'folktronica', 'forró', 'frankreich',\n",
       "       'französisch', 'french', 'funk', 'future', 'gangsta', 'garage',\n",
       "       'german', 'ghazal', 'gitarre', 'glitch', 'gospel', 'gothic',\n",
       "       'grime', 'grunge', 'gypsy', 'handsup', \"hard'n'heavy\", 'hardcore',\n",
       "       'hardstyle', 'hardtechno', 'hiphop', 'historisch', 'holiday',\n",
       "       'horror', 'house', 'hymn', 'idm', 'independent', 'indian', 'indie',\n",
       "       'indipop', 'industrial', 'inspirational', 'instrumental',\n",
       "       'international', 'irish', 'jam', 'japanese', 'jazz', 'jewish',\n",
       "       'jpop', 'jungle', 'k-pop', 'karadeniz', 'karaoke', 'kayokyoku',\n",
       "       'korean', 'laiko', 'latin', 'latino', 'leftfield', 'local',\n",
       "       'lounge', 'loungeelectronic', 'lovers', 'malaysian', 'mandopop',\n",
       "       'marschmusik', 'meditative', 'mediterranean', 'melodic', 'metal',\n",
       "       'metalcore', 'mexican', 'middle', 'minimal', 'miscellaneous',\n",
       "       'modern', 'mood', 'mpb', 'muslim', 'native', 'neoklassik', 'neue',\n",
       "       'new', 'newage', 'newwave', 'nu', 'nujazz', 'numetal', 'oceania',\n",
       "       'old', 'opera', 'orchestral', 'other', 'piano', 'podcasts', 'pop',\n",
       "       'popdance', 'popelectronic', 'popeurodance', 'poprussian', 'post',\n",
       "       'posthardcore', 'postrock', 'power', 'progmetal', 'progressive',\n",
       "       'psychedelic', 'punjabi', 'punk', 'quebecois', 'ragga', 'ram',\n",
       "       'rancheras', 'rap', 'rave', 'reggae', 'reggaeton', 'regional',\n",
       "       'relax', 'religious', 'retro', 'rhythm', 'rnb', 'rnr', 'rock',\n",
       "       'rockabilly', 'rockalternative', 'rockindie', 'rockother',\n",
       "       'romance', 'roots', 'ruspop', 'rusrap', 'rusrock', 'russian',\n",
       "       'salsa', 'samba', 'scenic', 'schlager', 'self', 'sertanejo',\n",
       "       'shanson', 'shoegazing', 'showtunes', 'singer', 'ska', 'skarock',\n",
       "       'slow', 'smooth', 'soft', 'soul', 'soulful', 'sound', 'soundtrack',\n",
       "       'southern', 'specialty', 'speech', 'spiritual', 'sport',\n",
       "       'stonerrock', 'surf', 'swing', 'synthpop', 'synthrock',\n",
       "       'sängerportrait', 'tango', 'tanzorchester', 'taraftar', 'tatar',\n",
       "       'tech', 'techno', 'teen', 'thrash', 'top', 'traditional',\n",
       "       'tradjazz', 'trance', 'tribal', 'trip', 'triphop', 'tropical',\n",
       "       'türk', 'türkçe', 'ukrrock', 'unknown', 'urban', 'uzbek',\n",
       "       'variété', 'vi', 'videogame', 'vocal', 'western', 'world',\n",
       "       'worldbeat', 'ïîï', 'электроника'], dtype=object)"
      ]
     },
     "execution_count": 17,
     "metadata": {},
     "output_type": "execute_result"
    }
   ],
   "source": [
    "df['genre'].sort_values().unique()# Проверка на неявные дубликаты"
   ]
  },
  {
   "cell_type": "markdown",
   "metadata": {
    "id": "jz6a9-7HQUDd"
   },
   "source": [
    "**Выводы**\n",
    "\n",
    "Предобработка обнаружила три проблемы в данных:\n",
    "\n",
    "- нарушения в стиле заголовков,\n",
    "- пропущенные значения,\n",
    "- дубликаты — явные и неявные.\n",
    "\n",
    "Проблемы были решены."
   ]
  },
  {
   "cell_type": "markdown",
   "metadata": {
    "id": "WttZHXH0SqKk"
   },
   "source": [
    "## Проверка гипотез"
   ]
  },
  {
   "cell_type": "markdown",
   "metadata": {
    "id": "Im936VVi_Zcu"
   },
   "source": [
    "### Сравнение поведения пользователей двух столиц"
   ]
  },
  {
   "cell_type": "markdown",
   "metadata": {
    "id": "nwt_MuaL_Zcu"
   },
   "source": [
    "Первая гипотеза утверждает, что пользователи по-разному слушают музыку в Москве и Санкт-Петербурге. Проверим это предположение по данным о трёх днях недели — понедельнике, среде и пятнице. Для этого:\n",
    "\n",
    "* Разделим пользователей Москвы и Санкт-Петербурга\n",
    "* Сравним, сколько треков послушала каждая группа пользователей в понедельник, среду и пятницу.\n"
   ]
  },
  {
   "cell_type": "code",
   "execution_count": 18,
   "metadata": {
    "id": "0_Qs96oh_Zcu"
   },
   "outputs": [
    {
     "data": {
      "text/plain": [
       "city\n",
       "Moscow              42741\n",
       "Saint-Petersburg    18512\n",
       "Name: track, dtype: int64"
      ]
     },
     "execution_count": 18,
     "metadata": {},
     "output_type": "execute_result"
    }
   ],
   "source": [
    "df.groupby('city')['track'].count()# Подсчёт прослушиваний в каждом городе"
   ]
  },
  {
   "cell_type": "markdown",
   "metadata": {
    "id": "dzli3w8o_Zcu"
   },
   "source": [
    "В Москве прослушиваний больше, чем в Петербурге. Из этого не следует, что московские пользователи чаще слушают музыку. Просто самих пользователей в Москве больше.\n",
    "\n",
    "Теперь сгруппируем данные по дню недели и подсчитаеме прослушивания в понедельник, среду и пятницу. \n"
   ]
  },
  {
   "cell_type": "code",
   "execution_count": 19,
   "metadata": {
    "id": "uZMKjiJz_Zcu"
   },
   "outputs": [
    {
     "data": {
      "text/plain": [
       "day\n",
       "Friday       21840\n",
       "Monday       21354\n",
       "Wednesday    18059\n",
       "Name: user_id, dtype: int64"
      ]
     },
     "execution_count": 19,
     "metadata": {},
     "output_type": "execute_result"
    }
   ],
   "source": [
    "df.groupby('day')['user_id'].count()# Подсчёт прослушиваний в каждый из трёх дней"
   ]
  },
  {
   "cell_type": "markdown",
   "metadata": {
    "id": "cC2tNrlL_Zcu"
   },
   "source": [
    "В среднем пользователи из двух городов менее активны по средам. Но картина может измениться, если рассмотреть каждый город в отдельности."
   ]
  },
  {
   "cell_type": "code",
   "execution_count": 20,
   "metadata": {
    "id": "Nz3GdQB1_Zcu"
   },
   "outputs": [],
   "source": [
    "def number_tracks(day, city):# <создание функции number_tracks()>Объявляется функция с двумя параметрами: day, city.\n",
    "    track_list = df[df['day'] == day]# В переменной track_list сохраняются те строки таблицы df, для которых # значение в столбце 'day' равно параметру day и одновременно значение\n",
    "    track_list = track_list[track_list['city'] == city]# в столбце 'city' равно параметру city (используйте последовательную фильтрацию# с помощью логической индексации).\n",
    "    track_list_count = track_list['user_id'].count()# В переменной track_list_count сохраняется число значений столбца 'user_id',# рассчитанное методом count() для таблицы track_list.\n",
    "    return track_list_count# Функция возвращает число - значение track_list_count.\n",
    "\n",
    "# Функция для подсчёта прослушиваний для конкретного города и дня.\n",
    "# С помощью последовательной фильтрации с логической индексацией она \n",
    "# сначала получит из исходной таблицы строки с нужным днём,\n",
    "# затем из результата отфильтрует строки с нужным городом,\n",
    "# методом count() посчитает количество значений в колонке user_id. \n",
    "# Это количество функция вернёт в качестве результата"
   ]
  },
  {
   "cell_type": "code",
   "execution_count": 21,
   "metadata": {
    "id": "rJcRATNQ_Zcu"
   },
   "outputs": [
    {
     "data": {
      "text/plain": [
       "15740"
      ]
     },
     "execution_count": 21,
     "metadata": {},
     "output_type": "execute_result"
    }
   ],
   "source": [
    "number_tracks('Monday', 'Moscow')# количество прослушиваний в Москве по понедельникам"
   ]
  },
  {
   "cell_type": "code",
   "execution_count": 22,
   "metadata": {
    "id": "hq_ncZ5T_Zcu"
   },
   "outputs": [
    {
     "data": {
      "text/plain": [
       "5614"
      ]
     },
     "execution_count": 22,
     "metadata": {},
     "output_type": "execute_result"
    }
   ],
   "source": [
    "number_tracks('Monday', 'Saint-Petersburg')# количество прослушиваний в Санкт-Петербурге по понедельникам"
   ]
  },
  {
   "cell_type": "code",
   "execution_count": 23,
   "metadata": {
    "id": "_NTy2VPU_Zcu"
   },
   "outputs": [
    {
     "data": {
      "text/plain": [
       "11056"
      ]
     },
     "execution_count": 23,
     "metadata": {},
     "output_type": "execute_result"
    }
   ],
   "source": [
    "number_tracks('Wednesday', 'Moscow')# количество прослушиваний в Москве по средам"
   ]
  },
  {
   "cell_type": "code",
   "execution_count": 24,
   "metadata": {
    "id": "j2y3TAwo_Zcu"
   },
   "outputs": [
    {
     "data": {
      "text/plain": [
       "7003"
      ]
     },
     "execution_count": 24,
     "metadata": {},
     "output_type": "execute_result"
    }
   ],
   "source": [
    "number_tracks('Wednesday', 'Saint-Petersburg')# количество прослушиваний в Санкт-Петербурге по средам"
   ]
  },
  {
   "cell_type": "code",
   "execution_count": 25,
   "metadata": {
    "id": "vYDw5u_K_Zcu"
   },
   "outputs": [
    {
     "data": {
      "text/plain": [
       "15945"
      ]
     },
     "execution_count": 25,
     "metadata": {},
     "output_type": "execute_result"
    }
   ],
   "source": [
    "number_tracks('Friday', 'Moscow')# количество прослушиваний в Москве по пятницам"
   ]
  },
  {
   "cell_type": "code",
   "execution_count": 26,
   "metadata": {
    "id": "8_yzFtW3_Zcu"
   },
   "outputs": [
    {
     "data": {
      "text/plain": [
       "5895"
      ]
     },
     "execution_count": 26,
     "metadata": {},
     "output_type": "execute_result"
    }
   ],
   "source": [
    "number_tracks('Friday', 'Saint-Petersburg')# количество прослушиваний в Санкт-Петербурге по пятницам"
   ]
  },
  {
   "cell_type": "markdown",
   "metadata": {
    "id": "7QXffbO-_Zcu"
   },
   "source": [
    "Создадим таблицу, где\n",
    "* названия колонок — `['city', 'monday', 'wednesday', 'friday']`;\n",
    "* данные — результаты, которые мы получили с помощью `number_tracks`."
   ]
  },
  {
   "cell_type": "code",
   "execution_count": 27,
   "metadata": {
    "id": "APAcLpOr_Zcu"
   },
   "outputs": [
    {
     "data": {
      "text/html": [
       "<div>\n",
       "<style scoped>\n",
       "    .dataframe tbody tr th:only-of-type {\n",
       "        vertical-align: middle;\n",
       "    }\n",
       "\n",
       "    .dataframe tbody tr th {\n",
       "        vertical-align: top;\n",
       "    }\n",
       "\n",
       "    .dataframe thead th {\n",
       "        text-align: right;\n",
       "    }\n",
       "</style>\n",
       "<table border=\"1\" class=\"dataframe\">\n",
       "  <thead>\n",
       "    <tr style=\"text-align: right;\">\n",
       "      <th></th>\n",
       "      <th>city</th>\n",
       "      <th>monday</th>\n",
       "      <th>wednesday</th>\n",
       "      <th>friday</th>\n",
       "    </tr>\n",
       "  </thead>\n",
       "  <tbody>\n",
       "    <tr>\n",
       "      <th>0</th>\n",
       "      <td>Moscow</td>\n",
       "      <td>15740</td>\n",
       "      <td>11056</td>\n",
       "      <td>15945</td>\n",
       "    </tr>\n",
       "    <tr>\n",
       "      <th>1</th>\n",
       "      <td>Saint-Petersburg</td>\n",
       "      <td>5614</td>\n",
       "      <td>7003</td>\n",
       "      <td>5895</td>\n",
       "    </tr>\n",
       "  </tbody>\n",
       "</table>\n",
       "</div>"
      ],
      "text/plain": [
       "               city  monday  wednesday  friday\n",
       "0            Moscow   15740      11056   15945\n",
       "1  Saint-Petersburg    5614       7003    5895"
      ]
     },
     "metadata": {},
     "output_type": "display_data"
    }
   ],
   "source": [
    "columns_names = ['city', 'monday', 'wednesday', 'friday']\n",
    "data_days_cities = [['Moscow', 15740, 11056, 15945], ['Saint-Petersburg', 5614, 7003, 5895]]\n",
    "df_days_cities = pd.DataFrame(data=data_days_cities,columns=columns_names)\n",
    "display(df_days_cities)# Таблица с результатами"
   ]
  },
  {
   "cell_type": "markdown",
   "metadata": {
    "id": "-EgPIHYu_Zcu"
   },
   "source": [
    "**Выводы**\n",
    "\n",
    "Данные показывают разницу поведения пользователей:\n",
    "\n",
    "- В Москве пик прослушиваний приходится на понедельник и пятницу, а в среду заметен спад.\n",
    "- В Петербурге, наоборот, больше слушают музыку по средам. Активность в понедельник и пятницу здесь почти в равной мере уступает среде.\n",
    "\n",
    "Значит, данные говорят в пользу первой гипотезы."
   ]
  },
  {
   "cell_type": "markdown",
   "metadata": {
    "id": "atZAxtq4_Zcu"
   },
   "source": [
    "### Музыка в начале и в конце недели"
   ]
  },
  {
   "cell_type": "markdown",
   "metadata": {
    "id": "eXrQqXFH_Zcu"
   },
   "source": [
    "Согласно второй гипотезе, утром в понедельник в Москве преобладают одни жанры, а в Петербурге — другие. Так же и вечером пятницы преобладают разные жанры — в зависимости от города."
   ]
  },
  {
   "cell_type": "markdown",
   "metadata": {
    "id": "S8UcW6Hw_Zcu"
   },
   "source": [
    "Сохраним таблицы с данными в две переменные:\n",
    "* по Москве — в `moscow_general`;\n",
    "* по Санкт-Петербургу — в `spb_general`."
   ]
  },
  {
   "cell_type": "code",
   "execution_count": 28,
   "metadata": {
    "id": "qeaFfM_P_Zcu"
   },
   "outputs": [],
   "source": [
    "moscow_general = df[df['city']=='Moscow']# получение таблицы moscow_general из тех строк таблицы df,\n",
    "# для которых значение в столбце 'city' равно 'Moscow'\n"
   ]
  },
  {
   "cell_type": "code",
   "execution_count": 29,
   "metadata": {
    "id": "ORaVRKto_Zcu"
   },
   "outputs": [],
   "source": [
    "spb_general = df[df['city']=='Saint-Petersburg']# получение таблицы spb_general из тех строк таблицы df,\n",
    "# для которых значение в столбце 'city' равно 'Saint-Petersburg'\n"
   ]
  },
  {
   "cell_type": "markdown",
   "metadata": {
    "id": "MEJV-CX2_Zcu"
   },
   "source": [
    "Создадим функцию `genre_weekday()` с четырьмя параметрами:\n",
    "* таблица (датафрейм) с данными,\n",
    "* день недели,\n",
    "* начальная временная метка в формате 'hh:mm', \n",
    "* последняя временная метка в формате 'hh:mm'."
   ]
  },
  {
   "cell_type": "code",
   "execution_count": 30,
   "metadata": {
    "id": "laJT9BYl_Zcu"
   },
   "outputs": [],
   "source": [
    "def genre_weekday(table, day, time1, time2):# Объявление функции genre_weekday() с параметрами table, day, time1, time2,# которая возвращает информацию о самых популярных жанрах в указанный день в# заданное время:\n",
    "    genre_df = table[table['day']==day]# 1) в переменную genre_df сохраняются те строки переданного датафрейма table, дл#    которых одновременно:#    - значение в столбце day равно значению аргумента day\n",
    "    genre_df = genre_df[genre_df['time']>time1]#    - значение в столбце time больше значения аргумента time1\n",
    "    genre_df = genre_df[genre_df['time']<time2]#    - значение в столбце time меньше значения аргумента time2#    Используйте последовательную фильтрацию с помощью логической индексации.\n",
    "    genre_df_count = genre_df.groupby('genre')['day'].count()# 2) сгруппировать датафрейм genre_df по столбцу genre, взять один из его#    столбцов и посчитать методом count() количество записей для каждого из#    присутствующих жанров, получившийся Series записать в переменную#    genre_df_count\n",
    "    genre_df_sorted = genre_df_count.sort_values(ascending=False)# 3) отсортировать genre_df_count по убыванию встречаемости и сохранить#    в переменную genre_df_sorted\n",
    "    return genre_df_sorted.head(10)# 4) вернуть Series из 10 первых значений genre_df_sorted, это будут топ-10#    популярных жанров (в указанный день, в заданное время)"
   ]
  },
  {
   "cell_type": "markdown",
   "metadata": {
    "id": "la2s2_PF_Zcu"
   },
   "source": [
    "Cравним результаты функции `genre_weekday()` для Москвы и Санкт-Петербурга в понедельник утром (с 7:00 до 11:00) и в пятницу вечером (с 17:00 до 23:00):"
   ]
  },
  {
   "cell_type": "code",
   "execution_count": 31,
   "metadata": {
    "id": "yz7itPUQ_Zcu"
   },
   "outputs": [
    {
     "data": {
      "text/plain": [
       "genre\n",
       "pop            781\n",
       "dance          549\n",
       "electronic     480\n",
       "rock           474\n",
       "hiphop         286\n",
       "ruspop         186\n",
       "world          181\n",
       "rusrap         175\n",
       "alternative    164\n",
       "unknown        161\n",
       "Name: day, dtype: int64"
      ]
     },
     "execution_count": 31,
     "metadata": {},
     "output_type": "execute_result"
    }
   ],
   "source": [
    "genre_weekday(moscow_general, 'Monday', '07:00', '11:00')# вызов функции для утра понедельника в Москве (вместо df — таблица moscow_general)\n",
    "# объекты, хранящие время, являются строками и сравниваются как строки\n",
    "# пример вызова: genre_weekday(moscow_general, 'Monday', '07:00', '11:00')"
   ]
  },
  {
   "cell_type": "code",
   "execution_count": 32,
   "metadata": {
    "id": "kwUcHPdy_Zcu"
   },
   "outputs": [
    {
     "data": {
      "text/plain": [
       "genre\n",
       "pop            218\n",
       "dance          182\n",
       "rock           162\n",
       "electronic     147\n",
       "hiphop          80\n",
       "ruspop          64\n",
       "alternative     58\n",
       "rusrap          55\n",
       "jazz            44\n",
       "classical       40\n",
       "Name: day, dtype: int64"
      ]
     },
     "execution_count": 32,
     "metadata": {},
     "output_type": "execute_result"
    }
   ],
   "source": [
    "genre_weekday(spb_general, 'Monday', '07:00', '11:00')# вызов функции для утра понедельника в Петербурге (вместо df — таблица spb_general)"
   ]
  },
  {
   "cell_type": "code",
   "execution_count": 33,
   "metadata": {
    "id": "EzXVRE1o_Zcu"
   },
   "outputs": [
    {
     "data": {
      "text/plain": [
       "genre\n",
       "pop            713\n",
       "rock           517\n",
       "dance          495\n",
       "electronic     482\n",
       "hiphop         273\n",
       "world          208\n",
       "ruspop         170\n",
       "alternative    163\n",
       "classical      163\n",
       "rusrap         142\n",
       "Name: day, dtype: int64"
      ]
     },
     "execution_count": 33,
     "metadata": {},
     "output_type": "execute_result"
    }
   ],
   "source": [
    "genre_weekday(moscow_general, 'Friday', '17:00', '23:00')# вызов функции для вечера пятницы в Москве"
   ]
  },
  {
   "cell_type": "code",
   "execution_count": 34,
   "metadata": {
    "id": "JZaEKu5v_Zcu"
   },
   "outputs": [
    {
     "data": {
      "text/plain": [
       "genre\n",
       "pop            256\n",
       "electronic     216\n",
       "rock           216\n",
       "dance          210\n",
       "hiphop          97\n",
       "alternative     63\n",
       "jazz            61\n",
       "classical       60\n",
       "rusrap          59\n",
       "world           54\n",
       "Name: day, dtype: int64"
      ]
     },
     "execution_count": 34,
     "metadata": {},
     "output_type": "execute_result"
    }
   ],
   "source": [
    "genre_weekday(spb_general, 'Friday', '17:00', '23:00')# вызов функции для вечера пятницы в Петербурге"
   ]
  },
  {
   "cell_type": "markdown",
   "metadata": {
    "id": "wrCe4MNX_Zcu"
   },
   "source": [
    "**Выводы**\n",
    "\n",
    "Если сравнить топ-10 жанров в понедельник утром, можно сделать такие выводы:\n",
    "\n",
    "1. В Москве и Петербурге слушают похожую музыку. Единственное отличие — в московский рейтинг вошёл жанр “world”, а в петербургский — джаз и классика.\n",
    "\n",
    "2. В Москве пропущенных значений оказалось так много, что значение `'unknown'` заняло десятое место среди самых популярных жанров. Значит, пропущенные значения занимают существенную долю в данных и угрожают достоверности исследования.\n",
    "\n",
    "Вечер пятницы не меняет эту картину. Некоторые жанры поднимаются немного выше, другие спускаются, но в целом топ-10 остаётся тем же самым.\n",
    "\n",
    "Таким образом, вторая гипотеза подтвердилась лишь частично:\n",
    "* Пользователи слушают похожую музыку в начале недели и в конце.\n",
    "* Разница между Москвой и Петербургом не слишком выражена. В Москве чаще слушают русскую популярную музыку, в Петербурге — джаз.\n",
    "\n",
    "Однако пропуски в данных ставят под сомнение этот результат. В Москве их так много, что рейтинг топ-10 мог бы выглядеть иначе, если бы не утерянные  данные о жанрах."
   ]
  },
  {
   "cell_type": "markdown",
   "metadata": {
    "id": "JolODAqr_Zcu"
   },
   "source": [
    "### Жанровые предпочтения в Москве и Петербурге\n",
    "\n",
    "Гипотеза: Петербург — столица рэпа, музыку этого жанра там слушают чаще, чем в Москве.  А Москва — город контрастов, в котором, тем не менее, преобладает поп-музыка."
   ]
  },
  {
   "cell_type": "markdown",
   "metadata": {
    "id": "DlegSvaT_Zcu"
   },
   "source": [
    "Сгруппируем таблицу `moscow_general` по жанру и посчитаем прослушивания треков каждого жанра методом `count()`. Затем отсортируем результат в порядке убывания и сохраним его в таблице `moscow_genres`."
   ]
  },
  {
   "cell_type": "code",
   "execution_count": 35,
   "metadata": {
    "id": "r19lIPke_Zcu"
   },
   "outputs": [],
   "source": [
    "moscow_genres = moscow_general.groupby('genre')['genre'].count().sort_values(ascending=False)# одной строкой: группировка таблицы moscow_general по столбцу 'genre', \n",
    "# подсчёт числа значений 'genre' в этой группировке методом count(), \n",
    "# сортировка получившегося Series в порядке убывания и сохранение в moscow_genres"
   ]
  },
  {
   "cell_type": "markdown",
   "metadata": {
    "id": "6kMuomxTiIr8"
   },
   "source": [
    "Выведим на экран первые десять строк `moscow_genres`:"
   ]
  },
  {
   "cell_type": "code",
   "execution_count": 36,
   "metadata": {
    "id": "WhCSooF8_Zcv"
   },
   "outputs": [
    {
     "data": {
      "text/plain": [
       "genre\n",
       "pop            5892\n",
       "dance          4435\n",
       "rock           3965\n",
       "electronic     3786\n",
       "hiphop         2096\n",
       "classical      1616\n",
       "world          1432\n",
       "alternative    1379\n",
       "ruspop         1372\n",
       "rusrap         1161\n",
       "Name: genre, dtype: int64"
      ]
     },
     "execution_count": 36,
     "metadata": {},
     "output_type": "execute_result"
    }
   ],
   "source": [
    "moscow_genres.head(10)# просмотр первых 10 строк moscow_genres"
   ]
  },
  {
   "cell_type": "markdown",
   "metadata": {
    "id": "cnPG2vnN_Zcv"
   },
   "source": [
    "Теперь повторим то же и для Петербурга."
   ]
  },
  {
   "cell_type": "code",
   "execution_count": 37,
   "metadata": {
    "id": "gluLIpE7_Zcv"
   },
   "outputs": [],
   "source": [
    "spb_genres = spb_general.groupby('genre')['genre'].count().sort_values(ascending=False)# одной строкой: группировка таблицы spb_general по столбцу 'genre', \n",
    "# подсчёт числа значений 'genre' в этой группировке методом count(), \n",
    "# сортировка получившегося Series в порядке убывания и сохранение в spb_genres"
   ]
  },
  {
   "cell_type": "markdown",
   "metadata": {
    "id": "5Doha_ODgyQ8"
   },
   "source": [
    "Выведем на экран первые десять строк `spb_genres`:"
   ]
  },
  {
   "cell_type": "code",
   "execution_count": 38,
   "metadata": {
    "id": "uaGJHjVU_Zcv"
   },
   "outputs": [
    {
     "data": {
      "text/plain": [
       "genre\n",
       "pop            2431\n",
       "dance          1932\n",
       "rock           1879\n",
       "electronic     1736\n",
       "hiphop          960\n",
       "alternative     649\n",
       "classical       646\n",
       "rusrap          564\n",
       "ruspop          538\n",
       "world           515\n",
       "Name: genre, dtype: int64"
      ]
     },
     "execution_count": 38,
     "metadata": {},
     "output_type": "execute_result"
    }
   ],
   "source": [
    "spb_genres.head(10)# просмотр первых 10 строк spb_genres"
   ]
  },
  {
   "cell_type": "markdown",
   "metadata": {
    "id": "RY51YJYu_Zcv"
   },
   "source": [
    "**Выводы**"
   ]
  },
  {
   "cell_type": "markdown",
   "metadata": {
    "id": "nVhnJEm__Zcv"
   },
   "source": [
    "Гипотеза частично подтвердилась:\n",
    "* Поп-музыка — самый популярный жанр в Москве, как и предполагала гипотеза. Более того, в топ-10 жанров встречается близкий жанр — русская популярная музыка.\n",
    "* Вопреки ожиданиям, рэп одинаково популярен в Москве и Петербурге. \n"
   ]
  },
  {
   "cell_type": "markdown",
   "metadata": {
    "id": "ykKQ0N65_Zcv"
   },
   "source": [
    "## Итоги исследования"
   ]
  },
  {
   "cell_type": "markdown",
   "metadata": {
    "id": "tjUwbHb3_Zcv"
   },
   "source": [
    "Были проверены три гипотезы и установлено:\n",
    "\n",
    "1. День недели по-разному влияет на активность пользователей в Москве и Петербурге. \n",
    "\n",
    "Первая гипотеза полностью подтвердилась.\n",
    "\n",
    "2. Музыкальные предпочтения не сильно меняются в течение недели — будь то Москва или Петербург. Небольшие различия заметны в начале недели, по понедельникам:\n",
    "* в Москве слушают музыку жанра “world”,\n",
    "* в Петербурге — джаз и классику.\n",
    "\n",
    "Таким образом, вторая гипотеза подтвердилась лишь отчасти. Этот результат мог оказаться иным, если бы не пропуски в данных.\n",
    "\n",
    "3. Во вкусах пользователей Москвы и Петербурга больше общего чем различий. Вопреки ожиданиям, предпочтения жанров в Петербурге напоминают московские.\n",
    "\n",
    "Третья гипотеза не подтвердилась. Если различия в предпочтениях и существуют, на основной массе пользователей они незаметны.\n"
   ]
  }
 ],
 "metadata": {
  "ExecuteTimeLog": [
   {
    "duration": 73,
    "start_time": "2022-05-01T19:15:44.617Z"
   },
   {
    "duration": 163,
    "start_time": "2022-05-01T19:16:25.963Z"
   },
   {
    "duration": 11,
    "start_time": "2022-05-01T19:16:35.457Z"
   },
   {
    "duration": 103,
    "start_time": "2022-05-01T19:17:30.340Z"
   },
   {
    "duration": 8,
    "start_time": "2022-05-01T19:17:47.927Z"
   },
   {
    "duration": 493,
    "start_time": "2022-05-01T19:17:53.008Z"
   },
   {
    "duration": 659,
    "start_time": "2022-05-01T19:20:34.969Z"
   },
   {
    "duration": 117,
    "start_time": "2022-05-01T19:20:53.147Z"
   },
   {
    "duration": 94,
    "start_time": "2022-05-01T19:45:24.104Z"
   },
   {
    "duration": 4,
    "start_time": "2022-05-01T19:45:29.480Z"
   },
   {
    "duration": 13,
    "start_time": "2022-05-01T19:45:32.686Z"
   },
   {
    "duration": 556,
    "start_time": "2022-05-01T19:45:40.759Z"
   },
   {
    "duration": 292,
    "start_time": "2022-05-01T19:45:51.667Z"
   },
   {
    "duration": 36,
    "start_time": "2022-05-01T19:46:01.834Z"
   },
   {
    "duration": 45,
    "start_time": "2022-05-01T19:46:46.653Z"
   },
   {
    "duration": 6,
    "start_time": "2022-05-01T19:54:37.469Z"
   },
   {
    "duration": 18,
    "start_time": "2022-05-01T19:57:05.900Z"
   },
   {
    "duration": 7,
    "start_time": "2022-05-01T19:57:13.729Z"
   },
   {
    "duration": 32,
    "start_time": "2022-05-01T19:58:16.208Z"
   },
   {
    "duration": 7,
    "start_time": "2022-05-01T19:58:20.467Z"
   },
   {
    "duration": 28,
    "start_time": "2022-05-01T19:58:40.000Z"
   },
   {
    "duration": 7,
    "start_time": "2022-05-01T19:58:44.727Z"
   },
   {
    "duration": 46,
    "start_time": "2022-05-01T20:21:10.452Z"
   },
   {
    "duration": 159,
    "start_time": "2022-05-01T20:23:46.759Z"
   },
   {
    "duration": 2599,
    "start_time": "2022-05-01T20:23:51.744Z"
   },
   {
    "duration": 2324,
    "start_time": "2022-05-01T20:24:16.157Z"
   },
   {
    "duration": 2365,
    "start_time": "2022-05-01T20:24:43.046Z"
   },
   {
    "duration": 2523,
    "start_time": "2022-05-01T20:27:36.749Z"
   },
   {
    "duration": 2350,
    "start_time": "2022-05-01T20:31:14.305Z"
   },
   {
    "duration": 2563,
    "start_time": "2022-05-01T20:32:36.429Z"
   },
   {
    "duration": 1800,
    "start_time": "2022-05-01T20:34:07.168Z"
   },
   {
    "duration": 1927,
    "start_time": "2022-05-01T20:34:35.821Z"
   },
   {
    "duration": 1976,
    "start_time": "2022-05-01T20:37:23.915Z"
   },
   {
    "duration": 24,
    "start_time": "2022-05-01T20:38:05.638Z"
   },
   {
    "duration": 57,
    "start_time": "2022-05-01T20:38:28.585Z"
   },
   {
    "duration": 155,
    "start_time": "2022-05-01T20:38:47.207Z"
   },
   {
    "duration": 16,
    "start_time": "2022-05-01T20:39:44.961Z"
   },
   {
    "duration": 171,
    "start_time": "2022-05-01T20:39:57.925Z"
   },
   {
    "duration": 128,
    "start_time": "2022-05-01T20:40:16.152Z"
   },
   {
    "duration": 12,
    "start_time": "2022-05-01T20:41:17.316Z"
   },
   {
    "duration": 16,
    "start_time": "2022-05-01T20:41:51.927Z"
   },
   {
    "duration": 106,
    "start_time": "2022-05-01T20:42:10.305Z"
   },
   {
    "duration": 14,
    "start_time": "2022-05-01T20:52:31.705Z"
   },
   {
    "duration": 10,
    "start_time": "2022-05-01T20:52:46.432Z"
   },
   {
    "duration": 5,
    "start_time": "2022-05-01T20:53:03.099Z"
   },
   {
    "duration": 33,
    "start_time": "2022-05-01T20:53:06.130Z"
   },
   {
    "duration": 61,
    "start_time": "2022-05-01T20:53:37.803Z"
   },
   {
    "duration": 53,
    "start_time": "2022-05-02T11:42:33.854Z"
   },
   {
    "duration": 7,
    "start_time": "2022-05-02T11:43:06.810Z"
   },
   {
    "duration": 9,
    "start_time": "2022-05-02T11:43:52.554Z"
   },
   {
    "duration": 9,
    "start_time": "2022-05-02T11:44:02.004Z"
   },
   {
    "duration": 459,
    "start_time": "2022-05-02T11:44:34.499Z"
   },
   {
    "duration": 175,
    "start_time": "2022-05-02T11:44:34.960Z"
   },
   {
    "duration": 20,
    "start_time": "2022-05-02T11:44:35.137Z"
   },
   {
    "duration": 48,
    "start_time": "2022-05-02T11:44:35.160Z"
   },
   {
    "duration": 27,
    "start_time": "2022-05-02T11:44:35.210Z"
   },
   {
    "duration": 14,
    "start_time": "2022-05-02T11:44:35.239Z"
   },
   {
    "duration": 8,
    "start_time": "2022-05-02T11:44:35.256Z"
   },
   {
    "duration": 31,
    "start_time": "2022-05-02T11:44:35.266Z"
   },
   {
    "duration": 48,
    "start_time": "2022-05-02T11:44:35.300Z"
   },
   {
    "duration": 28,
    "start_time": "2022-05-02T11:44:35.351Z"
   },
   {
    "duration": 93,
    "start_time": "2022-05-02T11:44:35.381Z"
   },
   {
    "duration": 99,
    "start_time": "2022-05-02T11:44:35.476Z"
   },
   {
    "duration": 80,
    "start_time": "2022-05-02T11:44:35.577Z"
   },
   {
    "duration": 45,
    "start_time": "2022-05-02T11:44:35.658Z"
   },
   {
    "duration": 3,
    "start_time": "2022-05-02T11:44:35.705Z"
   },
   {
    "duration": 48,
    "start_time": "2022-05-02T11:44:35.710Z"
   },
   {
    "duration": 43,
    "start_time": "2022-05-02T11:44:35.760Z"
   },
   {
    "duration": 37,
    "start_time": "2022-05-02T11:44:35.806Z"
   },
   {
    "duration": 4,
    "start_time": "2022-05-02T11:44:35.846Z"
   },
   {
    "duration": 5,
    "start_time": "2022-05-02T11:44:35.852Z"
   },
   {
    "duration": 8,
    "start_time": "2022-05-02T11:44:35.859Z"
   },
   {
    "duration": 5,
    "start_time": "2022-05-02T11:44:35.869Z"
   },
   {
    "duration": 5,
    "start_time": "2022-05-02T11:44:35.876Z"
   },
   {
    "duration": 6,
    "start_time": "2022-05-02T11:44:35.883Z"
   },
   {
    "duration": 43,
    "start_time": "2022-05-02T11:44:35.891Z"
   },
   {
    "duration": 3,
    "start_time": "2022-05-02T11:44:35.936Z"
   },
   {
    "duration": 8,
    "start_time": "2022-05-02T11:44:35.941Z"
   },
   {
    "duration": 7,
    "start_time": "2022-05-02T11:44:35.952Z"
   },
   {
    "duration": 9,
    "start_time": "2022-05-02T11:44:35.961Z"
   },
   {
    "duration": 8,
    "start_time": "2022-05-02T11:44:35.972Z"
   },
   {
    "duration": 11,
    "start_time": "2022-05-02T11:44:35.982Z"
   },
   {
    "duration": 6,
    "start_time": "2022-05-02T11:44:35.995Z"
   },
   {
    "duration": 11,
    "start_time": "2022-05-02T11:44:36.003Z"
   },
   {
    "duration": 17,
    "start_time": "2022-05-02T11:44:36.016Z"
   },
   {
    "duration": 7,
    "start_time": "2022-05-02T11:44:36.035Z"
   },
   {
    "duration": 7,
    "start_time": "2022-05-02T11:44:36.044Z"
   },
   {
    "duration": 6,
    "start_time": "2022-05-02T11:44:36.053Z"
   },
   {
    "duration": 6,
    "start_time": "2022-05-02T11:44:36.060Z"
   },
   {
    "duration": 85,
    "start_time": "2022-05-02T11:45:30.530Z"
   },
   {
    "duration": 5,
    "start_time": "2022-05-02T11:45:36.148Z"
   },
   {
    "duration": 42,
    "start_time": "2022-05-02T11:48:05.325Z"
   },
   {
    "duration": 10,
    "start_time": "2022-05-02T11:49:14.551Z"
   },
   {
    "duration": 56,
    "start_time": "2022-05-02T11:49:21.401Z"
   },
   {
    "duration": 38,
    "start_time": "2022-05-02T11:49:39.241Z"
   },
   {
    "duration": 5,
    "start_time": "2022-05-02T11:55:19.316Z"
   },
   {
    "duration": 8,
    "start_time": "2022-05-02T11:56:45.617Z"
   },
   {
    "duration": 2881,
    "start_time": "2022-05-02T11:56:53.426Z"
   },
   {
    "duration": 4,
    "start_time": "2022-05-02T12:03:39.457Z"
   },
   {
    "duration": 2747,
    "start_time": "2022-05-02T12:03:41.993Z"
   },
   {
    "duration": 3009,
    "start_time": "2022-05-02T12:04:09.710Z"
   },
   {
    "duration": 443,
    "start_time": "2022-05-02T12:05:45.022Z"
   },
   {
    "duration": 178,
    "start_time": "2022-05-02T12:05:45.467Z"
   },
   {
    "duration": 18,
    "start_time": "2022-05-02T12:05:45.646Z"
   },
   {
    "duration": 31,
    "start_time": "2022-05-02T12:05:45.666Z"
   },
   {
    "duration": 4,
    "start_time": "2022-05-02T12:05:45.699Z"
   },
   {
    "duration": 37,
    "start_time": "2022-05-02T12:05:45.704Z"
   },
   {
    "duration": 4,
    "start_time": "2022-05-02T12:05:45.743Z"
   },
   {
    "duration": 29,
    "start_time": "2022-05-02T12:05:45.749Z"
   },
   {
    "duration": 20,
    "start_time": "2022-05-02T12:05:45.780Z"
   },
   {
    "duration": 50,
    "start_time": "2022-05-02T12:05:45.803Z"
   },
   {
    "duration": 84,
    "start_time": "2022-05-02T12:05:45.855Z"
   },
   {
    "duration": 93,
    "start_time": "2022-05-02T12:05:45.941Z"
   },
   {
    "duration": 65,
    "start_time": "2022-05-02T12:05:46.036Z"
   },
   {
    "duration": 60,
    "start_time": "2022-05-02T12:05:46.103Z"
   },
   {
    "duration": 3,
    "start_time": "2022-05-02T12:05:46.165Z"
   },
   {
    "duration": 30,
    "start_time": "2022-05-02T12:05:46.169Z"
   },
   {
    "duration": 55,
    "start_time": "2022-05-02T12:05:46.201Z"
   },
   {
    "duration": 35,
    "start_time": "2022-05-02T12:05:46.258Z"
   },
   {
    "duration": 52,
    "start_time": "2022-05-02T12:05:46.294Z"
   },
   {
    "duration": 4,
    "start_time": "2022-05-02T12:05:46.347Z"
   },
   {
    "duration": 2724,
    "start_time": "2022-05-02T12:05:46.352Z"
   },
   {
    "duration": 0,
    "start_time": "2022-05-02T12:05:49.079Z"
   },
   {
    "duration": 0,
    "start_time": "2022-05-02T12:05:49.080Z"
   },
   {
    "duration": 0,
    "start_time": "2022-05-02T12:05:49.081Z"
   },
   {
    "duration": 0,
    "start_time": "2022-05-02T12:05:49.082Z"
   },
   {
    "duration": 0,
    "start_time": "2022-05-02T12:05:49.083Z"
   },
   {
    "duration": 0,
    "start_time": "2022-05-02T12:05:49.084Z"
   },
   {
    "duration": 0,
    "start_time": "2022-05-02T12:05:49.085Z"
   },
   {
    "duration": 0,
    "start_time": "2022-05-02T12:05:49.086Z"
   },
   {
    "duration": 0,
    "start_time": "2022-05-02T12:05:49.087Z"
   },
   {
    "duration": 0,
    "start_time": "2022-05-02T12:05:49.089Z"
   },
   {
    "duration": 0,
    "start_time": "2022-05-02T12:05:49.089Z"
   },
   {
    "duration": 1,
    "start_time": "2022-05-02T12:05:49.090Z"
   },
   {
    "duration": 0,
    "start_time": "2022-05-02T12:05:49.092Z"
   },
   {
    "duration": 0,
    "start_time": "2022-05-02T12:05:49.093Z"
   },
   {
    "duration": 0,
    "start_time": "2022-05-02T12:05:49.094Z"
   },
   {
    "duration": 0,
    "start_time": "2022-05-02T12:05:49.095Z"
   },
   {
    "duration": 0,
    "start_time": "2022-05-02T12:05:49.096Z"
   },
   {
    "duration": 6,
    "start_time": "2022-05-02T12:06:46.149Z"
   },
   {
    "duration": 2956,
    "start_time": "2022-05-02T12:11:20.657Z"
   },
   {
    "duration": 412,
    "start_time": "2022-05-02T12:11:48.298Z"
   },
   {
    "duration": 178,
    "start_time": "2022-05-02T12:11:48.711Z"
   },
   {
    "duration": 19,
    "start_time": "2022-05-02T12:11:48.891Z"
   },
   {
    "duration": 36,
    "start_time": "2022-05-02T12:11:48.912Z"
   },
   {
    "duration": 4,
    "start_time": "2022-05-02T12:11:48.951Z"
   },
   {
    "duration": 14,
    "start_time": "2022-05-02T12:11:48.957Z"
   },
   {
    "duration": 10,
    "start_time": "2022-05-02T12:11:48.972Z"
   },
   {
    "duration": 51,
    "start_time": "2022-05-02T12:11:48.983Z"
   },
   {
    "duration": 22,
    "start_time": "2022-05-02T12:11:49.036Z"
   },
   {
    "duration": 26,
    "start_time": "2022-05-02T12:11:49.060Z"
   },
   {
    "duration": 88,
    "start_time": "2022-05-02T12:11:49.087Z"
   },
   {
    "duration": 94,
    "start_time": "2022-05-02T12:11:49.177Z"
   },
   {
    "duration": 67,
    "start_time": "2022-05-02T12:11:49.272Z"
   },
   {
    "duration": 41,
    "start_time": "2022-05-02T12:11:49.343Z"
   },
   {
    "duration": 3,
    "start_time": "2022-05-02T12:11:49.386Z"
   },
   {
    "duration": 48,
    "start_time": "2022-05-02T12:11:49.391Z"
   },
   {
    "duration": 43,
    "start_time": "2022-05-02T12:11:49.441Z"
   },
   {
    "duration": 52,
    "start_time": "2022-05-02T12:11:49.486Z"
   },
   {
    "duration": 35,
    "start_time": "2022-05-02T12:11:49.540Z"
   },
   {
    "duration": 3,
    "start_time": "2022-05-02T12:11:49.577Z"
   },
   {
    "duration": 2795,
    "start_time": "2022-05-02T12:11:49.582Z"
   },
   {
    "duration": 0,
    "start_time": "2022-05-02T12:11:52.380Z"
   },
   {
    "duration": 0,
    "start_time": "2022-05-02T12:11:52.381Z"
   },
   {
    "duration": 0,
    "start_time": "2022-05-02T12:11:52.382Z"
   },
   {
    "duration": 0,
    "start_time": "2022-05-02T12:11:52.383Z"
   },
   {
    "duration": 0,
    "start_time": "2022-05-02T12:11:52.384Z"
   },
   {
    "duration": 0,
    "start_time": "2022-05-02T12:11:52.385Z"
   },
   {
    "duration": 0,
    "start_time": "2022-05-02T12:11:52.386Z"
   },
   {
    "duration": 0,
    "start_time": "2022-05-02T12:11:52.387Z"
   },
   {
    "duration": 0,
    "start_time": "2022-05-02T12:11:52.388Z"
   },
   {
    "duration": 0,
    "start_time": "2022-05-02T12:11:52.389Z"
   },
   {
    "duration": 0,
    "start_time": "2022-05-02T12:11:52.390Z"
   },
   {
    "duration": 0,
    "start_time": "2022-05-02T12:11:52.391Z"
   },
   {
    "duration": 0,
    "start_time": "2022-05-02T12:11:52.392Z"
   },
   {
    "duration": 0,
    "start_time": "2022-05-02T12:11:52.393Z"
   },
   {
    "duration": 0,
    "start_time": "2022-05-02T12:11:52.394Z"
   },
   {
    "duration": 0,
    "start_time": "2022-05-02T12:11:52.395Z"
   },
   {
    "duration": 0,
    "start_time": "2022-05-02T12:11:52.396Z"
   },
   {
    "duration": 4,
    "start_time": "2022-05-02T12:22:06.272Z"
   },
   {
    "duration": 3215,
    "start_time": "2022-05-02T12:22:09.960Z"
   },
   {
    "duration": 379,
    "start_time": "2022-05-02T12:26:03.990Z"
   },
   {
    "duration": 177,
    "start_time": "2022-05-02T12:26:04.371Z"
   },
   {
    "duration": 18,
    "start_time": "2022-05-02T12:26:04.550Z"
   },
   {
    "duration": 31,
    "start_time": "2022-05-02T12:26:04.569Z"
   },
   {
    "duration": 4,
    "start_time": "2022-05-02T12:26:04.602Z"
   },
   {
    "duration": 42,
    "start_time": "2022-05-02T12:26:04.607Z"
   },
   {
    "duration": 19,
    "start_time": "2022-05-02T12:26:04.651Z"
   },
   {
    "duration": 30,
    "start_time": "2022-05-02T12:26:04.672Z"
   },
   {
    "duration": 26,
    "start_time": "2022-05-02T12:26:04.704Z"
   },
   {
    "duration": 26,
    "start_time": "2022-05-02T12:26:04.732Z"
   },
   {
    "duration": 83,
    "start_time": "2022-05-02T12:26:04.759Z"
   },
   {
    "duration": 91,
    "start_time": "2022-05-02T12:26:04.843Z"
   },
   {
    "duration": 64,
    "start_time": "2022-05-02T12:26:04.935Z"
   },
   {
    "duration": 60,
    "start_time": "2022-05-02T12:26:05.004Z"
   },
   {
    "duration": 3,
    "start_time": "2022-05-02T12:26:05.066Z"
   },
   {
    "duration": 34,
    "start_time": "2022-05-02T12:26:05.070Z"
   },
   {
    "duration": 51,
    "start_time": "2022-05-02T12:26:05.106Z"
   },
   {
    "duration": 37,
    "start_time": "2022-05-02T12:26:05.159Z"
   },
   {
    "duration": 57,
    "start_time": "2022-05-02T12:26:05.198Z"
   },
   {
    "duration": 3,
    "start_time": "2022-05-02T12:26:05.257Z"
   },
   {
    "duration": 2898,
    "start_time": "2022-05-02T12:26:05.262Z"
   },
   {
    "duration": 0,
    "start_time": "2022-05-02T12:26:08.161Z"
   },
   {
    "duration": 0,
    "start_time": "2022-05-02T12:26:08.163Z"
   },
   {
    "duration": 0,
    "start_time": "2022-05-02T12:26:08.164Z"
   },
   {
    "duration": 0,
    "start_time": "2022-05-02T12:26:08.165Z"
   },
   {
    "duration": 0,
    "start_time": "2022-05-02T12:26:08.166Z"
   },
   {
    "duration": 0,
    "start_time": "2022-05-02T12:26:08.167Z"
   },
   {
    "duration": 0,
    "start_time": "2022-05-02T12:26:08.168Z"
   },
   {
    "duration": 0,
    "start_time": "2022-05-02T12:26:08.169Z"
   },
   {
    "duration": 0,
    "start_time": "2022-05-02T12:26:08.170Z"
   },
   {
    "duration": 0,
    "start_time": "2022-05-02T12:26:08.171Z"
   },
   {
    "duration": 0,
    "start_time": "2022-05-02T12:26:08.172Z"
   },
   {
    "duration": 0,
    "start_time": "2022-05-02T12:26:08.173Z"
   },
   {
    "duration": 0,
    "start_time": "2022-05-02T12:26:08.174Z"
   },
   {
    "duration": 0,
    "start_time": "2022-05-02T12:26:08.175Z"
   },
   {
    "duration": 0,
    "start_time": "2022-05-02T12:26:08.176Z"
   },
   {
    "duration": 0,
    "start_time": "2022-05-02T12:26:08.178Z"
   },
   {
    "duration": 0,
    "start_time": "2022-05-02T12:26:08.179Z"
   },
   {
    "duration": 4,
    "start_time": "2022-05-02T12:30:10.404Z"
   },
   {
    "duration": 2968,
    "start_time": "2022-05-02T12:30:13.280Z"
   },
   {
    "duration": 4,
    "start_time": "2022-05-02T12:42:32.477Z"
   },
   {
    "duration": 2849,
    "start_time": "2022-05-02T12:42:35.318Z"
   },
   {
    "duration": 4,
    "start_time": "2022-05-02T12:43:02.596Z"
   },
   {
    "duration": 2901,
    "start_time": "2022-05-02T12:43:07.194Z"
   },
   {
    "duration": 4,
    "start_time": "2022-05-02T12:49:21.204Z"
   },
   {
    "duration": 2780,
    "start_time": "2022-05-02T12:49:24.181Z"
   },
   {
    "duration": 3,
    "start_time": "2022-05-02T12:54:46.840Z"
   },
   {
    "duration": 2768,
    "start_time": "2022-05-02T12:54:50.061Z"
   },
   {
    "duration": 4,
    "start_time": "2022-05-02T12:55:07.041Z"
   },
   {
    "duration": 2658,
    "start_time": "2022-05-02T12:55:11.223Z"
   },
   {
    "duration": 4,
    "start_time": "2022-05-02T12:55:51.587Z"
   },
   {
    "duration": 2761,
    "start_time": "2022-05-02T12:55:54.823Z"
   },
   {
    "duration": 4,
    "start_time": "2022-05-02T14:07:55.015Z"
   },
   {
    "duration": 2715,
    "start_time": "2022-05-02T14:07:58.651Z"
   },
   {
    "duration": 431,
    "start_time": "2022-05-02T14:08:09.314Z"
   },
   {
    "duration": 159,
    "start_time": "2022-05-02T14:08:09.747Z"
   },
   {
    "duration": 17,
    "start_time": "2022-05-02T14:08:09.908Z"
   },
   {
    "duration": 31,
    "start_time": "2022-05-02T14:08:09.927Z"
   },
   {
    "duration": 4,
    "start_time": "2022-05-02T14:08:09.960Z"
   },
   {
    "duration": 13,
    "start_time": "2022-05-02T14:08:09.966Z"
   },
   {
    "duration": 8,
    "start_time": "2022-05-02T14:08:09.981Z"
   },
   {
    "duration": 52,
    "start_time": "2022-05-02T14:08:09.991Z"
   },
   {
    "duration": 28,
    "start_time": "2022-05-02T14:08:10.045Z"
   },
   {
    "duration": 26,
    "start_time": "2022-05-02T14:08:10.075Z"
   },
   {
    "duration": 75,
    "start_time": "2022-05-02T14:08:10.102Z"
   },
   {
    "duration": 90,
    "start_time": "2022-05-02T14:08:10.179Z"
   },
   {
    "duration": 64,
    "start_time": "2022-05-02T14:08:10.271Z"
   },
   {
    "duration": 41,
    "start_time": "2022-05-02T14:08:10.339Z"
   },
   {
    "duration": 3,
    "start_time": "2022-05-02T14:08:10.381Z"
   },
   {
    "duration": 47,
    "start_time": "2022-05-02T14:08:10.386Z"
   },
   {
    "duration": 41,
    "start_time": "2022-05-02T14:08:10.435Z"
   },
   {
    "duration": 35,
    "start_time": "2022-05-02T14:08:10.477Z"
   },
   {
    "duration": 50,
    "start_time": "2022-05-02T14:08:10.514Z"
   },
   {
    "duration": 3,
    "start_time": "2022-05-02T14:08:10.566Z"
   },
   {
    "duration": 2695,
    "start_time": "2022-05-02T14:08:10.571Z"
   },
   {
    "duration": 0,
    "start_time": "2022-05-02T14:08:13.268Z"
   },
   {
    "duration": 0,
    "start_time": "2022-05-02T14:08:13.269Z"
   },
   {
    "duration": 0,
    "start_time": "2022-05-02T14:08:13.270Z"
   },
   {
    "duration": 0,
    "start_time": "2022-05-02T14:08:13.272Z"
   },
   {
    "duration": 0,
    "start_time": "2022-05-02T14:08:13.273Z"
   },
   {
    "duration": 0,
    "start_time": "2022-05-02T14:08:13.274Z"
   },
   {
    "duration": 0,
    "start_time": "2022-05-02T14:08:13.275Z"
   },
   {
    "duration": 0,
    "start_time": "2022-05-02T14:08:13.276Z"
   },
   {
    "duration": 0,
    "start_time": "2022-05-02T14:08:13.277Z"
   },
   {
    "duration": 0,
    "start_time": "2022-05-02T14:08:13.277Z"
   },
   {
    "duration": 0,
    "start_time": "2022-05-02T14:08:13.278Z"
   },
   {
    "duration": 0,
    "start_time": "2022-05-02T14:08:13.279Z"
   },
   {
    "duration": 0,
    "start_time": "2022-05-02T14:08:13.280Z"
   },
   {
    "duration": 0,
    "start_time": "2022-05-02T14:08:13.281Z"
   },
   {
    "duration": 1,
    "start_time": "2022-05-02T14:08:13.282Z"
   },
   {
    "duration": 0,
    "start_time": "2022-05-02T14:08:13.284Z"
   },
   {
    "duration": 0,
    "start_time": "2022-05-02T14:08:13.285Z"
   },
   {
    "duration": 425,
    "start_time": "2022-05-02T14:15:27.233Z"
   },
   {
    "duration": 166,
    "start_time": "2022-05-02T14:15:27.661Z"
   },
   {
    "duration": 18,
    "start_time": "2022-05-02T14:15:27.829Z"
   },
   {
    "duration": 35,
    "start_time": "2022-05-02T14:15:27.850Z"
   },
   {
    "duration": 5,
    "start_time": "2022-05-02T14:15:27.887Z"
   },
   {
    "duration": 15,
    "start_time": "2022-05-02T14:15:27.893Z"
   },
   {
    "duration": 25,
    "start_time": "2022-05-02T14:15:27.909Z"
   },
   {
    "duration": 27,
    "start_time": "2022-05-02T14:15:27.937Z"
   },
   {
    "duration": 21,
    "start_time": "2022-05-02T14:15:27.966Z"
   },
   {
    "duration": 47,
    "start_time": "2022-05-02T14:15:27.991Z"
   },
   {
    "duration": 68,
    "start_time": "2022-05-02T14:15:28.040Z"
   },
   {
    "duration": 104,
    "start_time": "2022-05-02T14:15:28.110Z"
   },
   {
    "duration": 70,
    "start_time": "2022-05-02T14:15:28.215Z"
   },
   {
    "duration": 54,
    "start_time": "2022-05-02T14:15:28.287Z"
   },
   {
    "duration": 3,
    "start_time": "2022-05-02T14:15:28.343Z"
   },
   {
    "duration": 35,
    "start_time": "2022-05-02T14:15:28.348Z"
   },
   {
    "duration": 52,
    "start_time": "2022-05-02T14:15:28.385Z"
   },
   {
    "duration": 37,
    "start_time": "2022-05-02T14:15:28.439Z"
   },
   {
    "duration": 34,
    "start_time": "2022-05-02T14:15:28.478Z"
   },
   {
    "duration": 4,
    "start_time": "2022-05-02T14:15:28.534Z"
   },
   {
    "duration": 3445,
    "start_time": "2022-05-02T14:15:28.539Z"
   },
   {
    "duration": 0,
    "start_time": "2022-05-02T14:15:31.986Z"
   },
   {
    "duration": 0,
    "start_time": "2022-05-02T14:15:31.988Z"
   },
   {
    "duration": 0,
    "start_time": "2022-05-02T14:15:31.989Z"
   },
   {
    "duration": 0,
    "start_time": "2022-05-02T14:15:31.990Z"
   },
   {
    "duration": 0,
    "start_time": "2022-05-02T14:15:31.991Z"
   },
   {
    "duration": 0,
    "start_time": "2022-05-02T14:15:31.992Z"
   },
   {
    "duration": 0,
    "start_time": "2022-05-02T14:15:31.994Z"
   },
   {
    "duration": 0,
    "start_time": "2022-05-02T14:15:31.995Z"
   },
   {
    "duration": 0,
    "start_time": "2022-05-02T14:15:31.996Z"
   },
   {
    "duration": 0,
    "start_time": "2022-05-02T14:15:31.997Z"
   },
   {
    "duration": 0,
    "start_time": "2022-05-02T14:15:31.998Z"
   },
   {
    "duration": 0,
    "start_time": "2022-05-02T14:15:31.999Z"
   },
   {
    "duration": 0,
    "start_time": "2022-05-02T14:15:32.000Z"
   },
   {
    "duration": 0,
    "start_time": "2022-05-02T14:15:32.001Z"
   },
   {
    "duration": 0,
    "start_time": "2022-05-02T14:15:32.002Z"
   },
   {
    "duration": 0,
    "start_time": "2022-05-02T14:15:32.003Z"
   },
   {
    "duration": 0,
    "start_time": "2022-05-02T14:15:32.004Z"
   },
   {
    "duration": 3,
    "start_time": "2022-05-02T14:17:51.434Z"
   },
   {
    "duration": 18,
    "start_time": "2022-05-02T14:17:56.125Z"
   },
   {
    "duration": 416,
    "start_time": "2022-05-02T14:25:00.341Z"
   },
   {
    "duration": 173,
    "start_time": "2022-05-02T14:25:00.759Z"
   },
   {
    "duration": 19,
    "start_time": "2022-05-02T14:25:00.934Z"
   },
   {
    "duration": 32,
    "start_time": "2022-05-02T14:25:00.954Z"
   },
   {
    "duration": 5,
    "start_time": "2022-05-02T14:25:00.988Z"
   },
   {
    "duration": 20,
    "start_time": "2022-05-02T14:25:00.994Z"
   },
   {
    "duration": 4,
    "start_time": "2022-05-02T14:25:01.034Z"
   },
   {
    "duration": 48,
    "start_time": "2022-05-02T14:25:01.040Z"
   },
   {
    "duration": 23,
    "start_time": "2022-05-02T14:25:01.090Z"
   },
   {
    "duration": 40,
    "start_time": "2022-05-02T14:25:01.116Z"
   },
   {
    "duration": 84,
    "start_time": "2022-05-02T14:25:01.157Z"
   },
   {
    "duration": 94,
    "start_time": "2022-05-02T14:25:01.242Z"
   },
   {
    "duration": 68,
    "start_time": "2022-05-02T14:25:01.337Z"
   },
   {
    "duration": 70,
    "start_time": "2022-05-02T14:25:01.410Z"
   },
   {
    "duration": 4,
    "start_time": "2022-05-02T14:25:01.482Z"
   },
   {
    "duration": 45,
    "start_time": "2022-05-02T14:25:01.488Z"
   },
   {
    "duration": 47,
    "start_time": "2022-05-02T14:25:01.535Z"
   },
   {
    "duration": 66,
    "start_time": "2022-05-02T14:25:01.584Z"
   },
   {
    "duration": 39,
    "start_time": "2022-05-02T14:25:01.651Z"
   },
   {
    "duration": 4,
    "start_time": "2022-05-02T14:25:01.692Z"
   },
   {
    "duration": 47,
    "start_time": "2022-05-02T14:25:01.698Z"
   },
   {
    "duration": 3,
    "start_time": "2022-05-02T14:25:01.747Z"
   },
   {
    "duration": 9,
    "start_time": "2022-05-02T14:25:01.751Z"
   },
   {
    "duration": 18,
    "start_time": "2022-05-02T14:25:01.762Z"
   },
   {
    "duration": 13,
    "start_time": "2022-05-02T14:25:01.782Z"
   },
   {
    "duration": 13,
    "start_time": "2022-05-02T14:25:01.797Z"
   },
   {
    "duration": 8,
    "start_time": "2022-05-02T14:25:01.812Z"
   },
   {
    "duration": 16,
    "start_time": "2022-05-02T14:25:01.822Z"
   },
   {
    "duration": 12,
    "start_time": "2022-05-02T14:25:01.840Z"
   },
   {
    "duration": 25,
    "start_time": "2022-05-02T14:25:01.854Z"
   },
   {
    "duration": 20,
    "start_time": "2022-05-02T14:25:01.881Z"
   },
   {
    "duration": 21,
    "start_time": "2022-05-02T14:25:01.903Z"
   },
   {
    "duration": 33,
    "start_time": "2022-05-02T14:25:01.926Z"
   },
   {
    "duration": 17,
    "start_time": "2022-05-02T14:25:01.961Z"
   },
   {
    "duration": 14,
    "start_time": "2022-05-02T14:25:01.980Z"
   },
   {
    "duration": 10,
    "start_time": "2022-05-02T14:25:01.996Z"
   },
   {
    "duration": 17,
    "start_time": "2022-05-02T14:25:02.008Z"
   },
   {
    "duration": 11,
    "start_time": "2022-05-02T14:25:02.027Z"
   },
   {
    "duration": 4,
    "start_time": "2022-05-02T14:28:33.648Z"
   },
   {
    "duration": 2153,
    "start_time": "2022-05-02T14:28:37.257Z"
   },
   {
    "duration": 5,
    "start_time": "2022-05-02T14:28:57.141Z"
   },
   {
    "duration": 22,
    "start_time": "2022-05-02T14:28:59.815Z"
   },
   {
    "duration": 393,
    "start_time": "2022-05-02T14:29:16.098Z"
   },
   {
    "duration": 178,
    "start_time": "2022-05-02T14:29:16.493Z"
   },
   {
    "duration": 20,
    "start_time": "2022-05-02T14:29:16.673Z"
   },
   {
    "duration": 49,
    "start_time": "2022-05-02T14:29:16.695Z"
   },
   {
    "duration": 5,
    "start_time": "2022-05-02T14:29:16.747Z"
   },
   {
    "duration": 15,
    "start_time": "2022-05-02T14:29:16.754Z"
   },
   {
    "duration": 7,
    "start_time": "2022-05-02T14:29:16.771Z"
   },
   {
    "duration": 57,
    "start_time": "2022-05-02T14:29:16.780Z"
   },
   {
    "duration": 23,
    "start_time": "2022-05-02T14:29:16.839Z"
   },
   {
    "duration": 26,
    "start_time": "2022-05-02T14:29:16.864Z"
   },
   {
    "duration": 89,
    "start_time": "2022-05-02T14:29:16.892Z"
   },
   {
    "duration": 94,
    "start_time": "2022-05-02T14:29:16.983Z"
   },
   {
    "duration": 83,
    "start_time": "2022-05-02T14:29:17.079Z"
   },
   {
    "duration": 42,
    "start_time": "2022-05-02T14:29:17.166Z"
   },
   {
    "duration": 4,
    "start_time": "2022-05-02T14:29:17.209Z"
   },
   {
    "duration": 52,
    "start_time": "2022-05-02T14:29:17.214Z"
   },
   {
    "duration": 41,
    "start_time": "2022-05-02T14:29:17.268Z"
   },
   {
    "duration": 53,
    "start_time": "2022-05-02T14:29:17.311Z"
   },
   {
    "duration": 41,
    "start_time": "2022-05-02T14:29:17.366Z"
   },
   {
    "duration": 28,
    "start_time": "2022-05-02T14:29:17.409Z"
   },
   {
    "duration": 30,
    "start_time": "2022-05-02T14:29:17.438Z"
   },
   {
    "duration": 3,
    "start_time": "2022-05-02T14:29:17.469Z"
   },
   {
    "duration": 9,
    "start_time": "2022-05-02T14:29:17.473Z"
   },
   {
    "duration": 7,
    "start_time": "2022-05-02T14:29:17.484Z"
   },
   {
    "duration": 6,
    "start_time": "2022-05-02T14:29:17.492Z"
   },
   {
    "duration": 6,
    "start_time": "2022-05-02T14:29:17.500Z"
   },
   {
    "duration": 5,
    "start_time": "2022-05-02T14:29:17.507Z"
   },
   {
    "duration": 4,
    "start_time": "2022-05-02T14:29:17.514Z"
   },
   {
    "duration": 6,
    "start_time": "2022-05-02T14:29:17.520Z"
   },
   {
    "duration": 19,
    "start_time": "2022-05-02T14:29:17.533Z"
   },
   {
    "duration": 11,
    "start_time": "2022-05-02T14:29:17.553Z"
   },
   {
    "duration": 5,
    "start_time": "2022-05-02T14:29:17.566Z"
   },
   {
    "duration": 7,
    "start_time": "2022-05-02T14:29:17.573Z"
   },
   {
    "duration": 6,
    "start_time": "2022-05-02T14:29:17.581Z"
   },
   {
    "duration": 5,
    "start_time": "2022-05-02T14:29:17.589Z"
   },
   {
    "duration": 6,
    "start_time": "2022-05-02T14:29:17.596Z"
   },
   {
    "duration": 7,
    "start_time": "2022-05-02T14:29:17.604Z"
   },
   {
    "duration": 6,
    "start_time": "2022-05-02T14:29:17.612Z"
   },
   {
    "duration": 16,
    "start_time": "2022-05-02T14:30:08.946Z"
   },
   {
    "duration": 16,
    "start_time": "2022-05-02T14:30:41.316Z"
   },
   {
    "duration": 23,
    "start_time": "2022-05-02T14:31:11.653Z"
   },
   {
    "duration": 24,
    "start_time": "2022-05-02T14:31:35.925Z"
   },
   {
    "duration": 23,
    "start_time": "2022-05-02T14:32:03.635Z"
   },
   {
    "duration": 4,
    "start_time": "2022-05-02T14:44:36.918Z"
   },
   {
    "duration": 9,
    "start_time": "2022-05-02T14:44:59.493Z"
   },
   {
    "duration": 10,
    "start_time": "2022-05-02T14:45:17.635Z"
   },
   {
    "duration": 10,
    "start_time": "2022-05-02T14:45:24.390Z"
   },
   {
    "duration": 444,
    "start_time": "2022-05-02T14:45:52.850Z"
   },
   {
    "duration": 175,
    "start_time": "2022-05-02T14:45:53.296Z"
   },
   {
    "duration": 18,
    "start_time": "2022-05-02T14:45:53.472Z"
   },
   {
    "duration": 42,
    "start_time": "2022-05-02T14:45:53.491Z"
   },
   {
    "duration": 9,
    "start_time": "2022-05-02T14:45:53.536Z"
   },
   {
    "duration": 17,
    "start_time": "2022-05-02T14:45:53.547Z"
   },
   {
    "duration": 7,
    "start_time": "2022-05-02T14:45:53.566Z"
   },
   {
    "duration": 34,
    "start_time": "2022-05-02T14:45:53.575Z"
   },
   {
    "duration": 38,
    "start_time": "2022-05-02T14:45:53.611Z"
   },
   {
    "duration": 25,
    "start_time": "2022-05-02T14:45:53.651Z"
   },
   {
    "duration": 88,
    "start_time": "2022-05-02T14:45:53.678Z"
   },
   {
    "duration": 93,
    "start_time": "2022-05-02T14:45:53.768Z"
   },
   {
    "duration": 73,
    "start_time": "2022-05-02T14:45:53.863Z"
   },
   {
    "duration": 43,
    "start_time": "2022-05-02T14:45:53.941Z"
   },
   {
    "duration": 3,
    "start_time": "2022-05-02T14:45:53.986Z"
   },
   {
    "duration": 50,
    "start_time": "2022-05-02T14:45:53.990Z"
   },
   {
    "duration": 40,
    "start_time": "2022-05-02T14:45:54.042Z"
   },
   {
    "duration": 50,
    "start_time": "2022-05-02T14:45:54.084Z"
   },
   {
    "duration": 34,
    "start_time": "2022-05-02T14:45:54.136Z"
   },
   {
    "duration": 4,
    "start_time": "2022-05-02T14:45:54.172Z"
   },
   {
    "duration": 28,
    "start_time": "2022-05-02T14:45:54.177Z"
   },
   {
    "duration": 33,
    "start_time": "2022-05-02T14:45:54.206Z"
   },
   {
    "duration": 17,
    "start_time": "2022-05-02T14:45:54.240Z"
   },
   {
    "duration": 14,
    "start_time": "2022-05-02T14:45:54.258Z"
   },
   {
    "duration": 18,
    "start_time": "2022-05-02T14:45:54.274Z"
   },
   {
    "duration": 45,
    "start_time": "2022-05-02T14:45:54.294Z"
   },
   {
    "duration": 8,
    "start_time": "2022-05-02T14:45:54.341Z"
   },
   {
    "duration": 5,
    "start_time": "2022-05-02T14:45:54.351Z"
   },
   {
    "duration": 5,
    "start_time": "2022-05-02T14:45:54.358Z"
   },
   {
    "duration": 7,
    "start_time": "2022-05-02T14:45:54.364Z"
   },
   {
    "duration": 8,
    "start_time": "2022-05-02T14:45:54.373Z"
   },
   {
    "duration": 8,
    "start_time": "2022-05-02T14:45:54.382Z"
   },
   {
    "duration": 10,
    "start_time": "2022-05-02T14:45:54.392Z"
   },
   {
    "duration": 7,
    "start_time": "2022-05-02T14:45:54.404Z"
   },
   {
    "duration": 20,
    "start_time": "2022-05-02T14:45:54.413Z"
   },
   {
    "duration": 15,
    "start_time": "2022-05-02T14:45:54.435Z"
   },
   {
    "duration": 10,
    "start_time": "2022-05-02T14:45:54.451Z"
   },
   {
    "duration": 6,
    "start_time": "2022-05-02T14:45:54.463Z"
   },
   {
    "duration": 22,
    "start_time": "2022-05-02T14:46:48.386Z"
   },
   {
    "duration": 9,
    "start_time": "2022-05-02T14:46:59.288Z"
   },
   {
    "duration": 395,
    "start_time": "2022-05-02T14:47:08.561Z"
   },
   {
    "duration": 159,
    "start_time": "2022-05-02T14:47:08.958Z"
   },
   {
    "duration": 22,
    "start_time": "2022-05-02T14:47:09.119Z"
   },
   {
    "duration": 33,
    "start_time": "2022-05-02T14:47:09.143Z"
   },
   {
    "duration": 4,
    "start_time": "2022-05-02T14:47:09.177Z"
   },
   {
    "duration": 14,
    "start_time": "2022-05-02T14:47:09.183Z"
   },
   {
    "duration": 7,
    "start_time": "2022-05-02T14:47:09.199Z"
   },
   {
    "duration": 46,
    "start_time": "2022-05-02T14:47:09.208Z"
   },
   {
    "duration": 18,
    "start_time": "2022-05-02T14:47:09.255Z"
   },
   {
    "duration": 24,
    "start_time": "2022-05-02T14:47:09.277Z"
   },
   {
    "duration": 82,
    "start_time": "2022-05-02T14:47:09.302Z"
   },
   {
    "duration": 92,
    "start_time": "2022-05-02T14:47:09.385Z"
   },
   {
    "duration": 64,
    "start_time": "2022-05-02T14:47:09.479Z"
   },
   {
    "duration": 41,
    "start_time": "2022-05-02T14:47:09.545Z"
   },
   {
    "duration": 4,
    "start_time": "2022-05-02T14:47:09.587Z"
   },
   {
    "duration": 45,
    "start_time": "2022-05-02T14:47:09.592Z"
   },
   {
    "duration": 41,
    "start_time": "2022-05-02T14:47:09.639Z"
   },
   {
    "duration": 53,
    "start_time": "2022-05-02T14:47:09.681Z"
   },
   {
    "duration": 35,
    "start_time": "2022-05-02T14:47:09.737Z"
   },
   {
    "duration": 4,
    "start_time": "2022-05-02T14:47:09.773Z"
   },
   {
    "duration": 23,
    "start_time": "2022-05-02T14:47:09.778Z"
   },
   {
    "duration": 37,
    "start_time": "2022-05-02T14:47:09.802Z"
   },
   {
    "duration": 16,
    "start_time": "2022-05-02T14:47:09.840Z"
   },
   {
    "duration": 15,
    "start_time": "2022-05-02T14:47:09.857Z"
   },
   {
    "duration": 18,
    "start_time": "2022-05-02T14:47:09.873Z"
   },
   {
    "duration": 45,
    "start_time": "2022-05-02T14:47:09.893Z"
   },
   {
    "duration": 9,
    "start_time": "2022-05-02T14:47:09.940Z"
   },
   {
    "duration": 5,
    "start_time": "2022-05-02T14:47:09.952Z"
   },
   {
    "duration": 6,
    "start_time": "2022-05-02T14:47:09.959Z"
   },
   {
    "duration": 7,
    "start_time": "2022-05-02T14:47:09.967Z"
   },
   {
    "duration": 10,
    "start_time": "2022-05-02T14:47:09.975Z"
   },
   {
    "duration": 10,
    "start_time": "2022-05-02T14:47:09.987Z"
   },
   {
    "duration": 12,
    "start_time": "2022-05-02T14:47:09.999Z"
   },
   {
    "duration": 12,
    "start_time": "2022-05-02T14:47:10.013Z"
   },
   {
    "duration": 7,
    "start_time": "2022-05-02T14:47:10.027Z"
   },
   {
    "duration": 7,
    "start_time": "2022-05-02T14:47:10.035Z"
   },
   {
    "duration": 7,
    "start_time": "2022-05-02T14:47:10.044Z"
   },
   {
    "duration": 11,
    "start_time": "2022-05-02T14:47:10.053Z"
   },
   {
    "duration": 2852,
    "start_time": "2022-05-02T14:48:22.991Z"
   },
   {
    "duration": 11,
    "start_time": "2022-05-02T14:48:35.630Z"
   },
   {
    "duration": 22,
    "start_time": "2022-05-02T14:48:55.313Z"
   },
   {
    "duration": 12,
    "start_time": "2022-05-02T14:49:08.542Z"
   },
   {
    "duration": 10,
    "start_time": "2022-05-02T14:49:39.798Z"
   },
   {
    "duration": 8,
    "start_time": "2022-05-02T15:00:51.817Z"
   },
   {
    "duration": 4,
    "start_time": "2022-05-02T15:01:06.774Z"
   },
   {
    "duration": 33,
    "start_time": "2022-05-02T15:01:10.530Z"
   },
   {
    "duration": 21,
    "start_time": "2022-05-02T15:01:26.093Z"
   },
   {
    "duration": 19,
    "start_time": "2022-05-02T15:01:33.397Z"
   },
   {
    "duration": 9,
    "start_time": "2022-05-02T15:02:04.309Z"
   },
   {
    "duration": 19,
    "start_time": "2022-05-02T15:03:05.452Z"
   },
   {
    "duration": 10,
    "start_time": "2022-05-02T15:04:24.219Z"
   },
   {
    "duration": 17,
    "start_time": "2022-05-02T15:04:42.946Z"
   },
   {
    "duration": 12,
    "start_time": "2022-05-02T15:05:00.406Z"
   },
   {
    "duration": 398,
    "start_time": "2022-05-02T15:05:49.454Z"
   },
   {
    "duration": 636,
    "start_time": "2022-05-02T15:05:49.854Z"
   },
   {
    "duration": 19,
    "start_time": "2022-05-02T15:05:50.492Z"
   },
   {
    "duration": 30,
    "start_time": "2022-05-02T15:05:50.513Z"
   },
   {
    "duration": 4,
    "start_time": "2022-05-02T15:05:50.546Z"
   },
   {
    "duration": 21,
    "start_time": "2022-05-02T15:05:50.552Z"
   },
   {
    "duration": 17,
    "start_time": "2022-05-02T15:05:50.575Z"
   },
   {
    "duration": 36,
    "start_time": "2022-05-02T15:05:50.593Z"
   },
   {
    "duration": 28,
    "start_time": "2022-05-02T15:05:50.631Z"
   },
   {
    "duration": 26,
    "start_time": "2022-05-02T15:05:50.661Z"
   },
   {
    "duration": 81,
    "start_time": "2022-05-02T15:05:50.688Z"
   },
   {
    "duration": 86,
    "start_time": "2022-05-02T15:05:50.771Z"
   },
   {
    "duration": 63,
    "start_time": "2022-05-02T15:05:50.859Z"
   },
   {
    "duration": 42,
    "start_time": "2022-05-02T15:05:50.937Z"
   },
   {
    "duration": 3,
    "start_time": "2022-05-02T15:05:50.981Z"
   },
   {
    "duration": 48,
    "start_time": "2022-05-02T15:05:50.985Z"
   },
   {
    "duration": 41,
    "start_time": "2022-05-02T15:05:51.035Z"
   },
   {
    "duration": 36,
    "start_time": "2022-05-02T15:05:51.078Z"
   },
   {
    "duration": 53,
    "start_time": "2022-05-02T15:05:51.115Z"
   },
   {
    "duration": 4,
    "start_time": "2022-05-02T15:05:51.169Z"
   },
   {
    "duration": 23,
    "start_time": "2022-05-02T15:05:51.174Z"
   },
   {
    "duration": 36,
    "start_time": "2022-05-02T15:05:51.198Z"
   },
   {
    "duration": 16,
    "start_time": "2022-05-02T15:05:51.236Z"
   },
   {
    "duration": 15,
    "start_time": "2022-05-02T15:05:51.253Z"
   },
   {
    "duration": 18,
    "start_time": "2022-05-02T15:05:51.270Z"
   },
   {
    "duration": 49,
    "start_time": "2022-05-02T15:05:51.290Z"
   },
   {
    "duration": 9,
    "start_time": "2022-05-02T15:05:51.342Z"
   },
   {
    "duration": 13,
    "start_time": "2022-05-02T15:05:51.353Z"
   },
   {
    "duration": 9,
    "start_time": "2022-05-02T15:05:51.368Z"
   },
   {
    "duration": 4,
    "start_time": "2022-05-02T15:05:51.379Z"
   },
   {
    "duration": 49,
    "start_time": "2022-05-02T15:05:51.385Z"
   },
   {
    "duration": 14,
    "start_time": "2022-05-02T15:05:51.436Z"
   },
   {
    "duration": 17,
    "start_time": "2022-05-02T15:05:51.451Z"
   },
   {
    "duration": 13,
    "start_time": "2022-05-02T15:05:51.470Z"
   },
   {
    "duration": 2,
    "start_time": "2022-05-02T15:05:51.485Z"
   },
   {
    "duration": 6,
    "start_time": "2022-05-02T15:05:51.489Z"
   },
   {
    "duration": 37,
    "start_time": "2022-05-02T15:05:51.497Z"
   },
   {
    "duration": 6,
    "start_time": "2022-05-02T15:05:51.536Z"
   },
   {
    "duration": 17,
    "start_time": "2022-05-02T15:07:44.058Z"
   },
   {
    "duration": 5,
    "start_time": "2022-05-02T15:08:00.525Z"
   },
   {
    "duration": 9,
    "start_time": "2022-05-02T15:08:31.471Z"
   },
   {
    "duration": 5,
    "start_time": "2022-05-02T15:08:34.742Z"
   },
   {
    "duration": 6,
    "start_time": "2022-05-02T15:09:03.197Z"
   },
   {
    "duration": 5,
    "start_time": "2022-05-02T15:09:14.769Z"
   },
   {
    "duration": 363,
    "start_time": "2022-05-02T15:10:16.486Z"
   },
   {
    "duration": 164,
    "start_time": "2022-05-02T15:10:16.851Z"
   },
   {
    "duration": 18,
    "start_time": "2022-05-02T15:10:17.016Z"
   },
   {
    "duration": 32,
    "start_time": "2022-05-02T15:10:17.036Z"
   },
   {
    "duration": 4,
    "start_time": "2022-05-02T15:10:17.070Z"
   },
   {
    "duration": 16,
    "start_time": "2022-05-02T15:10:17.076Z"
   },
   {
    "duration": 8,
    "start_time": "2022-05-02T15:10:17.094Z"
   },
   {
    "duration": 51,
    "start_time": "2022-05-02T15:10:17.104Z"
   },
   {
    "duration": 26,
    "start_time": "2022-05-02T15:10:17.156Z"
   },
   {
    "duration": 27,
    "start_time": "2022-05-02T15:10:17.185Z"
   },
   {
    "duration": 70,
    "start_time": "2022-05-02T15:10:17.234Z"
   },
   {
    "duration": 96,
    "start_time": "2022-05-02T15:10:17.305Z"
   },
   {
    "duration": 72,
    "start_time": "2022-05-02T15:10:17.403Z"
   },
   {
    "duration": 41,
    "start_time": "2022-05-02T15:10:17.477Z"
   },
   {
    "duration": 14,
    "start_time": "2022-05-02T15:10:17.520Z"
   },
   {
    "duration": 31,
    "start_time": "2022-05-02T15:10:17.536Z"
   },
   {
    "duration": 42,
    "start_time": "2022-05-02T15:10:17.568Z"
   },
   {
    "duration": 48,
    "start_time": "2022-05-02T15:10:17.611Z"
   },
   {
    "duration": 35,
    "start_time": "2022-05-02T15:10:17.661Z"
   },
   {
    "duration": 4,
    "start_time": "2022-05-02T15:10:17.698Z"
   },
   {
    "duration": 42,
    "start_time": "2022-05-02T15:10:17.704Z"
   },
   {
    "duration": 17,
    "start_time": "2022-05-02T15:10:17.748Z"
   },
   {
    "duration": 18,
    "start_time": "2022-05-02T15:10:17.767Z"
   },
   {
    "duration": 47,
    "start_time": "2022-05-02T15:10:17.787Z"
   },
   {
    "duration": 19,
    "start_time": "2022-05-02T15:10:17.837Z"
   },
   {
    "duration": 17,
    "start_time": "2022-05-02T15:10:17.858Z"
   },
   {
    "duration": 10,
    "start_time": "2022-05-02T15:10:17.877Z"
   },
   {
    "duration": 47,
    "start_time": "2022-05-02T15:10:17.892Z"
   },
   {
    "duration": 11,
    "start_time": "2022-05-02T15:10:17.940Z"
   },
   {
    "duration": 6,
    "start_time": "2022-05-02T15:10:17.953Z"
   },
   {
    "duration": 25,
    "start_time": "2022-05-02T15:10:17.961Z"
   },
   {
    "duration": 15,
    "start_time": "2022-05-02T15:10:17.988Z"
   },
   {
    "duration": 43,
    "start_time": "2022-05-02T15:10:18.005Z"
   },
   {
    "duration": 13,
    "start_time": "2022-05-02T15:10:18.050Z"
   },
   {
    "duration": 10,
    "start_time": "2022-05-02T15:10:18.065Z"
   },
   {
    "duration": 5,
    "start_time": "2022-05-02T15:10:18.076Z"
   },
   {
    "duration": 9,
    "start_time": "2022-05-02T15:10:18.083Z"
   },
   {
    "duration": 40,
    "start_time": "2022-05-02T15:10:18.094Z"
   },
   {
    "duration": 413,
    "start_time": "2022-05-06T08:18:56.393Z"
   },
   {
    "duration": 141,
    "start_time": "2022-05-06T08:18:56.808Z"
   },
   {
    "duration": 17,
    "start_time": "2022-05-06T08:18:56.950Z"
   },
   {
    "duration": 27,
    "start_time": "2022-05-06T08:18:56.969Z"
   },
   {
    "duration": 6,
    "start_time": "2022-05-06T08:18:56.997Z"
   },
   {
    "duration": 13,
    "start_time": "2022-05-06T08:18:57.024Z"
   },
   {
    "duration": 7,
    "start_time": "2022-05-06T08:18:57.038Z"
   },
   {
    "duration": 24,
    "start_time": "2022-05-06T08:18:57.047Z"
   },
   {
    "duration": 18,
    "start_time": "2022-05-06T08:18:57.073Z"
   },
   {
    "duration": 41,
    "start_time": "2022-05-06T08:18:57.093Z"
   },
   {
    "duration": 64,
    "start_time": "2022-05-06T08:18:57.136Z"
   },
   {
    "duration": 83,
    "start_time": "2022-05-06T08:18:57.202Z"
   },
   {
    "duration": 70,
    "start_time": "2022-05-06T08:18:57.287Z"
   },
   {
    "duration": 35,
    "start_time": "2022-05-06T08:18:57.359Z"
   },
   {
    "duration": 3,
    "start_time": "2022-05-06T08:18:57.396Z"
   },
   {
    "duration": 40,
    "start_time": "2022-05-06T08:18:57.400Z"
   },
   {
    "duration": 34,
    "start_time": "2022-05-06T08:18:57.441Z"
   },
   {
    "duration": 31,
    "start_time": "2022-05-06T08:18:57.477Z"
   },
   {
    "duration": 31,
    "start_time": "2022-05-06T08:18:57.523Z"
   },
   {
    "duration": 4,
    "start_time": "2022-05-06T08:18:57.556Z"
   },
   {
    "duration": 18,
    "start_time": "2022-05-06T08:18:57.562Z"
   },
   {
    "duration": 13,
    "start_time": "2022-05-06T08:18:57.581Z"
   },
   {
    "duration": 39,
    "start_time": "2022-05-06T08:18:57.596Z"
   },
   {
    "duration": 13,
    "start_time": "2022-05-06T08:18:57.636Z"
   },
   {
    "duration": 15,
    "start_time": "2022-05-06T08:18:57.651Z"
   },
   {
    "duration": 13,
    "start_time": "2022-05-06T08:18:57.667Z"
   },
   {
    "duration": 9,
    "start_time": "2022-05-06T08:18:57.681Z"
   },
   {
    "duration": 15,
    "start_time": "2022-05-06T08:18:57.726Z"
   },
   {
    "duration": 12,
    "start_time": "2022-05-06T08:18:57.743Z"
   },
   {
    "duration": 6,
    "start_time": "2022-05-06T08:18:57.757Z"
   },
   {
    "duration": 30,
    "start_time": "2022-05-06T08:18:57.764Z"
   },
   {
    "duration": 35,
    "start_time": "2022-05-06T08:18:57.796Z"
   },
   {
    "duration": 14,
    "start_time": "2022-05-06T08:18:57.832Z"
   },
   {
    "duration": 10,
    "start_time": "2022-05-06T08:18:57.848Z"
   },
   {
    "duration": 8,
    "start_time": "2022-05-06T08:18:57.859Z"
   },
   {
    "duration": 5,
    "start_time": "2022-05-06T08:18:57.868Z"
   },
   {
    "duration": 9,
    "start_time": "2022-05-06T08:18:57.875Z"
   },
   {
    "duration": 38,
    "start_time": "2022-05-06T08:18:57.886Z"
   },
   {
    "duration": 372,
    "start_time": "2022-05-10T12:07:56.264Z"
   },
   {
    "duration": 631,
    "start_time": "2022-05-10T12:07:56.638Z"
   },
   {
    "duration": 21,
    "start_time": "2022-05-10T12:07:57.271Z"
   },
   {
    "duration": 43,
    "start_time": "2022-05-10T12:07:57.294Z"
   },
   {
    "duration": 4,
    "start_time": "2022-05-10T12:07:57.338Z"
   },
   {
    "duration": 15,
    "start_time": "2022-05-10T12:07:57.344Z"
   },
   {
    "duration": 5,
    "start_time": "2022-05-10T12:07:57.361Z"
   },
   {
    "duration": 56,
    "start_time": "2022-05-10T12:07:57.367Z"
   },
   {
    "duration": 20,
    "start_time": "2022-05-10T12:07:57.424Z"
   },
   {
    "duration": 26,
    "start_time": "2022-05-10T12:07:57.447Z"
   },
   {
    "duration": 92,
    "start_time": "2022-05-10T12:07:57.474Z"
   },
   {
    "duration": 89,
    "start_time": "2022-05-10T12:07:57.568Z"
   },
   {
    "duration": 71,
    "start_time": "2022-05-10T12:07:57.659Z"
   },
   {
    "duration": 42,
    "start_time": "2022-05-10T12:07:57.732Z"
   },
   {
    "duration": 3,
    "start_time": "2022-05-10T12:07:57.776Z"
   },
   {
    "duration": 49,
    "start_time": "2022-05-10T12:07:57.781Z"
   },
   {
    "duration": 42,
    "start_time": "2022-05-10T12:07:57.831Z"
   },
   {
    "duration": 52,
    "start_time": "2022-05-10T12:07:57.875Z"
   },
   {
    "duration": 33,
    "start_time": "2022-05-10T12:07:57.928Z"
   },
   {
    "duration": 4,
    "start_time": "2022-05-10T12:07:57.962Z"
   },
   {
    "duration": 20,
    "start_time": "2022-05-10T12:07:57.967Z"
   },
   {
    "duration": 43,
    "start_time": "2022-05-10T12:07:57.989Z"
   },
   {
    "duration": 13,
    "start_time": "2022-05-10T12:07:58.034Z"
   },
   {
    "duration": 13,
    "start_time": "2022-05-10T12:07:58.049Z"
   },
   {
    "duration": 17,
    "start_time": "2022-05-10T12:07:58.064Z"
   },
   {
    "duration": 54,
    "start_time": "2022-05-10T12:07:58.082Z"
   },
   {
    "duration": 9,
    "start_time": "2022-05-10T12:07:58.138Z"
   },
   {
    "duration": 14,
    "start_time": "2022-05-10T12:07:58.150Z"
   },
   {
    "duration": 13,
    "start_time": "2022-05-10T12:07:58.166Z"
   },
   {
    "duration": 5,
    "start_time": "2022-05-10T12:07:58.181Z"
   },
   {
    "duration": 47,
    "start_time": "2022-05-10T12:07:58.187Z"
   },
   {
    "duration": 12,
    "start_time": "2022-05-10T12:07:58.235Z"
   },
   {
    "duration": 19,
    "start_time": "2022-05-10T12:07:58.248Z"
   },
   {
    "duration": 10,
    "start_time": "2022-05-10T12:07:58.269Z"
   },
   {
    "duration": 9,
    "start_time": "2022-05-10T12:07:58.281Z"
   },
   {
    "duration": 5,
    "start_time": "2022-05-10T12:07:58.323Z"
   },
   {
    "duration": 10,
    "start_time": "2022-05-10T12:07:58.330Z"
   },
   {
    "duration": 6,
    "start_time": "2022-05-10T12:07:58.342Z"
   },
   {
    "duration": 3,
    "start_time": "2022-05-10T12:08:59.615Z"
   },
   {
    "duration": 417,
    "start_time": "2022-05-10T12:09:07.537Z"
   },
   {
    "duration": 173,
    "start_time": "2022-05-10T12:09:07.956Z"
   },
   {
    "duration": 19,
    "start_time": "2022-05-10T12:09:08.131Z"
   },
   {
    "duration": 39,
    "start_time": "2022-05-10T12:09:08.153Z"
   },
   {
    "duration": 6,
    "start_time": "2022-05-10T12:09:08.194Z"
   },
   {
    "duration": 30,
    "start_time": "2022-05-10T12:09:08.202Z"
   },
   {
    "duration": 19,
    "start_time": "2022-05-10T12:09:08.234Z"
   },
   {
    "duration": 64,
    "start_time": "2022-05-10T12:09:08.255Z"
   },
   {
    "duration": 44,
    "start_time": "2022-05-10T12:09:08.321Z"
   },
   {
    "duration": 27,
    "start_time": "2022-05-10T12:09:08.368Z"
   },
   {
    "duration": 86,
    "start_time": "2022-05-10T12:09:08.397Z"
   },
   {
    "duration": 98,
    "start_time": "2022-05-10T12:09:08.485Z"
   },
   {
    "duration": 86,
    "start_time": "2022-05-10T12:09:08.586Z"
   },
   {
    "duration": 54,
    "start_time": "2022-05-10T12:09:08.674Z"
   },
   {
    "duration": 4,
    "start_time": "2022-05-10T12:09:08.731Z"
   },
   {
    "duration": 50,
    "start_time": "2022-05-10T12:09:08.736Z"
   },
   {
    "duration": 46,
    "start_time": "2022-05-10T12:09:08.788Z"
   },
   {
    "duration": 38,
    "start_time": "2022-05-10T12:09:08.836Z"
   },
   {
    "duration": 58,
    "start_time": "2022-05-10T12:09:08.876Z"
   },
   {
    "duration": 4,
    "start_time": "2022-05-10T12:09:08.936Z"
   },
   {
    "duration": 26,
    "start_time": "2022-05-10T12:09:08.942Z"
   },
   {
    "duration": 16,
    "start_time": "2022-05-10T12:09:08.970Z"
   },
   {
    "duration": 42,
    "start_time": "2022-05-10T12:09:08.988Z"
   },
   {
    "duration": 17,
    "start_time": "2022-05-10T12:09:09.032Z"
   },
   {
    "duration": 20,
    "start_time": "2022-05-10T12:09:09.051Z"
   },
   {
    "duration": 20,
    "start_time": "2022-05-10T12:09:09.073Z"
   },
   {
    "duration": 10,
    "start_time": "2022-05-10T12:09:09.123Z"
   },
   {
    "duration": 24,
    "start_time": "2022-05-10T12:09:09.136Z"
   },
   {
    "duration": 19,
    "start_time": "2022-05-10T12:09:09.162Z"
   },
   {
    "duration": 14,
    "start_time": "2022-05-10T12:09:09.183Z"
   },
   {
    "duration": 43,
    "start_time": "2022-05-10T12:09:09.199Z"
   },
   {
    "duration": 35,
    "start_time": "2022-05-10T12:09:09.244Z"
   },
   {
    "duration": 19,
    "start_time": "2022-05-10T12:09:09.282Z"
   },
   {
    "duration": 21,
    "start_time": "2022-05-10T12:09:09.303Z"
   },
   {
    "duration": 19,
    "start_time": "2022-05-10T12:09:09.326Z"
   },
   {
    "duration": 21,
    "start_time": "2022-05-10T12:09:09.347Z"
   },
   {
    "duration": 23,
    "start_time": "2022-05-10T12:09:09.369Z"
   },
   {
    "duration": 17,
    "start_time": "2022-05-10T12:09:09.394Z"
   },
   {
    "duration": 451,
    "start_time": "2022-05-10T12:09:47.682Z"
   },
   {
    "duration": 189,
    "start_time": "2022-05-10T12:09:48.136Z"
   },
   {
    "duration": 23,
    "start_time": "2022-05-10T12:09:48.328Z"
   },
   {
    "duration": 77,
    "start_time": "2022-05-10T12:09:48.354Z"
   },
   {
    "duration": 6,
    "start_time": "2022-05-10T12:09:48.435Z"
   },
   {
    "duration": 18,
    "start_time": "2022-05-10T12:09:48.443Z"
   },
   {
    "duration": 12,
    "start_time": "2022-05-10T12:09:48.464Z"
   },
   {
    "duration": 46,
    "start_time": "2022-05-10T12:09:48.477Z"
   },
   {
    "duration": 21,
    "start_time": "2022-05-10T12:09:48.525Z"
   },
   {
    "duration": 28,
    "start_time": "2022-05-10T12:09:48.548Z"
   },
   {
    "duration": 99,
    "start_time": "2022-05-10T12:09:48.578Z"
   },
   {
    "duration": 99,
    "start_time": "2022-05-10T12:09:48.679Z"
   },
   {
    "duration": 84,
    "start_time": "2022-05-10T12:09:48.780Z"
   },
   {
    "duration": 55,
    "start_time": "2022-05-10T12:09:48.870Z"
   },
   {
    "duration": 3,
    "start_time": "2022-05-10T12:09:48.927Z"
   },
   {
    "duration": 46,
    "start_time": "2022-05-10T12:09:48.933Z"
   },
   {
    "duration": 62,
    "start_time": "2022-05-10T12:09:48.981Z"
   },
   {
    "duration": 60,
    "start_time": "2022-05-10T12:09:49.045Z"
   },
   {
    "duration": 41,
    "start_time": "2022-05-10T12:09:49.123Z"
   },
   {
    "duration": 4,
    "start_time": "2022-05-10T12:09:49.166Z"
   },
   {
    "duration": 59,
    "start_time": "2022-05-10T12:09:49.172Z"
   },
   {
    "duration": 25,
    "start_time": "2022-05-10T12:09:49.234Z"
   },
   {
    "duration": 31,
    "start_time": "2022-05-10T12:09:49.262Z"
   },
   {
    "duration": 44,
    "start_time": "2022-05-10T12:09:49.295Z"
   },
   {
    "duration": 27,
    "start_time": "2022-05-10T12:09:49.341Z"
   },
   {
    "duration": 25,
    "start_time": "2022-05-10T12:09:49.371Z"
   },
   {
    "duration": 33,
    "start_time": "2022-05-10T12:09:49.398Z"
   },
   {
    "duration": 34,
    "start_time": "2022-05-10T12:09:49.433Z"
   },
   {
    "duration": 44,
    "start_time": "2022-05-10T12:09:49.470Z"
   },
   {
    "duration": 46,
    "start_time": "2022-05-10T12:09:49.517Z"
   },
   {
    "duration": 55,
    "start_time": "2022-05-10T12:09:49.565Z"
   },
   {
    "duration": 37,
    "start_time": "2022-05-10T12:09:49.630Z"
   },
   {
    "duration": 21,
    "start_time": "2022-05-10T12:09:49.669Z"
   },
   {
    "duration": 24,
    "start_time": "2022-05-10T12:09:49.693Z"
   },
   {
    "duration": 24,
    "start_time": "2022-05-10T12:09:49.719Z"
   },
   {
    "duration": 26,
    "start_time": "2022-05-10T12:09:49.745Z"
   },
   {
    "duration": 25,
    "start_time": "2022-05-10T12:09:49.774Z"
   },
   {
    "duration": 34,
    "start_time": "2022-05-10T12:09:49.802Z"
   },
   {
    "duration": 196,
    "start_time": "2022-05-10T12:11:43.977Z"
   },
   {
    "duration": 202,
    "start_time": "2022-05-10T12:13:32.839Z"
   },
   {
    "duration": 210,
    "start_time": "2022-05-10T12:14:10.634Z"
   },
   {
    "duration": 253,
    "start_time": "2022-05-10T12:15:29.918Z"
   },
   {
    "duration": 188,
    "start_time": "2022-05-10T12:16:06.052Z"
   },
   {
    "duration": 13,
    "start_time": "2022-05-10T12:19:57.044Z"
   },
   {
    "duration": 39,
    "start_time": "2022-05-10T12:20:17.549Z"
   },
   {
    "duration": 15,
    "start_time": "2022-05-10T12:20:29.476Z"
   },
   {
    "duration": 489,
    "start_time": "2022-05-10T12:21:22.268Z"
   },
   {
    "duration": 188,
    "start_time": "2022-05-10T12:21:22.759Z"
   },
   {
    "duration": 18,
    "start_time": "2022-05-10T12:21:22.949Z"
   },
   {
    "duration": 35,
    "start_time": "2022-05-10T12:21:22.969Z"
   },
   {
    "duration": 5,
    "start_time": "2022-05-10T12:21:23.023Z"
   },
   {
    "duration": 12,
    "start_time": "2022-05-10T12:21:23.031Z"
   },
   {
    "duration": 7,
    "start_time": "2022-05-10T12:21:23.045Z"
   },
   {
    "duration": 73,
    "start_time": "2022-05-10T12:21:23.055Z"
   },
   {
    "duration": 23,
    "start_time": "2022-05-10T12:21:23.130Z"
   },
   {
    "duration": 33,
    "start_time": "2022-05-10T12:21:23.156Z"
   },
   {
    "duration": 104,
    "start_time": "2022-05-10T12:21:23.192Z"
   },
   {
    "duration": 115,
    "start_time": "2022-05-10T12:21:23.298Z"
   },
   {
    "duration": 76,
    "start_time": "2022-05-10T12:21:23.415Z"
   },
   {
    "duration": 88,
    "start_time": "2022-05-10T12:21:23.498Z"
   },
   {
    "duration": 4,
    "start_time": "2022-05-10T12:21:23.588Z"
   },
   {
    "duration": 47,
    "start_time": "2022-05-10T12:21:23.594Z"
   },
   {
    "duration": 43,
    "start_time": "2022-05-10T12:21:23.643Z"
   },
   {
    "duration": 14,
    "start_time": "2022-05-10T12:21:23.688Z"
   },
   {
    "duration": 56,
    "start_time": "2022-05-10T12:21:23.703Z"
   },
   {
    "duration": 4,
    "start_time": "2022-05-10T12:21:23.761Z"
   },
   {
    "duration": 21,
    "start_time": "2022-05-10T12:21:23.767Z"
   },
   {
    "duration": 44,
    "start_time": "2022-05-10T12:21:23.790Z"
   },
   {
    "duration": 16,
    "start_time": "2022-05-10T12:21:23.836Z"
   },
   {
    "duration": 15,
    "start_time": "2022-05-10T12:21:23.854Z"
   },
   {
    "duration": 23,
    "start_time": "2022-05-10T12:21:23.871Z"
   },
   {
    "duration": 20,
    "start_time": "2022-05-10T12:21:23.923Z"
   },
   {
    "duration": 10,
    "start_time": "2022-05-10T12:21:23.945Z"
   },
   {
    "duration": 18,
    "start_time": "2022-05-10T12:21:23.957Z"
   },
   {
    "duration": 12,
    "start_time": "2022-05-10T12:21:23.977Z"
   },
   {
    "duration": 34,
    "start_time": "2022-05-10T12:21:23.991Z"
   },
   {
    "duration": 27,
    "start_time": "2022-05-10T12:21:24.027Z"
   },
   {
    "duration": 16,
    "start_time": "2022-05-10T12:21:24.056Z"
   },
   {
    "duration": 20,
    "start_time": "2022-05-10T12:21:24.073Z"
   },
   {
    "duration": 40,
    "start_time": "2022-05-10T12:21:24.095Z"
   },
   {
    "duration": 10,
    "start_time": "2022-05-10T12:21:24.137Z"
   },
   {
    "duration": 7,
    "start_time": "2022-05-10T12:21:24.149Z"
   },
   {
    "duration": 9,
    "start_time": "2022-05-10T12:21:24.158Z"
   },
   {
    "duration": 8,
    "start_time": "2022-05-10T12:21:24.169Z"
   },
   {
    "duration": 21,
    "start_time": "2022-05-10T12:21:42.520Z"
   },
   {
    "duration": 17,
    "start_time": "2022-05-10T21:42:11.346Z"
   },
   {
    "duration": 531,
    "start_time": "2022-05-10T21:42:45.122Z"
   },
   {
    "duration": 223,
    "start_time": "2022-05-10T21:42:45.656Z"
   },
   {
    "duration": 28,
    "start_time": "2022-05-10T21:42:45.881Z"
   },
   {
    "duration": 52,
    "start_time": "2022-05-10T21:42:45.912Z"
   },
   {
    "duration": 6,
    "start_time": "2022-05-10T21:42:45.966Z"
   },
   {
    "duration": 14,
    "start_time": "2022-05-10T21:42:45.975Z"
   },
   {
    "duration": 36,
    "start_time": "2022-05-10T21:42:45.992Z"
   },
   {
    "duration": 35,
    "start_time": "2022-05-10T21:42:46.031Z"
   },
   {
    "duration": 56,
    "start_time": "2022-05-10T21:42:46.069Z"
   },
   {
    "duration": 35,
    "start_time": "2022-05-10T21:42:46.129Z"
   },
   {
    "duration": 127,
    "start_time": "2022-05-10T21:42:46.167Z"
   },
   {
    "duration": 135,
    "start_time": "2022-05-10T21:42:46.296Z"
   },
   {
    "duration": 109,
    "start_time": "2022-05-10T21:42:46.433Z"
   },
   {
    "duration": 56,
    "start_time": "2022-05-10T21:42:46.545Z"
   },
   {
    "duration": 22,
    "start_time": "2022-05-10T21:42:46.603Z"
   },
   {
    "duration": 35,
    "start_time": "2022-05-10T21:42:46.627Z"
   },
   {
    "duration": 79,
    "start_time": "2022-05-10T21:42:46.664Z"
   },
   {
    "duration": 18,
    "start_time": "2022-05-10T21:42:46.745Z"
   },
   {
    "duration": 18,
    "start_time": "2022-05-10T21:42:46.765Z"
   },
   {
    "duration": 5,
    "start_time": "2022-05-10T21:42:46.785Z"
   },
   {
    "duration": 27,
    "start_time": "2022-05-10T21:42:46.824Z"
   },
   {
    "duration": 22,
    "start_time": "2022-05-10T21:42:46.854Z"
   },
   {
    "duration": 51,
    "start_time": "2022-05-10T21:42:46.879Z"
   },
   {
    "duration": 20,
    "start_time": "2022-05-10T21:42:46.933Z"
   },
   {
    "duration": 24,
    "start_time": "2022-05-10T21:42:46.956Z"
   },
   {
    "duration": 50,
    "start_time": "2022-05-10T21:42:46.982Z"
   },
   {
    "duration": 12,
    "start_time": "2022-05-10T21:42:47.035Z"
   },
   {
    "duration": 16,
    "start_time": "2022-05-10T21:42:47.052Z"
   },
   {
    "duration": 13,
    "start_time": "2022-05-10T21:42:47.070Z"
   },
   {
    "duration": 43,
    "start_time": "2022-05-10T21:42:47.086Z"
   },
   {
    "duration": 33,
    "start_time": "2022-05-10T21:42:47.131Z"
   },
   {
    "duration": 17,
    "start_time": "2022-05-10T21:42:47.166Z"
   },
   {
    "duration": 53,
    "start_time": "2022-05-10T21:42:47.185Z"
   },
   {
    "duration": 16,
    "start_time": "2022-05-10T21:42:47.240Z"
   },
   {
    "duration": 12,
    "start_time": "2022-05-10T21:42:47.258Z"
   },
   {
    "duration": 7,
    "start_time": "2022-05-10T21:42:47.272Z"
   },
   {
    "duration": 46,
    "start_time": "2022-05-10T21:42:47.281Z"
   },
   {
    "duration": 6,
    "start_time": "2022-05-10T21:42:47.329Z"
   }
  ],
  "colab": {
   "collapsed_sections": [
    "E0vqbgi9ay0H",
    "VUC88oWjTJw2"
   ],
   "name": "yandex_music_project.ipynb",
   "provenance": []
  },
  "kernelspec": {
   "display_name": "Python 3 (ipykernel)",
   "language": "python",
   "name": "python3"
  },
  "language_info": {
   "codemirror_mode": {
    "name": "ipython",
    "version": 3
   },
   "file_extension": ".py",
   "mimetype": "text/x-python",
   "name": "python",
   "nbconvert_exporter": "python",
   "pygments_lexer": "ipython3",
   "version": "3.9.12"
  },
  "toc": {
   "base_numbering": 1,
   "nav_menu": {},
   "number_sections": true,
   "sideBar": true,
   "skip_h1_title": true,
   "title_cell": "Table of Contents",
   "title_sidebar": "Contents",
   "toc_cell": false,
   "toc_position": {
    "height": "calc(100% - 180px)",
    "left": "10px",
    "top": "150px",
    "width": "255.594px"
   },
   "toc_section_display": true,
   "toc_window_display": true
  }
 },
 "nbformat": 4,
 "nbformat_minor": 1
}
