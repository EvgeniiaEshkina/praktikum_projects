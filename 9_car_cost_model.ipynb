{
 "cells": [
  {
   "cell_type": "markdown",
   "metadata": {},
   "source": [
    "# Определение стоимости автомобилей"
   ]
  },
  {
   "cell_type": "markdown",
   "metadata": {},
   "source": [
    "Сервис по продаже автомобилей с пробегом «Не бит, не крашен» разрабатывает приложение для привлечения новых клиентов. В нём можно быстро узнать рыночную стоимость своего автомобиля. В распоряжении исторические данные: технические характеристики, комплектации и цены автомобилей. Нужно построить модель для определения стоимости. \n",
    "\n",
    "Заказчику важны:\n",
    "\n",
    "- качество предсказания;\n",
    "- скорость предсказания;\n",
    "- время обучения."
   ]
  },
  {
   "cell_type": "markdown",
   "metadata": {},
   "source": [
    "## Подготовка данных"
   ]
  },
  {
   "cell_type": "markdown",
   "metadata": {},
   "source": [
    "Загрузим необходимые библиотеки:"
   ]
  },
  {
   "cell_type": "code",
   "execution_count": 1,
   "metadata": {},
   "outputs": [],
   "source": [
    "import pandas as pd\n",
    "import numpy as np\n",
    "import matplotlib.pyplot as plt\n",
    "from sklearn.model_selection import train_test_split\n",
    "from sklearn.preprocessing import StandardScaler\n",
    "from sklearn.linear_model import LinearRegression\n",
    "import lightgbm as lgb\n",
    "from catboost import CatBoostClassifier\n",
    "from math import sqrt\n",
    "from sklearn.metrics import mean_squared_error\n",
    "from sklearn.tree import DecisionTreeRegressor\n",
    "from sklearn.ensemble import RandomForestRegressor\n",
    "from sklearn.model_selection import GridSearchCV\n",
    "from sklearn.model_selection import RandomizedSearchCV\n",
    "from sklearn.preprocessing import OrdinalEncoder\n",
    "from sklearn.model_selection import cross_val_score\n",
    "from sklearn.metrics import make_scorer\n",
    "import warnings\n",
    "warnings.filterwarnings('ignore')"
   ]
  },
  {
   "cell_type": "markdown",
   "metadata": {},
   "source": [
    "Загрузим и изучим данные:  \n",
    "   \n",
    "*Признаки*\n",
    "- DateCrawled — дата скачивания анкеты из базы\n",
    "- VehicleType — тип автомобильного кузова\n",
    "- RegistrationYear — год регистрации автомобиля\n",
    "- Gearbox — тип коробки передач\n",
    "- Power — мощность (л. с.)\n",
    "- Model — модель автомобиля\n",
    "- Kilometer — пробег (км)\n",
    "- RegistrationMonth — месяц регистрации автомобиля\n",
    "- FuelType — тип топлива\n",
    "- Brand — марка автомобиля\n",
    "- NotRepaired — была машина в ремонте или нет\n",
    "- DateCreated — дата создания анкеты\n",
    "- NumberOfPictures — количество фотографий автомобиля\n",
    "- PostalCode — почтовый индекс владельца анкеты (пользователя)\n",
    "- LastSeen — дата последней активности пользователя  \n",
    "  \n",
    "*Целевой признак*  \n",
    "- Price — цена (евро)"
   ]
  },
  {
   "cell_type": "code",
   "execution_count": 2,
   "metadata": {},
   "outputs": [],
   "source": [
    "data = pd.read_csv('/datasets/autos.csv')"
   ]
  },
  {
   "cell_type": "code",
   "execution_count": 3,
   "metadata": {},
   "outputs": [
    {
     "data": {
      "text/html": [
       "<div>\n",
       "<style scoped>\n",
       "    .dataframe tbody tr th:only-of-type {\n",
       "        vertical-align: middle;\n",
       "    }\n",
       "\n",
       "    .dataframe tbody tr th {\n",
       "        vertical-align: top;\n",
       "    }\n",
       "\n",
       "    .dataframe thead th {\n",
       "        text-align: right;\n",
       "    }\n",
       "</style>\n",
       "<table border=\"1\" class=\"dataframe\">\n",
       "  <thead>\n",
       "    <tr style=\"text-align: right;\">\n",
       "      <th></th>\n",
       "      <th>DateCrawled</th>\n",
       "      <th>Price</th>\n",
       "      <th>VehicleType</th>\n",
       "      <th>RegistrationYear</th>\n",
       "      <th>Gearbox</th>\n",
       "      <th>Power</th>\n",
       "      <th>Model</th>\n",
       "      <th>Kilometer</th>\n",
       "      <th>RegistrationMonth</th>\n",
       "      <th>FuelType</th>\n",
       "      <th>Brand</th>\n",
       "      <th>NotRepaired</th>\n",
       "      <th>DateCreated</th>\n",
       "      <th>NumberOfPictures</th>\n",
       "      <th>PostalCode</th>\n",
       "      <th>LastSeen</th>\n",
       "    </tr>\n",
       "  </thead>\n",
       "  <tbody>\n",
       "    <tr>\n",
       "      <th>0</th>\n",
       "      <td>2016-03-24 11:52:17</td>\n",
       "      <td>480</td>\n",
       "      <td>NaN</td>\n",
       "      <td>1993</td>\n",
       "      <td>manual</td>\n",
       "      <td>0</td>\n",
       "      <td>golf</td>\n",
       "      <td>150000</td>\n",
       "      <td>0</td>\n",
       "      <td>petrol</td>\n",
       "      <td>volkswagen</td>\n",
       "      <td>NaN</td>\n",
       "      <td>2016-03-24 00:00:00</td>\n",
       "      <td>0</td>\n",
       "      <td>70435</td>\n",
       "      <td>2016-04-07 03:16:57</td>\n",
       "    </tr>\n",
       "    <tr>\n",
       "      <th>1</th>\n",
       "      <td>2016-03-24 10:58:45</td>\n",
       "      <td>18300</td>\n",
       "      <td>coupe</td>\n",
       "      <td>2011</td>\n",
       "      <td>manual</td>\n",
       "      <td>190</td>\n",
       "      <td>NaN</td>\n",
       "      <td>125000</td>\n",
       "      <td>5</td>\n",
       "      <td>gasoline</td>\n",
       "      <td>audi</td>\n",
       "      <td>yes</td>\n",
       "      <td>2016-03-24 00:00:00</td>\n",
       "      <td>0</td>\n",
       "      <td>66954</td>\n",
       "      <td>2016-04-07 01:46:50</td>\n",
       "    </tr>\n",
       "    <tr>\n",
       "      <th>2</th>\n",
       "      <td>2016-03-14 12:52:21</td>\n",
       "      <td>9800</td>\n",
       "      <td>suv</td>\n",
       "      <td>2004</td>\n",
       "      <td>auto</td>\n",
       "      <td>163</td>\n",
       "      <td>grand</td>\n",
       "      <td>125000</td>\n",
       "      <td>8</td>\n",
       "      <td>gasoline</td>\n",
       "      <td>jeep</td>\n",
       "      <td>NaN</td>\n",
       "      <td>2016-03-14 00:00:00</td>\n",
       "      <td>0</td>\n",
       "      <td>90480</td>\n",
       "      <td>2016-04-05 12:47:46</td>\n",
       "    </tr>\n",
       "    <tr>\n",
       "      <th>3</th>\n",
       "      <td>2016-03-17 16:54:04</td>\n",
       "      <td>1500</td>\n",
       "      <td>small</td>\n",
       "      <td>2001</td>\n",
       "      <td>manual</td>\n",
       "      <td>75</td>\n",
       "      <td>golf</td>\n",
       "      <td>150000</td>\n",
       "      <td>6</td>\n",
       "      <td>petrol</td>\n",
       "      <td>volkswagen</td>\n",
       "      <td>no</td>\n",
       "      <td>2016-03-17 00:00:00</td>\n",
       "      <td>0</td>\n",
       "      <td>91074</td>\n",
       "      <td>2016-03-17 17:40:17</td>\n",
       "    </tr>\n",
       "    <tr>\n",
       "      <th>4</th>\n",
       "      <td>2016-03-31 17:25:20</td>\n",
       "      <td>3600</td>\n",
       "      <td>small</td>\n",
       "      <td>2008</td>\n",
       "      <td>manual</td>\n",
       "      <td>69</td>\n",
       "      <td>fabia</td>\n",
       "      <td>90000</td>\n",
       "      <td>7</td>\n",
       "      <td>gasoline</td>\n",
       "      <td>skoda</td>\n",
       "      <td>no</td>\n",
       "      <td>2016-03-31 00:00:00</td>\n",
       "      <td>0</td>\n",
       "      <td>60437</td>\n",
       "      <td>2016-04-06 10:17:21</td>\n",
       "    </tr>\n",
       "    <tr>\n",
       "      <th>5</th>\n",
       "      <td>2016-04-04 17:36:23</td>\n",
       "      <td>650</td>\n",
       "      <td>sedan</td>\n",
       "      <td>1995</td>\n",
       "      <td>manual</td>\n",
       "      <td>102</td>\n",
       "      <td>3er</td>\n",
       "      <td>150000</td>\n",
       "      <td>10</td>\n",
       "      <td>petrol</td>\n",
       "      <td>bmw</td>\n",
       "      <td>yes</td>\n",
       "      <td>2016-04-04 00:00:00</td>\n",
       "      <td>0</td>\n",
       "      <td>33775</td>\n",
       "      <td>2016-04-06 19:17:07</td>\n",
       "    </tr>\n",
       "    <tr>\n",
       "      <th>6</th>\n",
       "      <td>2016-04-01 20:48:51</td>\n",
       "      <td>2200</td>\n",
       "      <td>convertible</td>\n",
       "      <td>2004</td>\n",
       "      <td>manual</td>\n",
       "      <td>109</td>\n",
       "      <td>2_reihe</td>\n",
       "      <td>150000</td>\n",
       "      <td>8</td>\n",
       "      <td>petrol</td>\n",
       "      <td>peugeot</td>\n",
       "      <td>no</td>\n",
       "      <td>2016-04-01 00:00:00</td>\n",
       "      <td>0</td>\n",
       "      <td>67112</td>\n",
       "      <td>2016-04-05 18:18:39</td>\n",
       "    </tr>\n",
       "    <tr>\n",
       "      <th>7</th>\n",
       "      <td>2016-03-21 18:54:38</td>\n",
       "      <td>0</td>\n",
       "      <td>sedan</td>\n",
       "      <td>1980</td>\n",
       "      <td>manual</td>\n",
       "      <td>50</td>\n",
       "      <td>other</td>\n",
       "      <td>40000</td>\n",
       "      <td>7</td>\n",
       "      <td>petrol</td>\n",
       "      <td>volkswagen</td>\n",
       "      <td>no</td>\n",
       "      <td>2016-03-21 00:00:00</td>\n",
       "      <td>0</td>\n",
       "      <td>19348</td>\n",
       "      <td>2016-03-25 16:47:58</td>\n",
       "    </tr>\n",
       "    <tr>\n",
       "      <th>8</th>\n",
       "      <td>2016-04-04 23:42:13</td>\n",
       "      <td>14500</td>\n",
       "      <td>bus</td>\n",
       "      <td>2014</td>\n",
       "      <td>manual</td>\n",
       "      <td>125</td>\n",
       "      <td>c_max</td>\n",
       "      <td>30000</td>\n",
       "      <td>8</td>\n",
       "      <td>petrol</td>\n",
       "      <td>ford</td>\n",
       "      <td>NaN</td>\n",
       "      <td>2016-04-04 00:00:00</td>\n",
       "      <td>0</td>\n",
       "      <td>94505</td>\n",
       "      <td>2016-04-04 23:42:13</td>\n",
       "    </tr>\n",
       "    <tr>\n",
       "      <th>9</th>\n",
       "      <td>2016-03-17 10:53:50</td>\n",
       "      <td>999</td>\n",
       "      <td>small</td>\n",
       "      <td>1998</td>\n",
       "      <td>manual</td>\n",
       "      <td>101</td>\n",
       "      <td>golf</td>\n",
       "      <td>150000</td>\n",
       "      <td>0</td>\n",
       "      <td>NaN</td>\n",
       "      <td>volkswagen</td>\n",
       "      <td>NaN</td>\n",
       "      <td>2016-03-17 00:00:00</td>\n",
       "      <td>0</td>\n",
       "      <td>27472</td>\n",
       "      <td>2016-03-31 17:17:06</td>\n",
       "    </tr>\n",
       "  </tbody>\n",
       "</table>\n",
       "</div>"
      ],
      "text/plain": [
       "           DateCrawled  Price  VehicleType  RegistrationYear Gearbox  Power  \\\n",
       "0  2016-03-24 11:52:17    480          NaN              1993  manual      0   \n",
       "1  2016-03-24 10:58:45  18300        coupe              2011  manual    190   \n",
       "2  2016-03-14 12:52:21   9800          suv              2004    auto    163   \n",
       "3  2016-03-17 16:54:04   1500        small              2001  manual     75   \n",
       "4  2016-03-31 17:25:20   3600        small              2008  manual     69   \n",
       "5  2016-04-04 17:36:23    650        sedan              1995  manual    102   \n",
       "6  2016-04-01 20:48:51   2200  convertible              2004  manual    109   \n",
       "7  2016-03-21 18:54:38      0        sedan              1980  manual     50   \n",
       "8  2016-04-04 23:42:13  14500          bus              2014  manual    125   \n",
       "9  2016-03-17 10:53:50    999        small              1998  manual    101   \n",
       "\n",
       "     Model  Kilometer  RegistrationMonth  FuelType       Brand NotRepaired  \\\n",
       "0     golf     150000                  0    petrol  volkswagen         NaN   \n",
       "1      NaN     125000                  5  gasoline        audi         yes   \n",
       "2    grand     125000                  8  gasoline        jeep         NaN   \n",
       "3     golf     150000                  6    petrol  volkswagen          no   \n",
       "4    fabia      90000                  7  gasoline       skoda          no   \n",
       "5      3er     150000                 10    petrol         bmw         yes   \n",
       "6  2_reihe     150000                  8    petrol     peugeot          no   \n",
       "7    other      40000                  7    petrol  volkswagen          no   \n",
       "8    c_max      30000                  8    petrol        ford         NaN   \n",
       "9     golf     150000                  0       NaN  volkswagen         NaN   \n",
       "\n",
       "           DateCreated  NumberOfPictures  PostalCode             LastSeen  \n",
       "0  2016-03-24 00:00:00                 0       70435  2016-04-07 03:16:57  \n",
       "1  2016-03-24 00:00:00                 0       66954  2016-04-07 01:46:50  \n",
       "2  2016-03-14 00:00:00                 0       90480  2016-04-05 12:47:46  \n",
       "3  2016-03-17 00:00:00                 0       91074  2016-03-17 17:40:17  \n",
       "4  2016-03-31 00:00:00                 0       60437  2016-04-06 10:17:21  \n",
       "5  2016-04-04 00:00:00                 0       33775  2016-04-06 19:17:07  \n",
       "6  2016-04-01 00:00:00                 0       67112  2016-04-05 18:18:39  \n",
       "7  2016-03-21 00:00:00                 0       19348  2016-03-25 16:47:58  \n",
       "8  2016-04-04 00:00:00                 0       94505  2016-04-04 23:42:13  \n",
       "9  2016-03-17 00:00:00                 0       27472  2016-03-31 17:17:06  "
      ]
     },
     "execution_count": 3,
     "metadata": {},
     "output_type": "execute_result"
    }
   ],
   "source": [
    "data.head(10)"
   ]
  },
  {
   "cell_type": "code",
   "execution_count": 4,
   "metadata": {},
   "outputs": [
    {
     "name": "stdout",
     "output_type": "stream",
     "text": [
      "<class 'pandas.core.frame.DataFrame'>\n",
      "RangeIndex: 354369 entries, 0 to 354368\n",
      "Data columns (total 16 columns):\n",
      " #   Column             Non-Null Count   Dtype \n",
      "---  ------             --------------   ----- \n",
      " 0   DateCrawled        354369 non-null  object\n",
      " 1   Price              354369 non-null  int64 \n",
      " 2   VehicleType        316879 non-null  object\n",
      " 3   RegistrationYear   354369 non-null  int64 \n",
      " 4   Gearbox            334536 non-null  object\n",
      " 5   Power              354369 non-null  int64 \n",
      " 6   Model              334664 non-null  object\n",
      " 7   Kilometer          354369 non-null  int64 \n",
      " 8   RegistrationMonth  354369 non-null  int64 \n",
      " 9   FuelType           321474 non-null  object\n",
      " 10  Brand              354369 non-null  object\n",
      " 11  NotRepaired        283215 non-null  object\n",
      " 12  DateCreated        354369 non-null  object\n",
      " 13  NumberOfPictures   354369 non-null  int64 \n",
      " 14  PostalCode         354369 non-null  int64 \n",
      " 15  LastSeen           354369 non-null  object\n",
      "dtypes: int64(7), object(9)\n",
      "memory usage: 43.3+ MB\n"
     ]
    }
   ],
   "source": [
    "data.info()"
   ]
  },
  {
   "cell_type": "markdown",
   "metadata": {},
   "source": [
    "В датасете содержится информация о 354369 автомобилях, охарактеризованных по 16 признакам."
   ]
  },
  {
   "cell_type": "markdown",
   "metadata": {},
   "source": [
    "Проверим данные на наличие дубликатов:"
   ]
  },
  {
   "cell_type": "code",
   "execution_count": 5,
   "metadata": {},
   "outputs": [
    {
     "data": {
      "text/plain": [
       "4"
      ]
     },
     "execution_count": 5,
     "metadata": {},
     "output_type": "execute_result"
    }
   ],
   "source": [
    "data.duplicated().sum()"
   ]
  },
  {
   "cell_type": "markdown",
   "metadata": {},
   "source": [
    "Есть 4 дубликата, удалим:"
   ]
  },
  {
   "cell_type": "code",
   "execution_count": 6,
   "metadata": {},
   "outputs": [],
   "source": [
    "data = data.drop_duplicates().reset_index(drop=True)"
   ]
  },
  {
   "cell_type": "markdown",
   "metadata": {},
   "source": [
    "Проверим данные на наличие пропусков."
   ]
  },
  {
   "cell_type": "code",
   "execution_count": 7,
   "metadata": {},
   "outputs": [
    {
     "data": {
      "text/plain": [
       "DateCrawled              0\n",
       "Price                    0\n",
       "VehicleType          37490\n",
       "RegistrationYear         0\n",
       "Gearbox              19833\n",
       "Power                    0\n",
       "Model                19705\n",
       "Kilometer                0\n",
       "RegistrationMonth        0\n",
       "FuelType             32895\n",
       "Brand                    0\n",
       "NotRepaired          71154\n",
       "DateCreated              0\n",
       "NumberOfPictures         0\n",
       "PostalCode               0\n",
       "LastSeen                 0\n",
       "dtype: int64"
      ]
     },
     "execution_count": 7,
     "metadata": {},
     "output_type": "execute_result"
    }
   ],
   "source": [
    "data.isna().sum()"
   ]
  },
  {
   "cell_type": "markdown",
   "metadata": {},
   "source": [
    "5 столбцов содержат пропуски: тип кузова, тип коробки передач, модель автомобиля, тип топлива и показатель, была ли машина в ремонте."
   ]
  },
  {
   "cell_type": "markdown",
   "metadata": {},
   "source": [
    "Посмотрим, что можно сделать с пропусками в столбце 'VehicleType':"
   ]
  },
  {
   "cell_type": "code",
   "execution_count": 8,
   "metadata": {},
   "outputs": [
    {
     "data": {
      "text/plain": [
       "sedan          91457\n",
       "small          79830\n",
       "wagon          65165\n",
       "bus            28775\n",
       "convertible    20203\n",
       "coupe          16161\n",
       "suv            11996\n",
       "other           3288\n",
       "Name: VehicleType, dtype: int64"
      ]
     },
     "execution_count": 8,
     "metadata": {},
     "output_type": "execute_result"
    }
   ],
   "source": [
    "data['VehicleType'].value_counts()"
   ]
  },
  {
   "cell_type": "code",
   "execution_count": 9,
   "metadata": {},
   "outputs": [
    {
     "data": {
      "text/plain": [
       "11.831163708086786"
      ]
     },
     "execution_count": 9,
     "metadata": {},
     "output_type": "execute_result"
    }
   ],
   "source": [
    "data['VehicleType'].isna().sum() / data['VehicleType'].count() * 100"
   ]
  },
  {
   "cell_type": "markdown",
   "metadata": {},
   "source": [
    "Не представляется возможным предсказать, какие значения скрываются за пропусками в столбце \"тип кузова\". Однако, автомобили с пропусками в данном столбце занимают весомую часть датасета - более 10 %. Удаленине данных автомобилей не представляется целесообразным, заменим пропуски в данном столбце на 'unknown'."
   ]
  },
  {
   "cell_type": "code",
   "execution_count": 10,
   "metadata": {},
   "outputs": [],
   "source": [
    "data['VehicleType'] = data['VehicleType'].fillna('unknown')"
   ]
  },
  {
   "cell_type": "markdown",
   "metadata": {},
   "source": [
    "Посмотрим, что можно сделать с пропусками в столбце 'Gearbox':"
   ]
  },
  {
   "cell_type": "code",
   "execution_count": 11,
   "metadata": {},
   "outputs": [
    {
     "data": {
      "text/plain": [
       "manual    268249\n",
       "auto       66283\n",
       "Name: Gearbox, dtype: int64"
      ]
     },
     "execution_count": 11,
     "metadata": {},
     "output_type": "execute_result"
    }
   ],
   "source": [
    "data['Gearbox'].value_counts()"
   ]
  },
  {
   "cell_type": "markdown",
   "metadata": {},
   "source": [
    "Подавляющее большинство машин в представленных данных - с ручной коробкой передач. Таким образом, пропуски в данном значке можно заменить преобладающим значением по столбцу - 'manual'."
   ]
  },
  {
   "cell_type": "code",
   "execution_count": 12,
   "metadata": {},
   "outputs": [],
   "source": [
    "data['Gearbox'] = data['Gearbox'].fillna('manual')"
   ]
  },
  {
   "cell_type": "markdown",
   "metadata": {},
   "source": [
    "Посмотрим, как поступить с пропусками в столбце 'Model':"
   ]
  },
  {
   "cell_type": "code",
   "execution_count": 13,
   "metadata": {},
   "outputs": [
    {
     "data": {
      "text/plain": [
       "golf                  29232\n",
       "other                 24420\n",
       "3er                   19761\n",
       "polo                  13066\n",
       "corsa                 12570\n",
       "                      ...  \n",
       "i3                        8\n",
       "rangerover                4\n",
       "serie_3                   4\n",
       "range_rover_evoque        2\n",
       "serie_1                   2\n",
       "Name: Model, Length: 250, dtype: int64"
      ]
     },
     "execution_count": 13,
     "metadata": {},
     "output_type": "execute_result"
    }
   ],
   "source": [
    "data['Model'].value_counts()"
   ]
  },
  {
   "cell_type": "code",
   "execution_count": 14,
   "metadata": {},
   "outputs": [
    {
     "data": {
      "text/plain": [
       "5.888065499312735"
      ]
     },
     "execution_count": 14,
     "metadata": {},
     "output_type": "execute_result"
    }
   ],
   "source": [
    "data['Model'].isna().sum() / data['Model'].count() * 100"
   ]
  },
  {
   "cell_type": "markdown",
   "metadata": {},
   "source": [
    "В данных представлено большое разнообразие моделей. Не представляется возможным предсказать, какая модель скрывается за пропущенным значением. При этом представляется очевидным, что модель автомобиля сильно влияет на стоимость. Так как автомобили с пропуском в данном столбце составляют только около 6% от всего датасета, наиболее правильно будет удалить данные строки."
   ]
  },
  {
   "cell_type": "code",
   "execution_count": 15,
   "metadata": {},
   "outputs": [],
   "source": [
    "data = data.dropna(subset=['Model'])"
   ]
  },
  {
   "cell_type": "markdown",
   "metadata": {},
   "source": [
    "Посмотрим, что можно сделать с пропусками в столбце 'FuelType':"
   ]
  },
  {
   "cell_type": "code",
   "execution_count": 16,
   "metadata": {},
   "outputs": [
    {
     "data": {
      "text/plain": [
       "petrol      207159\n",
       "gasoline     95856\n",
       "lpg           4962\n",
       "cng            544\n",
       "hybrid         208\n",
       "other          133\n",
       "electric        66\n",
       "Name: FuelType, dtype: int64"
      ]
     },
     "execution_count": 16,
     "metadata": {},
     "output_type": "execute_result"
    }
   ],
   "source": [
    "data['FuelType'].value_counts()"
   ]
  },
  {
   "cell_type": "markdown",
   "metadata": {},
   "source": [
    "Заполним пропуски преобладающим значением по столбцу:"
   ]
  },
  {
   "cell_type": "code",
   "execution_count": 17,
   "metadata": {},
   "outputs": [],
   "source": [
    "data['FuelType'] = data['FuelType'].fillna('petrol')"
   ]
  },
  {
   "cell_type": "markdown",
   "metadata": {},
   "source": [
    "Посмотрим на пропуски в столбце 'NotRepaired':"
   ]
  },
  {
   "cell_type": "code",
   "execution_count": 18,
   "metadata": {},
   "outputs": [
    {
     "data": {
      "text/plain": [
       "no     238852\n",
       "yes     33708\n",
       "Name: NotRepaired, dtype: int64"
      ]
     },
     "execution_count": 18,
     "metadata": {},
     "output_type": "execute_result"
    }
   ],
   "source": [
    "data['NotRepaired'].value_counts()"
   ]
  },
  {
   "cell_type": "markdown",
   "metadata": {},
   "source": [
    "Заполним также преобладающим значением:"
   ]
  },
  {
   "cell_type": "code",
   "execution_count": 19,
   "metadata": {},
   "outputs": [],
   "source": [
    "data['NotRepaired'] = data['NotRepaired'].fillna('no')"
   ]
  },
  {
   "cell_type": "code",
   "execution_count": 20,
   "metadata": {},
   "outputs": [
    {
     "data": {
      "text/plain": [
       "DateCrawled          0\n",
       "Price                0\n",
       "VehicleType          0\n",
       "RegistrationYear     0\n",
       "Gearbox              0\n",
       "Power                0\n",
       "Model                0\n",
       "Kilometer            0\n",
       "RegistrationMonth    0\n",
       "FuelType             0\n",
       "Brand                0\n",
       "NotRepaired          0\n",
       "DateCreated          0\n",
       "NumberOfPictures     0\n",
       "PostalCode           0\n",
       "LastSeen             0\n",
       "dtype: int64"
      ]
     },
     "execution_count": 20,
     "metadata": {},
     "output_type": "execute_result"
    }
   ],
   "source": [
    "data.isna().sum()"
   ]
  },
  {
   "cell_type": "markdown",
   "metadata": {},
   "source": [
    "Все дубликаты и пропуски удалены, типы данных соответствуют действительности. Первичная предобработка данных выполнена. Изучим данные на предмет аномальных значений."
   ]
  },
  {
   "cell_type": "code",
   "execution_count": 21,
   "metadata": {},
   "outputs": [
    {
     "data": {
      "text/plain": [
       "count    334660.000000\n",
       "mean       2003.924024\n",
       "std          69.377633\n",
       "min        1000.000000\n",
       "25%        1999.000000\n",
       "50%        2003.000000\n",
       "75%        2008.000000\n",
       "max        9999.000000\n",
       "Name: RegistrationYear, dtype: float64"
      ]
     },
     "execution_count": 21,
     "metadata": {},
     "output_type": "execute_result"
    }
   ],
   "source": [
    "data['RegistrationYear'].describe()"
   ]
  },
  {
   "cell_type": "markdown",
   "metadata": {},
   "source": [
    "Самый ранний год регистрации автомобиля - 1000, самый поздний - 9999. В данном столбце явно присутствуют аномальные значения. Определим рамки реальных значений:"
   ]
  },
  {
   "cell_type": "code",
   "execution_count": 22,
   "metadata": {},
   "outputs": [
    {
     "data": {
      "text/plain": [
       "array([[<AxesSubplot:title={'center':'RegistrationYear'}>]], dtype=object)"
      ]
     },
     "execution_count": 22,
     "metadata": {},
     "output_type": "execute_result"
    },
    {
     "data": {
      "image/png": "[encoded data removed]",
      "text/plain": [
       "<Figure size 432x288 with 1 Axes>"
      ]
     },
     "metadata": {
      "needs_background": "light"
     },
     "output_type": "display_data"
    }
   ],
   "source": [
    "data.hist(column='RegistrationYear', bins=10, range=(1900, 2022))"
   ]
  },
  {
   "cell_type": "code",
   "execution_count": 23,
   "metadata": {},
   "outputs": [
    {
     "data": {
      "text/plain": [
       "0         2016-03-24 00:00:00\n",
       "2         2016-03-14 00:00:00\n",
       "3         2016-03-17 00:00:00\n",
       "4         2016-03-31 00:00:00\n",
       "5         2016-04-04 00:00:00\n",
       "                 ...         \n",
       "354359    2016-03-27 00:00:00\n",
       "354360    2016-03-21 00:00:00\n",
       "354362    2016-03-05 00:00:00\n",
       "354363    2016-03-19 00:00:00\n",
       "354364    2016-03-20 00:00:00\n",
       "Name: DateCreated, Length: 334660, dtype: object"
      ]
     },
     "execution_count": 23,
     "metadata": {},
     "output_type": "execute_result"
    }
   ],
   "source": [
    "data['DateCreated']"
   ]
  },
  {
   "cell_type": "markdown",
   "metadata": {},
   "source": [
    "Данные были выгружены в 2016 году. Оставим в датасете только автомобили, которые были зарегистрированы с 1960 по 2016 гг."
   ]
  },
  {
   "cell_type": "code",
   "execution_count": 24,
   "metadata": {},
   "outputs": [],
   "source": [
    "data = data.query('1960 <= RegistrationYear <= 2016').reset_index(drop=True)"
   ]
  },
  {
   "cell_type": "code",
   "execution_count": 25,
   "metadata": {},
   "outputs": [
    {
     "data": {
      "text/plain": [
       "count    321950.000000\n",
       "mean        112.270005\n",
       "std         182.023515\n",
       "min           0.000000\n",
       "25%          72.000000\n",
       "50%         105.000000\n",
       "75%         143.000000\n",
       "max       20000.000000\n",
       "Name: Power, dtype: float64"
      ]
     },
     "execution_count": 25,
     "metadata": {},
     "output_type": "execute_result"
    }
   ],
   "source": [
    "data['Power'].describe()"
   ]
  },
  {
   "cell_type": "markdown",
   "metadata": {},
   "source": [
    "Максимальная мощность - 20000 л.с., минимальная - 0. Здесь также очевидно наличие аномальных значений. Определим рамки реальных значений:"
   ]
  },
  {
   "cell_type": "code",
   "execution_count": 26,
   "metadata": {},
   "outputs": [
    {
     "data": {
      "text/plain": [
       "array([[<AxesSubplot:title={'center':'Power'}>]], dtype=object)"
      ]
     },
     "execution_count": 26,
     "metadata": {},
     "output_type": "execute_result"
    },
    {
     "data": {
      "image/png": "[encoded data removed]",
      "text/plain": [
       "<Figure size 432x288 with 1 Axes>"
      ]
     },
     "metadata": {
      "needs_background": "light"
     },
     "output_type": "display_data"
    }
   ],
   "source": [
    "data.hist(column='Power', bins=100, range=(0, 500))"
   ]
  },
  {
   "cell_type": "markdown",
   "metadata": {},
   "source": [
    "Оставим в датасете только автомобили, мощность двигателя которых находится в диапазоне от 50 до 300 л.с.:"
   ]
  },
  {
   "cell_type": "code",
   "execution_count": 27,
   "metadata": {},
   "outputs": [],
   "source": [
    "data = data.query('50 <= Power <= 300').reset_index(drop=True)"
   ]
  },
  {
   "cell_type": "code",
   "execution_count": 28,
   "metadata": {},
   "outputs": [
    {
     "data": {
      "text/plain": [
       "array(['jeep', 'volkswagen', 'skoda', 'bmw', 'peugeot', 'ford', 'mazda',\n",
       "       'nissan', 'renault', 'mercedes_benz', 'seat', 'honda', 'fiat',\n",
       "       'opel', 'mini', 'smart', 'hyundai', 'audi', 'alfa_romeo', 'subaru',\n",
       "       'volvo', 'mitsubishi', 'kia', 'lancia', 'citroen', 'toyota',\n",
       "       'chevrolet', 'dacia', 'suzuki', 'daihatsu', 'chrysler', 'jaguar',\n",
       "       'daewoo', 'rover', 'porsche', 'saab', 'land_rover', 'lada',\n",
       "       'trabant'], dtype=object)"
      ]
     },
     "execution_count": 28,
     "metadata": {},
     "output_type": "execute_result"
    }
   ],
   "source": [
    "data['Brand'].unique()"
   ]
  },
  {
   "cell_type": "markdown",
   "metadata": {},
   "source": [
    "С марками автомобилей в датасете все в порядке, скрытых дубликатов нет."
   ]
  },
  {
   "cell_type": "code",
   "execution_count": 29,
   "metadata": {},
   "outputs": [
    {
     "data": {
      "text/plain": [
       "count    283031.0\n",
       "mean          0.0\n",
       "std           0.0\n",
       "min           0.0\n",
       "25%           0.0\n",
       "50%           0.0\n",
       "75%           0.0\n",
       "max           0.0\n",
       "Name: NumberOfPictures, dtype: float64"
      ]
     },
     "execution_count": 29,
     "metadata": {},
     "output_type": "execute_result"
    }
   ],
   "source": [
    "data['NumberOfPictures'].describe()"
   ]
  },
  {
   "cell_type": "markdown",
   "metadata": {},
   "source": [
    "Ни к одному автомобилю из датасета не прилагаются фотографии. Значит, это признак не понадобится для обучения модели."
   ]
  },
  {
   "cell_type": "code",
   "execution_count": 30,
   "metadata": {},
   "outputs": [
    {
     "data": {
      "text/plain": [
       "count    283031.000000\n",
       "mean       4792.518887\n",
       "std        4577.135064\n",
       "min           0.000000\n",
       "25%        1300.000000\n",
       "50%        3150.000000\n",
       "75%        6950.000000\n",
       "max       20000.000000\n",
       "Name: Price, dtype: float64"
      ]
     },
     "execution_count": 30,
     "metadata": {},
     "output_type": "execute_result"
    }
   ],
   "source": [
    "data['Price'].describe()"
   ]
  },
  {
   "cell_type": "markdown",
   "metadata": {},
   "source": [
    "По цене также содержатся аномальные значения и выбросы. Определим необходимые рамки:"
   ]
  },
  {
   "cell_type": "code",
   "execution_count": 31,
   "metadata": {},
   "outputs": [
    {
     "data": {
      "text/plain": [
       "array([[<AxesSubplot:title={'center':'Price'}>]], dtype=object)"
      ]
     },
     "execution_count": 31,
     "metadata": {},
     "output_type": "execute_result"
    },
    {
     "data": {
      "image/png": "[encoded data removed]",
      "text/plain": [
       "<Figure size 432x288 with 1 Axes>"
      ]
     },
     "metadata": {
      "needs_background": "light"
     },
     "output_type": "display_data"
    }
   ],
   "source": [
    "data.hist(column='Price', bins=100, range=(100, 20000))"
   ]
  },
  {
   "cell_type": "markdown",
   "metadata": {},
   "source": [
    "Оставим автомобили стоимостью от 700 до 15000 евро:"
   ]
  },
  {
   "cell_type": "code",
   "execution_count": 32,
   "metadata": {},
   "outputs": [],
   "source": [
    "data = data.query('700 <= Price <= 15000').reset_index(drop=True)"
   ]
  },
  {
   "cell_type": "markdown",
   "metadata": {},
   "source": [
    "Данные обработаны, удалены аномальные значения и выбросы. Теперь посмотрим на зависимость цены от остальных признаков, чтобы определить, какие признаки нужно будет использовать для обучения модели."
   ]
  },
  {
   "cell_type": "code",
   "execution_count": 33,
   "metadata": {},
   "outputs": [
    {
     "data": {
      "text/html": [
       "<div>\n",
       "<style scoped>\n",
       "    .dataframe tbody tr th:only-of-type {\n",
       "        vertical-align: middle;\n",
       "    }\n",
       "\n",
       "    .dataframe tbody tr th {\n",
       "        vertical-align: top;\n",
       "    }\n",
       "\n",
       "    .dataframe thead th {\n",
       "        text-align: right;\n",
       "    }\n",
       "</style>\n",
       "<table border=\"1\" class=\"dataframe\">\n",
       "  <thead>\n",
       "    <tr style=\"text-align: right;\">\n",
       "      <th></th>\n",
       "      <th>Price</th>\n",
       "      <th>RegistrationYear</th>\n",
       "      <th>Power</th>\n",
       "      <th>Kilometer</th>\n",
       "      <th>RegistrationMonth</th>\n",
       "      <th>NumberOfPictures</th>\n",
       "      <th>PostalCode</th>\n",
       "    </tr>\n",
       "  </thead>\n",
       "  <tbody>\n",
       "    <tr>\n",
       "      <th>Price</th>\n",
       "      <td>1.000000</td>\n",
       "      <td>0.506021</td>\n",
       "      <td>0.428183</td>\n",
       "      <td>-0.355524</td>\n",
       "      <td>0.044709</td>\n",
       "      <td>NaN</td>\n",
       "      <td>0.048172</td>\n",
       "    </tr>\n",
       "    <tr>\n",
       "      <th>RegistrationYear</th>\n",
       "      <td>0.506021</td>\n",
       "      <td>1.000000</td>\n",
       "      <td>0.033998</td>\n",
       "      <td>-0.327487</td>\n",
       "      <td>0.026969</td>\n",
       "      <td>NaN</td>\n",
       "      <td>0.013296</td>\n",
       "    </tr>\n",
       "    <tr>\n",
       "      <th>Power</th>\n",
       "      <td>0.428183</td>\n",
       "      <td>0.033998</td>\n",
       "      <td>1.000000</td>\n",
       "      <td>0.189927</td>\n",
       "      <td>0.022238</td>\n",
       "      <td>NaN</td>\n",
       "      <td>0.043188</td>\n",
       "    </tr>\n",
       "    <tr>\n",
       "      <th>Kilometer</th>\n",
       "      <td>-0.355524</td>\n",
       "      <td>-0.327487</td>\n",
       "      <td>0.189927</td>\n",
       "      <td>1.000000</td>\n",
       "      <td>-0.009835</td>\n",
       "      <td>NaN</td>\n",
       "      <td>-0.003310</td>\n",
       "    </tr>\n",
       "    <tr>\n",
       "      <th>RegistrationMonth</th>\n",
       "      <td>0.044709</td>\n",
       "      <td>0.026969</td>\n",
       "      <td>0.022238</td>\n",
       "      <td>-0.009835</td>\n",
       "      <td>1.000000</td>\n",
       "      <td>NaN</td>\n",
       "      <td>0.000054</td>\n",
       "    </tr>\n",
       "    <tr>\n",
       "      <th>NumberOfPictures</th>\n",
       "      <td>NaN</td>\n",
       "      <td>NaN</td>\n",
       "      <td>NaN</td>\n",
       "      <td>NaN</td>\n",
       "      <td>NaN</td>\n",
       "      <td>NaN</td>\n",
       "      <td>NaN</td>\n",
       "    </tr>\n",
       "    <tr>\n",
       "      <th>PostalCode</th>\n",
       "      <td>0.048172</td>\n",
       "      <td>0.013296</td>\n",
       "      <td>0.043188</td>\n",
       "      <td>-0.003310</td>\n",
       "      <td>0.000054</td>\n",
       "      <td>NaN</td>\n",
       "      <td>1.000000</td>\n",
       "    </tr>\n",
       "  </tbody>\n",
       "</table>\n",
       "</div>"
      ],
      "text/plain": [
       "                      Price  RegistrationYear     Power  Kilometer  \\\n",
       "Price              1.000000          0.506021  0.428183  -0.355524   \n",
       "RegistrationYear   0.506021          1.000000  0.033998  -0.327487   \n",
       "Power              0.428183          0.033998  1.000000   0.189927   \n",
       "Kilometer         -0.355524         -0.327487  0.189927   1.000000   \n",
       "RegistrationMonth  0.044709          0.026969  0.022238  -0.009835   \n",
       "NumberOfPictures        NaN               NaN       NaN        NaN   \n",
       "PostalCode         0.048172          0.013296  0.043188  -0.003310   \n",
       "\n",
       "                   RegistrationMonth  NumberOfPictures  PostalCode  \n",
       "Price                       0.044709               NaN    0.048172  \n",
       "RegistrationYear            0.026969               NaN    0.013296  \n",
       "Power                       0.022238               NaN    0.043188  \n",
       "Kilometer                  -0.009835               NaN   -0.003310  \n",
       "RegistrationMonth           1.000000               NaN    0.000054  \n",
       "NumberOfPictures                 NaN               NaN         NaN  \n",
       "PostalCode                  0.000054               NaN    1.000000  "
      ]
     },
     "execution_count": 33,
     "metadata": {},
     "output_type": "execute_result"
    }
   ],
   "source": [
    "data.corr()"
   ]
  },
  {
   "cell_type": "markdown",
   "metadata": {},
   "source": [
    "Оставим в данных следующие признаки для создания модели: VehicleType, RegistrationYear, Gearbox, Power, Model, Kilometer, FuelType, Brand, NotRepaired, Price."
   ]
  },
  {
   "cell_type": "code",
   "execution_count": 34,
   "metadata": {},
   "outputs": [],
   "source": [
    "data_m = data[['VehicleType', 'RegistrationYear', 'Gearbox', 'Power', 'Model', 'Kilometer', \n",
    "               'FuelType', 'Brand', 'NotRepaired', 'Price']]"
   ]
  },
  {
   "cell_type": "markdown",
   "metadata": {},
   "source": [
    "Выделим признаки и целевой признак для построения модели:"
   ]
  },
  {
   "cell_type": "code",
   "execution_count": 35,
   "metadata": {},
   "outputs": [],
   "source": [
    "features = data_m.drop('Price', axis=1)\n",
    "target = data_m['Price']"
   ]
  },
  {
   "cell_type": "markdown",
   "metadata": {},
   "source": [
    "Преобразуем категориальные признаки в численные двумя способами для разных моделей:"
   ]
  },
  {
   "cell_type": "code",
   "execution_count": 36,
   "metadata": {},
   "outputs": [],
   "source": [
    "features_ohe = pd.get_dummies(features, drop_first=True)\n",
    "\n",
    "encoder = OrdinalEncoder()\n",
    "encoder.fit(features)\n",
    "features_ordinal = encoder.transform(features)"
   ]
  },
  {
   "cell_type": "markdown",
   "metadata": {},
   "source": [
    "Разобьем данные на обучающую, валидационную и тестовую выборки (для каждого типа кодировки и без нее):"
   ]
  },
  {
   "cell_type": "code",
   "execution_count": 37,
   "metadata": {},
   "outputs": [],
   "source": [
    "features_train, features_valid, target_train, target_valid = train_test_split(features, target, \n",
    "                                                             test_size=0.4, random_state=12345)\n",
    "features_valid, features_test, target_valid, target_test = train_test_split(features_valid,\n",
    "                                                target_valid, test_size=0.5, random_state=12345)\n",
    "\n",
    "features_train_ohe, features_valid_ohe, target_train_ohe, target_valid_ohe = train_test_split(features_ohe, \n",
    "                                                            target, test_size=0.4, random_state=12345)\n",
    "features_valid_ohe, features_test_ohe, target_valid_ohe, target_test_ohe = train_test_split(features_valid_ohe,\n",
    "                                                target_valid_ohe, test_size=0.5, random_state=12345)\n",
    "\n",
    "features_train_ordinal, features_valid_ordinal, target_train_ordinal, target_valid_ordinal = train_test_split(features_ordinal, \n",
    "                                                                        target, test_size=0.4, random_state=12345)\n",
    "features_valid_ordinal, features_test_ordinal, target_valid_ordinal, target_test_ordinal = train_test_split(features_valid_ordinal,\n",
    "                                                target_valid_ordinal, test_size=0.5, random_state=12345)"
   ]
  },
  {
   "cell_type": "markdown",
   "metadata": {},
   "source": [
    "Масштабируем численные признаки:"
   ]
  },
  {
   "cell_type": "code",
   "execution_count": 38,
   "metadata": {},
   "outputs": [],
   "source": [
    "scaler = StandardScaler()\n",
    "scaler.fit(features_train_ohe)\n",
    "features_train_ohe = scaler.transform(features_train_ohe)\n",
    "features_valid_ohe = scaler.transform(features_valid_ohe)\n",
    "features_test_ohe = scaler.transform(features_test_ohe)"
   ]
  },
  {
   "cell_type": "markdown",
   "metadata": {},
   "source": [
    "Данные готовы. Можно приступать к обучению моделей."
   ]
  },
  {
   "cell_type": "markdown",
   "metadata": {},
   "source": [
    "## Обучение моделей"
   ]
  },
  {
   "cell_type": "markdown",
   "metadata": {},
   "source": [
    "Создадим метрику для кросс-валидации:"
   ]
  },
  {
   "cell_type": "code",
   "execution_count": 39,
   "metadata": {},
   "outputs": [],
   "source": [
    "def rmse(target, predicted):\n",
    "    mse = mean_squared_error(target, predicted)\n",
    "    return mse**0.5\n",
    "rmse_scorer = make_scorer(rmse, greater_is_better=False)"
   ]
  },
  {
   "cell_type": "markdown",
   "metadata": {},
   "source": [
    "**Построим модель линейной регрессии и проверим ее качество кроссвалидацией:**"
   ]
  },
  {
   "cell_type": "code",
   "execution_count": 40,
   "metadata": {},
   "outputs": [],
   "source": [
    "%%time\n",
    "model = LinearRegression()\n",
    "score = cross_val_score(model, features_train_ohe, target_train_ohe, scoring=rmse_scorer, cv=5).mean()\n",
    "print('rmse модели:', score)"
   ]
  },
  {
   "cell_type": "markdown",
   "metadata": {},
   "source": [
    "rmse модели: -414244225388811.75\n",
    "CPU times: user 37 s, sys: 17.1 s, total: 54.2 s\n",
    "Wall time: 54.6 s"
   ]
  },
  {
   "cell_type": "markdown",
   "metadata": {},
   "source": [
    "Модель линейной регрессии показала очень плохой результат."
   ]
  },
  {
   "cell_type": "markdown",
   "metadata": {},
   "source": [
    "Посмотрим, сколько времени понадобится на обучение такой модели и на предсказание:"
   ]
  },
  {
   "cell_type": "code",
   "execution_count": 41,
   "metadata": {},
   "outputs": [],
   "source": [
    "%%time\n",
    "LR = LinearRegression()\n",
    "LR.fit(features_train_ohe, target_train_ohe)"
   ]
  },
  {
   "cell_type": "code",
   "execution_count": 42,
   "metadata": {},
   "outputs": [],
   "source": [
    "%%time\n",
    "lr_pred = LR.predict(features_valid_ohe)"
   ]
  },
  {
   "cell_type": "markdown",
   "metadata": {},
   "source": [
    "Модели линейной регрессии понадобилось 12.3 s на обучение и 15.5 ms на предсказание."
   ]
  },
  {
   "cell_type": "markdown",
   "metadata": {},
   "source": [
    "**Построим модель древа решений и подберем наилучшие параметры:**"
   ]
  },
  {
   "cell_type": "code",
   "execution_count": 43,
   "metadata": {},
   "outputs": [],
   "source": [
    "%%time\n",
    "DTR = DecisionTreeRegressor(random_state=12345)\n",
    "GSCV = GridSearchCV(DTR, {'max_depth': list(range(1, 10))}, cv=5, scoring=rmse_scorer)\n",
    "GSCV.fit(features_train_ordinal, target_train_ordinal)\n",
    "print('Лучшая глубина древа:', GSCV.best_estimator_)\n",
    "print('rmse модели:', GSCV.best_score_)"
   ]
  },
  {
   "cell_type": "markdown",
   "metadata": {},
   "source": [
    "Лучшая глубина древа: DecisionTreeRegressor(max_depth=9, random_state=12345)\n",
    "rmse модели: -1740.2719265613832\n",
    "CPU times: user 5.29 s, sys: 12.8 ms, total: 5.31 s\n",
    "Wall time: 5.31 s"
   ]
  },
  {
   "cell_type": "markdown",
   "metadata": {},
   "source": [
    "Посмотрим, сколько времени потребуется на обучение такой модели и на предсказание:"
   ]
  },
  {
   "cell_type": "code",
   "execution_count": 44,
   "metadata": {},
   "outputs": [],
   "source": [
    "%%time\n",
    "DTR = DecisionTreeRegressor(random_state=12345, max_depth=9)\n",
    "DTR.fit(features_train_ordinal, target_train_ordinal)"
   ]
  },
  {
   "cell_type": "code",
   "execution_count": 45,
   "metadata": {},
   "outputs": [],
   "source": [
    "%%time\n",
    "dtr_pred = DTR.predict(features_valid_ordinal)"
   ]
  },
  {
   "cell_type": "markdown",
   "metadata": {},
   "source": [
    "Модели древа решений с глубиной древа 9 понадобилось 230 ms на обучение и 5.08 ms на предсказание."
   ]
  },
  {
   "cell_type": "markdown",
   "metadata": {},
   "source": [
    "**Построим модель случайного леса и подберем наилучшие параметры:**"
   ]
  },
  {
   "cell_type": "code",
   "execution_count": 46,
   "metadata": {},
   "outputs": [],
   "source": [
    "%%time\n",
    "RFR = RandomForestRegressor(random_state=12345)\n",
    "RSCV = RandomizedSearchCV(RFR, {'max_depth': list(range(1, 20)), 'n_estimators': list(range(1, 20))}, cv=5, scoring=rmse_scorer)\n",
    "RSCV.fit(features_train_ordinal, target_train_ordinal)\n",
    "print('Лучшие параметры случайного леса:', RSCV.best_params_)\n",
    "print('rmse модели:', RSCV.best_score_)"
   ]
  },
  {
   "cell_type": "markdown",
   "metadata": {},
   "source": [
    "Лучшие параметры случайного леса: {'n_estimators': 14, 'max_depth': 16}\n",
    "rmse модели: -1417.3364903657844\n",
    "CPU times: user 1min 18s, sys: 149 ms, total: 1min 19s\n",
    "Wall time: 1min 19s"
   ]
  },
  {
   "cell_type": "markdown",
   "metadata": {},
   "source": [
    "Посмотрим, сколько времени понадобится такой модели на обучение и предсказание:"
   ]
  },
  {
   "cell_type": "code",
   "execution_count": 47,
   "metadata": {},
   "outputs": [],
   "source": [
    "%%time\n",
    "RFR = RandomForestRegressor(random_state=12345, n_estimators=14, max_depth=16)\n",
    "RFR.fit(features_train_ordinal, target_train_ordinal)"
   ]
  },
  {
   "cell_type": "code",
   "execution_count": 48,
   "metadata": {},
   "outputs": [],
   "source": [
    "%%time\n",
    "rfr_pred = RFR.predict(features_valid_ordinal)"
   ]
  },
  {
   "cell_type": "markdown",
   "metadata": {},
   "source": [
    "Модели случайного леса с 14 деревьями и максимальной глубиной древа - 16 понадобилось 3.2 s на обучение и 126 ms на предсказание."
   ]
  },
  {
   "cell_type": "markdown",
   "metadata": {},
   "source": [
    "**Построим модель градиентного бустинга:**"
   ]
  },
  {
   "cell_type": "code",
   "execution_count": 49,
   "metadata": {},
   "outputs": [],
   "source": [
    "%%time\n",
    "gbm = lgb.LGBMRegressor(objective='regression')\n",
    "score = cross_val_score(gbm, features_train_ordinal, target_train_ordinal, scoring=rmse_scorer, cv=5).mean()\n",
    "print('rmse модели:', score)"
   ]
  },
  {
   "cell_type": "markdown",
   "metadata": {},
   "source": [
    "rmse модели: -1440.9637238902528\n",
    "CPU times: user 20.7 s, sys: 0 ns, total: 20.7 s\n",
    "Wall time: 20.9 s"
   ]
  },
  {
   "cell_type": "markdown",
   "metadata": {},
   "source": [
    "Посмотрим, сколько времени понадобится такой модели на обучение и предсказание:"
   ]
  },
  {
   "cell_type": "code",
   "execution_count": 50,
   "metadata": {},
   "outputs": [],
   "source": [
    "%%time\n",
    "GBM_no_params = lgb.LGBMRegressor(objective='regression')\n",
    "GBM_no_params.fit(features_train_ordinal, target_train_ordinal)"
   ]
  },
  {
   "cell_type": "code",
   "execution_count": 51,
   "metadata": {},
   "outputs": [],
   "source": [
    "%%time\n",
    "GBM_no_params_pred = GBM_no_params.predict(features_valid_ordinal)"
   ]
  },
  {
   "cell_type": "markdown",
   "metadata": {},
   "source": [
    "Модели градиентного бустинга без подобранных параметров понадобилось 4min 7s на обучение и 396 ms на предсказание."
   ]
  },
  {
   "cell_type": "markdown",
   "metadata": {},
   "source": [
    "**Построим модель градиентного бустинга и подберем наилучшие параметры:**"
   ]
  },
  {
   "cell_type": "code",
   "execution_count": 52,
   "metadata": {},
   "outputs": [],
   "source": [
    "%%time\n",
    "GBM = lgb.LGBMRegressor(objective='regression')\n",
    "parameters = {\n",
    "    'learning_rate': [0.01, 0.1, 1],\n",
    "    'n_estimators': [20, 40]\n",
    "}\n",
    "GSCV = GridSearchCV(GBM, parameters, scoring=rmse_scorer)\n",
    "GSCV.fit(features_train_ordinal, target_train_ordinal)\n",
    "print('Лучшие параметры градиентного бустинга:', GSCV.best_estimator_)\n",
    "print('rmse модели:', GSCV.best_score_)"
   ]
  },
  {
   "cell_type": "markdown",
   "metadata": {},
   "source": [
    "Лучшие параметры градиентного бустинга: LGBMRegressor(learning_rate=1, n_estimators=40, objective='regression')\n",
    "rmse модели: -1466.7145477671431\n",
    "CPU times: user 44.8 s, sys: 142 ms, total: 44.9 s\n",
    "Wall time: 45.4 s"
   ]
  },
  {
   "cell_type": "markdown",
   "metadata": {},
   "source": [
    "Посмотрим, сколько времени понадобится такой модели на обучение и предсказание:"
   ]
  },
  {
   "cell_type": "code",
   "execution_count": 53,
   "metadata": {},
   "outputs": [],
   "source": [
    "%%time\n",
    "GBM_params = lgb.LGBMRegressor(learning_rate=1, n_estimators=40, objective='regression')\n",
    "GBM_params.fit(features_train_ordinal, target_train_ordinal)"
   ]
  },
  {
   "cell_type": "code",
   "execution_count": 54,
   "metadata": {},
   "outputs": [],
   "source": [
    "%%time\n",
    "GBM_params.predict(features_valid_ordinal)"
   ]
  },
  {
   "cell_type": "markdown",
   "metadata": {},
   "source": [
    "Модели градиентного бустинга со скоростью обучения 1 и количеством деревьев 40 понадобилось 1.61 s на обучение и 95.8 ms на предсказание."
   ]
  },
  {
   "cell_type": "markdown",
   "metadata": {},
   "source": [
    "## Анализ моделей"
   ]
  },
  {
   "cell_type": "markdown",
   "metadata": {},
   "source": [
    "Сравним полученные модели:"
   ]
  },
  {
   "cell_type": "code",
   "execution_count": 55,
   "metadata": {},
   "outputs": [],
   "source": [
    "models = pd.DataFrame({'model': ['Linear Regression (no params)', \n",
    "                                 'Decision Tree Regressor (max_depth=9)', \n",
    "                                 'Random Forest Regressor (n_est=14, max_depth=16)', \n",
    "                                 'LGBM Regressor (no params)', \n",
    "                                'LGBM Regressor (learning_rate=1, n_est=40)'], \n",
    "                       'learning time': ['12.3 s', '230 ms', '3.2 s', '4 min 7 s', '1.61 s'],\n",
    "                       'prediction time' : ['15.5 ms', '5.08 ms', '126 ms', '396 ms', '95.8 ms'],\n",
    "                       'rmse' : [414244225388812, 1740, 1417, 1441, 1467]})"
   ]
  },
  {
   "cell_type": "code",
   "execution_count": 56,
   "metadata": {},
   "outputs": [
    {
     "data": {
      "text/html": [
       "<div>\n",
       "<style scoped>\n",
       "    .dataframe tbody tr th:only-of-type {\n",
       "        vertical-align: middle;\n",
       "    }\n",
       "\n",
       "    .dataframe tbody tr th {\n",
       "        vertical-align: top;\n",
       "    }\n",
       "\n",
       "    .dataframe thead th {\n",
       "        text-align: right;\n",
       "    }\n",
       "</style>\n",
       "<table border=\"1\" class=\"dataframe\">\n",
       "  <thead>\n",
       "    <tr style=\"text-align: right;\">\n",
       "      <th></th>\n",
       "      <th>model</th>\n",
       "      <th>learning time</th>\n",
       "      <th>prediction time</th>\n",
       "      <th>rmse</th>\n",
       "    </tr>\n",
       "  </thead>\n",
       "  <tbody>\n",
       "    <tr>\n",
       "      <th>0</th>\n",
       "      <td>Linear Regression (no params)</td>\n",
       "      <td>12.3 s</td>\n",
       "      <td>15.5 ms</td>\n",
       "      <td>414244225388812</td>\n",
       "    </tr>\n",
       "    <tr>\n",
       "      <th>1</th>\n",
       "      <td>Decision Tree Regressor (max_depth=9)</td>\n",
       "      <td>230 ms</td>\n",
       "      <td>5.08 ms</td>\n",
       "      <td>1740</td>\n",
       "    </tr>\n",
       "    <tr>\n",
       "      <th>2</th>\n",
       "      <td>Random Forest Regressor (n_est=14, max_depth=16)</td>\n",
       "      <td>3.2 s</td>\n",
       "      <td>126 ms</td>\n",
       "      <td>1417</td>\n",
       "    </tr>\n",
       "    <tr>\n",
       "      <th>3</th>\n",
       "      <td>LGBM Regressor (no params)</td>\n",
       "      <td>4 min 7 s</td>\n",
       "      <td>396 ms</td>\n",
       "      <td>1441</td>\n",
       "    </tr>\n",
       "    <tr>\n",
       "      <th>4</th>\n",
       "      <td>LGBM Regressor (learning_rate=1, n_est=40)</td>\n",
       "      <td>1.61 s</td>\n",
       "      <td>95.8 ms</td>\n",
       "      <td>1467</td>\n",
       "    </tr>\n",
       "  </tbody>\n",
       "</table>\n",
       "</div>"
      ],
      "text/plain": [
       "                                              model learning time  \\\n",
       "0                     Linear Regression (no params)        12.3 s   \n",
       "1             Decision Tree Regressor (max_depth=9)        230 ms   \n",
       "2  Random Forest Regressor (n_est=14, max_depth=16)         3.2 s   \n",
       "3                        LGBM Regressor (no params)     4 min 7 s   \n",
       "4        LGBM Regressor (learning_rate=1, n_est=40)        1.61 s   \n",
       "\n",
       "  prediction time             rmse  \n",
       "0         15.5 ms  414244225388812  \n",
       "1         5.08 ms             1740  \n",
       "2          126 ms             1417  \n",
       "3          396 ms             1441  \n",
       "4         95.8 ms             1467  "
      ]
     },
     "execution_count": 56,
     "metadata": {},
     "output_type": "execute_result"
    }
   ],
   "source": [
    "models"
   ]
  },
  {
   "cell_type": "markdown",
   "metadata": {},
   "source": [
    "Учитывая скорость обучения и полученное значение rmse можно выделить 2 модели: модель случайного леса с количеством деревьев 14 и максимальной глубиной древа 16 и модель градиентного бустинга со скоростью обучения 1 и количеством деревьев 40. Проверим данные модели на тестовой выборке:"
   ]
  },
  {
   "cell_type": "code",
   "execution_count": 57,
   "metadata": {},
   "outputs": [
    {
     "name": "stdout",
     "output_type": "stream",
     "text": [
      "1392.3878375352242\n"
     ]
    }
   ],
   "source": [
    "RFR = RandomForestRegressor(random_state=12345, n_estimators=14, max_depth=16)\n",
    "RFR.fit(features_train_ordinal, target_train_ordinal)\n",
    "rfr_pred = RFR.predict(features_test_ordinal)\n",
    "rfr_rmse = rmse(target_test_ordinal, rfr_pred)\n",
    "print(rfr_rmse)"
   ]
  },
  {
   "cell_type": "code",
   "execution_count": 58,
   "metadata": {},
   "outputs": [
    {
     "name": "stdout",
     "output_type": "stream",
     "text": [
      "1450.0328911635058\n"
     ]
    }
   ],
   "source": [
    "GBM_params = lgb.LGBMRegressor(learning_rate=1, n_estimators=40, objective='regression')\n",
    "GBM_params.fit(features_train_ordinal, target_train_ordinal)\n",
    "gbm_pred = GBM_params.predict(features_test_ordinal)\n",
    "gbm_rmse = rmse(target_test_ordinal, gbm_pred)\n",
    "print(gbm_rmse)"
   ]
  },
  {
   "cell_type": "markdown",
   "metadata": {},
   "source": [
    "Лучшее значение на тесте показала модель случайного леса с количеством деревьев 14 и максимальной глубиной древа 16."
   ]
  }
 ],
 "metadata": {
  "ExecuteTimeLog": [
   {
    "duration": 436,
    "start_time": "2022-09-27T19:54:06.991Z"
   },
   {
    "duration": 1129,
    "start_time": "2022-09-27T19:54:26.988Z"
   },
   {
    "duration": 163,
    "start_time": "2022-09-27T19:54:38.846Z"
   },
   {
    "duration": 22,
    "start_time": "2022-09-27T19:57:18.776Z"
   },
   {
    "duration": 109,
    "start_time": "2022-09-27T20:00:51.564Z"
   },
   {
    "duration": 20,
    "start_time": "2022-09-27T20:03:37.559Z"
   },
   {
    "duration": 4,
    "start_time": "2022-09-27T20:04:26.558Z"
   },
   {
    "duration": 89,
    "start_time": "2022-09-27T20:04:57.744Z"
   },
   {
    "duration": 25,
    "start_time": "2022-09-27T20:05:27.403Z"
   },
   {
    "duration": 24,
    "start_time": "2022-09-27T20:05:41.378Z"
   },
   {
    "duration": 25,
    "start_time": "2022-09-27T20:05:50.052Z"
   },
   {
    "duration": 36,
    "start_time": "2022-09-27T20:06:59.000Z"
   },
   {
    "duration": 26,
    "start_time": "2022-09-27T20:07:04.056Z"
   },
   {
    "duration": 70,
    "start_time": "2022-09-27T20:07:38.206Z"
   },
   {
    "duration": 39,
    "start_time": "2022-09-27T20:07:45.733Z"
   },
   {
    "duration": 7,
    "start_time": "2022-09-27T20:08:04.507Z"
   },
   {
    "duration": 425,
    "start_time": "2022-09-27T20:08:09.807Z"
   },
   {
    "duration": 828,
    "start_time": "2022-09-27T20:08:10.234Z"
   },
   {
    "duration": 24,
    "start_time": "2022-09-27T20:08:11.063Z"
   },
   {
    "duration": 126,
    "start_time": "2022-09-27T20:08:11.088Z"
   },
   {
    "duration": 111,
    "start_time": "2022-09-27T20:08:11.221Z"
   },
   {
    "duration": 70,
    "start_time": "2022-09-27T20:08:11.334Z"
   },
   {
    "duration": 10,
    "start_time": "2022-09-27T20:08:39.479Z"
   },
   {
    "duration": 49,
    "start_time": "2022-09-27T20:08:52.023Z"
   },
   {
    "duration": 8,
    "start_time": "2022-09-27T20:08:55.925Z"
   },
   {
    "duration": 20,
    "start_time": "2022-09-27T20:09:01.538Z"
   },
   {
    "duration": 38,
    "start_time": "2022-09-27T20:09:37.730Z"
   },
   {
    "duration": 38,
    "start_time": "2022-09-27T20:09:44.870Z"
   },
   {
    "duration": 23,
    "start_time": "2022-09-27T20:09:52.580Z"
   },
   {
    "duration": 18,
    "start_time": "2022-09-27T20:10:12.195Z"
   },
   {
    "duration": 4,
    "start_time": "2022-09-27T20:11:41.841Z"
   },
   {
    "duration": 175,
    "start_time": "2022-09-27T20:11:53.464Z"
   },
   {
    "duration": 42,
    "start_time": "2022-09-27T20:12:11.560Z"
   },
   {
    "duration": 9,
    "start_time": "2022-09-27T20:19:25.644Z"
   },
   {
    "duration": 8,
    "start_time": "2022-09-27T20:19:31.155Z"
   },
   {
    "duration": 31,
    "start_time": "2022-09-27T20:19:44.260Z"
   },
   {
    "duration": 135,
    "start_time": "2022-09-27T20:23:49.094Z"
   },
   {
    "duration": 119,
    "start_time": "2022-09-27T20:23:59.958Z"
   },
   {
    "duration": 410,
    "start_time": "2022-09-27T20:24:23.316Z"
   },
   {
    "duration": 833,
    "start_time": "2022-09-27T20:24:23.728Z"
   },
   {
    "duration": 21,
    "start_time": "2022-09-27T20:24:24.562Z"
   },
   {
    "duration": 127,
    "start_time": "2022-09-27T20:24:24.585Z"
   },
   {
    "duration": 113,
    "start_time": "2022-09-27T20:24:24.720Z"
   },
   {
    "duration": 31,
    "start_time": "2022-09-27T20:24:24.835Z"
   },
   {
    "duration": 131,
    "start_time": "2022-09-27T20:24:24.868Z"
   },
   {
    "duration": 30,
    "start_time": "2022-09-27T20:24:41.710Z"
   },
   {
    "duration": 28,
    "start_time": "2022-09-27T20:30:06.724Z"
   },
   {
    "duration": 114,
    "start_time": "2022-09-27T20:30:19.483Z"
   },
   {
    "duration": 488,
    "start_time": "2022-09-27T20:31:19.974Z"
   },
   {
    "duration": 547,
    "start_time": "2022-09-27T20:32:28.601Z"
   },
   {
    "duration": 581,
    "start_time": "2022-09-27T20:33:10.721Z"
   },
   {
    "duration": 503,
    "start_time": "2022-09-27T20:33:27.120Z"
   },
   {
    "duration": 404,
    "start_time": "2022-09-27T20:33:35.186Z"
   },
   {
    "duration": 850,
    "start_time": "2022-09-27T20:33:35.592Z"
   },
   {
    "duration": 28,
    "start_time": "2022-09-27T20:33:36.451Z"
   },
   {
    "duration": 137,
    "start_time": "2022-09-27T20:33:36.481Z"
   },
   {
    "duration": 525,
    "start_time": "2022-09-27T20:33:36.619Z"
   },
   {
    "duration": 646,
    "start_time": "2022-09-27T20:33:37.146Z"
   },
   {
    "duration": 131,
    "start_time": "2022-09-27T20:33:37.794Z"
   },
   {
    "duration": 31,
    "start_time": "2022-09-27T20:33:37.927Z"
   },
   {
    "duration": 32,
    "start_time": "2022-09-27T20:33:37.960Z"
   },
   {
    "duration": 37,
    "start_time": "2022-09-27T20:33:37.994Z"
   },
   {
    "duration": 29,
    "start_time": "2022-09-27T20:34:27.442Z"
   },
   {
    "duration": 19,
    "start_time": "2022-09-27T20:36:25.814Z"
   },
   {
    "duration": 105,
    "start_time": "2022-09-27T20:36:38.265Z"
   },
   {
    "duration": 33,
    "start_time": "2022-09-27T20:37:37.355Z"
   },
   {
    "duration": 25,
    "start_time": "2022-09-27T20:38:30.731Z"
   },
   {
    "duration": 26,
    "start_time": "2022-09-27T20:38:36.409Z"
   },
   {
    "duration": 26,
    "start_time": "2022-09-27T20:38:50.517Z"
   },
   {
    "duration": 393,
    "start_time": "2022-09-27T20:38:58.062Z"
   },
   {
    "duration": 1014,
    "start_time": "2022-09-27T20:38:58.457Z"
   },
   {
    "duration": 23,
    "start_time": "2022-09-27T20:38:59.472Z"
   },
   {
    "duration": 130,
    "start_time": "2022-09-27T20:38:59.497Z"
   },
   {
    "duration": 513,
    "start_time": "2022-09-27T20:38:59.629Z"
   },
   {
    "duration": 624,
    "start_time": "2022-09-27T20:39:00.144Z"
   },
   {
    "duration": 109,
    "start_time": "2022-09-27T20:39:00.770Z"
   },
   {
    "duration": 52,
    "start_time": "2022-09-27T20:39:00.880Z"
   },
   {
    "duration": 57,
    "start_time": "2022-09-27T20:39:00.933Z"
   },
   {
    "duration": 19,
    "start_time": "2022-09-27T20:39:00.992Z"
   },
   {
    "duration": 38,
    "start_time": "2022-09-27T20:39:01.012Z"
   },
   {
    "duration": 26,
    "start_time": "2022-09-27T20:39:01.052Z"
   },
   {
    "duration": 34,
    "start_time": "2022-09-27T20:39:01.080Z"
   },
   {
    "duration": 35,
    "start_time": "2022-09-27T20:39:01.121Z"
   },
   {
    "duration": 39,
    "start_time": "2022-09-27T20:41:59.144Z"
   },
   {
    "duration": 118,
    "start_time": "2022-09-27T20:42:09.849Z"
   },
   {
    "duration": 86,
    "start_time": "2022-09-27T20:43:17.213Z"
   },
   {
    "duration": 104,
    "start_time": "2022-09-27T20:43:20.295Z"
   },
   {
    "duration": 104,
    "start_time": "2022-09-27T20:43:29.988Z"
   },
   {
    "duration": 485,
    "start_time": "2022-09-27T20:43:48.611Z"
   },
   {
    "duration": 853,
    "start_time": "2022-09-27T20:43:49.099Z"
   },
   {
    "duration": 24,
    "start_time": "2022-09-27T20:43:49.954Z"
   },
   {
    "duration": 132,
    "start_time": "2022-09-27T20:43:49.980Z"
   },
   {
    "duration": 484,
    "start_time": "2022-09-27T20:43:50.114Z"
   },
   {
    "duration": 585,
    "start_time": "2022-09-27T20:43:50.600Z"
   },
   {
    "duration": 107,
    "start_time": "2022-09-27T20:43:51.186Z"
   },
   {
    "duration": 40,
    "start_time": "2022-09-27T20:43:51.295Z"
   },
   {
    "duration": 48,
    "start_time": "2022-09-27T20:43:51.337Z"
   },
   {
    "duration": 17,
    "start_time": "2022-09-27T20:43:51.388Z"
   },
   {
    "duration": 43,
    "start_time": "2022-09-27T20:43:51.407Z"
   },
   {
    "duration": 27,
    "start_time": "2022-09-27T20:43:51.452Z"
   },
   {
    "duration": 37,
    "start_time": "2022-09-27T20:43:51.481Z"
   },
   {
    "duration": 42,
    "start_time": "2022-09-27T20:43:51.519Z"
   },
   {
    "duration": 91,
    "start_time": "2022-09-27T20:43:51.563Z"
   },
   {
    "duration": 30,
    "start_time": "2022-09-27T20:46:23.322Z"
   },
   {
    "duration": 17,
    "start_time": "2022-09-27T20:50:33.714Z"
   },
   {
    "duration": 100,
    "start_time": "2022-09-27T20:51:04.955Z"
   },
   {
    "duration": 27,
    "start_time": "2022-09-27T20:54:27.512Z"
   },
   {
    "duration": 46,
    "start_time": "2022-09-27T20:55:41.346Z"
   },
   {
    "duration": 19,
    "start_time": "2022-09-27T20:56:23.265Z"
   },
   {
    "duration": 96,
    "start_time": "2022-09-27T20:56:33.453Z"
   },
   {
    "duration": 431,
    "start_time": "2022-09-27T21:00:15.016Z"
   },
   {
    "duration": 42,
    "start_time": "2022-09-27T21:01:23.158Z"
   },
   {
    "duration": 1131,
    "start_time": "2022-09-27T21:01:46.012Z"
   },
   {
    "duration": 284,
    "start_time": "2022-09-27T21:01:53.814Z"
   },
   {
    "duration": 43,
    "start_time": "2022-09-27T21:02:05.413Z"
   },
   {
    "duration": 223,
    "start_time": "2022-09-27T21:02:10.061Z"
   },
   {
    "duration": 12,
    "start_time": "2022-09-27T21:02:29.578Z"
   },
   {
    "duration": 444,
    "start_time": "2022-09-27T21:02:40.855Z"
   },
   {
    "duration": 271,
    "start_time": "2022-09-27T21:02:55.944Z"
   },
   {
    "duration": 202,
    "start_time": "2022-09-27T21:04:26.550Z"
   },
   {
    "duration": 218,
    "start_time": "2022-09-27T21:04:34.463Z"
   },
   {
    "duration": 527,
    "start_time": "2022-09-27T21:06:08.741Z"
   },
   {
    "duration": 210,
    "start_time": "2022-09-27T21:08:35.994Z"
   },
   {
    "duration": 217,
    "start_time": "2022-09-27T21:08:55.286Z"
   },
   {
    "duration": 9,
    "start_time": "2022-09-27T21:09:28.473Z"
   },
   {
    "duration": 88,
    "start_time": "2022-09-27T21:10:28.233Z"
   },
   {
    "duration": 306,
    "start_time": "2022-09-27T21:10:36.188Z"
   },
   {
    "duration": 221,
    "start_time": "2022-09-27T21:11:51.950Z"
   },
   {
    "duration": 234,
    "start_time": "2022-09-27T21:12:40.854Z"
   },
   {
    "duration": 222,
    "start_time": "2022-09-27T21:16:07.352Z"
   },
   {
    "duration": 18,
    "start_time": "2022-09-27T21:16:47.966Z"
   },
   {
    "duration": 140,
    "start_time": "2022-09-27T21:18:16.275Z"
   },
   {
    "duration": 9,
    "start_time": "2022-09-27T21:18:24.163Z"
   },
   {
    "duration": 9,
    "start_time": "2022-09-27T21:18:33.762Z"
   },
   {
    "duration": 685,
    "start_time": "2022-09-27T21:21:02.460Z"
   },
   {
    "duration": 917,
    "start_time": "2022-09-27T21:21:03.147Z"
   },
   {
    "duration": 20,
    "start_time": "2022-09-27T21:21:04.066Z"
   },
   {
    "duration": 132,
    "start_time": "2022-09-27T21:21:04.088Z"
   },
   {
    "duration": 521,
    "start_time": "2022-09-27T21:21:04.223Z"
   },
   {
    "duration": 643,
    "start_time": "2022-09-27T21:21:04.746Z"
   },
   {
    "duration": 114,
    "start_time": "2022-09-27T21:21:05.391Z"
   },
   {
    "duration": 41,
    "start_time": "2022-09-27T21:21:05.507Z"
   },
   {
    "duration": 29,
    "start_time": "2022-09-27T21:21:05.550Z"
   },
   {
    "duration": 43,
    "start_time": "2022-09-27T21:21:05.581Z"
   },
   {
    "duration": 31,
    "start_time": "2022-09-27T21:21:05.626Z"
   },
   {
    "duration": 25,
    "start_time": "2022-09-27T21:21:05.658Z"
   },
   {
    "duration": 51,
    "start_time": "2022-09-27T21:21:05.685Z"
   },
   {
    "duration": 29,
    "start_time": "2022-09-27T21:21:05.739Z"
   },
   {
    "duration": 95,
    "start_time": "2022-09-27T21:21:05.770Z"
   },
   {
    "duration": 33,
    "start_time": "2022-09-27T21:21:05.867Z"
   },
   {
    "duration": 31,
    "start_time": "2022-09-27T21:21:05.902Z"
   },
   {
    "duration": 39,
    "start_time": "2022-09-27T21:21:05.935Z"
   },
   {
    "duration": 39,
    "start_time": "2022-09-27T21:21:05.975Z"
   },
   {
    "duration": 105,
    "start_time": "2022-09-27T21:21:06.016Z"
   },
   {
    "duration": 17,
    "start_time": "2022-09-27T21:21:06.123Z"
   },
   {
    "duration": 7,
    "start_time": "2022-09-27T21:21:06.142Z"
   },
   {
    "duration": 678,
    "start_time": "2022-09-27T21:22:34.584Z"
   },
   {
    "duration": 869,
    "start_time": "2022-09-27T21:22:35.264Z"
   },
   {
    "duration": 19,
    "start_time": "2022-09-27T21:22:36.135Z"
   },
   {
    "duration": 122,
    "start_time": "2022-09-27T21:22:36.155Z"
   },
   {
    "duration": 545,
    "start_time": "2022-09-27T21:22:36.279Z"
   },
   {
    "duration": 627,
    "start_time": "2022-09-27T21:22:36.825Z"
   },
   {
    "duration": 105,
    "start_time": "2022-09-27T21:22:37.454Z"
   },
   {
    "duration": 37,
    "start_time": "2022-09-27T21:22:37.562Z"
   },
   {
    "duration": 41,
    "start_time": "2022-09-27T21:22:37.600Z"
   },
   {
    "duration": 19,
    "start_time": "2022-09-27T21:22:37.642Z"
   },
   {
    "duration": 30,
    "start_time": "2022-09-27T21:22:37.663Z"
   },
   {
    "duration": 38,
    "start_time": "2022-09-27T21:22:37.695Z"
   },
   {
    "duration": 32,
    "start_time": "2022-09-27T21:22:37.735Z"
   },
   {
    "duration": 27,
    "start_time": "2022-09-27T21:22:37.770Z"
   },
   {
    "duration": 93,
    "start_time": "2022-09-27T21:22:37.799Z"
   },
   {
    "duration": 36,
    "start_time": "2022-09-27T21:22:37.894Z"
   },
   {
    "duration": 18,
    "start_time": "2022-09-27T21:22:37.931Z"
   },
   {
    "duration": 29,
    "start_time": "2022-09-27T21:22:37.951Z"
   },
   {
    "duration": 46,
    "start_time": "2022-09-27T21:22:37.982Z"
   },
   {
    "duration": 106,
    "start_time": "2022-09-27T21:22:38.029Z"
   },
   {
    "duration": 18,
    "start_time": "2022-09-27T21:22:38.137Z"
   },
   {
    "duration": 679,
    "start_time": "2022-09-27T21:23:37.287Z"
   },
   {
    "duration": 844,
    "start_time": "2022-09-27T21:23:37.968Z"
   },
   {
    "duration": 22,
    "start_time": "2022-09-27T21:23:38.814Z"
   },
   {
    "duration": 157,
    "start_time": "2022-09-27T21:23:38.837Z"
   },
   {
    "duration": 529,
    "start_time": "2022-09-27T21:23:38.997Z"
   },
   {
    "duration": 588,
    "start_time": "2022-09-27T21:23:39.527Z"
   },
   {
    "duration": 105,
    "start_time": "2022-09-27T21:23:40.116Z"
   },
   {
    "duration": 31,
    "start_time": "2022-09-27T21:23:40.223Z"
   },
   {
    "duration": 30,
    "start_time": "2022-09-27T21:23:40.255Z"
   },
   {
    "duration": 38,
    "start_time": "2022-09-27T21:23:40.286Z"
   },
   {
    "duration": 29,
    "start_time": "2022-09-27T21:23:40.326Z"
   },
   {
    "duration": 21,
    "start_time": "2022-09-27T21:23:40.357Z"
   },
   {
    "duration": 52,
    "start_time": "2022-09-27T21:23:40.381Z"
   },
   {
    "duration": 27,
    "start_time": "2022-09-27T21:23:40.436Z"
   },
   {
    "duration": 93,
    "start_time": "2022-09-27T21:23:40.464Z"
   },
   {
    "duration": 28,
    "start_time": "2022-09-27T21:23:40.559Z"
   },
   {
    "duration": 32,
    "start_time": "2022-09-27T21:23:40.589Z"
   },
   {
    "duration": 28,
    "start_time": "2022-09-27T21:23:40.622Z"
   },
   {
    "duration": 21,
    "start_time": "2022-09-27T21:23:40.651Z"
   },
   {
    "duration": 123,
    "start_time": "2022-09-27T21:23:40.673Z"
   },
   {
    "duration": 31,
    "start_time": "2022-09-27T21:23:40.799Z"
   },
   {
    "duration": 437,
    "start_time": "2022-09-27T21:23:40.833Z"
   },
   {
    "duration": 155,
    "start_time": "2022-09-27T21:26:51.412Z"
   },
   {
    "duration": 148,
    "start_time": "2022-09-27T21:27:14.404Z"
   },
   {
    "duration": 333,
    "start_time": "2022-09-27T21:27:22.152Z"
   },
   {
    "duration": 143,
    "start_time": "2022-09-27T21:27:26.256Z"
   },
   {
    "duration": 156,
    "start_time": "2022-09-27T21:27:59.411Z"
   },
   {
    "duration": 154,
    "start_time": "2022-09-27T21:28:16.199Z"
   },
   {
    "duration": 154,
    "start_time": "2022-09-27T21:28:29.656Z"
   },
   {
    "duration": 54,
    "start_time": "2022-09-27T21:30:25.653Z"
   },
   {
    "duration": 62,
    "start_time": "2022-09-27T21:32:12.273Z"
   },
   {
    "duration": 153,
    "start_time": "2022-09-27T21:32:22.035Z"
   },
   {
    "duration": 63,
    "start_time": "2022-09-27T21:32:45.630Z"
   },
   {
    "duration": 666,
    "start_time": "2022-09-27T21:33:12.392Z"
   },
   {
    "duration": 870,
    "start_time": "2022-09-27T21:33:13.060Z"
   },
   {
    "duration": 19,
    "start_time": "2022-09-27T21:33:13.932Z"
   },
   {
    "duration": 124,
    "start_time": "2022-09-27T21:33:13.953Z"
   },
   {
    "duration": 484,
    "start_time": "2022-09-27T21:33:14.079Z"
   },
   {
    "duration": 578,
    "start_time": "2022-09-27T21:33:14.565Z"
   },
   {
    "duration": 108,
    "start_time": "2022-09-27T21:33:15.144Z"
   },
   {
    "duration": 30,
    "start_time": "2022-09-27T21:33:15.254Z"
   },
   {
    "duration": 42,
    "start_time": "2022-09-27T21:33:15.286Z"
   },
   {
    "duration": 18,
    "start_time": "2022-09-27T21:33:15.330Z"
   },
   {
    "duration": 32,
    "start_time": "2022-09-27T21:33:15.350Z"
   },
   {
    "duration": 37,
    "start_time": "2022-09-27T21:33:15.384Z"
   },
   {
    "duration": 33,
    "start_time": "2022-09-27T21:33:15.422Z"
   },
   {
    "duration": 28,
    "start_time": "2022-09-27T21:33:15.458Z"
   },
   {
    "duration": 92,
    "start_time": "2022-09-27T21:33:15.488Z"
   },
   {
    "duration": 39,
    "start_time": "2022-09-27T21:33:15.582Z"
   },
   {
    "duration": 18,
    "start_time": "2022-09-27T21:33:15.623Z"
   },
   {
    "duration": 29,
    "start_time": "2022-09-27T21:33:15.643Z"
   },
   {
    "duration": 22,
    "start_time": "2022-09-27T21:33:15.673Z"
   },
   {
    "duration": 126,
    "start_time": "2022-09-27T21:33:15.696Z"
   },
   {
    "duration": 20,
    "start_time": "2022-09-27T21:33:15.824Z"
   },
   {
    "duration": 176,
    "start_time": "2022-09-27T21:33:15.846Z"
   },
   {
    "duration": 61,
    "start_time": "2022-09-27T21:33:16.024Z"
   },
   {
    "duration": 610,
    "start_time": "2022-09-27T21:34:05.060Z"
   },
   {
    "duration": 858,
    "start_time": "2022-09-27T21:34:05.672Z"
   },
   {
    "duration": 19,
    "start_time": "2022-09-27T21:34:06.531Z"
   },
   {
    "duration": 131,
    "start_time": "2022-09-27T21:34:06.552Z"
   },
   {
    "duration": 539,
    "start_time": "2022-09-27T21:34:06.685Z"
   },
   {
    "duration": 620,
    "start_time": "2022-09-27T21:34:07.226Z"
   },
   {
    "duration": 108,
    "start_time": "2022-09-27T21:34:07.848Z"
   },
   {
    "duration": 31,
    "start_time": "2022-09-27T21:34:07.958Z"
   },
   {
    "duration": 45,
    "start_time": "2022-09-27T21:34:07.991Z"
   },
   {
    "duration": 19,
    "start_time": "2022-09-27T21:34:08.037Z"
   },
   {
    "duration": 30,
    "start_time": "2022-09-27T21:34:08.058Z"
   },
   {
    "duration": 36,
    "start_time": "2022-09-27T21:34:08.090Z"
   },
   {
    "duration": 35,
    "start_time": "2022-09-27T21:34:08.128Z"
   },
   {
    "duration": 31,
    "start_time": "2022-09-27T21:34:08.166Z"
   },
   {
    "duration": 100,
    "start_time": "2022-09-27T21:34:08.199Z"
   },
   {
    "duration": 33,
    "start_time": "2022-09-27T21:34:08.301Z"
   },
   {
    "duration": 23,
    "start_time": "2022-09-27T21:34:08.336Z"
   },
   {
    "duration": 30,
    "start_time": "2022-09-27T21:34:08.361Z"
   },
   {
    "duration": 50,
    "start_time": "2022-09-27T21:34:08.394Z"
   },
   {
    "duration": 112,
    "start_time": "2022-09-27T21:34:08.446Z"
   },
   {
    "duration": 17,
    "start_time": "2022-09-27T21:34:08.560Z"
   },
   {
    "duration": 172,
    "start_time": "2022-09-27T21:34:08.579Z"
   },
   {
    "duration": 72,
    "start_time": "2022-09-27T21:34:08.752Z"
   },
   {
    "duration": 772,
    "start_time": "2022-09-28T15:50:14.753Z"
   },
   {
    "duration": 1022,
    "start_time": "2022-09-28T15:50:15.527Z"
   },
   {
    "duration": 22,
    "start_time": "2022-09-28T15:50:16.551Z"
   },
   {
    "duration": 119,
    "start_time": "2022-09-28T15:50:16.575Z"
   },
   {
    "duration": 382,
    "start_time": "2022-09-28T15:50:16.695Z"
   },
   {
    "duration": 465,
    "start_time": "2022-09-28T15:50:17.079Z"
   },
   {
    "duration": 103,
    "start_time": "2022-09-28T15:50:17.545Z"
   },
   {
    "duration": 30,
    "start_time": "2022-09-28T15:50:17.649Z"
   },
   {
    "duration": 42,
    "start_time": "2022-09-28T15:50:17.680Z"
   },
   {
    "duration": 18,
    "start_time": "2022-09-28T15:50:17.724Z"
   },
   {
    "duration": 29,
    "start_time": "2022-09-28T15:50:17.743Z"
   },
   {
    "duration": 37,
    "start_time": "2022-09-28T15:50:17.774Z"
   },
   {
    "duration": 33,
    "start_time": "2022-09-28T15:50:17.812Z"
   },
   {
    "duration": 25,
    "start_time": "2022-09-28T15:50:17.847Z"
   },
   {
    "duration": 84,
    "start_time": "2022-09-28T15:50:17.873Z"
   },
   {
    "duration": 30,
    "start_time": "2022-09-28T15:50:17.958Z"
   },
   {
    "duration": 29,
    "start_time": "2022-09-28T15:50:17.990Z"
   },
   {
    "duration": 28,
    "start_time": "2022-09-28T15:50:18.020Z"
   },
   {
    "duration": 20,
    "start_time": "2022-09-28T15:50:18.049Z"
   },
   {
    "duration": 109,
    "start_time": "2022-09-28T15:50:18.071Z"
   },
   {
    "duration": 27,
    "start_time": "2022-09-28T15:50:18.182Z"
   },
   {
    "duration": 155,
    "start_time": "2022-09-28T15:50:18.211Z"
   },
   {
    "duration": 63,
    "start_time": "2022-09-28T15:50:18.368Z"
   },
   {
    "duration": 17,
    "start_time": "2022-09-28T15:50:18.432Z"
   },
   {
    "duration": 16,
    "start_time": "2022-09-28T16:08:48.733Z"
   },
   {
    "duration": 148,
    "start_time": "2022-09-28T16:11:57.228Z"
   },
   {
    "duration": 139,
    "start_time": "2022-09-28T16:12:19.493Z"
   },
   {
    "duration": 150,
    "start_time": "2022-09-28T16:12:34.320Z"
   },
   {
    "duration": 160,
    "start_time": "2022-09-28T16:12:42.344Z"
   },
   {
    "duration": 225,
    "start_time": "2022-09-28T16:12:49.557Z"
   },
   {
    "duration": 1140,
    "start_time": "2022-09-28T16:13:22.450Z"
   },
   {
    "duration": 217,
    "start_time": "2022-09-28T16:13:32.845Z"
   },
   {
    "duration": 38,
    "start_time": "2022-09-28T16:16:24.148Z"
   },
   {
    "duration": 91,
    "start_time": "2022-09-28T16:16:32.297Z"
   },
   {
    "duration": 652,
    "start_time": "2022-09-28T16:16:50.286Z"
   },
   {
    "duration": 793,
    "start_time": "2022-09-28T16:16:50.940Z"
   },
   {
    "duration": 18,
    "start_time": "2022-09-28T16:16:51.735Z"
   },
   {
    "duration": 134,
    "start_time": "2022-09-28T16:16:51.755Z"
   },
   {
    "duration": 447,
    "start_time": "2022-09-28T16:16:51.890Z"
   },
   {
    "duration": 564,
    "start_time": "2022-09-28T16:16:52.338Z"
   },
   {
    "duration": 113,
    "start_time": "2022-09-28T16:16:52.904Z"
   },
   {
    "duration": 32,
    "start_time": "2022-09-28T16:16:53.019Z"
   },
   {
    "duration": 33,
    "start_time": "2022-09-28T16:16:53.052Z"
   },
   {
    "duration": 31,
    "start_time": "2022-09-28T16:16:53.088Z"
   },
   {
    "duration": 32,
    "start_time": "2022-09-28T16:16:53.121Z"
   },
   {
    "duration": 19,
    "start_time": "2022-09-28T16:16:53.154Z"
   },
   {
    "duration": 49,
    "start_time": "2022-09-28T16:16:53.174Z"
   },
   {
    "duration": 27,
    "start_time": "2022-09-28T16:16:53.225Z"
   },
   {
    "duration": 92,
    "start_time": "2022-09-28T16:16:53.254Z"
   },
   {
    "duration": 30,
    "start_time": "2022-09-28T16:16:53.348Z"
   },
   {
    "duration": 31,
    "start_time": "2022-09-28T16:16:53.380Z"
   },
   {
    "duration": 29,
    "start_time": "2022-09-28T16:16:53.412Z"
   },
   {
    "duration": 54,
    "start_time": "2022-09-28T16:16:53.443Z"
   },
   {
    "duration": 104,
    "start_time": "2022-09-28T16:16:53.499Z"
   },
   {
    "duration": 18,
    "start_time": "2022-09-28T16:16:53.604Z"
   },
   {
    "duration": 158,
    "start_time": "2022-09-28T16:16:53.623Z"
   },
   {
    "duration": 72,
    "start_time": "2022-09-28T16:16:53.783Z"
   },
   {
    "duration": 19,
    "start_time": "2022-09-28T16:16:53.857Z"
   },
   {
    "duration": 250,
    "start_time": "2022-09-28T16:16:53.877Z"
   },
   {
    "duration": 43,
    "start_time": "2022-09-28T16:16:54.129Z"
   },
   {
    "duration": 14,
    "start_time": "2022-09-28T16:17:53.661Z"
   },
   {
    "duration": 38,
    "start_time": "2022-09-28T16:18:49.745Z"
   },
   {
    "duration": 21,
    "start_time": "2022-09-28T16:19:01.689Z"
   },
   {
    "duration": 12,
    "start_time": "2022-09-28T16:21:02.471Z"
   },
   {
    "duration": 5,
    "start_time": "2022-09-28T16:21:37.560Z"
   },
   {
    "duration": 13,
    "start_time": "2022-09-28T16:21:46.260Z"
   },
   {
    "duration": 67,
    "start_time": "2022-09-28T16:25:15.418Z"
   },
   {
    "duration": 772,
    "start_time": "2022-09-28T16:38:52.398Z"
   },
   {
    "duration": 11,
    "start_time": "2022-09-28T16:39:15.274Z"
   },
   {
    "duration": 13,
    "start_time": "2022-09-28T16:43:40.098Z"
   },
   {
    "duration": 16,
    "start_time": "2022-09-28T16:43:48.843Z"
   },
   {
    "duration": 72,
    "start_time": "2022-09-28T16:44:30.090Z"
   },
   {
    "duration": 14,
    "start_time": "2022-09-28T16:46:09.490Z"
   },
   {
    "duration": 15,
    "start_time": "2022-09-28T16:46:17.594Z"
   },
   {
    "duration": 24,
    "start_time": "2022-09-28T16:46:24.574Z"
   },
   {
    "duration": 5,
    "start_time": "2022-09-28T16:46:33.553Z"
   },
   {
    "duration": 92,
    "start_time": "2022-09-28T16:47:44.525Z"
   },
   {
    "duration": 87,
    "start_time": "2022-09-28T16:47:53.122Z"
   },
   {
    "duration": 582,
    "start_time": "2022-09-28T16:47:57.359Z"
   },
   {
    "duration": 765,
    "start_time": "2022-09-28T16:47:57.943Z"
   },
   {
    "duration": 19,
    "start_time": "2022-09-28T16:47:58.709Z"
   },
   {
    "duration": 125,
    "start_time": "2022-09-28T16:47:58.730Z"
   },
   {
    "duration": 438,
    "start_time": "2022-09-28T16:47:58.858Z"
   },
   {
    "duration": 521,
    "start_time": "2022-09-28T16:47:59.298Z"
   },
   {
    "duration": 105,
    "start_time": "2022-09-28T16:47:59.820Z"
   },
   {
    "duration": 32,
    "start_time": "2022-09-28T16:47:59.926Z"
   },
   {
    "duration": 35,
    "start_time": "2022-09-28T16:47:59.959Z"
   },
   {
    "duration": 27,
    "start_time": "2022-09-28T16:47:59.996Z"
   },
   {
    "duration": 33,
    "start_time": "2022-09-28T16:48:00.024Z"
   },
   {
    "duration": 23,
    "start_time": "2022-09-28T16:48:00.058Z"
   },
   {
    "duration": 48,
    "start_time": "2022-09-28T16:48:00.083Z"
   },
   {
    "duration": 37,
    "start_time": "2022-09-28T16:48:00.134Z"
   },
   {
    "duration": 83,
    "start_time": "2022-09-28T16:48:00.172Z"
   },
   {
    "duration": 32,
    "start_time": "2022-09-28T16:48:00.256Z"
   },
   {
    "duration": 34,
    "start_time": "2022-09-28T16:48:00.289Z"
   },
   {
    "duration": 40,
    "start_time": "2022-09-28T16:48:00.325Z"
   },
   {
    "duration": 35,
    "start_time": "2022-09-28T16:48:00.366Z"
   },
   {
    "duration": 102,
    "start_time": "2022-09-28T16:48:00.403Z"
   },
   {
    "duration": 24,
    "start_time": "2022-09-28T16:48:00.508Z"
   },
   {
    "duration": 150,
    "start_time": "2022-09-28T16:48:00.533Z"
   },
   {
    "duration": 115,
    "start_time": "2022-09-28T16:48:00.685Z"
   },
   {
    "duration": 18,
    "start_time": "2022-09-28T16:48:00.803Z"
   },
   {
    "duration": 238,
    "start_time": "2022-09-28T16:48:00.823Z"
   },
   {
    "duration": 71,
    "start_time": "2022-09-28T16:48:01.063Z"
   },
   {
    "duration": 21,
    "start_time": "2022-09-28T16:48:01.135Z"
   },
   {
    "duration": 20,
    "start_time": "2022-09-28T16:48:01.158Z"
   },
   {
    "duration": 72,
    "start_time": "2022-09-28T16:48:01.179Z"
   },
   {
    "duration": 14,
    "start_time": "2022-09-28T16:48:01.252Z"
   },
   {
    "duration": 25,
    "start_time": "2022-09-28T16:48:01.268Z"
   },
   {
    "duration": 26,
    "start_time": "2022-09-28T16:48:01.294Z"
   },
   {
    "duration": 15,
    "start_time": "2022-09-28T16:48:54.798Z"
   },
   {
    "duration": 95,
    "start_time": "2022-09-28T16:49:59.029Z"
   },
   {
    "duration": 256,
    "start_time": "2022-09-28T16:50:25.933Z"
   },
   {
    "duration": 239,
    "start_time": "2022-09-28T16:50:37.303Z"
   },
   {
    "duration": 230,
    "start_time": "2022-09-28T16:50:50.706Z"
   },
   {
    "duration": 233,
    "start_time": "2022-09-28T16:51:01.275Z"
   },
   {
    "duration": 121,
    "start_time": "2022-09-28T16:51:06.572Z"
   },
   {
    "duration": 1141,
    "start_time": "2022-09-28T16:51:12.361Z"
   },
   {
    "duration": 1248,
    "start_time": "2022-09-28T16:51:27.395Z"
   },
   {
    "duration": 1268,
    "start_time": "2022-09-28T16:51:55.913Z"
   },
   {
    "duration": 1409,
    "start_time": "2022-09-28T16:52:19.804Z"
   },
   {
    "duration": 222,
    "start_time": "2022-09-28T16:52:23.867Z"
   },
   {
    "duration": 251,
    "start_time": "2022-09-28T16:52:49.927Z"
   },
   {
    "duration": 165,
    "start_time": "2022-09-28T16:52:58.288Z"
   },
   {
    "duration": 236,
    "start_time": "2022-09-28T16:53:20.025Z"
   },
   {
    "duration": 143,
    "start_time": "2022-09-28T16:54:10.457Z"
   },
   {
    "duration": 673,
    "start_time": "2022-09-28T16:55:11.276Z"
   },
   {
    "duration": 749,
    "start_time": "2022-09-28T16:55:11.951Z"
   },
   {
    "duration": 24,
    "start_time": "2022-09-28T16:55:12.702Z"
   },
   {
    "duration": 119,
    "start_time": "2022-09-28T16:55:12.728Z"
   },
   {
    "duration": 430,
    "start_time": "2022-09-28T16:55:12.849Z"
   },
   {
    "duration": 501,
    "start_time": "2022-09-28T16:55:13.280Z"
   },
   {
    "duration": 109,
    "start_time": "2022-09-28T16:55:13.783Z"
   },
   {
    "duration": 35,
    "start_time": "2022-09-28T16:55:13.893Z"
   },
   {
    "duration": 32,
    "start_time": "2022-09-28T16:55:13.929Z"
   },
   {
    "duration": 18,
    "start_time": "2022-09-28T16:55:13.963Z"
   },
   {
    "duration": 42,
    "start_time": "2022-09-28T16:55:13.983Z"
   },
   {
    "duration": 23,
    "start_time": "2022-09-28T16:55:14.027Z"
   },
   {
    "duration": 32,
    "start_time": "2022-09-28T16:55:14.052Z"
   },
   {
    "duration": 39,
    "start_time": "2022-09-28T16:55:14.087Z"
   },
   {
    "duration": 82,
    "start_time": "2022-09-28T16:55:14.127Z"
   },
   {
    "duration": 30,
    "start_time": "2022-09-28T16:55:14.210Z"
   },
   {
    "duration": 26,
    "start_time": "2022-09-28T16:55:14.242Z"
   },
   {
    "duration": 29,
    "start_time": "2022-09-28T16:55:14.269Z"
   },
   {
    "duration": 28,
    "start_time": "2022-09-28T16:55:14.299Z"
   },
   {
    "duration": 131,
    "start_time": "2022-09-28T16:55:14.328Z"
   },
   {
    "duration": 19,
    "start_time": "2022-09-28T16:55:14.461Z"
   },
   {
    "duration": 191,
    "start_time": "2022-09-28T16:55:14.483Z"
   },
   {
    "duration": 114,
    "start_time": "2022-09-28T16:55:14.676Z"
   },
   {
    "duration": 22,
    "start_time": "2022-09-28T16:55:14.792Z"
   },
   {
    "duration": 238,
    "start_time": "2022-09-28T16:55:14.816Z"
   },
   {
    "duration": 69,
    "start_time": "2022-09-28T16:55:15.056Z"
   },
   {
    "duration": 21,
    "start_time": "2022-09-28T16:55:15.127Z"
   },
   {
    "duration": 11,
    "start_time": "2022-09-28T16:55:15.150Z"
   },
   {
    "duration": 14,
    "start_time": "2022-09-28T16:55:15.163Z"
   },
   {
    "duration": 323,
    "start_time": "2022-09-28T16:55:15.179Z"
   },
   {
    "duration": 80,
    "start_time": "2022-09-28T16:55:15.504Z"
   },
   {
    "duration": 63,
    "start_time": "2022-09-28T16:55:15.586Z"
   },
   {
    "duration": 12,
    "start_time": "2022-09-28T16:55:15.651Z"
   },
   {
    "duration": 12,
    "start_time": "2022-09-28T16:55:15.665Z"
   },
   {
    "duration": 924,
    "start_time": "2022-09-28T17:10:44.082Z"
   },
   {
    "duration": 113,
    "start_time": "2022-09-28T17:13:48.648Z"
   },
   {
    "duration": 13,
    "start_time": "2022-09-28T17:14:42.597Z"
   },
   {
    "duration": 34,
    "start_time": "2022-09-28T17:14:48.066Z"
   },
   {
    "duration": 33,
    "start_time": "2022-09-28T17:15:43.373Z"
   },
   {
    "duration": 1315,
    "start_time": "2022-09-28T17:16:29.649Z"
   },
   {
    "duration": 813,
    "start_time": "2022-09-28T17:16:30.966Z"
   },
   {
    "duration": 20,
    "start_time": "2022-09-28T17:16:31.781Z"
   },
   {
    "duration": 136,
    "start_time": "2022-09-28T17:16:31.810Z"
   },
   {
    "duration": 416,
    "start_time": "2022-09-28T17:16:31.948Z"
   },
   {
    "duration": 475,
    "start_time": "2022-09-28T17:16:32.366Z"
   },
   {
    "duration": 105,
    "start_time": "2022-09-28T17:16:32.842Z"
   },
   {
    "duration": 29,
    "start_time": "2022-09-28T17:16:32.948Z"
   },
   {
    "duration": 44,
    "start_time": "2022-09-28T17:16:32.979Z"
   },
   {
    "duration": 17,
    "start_time": "2022-09-28T17:16:33.025Z"
   },
   {
    "duration": 28,
    "start_time": "2022-09-28T17:16:33.043Z"
   },
   {
    "duration": 36,
    "start_time": "2022-09-28T17:16:33.073Z"
   },
   {
    "duration": 31,
    "start_time": "2022-09-28T17:16:33.111Z"
   },
   {
    "duration": 25,
    "start_time": "2022-09-28T17:16:33.146Z"
   },
   {
    "duration": 88,
    "start_time": "2022-09-28T17:16:33.173Z"
   },
   {
    "duration": 33,
    "start_time": "2022-09-28T17:16:33.262Z"
   },
   {
    "duration": 21,
    "start_time": "2022-09-28T17:16:33.309Z"
   },
   {
    "duration": 34,
    "start_time": "2022-09-28T17:16:33.334Z"
   },
   {
    "duration": 20,
    "start_time": "2022-09-28T17:16:33.370Z"
   },
   {
    "duration": 105,
    "start_time": "2022-09-28T17:16:33.391Z"
   },
   {
    "duration": 25,
    "start_time": "2022-09-28T17:16:33.498Z"
   },
   {
    "duration": 149,
    "start_time": "2022-09-28T17:16:33.525Z"
   },
   {
    "duration": 112,
    "start_time": "2022-09-28T17:16:33.675Z"
   },
   {
    "duration": 21,
    "start_time": "2022-09-28T17:16:33.789Z"
   },
   {
    "duration": 230,
    "start_time": "2022-09-28T17:16:33.811Z"
   },
   {
    "duration": 68,
    "start_time": "2022-09-28T17:16:34.043Z"
   },
   {
    "duration": 21,
    "start_time": "2022-09-28T17:16:34.112Z"
   },
   {
    "duration": 16,
    "start_time": "2022-09-28T17:16:34.135Z"
   },
   {
    "duration": 13,
    "start_time": "2022-09-28T17:16:34.153Z"
   },
   {
    "duration": 274,
    "start_time": "2022-09-28T17:16:34.168Z"
   },
   {
    "duration": 89,
    "start_time": "2022-09-28T17:16:34.444Z"
   },
   {
    "duration": 61,
    "start_time": "2022-09-28T17:16:34.535Z"
   },
   {
    "duration": 14,
    "start_time": "2022-09-28T17:16:34.608Z"
   },
   {
    "duration": 20,
    "start_time": "2022-09-28T17:16:34.624Z"
   },
   {
    "duration": 146,
    "start_time": "2022-09-28T17:16:34.646Z"
   },
   {
    "duration": 49,
    "start_time": "2022-09-28T17:16:44.424Z"
   },
   {
    "duration": 1306,
    "start_time": "2022-09-28T17:16:54.588Z"
   },
   {
    "duration": 756,
    "start_time": "2022-09-28T17:16:55.896Z"
   },
   {
    "duration": 16,
    "start_time": "2022-09-28T17:16:56.653Z"
   },
   {
    "duration": 118,
    "start_time": "2022-09-28T17:16:56.670Z"
   },
   {
    "duration": 414,
    "start_time": "2022-09-28T17:16:56.790Z"
   },
   {
    "duration": 507,
    "start_time": "2022-09-28T17:16:57.206Z"
   },
   {
    "duration": 108,
    "start_time": "2022-09-28T17:16:57.715Z"
   },
   {
    "duration": 30,
    "start_time": "2022-09-28T17:16:57.824Z"
   },
   {
    "duration": 33,
    "start_time": "2022-09-28T17:16:57.855Z"
   },
   {
    "duration": 27,
    "start_time": "2022-09-28T17:16:57.889Z"
   },
   {
    "duration": 29,
    "start_time": "2022-09-28T17:16:57.917Z"
   },
   {
    "duration": 21,
    "start_time": "2022-09-28T17:16:57.947Z"
   },
   {
    "duration": 48,
    "start_time": "2022-09-28T17:16:57.970Z"
   },
   {
    "duration": 33,
    "start_time": "2022-09-28T17:16:58.021Z"
   },
   {
    "duration": 83,
    "start_time": "2022-09-28T17:16:58.055Z"
   },
   {
    "duration": 27,
    "start_time": "2022-09-28T17:16:58.140Z"
   },
   {
    "duration": 25,
    "start_time": "2022-09-28T17:16:58.169Z"
   },
   {
    "duration": 34,
    "start_time": "2022-09-28T17:16:58.196Z"
   },
   {
    "duration": 29,
    "start_time": "2022-09-28T17:16:58.231Z"
   },
   {
    "duration": 100,
    "start_time": "2022-09-28T17:16:58.262Z"
   },
   {
    "duration": 15,
    "start_time": "2022-09-28T17:16:58.364Z"
   },
   {
    "duration": 169,
    "start_time": "2022-09-28T17:16:58.381Z"
   },
   {
    "duration": 119,
    "start_time": "2022-09-28T17:16:58.552Z"
   },
   {
    "duration": 19,
    "start_time": "2022-09-28T17:16:58.673Z"
   },
   {
    "duration": 254,
    "start_time": "2022-09-28T17:16:58.693Z"
   },
   {
    "duration": 69,
    "start_time": "2022-09-28T17:16:58.949Z"
   },
   {
    "duration": 20,
    "start_time": "2022-09-28T17:16:59.019Z"
   },
   {
    "duration": 11,
    "start_time": "2022-09-28T17:16:59.041Z"
   },
   {
    "duration": 14,
    "start_time": "2022-09-28T17:16:59.054Z"
   },
   {
    "duration": 258,
    "start_time": "2022-09-28T17:16:59.069Z"
   },
   {
    "duration": 81,
    "start_time": "2022-09-28T17:16:59.329Z"
   },
   {
    "duration": 54,
    "start_time": "2022-09-28T17:16:59.412Z"
   },
   {
    "duration": 13,
    "start_time": "2022-09-28T17:16:59.468Z"
   },
   {
    "duration": 32,
    "start_time": "2022-09-28T17:16:59.482Z"
   },
   {
    "duration": 35,
    "start_time": "2022-09-28T17:16:59.515Z"
   },
   {
    "duration": 4,
    "start_time": "2022-09-28T17:17:24.387Z"
   },
   {
    "duration": 4,
    "start_time": "2022-09-28T17:17:39.276Z"
   },
   {
    "duration": 3,
    "start_time": "2022-09-28T17:17:50.817Z"
   },
   {
    "duration": 4,
    "start_time": "2022-09-28T17:17:59.987Z"
   },
   {
    "duration": 52,
    "start_time": "2022-09-28T17:19:26.092Z"
   },
   {
    "duration": 4,
    "start_time": "2022-09-28T17:19:36.386Z"
   },
   {
    "duration": 3,
    "start_time": "2022-09-28T17:19:42.800Z"
   },
   {
    "duration": 3,
    "start_time": "2022-09-28T17:19:49.942Z"
   },
   {
    "duration": 4,
    "start_time": "2022-09-28T17:19:57.539Z"
   },
   {
    "duration": 52,
    "start_time": "2022-09-28T17:20:08.117Z"
   },
   {
    "duration": 5,
    "start_time": "2022-09-28T17:20:10.481Z"
   },
   {
    "duration": 1284,
    "start_time": "2022-09-28T17:20:18.542Z"
   },
   {
    "duration": 764,
    "start_time": "2022-09-28T17:20:19.828Z"
   },
   {
    "duration": 20,
    "start_time": "2022-09-28T17:20:20.593Z"
   },
   {
    "duration": 125,
    "start_time": "2022-09-28T17:20:20.615Z"
   },
   {
    "duration": 391,
    "start_time": "2022-09-28T17:20:20.742Z"
   },
   {
    "duration": 501,
    "start_time": "2022-09-28T17:20:21.135Z"
   },
   {
    "duration": 107,
    "start_time": "2022-09-28T17:20:21.638Z"
   },
   {
    "duration": 39,
    "start_time": "2022-09-28T17:20:21.746Z"
   },
   {
    "duration": 28,
    "start_time": "2022-09-28T17:20:21.786Z"
   },
   {
    "duration": 17,
    "start_time": "2022-09-28T17:20:21.816Z"
   },
   {
    "duration": 46,
    "start_time": "2022-09-28T17:20:21.835Z"
   },
   {
    "duration": 38,
    "start_time": "2022-09-28T17:20:21.883Z"
   },
   {
    "duration": 32,
    "start_time": "2022-09-28T17:20:21.923Z"
   },
   {
    "duration": 32,
    "start_time": "2022-09-28T17:20:21.958Z"
   },
   {
    "duration": 88,
    "start_time": "2022-09-28T17:20:21.992Z"
   },
   {
    "duration": 56,
    "start_time": "2022-09-28T17:20:22.082Z"
   },
   {
    "duration": 18,
    "start_time": "2022-09-28T17:20:22.140Z"
   },
   {
    "duration": 27,
    "start_time": "2022-09-28T17:20:22.159Z"
   },
   {
    "duration": 38,
    "start_time": "2022-09-28T17:20:22.187Z"
   },
   {
    "duration": 103,
    "start_time": "2022-09-28T17:20:22.226Z"
   },
   {
    "duration": 20,
    "start_time": "2022-09-28T17:20:22.331Z"
   },
   {
    "duration": 158,
    "start_time": "2022-09-28T17:20:22.353Z"
   },
   {
    "duration": 115,
    "start_time": "2022-09-28T17:20:22.512Z"
   },
   {
    "duration": 16,
    "start_time": "2022-09-28T17:20:22.629Z"
   },
   {
    "duration": 231,
    "start_time": "2022-09-28T17:20:22.647Z"
   },
   {
    "duration": 70,
    "start_time": "2022-09-28T17:20:22.880Z"
   },
   {
    "duration": 21,
    "start_time": "2022-09-28T17:20:22.952Z"
   },
   {
    "duration": 12,
    "start_time": "2022-09-28T17:20:22.975Z"
   },
   {
    "duration": 33,
    "start_time": "2022-09-28T17:20:22.988Z"
   },
   {
    "duration": 237,
    "start_time": "2022-09-28T17:20:23.023Z"
   },
   {
    "duration": 87,
    "start_time": "2022-09-28T17:20:23.261Z"
   },
   {
    "duration": 60,
    "start_time": "2022-09-28T17:20:23.349Z"
   },
   {
    "duration": 12,
    "start_time": "2022-09-28T17:20:23.411Z"
   },
   {
    "duration": 12,
    "start_time": "2022-09-28T17:20:23.425Z"
   },
   {
    "duration": 44,
    "start_time": "2022-09-28T17:20:23.438Z"
   },
   {
    "duration": 18,
    "start_time": "2022-09-28T18:33:35.198Z"
   },
   {
    "duration": 14,
    "start_time": "2022-09-28T18:33:44.929Z"
   },
   {
    "duration": 7,
    "start_time": "2022-09-28T18:34:13.096Z"
   },
   {
    "duration": 9,
    "start_time": "2022-09-28T18:34:18.128Z"
   },
   {
    "duration": 1084,
    "start_time": "2022-09-28T18:35:44.966Z"
   },
   {
    "duration": 11,
    "start_time": "2022-09-28T18:36:01.702Z"
   },
   {
    "duration": 7,
    "start_time": "2022-09-28T18:36:07.362Z"
   },
   {
    "duration": 1245,
    "start_time": "2022-09-28T18:36:12.178Z"
   },
   {
    "duration": 798,
    "start_time": "2022-09-28T18:36:13.425Z"
   },
   {
    "duration": 16,
    "start_time": "2022-09-28T18:36:14.226Z"
   },
   {
    "duration": 125,
    "start_time": "2022-09-28T18:36:14.244Z"
   },
   {
    "duration": 497,
    "start_time": "2022-09-28T18:36:14.371Z"
   },
   {
    "duration": 512,
    "start_time": "2022-09-28T18:36:14.870Z"
   },
   {
    "duration": 110,
    "start_time": "2022-09-28T18:36:15.383Z"
   },
   {
    "duration": 47,
    "start_time": "2022-09-28T18:36:15.494Z"
   },
   {
    "duration": 26,
    "start_time": "2022-09-28T18:36:15.542Z"
   },
   {
    "duration": 17,
    "start_time": "2022-09-28T18:36:15.570Z"
   },
   {
    "duration": 54,
    "start_time": "2022-09-28T18:36:15.589Z"
   },
   {
    "duration": 20,
    "start_time": "2022-09-28T18:36:15.645Z"
   },
   {
    "duration": 48,
    "start_time": "2022-09-28T18:36:15.667Z"
   },
   {
    "duration": 26,
    "start_time": "2022-09-28T18:36:15.720Z"
   },
   {
    "duration": 85,
    "start_time": "2022-09-28T18:36:15.747Z"
   },
   {
    "duration": 28,
    "start_time": "2022-09-28T18:36:15.833Z"
   },
   {
    "duration": 19,
    "start_time": "2022-09-28T18:36:15.862Z"
   },
   {
    "duration": 44,
    "start_time": "2022-09-28T18:36:15.883Z"
   },
   {
    "duration": 22,
    "start_time": "2022-09-28T18:36:15.928Z"
   },
   {
    "duration": 104,
    "start_time": "2022-09-28T18:36:15.951Z"
   },
   {
    "duration": 15,
    "start_time": "2022-09-28T18:36:16.057Z"
   },
   {
    "duration": 172,
    "start_time": "2022-09-28T18:36:16.073Z"
   },
   {
    "duration": 116,
    "start_time": "2022-09-28T18:36:16.246Z"
   },
   {
    "duration": 15,
    "start_time": "2022-09-28T18:36:16.363Z"
   },
   {
    "duration": 251,
    "start_time": "2022-09-28T18:36:16.380Z"
   },
   {
    "duration": 62,
    "start_time": "2022-09-28T18:36:16.633Z"
   },
   {
    "duration": 28,
    "start_time": "2022-09-28T18:36:16.697Z"
   },
   {
    "duration": 23,
    "start_time": "2022-09-28T18:36:16.729Z"
   },
   {
    "duration": 21,
    "start_time": "2022-09-28T18:36:16.753Z"
   },
   {
    "duration": 241,
    "start_time": "2022-09-28T18:36:16.776Z"
   },
   {
    "duration": 74,
    "start_time": "2022-09-28T18:36:17.024Z"
   },
   {
    "duration": 65,
    "start_time": "2022-09-28T18:36:17.100Z"
   },
   {
    "duration": 12,
    "start_time": "2022-09-28T18:36:17.166Z"
   },
   {
    "duration": 12,
    "start_time": "2022-09-28T18:36:17.180Z"
   },
   {
    "duration": 60,
    "start_time": "2022-09-28T18:36:17.194Z"
   },
   {
    "duration": 20,
    "start_time": "2022-09-28T18:36:17.255Z"
   },
   {
    "duration": 89,
    "start_time": "2022-09-28T18:36:17.285Z"
   },
   {
    "duration": 14,
    "start_time": "2022-09-28T18:36:25.220Z"
   },
   {
    "duration": 5,
    "start_time": "2022-09-28T18:36:44.700Z"
   },
   {
    "duration": 1281,
    "start_time": "2022-09-28T18:37:38.075Z"
   },
   {
    "duration": 760,
    "start_time": "2022-09-28T18:37:39.357Z"
   },
   {
    "duration": 26,
    "start_time": "2022-09-28T18:37:40.118Z"
   },
   {
    "duration": 137,
    "start_time": "2022-09-28T18:37:40.146Z"
   },
   {
    "duration": 425,
    "start_time": "2022-09-28T18:37:40.284Z"
   },
   {
    "duration": 495,
    "start_time": "2022-09-28T18:37:40.711Z"
   },
   {
    "duration": 118,
    "start_time": "2022-09-28T18:37:41.209Z"
   },
   {
    "duration": 33,
    "start_time": "2022-09-28T18:37:41.328Z"
   },
   {
    "duration": 32,
    "start_time": "2022-09-28T18:37:41.362Z"
   },
   {
    "duration": 28,
    "start_time": "2022-09-28T18:37:41.397Z"
   },
   {
    "duration": 30,
    "start_time": "2022-09-28T18:37:41.427Z"
   },
   {
    "duration": 21,
    "start_time": "2022-09-28T18:37:41.459Z"
   },
   {
    "duration": 45,
    "start_time": "2022-09-28T18:37:41.482Z"
   },
   {
    "duration": 44,
    "start_time": "2022-09-28T18:37:41.529Z"
   },
   {
    "duration": 87,
    "start_time": "2022-09-28T18:37:41.574Z"
   },
   {
    "duration": 33,
    "start_time": "2022-09-28T18:37:41.663Z"
   },
   {
    "duration": 28,
    "start_time": "2022-09-28T18:37:41.697Z"
   },
   {
    "duration": 29,
    "start_time": "2022-09-28T18:37:41.727Z"
   },
   {
    "duration": 39,
    "start_time": "2022-09-28T18:37:41.757Z"
   },
   {
    "duration": 127,
    "start_time": "2022-09-28T18:37:41.809Z"
   },
   {
    "duration": 16,
    "start_time": "2022-09-28T18:37:41.938Z"
   },
   {
    "duration": 149,
    "start_time": "2022-09-28T18:37:41.955Z"
   },
   {
    "duration": 112,
    "start_time": "2022-09-28T18:37:42.105Z"
   },
   {
    "duration": 15,
    "start_time": "2022-09-28T18:37:42.219Z"
   },
   {
    "duration": 223,
    "start_time": "2022-09-28T18:37:42.236Z"
   },
   {
    "duration": 73,
    "start_time": "2022-09-28T18:37:42.461Z"
   },
   {
    "duration": 21,
    "start_time": "2022-09-28T18:37:42.535Z"
   },
   {
    "duration": 12,
    "start_time": "2022-09-28T18:37:42.558Z"
   },
   {
    "duration": 13,
    "start_time": "2022-09-28T18:37:42.571Z"
   },
   {
    "duration": 247,
    "start_time": "2022-09-28T18:37:42.609Z"
   },
   {
    "duration": 81,
    "start_time": "2022-09-28T18:37:42.857Z"
   },
   {
    "duration": 51,
    "start_time": "2022-09-28T18:37:42.940Z"
   },
   {
    "duration": 26,
    "start_time": "2022-09-28T18:37:42.993Z"
   },
   {
    "duration": 11,
    "start_time": "2022-09-28T18:37:43.021Z"
   },
   {
    "duration": 45,
    "start_time": "2022-09-28T18:37:43.033Z"
   },
   {
    "duration": 375,
    "start_time": "2022-09-28T18:37:43.080Z"
   },
   {
    "duration": 3,
    "start_time": "2022-09-28T18:39:03.089Z"
   },
   {
    "duration": 1219,
    "start_time": "2022-09-28T18:39:58.225Z"
   },
   {
    "duration": 1655,
    "start_time": "2022-09-28T18:40:39.867Z"
   },
   {
    "duration": 1255,
    "start_time": "2022-09-28T18:40:45.796Z"
   },
   {
    "duration": 737,
    "start_time": "2022-09-28T18:40:47.053Z"
   },
   {
    "duration": 19,
    "start_time": "2022-09-28T18:40:47.792Z"
   },
   {
    "duration": 121,
    "start_time": "2022-09-28T18:40:47.812Z"
   },
   {
    "duration": 424,
    "start_time": "2022-09-28T18:40:47.935Z"
   },
   {
    "duration": 498,
    "start_time": "2022-09-28T18:40:48.360Z"
   },
   {
    "duration": 107,
    "start_time": "2022-09-28T18:40:48.860Z"
   },
   {
    "duration": 32,
    "start_time": "2022-09-28T18:40:48.969Z"
   },
   {
    "duration": 26,
    "start_time": "2022-09-28T18:40:49.010Z"
   },
   {
    "duration": 17,
    "start_time": "2022-09-28T18:40:49.038Z"
   },
   {
    "duration": 28,
    "start_time": "2022-09-28T18:40:49.057Z"
   },
   {
    "duration": 18,
    "start_time": "2022-09-28T18:40:49.109Z"
   },
   {
    "duration": 30,
    "start_time": "2022-09-28T18:40:49.129Z"
   },
   {
    "duration": 32,
    "start_time": "2022-09-28T18:40:49.162Z"
   },
   {
    "duration": 86,
    "start_time": "2022-09-28T18:40:49.195Z"
   },
   {
    "duration": 38,
    "start_time": "2022-09-28T18:40:49.283Z"
   },
   {
    "duration": 23,
    "start_time": "2022-09-28T18:40:49.322Z"
   },
   {
    "duration": 33,
    "start_time": "2022-09-28T18:40:49.346Z"
   },
   {
    "duration": 42,
    "start_time": "2022-09-28T18:40:49.380Z"
   },
   {
    "duration": 116,
    "start_time": "2022-09-28T18:40:49.424Z"
   },
   {
    "duration": 17,
    "start_time": "2022-09-28T18:40:49.541Z"
   },
   {
    "duration": 158,
    "start_time": "2022-09-28T18:40:49.560Z"
   },
   {
    "duration": 112,
    "start_time": "2022-09-28T18:40:49.720Z"
   },
   {
    "duration": 16,
    "start_time": "2022-09-28T18:40:49.834Z"
   },
   {
    "duration": 231,
    "start_time": "2022-09-28T18:40:49.852Z"
   },
   {
    "duration": 75,
    "start_time": "2022-09-28T18:40:50.084Z"
   },
   {
    "duration": 21,
    "start_time": "2022-09-28T18:40:50.160Z"
   },
   {
    "duration": 15,
    "start_time": "2022-09-28T18:40:50.182Z"
   },
   {
    "duration": 15,
    "start_time": "2022-09-28T18:40:50.208Z"
   },
   {
    "duration": 244,
    "start_time": "2022-09-28T18:40:50.224Z"
   },
   {
    "duration": 81,
    "start_time": "2022-09-28T18:40:50.469Z"
   },
   {
    "duration": 58,
    "start_time": "2022-09-28T18:40:50.552Z"
   },
   {
    "duration": 13,
    "start_time": "2022-09-28T18:40:50.612Z"
   },
   {
    "duration": 12,
    "start_time": "2022-09-28T18:40:50.627Z"
   },
   {
    "duration": 48,
    "start_time": "2022-09-28T18:40:50.640Z"
   },
   {
    "duration": 356,
    "start_time": "2022-09-28T18:40:50.710Z"
   },
   {
    "duration": 2028,
    "start_time": "2022-09-28T18:40:51.068Z"
   },
   {
    "duration": 23,
    "start_time": "2022-09-28T18:44:02.569Z"
   },
   {
    "duration": 23,
    "start_time": "2022-09-28T18:50:48.234Z"
   },
   {
    "duration": 3,
    "start_time": "2022-09-28T18:51:46.297Z"
   },
   {
    "duration": 14451,
    "start_time": "2022-09-28T18:52:25.869Z"
   },
   {
    "duration": 18090,
    "start_time": "2022-09-28T18:53:17.621Z"
   },
   {
    "duration": 231,
    "start_time": "2022-09-28T18:54:34.607Z"
   },
   {
    "duration": 4,
    "start_time": "2022-09-28T18:55:49.692Z"
   },
   {
    "duration": 5,
    "start_time": "2022-09-28T18:56:02.304Z"
   },
   {
    "duration": 5,
    "start_time": "2022-09-28T18:56:17.255Z"
   },
   {
    "duration": 1199,
    "start_time": "2022-09-28T19:06:08.056Z"
   },
   {
    "duration": 774,
    "start_time": "2022-09-28T19:06:09.257Z"
   },
   {
    "duration": 17,
    "start_time": "2022-09-28T19:06:10.033Z"
   },
   {
    "duration": 124,
    "start_time": "2022-09-28T19:06:10.052Z"
   },
   {
    "duration": 407,
    "start_time": "2022-09-28T19:06:10.178Z"
   },
   {
    "duration": 546,
    "start_time": "2022-09-28T19:06:10.587Z"
   },
   {
    "duration": 116,
    "start_time": "2022-09-28T19:06:11.135Z"
   },
   {
    "duration": 33,
    "start_time": "2022-09-28T19:06:11.253Z"
   },
   {
    "duration": 45,
    "start_time": "2022-09-28T19:06:11.288Z"
   },
   {
    "duration": 16,
    "start_time": "2022-09-28T19:06:11.335Z"
   },
   {
    "duration": 29,
    "start_time": "2022-09-28T19:06:11.353Z"
   },
   {
    "duration": 38,
    "start_time": "2022-09-28T19:06:11.384Z"
   },
   {
    "duration": 32,
    "start_time": "2022-09-28T19:06:11.423Z"
   },
   {
    "duration": 29,
    "start_time": "2022-09-28T19:06:11.459Z"
   },
   {
    "duration": 90,
    "start_time": "2022-09-28T19:06:11.491Z"
   },
   {
    "duration": 41,
    "start_time": "2022-09-28T19:06:11.583Z"
   },
   {
    "duration": 32,
    "start_time": "2022-09-28T19:06:11.626Z"
   },
   {
    "duration": 29,
    "start_time": "2022-09-28T19:06:11.660Z"
   },
   {
    "duration": 35,
    "start_time": "2022-09-28T19:06:11.691Z"
   },
   {
    "duration": 123,
    "start_time": "2022-09-28T19:06:11.728Z"
   },
   {
    "duration": 17,
    "start_time": "2022-09-28T19:06:11.853Z"
   },
   {
    "duration": 161,
    "start_time": "2022-09-28T19:06:11.872Z"
   },
   {
    "duration": 115,
    "start_time": "2022-09-28T19:06:12.035Z"
   },
   {
    "duration": 16,
    "start_time": "2022-09-28T19:06:12.151Z"
   },
   {
    "duration": 227,
    "start_time": "2022-09-28T19:06:12.168Z"
   },
   {
    "duration": 64,
    "start_time": "2022-09-28T19:06:12.397Z"
   },
   {
    "duration": 19,
    "start_time": "2022-09-28T19:06:12.463Z"
   },
   {
    "duration": 33,
    "start_time": "2022-09-28T19:06:12.484Z"
   },
   {
    "duration": 15,
    "start_time": "2022-09-28T19:06:12.519Z"
   },
   {
    "duration": 242,
    "start_time": "2022-09-28T19:06:12.536Z"
   },
   {
    "duration": 83,
    "start_time": "2022-09-28T19:06:12.780Z"
   },
   {
    "duration": 58,
    "start_time": "2022-09-28T19:06:12.864Z"
   },
   {
    "duration": 13,
    "start_time": "2022-09-28T19:06:12.924Z"
   },
   {
    "duration": 12,
    "start_time": "2022-09-28T19:06:12.938Z"
   },
   {
    "duration": 76,
    "start_time": "2022-09-28T19:06:12.951Z"
   },
   {
    "duration": 116,
    "start_time": "2022-09-28T19:06:13.029Z"
   },
   {
    "duration": 0,
    "start_time": "2022-09-28T19:06:13.147Z"
   },
   {
    "duration": 0,
    "start_time": "2022-09-28T19:06:13.148Z"
   },
   {
    "duration": 0,
    "start_time": "2022-09-28T19:06:13.149Z"
   },
   {
    "duration": 0,
    "start_time": "2022-09-28T19:06:13.151Z"
   },
   {
    "duration": 1335,
    "start_time": "2022-09-28T19:06:38.841Z"
   },
   {
    "duration": 764,
    "start_time": "2022-09-28T19:06:40.178Z"
   },
   {
    "duration": 17,
    "start_time": "2022-09-28T19:06:40.943Z"
   },
   {
    "duration": 132,
    "start_time": "2022-09-28T19:06:40.962Z"
   },
   {
    "duration": 426,
    "start_time": "2022-09-28T19:06:41.095Z"
   },
   {
    "duration": 570,
    "start_time": "2022-09-28T19:06:41.522Z"
   },
   {
    "duration": 118,
    "start_time": "2022-09-28T19:06:42.093Z"
   },
   {
    "duration": 33,
    "start_time": "2022-09-28T19:06:42.213Z"
   },
   {
    "duration": 46,
    "start_time": "2022-09-28T19:06:42.248Z"
   },
   {
    "duration": 31,
    "start_time": "2022-09-28T19:06:42.311Z"
   },
   {
    "duration": 30,
    "start_time": "2022-09-28T19:06:42.344Z"
   },
   {
    "duration": 55,
    "start_time": "2022-09-28T19:06:42.376Z"
   },
   {
    "duration": 47,
    "start_time": "2022-09-28T19:06:42.433Z"
   },
   {
    "duration": 35,
    "start_time": "2022-09-28T19:06:42.482Z"
   },
   {
    "duration": 72,
    "start_time": "2022-09-28T19:06:42.519Z"
   },
   {
    "duration": 65,
    "start_time": "2022-09-28T19:06:42.593Z"
   },
   {
    "duration": 22,
    "start_time": "2022-09-28T19:06:42.659Z"
   },
   {
    "duration": 60,
    "start_time": "2022-09-28T19:06:42.683Z"
   },
   {
    "duration": 33,
    "start_time": "2022-09-28T19:06:42.744Z"
   },
   {
    "duration": 160,
    "start_time": "2022-09-28T19:06:42.779Z"
   },
   {
    "duration": 17,
    "start_time": "2022-09-28T19:06:42.940Z"
   },
   {
    "duration": 161,
    "start_time": "2022-09-28T19:06:42.958Z"
   },
   {
    "duration": 118,
    "start_time": "2022-09-28T19:06:43.120Z"
   },
   {
    "duration": 19,
    "start_time": "2022-09-28T19:06:43.240Z"
   },
   {
    "duration": 275,
    "start_time": "2022-09-28T19:06:43.260Z"
   },
   {
    "duration": 71,
    "start_time": "2022-09-28T19:06:43.538Z"
   },
   {
    "duration": 21,
    "start_time": "2022-09-28T19:06:43.611Z"
   },
   {
    "duration": 11,
    "start_time": "2022-09-28T19:06:43.635Z"
   },
   {
    "duration": 14,
    "start_time": "2022-09-28T19:06:43.648Z"
   },
   {
    "duration": 264,
    "start_time": "2022-09-28T19:06:43.664Z"
   },
   {
    "duration": 81,
    "start_time": "2022-09-28T19:06:43.930Z"
   },
   {
    "duration": 53,
    "start_time": "2022-09-28T19:06:44.012Z"
   },
   {
    "duration": 12,
    "start_time": "2022-09-28T19:06:44.067Z"
   },
   {
    "duration": 33,
    "start_time": "2022-09-28T19:06:44.080Z"
   },
   {
    "duration": 48,
    "start_time": "2022-09-28T19:06:44.115Z"
   },
   {
    "duration": 496,
    "start_time": "2022-09-28T19:06:44.164Z"
   },
   {
    "duration": 147,
    "start_time": "2022-09-28T19:06:44.662Z"
   },
   {
    "duration": 36,
    "start_time": "2022-09-28T19:06:44.811Z"
   },
   {
    "duration": 4,
    "start_time": "2022-09-28T19:06:44.849Z"
   },
   {
    "duration": 157,
    "start_time": "2022-09-28T19:06:44.855Z"
   },
   {
    "duration": 5,
    "start_time": "2022-09-28T19:07:07.892Z"
   },
   {
    "duration": 112,
    "start_time": "2022-09-28T19:07:17.162Z"
   },
   {
    "duration": 5,
    "start_time": "2022-09-28T19:07:43.587Z"
   },
   {
    "duration": 5,
    "start_time": "2022-09-28T19:08:04.530Z"
   },
   {
    "duration": 1305,
    "start_time": "2022-09-28T19:09:08.285Z"
   },
   {
    "duration": 754,
    "start_time": "2022-09-28T19:09:09.592Z"
   },
   {
    "duration": 18,
    "start_time": "2022-09-28T19:09:10.347Z"
   },
   {
    "duration": 128,
    "start_time": "2022-09-28T19:09:10.366Z"
   },
   {
    "duration": 430,
    "start_time": "2022-09-28T19:09:10.497Z"
   },
   {
    "duration": 516,
    "start_time": "2022-09-28T19:09:10.929Z"
   },
   {
    "duration": 139,
    "start_time": "2022-09-28T19:09:11.447Z"
   },
   {
    "duration": 67,
    "start_time": "2022-09-28T19:09:11.588Z"
   },
   {
    "duration": 31,
    "start_time": "2022-09-28T19:09:11.657Z"
   },
   {
    "duration": 31,
    "start_time": "2022-09-28T19:09:11.690Z"
   },
   {
    "duration": 45,
    "start_time": "2022-09-28T19:09:11.723Z"
   },
   {
    "duration": 19,
    "start_time": "2022-09-28T19:09:11.770Z"
   },
   {
    "duration": 38,
    "start_time": "2022-09-28T19:09:11.791Z"
   },
   {
    "duration": 30,
    "start_time": "2022-09-28T19:09:11.833Z"
   },
   {
    "duration": 93,
    "start_time": "2022-09-28T19:09:11.865Z"
   },
   {
    "duration": 30,
    "start_time": "2022-09-28T19:09:11.959Z"
   },
   {
    "duration": 43,
    "start_time": "2022-09-28T19:09:11.991Z"
   },
   {
    "duration": 45,
    "start_time": "2022-09-28T19:09:12.036Z"
   },
   {
    "duration": 34,
    "start_time": "2022-09-28T19:09:12.082Z"
   },
   {
    "duration": 105,
    "start_time": "2022-09-28T19:09:12.118Z"
   },
   {
    "duration": 17,
    "start_time": "2022-09-28T19:09:12.224Z"
   },
   {
    "duration": 182,
    "start_time": "2022-09-28T19:09:12.242Z"
   },
   {
    "duration": 116,
    "start_time": "2022-09-28T19:09:12.427Z"
   },
   {
    "duration": 17,
    "start_time": "2022-09-28T19:09:12.545Z"
   },
   {
    "duration": 237,
    "start_time": "2022-09-28T19:09:12.564Z"
   },
   {
    "duration": 67,
    "start_time": "2022-09-28T19:09:12.803Z"
   },
   {
    "duration": 39,
    "start_time": "2022-09-28T19:09:12.871Z"
   },
   {
    "duration": 12,
    "start_time": "2022-09-28T19:09:12.912Z"
   },
   {
    "duration": 16,
    "start_time": "2022-09-28T19:09:12.926Z"
   },
   {
    "duration": 260,
    "start_time": "2022-09-28T19:09:12.944Z"
   },
   {
    "duration": 82,
    "start_time": "2022-09-28T19:09:13.206Z"
   },
   {
    "duration": 71,
    "start_time": "2022-09-28T19:09:13.290Z"
   },
   {
    "duration": 14,
    "start_time": "2022-09-28T19:09:13.363Z"
   },
   {
    "duration": 32,
    "start_time": "2022-09-28T19:09:13.379Z"
   },
   {
    "duration": 344,
    "start_time": "2022-09-28T19:09:13.413Z"
   },
   {
    "duration": 274,
    "start_time": "2022-09-28T19:09:13.759Z"
   },
   {
    "duration": 3,
    "start_time": "2022-09-28T19:09:14.034Z"
   },
   {
    "duration": 2152,
    "start_time": "2022-09-28T19:09:14.039Z"
   },
   {
    "duration": 14120,
    "start_time": "2022-09-28T19:09:16.192Z"
   },
   {
    "duration": 6,
    "start_time": "2022-09-28T19:09:30.313Z"
   },
   {
    "duration": 189,
    "start_time": "2022-09-28T19:09:30.323Z"
   },
   {
    "duration": 4,
    "start_time": "2022-09-28T19:09:42.933Z"
   },
   {
    "duration": 4,
    "start_time": "2022-09-28T19:10:14.119Z"
   },
   {
    "duration": 4,
    "start_time": "2022-09-28T19:10:21.682Z"
   },
   {
    "duration": 3,
    "start_time": "2022-09-28T19:16:16.691Z"
   },
   {
    "duration": 4,
    "start_time": "2022-09-28T19:16:54.639Z"
   },
   {
    "duration": 4,
    "start_time": "2022-09-28T19:17:48.729Z"
   },
   {
    "duration": 5,
    "start_time": "2022-09-28T19:18:06.864Z"
   },
   {
    "duration": 122,
    "start_time": "2022-09-28T19:25:01.695Z"
   },
   {
    "duration": 120,
    "start_time": "2022-09-28T19:25:06.999Z"
   },
   {
    "duration": 4,
    "start_time": "2022-09-28T19:26:16.195Z"
   },
   {
    "duration": 5,
    "start_time": "2022-09-28T19:26:22.065Z"
   },
   {
    "duration": 1480,
    "start_time": "2022-09-28T19:26:40.363Z"
   },
   {
    "duration": 819,
    "start_time": "2022-09-28T19:26:41.845Z"
   },
   {
    "duration": 19,
    "start_time": "2022-09-28T19:26:42.665Z"
   },
   {
    "duration": 165,
    "start_time": "2022-09-28T19:26:42.687Z"
   },
   {
    "duration": 525,
    "start_time": "2022-09-28T19:26:42.854Z"
   },
   {
    "duration": 616,
    "start_time": "2022-09-28T19:26:43.381Z"
   },
   {
    "duration": 116,
    "start_time": "2022-09-28T19:26:43.999Z"
   },
   {
    "duration": 31,
    "start_time": "2022-09-28T19:26:44.117Z"
   },
   {
    "duration": 33,
    "start_time": "2022-09-28T19:26:44.150Z"
   },
   {
    "duration": 40,
    "start_time": "2022-09-28T19:26:44.186Z"
   },
   {
    "duration": 32,
    "start_time": "2022-09-28T19:26:44.228Z"
   },
   {
    "duration": 23,
    "start_time": "2022-09-28T19:26:44.262Z"
   },
   {
    "duration": 49,
    "start_time": "2022-09-28T19:26:44.287Z"
   },
   {
    "duration": 29,
    "start_time": "2022-09-28T19:26:44.338Z"
   },
   {
    "duration": 105,
    "start_time": "2022-09-28T19:26:44.369Z"
   },
   {
    "duration": 50,
    "start_time": "2022-09-28T19:26:44.476Z"
   },
   {
    "duration": 55,
    "start_time": "2022-09-28T19:26:44.528Z"
   },
   {
    "duration": 57,
    "start_time": "2022-09-28T19:26:44.585Z"
   },
   {
    "duration": 42,
    "start_time": "2022-09-28T19:26:44.644Z"
   },
   {
    "duration": 118,
    "start_time": "2022-09-28T19:26:44.691Z"
   },
   {
    "duration": 18,
    "start_time": "2022-09-28T19:26:44.811Z"
   },
   {
    "duration": 174,
    "start_time": "2022-09-28T19:26:44.830Z"
   },
   {
    "duration": 119,
    "start_time": "2022-09-28T19:26:45.009Z"
   },
   {
    "duration": 17,
    "start_time": "2022-09-28T19:26:45.131Z"
   },
   {
    "duration": 269,
    "start_time": "2022-09-28T19:26:45.150Z"
   },
   {
    "duration": 65,
    "start_time": "2022-09-28T19:26:45.421Z"
   },
   {
    "duration": 35,
    "start_time": "2022-09-28T19:26:45.488Z"
   },
   {
    "duration": 15,
    "start_time": "2022-09-28T19:26:45.526Z"
   },
   {
    "duration": 20,
    "start_time": "2022-09-28T19:26:45.543Z"
   },
   {
    "duration": 299,
    "start_time": "2022-09-28T19:26:45.565Z"
   },
   {
    "duration": 86,
    "start_time": "2022-09-28T19:26:45.866Z"
   },
   {
    "duration": 65,
    "start_time": "2022-09-28T19:26:45.953Z"
   },
   {
    "duration": 14,
    "start_time": "2022-09-28T19:26:46.020Z"
   },
   {
    "duration": 20,
    "start_time": "2022-09-28T19:26:46.036Z"
   },
   {
    "duration": 397,
    "start_time": "2022-09-28T19:26:46.057Z"
   },
   {
    "duration": 290,
    "start_time": "2022-09-28T19:26:46.456Z"
   },
   {
    "duration": 2256,
    "start_time": "2022-09-28T19:26:46.748Z"
   },
   {
    "duration": 11414,
    "start_time": "2022-09-28T19:26:49.006Z"
   },
   {
    "duration": 188,
    "start_time": "2022-09-28T19:27:00.422Z"
   },
   {
    "duration": 12,
    "start_time": "2022-09-28T19:27:00.612Z"
   },
   {
    "duration": 50,
    "start_time": "2022-09-28T19:34:58.994Z"
   },
   {
    "duration": 21,
    "start_time": "2022-09-28T19:35:25.139Z"
   },
   {
    "duration": 119,
    "start_time": "2022-09-28T19:35:47.774Z"
   },
   {
    "duration": 4,
    "start_time": "2022-09-28T19:36:09.582Z"
   },
   {
    "duration": 68,
    "start_time": "2022-09-28T19:36:27.231Z"
   },
   {
    "duration": 1471,
    "start_time": "2022-09-28T19:40:59.829Z"
   },
   {
    "duration": 895,
    "start_time": "2022-09-28T19:41:01.302Z"
   },
   {
    "duration": 32,
    "start_time": "2022-09-28T19:41:02.198Z"
   },
   {
    "duration": 147,
    "start_time": "2022-09-28T19:41:02.232Z"
   },
   {
    "duration": 471,
    "start_time": "2022-09-28T19:41:02.381Z"
   },
   {
    "duration": 603,
    "start_time": "2022-09-28T19:41:02.855Z"
   },
   {
    "duration": 116,
    "start_time": "2022-09-28T19:41:03.460Z"
   },
   {
    "duration": 49,
    "start_time": "2022-09-28T19:41:03.578Z"
   },
   {
    "duration": 35,
    "start_time": "2022-09-28T19:41:03.629Z"
   },
   {
    "duration": 48,
    "start_time": "2022-09-28T19:41:03.665Z"
   },
   {
    "duration": 48,
    "start_time": "2022-09-28T19:41:03.715Z"
   },
   {
    "duration": 22,
    "start_time": "2022-09-28T19:41:03.764Z"
   },
   {
    "duration": 52,
    "start_time": "2022-09-28T19:41:03.788Z"
   },
   {
    "duration": 28,
    "start_time": "2022-09-28T19:41:03.843Z"
   },
   {
    "duration": 96,
    "start_time": "2022-09-28T19:41:03.872Z"
   },
   {
    "duration": 31,
    "start_time": "2022-09-28T19:41:03.969Z"
   },
   {
    "duration": 34,
    "start_time": "2022-09-28T19:41:04.001Z"
   },
   {
    "duration": 29,
    "start_time": "2022-09-28T19:41:04.036Z"
   },
   {
    "duration": 21,
    "start_time": "2022-09-28T19:41:04.066Z"
   },
   {
    "duration": 115,
    "start_time": "2022-09-28T19:41:04.109Z"
   },
   {
    "duration": 30,
    "start_time": "2022-09-28T19:41:04.226Z"
   },
   {
    "duration": 172,
    "start_time": "2022-09-28T19:41:04.257Z"
   },
   {
    "duration": 131,
    "start_time": "2022-09-28T19:41:04.432Z"
   },
   {
    "duration": 21,
    "start_time": "2022-09-28T19:41:04.565Z"
   },
   {
    "duration": 328,
    "start_time": "2022-09-28T19:41:04.588Z"
   },
   {
    "duration": 67,
    "start_time": "2022-09-28T19:41:04.917Z"
   },
   {
    "duration": 42,
    "start_time": "2022-09-28T19:41:04.987Z"
   },
   {
    "duration": 16,
    "start_time": "2022-09-28T19:41:05.030Z"
   },
   {
    "duration": 15,
    "start_time": "2022-09-28T19:41:05.048Z"
   },
   {
    "duration": 362,
    "start_time": "2022-09-28T19:41:05.065Z"
   },
   {
    "duration": 86,
    "start_time": "2022-09-28T19:41:05.428Z"
   },
   {
    "duration": 56,
    "start_time": "2022-09-28T19:41:05.517Z"
   },
   {
    "duration": 13,
    "start_time": "2022-09-28T19:41:05.574Z"
   },
   {
    "duration": 32,
    "start_time": "2022-09-28T19:41:05.588Z"
   },
   {
    "duration": 378,
    "start_time": "2022-09-28T19:41:05.622Z"
   },
   {
    "duration": 324,
    "start_time": "2022-09-28T19:41:06.002Z"
   },
   {
    "duration": 2219,
    "start_time": "2022-09-28T19:41:06.328Z"
   },
   {
    "duration": 2,
    "start_time": "2022-09-28T19:41:08.548Z"
   },
   {
    "duration": 6,
    "start_time": "2022-09-28T19:41:08.552Z"
   },
   {
    "duration": 8,
    "start_time": "2022-09-28T19:41:08.560Z"
   },
   {
    "duration": 105198,
    "start_time": "2022-09-28T19:41:08.571Z"
   },
   {
    "duration": 52,
    "start_time": "2022-09-28T19:43:40.351Z"
   },
   {
    "duration": 1891,
    "start_time": "2022-09-28T19:45:35.187Z"
   },
   {
    "duration": 42,
    "start_time": "2022-09-28T19:46:12.880Z"
   },
   {
    "duration": 5,
    "start_time": "2022-09-28T19:46:53.295Z"
   },
   {
    "duration": 1394,
    "start_time": "2022-09-28T20:04:35.039Z"
   },
   {
    "duration": 752,
    "start_time": "2022-09-28T20:04:36.435Z"
   },
   {
    "duration": 21,
    "start_time": "2022-09-28T20:04:37.189Z"
   },
   {
    "duration": 113,
    "start_time": "2022-09-28T20:04:37.212Z"
   },
   {
    "duration": 454,
    "start_time": "2022-09-28T20:04:37.326Z"
   },
   {
    "duration": 494,
    "start_time": "2022-09-28T20:04:37.782Z"
   },
   {
    "duration": 107,
    "start_time": "2022-09-28T20:04:38.278Z"
   },
   {
    "duration": 38,
    "start_time": "2022-09-28T20:04:38.387Z"
   },
   {
    "duration": 28,
    "start_time": "2022-09-28T20:04:38.427Z"
   },
   {
    "duration": 18,
    "start_time": "2022-09-28T20:04:38.459Z"
   },
   {
    "duration": 72,
    "start_time": "2022-09-28T20:04:38.479Z"
   },
   {
    "duration": 23,
    "start_time": "2022-09-28T20:04:38.552Z"
   },
   {
    "duration": 39,
    "start_time": "2022-09-28T20:04:38.577Z"
   },
   {
    "duration": 32,
    "start_time": "2022-09-28T20:04:38.618Z"
   },
   {
    "duration": 83,
    "start_time": "2022-09-28T20:04:38.651Z"
   },
   {
    "duration": 30,
    "start_time": "2022-09-28T20:04:38.735Z"
   },
   {
    "duration": 22,
    "start_time": "2022-09-28T20:04:38.767Z"
   },
   {
    "duration": 36,
    "start_time": "2022-09-28T20:04:38.790Z"
   },
   {
    "duration": 20,
    "start_time": "2022-09-28T20:04:38.828Z"
   },
   {
    "duration": 111,
    "start_time": "2022-09-28T20:04:38.849Z"
   },
   {
    "duration": 17,
    "start_time": "2022-09-28T20:04:38.961Z"
   },
   {
    "duration": 160,
    "start_time": "2022-09-28T20:04:38.980Z"
   },
   {
    "duration": 127,
    "start_time": "2022-09-28T20:04:39.142Z"
   },
   {
    "duration": 17,
    "start_time": "2022-09-28T20:04:39.271Z"
   },
   {
    "duration": 231,
    "start_time": "2022-09-28T20:04:39.290Z"
   },
   {
    "duration": 66,
    "start_time": "2022-09-28T20:04:39.522Z"
   },
   {
    "duration": 45,
    "start_time": "2022-09-28T20:04:39.590Z"
   },
   {
    "duration": 16,
    "start_time": "2022-09-28T20:04:39.639Z"
   },
   {
    "duration": 19,
    "start_time": "2022-09-28T20:04:39.656Z"
   },
   {
    "duration": 327,
    "start_time": "2022-09-28T20:04:39.677Z"
   },
   {
    "duration": 78,
    "start_time": "2022-09-28T20:04:40.006Z"
   },
   {
    "duration": 66,
    "start_time": "2022-09-28T20:04:40.085Z"
   },
   {
    "duration": 12,
    "start_time": "2022-09-28T20:04:40.153Z"
   },
   {
    "duration": 12,
    "start_time": "2022-09-28T20:04:40.166Z"
   },
   {
    "duration": 349,
    "start_time": "2022-09-28T20:04:40.180Z"
   },
   {
    "duration": 259,
    "start_time": "2022-09-28T20:04:40.531Z"
   },
   {
    "duration": 2058,
    "start_time": "2022-09-28T20:04:40.792Z"
   },
   {
    "duration": 2,
    "start_time": "2022-09-28T20:04:42.852Z"
   },
   {
    "duration": 45,
    "start_time": "2022-09-28T20:04:42.855Z"
   },
   {
    "duration": 44,
    "start_time": "2022-09-28T20:04:42.901Z"
   },
   {
    "duration": 23,
    "start_time": "2022-09-28T20:04:42.947Z"
   },
   {
    "duration": 6,
    "start_time": "2022-09-28T20:04:42.971Z"
   },
   {
    "duration": 8,
    "start_time": "2022-09-28T20:04:42.979Z"
   },
   {
    "duration": 6,
    "start_time": "2022-09-28T20:04:42.988Z"
   },
   {
    "duration": 5,
    "start_time": "2022-09-28T20:04:42.995Z"
   },
   {
    "duration": 1085033,
    "start_time": "2022-09-28T20:07:17.278Z"
   },
   {
    "duration": 688,
    "start_time": "2022-09-28T20:28:12.721Z"
   },
   {
    "duration": 5,
    "start_time": "2022-09-28T20:28:52.498Z"
   },
   {
    "duration": 1360,
    "start_time": "2022-09-28T20:30:31.998Z"
   },
   {
    "duration": 797,
    "start_time": "2022-09-28T20:30:33.360Z"
   },
   {
    "duration": 17,
    "start_time": "2022-09-28T20:30:34.159Z"
   },
   {
    "duration": 134,
    "start_time": "2022-09-28T20:30:34.178Z"
   },
   {
    "duration": 486,
    "start_time": "2022-09-28T20:30:34.314Z"
   },
   {
    "duration": 553,
    "start_time": "2022-09-28T20:30:34.802Z"
   },
   {
    "duration": 115,
    "start_time": "2022-09-28T20:30:35.357Z"
   },
   {
    "duration": 43,
    "start_time": "2022-09-28T20:30:35.473Z"
   },
   {
    "duration": 37,
    "start_time": "2022-09-28T20:30:35.518Z"
   },
   {
    "duration": 23,
    "start_time": "2022-09-28T20:30:35.558Z"
   },
   {
    "duration": 64,
    "start_time": "2022-09-28T20:30:35.582Z"
   },
   {
    "duration": 22,
    "start_time": "2022-09-28T20:30:35.647Z"
   },
   {
    "duration": 33,
    "start_time": "2022-09-28T20:30:35.670Z"
   },
   {
    "duration": 27,
    "start_time": "2022-09-28T20:30:35.708Z"
   },
   {
    "duration": 85,
    "start_time": "2022-09-28T20:30:35.736Z"
   },
   {
    "duration": 29,
    "start_time": "2022-09-28T20:30:35.822Z"
   },
   {
    "duration": 19,
    "start_time": "2022-09-28T20:30:35.853Z"
   },
   {
    "duration": 44,
    "start_time": "2022-09-28T20:30:35.874Z"
   },
   {
    "duration": 21,
    "start_time": "2022-09-28T20:30:35.920Z"
   },
   {
    "duration": 104,
    "start_time": "2022-09-28T20:30:35.943Z"
   },
   {
    "duration": 17,
    "start_time": "2022-09-28T20:30:36.049Z"
   },
   {
    "duration": 173,
    "start_time": "2022-09-28T20:30:36.068Z"
   },
   {
    "duration": 122,
    "start_time": "2022-09-28T20:30:36.242Z"
   },
   {
    "duration": 15,
    "start_time": "2022-09-28T20:30:36.366Z"
   },
   {
    "duration": 265,
    "start_time": "2022-09-28T20:30:36.383Z"
   },
   {
    "duration": 72,
    "start_time": "2022-09-28T20:30:36.650Z"
   },
   {
    "duration": 24,
    "start_time": "2022-09-28T20:30:36.724Z"
   },
   {
    "duration": 12,
    "start_time": "2022-09-28T20:30:36.752Z"
   },
   {
    "duration": 14,
    "start_time": "2022-09-28T20:30:36.765Z"
   },
   {
    "duration": 335,
    "start_time": "2022-09-28T20:30:36.780Z"
   },
   {
    "duration": 80,
    "start_time": "2022-09-28T20:30:37.117Z"
   },
   {
    "duration": 62,
    "start_time": "2022-09-28T20:30:37.199Z"
   },
   {
    "duration": 13,
    "start_time": "2022-09-28T20:30:37.263Z"
   },
   {
    "duration": 35,
    "start_time": "2022-09-28T20:30:37.278Z"
   },
   {
    "duration": 366,
    "start_time": "2022-09-28T20:30:37.314Z"
   },
   {
    "duration": 278,
    "start_time": "2022-09-28T20:30:37.682Z"
   },
   {
    "duration": 2229,
    "start_time": "2022-09-28T20:30:37.962Z"
   },
   {
    "duration": 2,
    "start_time": "2022-09-28T20:30:40.193Z"
   },
   {
    "duration": 4,
    "start_time": "2022-09-28T20:30:40.196Z"
   },
   {
    "duration": 5,
    "start_time": "2022-09-28T20:30:40.202Z"
   },
   {
    "duration": 22,
    "start_time": "2022-09-28T20:30:40.208Z"
   },
   {
    "duration": 4,
    "start_time": "2022-09-28T20:30:40.232Z"
   },
   {
    "duration": 3,
    "start_time": "2022-09-28T20:30:40.237Z"
   },
   {
    "duration": 9,
    "start_time": "2022-09-28T20:30:40.242Z"
   },
   {
    "duration": 1238,
    "start_time": "2022-09-28T20:47:56.856Z"
   },
   {
    "duration": 752,
    "start_time": "2022-09-28T20:47:58.096Z"
   },
   {
    "duration": 17,
    "start_time": "2022-09-28T20:47:58.849Z"
   },
   {
    "duration": 126,
    "start_time": "2022-09-28T20:47:58.869Z"
   },
   {
    "duration": 423,
    "start_time": "2022-09-28T20:47:58.996Z"
   },
   {
    "duration": 519,
    "start_time": "2022-09-28T20:47:59.420Z"
   },
   {
    "duration": 104,
    "start_time": "2022-09-28T20:47:59.940Z"
   },
   {
    "duration": 28,
    "start_time": "2022-09-28T20:48:00.046Z"
   },
   {
    "duration": 41,
    "start_time": "2022-09-28T20:48:00.076Z"
   },
   {
    "duration": 18,
    "start_time": "2022-09-28T20:48:00.119Z"
   },
   {
    "duration": 37,
    "start_time": "2022-09-28T20:48:00.138Z"
   },
   {
    "duration": 33,
    "start_time": "2022-09-28T20:48:00.176Z"
   },
   {
    "duration": 30,
    "start_time": "2022-09-28T20:48:00.211Z"
   },
   {
    "duration": 38,
    "start_time": "2022-09-28T20:48:00.243Z"
   },
   {
    "duration": 79,
    "start_time": "2022-09-28T20:48:00.282Z"
   },
   {
    "duration": 30,
    "start_time": "2022-09-28T20:48:00.363Z"
   },
   {
    "duration": 41,
    "start_time": "2022-09-28T20:48:00.395Z"
   },
   {
    "duration": 54,
    "start_time": "2022-09-28T20:48:00.438Z"
   },
   {
    "duration": 36,
    "start_time": "2022-09-28T20:48:00.494Z"
   },
   {
    "duration": 164,
    "start_time": "2022-09-28T20:48:00.531Z"
   },
   {
    "duration": 21,
    "start_time": "2022-09-28T20:48:00.697Z"
   },
   {
    "duration": 149,
    "start_time": "2022-09-28T20:48:00.720Z"
   },
   {
    "duration": 115,
    "start_time": "2022-09-28T20:48:00.870Z"
   },
   {
    "duration": 26,
    "start_time": "2022-09-28T20:48:00.986Z"
   },
   {
    "duration": 244,
    "start_time": "2022-09-28T20:48:01.014Z"
   },
   {
    "duration": 77,
    "start_time": "2022-09-28T20:48:01.259Z"
   },
   {
    "duration": 20,
    "start_time": "2022-09-28T20:48:01.338Z"
   },
   {
    "duration": 17,
    "start_time": "2022-09-28T20:48:01.360Z"
   },
   {
    "duration": 34,
    "start_time": "2022-09-28T20:48:01.379Z"
   },
   {
    "duration": 317,
    "start_time": "2022-09-28T20:48:01.415Z"
   },
   {
    "duration": 89,
    "start_time": "2022-09-28T20:48:01.733Z"
   },
   {
    "duration": 52,
    "start_time": "2022-09-28T20:48:01.823Z"
   },
   {
    "duration": 12,
    "start_time": "2022-09-28T20:48:01.877Z"
   },
   {
    "duration": 29,
    "start_time": "2022-09-28T20:48:01.890Z"
   },
   {
    "duration": 367,
    "start_time": "2022-09-28T20:48:01.921Z"
   },
   {
    "duration": 276,
    "start_time": "2022-09-28T20:48:02.290Z"
   },
   {
    "duration": 2057,
    "start_time": "2022-09-28T20:48:02.567Z"
   },
   {
    "duration": 3,
    "start_time": "2022-09-28T20:48:04.626Z"
   },
   {
    "duration": 14,
    "start_time": "2022-09-28T20:48:04.631Z"
   },
   {
    "duration": 7,
    "start_time": "2022-09-28T20:48:04.646Z"
   },
   {
    "duration": 17,
    "start_time": "2022-09-28T20:48:04.655Z"
   },
   {
    "duration": 5,
    "start_time": "2022-09-28T20:48:04.673Z"
   },
   {
    "duration": 6,
    "start_time": "2022-09-28T20:48:04.679Z"
   },
   {
    "duration": 26,
    "start_time": "2022-09-28T20:48:04.687Z"
   },
   {
    "duration": 642181,
    "start_time": "2022-09-28T20:48:04.714Z"
   },
   {
    "duration": 3,
    "start_time": "2022-09-28T20:58:46.897Z"
   },
   {
    "duration": 12,
    "start_time": "2022-09-28T20:58:46.902Z"
   },
   {
    "duration": 7,
    "start_time": "2022-09-28T20:58:46.915Z"
   },
   {
    "duration": 35,
    "start_time": "2022-09-28T21:05:20.882Z"
   },
   {
    "duration": 8600,
    "start_time": "2022-09-28T21:06:01.101Z"
   },
   {
    "duration": 100,
    "start_time": "2022-09-28T21:06:52.582Z"
   },
   {
    "duration": 4,
    "start_time": "2022-09-28T21:07:22.201Z"
   },
   {
    "duration": 1299,
    "start_time": "2022-09-28T21:15:52.060Z"
   },
   {
    "duration": 791,
    "start_time": "2022-09-28T21:15:53.361Z"
   },
   {
    "duration": 17,
    "start_time": "2022-09-28T21:15:54.154Z"
   },
   {
    "duration": 164,
    "start_time": "2022-09-28T21:15:54.173Z"
   },
   {
    "duration": 489,
    "start_time": "2022-09-28T21:15:54.339Z"
   },
   {
    "duration": 499,
    "start_time": "2022-09-28T21:15:54.830Z"
   },
   {
    "duration": 103,
    "start_time": "2022-09-28T21:15:55.330Z"
   },
   {
    "duration": 31,
    "start_time": "2022-09-28T21:15:55.435Z"
   },
   {
    "duration": 41,
    "start_time": "2022-09-28T21:15:55.468Z"
   },
   {
    "duration": 18,
    "start_time": "2022-09-28T21:15:55.512Z"
   },
   {
    "duration": 31,
    "start_time": "2022-09-28T21:15:55.531Z"
   },
   {
    "duration": 33,
    "start_time": "2022-09-28T21:15:55.563Z"
   },
   {
    "duration": 32,
    "start_time": "2022-09-28T21:15:55.597Z"
   },
   {
    "duration": 27,
    "start_time": "2022-09-28T21:15:55.631Z"
   },
   {
    "duration": 85,
    "start_time": "2022-09-28T21:15:55.660Z"
   },
   {
    "duration": 29,
    "start_time": "2022-09-28T21:15:55.746Z"
   },
   {
    "duration": 18,
    "start_time": "2022-09-28T21:15:55.776Z"
   },
   {
    "duration": 28,
    "start_time": "2022-09-28T21:15:55.809Z"
   },
   {
    "duration": 22,
    "start_time": "2022-09-28T21:15:55.839Z"
   },
   {
    "duration": 107,
    "start_time": "2022-09-28T21:15:55.862Z"
   },
   {
    "duration": 16,
    "start_time": "2022-09-28T21:15:55.971Z"
   },
   {
    "duration": 157,
    "start_time": "2022-09-28T21:15:55.988Z"
   },
   {
    "duration": 120,
    "start_time": "2022-09-28T21:15:56.146Z"
   },
   {
    "duration": 17,
    "start_time": "2022-09-28T21:15:56.268Z"
   },
   {
    "duration": 236,
    "start_time": "2022-09-28T21:15:56.287Z"
   },
   {
    "duration": 68,
    "start_time": "2022-09-28T21:15:56.524Z"
   },
   {
    "duration": 34,
    "start_time": "2022-09-28T21:15:56.594Z"
   },
   {
    "duration": 39,
    "start_time": "2022-09-28T21:15:56.632Z"
   },
   {
    "duration": 25,
    "start_time": "2022-09-28T21:15:56.672Z"
   },
   {
    "duration": 288,
    "start_time": "2022-09-28T21:15:56.698Z"
   },
   {
    "duration": 87,
    "start_time": "2022-09-28T21:15:56.988Z"
   },
   {
    "duration": 58,
    "start_time": "2022-09-28T21:15:57.076Z"
   },
   {
    "duration": 13,
    "start_time": "2022-09-28T21:15:57.136Z"
   },
   {
    "duration": 13,
    "start_time": "2022-09-28T21:15:57.151Z"
   },
   {
    "duration": 369,
    "start_time": "2022-09-28T21:15:57.166Z"
   },
   {
    "duration": 258,
    "start_time": "2022-09-28T21:15:57.536Z"
   },
   {
    "duration": 2063,
    "start_time": "2022-09-28T21:15:57.795Z"
   },
   {
    "duration": 3,
    "start_time": "2022-09-28T21:15:59.859Z"
   },
   {
    "duration": 6,
    "start_time": "2022-09-28T21:15:59.863Z"
   },
   {
    "duration": 6,
    "start_time": "2022-09-28T21:15:59.870Z"
   },
   {
    "duration": 6,
    "start_time": "2022-09-28T21:15:59.877Z"
   },
   {
    "duration": 4,
    "start_time": "2022-09-28T21:15:59.884Z"
   },
   {
    "duration": 5,
    "start_time": "2022-09-28T21:15:59.889Z"
   },
   {
    "duration": 4,
    "start_time": "2022-09-28T21:15:59.895Z"
   },
   {
    "duration": 2,
    "start_time": "2022-09-28T21:15:59.909Z"
   },
   {
    "duration": 5,
    "start_time": "2022-09-28T21:15:59.912Z"
   },
   {
    "duration": 5,
    "start_time": "2022-09-28T21:15:59.918Z"
   },
   {
    "duration": 5,
    "start_time": "2022-09-28T21:15:59.924Z"
   },
   {
    "duration": 4,
    "start_time": "2022-09-28T21:15:59.931Z"
   },
   {
    "duration": 4,
    "start_time": "2022-09-28T21:15:59.936Z"
   },
   {
    "duration": 5,
    "start_time": "2022-09-28T21:15:59.941Z"
   },
   {
    "duration": 1637,
    "start_time": "2022-09-29T12:00:50.242Z"
   },
   {
    "duration": 1095,
    "start_time": "2022-09-29T12:00:51.881Z"
   },
   {
    "duration": 18,
    "start_time": "2022-09-29T12:00:52.978Z"
   },
   {
    "duration": 143,
    "start_time": "2022-09-29T12:00:52.998Z"
   },
   {
    "duration": 445,
    "start_time": "2022-09-29T12:00:53.143Z"
   },
   {
    "duration": 547,
    "start_time": "2022-09-29T12:00:53.589Z"
   },
   {
    "duration": 129,
    "start_time": "2022-09-29T12:00:54.138Z"
   },
   {
    "duration": 32,
    "start_time": "2022-09-29T12:00:54.268Z"
   },
   {
    "duration": 47,
    "start_time": "2022-09-29T12:00:54.302Z"
   },
   {
    "duration": 19,
    "start_time": "2022-09-29T12:00:54.351Z"
   },
   {
    "duration": 37,
    "start_time": "2022-09-29T12:00:54.372Z"
   },
   {
    "duration": 32,
    "start_time": "2022-09-29T12:00:54.411Z"
   },
   {
    "duration": 70,
    "start_time": "2022-09-29T12:00:54.444Z"
   },
   {
    "duration": 58,
    "start_time": "2022-09-29T12:00:54.515Z"
   },
   {
    "duration": 75,
    "start_time": "2022-09-29T12:00:54.575Z"
   },
   {
    "duration": 31,
    "start_time": "2022-09-29T12:00:54.652Z"
   },
   {
    "duration": 29,
    "start_time": "2022-09-29T12:00:54.685Z"
   },
   {
    "duration": 41,
    "start_time": "2022-09-29T12:00:54.715Z"
   },
   {
    "duration": 23,
    "start_time": "2022-09-29T12:00:54.758Z"
   },
   {
    "duration": 118,
    "start_time": "2022-09-29T12:00:54.783Z"
   },
   {
    "duration": 30,
    "start_time": "2022-09-29T12:00:54.903Z"
   },
   {
    "duration": 157,
    "start_time": "2022-09-29T12:00:54.935Z"
   },
   {
    "duration": 120,
    "start_time": "2022-09-29T12:00:55.094Z"
   },
   {
    "duration": 27,
    "start_time": "2022-09-29T12:00:55.216Z"
   },
   {
    "duration": 248,
    "start_time": "2022-09-29T12:00:55.245Z"
   },
   {
    "duration": 81,
    "start_time": "2022-09-29T12:00:55.495Z"
   },
   {
    "duration": 19,
    "start_time": "2022-09-29T12:00:55.578Z"
   },
   {
    "duration": 13,
    "start_time": "2022-09-29T12:00:55.601Z"
   },
   {
    "duration": 30,
    "start_time": "2022-09-29T12:00:55.616Z"
   },
   {
    "duration": 370,
    "start_time": "2022-09-29T12:00:55.648Z"
   },
   {
    "duration": 84,
    "start_time": "2022-09-29T12:00:56.019Z"
   },
   {
    "duration": 58,
    "start_time": "2022-09-29T12:00:56.106Z"
   },
   {
    "duration": 14,
    "start_time": "2022-09-29T12:00:56.166Z"
   },
   {
    "duration": 44,
    "start_time": "2022-09-29T12:00:56.184Z"
   },
   {
    "duration": 494,
    "start_time": "2022-09-29T12:00:56.230Z"
   },
   {
    "duration": 340,
    "start_time": "2022-09-29T12:00:56.726Z"
   },
   {
    "duration": 2493,
    "start_time": "2022-09-29T12:00:57.067Z"
   },
   {
    "duration": 2,
    "start_time": "2022-09-29T12:00:59.562Z"
   },
   {
    "duration": 11,
    "start_time": "2022-09-29T12:00:59.565Z"
   },
   {
    "duration": 8,
    "start_time": "2022-09-29T12:00:59.578Z"
   },
   {
    "duration": 5,
    "start_time": "2022-09-29T12:00:59.588Z"
   },
   {
    "duration": 5,
    "start_time": "2022-09-29T12:00:59.594Z"
   },
   {
    "duration": 10,
    "start_time": "2022-09-29T12:00:59.601Z"
   },
   {
    "duration": 5,
    "start_time": "2022-09-29T12:00:59.613Z"
   },
   {
    "duration": 6,
    "start_time": "2022-09-29T12:00:59.620Z"
   },
   {
    "duration": 25,
    "start_time": "2022-09-29T12:00:59.628Z"
   },
   {
    "duration": 11,
    "start_time": "2022-09-29T12:00:59.655Z"
   },
   {
    "duration": 12,
    "start_time": "2022-09-29T12:00:59.667Z"
   },
   {
    "duration": 13,
    "start_time": "2022-09-29T12:00:59.681Z"
   },
   {
    "duration": 7,
    "start_time": "2022-09-29T12:00:59.696Z"
   },
   {
    "duration": 8,
    "start_time": "2022-09-29T12:00:59.705Z"
   },
   {
    "duration": 124,
    "start_time": "2022-09-29T12:00:59.715Z"
   },
   {
    "duration": 1335,
    "start_time": "2022-09-29T12:06:12.301Z"
   },
   {
    "duration": 768,
    "start_time": "2022-09-29T12:06:13.637Z"
   },
   {
    "duration": 18,
    "start_time": "2022-09-29T12:06:14.407Z"
   },
   {
    "duration": 142,
    "start_time": "2022-09-29T12:06:14.427Z"
   },
   {
    "duration": 453,
    "start_time": "2022-09-29T12:06:14.570Z"
   },
   {
    "duration": 561,
    "start_time": "2022-09-29T12:06:15.025Z"
   },
   {
    "duration": 118,
    "start_time": "2022-09-29T12:06:15.587Z"
   },
   {
    "duration": 41,
    "start_time": "2022-09-29T12:06:15.707Z"
   },
   {
    "duration": 30,
    "start_time": "2022-09-29T12:06:15.750Z"
   },
   {
    "duration": 20,
    "start_time": "2022-09-29T12:06:15.783Z"
   },
   {
    "duration": 50,
    "start_time": "2022-09-29T12:06:15.804Z"
   },
   {
    "duration": 30,
    "start_time": "2022-09-29T12:06:15.856Z"
   },
   {
    "duration": 36,
    "start_time": "2022-09-29T12:06:15.888Z"
   },
   {
    "duration": 40,
    "start_time": "2022-09-29T12:06:15.926Z"
   },
   {
    "duration": 85,
    "start_time": "2022-09-29T12:06:15.968Z"
   },
   {
    "duration": 30,
    "start_time": "2022-09-29T12:06:16.055Z"
   },
   {
    "duration": 23,
    "start_time": "2022-09-29T12:06:16.087Z"
   },
   {
    "duration": 37,
    "start_time": "2022-09-29T12:06:16.112Z"
   },
   {
    "duration": 28,
    "start_time": "2022-09-29T12:06:16.151Z"
   },
   {
    "duration": 143,
    "start_time": "2022-09-29T12:06:16.181Z"
   },
   {
    "duration": 20,
    "start_time": "2022-09-29T12:06:16.334Z"
   },
   {
    "duration": 171,
    "start_time": "2022-09-29T12:06:16.356Z"
   },
   {
    "duration": 117,
    "start_time": "2022-09-29T12:06:16.529Z"
   },
   {
    "duration": 16,
    "start_time": "2022-09-29T12:06:16.648Z"
   },
   {
    "duration": 279,
    "start_time": "2022-09-29T12:06:16.666Z"
   },
   {
    "duration": 67,
    "start_time": "2022-09-29T12:06:16.947Z"
   },
   {
    "duration": 29,
    "start_time": "2022-09-29T12:06:17.015Z"
   },
   {
    "duration": 14,
    "start_time": "2022-09-29T12:06:17.047Z"
   },
   {
    "duration": 17,
    "start_time": "2022-09-29T12:06:17.063Z"
   },
   {
    "duration": 360,
    "start_time": "2022-09-29T12:06:17.081Z"
   },
   {
    "duration": 80,
    "start_time": "2022-09-29T12:06:17.443Z"
   },
   {
    "duration": 48,
    "start_time": "2022-09-29T12:06:17.533Z"
   },
   {
    "duration": 12,
    "start_time": "2022-09-29T12:06:17.582Z"
   },
   {
    "duration": 11,
    "start_time": "2022-09-29T12:06:17.596Z"
   },
   {
    "duration": 474,
    "start_time": "2022-09-29T12:06:17.608Z"
   },
   {
    "duration": 425,
    "start_time": "2022-09-29T12:06:18.084Z"
   },
   {
    "duration": 2484,
    "start_time": "2022-09-29T12:06:18.511Z"
   },
   {
    "duration": 2,
    "start_time": "2022-09-29T12:06:20.997Z"
   },
   {
    "duration": 18,
    "start_time": "2022-09-29T12:06:21.001Z"
   },
   {
    "duration": 14,
    "start_time": "2022-09-29T12:06:21.020Z"
   },
   {
    "duration": 13,
    "start_time": "2022-09-29T12:06:21.036Z"
   },
   {
    "duration": 19,
    "start_time": "2022-09-29T12:06:21.050Z"
   },
   {
    "duration": 6,
    "start_time": "2022-09-29T12:06:21.071Z"
   },
   {
    "duration": 14,
    "start_time": "2022-09-29T12:06:21.079Z"
   },
   {
    "duration": 9,
    "start_time": "2022-09-29T12:06:21.095Z"
   },
   {
    "duration": 11,
    "start_time": "2022-09-29T12:06:21.105Z"
   },
   {
    "duration": 14,
    "start_time": "2022-09-29T12:06:21.118Z"
   },
   {
    "duration": 10,
    "start_time": "2022-09-29T12:06:21.133Z"
   },
   {
    "duration": 8,
    "start_time": "2022-09-29T12:06:21.145Z"
   },
   {
    "duration": 7,
    "start_time": "2022-09-29T12:06:21.155Z"
   },
   {
    "duration": 14,
    "start_time": "2022-09-29T12:06:21.163Z"
   },
   {
    "duration": 201363,
    "start_time": "2022-09-29T12:06:21.178Z"
   },
   {
    "duration": 8564,
    "start_time": "2022-09-29T12:14:34.088Z"
   },
   {
    "duration": 312,
    "start_time": "2022-09-29T12:15:51.223Z"
   },
   {
    "duration": 4,
    "start_time": "2022-09-29T12:16:04.689Z"
   },
   {
    "duration": 5,
    "start_time": "2022-09-29T12:16:17.147Z"
   },
   {
    "duration": 208734,
    "start_time": "2022-09-29T12:18:05.605Z"
   },
   {
    "duration": 1298,
    "start_time": "2022-09-29T13:14:50.166Z"
   },
   {
    "duration": 796,
    "start_time": "2022-09-29T13:14:51.466Z"
   },
   {
    "duration": 18,
    "start_time": "2022-09-29T13:14:52.264Z"
   },
   {
    "duration": 147,
    "start_time": "2022-09-29T13:14:52.285Z"
   },
   {
    "duration": 471,
    "start_time": "2022-09-29T13:14:52.434Z"
   },
   {
    "duration": 578,
    "start_time": "2022-09-29T13:14:52.907Z"
   },
   {
    "duration": 131,
    "start_time": "2022-09-29T13:14:53.487Z"
   },
   {
    "duration": 39,
    "start_time": "2022-09-29T13:14:53.620Z"
   },
   {
    "duration": 28,
    "start_time": "2022-09-29T13:14:53.662Z"
   },
   {
    "duration": 41,
    "start_time": "2022-09-29T13:14:53.694Z"
   },
   {
    "duration": 32,
    "start_time": "2022-09-29T13:14:53.736Z"
   },
   {
    "duration": 22,
    "start_time": "2022-09-29T13:14:53.770Z"
   },
   {
    "duration": 48,
    "start_time": "2022-09-29T13:14:53.794Z"
   },
   {
    "duration": 33,
    "start_time": "2022-09-29T13:14:53.843Z"
   },
   {
    "duration": 87,
    "start_time": "2022-09-29T13:14:53.877Z"
   },
   {
    "duration": 32,
    "start_time": "2022-09-29T13:14:53.966Z"
   },
   {
    "duration": 24,
    "start_time": "2022-09-29T13:14:54.000Z"
   },
   {
    "duration": 51,
    "start_time": "2022-09-29T13:14:54.033Z"
   },
   {
    "duration": 49,
    "start_time": "2022-09-29T13:14:54.085Z"
   },
   {
    "duration": 142,
    "start_time": "2022-09-29T13:14:54.135Z"
   },
   {
    "duration": 16,
    "start_time": "2022-09-29T13:14:54.278Z"
   },
   {
    "duration": 157,
    "start_time": "2022-09-29T13:14:54.296Z"
   },
   {
    "duration": 124,
    "start_time": "2022-09-29T13:14:54.454Z"
   },
   {
    "duration": 17,
    "start_time": "2022-09-29T13:14:54.579Z"
   },
   {
    "duration": 257,
    "start_time": "2022-09-29T13:14:54.597Z"
   },
   {
    "duration": 67,
    "start_time": "2022-09-29T13:14:54.856Z"
   },
   {
    "duration": 20,
    "start_time": "2022-09-29T13:14:54.933Z"
   },
   {
    "duration": 12,
    "start_time": "2022-09-29T13:14:54.957Z"
   },
   {
    "duration": 43,
    "start_time": "2022-09-29T13:14:54.971Z"
   },
   {
    "duration": 324,
    "start_time": "2022-09-29T13:14:55.016Z"
   },
   {
    "duration": 91,
    "start_time": "2022-09-29T13:14:55.342Z"
   },
   {
    "duration": 51,
    "start_time": "2022-09-29T13:14:55.436Z"
   },
   {
    "duration": 12,
    "start_time": "2022-09-29T13:14:55.488Z"
   },
   {
    "duration": 31,
    "start_time": "2022-09-29T13:14:55.502Z"
   },
   {
    "duration": 428,
    "start_time": "2022-09-29T13:14:55.535Z"
   },
   {
    "duration": 414,
    "start_time": "2022-09-29T13:14:55.965Z"
   },
   {
    "duration": 2519,
    "start_time": "2022-09-29T13:14:56.381Z"
   },
   {
    "duration": 2,
    "start_time": "2022-09-29T13:14:58.902Z"
   },
   {
    "duration": 16,
    "start_time": "2022-09-29T13:14:58.905Z"
   },
   {
    "duration": 12,
    "start_time": "2022-09-29T13:14:58.922Z"
   },
   {
    "duration": 13,
    "start_time": "2022-09-29T13:14:58.935Z"
   },
   {
    "duration": 18,
    "start_time": "2022-09-29T13:14:58.950Z"
   },
   {
    "duration": 23,
    "start_time": "2022-09-29T13:14:58.970Z"
   },
   {
    "duration": 38,
    "start_time": "2022-09-29T13:14:58.994Z"
   },
   {
    "duration": 25,
    "start_time": "2022-09-29T13:14:59.034Z"
   },
   {
    "duration": 16,
    "start_time": "2022-09-29T13:14:59.061Z"
   },
   {
    "duration": 9,
    "start_time": "2022-09-29T13:14:59.078Z"
   },
   {
    "duration": 31,
    "start_time": "2022-09-29T13:14:59.088Z"
   },
   {
    "duration": 19,
    "start_time": "2022-09-29T13:14:59.121Z"
   },
   {
    "duration": 13,
    "start_time": "2022-09-29T13:14:59.141Z"
   },
   {
    "duration": 8,
    "start_time": "2022-09-29T13:14:59.156Z"
   },
   {
    "duration": 6,
    "start_time": "2022-09-29T13:14:59.166Z"
   },
   {
    "duration": 9,
    "start_time": "2022-09-29T13:14:59.173Z"
   },
   {
    "duration": 12,
    "start_time": "2022-09-29T13:14:59.183Z"
   },
   {
    "duration": 8,
    "start_time": "2022-09-29T13:14:59.196Z"
   },
   {
    "duration": 1375,
    "start_time": "2022-09-29T13:15:36.058Z"
   },
   {
    "duration": 791,
    "start_time": "2022-09-29T13:15:37.435Z"
   },
   {
    "duration": 18,
    "start_time": "2022-09-29T13:15:38.228Z"
   },
   {
    "duration": 138,
    "start_time": "2022-09-29T13:15:38.248Z"
   },
   {
    "duration": 458,
    "start_time": "2022-09-29T13:15:38.388Z"
   },
   {
    "duration": 542,
    "start_time": "2022-09-29T13:15:38.848Z"
   },
   {
    "duration": 125,
    "start_time": "2022-09-29T13:15:39.392Z"
   },
   {
    "duration": 39,
    "start_time": "2022-09-29T13:15:39.518Z"
   },
   {
    "duration": 55,
    "start_time": "2022-09-29T13:15:39.558Z"
   },
   {
    "duration": 22,
    "start_time": "2022-09-29T13:15:39.615Z"
   },
   {
    "duration": 37,
    "start_time": "2022-09-29T13:15:39.639Z"
   },
   {
    "duration": 52,
    "start_time": "2022-09-29T13:15:39.678Z"
   },
   {
    "duration": 55,
    "start_time": "2022-09-29T13:15:39.732Z"
   },
   {
    "duration": 51,
    "start_time": "2022-09-29T13:15:39.789Z"
   },
   {
    "duration": 75,
    "start_time": "2022-09-29T13:15:39.842Z"
   },
   {
    "duration": 39,
    "start_time": "2022-09-29T13:15:39.919Z"
   },
   {
    "duration": 22,
    "start_time": "2022-09-29T13:15:39.960Z"
   },
   {
    "duration": 29,
    "start_time": "2022-09-29T13:15:39.983Z"
   },
   {
    "duration": 35,
    "start_time": "2022-09-29T13:15:40.014Z"
   },
   {
    "duration": 126,
    "start_time": "2022-09-29T13:15:40.051Z"
   },
   {
    "duration": 21,
    "start_time": "2022-09-29T13:15:40.179Z"
   },
   {
    "duration": 158,
    "start_time": "2022-09-29T13:15:40.202Z"
   },
   {
    "duration": 128,
    "start_time": "2022-09-29T13:15:40.362Z"
   },
   {
    "duration": 17,
    "start_time": "2022-09-29T13:15:40.492Z"
   },
   {
    "duration": 265,
    "start_time": "2022-09-29T13:15:40.510Z"
   },
   {
    "duration": 79,
    "start_time": "2022-09-29T13:15:40.777Z"
   },
   {
    "duration": 20,
    "start_time": "2022-09-29T13:15:40.858Z"
   },
   {
    "duration": 12,
    "start_time": "2022-09-29T13:15:40.882Z"
   },
   {
    "duration": 34,
    "start_time": "2022-09-29T13:15:40.895Z"
   },
   {
    "duration": 333,
    "start_time": "2022-09-29T13:15:40.931Z"
   },
   {
    "duration": 86,
    "start_time": "2022-09-29T13:15:41.265Z"
   },
   {
    "duration": 49,
    "start_time": "2022-09-29T13:15:41.352Z"
   },
   {
    "duration": 11,
    "start_time": "2022-09-29T13:15:41.403Z"
   },
   {
    "duration": 26,
    "start_time": "2022-09-29T13:15:41.415Z"
   },
   {
    "duration": 436,
    "start_time": "2022-09-29T13:15:41.442Z"
   },
   {
    "duration": 342,
    "start_time": "2022-09-29T13:15:41.880Z"
   },
   {
    "duration": 2430,
    "start_time": "2022-09-29T13:15:42.223Z"
   },
   {
    "duration": 2,
    "start_time": "2022-09-29T13:15:44.654Z"
   },
   {
    "duration": 7,
    "start_time": "2022-09-29T13:15:44.658Z"
   },
   {
    "duration": 12,
    "start_time": "2022-09-29T13:15:44.666Z"
   },
   {
    "duration": 11,
    "start_time": "2022-09-29T13:15:44.679Z"
   },
   {
    "duration": 5,
    "start_time": "2022-09-29T13:15:44.692Z"
   },
   {
    "duration": 7,
    "start_time": "2022-09-29T13:15:44.699Z"
   },
   {
    "duration": 7,
    "start_time": "2022-09-29T13:15:44.707Z"
   },
   {
    "duration": 6,
    "start_time": "2022-09-29T13:15:44.715Z"
   },
   {
    "duration": 7,
    "start_time": "2022-09-29T13:15:44.722Z"
   },
   {
    "duration": 5,
    "start_time": "2022-09-29T13:15:44.730Z"
   },
   {
    "duration": 6,
    "start_time": "2022-09-29T13:15:44.736Z"
   },
   {
    "duration": 6,
    "start_time": "2022-09-29T13:15:44.743Z"
   },
   {
    "duration": 6,
    "start_time": "2022-09-29T13:15:44.751Z"
   },
   {
    "duration": 5,
    "start_time": "2022-09-29T13:15:44.758Z"
   },
   {
    "duration": 8,
    "start_time": "2022-09-29T13:15:44.765Z"
   },
   {
    "duration": 7,
    "start_time": "2022-09-29T13:15:44.775Z"
   },
   {
    "duration": 8,
    "start_time": "2022-09-29T13:15:44.784Z"
   },
   {
    "duration": 6,
    "start_time": "2022-09-29T13:15:44.794Z"
   },
   {
    "duration": 50,
    "start_time": "2022-09-29T13:23:11.508Z"
   },
   {
    "duration": 6,
    "start_time": "2022-09-29T13:23:59.313Z"
   },
   {
    "duration": 43,
    "start_time": "2022-09-29T13:24:10.924Z"
   },
   {
    "duration": 155,
    "start_time": "2022-09-29T13:24:21.647Z"
   },
   {
    "duration": 107,
    "start_time": "2022-09-29T13:24:35.137Z"
   },
   {
    "duration": 147,
    "start_time": "2022-09-29T13:24:54.745Z"
   },
   {
    "duration": 1534,
    "start_time": "2022-09-29T13:25:01.530Z"
   },
   {
    "duration": 1082,
    "start_time": "2022-09-29T13:25:03.066Z"
   },
   {
    "duration": 19,
    "start_time": "2022-09-29T13:25:04.150Z"
   },
   {
    "duration": 152,
    "start_time": "2022-09-29T13:25:04.172Z"
   },
   {
    "duration": 433,
    "start_time": "2022-09-29T13:25:04.325Z"
   },
   {
    "duration": 535,
    "start_time": "2022-09-29T13:25:04.760Z"
   },
   {
    "duration": 117,
    "start_time": "2022-09-29T13:25:05.297Z"
   },
   {
    "duration": 42,
    "start_time": "2022-09-29T13:25:05.416Z"
   },
   {
    "duration": 38,
    "start_time": "2022-09-29T13:25:05.459Z"
   },
   {
    "duration": 18,
    "start_time": "2022-09-29T13:25:05.500Z"
   },
   {
    "duration": 35,
    "start_time": "2022-09-29T13:25:05.520Z"
   },
   {
    "duration": 21,
    "start_time": "2022-09-29T13:25:05.557Z"
   },
   {
    "duration": 34,
    "start_time": "2022-09-29T13:25:05.580Z"
   },
   {
    "duration": 38,
    "start_time": "2022-09-29T13:25:05.615Z"
   },
   {
    "duration": 87,
    "start_time": "2022-09-29T13:25:05.656Z"
   },
   {
    "duration": 29,
    "start_time": "2022-09-29T13:25:05.745Z"
   },
   {
    "duration": 22,
    "start_time": "2022-09-29T13:25:05.776Z"
   },
   {
    "duration": 43,
    "start_time": "2022-09-29T13:25:05.799Z"
   },
   {
    "duration": 25,
    "start_time": "2022-09-29T13:25:05.843Z"
   },
   {
    "duration": 143,
    "start_time": "2022-09-29T13:25:05.869Z"
   },
   {
    "duration": 21,
    "start_time": "2022-09-29T13:25:06.013Z"
   },
   {
    "duration": 167,
    "start_time": "2022-09-29T13:25:06.035Z"
   },
   {
    "duration": 142,
    "start_time": "2022-09-29T13:25:06.204Z"
   },
   {
    "duration": 18,
    "start_time": "2022-09-29T13:25:06.348Z"
   },
   {
    "duration": 329,
    "start_time": "2022-09-29T13:25:06.368Z"
   },
   {
    "duration": 72,
    "start_time": "2022-09-29T13:25:06.699Z"
   },
   {
    "duration": 19,
    "start_time": "2022-09-29T13:25:06.773Z"
   },
   {
    "duration": 14,
    "start_time": "2022-09-29T13:25:06.796Z"
   },
   {
    "duration": 27,
    "start_time": "2022-09-29T13:25:06.812Z"
   },
   {
    "duration": 347,
    "start_time": "2022-09-29T13:25:06.840Z"
   },
   {
    "duration": 83,
    "start_time": "2022-09-29T13:25:07.188Z"
   },
   {
    "duration": 50,
    "start_time": "2022-09-29T13:25:07.272Z"
   },
   {
    "duration": 18,
    "start_time": "2022-09-29T13:25:07.323Z"
   },
   {
    "duration": 26,
    "start_time": "2022-09-29T13:25:07.343Z"
   },
   {
    "duration": 428,
    "start_time": "2022-09-29T13:25:07.371Z"
   },
   {
    "duration": 344,
    "start_time": "2022-09-29T13:25:07.801Z"
   },
   {
    "duration": 2461,
    "start_time": "2022-09-29T13:25:08.147Z"
   },
   {
    "duration": 3,
    "start_time": "2022-09-29T13:25:10.610Z"
   },
   {
    "duration": 9,
    "start_time": "2022-09-29T13:25:10.614Z"
   },
   {
    "duration": 7,
    "start_time": "2022-09-29T13:25:10.624Z"
   },
   {
    "duration": 6,
    "start_time": "2022-09-29T13:25:10.634Z"
   },
   {
    "duration": 8,
    "start_time": "2022-09-29T13:25:10.642Z"
   },
   {
    "duration": 7,
    "start_time": "2022-09-29T13:25:10.651Z"
   },
   {
    "duration": 5,
    "start_time": "2022-09-29T13:25:10.660Z"
   },
   {
    "duration": 6,
    "start_time": "2022-09-29T13:25:10.666Z"
   },
   {
    "duration": 6,
    "start_time": "2022-09-29T13:25:10.673Z"
   },
   {
    "duration": 6,
    "start_time": "2022-09-29T13:25:10.680Z"
   },
   {
    "duration": 8,
    "start_time": "2022-09-29T13:25:10.687Z"
   },
   {
    "duration": 6,
    "start_time": "2022-09-29T13:25:10.696Z"
   },
   {
    "duration": 6,
    "start_time": "2022-09-29T13:25:10.703Z"
   },
   {
    "duration": 5,
    "start_time": "2022-09-29T13:25:10.710Z"
   },
   {
    "duration": 5,
    "start_time": "2022-09-29T13:25:10.716Z"
   },
   {
    "duration": 7,
    "start_time": "2022-09-29T13:25:10.722Z"
   },
   {
    "duration": 4,
    "start_time": "2022-09-29T13:25:10.731Z"
   },
   {
    "duration": 6,
    "start_time": "2022-09-29T13:25:10.737Z"
   },
   {
    "duration": 1646,
    "start_time": "2022-09-30T04:03:38.443Z"
   },
   {
    "duration": 1036,
    "start_time": "2022-09-30T04:03:43.197Z"
   },
   {
    "duration": 16,
    "start_time": "2022-09-30T04:03:44.931Z"
   },
   {
    "duration": 108,
    "start_time": "2022-09-30T04:03:45.338Z"
   },
   {
    "duration": 463,
    "start_time": "2022-09-30T04:03:46.126Z"
   },
   {
    "duration": 575,
    "start_time": "2022-09-30T04:03:46.611Z"
   },
   {
    "duration": 96,
    "start_time": "2022-09-30T04:03:50.773Z"
   },
   {
    "duration": 31,
    "start_time": "2022-09-30T04:03:52.541Z"
   },
   {
    "duration": 24,
    "start_time": "2022-09-30T04:03:52.844Z"
   },
   {
    "duration": 91,
    "start_time": "2022-09-30T04:04:37.332Z"
   },
   {
    "duration": 94,
    "start_time": "2022-09-30T04:04:43.584Z"
   },
   {
    "duration": 1702,
    "start_time": "2022-09-30T18:15:50.193Z"
   },
   {
    "duration": 1130,
    "start_time": "2022-09-30T18:15:51.898Z"
   },
   {
    "duration": 20,
    "start_time": "2022-09-30T18:15:53.030Z"
   },
   {
    "duration": 129,
    "start_time": "2022-09-30T18:15:53.052Z"
   },
   {
    "duration": 487,
    "start_time": "2022-09-30T18:15:53.183Z"
   },
   {
    "duration": 590,
    "start_time": "2022-09-30T18:15:53.672Z"
   },
   {
    "duration": 108,
    "start_time": "2022-09-30T18:15:54.263Z"
   },
   {
    "duration": 30,
    "start_time": "2022-09-30T18:15:54.373Z"
   },
   {
    "duration": 29,
    "start_time": "2022-09-30T18:15:54.404Z"
   },
   {
    "duration": 17,
    "start_time": "2022-09-30T18:15:54.455Z"
   },
   {
    "duration": 30,
    "start_time": "2022-09-30T18:15:54.474Z"
   },
   {
    "duration": 21,
    "start_time": "2022-09-30T18:15:54.506Z"
   },
   {
    "duration": 56,
    "start_time": "2022-09-30T18:15:54.529Z"
   },
   {
    "duration": 27,
    "start_time": "2022-09-30T18:15:54.590Z"
   },
   {
    "duration": 103,
    "start_time": "2022-09-30T18:15:54.619Z"
   },
   {
    "duration": 37,
    "start_time": "2022-09-30T18:15:54.724Z"
   },
   {
    "duration": 25,
    "start_time": "2022-09-30T18:15:54.763Z"
   },
   {
    "duration": 31,
    "start_time": "2022-09-30T18:15:54.790Z"
   },
   {
    "duration": 40,
    "start_time": "2022-09-30T18:15:54.823Z"
   },
   {
    "duration": 108,
    "start_time": "2022-09-30T18:15:54.865Z"
   },
   {
    "duration": 19,
    "start_time": "2022-09-30T18:15:54.975Z"
   },
   {
    "duration": 193,
    "start_time": "2022-09-30T18:15:54.997Z"
   },
   {
    "duration": 135,
    "start_time": "2022-09-30T18:15:55.192Z"
   },
   {
    "duration": 26,
    "start_time": "2022-09-30T18:15:55.329Z"
   },
   {
    "duration": 297,
    "start_time": "2022-09-30T18:15:55.357Z"
   },
   {
    "duration": 82,
    "start_time": "2022-09-30T18:15:55.655Z"
   },
   {
    "duration": 30,
    "start_time": "2022-09-30T18:15:55.739Z"
   },
   {
    "duration": 18,
    "start_time": "2022-09-30T18:15:55.771Z"
   },
   {
    "duration": 19,
    "start_time": "2022-09-30T18:15:55.790Z"
   },
   {
    "duration": 396,
    "start_time": "2022-09-30T18:15:55.810Z"
   },
   {
    "duration": 101,
    "start_time": "2022-09-30T18:15:56.208Z"
   },
   {
    "duration": 67,
    "start_time": "2022-09-30T18:15:56.311Z"
   },
   {
    "duration": 14,
    "start_time": "2022-09-30T18:15:56.380Z"
   },
   {
    "duration": 15,
    "start_time": "2022-09-30T18:15:56.395Z"
   },
   {
    "duration": 519,
    "start_time": "2022-09-30T18:15:56.411Z"
   },
   {
    "duration": 378,
    "start_time": "2022-09-30T18:15:56.932Z"
   },
   {
    "duration": 2776,
    "start_time": "2022-09-30T18:15:57.312Z"
   },
   {
    "duration": 3,
    "start_time": "2022-09-30T18:16:00.090Z"
   },
   {
    "duration": 23,
    "start_time": "2022-09-30T18:16:00.095Z"
   },
   {
    "duration": 45,
    "start_time": "2022-09-30T18:16:00.120Z"
   },
   {
    "duration": 31,
    "start_time": "2022-09-30T18:16:00.170Z"
   },
   {
    "duration": 23,
    "start_time": "2022-09-30T18:16:00.203Z"
   },
   {
    "duration": 26,
    "start_time": "2022-09-30T18:16:00.228Z"
   },
   {
    "duration": 32,
    "start_time": "2022-09-30T18:16:00.256Z"
   },
   {
    "duration": 27,
    "start_time": "2022-09-30T18:16:00.291Z"
   },
   {
    "duration": 44,
    "start_time": "2022-09-30T18:16:00.320Z"
   },
   {
    "duration": 52,
    "start_time": "2022-09-30T18:16:00.366Z"
   },
   {
    "duration": 31,
    "start_time": "2022-09-30T18:16:00.420Z"
   },
   {
    "duration": 20,
    "start_time": "2022-09-30T18:16:00.453Z"
   },
   {
    "duration": 12,
    "start_time": "2022-09-30T18:16:00.475Z"
   },
   {
    "duration": 16,
    "start_time": "2022-09-30T18:16:00.489Z"
   },
   {
    "duration": 29,
    "start_time": "2022-09-30T18:16:00.507Z"
   },
   {
    "duration": 30,
    "start_time": "2022-09-30T18:16:00.538Z"
   },
   {
    "duration": 27,
    "start_time": "2022-09-30T18:16:00.570Z"
   },
   {
    "duration": 72,
    "start_time": "2022-09-30T18:16:00.599Z"
   },
   {
    "duration": 34,
    "start_time": "2022-09-30T18:17:20.222Z"
   },
   {
    "duration": 6,
    "start_time": "2022-09-30T18:18:06.817Z"
   },
   {
    "duration": 58,
    "start_time": "2022-09-30T18:19:17.605Z"
   },
   {
    "duration": 1526,
    "start_time": "2022-09-30T18:20:05.942Z"
   },
   {
    "duration": 835,
    "start_time": "2022-09-30T18:20:07.470Z"
   },
   {
    "duration": 20,
    "start_time": "2022-09-30T18:20:08.307Z"
   },
   {
    "duration": 148,
    "start_time": "2022-09-30T18:20:08.329Z"
   },
   {
    "duration": 509,
    "start_time": "2022-09-30T18:20:08.478Z"
   },
   {
    "duration": 617,
    "start_time": "2022-09-30T18:20:08.989Z"
   },
   {
    "duration": 108,
    "start_time": "2022-09-30T18:20:09.608Z"
   },
   {
    "duration": 40,
    "start_time": "2022-09-30T18:20:09.718Z"
   },
   {
    "duration": 27,
    "start_time": "2022-09-30T18:20:09.759Z"
   },
   {
    "duration": 19,
    "start_time": "2022-09-30T18:20:09.789Z"
   },
   {
    "duration": 48,
    "start_time": "2022-09-30T18:20:09.810Z"
   },
   {
    "duration": 27,
    "start_time": "2022-09-30T18:20:09.860Z"
   },
   {
    "duration": 33,
    "start_time": "2022-09-30T18:20:09.889Z"
   },
   {
    "duration": 40,
    "start_time": "2022-09-30T18:20:09.924Z"
   },
   {
    "duration": 89,
    "start_time": "2022-09-30T18:20:09.965Z"
   },
   {
    "duration": 30,
    "start_time": "2022-09-30T18:20:10.056Z"
   },
   {
    "duration": 32,
    "start_time": "2022-09-30T18:20:10.087Z"
   },
   {
    "duration": 36,
    "start_time": "2022-09-30T18:20:10.121Z"
   },
   {
    "duration": 24,
    "start_time": "2022-09-30T18:20:10.159Z"
   },
   {
    "duration": 120,
    "start_time": "2022-09-30T18:20:10.184Z"
   },
   {
    "duration": 23,
    "start_time": "2022-09-30T18:20:10.305Z"
   },
   {
    "duration": 175,
    "start_time": "2022-09-30T18:20:10.330Z"
   },
   {
    "duration": 6,
    "start_time": "2022-09-30T18:20:10.508Z"
   },
   {
    "duration": 126,
    "start_time": "2022-09-30T18:20:10.515Z"
   },
   {
    "duration": 21,
    "start_time": "2022-09-30T18:20:10.643Z"
   },
   {
    "duration": 283,
    "start_time": "2022-09-30T18:20:10.665Z"
   },
   {
    "duration": 96,
    "start_time": "2022-09-30T18:20:10.949Z"
   },
   {
    "duration": 21,
    "start_time": "2022-09-30T18:20:11.053Z"
   },
   {
    "duration": 13,
    "start_time": "2022-09-30T18:20:11.076Z"
   },
   {
    "duration": 16,
    "start_time": "2022-09-30T18:20:11.091Z"
   },
   {
    "duration": 451,
    "start_time": "2022-09-30T18:20:11.109Z"
   },
   {
    "duration": 82,
    "start_time": "2022-09-30T18:20:11.562Z"
   },
   {
    "duration": 68,
    "start_time": "2022-09-30T18:20:11.655Z"
   },
   {
    "duration": 33,
    "start_time": "2022-09-30T18:20:11.724Z"
   },
   {
    "duration": 13,
    "start_time": "2022-09-30T18:20:11.759Z"
   },
   {
    "duration": 489,
    "start_time": "2022-09-30T18:20:11.774Z"
   },
   {
    "duration": 368,
    "start_time": "2022-09-30T18:20:12.264Z"
   },
   {
    "duration": 2668,
    "start_time": "2022-09-30T18:20:12.634Z"
   },
   {
    "duration": 3,
    "start_time": "2022-09-30T18:20:15.304Z"
   },
   {
    "duration": 7,
    "start_time": "2022-09-30T18:20:15.308Z"
   },
   {
    "duration": 16,
    "start_time": "2022-09-30T18:20:15.317Z"
   },
   {
    "duration": 7,
    "start_time": "2022-09-30T18:20:15.335Z"
   },
   {
    "duration": 5,
    "start_time": "2022-09-30T18:20:15.344Z"
   },
   {
    "duration": 5,
    "start_time": "2022-09-30T18:20:15.351Z"
   },
   {
    "duration": 6,
    "start_time": "2022-09-30T18:20:15.358Z"
   },
   {
    "duration": 6,
    "start_time": "2022-09-30T18:20:15.365Z"
   },
   {
    "duration": 6,
    "start_time": "2022-09-30T18:20:15.373Z"
   },
   {
    "duration": 5,
    "start_time": "2022-09-30T18:20:15.381Z"
   },
   {
    "duration": 8,
    "start_time": "2022-09-30T18:20:15.387Z"
   },
   {
    "duration": 30,
    "start_time": "2022-09-30T18:20:15.396Z"
   },
   {
    "duration": 6,
    "start_time": "2022-09-30T18:20:15.427Z"
   },
   {
    "duration": 5,
    "start_time": "2022-09-30T18:20:15.434Z"
   },
   {
    "duration": 6,
    "start_time": "2022-09-30T18:20:15.441Z"
   },
   {
    "duration": 6,
    "start_time": "2022-09-30T18:20:15.448Z"
   },
   {
    "duration": 16,
    "start_time": "2022-09-30T18:20:15.456Z"
   },
   {
    "duration": 5,
    "start_time": "2022-09-30T18:20:15.474Z"
   },
   {
    "duration": 4,
    "start_time": "2022-09-30T18:26:24.052Z"
   },
   {
    "duration": 1491,
    "start_time": "2022-09-30T18:30:36.024Z"
   },
   {
    "duration": 840,
    "start_time": "2022-09-30T18:30:37.517Z"
   },
   {
    "duration": 20,
    "start_time": "2022-09-30T18:30:38.359Z"
   },
   {
    "duration": 147,
    "start_time": "2022-09-30T18:30:38.382Z"
   },
   {
    "duration": 518,
    "start_time": "2022-09-30T18:30:38.530Z"
   },
   {
    "duration": 600,
    "start_time": "2022-09-30T18:30:39.049Z"
   },
   {
    "duration": 112,
    "start_time": "2022-09-30T18:30:39.651Z"
   },
   {
    "duration": 51,
    "start_time": "2022-09-30T18:30:39.765Z"
   },
   {
    "duration": 44,
    "start_time": "2022-09-30T18:30:39.818Z"
   },
   {
    "duration": 19,
    "start_time": "2022-09-30T18:30:39.865Z"
   },
   {
    "duration": 30,
    "start_time": "2022-09-30T18:30:39.886Z"
   },
   {
    "duration": 38,
    "start_time": "2022-09-30T18:30:39.917Z"
   },
   {
    "duration": 33,
    "start_time": "2022-09-30T18:30:39.957Z"
   },
   {
    "duration": 27,
    "start_time": "2022-09-30T18:30:39.992Z"
   },
   {
    "duration": 99,
    "start_time": "2022-09-30T18:30:40.021Z"
   },
   {
    "duration": 36,
    "start_time": "2022-09-30T18:30:40.122Z"
   },
   {
    "duration": 26,
    "start_time": "2022-09-30T18:30:40.160Z"
   },
   {
    "duration": 34,
    "start_time": "2022-09-30T18:30:40.188Z"
   },
   {
    "duration": 31,
    "start_time": "2022-09-30T18:30:40.224Z"
   },
   {
    "duration": 108,
    "start_time": "2022-09-30T18:30:40.256Z"
   },
   {
    "duration": 18,
    "start_time": "2022-09-30T18:30:40.366Z"
   },
   {
    "duration": 192,
    "start_time": "2022-09-30T18:30:40.385Z"
   },
   {
    "duration": 6,
    "start_time": "2022-09-30T18:30:40.578Z"
   },
   {
    "duration": 131,
    "start_time": "2022-09-30T18:30:40.586Z"
   },
   {
    "duration": 18,
    "start_time": "2022-09-30T18:30:40.718Z"
   },
   {
    "duration": 278,
    "start_time": "2022-09-30T18:30:40.738Z"
   },
   {
    "duration": 106,
    "start_time": "2022-09-30T18:30:41.018Z"
   },
   {
    "duration": 28,
    "start_time": "2022-09-30T18:30:41.129Z"
   },
   {
    "duration": 21,
    "start_time": "2022-09-30T18:30:41.159Z"
   },
   {
    "duration": 16,
    "start_time": "2022-09-30T18:30:41.182Z"
   },
   {
    "duration": 461,
    "start_time": "2022-09-30T18:30:41.200Z"
   },
   {
    "duration": 90,
    "start_time": "2022-09-30T18:30:41.664Z"
   },
   {
    "duration": 55,
    "start_time": "2022-09-30T18:30:41.757Z"
   },
   {
    "duration": 13,
    "start_time": "2022-09-30T18:30:41.814Z"
   },
   {
    "duration": 31,
    "start_time": "2022-09-30T18:30:41.829Z"
   },
   {
    "duration": 842,
    "start_time": "2022-09-30T18:30:41.862Z"
   },
   {
    "duration": 84,
    "start_time": "2022-09-30T18:30:42.706Z"
   },
   {
    "duration": 155,
    "start_time": "2022-09-30T18:30:42.792Z"
   },
   {
    "duration": 0,
    "start_time": "2022-09-30T18:30:42.948Z"
   },
   {
    "duration": 0,
    "start_time": "2022-09-30T18:30:42.950Z"
   },
   {
    "duration": 0,
    "start_time": "2022-09-30T18:30:42.954Z"
   },
   {
    "duration": 0,
    "start_time": "2022-09-30T18:30:42.955Z"
   },
   {
    "duration": 0,
    "start_time": "2022-09-30T18:30:42.956Z"
   },
   {
    "duration": 0,
    "start_time": "2022-09-30T18:30:42.958Z"
   },
   {
    "duration": 0,
    "start_time": "2022-09-30T18:30:42.959Z"
   },
   {
    "duration": 0,
    "start_time": "2022-09-30T18:30:42.960Z"
   },
   {
    "duration": 0,
    "start_time": "2022-09-30T18:30:42.962Z"
   },
   {
    "duration": 0,
    "start_time": "2022-09-30T18:30:42.963Z"
   },
   {
    "duration": 0,
    "start_time": "2022-09-30T18:30:42.964Z"
   },
   {
    "duration": 0,
    "start_time": "2022-09-30T18:30:42.966Z"
   },
   {
    "duration": 0,
    "start_time": "2022-09-30T18:30:42.967Z"
   },
   {
    "duration": 0,
    "start_time": "2022-09-30T18:30:42.968Z"
   },
   {
    "duration": 0,
    "start_time": "2022-09-30T18:30:42.969Z"
   },
   {
    "duration": 0,
    "start_time": "2022-09-30T18:30:42.970Z"
   },
   {
    "duration": 0,
    "start_time": "2022-09-30T18:30:42.972Z"
   },
   {
    "duration": 0,
    "start_time": "2022-09-30T18:30:42.973Z"
   },
   {
    "duration": 494,
    "start_time": "2022-09-30T18:37:43.336Z"
   },
   {
    "duration": 1957,
    "start_time": "2022-09-30T18:39:15.044Z"
   },
   {
    "duration": 1576,
    "start_time": "2022-09-30T18:40:18.601Z"
   },
   {
    "duration": 838,
    "start_time": "2022-09-30T18:40:20.178Z"
   },
   {
    "duration": 20,
    "start_time": "2022-09-30T18:40:21.017Z"
   },
   {
    "duration": 131,
    "start_time": "2022-09-30T18:40:21.039Z"
   },
   {
    "duration": 550,
    "start_time": "2022-09-30T18:40:21.173Z"
   },
   {
    "duration": 625,
    "start_time": "2022-09-30T18:40:21.725Z"
   },
   {
    "duration": 106,
    "start_time": "2022-09-30T18:40:22.354Z"
   },
   {
    "duration": 30,
    "start_time": "2022-09-30T18:40:22.462Z"
   },
   {
    "duration": 29,
    "start_time": "2022-09-30T18:40:22.494Z"
   },
   {
    "duration": 37,
    "start_time": "2022-09-30T18:40:22.525Z"
   },
   {
    "duration": 38,
    "start_time": "2022-09-30T18:40:22.564Z"
   },
   {
    "duration": 25,
    "start_time": "2022-09-30T18:40:22.604Z"
   },
   {
    "duration": 39,
    "start_time": "2022-09-30T18:40:22.630Z"
   },
   {
    "duration": 25,
    "start_time": "2022-09-30T18:40:22.674Z"
   },
   {
    "duration": 97,
    "start_time": "2022-09-30T18:40:22.701Z"
   },
   {
    "duration": 29,
    "start_time": "2022-09-30T18:40:22.800Z"
   },
   {
    "duration": 29,
    "start_time": "2022-09-30T18:40:22.831Z"
   },
   {
    "duration": 30,
    "start_time": "2022-09-30T18:40:22.862Z"
   },
   {
    "duration": 26,
    "start_time": "2022-09-30T18:40:22.894Z"
   },
   {
    "duration": 124,
    "start_time": "2022-09-30T18:40:22.922Z"
   },
   {
    "duration": 20,
    "start_time": "2022-09-30T18:40:23.054Z"
   },
   {
    "duration": 174,
    "start_time": "2022-09-30T18:40:23.076Z"
   },
   {
    "duration": 6,
    "start_time": "2022-09-30T18:40:23.254Z"
   },
   {
    "duration": 125,
    "start_time": "2022-09-30T18:40:23.262Z"
   },
   {
    "duration": 19,
    "start_time": "2022-09-30T18:40:23.389Z"
   },
   {
    "duration": 288,
    "start_time": "2022-09-30T18:40:23.410Z"
   },
   {
    "duration": 110,
    "start_time": "2022-09-30T18:40:23.700Z"
   },
   {
    "duration": 20,
    "start_time": "2022-09-30T18:40:23.812Z"
   },
   {
    "duration": 28,
    "start_time": "2022-09-30T18:40:23.834Z"
   },
   {
    "duration": 16,
    "start_time": "2022-09-30T18:40:23.864Z"
   },
   {
    "duration": 384,
    "start_time": "2022-09-30T18:40:23.882Z"
   },
   {
    "duration": 67,
    "start_time": "2022-09-30T18:40:24.267Z"
   },
   {
    "duration": 65,
    "start_time": "2022-09-30T18:40:24.335Z"
   },
   {
    "duration": 14,
    "start_time": "2022-09-30T18:40:24.402Z"
   },
   {
    "duration": 16,
    "start_time": "2022-09-30T18:40:24.418Z"
   },
   {
    "duration": 850,
    "start_time": "2022-09-30T18:40:24.436Z"
   },
   {
    "duration": 513,
    "start_time": "2022-09-30T18:40:25.288Z"
   },
   {
    "duration": 1935,
    "start_time": "2022-09-30T18:40:25.803Z"
   },
   {
    "duration": 2,
    "start_time": "2022-09-30T18:40:27.740Z"
   },
   {
    "duration": 12,
    "start_time": "2022-09-30T18:40:27.754Z"
   },
   {
    "duration": 5,
    "start_time": "2022-09-30T18:40:27.770Z"
   },
   {
    "duration": 6,
    "start_time": "2022-09-30T18:40:27.776Z"
   },
   {
    "duration": 4,
    "start_time": "2022-09-30T18:40:27.784Z"
   },
   {
    "duration": 6,
    "start_time": "2022-09-30T18:40:27.790Z"
   },
   {
    "duration": 11,
    "start_time": "2022-09-30T18:40:27.797Z"
   },
   {
    "duration": 6,
    "start_time": "2022-09-30T18:40:27.809Z"
   },
   {
    "duration": 6,
    "start_time": "2022-09-30T18:40:27.816Z"
   },
   {
    "duration": 7,
    "start_time": "2022-09-30T18:40:27.824Z"
   },
   {
    "duration": 5,
    "start_time": "2022-09-30T18:40:27.832Z"
   },
   {
    "duration": 8,
    "start_time": "2022-09-30T18:40:27.839Z"
   },
   {
    "duration": 11,
    "start_time": "2022-09-30T18:40:27.849Z"
   },
   {
    "duration": 16,
    "start_time": "2022-09-30T18:40:27.861Z"
   },
   {
    "duration": 8,
    "start_time": "2022-09-30T18:40:27.879Z"
   },
   {
    "duration": 11,
    "start_time": "2022-09-30T18:40:27.889Z"
   },
   {
    "duration": 6,
    "start_time": "2022-09-30T18:40:27.901Z"
   },
   {
    "duration": 7,
    "start_time": "2022-09-30T18:40:27.908Z"
   },
   {
    "duration": 5,
    "start_time": "2022-09-30T18:49:24.538Z"
   },
   {
    "duration": 3,
    "start_time": "2022-09-30T18:55:34.223Z"
   },
   {
    "duration": 54561,
    "start_time": "2022-09-30T18:57:11.102Z"
   },
   {
    "duration": 1528,
    "start_time": "2022-09-30T18:59:18.743Z"
   },
   {
    "duration": 910,
    "start_time": "2022-09-30T18:59:20.273Z"
   },
   {
    "duration": 20,
    "start_time": "2022-09-30T18:59:21.185Z"
   },
   {
    "duration": 132,
    "start_time": "2022-09-30T18:59:21.206Z"
   },
   {
    "duration": 594,
    "start_time": "2022-09-30T18:59:21.340Z"
   },
   {
    "duration": 634,
    "start_time": "2022-09-30T18:59:21.936Z"
   },
   {
    "duration": 119,
    "start_time": "2022-09-30T18:59:22.572Z"
   },
   {
    "duration": 36,
    "start_time": "2022-09-30T18:59:22.693Z"
   },
   {
    "duration": 51,
    "start_time": "2022-09-30T18:59:22.730Z"
   },
   {
    "duration": 22,
    "start_time": "2022-09-30T18:59:22.783Z"
   },
   {
    "duration": 31,
    "start_time": "2022-09-30T18:59:22.807Z"
   },
   {
    "duration": 28,
    "start_time": "2022-09-30T18:59:22.839Z"
   },
   {
    "duration": 33,
    "start_time": "2022-09-30T18:59:22.869Z"
   },
   {
    "duration": 27,
    "start_time": "2022-09-30T18:59:22.905Z"
   },
   {
    "duration": 85,
    "start_time": "2022-09-30T18:59:22.955Z"
   },
   {
    "duration": 40,
    "start_time": "2022-09-30T18:59:23.042Z"
   },
   {
    "duration": 23,
    "start_time": "2022-09-30T18:59:23.084Z"
   },
   {
    "duration": 45,
    "start_time": "2022-09-30T18:59:23.109Z"
   },
   {
    "duration": 25,
    "start_time": "2022-09-30T18:59:23.156Z"
   },
   {
    "duration": 110,
    "start_time": "2022-09-30T18:59:23.183Z"
   },
   {
    "duration": 19,
    "start_time": "2022-09-30T18:59:23.296Z"
   },
   {
    "duration": 186,
    "start_time": "2022-09-30T18:59:23.317Z"
   },
   {
    "duration": 5,
    "start_time": "2022-09-30T18:59:23.505Z"
   },
   {
    "duration": 146,
    "start_time": "2022-09-30T18:59:23.512Z"
   },
   {
    "duration": 20,
    "start_time": "2022-09-30T18:59:23.659Z"
   },
   {
    "duration": 306,
    "start_time": "2022-09-30T18:59:23.681Z"
   },
   {
    "duration": 110,
    "start_time": "2022-09-30T18:59:23.989Z"
   },
   {
    "duration": 21,
    "start_time": "2022-09-30T18:59:24.101Z"
   },
   {
    "duration": 33,
    "start_time": "2022-09-30T18:59:24.123Z"
   },
   {
    "duration": 16,
    "start_time": "2022-09-30T18:59:24.158Z"
   },
   {
    "duration": 384,
    "start_time": "2022-09-30T18:59:24.176Z"
   },
   {
    "duration": 74,
    "start_time": "2022-09-30T18:59:24.562Z"
   },
   {
    "duration": 65,
    "start_time": "2022-09-30T18:59:24.638Z"
   },
   {
    "duration": 13,
    "start_time": "2022-09-30T18:59:24.704Z"
   },
   {
    "duration": 13,
    "start_time": "2022-09-30T18:59:24.719Z"
   },
   {
    "duration": 1008,
    "start_time": "2022-09-30T18:59:24.755Z"
   },
   {
    "duration": 543,
    "start_time": "2022-09-30T18:59:25.765Z"
   },
   {
    "duration": 2006,
    "start_time": "2022-09-30T18:59:26.310Z"
   },
   {
    "duration": 4,
    "start_time": "2022-09-30T18:59:28.318Z"
   },
   {
    "duration": 7,
    "start_time": "2022-09-30T18:59:28.324Z"
   },
   {
    "duration": 10,
    "start_time": "2022-09-30T18:59:28.335Z"
   },
   {
    "duration": 12,
    "start_time": "2022-09-30T18:59:28.346Z"
   },
   {
    "duration": 14,
    "start_time": "2022-09-30T18:59:28.359Z"
   },
   {
    "duration": 13,
    "start_time": "2022-09-30T18:59:28.375Z"
   },
   {
    "duration": 11,
    "start_time": "2022-09-30T18:59:28.390Z"
   },
   {
    "duration": 7,
    "start_time": "2022-09-30T18:59:28.403Z"
   },
   {
    "duration": 7,
    "start_time": "2022-09-30T18:59:28.412Z"
   },
   {
    "duration": 6,
    "start_time": "2022-09-30T18:59:28.421Z"
   },
   {
    "duration": 6,
    "start_time": "2022-09-30T18:59:28.429Z"
   },
   {
    "duration": 10,
    "start_time": "2022-09-30T18:59:28.436Z"
   },
   {
    "duration": 6,
    "start_time": "2022-09-30T18:59:28.447Z"
   },
   {
    "duration": 7,
    "start_time": "2022-09-30T18:59:28.454Z"
   },
   {
    "duration": 11,
    "start_time": "2022-09-30T18:59:28.462Z"
   },
   {
    "duration": 6,
    "start_time": "2022-09-30T18:59:28.475Z"
   },
   {
    "duration": 8,
    "start_time": "2022-09-30T18:59:28.483Z"
   },
   {
    "duration": 5,
    "start_time": "2022-09-30T18:59:28.493Z"
   },
   {
    "duration": 11,
    "start_time": "2022-09-30T18:59:28.500Z"
   },
   {
    "duration": 1783,
    "start_time": "2022-09-30T19:21:03.370Z"
   },
   {
    "duration": 4,
    "start_time": "2022-09-30T19:22:07.396Z"
   },
   {
    "duration": 5319,
    "start_time": "2022-09-30T19:22:17.156Z"
   },
   {
    "duration": 5312,
    "start_time": "2022-09-30T19:22:35.857Z"
   },
   {
    "duration": 1549,
    "start_time": "2022-09-30T19:24:33.128Z"
   },
   {
    "duration": 863,
    "start_time": "2022-09-30T19:24:34.680Z"
   },
   {
    "duration": 25,
    "start_time": "2022-09-30T19:24:35.545Z"
   },
   {
    "duration": 139,
    "start_time": "2022-09-30T19:24:35.572Z"
   },
   {
    "duration": 523,
    "start_time": "2022-09-30T19:24:35.713Z"
   },
   {
    "duration": 640,
    "start_time": "2022-09-30T19:24:36.238Z"
   },
   {
    "duration": 111,
    "start_time": "2022-09-30T19:24:36.880Z"
   },
   {
    "duration": 31,
    "start_time": "2022-09-30T19:24:36.993Z"
   },
   {
    "duration": 45,
    "start_time": "2022-09-30T19:24:37.026Z"
   },
   {
    "duration": 19,
    "start_time": "2022-09-30T19:24:37.074Z"
   },
   {
    "duration": 32,
    "start_time": "2022-09-30T19:24:37.095Z"
   },
   {
    "duration": 34,
    "start_time": "2022-09-30T19:24:37.129Z"
   },
   {
    "duration": 35,
    "start_time": "2022-09-30T19:24:37.165Z"
   },
   {
    "duration": 28,
    "start_time": "2022-09-30T19:24:37.202Z"
   },
   {
    "duration": 109,
    "start_time": "2022-09-30T19:24:37.231Z"
   },
   {
    "duration": 31,
    "start_time": "2022-09-30T19:24:37.342Z"
   },
   {
    "duration": 28,
    "start_time": "2022-09-30T19:24:37.375Z"
   },
   {
    "duration": 33,
    "start_time": "2022-09-30T19:24:37.404Z"
   },
   {
    "duration": 34,
    "start_time": "2022-09-30T19:24:37.438Z"
   },
   {
    "duration": 112,
    "start_time": "2022-09-30T19:24:37.474Z"
   },
   {
    "duration": 17,
    "start_time": "2022-09-30T19:24:37.588Z"
   },
   {
    "duration": 190,
    "start_time": "2022-09-30T19:24:37.607Z"
   },
   {
    "duration": 6,
    "start_time": "2022-09-30T19:24:37.799Z"
   },
   {
    "duration": 139,
    "start_time": "2022-09-30T19:24:37.807Z"
   },
   {
    "duration": 20,
    "start_time": "2022-09-30T19:24:37.948Z"
   },
   {
    "duration": 270,
    "start_time": "2022-09-30T19:24:37.970Z"
   },
   {
    "duration": 114,
    "start_time": "2022-09-30T19:24:38.242Z"
   },
   {
    "duration": 19,
    "start_time": "2022-09-30T19:24:38.360Z"
   },
   {
    "duration": 13,
    "start_time": "2022-09-30T19:24:38.381Z"
   },
   {
    "duration": 17,
    "start_time": "2022-09-30T19:24:38.395Z"
   },
   {
    "duration": 398,
    "start_time": "2022-09-30T19:24:38.414Z"
   },
   {
    "duration": 77,
    "start_time": "2022-09-30T19:24:38.814Z"
   },
   {
    "duration": 64,
    "start_time": "2022-09-30T19:24:38.892Z"
   },
   {
    "duration": 13,
    "start_time": "2022-09-30T19:24:38.958Z"
   },
   {
    "duration": 13,
    "start_time": "2022-09-30T19:24:38.973Z"
   },
   {
    "duration": 876,
    "start_time": "2022-09-30T19:24:38.988Z"
   },
   {
    "duration": 495,
    "start_time": "2022-09-30T19:24:39.867Z"
   },
   {
    "duration": 1987,
    "start_time": "2022-09-30T19:24:40.364Z"
   },
   {
    "duration": 3,
    "start_time": "2022-09-30T19:24:42.354Z"
   },
   {
    "duration": 9,
    "start_time": "2022-09-30T19:24:42.359Z"
   },
   {
    "duration": 6,
    "start_time": "2022-09-30T19:24:42.370Z"
   },
   {
    "duration": 5,
    "start_time": "2022-09-30T19:24:42.377Z"
   },
   {
    "duration": 4,
    "start_time": "2022-09-30T19:24:42.384Z"
   },
   {
    "duration": 5,
    "start_time": "2022-09-30T19:24:42.390Z"
   },
   {
    "duration": 24,
    "start_time": "2022-09-30T19:24:42.396Z"
   },
   {
    "duration": 5,
    "start_time": "2022-09-30T19:24:42.422Z"
   },
   {
    "duration": 7,
    "start_time": "2022-09-30T19:24:42.429Z"
   },
   {
    "duration": 5,
    "start_time": "2022-09-30T19:24:42.438Z"
   },
   {
    "duration": 4,
    "start_time": "2022-09-30T19:24:42.445Z"
   },
   {
    "duration": 5,
    "start_time": "2022-09-30T19:24:42.451Z"
   },
   {
    "duration": 6,
    "start_time": "2022-09-30T19:24:42.458Z"
   },
   {
    "duration": 5,
    "start_time": "2022-09-30T19:24:42.466Z"
   },
   {
    "duration": 79239,
    "start_time": "2022-09-30T19:27:06.229Z"
   },
   {
    "duration": 113931,
    "start_time": "2022-09-30T19:29:59.737Z"
   },
   {
    "duration": 160,
    "start_time": "2022-09-30T19:33:07.462Z"
   },
   {
    "duration": 77,
    "start_time": "2022-09-30T19:34:26.356Z"
   },
   {
    "duration": 1464,
    "start_time": "2022-09-30T19:36:33.950Z"
   },
   {
    "duration": 868,
    "start_time": "2022-09-30T19:36:35.416Z"
   },
   {
    "duration": 19,
    "start_time": "2022-09-30T19:36:36.286Z"
   },
   {
    "duration": 144,
    "start_time": "2022-09-30T19:36:36.307Z"
   },
   {
    "duration": 522,
    "start_time": "2022-09-30T19:36:36.454Z"
   },
   {
    "duration": 704,
    "start_time": "2022-09-30T19:36:36.978Z"
   },
   {
    "duration": 114,
    "start_time": "2022-09-30T19:36:37.684Z"
   },
   {
    "duration": 31,
    "start_time": "2022-09-30T19:36:37.800Z"
   },
   {
    "duration": 46,
    "start_time": "2022-09-30T19:36:37.833Z"
   },
   {
    "duration": 19,
    "start_time": "2022-09-30T19:36:37.882Z"
   },
   {
    "duration": 52,
    "start_time": "2022-09-30T19:36:37.902Z"
   },
   {
    "duration": 22,
    "start_time": "2022-09-30T19:36:37.956Z"
   },
   {
    "duration": 33,
    "start_time": "2022-09-30T19:36:37.980Z"
   },
   {
    "duration": 41,
    "start_time": "2022-09-30T19:36:38.015Z"
   },
   {
    "duration": 103,
    "start_time": "2022-09-30T19:36:38.058Z"
   },
   {
    "duration": 30,
    "start_time": "2022-09-30T19:36:38.163Z"
   },
   {
    "duration": 22,
    "start_time": "2022-09-30T19:36:38.194Z"
   },
   {
    "duration": 42,
    "start_time": "2022-09-30T19:36:38.218Z"
   },
   {
    "duration": 21,
    "start_time": "2022-09-30T19:36:38.261Z"
   },
   {
    "duration": 115,
    "start_time": "2022-09-30T19:36:38.284Z"
   },
   {
    "duration": 43,
    "start_time": "2022-09-30T19:36:38.401Z"
   },
   {
    "duration": 173,
    "start_time": "2022-09-30T19:36:38.446Z"
   },
   {
    "duration": 6,
    "start_time": "2022-09-30T19:36:38.621Z"
   },
   {
    "duration": 132,
    "start_time": "2022-09-30T19:36:38.629Z"
   },
   {
    "duration": 19,
    "start_time": "2022-09-30T19:36:38.763Z"
   },
   {
    "duration": 275,
    "start_time": "2022-09-30T19:36:38.784Z"
   },
   {
    "duration": 106,
    "start_time": "2022-09-30T19:36:39.061Z"
   },
   {
    "duration": 20,
    "start_time": "2022-09-30T19:36:39.171Z"
   },
   {
    "duration": 13,
    "start_time": "2022-09-30T19:36:39.193Z"
   },
   {
    "duration": 19,
    "start_time": "2022-09-30T19:36:39.207Z"
   },
   {
    "duration": 412,
    "start_time": "2022-09-30T19:36:39.227Z"
   },
   {
    "duration": 75,
    "start_time": "2022-09-30T19:36:39.641Z"
   },
   {
    "duration": 66,
    "start_time": "2022-09-30T19:36:39.718Z"
   },
   {
    "duration": 14,
    "start_time": "2022-09-30T19:36:39.785Z"
   },
   {
    "duration": 13,
    "start_time": "2022-09-30T19:36:39.801Z"
   },
   {
    "duration": 904,
    "start_time": "2022-09-30T19:36:39.816Z"
   },
   {
    "duration": 510,
    "start_time": "2022-09-30T19:36:40.721Z"
   },
   {
    "duration": 1997,
    "start_time": "2022-09-30T19:36:41.233Z"
   },
   {
    "duration": 3,
    "start_time": "2022-09-30T19:36:43.232Z"
   },
   {
    "duration": 10,
    "start_time": "2022-09-30T19:36:43.237Z"
   },
   {
    "duration": 8,
    "start_time": "2022-09-30T19:36:43.248Z"
   },
   {
    "duration": 6,
    "start_time": "2022-09-30T19:36:43.257Z"
   },
   {
    "duration": 15,
    "start_time": "2022-09-30T19:36:43.264Z"
   },
   {
    "duration": 187,
    "start_time": "2022-09-30T19:36:43.280Z"
   },
   {
    "duration": 2,
    "start_time": "2022-09-30T19:36:43.469Z"
   },
   {
    "duration": 9,
    "start_time": "2022-09-30T19:36:43.472Z"
   },
   {
    "duration": 11,
    "start_time": "2022-09-30T19:36:43.483Z"
   },
   {
    "duration": 60,
    "start_time": "2022-09-30T19:37:09.085Z"
   },
   {
    "duration": 65,
    "start_time": "2022-09-30T19:37:26.698Z"
   },
   {
    "duration": 91,
    "start_time": "2022-09-30T19:37:30.032Z"
   },
   {
    "duration": 44,
    "start_time": "2022-09-30T19:38:09.793Z"
   },
   {
    "duration": 91,
    "start_time": "2022-09-30T19:38:41.358Z"
   },
   {
    "duration": 3,
    "start_time": "2022-09-30T19:39:02.669Z"
   },
   {
    "duration": 502,
    "start_time": "2022-09-30T19:42:15.141Z"
   },
   {
    "duration": 75,
    "start_time": "2022-09-30T19:42:53.120Z"
   },
   {
    "duration": 20944,
    "start_time": "2022-09-30T19:43:10.221Z"
   },
   {
    "duration": 45364,
    "start_time": "2022-09-30T19:44:52.100Z"
   },
   {
    "duration": 3,
    "start_time": "2022-09-30T19:46:03.393Z"
   },
   {
    "duration": 3,
    "start_time": "2022-09-30T19:46:10.070Z"
   },
   {
    "duration": 1443,
    "start_time": "2022-09-30T19:48:47.092Z"
   },
   {
    "duration": 878,
    "start_time": "2022-09-30T19:48:48.536Z"
   },
   {
    "duration": 20,
    "start_time": "2022-09-30T19:48:49.416Z"
   },
   {
    "duration": 129,
    "start_time": "2022-09-30T19:48:49.439Z"
   },
   {
    "duration": 497,
    "start_time": "2022-09-30T19:48:49.570Z"
   },
   {
    "duration": 599,
    "start_time": "2022-09-30T19:48:50.069Z"
   },
   {
    "duration": 115,
    "start_time": "2022-09-30T19:48:50.670Z"
   },
   {
    "duration": 32,
    "start_time": "2022-09-30T19:48:50.788Z"
   },
   {
    "duration": 52,
    "start_time": "2022-09-30T19:48:50.822Z"
   },
   {
    "duration": 20,
    "start_time": "2022-09-30T19:48:50.878Z"
   },
   {
    "duration": 31,
    "start_time": "2022-09-30T19:48:50.900Z"
   },
   {
    "duration": 27,
    "start_time": "2022-09-30T19:48:50.953Z"
   },
   {
    "duration": 33,
    "start_time": "2022-09-30T19:48:50.983Z"
   },
   {
    "duration": 38,
    "start_time": "2022-09-30T19:48:51.018Z"
   },
   {
    "duration": 83,
    "start_time": "2022-09-30T19:48:51.058Z"
   },
   {
    "duration": 36,
    "start_time": "2022-09-30T19:48:51.143Z"
   },
   {
    "duration": 26,
    "start_time": "2022-09-30T19:48:51.181Z"
   },
   {
    "duration": 28,
    "start_time": "2022-09-30T19:48:51.209Z"
   },
   {
    "duration": 20,
    "start_time": "2022-09-30T19:48:51.254Z"
   },
   {
    "duration": 131,
    "start_time": "2022-09-30T19:48:51.276Z"
   },
   {
    "duration": 23,
    "start_time": "2022-09-30T19:48:51.409Z"
   },
   {
    "duration": 225,
    "start_time": "2022-09-30T19:48:51.434Z"
   },
   {
    "duration": 8,
    "start_time": "2022-09-30T19:48:51.660Z"
   },
   {
    "duration": 133,
    "start_time": "2022-09-30T19:48:51.670Z"
   },
   {
    "duration": 18,
    "start_time": "2022-09-30T19:48:51.805Z"
   },
   {
    "duration": 290,
    "start_time": "2022-09-30T19:48:51.825Z"
   },
   {
    "duration": 105,
    "start_time": "2022-09-30T19:48:52.116Z"
   },
   {
    "duration": 19,
    "start_time": "2022-09-30T19:48:52.224Z"
   },
   {
    "duration": 14,
    "start_time": "2022-09-30T19:48:52.254Z"
   },
   {
    "duration": 17,
    "start_time": "2022-09-30T19:48:52.269Z"
   },
   {
    "duration": 392,
    "start_time": "2022-09-30T19:48:52.288Z"
   },
   {
    "duration": 80,
    "start_time": "2022-09-30T19:48:52.682Z"
   },
   {
    "duration": 52,
    "start_time": "2022-09-30T19:48:52.763Z"
   },
   {
    "duration": 13,
    "start_time": "2022-09-30T19:48:52.817Z"
   },
   {
    "duration": 28,
    "start_time": "2022-09-30T19:48:52.832Z"
   },
   {
    "duration": 847,
    "start_time": "2022-09-30T19:48:52.861Z"
   },
   {
    "duration": 492,
    "start_time": "2022-09-30T19:48:53.710Z"
   },
   {
    "duration": 1945,
    "start_time": "2022-09-30T19:48:54.204Z"
   },
   {
    "duration": 3,
    "start_time": "2022-09-30T19:48:56.151Z"
   },
   {
    "duration": 6,
    "start_time": "2022-09-30T19:48:56.156Z"
   },
   {
    "duration": 9,
    "start_time": "2022-09-30T19:48:56.164Z"
   },
   {
    "duration": 10,
    "start_time": "2022-09-30T19:48:56.175Z"
   },
   {
    "duration": 7,
    "start_time": "2022-09-30T19:48:56.186Z"
   },
   {
    "duration": 9,
    "start_time": "2022-09-30T19:48:56.194Z"
   },
   {
    "duration": 63,
    "start_time": "2022-09-30T19:49:48.483Z"
   },
   {
    "duration": 12437,
    "start_time": "2022-09-30T19:50:33.118Z"
   },
   {
    "duration": 13174,
    "start_time": "2022-09-30T19:51:18.786Z"
   },
   {
    "duration": 112,
    "start_time": "2022-09-30T19:51:44.194Z"
   },
   {
    "duration": 12296,
    "start_time": "2022-09-30T19:51:58.469Z"
   },
   {
    "duration": 62,
    "start_time": "2022-09-30T19:52:15.593Z"
   },
   {
    "duration": 1374,
    "start_time": "2022-09-30T19:53:36.600Z"
   },
   {
    "duration": 863,
    "start_time": "2022-09-30T19:53:37.976Z"
   },
   {
    "duration": 20,
    "start_time": "2022-09-30T19:53:38.841Z"
   },
   {
    "duration": 133,
    "start_time": "2022-09-30T19:53:38.863Z"
   },
   {
    "duration": 513,
    "start_time": "2022-09-30T19:53:38.998Z"
   },
   {
    "duration": 643,
    "start_time": "2022-09-30T19:53:39.513Z"
   },
   {
    "duration": 119,
    "start_time": "2022-09-30T19:53:40.158Z"
   },
   {
    "duration": 30,
    "start_time": "2022-09-30T19:53:40.279Z"
   },
   {
    "duration": 46,
    "start_time": "2022-09-30T19:53:40.311Z"
   },
   {
    "duration": 18,
    "start_time": "2022-09-30T19:53:40.360Z"
   },
   {
    "duration": 30,
    "start_time": "2022-09-30T19:53:40.380Z"
   },
   {
    "duration": 22,
    "start_time": "2022-09-30T19:53:40.411Z"
   },
   {
    "duration": 51,
    "start_time": "2022-09-30T19:53:40.434Z"
   },
   {
    "duration": 35,
    "start_time": "2022-09-30T19:53:40.487Z"
   },
   {
    "duration": 94,
    "start_time": "2022-09-30T19:53:40.524Z"
   },
   {
    "duration": 38,
    "start_time": "2022-09-30T19:53:40.620Z"
   },
   {
    "duration": 18,
    "start_time": "2022-09-30T19:53:40.660Z"
   },
   {
    "duration": 29,
    "start_time": "2022-09-30T19:53:40.680Z"
   },
   {
    "duration": 43,
    "start_time": "2022-09-30T19:53:40.711Z"
   },
   {
    "duration": 121,
    "start_time": "2022-09-30T19:53:40.756Z"
   },
   {
    "duration": 18,
    "start_time": "2022-09-30T19:53:40.878Z"
   },
   {
    "duration": 183,
    "start_time": "2022-09-30T19:53:40.898Z"
   },
   {
    "duration": 6,
    "start_time": "2022-09-30T19:53:41.083Z"
   },
   {
    "duration": 128,
    "start_time": "2022-09-30T19:53:41.090Z"
   },
   {
    "duration": 18,
    "start_time": "2022-09-30T19:53:41.220Z"
   },
   {
    "duration": 318,
    "start_time": "2022-09-30T19:53:41.240Z"
   },
   {
    "duration": 102,
    "start_time": "2022-09-30T19:53:41.560Z"
   },
   {
    "duration": 29,
    "start_time": "2022-09-30T19:53:41.667Z"
   },
   {
    "duration": 17,
    "start_time": "2022-09-30T19:53:41.699Z"
   },
   {
    "duration": 43,
    "start_time": "2022-09-30T19:53:41.719Z"
   },
   {
    "duration": 410,
    "start_time": "2022-09-30T19:53:41.764Z"
   },
   {
    "duration": 81,
    "start_time": "2022-09-30T19:53:42.176Z"
   },
   {
    "duration": 63,
    "start_time": "2022-09-30T19:53:42.259Z"
   },
   {
    "duration": 34,
    "start_time": "2022-09-30T19:53:42.324Z"
   },
   {
    "duration": 16,
    "start_time": "2022-09-30T19:53:42.360Z"
   },
   {
    "duration": 877,
    "start_time": "2022-09-30T19:53:42.378Z"
   },
   {
    "duration": 489,
    "start_time": "2022-09-30T19:53:43.256Z"
   },
   {
    "duration": 1969,
    "start_time": "2022-09-30T19:53:43.747Z"
   },
   {
    "duration": 4,
    "start_time": "2022-09-30T19:53:45.718Z"
   },
   {
    "duration": 6,
    "start_time": "2022-09-30T19:53:45.724Z"
   },
   {
    "duration": 5,
    "start_time": "2022-09-30T19:53:45.731Z"
   },
   {
    "duration": 9,
    "start_time": "2022-09-30T19:53:45.737Z"
   },
   {
    "duration": 3,
    "start_time": "2022-09-30T19:53:45.754Z"
   },
   {
    "duration": 8,
    "start_time": "2022-09-30T19:53:45.758Z"
   },
   {
    "duration": 8,
    "start_time": "2022-09-30T19:53:45.768Z"
   },
   {
    "duration": 10,
    "start_time": "2022-09-30T19:53:45.778Z"
   },
   {
    "duration": 238,
    "start_time": "2022-09-30T19:55:48.171Z"
   },
   {
    "duration": 8,
    "start_time": "2022-09-30T19:56:37.503Z"
   },
   {
    "duration": 1440,
    "start_time": "2022-09-30T19:57:46.701Z"
   },
   {
    "duration": 840,
    "start_time": "2022-09-30T19:57:48.143Z"
   },
   {
    "duration": 18,
    "start_time": "2022-09-30T19:57:48.985Z"
   },
   {
    "duration": 135,
    "start_time": "2022-09-30T19:57:49.005Z"
   },
   {
    "duration": 498,
    "start_time": "2022-09-30T19:57:49.142Z"
   },
   {
    "duration": 629,
    "start_time": "2022-09-30T19:57:49.642Z"
   },
   {
    "duration": 108,
    "start_time": "2022-09-30T19:57:50.274Z"
   },
   {
    "duration": 30,
    "start_time": "2022-09-30T19:57:50.384Z"
   },
   {
    "duration": 49,
    "start_time": "2022-09-30T19:57:50.416Z"
   },
   {
    "duration": 18,
    "start_time": "2022-09-30T19:57:50.468Z"
   },
   {
    "duration": 32,
    "start_time": "2022-09-30T19:57:50.488Z"
   },
   {
    "duration": 32,
    "start_time": "2022-09-30T19:57:50.522Z"
   },
   {
    "duration": 39,
    "start_time": "2022-09-30T19:57:50.556Z"
   },
   {
    "duration": 49,
    "start_time": "2022-09-30T19:57:50.597Z"
   },
   {
    "duration": 89,
    "start_time": "2022-09-30T19:57:50.648Z"
   },
   {
    "duration": 37,
    "start_time": "2022-09-30T19:57:50.739Z"
   },
   {
    "duration": 26,
    "start_time": "2022-09-30T19:57:50.779Z"
   },
   {
    "duration": 30,
    "start_time": "2022-09-30T19:57:50.807Z"
   },
   {
    "duration": 21,
    "start_time": "2022-09-30T19:57:50.855Z"
   },
   {
    "duration": 105,
    "start_time": "2022-09-30T19:57:50.878Z"
   },
   {
    "duration": 17,
    "start_time": "2022-09-30T19:57:50.985Z"
   },
   {
    "duration": 179,
    "start_time": "2022-09-30T19:57:51.004Z"
   },
   {
    "duration": 5,
    "start_time": "2022-09-30T19:57:51.185Z"
   },
   {
    "duration": 137,
    "start_time": "2022-09-30T19:57:51.191Z"
   },
   {
    "duration": 25,
    "start_time": "2022-09-30T19:57:51.330Z"
   },
   {
    "duration": 325,
    "start_time": "2022-09-30T19:57:51.356Z"
   },
   {
    "duration": 113,
    "start_time": "2022-09-30T19:57:51.683Z"
   },
   {
    "duration": 20,
    "start_time": "2022-09-30T19:57:51.799Z"
   },
   {
    "duration": 18,
    "start_time": "2022-09-30T19:57:51.820Z"
   },
   {
    "duration": 29,
    "start_time": "2022-09-30T19:57:51.839Z"
   },
   {
    "duration": 374,
    "start_time": "2022-09-30T19:57:51.870Z"
   },
   {
    "duration": 76,
    "start_time": "2022-09-30T19:57:52.246Z"
   },
   {
    "duration": 65,
    "start_time": "2022-09-30T19:57:52.324Z"
   },
   {
    "duration": 14,
    "start_time": "2022-09-30T19:57:52.391Z"
   },
   {
    "duration": 13,
    "start_time": "2022-09-30T19:57:52.406Z"
   },
   {
    "duration": 837,
    "start_time": "2022-09-30T19:57:52.421Z"
   },
   {
    "duration": 508,
    "start_time": "2022-09-30T19:57:53.260Z"
   },
   {
    "duration": 1941,
    "start_time": "2022-09-30T19:57:53.770Z"
   },
   {
    "duration": 2,
    "start_time": "2022-09-30T19:57:55.713Z"
   },
   {
    "duration": 12,
    "start_time": "2022-09-30T19:57:55.717Z"
   },
   {
    "duration": 6,
    "start_time": "2022-09-30T19:57:55.730Z"
   },
   {
    "duration": 5,
    "start_time": "2022-09-30T19:57:55.738Z"
   },
   {
    "duration": 9,
    "start_time": "2022-09-30T19:57:55.745Z"
   },
   {
    "duration": 15,
    "start_time": "2022-09-30T19:57:55.756Z"
   },
   {
    "duration": 9,
    "start_time": "2022-09-30T19:57:55.773Z"
   },
   {
    "duration": 20,
    "start_time": "2022-09-30T19:57:55.784Z"
   },
   {
    "duration": 11,
    "start_time": "2022-09-30T19:57:55.806Z"
   },
   {
    "duration": 16,
    "start_time": "2022-09-30T19:57:55.819Z"
   },
   {
    "duration": 3207,
    "start_time": "2022-09-30T20:00:23.319Z"
   },
   {
    "duration": 130,
    "start_time": "2022-09-30T20:01:07.992Z"
   },
   {
    "duration": 1549,
    "start_time": "2022-09-30T20:02:09.121Z"
   },
   {
    "duration": 919,
    "start_time": "2022-09-30T20:02:10.673Z"
   },
   {
    "duration": 26,
    "start_time": "2022-09-30T20:02:11.594Z"
   },
   {
    "duration": 160,
    "start_time": "2022-09-30T20:02:11.622Z"
   },
   {
    "duration": 518,
    "start_time": "2022-09-30T20:02:11.784Z"
   },
   {
    "duration": 699,
    "start_time": "2022-09-30T20:02:12.304Z"
   },
   {
    "duration": 126,
    "start_time": "2022-09-30T20:02:13.005Z"
   },
   {
    "duration": 41,
    "start_time": "2022-09-30T20:02:13.133Z"
   },
   {
    "duration": 31,
    "start_time": "2022-09-30T20:02:13.175Z"
   },
   {
    "duration": 19,
    "start_time": "2022-09-30T20:02:13.208Z"
   },
   {
    "duration": 47,
    "start_time": "2022-09-30T20:02:13.228Z"
   },
   {
    "duration": 24,
    "start_time": "2022-09-30T20:02:13.277Z"
   },
   {
    "duration": 33,
    "start_time": "2022-09-30T20:02:13.303Z"
   },
   {
    "duration": 33,
    "start_time": "2022-09-30T20:02:13.338Z"
   },
   {
    "duration": 99,
    "start_time": "2022-09-30T20:02:13.373Z"
   },
   {
    "duration": 31,
    "start_time": "2022-09-30T20:02:13.473Z"
   },
   {
    "duration": 22,
    "start_time": "2022-09-30T20:02:13.506Z"
   },
   {
    "duration": 40,
    "start_time": "2022-09-30T20:02:13.531Z"
   },
   {
    "duration": 23,
    "start_time": "2022-09-30T20:02:13.572Z"
   },
   {
    "duration": 127,
    "start_time": "2022-09-30T20:02:13.597Z"
   },
   {
    "duration": 34,
    "start_time": "2022-09-30T20:02:13.726Z"
   },
   {
    "duration": 209,
    "start_time": "2022-09-30T20:02:13.762Z"
   },
   {
    "duration": 6,
    "start_time": "2022-09-30T20:02:13.973Z"
   },
   {
    "duration": 130,
    "start_time": "2022-09-30T20:02:13.981Z"
   },
   {
    "duration": 18,
    "start_time": "2022-09-30T20:02:14.113Z"
   },
   {
    "duration": 276,
    "start_time": "2022-09-30T20:02:14.133Z"
   },
   {
    "duration": 117,
    "start_time": "2022-09-30T20:02:14.410Z"
   },
   {
    "duration": 26,
    "start_time": "2022-09-30T20:02:14.532Z"
   },
   {
    "duration": 14,
    "start_time": "2022-09-30T20:02:14.559Z"
   },
   {
    "duration": 17,
    "start_time": "2022-09-30T20:02:14.576Z"
   },
   {
    "duration": 407,
    "start_time": "2022-09-30T20:02:14.596Z"
   },
   {
    "duration": 81,
    "start_time": "2022-09-30T20:02:15.005Z"
   },
   {
    "duration": 54,
    "start_time": "2022-09-30T20:02:15.088Z"
   },
   {
    "duration": 13,
    "start_time": "2022-09-30T20:02:15.154Z"
   },
   {
    "duration": 14,
    "start_time": "2022-09-30T20:02:15.169Z"
   },
   {
    "duration": 905,
    "start_time": "2022-09-30T20:02:15.185Z"
   },
   {
    "duration": 502,
    "start_time": "2022-09-30T20:02:16.092Z"
   },
   {
    "duration": 1958,
    "start_time": "2022-09-30T20:02:16.596Z"
   },
   {
    "duration": 4,
    "start_time": "2022-09-30T20:02:18.557Z"
   },
   {
    "duration": 7,
    "start_time": "2022-09-30T20:02:18.562Z"
   },
   {
    "duration": 8,
    "start_time": "2022-09-30T20:02:18.570Z"
   },
   {
    "duration": 13,
    "start_time": "2022-09-30T20:02:18.580Z"
   },
   {
    "duration": 11,
    "start_time": "2022-09-30T20:02:18.595Z"
   },
   {
    "duration": 35,
    "start_time": "2022-09-30T20:02:18.608Z"
   },
   {
    "duration": 11,
    "start_time": "2022-09-30T20:02:18.645Z"
   },
   {
    "duration": 14,
    "start_time": "2022-09-30T20:02:18.658Z"
   },
   {
    "duration": 18,
    "start_time": "2022-09-30T20:02:18.674Z"
   },
   {
    "duration": 15,
    "start_time": "2022-09-30T20:02:18.694Z"
   },
   {
    "duration": 8,
    "start_time": "2022-09-30T20:02:18.710Z"
   },
   {
    "duration": 11,
    "start_time": "2022-09-30T20:02:18.720Z"
   },
   {
    "duration": 251333,
    "start_time": "2022-09-30T20:04:11.930Z"
   },
   {
    "duration": 400,
    "start_time": "2022-09-30T20:08:23.265Z"
   },
   {
    "duration": 1501,
    "start_time": "2022-09-30T20:10:36.967Z"
   },
   {
    "duration": 847,
    "start_time": "2022-09-30T20:10:38.470Z"
   },
   {
    "duration": 18,
    "start_time": "2022-09-30T20:10:39.319Z"
   },
   {
    "duration": 136,
    "start_time": "2022-09-30T20:10:39.338Z"
   },
   {
    "duration": 526,
    "start_time": "2022-09-30T20:10:39.476Z"
   },
   {
    "duration": 655,
    "start_time": "2022-09-30T20:10:40.003Z"
   },
   {
    "duration": 112,
    "start_time": "2022-09-30T20:10:40.660Z"
   },
   {
    "duration": 40,
    "start_time": "2022-09-30T20:10:40.773Z"
   },
   {
    "duration": 52,
    "start_time": "2022-09-30T20:10:40.814Z"
   },
   {
    "duration": 20,
    "start_time": "2022-09-30T20:10:40.867Z"
   },
   {
    "duration": 33,
    "start_time": "2022-09-30T20:10:40.888Z"
   },
   {
    "duration": 33,
    "start_time": "2022-09-30T20:10:40.923Z"
   },
   {
    "duration": 42,
    "start_time": "2022-09-30T20:10:40.958Z"
   },
   {
    "duration": 28,
    "start_time": "2022-09-30T20:10:41.003Z"
   },
   {
    "duration": 99,
    "start_time": "2022-09-30T20:10:41.033Z"
   },
   {
    "duration": 34,
    "start_time": "2022-09-30T20:10:41.134Z"
   },
   {
    "duration": 26,
    "start_time": "2022-09-30T20:10:41.170Z"
   },
   {
    "duration": 29,
    "start_time": "2022-09-30T20:10:41.198Z"
   },
   {
    "duration": 36,
    "start_time": "2022-09-30T20:10:41.229Z"
   },
   {
    "duration": 108,
    "start_time": "2022-09-30T20:10:41.267Z"
   },
   {
    "duration": 19,
    "start_time": "2022-09-30T20:10:41.377Z"
   },
   {
    "duration": 219,
    "start_time": "2022-09-30T20:10:41.398Z"
   },
   {
    "duration": 7,
    "start_time": "2022-09-30T20:10:41.619Z"
   },
   {
    "duration": 145,
    "start_time": "2022-09-30T20:10:41.628Z"
   },
   {
    "duration": 21,
    "start_time": "2022-09-30T20:10:41.776Z"
   },
   {
    "duration": 288,
    "start_time": "2022-09-30T20:10:41.798Z"
   },
   {
    "duration": 108,
    "start_time": "2022-09-30T20:10:42.089Z"
   },
   {
    "duration": 19,
    "start_time": "2022-09-30T20:10:42.199Z"
   },
   {
    "duration": 17,
    "start_time": "2022-09-30T20:10:42.220Z"
   },
   {
    "duration": 33,
    "start_time": "2022-09-30T20:10:42.238Z"
   },
   {
    "duration": 385,
    "start_time": "2022-09-30T20:10:42.273Z"
   },
   {
    "duration": 73,
    "start_time": "2022-09-30T20:10:42.661Z"
   },
   {
    "duration": 68,
    "start_time": "2022-09-30T20:10:42.736Z"
   },
   {
    "duration": 15,
    "start_time": "2022-09-30T20:10:42.806Z"
   },
   {
    "duration": 32,
    "start_time": "2022-09-30T20:10:42.822Z"
   },
   {
    "duration": 896,
    "start_time": "2022-09-30T20:10:42.856Z"
   },
   {
    "duration": 503,
    "start_time": "2022-09-30T20:10:43.754Z"
   },
   {
    "duration": 2013,
    "start_time": "2022-09-30T20:10:44.259Z"
   },
   {
    "duration": 3,
    "start_time": "2022-09-30T20:10:46.275Z"
   },
   {
    "duration": 9,
    "start_time": "2022-09-30T20:10:46.280Z"
   },
   {
    "duration": 8,
    "start_time": "2022-09-30T20:10:46.293Z"
   },
   {
    "duration": 6,
    "start_time": "2022-09-30T20:10:46.303Z"
   },
   {
    "duration": 8,
    "start_time": "2022-09-30T20:10:46.311Z"
   },
   {
    "duration": 12,
    "start_time": "2022-09-30T20:10:46.321Z"
   },
   {
    "duration": 17,
    "start_time": "2022-09-30T20:10:46.334Z"
   },
   {
    "duration": 11,
    "start_time": "2022-09-30T20:10:46.352Z"
   },
   {
    "duration": 6,
    "start_time": "2022-09-30T20:10:46.365Z"
   },
   {
    "duration": 8,
    "start_time": "2022-09-30T20:10:46.373Z"
   },
   {
    "duration": 5,
    "start_time": "2022-09-30T20:10:46.383Z"
   },
   {
    "duration": 12,
    "start_time": "2022-09-30T20:10:46.390Z"
   },
   {
    "duration": 20,
    "start_time": "2022-09-30T20:10:46.404Z"
   },
   {
    "duration": 10,
    "start_time": "2022-09-30T20:10:46.426Z"
   },
   {
    "duration": 264,
    "start_time": "2022-09-30T20:12:21.894Z"
   },
   {
    "duration": 1618,
    "start_time": "2022-09-30T20:12:46.741Z"
   },
   {
    "duration": 102,
    "start_time": "2022-09-30T20:13:35.664Z"
   },
   {
    "duration": 1571,
    "start_time": "2022-09-30T20:15:46.616Z"
   },
   {
    "duration": 846,
    "start_time": "2022-09-30T20:15:48.189Z"
   },
   {
    "duration": 24,
    "start_time": "2022-09-30T20:15:49.039Z"
   },
   {
    "duration": 125,
    "start_time": "2022-09-30T20:15:49.065Z"
   },
   {
    "duration": 509,
    "start_time": "2022-09-30T20:15:49.192Z"
   },
   {
    "duration": 604,
    "start_time": "2022-09-30T20:15:49.702Z"
   },
   {
    "duration": 110,
    "start_time": "2022-09-30T20:15:50.308Z"
   },
   {
    "duration": 39,
    "start_time": "2022-09-30T20:15:50.419Z"
   },
   {
    "duration": 29,
    "start_time": "2022-09-30T20:15:50.460Z"
   },
   {
    "duration": 20,
    "start_time": "2022-09-30T20:15:50.491Z"
   },
   {
    "duration": 54,
    "start_time": "2022-09-30T20:15:50.513Z"
   },
   {
    "duration": 20,
    "start_time": "2022-09-30T20:15:50.569Z"
   },
   {
    "duration": 35,
    "start_time": "2022-09-30T20:15:50.593Z"
   },
   {
    "duration": 50,
    "start_time": "2022-09-30T20:15:50.631Z"
   },
   {
    "duration": 102,
    "start_time": "2022-09-30T20:15:50.683Z"
   },
   {
    "duration": 30,
    "start_time": "2022-09-30T20:15:50.787Z"
   },
   {
    "duration": 26,
    "start_time": "2022-09-30T20:15:50.819Z"
   },
   {
    "duration": 27,
    "start_time": "2022-09-30T20:15:50.854Z"
   },
   {
    "duration": 24,
    "start_time": "2022-09-30T20:15:50.883Z"
   },
   {
    "duration": 108,
    "start_time": "2022-09-30T20:15:50.909Z"
   },
   {
    "duration": 20,
    "start_time": "2022-09-30T20:15:51.019Z"
   },
   {
    "duration": 166,
    "start_time": "2022-09-30T20:15:51.053Z"
   },
   {
    "duration": 6,
    "start_time": "2022-09-30T20:15:51.222Z"
   },
   {
    "duration": 133,
    "start_time": "2022-09-30T20:15:51.229Z"
   },
   {
    "duration": 18,
    "start_time": "2022-09-30T20:15:51.364Z"
   },
   {
    "duration": 336,
    "start_time": "2022-09-30T20:15:51.383Z"
   },
   {
    "duration": 113,
    "start_time": "2022-09-30T20:15:51.721Z"
   },
   {
    "duration": 28,
    "start_time": "2022-09-30T20:15:51.836Z"
   },
   {
    "duration": 15,
    "start_time": "2022-09-30T20:15:51.866Z"
   },
   {
    "duration": 17,
    "start_time": "2022-09-30T20:15:51.883Z"
   },
   {
    "duration": 410,
    "start_time": "2022-09-30T20:15:51.902Z"
   },
   {
    "duration": 78,
    "start_time": "2022-09-30T20:15:52.314Z"
   },
   {
    "duration": 61,
    "start_time": "2022-09-30T20:15:52.394Z"
   },
   {
    "duration": 14,
    "start_time": "2022-09-30T20:15:52.456Z"
   },
   {
    "duration": 13,
    "start_time": "2022-09-30T20:15:52.471Z"
   },
   {
    "duration": 850,
    "start_time": "2022-09-30T20:15:52.486Z"
   },
   {
    "duration": 497,
    "start_time": "2022-09-30T20:15:53.338Z"
   },
   {
    "duration": 1944,
    "start_time": "2022-09-30T20:15:53.837Z"
   },
   {
    "duration": 3,
    "start_time": "2022-09-30T20:15:55.783Z"
   },
   {
    "duration": 10,
    "start_time": "2022-09-30T20:15:55.790Z"
   },
   {
    "duration": 5,
    "start_time": "2022-09-30T20:15:55.802Z"
   },
   {
    "duration": 20,
    "start_time": "2022-09-30T20:15:55.809Z"
   },
   {
    "duration": 7,
    "start_time": "2022-09-30T20:15:55.831Z"
   },
   {
    "duration": 19,
    "start_time": "2022-09-30T20:15:55.840Z"
   },
   {
    "duration": 10,
    "start_time": "2022-09-30T20:15:55.861Z"
   },
   {
    "duration": 9,
    "start_time": "2022-09-30T20:15:55.872Z"
   },
   {
    "duration": 13,
    "start_time": "2022-09-30T20:15:55.882Z"
   },
   {
    "duration": 23,
    "start_time": "2022-09-30T20:15:55.896Z"
   },
   {
    "duration": 31,
    "start_time": "2022-09-30T20:15:55.921Z"
   },
   {
    "duration": 14,
    "start_time": "2022-09-30T20:15:55.954Z"
   },
   {
    "duration": 15,
    "start_time": "2022-09-30T20:15:55.970Z"
   },
   {
    "duration": 14,
    "start_time": "2022-09-30T20:15:55.987Z"
   },
   {
    "duration": 31,
    "start_time": "2022-09-30T20:15:56.003Z"
   },
   {
    "duration": 17,
    "start_time": "2022-09-30T20:15:56.036Z"
   },
   {
    "duration": 54,
    "start_time": "2022-09-30T21:50:00.161Z"
   },
   {
    "duration": 66,
    "start_time": "2022-09-30T21:50:08.652Z"
   },
   {
    "duration": 128,
    "start_time": "2022-09-30T21:51:27.832Z"
   },
   {
    "duration": 5,
    "start_time": "2022-09-30T21:51:59.990Z"
   },
   {
    "duration": 9,
    "start_time": "2022-09-30T21:52:06.983Z"
   },
   {
    "duration": 1461,
    "start_time": "2022-09-30T21:56:02.034Z"
   },
   {
    "duration": 855,
    "start_time": "2022-09-30T21:56:03.497Z"
   },
   {
    "duration": 22,
    "start_time": "2022-09-30T21:56:04.354Z"
   },
   {
    "duration": 134,
    "start_time": "2022-09-30T21:56:04.377Z"
   },
   {
    "duration": 512,
    "start_time": "2022-09-30T21:56:04.514Z"
   },
   {
    "duration": 639,
    "start_time": "2022-09-30T21:56:05.028Z"
   },
   {
    "duration": 114,
    "start_time": "2022-09-30T21:56:05.669Z"
   },
   {
    "duration": 31,
    "start_time": "2022-09-30T21:56:05.785Z"
   },
   {
    "duration": 45,
    "start_time": "2022-09-30T21:56:05.818Z"
   },
   {
    "duration": 19,
    "start_time": "2022-09-30T21:56:05.865Z"
   },
   {
    "duration": 31,
    "start_time": "2022-09-30T21:56:05.885Z"
   },
   {
    "duration": 37,
    "start_time": "2022-09-30T21:56:05.917Z"
   },
   {
    "duration": 32,
    "start_time": "2022-09-30T21:56:05.957Z"
   },
   {
    "duration": 29,
    "start_time": "2022-09-30T21:56:05.992Z"
   },
   {
    "duration": 104,
    "start_time": "2022-09-30T21:56:06.023Z"
   },
   {
    "duration": 35,
    "start_time": "2022-09-30T21:56:06.129Z"
   },
   {
    "duration": 25,
    "start_time": "2022-09-30T21:56:06.166Z"
   },
   {
    "duration": 29,
    "start_time": "2022-09-30T21:56:06.192Z"
   },
   {
    "duration": 34,
    "start_time": "2022-09-30T21:56:06.223Z"
   },
   {
    "duration": 101,
    "start_time": "2022-09-30T21:56:06.259Z"
   },
   {
    "duration": 18,
    "start_time": "2022-09-30T21:56:06.362Z"
   },
   {
    "duration": 175,
    "start_time": "2022-09-30T21:56:06.381Z"
   },
   {
    "duration": 6,
    "start_time": "2022-09-30T21:56:06.557Z"
   },
   {
    "duration": 130,
    "start_time": "2022-09-30T21:56:06.564Z"
   },
   {
    "duration": 18,
    "start_time": "2022-09-30T21:56:06.696Z"
   },
   {
    "duration": 275,
    "start_time": "2022-09-30T21:56:06.715Z"
   },
   {
    "duration": 116,
    "start_time": "2022-09-30T21:56:06.993Z"
   },
   {
    "duration": 20,
    "start_time": "2022-09-30T21:56:07.111Z"
   },
   {
    "duration": 26,
    "start_time": "2022-09-30T21:56:07.133Z"
   },
   {
    "duration": 20,
    "start_time": "2022-09-30T21:56:07.161Z"
   },
   {
    "duration": 407,
    "start_time": "2022-09-30T21:56:07.183Z"
   },
   {
    "duration": 82,
    "start_time": "2022-09-30T21:56:07.592Z"
   },
   {
    "duration": 54,
    "start_time": "2022-09-30T21:56:07.676Z"
   },
   {
    "duration": 29,
    "start_time": "2022-09-30T21:56:07.731Z"
   },
   {
    "duration": 14,
    "start_time": "2022-09-30T21:56:07.762Z"
   },
   {
    "duration": 843,
    "start_time": "2022-09-30T21:56:07.778Z"
   },
   {
    "duration": 493,
    "start_time": "2022-09-30T21:56:08.623Z"
   },
   {
    "duration": 1933,
    "start_time": "2022-09-30T21:56:09.117Z"
   },
   {
    "duration": 3,
    "start_time": "2022-09-30T21:56:11.053Z"
   },
   {
    "duration": 16,
    "start_time": "2022-09-30T21:56:11.057Z"
   },
   {
    "duration": 2,
    "start_time": "2022-09-30T21:56:11.078Z"
   },
   {
    "duration": 5,
    "start_time": "2022-09-30T21:56:11.082Z"
   },
   {
    "duration": 10,
    "start_time": "2022-09-30T21:56:11.089Z"
   },
   {
    "duration": 12,
    "start_time": "2022-09-30T21:56:11.101Z"
   },
   {
    "duration": 6,
    "start_time": "2022-09-30T21:56:11.114Z"
   },
   {
    "duration": 6,
    "start_time": "2022-09-30T21:56:11.121Z"
   },
   {
    "duration": 11,
    "start_time": "2022-09-30T21:56:11.129Z"
   },
   {
    "duration": 7,
    "start_time": "2022-09-30T21:56:11.141Z"
   },
   {
    "duration": 7,
    "start_time": "2022-09-30T21:56:11.150Z"
   },
   {
    "duration": 9,
    "start_time": "2022-09-30T21:56:11.159Z"
   },
   {
    "duration": 5,
    "start_time": "2022-09-30T21:56:11.170Z"
   },
   {
    "duration": 5,
    "start_time": "2022-09-30T21:56:11.176Z"
   },
   {
    "duration": 5,
    "start_time": "2022-09-30T21:56:11.183Z"
   },
   {
    "duration": 10,
    "start_time": "2022-09-30T21:56:11.190Z"
   },
   {
    "duration": 8,
    "start_time": "2022-09-30T21:56:11.202Z"
   },
   {
    "duration": 12,
    "start_time": "2022-09-30T21:56:11.211Z"
   },
   {
    "duration": 3374,
    "start_time": "2022-09-30T21:56:11.225Z"
   },
   {
    "duration": 3267,
    "start_time": "2022-09-30T21:56:26.373Z"
   },
   {
    "duration": 1707,
    "start_time": "2022-09-30T21:58:13.848Z"
   },
   {
    "duration": 1457,
    "start_time": "2022-09-30T22:00:12.407Z"
   },
   {
    "duration": 855,
    "start_time": "2022-09-30T22:00:13.866Z"
   },
   {
    "duration": 19,
    "start_time": "2022-09-30T22:00:14.723Z"
   },
   {
    "duration": 189,
    "start_time": "2022-09-30T22:00:14.744Z"
   },
   {
    "duration": 519,
    "start_time": "2022-09-30T22:00:14.935Z"
   },
   {
    "duration": 646,
    "start_time": "2022-09-30T22:00:15.455Z"
   },
   {
    "duration": 113,
    "start_time": "2022-09-30T22:00:16.103Z"
   },
   {
    "duration": 38,
    "start_time": "2022-09-30T22:00:16.217Z"
   },
   {
    "duration": 26,
    "start_time": "2022-09-30T22:00:16.256Z"
   },
   {
    "duration": 21,
    "start_time": "2022-09-30T22:00:16.283Z"
   },
   {
    "duration": 48,
    "start_time": "2022-09-30T22:00:16.306Z"
   },
   {
    "duration": 18,
    "start_time": "2022-09-30T22:00:16.356Z"
   },
   {
    "duration": 46,
    "start_time": "2022-09-30T22:00:16.376Z"
   },
   {
    "duration": 33,
    "start_time": "2022-09-30T22:00:16.425Z"
   },
   {
    "duration": 102,
    "start_time": "2022-09-30T22:00:16.460Z"
   },
   {
    "duration": 29,
    "start_time": "2022-09-30T22:00:16.564Z"
   },
   {
    "duration": 22,
    "start_time": "2022-09-30T22:00:16.595Z"
   },
   {
    "duration": 39,
    "start_time": "2022-09-30T22:00:16.619Z"
   },
   {
    "duration": 26,
    "start_time": "2022-09-30T22:00:16.660Z"
   },
   {
    "duration": 109,
    "start_time": "2022-09-30T22:00:16.688Z"
   },
   {
    "duration": 20,
    "start_time": "2022-09-30T22:00:16.798Z"
   },
   {
    "duration": 185,
    "start_time": "2022-09-30T22:00:16.820Z"
   },
   {
    "duration": 6,
    "start_time": "2022-09-30T22:00:17.007Z"
   },
   {
    "duration": 137,
    "start_time": "2022-09-30T22:00:17.015Z"
   },
   {
    "duration": 19,
    "start_time": "2022-09-30T22:00:17.154Z"
   },
   {
    "duration": 298,
    "start_time": "2022-09-30T22:00:17.175Z"
   },
   {
    "duration": 107,
    "start_time": "2022-09-30T22:00:17.474Z"
   },
   {
    "duration": 21,
    "start_time": "2022-09-30T22:00:17.583Z"
   },
   {
    "duration": 13,
    "start_time": "2022-09-30T22:00:17.606Z"
   },
   {
    "duration": 40,
    "start_time": "2022-09-30T22:00:17.621Z"
   },
   {
    "duration": 379,
    "start_time": "2022-09-30T22:00:17.662Z"
   },
   {
    "duration": 79,
    "start_time": "2022-09-30T22:00:18.044Z"
   },
   {
    "duration": 59,
    "start_time": "2022-09-30T22:00:18.125Z"
   },
   {
    "duration": 13,
    "start_time": "2022-09-30T22:00:18.186Z"
   },
   {
    "duration": 14,
    "start_time": "2022-09-30T22:00:18.200Z"
   },
   {
    "duration": 895,
    "start_time": "2022-09-30T22:00:18.215Z"
   },
   {
    "duration": 532,
    "start_time": "2022-09-30T22:00:19.112Z"
   },
   {
    "duration": 1975,
    "start_time": "2022-09-30T22:00:19.646Z"
   },
   {
    "duration": 4,
    "start_time": "2022-09-30T22:00:21.623Z"
   },
   {
    "duration": 8,
    "start_time": "2022-09-30T22:00:21.629Z"
   },
   {
    "duration": 13,
    "start_time": "2022-09-30T22:00:21.641Z"
   },
   {
    "duration": 4,
    "start_time": "2022-09-30T22:00:21.655Z"
   },
   {
    "duration": 6,
    "start_time": "2022-09-30T22:00:21.661Z"
   },
   {
    "duration": 13,
    "start_time": "2022-09-30T22:00:21.669Z"
   },
   {
    "duration": 6,
    "start_time": "2022-09-30T22:00:21.684Z"
   },
   {
    "duration": 11,
    "start_time": "2022-09-30T22:00:21.691Z"
   },
   {
    "duration": 7,
    "start_time": "2022-09-30T22:00:21.704Z"
   },
   {
    "duration": 7,
    "start_time": "2022-09-30T22:00:21.712Z"
   },
   {
    "duration": 11,
    "start_time": "2022-09-30T22:00:21.721Z"
   },
   {
    "duration": 10,
    "start_time": "2022-09-30T22:00:21.734Z"
   },
   {
    "duration": 6,
    "start_time": "2022-09-30T22:00:21.746Z"
   },
   {
    "duration": 10,
    "start_time": "2022-09-30T22:00:21.754Z"
   },
   {
    "duration": 5,
    "start_time": "2022-09-30T22:00:21.766Z"
   },
   {
    "duration": 7,
    "start_time": "2022-09-30T22:00:21.773Z"
   },
   {
    "duration": 9,
    "start_time": "2022-09-30T22:00:21.782Z"
   },
   {
    "duration": 14,
    "start_time": "2022-09-30T22:00:21.793Z"
   },
   {
    "duration": 3302,
    "start_time": "2022-09-30T22:00:21.809Z"
   },
   {
    "duration": 2750,
    "start_time": "2022-09-30T22:00:25.113Z"
   }
  ],
  "kernelspec": {
   "display_name": "Python 3 (ipykernel)",
   "language": "python",
   "name": "python3"
  },
  "language_info": {
   "codemirror_mode": {
    "name": "ipython",
    "version": 3
   },
   "file_extension": ".py",
   "mimetype": "text/x-python",
   "name": "python",
   "nbconvert_exporter": "python",
   "pygments_lexer": "ipython3",
   "version": "3.9.12"
  },
  "toc": {
   "base_numbering": 1,
   "nav_menu": {},
   "number_sections": true,
   "sideBar": true,
   "skip_h1_title": true,
   "title_cell": "Table of Contents",
   "title_sidebar": "Contents",
   "toc_cell": false,
   "toc_position": {},
   "toc_section_display": true,
   "toc_window_display": false
  }
 },
 "nbformat": 4,
 "nbformat_minor": 2
}
