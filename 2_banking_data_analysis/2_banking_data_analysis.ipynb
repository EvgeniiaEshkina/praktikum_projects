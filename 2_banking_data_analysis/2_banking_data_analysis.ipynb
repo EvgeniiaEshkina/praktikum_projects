{
 "cells": [
  {
   "cell_type": "markdown",
   "id": "bf22dfd6",
   "metadata": {},
   "source": [
    "# Исследование надежности заемщиков.\n",
    "Используя данные банка, необходимо выяснить, влияет ли семейное положение и количество детей клиента на факт погашения кредита в срок."
   ]
  },
  {
   "cell_type": "markdown",
   "id": "014ca14b",
   "metadata": {},
   "source": [
    "### Шаг 1. Обзор данных\n",
    "Данные - статистика банка о платежеспособности клиентов.<br>\n",
    "•\tchildren — количество детей в семье<br>\n",
    "•\tdays_employed — общий трудовой стаж в днях<br>\n",
    "•\tdob_years — возраст клиента в годах<br>\n",
    "•\teducation — уровень образования клиента<br>\n",
    "•\teducation_id — идентификатор уровня образования<br>\n",
    "•\tfamily_status — семейное положение<br>\n",
    "•\tfamily_status_id — идентификатор семейного положения<br>\n",
    "•\tgender — пол клиента<br>\n",
    "•\tincome_type — тип занятости<br>\n",
    "•\tdebt — имел ли задолженность по возврату кредитов<br>\n",
    "•\ttotal_income — ежемесячный доход<br>\n",
    "•\tpurpose — цель получения кредита<br>"
   ]
  },
  {
   "cell_type": "code",
   "execution_count": 1,
   "id": "1495ce8f",
   "metadata": {},
   "outputs": [],
   "source": [
    "import pandas as pd"
   ]
  },
  {
   "cell_type": "code",
   "execution_count": 2,
   "id": "55873d65",
   "metadata": {
    "scrolled": false
   },
   "outputs": [
    {
     "name": "stdout",
     "output_type": "stream",
     "text": [
      "<class 'pandas.core.frame.DataFrame'>\n",
      "RangeIndex: 21525 entries, 0 to 21524\n",
      "Data columns (total 12 columns):\n",
      " #   Column            Non-Null Count  Dtype  \n",
      "---  ------            --------------  -----  \n",
      " 0   children          21525 non-null  int64  \n",
      " 1   days_employed     19351 non-null  float64\n",
      " 2   dob_years         21525 non-null  int64  \n",
      " 3   education         21525 non-null  object \n",
      " 4   education_id      21525 non-null  int64  \n",
      " 5   family_status     21525 non-null  object \n",
      " 6   family_status_id  21525 non-null  int64  \n",
      " 7   gender            21525 non-null  object \n",
      " 8   income_type       21525 non-null  object \n",
      " 9   debt              21525 non-null  int64  \n",
      " 10  total_income      19351 non-null  float64\n",
      " 11  purpose           21525 non-null  object \n",
      "dtypes: float64(2), int64(5), object(5)\n",
      "memory usage: 2.0+ MB\n",
      "None\n",
      "\n"
     ]
    },
    {
     "data": {
      "text/html": [
       "<div>\n",
       "<style scoped>\n",
       "    .dataframe tbody tr th:only-of-type {\n",
       "        vertical-align: middle;\n",
       "    }\n",
       "\n",
       "    .dataframe tbody tr th {\n",
       "        vertical-align: top;\n",
       "    }\n",
       "\n",
       "    .dataframe thead th {\n",
       "        text-align: right;\n",
       "    }\n",
       "</style>\n",
       "<table border=\"1\" class=\"dataframe\">\n",
       "  <thead>\n",
       "    <tr style=\"text-align: right;\">\n",
       "      <th></th>\n",
       "      <th>children</th>\n",
       "      <th>days_employed</th>\n",
       "      <th>dob_years</th>\n",
       "      <th>education</th>\n",
       "      <th>education_id</th>\n",
       "      <th>family_status</th>\n",
       "      <th>family_status_id</th>\n",
       "      <th>gender</th>\n",
       "      <th>income_type</th>\n",
       "      <th>debt</th>\n",
       "      <th>total_income</th>\n",
       "      <th>purpose</th>\n",
       "    </tr>\n",
       "  </thead>\n",
       "  <tbody>\n",
       "    <tr>\n",
       "      <th>0</th>\n",
       "      <td>1</td>\n",
       "      <td>-8437.673028</td>\n",
       "      <td>42</td>\n",
       "      <td>высшее</td>\n",
       "      <td>0</td>\n",
       "      <td>женат / замужем</td>\n",
       "      <td>0</td>\n",
       "      <td>F</td>\n",
       "      <td>сотрудник</td>\n",
       "      <td>0</td>\n",
       "      <td>253875.639453</td>\n",
       "      <td>покупка жилья</td>\n",
       "    </tr>\n",
       "    <tr>\n",
       "      <th>1</th>\n",
       "      <td>1</td>\n",
       "      <td>-4024.803754</td>\n",
       "      <td>36</td>\n",
       "      <td>среднее</td>\n",
       "      <td>1</td>\n",
       "      <td>женат / замужем</td>\n",
       "      <td>0</td>\n",
       "      <td>F</td>\n",
       "      <td>сотрудник</td>\n",
       "      <td>0</td>\n",
       "      <td>112080.014102</td>\n",
       "      <td>приобретение автомобиля</td>\n",
       "    </tr>\n",
       "    <tr>\n",
       "      <th>2</th>\n",
       "      <td>0</td>\n",
       "      <td>-5623.422610</td>\n",
       "      <td>33</td>\n",
       "      <td>Среднее</td>\n",
       "      <td>1</td>\n",
       "      <td>женат / замужем</td>\n",
       "      <td>0</td>\n",
       "      <td>M</td>\n",
       "      <td>сотрудник</td>\n",
       "      <td>0</td>\n",
       "      <td>145885.952297</td>\n",
       "      <td>покупка жилья</td>\n",
       "    </tr>\n",
       "    <tr>\n",
       "      <th>3</th>\n",
       "      <td>3</td>\n",
       "      <td>-4124.747207</td>\n",
       "      <td>32</td>\n",
       "      <td>среднее</td>\n",
       "      <td>1</td>\n",
       "      <td>женат / замужем</td>\n",
       "      <td>0</td>\n",
       "      <td>M</td>\n",
       "      <td>сотрудник</td>\n",
       "      <td>0</td>\n",
       "      <td>267628.550329</td>\n",
       "      <td>дополнительное образование</td>\n",
       "    </tr>\n",
       "    <tr>\n",
       "      <th>4</th>\n",
       "      <td>0</td>\n",
       "      <td>340266.072047</td>\n",
       "      <td>53</td>\n",
       "      <td>среднее</td>\n",
       "      <td>1</td>\n",
       "      <td>гражданский брак</td>\n",
       "      <td>1</td>\n",
       "      <td>F</td>\n",
       "      <td>пенсионер</td>\n",
       "      <td>0</td>\n",
       "      <td>158616.077870</td>\n",
       "      <td>сыграть свадьбу</td>\n",
       "    </tr>\n",
       "  </tbody>\n",
       "</table>\n",
       "</div>"
      ],
      "text/plain": [
       "   children  days_employed  dob_years education  education_id  \\\n",
       "0         1   -8437.673028         42    высшее             0   \n",
       "1         1   -4024.803754         36   среднее             1   \n",
       "2         0   -5623.422610         33   Среднее             1   \n",
       "3         3   -4124.747207         32   среднее             1   \n",
       "4         0  340266.072047         53   среднее             1   \n",
       "\n",
       "      family_status  family_status_id gender income_type  debt   total_income  \\\n",
       "0   женат / замужем                 0      F   сотрудник     0  253875.639453   \n",
       "1   женат / замужем                 0      F   сотрудник     0  112080.014102   \n",
       "2   женат / замужем                 0      M   сотрудник     0  145885.952297   \n",
       "3   женат / замужем                 0      M   сотрудник     0  267628.550329   \n",
       "4  гражданский брак                 1      F   пенсионер     0  158616.077870   \n",
       "\n",
       "                      purpose  \n",
       "0               покупка жилья  \n",
       "1     приобретение автомобиля  \n",
       "2               покупка жилья  \n",
       "3  дополнительное образование  \n",
       "4             сыграть свадьбу  "
      ]
     },
     "execution_count": 2,
     "metadata": {},
     "output_type": "execute_result"
    }
   ],
   "source": [
    "data = pd.read_csv('/datasets/data.csv')\n",
    "print(data.info())\n",
    "print()\n",
    "data.head() #Знакомимся с данными."
   ]
  },
  {
   "cell_type": "markdown",
   "id": "c4cc1309",
   "metadata": {},
   "source": [
    "Сразу можно отметить, что в данных присутствуют некоторые проблемы: пропуски в столбцах 'days_employed' и 'total_income', разные регистры в столбце 'education'."
   ]
  },
  {
   "cell_type": "markdown",
   "id": "59104972",
   "metadata": {},
   "source": [
    "### Шаг 2.1 Заполнение пропусков\n",
    "В данных есть пропуски в двух столбцах: 'days_employed' и 'total_income'. Пропуски составляют 11% от всех значений столбца. Это много, соответстенно, данные с пропусками нельзя просто удалить. Количество пропусков в обоих столбцах совпадает. Скорее всего, это строки безработных клиентов, тогда логично, что данные о трудовом стаже и о доходе отсутсвуют. Пропуски в данных о доходах заполним медианным значением по столбцу, так как медианное значение лучше отражает средний показатель и не зависит от выделяющихся крупных и мелких значений, как среднее арифметическое."
   ]
  },
  {
   "cell_type": "code",
   "execution_count": 3,
   "id": "787c5f34",
   "metadata": {},
   "outputs": [],
   "source": [
    "data.isna().sum() #Ищем пропущенные значения\n",
    "none_share = data['total_income'].isna().sum() / data['total_income'].count() * 100#Находим долю пропущенных значений в столбце.\n",
    "#print(none_share)\n",
    "total_income_median = data['total_income'].median() #Находим медианное значение столбца.\n",
    "data['total_income'] = data['total_income'].fillna(total_income_median) #Заполняем пропуски в столбце медианным значением."
   ]
  },
  {
   "cell_type": "markdown",
   "id": "6b338fdd",
   "metadata": {},
   "source": [
    "### Шаг 2.2 Проверка данных на аномалии и исправления.\n",
    "Столбец 'days_employed' содержит отрицательные значения. Количество дней трудового стажа не может быть отрицательным, соответственно, можно сделать вывод, что это механическая ошибка. Чтобы заполнить пропуски в данном столбце, необходимо сначала избавиться от отрицательных значений, а затем посчитать медианное значение по столбцу и заполнить им пропуски. Столбец 'children' тоже содержит отрицательное значение, что невозможно, избавимся от отрицательных значений и в этом столбце."
   ]
  },
  {
   "cell_type": "code",
   "execution_count": 4,
   "id": "b75bb4b3",
   "metadata": {},
   "outputs": [],
   "source": [
    "data['days_employed'] = data['days_employed'].abs() #Избавимся от отрицательных значений в столбце.\n",
    "days_employed_median = data['days_employed'].median() #Находим медианное значение столбца.\n",
    "data['days_employed'] = data['days_employed'].fillna(days_employed_median) #Заполняем пропуски в столбце медианным значением.\n",
    "#data.isna().sum() #Проверим, не осталось ли пропусков в данных.\n",
    "data['children'] = data['children'].abs() #Избавимся от отрицательных значений в столбце."
   ]
  },
  {
   "cell_type": "markdown",
   "id": "a83cfdc8",
   "metadata": {},
   "source": [
    "Среди значений в столбце 'children' сильно выделяется значение 20. Скорее всего, это тоже ошибка, заменим 20 на 2."
   ]
  },
  {
   "cell_type": "code",
   "execution_count": 5,
   "id": "0e02d411",
   "metadata": {},
   "outputs": [],
   "source": [
    "#data['children'].unique() #Проверяем значения в столбце.\n",
    "data.loc[data['children']==20, 'children'] = 2 #Заменяем значения в столбце на основе условия."
   ]
  },
  {
   "cell_type": "markdown",
   "id": "0ff2904f",
   "metadata": {},
   "source": [
    "### Шаг 2.3. Изменение типов данных.\n",
    "Для удобства анализа заменим дробные числа в столбцах 'days_employed' и 'total_income' на целые."
   ]
  },
  {
   "cell_type": "code",
   "execution_count": 6,
   "id": "a4457258",
   "metadata": {},
   "outputs": [],
   "source": [
    "data['days_employed'] = data['days_employed'].astype(int) #Заменяем вещественный тип данных в столбце на целочисленный.\n",
    "data['total_income'] = data['total_income'].astype(int) #Заменяем вещественный тип данных в столбце на целочисленный."
   ]
  },
  {
   "cell_type": "markdown",
   "id": "9ad9a9ea",
   "metadata": {},
   "source": [
    "### Шаг 2.4. Удаление дубликатов.\n",
    "Данные содержат строки-дубликаты, их необходимо удалить. Также в двух столбцах ('education', 'purpose') содержатся неявные дубликаты, от которых тоже необходимо избавиться. Дубликаты в столбце 'education' связаны с тем, что при введении данных был использован разный регистр, удалить эти дубликаты можно, приведя все значения столбца к единому регистру. Неявные дубликаты в столбце 'purpose' связаны с тем, что при заполнении данного столбца использовались синонимы и различные формулировки для одних и тех же целей. Для работы с этим столбцом в дальнейшем необходимо будет разделить все цели на категории и создать для этих категорий отдельный столбец."
   ]
  },
  {
   "cell_type": "code",
   "execution_count": 7,
   "id": "8ea76838",
   "metadata": {},
   "outputs": [],
   "source": [
    "data.duplicated().sum() #Проверяем, есть ли в данных дубликаты.\n",
    "data = data.drop_duplicates().reset_index(drop=True) #Удаляем строки-дубликаты.\n",
    "data['education'].unique() #Проверяем столбец на наличие неявных дубликатов.\n",
    "data['education_id'].unique() #Проверяем столбец на наличие неявных дубликатов.\n",
    "data['family_status'].unique() #Проверяем столбец на наличие неявных дубликатов.\n",
    "data['family_status_id'].unique() #Проверяем столбец на наличие неявных дубликатов.\n",
    "data['gender'].unique() #Проверяем столбец на наличие неявных дубликатов.\n",
    "data['income_type'].unique() #Проверяем столбец на наличие неявных дубликатов.\n",
    "data['debt'].unique() #Проверяем столбец на наличие неявных дубликатов.\n",
    "data['purpose'].unique() #Проверяем столбец на наличие неявных дубликатов.\n",
    "data['education'] = data['education'].str.lower() #Приведем все значения столбца к нижнему регистру.\n",
    "#data['education'].unique() #Проверим избавление от неявных дубликатов в столбце."
   ]
  },
  {
   "cell_type": "markdown",
   "id": "50ba3cde",
   "metadata": {},
   "source": [
    "### Шаг 2.5. Формирование дополнительных датафреймов словарей, декомпозиция исходного датафрейма.\n",
    "Для того, чтобы сделать данные более компактными и удобными для анализа, необходимо удалить столбцы 'education' и 'family_status', предварительно вынеся их в новые датафреймы, к которым можно будет обращаться по идентификатору."
   ]
  },
  {
   "cell_type": "code",
   "execution_count": 8,
   "id": "567adbfa",
   "metadata": {},
   "outputs": [],
   "source": [
    "data_education = data[['education','education_id']] #Создаем новый датафрейм.\n",
    "data_family = data[['family_status', 'family_status_id']] #Создаем новый датафрейм.\n",
    "data = data.drop(['education'], axis=1) #Удаляем столбец из датафрейма.\n",
    "data = data.drop(['family_status'], axis=1) #Удаляем столбец из датафрейма."
   ]
  },
  {
   "cell_type": "markdown",
   "id": "0c412406",
   "metadata": {},
   "source": [
    "### Шаг 2.6. Категоризация дохода.\n",
    "Для удобства анализа разделим всех клиентов на категорию по уровню дохода и создадим отдельных столбец с категориями. <br>\n",
    "0–30000 — 'E';<br>\n",
    "30001–50000 — 'D';<br>\n",
    "50001–200000 — 'C';<br>\n",
    "200001–1000000 — 'B';<br>\n",
    "1000001 и выше — 'A'."
   ]
  },
  {
   "cell_type": "code",
   "execution_count": 9,
   "id": "e54116a2",
   "metadata": {},
   "outputs": [],
   "source": [
    "def total_income_category(total_income): #Функция для деления на категории по уровню дохода.\n",
    "    if 0 < total_income < 30000:\n",
    "        return 'E'\n",
    "    if 30001 < total_income < 50000:\n",
    "        return 'D'\n",
    "    if 50001 < total_income < 200000:\n",
    "        return 'C'\n",
    "    if 200001 < total_income < 1000000:\n",
    "        return 'B'\n",
    "    if total_income > 1000001:\n",
    "        return 'A'\n",
    "data['total_income_category'] = data['total_income'].apply(total_income_category) #Создаем новый столбец с категориями клиентов по уровню дохода."
   ]
  },
  {
   "cell_type": "markdown",
   "id": "029ea816",
   "metadata": {},
   "source": [
    "### Шаг 2.7. Категоризация целей кредита.\n",
    "Для удобства анализа разделим всех клиентов на категории по целям, на которые был взят кредит.<br>\n",
    "'операции с автомобилем',<br>\n",
    "'операции с недвижимостью',<br>\n",
    "'проведение свадьбы',<br>\n",
    "'получение образования'."
   ]
  },
  {
   "cell_type": "code",
   "execution_count": 10,
   "id": "d53262b4",
   "metadata": {},
   "outputs": [],
   "source": [
    "#data['purpose'].unique() #Посмотрим, какие формулировки целей есть в столбце.\n",
    "def purpose_category(purpose): #Функция для деления на категории по целям кредита.\n",
    "    if 'авто' in purpose:\n",
    "        return 'операции с автомобилем'\n",
    "    if 'жиль' in purpose:\n",
    "        return 'операции с недвижимостью'\n",
    "    if 'недвиж' in purpose:\n",
    "        return 'операции с недвижимостью'\n",
    "    if 'свадь' in purpose:\n",
    "        return 'проведение свадьбы'\n",
    "    if 'образ' in purpose:\n",
    "        return 'получение образования'\n",
    "data['purpose_category'] = data['purpose'].apply(purpose_category) #Создаем новый столбец с категориями клиентов по целям кредита."
   ]
  },
  {
   "cell_type": "markdown",
   "id": "de47e613",
   "metadata": {},
   "source": [
    "### Ответы на вопросы."
   ]
  },
  {
   "cell_type": "markdown",
   "id": "62487406",
   "metadata": {},
   "source": [
    "##### Вопрос 1: Есть ли зависимость между количеством детей и возвратом кредита в срок?"
   ]
  },
  {
   "cell_type": "code",
   "execution_count": 11,
   "id": "ed60781b",
   "metadata": {},
   "outputs": [
    {
     "data": {
      "text/html": [
       "<div>\n",
       "<style scoped>\n",
       "    .dataframe tbody tr th:only-of-type {\n",
       "        vertical-align: middle;\n",
       "    }\n",
       "\n",
       "    .dataframe tbody tr th {\n",
       "        vertical-align: top;\n",
       "    }\n",
       "\n",
       "    .dataframe thead th {\n",
       "        text-align: right;\n",
       "    }\n",
       "</style>\n",
       "<table border=\"1\" class=\"dataframe\">\n",
       "  <thead>\n",
       "    <tr style=\"text-align: right;\">\n",
       "      <th></th>\n",
       "      <th>debt</th>\n",
       "    </tr>\n",
       "    <tr>\n",
       "      <th>children</th>\n",
       "      <th></th>\n",
       "    </tr>\n",
       "  </thead>\n",
       "  <tbody>\n",
       "    <tr>\n",
       "      <th>0</th>\n",
       "      <td>0.075353</td>\n",
       "    </tr>\n",
       "    <tr>\n",
       "      <th>1</th>\n",
       "      <td>0.091639</td>\n",
       "    </tr>\n",
       "    <tr>\n",
       "      <th>2</th>\n",
       "      <td>0.094925</td>\n",
       "    </tr>\n",
       "    <tr>\n",
       "      <th>3</th>\n",
       "      <td>0.081818</td>\n",
       "    </tr>\n",
       "    <tr>\n",
       "      <th>4</th>\n",
       "      <td>0.097561</td>\n",
       "    </tr>\n",
       "    <tr>\n",
       "      <th>5</th>\n",
       "      <td>0.000000</td>\n",
       "    </tr>\n",
       "  </tbody>\n",
       "</table>\n",
       "</div>"
      ],
      "text/plain": [
       "              debt\n",
       "children          \n",
       "0         0.075353\n",
       "1         0.091639\n",
       "2         0.094925\n",
       "3         0.081818\n",
       "4         0.097561\n",
       "5         0.000000"
      ]
     },
     "execution_count": 11,
     "metadata": {},
     "output_type": "execute_result"
    }
   ],
   "source": [
    "pd.pivot_table(data, index='children', values='debt')"
   ]
  },
  {
   "cell_type": "markdown",
   "id": "e1ec88f3",
   "metadata": {},
   "source": [
    "##### Вывод 1:\n",
    "По полученной таблице видно, что количество должников в семьях с разным количеством детей примерно одинаковое - от 7 до 10%. Выбивается только показатель должников среди семей с 5 детьмя - 0%, но это должно быть связано с тем, что семей с 5 детьмя в предоставленных данных меньше всех, поэтому, показатель по клиентам с 5 детьми можно считать ненадежным.. Таким образом, можно сделать вывод, что количество детей не влияет критично на возврат кредита в срок, но самыми надежными можно назвать клиентов без детей, а самыми ненадежными - клиентов с 4 детьми."
   ]
  },
  {
   "cell_type": "markdown",
   "id": "fbbe926d",
   "metadata": {},
   "source": [
    "##### Вопрос 2: Есть ли зависимость между семейным положением и возвратом кредита в срок?"
   ]
  },
  {
   "cell_type": "code",
   "execution_count": 12,
   "id": "08d8bae7",
   "metadata": {
    "scrolled": true
   },
   "outputs": [
    {
     "name": "stdout",
     "output_type": "stream",
     "text": [
      "                      debt\n",
      "family_status_id          \n",
      "0                 0.075421\n",
      "1                 0.093202\n",
      "2                 0.065693\n",
      "3                 0.071130\n",
      "4                 0.097509\n"
     ]
    }
   ],
   "source": [
    "print(pd.pivot_table(data, index=['family_status_id'], values=['debt'])) #Строим сводную таблицу для сравнения."
   ]
  },
  {
   "cell_type": "markdown",
   "id": "14fed7d1",
   "metadata": {},
   "source": [
    "##### Вывод 2:\n",
    "По полученной таблице видно, что возврат кредита в срок не зависит критично от гражданского статуса кредитора, количество должников по всем категориям семейного статуса остается в диапазоне 7-10%. Однако, можно сделать вывод, что самыми надежными клиентами являются вдовы и вдовцы, а самыми ненадежными - холостые клиенты."
   ]
  },
  {
   "cell_type": "markdown",
   "id": "75d48d9f",
   "metadata": {},
   "source": [
    "##### Вопрос 3: Есть ли зависимость между уровнем дохода и возвратом кредита в срок?"
   ]
  },
  {
   "cell_type": "code",
   "execution_count": 13,
   "id": "04c7695a",
   "metadata": {},
   "outputs": [
    {
     "data": {
      "text/html": [
       "<div>\n",
       "<style scoped>\n",
       "    .dataframe tbody tr th:only-of-type {\n",
       "        vertical-align: middle;\n",
       "    }\n",
       "\n",
       "    .dataframe tbody tr th {\n",
       "        vertical-align: top;\n",
       "    }\n",
       "\n",
       "    .dataframe thead th {\n",
       "        text-align: right;\n",
       "    }\n",
       "</style>\n",
       "<table border=\"1\" class=\"dataframe\">\n",
       "  <thead>\n",
       "    <tr style=\"text-align: right;\">\n",
       "      <th></th>\n",
       "      <th>debt</th>\n",
       "    </tr>\n",
       "    <tr>\n",
       "      <th>total_income_category</th>\n",
       "      <th></th>\n",
       "    </tr>\n",
       "  </thead>\n",
       "  <tbody>\n",
       "    <tr>\n",
       "      <th>A</th>\n",
       "      <td>0.080000</td>\n",
       "    </tr>\n",
       "    <tr>\n",
       "      <th>B</th>\n",
       "      <td>0.070635</td>\n",
       "    </tr>\n",
       "    <tr>\n",
       "      <th>C</th>\n",
       "      <td>0.084825</td>\n",
       "    </tr>\n",
       "    <tr>\n",
       "      <th>D</th>\n",
       "      <td>0.060000</td>\n",
       "    </tr>\n",
       "    <tr>\n",
       "      <th>E</th>\n",
       "      <td>0.090909</td>\n",
       "    </tr>\n",
       "  </tbody>\n",
       "</table>\n",
       "</div>"
      ],
      "text/plain": [
       "                           debt\n",
       "total_income_category          \n",
       "A                      0.080000\n",
       "B                      0.070635\n",
       "C                      0.084825\n",
       "D                      0.060000\n",
       "E                      0.090909"
      ]
     },
     "execution_count": 13,
     "metadata": {},
     "output_type": "execute_result"
    }
   ],
   "source": [
    "pd.pivot_table(data, index=['total_income_category'], values=['debt']) #Строим сводную таблицу для сравнения."
   ]
  },
  {
   "cell_type": "markdown",
   "id": "4c39112b",
   "metadata": {},
   "source": [
    "##### Вывод 3:\n",
    "По полученной таблице видно, что наибольшее количество должников - среди клиентов с самым низким уровнем дохода, а самый низкий процент - среди клиентов с уровнем дохода ниже среднего. Однако, процент должников в каждой группе различается очень слабо, все данные входят в диапазон от 6 до 9%."
   ]
  },
  {
   "cell_type": "markdown",
   "id": "51f305ef",
   "metadata": {},
   "source": [
    "##### Вопрос 4: Как разные цели кредита влияют на его возврат в срок?"
   ]
  },
  {
   "cell_type": "code",
   "execution_count": 14,
   "id": "3117d671",
   "metadata": {},
   "outputs": [
    {
     "data": {
      "text/html": [
       "<div>\n",
       "<style scoped>\n",
       "    .dataframe tbody tr th:only-of-type {\n",
       "        vertical-align: middle;\n",
       "    }\n",
       "\n",
       "    .dataframe tbody tr th {\n",
       "        vertical-align: top;\n",
       "    }\n",
       "\n",
       "    .dataframe thead th {\n",
       "        text-align: right;\n",
       "    }\n",
       "</style>\n",
       "<table border=\"1\" class=\"dataframe\">\n",
       "  <thead>\n",
       "    <tr style=\"text-align: right;\">\n",
       "      <th></th>\n",
       "      <th>debt</th>\n",
       "    </tr>\n",
       "    <tr>\n",
       "      <th>purpose_category</th>\n",
       "      <th></th>\n",
       "    </tr>\n",
       "  </thead>\n",
       "  <tbody>\n",
       "    <tr>\n",
       "      <th>операции с автомобилем</th>\n",
       "      <td>0.093547</td>\n",
       "    </tr>\n",
       "    <tr>\n",
       "      <th>операции с недвижимостью</th>\n",
       "      <td>0.072314</td>\n",
       "    </tr>\n",
       "    <tr>\n",
       "      <th>получение образования</th>\n",
       "      <td>0.092177</td>\n",
       "    </tr>\n",
       "    <tr>\n",
       "      <th>проведение свадьбы</th>\n",
       "      <td>0.079657</td>\n",
       "    </tr>\n",
       "  </tbody>\n",
       "</table>\n",
       "</div>"
      ],
      "text/plain": [
       "                              debt\n",
       "purpose_category                  \n",
       "операции с автомобилем    0.093547\n",
       "операции с недвижимостью  0.072314\n",
       "получение образования     0.092177\n",
       "проведение свадьбы        0.079657"
      ]
     },
     "execution_count": 14,
     "metadata": {},
     "output_type": "execute_result"
    }
   ],
   "source": [
    "pd.pivot_table(data, index=['purpose_category'], values=['debt']) #Строим сводную таблицу для сравнения."
   ]
  },
  {
   "cell_type": "markdown",
   "id": "6df1fcc3",
   "metadata": {},
   "source": [
    "##### Вывод 4:\n",
    "По полученной таблице, как и по предыдущим, видно, что процент должников в группах отличается минимально (7-9%). Таким образом, можно сделать вывод, что цель кредита сильно не влияет на его возврат в срок. Однако, можно сделать вывод, что кредиты на недвижимость и свадьбы чаще выплачиваются без просрочек, чем кредиты на автомобили и образование."
   ]
  },
  {
   "cell_type": "markdown",
   "id": "016fc14c",
   "metadata": {},
   "source": [
    "## Общий вывод:"
   ]
  },
  {
   "cell_type": "markdown",
   "id": "2d19b8da",
   "metadata": {},
   "source": [
    "В ходе исследования были проанализированы данные о платежеспособности клиентов банка. Было проверено, как влияют на платежеспособность клиента гражданский статус, количество детей в семье, уровень дохода и цели кредита. Были получены результаты, согласно которым ни один из этих показателей не влияет на возврат клиентом кредита в срок критично. Однако, некоторые различия все-таки есть. Так, клиент без детей с большей вероятностью вернет кредит в срок, чем многодетный клиент. В то же время холостые клиенты не могут считаться надежными по сравнению с вдовцами и разведенными клиентами. Также самыми надежными можно счиать клиентов с уровнем дохода ниже среднего, котоые берут кредит с целью покупки недвижимости."
   ]
  }
 ],
 "metadata": {
  "ExecuteTimeLog": [
   {
    "duration": 765,
    "start_time": "2022-05-18T18:42:58.905Z"
   },
   {
    "duration": 111,
    "start_time": "2022-05-18T18:43:26.662Z"
   },
   {
    "duration": 544,
    "start_time": "2022-05-18T18:47:49.761Z"
   },
   {
    "duration": 12,
    "start_time": "2022-05-18T18:51:00.455Z"
   },
   {
    "duration": 10,
    "start_time": "2022-05-18T18:54:02.375Z"
   },
   {
    "duration": 12,
    "start_time": "2022-05-18T18:54:13.688Z"
   },
   {
    "duration": 15,
    "start_time": "2022-05-18T18:55:17.755Z"
   },
   {
    "duration": 18,
    "start_time": "2022-05-18T18:55:31.922Z"
   },
   {
    "duration": 16,
    "start_time": "2022-05-18T18:56:19.745Z"
   },
   {
    "duration": 10,
    "start_time": "2022-05-18T18:58:21.602Z"
   },
   {
    "duration": 18,
    "start_time": "2022-05-18T18:58:33.800Z"
   },
   {
    "duration": 12,
    "start_time": "2022-05-18T18:58:48.449Z"
   },
   {
    "duration": 17,
    "start_time": "2022-05-18T18:58:51.967Z"
   },
   {
    "duration": 625,
    "start_time": "2022-05-18T18:59:09.043Z"
   },
   {
    "duration": 20,
    "start_time": "2022-05-18T18:59:16.519Z"
   },
   {
    "duration": 19,
    "start_time": "2022-05-18T18:59:22.545Z"
   },
   {
    "duration": 14,
    "start_time": "2022-05-18T19:00:18.227Z"
   },
   {
    "duration": 487,
    "start_time": "2022-05-18T19:00:50.416Z"
   },
   {
    "duration": 9,
    "start_time": "2022-05-18T19:00:50.905Z"
   },
   {
    "duration": 10,
    "start_time": "2022-05-18T19:01:38.456Z"
   },
   {
    "duration": 10,
    "start_time": "2022-05-18T19:01:49.409Z"
   },
   {
    "duration": 11,
    "start_time": "2022-05-18T19:02:28.452Z"
   },
   {
    "duration": 527,
    "start_time": "2022-05-18T19:02:37.159Z"
   },
   {
    "duration": 12,
    "start_time": "2022-05-18T19:02:37.688Z"
   },
   {
    "duration": 4,
    "start_time": "2022-05-18T19:11:01.398Z"
   },
   {
    "duration": 6,
    "start_time": "2022-05-18T19:11:18.014Z"
   },
   {
    "duration": 6,
    "start_time": "2022-05-18T19:12:47.564Z"
   },
   {
    "duration": 14,
    "start_time": "2022-05-18T19:12:59.211Z"
   },
   {
    "duration": 9,
    "start_time": "2022-05-18T19:13:17.698Z"
   },
   {
    "duration": 615,
    "start_time": "2022-05-18T19:13:23.430Z"
   },
   {
    "duration": 11,
    "start_time": "2022-05-18T19:13:24.047Z"
   },
   {
    "duration": 16,
    "start_time": "2022-05-18T19:13:24.059Z"
   },
   {
    "duration": 4,
    "start_time": "2022-05-18T19:18:25.359Z"
   },
   {
    "duration": 5,
    "start_time": "2022-05-18T19:18:48.866Z"
   },
   {
    "duration": 18,
    "start_time": "2022-05-18T19:19:00.486Z"
   },
   {
    "duration": 4,
    "start_time": "2022-05-18T19:20:34.215Z"
   },
   {
    "duration": 518,
    "start_time": "2022-05-18T19:20:39.259Z"
   },
   {
    "duration": 12,
    "start_time": "2022-05-18T19:20:39.779Z"
   },
   {
    "duration": 8,
    "start_time": "2022-05-18T19:20:39.793Z"
   },
   {
    "duration": 10,
    "start_time": "2022-05-18T19:20:39.804Z"
   },
   {
    "duration": 21,
    "start_time": "2022-05-18T19:21:03.001Z"
   },
   {
    "duration": 20,
    "start_time": "2022-05-18T19:21:13.427Z"
   },
   {
    "duration": 26,
    "start_time": "2022-05-18T19:21:19.776Z"
   },
   {
    "duration": 22,
    "start_time": "2022-05-18T19:21:39.395Z"
   },
   {
    "duration": 123,
    "start_time": "2022-05-18T19:22:16.811Z"
   },
   {
    "duration": 45,
    "start_time": "2022-05-18T19:23:07.095Z"
   },
   {
    "duration": 72,
    "start_time": "2022-05-18T19:23:15.970Z"
   },
   {
    "duration": 28,
    "start_time": "2022-05-18T19:23:40.330Z"
   },
   {
    "duration": 60,
    "start_time": "2022-05-18T19:24:35.661Z"
   },
   {
    "duration": 53,
    "start_time": "2022-05-18T19:25:09.475Z"
   },
   {
    "duration": 38,
    "start_time": "2022-05-18T19:25:28.595Z"
   },
   {
    "duration": 39,
    "start_time": "2022-05-18T19:25:53.407Z"
   },
   {
    "duration": 33,
    "start_time": "2022-05-18T19:25:57.415Z"
   },
   {
    "duration": 53,
    "start_time": "2022-05-18T19:26:25.171Z"
   },
   {
    "duration": 37,
    "start_time": "2022-05-18T19:26:37.714Z"
   },
   {
    "duration": 36,
    "start_time": "2022-05-18T19:26:52.411Z"
   },
   {
    "duration": 653,
    "start_time": "2022-05-18T19:27:10.108Z"
   },
   {
    "duration": 44,
    "start_time": "2022-05-18T19:27:14.741Z"
   },
   {
    "duration": 41,
    "start_time": "2022-05-18T19:27:24.231Z"
   },
   {
    "duration": 44,
    "start_time": "2022-05-18T19:32:37.630Z"
   },
   {
    "duration": 71,
    "start_time": "2022-05-18T19:32:44.949Z"
   },
   {
    "duration": 58,
    "start_time": "2022-05-18T19:32:50.403Z"
   },
   {
    "duration": 72,
    "start_time": "2022-05-18T19:32:56.132Z"
   },
   {
    "duration": 48,
    "start_time": "2022-05-18T19:33:45.593Z"
   },
   {
    "duration": 60,
    "start_time": "2022-05-18T19:37:55.749Z"
   },
   {
    "duration": 507,
    "start_time": "2022-05-18T19:38:00.735Z"
   },
   {
    "duration": 10,
    "start_time": "2022-05-18T19:38:01.244Z"
   },
   {
    "duration": 17,
    "start_time": "2022-05-18T19:38:01.255Z"
   },
   {
    "duration": 39,
    "start_time": "2022-05-18T19:38:01.274Z"
   },
   {
    "duration": 52,
    "start_time": "2022-05-18T19:38:01.316Z"
   },
   {
    "duration": 7,
    "start_time": "2022-05-18T19:49:55.945Z"
   },
   {
    "duration": 98,
    "start_time": "2022-05-18T19:50:03.968Z"
   },
   {
    "duration": 510,
    "start_time": "2022-05-18T19:50:43.805Z"
   },
   {
    "duration": 12,
    "start_time": "2022-05-18T19:50:44.317Z"
   },
   {
    "duration": 6,
    "start_time": "2022-05-18T19:50:44.331Z"
   },
   {
    "duration": 4,
    "start_time": "2022-05-18T19:50:44.339Z"
   },
   {
    "duration": 66,
    "start_time": "2022-05-18T19:50:44.344Z"
   },
   {
    "duration": 14,
    "start_time": "2022-05-18T19:50:44.412Z"
   },
   {
    "duration": 78,
    "start_time": "2022-05-18T19:50:55.478Z"
   },
   {
    "duration": 11,
    "start_time": "2022-05-18T19:51:15.534Z"
   },
   {
    "duration": 520,
    "start_time": "2022-05-18T19:51:19.237Z"
   },
   {
    "duration": 18,
    "start_time": "2022-05-18T19:51:19.759Z"
   },
   {
    "duration": 6,
    "start_time": "2022-05-18T19:51:19.779Z"
   },
   {
    "duration": 9,
    "start_time": "2022-05-18T19:51:19.787Z"
   },
   {
    "duration": 79,
    "start_time": "2022-05-18T19:51:19.798Z"
   },
   {
    "duration": 11,
    "start_time": "2022-05-18T19:51:19.880Z"
   },
   {
    "duration": 5,
    "start_time": "2022-05-18T20:08:26.513Z"
   },
   {
    "duration": 5,
    "start_time": "2022-05-18T20:08:32.297Z"
   },
   {
    "duration": 6,
    "start_time": "2022-05-18T20:08:39.574Z"
   },
   {
    "duration": 9,
    "start_time": "2022-05-18T20:08:46.765Z"
   },
   {
    "duration": 7,
    "start_time": "2022-05-18T20:08:52.784Z"
   },
   {
    "duration": 5,
    "start_time": "2022-05-18T20:08:58.850Z"
   },
   {
    "duration": 75,
    "start_time": "2022-05-18T20:10:40.803Z"
   },
   {
    "duration": 13,
    "start_time": "2022-05-18T20:11:01.348Z"
   },
   {
    "duration": 178,
    "start_time": "2022-05-18T20:12:14.004Z"
   },
   {
    "duration": 280,
    "start_time": "2022-05-18T20:13:15.846Z"
   },
   {
    "duration": 4,
    "start_time": "2022-05-18T20:14:46.492Z"
   },
   {
    "duration": 514,
    "start_time": "2022-05-18T20:14:51.776Z"
   },
   {
    "duration": 12,
    "start_time": "2022-05-18T20:14:52.292Z"
   },
   {
    "duration": 7,
    "start_time": "2022-05-18T20:14:52.305Z"
   },
   {
    "duration": 11,
    "start_time": "2022-05-18T20:14:52.314Z"
   },
   {
    "duration": 71,
    "start_time": "2022-05-18T20:14:52.327Z"
   },
   {
    "duration": 10,
    "start_time": "2022-05-18T20:14:52.400Z"
   },
   {
    "duration": 5,
    "start_time": "2022-05-18T20:14:52.412Z"
   },
   {
    "duration": 10,
    "start_time": "2022-05-18T20:15:46.578Z"
   },
   {
    "duration": 18,
    "start_time": "2022-05-18T20:15:55.783Z"
   },
   {
    "duration": 10,
    "start_time": "2022-05-18T20:16:21.298Z"
   },
   {
    "duration": 535,
    "start_time": "2022-05-18T20:16:27.656Z"
   },
   {
    "duration": 12,
    "start_time": "2022-05-18T20:16:28.193Z"
   },
   {
    "duration": 6,
    "start_time": "2022-05-18T20:16:28.207Z"
   },
   {
    "duration": 5,
    "start_time": "2022-05-18T20:16:28.215Z"
   },
   {
    "duration": 75,
    "start_time": "2022-05-18T20:16:28.224Z"
   },
   {
    "duration": 8,
    "start_time": "2022-05-18T20:16:28.301Z"
   },
   {
    "duration": 12,
    "start_time": "2022-05-18T20:16:28.310Z"
   },
   {
    "duration": 6,
    "start_time": "2022-05-18T20:18:49.213Z"
   },
   {
    "duration": 7,
    "start_time": "2022-05-18T20:23:12.863Z"
   },
   {
    "duration": 7,
    "start_time": "2022-05-18T20:23:19.309Z"
   },
   {
    "duration": 5,
    "start_time": "2022-05-18T20:23:32.658Z"
   },
   {
    "duration": 5,
    "start_time": "2022-05-18T20:23:39.583Z"
   },
   {
    "duration": 6,
    "start_time": "2022-05-18T20:23:46.258Z"
   },
   {
    "duration": 15,
    "start_time": "2022-05-18T20:24:19.598Z"
   },
   {
    "duration": 17,
    "start_time": "2022-05-18T20:24:26.604Z"
   },
   {
    "duration": 9,
    "start_time": "2022-05-18T20:25:21.602Z"
   },
   {
    "duration": 46,
    "start_time": "2022-05-18T20:28:30.956Z"
   },
   {
    "duration": 5,
    "start_time": "2022-05-18T20:28:38.263Z"
   },
   {
    "duration": 83,
    "start_time": "2022-05-18T20:28:52.365Z"
   },
   {
    "duration": 9,
    "start_time": "2022-05-18T20:29:10.770Z"
   },
   {
    "duration": 502,
    "start_time": "2022-05-18T20:29:23.404Z"
   },
   {
    "duration": 11,
    "start_time": "2022-05-18T20:29:23.907Z"
   },
   {
    "duration": 5,
    "start_time": "2022-05-18T20:29:23.920Z"
   },
   {
    "duration": 15,
    "start_time": "2022-05-18T20:29:23.926Z"
   },
   {
    "duration": 75,
    "start_time": "2022-05-18T20:29:23.942Z"
   },
   {
    "duration": 8,
    "start_time": "2022-05-18T20:29:24.018Z"
   },
   {
    "duration": 19,
    "start_time": "2022-05-18T20:29:24.027Z"
   },
   {
    "duration": 19,
    "start_time": "2022-05-18T20:29:24.050Z"
   },
   {
    "duration": 71,
    "start_time": "2022-05-19T18:31:58.427Z"
   },
   {
    "duration": 805,
    "start_time": "2022-05-19T18:32:09.610Z"
   },
   {
    "duration": 12,
    "start_time": "2022-05-19T18:32:10.417Z"
   },
   {
    "duration": 5,
    "start_time": "2022-05-19T18:32:10.431Z"
   },
   {
    "duration": 4,
    "start_time": "2022-05-19T18:32:10.438Z"
   },
   {
    "duration": 65,
    "start_time": "2022-05-19T18:32:10.444Z"
   },
   {
    "duration": 6,
    "start_time": "2022-05-19T18:32:10.511Z"
   },
   {
    "duration": 11,
    "start_time": "2022-05-19T18:32:10.519Z"
   },
   {
    "duration": 13,
    "start_time": "2022-05-19T18:32:10.532Z"
   },
   {
    "duration": 78,
    "start_time": "2022-05-19T18:32:10.546Z"
   },
   {
    "duration": 6,
    "start_time": "2022-05-19T18:32:58.209Z"
   },
   {
    "duration": 7,
    "start_time": "2022-05-19T18:33:23.658Z"
   },
   {
    "duration": 13,
    "start_time": "2022-05-19T18:34:20.786Z"
   },
   {
    "duration": 10,
    "start_time": "2022-05-19T18:37:47.882Z"
   },
   {
    "duration": 565,
    "start_time": "2022-05-19T18:37:52.963Z"
   },
   {
    "duration": 16,
    "start_time": "2022-05-19T18:37:53.531Z"
   },
   {
    "duration": 42,
    "start_time": "2022-05-19T18:37:53.561Z"
   },
   {
    "duration": 37,
    "start_time": "2022-05-19T18:37:53.605Z"
   },
   {
    "duration": 143,
    "start_time": "2022-05-19T18:37:53.644Z"
   },
   {
    "duration": 11,
    "start_time": "2022-05-19T18:37:53.789Z"
   },
   {
    "duration": 51,
    "start_time": "2022-05-19T18:37:53.802Z"
   },
   {
    "duration": 44,
    "start_time": "2022-05-19T18:37:53.856Z"
   },
   {
    "duration": 48,
    "start_time": "2022-05-19T18:37:53.902Z"
   },
   {
    "duration": 626,
    "start_time": "2022-05-19T18:38:10.154Z"
   },
   {
    "duration": 15,
    "start_time": "2022-05-19T18:38:10.782Z"
   },
   {
    "duration": 29,
    "start_time": "2022-05-19T18:38:10.798Z"
   },
   {
    "duration": 16,
    "start_time": "2022-05-19T18:38:10.829Z"
   },
   {
    "duration": 104,
    "start_time": "2022-05-19T18:38:10.847Z"
   },
   {
    "duration": 18,
    "start_time": "2022-05-19T18:38:10.953Z"
   },
   {
    "duration": 57,
    "start_time": "2022-05-19T18:38:10.975Z"
   },
   {
    "duration": 22,
    "start_time": "2022-05-19T18:38:11.034Z"
   },
   {
    "duration": 492,
    "start_time": "2022-05-19T18:46:05.146Z"
   },
   {
    "duration": 56,
    "start_time": "2022-05-19T18:46:33.484Z"
   },
   {
    "duration": 81,
    "start_time": "2022-05-19T18:57:36.845Z"
   },
   {
    "duration": 13,
    "start_time": "2022-05-19T19:37:54.702Z"
   },
   {
    "duration": 23,
    "start_time": "2022-05-19T19:38:29.748Z"
   },
   {
    "duration": 12,
    "start_time": "2022-05-19T19:39:00.707Z"
   },
   {
    "duration": 30,
    "start_time": "2022-05-19T19:39:08.154Z"
   },
   {
    "duration": 16,
    "start_time": "2022-05-19T19:39:36.086Z"
   },
   {
    "duration": 22,
    "start_time": "2022-05-19T19:40:45.251Z"
   },
   {
    "duration": 14,
    "start_time": "2022-05-19T19:41:57.192Z"
   },
   {
    "duration": 12,
    "start_time": "2022-05-19T19:42:04.097Z"
   },
   {
    "duration": 41,
    "start_time": "2022-05-19T19:42:18.508Z"
   },
   {
    "duration": 12,
    "start_time": "2022-05-19T19:42:24.719Z"
   },
   {
    "duration": 19,
    "start_time": "2022-05-19T19:42:49.974Z"
   },
   {
    "duration": 10,
    "start_time": "2022-05-19T19:49:43.550Z"
   },
   {
    "duration": 9,
    "start_time": "2022-05-19T19:49:55.298Z"
   },
   {
    "duration": 21,
    "start_time": "2022-05-19T19:50:11.612Z"
   },
   {
    "duration": 28,
    "start_time": "2022-05-19T19:50:23.490Z"
   },
   {
    "duration": 13,
    "start_time": "2022-05-19T19:50:55.709Z"
   },
   {
    "duration": 15,
    "start_time": "2022-05-19T19:51:27.900Z"
   },
   {
    "duration": 12,
    "start_time": "2022-05-19T19:52:12.545Z"
   },
   {
    "duration": 513,
    "start_time": "2022-05-19T19:52:59.795Z"
   },
   {
    "duration": 10,
    "start_time": "2022-05-19T19:53:00.309Z"
   },
   {
    "duration": 24,
    "start_time": "2022-05-19T19:53:00.320Z"
   },
   {
    "duration": 67,
    "start_time": "2022-05-19T19:53:00.346Z"
   },
   {
    "duration": 83,
    "start_time": "2022-05-19T19:53:00.415Z"
   },
   {
    "duration": 17,
    "start_time": "2022-05-19T19:53:00.500Z"
   },
   {
    "duration": 55,
    "start_time": "2022-05-19T19:53:00.519Z"
   },
   {
    "duration": 70,
    "start_time": "2022-05-19T19:53:00.575Z"
   },
   {
    "duration": 81,
    "start_time": "2022-05-19T19:53:00.646Z"
   },
   {
    "duration": 6,
    "start_time": "2022-05-19T19:54:53.355Z"
   },
   {
    "duration": 13,
    "start_time": "2022-05-19T19:55:31.875Z"
   },
   {
    "duration": 75,
    "start_time": "2022-05-19T19:56:14.450Z"
   },
   {
    "duration": 19,
    "start_time": "2022-05-19T19:57:01.922Z"
   },
   {
    "duration": 10,
    "start_time": "2022-05-19T19:57:12.703Z"
   },
   {
    "duration": 13,
    "start_time": "2022-05-19T19:57:28.979Z"
   },
   {
    "duration": 8,
    "start_time": "2022-05-19T19:57:34.489Z"
   },
   {
    "duration": 8,
    "start_time": "2022-05-19T19:57:40.446Z"
   },
   {
    "duration": 7,
    "start_time": "2022-05-19T19:58:22.589Z"
   },
   {
    "duration": 30,
    "start_time": "2022-05-19T19:59:03.846Z"
   },
   {
    "duration": 5,
    "start_time": "2022-05-19T19:59:18.998Z"
   },
   {
    "duration": 4,
    "start_time": "2022-05-19T19:59:25.138Z"
   },
   {
    "duration": 26,
    "start_time": "2022-05-19T20:07:29.357Z"
   },
   {
    "duration": 12,
    "start_time": "2022-05-19T20:08:25.373Z"
   },
   {
    "duration": 8,
    "start_time": "2022-05-19T20:10:42.172Z"
   },
   {
    "duration": 4,
    "start_time": "2022-05-19T20:10:46.821Z"
   },
   {
    "duration": 4,
    "start_time": "2022-05-19T20:10:56.493Z"
   },
   {
    "duration": 4,
    "start_time": "2022-05-19T20:11:01.935Z"
   },
   {
    "duration": 8,
    "start_time": "2022-05-19T20:11:11.251Z"
   },
   {
    "duration": 112,
    "start_time": "2022-05-19T20:11:25.846Z"
   },
   {
    "duration": 131,
    "start_time": "2022-05-19T20:13:08.006Z"
   },
   {
    "duration": 119,
    "start_time": "2022-05-19T20:13:21.878Z"
   },
   {
    "duration": 124,
    "start_time": "2022-05-19T20:14:06.678Z"
   },
   {
    "duration": 12,
    "start_time": "2022-05-19T20:14:23.816Z"
   },
   {
    "duration": 121,
    "start_time": "2022-05-19T20:14:32.133Z"
   },
   {
    "duration": 41,
    "start_time": "2022-05-19T20:15:32.473Z"
   },
   {
    "duration": 32,
    "start_time": "2022-05-19T20:15:43.326Z"
   },
   {
    "duration": 47,
    "start_time": "2022-05-19T20:16:05.145Z"
   },
   {
    "duration": 520,
    "start_time": "2022-05-19T20:17:46.056Z"
   },
   {
    "duration": 9,
    "start_time": "2022-05-19T20:17:46.578Z"
   },
   {
    "duration": 7,
    "start_time": "2022-05-19T20:17:46.589Z"
   },
   {
    "duration": 7,
    "start_time": "2022-05-19T20:17:46.598Z"
   },
   {
    "duration": 60,
    "start_time": "2022-05-19T20:17:46.607Z"
   },
   {
    "duration": 9,
    "start_time": "2022-05-19T20:17:46.668Z"
   },
   {
    "duration": 12,
    "start_time": "2022-05-19T20:17:46.678Z"
   },
   {
    "duration": 9,
    "start_time": "2022-05-19T20:17:46.691Z"
   },
   {
    "duration": 41,
    "start_time": "2022-05-19T20:17:46.701Z"
   },
   {
    "duration": 114,
    "start_time": "2022-05-19T20:17:46.744Z"
   },
   {
    "duration": 86,
    "start_time": "2022-05-20T18:44:08.707Z"
   },
   {
    "duration": 752,
    "start_time": "2022-05-20T18:44:14.720Z"
   },
   {
    "duration": 19,
    "start_time": "2022-05-20T18:44:15.474Z"
   },
   {
    "duration": 9,
    "start_time": "2022-05-20T18:44:15.495Z"
   },
   {
    "duration": 5,
    "start_time": "2022-05-20T18:44:15.505Z"
   },
   {
    "duration": 47,
    "start_time": "2022-05-20T18:44:15.512Z"
   },
   {
    "duration": 28,
    "start_time": "2022-05-20T18:44:15.560Z"
   },
   {
    "duration": 18,
    "start_time": "2022-05-20T18:44:15.593Z"
   },
   {
    "duration": 13,
    "start_time": "2022-05-20T18:44:15.613Z"
   },
   {
    "duration": 113,
    "start_time": "2022-05-20T18:44:15.628Z"
   },
   {
    "duration": 0,
    "start_time": "2022-05-20T18:44:15.743Z"
   },
   {
    "duration": 17,
    "start_time": "2022-05-20T18:44:40.066Z"
   },
   {
    "duration": 4,
    "start_time": "2022-05-20T18:45:47.420Z"
   },
   {
    "duration": 15,
    "start_time": "2022-05-20T18:50:29.580Z"
   },
   {
    "duration": 8,
    "start_time": "2022-05-20T18:50:47.521Z"
   },
   {
    "duration": 11,
    "start_time": "2022-05-20T18:51:04.311Z"
   },
   {
    "duration": 41,
    "start_time": "2022-05-20T18:52:43.898Z"
   },
   {
    "duration": 7,
    "start_time": "2022-05-20T18:52:48.434Z"
   },
   {
    "duration": 8,
    "start_time": "2022-05-20T18:52:56.334Z"
   },
   {
    "duration": 16,
    "start_time": "2022-05-20T18:53:04.543Z"
   },
   {
    "duration": 12,
    "start_time": "2022-05-20T18:53:14.395Z"
   },
   {
    "duration": 7,
    "start_time": "2022-05-20T18:53:25.359Z"
   },
   {
    "duration": 12,
    "start_time": "2022-05-20T18:53:33.117Z"
   },
   {
    "duration": 28,
    "start_time": "2022-05-20T18:54:53.485Z"
   },
   {
    "duration": 9,
    "start_time": "2022-05-20T18:56:02.182Z"
   },
   {
    "duration": 27,
    "start_time": "2022-05-20T18:56:51.030Z"
   },
   {
    "duration": 11,
    "start_time": "2022-05-20T18:57:02.604Z"
   },
   {
    "duration": 824,
    "start_time": "2022-05-20T18:59:16.282Z"
   },
   {
    "duration": 11,
    "start_time": "2022-05-20T18:59:23.049Z"
   },
   {
    "duration": 6,
    "start_time": "2022-05-20T18:59:34.891Z"
   },
   {
    "duration": 9,
    "start_time": "2022-05-20T18:59:55.623Z"
   },
   {
    "duration": 7,
    "start_time": "2022-05-20T19:00:04.828Z"
   },
   {
    "duration": 4,
    "start_time": "2022-05-20T19:00:17.950Z"
   },
   {
    "duration": 5,
    "start_time": "2022-05-20T19:00:28.251Z"
   },
   {
    "duration": 9,
    "start_time": "2022-05-20T19:01:12.853Z"
   },
   {
    "duration": 4,
    "start_time": "2022-05-20T19:01:17.792Z"
   },
   {
    "duration": 23,
    "start_time": "2022-05-20T19:01:22.877Z"
   },
   {
    "duration": 17,
    "start_time": "2022-05-20T19:03:38.741Z"
   },
   {
    "duration": 14,
    "start_time": "2022-05-20T19:05:45.556Z"
   },
   {
    "duration": 18,
    "start_time": "2022-05-20T19:05:48.398Z"
   },
   {
    "duration": 38,
    "start_time": "2022-05-20T19:05:53.364Z"
   },
   {
    "duration": 13,
    "start_time": "2022-05-20T19:06:06.437Z"
   },
   {
    "duration": 552,
    "start_time": "2022-05-20T19:07:30.602Z"
   },
   {
    "duration": 30,
    "start_time": "2022-05-20T19:07:31.155Z"
   },
   {
    "duration": 40,
    "start_time": "2022-05-20T19:07:31.186Z"
   },
   {
    "duration": 10,
    "start_time": "2022-05-20T19:07:31.228Z"
   },
   {
    "duration": 79,
    "start_time": "2022-05-20T19:07:31.244Z"
   },
   {
    "duration": 9,
    "start_time": "2022-05-20T19:07:31.328Z"
   },
   {
    "duration": 22,
    "start_time": "2022-05-20T19:07:31.339Z"
   },
   {
    "duration": 28,
    "start_time": "2022-05-20T19:07:31.363Z"
   },
   {
    "duration": 48,
    "start_time": "2022-05-20T19:07:31.392Z"
   },
   {
    "duration": 117,
    "start_time": "2022-05-20T19:07:31.442Z"
   },
   {
    "duration": 174,
    "start_time": "2022-05-20T19:07:56.555Z"
   },
   {
    "duration": 14,
    "start_time": "2022-05-20T19:10:02.649Z"
   },
   {
    "duration": 654,
    "start_time": "2022-05-20T19:10:08.748Z"
   },
   {
    "duration": 11,
    "start_time": "2022-05-20T19:10:09.404Z"
   },
   {
    "duration": 15,
    "start_time": "2022-05-20T19:10:09.419Z"
   },
   {
    "duration": 4,
    "start_time": "2022-05-20T19:10:09.436Z"
   },
   {
    "duration": 66,
    "start_time": "2022-05-20T19:10:09.443Z"
   },
   {
    "duration": 8,
    "start_time": "2022-05-20T19:10:09.511Z"
   },
   {
    "duration": 18,
    "start_time": "2022-05-20T19:10:09.520Z"
   },
   {
    "duration": 14,
    "start_time": "2022-05-20T19:10:09.540Z"
   },
   {
    "duration": 35,
    "start_time": "2022-05-20T19:10:09.557Z"
   },
   {
    "duration": 19,
    "start_time": "2022-05-20T19:10:09.599Z"
   },
   {
    "duration": 27,
    "start_time": "2022-05-20T19:11:50.854Z"
   },
   {
    "duration": 26,
    "start_time": "2022-05-20T19:16:45.985Z"
   },
   {
    "duration": 15,
    "start_time": "2022-05-20T19:18:48.741Z"
   },
   {
    "duration": 23,
    "start_time": "2022-05-20T19:19:00.995Z"
   },
   {
    "duration": 575,
    "start_time": "2022-05-20T19:19:07.358Z"
   },
   {
    "duration": 10,
    "start_time": "2022-05-20T19:19:07.936Z"
   },
   {
    "duration": 7,
    "start_time": "2022-05-20T19:19:07.948Z"
   },
   {
    "duration": 9,
    "start_time": "2022-05-20T19:19:07.957Z"
   },
   {
    "duration": 56,
    "start_time": "2022-05-20T19:19:07.975Z"
   },
   {
    "duration": 8,
    "start_time": "2022-05-20T19:19:08.033Z"
   },
   {
    "duration": 17,
    "start_time": "2022-05-20T19:19:08.042Z"
   },
   {
    "duration": 32,
    "start_time": "2022-05-20T19:19:08.061Z"
   },
   {
    "duration": 39,
    "start_time": "2022-05-20T19:19:08.095Z"
   },
   {
    "duration": 19,
    "start_time": "2022-05-20T19:19:08.137Z"
   },
   {
    "duration": 26,
    "start_time": "2022-05-20T19:19:08.157Z"
   },
   {
    "duration": 20,
    "start_time": "2022-05-20T19:19:08.187Z"
   },
   {
    "duration": 518,
    "start_time": "2022-05-20T19:22:21.890Z"
   },
   {
    "duration": 16,
    "start_time": "2022-05-20T19:22:22.410Z"
   },
   {
    "duration": 11,
    "start_time": "2022-05-20T19:22:22.427Z"
   },
   {
    "duration": 6,
    "start_time": "2022-05-20T19:22:22.441Z"
   },
   {
    "duration": 71,
    "start_time": "2022-05-20T19:22:22.448Z"
   },
   {
    "duration": 8,
    "start_time": "2022-05-20T19:22:22.521Z"
   },
   {
    "duration": 12,
    "start_time": "2022-05-20T19:22:22.530Z"
   },
   {
    "duration": 13,
    "start_time": "2022-05-20T19:22:22.543Z"
   },
   {
    "duration": 33,
    "start_time": "2022-05-20T19:22:22.558Z"
   },
   {
    "duration": 16,
    "start_time": "2022-05-20T19:22:22.594Z"
   },
   {
    "duration": 14,
    "start_time": "2022-05-20T19:22:22.611Z"
   },
   {
    "duration": 18,
    "start_time": "2022-05-20T19:22:22.627Z"
   },
   {
    "duration": 70,
    "start_time": "2022-05-21T09:56:56.598Z"
   },
   {
    "duration": 6,
    "start_time": "2022-05-21T09:58:47.788Z"
   },
   {
    "duration": 513,
    "start_time": "2022-05-21T09:58:53.076Z"
   },
   {
    "duration": 11,
    "start_time": "2022-05-21T09:58:53.591Z"
   },
   {
    "duration": 5,
    "start_time": "2022-05-21T09:58:53.603Z"
   },
   {
    "duration": 7,
    "start_time": "2022-05-21T09:58:53.610Z"
   },
   {
    "duration": 63,
    "start_time": "2022-05-21T09:58:53.619Z"
   },
   {
    "duration": 9,
    "start_time": "2022-05-21T09:58:53.684Z"
   },
   {
    "duration": 4,
    "start_time": "2022-05-21T09:58:53.695Z"
   },
   {
    "duration": 0,
    "start_time": "2022-05-21T09:58:53.701Z"
   },
   {
    "duration": 0,
    "start_time": "2022-05-21T09:58:53.702Z"
   },
   {
    "duration": 0,
    "start_time": "2022-05-21T09:58:53.703Z"
   },
   {
    "duration": 0,
    "start_time": "2022-05-21T09:58:53.704Z"
   },
   {
    "duration": 0,
    "start_time": "2022-05-21T09:58:53.705Z"
   },
   {
    "duration": 0,
    "start_time": "2022-05-21T09:58:53.706Z"
   },
   {
    "duration": 551,
    "start_time": "2022-05-21T09:59:02.226Z"
   },
   {
    "duration": 12,
    "start_time": "2022-05-21T09:59:02.779Z"
   },
   {
    "duration": 8,
    "start_time": "2022-05-21T09:59:02.792Z"
   },
   {
    "duration": 7,
    "start_time": "2022-05-21T09:59:02.802Z"
   },
   {
    "duration": 67,
    "start_time": "2022-05-21T09:59:02.811Z"
   },
   {
    "duration": 10,
    "start_time": "2022-05-21T09:59:02.880Z"
   },
   {
    "duration": 14,
    "start_time": "2022-05-21T09:59:02.892Z"
   },
   {
    "duration": 0,
    "start_time": "2022-05-21T09:59:02.908Z"
   },
   {
    "duration": 0,
    "start_time": "2022-05-21T09:59:02.909Z"
   },
   {
    "duration": 0,
    "start_time": "2022-05-21T09:59:02.911Z"
   },
   {
    "duration": 0,
    "start_time": "2022-05-21T09:59:02.912Z"
   },
   {
    "duration": 0,
    "start_time": "2022-05-21T09:59:02.914Z"
   },
   {
    "duration": 0,
    "start_time": "2022-05-21T09:59:02.915Z"
   },
   {
    "duration": 10,
    "start_time": "2022-05-21T09:59:32.576Z"
   },
   {
    "duration": 8,
    "start_time": "2022-05-21T09:59:44.001Z"
   },
   {
    "duration": 37,
    "start_time": "2022-05-21T09:59:49.487Z"
   },
   {
    "duration": 14,
    "start_time": "2022-05-21T09:59:50.008Z"
   },
   {
    "duration": 83,
    "start_time": "2022-05-21T09:59:50.512Z"
   },
   {
    "duration": 15,
    "start_time": "2022-05-21T09:59:51.021Z"
   },
   {
    "duration": 535,
    "start_time": "2022-05-21T10:01:29.173Z"
   },
   {
    "duration": 11,
    "start_time": "2022-05-21T10:01:29.710Z"
   },
   {
    "duration": 26,
    "start_time": "2022-05-21T10:01:29.723Z"
   },
   {
    "duration": 4,
    "start_time": "2022-05-21T10:01:29.759Z"
   },
   {
    "duration": 58,
    "start_time": "2022-05-21T10:01:29.766Z"
   },
   {
    "duration": 9,
    "start_time": "2022-05-21T10:01:29.825Z"
   },
   {
    "duration": 49,
    "start_time": "2022-05-21T10:01:29.835Z"
   },
   {
    "duration": 21,
    "start_time": "2022-05-21T10:01:29.886Z"
   },
   {
    "duration": 22,
    "start_time": "2022-05-21T10:01:29.909Z"
   },
   {
    "duration": 31,
    "start_time": "2022-05-21T10:01:29.933Z"
   },
   {
    "duration": 22,
    "start_time": "2022-05-21T10:01:29.966Z"
   },
   {
    "duration": 16,
    "start_time": "2022-05-21T10:01:29.991Z"
   },
   {
    "duration": 562,
    "start_time": "2022-05-22T18:16:41.666Z"
   },
   {
    "duration": 14,
    "start_time": "2022-05-22T18:16:42.230Z"
   },
   {
    "duration": 11,
    "start_time": "2022-05-22T18:16:42.246Z"
   },
   {
    "duration": 9,
    "start_time": "2022-05-22T18:16:42.260Z"
   },
   {
    "duration": 62,
    "start_time": "2022-05-22T18:16:42.271Z"
   },
   {
    "duration": 9,
    "start_time": "2022-05-22T18:16:42.335Z"
   },
   {
    "duration": 28,
    "start_time": "2022-05-22T18:16:42.346Z"
   },
   {
    "duration": 15,
    "start_time": "2022-05-22T18:16:42.376Z"
   },
   {
    "duration": 21,
    "start_time": "2022-05-22T18:16:42.393Z"
   },
   {
    "duration": 15,
    "start_time": "2022-05-22T18:16:42.424Z"
   },
   {
    "duration": 21,
    "start_time": "2022-05-22T18:16:42.441Z"
   },
   {
    "duration": 16,
    "start_time": "2022-05-22T18:16:42.464Z"
   },
   {
    "duration": 129,
    "start_time": "2022-05-22T18:17:35.052Z"
   },
   {
    "duration": 425,
    "start_time": "2022-05-22T18:17:40.944Z"
   },
   {
    "duration": 102,
    "start_time": "2022-05-22T18:17:41.371Z"
   },
   {
    "duration": 11,
    "start_time": "2022-05-22T18:17:41.474Z"
   },
   {
    "duration": 8,
    "start_time": "2022-05-22T18:17:41.487Z"
   },
   {
    "duration": 10,
    "start_time": "2022-05-22T18:17:41.497Z"
   },
   {
    "duration": 71,
    "start_time": "2022-05-22T18:17:41.510Z"
   },
   {
    "duration": 8,
    "start_time": "2022-05-22T18:17:41.583Z"
   },
   {
    "duration": 14,
    "start_time": "2022-05-22T18:17:41.593Z"
   },
   {
    "duration": 30,
    "start_time": "2022-05-22T18:17:41.609Z"
   },
   {
    "duration": 20,
    "start_time": "2022-05-22T18:17:41.642Z"
   },
   {
    "duration": 12,
    "start_time": "2022-05-22T18:17:41.664Z"
   },
   {
    "duration": 16,
    "start_time": "2022-05-22T18:17:41.678Z"
   },
   {
    "duration": 45,
    "start_time": "2022-05-22T18:17:41.695Z"
   },
   {
    "duration": 76,
    "start_time": "2022-05-22T18:22:03.791Z"
   },
   {
    "duration": 38,
    "start_time": "2022-05-22T18:23:41.035Z"
   },
   {
    "duration": 397,
    "start_time": "2022-05-22T18:24:39.867Z"
   },
   {
    "duration": 91,
    "start_time": "2022-05-22T18:24:40.266Z"
   },
   {
    "duration": 10,
    "start_time": "2022-05-22T18:24:40.359Z"
   },
   {
    "duration": 5,
    "start_time": "2022-05-22T18:24:40.371Z"
   },
   {
    "duration": 4,
    "start_time": "2022-05-22T18:24:40.378Z"
   },
   {
    "duration": 65,
    "start_time": "2022-05-22T18:24:40.383Z"
   },
   {
    "duration": 9,
    "start_time": "2022-05-22T18:24:40.450Z"
   },
   {
    "duration": 20,
    "start_time": "2022-05-22T18:24:40.460Z"
   },
   {
    "duration": 10,
    "start_time": "2022-05-22T18:24:40.482Z"
   },
   {
    "duration": 29,
    "start_time": "2022-05-22T18:24:40.495Z"
   },
   {
    "duration": 14,
    "start_time": "2022-05-22T18:24:40.526Z"
   },
   {
    "duration": 14,
    "start_time": "2022-05-22T18:24:40.542Z"
   },
   {
    "duration": 14,
    "start_time": "2022-05-22T18:24:40.557Z"
   },
   {
    "duration": 3,
    "start_time": "2022-05-22T18:27:07.136Z"
   },
   {
    "duration": 77,
    "start_time": "2022-05-22T18:27:13.215Z"
   },
   {
    "duration": 12,
    "start_time": "2022-05-22T18:27:20.399Z"
   },
   {
    "duration": 77,
    "start_time": "2022-05-22T18:27:47.676Z"
   },
   {
    "duration": 17,
    "start_time": "2022-05-22T18:27:54.411Z"
   },
   {
    "duration": 12,
    "start_time": "2022-05-22T18:28:20.362Z"
   },
   {
    "duration": 10,
    "start_time": "2022-05-22T18:28:26.477Z"
   },
   {
    "duration": 398,
    "start_time": "2022-05-22T18:28:45.969Z"
   },
   {
    "duration": 90,
    "start_time": "2022-05-22T18:28:46.369Z"
   },
   {
    "duration": 11,
    "start_time": "2022-05-22T18:28:46.461Z"
   },
   {
    "duration": 6,
    "start_time": "2022-05-22T18:28:46.474Z"
   },
   {
    "duration": 7,
    "start_time": "2022-05-22T18:28:46.481Z"
   },
   {
    "duration": 65,
    "start_time": "2022-05-22T18:28:46.490Z"
   },
   {
    "duration": 8,
    "start_time": "2022-05-22T18:28:46.556Z"
   },
   {
    "duration": 13,
    "start_time": "2022-05-22T18:28:46.565Z"
   },
   {
    "duration": 13,
    "start_time": "2022-05-22T18:28:46.579Z"
   },
   {
    "duration": 31,
    "start_time": "2022-05-22T18:28:46.594Z"
   },
   {
    "duration": 13,
    "start_time": "2022-05-22T18:28:46.627Z"
   },
   {
    "duration": 17,
    "start_time": "2022-05-22T18:28:46.642Z"
   },
   {
    "duration": 14,
    "start_time": "2022-05-22T18:28:46.661Z"
   },
   {
    "duration": 5,
    "start_time": "2022-05-22T18:29:57.593Z"
   },
   {
    "duration": 24,
    "start_time": "2022-05-22T18:31:47.616Z"
   },
   {
    "duration": 20,
    "start_time": "2022-05-22T18:32:10.801Z"
   },
   {
    "duration": 31,
    "start_time": "2022-05-22T18:32:22.824Z"
   },
   {
    "duration": 5,
    "start_time": "2022-05-22T18:35:07.765Z"
   },
   {
    "duration": 7,
    "start_time": "2022-05-22T18:35:32.058Z"
   },
   {
    "duration": 3,
    "start_time": "2022-05-22T18:35:39.358Z"
   },
   {
    "duration": 89,
    "start_time": "2022-05-22T18:35:42.315Z"
   },
   {
    "duration": 430,
    "start_time": "2022-05-22T18:36:15.663Z"
   },
   {
    "duration": 97,
    "start_time": "2022-05-22T18:36:16.095Z"
   },
   {
    "duration": 11,
    "start_time": "2022-05-22T18:36:16.194Z"
   },
   {
    "duration": 17,
    "start_time": "2022-05-22T18:36:16.206Z"
   },
   {
    "duration": 5,
    "start_time": "2022-05-22T18:36:16.226Z"
   },
   {
    "duration": 12,
    "start_time": "2022-05-22T18:36:16.232Z"
   },
   {
    "duration": 55,
    "start_time": "2022-05-22T18:36:16.246Z"
   },
   {
    "duration": 8,
    "start_time": "2022-05-22T18:36:16.303Z"
   },
   {
    "duration": 12,
    "start_time": "2022-05-22T18:36:16.323Z"
   },
   {
    "duration": 13,
    "start_time": "2022-05-22T18:36:16.336Z"
   },
   {
    "duration": 19,
    "start_time": "2022-05-22T18:36:16.351Z"
   },
   {
    "duration": 13,
    "start_time": "2022-05-22T18:36:16.372Z"
   },
   {
    "duration": 40,
    "start_time": "2022-05-22T18:36:16.387Z"
   },
   {
    "duration": 15,
    "start_time": "2022-05-22T18:36:16.430Z"
   },
   {
    "duration": 422,
    "start_time": "2022-05-22T18:37:17.580Z"
   },
   {
    "duration": 102,
    "start_time": "2022-05-22T18:37:18.004Z"
   },
   {
    "duration": 16,
    "start_time": "2022-05-22T18:37:18.107Z"
   },
   {
    "duration": 6,
    "start_time": "2022-05-22T18:37:18.125Z"
   },
   {
    "duration": 17,
    "start_time": "2022-05-22T18:37:18.133Z"
   },
   {
    "duration": 14,
    "start_time": "2022-05-22T18:37:18.151Z"
   },
   {
    "duration": 65,
    "start_time": "2022-05-22T18:37:18.166Z"
   },
   {
    "duration": 8,
    "start_time": "2022-05-22T18:37:18.232Z"
   },
   {
    "duration": 16,
    "start_time": "2022-05-22T18:37:18.242Z"
   },
   {
    "duration": 9,
    "start_time": "2022-05-22T18:37:18.259Z"
   },
   {
    "duration": 27,
    "start_time": "2022-05-22T18:37:18.270Z"
   },
   {
    "duration": 13,
    "start_time": "2022-05-22T18:37:18.298Z"
   },
   {
    "duration": 37,
    "start_time": "2022-05-22T18:37:18.312Z"
   },
   {
    "duration": 13,
    "start_time": "2022-05-22T18:37:18.351Z"
   },
   {
    "duration": 468,
    "start_time": "2022-05-22T18:39:06.403Z"
   },
   {
    "duration": 98,
    "start_time": "2022-05-22T18:39:06.873Z"
   },
   {
    "duration": 13,
    "start_time": "2022-05-22T18:39:06.974Z"
   },
   {
    "duration": 13,
    "start_time": "2022-05-22T18:39:06.990Z"
   },
   {
    "duration": 21,
    "start_time": "2022-05-22T18:39:07.006Z"
   },
   {
    "duration": 6,
    "start_time": "2022-05-22T18:39:07.029Z"
   },
   {
    "duration": 64,
    "start_time": "2022-05-22T18:39:07.037Z"
   },
   {
    "duration": 21,
    "start_time": "2022-05-22T18:39:07.102Z"
   },
   {
    "duration": 12,
    "start_time": "2022-05-22T18:39:07.125Z"
   },
   {
    "duration": 14,
    "start_time": "2022-05-22T18:39:07.139Z"
   },
   {
    "duration": 26,
    "start_time": "2022-05-22T18:39:07.155Z"
   },
   {
    "duration": 13,
    "start_time": "2022-05-22T18:39:07.183Z"
   },
   {
    "duration": 31,
    "start_time": "2022-05-22T18:39:07.198Z"
   },
   {
    "duration": 16,
    "start_time": "2022-05-22T18:39:07.231Z"
   },
   {
    "duration": 17,
    "start_time": "2022-05-22T18:42:44.125Z"
   },
   {
    "duration": 13,
    "start_time": "2022-05-22T18:42:55.827Z"
   },
   {
    "duration": 81,
    "start_time": "2022-05-22T18:43:07.102Z"
   },
   {
    "duration": 18,
    "start_time": "2022-05-22T18:43:22.873Z"
   },
   {
    "duration": 18,
    "start_time": "2022-05-22T18:43:36.368Z"
   },
   {
    "duration": 23,
    "start_time": "2022-05-22T18:43:38.962Z"
   },
   {
    "duration": 18,
    "start_time": "2022-05-22T18:43:43.754Z"
   },
   {
    "duration": 13,
    "start_time": "2022-05-22T18:43:46.527Z"
   },
   {
    "duration": 14,
    "start_time": "2022-05-22T18:44:06.055Z"
   },
   {
    "duration": 12,
    "start_time": "2022-05-22T18:44:48.223Z"
   },
   {
    "duration": 11,
    "start_time": "2022-05-22T18:44:59.864Z"
   },
   {
    "duration": 12,
    "start_time": "2022-05-22T18:45:07.958Z"
   },
   {
    "duration": 14,
    "start_time": "2022-05-22T18:45:15.456Z"
   },
   {
    "duration": 15,
    "start_time": "2022-05-22T18:46:14.389Z"
   },
   {
    "duration": 29,
    "start_time": "2022-05-22T18:47:01.957Z"
   },
   {
    "duration": 20,
    "start_time": "2022-05-22T18:47:15.072Z"
   },
   {
    "duration": 16,
    "start_time": "2022-05-22T18:47:26.005Z"
   },
   {
    "duration": 14,
    "start_time": "2022-05-22T18:48:49.428Z"
   },
   {
    "duration": 15,
    "start_time": "2022-05-22T18:48:55.636Z"
   },
   {
    "duration": 14,
    "start_time": "2022-05-22T18:48:59.519Z"
   },
   {
    "duration": 15,
    "start_time": "2022-05-22T18:49:09.507Z"
   },
   {
    "duration": 16,
    "start_time": "2022-05-22T18:49:18.858Z"
   },
   {
    "duration": 15,
    "start_time": "2022-05-22T18:49:25.367Z"
   },
   {
    "duration": 15,
    "start_time": "2022-05-22T18:49:31.987Z"
   },
   {
    "duration": 455,
    "start_time": "2022-05-22T18:50:18.695Z"
   },
   {
    "duration": 93,
    "start_time": "2022-05-22T18:50:19.152Z"
   },
   {
    "duration": 10,
    "start_time": "2022-05-22T18:50:19.247Z"
   },
   {
    "duration": 8,
    "start_time": "2022-05-22T18:50:19.259Z"
   },
   {
    "duration": 4,
    "start_time": "2022-05-22T18:50:19.269Z"
   },
   {
    "duration": 19,
    "start_time": "2022-05-22T18:50:19.275Z"
   },
   {
    "duration": 60,
    "start_time": "2022-05-22T18:50:19.296Z"
   },
   {
    "duration": 7,
    "start_time": "2022-05-22T18:50:19.358Z"
   },
   {
    "duration": 14,
    "start_time": "2022-05-22T18:50:19.366Z"
   },
   {
    "duration": 8,
    "start_time": "2022-05-22T18:50:19.382Z"
   },
   {
    "duration": 32,
    "start_time": "2022-05-22T18:50:19.392Z"
   },
   {
    "duration": 12,
    "start_time": "2022-05-22T18:50:19.426Z"
   },
   {
    "duration": 14,
    "start_time": "2022-05-22T18:50:19.439Z"
   },
   {
    "duration": 15,
    "start_time": "2022-05-22T18:50:19.456Z"
   },
   {
    "duration": 34,
    "start_time": "2022-05-22T18:56:25.058Z"
   },
   {
    "duration": 457,
    "start_time": "2022-05-22T18:56:39.761Z"
   },
   {
    "duration": 100,
    "start_time": "2022-05-22T18:56:40.221Z"
   },
   {
    "duration": 16,
    "start_time": "2022-05-22T18:56:40.323Z"
   },
   {
    "duration": 8,
    "start_time": "2022-05-22T18:56:40.342Z"
   },
   {
    "duration": 15,
    "start_time": "2022-05-22T18:56:40.352Z"
   },
   {
    "duration": 27,
    "start_time": "2022-05-22T18:56:40.369Z"
   },
   {
    "duration": 85,
    "start_time": "2022-05-22T18:56:40.399Z"
   },
   {
    "duration": 11,
    "start_time": "2022-05-22T18:56:40.486Z"
   },
   {
    "duration": 25,
    "start_time": "2022-05-22T18:56:40.499Z"
   },
   {
    "duration": 16,
    "start_time": "2022-05-22T18:56:40.526Z"
   },
   {
    "duration": 36,
    "start_time": "2022-05-22T18:56:40.544Z"
   },
   {
    "duration": 17,
    "start_time": "2022-05-22T18:56:40.582Z"
   },
   {
    "duration": 35,
    "start_time": "2022-05-22T18:56:40.601Z"
   },
   {
    "duration": 19,
    "start_time": "2022-05-22T18:56:40.639Z"
   },
   {
    "duration": 459,
    "start_time": "2022-05-22T18:57:10.369Z"
   },
   {
    "duration": 139,
    "start_time": "2022-05-22T18:57:10.830Z"
   },
   {
    "duration": 13,
    "start_time": "2022-05-22T18:57:10.972Z"
   },
   {
    "duration": 7,
    "start_time": "2022-05-22T18:57:10.988Z"
   },
   {
    "duration": 6,
    "start_time": "2022-05-22T18:57:10.998Z"
   },
   {
    "duration": 20,
    "start_time": "2022-05-22T18:57:11.006Z"
   },
   {
    "duration": 61,
    "start_time": "2022-05-22T18:57:11.027Z"
   },
   {
    "duration": 10,
    "start_time": "2022-05-22T18:57:11.090Z"
   },
   {
    "duration": 33,
    "start_time": "2022-05-22T18:57:11.102Z"
   },
   {
    "duration": 13,
    "start_time": "2022-05-22T18:57:11.138Z"
   },
   {
    "duration": 22,
    "start_time": "2022-05-22T18:57:11.152Z"
   },
   {
    "duration": 14,
    "start_time": "2022-05-22T18:57:11.176Z"
   },
   {
    "duration": 43,
    "start_time": "2022-05-22T18:57:11.192Z"
   },
   {
    "duration": 19,
    "start_time": "2022-05-22T18:57:11.237Z"
   }
  ],
  "kernelspec": {
   "display_name": "Python 3 (ipykernel)",
   "language": "python",
   "name": "python3"
  },
  "language_info": {
   "codemirror_mode": {
    "name": "ipython",
    "version": 3
   },
   "file_extension": ".py",
   "mimetype": "text/x-python",
   "name": "python",
   "nbconvert_exporter": "python",
   "pygments_lexer": "ipython3",
   "version": "3.9.12"
  },
  "toc": {
   "base_numbering": 1,
   "nav_menu": {},
   "number_sections": true,
   "sideBar": true,
   "skip_h1_title": true,
   "title_cell": "Table of Contents",
   "title_sidebar": "Contents",
   "toc_cell": false,
   "toc_position": {},
   "toc_section_display": true,
   "toc_window_display": false
  }
 },
 "nbformat": 4,
 "nbformat_minor": 5
}
