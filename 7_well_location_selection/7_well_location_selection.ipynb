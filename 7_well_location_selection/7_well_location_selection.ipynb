{
 "cells": [
  {
   "cell_type": "markdown",
   "metadata": {},
   "source": [
    "# Выбор локации для скважины"
   ]
  },
  {
   "cell_type": "markdown",
   "metadata": {},
   "source": [
    "Нужно решить, где бурить новую скважину.\n",
    "\n",
    "Предоставлены пробы нефти в трёх регионах: в каждом 10 000 месторождений, где измерили качество нефти и объём её запасов. Необходимо модель машинного обучения, которая поможет определить регион, где добыча принесёт наибольшую прибыль. "
   ]
  },
  {
   "cell_type": "markdown",
   "metadata": {},
   "source": [
    "## Загрузка и подготовка данных"
   ]
  },
  {
   "cell_type": "markdown",
   "metadata": {},
   "source": [
    "Импортируем необходимые библиотеки и загрузим данные."
   ]
  },
  {
   "cell_type": "code",
   "execution_count": 1,
   "metadata": {},
   "outputs": [],
   "source": [
    "import pandas as pd\n",
    "import numpy as np\n",
    "from sklearn.model_selection import train_test_split\n",
    "from sklearn.preprocessing import StandardScaler\n",
    "from sklearn.linear_model import LinearRegression\n",
    "from sklearn.metrics import mean_squared_error\n",
    "\n",
    "import warnings\n",
    "warnings.filterwarnings('ignore')"
   ]
  },
  {
   "cell_type": "code",
   "execution_count": 2,
   "metadata": {},
   "outputs": [],
   "source": [
    "data1 = pd.read_csv('/datasets/geo_data_0.csv')\n",
    "data2 = pd.read_csv('/datasets/geo_data_1.csv')\n",
    "data3 = pd.read_csv('/datasets/geo_data_2.csv')"
   ]
  },
  {
   "cell_type": "markdown",
   "metadata": {},
   "source": [
    "Посмотрим на предоставленные данные.  \n",
    "- id — уникальный идентификатор скважины;  \n",
    "- f0, f1, f2 — три признака точек (неважно, что они означают, но сами признаки значимы);  \n",
    "- product — объём запасов в скважине (тыс. баррелей)  "
   ]
  },
  {
   "cell_type": "code",
   "execution_count": 3,
   "metadata": {},
   "outputs": [
    {
     "name": "stdout",
     "output_type": "stream",
     "text": [
      "<class 'pandas.core.frame.DataFrame'>\n",
      "RangeIndex: 100000 entries, 0 to 99999\n",
      "Data columns (total 5 columns):\n",
      " #   Column   Non-Null Count   Dtype  \n",
      "---  ------   --------------   -----  \n",
      " 0   id       100000 non-null  object \n",
      " 1   f0       100000 non-null  float64\n",
      " 2   f1       100000 non-null  float64\n",
      " 3   f2       100000 non-null  float64\n",
      " 4   product  100000 non-null  float64\n",
      "dtypes: float64(4), object(1)\n",
      "memory usage: 3.8+ MB\n",
      "None\n"
     ]
    },
    {
     "data": {
      "text/html": [
       "<div>\n",
       "<style scoped>\n",
       "    .dataframe tbody tr th:only-of-type {\n",
       "        vertical-align: middle;\n",
       "    }\n",
       "\n",
       "    .dataframe tbody tr th {\n",
       "        vertical-align: top;\n",
       "    }\n",
       "\n",
       "    .dataframe thead th {\n",
       "        text-align: right;\n",
       "    }\n",
       "</style>\n",
       "<table border=\"1\" class=\"dataframe\">\n",
       "  <thead>\n",
       "    <tr style=\"text-align: right;\">\n",
       "      <th></th>\n",
       "      <th>id</th>\n",
       "      <th>f0</th>\n",
       "      <th>f1</th>\n",
       "      <th>f2</th>\n",
       "      <th>product</th>\n",
       "    </tr>\n",
       "  </thead>\n",
       "  <tbody>\n",
       "    <tr>\n",
       "      <th>0</th>\n",
       "      <td>txEyH</td>\n",
       "      <td>0.705745</td>\n",
       "      <td>-0.497823</td>\n",
       "      <td>1.221170</td>\n",
       "      <td>105.280062</td>\n",
       "    </tr>\n",
       "    <tr>\n",
       "      <th>1</th>\n",
       "      <td>2acmU</td>\n",
       "      <td>1.334711</td>\n",
       "      <td>-0.340164</td>\n",
       "      <td>4.365080</td>\n",
       "      <td>73.037750</td>\n",
       "    </tr>\n",
       "    <tr>\n",
       "      <th>2</th>\n",
       "      <td>409Wp</td>\n",
       "      <td>1.022732</td>\n",
       "      <td>0.151990</td>\n",
       "      <td>1.419926</td>\n",
       "      <td>85.265647</td>\n",
       "    </tr>\n",
       "    <tr>\n",
       "      <th>3</th>\n",
       "      <td>iJLyR</td>\n",
       "      <td>-0.032172</td>\n",
       "      <td>0.139033</td>\n",
       "      <td>2.978566</td>\n",
       "      <td>168.620776</td>\n",
       "    </tr>\n",
       "    <tr>\n",
       "      <th>4</th>\n",
       "      <td>Xdl7t</td>\n",
       "      <td>1.988431</td>\n",
       "      <td>0.155413</td>\n",
       "      <td>4.751769</td>\n",
       "      <td>154.036647</td>\n",
       "    </tr>\n",
       "  </tbody>\n",
       "</table>\n",
       "</div>"
      ],
      "text/plain": [
       "      id        f0        f1        f2     product\n",
       "0  txEyH  0.705745 -0.497823  1.221170  105.280062\n",
       "1  2acmU  1.334711 -0.340164  4.365080   73.037750\n",
       "2  409Wp  1.022732  0.151990  1.419926   85.265647\n",
       "3  iJLyR -0.032172  0.139033  2.978566  168.620776\n",
       "4  Xdl7t  1.988431  0.155413  4.751769  154.036647"
      ]
     },
     "execution_count": 3,
     "metadata": {},
     "output_type": "execute_result"
    }
   ],
   "source": [
    "print(data1.info())\n",
    "data1.head()"
   ]
  },
  {
   "cell_type": "code",
   "execution_count": 4,
   "metadata": {},
   "outputs": [
    {
     "name": "stdout",
     "output_type": "stream",
     "text": [
      "<class 'pandas.core.frame.DataFrame'>\n",
      "RangeIndex: 100000 entries, 0 to 99999\n",
      "Data columns (total 5 columns):\n",
      " #   Column   Non-Null Count   Dtype  \n",
      "---  ------   --------------   -----  \n",
      " 0   id       100000 non-null  object \n",
      " 1   f0       100000 non-null  float64\n",
      " 2   f1       100000 non-null  float64\n",
      " 3   f2       100000 non-null  float64\n",
      " 4   product  100000 non-null  float64\n",
      "dtypes: float64(4), object(1)\n",
      "memory usage: 3.8+ MB\n",
      "None\n"
     ]
    },
    {
     "data": {
      "text/html": [
       "<div>\n",
       "<style scoped>\n",
       "    .dataframe tbody tr th:only-of-type {\n",
       "        vertical-align: middle;\n",
       "    }\n",
       "\n",
       "    .dataframe tbody tr th {\n",
       "        vertical-align: top;\n",
       "    }\n",
       "\n",
       "    .dataframe thead th {\n",
       "        text-align: right;\n",
       "    }\n",
       "</style>\n",
       "<table border=\"1\" class=\"dataframe\">\n",
       "  <thead>\n",
       "    <tr style=\"text-align: right;\">\n",
       "      <th></th>\n",
       "      <th>id</th>\n",
       "      <th>f0</th>\n",
       "      <th>f1</th>\n",
       "      <th>f2</th>\n",
       "      <th>product</th>\n",
       "    </tr>\n",
       "  </thead>\n",
       "  <tbody>\n",
       "    <tr>\n",
       "      <th>0</th>\n",
       "      <td>kBEdx</td>\n",
       "      <td>-15.001348</td>\n",
       "      <td>-8.276000</td>\n",
       "      <td>-0.005876</td>\n",
       "      <td>3.179103</td>\n",
       "    </tr>\n",
       "    <tr>\n",
       "      <th>1</th>\n",
       "      <td>62mP7</td>\n",
       "      <td>14.272088</td>\n",
       "      <td>-3.475083</td>\n",
       "      <td>0.999183</td>\n",
       "      <td>26.953261</td>\n",
       "    </tr>\n",
       "    <tr>\n",
       "      <th>2</th>\n",
       "      <td>vyE1P</td>\n",
       "      <td>6.263187</td>\n",
       "      <td>-5.948386</td>\n",
       "      <td>5.001160</td>\n",
       "      <td>134.766305</td>\n",
       "    </tr>\n",
       "    <tr>\n",
       "      <th>3</th>\n",
       "      <td>KcrkZ</td>\n",
       "      <td>-13.081196</td>\n",
       "      <td>-11.506057</td>\n",
       "      <td>4.999415</td>\n",
       "      <td>137.945408</td>\n",
       "    </tr>\n",
       "    <tr>\n",
       "      <th>4</th>\n",
       "      <td>AHL4O</td>\n",
       "      <td>12.702195</td>\n",
       "      <td>-8.147433</td>\n",
       "      <td>5.004363</td>\n",
       "      <td>134.766305</td>\n",
       "    </tr>\n",
       "  </tbody>\n",
       "</table>\n",
       "</div>"
      ],
      "text/plain": [
       "      id         f0         f1        f2     product\n",
       "0  kBEdx -15.001348  -8.276000 -0.005876    3.179103\n",
       "1  62mP7  14.272088  -3.475083  0.999183   26.953261\n",
       "2  vyE1P   6.263187  -5.948386  5.001160  134.766305\n",
       "3  KcrkZ -13.081196 -11.506057  4.999415  137.945408\n",
       "4  AHL4O  12.702195  -8.147433  5.004363  134.766305"
      ]
     },
     "execution_count": 4,
     "metadata": {},
     "output_type": "execute_result"
    }
   ],
   "source": [
    "print(data2.info())\n",
    "data2.head()"
   ]
  },
  {
   "cell_type": "code",
   "execution_count": 5,
   "metadata": {},
   "outputs": [
    {
     "name": "stdout",
     "output_type": "stream",
     "text": [
      "<class 'pandas.core.frame.DataFrame'>\n",
      "RangeIndex: 100000 entries, 0 to 99999\n",
      "Data columns (total 5 columns):\n",
      " #   Column   Non-Null Count   Dtype  \n",
      "---  ------   --------------   -----  \n",
      " 0   id       100000 non-null  object \n",
      " 1   f0       100000 non-null  float64\n",
      " 2   f1       100000 non-null  float64\n",
      " 3   f2       100000 non-null  float64\n",
      " 4   product  100000 non-null  float64\n",
      "dtypes: float64(4), object(1)\n",
      "memory usage: 3.8+ MB\n",
      "None\n"
     ]
    },
    {
     "data": {
      "text/html": [
       "<div>\n",
       "<style scoped>\n",
       "    .dataframe tbody tr th:only-of-type {\n",
       "        vertical-align: middle;\n",
       "    }\n",
       "\n",
       "    .dataframe tbody tr th {\n",
       "        vertical-align: top;\n",
       "    }\n",
       "\n",
       "    .dataframe thead th {\n",
       "        text-align: right;\n",
       "    }\n",
       "</style>\n",
       "<table border=\"1\" class=\"dataframe\">\n",
       "  <thead>\n",
       "    <tr style=\"text-align: right;\">\n",
       "      <th></th>\n",
       "      <th>id</th>\n",
       "      <th>f0</th>\n",
       "      <th>f1</th>\n",
       "      <th>f2</th>\n",
       "      <th>product</th>\n",
       "    </tr>\n",
       "  </thead>\n",
       "  <tbody>\n",
       "    <tr>\n",
       "      <th>0</th>\n",
       "      <td>fwXo0</td>\n",
       "      <td>-1.146987</td>\n",
       "      <td>0.963328</td>\n",
       "      <td>-0.828965</td>\n",
       "      <td>27.758673</td>\n",
       "    </tr>\n",
       "    <tr>\n",
       "      <th>1</th>\n",
       "      <td>WJtFt</td>\n",
       "      <td>0.262778</td>\n",
       "      <td>0.269839</td>\n",
       "      <td>-2.530187</td>\n",
       "      <td>56.069697</td>\n",
       "    </tr>\n",
       "    <tr>\n",
       "      <th>2</th>\n",
       "      <td>ovLUW</td>\n",
       "      <td>0.194587</td>\n",
       "      <td>0.289035</td>\n",
       "      <td>-5.586433</td>\n",
       "      <td>62.871910</td>\n",
       "    </tr>\n",
       "    <tr>\n",
       "      <th>3</th>\n",
       "      <td>q6cA6</td>\n",
       "      <td>2.236060</td>\n",
       "      <td>-0.553760</td>\n",
       "      <td>0.930038</td>\n",
       "      <td>114.572842</td>\n",
       "    </tr>\n",
       "    <tr>\n",
       "      <th>4</th>\n",
       "      <td>WPMUX</td>\n",
       "      <td>-0.515993</td>\n",
       "      <td>1.716266</td>\n",
       "      <td>5.899011</td>\n",
       "      <td>149.600746</td>\n",
       "    </tr>\n",
       "  </tbody>\n",
       "</table>\n",
       "</div>"
      ],
      "text/plain": [
       "      id        f0        f1        f2     product\n",
       "0  fwXo0 -1.146987  0.963328 -0.828965   27.758673\n",
       "1  WJtFt  0.262778  0.269839 -2.530187   56.069697\n",
       "2  ovLUW  0.194587  0.289035 -5.586433   62.871910\n",
       "3  q6cA6  2.236060 -0.553760  0.930038  114.572842\n",
       "4  WPMUX -0.515993  1.716266  5.899011  149.600746"
      ]
     },
     "execution_count": 5,
     "metadata": {},
     "output_type": "execute_result"
    }
   ],
   "source": [
    "print(data3.info())\n",
    "data3.head()"
   ]
  },
  {
   "cell_type": "markdown",
   "metadata": {},
   "source": [
    "Проверим данные на наличие дубликатов, пропусков и аномальных значений."
   ]
  },
  {
   "cell_type": "code",
   "execution_count": 6,
   "metadata": {},
   "outputs": [
    {
     "data": {
      "text/plain": [
       "array([ 27.75867323,  56.06969663,  62.87191005, ..., 157.08007975,\n",
       "        51.79525299, 102.77576749])"
      ]
     },
     "execution_count": 6,
     "metadata": {},
     "output_type": "execute_result"
    }
   ],
   "source": [
    "data1.duplicated().sum()\n",
    "data1.isna().sum()\n",
    "data1['f0'].unique()\n",
    "data1['f1'].unique()\n",
    "data1['f2'].unique()\n",
    "data1['product'].unique()\n",
    "\n",
    "data2.duplicated().sum()\n",
    "data2.isna().sum()\n",
    "data2['f0'].unique()\n",
    "data2['f1'].unique()\n",
    "data2['f2'].unique()\n",
    "data2['product'].unique()\n",
    "\n",
    "data3.duplicated().sum()\n",
    "data3.isna().sum()\n",
    "data3['f0'].unique()\n",
    "data3['f1'].unique()\n",
    "data3['f2'].unique()\n",
    "data3['product'].unique()"
   ]
  },
  {
   "cell_type": "markdown",
   "metadata": {},
   "source": [
    "Дубликатов, пропущенных и аномальных значений нет, данные готовы к работе."
   ]
  },
  {
   "cell_type": "markdown",
   "metadata": {},
   "source": [
    "## Обучение и проверка модели"
   ]
  },
  {
   "cell_type": "markdown",
   "metadata": {},
   "source": [
    "Выделим признаки и целевой признак в данных. Разделим данные на тренировочную и валидационную выборки. Масштабируем признаки."
   ]
  },
  {
   "cell_type": "code",
   "execution_count": 7,
   "metadata": {},
   "outputs": [
    {
     "name": "stdout",
     "output_type": "stream",
     "text": [
      "75000 25000\n",
      "75000 25000\n",
      "75000 25000\n"
     ]
    }
   ],
   "source": [
    "data1_features = data1[['f0', 'f1', 'f2']]\n",
    "data1_target = data1['product']\n",
    "data2_features = data2[['f0', 'f1', 'f2']]\n",
    "data2_target = data2['product']\n",
    "data3_features = data3[['f0', 'f1', 'f2']]\n",
    "data3_target = data3['product']\n",
    "\n",
    "features_train_1, features_valid_1, target_train_1, target_valid_1 = train_test_split(data1_features, data1_target, test_size=0.25, random_state=12345)\n",
    "print(len(features_train_1), len(features_valid_1))\n",
    "\n",
    "features_train_2, features_valid_2, target_train_2, target_valid_2 = train_test_split(data2_features, data2_target, test_size=0.25, random_state=12345)\n",
    "print(len(features_train_2), len(features_valid_2))\n",
    "\n",
    "features_train_3, features_valid_3, target_train_3, target_valid_3 = train_test_split(data3_features, data3_target, test_size=0.25, random_state=12345)\n",
    "print(len(features_train_3), len(features_valid_3))\n",
    "\n",
    "numeric = ['f0', 'f1', 'f2']\n",
    "scaler = StandardScaler()\n",
    "\n",
    "scaler.fit(features_train_1[numeric])\n",
    "features_train_1[numeric] = scaler.transform(features_train_1[numeric])\n",
    "features_valid_1[numeric] = scaler.transform(features_valid_1[numeric])\n",
    "\n",
    "scaler.fit(features_train_2[numeric])\n",
    "features_train_2[numeric] = scaler.transform(features_train_2[numeric])\n",
    "features_valid_2[numeric] = scaler.transform(features_valid_2[numeric])\n",
    "\n",
    "scaler.fit(features_train_3[numeric])\n",
    "features_train_3[numeric] = scaler.transform(features_train_3[numeric])\n",
    "features_valid_3[numeric] = scaler.transform(features_valid_3[numeric])"
   ]
  },
  {
   "cell_type": "markdown",
   "metadata": {},
   "source": [
    "Построим модель линейной регрессии для каждого региогна, определим ее качество, используя корень от среднеквадратичной ошибки, и посчитаем средний запас предсказанного сырья в каждом регионе."
   ]
  },
  {
   "cell_type": "code",
   "execution_count": 22,
   "metadata": {},
   "outputs": [],
   "source": [
    "def model(features_train, target_train, features_valid, target_valid):\n",
    "    model = LinearRegression()\n",
    "    model.fit(features_train, target_train)\n",
    "    predicted_valid = model.predict(features_valid)\n",
    "    mse = mean_squared_error(target_valid, predicted_valid)\n",
    "    rmse = mse ** 0.5\n",
    "    print('Средний запас предсказанного сырья в регионе:', predicted_valid.mean())\n",
    "    print('RMSE модели региона:', rmse)  \n",
    "    return predicted_valid"
   ]
  },
  {
   "cell_type": "code",
   "execution_count": 23,
   "metadata": {},
   "outputs": [
    {
     "name": "stdout",
     "output_type": "stream",
     "text": [
      "Средний запас предсказанного сырья в регионе: 92.59256778438035\n",
      "RMSE модели региона: 37.5794217150813\n"
     ]
    },
    {
     "data": {
      "text/plain": [
       "array([ 95.89495185,  77.57258261,  77.89263965, ...,  61.50983303,\n",
       "       118.18039721, 118.16939229])"
      ]
     },
     "execution_count": 23,
     "metadata": {},
     "output_type": "execute_result"
    }
   ],
   "source": [
    "model(features_train_1, target_train_1, features_valid_1, target_valid_1)"
   ]
  },
  {
   "cell_type": "code",
   "execution_count": 10,
   "metadata": {},
   "outputs": [
    {
     "name": "stdout",
     "output_type": "stream",
     "text": [
      "Средний запас предсказанного сырья в регионе 1: 92.59256778438035\n",
      "RMSE модели региона 1: 37.5794217150813\n"
     ]
    }
   ],
   "source": [
    "model = LinearRegression()\n",
    "model.fit(features_train_1, target_train_1)\n",
    "predicted_valid_1 = model.predict(features_valid_1)\n",
    "mse1 = mean_squared_error(target_valid_1, predicted_valid_1)\n",
    "rmse1 = mse1 ** 0.5\n",
    "\n",
    "print('Средний запас предсказанного сырья в регионе 1:', predicted_valid_1.mean())\n",
    "print('RMSE модели региона 1:', rmse1)"
   ]
  },
  {
   "cell_type": "code",
   "execution_count": 11,
   "metadata": {},
   "outputs": [
    {
     "name": "stdout",
     "output_type": "stream",
     "text": [
      "Средний запас предсказанного сырья в регионе 2: 68.728546895446\n",
      "RMSE модели региона 2: 0.893099286775617\n"
     ]
    }
   ],
   "source": [
    "model = LinearRegression()\n",
    "model.fit(features_train_2, target_train_2)\n",
    "predicted_valid_2 = model.predict(features_valid_2)\n",
    "mse2 = mean_squared_error(target_valid_2, predicted_valid_2)\n",
    "rmse2 = mse2 ** 0.5\n",
    "\n",
    "print('Средний запас предсказанного сырья в регионе 2:', predicted_valid_2.mean())\n",
    "print('RMSE модели региона 2:', rmse2)"
   ]
  },
  {
   "cell_type": "code",
   "execution_count": 12,
   "metadata": {},
   "outputs": [
    {
     "name": "stdout",
     "output_type": "stream",
     "text": [
      "Средний запас предсказанного сырья в регионе 1: 94.96504596800489\n",
      "RMSE модели региона 1: 40.02970873393434\n"
     ]
    }
   ],
   "source": [
    "model = LinearRegression()\n",
    "model.fit(features_train_3, target_train_3)\n",
    "predicted_valid_3 = model.predict(features_valid_3)\n",
    "mse3 = mean_squared_error(target_valid_3, predicted_valid_3)\n",
    "rmse3 = mse3 ** 0.5\n",
    "\n",
    "print('Средний запас предсказанного сырья в регионе 1:', predicted_valid_3.mean())\n",
    "print('RMSE модели региона 1:', rmse3)"
   ]
  },
  {
   "cell_type": "markdown",
   "metadata": {},
   "source": [
    "**По результатам работы моделей, можно сделать вывод о том, что выбор стоит делать между 1 и 3 регионами. 2 регион показал наименьший запас предсказанного сырья и плохое качество работы модели. Показатели 1 и 3 регионов практически не отличаются.**"
   ]
  },
  {
   "cell_type": "markdown",
   "metadata": {},
   "source": [
    "## Подготовка к расчёту прибыли"
   ]
  },
  {
   "cell_type": "markdown",
   "metadata": {},
   "source": [
    "Переведем предсказания в необходимый формат."
   ]
  },
  {
   "cell_type": "code",
   "execution_count": 13,
   "metadata": {},
   "outputs": [],
   "source": [
    "predicted_valid_1 = pd.Series(predicted_valid_1, index=target_valid_1.index)\n",
    "predicted_valid_2 = pd.Series(predicted_valid_2, index=target_valid_2.index)\n",
    "predicted_valid_3 = pd.Series(predicted_valid_3, index=target_valid_3.index)"
   ]
  },
  {
   "cell_type": "markdown",
   "metadata": {},
   "source": [
    "Подготовим переменные, необходимые для расчета прибыли."
   ]
  },
  {
   "cell_type": "code",
   "execution_count": 14,
   "metadata": {},
   "outputs": [],
   "source": [
    "BUDGET = 10000000000\n",
    "INCOME_FOR_ONE = 450000"
   ]
  },
  {
   "cell_type": "markdown",
   "metadata": {},
   "source": [
    "Рассчитаем достаточный объём сырья для безубыточной разработки новой скважины."
   ]
  },
  {
   "cell_type": "code",
   "execution_count": 15,
   "metadata": {},
   "outputs": [
    {
     "data": {
      "text/plain": [
       "111.11111111111111"
      ]
     },
     "execution_count": 15,
     "metadata": {},
     "output_type": "execute_result"
    }
   ],
   "source": [
    "BUDGET / 200 / INCOME_FOR_ONE"
   ]
  },
  {
   "cell_type": "markdown",
   "metadata": {},
   "source": [
    "111 тыс. барелей - необходимый объем сырья в скважине для того, чтобы разработка стала безубыточной. Сравним этот показатель со средним запасом в каждом регионе."
   ]
  },
  {
   "cell_type": "code",
   "execution_count": 16,
   "metadata": {},
   "outputs": [
    {
     "name": "stdout",
     "output_type": "stream",
     "text": [
      "92.50000000000001\n",
      "68.82500000000002\n",
      "95.00000000000004\n"
     ]
    }
   ],
   "source": [
    "print(data1['product'].mean())\n",
    "print(data2['product'].mean())\n",
    "print(data3['product'].mean())"
   ]
  },
  {
   "cell_type": "markdown",
   "metadata": {},
   "source": [
    "По среднему показателю ни один регион не дотягивает до необходимого значения. Самый маленький показатель в регионе 2."
   ]
  },
  {
   "cell_type": "markdown",
   "metadata": {},
   "source": [
    "## Расчёт прибыли и рисков "
   ]
  },
  {
   "cell_type": "markdown",
   "metadata": {},
   "source": [
    "Напишем функцию для подсчета прибыли."
   ]
  },
  {
   "cell_type": "code",
   "execution_count": 17,
   "metadata": {},
   "outputs": [],
   "source": [
    "def profit(target, predicted, count):\n",
    "    pred_sorted = predicted.sort_values(ascending=False)\n",
    "    selected = target[pred_sorted.index][:count]\n",
    "    profit = selected.sum() * INCOME_FOR_ONE - BUDGET\n",
    "    return profit\n",
    "    print(pred_sorted.head())\n",
    "    print(selected.head())"
   ]
  },
  {
   "cell_type": "markdown",
   "metadata": {},
   "source": [
    "Напишем функцию для нахождения распределения прибыли и риска убытков техникой bootstrap."
   ]
  },
  {
   "cell_type": "code",
   "execution_count": 18,
   "metadata": {},
   "outputs": [],
   "source": [
    "def bootstrap(target, predictions):\n",
    "    state = np.random.RandomState(12345)\n",
    "    values = []\n",
    "    loss = 0\n",
    "    for i in range(1000):\n",
    "        target_subsample = target.sample(n=500, replace=True, random_state=state)\n",
    "        pred_subsample = predictions[target_subsample.index]\n",
    "        values.append(profit(target_subsample, pred_subsample, 200))\n",
    "    values = pd.Series(values)\n",
    "    lower = values.quantile(0.025)\n",
    "    upper = values.quantile(0.975)\n",
    "    risk = (values < 0). mean() * 100\n",
    "    print('Средняя прибыль:', values.mean())\n",
    "    print('95% доверительный интервал:', lower,upper)\n",
    "    print('Риск убытков:', risk, '%')"
   ]
  },
  {
   "cell_type": "markdown",
   "metadata": {},
   "source": [
    "Оценим ситуацию в регионе 1."
   ]
  },
  {
   "cell_type": "code",
   "execution_count": 19,
   "metadata": {},
   "outputs": [
    {
     "name": "stdout",
     "output_type": "stream",
     "text": [
      "Средняя прибыль: 425938526.91059244\n",
      "95% доверительный интервал: -102090094.83793654 947976353.3583689\n",
      "Риск убытков: 6.0 %\n"
     ]
    }
   ],
   "source": [
    "bootstrap(target_valid_1, predicted_valid_1)"
   ]
  },
  {
   "cell_type": "markdown",
   "metadata": {},
   "source": [
    "Оценим ситуацию в регионе 2."
   ]
  },
  {
   "cell_type": "code",
   "execution_count": 20,
   "metadata": {},
   "outputs": [
    {
     "name": "stdout",
     "output_type": "stream",
     "text": [
      "Средняя прибыль: 515222773.4432899\n",
      "95% доверительный интервал: 68873225.37050176 931547591.2570494\n",
      "Риск убытков: 1.0 %\n"
     ]
    }
   ],
   "source": [
    "bootstrap(target_valid_2, predicted_valid_2)"
   ]
  },
  {
   "cell_type": "markdown",
   "metadata": {},
   "source": [
    "Оценим ситуацию в регионе 3."
   ]
  },
  {
   "cell_type": "code",
   "execution_count": 21,
   "metadata": {},
   "outputs": [
    {
     "name": "stdout",
     "output_type": "stream",
     "text": [
      "Средняя прибыль: 435008362.7827556\n",
      "95% доверительный интервал: -128880547.32978901 969706954.1802661\n",
      "Риск убытков: 6.4 %\n"
     ]
    }
   ],
   "source": [
    "bootstrap(target_valid_3, predicted_valid_3)"
   ]
  },
  {
   "cell_type": "markdown",
   "metadata": {},
   "source": [
    "**Финальный вывод**  \n",
    "По итогам работы были обработаны данные и предсказаны запасы сырья. Была оценена средняя прибыль каждого из регионов, распределение прибыли, риск убытков. Наилучший показатель средней прибыли (515222773) и наименьшая вероятность убытков (1%) была показана в регионе 2. Таким образом, регион 2 является наиболее удачным выбором для разработки новых скважин."
   ]
  }
 ],
 "metadata": {
  "ExecuteTimeLog": [
   {
    "duration": 392,
    "start_time": "2022-08-05T15:06:16.862Z"
   },
   {
    "duration": 830,
    "start_time": "2022-08-05T15:07:18.604Z"
   },
   {
    "duration": 15,
    "start_time": "2022-08-05T15:08:16.600Z"
   },
   {
    "duration": 26,
    "start_time": "2022-08-05T15:08:38.367Z"
   },
   {
    "duration": 20,
    "start_time": "2022-08-05T15:09:13.942Z"
   },
   {
    "duration": 21,
    "start_time": "2022-08-05T15:09:30.193Z"
   },
   {
    "duration": 45,
    "start_time": "2022-08-05T15:11:39.822Z"
   },
   {
    "duration": 42,
    "start_time": "2022-08-05T15:11:46.949Z"
   },
   {
    "duration": 42,
    "start_time": "2022-08-05T15:11:54.664Z"
   },
   {
    "duration": 49,
    "start_time": "2022-08-05T15:12:07.415Z"
   },
   {
    "duration": 55,
    "start_time": "2022-08-05T15:12:26.083Z"
   },
   {
    "duration": 54,
    "start_time": "2022-08-05T15:12:37.327Z"
   },
   {
    "duration": 59,
    "start_time": "2022-08-05T15:12:55.885Z"
   },
   {
    "duration": 123,
    "start_time": "2022-08-05T15:13:09.275Z"
   },
   {
    "duration": 63,
    "start_time": "2022-08-05T15:13:14.385Z"
   },
   {
    "duration": 99,
    "start_time": "2022-08-05T15:13:30.509Z"
   },
   {
    "duration": 114,
    "start_time": "2022-08-05T15:13:39.330Z"
   },
   {
    "duration": 115,
    "start_time": "2022-08-05T15:13:57.539Z"
   },
   {
    "duration": 155,
    "start_time": "2022-08-05T15:14:07.058Z"
   },
   {
    "duration": 152,
    "start_time": "2022-08-05T15:14:16.472Z"
   },
   {
    "duration": 184,
    "start_time": "2022-08-05T15:14:31.238Z"
   },
   {
    "duration": 11,
    "start_time": "2022-08-05T15:20:54.379Z"
   },
   {
    "duration": 5,
    "start_time": "2022-08-05T15:21:47.256Z"
   },
   {
    "duration": 9,
    "start_time": "2022-08-05T15:21:56.421Z"
   },
   {
    "duration": 10,
    "start_time": "2022-08-05T15:22:26.943Z"
   },
   {
    "duration": 636,
    "start_time": "2022-08-05T15:22:54.424Z"
   },
   {
    "duration": 63,
    "start_time": "2022-08-05T15:25:37.617Z"
   },
   {
    "duration": 29,
    "start_time": "2022-08-05T15:31:26.276Z"
   },
   {
    "duration": 42,
    "start_time": "2022-08-05T15:34:36.385Z"
   },
   {
    "duration": 51,
    "start_time": "2022-08-05T15:34:54.493Z"
   },
   {
    "duration": 60,
    "start_time": "2022-08-05T15:35:23.108Z"
   },
   {
    "duration": 47,
    "start_time": "2022-08-05T15:35:33.572Z"
   },
   {
    "duration": 24,
    "start_time": "2022-08-05T15:35:43.580Z"
   },
   {
    "duration": 30,
    "start_time": "2022-08-05T15:36:13.002Z"
   },
   {
    "duration": 21,
    "start_time": "2022-08-05T15:36:37.611Z"
   },
   {
    "duration": 31,
    "start_time": "2022-08-05T15:37:37.622Z"
   },
   {
    "duration": 39,
    "start_time": "2022-08-05T15:38:09.024Z"
   },
   {
    "duration": 41,
    "start_time": "2022-08-05T15:40:45.188Z"
   },
   {
    "duration": 3,
    "start_time": "2022-08-05T15:41:15.595Z"
   },
   {
    "duration": 65,
    "start_time": "2022-08-05T15:41:21.436Z"
   },
   {
    "duration": 3,
    "start_time": "2022-08-05T15:41:52.736Z"
   },
   {
    "duration": 62,
    "start_time": "2022-08-05T15:41:58.222Z"
   },
   {
    "duration": 1050,
    "start_time": "2022-08-05T15:42:03.237Z"
   },
   {
    "duration": 382,
    "start_time": "2022-08-05T15:42:04.289Z"
   },
   {
    "duration": 29,
    "start_time": "2022-08-05T15:42:04.672Z"
   },
   {
    "duration": 22,
    "start_time": "2022-08-05T15:42:04.703Z"
   },
   {
    "duration": 21,
    "start_time": "2022-08-05T15:42:04.740Z"
   },
   {
    "duration": 206,
    "start_time": "2022-08-05T15:42:04.763Z"
   },
   {
    "duration": 98,
    "start_time": "2022-08-05T15:42:04.971Z"
   },
   {
    "duration": 90,
    "start_time": "2022-08-05T16:14:32.785Z"
   },
   {
    "duration": 24,
    "start_time": "2022-08-05T16:14:39.865Z"
   },
   {
    "duration": 3,
    "start_time": "2022-08-05T16:26:19.149Z"
   },
   {
    "duration": 24,
    "start_time": "2022-08-05T16:31:06.315Z"
   },
   {
    "duration": 22,
    "start_time": "2022-08-05T16:33:19.988Z"
   },
   {
    "duration": 17,
    "start_time": "2022-08-05T16:33:55.522Z"
   },
   {
    "duration": 101,
    "start_time": "2022-08-05T16:35:54.668Z"
   },
   {
    "duration": 104,
    "start_time": "2022-08-05T16:36:02.337Z"
   },
   {
    "duration": 14,
    "start_time": "2022-08-05T16:36:14.056Z"
   },
   {
    "duration": 65,
    "start_time": "2022-08-05T16:36:19.220Z"
   },
   {
    "duration": 13,
    "start_time": "2022-08-05T16:36:22.350Z"
   },
   {
    "duration": 1086,
    "start_time": "2022-08-06T16:41:39.769Z"
   },
   {
    "duration": 920,
    "start_time": "2022-08-06T16:41:40.857Z"
   },
   {
    "duration": 26,
    "start_time": "2022-08-06T16:41:41.779Z"
   },
   {
    "duration": 17,
    "start_time": "2022-08-06T16:41:41.807Z"
   },
   {
    "duration": 18,
    "start_time": "2022-08-06T16:41:41.826Z"
   },
   {
    "duration": 194,
    "start_time": "2022-08-06T16:41:41.845Z"
   },
   {
    "duration": 89,
    "start_time": "2022-08-06T16:41:42.041Z"
   },
   {
    "duration": 16,
    "start_time": "2022-08-06T16:41:42.131Z"
   },
   {
    "duration": 107,
    "start_time": "2022-08-06T16:41:42.190Z"
   },
   {
    "duration": 191,
    "start_time": "2022-08-06T16:41:42.299Z"
   },
   {
    "duration": 4,
    "start_time": "2022-08-06T16:42:33.972Z"
   },
   {
    "duration": 98,
    "start_time": "2022-08-06T16:42:51.690Z"
   },
   {
    "duration": 8,
    "start_time": "2022-08-06T16:43:00.846Z"
   },
   {
    "duration": 3,
    "start_time": "2022-08-06T16:43:18.659Z"
   },
   {
    "duration": 6,
    "start_time": "2022-08-06T16:43:28.135Z"
   },
   {
    "duration": 6,
    "start_time": "2022-08-06T16:43:45.177Z"
   },
   {
    "duration": 7,
    "start_time": "2022-08-06T16:43:53.763Z"
   },
   {
    "duration": 7,
    "start_time": "2022-08-06T16:44:16.782Z"
   },
   {
    "duration": 10,
    "start_time": "2022-08-06T16:44:40.343Z"
   },
   {
    "duration": 3,
    "start_time": "2022-08-06T16:53:29.429Z"
   },
   {
    "duration": 8,
    "start_time": "2022-08-06T16:55:28.730Z"
   },
   {
    "duration": 4,
    "start_time": "2022-08-06T16:55:32.849Z"
   },
   {
    "duration": 3,
    "start_time": "2022-08-06T16:55:53.008Z"
   },
   {
    "duration": 47,
    "start_time": "2022-08-06T16:56:48.960Z"
   },
   {
    "duration": 4,
    "start_time": "2022-08-06T16:59:49.211Z"
   },
   {
    "duration": 5,
    "start_time": "2022-08-06T17:00:00.893Z"
   },
   {
    "duration": 6,
    "start_time": "2022-08-06T17:00:22.762Z"
   },
   {
    "duration": 5,
    "start_time": "2022-08-06T17:01:58.979Z"
   },
   {
    "duration": 5,
    "start_time": "2022-08-06T17:02:13.762Z"
   },
   {
    "duration": 6,
    "start_time": "2022-08-06T17:02:19.930Z"
   },
   {
    "duration": 8,
    "start_time": "2022-08-06T17:11:23.977Z"
   },
   {
    "duration": 11,
    "start_time": "2022-08-06T17:11:29.160Z"
   },
   {
    "duration": 6,
    "start_time": "2022-08-06T17:11:35.904Z"
   },
   {
    "duration": 9,
    "start_time": "2022-08-06T17:14:50.342Z"
   },
   {
    "duration": 5,
    "start_time": "2022-08-06T17:15:48.556Z"
   },
   {
    "duration": 2,
    "start_time": "2022-08-06T17:18:23.421Z"
   },
   {
    "duration": 2,
    "start_time": "2022-08-06T17:18:49.960Z"
   },
   {
    "duration": 8,
    "start_time": "2022-08-06T17:19:18.880Z"
   },
   {
    "duration": 272,
    "start_time": "2022-08-06T17:19:35.112Z"
   },
   {
    "duration": 5,
    "start_time": "2022-08-06T17:20:27.076Z"
   },
   {
    "duration": 6,
    "start_time": "2022-08-06T17:20:33.518Z"
   },
   {
    "duration": 5,
    "start_time": "2022-08-06T17:20:44.782Z"
   },
   {
    "duration": 5,
    "start_time": "2022-08-06T17:22:07.387Z"
   },
   {
    "duration": 6,
    "start_time": "2022-08-06T17:22:19.786Z"
   },
   {
    "duration": 3,
    "start_time": "2022-08-06T17:22:27.279Z"
   },
   {
    "duration": 3,
    "start_time": "2022-08-06T17:22:37.062Z"
   },
   {
    "duration": 947,
    "start_time": "2022-08-06T17:22:41.129Z"
   },
   {
    "duration": 369,
    "start_time": "2022-08-06T17:22:42.078Z"
   },
   {
    "duration": 26,
    "start_time": "2022-08-06T17:22:42.449Z"
   },
   {
    "duration": 22,
    "start_time": "2022-08-06T17:22:42.486Z"
   },
   {
    "duration": 18,
    "start_time": "2022-08-06T17:22:42.510Z"
   },
   {
    "duration": 192,
    "start_time": "2022-08-06T17:22:42.530Z"
   },
   {
    "duration": 96,
    "start_time": "2022-08-06T17:22:42.724Z"
   },
   {
    "duration": 69,
    "start_time": "2022-08-06T17:22:42.822Z"
   },
   {
    "duration": 107,
    "start_time": "2022-08-06T17:22:42.893Z"
   },
   {
    "duration": 187,
    "start_time": "2022-08-06T17:22:43.005Z"
   },
   {
    "duration": 193,
    "start_time": "2022-08-06T17:22:43.194Z"
   },
   {
    "duration": 2,
    "start_time": "2022-08-06T17:22:43.389Z"
   },
   {
    "duration": 12,
    "start_time": "2022-08-06T17:22:43.392Z"
   },
   {
    "duration": 6,
    "start_time": "2022-08-06T17:22:43.406Z"
   },
   {
    "duration": 3,
    "start_time": "2022-08-06T17:22:43.414Z"
   },
   {
    "duration": 3,
    "start_time": "2022-08-06T17:56:56.879Z"
   },
   {
    "duration": 1007,
    "start_time": "2022-08-06T17:57:02.360Z"
   },
   {
    "duration": 379,
    "start_time": "2022-08-06T17:57:03.369Z"
   },
   {
    "duration": 28,
    "start_time": "2022-08-06T17:57:03.749Z"
   },
   {
    "duration": 20,
    "start_time": "2022-08-06T17:57:03.787Z"
   },
   {
    "duration": 22,
    "start_time": "2022-08-06T17:57:03.809Z"
   },
   {
    "duration": 201,
    "start_time": "2022-08-06T17:57:03.833Z"
   },
   {
    "duration": 92,
    "start_time": "2022-08-06T17:57:04.036Z"
   },
   {
    "duration": 60,
    "start_time": "2022-08-06T17:57:04.130Z"
   },
   {
    "duration": 110,
    "start_time": "2022-08-06T17:57:04.192Z"
   },
   {
    "duration": 191,
    "start_time": "2022-08-06T17:57:04.306Z"
   },
   {
    "duration": 109,
    "start_time": "2022-08-06T17:57:04.500Z"
   },
   {
    "duration": 6,
    "start_time": "2022-08-06T17:57:04.687Z"
   },
   {
    "duration": 8,
    "start_time": "2022-08-06T17:57:04.694Z"
   },
   {
    "duration": 10,
    "start_time": "2022-08-06T17:57:04.703Z"
   },
   {
    "duration": 2,
    "start_time": "2022-08-06T17:57:04.715Z"
   },
   {
    "duration": 9,
    "start_time": "2022-08-06T18:05:07.484Z"
   },
   {
    "duration": 12,
    "start_time": "2022-08-06T18:06:38.611Z"
   },
   {
    "duration": 3,
    "start_time": "2022-08-06T18:17:47.655Z"
   },
   {
    "duration": 100,
    "start_time": "2022-08-06T18:21:24.861Z"
   },
   {
    "duration": 4,
    "start_time": "2022-08-06T18:25:22.764Z"
   },
   {
    "duration": 23,
    "start_time": "2022-08-06T18:25:48.952Z"
   },
   {
    "duration": 3,
    "start_time": "2022-08-06T18:26:43.193Z"
   },
   {
    "duration": 8,
    "start_time": "2022-08-06T18:27:03.574Z"
   },
   {
    "duration": 5,
    "start_time": "2022-08-06T18:27:07.621Z"
   },
   {
    "duration": 1029,
    "start_time": "2022-08-06T18:27:24.338Z"
   },
   {
    "duration": 372,
    "start_time": "2022-08-06T18:27:25.368Z"
   },
   {
    "duration": 26,
    "start_time": "2022-08-06T18:27:25.742Z"
   },
   {
    "duration": 24,
    "start_time": "2022-08-06T18:27:25.770Z"
   },
   {
    "duration": 18,
    "start_time": "2022-08-06T18:27:25.796Z"
   },
   {
    "duration": 187,
    "start_time": "2022-08-06T18:27:25.816Z"
   },
   {
    "duration": 101,
    "start_time": "2022-08-06T18:27:26.005Z"
   },
   {
    "duration": 85,
    "start_time": "2022-08-06T18:27:26.107Z"
   },
   {
    "duration": 117,
    "start_time": "2022-08-06T18:27:26.194Z"
   },
   {
    "duration": 104,
    "start_time": "2022-08-06T18:27:26.388Z"
   },
   {
    "duration": 198,
    "start_time": "2022-08-06T18:27:26.495Z"
   },
   {
    "duration": 11,
    "start_time": "2022-08-06T18:27:26.695Z"
   },
   {
    "duration": 19,
    "start_time": "2022-08-06T18:27:26.707Z"
   },
   {
    "duration": 10,
    "start_time": "2022-08-06T18:27:26.727Z"
   },
   {
    "duration": 96,
    "start_time": "2022-08-06T18:27:26.739Z"
   },
   {
    "duration": 3,
    "start_time": "2022-08-06T18:28:05.681Z"
   },
   {
    "duration": 12,
    "start_time": "2022-08-06T18:28:28.627Z"
   },
   {
    "duration": 3,
    "start_time": "2022-08-06T18:29:32.953Z"
   },
   {
    "duration": 26,
    "start_time": "2022-08-06T18:29:36.705Z"
   },
   {
    "duration": 6,
    "start_time": "2022-08-06T18:30:13.061Z"
   },
   {
    "duration": 8,
    "start_time": "2022-08-06T18:32:17.614Z"
   },
   {
    "duration": 7,
    "start_time": "2022-08-06T18:32:28.922Z"
   },
   {
    "duration": 6,
    "start_time": "2022-08-06T18:32:42.728Z"
   },
   {
    "duration": 7,
    "start_time": "2022-08-06T18:33:12.769Z"
   },
   {
    "duration": 7,
    "start_time": "2022-08-06T18:38:27.714Z"
   },
   {
    "duration": 1069,
    "start_time": "2022-08-06T18:57:56.899Z"
   },
   {
    "duration": 378,
    "start_time": "2022-08-06T18:57:57.969Z"
   },
   {
    "duration": 25,
    "start_time": "2022-08-06T18:57:58.349Z"
   },
   {
    "duration": 24,
    "start_time": "2022-08-06T18:57:58.376Z"
   },
   {
    "duration": 20,
    "start_time": "2022-08-06T18:57:58.401Z"
   },
   {
    "duration": 195,
    "start_time": "2022-08-06T18:57:58.423Z"
   },
   {
    "duration": 97,
    "start_time": "2022-08-06T18:57:58.620Z"
   },
   {
    "duration": 69,
    "start_time": "2022-08-06T18:57:58.719Z"
   },
   {
    "duration": 109,
    "start_time": "2022-08-06T18:57:58.790Z"
   },
   {
    "duration": 191,
    "start_time": "2022-08-06T18:57:58.903Z"
   },
   {
    "duration": 93,
    "start_time": "2022-08-06T18:57:59.098Z"
   },
   {
    "duration": 7,
    "start_time": "2022-08-06T18:57:59.286Z"
   },
   {
    "duration": 9,
    "start_time": "2022-08-06T18:57:59.295Z"
   },
   {
    "duration": 102,
    "start_time": "2022-08-06T18:57:59.305Z"
   },
   {
    "duration": 0,
    "start_time": "2022-08-06T18:57:59.408Z"
   },
   {
    "duration": 3,
    "start_time": "2022-08-06T18:59:34.413Z"
   },
   {
    "duration": 5,
    "start_time": "2022-08-06T19:01:01.520Z"
   },
   {
    "duration": 6,
    "start_time": "2022-08-06T19:01:23.828Z"
   },
   {
    "duration": 12,
    "start_time": "2022-08-06T19:01:39.010Z"
   },
   {
    "duration": 8,
    "start_time": "2022-08-06T19:02:19.584Z"
   },
   {
    "duration": 20,
    "start_time": "2022-08-06T19:04:03.063Z"
   },
   {
    "duration": 1130,
    "start_time": "2022-08-08T11:38:14.554Z"
   },
   {
    "duration": 2053,
    "start_time": "2022-08-08T11:38:15.686Z"
   },
   {
    "duration": 32,
    "start_time": "2022-08-08T11:38:17.742Z"
   },
   {
    "duration": 30,
    "start_time": "2022-08-08T11:38:17.776Z"
   },
   {
    "duration": 24,
    "start_time": "2022-08-08T11:38:17.809Z"
   },
   {
    "duration": 194,
    "start_time": "2022-08-08T11:38:17.857Z"
   },
   {
    "duration": 89,
    "start_time": "2022-08-08T11:38:18.055Z"
   },
   {
    "duration": 29,
    "start_time": "2022-08-08T11:38:18.155Z"
   },
   {
    "duration": 189,
    "start_time": "2022-08-08T11:38:18.186Z"
   },
   {
    "duration": 193,
    "start_time": "2022-08-08T11:38:18.378Z"
   },
   {
    "duration": 5,
    "start_time": "2022-08-08T11:38:18.574Z"
   },
   {
    "duration": 117,
    "start_time": "2022-08-08T11:38:18.581Z"
   },
   {
    "duration": 8,
    "start_time": "2022-08-08T11:38:18.700Z"
   },
   {
    "duration": 4,
    "start_time": "2022-08-08T11:38:18.710Z"
   },
   {
    "duration": 180,
    "start_time": "2022-08-08T11:38:18.716Z"
   },
   {
    "duration": 0,
    "start_time": "2022-08-08T11:38:18.897Z"
   },
   {
    "duration": 1369,
    "start_time": "2022-08-08T11:43:14.731Z"
   },
   {
    "duration": 3,
    "start_time": "2022-08-08T11:43:33.641Z"
   },
   {
    "duration": 11,
    "start_time": "2022-08-08T11:43:43.021Z"
   },
   {
    "duration": 8,
    "start_time": "2022-08-08T11:43:49.641Z"
   },
   {
    "duration": 11,
    "start_time": "2022-08-08T11:44:02.408Z"
   },
   {
    "duration": 7,
    "start_time": "2022-08-08T11:44:22.590Z"
   },
   {
    "duration": 3,
    "start_time": "2022-08-08T11:45:45.412Z"
   },
   {
    "duration": 1206,
    "start_time": "2022-08-08T11:45:50.677Z"
   },
   {
    "duration": 410,
    "start_time": "2022-08-08T11:45:51.885Z"
   },
   {
    "duration": 33,
    "start_time": "2022-08-08T11:45:52.297Z"
   },
   {
    "duration": 30,
    "start_time": "2022-08-08T11:45:52.332Z"
   },
   {
    "duration": 33,
    "start_time": "2022-08-08T11:45:52.365Z"
   },
   {
    "duration": 217,
    "start_time": "2022-08-08T11:45:52.399Z"
   },
   {
    "duration": 92,
    "start_time": "2022-08-08T11:45:52.618Z"
   },
   {
    "duration": 49,
    "start_time": "2022-08-08T11:45:52.712Z"
   },
   {
    "duration": 117,
    "start_time": "2022-08-08T11:45:52.763Z"
   },
   {
    "duration": 176,
    "start_time": "2022-08-08T11:45:52.882Z"
   },
   {
    "duration": 17,
    "start_time": "2022-08-08T11:45:53.073Z"
   },
   {
    "duration": 63,
    "start_time": "2022-08-08T11:45:53.100Z"
   },
   {
    "duration": 14,
    "start_time": "2022-08-08T11:45:53.166Z"
   },
   {
    "duration": 16,
    "start_time": "2022-08-08T11:45:53.183Z"
   },
   {
    "duration": 14,
    "start_time": "2022-08-08T11:45:53.201Z"
   },
   {
    "duration": 107,
    "start_time": "2022-08-08T11:45:53.217Z"
   },
   {
    "duration": 0,
    "start_time": "2022-08-08T11:45:53.326Z"
   },
   {
    "duration": 19,
    "start_time": "2022-08-08T11:51:51.775Z"
   },
   {
    "duration": 14,
    "start_time": "2022-08-08T11:52:03.184Z"
   },
   {
    "duration": 15,
    "start_time": "2022-08-08T11:53:13.778Z"
   },
   {
    "duration": 11,
    "start_time": "2022-08-08T11:53:48.086Z"
   },
   {
    "duration": 14,
    "start_time": "2022-08-08T11:54:08.049Z"
   },
   {
    "duration": 6,
    "start_time": "2022-08-08T11:54:16.633Z"
   },
   {
    "duration": 18,
    "start_time": "2022-08-08T11:54:30.035Z"
   },
   {
    "duration": 975,
    "start_time": "2022-08-08T11:56:11.821Z"
   },
   {
    "duration": 344,
    "start_time": "2022-08-08T11:56:12.798Z"
   },
   {
    "duration": 33,
    "start_time": "2022-08-08T11:56:13.144Z"
   },
   {
    "duration": 18,
    "start_time": "2022-08-08T11:56:13.179Z"
   },
   {
    "duration": 17,
    "start_time": "2022-08-08T11:56:13.198Z"
   },
   {
    "duration": 202,
    "start_time": "2022-08-08T11:56:13.216Z"
   },
   {
    "duration": 99,
    "start_time": "2022-08-08T11:56:13.424Z"
   },
   {
    "duration": 52,
    "start_time": "2022-08-08T11:56:13.524Z"
   },
   {
    "duration": 17,
    "start_time": "2022-08-08T11:56:13.655Z"
   },
   {
    "duration": 196,
    "start_time": "2022-08-08T11:56:13.675Z"
   },
   {
    "duration": 188,
    "start_time": "2022-08-08T11:56:13.873Z"
   },
   {
    "duration": 13,
    "start_time": "2022-08-08T11:56:14.064Z"
   },
   {
    "duration": 7,
    "start_time": "2022-08-08T11:56:14.078Z"
   },
   {
    "duration": 10,
    "start_time": "2022-08-08T11:56:14.086Z"
   },
   {
    "duration": 3,
    "start_time": "2022-08-08T11:56:14.097Z"
   },
   {
    "duration": 110,
    "start_time": "2022-08-08T11:56:14.102Z"
   },
   {
    "duration": 0,
    "start_time": "2022-08-08T11:56:14.216Z"
   },
   {
    "duration": 6,
    "start_time": "2022-08-08T11:56:33.506Z"
   },
   {
    "duration": 13,
    "start_time": "2022-08-08T11:56:55.586Z"
   },
   {
    "duration": 1075,
    "start_time": "2022-08-08T11:57:03.333Z"
   },
   {
    "duration": 347,
    "start_time": "2022-08-08T11:57:04.410Z"
   },
   {
    "duration": 28,
    "start_time": "2022-08-08T11:57:04.759Z"
   },
   {
    "duration": 17,
    "start_time": "2022-08-08T11:57:04.789Z"
   },
   {
    "duration": 17,
    "start_time": "2022-08-08T11:57:04.809Z"
   },
   {
    "duration": 198,
    "start_time": "2022-08-08T11:57:04.827Z"
   },
   {
    "duration": 96,
    "start_time": "2022-08-08T11:57:05.027Z"
   },
   {
    "duration": 50,
    "start_time": "2022-08-08T11:57:05.124Z"
   },
   {
    "duration": 22,
    "start_time": "2022-08-08T11:57:05.257Z"
   },
   {
    "duration": 190,
    "start_time": "2022-08-08T11:57:05.281Z"
   },
   {
    "duration": 82,
    "start_time": "2022-08-08T11:57:05.473Z"
   },
   {
    "duration": 125,
    "start_time": "2022-08-08T11:57:05.558Z"
   },
   {
    "duration": 24,
    "start_time": "2022-08-08T11:57:05.684Z"
   },
   {
    "duration": 20,
    "start_time": "2022-08-08T11:57:05.710Z"
   },
   {
    "duration": 30,
    "start_time": "2022-08-08T11:57:05.731Z"
   },
   {
    "duration": 111,
    "start_time": "2022-08-08T11:57:05.763Z"
   },
   {
    "duration": 0,
    "start_time": "2022-08-08T11:57:05.875Z"
   },
   {
    "duration": 1063,
    "start_time": "2022-08-08T11:57:32.170Z"
   },
   {
    "duration": 4,
    "start_time": "2022-08-08T11:58:16.257Z"
   },
   {
    "duration": 101,
    "start_time": "2022-08-08T12:16:21.292Z"
   },
   {
    "duration": 21,
    "start_time": "2022-08-08T12:16:29.477Z"
   },
   {
    "duration": 21,
    "start_time": "2022-08-08T12:17:28.501Z"
   },
   {
    "duration": 6,
    "start_time": "2022-08-08T12:19:47.147Z"
   },
   {
    "duration": 25,
    "start_time": "2022-08-08T12:20:10.218Z"
   },
   {
    "duration": 5,
    "start_time": "2022-08-08T12:21:10.503Z"
   },
   {
    "duration": 25,
    "start_time": "2022-08-08T12:21:14.378Z"
   },
   {
    "duration": 5,
    "start_time": "2022-08-08T12:22:12.553Z"
   },
   {
    "duration": 27,
    "start_time": "2022-08-08T12:22:17.386Z"
   },
   {
    "duration": 6,
    "start_time": "2022-08-08T12:22:52.014Z"
   },
   {
    "duration": 21,
    "start_time": "2022-08-08T12:22:58.311Z"
   },
   {
    "duration": 26,
    "start_time": "2022-08-08T12:25:18.413Z"
   },
   {
    "duration": 32,
    "start_time": "2022-08-08T12:26:45.835Z"
   },
   {
    "duration": 6,
    "start_time": "2022-08-08T12:34:06.286Z"
   },
   {
    "duration": 28,
    "start_time": "2022-08-08T12:34:13.593Z"
   },
   {
    "duration": 1173,
    "start_time": "2022-08-08T12:35:55.388Z"
   },
   {
    "duration": 462,
    "start_time": "2022-08-08T12:35:56.562Z"
   },
   {
    "duration": 32,
    "start_time": "2022-08-08T12:35:57.026Z"
   },
   {
    "duration": 32,
    "start_time": "2022-08-08T12:35:57.062Z"
   },
   {
    "duration": 25,
    "start_time": "2022-08-08T12:35:57.096Z"
   },
   {
    "duration": 235,
    "start_time": "2022-08-08T12:35:57.123Z"
   },
   {
    "duration": 142,
    "start_time": "2022-08-08T12:35:57.360Z"
   },
   {
    "duration": 53,
    "start_time": "2022-08-08T12:35:57.505Z"
   },
   {
    "duration": 40,
    "start_time": "2022-08-08T12:35:57.672Z"
   },
   {
    "duration": 146,
    "start_time": "2022-08-08T12:35:57.716Z"
   },
   {
    "duration": 88,
    "start_time": "2022-08-08T12:35:57.867Z"
   },
   {
    "duration": 7,
    "start_time": "2022-08-08T12:35:57.958Z"
   },
   {
    "duration": 14,
    "start_time": "2022-08-08T12:35:57.967Z"
   },
   {
    "duration": 14,
    "start_time": "2022-08-08T12:35:57.984Z"
   },
   {
    "duration": 4,
    "start_time": "2022-08-08T12:35:58.001Z"
   },
   {
    "duration": 9,
    "start_time": "2022-08-08T12:35:58.008Z"
   },
   {
    "duration": 164,
    "start_time": "2022-08-08T12:35:58.020Z"
   },
   {
    "duration": 15,
    "start_time": "2022-08-08T12:41:59.456Z"
   },
   {
    "duration": 26,
    "start_time": "2022-08-08T12:42:02.515Z"
   },
   {
    "duration": 5,
    "start_time": "2022-08-08T12:42:15.111Z"
   },
   {
    "duration": 30,
    "start_time": "2022-08-08T12:42:18.600Z"
   },
   {
    "duration": 4,
    "start_time": "2022-08-08T12:44:21.165Z"
   },
   {
    "duration": 5,
    "start_time": "2022-08-08T12:44:30.970Z"
   },
   {
    "duration": 23,
    "start_time": "2022-08-08T12:45:48.710Z"
   },
   {
    "duration": 4,
    "start_time": "2022-08-08T12:46:34.493Z"
   },
   {
    "duration": 20,
    "start_time": "2022-08-08T12:46:37.722Z"
   },
   {
    "duration": 5,
    "start_time": "2022-08-08T12:47:39.350Z"
   },
   {
    "duration": 2143,
    "start_time": "2022-08-08T12:47:42.453Z"
   },
   {
    "duration": 4,
    "start_time": "2022-08-08T12:48:05.724Z"
   },
   {
    "duration": 2044,
    "start_time": "2022-08-08T12:48:10.937Z"
   },
   {
    "duration": 7,
    "start_time": "2022-08-08T12:48:28.346Z"
   },
   {
    "duration": 2073,
    "start_time": "2022-08-08T12:48:31.211Z"
   },
   {
    "duration": 6,
    "start_time": "2022-08-08T12:48:48.042Z"
   },
   {
    "duration": 2094,
    "start_time": "2022-08-08T12:48:51.570Z"
   },
   {
    "duration": 6,
    "start_time": "2022-08-08T12:50:15.128Z"
   },
   {
    "duration": 2128,
    "start_time": "2022-08-08T12:50:18.495Z"
   },
   {
    "duration": 6,
    "start_time": "2022-08-08T12:50:32.502Z"
   },
   {
    "duration": 2237,
    "start_time": "2022-08-08T12:50:35.341Z"
   },
   {
    "duration": 106,
    "start_time": "2022-08-08T12:50:48.745Z"
   },
   {
    "duration": 5,
    "start_time": "2022-08-08T12:51:07.774Z"
   },
   {
    "duration": 2307,
    "start_time": "2022-08-08T12:51:10.581Z"
   },
   {
    "duration": 2108,
    "start_time": "2022-08-08T12:51:47.850Z"
   },
   {
    "duration": 2246,
    "start_time": "2022-08-08T12:52:09.930Z"
   },
   {
    "duration": 2160,
    "start_time": "2022-08-08T12:52:21.966Z"
   },
   {
    "duration": 1398,
    "start_time": "2022-08-08T12:59:36.197Z"
   },
   {
    "duration": 547,
    "start_time": "2022-08-08T12:59:37.598Z"
   },
   {
    "duration": 49,
    "start_time": "2022-08-08T12:59:38.148Z"
   },
   {
    "duration": 30,
    "start_time": "2022-08-08T12:59:38.200Z"
   },
   {
    "duration": 47,
    "start_time": "2022-08-08T12:59:38.233Z"
   },
   {
    "duration": 318,
    "start_time": "2022-08-08T12:59:38.282Z"
   },
   {
    "duration": 126,
    "start_time": "2022-08-08T12:59:38.602Z"
   },
   {
    "duration": 125,
    "start_time": "2022-08-08T12:59:38.730Z"
   },
   {
    "duration": 105,
    "start_time": "2022-08-08T12:59:38.860Z"
   },
   {
    "duration": 141,
    "start_time": "2022-08-08T12:59:38.977Z"
   },
   {
    "duration": 36,
    "start_time": "2022-08-08T12:59:39.121Z"
   },
   {
    "duration": 131,
    "start_time": "2022-08-08T12:59:39.163Z"
   },
   {
    "duration": 11,
    "start_time": "2022-08-08T12:59:39.296Z"
   },
   {
    "duration": 18,
    "start_time": "2022-08-08T12:59:39.309Z"
   },
   {
    "duration": 4,
    "start_time": "2022-08-08T12:59:39.331Z"
   },
   {
    "duration": 64,
    "start_time": "2022-08-08T12:59:39.337Z"
   },
   {
    "duration": 2946,
    "start_time": "2022-08-08T12:59:39.403Z"
   },
   {
    "duration": 2462,
    "start_time": "2022-08-08T12:59:42.354Z"
   },
   {
    "duration": 2499,
    "start_time": "2022-08-08T12:59:44.818Z"
   },
   {
    "duration": 912,
    "start_time": "2022-08-08T18:56:42.800Z"
   },
   {
    "duration": 698,
    "start_time": "2022-08-08T18:56:43.714Z"
   },
   {
    "duration": 24,
    "start_time": "2022-08-08T18:56:44.414Z"
   },
   {
    "duration": 17,
    "start_time": "2022-08-08T18:56:44.439Z"
   },
   {
    "duration": 18,
    "start_time": "2022-08-08T18:56:44.457Z"
   },
   {
    "duration": 172,
    "start_time": "2022-08-08T18:56:44.476Z"
   },
   {
    "duration": 76,
    "start_time": "2022-08-08T18:56:44.649Z"
   },
   {
    "duration": 27,
    "start_time": "2022-08-08T18:56:44.726Z"
   },
   {
    "duration": 188,
    "start_time": "2022-08-08T18:56:44.754Z"
   },
   {
    "duration": 196,
    "start_time": "2022-08-08T18:56:44.944Z"
   },
   {
    "duration": 92,
    "start_time": "2022-08-08T18:56:45.146Z"
   },
   {
    "duration": 5,
    "start_time": "2022-08-08T18:56:45.240Z"
   },
   {
    "duration": 8,
    "start_time": "2022-08-08T18:56:45.246Z"
   },
   {
    "duration": 8,
    "start_time": "2022-08-08T18:56:45.255Z"
   },
   {
    "duration": 3,
    "start_time": "2022-08-08T18:56:45.264Z"
   },
   {
    "duration": 6,
    "start_time": "2022-08-08T18:56:45.268Z"
   },
   {
    "duration": 1904,
    "start_time": "2022-08-08T18:56:45.275Z"
   },
   {
    "duration": 1910,
    "start_time": "2022-08-08T18:56:47.180Z"
   },
   {
    "duration": 1842,
    "start_time": "2022-08-08T18:56:49.092Z"
   },
   {
    "duration": 75,
    "start_time": "2022-08-08T18:59:08.078Z"
   },
   {
    "duration": 3,
    "start_time": "2022-08-08T18:59:17.459Z"
   },
   {
    "duration": 3,
    "start_time": "2022-08-08T19:00:46.188Z"
   },
   {
    "duration": 91,
    "start_time": "2022-08-08T19:00:48.383Z"
   },
   {
    "duration": 18,
    "start_time": "2022-08-08T19:01:02.262Z"
   },
   {
    "duration": 92,
    "start_time": "2022-08-08T19:05:23.665Z"
   },
   {
    "duration": 3,
    "start_time": "2022-08-08T19:07:44.668Z"
   },
   {
    "duration": 8,
    "start_time": "2022-08-08T19:07:46.740Z"
   },
   {
    "duration": 4,
    "start_time": "2022-08-08T19:07:52.138Z"
   },
   {
    "duration": 3,
    "start_time": "2022-08-08T19:19:02.698Z"
   },
   {
    "duration": 52,
    "start_time": "2022-08-08T19:19:33.844Z"
   },
   {
    "duration": 4,
    "start_time": "2022-08-08T19:21:01.795Z"
   },
   {
    "duration": 1246,
    "start_time": "2022-08-08T19:21:07.974Z"
   },
   {
    "duration": 4,
    "start_time": "2022-08-08T19:21:18.454Z"
   },
   {
    "duration": 1093,
    "start_time": "2022-08-08T19:21:22.316Z"
   },
   {
    "duration": 1144,
    "start_time": "2022-08-08T19:21:28.645Z"
   },
   {
    "duration": 1100,
    "start_time": "2022-08-08T19:21:32.364Z"
   },
   {
    "duration": 946,
    "start_time": "2022-08-08T19:22:22.338Z"
   },
   {
    "duration": 336,
    "start_time": "2022-08-08T19:22:23.287Z"
   },
   {
    "duration": 33,
    "start_time": "2022-08-08T19:22:23.625Z"
   },
   {
    "duration": 24,
    "start_time": "2022-08-08T19:22:23.661Z"
   },
   {
    "duration": 24,
    "start_time": "2022-08-08T19:22:23.686Z"
   },
   {
    "duration": 174,
    "start_time": "2022-08-08T19:22:23.712Z"
   },
   {
    "duration": 87,
    "start_time": "2022-08-08T19:22:23.888Z"
   },
   {
    "duration": 3,
    "start_time": "2022-08-08T19:22:23.977Z"
   },
   {
    "duration": 228,
    "start_time": "2022-08-08T19:22:23.981Z"
   },
   {
    "duration": 0,
    "start_time": "2022-08-08T19:22:24.211Z"
   },
   {
    "duration": 0,
    "start_time": "2022-08-08T19:22:24.212Z"
   },
   {
    "duration": 0,
    "start_time": "2022-08-08T19:22:24.213Z"
   },
   {
    "duration": 0,
    "start_time": "2022-08-08T19:22:24.214Z"
   },
   {
    "duration": 0,
    "start_time": "2022-08-08T19:22:24.215Z"
   },
   {
    "duration": 0,
    "start_time": "2022-08-08T19:22:24.216Z"
   },
   {
    "duration": 0,
    "start_time": "2022-08-08T19:22:24.217Z"
   },
   {
    "duration": 0,
    "start_time": "2022-08-08T19:22:24.238Z"
   },
   {
    "duration": 0,
    "start_time": "2022-08-08T19:22:24.239Z"
   },
   {
    "duration": 0,
    "start_time": "2022-08-08T19:22:24.240Z"
   },
   {
    "duration": 0,
    "start_time": "2022-08-08T19:22:24.241Z"
   },
   {
    "duration": 0,
    "start_time": "2022-08-08T19:22:24.242Z"
   },
   {
    "duration": 936,
    "start_time": "2022-08-08T19:22:50.737Z"
   },
   {
    "duration": 329,
    "start_time": "2022-08-08T19:22:51.674Z"
   },
   {
    "duration": 23,
    "start_time": "2022-08-08T19:22:52.004Z"
   },
   {
    "duration": 23,
    "start_time": "2022-08-08T19:22:52.028Z"
   },
   {
    "duration": 16,
    "start_time": "2022-08-08T19:22:52.052Z"
   },
   {
    "duration": 169,
    "start_time": "2022-08-08T19:22:52.070Z"
   },
   {
    "duration": 77,
    "start_time": "2022-08-08T19:22:52.241Z"
   },
   {
    "duration": 3,
    "start_time": "2022-08-08T19:22:52.319Z"
   },
   {
    "duration": 30,
    "start_time": "2022-08-08T19:22:52.323Z"
   },
   {
    "duration": 186,
    "start_time": "2022-08-08T19:22:52.355Z"
   },
   {
    "duration": 110,
    "start_time": "2022-08-08T19:22:52.543Z"
   },
   {
    "duration": 103,
    "start_time": "2022-08-08T19:22:52.741Z"
   },
   {
    "duration": 99,
    "start_time": "2022-08-08T19:22:52.848Z"
   },
   {
    "duration": 5,
    "start_time": "2022-08-08T19:22:53.039Z"
   },
   {
    "duration": 8,
    "start_time": "2022-08-08T19:22:53.045Z"
   },
   {
    "duration": 6,
    "start_time": "2022-08-08T19:22:53.054Z"
   },
   {
    "duration": 3,
    "start_time": "2022-08-08T19:22:53.061Z"
   },
   {
    "duration": 5,
    "start_time": "2022-08-08T19:22:53.066Z"
   },
   {
    "duration": 105,
    "start_time": "2022-08-08T19:22:53.072Z"
   },
   {
    "duration": 0,
    "start_time": "2022-08-08T19:22:53.178Z"
   },
   {
    "duration": 0,
    "start_time": "2022-08-08T19:22:53.179Z"
   },
   {
    "duration": 3,
    "start_time": "2022-08-08T19:24:10.118Z"
   },
   {
    "duration": 915,
    "start_time": "2022-08-08T19:24:14.567Z"
   },
   {
    "duration": 330,
    "start_time": "2022-08-08T19:24:15.484Z"
   },
   {
    "duration": 29,
    "start_time": "2022-08-08T19:24:15.816Z"
   },
   {
    "duration": 17,
    "start_time": "2022-08-08T19:24:15.847Z"
   },
   {
    "duration": 17,
    "start_time": "2022-08-08T19:24:15.865Z"
   },
   {
    "duration": 172,
    "start_time": "2022-08-08T19:24:15.883Z"
   },
   {
    "duration": 86,
    "start_time": "2022-08-08T19:24:16.057Z"
   },
   {
    "duration": 3,
    "start_time": "2022-08-08T19:24:16.145Z"
   },
   {
    "duration": 20,
    "start_time": "2022-08-08T19:24:16.150Z"
   },
   {
    "duration": 171,
    "start_time": "2022-08-08T19:24:16.173Z"
   },
   {
    "duration": 102,
    "start_time": "2022-08-08T19:24:16.346Z"
   },
   {
    "duration": 110,
    "start_time": "2022-08-08T19:24:16.540Z"
   },
   {
    "duration": 94,
    "start_time": "2022-08-08T19:24:16.654Z"
   },
   {
    "duration": 5,
    "start_time": "2022-08-08T19:24:16.839Z"
   },
   {
    "duration": 6,
    "start_time": "2022-08-08T19:24:16.845Z"
   },
   {
    "duration": 8,
    "start_time": "2022-08-08T19:24:16.852Z"
   },
   {
    "duration": 8,
    "start_time": "2022-08-08T19:24:16.861Z"
   },
   {
    "duration": 7,
    "start_time": "2022-08-08T19:24:16.871Z"
   },
   {
    "duration": 1143,
    "start_time": "2022-08-08T19:24:16.879Z"
   },
   {
    "duration": 1179,
    "start_time": "2022-08-08T19:24:18.023Z"
   },
   {
    "duration": 1100,
    "start_time": "2022-08-08T19:24:19.204Z"
   },
   {
    "duration": 1051,
    "start_time": "2022-08-08T20:53:34.887Z"
   },
   {
    "duration": 776,
    "start_time": "2022-08-08T20:53:35.941Z"
   },
   {
    "duration": 30,
    "start_time": "2022-08-08T20:53:36.719Z"
   },
   {
    "duration": 20,
    "start_time": "2022-08-08T20:53:36.754Z"
   },
   {
    "duration": 16,
    "start_time": "2022-08-08T20:53:36.776Z"
   },
   {
    "duration": 211,
    "start_time": "2022-08-08T20:53:36.794Z"
   },
   {
    "duration": 90,
    "start_time": "2022-08-08T20:53:37.006Z"
   },
   {
    "duration": 3,
    "start_time": "2022-08-08T20:53:37.098Z"
   },
   {
    "duration": 44,
    "start_time": "2022-08-08T20:53:37.102Z"
   },
   {
    "duration": 113,
    "start_time": "2022-08-08T20:53:37.151Z"
   },
   {
    "duration": 194,
    "start_time": "2022-08-08T20:53:37.266Z"
   },
   {
    "duration": 87,
    "start_time": "2022-08-08T20:53:37.464Z"
   },
   {
    "duration": 186,
    "start_time": "2022-08-08T20:53:37.554Z"
   },
   {
    "duration": 9,
    "start_time": "2022-08-08T20:53:37.742Z"
   },
   {
    "duration": 8,
    "start_time": "2022-08-08T20:53:37.753Z"
   },
   {
    "duration": 12,
    "start_time": "2022-08-08T20:53:37.763Z"
   },
   {
    "duration": 6,
    "start_time": "2022-08-08T20:53:37.776Z"
   },
   {
    "duration": 6,
    "start_time": "2022-08-08T20:53:37.783Z"
   },
   {
    "duration": 1187,
    "start_time": "2022-08-08T20:53:37.791Z"
   },
   {
    "duration": 1187,
    "start_time": "2022-08-08T20:53:38.979Z"
   },
   {
    "duration": 1321,
    "start_time": "2022-08-08T20:53:40.168Z"
   },
   {
    "duration": 3,
    "start_time": "2022-08-08T20:54:18.333Z"
   },
   {
    "duration": 18,
    "start_time": "2022-08-08T20:54:21.396Z"
   }
  ],
  "kernelspec": {
   "display_name": "Python 3 (ipykernel)",
   "language": "python",
   "name": "python3"
  },
  "language_info": {
   "codemirror_mode": {
    "name": "ipython",
    "version": 3
   },
   "file_extension": ".py",
   "mimetype": "text/x-python",
   "name": "python",
   "nbconvert_exporter": "python",
   "pygments_lexer": "ipython3",
   "version": "3.9.12"
  },
  "toc": {
   "base_numbering": 1,
   "nav_menu": {},
   "number_sections": true,
   "sideBar": true,
   "skip_h1_title": true,
   "title_cell": "Table of Contents",
   "title_sidebar": "Contents",
   "toc_cell": false,
   "toc_position": {},
   "toc_section_display": true,
   "toc_window_display": false
  }
 },
 "nbformat": 4,
 "nbformat_minor": 2
}
