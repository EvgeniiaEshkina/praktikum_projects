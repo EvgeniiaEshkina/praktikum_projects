{
 "cells": [
  {
   "cell_type": "markdown",
   "metadata": {},
   "source": [
    "#  Прогнозирование заказов такси"
   ]
  },
  {
   "cell_type": "markdown",
   "metadata": {},
   "source": [
    "Компания «Чётенькое такси» собрала исторические данные о заказах такси в аэропортах. Чтобы привлекать больше водителей в период пиковой нагрузки, нужно спрогнозировать количество заказов такси на следующий час."
   ]
  },
  {
   "cell_type": "markdown",
   "metadata": {},
   "source": [
    "## Подготовка"
   ]
  },
  {
   "cell_type": "markdown",
   "metadata": {},
   "source": [
    "Загрузим необходимые библиотеки:"
   ]
  },
  {
   "cell_type": "code",
   "execution_count": 1,
   "metadata": {},
   "outputs": [],
   "source": [
    "import pandas as pd\n",
    "import numpy as np\n",
    "from statsmodels.tsa.seasonal import seasonal_decompose\n",
    "import matplotlib.pyplot as plt\n",
    "from sklearn.model_selection import train_test_split\n",
    "from sklearn.linear_model import LinearRegression\n",
    "from sklearn.metrics import mean_squared_error\n",
    "import lightgbm as lgb\n",
    "from sklearn.tree import DecisionTreeRegressor\n",
    "from sklearn.ensemble import RandomForestRegressor\n",
    "from sklearn.model_selection import GridSearchCV\n",
    "from sklearn.model_selection import RandomizedSearchCV\n",
    "from sklearn.model_selection import cross_val_score\n",
    "from sklearn.metrics import make_scorer\n",
    "from sklearn.model_selection import TimeSeriesSplit\n",
    "import warnings\n",
    "warnings.filterwarnings('ignore')"
   ]
  },
  {
   "cell_type": "markdown",
   "metadata": {},
   "source": [
    "Импортируем данные:"
   ]
  },
  {
   "cell_type": "code",
   "execution_count": 2,
   "metadata": {},
   "outputs": [],
   "source": [
    "data = pd.read_csv('/datasets/taxi.csv', index_col=[0], parse_dates=[0])\n",
    "data.sort_index(inplace=True)"
   ]
  },
  {
   "cell_type": "markdown",
   "metadata": {},
   "source": [
    "Изучим данные:"
   ]
  },
  {
   "cell_type": "code",
   "execution_count": 3,
   "metadata": {
    "scrolled": true
   },
   "outputs": [
    {
     "data": {
      "text/html": [
       "<div>\n",
       "<style scoped>\n",
       "    .dataframe tbody tr th:only-of-type {\n",
       "        vertical-align: middle;\n",
       "    }\n",
       "\n",
       "    .dataframe tbody tr th {\n",
       "        vertical-align: top;\n",
       "    }\n",
       "\n",
       "    .dataframe thead th {\n",
       "        text-align: right;\n",
       "    }\n",
       "</style>\n",
       "<table border=\"1\" class=\"dataframe\">\n",
       "  <thead>\n",
       "    <tr style=\"text-align: right;\">\n",
       "      <th></th>\n",
       "      <th>num_orders</th>\n",
       "    </tr>\n",
       "    <tr>\n",
       "      <th>datetime</th>\n",
       "      <th></th>\n",
       "    </tr>\n",
       "  </thead>\n",
       "  <tbody>\n",
       "    <tr>\n",
       "      <th>2018-03-01 00:00:00</th>\n",
       "      <td>9</td>\n",
       "    </tr>\n",
       "    <tr>\n",
       "      <th>2018-03-01 00:10:00</th>\n",
       "      <td>14</td>\n",
       "    </tr>\n",
       "    <tr>\n",
       "      <th>2018-03-01 00:20:00</th>\n",
       "      <td>28</td>\n",
       "    </tr>\n",
       "    <tr>\n",
       "      <th>2018-03-01 00:30:00</th>\n",
       "      <td>20</td>\n",
       "    </tr>\n",
       "    <tr>\n",
       "      <th>2018-03-01 00:40:00</th>\n",
       "      <td>32</td>\n",
       "    </tr>\n",
       "  </tbody>\n",
       "</table>\n",
       "</div>"
      ],
      "text/plain": [
       "                     num_orders\n",
       "datetime                       \n",
       "2018-03-01 00:00:00           9\n",
       "2018-03-01 00:10:00          14\n",
       "2018-03-01 00:20:00          28\n",
       "2018-03-01 00:30:00          20\n",
       "2018-03-01 00:40:00          32"
      ]
     },
     "execution_count": 3,
     "metadata": {},
     "output_type": "execute_result"
    }
   ],
   "source": [
    "data.head()"
   ]
  },
  {
   "cell_type": "code",
   "execution_count": 4,
   "metadata": {},
   "outputs": [
    {
     "name": "stdout",
     "output_type": "stream",
     "text": [
      "<class 'pandas.core.frame.DataFrame'>\n",
      "DatetimeIndex: 26496 entries, 2018-03-01 00:00:00 to 2018-08-31 23:50:00\n",
      "Data columns (total 1 columns):\n",
      " #   Column      Non-Null Count  Dtype\n",
      "---  ------      --------------  -----\n",
      " 0   num_orders  26496 non-null  int64\n",
      "dtypes: int64(1)\n",
      "memory usage: 414.0 KB\n"
     ]
    }
   ],
   "source": [
    "data.info()"
   ]
  },
  {
   "cell_type": "markdown",
   "metadata": {},
   "source": [
    "Данные содержат две колонки: промежуток времени и количество заказов, сделанных в этот промежуток. Промежуток - 10 минут."
   ]
  },
  {
   "cell_type": "markdown",
   "metadata": {},
   "source": [
    "Проверим данные на на наличие дубликатов и пропусков:"
   ]
  },
  {
   "cell_type": "code",
   "execution_count": 5,
   "metadata": {
    "scrolled": true
   },
   "outputs": [
    {
     "data": {
      "text/plain": [
       "26415"
      ]
     },
     "execution_count": 5,
     "metadata": {},
     "output_type": "execute_result"
    }
   ],
   "source": [
    "data.duplicated().sum()"
   ]
  },
  {
   "cell_type": "code",
   "execution_count": 6,
   "metadata": {},
   "outputs": [
    {
     "data": {
      "text/plain": [
       "num_orders    0\n",
       "dtype: int64"
      ]
     },
     "execution_count": 6,
     "metadata": {},
     "output_type": "execute_result"
    }
   ],
   "source": [
    "data.isna().sum()"
   ]
  },
  {
   "cell_type": "markdown",
   "metadata": {},
   "source": [
    "Дубликатов и пропусков нет."
   ]
  },
  {
   "cell_type": "markdown",
   "metadata": {},
   "source": [
    "Так как необходимо будем предсказывать количество заказов на следующий час, выполним ресемплирование данных по одному часу:"
   ]
  },
  {
   "cell_type": "code",
   "execution_count": 7,
   "metadata": {},
   "outputs": [],
   "source": [
    "data = data.resample('1H').sum()"
   ]
  },
  {
   "cell_type": "code",
   "execution_count": 8,
   "metadata": {},
   "outputs": [
    {
     "data": {
      "text/html": [
       "<div>\n",
       "<style scoped>\n",
       "    .dataframe tbody tr th:only-of-type {\n",
       "        vertical-align: middle;\n",
       "    }\n",
       "\n",
       "    .dataframe tbody tr th {\n",
       "        vertical-align: top;\n",
       "    }\n",
       "\n",
       "    .dataframe thead th {\n",
       "        text-align: right;\n",
       "    }\n",
       "</style>\n",
       "<table border=\"1\" class=\"dataframe\">\n",
       "  <thead>\n",
       "    <tr style=\"text-align: right;\">\n",
       "      <th></th>\n",
       "      <th>num_orders</th>\n",
       "    </tr>\n",
       "    <tr>\n",
       "      <th>datetime</th>\n",
       "      <th></th>\n",
       "    </tr>\n",
       "  </thead>\n",
       "  <tbody>\n",
       "    <tr>\n",
       "      <th>2018-03-01 00:00:00</th>\n",
       "      <td>124</td>\n",
       "    </tr>\n",
       "    <tr>\n",
       "      <th>2018-03-01 01:00:00</th>\n",
       "      <td>85</td>\n",
       "    </tr>\n",
       "    <tr>\n",
       "      <th>2018-03-01 02:00:00</th>\n",
       "      <td>71</td>\n",
       "    </tr>\n",
       "    <tr>\n",
       "      <th>2018-03-01 03:00:00</th>\n",
       "      <td>66</td>\n",
       "    </tr>\n",
       "    <tr>\n",
       "      <th>2018-03-01 04:00:00</th>\n",
       "      <td>43</td>\n",
       "    </tr>\n",
       "  </tbody>\n",
       "</table>\n",
       "</div>"
      ],
      "text/plain": [
       "                     num_orders\n",
       "datetime                       \n",
       "2018-03-01 00:00:00         124\n",
       "2018-03-01 01:00:00          85\n",
       "2018-03-01 02:00:00          71\n",
       "2018-03-01 03:00:00          66\n",
       "2018-03-01 04:00:00          43"
      ]
     },
     "execution_count": 8,
     "metadata": {},
     "output_type": "execute_result"
    }
   ],
   "source": [
    "data.head()"
   ]
  },
  {
   "cell_type": "markdown",
   "metadata": {},
   "source": [
    "Теперь количество заказов в датасете указано за каждый час. Данные готовы к работе."
   ]
  },
  {
   "cell_type": "markdown",
   "metadata": {},
   "source": [
    "## Анализ"
   ]
  },
  {
   "cell_type": "markdown",
   "metadata": {},
   "source": [
    "Проанализируем данные:"
   ]
  },
  {
   "cell_type": "code",
   "execution_count": 9,
   "metadata": {},
   "outputs": [
    {
     "data": {
      "text/html": [
       "<div>\n",
       "<style scoped>\n",
       "    .dataframe tbody tr th:only-of-type {\n",
       "        vertical-align: middle;\n",
       "    }\n",
       "\n",
       "    .dataframe tbody tr th {\n",
       "        vertical-align: top;\n",
       "    }\n",
       "\n",
       "    .dataframe thead th {\n",
       "        text-align: right;\n",
       "    }\n",
       "</style>\n",
       "<table border=\"1\" class=\"dataframe\">\n",
       "  <thead>\n",
       "    <tr style=\"text-align: right;\">\n",
       "      <th></th>\n",
       "      <th>num_orders</th>\n",
       "    </tr>\n",
       "  </thead>\n",
       "  <tbody>\n",
       "    <tr>\n",
       "      <th>count</th>\n",
       "      <td>4416.000000</td>\n",
       "    </tr>\n",
       "    <tr>\n",
       "      <th>mean</th>\n",
       "      <td>84.422781</td>\n",
       "    </tr>\n",
       "    <tr>\n",
       "      <th>std</th>\n",
       "      <td>45.023853</td>\n",
       "    </tr>\n",
       "    <tr>\n",
       "      <th>min</th>\n",
       "      <td>0.000000</td>\n",
       "    </tr>\n",
       "    <tr>\n",
       "      <th>25%</th>\n",
       "      <td>54.000000</td>\n",
       "    </tr>\n",
       "    <tr>\n",
       "      <th>50%</th>\n",
       "      <td>78.000000</td>\n",
       "    </tr>\n",
       "    <tr>\n",
       "      <th>75%</th>\n",
       "      <td>107.000000</td>\n",
       "    </tr>\n",
       "    <tr>\n",
       "      <th>max</th>\n",
       "      <td>462.000000</td>\n",
       "    </tr>\n",
       "  </tbody>\n",
       "</table>\n",
       "</div>"
      ],
      "text/plain": [
       "        num_orders\n",
       "count  4416.000000\n",
       "mean     84.422781\n",
       "std      45.023853\n",
       "min       0.000000\n",
       "25%      54.000000\n",
       "50%      78.000000\n",
       "75%     107.000000\n",
       "max     462.000000"
      ]
     },
     "execution_count": 9,
     "metadata": {},
     "output_type": "execute_result"
    }
   ],
   "source": [
    "data.describe()"
   ]
  },
  {
   "cell_type": "code",
   "execution_count": 10,
   "metadata": {},
   "outputs": [
    {
     "data": {
      "text/plain": [
       "<AxesSubplot:xlabel='datetime'>"
      ]
     },
     "execution_count": 10,
     "metadata": {},
     "output_type": "execute_result"
    },
    {
     "data": {
      "image/png": "[encoded data removed]",
      "text/plain": [
       "<Figure size 432x288 with 1 Axes>"
      ]
     },
     "metadata": {
      "needs_background": "light"
     },
     "output_type": "display_data"
    }
   ],
   "source": [
    "data['num_orders'].plot()"
   ]
  },
  {
   "cell_type": "markdown",
   "metadata": {},
   "source": [
    "В датасете представлены данные о поездках с марта по август 2018 года. Среднее число поездок в час - 84, минимальное - 0, максимальное - 462. Разброс достаточно большой. На графике видно, что среднее число поездок растет с марта по август. Тот факт, что с июля по август число поездок также растет, не позволяет сделать вывод о сезонной популярности такси в летнее время. Скорее всего, этот рост связан с ростом популярности самой компании."
   ]
  },
  {
   "cell_type": "markdown",
   "metadata": {},
   "source": [
    "Проверим данные на тренды и сезонность:"
   ]
  },
  {
   "cell_type": "code",
   "execution_count": 11,
   "metadata": {},
   "outputs": [],
   "source": [
    "decomposed = seasonal_decompose(data)"
   ]
  },
  {
   "cell_type": "code",
   "execution_count": 12,
   "metadata": {},
   "outputs": [
    {
     "data": {
      "image/png": "[encoded data removed]",
      "text/plain": [
       "<Figure size 1008x576 with 3 Axes>"
      ]
     },
     "metadata": {
      "needs_background": "light"
     },
     "output_type": "display_data"
    }
   ],
   "source": [
    "plt.figure(figsize=(14, 8))\n",
    "plt.subplot(311)\n",
    "decomposed.trend.plot(ax=plt.gca())\n",
    "plt.title('Trend')\n",
    "plt.subplot(312)\n",
    "decomposed.seasonal.plot(ax=plt.gca())\n",
    "plt.title('Seasonality')\n",
    "plt.subplot(313)\n",
    "decomposed.resid.plot(ax=plt.gca())\n",
    "plt.title('Residuals')\n",
    "plt.tight_layout()"
   ]
  },
  {
   "cell_type": "markdown",
   "metadata": {},
   "source": [
    "Данный анализ позволяет выделить только один тренд - стабильное увеличение числа заказов с марта по август. Так как имеются данные только за пол года, выявить какие-либо сезонные особенности не представляется возможным. Посмотрим, как меняется число заказов в течение одного месяца:"
   ]
  },
  {
   "cell_type": "code",
   "execution_count": 13,
   "metadata": {},
   "outputs": [
    {
     "data": {
      "text/plain": [
       "<AxesSubplot:xlabel='datetime'>"
      ]
     },
     "execution_count": 13,
     "metadata": {},
     "output_type": "execute_result"
    },
    {
     "data": {
      "image/png": "[encoded data removed]",
      "text/plain": [
       "<Figure size 432x288 with 1 Axes>"
      ]
     },
     "metadata": {
      "needs_background": "light"
     },
     "output_type": "display_data"
    }
   ],
   "source": [
    "decomposed.trend['2018-04-01':'2018-04-30'].plot()"
   ]
  },
  {
   "cell_type": "markdown",
   "metadata": {},
   "source": [
    "График за месяц очень нестабильный. Можно сделать вывод, что число заказов сильно зависит от времени суток. Посмотрим на график числа заказов в течение одних суток:"
   ]
  },
  {
   "cell_type": "code",
   "execution_count": 14,
   "metadata": {},
   "outputs": [
    {
     "data": {
      "text/plain": [
       "<AxesSubplot:xlabel='datetime'>"
      ]
     },
     "execution_count": 14,
     "metadata": {},
     "output_type": "execute_result"
    },
    {
     "data": {
      "image/png": "[encoded data removed]",
      "text/plain": [
       "<Figure size 432x288 with 1 Axes>"
      ]
     },
     "metadata": {
      "needs_background": "light"
     },
     "output_type": "display_data"
    }
   ],
   "source": [
    "decomposed.trend['2018-08-02 00:00:00':'2018-08-03 00:00:00'].plot()"
   ]
  },
  {
   "cell_type": "code",
   "execution_count": 15,
   "metadata": {},
   "outputs": [
    {
     "data": {
      "text/plain": [
       "<AxesSubplot:xlabel='datetime'>"
      ]
     },
     "execution_count": 15,
     "metadata": {},
     "output_type": "execute_result"
    },
    {
     "data": {
      "image/png": "[encoded data removed]",
      "text/plain": [
       "<Figure size 432x288 with 1 Axes>"
      ]
     },
     "metadata": {
      "needs_background": "light"
     },
     "output_type": "display_data"
    }
   ],
   "source": [
    "decomposed.trend['2018-08-03 00:00:00':'2018-08-04 00:00:00'].plot()"
   ]
  },
  {
   "cell_type": "code",
   "execution_count": 16,
   "metadata": {},
   "outputs": [
    {
     "data": {
      "text/plain": [
       "<AxesSubplot:xlabel='datetime'>"
      ]
     },
     "execution_count": 16,
     "metadata": {},
     "output_type": "execute_result"
    },
    {
     "data": {
      "image/png": "[encoded data removed]",
      "text/plain": [
       "<Figure size 432x288 with 1 Axes>"
      ]
     },
     "metadata": {
      "needs_background": "light"
     },
     "output_type": "display_data"
    }
   ],
   "source": [
    "decomposed.trend['2018-08-04 00:00:00':'2018-08-05 00:00:00'].plot()"
   ]
  },
  {
   "cell_type": "markdown",
   "metadata": {},
   "source": [
    "Графики за несколько соседних суток доказывают, что количество поездок сильно варьируется в течение одного дня. Однако, данные графики сильно отличаются, что говорит о том, что невозможно выделить наиболее и наименее популярное для поездок на такси время суток."
   ]
  },
  {
   "cell_type": "markdown",
   "metadata": {},
   "source": [
    "Таким образом, предоставленные данные демонстрируют значительный рост популярности сервиса в течение 6 месяцев. Однако, по предоставленным данным невозможно отследить какие-либо сезонные тренды или выделить наиболее популярное для заказа время суток."
   ]
  },
  {
   "cell_type": "markdown",
   "metadata": {},
   "source": [
    "## Обучение"
   ]
  },
  {
   "cell_type": "markdown",
   "metadata": {},
   "source": [
    "Построим модель для прогнозирования количества заказов такси на следующий час. Для этого создадим дополнительные признаки для модели: месяц, число, день недели, час, отстающие значения и скользящее среднее."
   ]
  },
  {
   "cell_type": "code",
   "execution_count": 19,
   "metadata": {},
   "outputs": [],
   "source": [
    "def make_features(data, max_lag, rolling_mean_size):\n",
    "    data['dayofweek'] = data.index.dayofweek\n",
    "    data['hour'] = data.index.hour\n",
    "    \n",
    "    for lag in range(1, max_lag + 1):\n",
    "        data['lag_{}'.format(lag)] = data['num_orders'].shift(lag)\n",
    "\n",
    "    data['rolling_mean'] = data['num_orders'].shift().rolling(rolling_mean_size).mean()\n",
    "\n",
    "make_features(data, 10, 24)"
   ]
  },
  {
   "cell_type": "code",
   "execution_count": 20,
   "metadata": {},
   "outputs": [
    {
     "data": {
      "text/html": [
       "<div>\n",
       "<style scoped>\n",
       "    .dataframe tbody tr th:only-of-type {\n",
       "        vertical-align: middle;\n",
       "    }\n",
       "\n",
       "    .dataframe tbody tr th {\n",
       "        vertical-align: top;\n",
       "    }\n",
       "\n",
       "    .dataframe thead th {\n",
       "        text-align: right;\n",
       "    }\n",
       "</style>\n",
       "<table border=\"1\" class=\"dataframe\">\n",
       "  <thead>\n",
       "    <tr style=\"text-align: right;\">\n",
       "      <th></th>\n",
       "      <th>num_orders</th>\n",
       "      <th>dayofweek</th>\n",
       "      <th>hour</th>\n",
       "      <th>lag_1</th>\n",
       "      <th>lag_2</th>\n",
       "      <th>lag_3</th>\n",
       "      <th>lag_4</th>\n",
       "      <th>lag_5</th>\n",
       "      <th>lag_6</th>\n",
       "      <th>lag_7</th>\n",
       "      <th>lag_8</th>\n",
       "      <th>lag_9</th>\n",
       "      <th>lag_10</th>\n",
       "      <th>rolling_mean</th>\n",
       "    </tr>\n",
       "    <tr>\n",
       "      <th>datetime</th>\n",
       "      <th></th>\n",
       "      <th></th>\n",
       "      <th></th>\n",
       "      <th></th>\n",
       "      <th></th>\n",
       "      <th></th>\n",
       "      <th></th>\n",
       "      <th></th>\n",
       "      <th></th>\n",
       "      <th></th>\n",
       "      <th></th>\n",
       "      <th></th>\n",
       "      <th></th>\n",
       "      <th></th>\n",
       "    </tr>\n",
       "  </thead>\n",
       "  <tbody>\n",
       "    <tr>\n",
       "      <th>2018-03-01 00:00:00</th>\n",
       "      <td>124</td>\n",
       "      <td>3</td>\n",
       "      <td>0</td>\n",
       "      <td>NaN</td>\n",
       "      <td>NaN</td>\n",
       "      <td>NaN</td>\n",
       "      <td>NaN</td>\n",
       "      <td>NaN</td>\n",
       "      <td>NaN</td>\n",
       "      <td>NaN</td>\n",
       "      <td>NaN</td>\n",
       "      <td>NaN</td>\n",
       "      <td>NaN</td>\n",
       "      <td>NaN</td>\n",
       "    </tr>\n",
       "    <tr>\n",
       "      <th>2018-03-01 01:00:00</th>\n",
       "      <td>85</td>\n",
       "      <td>3</td>\n",
       "      <td>1</td>\n",
       "      <td>124.0</td>\n",
       "      <td>NaN</td>\n",
       "      <td>NaN</td>\n",
       "      <td>NaN</td>\n",
       "      <td>NaN</td>\n",
       "      <td>NaN</td>\n",
       "      <td>NaN</td>\n",
       "      <td>NaN</td>\n",
       "      <td>NaN</td>\n",
       "      <td>NaN</td>\n",
       "      <td>NaN</td>\n",
       "    </tr>\n",
       "    <tr>\n",
       "      <th>2018-03-01 02:00:00</th>\n",
       "      <td>71</td>\n",
       "      <td>3</td>\n",
       "      <td>2</td>\n",
       "      <td>85.0</td>\n",
       "      <td>124.0</td>\n",
       "      <td>NaN</td>\n",
       "      <td>NaN</td>\n",
       "      <td>NaN</td>\n",
       "      <td>NaN</td>\n",
       "      <td>NaN</td>\n",
       "      <td>NaN</td>\n",
       "      <td>NaN</td>\n",
       "      <td>NaN</td>\n",
       "      <td>NaN</td>\n",
       "    </tr>\n",
       "    <tr>\n",
       "      <th>2018-03-01 03:00:00</th>\n",
       "      <td>66</td>\n",
       "      <td>3</td>\n",
       "      <td>3</td>\n",
       "      <td>71.0</td>\n",
       "      <td>85.0</td>\n",
       "      <td>124.0</td>\n",
       "      <td>NaN</td>\n",
       "      <td>NaN</td>\n",
       "      <td>NaN</td>\n",
       "      <td>NaN</td>\n",
       "      <td>NaN</td>\n",
       "      <td>NaN</td>\n",
       "      <td>NaN</td>\n",
       "      <td>NaN</td>\n",
       "    </tr>\n",
       "    <tr>\n",
       "      <th>2018-03-01 04:00:00</th>\n",
       "      <td>43</td>\n",
       "      <td>3</td>\n",
       "      <td>4</td>\n",
       "      <td>66.0</td>\n",
       "      <td>71.0</td>\n",
       "      <td>85.0</td>\n",
       "      <td>124.0</td>\n",
       "      <td>NaN</td>\n",
       "      <td>NaN</td>\n",
       "      <td>NaN</td>\n",
       "      <td>NaN</td>\n",
       "      <td>NaN</td>\n",
       "      <td>NaN</td>\n",
       "      <td>NaN</td>\n",
       "    </tr>\n",
       "  </tbody>\n",
       "</table>\n",
       "</div>"
      ],
      "text/plain": [
       "                     num_orders  dayofweek  hour  lag_1  lag_2  lag_3  lag_4  \\\n",
       "datetime                                                                       \n",
       "2018-03-01 00:00:00         124          3     0    NaN    NaN    NaN    NaN   \n",
       "2018-03-01 01:00:00          85          3     1  124.0    NaN    NaN    NaN   \n",
       "2018-03-01 02:00:00          71          3     2   85.0  124.0    NaN    NaN   \n",
       "2018-03-01 03:00:00          66          3     3   71.0   85.0  124.0    NaN   \n",
       "2018-03-01 04:00:00          43          3     4   66.0   71.0   85.0  124.0   \n",
       "\n",
       "                     lag_5  lag_6  lag_7  lag_8  lag_9  lag_10  rolling_mean  \n",
       "datetime                                                                      \n",
       "2018-03-01 00:00:00    NaN    NaN    NaN    NaN    NaN     NaN           NaN  \n",
       "2018-03-01 01:00:00    NaN    NaN    NaN    NaN    NaN     NaN           NaN  \n",
       "2018-03-01 02:00:00    NaN    NaN    NaN    NaN    NaN     NaN           NaN  \n",
       "2018-03-01 03:00:00    NaN    NaN    NaN    NaN    NaN     NaN           NaN  \n",
       "2018-03-01 04:00:00    NaN    NaN    NaN    NaN    NaN     NaN           NaN  "
      ]
     },
     "execution_count": 20,
     "metadata": {},
     "output_type": "execute_result"
    }
   ],
   "source": [
    "data.head()"
   ]
  },
  {
   "cell_type": "markdown",
   "metadata": {},
   "source": [
    "Признаки готовы. Разделим данные на обучающую и тестовую выборки, удалим пропуски, выделим признаки и целевой признак:"
   ]
  },
  {
   "cell_type": "code",
   "execution_count": 21,
   "metadata": {},
   "outputs": [],
   "source": [
    "train, test = train_test_split(data, shuffle=False, test_size=0.1)\n",
    "train = train.dropna()\n",
    "\n",
    "features_train = train.drop('num_orders', axis=1)\n",
    "target_train = train['num_orders']\n",
    "features_test = test.drop('num_orders', axis=1)\n",
    "target_test = test['num_orders']"
   ]
  },
  {
   "cell_type": "code",
   "execution_count": 22,
   "metadata": {},
   "outputs": [
    {
     "name": "stdout",
     "output_type": "stream",
     "text": [
      "(3950, 13)\n",
      "(3950,)\n",
      "(442, 13)\n",
      "(442,)\n"
     ]
    }
   ],
   "source": [
    "print(features_train.shape)\n",
    "print(target_train.shape)\n",
    "print(features_test.shape)\n",
    "print(target_test.shape)"
   ]
  },
  {
   "cell_type": "markdown",
   "metadata": {},
   "source": [
    "Данные готовы для обучения моделей."
   ]
  },
  {
   "cell_type": "markdown",
   "metadata": {},
   "source": [
    "В качестве метрики будем использовать rmse. Создадим соответствующую функцию и scorer для кросс-валидации."
   ]
  },
  {
   "cell_type": "code",
   "execution_count": 23,
   "metadata": {},
   "outputs": [],
   "source": [
    "def rmse(target, predicted):\n",
    "    mse = mean_squared_error(target, predicted)\n",
    "    return mse**0.5\n",
    "rmse_scorer = make_scorer(rmse, greater_is_better=False)"
   ]
  },
  {
   "cell_type": "markdown",
   "metadata": {},
   "source": [
    "**Создадим модель линейной регрессии:**"
   ]
  },
  {
   "cell_type": "code",
   "execution_count": 24,
   "metadata": {},
   "outputs": [
    {
     "name": "stdout",
     "output_type": "stream",
     "text": [
      "rmse модели: -31.610350570725537\n"
     ]
    }
   ],
   "source": [
    "LR = LinearRegression()\n",
    "tscv = TimeSeriesSplit(n_splits=5)\n",
    "score = cross_val_score(LR, features_train, target_train, scoring=rmse_scorer, cv=tscv).mean()\n",
    "print('rmse модели:', score)"
   ]
  },
  {
   "cell_type": "markdown",
   "metadata": {},
   "source": [
    "Модель линейной регресси показала результат rmse - 31.6."
   ]
  },
  {
   "cell_type": "markdown",
   "metadata": {},
   "source": [
    "**Создадим модель древа решений и подберем наилучшие параметры:**"
   ]
  },
  {
   "cell_type": "code",
   "execution_count": 25,
   "metadata": {},
   "outputs": [
    {
     "name": "stdout",
     "output_type": "stream",
     "text": [
      "Лучшая глубина древа: DecisionTreeRegressor(max_depth=7, random_state=12345)\n",
      "rmse модели: -29.70819347355241\n"
     ]
    }
   ],
   "source": [
    "DTR = DecisionTreeRegressor(random_state=12345)\n",
    "GSCV = GridSearchCV(DTR, {'max_depth': list(range(1, 10))}, cv=tscv, scoring=rmse_scorer)\n",
    "GSCV.fit(features_train, target_train)\n",
    "print('Лучшая глубина древа:', GSCV.best_estimator_)\n",
    "print('rmse модели:', GSCV.best_score_)"
   ]
  },
  {
   "cell_type": "markdown",
   "metadata": {},
   "source": [
    "Лучшая глубина древа для модели древа решений - 7, rmse такой модели - 29.7."
   ]
  },
  {
   "cell_type": "markdown",
   "metadata": {},
   "source": [
    "**Создадим модель случайного леса и подберем наилучшие параметры:**"
   ]
  },
  {
   "cell_type": "code",
   "execution_count": 26,
   "metadata": {},
   "outputs": [
    {
     "name": "stdout",
     "output_type": "stream",
     "text": [
      "Лучшие параметры случайного леса: {'n_estimators': 16, 'max_depth': 16}\n",
      "rmse модели: -26.165895012894016\n"
     ]
    }
   ],
   "source": [
    "RFR = RandomForestRegressor(random_state=12345)\n",
    "RSCV = RandomizedSearchCV(RFR, {'max_depth': list(range(1, 20)), 'n_estimators': list(range(1, 20))}, cv=tscv, scoring=rmse_scorer)\n",
    "RSCV.fit(features_train, target_train)\n",
    "print('Лучшие параметры случайного леса:', RSCV.best_params_)\n",
    "print('rmse модели:', RSCV.best_score_)"
   ]
  },
  {
   "cell_type": "markdown",
   "metadata": {},
   "source": [
    "Лучшие параметры для случайного леса: количество деревьев - 14, максимальная глубина древа - 9. Rmse такой модели - 26.6."
   ]
  },
  {
   "cell_type": "markdown",
   "metadata": {},
   "source": [
    "**Создадим модель градиентного бустинга:**"
   ]
  },
  {
   "cell_type": "code",
   "execution_count": 27,
   "metadata": {},
   "outputs": [
    {
     "name": "stdout",
     "output_type": "stream",
     "text": [
      "rmse модели: -25.312778225811297\n"
     ]
    }
   ],
   "source": [
    "gbm = lgb.LGBMRegressor(objective='regression')\n",
    "score = cross_val_score(gbm, features_train, target_train, scoring=rmse_scorer, cv=tscv).mean()\n",
    "print('rmse модели:', score)"
   ]
  },
  {
   "cell_type": "markdown",
   "metadata": {},
   "source": [
    "Модель градиентного бустинга показала результат rmse 25.3."
   ]
  },
  {
   "cell_type": "markdown",
   "metadata": {},
   "source": [
    "## Тестирование"
   ]
  },
  {
   "cell_type": "markdown",
   "metadata": {},
   "source": [
    "Наилучшие результат показали модели случайного леса и градиентного бустинга. Проверим данные модели на тестовой выборке, также сравним время обучения и предсказания данных моделей:"
   ]
  },
  {
   "cell_type": "markdown",
   "metadata": {},
   "source": [
    "*Модель случайного леса:*"
   ]
  },
  {
   "cell_type": "code",
   "execution_count": 28,
   "metadata": {},
   "outputs": [
    {
     "name": "stdout",
     "output_type": "stream",
     "text": [
      "CPU times: user 256 ms, sys: 4.02 ms, total: 260 ms\n",
      "Wall time: 267 ms\n"
     ]
    },
    {
     "data": {
      "text/plain": [
       "RandomForestRegressor(max_depth=9, n_estimators=14, random_state=12345)"
      ]
     },
     "execution_count": 28,
     "metadata": {},
     "output_type": "execute_result"
    }
   ],
   "source": [
    "%%time\n",
    "RFR = RandomForestRegressor(random_state=12345, n_estimators=14, max_depth=9)\n",
    "RFR.fit(features_train, target_train)"
   ]
  },
  {
   "cell_type": "code",
   "execution_count": 29,
   "metadata": {},
   "outputs": [
    {
     "name": "stdout",
     "output_type": "stream",
     "text": [
      "CPU times: user 6.89 ms, sys: 0 ns, total: 6.89 ms\n",
      "Wall time: 5.06 ms\n"
     ]
    }
   ],
   "source": [
    "%%time\n",
    "rfr_predicted = RFR.predict(features_test)"
   ]
  },
  {
   "cell_type": "code",
   "execution_count": 30,
   "metadata": {},
   "outputs": [
    {
     "data": {
      "text/plain": [
       "('rmse:', 45.929050955133434)"
      ]
     },
     "execution_count": 30,
     "metadata": {},
     "output_type": "execute_result"
    }
   ],
   "source": [
    "'rmse:', rmse(target_test, rfr_predicted)"
   ]
  },
  {
   "cell_type": "markdown",
   "metadata": {},
   "source": [
    "*Модель градиентного бустинга:*"
   ]
  },
  {
   "cell_type": "code",
   "execution_count": 31,
   "metadata": {},
   "outputs": [
    {
     "name": "stdout",
     "output_type": "stream",
     "text": [
      "CPU times: user 55.8 s, sys: 164 ms, total: 56 s\n",
      "Wall time: 56.1 s\n"
     ]
    },
    {
     "data": {
      "text/plain": [
       "LGBMRegressor(objective='regression')"
      ]
     },
     "execution_count": 31,
     "metadata": {},
     "output_type": "execute_result"
    }
   ],
   "source": [
    "%%time\n",
    "gbm.fit(features_train, target_train)"
   ]
  },
  {
   "cell_type": "code",
   "execution_count": 32,
   "metadata": {},
   "outputs": [
    {
     "name": "stdout",
     "output_type": "stream",
     "text": [
      "CPU times: user 86.2 ms, sys: 0 ns, total: 86.2 ms\n",
      "Wall time: 95.5 ms\n"
     ]
    }
   ],
   "source": [
    "%%time\n",
    "gbm_predicted = gbm.predict(features_test)"
   ]
  },
  {
   "cell_type": "code",
   "execution_count": 33,
   "metadata": {},
   "outputs": [
    {
     "data": {
      "text/plain": [
       "('rmse:', 43.729007371822476)"
      ]
     },
     "execution_count": 33,
     "metadata": {},
     "output_type": "execute_result"
    }
   ],
   "source": [
    "'rmse:', rmse(target_test, gbm_predicted)"
   ]
  },
  {
   "cell_type": "markdown",
   "metadata": {},
   "source": [
    "**Наилучший результат показала модель градиентного бустинга - 43.7.**"
   ]
  }
 ],
 "metadata": {
  "ExecuteTimeLog": [
   {
    "duration": 394,
    "start_time": "2022-10-02T18:55:27.154Z"
   },
   {
    "duration": 67,
    "start_time": "2022-10-02T18:55:42.662Z"
   },
   {
    "duration": 114,
    "start_time": "2022-10-02T18:56:16.239Z"
   },
   {
    "duration": 13,
    "start_time": "2022-10-02T18:56:31.355Z"
   },
   {
    "duration": 12,
    "start_time": "2022-10-02T18:56:47.878Z"
   },
   {
    "duration": 14,
    "start_time": "2022-10-02T18:57:24.427Z"
   },
   {
    "duration": 7,
    "start_time": "2022-10-02T18:57:37.360Z"
   },
   {
    "duration": 68,
    "start_time": "2022-10-02T19:02:59.173Z"
   },
   {
    "duration": 14,
    "start_time": "2022-10-02T19:03:37.298Z"
   },
   {
    "duration": 49,
    "start_time": "2022-10-02T19:04:47.043Z"
   },
   {
    "duration": 417,
    "start_time": "2022-10-02T19:04:50.898Z"
   },
   {
    "duration": 48,
    "start_time": "2022-10-02T19:04:51.320Z"
   },
   {
    "duration": 13,
    "start_time": "2022-10-02T19:04:51.369Z"
   },
   {
    "duration": 23,
    "start_time": "2022-10-02T19:04:51.384Z"
   },
   {
    "duration": 20,
    "start_time": "2022-10-02T19:04:51.409Z"
   },
   {
    "duration": 10,
    "start_time": "2022-10-02T19:04:51.431Z"
   },
   {
    "duration": 83,
    "start_time": "2022-10-02T19:04:51.443Z"
   },
   {
    "duration": 8,
    "start_time": "2022-10-02T19:06:04.407Z"
   },
   {
    "duration": 11,
    "start_time": "2022-10-02T19:06:09.917Z"
   },
   {
    "duration": 381,
    "start_time": "2022-10-02T19:06:42.560Z"
   },
   {
    "duration": 47,
    "start_time": "2022-10-02T19:06:42.943Z"
   },
   {
    "duration": 13,
    "start_time": "2022-10-02T19:06:42.992Z"
   },
   {
    "duration": 25,
    "start_time": "2022-10-02T19:06:43.008Z"
   },
   {
    "duration": 39,
    "start_time": "2022-10-02T19:06:43.034Z"
   },
   {
    "duration": 15,
    "start_time": "2022-10-02T19:06:43.074Z"
   },
   {
    "duration": 1047,
    "start_time": "2022-10-02T19:06:43.090Z"
   },
   {
    "duration": 0,
    "start_time": "2022-10-02T19:06:44.139Z"
   },
   {
    "duration": 8,
    "start_time": "2022-10-02T19:07:43.993Z"
   },
   {
    "duration": 11,
    "start_time": "2022-10-02T19:07:46.132Z"
   },
   {
    "duration": 424,
    "start_time": "2022-10-02T19:08:38.519Z"
   },
   {
    "duration": 60,
    "start_time": "2022-10-02T19:08:38.947Z"
   },
   {
    "duration": 16,
    "start_time": "2022-10-02T19:08:39.009Z"
   },
   {
    "duration": 16,
    "start_time": "2022-10-02T19:08:39.027Z"
   },
   {
    "duration": 8,
    "start_time": "2022-10-02T19:08:39.046Z"
   },
   {
    "duration": 12,
    "start_time": "2022-10-02T19:08:39.056Z"
   },
   {
    "duration": 19,
    "start_time": "2022-10-02T19:08:39.070Z"
   },
   {
    "duration": 34,
    "start_time": "2022-10-02T19:08:39.091Z"
   },
   {
    "duration": 9,
    "start_time": "2022-10-02T19:09:13.909Z"
   },
   {
    "duration": 392,
    "start_time": "2022-10-02T19:09:19.184Z"
   },
   {
    "duration": 48,
    "start_time": "2022-10-02T19:09:19.578Z"
   },
   {
    "duration": 13,
    "start_time": "2022-10-02T19:09:19.628Z"
   },
   {
    "duration": 10,
    "start_time": "2022-10-02T19:09:19.643Z"
   },
   {
    "duration": 5,
    "start_time": "2022-10-02T19:09:19.655Z"
   },
   {
    "duration": 16,
    "start_time": "2022-10-02T19:09:19.661Z"
   },
   {
    "duration": 12,
    "start_time": "2022-10-02T19:09:19.678Z"
   },
   {
    "duration": 6,
    "start_time": "2022-10-02T19:09:19.692Z"
   },
   {
    "duration": 14,
    "start_time": "2022-10-02T20:53:20.781Z"
   },
   {
    "duration": 765,
    "start_time": "2022-10-02T20:54:02.821Z"
   },
   {
    "duration": 74,
    "start_time": "2022-10-02T21:00:33.401Z"
   },
   {
    "duration": 480,
    "start_time": "2022-10-02T21:00:49.154Z"
   },
   {
    "duration": 12,
    "start_time": "2022-10-02T21:00:54.232Z"
   },
   {
    "duration": 993,
    "start_time": "2022-10-02T21:01:34.186Z"
   },
   {
    "duration": 200,
    "start_time": "2022-10-02T21:04:29.560Z"
   },
   {
    "duration": 39,
    "start_time": "2022-10-02T21:04:40.218Z"
   },
   {
    "duration": 210,
    "start_time": "2022-10-02T21:04:46.419Z"
   },
   {
    "duration": 143,
    "start_time": "2022-10-02T21:08:12.456Z"
   },
   {
    "duration": 154,
    "start_time": "2022-10-02T21:08:29.982Z"
   },
   {
    "duration": 143,
    "start_time": "2022-10-02T21:08:47.068Z"
   },
   {
    "duration": 10,
    "start_time": "2022-10-02T21:08:59.754Z"
   },
   {
    "duration": 140,
    "start_time": "2022-10-02T21:11:05.642Z"
   },
   {
    "duration": 153,
    "start_time": "2022-10-02T21:11:53.645Z"
   },
   {
    "duration": 154,
    "start_time": "2022-10-02T21:12:22.032Z"
   },
   {
    "duration": 213,
    "start_time": "2022-10-02T21:12:58.221Z"
   },
   {
    "duration": 152,
    "start_time": "2022-10-02T21:13:34.048Z"
   },
   {
    "duration": 160,
    "start_time": "2022-10-02T21:13:50.021Z"
   },
   {
    "duration": 1041,
    "start_time": "2022-10-02T21:15:25.544Z"
   },
   {
    "duration": 84,
    "start_time": "2022-10-02T21:15:26.586Z"
   },
   {
    "duration": 11,
    "start_time": "2022-10-02T21:15:26.671Z"
   },
   {
    "duration": 15,
    "start_time": "2022-10-02T21:15:26.684Z"
   },
   {
    "duration": 21,
    "start_time": "2022-10-02T21:15:26.701Z"
   },
   {
    "duration": 6,
    "start_time": "2022-10-02T21:15:26.723Z"
   },
   {
    "duration": 15,
    "start_time": "2022-10-02T21:15:26.730Z"
   },
   {
    "duration": 7,
    "start_time": "2022-10-02T21:15:26.746Z"
   },
   {
    "duration": 13,
    "start_time": "2022-10-02T21:15:26.755Z"
   },
   {
    "duration": 255,
    "start_time": "2022-10-02T21:15:26.771Z"
   },
   {
    "duration": 8,
    "start_time": "2022-10-02T21:15:27.027Z"
   },
   {
    "duration": 907,
    "start_time": "2022-10-02T21:15:27.036Z"
   },
   {
    "duration": 198,
    "start_time": "2022-10-02T21:15:27.945Z"
   },
   {
    "duration": 249,
    "start_time": "2022-10-02T21:15:28.145Z"
   },
   {
    "duration": 158,
    "start_time": "2022-10-02T21:15:28.395Z"
   },
   {
    "duration": 161,
    "start_time": "2022-10-02T21:15:28.554Z"
   },
   {
    "duration": 1049,
    "start_time": "2022-10-02T21:16:54.244Z"
   },
   {
    "duration": 109,
    "start_time": "2022-10-02T21:16:55.295Z"
   },
   {
    "duration": 10,
    "start_time": "2022-10-02T21:16:55.406Z"
   },
   {
    "duration": 20,
    "start_time": "2022-10-02T21:16:55.418Z"
   },
   {
    "duration": 5,
    "start_time": "2022-10-02T21:16:55.440Z"
   },
   {
    "duration": 18,
    "start_time": "2022-10-02T21:16:55.446Z"
   },
   {
    "duration": 12,
    "start_time": "2022-10-02T21:16:55.465Z"
   },
   {
    "duration": 17,
    "start_time": "2022-10-02T21:16:55.478Z"
   },
   {
    "duration": 37,
    "start_time": "2022-10-02T21:16:55.497Z"
   },
   {
    "duration": 230,
    "start_time": "2022-10-02T21:16:55.536Z"
   },
   {
    "duration": 8,
    "start_time": "2022-10-02T21:16:55.768Z"
   },
   {
    "duration": 914,
    "start_time": "2022-10-02T21:16:55.777Z"
   },
   {
    "duration": 211,
    "start_time": "2022-10-02T21:16:56.693Z"
   },
   {
    "duration": 245,
    "start_time": "2022-10-02T21:16:56.907Z"
   },
   {
    "duration": 167,
    "start_time": "2022-10-02T21:16:57.155Z"
   },
   {
    "duration": 160,
    "start_time": "2022-10-02T21:16:57.324Z"
   },
   {
    "duration": 3,
    "start_time": "2022-10-02T21:20:36.215Z"
   },
   {
    "duration": 1003,
    "start_time": "2022-10-02T21:22:44.744Z"
   },
   {
    "duration": 11,
    "start_time": "2022-10-02T21:23:18.679Z"
   },
   {
    "duration": 10,
    "start_time": "2022-10-02T21:23:28.094Z"
   },
   {
    "duration": 2,
    "start_time": "2022-10-02T21:23:35.129Z"
   },
   {
    "duration": 3,
    "start_time": "2022-10-02T21:23:37.137Z"
   },
   {
    "duration": 3,
    "start_time": "2022-10-02T21:23:42.008Z"
   },
   {
    "duration": 1054,
    "start_time": "2022-10-02T21:23:47.752Z"
   },
   {
    "duration": 126,
    "start_time": "2022-10-02T21:23:48.808Z"
   },
   {
    "duration": 16,
    "start_time": "2022-10-02T21:23:48.936Z"
   },
   {
    "duration": 22,
    "start_time": "2022-10-02T21:23:48.955Z"
   },
   {
    "duration": 19,
    "start_time": "2022-10-02T21:23:48.980Z"
   },
   {
    "duration": 41,
    "start_time": "2022-10-02T21:23:49.001Z"
   },
   {
    "duration": 39,
    "start_time": "2022-10-02T21:23:49.044Z"
   },
   {
    "duration": 24,
    "start_time": "2022-10-02T21:23:49.085Z"
   },
   {
    "duration": 25,
    "start_time": "2022-10-02T21:23:49.111Z"
   },
   {
    "duration": 232,
    "start_time": "2022-10-02T21:23:49.139Z"
   },
   {
    "duration": 8,
    "start_time": "2022-10-02T21:23:49.372Z"
   },
   {
    "duration": 917,
    "start_time": "2022-10-02T21:23:49.382Z"
   },
   {
    "duration": 227,
    "start_time": "2022-10-02T21:23:50.300Z"
   },
   {
    "duration": 247,
    "start_time": "2022-10-02T21:23:50.529Z"
   },
   {
    "duration": 159,
    "start_time": "2022-10-02T21:23:50.778Z"
   },
   {
    "duration": 177,
    "start_time": "2022-10-02T21:23:50.939Z"
   },
   {
    "duration": 12,
    "start_time": "2022-10-02T21:23:51.118Z"
   },
   {
    "duration": 44,
    "start_time": "2022-10-02T21:23:51.131Z"
   },
   {
    "duration": 1047,
    "start_time": "2022-10-02T21:24:04.650Z"
   },
   {
    "duration": 113,
    "start_time": "2022-10-02T21:24:05.700Z"
   },
   {
    "duration": 14,
    "start_time": "2022-10-02T21:24:05.816Z"
   },
   {
    "duration": 16,
    "start_time": "2022-10-02T21:24:05.832Z"
   },
   {
    "duration": 6,
    "start_time": "2022-10-02T21:24:05.851Z"
   },
   {
    "duration": 10,
    "start_time": "2022-10-02T21:24:05.859Z"
   },
   {
    "duration": 15,
    "start_time": "2022-10-02T21:24:05.872Z"
   },
   {
    "duration": 33,
    "start_time": "2022-10-02T21:24:05.889Z"
   },
   {
    "duration": 18,
    "start_time": "2022-10-02T21:24:05.925Z"
   },
   {
    "duration": 246,
    "start_time": "2022-10-02T21:24:05.946Z"
   },
   {
    "duration": 8,
    "start_time": "2022-10-02T21:24:06.193Z"
   },
   {
    "duration": 912,
    "start_time": "2022-10-02T21:24:06.203Z"
   },
   {
    "duration": 217,
    "start_time": "2022-10-02T21:24:07.117Z"
   },
   {
    "duration": 249,
    "start_time": "2022-10-02T21:24:07.337Z"
   },
   {
    "duration": 164,
    "start_time": "2022-10-02T21:24:07.588Z"
   },
   {
    "duration": 168,
    "start_time": "2022-10-02T21:24:07.753Z"
   },
   {
    "duration": 11,
    "start_time": "2022-10-02T21:24:07.923Z"
   },
   {
    "duration": 11,
    "start_time": "2022-10-02T21:24:07.936Z"
   },
   {
    "duration": 14,
    "start_time": "2022-10-02T21:24:22.237Z"
   },
   {
    "duration": 232,
    "start_time": "2022-10-02T21:26:07.601Z"
   },
   {
    "duration": 10,
    "start_time": "2022-10-02T21:27:32.326Z"
   },
   {
    "duration": 4,
    "start_time": "2022-10-02T21:27:59.204Z"
   },
   {
    "duration": 3,
    "start_time": "2022-10-02T21:28:37.298Z"
   },
   {
    "duration": 1317,
    "start_time": "2022-10-02T21:29:12.265Z"
   },
   {
    "duration": 51,
    "start_time": "2022-10-02T21:29:13.584Z"
   },
   {
    "duration": 12,
    "start_time": "2022-10-02T21:29:13.636Z"
   },
   {
    "duration": 12,
    "start_time": "2022-10-02T21:29:13.650Z"
   },
   {
    "duration": 5,
    "start_time": "2022-10-02T21:29:13.664Z"
   },
   {
    "duration": 7,
    "start_time": "2022-10-02T21:29:13.671Z"
   },
   {
    "duration": 41,
    "start_time": "2022-10-02T21:29:13.680Z"
   },
   {
    "duration": 7,
    "start_time": "2022-10-02T21:29:13.723Z"
   },
   {
    "duration": 17,
    "start_time": "2022-10-02T21:29:13.732Z"
   },
   {
    "duration": 244,
    "start_time": "2022-10-02T21:29:13.753Z"
   },
   {
    "duration": 28,
    "start_time": "2022-10-02T21:29:13.999Z"
   },
   {
    "duration": 938,
    "start_time": "2022-10-02T21:29:14.029Z"
   },
   {
    "duration": 203,
    "start_time": "2022-10-02T21:29:14.968Z"
   },
   {
    "duration": 168,
    "start_time": "2022-10-02T21:29:15.173Z"
   },
   {
    "duration": 158,
    "start_time": "2022-10-02T21:29:15.343Z"
   },
   {
    "duration": 172,
    "start_time": "2022-10-02T21:29:15.503Z"
   },
   {
    "duration": 10,
    "start_time": "2022-10-02T21:29:15.677Z"
   },
   {
    "duration": 11,
    "start_time": "2022-10-02T21:29:15.689Z"
   },
   {
    "duration": 21,
    "start_time": "2022-10-02T21:29:15.701Z"
   },
   {
    "duration": 9,
    "start_time": "2022-10-02T21:29:15.724Z"
   },
   {
    "duration": 26,
    "start_time": "2022-10-02T21:29:42.634Z"
   },
   {
    "duration": 190,
    "start_time": "2022-10-02T21:33:11.788Z"
   },
   {
    "duration": 4,
    "start_time": "2022-10-02T21:33:45.282Z"
   },
   {
    "duration": 118,
    "start_time": "2022-10-02T21:34:46.527Z"
   },
   {
    "duration": 34,
    "start_time": "2022-10-02T21:34:53.009Z"
   },
   {
    "duration": 8,
    "start_time": "2022-10-02T21:35:12.181Z"
   },
   {
    "duration": 12,
    "start_time": "2022-10-02T21:35:17.742Z"
   },
   {
    "duration": 13,
    "start_time": "2022-10-02T21:35:28.313Z"
   },
   {
    "duration": 12,
    "start_time": "2022-10-02T21:35:32.963Z"
   },
   {
    "duration": 32,
    "start_time": "2022-10-02T21:35:55.382Z"
   },
   {
    "duration": 9,
    "start_time": "2022-10-02T21:37:40.586Z"
   },
   {
    "duration": 10,
    "start_time": "2022-10-02T21:37:58.499Z"
   },
   {
    "duration": 19,
    "start_time": "2022-10-02T21:38:20.339Z"
   },
   {
    "duration": 1378,
    "start_time": "2022-10-02T21:39:31.651Z"
   },
   {
    "duration": 52,
    "start_time": "2022-10-02T21:39:33.031Z"
   },
   {
    "duration": 11,
    "start_time": "2022-10-02T21:39:33.085Z"
   },
   {
    "duration": 28,
    "start_time": "2022-10-02T21:39:33.098Z"
   },
   {
    "duration": 9,
    "start_time": "2022-10-02T21:39:33.129Z"
   },
   {
    "duration": 28,
    "start_time": "2022-10-02T21:39:33.140Z"
   },
   {
    "duration": 23,
    "start_time": "2022-10-02T21:39:33.169Z"
   },
   {
    "duration": 22,
    "start_time": "2022-10-02T21:39:33.194Z"
   },
   {
    "duration": 36,
    "start_time": "2022-10-02T21:39:33.217Z"
   },
   {
    "duration": 223,
    "start_time": "2022-10-02T21:39:33.255Z"
   },
   {
    "duration": 9,
    "start_time": "2022-10-02T21:39:33.479Z"
   },
   {
    "duration": 978,
    "start_time": "2022-10-02T21:39:33.489Z"
   },
   {
    "duration": 195,
    "start_time": "2022-10-02T21:39:34.469Z"
   },
   {
    "duration": 161,
    "start_time": "2022-10-02T21:39:34.667Z"
   },
   {
    "duration": 168,
    "start_time": "2022-10-02T21:39:34.830Z"
   },
   {
    "duration": 167,
    "start_time": "2022-10-02T21:39:35.000Z"
   },
   {
    "duration": 10,
    "start_time": "2022-10-02T21:39:35.169Z"
   },
   {
    "duration": 42,
    "start_time": "2022-10-02T21:39:35.181Z"
   },
   {
    "duration": 32,
    "start_time": "2022-10-02T21:39:35.225Z"
   },
   {
    "duration": 8,
    "start_time": "2022-10-02T21:39:35.259Z"
   },
   {
    "duration": 28,
    "start_time": "2022-10-02T21:39:35.268Z"
   },
   {
    "duration": 45,
    "start_time": "2022-10-02T21:39:35.297Z"
   },
   {
    "duration": 9,
    "start_time": "2022-10-02T21:39:35.344Z"
   },
   {
    "duration": 530,
    "start_time": "2022-10-02T21:41:28.494Z"
   },
   {
    "duration": 4515,
    "start_time": "2022-10-02T21:43:14.190Z"
   },
   {
    "duration": 9590,
    "start_time": "2022-10-02T21:45:41.531Z"
   },
   {
    "duration": 9784,
    "start_time": "2022-10-02T21:47:23.152Z"
   },
   {
    "duration": 11073,
    "start_time": "2022-10-02T21:47:41.753Z"
   },
   {
    "duration": 13025,
    "start_time": "2022-10-02T21:48:13.599Z"
   },
   {
    "duration": 4191,
    "start_time": "2022-10-02T21:49:50.130Z"
   },
   {
    "duration": 1427,
    "start_time": "2022-10-02T21:51:11.398Z"
   },
   {
    "duration": 51,
    "start_time": "2022-10-02T21:51:12.827Z"
   },
   {
    "duration": 9,
    "start_time": "2022-10-02T21:51:12.880Z"
   },
   {
    "duration": 10,
    "start_time": "2022-10-02T21:51:12.891Z"
   },
   {
    "duration": 10,
    "start_time": "2022-10-02T21:51:12.903Z"
   },
   {
    "duration": 7,
    "start_time": "2022-10-02T21:51:12.914Z"
   },
   {
    "duration": 12,
    "start_time": "2022-10-02T21:51:12.923Z"
   },
   {
    "duration": 6,
    "start_time": "2022-10-02T21:51:12.937Z"
   },
   {
    "duration": 14,
    "start_time": "2022-10-02T21:51:12.945Z"
   },
   {
    "duration": 248,
    "start_time": "2022-10-02T21:51:12.960Z"
   },
   {
    "duration": 15,
    "start_time": "2022-10-02T21:51:13.211Z"
   },
   {
    "duration": 963,
    "start_time": "2022-10-02T21:51:13.228Z"
   },
   {
    "duration": 203,
    "start_time": "2022-10-02T21:51:14.193Z"
   },
   {
    "duration": 162,
    "start_time": "2022-10-02T21:51:14.399Z"
   },
   {
    "duration": 162,
    "start_time": "2022-10-02T21:51:14.563Z"
   },
   {
    "duration": 168,
    "start_time": "2022-10-02T21:51:14.726Z"
   },
   {
    "duration": 11,
    "start_time": "2022-10-02T21:51:14.895Z"
   },
   {
    "duration": 25,
    "start_time": "2022-10-02T21:51:14.908Z"
   },
   {
    "duration": 13,
    "start_time": "2022-10-02T21:51:14.935Z"
   },
   {
    "duration": 4,
    "start_time": "2022-10-02T21:51:14.949Z"
   },
   {
    "duration": 5,
    "start_time": "2022-10-02T21:51:14.954Z"
   },
   {
    "duration": 64,
    "start_time": "2022-10-02T21:51:14.961Z"
   },
   {
    "duration": 553,
    "start_time": "2022-10-02T21:51:15.027Z"
   },
   {
    "duration": 4835,
    "start_time": "2022-10-02T21:51:15.582Z"
   },
   {
    "duration": 4110,
    "start_time": "2022-10-02T21:51:20.421Z"
   },
   {
    "duration": 10,
    "start_time": "2022-10-02T21:53:07.361Z"
   },
   {
    "duration": 6,
    "start_time": "2022-10-02T21:54:12.949Z"
   },
   {
    "duration": 5,
    "start_time": "2022-10-02T21:54:59.142Z"
   },
   {
    "duration": 647,
    "start_time": "2022-10-02T21:55:58.582Z"
   },
   {
    "duration": 9,
    "start_time": "2022-10-02T21:56:27.325Z"
   },
   {
    "duration": 4,
    "start_time": "2022-10-02T21:56:44.612Z"
   },
   {
    "duration": 1677,
    "start_time": "2022-10-02T21:58:27.760Z"
   },
   {
    "duration": 296,
    "start_time": "2022-10-02T21:58:37.331Z"
   },
   {
    "duration": 9,
    "start_time": "2022-10-02T21:58:40.211Z"
   },
   {
    "duration": 5,
    "start_time": "2022-10-02T21:58:43.124Z"
   },
   {
    "duration": 3769,
    "start_time": "2022-10-02T21:58:50.559Z"
   },
   {
    "duration": 785,
    "start_time": "2022-10-02T21:58:59.738Z"
   },
   {
    "duration": 10,
    "start_time": "2022-10-02T21:59:02.909Z"
   },
   {
    "duration": 5,
    "start_time": "2022-10-02T21:59:05.615Z"
   },
   {
    "duration": 1474,
    "start_time": "2022-10-02T22:00:04.080Z"
   },
   {
    "duration": 52,
    "start_time": "2022-10-02T22:00:05.556Z"
   },
   {
    "duration": 11,
    "start_time": "2022-10-02T22:00:05.610Z"
   },
   {
    "duration": 15,
    "start_time": "2022-10-02T22:00:05.623Z"
   },
   {
    "duration": 12,
    "start_time": "2022-10-02T22:00:05.641Z"
   },
   {
    "duration": 21,
    "start_time": "2022-10-02T22:00:05.655Z"
   },
   {
    "duration": 15,
    "start_time": "2022-10-02T22:00:05.678Z"
   },
   {
    "duration": 10,
    "start_time": "2022-10-02T22:00:05.694Z"
   },
   {
    "duration": 17,
    "start_time": "2022-10-02T22:00:05.705Z"
   },
   {
    "duration": 229,
    "start_time": "2022-10-02T22:00:05.725Z"
   },
   {
    "duration": 8,
    "start_time": "2022-10-02T22:00:05.955Z"
   },
   {
    "duration": 1002,
    "start_time": "2022-10-02T22:00:05.965Z"
   },
   {
    "duration": 204,
    "start_time": "2022-10-02T22:00:06.969Z"
   },
   {
    "duration": 175,
    "start_time": "2022-10-02T22:00:07.175Z"
   },
   {
    "duration": 170,
    "start_time": "2022-10-02T22:00:07.352Z"
   },
   {
    "duration": 163,
    "start_time": "2022-10-02T22:00:07.523Z"
   },
   {
    "duration": 14,
    "start_time": "2022-10-02T22:00:07.688Z"
   },
   {
    "duration": 22,
    "start_time": "2022-10-02T22:00:07.704Z"
   },
   {
    "duration": 17,
    "start_time": "2022-10-02T22:00:07.728Z"
   },
   {
    "duration": 10,
    "start_time": "2022-10-02T22:00:07.746Z"
   },
   {
    "duration": 11,
    "start_time": "2022-10-02T22:00:07.757Z"
   },
   {
    "duration": 257,
    "start_time": "2022-10-02T22:00:07.769Z"
   },
   {
    "duration": 902,
    "start_time": "2022-10-02T22:00:08.028Z"
   },
   {
    "duration": 5716,
    "start_time": "2022-10-02T22:00:08.932Z"
   },
   {
    "duration": 4583,
    "start_time": "2022-10-02T22:00:14.649Z"
   },
   {
    "duration": 10,
    "start_time": "2022-10-02T22:00:19.321Z"
   },
   {
    "duration": 10,
    "start_time": "2022-10-02T22:00:19.334Z"
   },
   {
    "duration": 17,
    "start_time": "2022-10-02T22:00:19.423Z"
   },
   {
    "duration": 983,
    "start_time": "2022-10-02T22:00:19.441Z"
   },
   {
    "duration": 11,
    "start_time": "2022-10-02T22:00:20.426Z"
   },
   {
    "duration": 16,
    "start_time": "2022-10-02T22:00:20.439Z"
   },
   {
    "duration": 1400,
    "start_time": "2022-10-02T22:00:34.412Z"
   },
   {
    "duration": 50,
    "start_time": "2022-10-02T22:00:35.815Z"
   },
   {
    "duration": 10,
    "start_time": "2022-10-02T22:00:35.867Z"
   },
   {
    "duration": 30,
    "start_time": "2022-10-02T22:00:35.878Z"
   },
   {
    "duration": 11,
    "start_time": "2022-10-02T22:00:35.911Z"
   },
   {
    "duration": 22,
    "start_time": "2022-10-02T22:00:35.924Z"
   },
   {
    "duration": 16,
    "start_time": "2022-10-02T22:00:35.947Z"
   },
   {
    "duration": 10,
    "start_time": "2022-10-02T22:00:35.964Z"
   },
   {
    "duration": 14,
    "start_time": "2022-10-02T22:00:35.975Z"
   },
   {
    "duration": 240,
    "start_time": "2022-10-02T22:00:35.991Z"
   },
   {
    "duration": 7,
    "start_time": "2022-10-02T22:00:36.232Z"
   },
   {
    "duration": 958,
    "start_time": "2022-10-02T22:00:36.241Z"
   },
   {
    "duration": 208,
    "start_time": "2022-10-02T22:00:37.201Z"
   },
   {
    "duration": 163,
    "start_time": "2022-10-02T22:00:37.413Z"
   },
   {
    "duration": 157,
    "start_time": "2022-10-02T22:00:37.578Z"
   },
   {
    "duration": 167,
    "start_time": "2022-10-02T22:00:37.737Z"
   },
   {
    "duration": 20,
    "start_time": "2022-10-02T22:00:37.907Z"
   },
   {
    "duration": 15,
    "start_time": "2022-10-02T22:00:37.928Z"
   },
   {
    "duration": 9,
    "start_time": "2022-10-02T22:00:37.945Z"
   },
   {
    "duration": 4,
    "start_time": "2022-10-02T22:00:37.956Z"
   },
   {
    "duration": 18,
    "start_time": "2022-10-02T22:00:37.961Z"
   },
   {
    "duration": 547,
    "start_time": "2022-10-02T22:00:37.980Z"
   },
   {
    "duration": 876,
    "start_time": "2022-10-02T22:00:38.529Z"
   },
   {
    "duration": 6765,
    "start_time": "2022-10-02T22:00:39.407Z"
   },
   {
    "duration": 4647,
    "start_time": "2022-10-02T22:00:46.174Z"
   },
   {
    "duration": 10,
    "start_time": "2022-10-02T22:00:50.823Z"
   },
   {
    "duration": 90,
    "start_time": "2022-10-02T22:00:50.835Z"
   },
   {
    "duration": 43,
    "start_time": "2022-10-02T22:00:50.927Z"
   },
   {
    "duration": 865,
    "start_time": "2022-10-02T22:00:50.972Z"
   },
   {
    "duration": 83,
    "start_time": "2022-10-02T22:00:51.839Z"
   },
   {
    "duration": 8,
    "start_time": "2022-10-02T22:00:51.924Z"
   },
   {
    "duration": 1455,
    "start_time": "2022-10-02T22:01:25.198Z"
   },
   {
    "duration": 52,
    "start_time": "2022-10-02T22:01:26.655Z"
   },
   {
    "duration": 10,
    "start_time": "2022-10-02T22:01:26.709Z"
   },
   {
    "duration": 13,
    "start_time": "2022-10-02T22:01:26.721Z"
   },
   {
    "duration": 5,
    "start_time": "2022-10-02T22:01:26.736Z"
   },
   {
    "duration": 7,
    "start_time": "2022-10-02T22:01:26.742Z"
   },
   {
    "duration": 10,
    "start_time": "2022-10-02T22:01:26.751Z"
   },
   {
    "duration": 6,
    "start_time": "2022-10-02T22:01:26.763Z"
   },
   {
    "duration": 14,
    "start_time": "2022-10-02T22:01:26.771Z"
   },
   {
    "duration": 268,
    "start_time": "2022-10-02T22:01:26.787Z"
   },
   {
    "duration": 9,
    "start_time": "2022-10-02T22:01:27.057Z"
   },
   {
    "duration": 987,
    "start_time": "2022-10-02T22:01:27.068Z"
   },
   {
    "duration": 199,
    "start_time": "2022-10-02T22:01:28.057Z"
   },
   {
    "duration": 185,
    "start_time": "2022-10-02T22:01:28.260Z"
   },
   {
    "duration": 162,
    "start_time": "2022-10-02T22:01:28.447Z"
   },
   {
    "duration": 167,
    "start_time": "2022-10-02T22:01:28.610Z"
   },
   {
    "duration": 12,
    "start_time": "2022-10-02T22:01:28.779Z"
   },
   {
    "duration": 17,
    "start_time": "2022-10-02T22:01:28.793Z"
   },
   {
    "duration": 10,
    "start_time": "2022-10-02T22:01:28.821Z"
   },
   {
    "duration": 26,
    "start_time": "2022-10-02T22:01:28.832Z"
   },
   {
    "duration": 21,
    "start_time": "2022-10-02T22:01:28.859Z"
   },
   {
    "duration": 62,
    "start_time": "2022-10-02T22:01:28.882Z"
   },
   {
    "duration": 700,
    "start_time": "2022-10-02T22:01:28.946Z"
   },
   {
    "duration": 3931,
    "start_time": "2022-10-02T22:01:29.648Z"
   },
   {
    "duration": 4352,
    "start_time": "2022-10-02T22:01:33.581Z"
   },
   {
    "duration": 10,
    "start_time": "2022-10-02T22:01:38.020Z"
   },
   {
    "duration": 11,
    "start_time": "2022-10-02T22:01:38.031Z"
   },
   {
    "duration": 7,
    "start_time": "2022-10-02T22:01:38.044Z"
   },
   {
    "duration": 913,
    "start_time": "2022-10-02T22:01:38.121Z"
   },
   {
    "duration": 93,
    "start_time": "2022-10-02T22:01:39.036Z"
   },
   {
    "duration": 11,
    "start_time": "2022-10-02T22:01:39.131Z"
   },
   {
    "duration": 1358,
    "start_time": "2022-10-02T22:05:40.562Z"
   },
   {
    "duration": 51,
    "start_time": "2022-10-02T22:05:41.922Z"
   },
   {
    "duration": 10,
    "start_time": "2022-10-02T22:05:41.975Z"
   },
   {
    "duration": 16,
    "start_time": "2022-10-02T22:05:41.986Z"
   },
   {
    "duration": 8,
    "start_time": "2022-10-02T22:05:42.003Z"
   },
   {
    "duration": 5,
    "start_time": "2022-10-02T22:05:42.012Z"
   },
   {
    "duration": 12,
    "start_time": "2022-10-02T22:05:42.019Z"
   },
   {
    "duration": 15,
    "start_time": "2022-10-02T22:05:42.032Z"
   },
   {
    "duration": 14,
    "start_time": "2022-10-02T22:05:42.049Z"
   },
   {
    "duration": 233,
    "start_time": "2022-10-02T22:05:42.066Z"
   },
   {
    "duration": 8,
    "start_time": "2022-10-02T22:05:42.301Z"
   },
   {
    "duration": 968,
    "start_time": "2022-10-02T22:05:42.311Z"
   },
   {
    "duration": 194,
    "start_time": "2022-10-02T22:05:43.281Z"
   },
   {
    "duration": 163,
    "start_time": "2022-10-02T22:05:43.477Z"
   },
   {
    "duration": 155,
    "start_time": "2022-10-02T22:05:43.641Z"
   },
   {
    "duration": 164,
    "start_time": "2022-10-02T22:05:43.797Z"
   },
   {
    "duration": 14,
    "start_time": "2022-10-02T22:05:43.963Z"
   },
   {
    "duration": 12,
    "start_time": "2022-10-02T22:05:43.979Z"
   },
   {
    "duration": 33,
    "start_time": "2022-10-02T22:05:43.993Z"
   },
   {
    "duration": 3,
    "start_time": "2022-10-02T22:05:44.028Z"
   },
   {
    "duration": 7,
    "start_time": "2022-10-02T22:05:44.033Z"
   },
   {
    "duration": 38,
    "start_time": "2022-10-02T22:05:44.042Z"
   },
   {
    "duration": 588,
    "start_time": "2022-10-02T22:05:44.082Z"
   },
   {
    "duration": 3682,
    "start_time": "2022-10-02T22:05:44.671Z"
   },
   {
    "duration": 4278,
    "start_time": "2022-10-02T22:05:48.355Z"
   },
   {
    "duration": 89,
    "start_time": "2022-10-02T22:05:52.635Z"
   },
   {
    "duration": 8,
    "start_time": "2022-10-02T22:05:52.725Z"
   },
   {
    "duration": 18,
    "start_time": "2022-10-02T22:05:52.737Z"
   },
   {
    "duration": 868,
    "start_time": "2022-10-02T22:05:52.757Z"
   },
   {
    "duration": 19,
    "start_time": "2022-10-02T22:05:53.627Z"
   },
   {
    "duration": 71,
    "start_time": "2022-10-02T22:05:53.649Z"
   },
   {
    "duration": 187,
    "start_time": "2022-10-02T22:08:57.102Z"
   },
   {
    "duration": 176,
    "start_time": "2022-10-02T22:09:03.183Z"
   },
   {
    "duration": 8,
    "start_time": "2022-10-02T22:09:18.814Z"
   },
   {
    "duration": 5,
    "start_time": "2022-10-02T22:09:27.237Z"
   },
   {
    "duration": 1399,
    "start_time": "2022-10-02T22:09:50.959Z"
   },
   {
    "duration": 52,
    "start_time": "2022-10-02T22:09:52.360Z"
   },
   {
    "duration": 11,
    "start_time": "2022-10-02T22:09:52.414Z"
   },
   {
    "duration": 16,
    "start_time": "2022-10-02T22:09:52.427Z"
   },
   {
    "duration": 5,
    "start_time": "2022-10-02T22:09:52.446Z"
   },
   {
    "duration": 7,
    "start_time": "2022-10-02T22:09:52.453Z"
   },
   {
    "duration": 11,
    "start_time": "2022-10-02T22:09:52.461Z"
   },
   {
    "duration": 13,
    "start_time": "2022-10-02T22:09:52.474Z"
   },
   {
    "duration": 36,
    "start_time": "2022-10-02T22:09:52.489Z"
   },
   {
    "duration": 261,
    "start_time": "2022-10-02T22:09:52.527Z"
   },
   {
    "duration": 7,
    "start_time": "2022-10-02T22:09:52.790Z"
   },
   {
    "duration": 992,
    "start_time": "2022-10-02T22:09:52.799Z"
   },
   {
    "duration": 211,
    "start_time": "2022-10-02T22:09:53.793Z"
   },
   {
    "duration": 170,
    "start_time": "2022-10-02T22:09:54.006Z"
   },
   {
    "duration": 158,
    "start_time": "2022-10-02T22:09:54.178Z"
   },
   {
    "duration": 170,
    "start_time": "2022-10-02T22:09:54.338Z"
   },
   {
    "duration": 18,
    "start_time": "2022-10-02T22:09:54.510Z"
   },
   {
    "duration": 32,
    "start_time": "2022-10-02T22:09:54.529Z"
   },
   {
    "duration": 26,
    "start_time": "2022-10-02T22:09:54.563Z"
   },
   {
    "duration": 9,
    "start_time": "2022-10-02T22:09:54.590Z"
   },
   {
    "duration": 11,
    "start_time": "2022-10-02T22:09:54.601Z"
   },
   {
    "duration": 47,
    "start_time": "2022-10-02T22:09:54.613Z"
   },
   {
    "duration": 594,
    "start_time": "2022-10-02T22:09:54.662Z"
   },
   {
    "duration": 4872,
    "start_time": "2022-10-02T22:09:55.257Z"
   },
   {
    "duration": 3996,
    "start_time": "2022-10-02T22:10:00.130Z"
   },
   {
    "duration": 231,
    "start_time": "2022-10-02T22:10:04.128Z"
   },
   {
    "duration": 8,
    "start_time": "2022-10-02T22:10:04.361Z"
   },
   {
    "duration": 12,
    "start_time": "2022-10-02T22:10:04.370Z"
   },
   {
    "duration": 738,
    "start_time": "2022-10-02T22:10:04.384Z"
   },
   {
    "duration": 9,
    "start_time": "2022-10-02T22:10:05.124Z"
   },
   {
    "duration": 10,
    "start_time": "2022-10-02T22:10:05.135Z"
   },
   {
    "duration": 1393,
    "start_time": "2022-10-02T22:11:26.447Z"
   },
   {
    "duration": 52,
    "start_time": "2022-10-02T22:11:27.842Z"
   },
   {
    "duration": 11,
    "start_time": "2022-10-02T22:11:27.896Z"
   },
   {
    "duration": 12,
    "start_time": "2022-10-02T22:11:27.909Z"
   },
   {
    "duration": 7,
    "start_time": "2022-10-02T22:11:27.922Z"
   },
   {
    "duration": 9,
    "start_time": "2022-10-02T22:11:27.930Z"
   },
   {
    "duration": 9,
    "start_time": "2022-10-02T22:11:27.941Z"
   },
   {
    "duration": 7,
    "start_time": "2022-10-02T22:11:27.952Z"
   },
   {
    "duration": 16,
    "start_time": "2022-10-02T22:11:27.960Z"
   },
   {
    "duration": 246,
    "start_time": "2022-10-02T22:11:27.979Z"
   },
   {
    "duration": 9,
    "start_time": "2022-10-02T22:11:28.226Z"
   },
   {
    "duration": 995,
    "start_time": "2022-10-02T22:11:28.236Z"
   },
   {
    "duration": 210,
    "start_time": "2022-10-02T22:11:29.233Z"
   },
   {
    "duration": 169,
    "start_time": "2022-10-02T22:11:29.445Z"
   },
   {
    "duration": 161,
    "start_time": "2022-10-02T22:11:29.616Z"
   },
   {
    "duration": 170,
    "start_time": "2022-10-02T22:11:29.779Z"
   },
   {
    "duration": 12,
    "start_time": "2022-10-02T22:11:29.951Z"
   },
   {
    "duration": 13,
    "start_time": "2022-10-02T22:11:29.964Z"
   },
   {
    "duration": 12,
    "start_time": "2022-10-02T22:11:29.979Z"
   },
   {
    "duration": 28,
    "start_time": "2022-10-02T22:11:29.993Z"
   },
   {
    "duration": 3,
    "start_time": "2022-10-02T22:11:30.023Z"
   },
   {
    "duration": 68,
    "start_time": "2022-10-02T22:11:30.028Z"
   },
   {
    "duration": 585,
    "start_time": "2022-10-02T22:11:30.099Z"
   },
   {
    "duration": 4718,
    "start_time": "2022-10-02T22:11:30.685Z"
   },
   {
    "duration": 4029,
    "start_time": "2022-10-02T22:11:35.404Z"
   },
   {
    "duration": 187,
    "start_time": "2022-10-02T22:11:39.521Z"
   },
   {
    "duration": 16,
    "start_time": "2022-10-02T22:11:39.710Z"
   },
   {
    "duration": 7,
    "start_time": "2022-10-02T22:11:39.729Z"
   },
   {
    "duration": 694,
    "start_time": "2022-10-02T22:11:39.737Z"
   },
   {
    "duration": 94,
    "start_time": "2022-10-02T22:11:40.433Z"
   },
   {
    "duration": 9,
    "start_time": "2022-10-02T22:11:40.528Z"
   },
   {
    "duration": 1858,
    "start_time": "2022-10-03T15:43:40.947Z"
   },
   {
    "duration": 116,
    "start_time": "2022-10-03T15:43:42.807Z"
   },
   {
    "duration": 9,
    "start_time": "2022-10-03T15:43:42.925Z"
   },
   {
    "duration": 9,
    "start_time": "2022-10-03T15:43:42.936Z"
   },
   {
    "duration": 4,
    "start_time": "2022-10-03T15:43:42.946Z"
   },
   {
    "duration": 5,
    "start_time": "2022-10-03T15:43:42.951Z"
   },
   {
    "duration": 8,
    "start_time": "2022-10-03T15:43:42.957Z"
   },
   {
    "duration": 6,
    "start_time": "2022-10-03T15:43:42.966Z"
   },
   {
    "duration": 12,
    "start_time": "2022-10-03T15:43:42.973Z"
   },
   {
    "duration": 192,
    "start_time": "2022-10-03T15:43:43.011Z"
   },
   {
    "duration": 8,
    "start_time": "2022-10-03T15:43:43.205Z"
   },
   {
    "duration": 897,
    "start_time": "2022-10-03T15:43:43.215Z"
   },
   {
    "duration": 183,
    "start_time": "2022-10-03T15:43:44.114Z"
   },
   {
    "duration": 161,
    "start_time": "2022-10-03T15:43:44.298Z"
   },
   {
    "duration": 148,
    "start_time": "2022-10-03T15:43:44.461Z"
   },
   {
    "duration": 139,
    "start_time": "2022-10-03T15:43:44.610Z"
   },
   {
    "duration": 10,
    "start_time": "2022-10-03T15:43:44.751Z"
   },
   {
    "duration": 11,
    "start_time": "2022-10-03T15:43:44.762Z"
   },
   {
    "duration": 8,
    "start_time": "2022-10-03T15:43:44.774Z"
   },
   {
    "duration": 26,
    "start_time": "2022-10-03T15:43:44.783Z"
   },
   {
    "duration": 3,
    "start_time": "2022-10-03T15:43:44.810Z"
   },
   {
    "duration": 194,
    "start_time": "2022-10-03T15:43:44.815Z"
   },
   {
    "duration": 544,
    "start_time": "2022-10-03T15:43:45.010Z"
   },
   {
    "duration": 3982,
    "start_time": "2022-10-03T15:43:45.555Z"
   },
   {
    "duration": 3678,
    "start_time": "2022-10-03T15:43:49.538Z"
   },
   {
    "duration": 305,
    "start_time": "2022-10-03T15:43:53.218Z"
   },
   {
    "duration": 8,
    "start_time": "2022-10-03T15:43:53.524Z"
   },
   {
    "duration": 4,
    "start_time": "2022-10-03T15:43:53.535Z"
   },
   {
    "duration": 672,
    "start_time": "2022-10-03T15:43:53.540Z"
   },
   {
    "duration": 96,
    "start_time": "2022-10-03T15:43:54.214Z"
   },
   {
    "duration": 4,
    "start_time": "2022-10-03T15:43:54.311Z"
   },
   {
    "duration": 1763,
    "start_time": "2022-10-03T16:05:23.268Z"
   },
   {
    "duration": 49,
    "start_time": "2022-10-03T16:05:25.032Z"
   },
   {
    "duration": 10,
    "start_time": "2022-10-03T16:05:25.082Z"
   },
   {
    "duration": 25,
    "start_time": "2022-10-03T16:05:25.093Z"
   },
   {
    "duration": 5,
    "start_time": "2022-10-03T16:05:25.119Z"
   },
   {
    "duration": 6,
    "start_time": "2022-10-03T16:05:25.126Z"
   },
   {
    "duration": 7,
    "start_time": "2022-10-03T16:05:25.133Z"
   },
   {
    "duration": 5,
    "start_time": "2022-10-03T16:05:25.142Z"
   },
   {
    "duration": 10,
    "start_time": "2022-10-03T16:05:25.148Z"
   },
   {
    "duration": 227,
    "start_time": "2022-10-03T16:05:25.160Z"
   },
   {
    "duration": 20,
    "start_time": "2022-10-03T16:05:25.389Z"
   },
   {
    "duration": 881,
    "start_time": "2022-10-03T16:05:25.411Z"
   },
   {
    "duration": 173,
    "start_time": "2022-10-03T16:05:26.294Z"
   },
   {
    "duration": 155,
    "start_time": "2022-10-03T16:05:26.469Z"
   },
   {
    "duration": 139,
    "start_time": "2022-10-03T16:05:26.626Z"
   },
   {
    "duration": 146,
    "start_time": "2022-10-03T16:05:26.767Z"
   },
   {
    "duration": 12,
    "start_time": "2022-10-03T16:05:26.914Z"
   },
   {
    "duration": 11,
    "start_time": "2022-10-03T16:05:26.927Z"
   },
   {
    "duration": 13,
    "start_time": "2022-10-03T16:05:26.940Z"
   },
   {
    "duration": 4,
    "start_time": "2022-10-03T16:05:26.954Z"
   },
   {
    "duration": 7,
    "start_time": "2022-10-03T16:05:26.959Z"
   },
   {
    "duration": 58,
    "start_time": "2022-10-03T16:05:26.967Z"
   },
   {
    "duration": 612,
    "start_time": "2022-10-03T16:05:27.027Z"
   },
   {
    "duration": 4946,
    "start_time": "2022-10-03T16:05:27.641Z"
   },
   {
    "duration": 223022,
    "start_time": "2022-10-03T16:05:32.589Z"
   },
   {
    "duration": 241,
    "start_time": "2022-10-03T16:09:15.612Z"
   },
   {
    "duration": 7,
    "start_time": "2022-10-03T16:09:15.855Z"
   },
   {
    "duration": 4,
    "start_time": "2022-10-03T16:09:15.864Z"
   },
   {
    "duration": 645,
    "start_time": "2022-10-03T16:09:15.869Z"
   },
   {
    "duration": 95,
    "start_time": "2022-10-03T16:09:16.516Z"
   },
   {
    "duration": 10,
    "start_time": "2022-10-03T16:09:16.613Z"
   },
   {
    "duration": 506,
    "start_time": "2022-10-03T18:18:25.957Z"
   },
   {
    "duration": 601,
    "start_time": "2022-10-03T18:18:35.002Z"
   },
   {
    "duration": 675,
    "start_time": "2022-10-03T18:18:50.276Z"
   },
   {
    "duration": 854,
    "start_time": "2022-10-03T18:22:36.116Z"
   },
   {
    "duration": 910,
    "start_time": "2022-10-03T18:23:45.242Z"
   },
   {
    "duration": 826,
    "start_time": "2022-10-03T18:23:53.846Z"
   },
   {
    "duration": 896,
    "start_time": "2022-10-03T18:24:00.000Z"
   },
   {
    "duration": 784,
    "start_time": "2022-10-03T18:24:13.927Z"
   },
   {
    "duration": 17,
    "start_time": "2022-10-03T18:36:17.372Z"
   },
   {
    "duration": 46,
    "start_time": "2022-10-03T18:36:29.156Z"
   },
   {
    "duration": 6,
    "start_time": "2022-10-03T18:36:29.567Z"
   },
   {
    "duration": 10,
    "start_time": "2022-10-03T18:36:29.769Z"
   },
   {
    "duration": 5,
    "start_time": "2022-10-03T18:36:30.439Z"
   },
   {
    "duration": 5,
    "start_time": "2022-10-03T18:36:30.632Z"
   },
   {
    "duration": 6,
    "start_time": "2022-10-03T18:36:31.406Z"
   },
   {
    "duration": 6,
    "start_time": "2022-10-03T18:36:31.615Z"
   },
   {
    "duration": 11,
    "start_time": "2022-10-03T18:36:32.264Z"
   },
   {
    "duration": 258,
    "start_time": "2022-10-03T18:36:32.431Z"
   },
   {
    "duration": 6,
    "start_time": "2022-10-03T18:36:33.872Z"
   },
   {
    "duration": 770,
    "start_time": "2022-10-03T18:36:34.719Z"
   },
   {
    "duration": 169,
    "start_time": "2022-10-03T18:36:35.935Z"
   },
   {
    "duration": 128,
    "start_time": "2022-10-03T18:36:36.766Z"
   },
   {
    "duration": 122,
    "start_time": "2022-10-03T18:36:37.687Z"
   },
   {
    "duration": 132,
    "start_time": "2022-10-03T18:36:37.946Z"
   },
   {
    "duration": 9,
    "start_time": "2022-10-03T18:36:45.127Z"
   },
   {
    "duration": 6,
    "start_time": "2022-10-03T18:37:06.907Z"
   },
   {
    "duration": 731,
    "start_time": "2022-10-03T18:38:17.772Z"
   },
   {
    "duration": 6,
    "start_time": "2022-10-03T18:42:54.776Z"
   },
   {
    "duration": 1010,
    "start_time": "2022-10-03T18:43:49.214Z"
   },
   {
    "duration": 6,
    "start_time": "2022-10-03T18:44:02.887Z"
   },
   {
    "duration": 116,
    "start_time": "2022-10-03T18:44:16.730Z"
   },
   {
    "duration": 122,
    "start_time": "2022-10-03T18:44:57.718Z"
   },
   {
    "duration": 10,
    "start_time": "2022-10-03T18:58:24.922Z"
   },
   {
    "duration": 29,
    "start_time": "2022-10-03T18:59:04.295Z"
   },
   {
    "duration": 26,
    "start_time": "2022-10-03T19:01:48.982Z"
   },
   {
    "duration": 3,
    "start_time": "2022-10-03T19:01:58.023Z"
   },
   {
    "duration": 14,
    "start_time": "2022-10-03T19:03:33.361Z"
   },
   {
    "duration": 26,
    "start_time": "2022-10-03T19:03:55.825Z"
   },
   {
    "duration": 3,
    "start_time": "2022-10-03T19:03:58.013Z"
   },
   {
    "duration": 26,
    "start_time": "2022-10-03T19:05:05.104Z"
   },
   {
    "duration": 4,
    "start_time": "2022-10-03T19:05:08.320Z"
   },
   {
    "duration": 5,
    "start_time": "2022-10-03T19:16:12.417Z"
   },
   {
    "duration": 595,
    "start_time": "2022-10-03T19:16:12.645Z"
   },
   {
    "duration": 51,
    "start_time": "2022-10-03T19:16:21.849Z"
   },
   {
    "duration": 6,
    "start_time": "2022-10-03T19:16:22.257Z"
   },
   {
    "duration": 9,
    "start_time": "2022-10-03T19:16:22.423Z"
   },
   {
    "duration": 5,
    "start_time": "2022-10-03T19:16:22.943Z"
   },
   {
    "duration": 5,
    "start_time": "2022-10-03T19:16:23.168Z"
   },
   {
    "duration": 7,
    "start_time": "2022-10-03T19:16:23.950Z"
   },
   {
    "duration": 8,
    "start_time": "2022-10-03T19:16:24.518Z"
   },
   {
    "duration": 12,
    "start_time": "2022-10-03T19:16:25.815Z"
   },
   {
    "duration": 174,
    "start_time": "2022-10-03T19:16:26.343Z"
   },
   {
    "duration": 6,
    "start_time": "2022-10-03T19:16:28.408Z"
   },
   {
    "duration": 873,
    "start_time": "2022-10-03T19:16:29.017Z"
   },
   {
    "duration": 47,
    "start_time": "2022-10-06T09:43:20.433Z"
   },
   {
    "duration": 1552,
    "start_time": "2022-10-06T09:43:26.301Z"
   },
   {
    "duration": 114,
    "start_time": "2022-10-06T09:43:27.855Z"
   },
   {
    "duration": 11,
    "start_time": "2022-10-06T09:43:27.971Z"
   },
   {
    "duration": 12,
    "start_time": "2022-10-06T09:43:27.983Z"
   },
   {
    "duration": 4,
    "start_time": "2022-10-06T09:43:27.997Z"
   },
   {
    "duration": 5,
    "start_time": "2022-10-06T09:43:28.003Z"
   },
   {
    "duration": 12,
    "start_time": "2022-10-06T09:43:28.010Z"
   },
   {
    "duration": 20,
    "start_time": "2022-10-06T09:43:28.023Z"
   },
   {
    "duration": 13,
    "start_time": "2022-10-06T09:43:28.044Z"
   },
   {
    "duration": 222,
    "start_time": "2022-10-06T09:43:28.059Z"
   },
   {
    "duration": 9,
    "start_time": "2022-10-06T09:43:28.282Z"
   },
   {
    "duration": 934,
    "start_time": "2022-10-06T09:43:28.293Z"
   },
   {
    "duration": 202,
    "start_time": "2022-10-06T09:43:29.229Z"
   },
   {
    "duration": 166,
    "start_time": "2022-10-06T09:43:29.432Z"
   },
   {
    "duration": 153,
    "start_time": "2022-10-06T09:43:29.600Z"
   },
   {
    "duration": 153,
    "start_time": "2022-10-06T09:43:29.755Z"
   },
   {
    "duration": 673,
    "start_time": "2022-10-06T09:43:29.909Z"
   },
   {
    "duration": 148,
    "start_time": "2022-10-06T09:43:30.584Z"
   },
   {
    "duration": 11,
    "start_time": "2022-10-06T09:43:30.738Z"
   },
   {
    "duration": 57,
    "start_time": "2022-10-06T09:43:30.751Z"
   },
   {
    "duration": 118,
    "start_time": "2022-10-06T09:43:30.810Z"
   },
   {
    "duration": 3,
    "start_time": "2022-10-06T09:43:30.930Z"
   },
   {
    "duration": 33,
    "start_time": "2022-10-06T09:43:30.939Z"
   },
   {
    "duration": 180,
    "start_time": "2022-10-06T09:43:30.974Z"
   },
   {
    "duration": 600,
    "start_time": "2022-10-06T09:43:31.156Z"
   },
   {
    "duration": 4131,
    "start_time": "2022-10-06T09:43:31.757Z"
   },
   {
    "duration": 4251,
    "start_time": "2022-10-06T09:43:35.890Z"
   },
   {
    "duration": 233,
    "start_time": "2022-10-06T09:43:40.144Z"
   },
   {
    "duration": 8,
    "start_time": "2022-10-06T09:43:40.378Z"
   },
   {
    "duration": 6,
    "start_time": "2022-10-06T09:43:40.388Z"
   },
   {
    "duration": 746,
    "start_time": "2022-10-06T09:43:40.395Z"
   },
   {
    "duration": 9,
    "start_time": "2022-10-06T09:43:41.143Z"
   },
   {
    "duration": 16,
    "start_time": "2022-10-06T09:43:41.154Z"
   },
   {
    "duration": 126,
    "start_time": "2022-10-06T10:48:24.723Z"
   },
   {
    "duration": 1524,
    "start_time": "2022-10-06T10:52:16.858Z"
   },
   {
    "duration": 53,
    "start_time": "2022-10-06T10:52:18.384Z"
   },
   {
    "duration": 12,
    "start_time": "2022-10-06T10:52:18.439Z"
   },
   {
    "duration": 12,
    "start_time": "2022-10-06T10:52:18.452Z"
   },
   {
    "duration": 5,
    "start_time": "2022-10-06T10:52:18.466Z"
   },
   {
    "duration": 8,
    "start_time": "2022-10-06T10:52:18.473Z"
   },
   {
    "duration": 11,
    "start_time": "2022-10-06T10:52:18.483Z"
   },
   {
    "duration": 7,
    "start_time": "2022-10-06T10:52:18.495Z"
   },
   {
    "duration": 42,
    "start_time": "2022-10-06T10:52:18.504Z"
   },
   {
    "duration": 263,
    "start_time": "2022-10-06T10:52:18.547Z"
   },
   {
    "duration": 7,
    "start_time": "2022-10-06T10:52:18.812Z"
   },
   {
    "duration": 843,
    "start_time": "2022-10-06T10:52:18.821Z"
   },
   {
    "duration": 222,
    "start_time": "2022-10-06T10:52:19.665Z"
   },
   {
    "duration": 173,
    "start_time": "2022-10-06T10:52:19.890Z"
   },
   {
    "duration": 162,
    "start_time": "2022-10-06T10:52:20.065Z"
   },
   {
    "duration": 165,
    "start_time": "2022-10-06T10:52:20.229Z"
   },
   {
    "duration": 712,
    "start_time": "2022-10-06T10:52:20.396Z"
   },
   {
    "duration": 156,
    "start_time": "2022-10-06T10:52:21.109Z"
   },
   {
    "duration": 11,
    "start_time": "2022-10-06T10:52:21.267Z"
   },
   {
    "duration": 12,
    "start_time": "2022-10-06T10:52:21.280Z"
   },
   {
    "duration": 19,
    "start_time": "2022-10-06T10:52:21.294Z"
   },
   {
    "duration": 25,
    "start_time": "2022-10-06T10:52:21.315Z"
   },
   {
    "duration": 6,
    "start_time": "2022-10-06T10:52:21.342Z"
   },
   {
    "duration": 38,
    "start_time": "2022-10-06T10:52:21.349Z"
   },
   {
    "duration": 563,
    "start_time": "2022-10-06T10:52:21.389Z"
   },
   {
    "duration": 3771,
    "start_time": "2022-10-06T10:52:21.954Z"
   },
   {
    "duration": 4220,
    "start_time": "2022-10-06T10:52:25.727Z"
   },
   {
    "duration": 230,
    "start_time": "2022-10-06T10:52:29.948Z"
   },
   {
    "duration": 9,
    "start_time": "2022-10-06T10:52:30.180Z"
   },
   {
    "duration": 19,
    "start_time": "2022-10-06T10:52:30.191Z"
   },
   {
    "duration": 733,
    "start_time": "2022-10-06T10:52:30.212Z"
   },
   {
    "duration": 9,
    "start_time": "2022-10-06T10:52:30.946Z"
   },
   {
    "duration": 82,
    "start_time": "2022-10-06T10:52:30.957Z"
   },
   {
    "duration": 116,
    "start_time": "2022-10-06T10:54:32.407Z"
   },
   {
    "duration": 4,
    "start_time": "2022-10-06T10:54:59.287Z"
   },
   {
    "duration": 38,
    "start_time": "2022-10-06T10:55:06.655Z"
   },
   {
    "duration": 45,
    "start_time": "2022-10-06T10:55:38.523Z"
   },
   {
    "duration": 56,
    "start_time": "2022-10-06T10:55:45.158Z"
   },
   {
    "duration": 36,
    "start_time": "2022-10-06T10:55:52.429Z"
   },
   {
    "duration": 459,
    "start_time": "2022-10-06T10:57:21.941Z"
   },
   {
    "duration": 55,
    "start_time": "2022-10-06T10:57:53.510Z"
   },
   {
    "duration": 2928,
    "start_time": "2022-10-06T10:58:17.805Z"
   },
   {
    "duration": 3751,
    "start_time": "2022-10-06T10:59:18.998Z"
   },
   {
    "duration": 216,
    "start_time": "2022-10-06T11:00:36.487Z"
   },
   {
    "duration": 10,
    "start_time": "2022-10-06T11:00:39.767Z"
   },
   {
    "duration": 5,
    "start_time": "2022-10-06T11:00:43.669Z"
   },
   {
    "duration": 8677,
    "start_time": "2022-10-06T11:00:48.373Z"
   },
   {
    "duration": 16,
    "start_time": "2022-10-06T11:00:59.542Z"
   },
   {
    "duration": 4,
    "start_time": "2022-10-06T11:01:01.790Z"
   },
   {
    "duration": 9,
    "start_time": "2022-10-06T11:01:42.901Z"
   },
   {
    "duration": 1386,
    "start_time": "2022-10-06T11:01:47.474Z"
   },
   {
    "duration": 50,
    "start_time": "2022-10-06T11:01:48.862Z"
   },
   {
    "duration": 13,
    "start_time": "2022-10-06T11:01:48.914Z"
   },
   {
    "duration": 12,
    "start_time": "2022-10-06T11:01:48.929Z"
   },
   {
    "duration": 8,
    "start_time": "2022-10-06T11:01:48.943Z"
   },
   {
    "duration": 7,
    "start_time": "2022-10-06T11:01:48.953Z"
   },
   {
    "duration": 9,
    "start_time": "2022-10-06T11:01:48.961Z"
   },
   {
    "duration": 7,
    "start_time": "2022-10-06T11:01:48.971Z"
   },
   {
    "duration": 16,
    "start_time": "2022-10-06T11:01:48.980Z"
   },
   {
    "duration": 274,
    "start_time": "2022-10-06T11:01:48.999Z"
   },
   {
    "duration": 8,
    "start_time": "2022-10-06T11:01:49.275Z"
   },
   {
    "duration": 823,
    "start_time": "2022-10-06T11:01:49.284Z"
   },
   {
    "duration": 189,
    "start_time": "2022-10-06T11:01:50.109Z"
   },
   {
    "duration": 159,
    "start_time": "2022-10-06T11:01:50.300Z"
   },
   {
    "duration": 149,
    "start_time": "2022-10-06T11:01:50.461Z"
   },
   {
    "duration": 156,
    "start_time": "2022-10-06T11:01:50.611Z"
   },
   {
    "duration": 675,
    "start_time": "2022-10-06T11:01:50.769Z"
   },
   {
    "duration": 147,
    "start_time": "2022-10-06T11:01:51.445Z"
   },
   {
    "duration": 12,
    "start_time": "2022-10-06T11:01:51.593Z"
   },
   {
    "duration": 13,
    "start_time": "2022-10-06T11:01:51.607Z"
   },
   {
    "duration": 10,
    "start_time": "2022-10-06T11:01:51.639Z"
   },
   {
    "duration": 12,
    "start_time": "2022-10-06T11:01:51.651Z"
   },
   {
    "duration": 8,
    "start_time": "2022-10-06T11:01:51.664Z"
   },
   {
    "duration": 67,
    "start_time": "2022-10-06T11:01:51.673Z"
   },
   {
    "duration": 451,
    "start_time": "2022-10-06T11:01:51.742Z"
   },
   {
    "duration": 2750,
    "start_time": "2022-10-06T11:01:52.195Z"
   },
   {
    "duration": 4292,
    "start_time": "2022-10-06T11:01:54.947Z"
   },
   {
    "duration": 258,
    "start_time": "2022-10-06T11:01:59.242Z"
   },
   {
    "duration": 10,
    "start_time": "2022-10-06T11:01:59.502Z"
   },
   {
    "duration": 8,
    "start_time": "2022-10-06T11:01:59.513Z"
   },
   {
    "duration": 1024,
    "start_time": "2022-10-06T11:01:59.523Z"
   },
   {
    "duration": 91,
    "start_time": "2022-10-06T11:02:00.549Z"
   },
   {
    "duration": 33,
    "start_time": "2022-10-06T11:02:00.642Z"
   },
   {
    "duration": 9,
    "start_time": "2022-10-06T11:03:59.534Z"
   },
   {
    "duration": 1592,
    "start_time": "2022-10-06T11:04:06.140Z"
   },
   {
    "duration": 51,
    "start_time": "2022-10-06T11:04:07.734Z"
   },
   {
    "duration": 11,
    "start_time": "2022-10-06T11:04:07.787Z"
   },
   {
    "duration": 14,
    "start_time": "2022-10-06T11:04:07.800Z"
   },
   {
    "duration": 7,
    "start_time": "2022-10-06T11:04:07.817Z"
   },
   {
    "duration": 6,
    "start_time": "2022-10-06T11:04:07.826Z"
   },
   {
    "duration": 10,
    "start_time": "2022-10-06T11:04:07.833Z"
   },
   {
    "duration": 9,
    "start_time": "2022-10-06T11:04:07.845Z"
   },
   {
    "duration": 15,
    "start_time": "2022-10-06T11:04:07.855Z"
   },
   {
    "duration": 226,
    "start_time": "2022-10-06T11:04:07.871Z"
   },
   {
    "duration": 8,
    "start_time": "2022-10-06T11:04:08.099Z"
   },
   {
    "duration": 844,
    "start_time": "2022-10-06T11:04:08.108Z"
   },
   {
    "duration": 193,
    "start_time": "2022-10-06T11:04:08.953Z"
   },
   {
    "duration": 158,
    "start_time": "2022-10-06T11:04:09.149Z"
   },
   {
    "duration": 159,
    "start_time": "2022-10-06T11:04:09.308Z"
   },
   {
    "duration": 163,
    "start_time": "2022-10-06T11:04:09.468Z"
   },
   {
    "duration": 697,
    "start_time": "2022-10-06T11:04:09.633Z"
   },
   {
    "duration": 148,
    "start_time": "2022-10-06T11:04:10.338Z"
   },
   {
    "duration": 12,
    "start_time": "2022-10-06T11:04:10.488Z"
   },
   {
    "duration": 28,
    "start_time": "2022-10-06T11:04:10.501Z"
   },
   {
    "duration": 21,
    "start_time": "2022-10-06T11:04:10.531Z"
   },
   {
    "duration": 29,
    "start_time": "2022-10-06T11:04:10.554Z"
   },
   {
    "duration": 23,
    "start_time": "2022-10-06T11:04:10.584Z"
   },
   {
    "duration": 44,
    "start_time": "2022-10-06T11:04:10.608Z"
   },
   {
    "duration": 502,
    "start_time": "2022-10-06T11:04:10.654Z"
   },
   {
    "duration": 2521,
    "start_time": "2022-10-06T11:04:11.157Z"
   },
   {
    "duration": 3660,
    "start_time": "2022-10-06T11:04:13.680Z"
   },
   {
    "duration": 298,
    "start_time": "2022-10-06T11:04:17.342Z"
   },
   {
    "duration": 9,
    "start_time": "2022-10-06T11:04:17.641Z"
   },
   {
    "duration": 14,
    "start_time": "2022-10-06T11:04:17.651Z"
   },
   {
    "duration": 1390,
    "start_time": "2022-10-06T11:04:17.667Z"
   },
   {
    "duration": 98,
    "start_time": "2022-10-06T11:04:19.059Z"
   },
   {
    "duration": 29,
    "start_time": "2022-10-06T11:04:19.160Z"
   },
   {
    "duration": 1405,
    "start_time": "2022-10-06T11:18:24.982Z"
   },
   {
    "duration": 51,
    "start_time": "2022-10-06T11:18:26.389Z"
   },
   {
    "duration": 11,
    "start_time": "2022-10-06T11:18:26.441Z"
   },
   {
    "duration": 19,
    "start_time": "2022-10-06T11:18:26.453Z"
   },
   {
    "duration": 10,
    "start_time": "2022-10-06T11:18:26.474Z"
   },
   {
    "duration": 21,
    "start_time": "2022-10-06T11:18:26.486Z"
   },
   {
    "duration": 39,
    "start_time": "2022-10-06T11:18:26.509Z"
   },
   {
    "duration": 16,
    "start_time": "2022-10-06T11:18:26.550Z"
   },
   {
    "duration": 26,
    "start_time": "2022-10-06T11:18:26.568Z"
   },
   {
    "duration": 221,
    "start_time": "2022-10-06T11:18:26.596Z"
   },
   {
    "duration": 8,
    "start_time": "2022-10-06T11:18:26.818Z"
   },
   {
    "duration": 881,
    "start_time": "2022-10-06T11:18:26.827Z"
   },
   {
    "duration": 190,
    "start_time": "2022-10-06T11:18:27.709Z"
   },
   {
    "duration": 170,
    "start_time": "2022-10-06T11:18:27.901Z"
   },
   {
    "duration": 160,
    "start_time": "2022-10-06T11:18:28.072Z"
   },
   {
    "duration": 174,
    "start_time": "2022-10-06T11:18:28.234Z"
   },
   {
    "duration": 725,
    "start_time": "2022-10-06T11:18:28.410Z"
   },
   {
    "duration": 153,
    "start_time": "2022-10-06T11:18:29.139Z"
   },
   {
    "duration": 12,
    "start_time": "2022-10-06T11:18:29.294Z"
   },
   {
    "duration": 38,
    "start_time": "2022-10-06T11:18:29.308Z"
   },
   {
    "duration": 19,
    "start_time": "2022-10-06T11:18:29.348Z"
   },
   {
    "duration": 25,
    "start_time": "2022-10-06T11:18:29.368Z"
   },
   {
    "duration": 26,
    "start_time": "2022-10-06T11:18:29.395Z"
   },
   {
    "duration": 56,
    "start_time": "2022-10-06T11:18:29.422Z"
   },
   {
    "duration": 495,
    "start_time": "2022-10-06T11:18:29.481Z"
   },
   {
    "duration": 3940,
    "start_time": "2022-10-06T11:18:29.978Z"
   },
   {
    "duration": 3727,
    "start_time": "2022-10-06T11:18:33.919Z"
   },
   {
    "duration": 303,
    "start_time": "2022-10-06T11:18:37.649Z"
   },
   {
    "duration": 9,
    "start_time": "2022-10-06T11:18:37.954Z"
   },
   {
    "duration": 4,
    "start_time": "2022-10-06T11:18:37.965Z"
   },
   {
    "duration": 869,
    "start_time": "2022-10-06T11:18:37.971Z"
   },
   {
    "duration": 10,
    "start_time": "2022-10-06T11:18:38.842Z"
   },
   {
    "duration": 10,
    "start_time": "2022-10-06T11:18:38.853Z"
   },
   {
    "duration": 1601,
    "start_time": "2022-10-07T07:28:30.072Z"
   },
   {
    "duration": 115,
    "start_time": "2022-10-07T07:28:31.675Z"
   },
   {
    "duration": 10,
    "start_time": "2022-10-07T07:28:31.792Z"
   },
   {
    "duration": 10,
    "start_time": "2022-10-07T07:28:31.805Z"
   },
   {
    "duration": 6,
    "start_time": "2022-10-07T07:28:31.816Z"
   },
   {
    "duration": 13,
    "start_time": "2022-10-07T07:28:31.823Z"
   },
   {
    "duration": 19,
    "start_time": "2022-10-07T07:28:31.837Z"
   },
   {
    "duration": 9,
    "start_time": "2022-10-07T07:28:31.858Z"
   },
   {
    "duration": 14,
    "start_time": "2022-10-07T07:28:31.868Z"
   },
   {
    "duration": 208,
    "start_time": "2022-10-07T07:28:31.885Z"
   },
   {
    "duration": 16,
    "start_time": "2022-10-07T07:28:32.095Z"
   },
   {
    "duration": 884,
    "start_time": "2022-10-07T07:28:32.113Z"
   },
   {
    "duration": 179,
    "start_time": "2022-10-07T07:28:32.999Z"
   },
   {
    "duration": 170,
    "start_time": "2022-10-07T07:28:33.180Z"
   },
   {
    "duration": 158,
    "start_time": "2022-10-07T07:28:33.352Z"
   },
   {
    "duration": 148,
    "start_time": "2022-10-07T07:28:33.512Z"
   },
   {
    "duration": 689,
    "start_time": "2022-10-07T07:28:33.662Z"
   },
   {
    "duration": 140,
    "start_time": "2022-10-07T07:28:34.352Z"
   },
   {
    "duration": 24,
    "start_time": "2022-10-07T07:28:34.494Z"
   },
   {
    "duration": 14,
    "start_time": "2022-10-07T07:28:34.519Z"
   },
   {
    "duration": 99,
    "start_time": "2022-10-07T07:28:34.535Z"
   },
   {
    "duration": 4,
    "start_time": "2022-10-07T07:28:34.636Z"
   },
   {
    "duration": 5,
    "start_time": "2022-10-07T07:28:34.641Z"
   },
   {
    "duration": 161,
    "start_time": "2022-10-07T07:28:34.647Z"
   },
   {
    "duration": 661,
    "start_time": "2022-10-07T07:28:34.810Z"
   },
   {
    "duration": 3691,
    "start_time": "2022-10-07T07:28:35.472Z"
   },
   {
    "duration": 89044,
    "start_time": "2022-10-07T07:28:39.165Z"
   },
   {
    "duration": 499,
    "start_time": "2022-10-07T07:30:08.213Z"
   },
   {
    "duration": 8,
    "start_time": "2022-10-07T07:30:08.714Z"
   },
   {
    "duration": 16,
    "start_time": "2022-10-07T07:30:08.723Z"
   },
   {
    "duration": 2677,
    "start_time": "2022-10-07T07:30:08.741Z"
   },
   {
    "duration": 104,
    "start_time": "2022-10-07T07:30:11.420Z"
   },
   {
    "duration": 5,
    "start_time": "2022-10-07T07:30:11.610Z"
   },
   {
    "duration": 259,
    "start_time": "2022-10-07T07:32:14.383Z"
   },
   {
    "duration": 7,
    "start_time": "2022-10-07T07:32:17.718Z"
   },
   {
    "duration": 5,
    "start_time": "2022-10-07T07:32:20.181Z"
   },
   {
    "duration": 1353,
    "start_time": "2022-10-07T07:32:50.409Z"
   },
   {
    "duration": 50,
    "start_time": "2022-10-07T07:32:51.764Z"
   },
   {
    "duration": 10,
    "start_time": "2022-10-07T07:32:51.816Z"
   },
   {
    "duration": 35,
    "start_time": "2022-10-07T07:32:51.829Z"
   },
   {
    "duration": 26,
    "start_time": "2022-10-07T07:32:51.865Z"
   },
   {
    "duration": 27,
    "start_time": "2022-10-07T07:32:51.893Z"
   },
   {
    "duration": 17,
    "start_time": "2022-10-07T07:32:51.921Z"
   },
   {
    "duration": 35,
    "start_time": "2022-10-07T07:32:51.939Z"
   },
   {
    "duration": 20,
    "start_time": "2022-10-07T07:32:51.976Z"
   },
   {
    "duration": 215,
    "start_time": "2022-10-07T07:32:51.998Z"
   },
   {
    "duration": 7,
    "start_time": "2022-10-07T07:32:52.215Z"
   },
   {
    "duration": 850,
    "start_time": "2022-10-07T07:32:52.223Z"
   },
   {
    "duration": 195,
    "start_time": "2022-10-07T07:32:53.075Z"
   },
   {
    "duration": 165,
    "start_time": "2022-10-07T07:32:53.272Z"
   },
   {
    "duration": 158,
    "start_time": "2022-10-07T07:32:53.439Z"
   },
   {
    "duration": 150,
    "start_time": "2022-10-07T07:32:53.599Z"
   },
   {
    "duration": 668,
    "start_time": "2022-10-07T07:32:53.751Z"
   },
   {
    "duration": 147,
    "start_time": "2022-10-07T07:32:54.421Z"
   },
   {
    "duration": 13,
    "start_time": "2022-10-07T07:32:54.570Z"
   },
   {
    "duration": 27,
    "start_time": "2022-10-07T07:32:54.585Z"
   },
   {
    "duration": 16,
    "start_time": "2022-10-07T07:32:54.614Z"
   },
   {
    "duration": 6,
    "start_time": "2022-10-07T07:32:54.631Z"
   },
   {
    "duration": 8,
    "start_time": "2022-10-07T07:32:54.639Z"
   },
   {
    "duration": 69,
    "start_time": "2022-10-07T07:32:54.649Z"
   },
   {
    "duration": 713,
    "start_time": "2022-10-07T07:32:54.720Z"
   },
   {
    "duration": 4453,
    "start_time": "2022-10-07T07:32:55.435Z"
   },
   {
    "duration": 323430,
    "start_time": "2022-10-07T07:32:59.889Z"
   },
   {
    "duration": 272,
    "start_time": "2022-10-07T07:38:23.412Z"
   },
   {
    "duration": 8,
    "start_time": "2022-10-07T07:38:23.685Z"
   },
   {
    "duration": 15,
    "start_time": "2022-10-07T07:38:23.695Z"
   },
   {
    "duration": 56199,
    "start_time": "2022-10-07T07:38:23.712Z"
   },
   {
    "duration": 107,
    "start_time": "2022-10-07T07:39:19.912Z"
   },
   {
    "duration": 5,
    "start_time": "2022-10-07T07:39:20.020Z"
   }
  ],
  "kernelspec": {
   "display_name": "Python 3 (ipykernel)",
   "language": "python",
   "name": "python3"
  },
  "language_info": {
   "codemirror_mode": {
    "name": "ipython",
    "version": 3
   },
   "file_extension": ".py",
   "mimetype": "text/x-python",
   "name": "python",
   "nbconvert_exporter": "python",
   "pygments_lexer": "ipython3",
   "version": "3.9.12"
  },
  "toc": {
   "base_numbering": 1,
   "nav_menu": {},
   "number_sections": true,
   "sideBar": true,
   "skip_h1_title": true,
   "title_cell": "Содержание",
   "title_sidebar": "Contents",
   "toc_cell": true,
   "toc_position": {},
   "toc_section_display": true,
   "toc_window_display": true
  }
 },
 "nbformat": 4,
 "nbformat_minor": 2
}
